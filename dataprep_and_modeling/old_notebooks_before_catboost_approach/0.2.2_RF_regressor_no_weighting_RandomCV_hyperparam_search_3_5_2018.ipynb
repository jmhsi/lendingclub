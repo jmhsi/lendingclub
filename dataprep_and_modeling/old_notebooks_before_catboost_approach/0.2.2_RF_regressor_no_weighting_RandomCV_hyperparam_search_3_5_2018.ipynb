{
 "cells": [
  {
   "cell_type": "markdown",
   "metadata": {},
   "source": [
    "# Standardized data seems to perform slightly better"
   ]
  },
  {
   "cell_type": "code",
   "execution_count": 1,
   "metadata": {
    "ExecuteTime": {
     "end_time": "2018-03-11T20:10:20.736099Z",
     "start_time": "2018-03-11T20:10:20.718045Z"
    }
   },
   "outputs": [],
   "source": [
    "pd.options.display.max_columns=999"
   ]
  },
  {
   "cell_type": "code",
   "execution_count": 2,
   "metadata": {
    "ExecuteTime": {
     "end_time": "2018-03-06T17:58:15.819259Z",
     "start_time": "2018-03-06T17:58:15.599297Z"
    }
   },
   "outputs": [],
   "source": [
    "from sklearn.metrics import mean_squared_error\n",
    "import data_science.lendingclub.dataprep_and_modeling.modeling_utils.data_prep_new as data_prep\n",
    "import dir_constants as dc\n",
    "from sklearn.ensemble import RandomForestRegressor\n",
    "from sklearn.externals import joblib\n",
    "from sklearn.model_selection import RandomizedSearchCV\n",
    "import time\n",
    "from tqdm import tqdm_notebook"
   ]
  },
  {
   "cell_type": "markdown",
   "metadata": {},
   "source": [
    "# DO NOT FORGET TO DROP ISSUE_D AFTER PREPPING"
   ]
  },
  {
   "cell_type": "code",
   "execution_count": 3,
   "metadata": {
    "ExecuteTime": {
     "end_time": "2018-03-06T17:58:18.423588Z",
     "start_time": "2018-03-06T17:58:18.301707Z"
    }
   },
   "outputs": [],
   "source": [
    "platform = 'lendingclub'\n",
    "regr_version = '0.2.2'\n",
    "type_model = 'all_train'\n",
    "store = pd.HDFStore(f'{datapath}{platform}/{platform}.h5')"
   ]
  },
  {
   "cell_type": "code",
   "execution_count": 4,
   "metadata": {
    "ExecuteTime": {
     "end_time": "2018-03-06T17:58:29.177585Z",
     "start_time": "2018-03-06T17:58:28.717219Z"
    }
   },
   "outputs": [],
   "source": [
    "if type_model == 'ctest':\n",
    "    loan_info = store['ctrain']\n",
    "    eval_cols = store['ctrain_roi']\n",
    "    std_dev = loan_info.std()\n",
    "    to_drop = std_dev[std_dev == 0].index.values\n",
    "    loan_info.drop(to_drop, axis=1, inplace=True)\n",
    "elif type_model == 'all_train':\n",
    "    loan_info = store['all_train']\n",
    "    eval_cols = store['all_train_roi']    \n",
    "store.close()"
   ]
  },
  {
   "cell_type": "markdown",
   "metadata": {},
   "source": [
    "# Until I figure out a good imputation method (e.g. bayes PCA), just drop columns with null still"
   ]
  },
  {
   "cell_type": "code",
   "execution_count": 5,
   "metadata": {
    "ExecuteTime": {
     "end_time": "2018-03-06T18:07:08.988733Z",
     "start_time": "2018-03-06T18:05:41.546627Z"
    }
   },
   "outputs": [],
   "source": [
    "mean_series = loan_info.mean()\n",
    "std_dev_series = loan_info.std()\n",
    "standardized = (loan_info-mean_series)/std_dev_series\n",
    "# standardized = loan_info"
   ]
  },
  {
   "cell_type": "markdown",
   "metadata": {},
   "source": [
    "# random search RF hyperparams, and build with best one"
   ]
  },
  {
   "cell_type": "code",
   "execution_count": 6,
   "metadata": {
    "ExecuteTime": {
     "end_time": "2018-03-06T18:07:16.396860Z",
     "start_time": "2018-03-06T18:07:16.375195Z"
    }
   },
   "outputs": [],
   "source": [
    "regr = RandomForestRegressor()"
   ]
  },
  {
   "cell_type": "code",
   "execution_count": 7,
   "metadata": {
    "ExecuteTime": {
     "end_time": "2018-03-06T18:07:18.314049Z",
     "start_time": "2018-03-06T18:07:18.286255Z"
    }
   },
   "outputs": [],
   "source": [
    "def report(results, n_top=3):\n",
    "    for i in range(1, n_top + 1):\n",
    "        candidates = np.flatnonzero(results['rank_test_score'] == i)\n",
    "        for candidate in candidates:\n",
    "            print(\"Model with rank: {0}\".format(i))\n",
    "            print(\"Mean validation score: {0:.3f} (std: {1:.3f})\".format(\n",
    "                  results['mean_test_score'][candidate],\n",
    "                  results['std_test_score'][candidate]))\n",
    "            print(\"Parameters: {0}\".format(results['params'][candidate]))\n",
    "            print(\"\")"
   ]
  },
  {
   "cell_type": "code",
   "execution_count": 8,
   "metadata": {
    "ExecuteTime": {
     "end_time": "2018-03-06T18:07:19.524782Z",
     "start_time": "2018-03-06T18:07:19.501681Z"
    }
   },
   "outputs": [],
   "source": [
    "fit_params_dict = {'n_estimators': np.arange(1,201),\n",
    "                   'criterion': ['mse'],#, 'mae'\n",
    "                   'max_features': [3, 50, 70, 100, 150, 200],\n",
    "                   'min_samples_split': [20, 200, 2000],\n",
    "                   'min_samples_leaf': [10, 100, 1000],\n",
    "                   'bootstrap': [True],\n",
    "                   'oob_score': [True],\n",
    "                   'n_jobs': [-1],\n",
    "                   'verbose': [10]}"
   ]
  },
  {
   "cell_type": "code",
   "execution_count": 9,
   "metadata": {
    "ExecuteTime": {
     "end_time": "2018-03-06T18:07:22.372911Z",
     "start_time": "2018-03-06T18:07:22.355798Z"
    }
   },
   "outputs": [],
   "source": [
    "n_iter = 20\n",
    "random_search = RandomizedSearchCV(\n",
    "    regr, param_distributions=fit_params_dict, n_iter=n_iter)"
   ]
  },
  {
   "cell_type": "code",
   "execution_count": 10,
   "metadata": {
    "ExecuteTime": {
     "end_time": "2018-03-06T21:30:12.088968Z",
     "start_time": "2018-03-06T18:07:23.793254Z"
    }
   },
   "outputs": [
    {
     "name": "stderr",
     "output_type": "stream",
     "text": [
      "/home/justin/anaconda3/lib/python3.6/site-packages/sklearn/model_selection/_validation.py:458: DataConversionWarning: A column-vector y was passed when a 1d array was expected. Please change the shape of y to (n_samples,), for example using ravel().\n",
      "  estimator.fit(X_train, y_train, **fit_params)\n"
     ]
    },
    {
     "name": "stdout",
     "output_type": "stream",
     "text": [
      "building tree 1 of 85building tree 5 of 85building tree 2 of 85building tree 4 of 85building tree 6 of 85building tree 3 of 85building tree 7 of 85building tree 8 of 85\n",
      "\n",
      "\n",
      "\n",
      "\n",
      "\n",
      "\n",
      "\n",
      "building tree 9 of 85\n"
     ]
    },
    {
     "name": "stderr",
     "output_type": "stream",
     "text": [
      "[Parallel(n_jobs=-1)]: Done   2 tasks      | elapsed:   11.2s\n"
     ]
    },
    {
     "name": "stdout",
     "output_type": "stream",
     "text": [
      "building tree 10 of 85\n",
      "building tree 11 of 85\n",
      "building tree 12 of 85\n",
      "building tree 13 of 85\n",
      "building tree 14 of 85\n",
      "building tree 15 of 85\n",
      "building tree 16 of 85\n"
     ]
    },
    {
     "name": "stderr",
     "output_type": "stream",
     "text": [
      "[Parallel(n_jobs=-1)]: Done   9 tasks      | elapsed:   21.8s\n"
     ]
    },
    {
     "name": "stdout",
     "output_type": "stream",
     "text": [
      "building tree 17 of 85\n",
      "building tree 18 of 85\n",
      "building tree 19 of 85\n",
      "building tree 20 of 85\n",
      "building tree 21 of 85\n",
      "building tree 22 of 85\n",
      "building tree 23 of 85\n"
     ]
    },
    {
     "name": "stderr",
     "output_type": "stream",
     "text": [
      "[Parallel(n_jobs=-1)]: Done  16 tasks      | elapsed:   26.7s\n"
     ]
    },
    {
     "name": "stdout",
     "output_type": "stream",
     "text": [
      "building tree 24 of 85\n",
      "building tree 25 of 85\n",
      "building tree 26 of 85\n",
      "building tree 27 of 85\n",
      "building tree 28 of 85\n",
      "building tree 29 of 85\n",
      "building tree 30 of 85\n",
      "building tree 31 of 85\n",
      "building tree 32 of 85\n"
     ]
    },
    {
     "name": "stderr",
     "output_type": "stream",
     "text": [
      "[Parallel(n_jobs=-1)]: Done  25 tasks      | elapsed:   45.0s\n"
     ]
    },
    {
     "name": "stdout",
     "output_type": "stream",
     "text": [
      "building tree 33 of 85\n",
      "building tree 34 of 85\n",
      "building tree 35 of 85\n",
      "building tree 36 of 85\n",
      "building tree 37 of 85\n",
      "building tree 38 of 85\n",
      "building tree 39 of 85\n",
      "building tree 40 of 85\n",
      "building tree 41 of 85\n"
     ]
    },
    {
     "name": "stderr",
     "output_type": "stream",
     "text": [
      "[Parallel(n_jobs=-1)]: Done  34 tasks      | elapsed:   58.3s\n"
     ]
    },
    {
     "name": "stdout",
     "output_type": "stream",
     "text": [
      "building tree 42 of 85\n",
      "building tree 43 of 85\n",
      "building tree 44 of 85\n",
      "building tree 45 of 85\n",
      "building tree 46 of 85\n",
      "building tree 47 of 85\n",
      "building tree 48 of 85\n",
      "building tree 49 of 85\n",
      "building tree 50 of 85\n",
      "building tree 51 of 85\n",
      "building tree 52 of 85\n",
      "building tree 53 of 85\n"
     ]
    },
    {
     "name": "stderr",
     "output_type": "stream",
     "text": [
      "[Parallel(n_jobs=-1)]: Done  45 tasks      | elapsed:  1.2min\n"
     ]
    },
    {
     "name": "stdout",
     "output_type": "stream",
     "text": [
      "building tree 54 of 85\n",
      "building tree 55 of 85\n",
      "building tree 56 of 85\n",
      "building tree 57 of 85\n",
      "building tree 58 of 85\n",
      "building tree 59 of 85\n",
      "building tree 60 of 85\n",
      "building tree 61 of 85\n",
      "building tree 62 of 85\n",
      "building tree 63 of 85\n"
     ]
    },
    {
     "name": "stderr",
     "output_type": "stream",
     "text": [
      "[Parallel(n_jobs=-1)]: Done  56 tasks      | elapsed:  1.5min\n"
     ]
    },
    {
     "name": "stdout",
     "output_type": "stream",
     "text": [
      "building tree 64 of 85\n",
      "building tree 65 of 85\n",
      "building tree 66 of 85\n",
      "building tree 67 of 85\n",
      "building tree 68 of 85\n",
      "building tree 69 of 85\n",
      "building tree 70 of 85\n",
      "building tree 71 of 85\n",
      "building tree 72 of 85\n",
      "building tree 73 of 85\n",
      "building tree 74 of 85\n",
      "building tree 75 of 85\n",
      "building tree 76 of 85\n"
     ]
    },
    {
     "name": "stderr",
     "output_type": "stream",
     "text": [
      "[Parallel(n_jobs=-1)]: Done  69 tasks      | elapsed:  1.8min\n"
     ]
    },
    {
     "name": "stdout",
     "output_type": "stream",
     "text": [
      "building tree 77 of 85\n",
      "building tree 78 of 85\n",
      "building tree 79 of 85\n",
      "building tree 80 of 85\n",
      "building tree 81 of 85\n",
      "building tree 82 of 85\n",
      "building tree 83 of 85\n",
      "building tree 84 of 85\n",
      "building tree 85 of 85\n"
     ]
    },
    {
     "name": "stderr",
     "output_type": "stream",
     "text": [
      "[Parallel(n_jobs=-1)]: Done  79 out of  85 | elapsed:  2.1min remaining:    9.4s\n",
      "[Parallel(n_jobs=-1)]: Done  85 out of  85 | elapsed:  2.2min finished\n",
      "[Parallel(n_jobs=8)]: Done   2 tasks      | elapsed:    0.0s\n",
      "[Parallel(n_jobs=8)]: Done   9 tasks      | elapsed:    0.1s\n",
      "[Parallel(n_jobs=8)]: Done  16 tasks      | elapsed:    0.1s\n",
      "[Parallel(n_jobs=8)]: Done  25 tasks      | elapsed:    0.2s\n",
      "[Parallel(n_jobs=8)]: Done  34 tasks      | elapsed:    0.3s\n",
      "[Parallel(n_jobs=8)]: Done  45 tasks      | elapsed:    0.3s\n",
      "[Parallel(n_jobs=8)]: Done  56 tasks      | elapsed:    0.4s\n",
      "[Parallel(n_jobs=8)]: Done  69 tasks      | elapsed:    0.5s\n",
      "[Parallel(n_jobs=8)]: Done  79 out of  85 | elapsed:    0.5s remaining:    0.0s\n",
      "[Parallel(n_jobs=8)]: Done  85 out of  85 | elapsed:    0.6s finished\n",
      "[Parallel(n_jobs=8)]: Done   2 tasks      | elapsed:    0.1s\n",
      "[Parallel(n_jobs=8)]: Done   9 tasks      | elapsed:    0.2s\n",
      "[Parallel(n_jobs=8)]: Done  16 tasks      | elapsed:    0.3s\n",
      "[Parallel(n_jobs=8)]: Done  25 tasks      | elapsed:    0.4s\n",
      "[Parallel(n_jobs=8)]: Done  34 tasks      | elapsed:    0.5s\n",
      "[Parallel(n_jobs=8)]: Done  45 tasks      | elapsed:    0.7s\n",
      "[Parallel(n_jobs=8)]: Done  56 tasks      | elapsed:    0.8s\n",
      "[Parallel(n_jobs=8)]: Done  69 tasks      | elapsed:    1.0s\n",
      "[Parallel(n_jobs=8)]: Done  79 out of  85 | elapsed:    1.1s remaining:    0.1s\n",
      "[Parallel(n_jobs=8)]: Done  85 out of  85 | elapsed:    1.2s finished\n",
      "/home/justin/anaconda3/lib/python3.6/site-packages/sklearn/model_selection/_validation.py:458: DataConversionWarning: A column-vector y was passed when a 1d array was expected. Please change the shape of y to (n_samples,), for example using ravel().\n",
      "  estimator.fit(X_train, y_train, **fit_params)\n"
     ]
    },
    {
     "name": "stdout",
     "output_type": "stream",
     "text": [
      "building tree 3 of 85building tree 2 of 85building tree 4 of 85\n",
      "\n",
      "\n",
      "building tree 7 of 85building tree 6 of 85building tree 5 of 85building tree 1 of 85building tree 8 of 85\n",
      "\n",
      "\n",
      "\n",
      "\n",
      "building tree 9 of 85\n"
     ]
    },
    {
     "name": "stderr",
     "output_type": "stream",
     "text": [
      "[Parallel(n_jobs=-1)]: Done   2 tasks      | elapsed:   11.4s\n"
     ]
    },
    {
     "name": "stdout",
     "output_type": "stream",
     "text": [
      "building tree 10 of 85\n",
      "building tree 11 of 85\n",
      "building tree 12 of 85\n",
      "building tree 13 of 85\n",
      "building tree 14 of 85\n",
      "building tree 15 of 85\n",
      "building tree 16 of 85\n"
     ]
    },
    {
     "name": "stderr",
     "output_type": "stream",
     "text": [
      "[Parallel(n_jobs=-1)]: Done   9 tasks      | elapsed:   21.8s\n"
     ]
    },
    {
     "name": "stdout",
     "output_type": "stream",
     "text": [
      "building tree 17 of 85\n",
      "building tree 18 of 85\n",
      "building tree 19 of 85\n",
      "building tree 20 of 85\n",
      "building tree 21 of 85\n",
      "building tree 22 of 85\n",
      "building tree 23 of 85\n",
      "building tree 24 of 85\n"
     ]
    },
    {
     "name": "stderr",
     "output_type": "stream",
     "text": [
      "[Parallel(n_jobs=-1)]: Done  16 tasks      | elapsed:   24.8s\n"
     ]
    },
    {
     "name": "stdout",
     "output_type": "stream",
     "text": [
      "building tree 25 of 85\n",
      "building tree 26 of 85\n",
      "building tree 27 of 85\n",
      "building tree 28 of 85\n",
      "building tree 29 of 85\n",
      "building tree 30 of 85\n",
      "building tree 31 of 85\n",
      "building tree 32 of 85\n"
     ]
    },
    {
     "name": "stderr",
     "output_type": "stream",
     "text": [
      "[Parallel(n_jobs=-1)]: Done  25 tasks      | elapsed:   44.3s\n"
     ]
    },
    {
     "name": "stdout",
     "output_type": "stream",
     "text": [
      "building tree 33 of 85\n",
      "building tree 34 of 85\n",
      "building tree 35 of 85\n",
      "building tree 36 of 85\n",
      "building tree 37 of 85\n",
      "building tree 38 of 85\n",
      "building tree 39 of 85\n",
      "building tree 40 of 85\n",
      "building tree 41 of 85\n"
     ]
    },
    {
     "name": "stderr",
     "output_type": "stream",
     "text": [
      "[Parallel(n_jobs=-1)]: Done  34 tasks      | elapsed:   56.4s\n"
     ]
    },
    {
     "name": "stdout",
     "output_type": "stream",
     "text": [
      "building tree 42 of 85\n",
      "building tree 43 of 85\n",
      "building tree 44 of 85\n",
      "building tree 45 of 85\n",
      "building tree 46 of 85\n",
      "building tree 47 of 85\n",
      "building tree 48 of 85\n",
      "building tree 49 of 85\n",
      "building tree 50 of 85\n",
      "building tree 51 of 85\n",
      "building tree 52 of 85\n",
      "building tree 53 of 85\n"
     ]
    },
    {
     "name": "stderr",
     "output_type": "stream",
     "text": [
      "[Parallel(n_jobs=-1)]: Done  45 tasks      | elapsed:  1.2min\n"
     ]
    },
    {
     "name": "stdout",
     "output_type": "stream",
     "text": [
      "building tree 54 of 85\n",
      "building tree 55 of 85\n",
      "building tree 56 of 85\n",
      "building tree 57 of 85\n",
      "building tree 58 of 85\n",
      "building tree 59 of 85\n",
      "building tree 60 of 85\n",
      "building tree 61 of 85\n",
      "building tree 62 of 85\n",
      "building tree 63 of 85\n",
      "building tree 64 of 85\n"
     ]
    },
    {
     "name": "stderr",
     "output_type": "stream",
     "text": [
      "[Parallel(n_jobs=-1)]: Done  56 tasks      | elapsed:  1.4min\n"
     ]
    },
    {
     "name": "stdout",
     "output_type": "stream",
     "text": [
      "building tree 65 of 85\n",
      "building tree 66 of 85\n",
      "building tree 67 of 85\n",
      "building tree 68 of 85\n",
      "building tree 69 of 85\n",
      "building tree 70 of 85\n",
      "building tree 71 of 85\n",
      "building tree 72 of 85\n",
      "building tree 73 of 85\n",
      "building tree 74 of 85\n",
      "building tree 75 of 85\n",
      "building tree 76 of 85\n"
     ]
    },
    {
     "name": "stderr",
     "output_type": "stream",
     "text": [
      "[Parallel(n_jobs=-1)]: Done  69 tasks      | elapsed:  1.7min\n"
     ]
    },
    {
     "name": "stdout",
     "output_type": "stream",
     "text": [
      "building tree 77 of 85\n",
      "building tree 78 of 85\n",
      "building tree 79 of 85\n",
      "building tree 80 of 85\n",
      "building tree 81 of 85\n",
      "building tree 82 of 85\n",
      "building tree 83 of 85\n",
      "building tree 84 of 85\n",
      "building tree 85 of 85\n"
     ]
    },
    {
     "name": "stderr",
     "output_type": "stream",
     "text": [
      "[Parallel(n_jobs=-1)]: Done  79 out of  85 | elapsed:  1.9min remaining:    8.9s\n",
      "[Parallel(n_jobs=-1)]: Done  85 out of  85 | elapsed:  2.1min finished\n",
      "[Parallel(n_jobs=8)]: Done   2 tasks      | elapsed:    0.0s\n",
      "[Parallel(n_jobs=8)]: Done   9 tasks      | elapsed:    0.1s\n",
      "[Parallel(n_jobs=8)]: Done  16 tasks      | elapsed:    0.1s\n",
      "[Parallel(n_jobs=8)]: Done  25 tasks      | elapsed:    0.2s\n",
      "[Parallel(n_jobs=8)]: Done  34 tasks      | elapsed:    0.2s\n",
      "[Parallel(n_jobs=8)]: Done  45 tasks      | elapsed:    0.3s\n",
      "[Parallel(n_jobs=8)]: Done  56 tasks      | elapsed:    0.4s\n",
      "[Parallel(n_jobs=8)]: Done  69 tasks      | elapsed:    0.5s\n",
      "[Parallel(n_jobs=8)]: Done  79 out of  85 | elapsed:    0.5s remaining:    0.0s\n",
      "[Parallel(n_jobs=8)]: Done  85 out of  85 | elapsed:    0.6s finished\n",
      "[Parallel(n_jobs=8)]: Done   2 tasks      | elapsed:    0.1s\n",
      "[Parallel(n_jobs=8)]: Done   9 tasks      | elapsed:    0.2s\n",
      "[Parallel(n_jobs=8)]: Done  16 tasks      | elapsed:    0.3s\n",
      "[Parallel(n_jobs=8)]: Done  25 tasks      | elapsed:    0.4s\n",
      "[Parallel(n_jobs=8)]: Done  34 tasks      | elapsed:    0.5s\n",
      "[Parallel(n_jobs=8)]: Done  45 tasks      | elapsed:    0.7s\n",
      "[Parallel(n_jobs=8)]: Done  56 tasks      | elapsed:    0.9s\n",
      "[Parallel(n_jobs=8)]: Done  69 tasks      | elapsed:    1.1s\n",
      "[Parallel(n_jobs=8)]: Done  79 out of  85 | elapsed:    1.2s remaining:    0.1s\n",
      "[Parallel(n_jobs=8)]: Done  85 out of  85 | elapsed:    1.2s finished\n",
      "/home/justin/anaconda3/lib/python3.6/site-packages/sklearn/model_selection/_validation.py:458: DataConversionWarning: A column-vector y was passed when a 1d array was expected. Please change the shape of y to (n_samples,), for example using ravel().\n",
      "  estimator.fit(X_train, y_train, **fit_params)\n"
     ]
    },
    {
     "name": "stdout",
     "output_type": "stream",
     "text": [
      "building tree 2 of 85building tree 1 of 85building tree 3 of 85building tree 4 of 85building tree 5 of 85building tree 7 of 85\n",
      "building tree 6 of 85\n",
      "\n",
      "\n",
      "\n",
      "\n",
      "building tree 8 of 85\n",
      "\n",
      "building tree 9 of 85\n"
     ]
    },
    {
     "name": "stderr",
     "output_type": "stream",
     "text": [
      "[Parallel(n_jobs=-1)]: Done   2 tasks      | elapsed:   10.1s\n"
     ]
    },
    {
     "name": "stdout",
     "output_type": "stream",
     "text": [
      "building tree 10 of 85\n",
      "building tree 11 of 85\n",
      "building tree 12 of 85\n",
      "building tree 13 of 85\n",
      "building tree 14 of 85\n",
      "building tree 15 of 85\n",
      "building tree 16 of 85\n"
     ]
    },
    {
     "name": "stderr",
     "output_type": "stream",
     "text": [
      "[Parallel(n_jobs=-1)]: Done   9 tasks      | elapsed:   20.1s\n"
     ]
    },
    {
     "name": "stdout",
     "output_type": "stream",
     "text": [
      "building tree 17 of 85\n",
      "building tree 18 of 85\n",
      "building tree 19 of 85\n",
      "building tree 20 of 85\n",
      "building tree 21 of 85\n",
      "building tree 22 of 85\n",
      "building tree 23 of 85\n"
     ]
    },
    {
     "name": "stderr",
     "output_type": "stream",
     "text": [
      "[Parallel(n_jobs=-1)]: Done  16 tasks      | elapsed:   23.0s\n"
     ]
    },
    {
     "name": "stdout",
     "output_type": "stream",
     "text": [
      "building tree 24 of 85\n",
      "building tree 25 of 85\n",
      "building tree 26 of 85\n",
      "building tree 27 of 85\n",
      "building tree 28 of 85\n",
      "building tree 29 of 85\n",
      "building tree 30 of 85\n",
      "building tree 31 of 85\n",
      "building tree 32 of 85\n"
     ]
    },
    {
     "name": "stderr",
     "output_type": "stream",
     "text": [
      "[Parallel(n_jobs=-1)]: Done  25 tasks      | elapsed:   39.3s\n"
     ]
    },
    {
     "name": "stdout",
     "output_type": "stream",
     "text": [
      "building tree 33 of 85\n",
      "building tree 34 of 85\n",
      "building tree 35 of 85\n",
      "building tree 36 of 85\n",
      "building tree 37 of 85\n",
      "building tree 38 of 85\n",
      "building tree 39 of 85\n",
      "building tree 40 of 85\n",
      "building tree 41 of 85\n"
     ]
    },
    {
     "name": "stderr",
     "output_type": "stream",
     "text": [
      "[Parallel(n_jobs=-1)]: Done  34 tasks      | elapsed:   50.4s\n"
     ]
    },
    {
     "name": "stdout",
     "output_type": "stream",
     "text": [
      "building tree 42 of 85\n",
      "building tree 43 of 85\n",
      "building tree 44 of 85\n",
      "building tree 45 of 85\n",
      "building tree 46 of 85\n",
      "building tree 47 of 85\n",
      "building tree 48 of 85\n",
      "building tree 49 of 85\n",
      "building tree 50 of 85\n",
      "building tree 51 of 85\n",
      "building tree 52 of 85\n"
     ]
    },
    {
     "name": "stderr",
     "output_type": "stream",
     "text": [
      "[Parallel(n_jobs=-1)]: Done  45 tasks      | elapsed:  1.1min\n"
     ]
    },
    {
     "name": "stdout",
     "output_type": "stream",
     "text": [
      "building tree 53 of 85\n",
      "building tree 54 of 85\n",
      "building tree 55 of 85\n",
      "building tree 56 of 85\n",
      "building tree 57 of 85\n",
      "building tree 58 of 85\n",
      "building tree 59 of 85\n",
      "building tree 60 of 85\n",
      "building tree 61 of 85\n",
      "building tree 62 of 85\n",
      "building tree 63 of 85\n"
     ]
    },
    {
     "name": "stderr",
     "output_type": "stream",
     "text": [
      "[Parallel(n_jobs=-1)]: Done  56 tasks      | elapsed:  1.3min\n"
     ]
    },
    {
     "name": "stdout",
     "output_type": "stream",
     "text": [
      "building tree 64 of 85\n",
      "building tree 65 of 85\n",
      "building tree 66 of 85\n",
      "building tree 67 of 85\n",
      "building tree 68 of 85\n",
      "building tree 69 of 85\n",
      "building tree 70 of 85\n",
      "building tree 71 of 85\n",
      "building tree 72 of 85\n",
      "building tree 73 of 85\n",
      "building tree 74 of 85\n",
      "building tree 75 of 85\n",
      "building tree 76 of 85\n"
     ]
    },
    {
     "name": "stderr",
     "output_type": "stream",
     "text": [
      "[Parallel(n_jobs=-1)]: Done  69 tasks      | elapsed:  1.6min\n"
     ]
    },
    {
     "name": "stdout",
     "output_type": "stream",
     "text": [
      "building tree 77 of 85\n",
      "building tree 78 of 85\n",
      "building tree 79 of 85\n",
      "building tree 80 of 85\n",
      "building tree 81 of 85\n",
      "building tree 82 of 85\n",
      "building tree 83 of 85\n",
      "building tree 84 of 85\n",
      "building tree 85 of 85\n"
     ]
    },
    {
     "name": "stderr",
     "output_type": "stream",
     "text": [
      "[Parallel(n_jobs=-1)]: Done  79 out of  85 | elapsed:  1.8min remaining:    8.4s\n",
      "[Parallel(n_jobs=-1)]: Done  85 out of  85 | elapsed:  1.9min finished\n",
      "[Parallel(n_jobs=8)]: Done   2 tasks      | elapsed:    0.0s\n",
      "[Parallel(n_jobs=8)]: Done   9 tasks      | elapsed:    0.1s\n",
      "[Parallel(n_jobs=8)]: Done  16 tasks      | elapsed:    0.1s\n",
      "[Parallel(n_jobs=8)]: Done  25 tasks      | elapsed:    0.2s\n",
      "[Parallel(n_jobs=8)]: Done  34 tasks      | elapsed:    0.2s\n",
      "[Parallel(n_jobs=8)]: Done  45 tasks      | elapsed:    0.3s\n",
      "[Parallel(n_jobs=8)]: Done  56 tasks      | elapsed:    0.4s\n",
      "[Parallel(n_jobs=8)]: Done  69 tasks      | elapsed:    0.5s\n",
      "[Parallel(n_jobs=8)]: Done  79 out of  85 | elapsed:    0.5s remaining:    0.0s\n",
      "[Parallel(n_jobs=8)]: Done  85 out of  85 | elapsed:    0.6s finished\n",
      "[Parallel(n_jobs=8)]: Done   2 tasks      | elapsed:    0.1s\n",
      "[Parallel(n_jobs=8)]: Done   9 tasks      | elapsed:    0.2s\n",
      "[Parallel(n_jobs=8)]: Done  16 tasks      | elapsed:    0.3s\n",
      "[Parallel(n_jobs=8)]: Done  25 tasks      | elapsed:    0.4s\n",
      "[Parallel(n_jobs=8)]: Done  34 tasks      | elapsed:    0.5s\n",
      "[Parallel(n_jobs=8)]: Done  45 tasks      | elapsed:    0.6s\n",
      "[Parallel(n_jobs=8)]: Done  56 tasks      | elapsed:    0.8s\n",
      "[Parallel(n_jobs=8)]: Done  69 tasks      | elapsed:    0.9s\n",
      "[Parallel(n_jobs=8)]: Done  79 out of  85 | elapsed:    1.1s remaining:    0.1s\n",
      "[Parallel(n_jobs=8)]: Done  85 out of  85 | elapsed:    1.1s finished\n",
      "/home/justin/anaconda3/lib/python3.6/site-packages/sklearn/model_selection/_validation.py:458: DataConversionWarning: A column-vector y was passed when a 1d array was expected. Please change the shape of y to (n_samples,), for example using ravel().\n",
      "  estimator.fit(X_train, y_train, **fit_params)\n"
     ]
    },
    {
     "name": "stdout",
     "output_type": "stream",
     "text": [
      "building tree 3 of 170\n",
      "building tree 4 of 170building tree 5 of 170building tree 6 of 170building tree 8 of 170building tree 2 of 170building tree 1 of 170building tree 7 of 170\n",
      "\n",
      "\n",
      "\n",
      "\n",
      "\n",
      "\n",
      "building tree 9 of 170\n"
     ]
    },
    {
     "name": "stderr",
     "output_type": "stream",
     "text": [
      "[Parallel(n_jobs=-1)]: Done   2 tasks      | elapsed:   14.0s\n"
     ]
    },
    {
     "name": "stdout",
     "output_type": "stream",
     "text": [
      "building tree 10 of 170\n",
      "building tree 11 of 170\n",
      "building tree 12 of 170\n",
      "building tree 13 of 170\n",
      "building tree 14 of 170\n",
      "building tree 15 of 170\n",
      "building tree 16 of 170\n"
     ]
    },
    {
     "name": "stderr",
     "output_type": "stream",
     "text": [
      "[Parallel(n_jobs=-1)]: Done   9 tasks      | elapsed:   26.6s\n"
     ]
    },
    {
     "name": "stdout",
     "output_type": "stream",
     "text": [
      "building tree 17 of 170\n",
      "building tree 18 of 170\n",
      "building tree 19 of 170\n",
      "building tree 20 of 170\n",
      "building tree 21 of 170\n",
      "building tree 22 of 170\n",
      "building tree 23 of 170\n"
     ]
    },
    {
     "name": "stderr",
     "output_type": "stream",
     "text": [
      "[Parallel(n_jobs=-1)]: Done  16 tasks      | elapsed:   30.9s\n"
     ]
    },
    {
     "name": "stdout",
     "output_type": "stream",
     "text": [
      "building tree 24 of 170\n",
      "building tree 25 of 170\n",
      "building tree 26 of 170\n",
      "building tree 27 of 170\n",
      "building tree 28 of 170\n",
      "building tree 29 of 170\n",
      "building tree 30 of 170\n",
      "building tree 31 of 170\n",
      "building tree 32 of 170\n"
     ]
    },
    {
     "name": "stderr",
     "output_type": "stream",
     "text": [
      "[Parallel(n_jobs=-1)]: Done  25 tasks      | elapsed:   55.1s\n"
     ]
    },
    {
     "name": "stdout",
     "output_type": "stream",
     "text": [
      "building tree 33 of 170\n",
      "building tree 34 of 170\n",
      "building tree 35 of 170\n",
      "building tree 36 of 170\n",
      "building tree 37 of 170\n",
      "building tree 38 of 170\n",
      "building tree 39 of 170\n",
      "building tree 40 of 170\n",
      "building tree 41 of 170\n"
     ]
    },
    {
     "name": "stderr",
     "output_type": "stream",
     "text": [
      "[Parallel(n_jobs=-1)]: Done  34 tasks      | elapsed:  1.2min\n"
     ]
    },
    {
     "name": "stdout",
     "output_type": "stream",
     "text": [
      "building tree 42 of 170\n",
      "building tree 43 of 170\n",
      "building tree 44 of 170\n",
      "building tree 45 of 170\n",
      "building tree 46 of 170\n",
      "building tree 47 of 170\n",
      "building tree 48 of 170\n",
      "building tree 49 of 170\n",
      "building tree 50 of 170\n",
      "building tree 51 of 170\n",
      "building tree 52 of 170\n"
     ]
    },
    {
     "name": "stderr",
     "output_type": "stream",
     "text": [
      "[Parallel(n_jobs=-1)]: Done  45 tasks      | elapsed:  1.5min\n"
     ]
    },
    {
     "name": "stdout",
     "output_type": "stream",
     "text": [
      "building tree 53 of 170\n",
      "building tree 54 of 170\n",
      "building tree 55 of 170\n",
      "building tree 56 of 170\n",
      "building tree 57 of 170\n",
      "building tree 58 of 170\n",
      "building tree 59 of 170\n",
      "building tree 60 of 170\n",
      "building tree 61 of 170\n",
      "building tree 62 of 170\n",
      "building tree 63 of 170\n"
     ]
    },
    {
     "name": "stderr",
     "output_type": "stream",
     "text": [
      "[Parallel(n_jobs=-1)]: Done  56 tasks      | elapsed:  1.8min\n"
     ]
    },
    {
     "name": "stdout",
     "output_type": "stream",
     "text": [
      "building tree 64 of 170\n",
      "building tree 65 of 170\n",
      "building tree 66 of 170\n",
      "building tree 67 of 170\n",
      "building tree 68 of 170\n",
      "building tree 69 of 170\n",
      "building tree 70 of 170\n",
      "building tree 71 of 170\n",
      "building tree 72 of 170\n",
      "building tree 73 of 170\n",
      "building tree 74 of 170\n",
      "building tree 75 of 170\n",
      "building tree 76 of 170\n"
     ]
    },
    {
     "name": "stderr",
     "output_type": "stream",
     "text": [
      "[Parallel(n_jobs=-1)]: Done  69 tasks      | elapsed:  2.2min\n"
     ]
    },
    {
     "name": "stdout",
     "output_type": "stream",
     "text": [
      "building tree 77 of 170\n",
      "building tree 78 of 170\n",
      "building tree 79 of 170\n",
      "building tree 80 of 170\n",
      "building tree 81 of 170\n",
      "building tree 82 of 170\n",
      "building tree 83 of 170\n",
      "building tree 84 of 170\n",
      "building tree 85 of 170\n",
      "building tree 86 of 170\n",
      "building tree 87 of 170\n",
      "building tree 88 of 170\n",
      "building tree 89 of 170\n"
     ]
    },
    {
     "name": "stderr",
     "output_type": "stream",
     "text": [
      "[Parallel(n_jobs=-1)]: Done  82 tasks      | elapsed:  2.6min\n"
     ]
    },
    {
     "name": "stdout",
     "output_type": "stream",
     "text": [
      "building tree 90 of 170\n",
      "building tree 91 of 170\n",
      "building tree 92 of 170\n",
      "building tree 93 of 170\n",
      "building tree 94 of 170\n",
      "building tree 95 of 170\n",
      "building tree 96 of 170\n",
      "building tree 97 of 170\n",
      "building tree 98 of 170\n",
      "building tree 99 of 170\n",
      "building tree 100 of 170\n",
      "building tree 101 of 170\n",
      "building tree 102 of 170\n",
      "building tree 103 of 170\n",
      "building tree 104 of 170\n"
     ]
    },
    {
     "name": "stderr",
     "output_type": "stream",
     "text": [
      "[Parallel(n_jobs=-1)]: Done  97 tasks      | elapsed:  3.1min\n"
     ]
    },
    {
     "name": "stdout",
     "output_type": "stream",
     "text": [
      "building tree 105 of 170\n",
      "building tree 106 of 170\n",
      "building tree 107 of 170\n",
      "building tree 108 of 170\n",
      "building tree 109 of 170\n",
      "building tree 110 of 170\n",
      "building tree 111 of 170\n",
      "building tree 112 of 170\n",
      "building tree 113 of 170\n",
      "building tree 114 of 170\n",
      "building tree 115 of 170\n",
      "building tree 116 of 170\n",
      "building tree 117 of 170\n",
      "building tree 118 of 170\n",
      "building tree 119 of 170\n"
     ]
    },
    {
     "name": "stderr",
     "output_type": "stream",
     "text": [
      "[Parallel(n_jobs=-1)]: Done 112 tasks      | elapsed:  3.5min\n"
     ]
    },
    {
     "name": "stdout",
     "output_type": "stream",
     "text": [
      "building tree 120 of 170\n",
      "building tree 121 of 170\n",
      "building tree 122 of 170\n",
      "building tree 123 of 170\n",
      "building tree 124 of 170\n",
      "building tree 125 of 170\n",
      "building tree 126 of 170\n",
      "building tree 127 of 170\n",
      "building tree 128 of 170\n",
      "building tree 129 of 170\n",
      "building tree 130 of 170\n",
      "building tree 131 of 170\n",
      "building tree 132 of 170\n",
      "building tree 133 of 170\n",
      "building tree 134 of 170\n",
      "building tree 135 of 170\n",
      "building tree 136 of 170\n"
     ]
    },
    {
     "name": "stderr",
     "output_type": "stream",
     "text": [
      "[Parallel(n_jobs=-1)]: Done 129 tasks      | elapsed:  4.0min\n"
     ]
    },
    {
     "name": "stdout",
     "output_type": "stream",
     "text": [
      "building tree 137 of 170\n",
      "building tree 138 of 170\n",
      "building tree 139 of 170\n",
      "building tree 140 of 170\n",
      "building tree 141 of 170\n",
      "building tree 142 of 170\n",
      "building tree 143 of 170\n",
      "building tree 144 of 170\n",
      "building tree 145 of 170\n",
      "building tree 146 of 170\n",
      "building tree 147 of 170\n",
      "building tree 148 of 170\n",
      "building tree 149 of 170\n",
      "building tree 150 of 170\n",
      "building tree 151 of 170\n",
      "building tree 152 of 170\n",
      "building tree 153 of 170\n"
     ]
    },
    {
     "name": "stderr",
     "output_type": "stream",
     "text": [
      "[Parallel(n_jobs=-1)]: Done 146 tasks      | elapsed:  4.5min\n"
     ]
    },
    {
     "name": "stdout",
     "output_type": "stream",
     "text": [
      "building tree 154 of 170\n",
      "building tree 155 of 170\n",
      "building tree 156 of 170\n",
      "building tree 157 of 170\n",
      "building tree 158 of 170\n",
      "building tree 159 of 170\n",
      "building tree 160 of 170\n",
      "building tree 161 of 170\n",
      "building tree 162 of 170\n",
      "building tree 163 of 170\n",
      "building tree 164 of 170\n",
      "building tree 165 of 170\n",
      "building tree 166 of 170\n",
      "building tree 167 of 170\n",
      "building tree 168 of 170\n",
      "building tree 169 of 170\n",
      "building tree 170 of 170\n"
     ]
    },
    {
     "name": "stderr",
     "output_type": "stream",
     "text": [
      "[Parallel(n_jobs=-1)]: Done 170 out of 170 | elapsed:  5.2min finished\n",
      "[Parallel(n_jobs=8)]: Done   2 tasks      | elapsed:    0.1s\n",
      "[Parallel(n_jobs=8)]: Done   9 tasks      | elapsed:    0.1s\n",
      "[Parallel(n_jobs=8)]: Done  16 tasks      | elapsed:    0.2s\n",
      "[Parallel(n_jobs=8)]: Done  25 tasks      | elapsed:    0.3s\n",
      "[Parallel(n_jobs=8)]: Done  34 tasks      | elapsed:    0.3s\n",
      "[Parallel(n_jobs=8)]: Done  45 tasks      | elapsed:    0.4s\n",
      "[Parallel(n_jobs=8)]: Done  56 tasks      | elapsed:    0.5s\n",
      "[Parallel(n_jobs=8)]: Done  69 tasks      | elapsed:    0.6s\n",
      "[Parallel(n_jobs=8)]: Done  82 tasks      | elapsed:    0.8s\n",
      "[Parallel(n_jobs=8)]: Done  97 tasks      | elapsed:    0.9s\n",
      "[Parallel(n_jobs=8)]: Done 112 tasks      | elapsed:    1.0s\n",
      "[Parallel(n_jobs=8)]: Done 129 tasks      | elapsed:    1.2s\n",
      "[Parallel(n_jobs=8)]: Done 146 tasks      | elapsed:    1.3s\n",
      "[Parallel(n_jobs=8)]: Done 170 out of 170 | elapsed:    1.5s finished\n",
      "[Parallel(n_jobs=8)]: Done   2 tasks      | elapsed:    0.1s\n",
      "[Parallel(n_jobs=8)]: Done   9 tasks      | elapsed:    0.2s\n",
      "[Parallel(n_jobs=8)]: Done  16 tasks      | elapsed:    0.3s\n",
      "[Parallel(n_jobs=8)]: Done  25 tasks      | elapsed:    0.5s\n",
      "[Parallel(n_jobs=8)]: Done  34 tasks      | elapsed:    0.6s\n",
      "[Parallel(n_jobs=8)]: Done  45 tasks      | elapsed:    0.8s\n",
      "[Parallel(n_jobs=8)]: Done  56 tasks      | elapsed:    1.0s\n",
      "[Parallel(n_jobs=8)]: Done  69 tasks      | elapsed:    1.2s\n",
      "[Parallel(n_jobs=8)]: Done  82 tasks      | elapsed:    1.4s\n",
      "[Parallel(n_jobs=8)]: Done  97 tasks      | elapsed:    1.6s\n",
      "[Parallel(n_jobs=8)]: Done 112 tasks      | elapsed:    1.9s\n",
      "[Parallel(n_jobs=8)]: Done 129 tasks      | elapsed:    2.2s\n",
      "[Parallel(n_jobs=8)]: Done 146 tasks      | elapsed:    2.4s\n",
      "[Parallel(n_jobs=8)]: Done 170 out of 170 | elapsed:    2.8s finished\n",
      "/home/justin/anaconda3/lib/python3.6/site-packages/sklearn/model_selection/_validation.py:458: DataConversionWarning: A column-vector y was passed when a 1d array was expected. Please change the shape of y to (n_samples,), for example using ravel().\n",
      "  estimator.fit(X_train, y_train, **fit_params)\n"
     ]
    },
    {
     "name": "stdout",
     "output_type": "stream",
     "text": [
      "building tree 2 of 170\n",
      "building tree 3 of 170building tree 4 of 170building tree 5 of 170building tree 1 of 170building tree 6 of 170building tree 7 of 170building tree 8 of 170\n",
      "\n",
      "\n",
      "\n",
      "\n",
      "\n",
      "\n",
      "building tree 9 of 170\n",
      "building tree 10 of 170\n"
     ]
    },
    {
     "name": "stderr",
     "output_type": "stream",
     "text": [
      "[Parallel(n_jobs=-1)]: Done   2 tasks      | elapsed:   12.9s\n"
     ]
    },
    {
     "name": "stdout",
     "output_type": "stream",
     "text": [
      "building tree 11 of 170\n",
      "building tree 12 of 170\n",
      "building tree 13 of 170\n",
      "building tree 14 of 170\n",
      "building tree 15 of 170\n",
      "building tree 16 of 170\n"
     ]
    },
    {
     "name": "stderr",
     "output_type": "stream",
     "text": [
      "[Parallel(n_jobs=-1)]: Done   9 tasks      | elapsed:   27.1s\n"
     ]
    },
    {
     "name": "stdout",
     "output_type": "stream",
     "text": [
      "building tree 17 of 170\n",
      "building tree 18 of 170\n",
      "building tree 19 of 170\n",
      "building tree 20 of 170\n",
      "building tree 21 of 170\n",
      "building tree 22 of 170\n",
      "building tree 23 of 170\n"
     ]
    },
    {
     "name": "stderr",
     "output_type": "stream",
     "text": [
      "[Parallel(n_jobs=-1)]: Done  16 tasks      | elapsed:   31.2s\n"
     ]
    },
    {
     "name": "stdout",
     "output_type": "stream",
     "text": [
      "building tree 24 of 170\n",
      "building tree 25 of 170\n",
      "building tree 26 of 170\n",
      "building tree 27 of 170\n",
      "building tree 28 of 170\n",
      "building tree 29 of 170\n",
      "building tree 30 of 170\n",
      "building tree 31 of 170\n",
      "building tree 32 of 170\n"
     ]
    },
    {
     "name": "stderr",
     "output_type": "stream",
     "text": [
      "[Parallel(n_jobs=-1)]: Done  25 tasks      | elapsed:   56.0s\n"
     ]
    },
    {
     "name": "stdout",
     "output_type": "stream",
     "text": [
      "building tree 33 of 170\n",
      "building tree 34 of 170\n",
      "building tree 35 of 170\n",
      "building tree 36 of 170\n",
      "building tree 37 of 170\n",
      "building tree 38 of 170\n",
      "building tree 39 of 170\n",
      "building tree 40 of 170\n",
      "building tree 41 of 170\n"
     ]
    },
    {
     "name": "stderr",
     "output_type": "stream",
     "text": [
      "[Parallel(n_jobs=-1)]: Done  34 tasks      | elapsed:  1.2min\n"
     ]
    },
    {
     "name": "stdout",
     "output_type": "stream",
     "text": [
      "building tree 42 of 170\n",
      "building tree 43 of 170\n",
      "building tree 44 of 170\n",
      "building tree 45 of 170\n",
      "building tree 46 of 170\n",
      "building tree 47 of 170\n",
      "building tree 48 of 170\n",
      "building tree 49 of 170\n",
      "building tree 50 of 170\n",
      "building tree 51 of 170\n",
      "building tree 52 of 170\n"
     ]
    },
    {
     "name": "stderr",
     "output_type": "stream",
     "text": [
      "[Parallel(n_jobs=-1)]: Done  45 tasks      | elapsed:  1.4min\n"
     ]
    },
    {
     "name": "stdout",
     "output_type": "stream",
     "text": [
      "building tree 53 of 170\n",
      "building tree 54 of 170\n",
      "building tree 55 of 170\n",
      "building tree 56 of 170\n",
      "building tree 57 of 170\n",
      "building tree 58 of 170\n",
      "building tree 59 of 170\n",
      "building tree 60 of 170\n",
      "building tree 61 of 170\n",
      "building tree 62 of 170\n",
      "building tree 63 of 170\n"
     ]
    },
    {
     "name": "stderr",
     "output_type": "stream",
     "text": [
      "[Parallel(n_jobs=-1)]: Done  56 tasks      | elapsed:  1.7min\n"
     ]
    },
    {
     "name": "stdout",
     "output_type": "stream",
     "text": [
      "building tree 64 of 170\n",
      "building tree 65 of 170\n",
      "building tree 66 of 170\n",
      "building tree 67 of 170\n",
      "building tree 68 of 170\n",
      "building tree 69 of 170\n",
      "building tree 70 of 170\n",
      "building tree 71 of 170\n",
      "building tree 72 of 170\n",
      "building tree 73 of 170\n",
      "building tree 74 of 170\n",
      "building tree 75 of 170\n",
      "building tree 76 of 170\n"
     ]
    },
    {
     "name": "stderr",
     "output_type": "stream",
     "text": [
      "[Parallel(n_jobs=-1)]: Done  69 tasks      | elapsed:  2.2min\n"
     ]
    },
    {
     "name": "stdout",
     "output_type": "stream",
     "text": [
      "building tree 77 of 170\n",
      "building tree 78 of 170\n",
      "building tree 79 of 170\n",
      "building tree 80 of 170\n",
      "building tree 81 of 170\n",
      "building tree 82 of 170\n",
      "building tree 83 of 170\n",
      "building tree 84 of 170\n",
      "building tree 85 of 170\n",
      "building tree 86 of 170\n",
      "building tree 87 of 170\n",
      "building tree 88 of 170\n",
      "building tree 89 of 170\n"
     ]
    },
    {
     "name": "stderr",
     "output_type": "stream",
     "text": [
      "[Parallel(n_jobs=-1)]: Done  82 tasks      | elapsed:  2.6min\n"
     ]
    },
    {
     "name": "stdout",
     "output_type": "stream",
     "text": [
      "building tree 90 of 170\n",
      "building tree 91 of 170\n",
      "building tree 92 of 170\n",
      "building tree 93 of 170\n",
      "building tree 94 of 170\n",
      "building tree 95 of 170\n",
      "building tree 96 of 170\n",
      "building tree 97 of 170\n",
      "building tree 98 of 170\n",
      "building tree 99 of 170\n",
      "building tree 100 of 170\n",
      "building tree 101 of 170\n",
      "building tree 102 of 170\n",
      "building tree 103 of 170\n",
      "building tree 104 of 170\n"
     ]
    },
    {
     "name": "stderr",
     "output_type": "stream",
     "text": [
      "[Parallel(n_jobs=-1)]: Done  97 tasks      | elapsed:  3.1min\n"
     ]
    },
    {
     "name": "stdout",
     "output_type": "stream",
     "text": [
      "building tree 105 of 170\n",
      "building tree 106 of 170\n",
      "building tree 107 of 170\n",
      "building tree 108 of 170\n",
      "building tree 109 of 170\n",
      "building tree 110 of 170\n",
      "building tree 111 of 170\n",
      "building tree 112 of 170\n",
      "building tree 113 of 170\n",
      "building tree 114 of 170\n",
      "building tree 115 of 170\n",
      "building tree 116 of 170\n",
      "building tree 117 of 170\n",
      "building tree 118 of 170\n",
      "building tree 119 of 170\n"
     ]
    },
    {
     "name": "stderr",
     "output_type": "stream",
     "text": [
      "[Parallel(n_jobs=-1)]: Done 112 tasks      | elapsed:  3.4min\n"
     ]
    },
    {
     "name": "stdout",
     "output_type": "stream",
     "text": [
      "building tree 120 of 170\n",
      "building tree 121 of 170\n",
      "building tree 122 of 170\n",
      "building tree 123 of 170\n",
      "building tree 124 of 170\n",
      "building tree 125 of 170\n",
      "building tree 126 of 170\n",
      "building tree 127 of 170\n",
      "building tree 128 of 170\n",
      "building tree 129 of 170\n",
      "building tree 130 of 170\n",
      "building tree 131 of 170\n",
      "building tree 132 of 170\n",
      "building tree 133 of 170\n",
      "building tree 134 of 170\n",
      "building tree 135 of 170\n",
      "building tree 136 of 170\n"
     ]
    },
    {
     "name": "stderr",
     "output_type": "stream",
     "text": [
      "[Parallel(n_jobs=-1)]: Done 129 tasks      | elapsed:  4.0min\n"
     ]
    },
    {
     "name": "stdout",
     "output_type": "stream",
     "text": [
      "building tree 137 of 170\n",
      "building tree 138 of 170\n",
      "building tree 139 of 170\n",
      "building tree 140 of 170\n",
      "building tree 141 of 170\n",
      "building tree 142 of 170\n",
      "building tree 143 of 170\n",
      "building tree 144 of 170\n",
      "building tree 145 of 170\n",
      "building tree 146 of 170\n",
      "building tree 147 of 170\n",
      "building tree 148 of 170\n",
      "building tree 149 of 170\n",
      "building tree 150 of 170\n",
      "building tree 151 of 170\n",
      "building tree 152 of 170\n",
      "building tree 153 of 170\n"
     ]
    },
    {
     "name": "stderr",
     "output_type": "stream",
     "text": [
      "[Parallel(n_jobs=-1)]: Done 146 tasks      | elapsed:  4.5min\n"
     ]
    },
    {
     "name": "stdout",
     "output_type": "stream",
     "text": [
      "building tree 154 of 170\n",
      "building tree 155 of 170\n",
      "building tree 156 of 170\n",
      "building tree 157 of 170\n",
      "building tree 158 of 170\n",
      "building tree 159 of 170\n",
      "building tree 160 of 170\n",
      "building tree 161 of 170\n",
      "building tree 162 of 170\n",
      "building tree 163 of 170\n",
      "building tree 164 of 170\n",
      "building tree 165 of 170\n",
      "building tree 166 of 170\n",
      "building tree 167 of 170\n",
      "building tree 168 of 170\n",
      "building tree 169 of 170\n",
      "building tree 170 of 170\n"
     ]
    },
    {
     "name": "stderr",
     "output_type": "stream",
     "text": [
      "[Parallel(n_jobs=-1)]: Done 170 out of 170 | elapsed:  5.2min finished\n",
      "[Parallel(n_jobs=8)]: Done   2 tasks      | elapsed:    0.0s\n",
      "[Parallel(n_jobs=8)]: Done   9 tasks      | elapsed:    0.1s\n",
      "[Parallel(n_jobs=8)]: Done  16 tasks      | elapsed:    0.2s\n",
      "[Parallel(n_jobs=8)]: Done  25 tasks      | elapsed:    0.2s\n",
      "[Parallel(n_jobs=8)]: Done  34 tasks      | elapsed:    0.3s\n",
      "[Parallel(n_jobs=8)]: Done  45 tasks      | elapsed:    0.4s\n",
      "[Parallel(n_jobs=8)]: Done  56 tasks      | elapsed:    0.5s\n",
      "[Parallel(n_jobs=8)]: Done  69 tasks      | elapsed:    0.6s\n",
      "[Parallel(n_jobs=8)]: Done  82 tasks      | elapsed:    0.7s\n",
      "[Parallel(n_jobs=8)]: Done  97 tasks      | elapsed:    0.8s\n",
      "[Parallel(n_jobs=8)]: Done 112 tasks      | elapsed:    0.9s\n",
      "[Parallel(n_jobs=8)]: Done 129 tasks      | elapsed:    1.0s\n",
      "[Parallel(n_jobs=8)]: Done 146 tasks      | elapsed:    1.2s\n",
      "[Parallel(n_jobs=8)]: Done 170 out of 170 | elapsed:    1.4s finished\n",
      "[Parallel(n_jobs=8)]: Done   2 tasks      | elapsed:    0.1s\n",
      "[Parallel(n_jobs=8)]: Done   9 tasks      | elapsed:    0.2s\n",
      "[Parallel(n_jobs=8)]: Done  16 tasks      | elapsed:    0.4s\n",
      "[Parallel(n_jobs=8)]: Done  25 tasks      | elapsed:    0.5s\n",
      "[Parallel(n_jobs=8)]: Done  34 tasks      | elapsed:    0.7s\n",
      "[Parallel(n_jobs=8)]: Done  45 tasks      | elapsed:    0.9s\n",
      "[Parallel(n_jobs=8)]: Done  56 tasks      | elapsed:    1.1s\n",
      "[Parallel(n_jobs=8)]: Done  69 tasks      | elapsed:    1.3s\n",
      "[Parallel(n_jobs=8)]: Done  82 tasks      | elapsed:    1.6s\n",
      "[Parallel(n_jobs=8)]: Done  97 tasks      | elapsed:    1.8s\n",
      "[Parallel(n_jobs=8)]: Done 112 tasks      | elapsed:    2.1s\n",
      "[Parallel(n_jobs=8)]: Done 129 tasks      | elapsed:    2.4s\n",
      "[Parallel(n_jobs=8)]: Done 146 tasks      | elapsed:    2.6s\n",
      "[Parallel(n_jobs=8)]: Done 170 out of 170 | elapsed:    3.1s finished\n",
      "/home/justin/anaconda3/lib/python3.6/site-packages/sklearn/model_selection/_validation.py:458: DataConversionWarning: A column-vector y was passed when a 1d array was expected. Please change the shape of y to (n_samples,), for example using ravel().\n",
      "  estimator.fit(X_train, y_train, **fit_params)\n"
     ]
    },
    {
     "name": "stdout",
     "output_type": "stream",
     "text": [
      "building tree 1 of 170building tree 2 of 170\n",
      "building tree 5 of 170building tree 4 of 170building tree 6 of 170building tree 7 of 170building tree 8 of 170building tree 3 of 170\n",
      "\n",
      "\n",
      "\n",
      "\n",
      "\n",
      "\n",
      "building tree 9 of 170\n"
     ]
    },
    {
     "name": "stderr",
     "output_type": "stream",
     "text": [
      "[Parallel(n_jobs=-1)]: Done   2 tasks      | elapsed:   13.2s\n"
     ]
    },
    {
     "name": "stdout",
     "output_type": "stream",
     "text": [
      "building tree 10 of 170\n",
      "building tree 11 of 170\n",
      "building tree 12 of 170\n",
      "building tree 13 of 170\n",
      "building tree 14 of 170\n",
      "building tree 15 of 170\n",
      "building tree 16 of 170\n"
     ]
    },
    {
     "name": "stderr",
     "output_type": "stream",
     "text": [
      "[Parallel(n_jobs=-1)]: Done   9 tasks      | elapsed:   26.3s\n"
     ]
    },
    {
     "name": "stdout",
     "output_type": "stream",
     "text": [
      "building tree 17 of 170\n",
      "building tree 18 of 170\n",
      "building tree 19 of 170\n",
      "building tree 20 of 170\n",
      "building tree 21 of 170\n",
      "building tree 22 of 170\n",
      "building tree 23 of 170\n"
     ]
    },
    {
     "name": "stderr",
     "output_type": "stream",
     "text": [
      "[Parallel(n_jobs=-1)]: Done  16 tasks      | elapsed:   30.4s\n"
     ]
    },
    {
     "name": "stdout",
     "output_type": "stream",
     "text": [
      "building tree 24 of 170\n",
      "building tree 25 of 170\n",
      "building tree 26 of 170\n",
      "building tree 27 of 170\n",
      "building tree 28 of 170\n",
      "building tree 29 of 170\n",
      "building tree 30 of 170\n",
      "building tree 31 of 170\n",
      "building tree 32 of 170\n"
     ]
    },
    {
     "name": "stderr",
     "output_type": "stream",
     "text": [
      "[Parallel(n_jobs=-1)]: Done  25 tasks      | elapsed:   52.8s\n"
     ]
    },
    {
     "name": "stdout",
     "output_type": "stream",
     "text": [
      "building tree 33 of 170\n",
      "building tree 34 of 170\n",
      "building tree 35 of 170\n",
      "building tree 36 of 170\n",
      "building tree 37 of 170\n",
      "building tree 38 of 170\n",
      "building tree 39 of 170\n",
      "building tree 40 of 170\n",
      "building tree 41 of 170\n"
     ]
    },
    {
     "name": "stderr",
     "output_type": "stream",
     "text": [
      "[Parallel(n_jobs=-1)]: Done  34 tasks      | elapsed:  1.1min\n"
     ]
    },
    {
     "name": "stdout",
     "output_type": "stream",
     "text": [
      "building tree 42 of 170\n",
      "building tree 43 of 170\n",
      "building tree 44 of 170\n",
      "building tree 45 of 170\n",
      "building tree 46 of 170\n",
      "building tree 47 of 170\n",
      "building tree 48 of 170\n",
      "building tree 49 of 170\n",
      "building tree 50 of 170\n",
      "building tree 51 of 170\n",
      "building tree 52 of 170\n"
     ]
    },
    {
     "name": "stderr",
     "output_type": "stream",
     "text": [
      "[Parallel(n_jobs=-1)]: Done  45 tasks      | elapsed:  1.4min\n"
     ]
    },
    {
     "name": "stdout",
     "output_type": "stream",
     "text": [
      "building tree 53 of 170\n",
      "building tree 54 of 170\n",
      "building tree 55 of 170\n",
      "building tree 56 of 170\n",
      "building tree 57 of 170\n",
      "building tree 58 of 170\n",
      "building tree 59 of 170\n",
      "building tree 60 of 170\n",
      "building tree 61 of 170\n",
      "building tree 62 of 170\n",
      "building tree 63 of 170\n"
     ]
    },
    {
     "name": "stderr",
     "output_type": "stream",
     "text": [
      "[Parallel(n_jobs=-1)]: Done  56 tasks      | elapsed:  1.7min\n"
     ]
    },
    {
     "name": "stdout",
     "output_type": "stream",
     "text": [
      "building tree 64 of 170\n",
      "building tree 65 of 170\n",
      "building tree 66 of 170\n",
      "building tree 67 of 170\n",
      "building tree 68 of 170\n",
      "building tree 69 of 170\n",
      "building tree 70 of 170\n",
      "building tree 71 of 170\n",
      "building tree 72 of 170\n",
      "building tree 73 of 170\n",
      "building tree 74 of 170\n",
      "building tree 75 of 170\n",
      "building tree 76 of 170\n"
     ]
    },
    {
     "name": "stderr",
     "output_type": "stream",
     "text": [
      "[Parallel(n_jobs=-1)]: Done  69 tasks      | elapsed:  2.1min\n"
     ]
    },
    {
     "name": "stdout",
     "output_type": "stream",
     "text": [
      "building tree 77 of 170\n",
      "building tree 78 of 170\n",
      "building tree 79 of 170\n",
      "building tree 80 of 170\n",
      "building tree 81 of 170\n",
      "building tree 82 of 170\n",
      "building tree 83 of 170\n",
      "building tree 84 of 170\n",
      "building tree 85 of 170\n",
      "building tree 86 of 170\n",
      "building tree 87 of 170\n",
      "building tree 88 of 170\n",
      "building tree 89 of 170\n",
      "building tree 90 of 170\n"
     ]
    },
    {
     "name": "stderr",
     "output_type": "stream",
     "text": [
      "[Parallel(n_jobs=-1)]: Done  82 tasks      | elapsed:  2.5min\n"
     ]
    },
    {
     "name": "stdout",
     "output_type": "stream",
     "text": [
      "building tree 91 of 170\n",
      "building tree 92 of 170\n",
      "building tree 93 of 170\n",
      "building tree 94 of 170\n",
      "building tree 95 of 170\n",
      "building tree 96 of 170\n",
      "building tree 97 of 170\n",
      "building tree 98 of 170\n",
      "building tree 99 of 170\n",
      "building tree 100 of 170\n",
      "building tree 101 of 170\n",
      "building tree 102 of 170\n",
      "building tree 103 of 170\n",
      "building tree 104 of 170\n"
     ]
    },
    {
     "name": "stderr",
     "output_type": "stream",
     "text": [
      "[Parallel(n_jobs=-1)]: Done  97 tasks      | elapsed:  3.0min\n"
     ]
    },
    {
     "name": "stdout",
     "output_type": "stream",
     "text": [
      "building tree 105 of 170\n",
      "building tree 106 of 170\n",
      "building tree 107 of 170\n",
      "building tree 108 of 170\n",
      "building tree 109 of 170\n",
      "building tree 110 of 170\n",
      "building tree 111 of 170\n",
      "building tree 112 of 170\n",
      "building tree 113 of 170\n",
      "building tree 114 of 170\n",
      "building tree 115 of 170\n",
      "building tree 116 of 170\n",
      "building tree 117 of 170\n",
      "building tree 118 of 170\n",
      "building tree 119 of 170\n"
     ]
    },
    {
     "name": "stderr",
     "output_type": "stream",
     "text": [
      "[Parallel(n_jobs=-1)]: Done 112 tasks      | elapsed:  3.3min\n"
     ]
    },
    {
     "name": "stdout",
     "output_type": "stream",
     "text": [
      "building tree 120 of 170\n",
      "building tree 121 of 170\n",
      "building tree 122 of 170\n",
      "building tree 123 of 170\n",
      "building tree 124 of 170\n",
      "building tree 125 of 170\n",
      "building tree 126 of 170\n",
      "building tree 127 of 170\n",
      "building tree 128 of 170\n",
      "building tree 129 of 170\n",
      "building tree 130 of 170\n",
      "building tree 131 of 170\n",
      "building tree 132 of 170\n",
      "building tree 133 of 170\n",
      "building tree 134 of 170\n",
      "building tree 135 of 170\n",
      "building tree 136 of 170\n"
     ]
    },
    {
     "name": "stderr",
     "output_type": "stream",
     "text": [
      "[Parallel(n_jobs=-1)]: Done 129 tasks      | elapsed:  3.9min\n"
     ]
    },
    {
     "name": "stdout",
     "output_type": "stream",
     "text": [
      "building tree 137 of 170\n",
      "building tree 138 of 170\n",
      "building tree 139 of 170\n",
      "building tree 140 of 170\n",
      "building tree 141 of 170\n",
      "building tree 142 of 170\n",
      "building tree 143 of 170\n",
      "building tree 144 of 170\n",
      "building tree 145 of 170\n",
      "building tree 146 of 170\n",
      "building tree 147 of 170\n",
      "building tree 148 of 170\n",
      "building tree 149 of 170\n",
      "building tree 150 of 170\n",
      "building tree 151 of 170\n",
      "building tree 152 of 170\n",
      "building tree 153 of 170\n"
     ]
    },
    {
     "name": "stderr",
     "output_type": "stream",
     "text": [
      "[Parallel(n_jobs=-1)]: Done 146 tasks      | elapsed:  4.4min\n"
     ]
    },
    {
     "name": "stdout",
     "output_type": "stream",
     "text": [
      "building tree 154 of 170\n",
      "building tree 155 of 170\n",
      "building tree 156 of 170\n",
      "building tree 157 of 170\n",
      "building tree 158 of 170\n",
      "building tree 159 of 170\n",
      "building tree 160 of 170\n",
      "building tree 161 of 170\n",
      "building tree 162 of 170\n",
      "building tree 163 of 170\n",
      "building tree 164 of 170\n",
      "building tree 165 of 170\n",
      "building tree 166 of 170\n",
      "building tree 167 of 170\n",
      "building tree 168 of 170\n",
      "building tree 169 of 170\n",
      "building tree 170 of 170\n"
     ]
    },
    {
     "name": "stderr",
     "output_type": "stream",
     "text": [
      "[Parallel(n_jobs=-1)]: Done 170 out of 170 | elapsed:  5.0min finished\n",
      "[Parallel(n_jobs=8)]: Done   2 tasks      | elapsed:    0.0s\n",
      "[Parallel(n_jobs=8)]: Done   9 tasks      | elapsed:    0.1s\n",
      "[Parallel(n_jobs=8)]: Done  16 tasks      | elapsed:    0.2s\n",
      "[Parallel(n_jobs=8)]: Done  25 tasks      | elapsed:    0.3s\n",
      "[Parallel(n_jobs=8)]: Done  34 tasks      | elapsed:    0.3s\n",
      "[Parallel(n_jobs=8)]: Done  45 tasks      | elapsed:    0.4s\n",
      "[Parallel(n_jobs=8)]: Done  56 tasks      | elapsed:    0.5s\n",
      "[Parallel(n_jobs=8)]: Done  69 tasks      | elapsed:    0.6s\n",
      "[Parallel(n_jobs=8)]: Done  82 tasks      | elapsed:    0.7s\n",
      "[Parallel(n_jobs=8)]: Done  97 tasks      | elapsed:    0.9s\n",
      "[Parallel(n_jobs=8)]: Done 112 tasks      | elapsed:    1.0s\n",
      "[Parallel(n_jobs=8)]: Done 129 tasks      | elapsed:    1.1s\n",
      "[Parallel(n_jobs=8)]: Done 146 tasks      | elapsed:    1.3s\n",
      "[Parallel(n_jobs=8)]: Done 170 out of 170 | elapsed:    1.5s finished\n",
      "[Parallel(n_jobs=8)]: Done   2 tasks      | elapsed:    0.1s\n",
      "[Parallel(n_jobs=8)]: Done   9 tasks      | elapsed:    0.2s\n",
      "[Parallel(n_jobs=8)]: Done  16 tasks      | elapsed:    0.3s\n",
      "[Parallel(n_jobs=8)]: Done  25 tasks      | elapsed:    0.5s\n",
      "[Parallel(n_jobs=8)]: Done  34 tasks      | elapsed:    0.7s\n",
      "[Parallel(n_jobs=8)]: Done  45 tasks      | elapsed:    0.9s\n",
      "[Parallel(n_jobs=8)]: Done  56 tasks      | elapsed:    1.1s\n",
      "[Parallel(n_jobs=8)]: Done  69 tasks      | elapsed:    1.3s\n",
      "[Parallel(n_jobs=8)]: Done  82 tasks      | elapsed:    1.6s\n",
      "[Parallel(n_jobs=8)]: Done  97 tasks      | elapsed:    1.9s\n",
      "[Parallel(n_jobs=8)]: Done 112 tasks      | elapsed:    2.2s\n",
      "[Parallel(n_jobs=8)]: Done 129 tasks      | elapsed:    2.5s\n",
      "[Parallel(n_jobs=8)]: Done 146 tasks      | elapsed:    2.8s\n",
      "[Parallel(n_jobs=8)]: Done 170 out of 170 | elapsed:    3.2s finished\n",
      "/home/justin/anaconda3/lib/python3.6/site-packages/sklearn/model_selection/_validation.py:458: DataConversionWarning: A column-vector y was passed when a 1d array was expected. Please change the shape of y to (n_samples,), for example using ravel().\n",
      "  estimator.fit(X_train, y_train, **fit_params)\n"
     ]
    },
    {
     "name": "stdout",
     "output_type": "stream",
     "text": [
      "building tree 3 of 37building tree 2 of 37building tree 5 of 37building tree 4 of 37\n",
      "\n",
      "\n",
      "\n",
      "building tree 6 of 37\n",
      "building tree 7 of 37\n",
      "building tree 1 of 37building tree 8 of 37\n",
      "\n",
      "building tree 9 of 37\n",
      "building tree 10 of 37\n",
      "building tree 11 of 37\n",
      "building tree 12 of 37\n"
     ]
    },
    {
     "name": "stderr",
     "output_type": "stream",
     "text": [
      "[Parallel(n_jobs=-1)]: Done   2 tasks      | elapsed:    0.5s\n"
     ]
    },
    {
     "name": "stdout",
     "output_type": "stream",
     "text": [
      "building tree 13 of 37\n",
      "building tree 14 of 37\n",
      "building tree 15 of 37\n",
      "building tree 16 of 37\n"
     ]
    },
    {
     "name": "stderr",
     "output_type": "stream",
     "text": [
      "[Parallel(n_jobs=-1)]: Done   9 tasks      | elapsed:    1.2s\n"
     ]
    },
    {
     "name": "stdout",
     "output_type": "stream",
     "text": [
      "building tree 17 of 37\n",
      "building tree 18 of 37\n",
      "building tree 19 of 37\n",
      "building tree 21 of 37\n",
      "building tree 20 of 37\n",
      "building tree 22 of 37\n",
      "building tree 23 of 37\n"
     ]
    },
    {
     "name": "stderr",
     "output_type": "stream",
     "text": [
      "[Parallel(n_jobs=-1)]: Done  16 tasks      | elapsed:    1.7s\n"
     ]
    },
    {
     "name": "stdout",
     "output_type": "stream",
     "text": [
      "building tree 24 of 37\n",
      "building tree 25 of 37\n",
      "building tree 26 of 37\n",
      "building tree 27 of 37\n",
      "building tree 28 of 37\n",
      "building tree 29 of 37\n",
      "building tree 30 of 37\n",
      "building tree 31 of 37\n",
      "building tree 32 of 37\n",
      "building tree 33 of 37\n",
      "building tree 34 of 37\n"
     ]
    },
    {
     "name": "stderr",
     "output_type": "stream",
     "text": [
      "[Parallel(n_jobs=-1)]: Done  26 out of  37 | elapsed:    2.7s remaining:    1.1s\n",
      "[Parallel(n_jobs=-1)]: Done  30 out of  37 | elapsed:    2.9s remaining:    0.7s\n"
     ]
    },
    {
     "name": "stdout",
     "output_type": "stream",
     "text": [
      "building tree 35 of 37\n",
      "building tree 37 of 37\n",
      "building tree 36 of 37\n"
     ]
    },
    {
     "name": "stderr",
     "output_type": "stream",
     "text": [
      "[Parallel(n_jobs=-1)]: Done  34 out of  37 | elapsed:    3.3s remaining:    0.3s\n",
      "[Parallel(n_jobs=-1)]: Done  37 out of  37 | elapsed:    3.5s finished\n",
      "[Parallel(n_jobs=8)]: Done   2 tasks      | elapsed:    0.1s\n",
      "[Parallel(n_jobs=8)]: Done   9 tasks      | elapsed:    0.1s\n",
      "[Parallel(n_jobs=8)]: Done  16 tasks      | elapsed:    0.2s\n",
      "[Parallel(n_jobs=8)]: Done  26 out of  37 | elapsed:    0.3s remaining:    0.1s\n",
      "[Parallel(n_jobs=8)]: Done  30 out of  37 | elapsed:    0.3s remaining:    0.1s\n",
      "[Parallel(n_jobs=8)]: Done  34 out of  37 | elapsed:    0.3s remaining:    0.0s\n",
      "[Parallel(n_jobs=8)]: Done  37 out of  37 | elapsed:    0.3s finished\n",
      "[Parallel(n_jobs=8)]: Done   2 tasks      | elapsed:    0.1s\n",
      "[Parallel(n_jobs=8)]: Done   9 tasks      | elapsed:    0.2s\n",
      "[Parallel(n_jobs=8)]: Done  16 tasks      | elapsed:    0.3s\n",
      "[Parallel(n_jobs=8)]: Done  26 out of  37 | elapsed:    0.4s remaining:    0.2s\n",
      "[Parallel(n_jobs=8)]: Done  30 out of  37 | elapsed:    0.5s remaining:    0.1s\n",
      "[Parallel(n_jobs=8)]: Done  34 out of  37 | elapsed:    0.6s remaining:    0.0s\n",
      "[Parallel(n_jobs=8)]: Done  37 out of  37 | elapsed:    0.6s finished\n",
      "/home/justin/anaconda3/lib/python3.6/site-packages/sklearn/model_selection/_validation.py:458: DataConversionWarning: A column-vector y was passed when a 1d array was expected. Please change the shape of y to (n_samples,), for example using ravel().\n",
      "  estimator.fit(X_train, y_train, **fit_params)\n"
     ]
    },
    {
     "name": "stdout",
     "output_type": "stream",
     "text": [
      "building tree 2 of 37building tree 1 of 37building tree 3 of 37building tree 4 of 37building tree 5 of 37building tree 6 of 37building tree 8 of 37building tree 7 of 37\n",
      "\n",
      "\n",
      "\n",
      "\n",
      "\n",
      "\n",
      "\n",
      "building tree 9 of 37\n"
     ]
    },
    {
     "name": "stderr",
     "output_type": "stream",
     "text": [
      "[Parallel(n_jobs=-1)]: Done   2 tasks      | elapsed:    0.8s\n"
     ]
    },
    {
     "name": "stdout",
     "output_type": "stream",
     "text": [
      "building tree 10 of 37\n",
      "building tree 11 of 37\n",
      "building tree 12 of 37\n",
      "building tree 13 of 37\n",
      "building tree 14 of 37\n",
      "building tree 15 of 37\n",
      "building tree 16 of 37\n",
      "building tree 17 of 37\n"
     ]
    },
    {
     "name": "stderr",
     "output_type": "stream",
     "text": [
      "[Parallel(n_jobs=-1)]: Done   9 tasks      | elapsed:    1.5s\n"
     ]
    },
    {
     "name": "stdout",
     "output_type": "stream",
     "text": [
      "building tree 18 of 37\n",
      "building tree 19 of 37\n",
      "building tree 20 of 37\n",
      "building tree 21 of 37\n",
      "building tree 22 of 37\n",
      "building tree 23 of 37\n",
      "building tree 24 of 37\n"
     ]
    },
    {
     "name": "stderr",
     "output_type": "stream",
     "text": [
      "[Parallel(n_jobs=-1)]: Done  16 tasks      | elapsed:    2.0s\n"
     ]
    },
    {
     "name": "stdout",
     "output_type": "stream",
     "text": [
      "building tree 25 of 37\n",
      "building tree 26 of 37\n",
      "building tree 27 of 37\n",
      "building tree 28 of 37\n",
      "building tree 29 of 37\n",
      "building tree 30 of 37building tree 31 of 37\n",
      "\n",
      "building tree 32 of 37\n",
      "building tree 33 of 37\n"
     ]
    },
    {
     "name": "stderr",
     "output_type": "stream",
     "text": [
      "[Parallel(n_jobs=-1)]: Done  26 out of  37 | elapsed:    3.2s remaining:    1.4s\n"
     ]
    },
    {
     "name": "stdout",
     "output_type": "stream",
     "text": [
      "building tree 34 of 37\n",
      "building tree 35 of 37\n",
      "building tree 36 of 37\n",
      "building tree 37 of 37\n"
     ]
    },
    {
     "name": "stderr",
     "output_type": "stream",
     "text": [
      "[Parallel(n_jobs=-1)]: Done  30 out of  37 | elapsed:    3.7s remaining:    0.9s\n",
      "[Parallel(n_jobs=-1)]: Done  34 out of  37 | elapsed:    3.9s remaining:    0.3s\n",
      "[Parallel(n_jobs=-1)]: Done  37 out of  37 | elapsed:    4.1s finished\n",
      "[Parallel(n_jobs=8)]: Done   2 tasks      | elapsed:    0.0s\n",
      "[Parallel(n_jobs=8)]: Done   9 tasks      | elapsed:    0.1s\n",
      "[Parallel(n_jobs=8)]: Done  16 tasks      | elapsed:    0.2s\n",
      "[Parallel(n_jobs=8)]: Done  26 out of  37 | elapsed:    0.2s remaining:    0.1s\n",
      "[Parallel(n_jobs=8)]: Done  30 out of  37 | elapsed:    0.3s remaining:    0.1s\n",
      "[Parallel(n_jobs=8)]: Done  34 out of  37 | elapsed:    0.3s remaining:    0.0s\n",
      "[Parallel(n_jobs=8)]: Done  37 out of  37 | elapsed:    0.3s finished\n",
      "[Parallel(n_jobs=8)]: Done   2 tasks      | elapsed:    0.1s\n",
      "[Parallel(n_jobs=8)]: Done   9 tasks      | elapsed:    0.2s\n",
      "[Parallel(n_jobs=8)]: Done  16 tasks      | elapsed:    0.3s\n",
      "[Parallel(n_jobs=8)]: Done  26 out of  37 | elapsed:    0.5s remaining:    0.2s\n",
      "[Parallel(n_jobs=8)]: Done  30 out of  37 | elapsed:    0.6s remaining:    0.1s\n",
      "[Parallel(n_jobs=8)]: Done  34 out of  37 | elapsed:    0.6s remaining:    0.1s\n",
      "[Parallel(n_jobs=8)]: Done  37 out of  37 | elapsed:    0.7s finished\n",
      "/home/justin/anaconda3/lib/python3.6/site-packages/sklearn/model_selection/_validation.py:458: DataConversionWarning: A column-vector y was passed when a 1d array was expected. Please change the shape of y to (n_samples,), for example using ravel().\n",
      "  estimator.fit(X_train, y_train, **fit_params)\n"
     ]
    },
    {
     "name": "stdout",
     "output_type": "stream",
     "text": [
      "building tree 1 of 37building tree 2 of 37building tree 3 of 37building tree 5 of 37building tree 4 of 37building tree 6 of 37building tree 7 of 37building tree 8 of 37\n",
      "\n",
      "\n",
      "\n",
      "\n",
      "\n",
      "\n",
      "\n",
      "building tree 9 of 37\n",
      "building tree 10 of 37\n"
     ]
    },
    {
     "name": "stderr",
     "output_type": "stream",
     "text": [
      "[Parallel(n_jobs=-1)]: Done   2 tasks      | elapsed:    0.6s\n"
     ]
    },
    {
     "name": "stdout",
     "output_type": "stream",
     "text": [
      "building tree 11 of 37\n",
      "building tree 12 of 37\n",
      "building tree 13 of 37\n",
      "building tree 14 of 37\n",
      "building tree 15 of 37\n",
      "building tree 16 of 37\n",
      "building tree 17 of 37\n"
     ]
    },
    {
     "name": "stderr",
     "output_type": "stream",
     "text": [
      "[Parallel(n_jobs=-1)]: Done   9 tasks      | elapsed:    1.2s\n"
     ]
    },
    {
     "name": "stdout",
     "output_type": "stream",
     "text": [
      "building tree 18 of 37\n",
      "building tree 19 of 37\n",
      "building tree 20 of 37\n",
      "building tree 21 of 37\n",
      "building tree 22 of 37\n",
      "building tree 23 of 37\n",
      "building tree 24 of 37\n",
      "building tree 25 of 37\n"
     ]
    },
    {
     "name": "stderr",
     "output_type": "stream",
     "text": [
      "[Parallel(n_jobs=-1)]: Done  16 tasks      | elapsed:    1.9s\n"
     ]
    },
    {
     "name": "stdout",
     "output_type": "stream",
     "text": [
      "building tree 26 of 37\n",
      "building tree 27 of 37\n",
      "building tree 28 of 37\n",
      "building tree 29 of 37\n",
      "building tree 30 of 37\n",
      "building tree 31 of 37\n",
      "building tree 32 of 37\n",
      "building tree 33 of 37\n",
      "building tree 34 of 37\n",
      "building tree 35 of 37\n"
     ]
    },
    {
     "name": "stderr",
     "output_type": "stream",
     "text": [
      "[Parallel(n_jobs=-1)]: Done  26 out of  37 | elapsed:    2.9s remaining:    1.2s\n"
     ]
    },
    {
     "name": "stdout",
     "output_type": "stream",
     "text": [
      "building tree 36 of 37\n",
      "building tree 37 of 37\n"
     ]
    },
    {
     "name": "stderr",
     "output_type": "stream",
     "text": [
      "[Parallel(n_jobs=-1)]: Done  30 out of  37 | elapsed:    3.5s remaining:    0.8s\n",
      "[Parallel(n_jobs=-1)]: Done  34 out of  37 | elapsed:    3.8s remaining:    0.3s\n",
      "[Parallel(n_jobs=-1)]: Done  37 out of  37 | elapsed:    3.9s finished\n",
      "[Parallel(n_jobs=8)]: Done   2 tasks      | elapsed:    0.0s\n",
      "[Parallel(n_jobs=8)]: Done   9 tasks      | elapsed:    0.1s\n",
      "[Parallel(n_jobs=8)]: Done  16 tasks      | elapsed:    0.1s\n",
      "[Parallel(n_jobs=8)]: Done  26 out of  37 | elapsed:    0.2s remaining:    0.1s\n",
      "[Parallel(n_jobs=8)]: Done  30 out of  37 | elapsed:    0.3s remaining:    0.1s\n",
      "[Parallel(n_jobs=8)]: Done  34 out of  37 | elapsed:    0.3s remaining:    0.0s\n",
      "[Parallel(n_jobs=8)]: Done  37 out of  37 | elapsed:    0.3s finished\n",
      "[Parallel(n_jobs=8)]: Done   2 tasks      | elapsed:    0.1s\n",
      "[Parallel(n_jobs=8)]: Done   9 tasks      | elapsed:    0.2s\n",
      "[Parallel(n_jobs=8)]: Done  16 tasks      | elapsed:    0.3s\n",
      "[Parallel(n_jobs=8)]: Done  26 out of  37 | elapsed:    0.5s remaining:    0.2s\n",
      "[Parallel(n_jobs=8)]: Done  30 out of  37 | elapsed:    0.5s remaining:    0.1s\n",
      "[Parallel(n_jobs=8)]: Done  34 out of  37 | elapsed:    0.6s remaining:    0.1s\n",
      "[Parallel(n_jobs=8)]: Done  37 out of  37 | elapsed:    0.6s finished\n",
      "/home/justin/anaconda3/lib/python3.6/site-packages/sklearn/model_selection/_validation.py:458: DataConversionWarning: A column-vector y was passed when a 1d array was expected. Please change the shape of y to (n_samples,), for example using ravel().\n",
      "  estimator.fit(X_train, y_train, **fit_params)\n"
     ]
    },
    {
     "name": "stdout",
     "output_type": "stream",
     "text": [
      "building tree 3 of 40building tree 1 of 40building tree 4 of 40building tree 2 of 40building tree 6 of 40building tree 7 of 40building tree 5 of 40\n",
      "building tree 8 of 40\n",
      "\n",
      "\n",
      "\n",
      "\n",
      "\n",
      "\n",
      "building tree 9 of 40\n"
     ]
    },
    {
     "name": "stderr",
     "output_type": "stream",
     "text": [
      "[Parallel(n_jobs=-1)]: Done   2 tasks      | elapsed:   32.7s\n"
     ]
    },
    {
     "name": "stdout",
     "output_type": "stream",
     "text": [
      "building tree 10 of 40\n",
      "building tree 11 of 40\n",
      "building tree 12 of 40\n",
      "building tree 13 of 40\n",
      "building tree 14 of 40\n",
      "building tree 15 of 40\n",
      "building tree 16 of 40\n"
     ]
    },
    {
     "name": "stderr",
     "output_type": "stream",
     "text": [
      "[Parallel(n_jobs=-1)]: Done   9 tasks      | elapsed:  1.1min\n"
     ]
    },
    {
     "name": "stdout",
     "output_type": "stream",
     "text": [
      "building tree 17 of 40\n",
      "building tree 18 of 40\n",
      "building tree 19 of 40\n",
      "building tree 20 of 40\n",
      "building tree 21 of 40\n",
      "building tree 22 of 40\n",
      "building tree 23 of 40\n"
     ]
    },
    {
     "name": "stderr",
     "output_type": "stream",
     "text": [
      "[Parallel(n_jobs=-1)]: Done  16 tasks      | elapsed:  1.2min\n"
     ]
    },
    {
     "name": "stdout",
     "output_type": "stream",
     "text": [
      "building tree 24 of 40\n",
      "building tree 25 of 40\n",
      "building tree 26 of 40\n",
      "building tree 27 of 40\n",
      "building tree 28 of 40\n",
      "building tree 29 of 40\n",
      "building tree 30 of 40\n",
      "building tree 31 of 40\n",
      "building tree 32 of 40\n"
     ]
    },
    {
     "name": "stderr",
     "output_type": "stream",
     "text": [
      "[Parallel(n_jobs=-1)]: Done  25 tasks      | elapsed:  2.2min\n"
     ]
    },
    {
     "name": "stdout",
     "output_type": "stream",
     "text": [
      "building tree 33 of 40\n",
      "building tree 34 of 40\n",
      "building tree 35 of 40\n",
      "building tree 36 of 40\n",
      "building tree 37 of 40\n"
     ]
    },
    {
     "name": "stderr",
     "output_type": "stream",
     "text": [
      "[Parallel(n_jobs=-1)]: Done  30 out of  40 | elapsed:  2.3min remaining:   46.0s\n"
     ]
    },
    {
     "name": "stdout",
     "output_type": "stream",
     "text": [
      "building tree 38 of 40\n",
      "building tree 39 of 40\n",
      "building tree 40 of 40\n"
     ]
    },
    {
     "name": "stderr",
     "output_type": "stream",
     "text": [
      "[Parallel(n_jobs=-1)]: Done  35 out of  40 | elapsed:  2.8min remaining:   24.0s\n",
      "[Parallel(n_jobs=-1)]: Done  40 out of  40 | elapsed:  2.9min remaining:    0.0s\n",
      "[Parallel(n_jobs=-1)]: Done  40 out of  40 | elapsed:  2.9min finished\n",
      "[Parallel(n_jobs=8)]: Done   2 tasks      | elapsed:    0.1s\n",
      "[Parallel(n_jobs=8)]: Done   9 tasks      | elapsed:    0.2s\n",
      "[Parallel(n_jobs=8)]: Done  16 tasks      | elapsed:    0.2s\n",
      "[Parallel(n_jobs=8)]: Done  25 tasks      | elapsed:    0.3s\n",
      "[Parallel(n_jobs=8)]: Done  30 out of  40 | elapsed:    0.4s remaining:    0.1s\n",
      "[Parallel(n_jobs=8)]: Done  35 out of  40 | elapsed:    0.5s remaining:    0.1s\n",
      "[Parallel(n_jobs=8)]: Done  40 out of  40 | elapsed:    0.5s remaining:    0.0s\n",
      "[Parallel(n_jobs=8)]: Done  40 out of  40 | elapsed:    0.5s finished\n",
      "[Parallel(n_jobs=8)]: Done   2 tasks      | elapsed:    0.1s\n",
      "[Parallel(n_jobs=8)]: Done   9 tasks      | elapsed:    0.3s\n",
      "[Parallel(n_jobs=8)]: Done  16 tasks      | elapsed:    0.4s\n",
      "[Parallel(n_jobs=8)]: Done  25 tasks      | elapsed:    0.7s\n",
      "[Parallel(n_jobs=8)]: Done  30 out of  40 | elapsed:    0.8s remaining:    0.3s\n",
      "[Parallel(n_jobs=8)]: Done  35 out of  40 | elapsed:    0.9s remaining:    0.1s\n",
      "[Parallel(n_jobs=8)]: Done  40 out of  40 | elapsed:    1.0s remaining:    0.0s\n",
      "[Parallel(n_jobs=8)]: Done  40 out of  40 | elapsed:    1.0s finished\n",
      "/home/justin/anaconda3/lib/python3.6/site-packages/sklearn/model_selection/_validation.py:458: DataConversionWarning: A column-vector y was passed when a 1d array was expected. Please change the shape of y to (n_samples,), for example using ravel().\n",
      "  estimator.fit(X_train, y_train, **fit_params)\n"
     ]
    },
    {
     "name": "stdout",
     "output_type": "stream",
     "text": [
      "building tree 2 of 40\n",
      "building tree 3 of 40building tree 5 of 40building tree 1 of 40building tree 4 of 40building tree 6 of 40\n",
      "\n",
      "\n",
      "\n",
      "\n",
      "building tree 7 of 40\n",
      "building tree 8 of 40\n",
      "building tree 9 of 40\n"
     ]
    },
    {
     "name": "stderr",
     "output_type": "stream",
     "text": [
      "[Parallel(n_jobs=-1)]: Done   2 tasks      | elapsed:   31.5s\n"
     ]
    },
    {
     "name": "stdout",
     "output_type": "stream",
     "text": [
      "building tree 10 of 40\n",
      "building tree 11 of 40\n",
      "building tree 12 of 40\n",
      "building tree 13 of 40\n",
      "building tree 14 of 40\n",
      "building tree 15 of 40\n",
      "building tree 16 of 40\n"
     ]
    },
    {
     "name": "stderr",
     "output_type": "stream",
     "text": [
      "[Parallel(n_jobs=-1)]: Done   9 tasks      | elapsed:  1.0min\n"
     ]
    },
    {
     "name": "stdout",
     "output_type": "stream",
     "text": [
      "building tree 17 of 40\n",
      "building tree 18 of 40\n",
      "building tree 19 of 40\n",
      "building tree 20 of 40\n",
      "building tree 21 of 40\n",
      "building tree 22 of 40\n",
      "building tree 23 of 40\n"
     ]
    },
    {
     "name": "stderr",
     "output_type": "stream",
     "text": [
      "[Parallel(n_jobs=-1)]: Done  16 tasks      | elapsed:  1.1min\n"
     ]
    },
    {
     "name": "stdout",
     "output_type": "stream",
     "text": [
      "building tree 24 of 40\n",
      "building tree 25 of 40\n",
      "building tree 26 of 40\n",
      "building tree 27 of 40\n",
      "building tree 28 of 40\n",
      "building tree 29 of 40\n",
      "building tree 30 of 40\n",
      "building tree 31 of 40\n",
      "building tree 32 of 40\n"
     ]
    },
    {
     "name": "stderr",
     "output_type": "stream",
     "text": [
      "[Parallel(n_jobs=-1)]: Done  25 tasks      | elapsed:  2.1min\n"
     ]
    },
    {
     "name": "stdout",
     "output_type": "stream",
     "text": [
      "building tree 33 of 40\n",
      "building tree 34 of 40\n",
      "building tree 35 of 40\n",
      "building tree 36 of 40\n",
      "building tree 37 of 40\n"
     ]
    },
    {
     "name": "stderr",
     "output_type": "stream",
     "text": [
      "[Parallel(n_jobs=-1)]: Done  30 out of  40 | elapsed:  2.1min remaining:   42.8s\n"
     ]
    },
    {
     "name": "stdout",
     "output_type": "stream",
     "text": [
      "building tree 38 of 40\n",
      "building tree 39 of 40\n",
      "building tree 40 of 40\n"
     ]
    },
    {
     "name": "stderr",
     "output_type": "stream",
     "text": [
      "[Parallel(n_jobs=-1)]: Done  35 out of  40 | elapsed:  2.6min remaining:   22.7s\n",
      "[Parallel(n_jobs=-1)]: Done  40 out of  40 | elapsed:  2.7min remaining:    0.0s\n",
      "[Parallel(n_jobs=-1)]: Done  40 out of  40 | elapsed:  2.7min finished\n",
      "[Parallel(n_jobs=8)]: Done   2 tasks      | elapsed:    0.1s\n",
      "[Parallel(n_jobs=8)]: Done   9 tasks      | elapsed:    0.1s\n",
      "[Parallel(n_jobs=8)]: Done  16 tasks      | elapsed:    0.2s\n",
      "[Parallel(n_jobs=8)]: Done  25 tasks      | elapsed:    0.3s\n",
      "[Parallel(n_jobs=8)]: Done  30 out of  40 | elapsed:    0.4s remaining:    0.1s\n",
      "[Parallel(n_jobs=8)]: Done  35 out of  40 | elapsed:    0.4s remaining:    0.1s\n",
      "[Parallel(n_jobs=8)]: Done  40 out of  40 | elapsed:    0.5s remaining:    0.0s\n",
      "[Parallel(n_jobs=8)]: Done  40 out of  40 | elapsed:    0.5s finished\n",
      "[Parallel(n_jobs=8)]: Done   2 tasks      | elapsed:    0.1s\n",
      "[Parallel(n_jobs=8)]: Done   9 tasks      | elapsed:    0.3s\n",
      "[Parallel(n_jobs=8)]: Done  16 tasks      | elapsed:    0.4s\n",
      "[Parallel(n_jobs=8)]: Done  25 tasks      | elapsed:    0.7s\n",
      "[Parallel(n_jobs=8)]: Done  30 out of  40 | elapsed:    0.8s remaining:    0.3s\n",
      "[Parallel(n_jobs=8)]: Done  35 out of  40 | elapsed:    0.9s remaining:    0.1s\n",
      "[Parallel(n_jobs=8)]: Done  40 out of  40 | elapsed:    1.0s remaining:    0.0s\n",
      "[Parallel(n_jobs=8)]: Done  40 out of  40 | elapsed:    1.0s finished\n",
      "/home/justin/anaconda3/lib/python3.6/site-packages/sklearn/model_selection/_validation.py:458: DataConversionWarning: A column-vector y was passed when a 1d array was expected. Please change the shape of y to (n_samples,), for example using ravel().\n",
      "  estimator.fit(X_train, y_train, **fit_params)\n"
     ]
    },
    {
     "name": "stdout",
     "output_type": "stream",
     "text": [
      "building tree 3 of 40\n",
      "building tree 1 of 40building tree 2 of 40building tree 5 of 40building tree 6 of 40building tree 7 of 40building tree 4 of 40building tree 8 of 40\n",
      "\n",
      "\n",
      "\n",
      "\n",
      "\n",
      "\n",
      "building tree 9 of 40\n"
     ]
    },
    {
     "name": "stderr",
     "output_type": "stream",
     "text": [
      "[Parallel(n_jobs=-1)]: Done   2 tasks      | elapsed:   29.5s\n"
     ]
    },
    {
     "name": "stdout",
     "output_type": "stream",
     "text": [
      "building tree 10 of 40\n",
      "building tree 11 of 40\n",
      "building tree 12 of 40\n",
      "building tree 13 of 40\n",
      "building tree 14 of 40\n",
      "building tree 15 of 40\n",
      "building tree 16 of 40\n"
     ]
    },
    {
     "name": "stderr",
     "output_type": "stream",
     "text": [
      "[Parallel(n_jobs=-1)]: Done   9 tasks      | elapsed:   57.5s\n"
     ]
    },
    {
     "name": "stdout",
     "output_type": "stream",
     "text": [
      "building tree 17 of 40\n",
      "building tree 18 of 40\n",
      "building tree 19 of 40\n",
      "building tree 20 of 40\n",
      "building tree 21 of 40\n",
      "building tree 22 of 40\n",
      "building tree 23 of 40\n"
     ]
    },
    {
     "name": "stderr",
     "output_type": "stream",
     "text": [
      "[Parallel(n_jobs=-1)]: Done  16 tasks      | elapsed:  1.1min\n"
     ]
    },
    {
     "name": "stdout",
     "output_type": "stream",
     "text": [
      "building tree 24 of 40\n",
      "building tree 25 of 40\n",
      "building tree 26 of 40\n",
      "building tree 27 of 40\n",
      "building tree 28 of 40\n",
      "building tree 29 of 40\n",
      "building tree 30 of 40\n",
      "building tree 31 of 40\n",
      "building tree 32 of 40\n"
     ]
    },
    {
     "name": "stderr",
     "output_type": "stream",
     "text": [
      "[Parallel(n_jobs=-1)]: Done  25 tasks      | elapsed:  1.9min\n"
     ]
    },
    {
     "name": "stdout",
     "output_type": "stream",
     "text": [
      "building tree 33 of 40\n",
      "building tree 34 of 40\n",
      "building tree 35 of 40\n",
      "building tree 36 of 40\n",
      "building tree 37 of 40\n"
     ]
    },
    {
     "name": "stderr",
     "output_type": "stream",
     "text": [
      "[Parallel(n_jobs=-1)]: Done  30 out of  40 | elapsed:  2.1min remaining:   41.1s\n"
     ]
    },
    {
     "name": "stdout",
     "output_type": "stream",
     "text": [
      "building tree 38 of 40\n",
      "building tree 39 of 40\n",
      "building tree 40 of 40\n"
     ]
    },
    {
     "name": "stderr",
     "output_type": "stream",
     "text": [
      "[Parallel(n_jobs=-1)]: Done  35 out of  40 | elapsed:  2.5min remaining:   21.3s\n",
      "[Parallel(n_jobs=-1)]: Done  40 out of  40 | elapsed:  2.5min remaining:    0.0s\n",
      "[Parallel(n_jobs=-1)]: Done  40 out of  40 | elapsed:  2.5min finished\n",
      "[Parallel(n_jobs=8)]: Done   2 tasks      | elapsed:    0.1s\n",
      "[Parallel(n_jobs=8)]: Done   9 tasks      | elapsed:    0.1s\n",
      "[Parallel(n_jobs=8)]: Done  16 tasks      | elapsed:    0.2s\n",
      "[Parallel(n_jobs=8)]: Done  25 tasks      | elapsed:    0.3s\n",
      "[Parallel(n_jobs=8)]: Done  30 out of  40 | elapsed:    0.4s remaining:    0.1s\n",
      "[Parallel(n_jobs=8)]: Done  35 out of  40 | elapsed:    0.4s remaining:    0.1s\n",
      "[Parallel(n_jobs=8)]: Done  40 out of  40 | elapsed:    0.5s remaining:    0.0s\n",
      "[Parallel(n_jobs=8)]: Done  40 out of  40 | elapsed:    0.5s finished\n",
      "[Parallel(n_jobs=8)]: Done   2 tasks      | elapsed:    0.2s\n",
      "[Parallel(n_jobs=8)]: Done   9 tasks      | elapsed:    0.3s\n",
      "[Parallel(n_jobs=8)]: Done  16 tasks      | elapsed:    0.4s\n",
      "[Parallel(n_jobs=8)]: Done  25 tasks      | elapsed:    0.6s\n",
      "[Parallel(n_jobs=8)]: Done  30 out of  40 | elapsed:    0.8s remaining:    0.3s\n",
      "[Parallel(n_jobs=8)]: Done  35 out of  40 | elapsed:    0.8s remaining:    0.1s\n",
      "[Parallel(n_jobs=8)]: Done  40 out of  40 | elapsed:    0.9s remaining:    0.0s\n",
      "[Parallel(n_jobs=8)]: Done  40 out of  40 | elapsed:    0.9s finished\n",
      "/home/justin/anaconda3/lib/python3.6/site-packages/sklearn/model_selection/_validation.py:458: DataConversionWarning: A column-vector y was passed when a 1d array was expected. Please change the shape of y to (n_samples,), for example using ravel().\n",
      "  estimator.fit(X_train, y_train, **fit_params)\n"
     ]
    },
    {
     "name": "stdout",
     "output_type": "stream",
     "text": [
      "building tree 2 of 33building tree 1 of 33building tree 4 of 33building tree 5 of 33building tree 3 of 33building tree 6 of 33\n",
      "building tree 7 of 33\n",
      "\n",
      "\n",
      "\n",
      "\n",
      "\n",
      "building tree 8 of 33\n",
      "building tree 9 of 33\n",
      "building tree 10 of 33\n",
      "building tree 11 of 33\n"
     ]
    },
    {
     "name": "stderr",
     "output_type": "stream",
     "text": [
      "[Parallel(n_jobs=-1)]: Done   2 tasks      | elapsed:   46.4s\n"
     ]
    },
    {
     "name": "stdout",
     "output_type": "stream",
     "text": [
      "building tree 12 of 33\n",
      "building tree 13 of 33\n",
      "building tree 14 of 33\n",
      "building tree 15 of 33\n",
      "building tree 16 of 33\n"
     ]
    },
    {
     "name": "stderr",
     "output_type": "stream",
     "text": [
      "[Parallel(n_jobs=-1)]: Done   9 tasks      | elapsed:  1.6min\n"
     ]
    },
    {
     "name": "stdout",
     "output_type": "stream",
     "text": [
      "building tree 17 of 33\n",
      "building tree 18 of 33\n",
      "building tree 19 of 33\n",
      "building tree 20 of 33\n",
      "building tree 21 of 33\n",
      "building tree 22 of 33\n",
      "building tree 23 of 33\n"
     ]
    },
    {
     "name": "stderr",
     "output_type": "stream",
     "text": [
      "[Parallel(n_jobs=-1)]: Done  16 tasks      | elapsed:  1.6min\n"
     ]
    },
    {
     "name": "stdout",
     "output_type": "stream",
     "text": [
      "building tree 24 of 33\n",
      "building tree 25 of 33\n",
      "building tree 26 of 33\n",
      "building tree 27 of 33\n",
      "building tree 28 of 33\n",
      "building tree 29 of 33\n"
     ]
    },
    {
     "name": "stderr",
     "output_type": "stream",
     "text": [
      "[Parallel(n_jobs=-1)]: Done  22 out of  33 | elapsed:  2.4min remaining:  1.2min\n"
     ]
    },
    {
     "name": "stdout",
     "output_type": "stream",
     "text": [
      "building tree 30 of 33\n",
      "building tree 31 of 33\n",
      "building tree 32 of 33\n",
      "building tree 33 of 33\n"
     ]
    },
    {
     "name": "stderr",
     "output_type": "stream",
     "text": [
      "[Parallel(n_jobs=-1)]: Done  26 out of  33 | elapsed:  3.1min remaining:   50.6s\n",
      "[Parallel(n_jobs=-1)]: Done  30 out of  33 | elapsed:  3.2min remaining:   18.9s\n",
      "[Parallel(n_jobs=-1)]: Done  33 out of  33 | elapsed:  3.6min finished\n",
      "[Parallel(n_jobs=8)]: Done   2 tasks      | elapsed:    0.1s\n",
      "[Parallel(n_jobs=8)]: Done   9 tasks      | elapsed:    0.3s\n",
      "[Parallel(n_jobs=8)]: Done  16 tasks      | elapsed:    0.5s\n",
      "[Parallel(n_jobs=8)]: Done  22 out of  33 | elapsed:    0.6s remaining:    0.3s\n",
      "[Parallel(n_jobs=8)]: Done  26 out of  33 | elapsed:    0.7s remaining:    0.2s\n",
      "[Parallel(n_jobs=8)]: Done  30 out of  33 | elapsed:    0.8s remaining:    0.1s\n",
      "[Parallel(n_jobs=8)]: Done  33 out of  33 | elapsed:    0.8s finished\n",
      "[Parallel(n_jobs=8)]: Done   2 tasks      | elapsed:    0.2s\n",
      "[Parallel(n_jobs=8)]: Done   9 tasks      | elapsed:    0.5s\n",
      "[Parallel(n_jobs=8)]: Done  16 tasks      | elapsed:    0.7s\n",
      "[Parallel(n_jobs=8)]: Done  22 out of  33 | elapsed:    1.0s remaining:    0.5s\n",
      "[Parallel(n_jobs=8)]: Done  26 out of  33 | elapsed:    1.3s remaining:    0.3s\n",
      "[Parallel(n_jobs=8)]: Done  30 out of  33 | elapsed:    1.3s remaining:    0.1s\n",
      "[Parallel(n_jobs=8)]: Done  33 out of  33 | elapsed:    1.4s finished\n",
      "/home/justin/anaconda3/lib/python3.6/site-packages/sklearn/model_selection/_validation.py:458: DataConversionWarning: A column-vector y was passed when a 1d array was expected. Please change the shape of y to (n_samples,), for example using ravel().\n",
      "  estimator.fit(X_train, y_train, **fit_params)\n"
     ]
    },
    {
     "name": "stdout",
     "output_type": "stream",
     "text": [
      "building tree 6 of 33\n",
      "building tree 4 of 33building tree 2 of 33building tree 5 of 33building tree 1 of 33building tree 7 of 33building tree 8 of 33\n",
      "\n",
      "\n",
      "\n",
      "\n",
      "\n",
      "building tree 3 of 33\n",
      "building tree 9 of 33\n"
     ]
    },
    {
     "name": "stderr",
     "output_type": "stream",
     "text": [
      "[Parallel(n_jobs=-1)]: Done   2 tasks      | elapsed:   42.6s\n"
     ]
    },
    {
     "name": "stdout",
     "output_type": "stream",
     "text": [
      "building tree 10 of 33\n",
      "building tree 11 of 33\n",
      "building tree 12 of 33\n",
      "building tree 13 of 33\n",
      "building tree 14 of 33\n",
      "building tree 15 of 33\n",
      "building tree 16 of 33\n"
     ]
    },
    {
     "name": "stderr",
     "output_type": "stream",
     "text": [
      "[Parallel(n_jobs=-1)]: Done   9 tasks      | elapsed:  1.4min\n"
     ]
    },
    {
     "name": "stdout",
     "output_type": "stream",
     "text": [
      "building tree 17 of 33\n",
      "building tree 18 of 33\n",
      "building tree 19 of 33\n",
      "building tree 20 of 33\n",
      "building tree 21 of 33\n",
      "building tree 22 of 33\n",
      "building tree 23 of 33\n"
     ]
    },
    {
     "name": "stderr",
     "output_type": "stream",
     "text": [
      "[Parallel(n_jobs=-1)]: Done  16 tasks      | elapsed:  1.5min\n"
     ]
    },
    {
     "name": "stdout",
     "output_type": "stream",
     "text": [
      "building tree 24 of 33\n",
      "building tree 25 of 33\n",
      "building tree 26 of 33\n",
      "building tree 27 of 33\n",
      "building tree 28 of 33\n",
      "building tree 29 of 33\n"
     ]
    },
    {
     "name": "stderr",
     "output_type": "stream",
     "text": [
      "[Parallel(n_jobs=-1)]: Done  22 out of  33 | elapsed:  2.2min remaining:  1.1min\n"
     ]
    },
    {
     "name": "stdout",
     "output_type": "stream",
     "text": [
      "building tree 30 of 33\n",
      "building tree 31 of 33\n",
      "building tree 32 of 33\n",
      "building tree 33 of 33\n"
     ]
    },
    {
     "name": "stderr",
     "output_type": "stream",
     "text": [
      "[Parallel(n_jobs=-1)]: Done  26 out of  33 | elapsed:  2.9min remaining:   47.0s\n",
      "[Parallel(n_jobs=-1)]: Done  30 out of  33 | elapsed:  2.9min remaining:   17.6s\n",
      "[Parallel(n_jobs=-1)]: Done  33 out of  33 | elapsed:  3.3min finished\n",
      "/home/justin/anaconda3/lib/python3.6/site-packages/sklearn/ensemble/forest.py:724: UserWarning: Some inputs do not have OOB scores. This probably means too few trees were used to compute any reliable oob estimates.\n",
      "  warn(\"Some inputs do not have OOB scores. \"\n",
      "[Parallel(n_jobs=8)]: Done   2 tasks      | elapsed:    0.1s\n",
      "[Parallel(n_jobs=8)]: Done   9 tasks      | elapsed:    0.3s\n",
      "[Parallel(n_jobs=8)]: Done  16 tasks      | elapsed:    0.4s\n",
      "[Parallel(n_jobs=8)]: Done  22 out of  33 | elapsed:    0.5s remaining:    0.3s\n",
      "[Parallel(n_jobs=8)]: Done  26 out of  33 | elapsed:    0.6s remaining:    0.2s\n",
      "[Parallel(n_jobs=8)]: Done  30 out of  33 | elapsed:    0.7s remaining:    0.1s\n",
      "[Parallel(n_jobs=8)]: Done  33 out of  33 | elapsed:    0.7s finished\n",
      "[Parallel(n_jobs=8)]: Done   2 tasks      | elapsed:    0.3s\n",
      "[Parallel(n_jobs=8)]: Done   9 tasks      | elapsed:    0.6s\n",
      "[Parallel(n_jobs=8)]: Done  16 tasks      | elapsed:    0.9s\n",
      "[Parallel(n_jobs=8)]: Done  22 out of  33 | elapsed:    1.1s remaining:    0.6s\n",
      "[Parallel(n_jobs=8)]: Done  26 out of  33 | elapsed:    1.3s remaining:    0.4s\n",
      "[Parallel(n_jobs=8)]: Done  30 out of  33 | elapsed:    1.4s remaining:    0.1s\n",
      "[Parallel(n_jobs=8)]: Done  33 out of  33 | elapsed:    1.6s finished\n",
      "/home/justin/anaconda3/lib/python3.6/site-packages/sklearn/model_selection/_validation.py:458: DataConversionWarning: A column-vector y was passed when a 1d array was expected. Please change the shape of y to (n_samples,), for example using ravel().\n",
      "  estimator.fit(X_train, y_train, **fit_params)\n"
     ]
    },
    {
     "name": "stdout",
     "output_type": "stream",
     "text": [
      "building tree 3 of 33building tree 1 of 33building tree 4 of 33building tree 6 of 33\n",
      "building tree 5 of 33building tree 2 of 33building tree 7 of 33\n",
      "\n",
      "\n",
      "\n",
      "\n",
      "building tree 8 of 33\n",
      "\n",
      "building tree 9 of 33\n"
     ]
    },
    {
     "name": "stderr",
     "output_type": "stream",
     "text": [
      "[Parallel(n_jobs=-1)]: Done   2 tasks      | elapsed:   42.5s\n"
     ]
    },
    {
     "name": "stdout",
     "output_type": "stream",
     "text": [
      "building tree 10 of 33\n",
      "building tree 11 of 33\n",
      "building tree 12 of 33\n",
      "building tree 13 of 33\n",
      "building tree 14 of 33\n",
      "building tree 15 of 33\n",
      "building tree 16 of 33\n"
     ]
    },
    {
     "name": "stderr",
     "output_type": "stream",
     "text": [
      "[Parallel(n_jobs=-1)]: Done   9 tasks      | elapsed:  1.4min\n"
     ]
    },
    {
     "name": "stdout",
     "output_type": "stream",
     "text": [
      "building tree 17 of 33\n",
      "building tree 18 of 33\n",
      "building tree 19 of 33\n",
      "building tree 20 of 33\n",
      "building tree 21 of 33\n",
      "building tree 22 of 33\n",
      "building tree 23 of 33\n"
     ]
    },
    {
     "name": "stderr",
     "output_type": "stream",
     "text": [
      "[Parallel(n_jobs=-1)]: Done  16 tasks      | elapsed:  1.5min\n"
     ]
    },
    {
     "name": "stdout",
     "output_type": "stream",
     "text": [
      "building tree 24 of 33\n",
      "building tree 25 of 33\n",
      "building tree 26 of 33\n",
      "building tree 27 of 33\n",
      "building tree 28 of 33\n",
      "building tree 29 of 33\n",
      "building tree 30 of 33\n"
     ]
    },
    {
     "name": "stderr",
     "output_type": "stream",
     "text": [
      "[Parallel(n_jobs=-1)]: Done  22 out of  33 | elapsed:  2.2min remaining:  1.1min\n"
     ]
    },
    {
     "name": "stdout",
     "output_type": "stream",
     "text": [
      "building tree 31 of 33\n",
      "building tree 32 of 33\n",
      "building tree 33 of 33\n"
     ]
    },
    {
     "name": "stderr",
     "output_type": "stream",
     "text": [
      "[Parallel(n_jobs=-1)]: Done  26 out of  33 | elapsed:  2.9min remaining:   46.7s\n",
      "[Parallel(n_jobs=-1)]: Done  30 out of  33 | elapsed:  3.0min remaining:   17.7s\n",
      "[Parallel(n_jobs=-1)]: Done  33 out of  33 | elapsed:  3.3min finished\n",
      "[Parallel(n_jobs=8)]: Done   2 tasks      | elapsed:    0.2s\n",
      "[Parallel(n_jobs=8)]: Done   9 tasks      | elapsed:    0.3s\n",
      "[Parallel(n_jobs=8)]: Done  16 tasks      | elapsed:    0.5s\n",
      "[Parallel(n_jobs=8)]: Done  22 out of  33 | elapsed:    0.6s remaining:    0.3s\n",
      "[Parallel(n_jobs=8)]: Done  26 out of  33 | elapsed:    0.7s remaining:    0.2s\n",
      "[Parallel(n_jobs=8)]: Done  30 out of  33 | elapsed:    0.8s remaining:    0.1s\n",
      "[Parallel(n_jobs=8)]: Done  33 out of  33 | elapsed:    0.8s finished\n",
      "[Parallel(n_jobs=8)]: Done   2 tasks      | elapsed:    0.3s\n",
      "[Parallel(n_jobs=8)]: Done   9 tasks      | elapsed:    0.6s\n",
      "[Parallel(n_jobs=8)]: Done  16 tasks      | elapsed:    0.9s\n",
      "[Parallel(n_jobs=8)]: Done  22 out of  33 | elapsed:    1.2s remaining:    0.6s\n",
      "[Parallel(n_jobs=8)]: Done  26 out of  33 | elapsed:    1.4s remaining:    0.4s\n",
      "[Parallel(n_jobs=8)]: Done  30 out of  33 | elapsed:    1.6s remaining:    0.2s\n",
      "[Parallel(n_jobs=8)]: Done  33 out of  33 | elapsed:    1.6s finished\n",
      "/home/justin/anaconda3/lib/python3.6/site-packages/sklearn/model_selection/_validation.py:458: DataConversionWarning: A column-vector y was passed when a 1d array was expected. Please change the shape of y to (n_samples,), for example using ravel().\n",
      "  estimator.fit(X_train, y_train, **fit_params)\n"
     ]
    },
    {
     "name": "stdout",
     "output_type": "stream",
     "text": [
      "building tree 2 of 117building tree 6 of 117building tree 3 of 117building tree 4 of 117building tree 5 of 117building tree 1 of 117building tree 7 of 117building tree 8 of 117\n",
      "\n",
      "\n",
      "\n",
      "\n",
      "\n",
      "\n",
      "\n",
      "building tree 9 of 117\n",
      "building tree 10 of 117\n"
     ]
    },
    {
     "name": "stderr",
     "output_type": "stream",
     "text": [
      "[Parallel(n_jobs=-1)]: Done   2 tasks      | elapsed:   20.6s\n"
     ]
    },
    {
     "name": "stdout",
     "output_type": "stream",
     "text": [
      "building tree 11 of 117\n",
      "building tree 12 of 117\n",
      "building tree 13 of 117\n",
      "building tree 14 of 117\n",
      "building tree 15 of 117\n",
      "building tree 16 of 117\n"
     ]
    },
    {
     "name": "stderr",
     "output_type": "stream",
     "text": [
      "[Parallel(n_jobs=-1)]: Done   9 tasks      | elapsed:   32.0s\n"
     ]
    },
    {
     "name": "stdout",
     "output_type": "stream",
     "text": [
      "building tree 17 of 117\n",
      "building tree 18 of 117\n",
      "building tree 19 of 117\n",
      "building tree 20 of 117\n",
      "building tree 21 of 117\n",
      "building tree 22 of 117\n",
      "building tree 23 of 117\n",
      "building tree 24 of 117\n"
     ]
    },
    {
     "name": "stderr",
     "output_type": "stream",
     "text": [
      "[Parallel(n_jobs=-1)]: Done  16 tasks      | elapsed:   43.2s\n"
     ]
    },
    {
     "name": "stdout",
     "output_type": "stream",
     "text": [
      "building tree 25 of 117\n",
      "building tree 26 of 117\n",
      "building tree 27 of 117\n",
      "building tree 28 of 117\n",
      "building tree 29 of 117\n",
      "building tree 30 of 117\n",
      "building tree 31 of 117\n",
      "building tree 32 of 117\n"
     ]
    },
    {
     "name": "stderr",
     "output_type": "stream",
     "text": [
      "[Parallel(n_jobs=-1)]: Done  25 tasks      | elapsed:  1.2min\n"
     ]
    },
    {
     "name": "stdout",
     "output_type": "stream",
     "text": [
      "building tree 33 of 117\n",
      "building tree 34 of 117\n",
      "building tree 35 of 117\n",
      "building tree 36 of 117\n",
      "building tree 37 of 117\n",
      "building tree 38 of 117\n",
      "building tree 39 of 117\n",
      "building tree 40 of 117\n",
      "building tree 41 of 117\n"
     ]
    },
    {
     "name": "stderr",
     "output_type": "stream",
     "text": [
      "[Parallel(n_jobs=-1)]: Done  34 tasks      | elapsed:  1.6min\n"
     ]
    },
    {
     "name": "stdout",
     "output_type": "stream",
     "text": [
      "building tree 42 of 117\n",
      "building tree 43 of 117\n",
      "building tree 44 of 117\n",
      "building tree 45 of 117\n",
      "building tree 46 of 117\n",
      "building tree 47 of 117\n",
      "building tree 48 of 117\n",
      "building tree 49 of 117\n",
      "building tree 50 of 117\n",
      "building tree 51 of 117\n",
      "building tree 52 of 117\n",
      "building tree 53 of 117\n"
     ]
    },
    {
     "name": "stderr",
     "output_type": "stream",
     "text": [
      "[Parallel(n_jobs=-1)]: Done  45 tasks      | elapsed:  2.0min\n"
     ]
    },
    {
     "name": "stdout",
     "output_type": "stream",
     "text": [
      "building tree 54 of 117\n",
      "building tree 55 of 117\n",
      "building tree 56 of 117\n",
      "building tree 57 of 117\n",
      "building tree 58 of 117\n",
      "building tree 59 of 117\n",
      "building tree 60 of 117\n",
      "building tree 61 of 117\n",
      "building tree 62 of 117\n",
      "building tree 63 of 117\n"
     ]
    },
    {
     "name": "stderr",
     "output_type": "stream",
     "text": [
      "[Parallel(n_jobs=-1)]: Done  56 tasks      | elapsed:  2.5min\n"
     ]
    },
    {
     "name": "stdout",
     "output_type": "stream",
     "text": [
      "building tree 64 of 117\n",
      "building tree 65 of 117\n",
      "building tree 66 of 117\n",
      "building tree 67 of 117\n",
      "building tree 68 of 117\n",
      "building tree 69 of 117\n",
      "building tree 70 of 117\n",
      "building tree 71 of 117\n",
      "building tree 72 of 117\n",
      "building tree 73 of 117\n",
      "building tree 74 of 117\n",
      "building tree 75 of 117\n",
      "building tree 76 of 117\n"
     ]
    },
    {
     "name": "stderr",
     "output_type": "stream",
     "text": [
      "[Parallel(n_jobs=-1)]: Done  69 tasks      | elapsed:  3.0min\n"
     ]
    },
    {
     "name": "stdout",
     "output_type": "stream",
     "text": [
      "building tree 77 of 117\n",
      "building tree 78 of 117\n",
      "building tree 79 of 117\n",
      "building tree 80 of 117\n",
      "building tree 81 of 117\n",
      "building tree 82 of 117\n",
      "building tree 83 of 117\n",
      "building tree 84 of 117\n",
      "building tree 85 of 117\n",
      "building tree 86 of 117\n",
      "building tree 87 of 117\n",
      "building tree 88 of 117\n",
      "building tree 89 of 117\n"
     ]
    },
    {
     "name": "stderr",
     "output_type": "stream",
     "text": [
      "[Parallel(n_jobs=-1)]: Done  82 tasks      | elapsed:  3.6min\n"
     ]
    },
    {
     "name": "stdout",
     "output_type": "stream",
     "text": [
      "building tree 90 of 117\n",
      "building tree 91 of 117\n",
      "building tree 92 of 117\n",
      "building tree 93 of 117\n",
      "building tree 94 of 117\n",
      "building tree 95 of 117\n",
      "building tree 96 of 117\n",
      "building tree 97 of 117\n",
      "building tree 98 of 117\n",
      "building tree 99 of 117\n",
      "building tree 100 of 117\n",
      "building tree 101 of 117\n",
      "building tree 102 of 117\n",
      "building tree 103 of 117\n",
      "building tree 104 of 117\n"
     ]
    },
    {
     "name": "stderr",
     "output_type": "stream",
     "text": [
      "[Parallel(n_jobs=-1)]: Done  97 tasks      | elapsed:  4.3min\n"
     ]
    },
    {
     "name": "stdout",
     "output_type": "stream",
     "text": [
      "building tree 105 of 117\n",
      "building tree 106 of 117\n",
      "building tree 107 of 117\n",
      "building tree 108 of 117\n",
      "building tree 109 of 117\n",
      "building tree 110 of 117\n",
      "building tree 111 of 117\n",
      "building tree 112 of 117\n",
      "building tree 113 of 117\n",
      "building tree 114 of 117\n",
      "building tree 115 of 117\n",
      "building tree 116 of 117\n",
      "building tree 117 of 117\n"
     ]
    },
    {
     "name": "stderr",
     "output_type": "stream",
     "text": [
      "[Parallel(n_jobs=-1)]: Done 114 out of 117 | elapsed:  4.9min remaining:    7.7s\n",
      "[Parallel(n_jobs=-1)]: Done 117 out of 117 | elapsed:  4.9min finished\n",
      "[Parallel(n_jobs=8)]: Done   2 tasks      | elapsed:    0.0s\n",
      "[Parallel(n_jobs=8)]: Done   9 tasks      | elapsed:    0.1s\n",
      "[Parallel(n_jobs=8)]: Done  16 tasks      | elapsed:    0.2s\n",
      "[Parallel(n_jobs=8)]: Done  25 tasks      | elapsed:    0.2s\n",
      "[Parallel(n_jobs=8)]: Done  34 tasks      | elapsed:    0.3s\n",
      "[Parallel(n_jobs=8)]: Done  45 tasks      | elapsed:    0.4s\n",
      "[Parallel(n_jobs=8)]: Done  56 tasks      | elapsed:    0.4s\n",
      "[Parallel(n_jobs=8)]: Done  69 tasks      | elapsed:    0.5s\n",
      "[Parallel(n_jobs=8)]: Done  82 tasks      | elapsed:    0.6s\n",
      "[Parallel(n_jobs=8)]: Done  97 tasks      | elapsed:    0.7s\n",
      "[Parallel(n_jobs=8)]: Done 114 out of 117 | elapsed:    0.9s remaining:    0.0s\n",
      "[Parallel(n_jobs=8)]: Done 117 out of 117 | elapsed:    0.9s finished\n",
      "[Parallel(n_jobs=8)]: Done   2 tasks      | elapsed:    0.1s\n",
      "[Parallel(n_jobs=8)]: Done   9 tasks      | elapsed:    0.2s\n",
      "[Parallel(n_jobs=8)]: Done  16 tasks      | elapsed:    0.3s\n",
      "[Parallel(n_jobs=8)]: Done  25 tasks      | elapsed:    0.4s\n",
      "[Parallel(n_jobs=8)]: Done  34 tasks      | elapsed:    0.5s\n",
      "[Parallel(n_jobs=8)]: Done  45 tasks      | elapsed:    0.6s\n",
      "[Parallel(n_jobs=8)]: Done  56 tasks      | elapsed:    0.7s\n",
      "[Parallel(n_jobs=8)]: Done  69 tasks      | elapsed:    1.0s\n",
      "[Parallel(n_jobs=8)]: Done  82 tasks      | elapsed:    1.1s\n",
      "[Parallel(n_jobs=8)]: Done  97 tasks      | elapsed:    1.3s\n",
      "[Parallel(n_jobs=8)]: Done 114 out of 117 | elapsed:    1.5s remaining:    0.0s\n",
      "[Parallel(n_jobs=8)]: Done 117 out of 117 | elapsed:    1.6s finished\n",
      "/home/justin/anaconda3/lib/python3.6/site-packages/sklearn/model_selection/_validation.py:458: DataConversionWarning: A column-vector y was passed when a 1d array was expected. Please change the shape of y to (n_samples,), for example using ravel().\n",
      "  estimator.fit(X_train, y_train, **fit_params)\n"
     ]
    },
    {
     "name": "stdout",
     "output_type": "stream",
     "text": [
      "building tree 1 of 117\n",
      "building tree 2 of 117building tree 3 of 117building tree 7 of 117\n",
      "building tree 4 of 117building tree 5 of 117\n",
      "\n",
      "\n",
      "\n",
      "building tree 8 of 117building tree 6 of 117\n",
      "\n",
      "building tree 9 of 117\n"
     ]
    },
    {
     "name": "stderr",
     "output_type": "stream",
     "text": [
      "[Parallel(n_jobs=-1)]: Done   2 tasks      | elapsed:   16.5s\n"
     ]
    },
    {
     "name": "stdout",
     "output_type": "stream",
     "text": [
      "building tree 10 of 117\n",
      "building tree 11 of 117\n",
      "building tree 12 of 117\n",
      "building tree 13 of 117\n",
      "building tree 14 of 117\n",
      "building tree 15 of 117\n",
      "building tree 16 of 117\n"
     ]
    },
    {
     "name": "stderr",
     "output_type": "stream",
     "text": [
      "[Parallel(n_jobs=-1)]: Done   9 tasks      | elapsed:   33.5s\n"
     ]
    },
    {
     "name": "stdout",
     "output_type": "stream",
     "text": [
      "building tree 17 of 117\n",
      "building tree 18 of 117\n",
      "building tree 19 of 117\n",
      "building tree 20 of 117\n",
      "building tree 21 of 117\n",
      "building tree 22 of 117\n",
      "building tree 23 of 117\n"
     ]
    },
    {
     "name": "stderr",
     "output_type": "stream",
     "text": [
      "[Parallel(n_jobs=-1)]: Done  16 tasks      | elapsed:   36.8s\n"
     ]
    },
    {
     "name": "stdout",
     "output_type": "stream",
     "text": [
      "building tree 24 of 117\n",
      "building tree 25 of 117\n",
      "building tree 26 of 117\n",
      "building tree 27 of 117\n",
      "building tree 28 of 117\n",
      "building tree 29 of 117\n",
      "building tree 30 of 117\n",
      "building tree 31 of 117\n",
      "building tree 32 of 117\n"
     ]
    },
    {
     "name": "stderr",
     "output_type": "stream",
     "text": [
      "[Parallel(n_jobs=-1)]: Done  25 tasks      | elapsed:  1.1min\n"
     ]
    },
    {
     "name": "stdout",
     "output_type": "stream",
     "text": [
      "building tree 33 of 117\n",
      "building tree 34 of 117\n",
      "building tree 35 of 117\n",
      "building tree 36 of 117\n",
      "building tree 37 of 117\n",
      "building tree 38 of 117\n",
      "building tree 39 of 117\n",
      "building tree 40 of 117\n",
      "building tree 41 of 117\n"
     ]
    },
    {
     "name": "stderr",
     "output_type": "stream",
     "text": [
      "[Parallel(n_jobs=-1)]: Done  34 tasks      | elapsed:  1.4min\n"
     ]
    },
    {
     "name": "stdout",
     "output_type": "stream",
     "text": [
      "building tree 42 of 117\n",
      "building tree 43 of 117\n",
      "building tree 44 of 117\n",
      "building tree 45 of 117\n",
      "building tree 46 of 117\n",
      "building tree 47 of 117\n",
      "building tree 48 of 117\n",
      "building tree 49 of 117\n",
      "building tree 50 of 117\n",
      "building tree 51 of 117\n",
      "building tree 52 of 117\n"
     ]
    },
    {
     "name": "stderr",
     "output_type": "stream",
     "text": [
      "[Parallel(n_jobs=-1)]: Done  45 tasks      | elapsed:  1.8min\n"
     ]
    },
    {
     "name": "stdout",
     "output_type": "stream",
     "text": [
      "building tree 53 of 117\n",
      "building tree 54 of 117\n",
      "building tree 55 of 117\n",
      "building tree 56 of 117\n",
      "building tree 57 of 117\n",
      "building tree 58 of 117\n",
      "building tree 59 of 117\n",
      "building tree 60 of 117\n",
      "building tree 61 of 117\n",
      "building tree 62 of 117\n",
      "building tree 63 of 117\n"
     ]
    },
    {
     "name": "stderr",
     "output_type": "stream",
     "text": [
      "[Parallel(n_jobs=-1)]: Done  56 tasks      | elapsed:  2.1min\n"
     ]
    },
    {
     "name": "stdout",
     "output_type": "stream",
     "text": [
      "building tree 64 of 117\n",
      "building tree 65 of 117\n",
      "building tree 66 of 117\n",
      "building tree 67 of 117\n",
      "building tree 68 of 117\n",
      "building tree 69 of 117\n",
      "building tree 70 of 117\n",
      "building tree 71 of 117\n",
      "building tree 72 of 117\n",
      "building tree 73 of 117\n",
      "building tree 74 of 117\n",
      "building tree 75 of 117\n",
      "building tree 76 of 117\n"
     ]
    },
    {
     "name": "stderr",
     "output_type": "stream",
     "text": [
      "[Parallel(n_jobs=-1)]: Done  69 tasks      | elapsed:  2.6min\n"
     ]
    },
    {
     "name": "stdout",
     "output_type": "stream",
     "text": [
      "building tree 77 of 117\n",
      "building tree 78 of 117\n",
      "building tree 79 of 117\n",
      "building tree 80 of 117\n",
      "building tree 81 of 117\n",
      "building tree 82 of 117\n",
      "building tree 83 of 117\n",
      "building tree 84 of 117\n",
      "building tree 85 of 117\n",
      "building tree 86 of 117\n",
      "building tree 87 of 117\n",
      "building tree 88 of 117\n",
      "building tree 89 of 117\n"
     ]
    },
    {
     "name": "stderr",
     "output_type": "stream",
     "text": [
      "[Parallel(n_jobs=-1)]: Done  82 tasks      | elapsed:  3.2min\n"
     ]
    },
    {
     "name": "stdout",
     "output_type": "stream",
     "text": [
      "building tree 90 of 117\n",
      "building tree 91 of 117\n",
      "building tree 92 of 117\n",
      "building tree 93 of 117\n",
      "building tree 94 of 117\n",
      "building tree 95 of 117\n",
      "building tree 96 of 117\n",
      "building tree 97 of 117\n",
      "building tree 98 of 117\n",
      "building tree 99 of 117\n",
      "building tree 100 of 117\n",
      "building tree 101 of 117\n",
      "building tree 102 of 117\n",
      "building tree 103 of 117\n",
      "building tree 104 of 117\n"
     ]
    },
    {
     "name": "stderr",
     "output_type": "stream",
     "text": [
      "[Parallel(n_jobs=-1)]: Done  97 tasks      | elapsed:  3.7min\n"
     ]
    },
    {
     "name": "stdout",
     "output_type": "stream",
     "text": [
      "building tree 105 of 117\n",
      "building tree 106 of 117\n",
      "building tree 107 of 117\n",
      "building tree 108 of 117\n",
      "building tree 109 of 117\n",
      "building tree 110 of 117\n",
      "building tree 111 of 117\n",
      "building tree 112 of 117\n",
      "building tree 113 of 117\n",
      "building tree 114 of 117\n",
      "building tree 115 of 117\n",
      "building tree 116 of 117\n",
      "building tree 117 of 117\n"
     ]
    },
    {
     "name": "stderr",
     "output_type": "stream",
     "text": [
      "[Parallel(n_jobs=-1)]: Done 114 out of 117 | elapsed:  4.3min remaining:    6.7s\n",
      "[Parallel(n_jobs=-1)]: Done 117 out of 117 | elapsed:  4.3min finished\n",
      "[Parallel(n_jobs=8)]: Done   2 tasks      | elapsed:    0.0s\n",
      "[Parallel(n_jobs=8)]: Done   9 tasks      | elapsed:    0.1s\n",
      "[Parallel(n_jobs=8)]: Done  16 tasks      | elapsed:    0.1s\n",
      "[Parallel(n_jobs=8)]: Done  25 tasks      | elapsed:    0.2s\n",
      "[Parallel(n_jobs=8)]: Done  34 tasks      | elapsed:    0.2s\n",
      "[Parallel(n_jobs=8)]: Done  45 tasks      | elapsed:    0.3s\n",
      "[Parallel(n_jobs=8)]: Done  56 tasks      | elapsed:    0.4s\n",
      "[Parallel(n_jobs=8)]: Done  69 tasks      | elapsed:    0.4s\n",
      "[Parallel(n_jobs=8)]: Done  82 tasks      | elapsed:    0.5s\n",
      "[Parallel(n_jobs=8)]: Done  97 tasks      | elapsed:    0.6s\n",
      "[Parallel(n_jobs=8)]: Done 114 out of 117 | elapsed:    0.7s remaining:    0.0s\n",
      "[Parallel(n_jobs=8)]: Done 117 out of 117 | elapsed:    0.7s finished\n",
      "[Parallel(n_jobs=8)]: Done   2 tasks      | elapsed:    0.1s\n",
      "[Parallel(n_jobs=8)]: Done   9 tasks      | elapsed:    0.2s\n",
      "[Parallel(n_jobs=8)]: Done  16 tasks      | elapsed:    0.3s\n",
      "[Parallel(n_jobs=8)]: Done  25 tasks      | elapsed:    0.4s\n",
      "[Parallel(n_jobs=8)]: Done  34 tasks      | elapsed:    0.5s\n",
      "[Parallel(n_jobs=8)]: Done  45 tasks      | elapsed:    0.7s\n",
      "[Parallel(n_jobs=8)]: Done  56 tasks      | elapsed:    0.8s\n",
      "[Parallel(n_jobs=8)]: Done  69 tasks      | elapsed:    1.1s\n",
      "[Parallel(n_jobs=8)]: Done  82 tasks      | elapsed:    1.2s\n",
      "[Parallel(n_jobs=8)]: Done  97 tasks      | elapsed:    1.4s\n",
      "[Parallel(n_jobs=8)]: Done 114 out of 117 | elapsed:    1.7s remaining:    0.0s\n",
      "[Parallel(n_jobs=8)]: Done 117 out of 117 | elapsed:    1.7s finished\n",
      "/home/justin/anaconda3/lib/python3.6/site-packages/sklearn/model_selection/_validation.py:458: DataConversionWarning: A column-vector y was passed when a 1d array was expected. Please change the shape of y to (n_samples,), for example using ravel().\n",
      "  estimator.fit(X_train, y_train, **fit_params)\n"
     ]
    },
    {
     "name": "stdout",
     "output_type": "stream",
     "text": [
      "building tree 1 of 117building tree 3 of 117building tree 5 of 117building tree 4 of 117building tree 7 of 117building tree 8 of 117building tree 2 of 117building tree 6 of 117\n",
      "\n",
      "\n",
      "\n",
      "\n",
      "\n",
      "\n",
      "\n",
      "building tree 9 of 117\n"
     ]
    },
    {
     "name": "stderr",
     "output_type": "stream",
     "text": [
      "[Parallel(n_jobs=-1)]: Done   2 tasks      | elapsed:   15.1s\n"
     ]
    },
    {
     "name": "stdout",
     "output_type": "stream",
     "text": [
      "building tree 10 of 117\n",
      "building tree 11 of 117\n",
      "building tree 12 of 117\n",
      "building tree 13 of 117\n",
      "building tree 14 of 117\n",
      "building tree 15 of 117\n",
      "building tree 16 of 117\n"
     ]
    },
    {
     "name": "stderr",
     "output_type": "stream",
     "text": [
      "[Parallel(n_jobs=-1)]: Done   9 tasks      | elapsed:   28.8s\n"
     ]
    },
    {
     "name": "stdout",
     "output_type": "stream",
     "text": [
      "building tree 17 of 117\n",
      "building tree 18 of 117\n",
      "building tree 19 of 117\n",
      "building tree 20 of 117\n",
      "building tree 21 of 117\n",
      "building tree 22 of 117\n",
      "building tree 23 of 117\n",
      "building tree 24 of 117\n"
     ]
    },
    {
     "name": "stderr",
     "output_type": "stream",
     "text": [
      "[Parallel(n_jobs=-1)]: Done  16 tasks      | elapsed:   31.9s\n"
     ]
    },
    {
     "name": "stdout",
     "output_type": "stream",
     "text": [
      "building tree 25 of 117\n",
      "building tree 26 of 117\n",
      "building tree 27 of 117\n",
      "building tree 28 of 117\n",
      "building tree 29 of 117\n",
      "building tree 30 of 117\n",
      "building tree 31 of 117\n",
      "building tree 32 of 117\n"
     ]
    },
    {
     "name": "stderr",
     "output_type": "stream",
     "text": [
      "[Parallel(n_jobs=-1)]: Done  25 tasks      | elapsed:   58.3s\n"
     ]
    },
    {
     "name": "stdout",
     "output_type": "stream",
     "text": [
      "building tree 33 of 117\n",
      "building tree 34 of 117\n",
      "building tree 35 of 117\n",
      "building tree 36 of 117\n",
      "building tree 37 of 117\n",
      "building tree 38 of 117\n",
      "building tree 39 of 117\n",
      "building tree 40 of 117\n",
      "building tree 41 of 117\n"
     ]
    },
    {
     "name": "stderr",
     "output_type": "stream",
     "text": [
      "[Parallel(n_jobs=-1)]: Done  34 tasks      | elapsed:  1.2min\n"
     ]
    },
    {
     "name": "stdout",
     "output_type": "stream",
     "text": [
      "building tree 42 of 117\n",
      "building tree 43 of 117\n",
      "building tree 44 of 117\n",
      "building tree 45 of 117\n",
      "building tree 46 of 117\n",
      "building tree 47 of 117\n",
      "building tree 48 of 117\n",
      "building tree 49 of 117\n",
      "building tree 50 of 117\n",
      "building tree 51 of 117\n",
      "building tree 52 of 117\n"
     ]
    },
    {
     "name": "stderr",
     "output_type": "stream",
     "text": [
      "[Parallel(n_jobs=-1)]: Done  45 tasks      | elapsed:  1.5min\n"
     ]
    },
    {
     "name": "stdout",
     "output_type": "stream",
     "text": [
      "building tree 53 of 117\n",
      "building tree 54 of 117\n",
      "building tree 55 of 117\n",
      "building tree 56 of 117\n",
      "building tree 57 of 117\n",
      "building tree 58 of 117\n",
      "building tree 59 of 117\n",
      "building tree 60 of 117\n",
      "building tree 61 of 117\n",
      "building tree 62 of 117\n",
      "building tree 63 of 117\n",
      "building tree 64 of 117\n"
     ]
    },
    {
     "name": "stderr",
     "output_type": "stream",
     "text": [
      "[Parallel(n_jobs=-1)]: Done  56 tasks      | elapsed:  1.8min\n"
     ]
    },
    {
     "name": "stdout",
     "output_type": "stream",
     "text": [
      "building tree 65 of 117\n",
      "building tree 66 of 117\n",
      "building tree 67 of 117\n",
      "building tree 68 of 117\n",
      "building tree 69 of 117\n",
      "building tree 70 of 117\n",
      "building tree 71 of 117\n",
      "building tree 72 of 117\n",
      "building tree 73 of 117\n",
      "building tree 74 of 117\n",
      "building tree 75 of 117\n",
      "building tree 76 of 117\n",
      "building tree 77 of 117\n",
      "building tree 78 of 117\n"
     ]
    },
    {
     "name": "stderr",
     "output_type": "stream",
     "text": [
      "[Parallel(n_jobs=-1)]: Done  69 tasks      | elapsed:  2.3min\n"
     ]
    },
    {
     "name": "stdout",
     "output_type": "stream",
     "text": [
      "building tree 79 of 117\n",
      "building tree 80 of 117\n",
      "building tree 81 of 117\n",
      "building tree 82 of 117\n",
      "building tree 83 of 117\n",
      "building tree 84 of 117\n",
      "building tree 85 of 117\n",
      "building tree 86 of 117\n",
      "building tree 87 of 117\n",
      "building tree 88 of 117\n",
      "building tree 89 of 117\n"
     ]
    },
    {
     "name": "stderr",
     "output_type": "stream",
     "text": [
      "[Parallel(n_jobs=-1)]: Done  82 tasks      | elapsed:  2.8min\n"
     ]
    },
    {
     "name": "stdout",
     "output_type": "stream",
     "text": [
      "building tree 90 of 117\n",
      "building tree 91 of 117\n",
      "building tree 92 of 117\n",
      "building tree 93 of 117\n",
      "building tree 94 of 117\n",
      "building tree 95 of 117\n",
      "building tree 96 of 117\n",
      "building tree 97 of 117\n",
      "building tree 98 of 117\n",
      "building tree 99 of 117\n",
      "building tree 100 of 117\n",
      "building tree 101 of 117\n",
      "building tree 102 of 117\n",
      "building tree 103 of 117\n",
      "building tree 104 of 117\n"
     ]
    },
    {
     "name": "stderr",
     "output_type": "stream",
     "text": [
      "[Parallel(n_jobs=-1)]: Done  97 tasks      | elapsed:  3.2min\n"
     ]
    },
    {
     "name": "stdout",
     "output_type": "stream",
     "text": [
      "building tree 105 of 117\n",
      "building tree 106 of 117\n",
      "building tree 107 of 117\n",
      "building tree 108 of 117\n",
      "building tree 109 of 117\n",
      "building tree 110 of 117\n",
      "building tree 111 of 117\n",
      "building tree 112 of 117\n",
      "building tree 113 of 117\n",
      "building tree 114 of 117\n",
      "building tree 115 of 117\n",
      "building tree 116 of 117\n",
      "building tree 117 of 117\n"
     ]
    },
    {
     "name": "stderr",
     "output_type": "stream",
     "text": [
      "[Parallel(n_jobs=-1)]: Done 114 out of 117 | elapsed:  3.7min remaining:    5.9s\n",
      "[Parallel(n_jobs=-1)]: Done 117 out of 117 | elapsed:  3.8min finished\n",
      "[Parallel(n_jobs=8)]: Done   2 tasks      | elapsed:    0.0s\n",
      "[Parallel(n_jobs=8)]: Done   9 tasks      | elapsed:    0.1s\n",
      "[Parallel(n_jobs=8)]: Done  16 tasks      | elapsed:    0.1s\n",
      "[Parallel(n_jobs=8)]: Done  25 tasks      | elapsed:    0.2s\n",
      "[Parallel(n_jobs=8)]: Done  34 tasks      | elapsed:    0.3s\n",
      "[Parallel(n_jobs=8)]: Done  45 tasks      | elapsed:    0.3s\n",
      "[Parallel(n_jobs=8)]: Done  56 tasks      | elapsed:    0.4s\n",
      "[Parallel(n_jobs=8)]: Done  69 tasks      | elapsed:    0.5s\n",
      "[Parallel(n_jobs=8)]: Done  82 tasks      | elapsed:    0.5s\n",
      "[Parallel(n_jobs=8)]: Done  97 tasks      | elapsed:    0.6s\n",
      "[Parallel(n_jobs=8)]: Done 114 out of 117 | elapsed:    0.7s remaining:    0.0s\n",
      "[Parallel(n_jobs=8)]: Done 117 out of 117 | elapsed:    0.7s finished\n",
      "[Parallel(n_jobs=8)]: Done   2 tasks      | elapsed:    0.1s\n",
      "[Parallel(n_jobs=8)]: Done   9 tasks      | elapsed:    0.2s\n",
      "[Parallel(n_jobs=8)]: Done  16 tasks      | elapsed:    0.3s\n",
      "[Parallel(n_jobs=8)]: Done  25 tasks      | elapsed:    0.4s\n",
      "[Parallel(n_jobs=8)]: Done  34 tasks      | elapsed:    0.5s\n",
      "[Parallel(n_jobs=8)]: Done  45 tasks      | elapsed:    0.7s\n",
      "[Parallel(n_jobs=8)]: Done  56 tasks      | elapsed:    0.8s\n",
      "[Parallel(n_jobs=8)]: Done  69 tasks      | elapsed:    1.0s\n",
      "[Parallel(n_jobs=8)]: Done  82 tasks      | elapsed:    1.2s\n",
      "[Parallel(n_jobs=8)]: Done  97 tasks      | elapsed:    1.4s\n",
      "[Parallel(n_jobs=8)]: Done 114 out of 117 | elapsed:    1.6s remaining:    0.0s\n",
      "[Parallel(n_jobs=8)]: Done 117 out of 117 | elapsed:    1.6s finished\n",
      "/home/justin/anaconda3/lib/python3.6/site-packages/sklearn/model_selection/_validation.py:458: DataConversionWarning: A column-vector y was passed when a 1d array was expected. Please change the shape of y to (n_samples,), for example using ravel().\n",
      "  estimator.fit(X_train, y_train, **fit_params)\n"
     ]
    },
    {
     "name": "stdout",
     "output_type": "stream",
     "text": [
      "building tree 2 of 136\n",
      "building tree 5 of 136building tree 3 of 136building tree 1 of 136building tree 6 of 136building tree 7 of 136building tree 4 of 136building tree 8 of 136\n",
      "\n",
      "\n",
      "\n",
      "\n",
      "\n",
      "\n",
      "building tree 9 of 136\n",
      "building tree 10 of 136\n"
     ]
    },
    {
     "name": "stderr",
     "output_type": "stream",
     "text": [
      "[Parallel(n_jobs=-1)]: Done   2 tasks      | elapsed:    5.1s\n"
     ]
    },
    {
     "name": "stdout",
     "output_type": "stream",
     "text": [
      "building tree 11 of 136\n",
      "building tree 12 of 136\n",
      "building tree 13 of 136\n",
      "building tree 14 of 136\n",
      "building tree 15 of 136\n",
      "building tree 16 of 136\n"
     ]
    },
    {
     "name": "stderr",
     "output_type": "stream",
     "text": [
      "[Parallel(n_jobs=-1)]: Done   9 tasks      | elapsed:   10.4s\n"
     ]
    },
    {
     "name": "stdout",
     "output_type": "stream",
     "text": [
      "building tree 17 of 136\n",
      "building tree 18 of 136\n",
      "building tree 19 of 136\n",
      "building tree 20 of 136\n",
      "building tree 21 of 136\n",
      "building tree 22 of 136\n",
      "building tree 23 of 136\n"
     ]
    },
    {
     "name": "stderr",
     "output_type": "stream",
     "text": [
      "[Parallel(n_jobs=-1)]: Done  16 tasks      | elapsed:   13.6s\n"
     ]
    },
    {
     "name": "stdout",
     "output_type": "stream",
     "text": [
      "building tree 24 of 136\n",
      "building tree 25 of 136\n",
      "building tree 26 of 136\n",
      "building tree 27 of 136\n",
      "building tree 28 of 136\n",
      "building tree 29 of 136\n",
      "building tree 30 of 136\n",
      "building tree 31 of 136\n",
      "building tree 32 of 136\n"
     ]
    },
    {
     "name": "stderr",
     "output_type": "stream",
     "text": [
      "[Parallel(n_jobs=-1)]: Done  25 tasks      | elapsed:   22.9s\n"
     ]
    },
    {
     "name": "stdout",
     "output_type": "stream",
     "text": [
      "building tree 33 of 136\n",
      "building tree 34 of 136\n",
      "building tree 35 of 136\n",
      "building tree 36 of 136\n",
      "building tree 37 of 136\n",
      "building tree 38 of 136\n",
      "building tree 39 of 136\n",
      "building tree 40 of 136\n",
      "building tree 41 of 136\n"
     ]
    },
    {
     "name": "stderr",
     "output_type": "stream",
     "text": [
      "[Parallel(n_jobs=-1)]: Done  34 tasks      | elapsed:   29.3s\n"
     ]
    },
    {
     "name": "stdout",
     "output_type": "stream",
     "text": [
      "building tree 42 of 136\n",
      "building tree 43 of 136\n",
      "building tree 44 of 136\n",
      "building tree 45 of 136\n",
      "building tree 46 of 136\n",
      "building tree 47 of 136\n",
      "building tree 48 of 136\n",
      "building tree 49 of 136\n",
      "building tree 50 of 136\n",
      "building tree 51 of 136\n",
      "building tree 52 of 136\n"
     ]
    },
    {
     "name": "stderr",
     "output_type": "stream",
     "text": [
      "[Parallel(n_jobs=-1)]: Done  45 tasks      | elapsed:   37.9s\n"
     ]
    },
    {
     "name": "stdout",
     "output_type": "stream",
     "text": [
      "building tree 53 of 136\n",
      "building tree 54 of 136\n",
      "building tree 55 of 136\n",
      "building tree 56 of 136\n",
      "building tree 57 of 136\n",
      "building tree 58 of 136\n",
      "building tree 59 of 136\n",
      "building tree 60 of 136\n",
      "building tree 61 of 136\n",
      "building tree 62 of 136\n",
      "building tree 63 of 136\n"
     ]
    },
    {
     "name": "stderr",
     "output_type": "stream",
     "text": [
      "[Parallel(n_jobs=-1)]: Done  56 tasks      | elapsed:   45.6s\n"
     ]
    },
    {
     "name": "stdout",
     "output_type": "stream",
     "text": [
      "building tree 64 of 136\n",
      "building tree 65 of 136\n",
      "building tree 66 of 136\n",
      "building tree 67 of 136\n",
      "building tree 68 of 136\n",
      "building tree 69 of 136\n",
      "building tree 70 of 136\n",
      "building tree 71 of 136\n",
      "building tree 72 of 136\n",
      "building tree 73 of 136\n",
      "building tree 74 of 136\n",
      "building tree 75 of 136\n",
      "building tree 76 of 136\n"
     ]
    },
    {
     "name": "stderr",
     "output_type": "stream",
     "text": [
      "[Parallel(n_jobs=-1)]: Done  69 tasks      | elapsed:   56.0s\n"
     ]
    },
    {
     "name": "stdout",
     "output_type": "stream",
     "text": [
      "building tree 77 of 136\n",
      "building tree 78 of 136\n",
      "building tree 79 of 136\n",
      "building tree 80 of 136\n",
      "building tree 81 of 136\n",
      "building tree 82 of 136\n",
      "building tree 83 of 136\n",
      "building tree 84 of 136\n",
      "building tree 85 of 136\n",
      "building tree 86 of 136\n",
      "building tree 87 of 136\n",
      "building tree 88 of 136\n",
      "building tree 89 of 136\n",
      "building tree 90 of 136\n"
     ]
    },
    {
     "name": "stderr",
     "output_type": "stream",
     "text": [
      "[Parallel(n_jobs=-1)]: Done  82 tasks      | elapsed:  1.1min\n"
     ]
    },
    {
     "name": "stdout",
     "output_type": "stream",
     "text": [
      "building tree 91 of 136\n",
      "building tree 92 of 136\n",
      "building tree 93 of 136\n",
      "building tree 94 of 136\n",
      "building tree 95 of 136\n",
      "building tree 96 of 136\n",
      "building tree 97 of 136\n",
      "building tree 98 of 136\n",
      "building tree 99 of 136\n",
      "building tree 100 of 136\n",
      "building tree 101 of 136\n",
      "building tree 102 of 136\n",
      "building tree 103 of 136\n",
      "building tree 104 of 136\n"
     ]
    },
    {
     "name": "stderr",
     "output_type": "stream",
     "text": [
      "[Parallel(n_jobs=-1)]: Done  97 tasks      | elapsed:  1.3min\n"
     ]
    },
    {
     "name": "stdout",
     "output_type": "stream",
     "text": [
      "building tree 105 of 136\n",
      "building tree 106 of 136\n",
      "building tree 107 of 136\n",
      "building tree 108 of 136\n",
      "building tree 109 of 136\n",
      "building tree 110 of 136\n",
      "building tree 111 of 136\n",
      "building tree 112 of 136\n",
      "building tree 113 of 136\n",
      "building tree 114 of 136\n",
      "building tree 115 of 136\n",
      "building tree 116 of 136\n",
      "building tree 117 of 136\n",
      "building tree 118 of 136\n",
      "building tree 119 of 136\n"
     ]
    },
    {
     "name": "stderr",
     "output_type": "stream",
     "text": [
      "[Parallel(n_jobs=-1)]: Done 112 tasks      | elapsed:  1.5min\n"
     ]
    },
    {
     "name": "stdout",
     "output_type": "stream",
     "text": [
      "building tree 120 of 136\n",
      "building tree 121 of 136\n",
      "building tree 122 of 136\n",
      "building tree 123 of 136\n",
      "building tree 124 of 136\n",
      "building tree 125 of 136\n",
      "building tree 126 of 136\n",
      "building tree 127 of 136\n",
      "building tree 128 of 136\n",
      "building tree 129 of 136\n",
      "building tree 130 of 136\n",
      "building tree 131 of 136\n",
      "building tree 132 of 136\n",
      "building tree 133 of 136\n",
      "building tree 134 of 136\n",
      "building tree 135 of 136\n",
      "building tree 136 of 136\n"
     ]
    },
    {
     "name": "stderr",
     "output_type": "stream",
     "text": [
      "[Parallel(n_jobs=-1)]: Done 136 out of 136 | elapsed:  1.8min finished\n",
      "[Parallel(n_jobs=8)]: Done   2 tasks      | elapsed:    0.0s\n",
      "[Parallel(n_jobs=8)]: Done   9 tasks      | elapsed:    0.1s\n",
      "[Parallel(n_jobs=8)]: Done  16 tasks      | elapsed:    0.2s\n",
      "[Parallel(n_jobs=8)]: Done  25 tasks      | elapsed:    0.2s\n",
      "[Parallel(n_jobs=8)]: Done  34 tasks      | elapsed:    0.3s\n",
      "[Parallel(n_jobs=8)]: Done  45 tasks      | elapsed:    0.3s\n",
      "[Parallel(n_jobs=8)]: Done  56 tasks      | elapsed:    0.4s\n",
      "[Parallel(n_jobs=8)]: Done  69 tasks      | elapsed:    0.5s\n",
      "[Parallel(n_jobs=8)]: Done  82 tasks      | elapsed:    0.6s\n",
      "[Parallel(n_jobs=8)]: Done  97 tasks      | elapsed:    0.7s\n",
      "[Parallel(n_jobs=8)]: Done 112 tasks      | elapsed:    0.8s\n",
      "[Parallel(n_jobs=8)]: Done 136 out of 136 | elapsed:    1.0s finished\n",
      "[Parallel(n_jobs=8)]: Done   2 tasks      | elapsed:    0.1s\n",
      "[Parallel(n_jobs=8)]: Done   9 tasks      | elapsed:    0.2s\n",
      "[Parallel(n_jobs=8)]: Done  16 tasks      | elapsed:    0.3s\n",
      "[Parallel(n_jobs=8)]: Done  25 tasks      | elapsed:    0.4s\n",
      "[Parallel(n_jobs=8)]: Done  34 tasks      | elapsed:    0.5s\n",
      "[Parallel(n_jobs=8)]: Done  45 tasks      | elapsed:    0.7s\n",
      "[Parallel(n_jobs=8)]: Done  56 tasks      | elapsed:    0.8s\n",
      "[Parallel(n_jobs=8)]: Done  69 tasks      | elapsed:    1.0s\n",
      "[Parallel(n_jobs=8)]: Done  82 tasks      | elapsed:    1.2s\n",
      "[Parallel(n_jobs=8)]: Done  97 tasks      | elapsed:    1.4s\n",
      "[Parallel(n_jobs=8)]: Done 112 tasks      | elapsed:    1.6s\n",
      "[Parallel(n_jobs=8)]: Done 136 out of 136 | elapsed:    1.9s finished\n",
      "/home/justin/anaconda3/lib/python3.6/site-packages/sklearn/model_selection/_validation.py:458: DataConversionWarning: A column-vector y was passed when a 1d array was expected. Please change the shape of y to (n_samples,), for example using ravel().\n",
      "  estimator.fit(X_train, y_train, **fit_params)\n"
     ]
    },
    {
     "name": "stdout",
     "output_type": "stream",
     "text": [
      "building tree 2 of 136building tree 4 of 136building tree 5 of 136building tree 6 of 136building tree 7 of 136building tree 3 of 136building tree 8 of 136building tree 1 of 136\n",
      "\n",
      "\n",
      "\n",
      "\n",
      "\n",
      "\n",
      "\n",
      "building tree 9 of 136\n",
      "building tree 10 of 136\n",
      "building tree 11 of 136\n"
     ]
    },
    {
     "name": "stderr",
     "output_type": "stream",
     "text": [
      "[Parallel(n_jobs=-1)]: Done   2 tasks      | elapsed:    5.9s\n"
     ]
    },
    {
     "name": "stdout",
     "output_type": "stream",
     "text": [
      "building tree 12 of 136\n",
      "building tree 13 of 136\n",
      "building tree 14 of 136\n",
      "building tree 15 of 136\n",
      "building tree 16 of 136\n"
     ]
    },
    {
     "name": "stderr",
     "output_type": "stream",
     "text": [
      "[Parallel(n_jobs=-1)]: Done   9 tasks      | elapsed:   11.6s\n"
     ]
    },
    {
     "name": "stdout",
     "output_type": "stream",
     "text": [
      "building tree 17 of 136\n",
      "building tree 18 of 136\n",
      "building tree 19 of 136\n",
      "building tree 20 of 136\n",
      "building tree 21 of 136\n",
      "building tree 22 of 136\n",
      "building tree 23 of 136\n"
     ]
    },
    {
     "name": "stderr",
     "output_type": "stream",
     "text": [
      "[Parallel(n_jobs=-1)]: Done  16 tasks      | elapsed:   13.2s\n"
     ]
    },
    {
     "name": "stdout",
     "output_type": "stream",
     "text": [
      "building tree 24 of 136\n",
      "building tree 25 of 136\n",
      "building tree 26 of 136\n",
      "building tree 27 of 136\n",
      "building tree 28 of 136\n",
      "building tree 29 of 136\n",
      "building tree 30 of 136\n",
      "building tree 31 of 136\n",
      "building tree 32 of 136\n"
     ]
    },
    {
     "name": "stderr",
     "output_type": "stream",
     "text": [
      "[Parallel(n_jobs=-1)]: Done  25 tasks      | elapsed:   23.9s\n"
     ]
    },
    {
     "name": "stdout",
     "output_type": "stream",
     "text": [
      "building tree 33 of 136\n",
      "building tree 34 of 136\n",
      "building tree 35 of 136\n",
      "building tree 36 of 136\n",
      "building tree 37 of 136\n",
      "building tree 38 of 136\n",
      "building tree 39 of 136\n",
      "building tree 40 of 136\n",
      "building tree 41 of 136\n"
     ]
    },
    {
     "name": "stderr",
     "output_type": "stream",
     "text": [
      "[Parallel(n_jobs=-1)]: Done  34 tasks      | elapsed:   30.3s\n"
     ]
    },
    {
     "name": "stdout",
     "output_type": "stream",
     "text": [
      "building tree 42 of 136\n",
      "building tree 43 of 136\n",
      "building tree 44 of 136\n",
      "building tree 45 of 136\n",
      "building tree 46 of 136\n",
      "building tree 47 of 136\n",
      "building tree 48 of 136\n",
      "building tree 49 of 136\n",
      "building tree 50 of 136\n",
      "building tree 51 of 136\n",
      "building tree 52 of 136\n",
      "building tree 53 of 136\n"
     ]
    },
    {
     "name": "stderr",
     "output_type": "stream",
     "text": [
      "[Parallel(n_jobs=-1)]: Done  45 tasks      | elapsed:   38.2s\n"
     ]
    },
    {
     "name": "stdout",
     "output_type": "stream",
     "text": [
      "building tree 54 of 136\n",
      "building tree 55 of 136\n",
      "building tree 56 of 136\n",
      "building tree 57 of 136\n",
      "building tree 58 of 136\n",
      "building tree 59 of 136\n",
      "building tree 60 of 136\n",
      "building tree 61 of 136\n",
      "building tree 62 of 136\n",
      "building tree 63 of 136\n"
     ]
    },
    {
     "name": "stderr",
     "output_type": "stream",
     "text": [
      "[Parallel(n_jobs=-1)]: Done  56 tasks      | elapsed:   45.6s\n"
     ]
    },
    {
     "name": "stdout",
     "output_type": "stream",
     "text": [
      "building tree 64 of 136\n",
      "building tree 65 of 136\n",
      "building tree 66 of 136\n",
      "building tree 67 of 136\n",
      "building tree 68 of 136\n",
      "building tree 69 of 136\n",
      "building tree 70 of 136\n",
      "building tree 71 of 136\n",
      "building tree 72 of 136\n",
      "building tree 73 of 136\n",
      "building tree 74 of 136\n",
      "building tree 75 of 136\n",
      "building tree 76 of 136\n"
     ]
    },
    {
     "name": "stderr",
     "output_type": "stream",
     "text": [
      "[Parallel(n_jobs=-1)]: Done  69 tasks      | elapsed:   57.2s\n"
     ]
    },
    {
     "name": "stdout",
     "output_type": "stream",
     "text": [
      "building tree 77 of 136\n",
      "building tree 78 of 136\n",
      "building tree 79 of 136\n",
      "building tree 80 of 136\n",
      "building tree 81 of 136\n",
      "building tree 82 of 136\n",
      "building tree 83 of 136\n",
      "building tree 84 of 136\n",
      "building tree 85 of 136\n",
      "building tree 86 of 136\n",
      "building tree 87 of 136\n",
      "building tree 88 of 136\n",
      "building tree 89 of 136\n"
     ]
    },
    {
     "name": "stderr",
     "output_type": "stream",
     "text": [
      "[Parallel(n_jobs=-1)]: Done  82 tasks      | elapsed:  1.1min\n"
     ]
    },
    {
     "name": "stdout",
     "output_type": "stream",
     "text": [
      "building tree 90 of 136\n",
      "building tree 91 of 136\n",
      "building tree 92 of 136\n",
      "building tree 93 of 136\n",
      "building tree 94 of 136\n",
      "building tree 95 of 136\n",
      "building tree 96 of 136\n",
      "building tree 97 of 136\n",
      "building tree 98 of 136\n",
      "building tree 99 of 136\n",
      "building tree 100 of 136\n",
      "building tree 101 of 136\n",
      "building tree 102 of 136\n",
      "building tree 103 of 136\n",
      "building tree 104 of 136\n"
     ]
    },
    {
     "name": "stderr",
     "output_type": "stream",
     "text": [
      "[Parallel(n_jobs=-1)]: Done  97 tasks      | elapsed:  1.3min\n"
     ]
    },
    {
     "name": "stdout",
     "output_type": "stream",
     "text": [
      "building tree 105 of 136\n",
      "building tree 106 of 136\n",
      "building tree 107 of 136\n",
      "building tree 108 of 136\n",
      "building tree 109 of 136\n",
      "building tree 110 of 136\n",
      "building tree 111 of 136\n",
      "building tree 112 of 136\n",
      "building tree 113 of 136\n",
      "building tree 114 of 136\n",
      "building tree 115 of 136\n",
      "building tree 116 of 136\n",
      "building tree 117 of 136\n",
      "building tree 118 of 136\n",
      "building tree 119 of 136\n"
     ]
    },
    {
     "name": "stderr",
     "output_type": "stream",
     "text": [
      "[Parallel(n_jobs=-1)]: Done 112 tasks      | elapsed:  1.5min\n"
     ]
    },
    {
     "name": "stdout",
     "output_type": "stream",
     "text": [
      "building tree 120 of 136\n",
      "building tree 121 of 136\n",
      "building tree 122 of 136\n",
      "building tree 123 of 136\n",
      "building tree 124 of 136\n",
      "building tree 125 of 136\n",
      "building tree 126 of 136\n",
      "building tree 127 of 136\n",
      "building tree 128 of 136\n",
      "building tree 129 of 136\n",
      "building tree 130 of 136\n",
      "building tree 131 of 136\n",
      "building tree 132 of 136\n",
      "building tree 133 of 136\n",
      "building tree 134 of 136\n",
      "building tree 135 of 136\n",
      "building tree 136 of 136\n"
     ]
    },
    {
     "name": "stderr",
     "output_type": "stream",
     "text": [
      "[Parallel(n_jobs=-1)]: Done 136 out of 136 | elapsed:  1.8min finished\n",
      "[Parallel(n_jobs=8)]: Done   2 tasks      | elapsed:    0.0s\n",
      "[Parallel(n_jobs=8)]: Done   9 tasks      | elapsed:    0.1s\n",
      "[Parallel(n_jobs=8)]: Done  16 tasks      | elapsed:    0.1s\n",
      "[Parallel(n_jobs=8)]: Done  25 tasks      | elapsed:    0.2s\n",
      "[Parallel(n_jobs=8)]: Done  34 tasks      | elapsed:    0.2s\n",
      "[Parallel(n_jobs=8)]: Done  45 tasks      | elapsed:    0.3s\n",
      "[Parallel(n_jobs=8)]: Done  56 tasks      | elapsed:    0.4s\n",
      "[Parallel(n_jobs=8)]: Done  69 tasks      | elapsed:    0.5s\n",
      "[Parallel(n_jobs=8)]: Done  82 tasks      | elapsed:    0.5s\n",
      "[Parallel(n_jobs=8)]: Done  97 tasks      | elapsed:    0.6s\n",
      "[Parallel(n_jobs=8)]: Done 112 tasks      | elapsed:    0.7s\n",
      "[Parallel(n_jobs=8)]: Done 136 out of 136 | elapsed:    0.9s finished\n",
      "[Parallel(n_jobs=8)]: Done   2 tasks      | elapsed:    0.1s\n",
      "[Parallel(n_jobs=8)]: Done   9 tasks      | elapsed:    0.2s\n",
      "[Parallel(n_jobs=8)]: Done  16 tasks      | elapsed:    0.3s\n",
      "[Parallel(n_jobs=8)]: Done  25 tasks      | elapsed:    0.4s\n",
      "[Parallel(n_jobs=8)]: Done  34 tasks      | elapsed:    0.6s\n",
      "[Parallel(n_jobs=8)]: Done  45 tasks      | elapsed:    0.7s\n",
      "[Parallel(n_jobs=8)]: Done  56 tasks      | elapsed:    0.9s\n",
      "[Parallel(n_jobs=8)]: Done  69 tasks      | elapsed:    1.1s\n",
      "[Parallel(n_jobs=8)]: Done  82 tasks      | elapsed:    1.2s\n",
      "[Parallel(n_jobs=8)]: Done  97 tasks      | elapsed:    1.4s\n",
      "[Parallel(n_jobs=8)]: Done 112 tasks      | elapsed:    1.7s\n",
      "[Parallel(n_jobs=8)]: Done 136 out of 136 | elapsed:    2.0s finished\n",
      "/home/justin/anaconda3/lib/python3.6/site-packages/sklearn/model_selection/_validation.py:458: DataConversionWarning: A column-vector y was passed when a 1d array was expected. Please change the shape of y to (n_samples,), for example using ravel().\n",
      "  estimator.fit(X_train, y_train, **fit_params)\n"
     ]
    },
    {
     "name": "stdout",
     "output_type": "stream",
     "text": [
      "building tree 2 of 136\n",
      "building tree 3 of 136building tree 4 of 136building tree 6 of 136building tree 7 of 136\n",
      "\n",
      "\n",
      "\n",
      "building tree 5 of 136\n",
      "building tree 8 of 136building tree 1 of 136\n",
      "\n",
      "building tree 9 of 136\n",
      "building tree 10 of 136\n"
     ]
    },
    {
     "name": "stderr",
     "output_type": "stream",
     "text": [
      "[Parallel(n_jobs=-1)]: Done   2 tasks      | elapsed:    5.3s\n"
     ]
    },
    {
     "name": "stdout",
     "output_type": "stream",
     "text": [
      "building tree 11 of 136\n",
      "building tree 12 of 136\n",
      "building tree 13 of 136\n",
      "building tree 14 of 136\n",
      "building tree 15 of 136\n",
      "building tree 16 of 136\n"
     ]
    },
    {
     "name": "stderr",
     "output_type": "stream",
     "text": [
      "[Parallel(n_jobs=-1)]: Done   9 tasks      | elapsed:   10.6s\n"
     ]
    },
    {
     "name": "stdout",
     "output_type": "stream",
     "text": [
      "building tree 17 of 136\n",
      "building tree 18 of 136\n",
      "building tree 19 of 136\n",
      "building tree 20 of 136\n",
      "building tree 21 of 136\n",
      "building tree 22 of 136\n",
      "building tree 23 of 136\n"
     ]
    },
    {
     "name": "stderr",
     "output_type": "stream",
     "text": [
      "[Parallel(n_jobs=-1)]: Done  16 tasks      | elapsed:   13.8s\n"
     ]
    },
    {
     "name": "stdout",
     "output_type": "stream",
     "text": [
      "building tree 24 of 136\n",
      "building tree 25 of 136\n",
      "building tree 26 of 136\n",
      "building tree 27 of 136\n",
      "building tree 28 of 136\n",
      "building tree 29 of 136\n",
      "building tree 30 of 136\n",
      "building tree 31 of 136\n",
      "building tree 32 of 136\n"
     ]
    },
    {
     "name": "stderr",
     "output_type": "stream",
     "text": [
      "[Parallel(n_jobs=-1)]: Done  25 tasks      | elapsed:   22.0s\n"
     ]
    },
    {
     "name": "stdout",
     "output_type": "stream",
     "text": [
      "building tree 33 of 136\n",
      "building tree 34 of 136\n",
      "building tree 35 of 136\n",
      "building tree 36 of 136\n",
      "building tree 37 of 136\n",
      "building tree 38 of 136\n",
      "building tree 39 of 136\n",
      "building tree 40 of 136\n",
      "building tree 41 of 136\n"
     ]
    },
    {
     "name": "stderr",
     "output_type": "stream",
     "text": [
      "[Parallel(n_jobs=-1)]: Done  34 tasks      | elapsed:   28.4s\n"
     ]
    },
    {
     "name": "stdout",
     "output_type": "stream",
     "text": [
      "building tree 42 of 136\n",
      "building tree 43 of 136\n",
      "building tree 44 of 136\n",
      "building tree 45 of 136\n",
      "building tree 46 of 136\n",
      "building tree 47 of 136\n",
      "building tree 48 of 136\n",
      "building tree 49 of 136\n",
      "building tree 50 of 136\n",
      "building tree 51 of 136\n",
      "building tree 52 of 136\n"
     ]
    },
    {
     "name": "stderr",
     "output_type": "stream",
     "text": [
      "[Parallel(n_jobs=-1)]: Done  45 tasks      | elapsed:   35.1s\n"
     ]
    },
    {
     "name": "stdout",
     "output_type": "stream",
     "text": [
      "building tree 53 of 136\n",
      "building tree 54 of 136\n",
      "building tree 55 of 136\n",
      "building tree 56 of 136\n",
      "building tree 57 of 136\n",
      "building tree 58 of 136\n",
      "building tree 59 of 136\n",
      "building tree 60 of 136\n",
      "building tree 61 of 136\n",
      "building tree 62 of 136\n",
      "building tree 63 of 136\n"
     ]
    },
    {
     "name": "stderr",
     "output_type": "stream",
     "text": [
      "[Parallel(n_jobs=-1)]: Done  56 tasks      | elapsed:   42.8s\n"
     ]
    },
    {
     "name": "stdout",
     "output_type": "stream",
     "text": [
      "building tree 64 of 136\n",
      "building tree 65 of 136\n",
      "building tree 66 of 136\n",
      "building tree 67 of 136\n",
      "building tree 68 of 136\n",
      "building tree 69 of 136\n",
      "building tree 70 of 136\n",
      "building tree 71 of 136\n",
      "building tree 72 of 136\n",
      "building tree 73 of 136\n",
      "building tree 74 of 136\n",
      "building tree 75 of 136\n",
      "building tree 76 of 136\n"
     ]
    },
    {
     "name": "stderr",
     "output_type": "stream",
     "text": [
      "[Parallel(n_jobs=-1)]: Done  69 tasks      | elapsed:   52.4s\n"
     ]
    },
    {
     "name": "stdout",
     "output_type": "stream",
     "text": [
      "building tree 77 of 136\n",
      "building tree 78 of 136\n",
      "building tree 79 of 136\n",
      "building tree 80 of 136\n",
      "building tree 81 of 136\n",
      "building tree 82 of 136\n",
      "building tree 83 of 136\n",
      "building tree 84 of 136\n",
      "building tree 85 of 136\n",
      "building tree 86 of 136\n",
      "building tree 87 of 136\n",
      "building tree 88 of 136\n",
      "building tree 89 of 136\n"
     ]
    },
    {
     "name": "stderr",
     "output_type": "stream",
     "text": [
      "[Parallel(n_jobs=-1)]: Done  82 tasks      | elapsed:  1.0min\n"
     ]
    },
    {
     "name": "stdout",
     "output_type": "stream",
     "text": [
      "building tree 90 of 136\n",
      "building tree 91 of 136\n",
      "building tree 92 of 136\n",
      "building tree 93 of 136\n",
      "building tree 94 of 136\n",
      "building tree 95 of 136\n",
      "building tree 96 of 136\n",
      "building tree 97 of 136\n",
      "building tree 98 of 136\n",
      "building tree 99 of 136\n",
      "building tree 100 of 136\n",
      "building tree 101 of 136\n",
      "building tree 102 of 136\n",
      "building tree 103 of 136\n",
      "building tree 104 of 136\n",
      "building tree 105 of 136\n"
     ]
    },
    {
     "name": "stderr",
     "output_type": "stream",
     "text": [
      "[Parallel(n_jobs=-1)]: Done  97 tasks      | elapsed:  1.2min\n"
     ]
    },
    {
     "name": "stdout",
     "output_type": "stream",
     "text": [
      "building tree 106 of 136\n",
      "building tree 107 of 136\n",
      "building tree 108 of 136\n",
      "building tree 109 of 136\n",
      "building tree 110 of 136\n",
      "building tree 111 of 136\n",
      "building tree 112 of 136\n",
      "building tree 113 of 136\n",
      "building tree 114 of 136\n",
      "building tree 115 of 136\n",
      "building tree 116 of 136\n",
      "building tree 117 of 136\n",
      "building tree 118 of 136\n",
      "building tree 119 of 136\n"
     ]
    },
    {
     "name": "stderr",
     "output_type": "stream",
     "text": [
      "[Parallel(n_jobs=-1)]: Done 112 tasks      | elapsed:  1.4min\n"
     ]
    },
    {
     "name": "stdout",
     "output_type": "stream",
     "text": [
      "building tree 120 of 136\n",
      "building tree 121 of 136\n",
      "building tree 122 of 136\n",
      "building tree 123 of 136\n",
      "building tree 124 of 136\n",
      "building tree 125 of 136\n",
      "building tree 126 of 136\n",
      "building tree 127 of 136\n",
      "building tree 128 of 136\n",
      "building tree 129 of 136\n",
      "building tree 130 of 136\n",
      "building tree 131 of 136\n",
      "building tree 132 of 136\n",
      "building tree 133 of 136\n",
      "building tree 134 of 136\n",
      "building tree 135 of 136\n",
      "building tree 136 of 136\n"
     ]
    },
    {
     "name": "stderr",
     "output_type": "stream",
     "text": [
      "[Parallel(n_jobs=-1)]: Done 136 out of 136 | elapsed:  1.6min finished\n",
      "[Parallel(n_jobs=8)]: Done   2 tasks      | elapsed:    0.0s\n",
      "[Parallel(n_jobs=8)]: Done   9 tasks      | elapsed:    0.1s\n",
      "[Parallel(n_jobs=8)]: Done  16 tasks      | elapsed:    0.1s\n",
      "[Parallel(n_jobs=8)]: Done  25 tasks      | elapsed:    0.2s\n",
      "[Parallel(n_jobs=8)]: Done  34 tasks      | elapsed:    0.2s\n",
      "[Parallel(n_jobs=8)]: Done  45 tasks      | elapsed:    0.3s\n",
      "[Parallel(n_jobs=8)]: Done  56 tasks      | elapsed:    0.4s\n",
      "[Parallel(n_jobs=8)]: Done  69 tasks      | elapsed:    0.5s\n",
      "[Parallel(n_jobs=8)]: Done  82 tasks      | elapsed:    0.6s\n",
      "[Parallel(n_jobs=8)]: Done  97 tasks      | elapsed:    0.7s\n",
      "[Parallel(n_jobs=8)]: Done 112 tasks      | elapsed:    0.8s\n",
      "[Parallel(n_jobs=8)]: Done 136 out of 136 | elapsed:    0.9s finished\n",
      "[Parallel(n_jobs=8)]: Done   2 tasks      | elapsed:    0.1s\n",
      "[Parallel(n_jobs=8)]: Done   9 tasks      | elapsed:    0.2s\n",
      "[Parallel(n_jobs=8)]: Done  16 tasks      | elapsed:    0.3s\n",
      "[Parallel(n_jobs=8)]: Done  25 tasks      | elapsed:    0.4s\n",
      "[Parallel(n_jobs=8)]: Done  34 tasks      | elapsed:    0.5s\n",
      "[Parallel(n_jobs=8)]: Done  45 tasks      | elapsed:    0.7s\n",
      "[Parallel(n_jobs=8)]: Done  56 tasks      | elapsed:    0.8s\n",
      "[Parallel(n_jobs=8)]: Done  69 tasks      | elapsed:    1.0s\n",
      "[Parallel(n_jobs=8)]: Done  82 tasks      | elapsed:    1.2s\n",
      "[Parallel(n_jobs=8)]: Done  97 tasks      | elapsed:    1.4s\n",
      "[Parallel(n_jobs=8)]: Done 112 tasks      | elapsed:    1.6s\n",
      "[Parallel(n_jobs=8)]: Done 136 out of 136 | elapsed:    1.9s finished\n",
      "/home/justin/anaconda3/lib/python3.6/site-packages/sklearn/model_selection/_validation.py:458: DataConversionWarning: A column-vector y was passed when a 1d array was expected. Please change the shape of y to (n_samples,), for example using ravel().\n",
      "  estimator.fit(X_train, y_train, **fit_params)\n"
     ]
    },
    {
     "name": "stdout",
     "output_type": "stream",
     "text": [
      "building tree 1 of 75\n",
      "building tree 3 of 75building tree 4 of 75building tree 2 of 75building tree 5 of 75\n",
      "\n",
      "\n",
      "building tree 6 of 75building tree 7 of 75building tree 8 of 75\n",
      "\n",
      "\n",
      "\n",
      "building tree 9 of 75\n",
      "building tree 10 of 75\n"
     ]
    },
    {
     "name": "stderr",
     "output_type": "stream",
     "text": [
      "[Parallel(n_jobs=-1)]: Done   2 tasks      | elapsed:    5.6s\n"
     ]
    },
    {
     "name": "stdout",
     "output_type": "stream",
     "text": [
      "building tree 11 of 75\n",
      "building tree 12 of 75\n",
      "building tree 13 of 75\n",
      "building tree 14 of 75\n",
      "building tree 15 of 75\n",
      "building tree 16 of 75\n"
     ]
    },
    {
     "name": "stderr",
     "output_type": "stream",
     "text": [
      "[Parallel(n_jobs=-1)]: Done   9 tasks      | elapsed:   11.1s\n"
     ]
    },
    {
     "name": "stdout",
     "output_type": "stream",
     "text": [
      "building tree 17 of 75\n",
      "building tree 18 of 75\n",
      "building tree 19 of 75\n",
      "building tree 20 of 75\n",
      "building tree 21 of 75\n",
      "building tree 22 of 75\n",
      "building tree 23 of 75\n",
      "building tree 24 of 75\n"
     ]
    },
    {
     "name": "stderr",
     "output_type": "stream",
     "text": [
      "[Parallel(n_jobs=-1)]: Done  16 tasks      | elapsed:   12.3s\n"
     ]
    },
    {
     "name": "stdout",
     "output_type": "stream",
     "text": [
      "building tree 25 of 75\n",
      "building tree 26 of 75\n",
      "building tree 27 of 75\n",
      "building tree 28 of 75\n",
      "building tree 29 of 75\n",
      "building tree 30 of 75\n",
      "building tree 31 of 75\n",
      "building tree 32 of 75\n"
     ]
    },
    {
     "name": "stderr",
     "output_type": "stream",
     "text": [
      "[Parallel(n_jobs=-1)]: Done  25 tasks      | elapsed:   22.8s\n"
     ]
    },
    {
     "name": "stdout",
     "output_type": "stream",
     "text": [
      "building tree 33 of 75\n",
      "building tree 34 of 75\n",
      "building tree 35 of 75\n",
      "building tree 36 of 75\n",
      "building tree 37 of 75\n",
      "building tree 38 of 75\n",
      "building tree 39 of 75\n",
      "building tree 40 of 75\n",
      "building tree 41 of 75\n"
     ]
    },
    {
     "name": "stderr",
     "output_type": "stream",
     "text": [
      "[Parallel(n_jobs=-1)]: Done  34 tasks      | elapsed:   29.4s\n"
     ]
    },
    {
     "name": "stdout",
     "output_type": "stream",
     "text": [
      "building tree 42 of 75\n",
      "building tree 43 of 75\n",
      "building tree 44 of 75\n",
      "building tree 45 of 75\n",
      "building tree 46 of 75\n",
      "building tree 47 of 75\n",
      "building tree 48 of 75\n",
      "building tree 49 of 75\n",
      "building tree 50 of 75\n",
      "building tree 51 of 75\n",
      "building tree 52 of 75\n",
      "building tree 53 of 75\n"
     ]
    },
    {
     "name": "stderr",
     "output_type": "stream",
     "text": [
      "[Parallel(n_jobs=-1)]: Done  45 tasks      | elapsed:   36.1s\n"
     ]
    },
    {
     "name": "stdout",
     "output_type": "stream",
     "text": [
      "building tree 54 of 75\n",
      "building tree 55 of 75\n",
      "building tree 56 of 75\n",
      "building tree 57 of 75\n",
      "building tree 58 of 75\n",
      "building tree 59 of 75\n",
      "building tree 60 of 75\n",
      "building tree 61 of 75\n",
      "building tree 62 of 75\n",
      "building tree 63 of 75\n"
     ]
    },
    {
     "name": "stderr",
     "output_type": "stream",
     "text": [
      "[Parallel(n_jobs=-1)]: Done  56 tasks      | elapsed:   45.5s\n"
     ]
    },
    {
     "name": "stdout",
     "output_type": "stream",
     "text": [
      "building tree 64 of 75\n",
      "building tree 65 of 75\n",
      "building tree 66 of 75\n",
      "building tree 67 of 75\n",
      "building tree 68 of 75\n",
      "building tree 69 of 75\n",
      "building tree 70 of 75\n",
      "building tree 71 of 75\n",
      "building tree 72 of 75\n",
      "building tree 73 of 75\n",
      "building tree 74 of 75\n",
      "building tree 75 of 75\n"
     ]
    },
    {
     "name": "stderr",
     "output_type": "stream",
     "text": [
      "[Parallel(n_jobs=-1)]: Done  68 out of  75 | elapsed:   53.6s remaining:    5.5s\n",
      "[Parallel(n_jobs=-1)]: Done  75 out of  75 | elapsed:   57.3s finished\n",
      "[Parallel(n_jobs=8)]: Done   2 tasks      | elapsed:    0.0s\n",
      "[Parallel(n_jobs=8)]: Done   9 tasks      | elapsed:    0.1s\n",
      "[Parallel(n_jobs=8)]: Done  16 tasks      | elapsed:    0.1s\n",
      "[Parallel(n_jobs=8)]: Done  25 tasks      | elapsed:    0.2s\n",
      "[Parallel(n_jobs=8)]: Done  34 tasks      | elapsed:    0.3s\n",
      "[Parallel(n_jobs=8)]: Done  45 tasks      | elapsed:    0.3s\n",
      "[Parallel(n_jobs=8)]: Done  56 tasks      | elapsed:    0.4s\n",
      "[Parallel(n_jobs=8)]: Done  68 out of  75 | elapsed:    0.5s remaining:    0.1s\n",
      "[Parallel(n_jobs=8)]: Done  75 out of  75 | elapsed:    0.5s finished\n",
      "[Parallel(n_jobs=8)]: Done   2 tasks      | elapsed:    0.1s\n",
      "[Parallel(n_jobs=8)]: Done   9 tasks      | elapsed:    0.2s\n",
      "[Parallel(n_jobs=8)]: Done  16 tasks      | elapsed:    0.3s\n",
      "[Parallel(n_jobs=8)]: Done  25 tasks      | elapsed:    0.4s\n",
      "[Parallel(n_jobs=8)]: Done  34 tasks      | elapsed:    0.5s\n",
      "[Parallel(n_jobs=8)]: Done  45 tasks      | elapsed:    0.7s\n",
      "[Parallel(n_jobs=8)]: Done  56 tasks      | elapsed:    0.9s\n",
      "[Parallel(n_jobs=8)]: Done  68 out of  75 | elapsed:    1.0s remaining:    0.1s\n",
      "[Parallel(n_jobs=8)]: Done  75 out of  75 | elapsed:    1.1s finished\n",
      "/home/justin/anaconda3/lib/python3.6/site-packages/sklearn/model_selection/_validation.py:458: DataConversionWarning: A column-vector y was passed when a 1d array was expected. Please change the shape of y to (n_samples,), for example using ravel().\n",
      "  estimator.fit(X_train, y_train, **fit_params)\n"
     ]
    },
    {
     "name": "stdout",
     "output_type": "stream",
     "text": [
      "building tree 1 of 75building tree 2 of 75building tree 4 of 75building tree 3 of 75building tree 5 of 75building tree 6 of 75building tree 8 of 75\n",
      "\n",
      "\n",
      "\n",
      "\n",
      "\n",
      "\n",
      "building tree 7 of 75\n",
      "building tree 9 of 75\n"
     ]
    },
    {
     "name": "stderr",
     "output_type": "stream",
     "text": [
      "[Parallel(n_jobs=-1)]: Done   2 tasks      | elapsed:    5.8s\n"
     ]
    },
    {
     "name": "stdout",
     "output_type": "stream",
     "text": [
      "building tree 10 of 75\n",
      "building tree 11 of 75\n",
      "building tree 12 of 75\n",
      "building tree 13 of 75\n",
      "building tree 14 of 75\n",
      "building tree 15 of 75\n",
      "building tree 16 of 75\n"
     ]
    },
    {
     "name": "stderr",
     "output_type": "stream",
     "text": [
      "[Parallel(n_jobs=-1)]: Done   9 tasks      | elapsed:   11.2s\n"
     ]
    },
    {
     "name": "stdout",
     "output_type": "stream",
     "text": [
      "building tree 17 of 75\n",
      "building tree 18 of 75\n",
      "building tree 19 of 75\n",
      "building tree 20 of 75\n",
      "building tree 21 of 75\n",
      "building tree 22 of 75\n",
      "building tree 23 of 75\n"
     ]
    },
    {
     "name": "stderr",
     "output_type": "stream",
     "text": [
      "[Parallel(n_jobs=-1)]: Done  16 tasks      | elapsed:   14.0s\n"
     ]
    },
    {
     "name": "stdout",
     "output_type": "stream",
     "text": [
      "building tree 24 of 75\n",
      "building tree 25 of 75\n",
      "building tree 26 of 75\n",
      "building tree 27 of 75\n",
      "building tree 28 of 75\n",
      "building tree 29 of 75\n",
      "building tree 30 of 75\n",
      "building tree 31 of 75\n",
      "building tree 32 of 75\n"
     ]
    },
    {
     "name": "stderr",
     "output_type": "stream",
     "text": [
      "[Parallel(n_jobs=-1)]: Done  25 tasks      | elapsed:   24.0s\n"
     ]
    },
    {
     "name": "stdout",
     "output_type": "stream",
     "text": [
      "building tree 33 of 75\n",
      "building tree 34 of 75\n",
      "building tree 35 of 75\n",
      "building tree 36 of 75\n",
      "building tree 37 of 75\n",
      "building tree 38 of 75\n",
      "building tree 39 of 75\n",
      "building tree 40 of 75\n",
      "building tree 41 of 75\n"
     ]
    },
    {
     "name": "stderr",
     "output_type": "stream",
     "text": [
      "[Parallel(n_jobs=-1)]: Done  34 tasks      | elapsed:   31.2s\n"
     ]
    },
    {
     "name": "stdout",
     "output_type": "stream",
     "text": [
      "building tree 42 of 75\n",
      "building tree 43 of 75\n",
      "building tree 44 of 75\n",
      "building tree 45 of 75\n",
      "building tree 46 of 75\n",
      "building tree 47 of 75\n",
      "building tree 48 of 75\n",
      "building tree 49 of 75\n",
      "building tree 50 of 75\n",
      "building tree 51 of 75\n",
      "building tree 52 of 75\n"
     ]
    },
    {
     "name": "stderr",
     "output_type": "stream",
     "text": [
      "[Parallel(n_jobs=-1)]: Done  45 tasks      | elapsed:   38.3s\n"
     ]
    },
    {
     "name": "stdout",
     "output_type": "stream",
     "text": [
      "building tree 53 of 75\n",
      "building tree 54 of 75\n",
      "building tree 55 of 75\n",
      "building tree 56 of 75\n",
      "building tree 57 of 75\n",
      "building tree 58 of 75\n",
      "building tree 59 of 75\n",
      "building tree 60 of 75\n",
      "building tree 61 of 75\n",
      "building tree 62 of 75\n",
      "building tree 63 of 75\n"
     ]
    },
    {
     "name": "stderr",
     "output_type": "stream",
     "text": [
      "[Parallel(n_jobs=-1)]: Done  56 tasks      | elapsed:   48.7s\n"
     ]
    },
    {
     "name": "stdout",
     "output_type": "stream",
     "text": [
      "building tree 64 of 75\n",
      "building tree 65 of 75\n",
      "building tree 66 of 75\n",
      "building tree 67 of 75\n",
      "building tree 68 of 75\n",
      "building tree 69 of 75\n",
      "building tree 70 of 75\n",
      "building tree 71 of 75\n",
      "building tree 72 of 75\n",
      "building tree 73 of 75\n",
      "building tree 74 of 75\n",
      "building tree 75 of 75\n"
     ]
    },
    {
     "name": "stderr",
     "output_type": "stream",
     "text": [
      "[Parallel(n_jobs=-1)]: Done  68 out of  75 | elapsed:   56.9s remaining:    5.9s\n",
      "[Parallel(n_jobs=-1)]: Done  75 out of  75 | elapsed:  1.0min finished\n",
      "[Parallel(n_jobs=8)]: Done   2 tasks      | elapsed:    0.0s\n",
      "[Parallel(n_jobs=8)]: Done   9 tasks      | elapsed:    0.1s\n",
      "[Parallel(n_jobs=8)]: Done  16 tasks      | elapsed:    0.1s\n",
      "[Parallel(n_jobs=8)]: Done  25 tasks      | elapsed:    0.2s\n",
      "[Parallel(n_jobs=8)]: Done  34 tasks      | elapsed:    0.2s\n",
      "[Parallel(n_jobs=8)]: Done  45 tasks      | elapsed:    0.3s\n",
      "[Parallel(n_jobs=8)]: Done  56 tasks      | elapsed:    0.4s\n",
      "[Parallel(n_jobs=8)]: Done  68 out of  75 | elapsed:    0.4s remaining:    0.0s\n",
      "[Parallel(n_jobs=8)]: Done  75 out of  75 | elapsed:    0.5s finished\n",
      "[Parallel(n_jobs=8)]: Done   2 tasks      | elapsed:    0.1s\n",
      "[Parallel(n_jobs=8)]: Done   9 tasks      | elapsed:    0.2s\n",
      "[Parallel(n_jobs=8)]: Done  16 tasks      | elapsed:    0.3s\n",
      "[Parallel(n_jobs=8)]: Done  25 tasks      | elapsed:    0.4s\n",
      "[Parallel(n_jobs=8)]: Done  34 tasks      | elapsed:    0.5s\n",
      "[Parallel(n_jobs=8)]: Done  45 tasks      | elapsed:    0.7s\n",
      "[Parallel(n_jobs=8)]: Done  56 tasks      | elapsed:    0.8s\n",
      "[Parallel(n_jobs=8)]: Done  68 out of  75 | elapsed:    1.0s remaining:    0.1s\n",
      "[Parallel(n_jobs=8)]: Done  75 out of  75 | elapsed:    1.1s finished\n",
      "/home/justin/anaconda3/lib/python3.6/site-packages/sklearn/model_selection/_validation.py:458: DataConversionWarning: A column-vector y was passed when a 1d array was expected. Please change the shape of y to (n_samples,), for example using ravel().\n",
      "  estimator.fit(X_train, y_train, **fit_params)\n"
     ]
    },
    {
     "name": "stdout",
     "output_type": "stream",
     "text": [
      "building tree 2 of 75building tree 3 of 75building tree 4 of 75\n",
      "building tree 5 of 75building tree 1 of 75building tree 7 of 75building tree 8 of 75\n",
      "\n",
      "\n",
      "\n",
      "\n",
      "\n",
      "building tree 6 of 75\n",
      "building tree 9 of 75\n",
      "building tree 10 of 75\n"
     ]
    },
    {
     "name": "stderr",
     "output_type": "stream",
     "text": [
      "[Parallel(n_jobs=-1)]: Done   2 tasks      | elapsed:    5.1s\n"
     ]
    },
    {
     "name": "stdout",
     "output_type": "stream",
     "text": [
      "building tree 11 of 75\n",
      "building tree 12 of 75\n",
      "building tree 13 of 75\n",
      "building tree 14 of 75\n",
      "building tree 15 of 75\n",
      "building tree 16 of 75\n"
     ]
    },
    {
     "name": "stderr",
     "output_type": "stream",
     "text": [
      "[Parallel(n_jobs=-1)]: Done   9 tasks      | elapsed:   10.4s\n"
     ]
    },
    {
     "name": "stdout",
     "output_type": "stream",
     "text": [
      "building tree 17 of 75\n",
      "building tree 18 of 75\n",
      "building tree 19 of 75\n",
      "building tree 20 of 75\n",
      "building tree 21 of 75\n",
      "building tree 22 of 75\n",
      "building tree 23 of 75\n"
     ]
    },
    {
     "name": "stderr",
     "output_type": "stream",
     "text": [
      "[Parallel(n_jobs=-1)]: Done  16 tasks      | elapsed:   13.1s\n"
     ]
    },
    {
     "name": "stdout",
     "output_type": "stream",
     "text": [
      "building tree 24 of 75\n",
      "building tree 25 of 75\n",
      "building tree 26 of 75\n",
      "building tree 27 of 75\n",
      "building tree 28 of 75\n",
      "building tree 29 of 75\n",
      "building tree 30 of 75\n",
      "building tree 31 of 75\n",
      "building tree 32 of 75\n"
     ]
    },
    {
     "name": "stderr",
     "output_type": "stream",
     "text": [
      "[Parallel(n_jobs=-1)]: Done  25 tasks      | elapsed:   21.7s\n"
     ]
    },
    {
     "name": "stdout",
     "output_type": "stream",
     "text": [
      "building tree 33 of 75\n",
      "building tree 34 of 75\n",
      "building tree 35 of 75\n",
      "building tree 36 of 75\n",
      "building tree 37 of 75\n",
      "building tree 38 of 75\n",
      "building tree 39 of 75\n",
      "building tree 40 of 75\n",
      "building tree 41 of 75\n"
     ]
    },
    {
     "name": "stderr",
     "output_type": "stream",
     "text": [
      "[Parallel(n_jobs=-1)]: Done  34 tasks      | elapsed:   27.9s\n"
     ]
    },
    {
     "name": "stdout",
     "output_type": "stream",
     "text": [
      "building tree 42 of 75\n",
      "building tree 43 of 75\n",
      "building tree 44 of 75\n",
      "building tree 45 of 75\n",
      "building tree 46 of 75\n",
      "building tree 47 of 75\n",
      "building tree 48 of 75\n",
      "building tree 49 of 75\n",
      "building tree 50 of 75\n",
      "building tree 51 of 75\n",
      "building tree 52 of 75\n"
     ]
    },
    {
     "name": "stderr",
     "output_type": "stream",
     "text": [
      "[Parallel(n_jobs=-1)]: Done  45 tasks      | elapsed:   35.1s\n"
     ]
    },
    {
     "name": "stdout",
     "output_type": "stream",
     "text": [
      "building tree 53 of 75\n",
      "building tree 54 of 75\n",
      "building tree 55 of 75\n",
      "building tree 56 of 75\n",
      "building tree 57 of 75\n",
      "building tree 58 of 75\n",
      "building tree 59 of 75\n",
      "building tree 60 of 75\n",
      "building tree 61 of 75\n",
      "building tree 62 of 75\n",
      "building tree 63 of 75\n"
     ]
    },
    {
     "name": "stderr",
     "output_type": "stream",
     "text": [
      "[Parallel(n_jobs=-1)]: Done  56 tasks      | elapsed:   42.8s\n"
     ]
    },
    {
     "name": "stdout",
     "output_type": "stream",
     "text": [
      "building tree 64 of 75\n",
      "building tree 65 of 75\n",
      "building tree 66 of 75\n",
      "building tree 67 of 75\n",
      "building tree 68 of 75\n",
      "building tree 69 of 75\n",
      "building tree 70 of 75\n",
      "building tree 71 of 75\n",
      "building tree 72 of 75\n",
      "building tree 73 of 75\n",
      "building tree 74 of 75\n",
      "building tree 75 of 75\n"
     ]
    },
    {
     "name": "stderr",
     "output_type": "stream",
     "text": [
      "[Parallel(n_jobs=-1)]: Done  68 out of  75 | elapsed:   52.0s remaining:    5.4s\n",
      "[Parallel(n_jobs=-1)]: Done  75 out of  75 | elapsed:   55.2s finished\n",
      "[Parallel(n_jobs=8)]: Done   2 tasks      | elapsed:    0.0s\n",
      "[Parallel(n_jobs=8)]: Done   9 tasks      | elapsed:    0.1s\n",
      "[Parallel(n_jobs=8)]: Done  16 tasks      | elapsed:    0.1s\n",
      "[Parallel(n_jobs=8)]: Done  25 tasks      | elapsed:    0.2s\n",
      "[Parallel(n_jobs=8)]: Done  34 tasks      | elapsed:    0.2s\n",
      "[Parallel(n_jobs=8)]: Done  45 tasks      | elapsed:    0.3s\n",
      "[Parallel(n_jobs=8)]: Done  56 tasks      | elapsed:    0.4s\n",
      "[Parallel(n_jobs=8)]: Done  68 out of  75 | elapsed:    0.5s remaining:    0.0s\n",
      "[Parallel(n_jobs=8)]: Done  75 out of  75 | elapsed:    0.5s finished\n",
      "[Parallel(n_jobs=8)]: Done   2 tasks      | elapsed:    0.1s\n",
      "[Parallel(n_jobs=8)]: Done   9 tasks      | elapsed:    0.2s\n",
      "[Parallel(n_jobs=8)]: Done  16 tasks      | elapsed:    0.3s\n",
      "[Parallel(n_jobs=8)]: Done  25 tasks      | elapsed:    0.4s\n",
      "[Parallel(n_jobs=8)]: Done  34 tasks      | elapsed:    0.5s\n",
      "[Parallel(n_jobs=8)]: Done  45 tasks      | elapsed:    0.6s\n",
      "[Parallel(n_jobs=8)]: Done  56 tasks      | elapsed:    0.8s\n",
      "[Parallel(n_jobs=8)]: Done  68 out of  75 | elapsed:    0.9s remaining:    0.1s\n",
      "[Parallel(n_jobs=8)]: Done  75 out of  75 | elapsed:    1.0s finished\n",
      "/home/justin/anaconda3/lib/python3.6/site-packages/sklearn/model_selection/_validation.py:458: DataConversionWarning: A column-vector y was passed when a 1d array was expected. Please change the shape of y to (n_samples,), for example using ravel().\n",
      "  estimator.fit(X_train, y_train, **fit_params)\n"
     ]
    },
    {
     "name": "stdout",
     "output_type": "stream",
     "text": [
      "building tree 2 of 139building tree 3 of 139building tree 4 of 139\n",
      "building tree 5 of 139building tree 6 of 139building tree 1 of 139building tree 8 of 139building tree 7 of 139\n",
      "\n",
      "\n",
      "\n",
      "\n",
      "\n",
      "\n",
      "building tree 9 of 139\n"
     ]
    },
    {
     "name": "stderr",
     "output_type": "stream",
     "text": [
      "[Parallel(n_jobs=-1)]: Done   2 tasks      | elapsed:    6.9s\n"
     ]
    },
    {
     "name": "stdout",
     "output_type": "stream",
     "text": [
      "building tree 10 of 139\n",
      "building tree 11 of 139\n",
      "building tree 12 of 139\n",
      "building tree 13 of 139\n",
      "building tree 14 of 139\n",
      "building tree 15 of 139\n",
      "building tree 16 of 139\n"
     ]
    },
    {
     "name": "stderr",
     "output_type": "stream",
     "text": [
      "[Parallel(n_jobs=-1)]: Done   9 tasks      | elapsed:   13.7s\n"
     ]
    },
    {
     "name": "stdout",
     "output_type": "stream",
     "text": [
      "building tree 17 of 139\n",
      "building tree 18 of 139\n",
      "building tree 19 of 139\n",
      "building tree 20 of 139\n",
      "building tree 21 of 139\n",
      "building tree 22 of 139\n",
      "building tree 23 of 139\n"
     ]
    },
    {
     "name": "stderr",
     "output_type": "stream",
     "text": [
      "[Parallel(n_jobs=-1)]: Done  16 tasks      | elapsed:   16.4s\n"
     ]
    },
    {
     "name": "stdout",
     "output_type": "stream",
     "text": [
      "building tree 24 of 139\n",
      "building tree 25 of 139\n",
      "building tree 26 of 139\n",
      "building tree 27 of 139\n",
      "building tree 28 of 139\n",
      "building tree 29 of 139\n",
      "building tree 30 of 139\n",
      "building tree 31 of 139\n",
      "building tree 32 of 139\n"
     ]
    },
    {
     "name": "stderr",
     "output_type": "stream",
     "text": [
      "[Parallel(n_jobs=-1)]: Done  25 tasks      | elapsed:   27.8s\n"
     ]
    },
    {
     "name": "stdout",
     "output_type": "stream",
     "text": [
      "building tree 33 of 139\n",
      "building tree 34 of 139\n",
      "building tree 35 of 139\n",
      "building tree 36 of 139\n",
      "building tree 37 of 139\n",
      "building tree 38 of 139\n",
      "building tree 39 of 139\n",
      "building tree 40 of 139\n",
      "building tree 41 of 139\n"
     ]
    },
    {
     "name": "stderr",
     "output_type": "stream",
     "text": [
      "[Parallel(n_jobs=-1)]: Done  34 tasks      | elapsed:   35.8s\n"
     ]
    },
    {
     "name": "stdout",
     "output_type": "stream",
     "text": [
      "building tree 42 of 139\n",
      "building tree 43 of 139\n",
      "building tree 44 of 139\n",
      "building tree 45 of 139\n",
      "building tree 46 of 139\n",
      "building tree 47 of 139\n",
      "building tree 48 of 139\n",
      "building tree 49 of 139\n",
      "building tree 50 of 139\n",
      "building tree 51 of 139\n",
      "building tree 52 of 139\n",
      "building tree 53 of 139\n"
     ]
    },
    {
     "name": "stderr",
     "output_type": "stream",
     "text": [
      "[Parallel(n_jobs=-1)]: Done  45 tasks      | elapsed:   44.1s\n"
     ]
    },
    {
     "name": "stdout",
     "output_type": "stream",
     "text": [
      "building tree 54 of 139\n",
      "building tree 55 of 139\n",
      "building tree 56 of 139\n",
      "building tree 57 of 139\n",
      "building tree 58 of 139\n",
      "building tree 59 of 139\n",
      "building tree 60 of 139\n",
      "building tree 61 of 139\n",
      "building tree 62 of 139\n",
      "building tree 63 of 139\n"
     ]
    },
    {
     "name": "stderr",
     "output_type": "stream",
     "text": [
      "[Parallel(n_jobs=-1)]: Done  56 tasks      | elapsed:   54.8s\n"
     ]
    },
    {
     "name": "stdout",
     "output_type": "stream",
     "text": [
      "building tree 64 of 139\n",
      "building tree 65 of 139\n",
      "building tree 66 of 139\n",
      "building tree 67 of 139\n",
      "building tree 68 of 139\n",
      "building tree 69 of 139\n",
      "building tree 70 of 139\n",
      "building tree 71 of 139\n",
      "building tree 72 of 139\n",
      "building tree 73 of 139\n",
      "building tree 74 of 139\n",
      "building tree 75 of 139\n",
      "building tree 76 of 139\n",
      "building tree 77 of 139\n"
     ]
    },
    {
     "name": "stderr",
     "output_type": "stream",
     "text": [
      "[Parallel(n_jobs=-1)]: Done  69 tasks      | elapsed:  1.1min\n"
     ]
    },
    {
     "name": "stdout",
     "output_type": "stream",
     "text": [
      "building tree 78 of 139\n",
      "building tree 79 of 139\n",
      "building tree 80 of 139\n",
      "building tree 81 of 139\n",
      "building tree 82 of 139\n",
      "building tree 83 of 139\n",
      "building tree 84 of 139\n",
      "building tree 85 of 139\n",
      "building tree 86 of 139\n",
      "building tree 87 of 139\n",
      "building tree 88 of 139\n",
      "building tree 89 of 139\n"
     ]
    },
    {
     "name": "stderr",
     "output_type": "stream",
     "text": [
      "[Parallel(n_jobs=-1)]: Done  82 tasks      | elapsed:  1.3min\n"
     ]
    },
    {
     "name": "stdout",
     "output_type": "stream",
     "text": [
      "building tree 90 of 139\n",
      "building tree 91 of 139\n",
      "building tree 92 of 139\n",
      "building tree 93 of 139\n",
      "building tree 94 of 139\n",
      "building tree 95 of 139\n",
      "building tree 96 of 139\n",
      "building tree 97 of 139\n",
      "building tree 98 of 139\n",
      "building tree 99 of 139\n",
      "building tree 100 of 139\n",
      "building tree 101 of 139\n",
      "building tree 102 of 139\n",
      "building tree 103 of 139\n",
      "building tree 104 of 139\n"
     ]
    },
    {
     "name": "stderr",
     "output_type": "stream",
     "text": [
      "[Parallel(n_jobs=-1)]: Done  97 tasks      | elapsed:  1.5min\n"
     ]
    },
    {
     "name": "stdout",
     "output_type": "stream",
     "text": [
      "building tree 105 of 139\n",
      "building tree 106 of 139\n",
      "building tree 107 of 139\n",
      "building tree 108 of 139\n",
      "building tree 109 of 139\n",
      "building tree 110 of 139\n",
      "building tree 111 of 139\n",
      "building tree 112 of 139\n",
      "building tree 113 of 139\n",
      "building tree 114 of 139\n",
      "building tree 115 of 139\n",
      "building tree 116 of 139\n",
      "building tree 117 of 139\n",
      "building tree 118 of 139\n",
      "building tree 119 of 139\n"
     ]
    },
    {
     "name": "stderr",
     "output_type": "stream",
     "text": [
      "[Parallel(n_jobs=-1)]: Done 112 tasks      | elapsed:  1.7min\n"
     ]
    },
    {
     "name": "stdout",
     "output_type": "stream",
     "text": [
      "building tree 120 of 139\n",
      "building tree 121 of 139\n",
      "building tree 122 of 139\n",
      "building tree 123 of 139\n",
      "building tree 124 of 139\n",
      "building tree 125 of 139\n",
      "building tree 126 of 139\n",
      "building tree 127 of 139\n",
      "building tree 128 of 139\n",
      "building tree 129 of 139\n",
      "building tree 130 of 139\n",
      "building tree 131 of 139\n",
      "building tree 132 of 139\n",
      "building tree 133 of 139\n",
      "building tree 134 of 139\n",
      "building tree 135 of 139\n",
      "building tree 136 of 139\n",
      "building tree 137 of 139\n",
      "building tree 138 of 139\n",
      "building tree 139 of 139\n"
     ]
    },
    {
     "name": "stderr",
     "output_type": "stream",
     "text": [
      "[Parallel(n_jobs=-1)]: Done 139 out of 139 | elapsed:  2.1min finished\n",
      "[Parallel(n_jobs=8)]: Done   2 tasks      | elapsed:    0.0s\n",
      "[Parallel(n_jobs=8)]: Done   9 tasks      | elapsed:    0.1s\n",
      "[Parallel(n_jobs=8)]: Done  16 tasks      | elapsed:    0.2s\n",
      "[Parallel(n_jobs=8)]: Done  25 tasks      | elapsed:    0.3s\n",
      "[Parallel(n_jobs=8)]: Done  34 tasks      | elapsed:    0.3s\n",
      "[Parallel(n_jobs=8)]: Done  45 tasks      | elapsed:    0.5s\n",
      "[Parallel(n_jobs=8)]: Done  56 tasks      | elapsed:    0.5s\n",
      "[Parallel(n_jobs=8)]: Done  69 tasks      | elapsed:    0.7s\n",
      "[Parallel(n_jobs=8)]: Done  82 tasks      | elapsed:    0.8s\n",
      "[Parallel(n_jobs=8)]: Done  97 tasks      | elapsed:    0.9s\n",
      "[Parallel(n_jobs=8)]: Done 112 tasks      | elapsed:    1.0s\n",
      "[Parallel(n_jobs=8)]: Done 139 out of 139 | elapsed:    1.3s finished\n",
      "[Parallel(n_jobs=8)]: Done   2 tasks      | elapsed:    0.1s\n",
      "[Parallel(n_jobs=8)]: Done   9 tasks      | elapsed:    0.2s\n",
      "[Parallel(n_jobs=8)]: Done  16 tasks      | elapsed:    0.3s\n",
      "[Parallel(n_jobs=8)]: Done  25 tasks      | elapsed:    0.5s\n",
      "[Parallel(n_jobs=8)]: Done  34 tasks      | elapsed:    0.6s\n",
      "[Parallel(n_jobs=8)]: Done  45 tasks      | elapsed:    0.8s\n",
      "[Parallel(n_jobs=8)]: Done  56 tasks      | elapsed:    1.0s\n",
      "[Parallel(n_jobs=8)]: Done  69 tasks      | elapsed:    1.2s\n",
      "[Parallel(n_jobs=8)]: Done  82 tasks      | elapsed:    1.4s\n",
      "[Parallel(n_jobs=8)]: Done  97 tasks      | elapsed:    1.6s\n",
      "[Parallel(n_jobs=8)]: Done 112 tasks      | elapsed:    1.9s\n",
      "[Parallel(n_jobs=8)]: Done 139 out of 139 | elapsed:    2.3s finished\n",
      "/home/justin/anaconda3/lib/python3.6/site-packages/sklearn/model_selection/_validation.py:458: DataConversionWarning: A column-vector y was passed when a 1d array was expected. Please change the shape of y to (n_samples,), for example using ravel().\n",
      "  estimator.fit(X_train, y_train, **fit_params)\n"
     ]
    },
    {
     "name": "stdout",
     "output_type": "stream",
     "text": [
      "building tree 3 of 139\n",
      "building tree 1 of 139building tree 4 of 139building tree 5 of 139building tree 7 of 139building tree 6 of 139building tree 8 of 139building tree 2 of 139\n",
      "\n",
      "\n",
      "\n",
      "\n",
      "\n",
      "\n",
      "building tree 9 of 139\n",
      "building tree 10 of 139\n"
     ]
    },
    {
     "name": "stderr",
     "output_type": "stream",
     "text": [
      "[Parallel(n_jobs=-1)]: Done   2 tasks      | elapsed:    7.5s\n"
     ]
    },
    {
     "name": "stdout",
     "output_type": "stream",
     "text": [
      "building tree 11 of 139\n",
      "building tree 12 of 139\n",
      "building tree 14 of 139\n",
      "building tree 13 of 139\n",
      "building tree 15 of 139\n",
      "building tree 16 of 139\n"
     ]
    },
    {
     "name": "stderr",
     "output_type": "stream",
     "text": [
      "[Parallel(n_jobs=-1)]: Done   9 tasks      | elapsed:   14.8s\n"
     ]
    },
    {
     "name": "stdout",
     "output_type": "stream",
     "text": [
      "building tree 17 of 139\n",
      "building tree 18 of 139\n",
      "building tree 19 of 139\n",
      "building tree 20 of 139\n",
      "building tree 21 of 139\n",
      "building tree 22 of 139\n",
      "building tree 23 of 139\n"
     ]
    },
    {
     "name": "stderr",
     "output_type": "stream",
     "text": [
      "[Parallel(n_jobs=-1)]: Done  16 tasks      | elapsed:   16.5s\n"
     ]
    },
    {
     "name": "stdout",
     "output_type": "stream",
     "text": [
      "building tree 24 of 139\n",
      "building tree 25 of 139\n",
      "building tree 26 of 139\n",
      "building tree 27 of 139\n",
      "building tree 28 of 139\n",
      "building tree 29 of 139\n",
      "building tree 30 of 139\n",
      "building tree 31 of 139\n",
      "building tree 32 of 139\n"
     ]
    },
    {
     "name": "stderr",
     "output_type": "stream",
     "text": [
      "[Parallel(n_jobs=-1)]: Done  25 tasks      | elapsed:   28.4s\n"
     ]
    },
    {
     "name": "stdout",
     "output_type": "stream",
     "text": [
      "building tree 33 of 139\n",
      "building tree 34 of 139\n",
      "building tree 35 of 139\n",
      "building tree 36 of 139\n",
      "building tree 37 of 139\n",
      "building tree 38 of 139\n",
      "building tree 39 of 139\n",
      "building tree 40 of 139\n",
      "building tree 41 of 139\n"
     ]
    },
    {
     "name": "stderr",
     "output_type": "stream",
     "text": [
      "[Parallel(n_jobs=-1)]: Done  34 tasks      | elapsed:   37.3s\n"
     ]
    },
    {
     "name": "stdout",
     "output_type": "stream",
     "text": [
      "building tree 42 of 139\n",
      "building tree 43 of 139\n",
      "building tree 44 of 139\n",
      "building tree 45 of 139\n",
      "building tree 46 of 139\n",
      "building tree 47 of 139\n",
      "building tree 48 of 139\n",
      "building tree 49 of 139\n",
      "building tree 50 of 139\n",
      "building tree 51 of 139\n",
      "building tree 52 of 139\n"
     ]
    },
    {
     "name": "stderr",
     "output_type": "stream",
     "text": [
      "[Parallel(n_jobs=-1)]: Done  45 tasks      | elapsed:   45.8s\n"
     ]
    },
    {
     "name": "stdout",
     "output_type": "stream",
     "text": [
      "building tree 53 of 139\n",
      "building tree 54 of 139\n",
      "building tree 55 of 139\n",
      "building tree 56 of 139\n",
      "building tree 57 of 139\n",
      "building tree 58 of 139\n",
      "building tree 59 of 139\n",
      "building tree 60 of 139\n",
      "building tree 61 of 139\n",
      "building tree 62 of 139\n",
      "building tree 63 of 139\n"
     ]
    },
    {
     "name": "stderr",
     "output_type": "stream",
     "text": [
      "[Parallel(n_jobs=-1)]: Done  56 tasks      | elapsed:   55.3s\n"
     ]
    },
    {
     "name": "stdout",
     "output_type": "stream",
     "text": [
      "building tree 64 of 139\n",
      "building tree 65 of 139\n",
      "building tree 66 of 139\n",
      "building tree 67 of 139\n",
      "building tree 68 of 139\n",
      "building tree 69 of 139\n",
      "building tree 70 of 139\n",
      "building tree 71 of 139\n",
      "building tree 72 of 139\n",
      "building tree 73 of 139\n",
      "building tree 74 of 139\n",
      "building tree 75 of 139\n",
      "building tree 76 of 139\n"
     ]
    },
    {
     "name": "stderr",
     "output_type": "stream",
     "text": [
      "[Parallel(n_jobs=-1)]: Done  69 tasks      | elapsed:  1.1min\n"
     ]
    },
    {
     "name": "stdout",
     "output_type": "stream",
     "text": [
      "building tree 77 of 139\n",
      "building tree 78 of 139\n",
      "building tree 79 of 139\n",
      "building tree 80 of 139\n",
      "building tree 81 of 139\n",
      "building tree 82 of 139\n",
      "building tree 83 of 139\n",
      "building tree 84 of 139\n",
      "building tree 85 of 139\n",
      "building tree 86 of 139\n",
      "building tree 87 of 139\n",
      "building tree 88 of 139\n",
      "building tree 89 of 139\n"
     ]
    },
    {
     "name": "stderr",
     "output_type": "stream",
     "text": [
      "[Parallel(n_jobs=-1)]: Done  82 tasks      | elapsed:  1.4min\n"
     ]
    },
    {
     "name": "stdout",
     "output_type": "stream",
     "text": [
      "building tree 90 of 139\n",
      "building tree 91 of 139\n",
      "building tree 92 of 139\n",
      "building tree 93 of 139\n",
      "building tree 94 of 139\n",
      "building tree 95 of 139\n",
      "building tree 96 of 139\n",
      "building tree 97 of 139\n",
      "building tree 98 of 139\n",
      "building tree 99 of 139\n",
      "building tree 100 of 139\n",
      "building tree 101 of 139\n",
      "building tree 102 of 139\n",
      "building tree 103 of 139\n",
      "building tree 104 of 139\n"
     ]
    },
    {
     "name": "stderr",
     "output_type": "stream",
     "text": [
      "[Parallel(n_jobs=-1)]: Done  97 tasks      | elapsed:  1.6min\n"
     ]
    },
    {
     "name": "stdout",
     "output_type": "stream",
     "text": [
      "building tree 105 of 139\n",
      "building tree 106 of 139\n",
      "building tree 107 of 139\n",
      "building tree 108 of 139\n",
      "building tree 109 of 139\n",
      "building tree 110 of 139\n",
      "building tree 111 of 139\n",
      "building tree 112 of 139\n",
      "building tree 113 of 139\n",
      "building tree 114 of 139\n",
      "building tree 115 of 139\n",
      "building tree 116 of 139\n",
      "building tree 117 of 139\n",
      "building tree 118 of 139\n",
      "building tree 119 of 139\n"
     ]
    },
    {
     "name": "stderr",
     "output_type": "stream",
     "text": [
      "[Parallel(n_jobs=-1)]: Done 112 tasks      | elapsed:  1.8min\n"
     ]
    },
    {
     "name": "stdout",
     "output_type": "stream",
     "text": [
      "building tree 120 of 139\n",
      "building tree 121 of 139\n",
      "building tree 122 of 139\n",
      "building tree 123 of 139\n",
      "building tree 124 of 139\n",
      "building tree 125 of 139\n",
      "building tree 126 of 139\n",
      "building tree 127 of 139\n",
      "building tree 128 of 139\n",
      "building tree 129 of 139\n",
      "building tree 130 of 139\n",
      "building tree 131 of 139\n",
      "building tree 132 of 139\n",
      "building tree 133 of 139\n",
      "building tree 134 of 139\n",
      "building tree 135 of 139\n",
      "building tree 136 of 139\n",
      "building tree 137 of 139\n",
      "building tree 138 of 139\n",
      "building tree 139 of 139\n"
     ]
    },
    {
     "name": "stderr",
     "output_type": "stream",
     "text": [
      "[Parallel(n_jobs=-1)]: Done 139 out of 139 | elapsed:  2.2min finished\n",
      "[Parallel(n_jobs=8)]: Done   2 tasks      | elapsed:    0.0s\n",
      "[Parallel(n_jobs=8)]: Done   9 tasks      | elapsed:    0.1s\n",
      "[Parallel(n_jobs=8)]: Done  16 tasks      | elapsed:    0.1s\n",
      "[Parallel(n_jobs=8)]: Done  25 tasks      | elapsed:    0.2s\n",
      "[Parallel(n_jobs=8)]: Done  34 tasks      | elapsed:    0.3s\n",
      "[Parallel(n_jobs=8)]: Done  45 tasks      | elapsed:    0.4s\n",
      "[Parallel(n_jobs=8)]: Done  56 tasks      | elapsed:    0.5s\n",
      "[Parallel(n_jobs=8)]: Done  69 tasks      | elapsed:    0.6s\n",
      "[Parallel(n_jobs=8)]: Done  82 tasks      | elapsed:    0.7s\n",
      "[Parallel(n_jobs=8)]: Done  97 tasks      | elapsed:    0.8s\n",
      "[Parallel(n_jobs=8)]: Done 112 tasks      | elapsed:    0.9s\n",
      "[Parallel(n_jobs=8)]: Done 139 out of 139 | elapsed:    1.1s finished\n",
      "[Parallel(n_jobs=8)]: Done   2 tasks      | elapsed:    0.1s\n",
      "[Parallel(n_jobs=8)]: Done   9 tasks      | elapsed:    0.2s\n",
      "[Parallel(n_jobs=8)]: Done  16 tasks      | elapsed:    0.3s\n",
      "[Parallel(n_jobs=8)]: Done  25 tasks      | elapsed:    0.5s\n",
      "[Parallel(n_jobs=8)]: Done  34 tasks      | elapsed:    0.6s\n",
      "[Parallel(n_jobs=8)]: Done  45 tasks      | elapsed:    0.9s\n",
      "[Parallel(n_jobs=8)]: Done  56 tasks      | elapsed:    1.0s\n",
      "[Parallel(n_jobs=8)]: Done  69 tasks      | elapsed:    1.3s\n",
      "[Parallel(n_jobs=8)]: Done  82 tasks      | elapsed:    1.5s\n",
      "[Parallel(n_jobs=8)]: Done  97 tasks      | elapsed:    1.8s\n",
      "[Parallel(n_jobs=8)]: Done 112 tasks      | elapsed:    2.0s\n",
      "[Parallel(n_jobs=8)]: Done 139 out of 139 | elapsed:    2.5s finished\n",
      "/home/justin/anaconda3/lib/python3.6/site-packages/sklearn/model_selection/_validation.py:458: DataConversionWarning: A column-vector y was passed when a 1d array was expected. Please change the shape of y to (n_samples,), for example using ravel().\n",
      "  estimator.fit(X_train, y_train, **fit_params)\n"
     ]
    },
    {
     "name": "stdout",
     "output_type": "stream",
     "text": [
      "building tree 3 of 139building tree 5 of 139building tree 7 of 139building tree 1 of 139\n",
      "building tree 4 of 139building tree 2 of 139building tree 6 of 139\n",
      "\n",
      "\n",
      "\n",
      "\n",
      "\n",
      "building tree 8 of 139\n",
      "building tree 9 of 139\n"
     ]
    },
    {
     "name": "stderr",
     "output_type": "stream",
     "text": [
      "[Parallel(n_jobs=-1)]: Done   2 tasks      | elapsed:    6.8s\n"
     ]
    },
    {
     "name": "stdout",
     "output_type": "stream",
     "text": [
      "building tree 10 of 139\n",
      "building tree 11 of 139\n",
      "building tree 12 of 139\n",
      "building tree 13 of 139\n",
      "building tree 14 of 139\n",
      "building tree 15 of 139\n",
      "building tree 16 of 139\n"
     ]
    },
    {
     "name": "stderr",
     "output_type": "stream",
     "text": [
      "[Parallel(n_jobs=-1)]: Done   9 tasks      | elapsed:   13.3s\n"
     ]
    },
    {
     "name": "stdout",
     "output_type": "stream",
     "text": [
      "building tree 17 of 139\n",
      "building tree 18 of 139\n",
      "building tree 19 of 139\n",
      "building tree 20 of 139\n",
      "building tree 21 of 139\n",
      "building tree 22 of 139\n",
      "building tree 23 of 139\n"
     ]
    },
    {
     "name": "stderr",
     "output_type": "stream",
     "text": [
      "[Parallel(n_jobs=-1)]: Done  16 tasks      | elapsed:   15.9s\n"
     ]
    },
    {
     "name": "stdout",
     "output_type": "stream",
     "text": [
      "building tree 24 of 139\n",
      "building tree 25 of 139\n",
      "building tree 26 of 139\n",
      "building tree 27 of 139\n",
      "building tree 28 of 139\n",
      "building tree 29 of 139\n",
      "building tree 30 of 139\n",
      "building tree 31 of 139\n",
      "building tree 32 of 139\n"
     ]
    },
    {
     "name": "stderr",
     "output_type": "stream",
     "text": [
      "[Parallel(n_jobs=-1)]: Done  25 tasks      | elapsed:   27.3s\n"
     ]
    },
    {
     "name": "stdout",
     "output_type": "stream",
     "text": [
      "building tree 33 of 139\n",
      "building tree 34 of 139\n",
      "building tree 35 of 139\n",
      "building tree 36 of 139\n",
      "building tree 37 of 139\n",
      "building tree 38 of 139\n",
      "building tree 39 of 139\n",
      "building tree 40 of 139\n",
      "building tree 41 of 139\n",
      "building tree 42 of 139\n"
     ]
    },
    {
     "name": "stderr",
     "output_type": "stream",
     "text": [
      "[Parallel(n_jobs=-1)]: Done  34 tasks      | elapsed:   34.8s\n"
     ]
    },
    {
     "name": "stdout",
     "output_type": "stream",
     "text": [
      "building tree 43 of 139\n",
      "building tree 44 of 139\n",
      "building tree 45 of 139\n",
      "building tree 46 of 139\n",
      "building tree 47 of 139\n",
      "building tree 48 of 139\n",
      "building tree 49 of 139\n",
      "building tree 50 of 139\n",
      "building tree 51 of 139\n",
      "building tree 52 of 139\n",
      "building tree 53 of 139\n",
      "building tree 54 of 139\n"
     ]
    },
    {
     "name": "stderr",
     "output_type": "stream",
     "text": [
      "[Parallel(n_jobs=-1)]: Done  45 tasks      | elapsed:   43.7s\n"
     ]
    },
    {
     "name": "stdout",
     "output_type": "stream",
     "text": [
      "building tree 55 of 139\n",
      "building tree 56 of 139\n",
      "building tree 57 of 139\n",
      "building tree 58 of 139\n",
      "building tree 59 of 139\n",
      "building tree 60 of 139\n",
      "building tree 61 of 139\n",
      "building tree 62 of 139\n",
      "building tree 63 of 139\n"
     ]
    },
    {
     "name": "stderr",
     "output_type": "stream",
     "text": [
      "[Parallel(n_jobs=-1)]: Done  56 tasks      | elapsed:   52.5s\n"
     ]
    },
    {
     "name": "stdout",
     "output_type": "stream",
     "text": [
      "building tree 64 of 139\n",
      "building tree 65 of 139\n",
      "building tree 66 of 139\n",
      "building tree 67 of 139\n",
      "building tree 68 of 139\n",
      "building tree 69 of 139\n",
      "building tree 70 of 139\n",
      "building tree 71 of 139\n",
      "building tree 72 of 139\n",
      "building tree 73 of 139\n",
      "building tree 74 of 139\n",
      "building tree 75 of 139\n",
      "building tree 76 of 139\n"
     ]
    },
    {
     "name": "stderr",
     "output_type": "stream",
     "text": [
      "[Parallel(n_jobs=-1)]: Done  69 tasks      | elapsed:  1.1min\n"
     ]
    },
    {
     "name": "stdout",
     "output_type": "stream",
     "text": [
      "building tree 77 of 139\n",
      "building tree 78 of 139\n",
      "building tree 79 of 139\n",
      "building tree 80 of 139\n",
      "building tree 81 of 139\n",
      "building tree 82 of 139\n",
      "building tree 83 of 139\n",
      "building tree 84 of 139\n",
      "building tree 85 of 139\n",
      "building tree 86 of 139\n",
      "building tree 87 of 139\n",
      "building tree 88 of 139\n",
      "building tree 89 of 139\n"
     ]
    },
    {
     "name": "stderr",
     "output_type": "stream",
     "text": [
      "[Parallel(n_jobs=-1)]: Done  82 tasks      | elapsed:  1.3min\n"
     ]
    },
    {
     "name": "stdout",
     "output_type": "stream",
     "text": [
      "building tree 90 of 139\n",
      "building tree 91 of 139\n",
      "building tree 92 of 139\n",
      "building tree 93 of 139\n",
      "building tree 94 of 139\n",
      "building tree 95 of 139\n",
      "building tree 96 of 139\n",
      "building tree 97 of 139\n",
      "building tree 98 of 139\n",
      "building tree 99 of 139\n",
      "building tree 100 of 139\n",
      "building tree 101 of 139\n",
      "building tree 102 of 139\n",
      "building tree 103 of 139\n",
      "building tree 104 of 139\n"
     ]
    },
    {
     "name": "stderr",
     "output_type": "stream",
     "text": [
      "[Parallel(n_jobs=-1)]: Done  97 tasks      | elapsed:  1.5min\n"
     ]
    },
    {
     "name": "stdout",
     "output_type": "stream",
     "text": [
      "building tree 105 of 139\n",
      "building tree 106 of 139\n",
      "building tree 107 of 139\n",
      "building tree 108 of 139\n",
      "building tree 109 of 139\n",
      "building tree 110 of 139\n",
      "building tree 111 of 139\n",
      "building tree 112 of 139\n",
      "building tree 113 of 139\n",
      "building tree 114 of 139\n",
      "building tree 115 of 139\n",
      "building tree 116 of 139\n",
      "building tree 117 of 139\n",
      "building tree 118 of 139\n",
      "building tree 119 of 139\n"
     ]
    },
    {
     "name": "stderr",
     "output_type": "stream",
     "text": [
      "[Parallel(n_jobs=-1)]: Done 112 tasks      | elapsed:  1.7min\n"
     ]
    },
    {
     "name": "stdout",
     "output_type": "stream",
     "text": [
      "building tree 120 of 139\n",
      "building tree 121 of 139\n",
      "building tree 122 of 139\n",
      "building tree 123 of 139\n",
      "building tree 124 of 139\n",
      "building tree 125 of 139\n",
      "building tree 126 of 139\n",
      "building tree 127 of 139\n",
      "building tree 128 of 139\n",
      "building tree 129 of 139\n",
      "building tree 130 of 139\n",
      "building tree 131 of 139\n",
      "building tree 132 of 139\n",
      "building tree 133 of 139\n",
      "building tree 134 of 139\n",
      "building tree 135 of 139\n",
      "building tree 136 of 139\n",
      "building tree 137 of 139\n",
      "building tree 138 of 139\n",
      "building tree 139 of 139\n"
     ]
    },
    {
     "name": "stderr",
     "output_type": "stream",
     "text": [
      "[Parallel(n_jobs=-1)]: Done 139 out of 139 | elapsed:  2.1min finished\n",
      "[Parallel(n_jobs=8)]: Done   2 tasks      | elapsed:    0.0s\n",
      "[Parallel(n_jobs=8)]: Done   9 tasks      | elapsed:    0.1s\n",
      "[Parallel(n_jobs=8)]: Done  16 tasks      | elapsed:    0.1s\n",
      "[Parallel(n_jobs=8)]: Done  25 tasks      | elapsed:    0.2s\n",
      "[Parallel(n_jobs=8)]: Done  34 tasks      | elapsed:    0.3s\n",
      "[Parallel(n_jobs=8)]: Done  45 tasks      | elapsed:    0.4s\n",
      "[Parallel(n_jobs=8)]: Done  56 tasks      | elapsed:    0.5s\n",
      "[Parallel(n_jobs=8)]: Done  69 tasks      | elapsed:    0.6s\n",
      "[Parallel(n_jobs=8)]: Done  82 tasks      | elapsed:    0.7s\n",
      "[Parallel(n_jobs=8)]: Done  97 tasks      | elapsed:    0.9s\n",
      "[Parallel(n_jobs=8)]: Done 112 tasks      | elapsed:    1.0s\n",
      "[Parallel(n_jobs=8)]: Done 139 out of 139 | elapsed:    1.2s finished\n",
      "[Parallel(n_jobs=8)]: Done   2 tasks      | elapsed:    0.1s\n",
      "[Parallel(n_jobs=8)]: Done   9 tasks      | elapsed:    0.2s\n",
      "[Parallel(n_jobs=8)]: Done  16 tasks      | elapsed:    0.3s\n",
      "[Parallel(n_jobs=8)]: Done  25 tasks      | elapsed:    0.5s\n",
      "[Parallel(n_jobs=8)]: Done  34 tasks      | elapsed:    0.6s\n",
      "[Parallel(n_jobs=8)]: Done  45 tasks      | elapsed:    0.8s\n",
      "[Parallel(n_jobs=8)]: Done  56 tasks      | elapsed:    1.1s\n",
      "[Parallel(n_jobs=8)]: Done  69 tasks      | elapsed:    1.4s\n",
      "[Parallel(n_jobs=8)]: Done  82 tasks      | elapsed:    1.6s\n",
      "[Parallel(n_jobs=8)]: Done  97 tasks      | elapsed:    1.9s\n",
      "[Parallel(n_jobs=8)]: Done 112 tasks      | elapsed:    2.2s\n",
      "[Parallel(n_jobs=8)]: Done 139 out of 139 | elapsed:    2.6s finished\n",
      "/home/justin/anaconda3/lib/python3.6/site-packages/sklearn/model_selection/_validation.py:458: DataConversionWarning: A column-vector y was passed when a 1d array was expected. Please change the shape of y to (n_samples,), for example using ravel().\n",
      "  estimator.fit(X_train, y_train, **fit_params)\n"
     ]
    },
    {
     "name": "stdout",
     "output_type": "stream",
     "text": [
      "building tree 2 of 43building tree 4 of 43building tree 6 of 43building tree 3 of 43building tree 1 of 43building tree 7 of 43\n",
      "building tree 5 of 43building tree 8 of 43\n",
      "\n",
      "\n",
      "\n",
      "\n",
      "\n",
      "\n",
      "building tree 9 of 43\n"
     ]
    },
    {
     "name": "stderr",
     "output_type": "stream",
     "text": [
      "[Parallel(n_jobs=-1)]: Done   2 tasks      | elapsed:   23.0s\n"
     ]
    },
    {
     "name": "stdout",
     "output_type": "stream",
     "text": [
      "building tree 10 of 43\n",
      "building tree 11 of 43\n",
      "building tree 12 of 43\n",
      "building tree 13 of 43\n",
      "building tree 14 of 43\n",
      "building tree 15 of 43\n",
      "building tree 16 of 43\n"
     ]
    },
    {
     "name": "stderr",
     "output_type": "stream",
     "text": [
      "[Parallel(n_jobs=-1)]: Done   9 tasks      | elapsed:   45.1s\n"
     ]
    },
    {
     "name": "stdout",
     "output_type": "stream",
     "text": [
      "building tree 17 of 43\n",
      "building tree 18 of 43\n",
      "building tree 19 of 43\n",
      "building tree 20 of 43\n",
      "building tree 21 of 43\n",
      "building tree 22 of 43\n",
      "building tree 23 of 43\n",
      "building tree 24 of 43\n"
     ]
    },
    {
     "name": "stderr",
     "output_type": "stream",
     "text": [
      "[Parallel(n_jobs=-1)]: Done  16 tasks      | elapsed:   49.8s\n"
     ]
    },
    {
     "name": "stdout",
     "output_type": "stream",
     "text": [
      "building tree 25 of 43\n",
      "building tree 26 of 43\n",
      "building tree 27 of 43\n",
      "building tree 28 of 43\n",
      "building tree 29 of 43\n",
      "building tree 30 of 43\n",
      "building tree 31 of 43\n",
      "building tree 32 of 43\n"
     ]
    },
    {
     "name": "stderr",
     "output_type": "stream",
     "text": [
      "[Parallel(n_jobs=-1)]: Done  25 tasks      | elapsed:  1.6min\n"
     ]
    },
    {
     "name": "stdout",
     "output_type": "stream",
     "text": [
      "building tree 33 of 43\n",
      "building tree 34 of 43\n",
      "building tree 35 of 43\n",
      "building tree 36 of 43\n",
      "building tree 37 of 43\n",
      "building tree 38 of 43\n",
      "building tree 39 of 43\n",
      "building tree 40 of 43\n"
     ]
    },
    {
     "name": "stderr",
     "output_type": "stream",
     "text": [
      "[Parallel(n_jobs=-1)]: Done  33 out of  43 | elapsed:  1.9min remaining:   35.0s\n"
     ]
    },
    {
     "name": "stdout",
     "output_type": "stream",
     "text": [
      "building tree 41 of 43\n",
      "building tree 42 of 43\n",
      "building tree 43 of 43\n"
     ]
    },
    {
     "name": "stderr",
     "output_type": "stream",
     "text": [
      "[Parallel(n_jobs=-1)]: Done  38 out of  43 | elapsed:  2.0min remaining:   16.0s\n",
      "[Parallel(n_jobs=-1)]: Done  43 out of  43 | elapsed:  2.2min remaining:    0.0s\n",
      "[Parallel(n_jobs=-1)]: Done  43 out of  43 | elapsed:  2.2min finished\n",
      "[Parallel(n_jobs=8)]: Done   2 tasks      | elapsed:    0.0s\n",
      "[Parallel(n_jobs=8)]: Done   9 tasks      | elapsed:    0.1s\n",
      "[Parallel(n_jobs=8)]: Done  16 tasks      | elapsed:    0.1s\n",
      "[Parallel(n_jobs=8)]: Done  25 tasks      | elapsed:    0.2s\n",
      "[Parallel(n_jobs=8)]: Done  33 out of  43 | elapsed:    0.2s remaining:    0.1s\n",
      "[Parallel(n_jobs=8)]: Done  38 out of  43 | elapsed:    0.3s remaining:    0.0s\n",
      "[Parallel(n_jobs=8)]: Done  43 out of  43 | elapsed:    0.3s remaining:    0.0s\n",
      "[Parallel(n_jobs=8)]: Done  43 out of  43 | elapsed:    0.3s finished\n",
      "[Parallel(n_jobs=8)]: Done   2 tasks      | elapsed:    0.1s\n",
      "[Parallel(n_jobs=8)]: Done   9 tasks      | elapsed:    0.1s\n",
      "[Parallel(n_jobs=8)]: Done  16 tasks      | elapsed:    0.2s\n",
      "[Parallel(n_jobs=8)]: Done  25 tasks      | elapsed:    0.4s\n",
      "[Parallel(n_jobs=8)]: Done  33 out of  43 | elapsed:    0.5s remaining:    0.1s\n",
      "[Parallel(n_jobs=8)]: Done  38 out of  43 | elapsed:    0.6s remaining:    0.1s\n",
      "[Parallel(n_jobs=8)]: Done  43 out of  43 | elapsed:    0.6s remaining:    0.0s\n",
      "[Parallel(n_jobs=8)]: Done  43 out of  43 | elapsed:    0.6s finished\n",
      "/home/justin/anaconda3/lib/python3.6/site-packages/sklearn/model_selection/_validation.py:458: DataConversionWarning: A column-vector y was passed when a 1d array was expected. Please change the shape of y to (n_samples,), for example using ravel().\n",
      "  estimator.fit(X_train, y_train, **fit_params)\n"
     ]
    },
    {
     "name": "stdout",
     "output_type": "stream",
     "text": [
      "building tree 2 of 43building tree 1 of 43building tree 4 of 43building tree 6 of 43building tree 7 of 43\n",
      "\n",
      "\n",
      "\n",
      "building tree 8 of 43\n",
      "\n",
      "building tree 5 of 43building tree 3 of 43\n",
      "\n",
      "building tree 9 of 43\n"
     ]
    },
    {
     "name": "stderr",
     "output_type": "stream",
     "text": [
      "[Parallel(n_jobs=-1)]: Done   2 tasks      | elapsed:   21.9s\n"
     ]
    },
    {
     "name": "stdout",
     "output_type": "stream",
     "text": [
      "building tree 10 of 43\n",
      "building tree 11 of 43\n",
      "building tree 12 of 43\n",
      "building tree 13 of 43\n",
      "building tree 14 of 43\n",
      "building tree 15 of 43\n",
      "building tree 16 of 43\n"
     ]
    },
    {
     "name": "stderr",
     "output_type": "stream",
     "text": [
      "[Parallel(n_jobs=-1)]: Done   9 tasks      | elapsed:   43.1s\n"
     ]
    },
    {
     "name": "stdout",
     "output_type": "stream",
     "text": [
      "building tree 17 of 43\n",
      "building tree 18 of 43\n",
      "building tree 19 of 43\n",
      "building tree 20 of 43\n",
      "building tree 21 of 43\n",
      "building tree 22 of 43\n",
      "building tree 23 of 43\n"
     ]
    },
    {
     "name": "stderr",
     "output_type": "stream",
     "text": [
      "[Parallel(n_jobs=-1)]: Done  16 tasks      | elapsed:   48.3s\n"
     ]
    },
    {
     "name": "stdout",
     "output_type": "stream",
     "text": [
      "building tree 24 of 43\n",
      "building tree 25 of 43\n",
      "building tree 26 of 43\n",
      "building tree 27 of 43\n",
      "building tree 28 of 43\n",
      "building tree 29 of 43\n",
      "building tree 30 of 43\n",
      "building tree 31 of 43\n",
      "building tree 32 of 43\n"
     ]
    },
    {
     "name": "stderr",
     "output_type": "stream",
     "text": [
      "[Parallel(n_jobs=-1)]: Done  25 tasks      | elapsed:  1.5min\n"
     ]
    },
    {
     "name": "stdout",
     "output_type": "stream",
     "text": [
      "building tree 33 of 43\n",
      "building tree 34 of 43\n",
      "building tree 35 of 43\n",
      "building tree 36 of 43\n",
      "building tree 37 of 43\n",
      "building tree 39 of 43building tree 38 of 43\n",
      "\n",
      "building tree 40 of 43\n"
     ]
    },
    {
     "name": "stderr",
     "output_type": "stream",
     "text": [
      "[Parallel(n_jobs=-1)]: Done  33 out of  43 | elapsed:  1.8min remaining:   33.5s\n"
     ]
    },
    {
     "name": "stdout",
     "output_type": "stream",
     "text": [
      "building tree 41 of 43\n",
      "building tree 42 of 43\n",
      "building tree 43 of 43\n"
     ]
    },
    {
     "name": "stderr",
     "output_type": "stream",
     "text": [
      "[Parallel(n_jobs=-1)]: Done  38 out of  43 | elapsed:  1.9min remaining:   15.1s\n",
      "[Parallel(n_jobs=-1)]: Done  43 out of  43 | elapsed:  2.1min remaining:    0.0s\n",
      "[Parallel(n_jobs=-1)]: Done  43 out of  43 | elapsed:  2.1min finished\n",
      "[Parallel(n_jobs=8)]: Done   2 tasks      | elapsed:    0.0s\n",
      "[Parallel(n_jobs=8)]: Done   9 tasks      | elapsed:    0.1s\n",
      "[Parallel(n_jobs=8)]: Done  16 tasks      | elapsed:    0.1s\n",
      "[Parallel(n_jobs=8)]: Done  25 tasks      | elapsed:    0.2s\n",
      "[Parallel(n_jobs=8)]: Done  33 out of  43 | elapsed:    0.2s remaining:    0.1s\n",
      "[Parallel(n_jobs=8)]: Done  38 out of  43 | elapsed:    0.3s remaining:    0.0s\n",
      "[Parallel(n_jobs=8)]: Done  43 out of  43 | elapsed:    0.3s remaining:    0.0s\n",
      "[Parallel(n_jobs=8)]: Done  43 out of  43 | elapsed:    0.3s finished\n",
      "[Parallel(n_jobs=8)]: Done   2 tasks      | elapsed:    0.1s\n",
      "[Parallel(n_jobs=8)]: Done   9 tasks      | elapsed:    0.2s\n",
      "[Parallel(n_jobs=8)]: Done  16 tasks      | elapsed:    0.2s\n",
      "[Parallel(n_jobs=8)]: Done  25 tasks      | elapsed:    0.4s\n",
      "[Parallel(n_jobs=8)]: Done  33 out of  43 | elapsed:    0.5s remaining:    0.2s\n",
      "[Parallel(n_jobs=8)]: Done  38 out of  43 | elapsed:    0.5s remaining:    0.1s\n",
      "[Parallel(n_jobs=8)]: Done  43 out of  43 | elapsed:    0.6s remaining:    0.0s\n",
      "[Parallel(n_jobs=8)]: Done  43 out of  43 | elapsed:    0.6s finished\n",
      "/home/justin/anaconda3/lib/python3.6/site-packages/sklearn/model_selection/_validation.py:458: DataConversionWarning: A column-vector y was passed when a 1d array was expected. Please change the shape of y to (n_samples,), for example using ravel().\n",
      "  estimator.fit(X_train, y_train, **fit_params)\n"
     ]
    },
    {
     "name": "stdout",
     "output_type": "stream",
     "text": [
      "building tree 2 of 43building tree 1 of 43building tree 4 of 43building tree 6 of 43building tree 7 of 43building tree 5 of 43building tree 3 of 43building tree 8 of 43\n",
      "\n",
      "\n",
      "\n",
      "\n",
      "\n",
      "\n",
      "\n",
      "building tree 9 of 43\n",
      "building tree 10 of 43\n"
     ]
    },
    {
     "name": "stderr",
     "output_type": "stream",
     "text": [
      "[Parallel(n_jobs=-1)]: Done   2 tasks      | elapsed:   19.7s\n"
     ]
    },
    {
     "name": "stdout",
     "output_type": "stream",
     "text": [
      "building tree 11 of 43\n",
      "building tree 12 of 43\n",
      "building tree 13 of 43\n",
      "building tree 14 of 43\n",
      "building tree 15 of 43\n",
      "building tree 16 of 43\n"
     ]
    },
    {
     "name": "stderr",
     "output_type": "stream",
     "text": [
      "[Parallel(n_jobs=-1)]: Done   9 tasks      | elapsed:   39.1s\n"
     ]
    },
    {
     "name": "stdout",
     "output_type": "stream",
     "text": [
      "building tree 17 of 43\n",
      "building tree 18 of 43\n",
      "building tree 19 of 43\n",
      "building tree 20 of 43\n",
      "building tree 21 of 43\n",
      "building tree 22 of 43\n",
      "building tree 23 of 43\n"
     ]
    },
    {
     "name": "stderr",
     "output_type": "stream",
     "text": [
      "[Parallel(n_jobs=-1)]: Done  16 tasks      | elapsed:   42.8s\n"
     ]
    },
    {
     "name": "stdout",
     "output_type": "stream",
     "text": [
      "building tree 24 of 43\n",
      "building tree 25 of 43\n",
      "building tree 26 of 43\n",
      "building tree 27 of 43\n",
      "building tree 28 of 43\n",
      "building tree 29 of 43\n",
      "building tree 30 of 43\n",
      "building tree 31 of 43\n",
      "building tree 32 of 43\n"
     ]
    },
    {
     "name": "stderr",
     "output_type": "stream",
     "text": [
      "[Parallel(n_jobs=-1)]: Done  25 tasks      | elapsed:  1.3min\n"
     ]
    },
    {
     "name": "stdout",
     "output_type": "stream",
     "text": [
      "building tree 33 of 43\n",
      "building tree 34 of 43\n",
      "building tree 35 of 43\n",
      "building tree 36 of 43\n",
      "building tree 37 of 43\n",
      "building tree 38 of 43\n",
      "building tree 39 of 43\n",
      "building tree 40 of 43\n"
     ]
    },
    {
     "name": "stderr",
     "output_type": "stream",
     "text": [
      "[Parallel(n_jobs=-1)]: Done  33 out of  43 | elapsed:  1.7min remaining:   30.4s\n"
     ]
    },
    {
     "name": "stdout",
     "output_type": "stream",
     "text": [
      "building tree 41 of 43\n",
      "building tree 42 of 43\n",
      "building tree 43 of 43\n"
     ]
    },
    {
     "name": "stderr",
     "output_type": "stream",
     "text": [
      "[Parallel(n_jobs=-1)]: Done  38 out of  43 | elapsed:  1.7min remaining:   13.6s\n",
      "[Parallel(n_jobs=-1)]: Done  43 out of  43 | elapsed:  1.9min remaining:    0.0s\n",
      "[Parallel(n_jobs=-1)]: Done  43 out of  43 | elapsed:  1.9min finished\n",
      "[Parallel(n_jobs=8)]: Done   2 tasks      | elapsed:    0.0s\n",
      "[Parallel(n_jobs=8)]: Done   9 tasks      | elapsed:    0.1s\n",
      "[Parallel(n_jobs=8)]: Done  16 tasks      | elapsed:    0.1s\n",
      "[Parallel(n_jobs=8)]: Done  25 tasks      | elapsed:    0.2s\n",
      "[Parallel(n_jobs=8)]: Done  33 out of  43 | elapsed:    0.2s remaining:    0.1s\n",
      "[Parallel(n_jobs=8)]: Done  38 out of  43 | elapsed:    0.3s remaining:    0.0s\n",
      "[Parallel(n_jobs=8)]: Done  43 out of  43 | elapsed:    0.3s remaining:    0.0s\n",
      "[Parallel(n_jobs=8)]: Done  43 out of  43 | elapsed:    0.3s finished\n",
      "[Parallel(n_jobs=8)]: Done   2 tasks      | elapsed:    0.1s\n",
      "[Parallel(n_jobs=8)]: Done   9 tasks      | elapsed:    0.2s\n",
      "[Parallel(n_jobs=8)]: Done  16 tasks      | elapsed:    0.3s\n",
      "[Parallel(n_jobs=8)]: Done  25 tasks      | elapsed:    0.4s\n",
      "[Parallel(n_jobs=8)]: Done  33 out of  43 | elapsed:    0.5s remaining:    0.1s\n",
      "[Parallel(n_jobs=8)]: Done  38 out of  43 | elapsed:    0.5s remaining:    0.1s\n",
      "[Parallel(n_jobs=8)]: Done  43 out of  43 | elapsed:    0.6s remaining:    0.0s\n",
      "[Parallel(n_jobs=8)]: Done  43 out of  43 | elapsed:    0.6s finished\n",
      "/home/justin/anaconda3/lib/python3.6/site-packages/sklearn/model_selection/_validation.py:458: DataConversionWarning: A column-vector y was passed when a 1d array was expected. Please change the shape of y to (n_samples,), for example using ravel().\n",
      "  estimator.fit(X_train, y_train, **fit_params)\n"
     ]
    },
    {
     "name": "stdout",
     "output_type": "stream",
     "text": [
      "building tree 2 of 132building tree 1 of 132building tree 3 of 132building tree 4 of 132building tree 5 of 132building tree 7 of 132building tree 6 of 132building tree 8 of 132\n",
      "\n",
      "\n",
      "\n",
      "\n",
      "\n",
      "\n",
      "\n",
      "building tree 9 of 132\n",
      "building tree 10 of 132\n",
      "building tree 11 of 132\n",
      "building tree 12 of 132\n",
      "building tree 13 of 132\n"
     ]
    },
    {
     "name": "stderr",
     "output_type": "stream",
     "text": [
      "[Parallel(n_jobs=-1)]: Done   2 tasks      | elapsed:    0.6s\n"
     ]
    },
    {
     "name": "stdout",
     "output_type": "stream",
     "text": [
      "building tree 14 of 132\n",
      "building tree 15 of 132\n",
      "building tree 16 of 132\n"
     ]
    },
    {
     "name": "stderr",
     "output_type": "stream",
     "text": [
      "[Parallel(n_jobs=-1)]: Done   9 tasks      | elapsed:    1.2s\n"
     ]
    },
    {
     "name": "stdout",
     "output_type": "stream",
     "text": [
      "building tree 17 of 132\n",
      "building tree 18 of 132\n",
      "building tree 19 of 132\n",
      "building tree 20 of 132\n",
      "building tree 21 of 132\n",
      "building tree 22 of 132\n",
      "building tree 23 of 132\n",
      "building tree 24 of 132\n",
      "building tree 25 of 132\n"
     ]
    },
    {
     "name": "stderr",
     "output_type": "stream",
     "text": [
      "[Parallel(n_jobs=-1)]: Done  16 tasks      | elapsed:    1.6s\n"
     ]
    },
    {
     "name": "stdout",
     "output_type": "stream",
     "text": [
      "building tree 26 of 132\n",
      "building tree 27 of 132\n",
      "building tree 28 of 132\n",
      "building tree 29 of 132\n",
      "building tree 30 of 132\n",
      "building tree 31 of 132\n",
      "building tree 32 of 132\n"
     ]
    },
    {
     "name": "stderr",
     "output_type": "stream",
     "text": [
      "[Parallel(n_jobs=-1)]: Done  25 tasks      | elapsed:    2.4s\n"
     ]
    },
    {
     "name": "stdout",
     "output_type": "stream",
     "text": [
      "building tree 33 of 132\n",
      "building tree 34 of 132\n",
      "building tree 35 of 132\n",
      "building tree 36 of 132\n",
      "building tree 37 of 132\n",
      "building tree 38 of 132\n",
      "building tree 39 of 132\n",
      "building tree 40 of 132\n",
      "building tree 41 of 132\n",
      "building tree 42 of 132\n",
      "building tree 43 of 132\n",
      "building tree 44 of 132\n"
     ]
    },
    {
     "name": "stderr",
     "output_type": "stream",
     "text": [
      "[Parallel(n_jobs=-1)]: Done  34 tasks      | elapsed:    3.2s\n"
     ]
    },
    {
     "name": "stdout",
     "output_type": "stream",
     "text": [
      "building tree 45 of 132\n",
      "building tree 46 of 132\n",
      "building tree 47 of 132\n",
      "building tree 48 of 132\n",
      "building tree 49 of 132\n",
      "building tree 50 of 132\n",
      "building tree 51 of 132\n",
      "building tree 52 of 132\n",
      "building tree 53 of 132\n",
      "building tree 54 of 132\n"
     ]
    },
    {
     "name": "stderr",
     "output_type": "stream",
     "text": [
      "[Parallel(n_jobs=-1)]: Done  45 tasks      | elapsed:    4.1s\n"
     ]
    },
    {
     "name": "stdout",
     "output_type": "stream",
     "text": [
      "building tree 55 of 132\n",
      "building tree 56 of 132\n",
      "building tree 57 of 132\n",
      "building tree 58 of 132\n",
      "building tree 59 of 132\n",
      "building tree 60 of 132\n",
      "building tree 61 of 132\n",
      "building tree 62 of 132\n",
      "building tree 63 of 132\n",
      "building tree 64 of 132\n",
      "building tree 65 of 132\n"
     ]
    },
    {
     "name": "stderr",
     "output_type": "stream",
     "text": [
      "[Parallel(n_jobs=-1)]: Done  56 tasks      | elapsed:    5.2s\n"
     ]
    },
    {
     "name": "stdout",
     "output_type": "stream",
     "text": [
      "building tree 66 of 132\n",
      "building tree 67 of 132\n",
      "building tree 68 of 132\n",
      "building tree 69 of 132\n",
      "building tree 70 of 132\n",
      "building tree 71 of 132\n",
      "building tree 72 of 132\n",
      "building tree 73 of 132\n",
      "building tree 74 of 132\n",
      "building tree 75 of 132\n",
      "building tree 76 of 132\n",
      "building tree 77 of 132\n"
     ]
    },
    {
     "name": "stderr",
     "output_type": "stream",
     "text": [
      "[Parallel(n_jobs=-1)]: Done  69 tasks      | elapsed:    6.3s\n"
     ]
    },
    {
     "name": "stdout",
     "output_type": "stream",
     "text": [
      "building tree 78 of 132\n",
      "building tree 79 of 132\n",
      "building tree 80 of 132\n",
      "building tree 81 of 132\n",
      "building tree 82 of 132\n",
      "building tree 83 of 132\n",
      "building tree 84 of 132\n",
      "building tree 85 of 132\n",
      "building tree 86 of 132\n",
      "building tree 87 of 132\n",
      "building tree 88 of 132\n",
      "building tree 89 of 132\n",
      "building tree 90 of 132\n"
     ]
    },
    {
     "name": "stderr",
     "output_type": "stream",
     "text": [
      "[Parallel(n_jobs=-1)]: Done  82 tasks      | elapsed:    7.4s\n"
     ]
    },
    {
     "name": "stdout",
     "output_type": "stream",
     "text": [
      "building tree 91 of 132\n",
      "building tree 92 of 132\n",
      "building tree 93 of 132\n",
      "building tree 94 of 132\n",
      "building tree 95 of 132\n",
      "building tree 96 of 132\n",
      "building tree 97 of 132\n",
      "building tree 98 of 132\n",
      "building tree 99 of 132\n",
      "building tree 100 of 132\n",
      "building tree 101 of 132\n",
      "building tree 102 of 132\n",
      "building tree 103 of 132\n",
      "building tree 104 of 132\n"
     ]
    },
    {
     "name": "stderr",
     "output_type": "stream",
     "text": [
      "[Parallel(n_jobs=-1)]: Done  97 tasks      | elapsed:    8.8s\n"
     ]
    },
    {
     "name": "stdout",
     "output_type": "stream",
     "text": [
      "building tree 105 of 132\n",
      "building tree 106 of 132\n",
      "building tree 107 of 132\n",
      "building tree 108 of 132\n",
      "building tree 109 of 132\n",
      "building tree 110 of 132\n",
      "building tree 111 of 132\n",
      "building tree 112 of 132\n",
      "building tree 113 of 132\n",
      "building tree 114 of 132\n",
      "building tree 115 of 132\n",
      "building tree 116 of 132\n",
      "building tree 117 of 132\n",
      "building tree 118 of 132\n",
      "building tree 119 of 132\n"
     ]
    },
    {
     "name": "stderr",
     "output_type": "stream",
     "text": [
      "[Parallel(n_jobs=-1)]: Done 112 tasks      | elapsed:    9.9s\n"
     ]
    },
    {
     "name": "stdout",
     "output_type": "stream",
     "text": [
      "building tree 120 of 132\n",
      "building tree 121 of 132\n",
      "building tree 122 of 132\n",
      "building tree 123 of 132\n",
      "building tree 124 of 132\n",
      "building tree 125 of 132\n",
      "building tree 126 of 132\n",
      "building tree 127 of 132\n",
      "building tree 128 of 132\n",
      "building tree 129 of 132\n",
      "building tree 130 of 132\n",
      "building tree 131 of 132\n",
      "building tree 132 of 132\n"
     ]
    },
    {
     "name": "stderr",
     "output_type": "stream",
     "text": [
      "[Parallel(n_jobs=-1)]: Done 132 out of 132 | elapsed:   11.5s finished\n",
      "[Parallel(n_jobs=8)]: Done   2 tasks      | elapsed:    0.1s\n",
      "[Parallel(n_jobs=8)]: Done   9 tasks      | elapsed:    0.1s\n",
      "[Parallel(n_jobs=8)]: Done  16 tasks      | elapsed:    0.2s\n",
      "[Parallel(n_jobs=8)]: Done  25 tasks      | elapsed:    0.2s\n",
      "[Parallel(n_jobs=8)]: Done  34 tasks      | elapsed:    0.3s\n",
      "[Parallel(n_jobs=8)]: Done  45 tasks      | elapsed:    0.4s\n",
      "[Parallel(n_jobs=8)]: Done  56 tasks      | elapsed:    0.5s\n",
      "[Parallel(n_jobs=8)]: Done  69 tasks      | elapsed:    0.6s\n",
      "[Parallel(n_jobs=8)]: Done  82 tasks      | elapsed:    0.7s\n",
      "[Parallel(n_jobs=8)]: Done  97 tasks      | elapsed:    0.8s\n",
      "[Parallel(n_jobs=8)]: Done 112 tasks      | elapsed:    0.9s\n",
      "[Parallel(n_jobs=8)]: Done 132 out of 132 | elapsed:    1.0s finished\n",
      "[Parallel(n_jobs=8)]: Done   2 tasks      | elapsed:    0.1s\n",
      "[Parallel(n_jobs=8)]: Done   9 tasks      | elapsed:    0.2s\n",
      "[Parallel(n_jobs=8)]: Done  16 tasks      | elapsed:    0.3s\n",
      "[Parallel(n_jobs=8)]: Done  25 tasks      | elapsed:    0.4s\n",
      "[Parallel(n_jobs=8)]: Done  34 tasks      | elapsed:    0.5s\n",
      "[Parallel(n_jobs=8)]: Done  45 tasks      | elapsed:    0.7s\n",
      "[Parallel(n_jobs=8)]: Done  56 tasks      | elapsed:    0.9s\n",
      "[Parallel(n_jobs=8)]: Done  69 tasks      | elapsed:    1.0s\n",
      "[Parallel(n_jobs=8)]: Done  82 tasks      | elapsed:    1.2s\n",
      "[Parallel(n_jobs=8)]: Done  97 tasks      | elapsed:    1.4s\n",
      "[Parallel(n_jobs=8)]: Done 112 tasks      | elapsed:    1.6s\n",
      "[Parallel(n_jobs=8)]: Done 132 out of 132 | elapsed:    1.9s finished\n",
      "/home/justin/anaconda3/lib/python3.6/site-packages/sklearn/model_selection/_validation.py:458: DataConversionWarning: A column-vector y was passed when a 1d array was expected. Please change the shape of y to (n_samples,), for example using ravel().\n",
      "  estimator.fit(X_train, y_train, **fit_params)\n"
     ]
    },
    {
     "name": "stdout",
     "output_type": "stream",
     "text": [
      "building tree 1 of 132building tree 2 of 132building tree 3 of 132building tree 6 of 132building tree 5 of 132building tree 4 of 132\n",
      "\n",
      "\n",
      "\n",
      "\n",
      "\n",
      "building tree 7 of 132\n",
      "building tree 8 of 132\n",
      "building tree 9 of 132\n",
      "building tree 10 of 132\n",
      "building tree 11 of 132\n",
      "building tree 12 of 132\n",
      "building tree 13 of 132\n",
      "building tree 14 of 132\n",
      "building tree 15 of 132\n",
      "building tree 16 of 132\n"
     ]
    },
    {
     "name": "stderr",
     "output_type": "stream",
     "text": [
      "[Parallel(n_jobs=-1)]: Done   2 tasks      | elapsed:    0.8s\n",
      "[Parallel(n_jobs=-1)]: Done   9 tasks      | elapsed:    1.3s\n"
     ]
    },
    {
     "name": "stdout",
     "output_type": "stream",
     "text": [
      "building tree 17 of 132\n",
      "building tree 18 of 132\n",
      "building tree 19 of 132\n",
      "building tree 20 of 132\n",
      "building tree 21 of 132\n",
      "building tree 22 of 132\n",
      "building tree 23 of 132\n"
     ]
    },
    {
     "name": "stderr",
     "output_type": "stream",
     "text": [
      "[Parallel(n_jobs=-1)]: Done  16 tasks      | elapsed:    2.1s\n"
     ]
    },
    {
     "name": "stdout",
     "output_type": "stream",
     "text": [
      "building tree 24 of 132\n",
      "building tree 25 of 132\n",
      "building tree 26 of 132\n",
      "building tree 27 of 132\n",
      "building tree 28 of 132\n",
      "building tree 29 of 132\n",
      "building tree 30 of 132\n",
      "building tree 31 of 132\n",
      "building tree 32 of 132\n"
     ]
    },
    {
     "name": "stderr",
     "output_type": "stream",
     "text": [
      "[Parallel(n_jobs=-1)]: Done  25 tasks      | elapsed:    3.0s\n"
     ]
    },
    {
     "name": "stdout",
     "output_type": "stream",
     "text": [
      "building tree 33 of 132\n",
      "building tree 34 of 132\n",
      "building tree 35 of 132\n",
      "building tree 36 of 132\n",
      "building tree 37 of 132\n",
      "building tree 38 of 132\n",
      "building tree 39 of 132\n",
      "building tree 40 of 132\n",
      "building tree 41 of 132\n",
      "building tree 42 of 132\n"
     ]
    },
    {
     "name": "stderr",
     "output_type": "stream",
     "text": [
      "[Parallel(n_jobs=-1)]: Done  34 tasks      | elapsed:    3.7s\n"
     ]
    },
    {
     "name": "stdout",
     "output_type": "stream",
     "text": [
      "building tree 43 of 132\n",
      "building tree 44 of 132\n",
      "building tree 45 of 132\n",
      "building tree 46 of 132\n",
      "building tree 47 of 132\n",
      "building tree 48 of 132\n",
      "building tree 49 of 132\n",
      "building tree 50 of 132\n",
      "building tree 51 of 132\n",
      "building tree 52 of 132\n",
      "building tree 53 of 132\n",
      "building tree 54 of 132\n"
     ]
    },
    {
     "name": "stderr",
     "output_type": "stream",
     "text": [
      "[Parallel(n_jobs=-1)]: Done  45 tasks      | elapsed:    4.9s\n"
     ]
    },
    {
     "name": "stdout",
     "output_type": "stream",
     "text": [
      "building tree 55 of 132\n",
      "building tree 56 of 132\n",
      "building tree 57 of 132\n",
      "building tree 58 of 132\n",
      "building tree 59 of 132\n",
      "building tree 60 of 132\n",
      "building tree 61 of 132\n",
      "building tree 62 of 132\n",
      "building tree 63 of 132\n",
      "building tree 64 of 132\n"
     ]
    },
    {
     "name": "stderr",
     "output_type": "stream",
     "text": [
      "[Parallel(n_jobs=-1)]: Done  56 tasks      | elapsed:    5.9s\n"
     ]
    },
    {
     "name": "stdout",
     "output_type": "stream",
     "text": [
      "building tree 65 of 132\n",
      "building tree 66 of 132\n",
      "building tree 67 of 132\n",
      "building tree 68 of 132\n",
      "building tree 69 of 132\n",
      "building tree 70 of 132\n",
      "building tree 71 of 132\n",
      "building tree 72 of 132\n",
      "building tree 73 of 132\n",
      "building tree 74 of 132\n",
      "building tree 75 of 132\n",
      "building tree 76 of 132\n"
     ]
    },
    {
     "name": "stderr",
     "output_type": "stream",
     "text": [
      "[Parallel(n_jobs=-1)]: Done  69 tasks      | elapsed:    7.3s\n"
     ]
    },
    {
     "name": "stdout",
     "output_type": "stream",
     "text": [
      "building tree 77 of 132\n",
      "building tree 78 of 132\n",
      "building tree 79 of 132\n",
      "building tree 80 of 132\n",
      "building tree 81 of 132\n",
      "building tree 82 of 132\n",
      "building tree 83 of 132\n",
      "building tree 84 of 132\n",
      "building tree 85 of 132\n",
      "building tree 86 of 132\n",
      "building tree 87 of 132\n",
      "building tree 88 of 132\n",
      "building tree 89 of 132\n",
      "building tree 90 of 132\n",
      "building tree 91 of 132\n"
     ]
    },
    {
     "name": "stderr",
     "output_type": "stream",
     "text": [
      "[Parallel(n_jobs=-1)]: Done  82 tasks      | elapsed:    8.7s\n"
     ]
    },
    {
     "name": "stdout",
     "output_type": "stream",
     "text": [
      "building tree 92 of 132\n",
      "building tree 94 of 132\n",
      "building tree 93 of 132\n",
      "building tree 95 of 132\n",
      "building tree 96 of 132\n",
      "building tree 97 of 132\n",
      "building tree 98 of 132\n",
      "building tree 99 of 132\n",
      "building tree 100 of 132\n",
      "building tree 101 of 132building tree 102 of 132\n",
      "\n",
      "building tree 103 of 132\n",
      "building tree 104 of 132\n",
      "building tree 105 of 132\n",
      "building tree 106 of 132\n"
     ]
    },
    {
     "name": "stderr",
     "output_type": "stream",
     "text": [
      "[Parallel(n_jobs=-1)]: Done  97 tasks      | elapsed:    9.7s\n"
     ]
    },
    {
     "name": "stdout",
     "output_type": "stream",
     "text": [
      "building tree 107 of 132\n",
      "building tree 108 of 132\n",
      "building tree 109 of 132\n",
      "building tree 110 of 132\n",
      "building tree 111 of 132\n",
      "building tree 112 of 132\n",
      "building tree 113 of 132\n",
      "building tree 114 of 132\n",
      "building tree 115 of 132\n",
      "building tree 116 of 132\n",
      "building tree 117 of 132\n",
      "building tree 118 of 132\n",
      "building tree 119 of 132\n"
     ]
    },
    {
     "name": "stderr",
     "output_type": "stream",
     "text": [
      "[Parallel(n_jobs=-1)]: Done 112 tasks      | elapsed:   11.2s\n"
     ]
    },
    {
     "name": "stdout",
     "output_type": "stream",
     "text": [
      "building tree 120 of 132\n",
      "building tree 121 of 132\n",
      "building tree 122 of 132building tree 123 of 132\n",
      "\n",
      "building tree 124 of 132\n",
      "building tree 125 of 132\n",
      "building tree 126 of 132\n",
      "building tree 127 of 132\n",
      "building tree 128 of 132\n",
      "building tree 129 of 132\n",
      "building tree 130 of 132\n",
      "building tree 131 of 132\n",
      "building tree 132 of 132\n"
     ]
    },
    {
     "name": "stderr",
     "output_type": "stream",
     "text": [
      "[Parallel(n_jobs=-1)]: Done 132 out of 132 | elapsed:   12.8s finished\n",
      "[Parallel(n_jobs=8)]: Done   2 tasks      | elapsed:    0.0s\n",
      "[Parallel(n_jobs=8)]: Done   9 tasks      | elapsed:    0.1s\n",
      "[Parallel(n_jobs=8)]: Done  16 tasks      | elapsed:    0.2s\n",
      "[Parallel(n_jobs=8)]: Done  25 tasks      | elapsed:    0.2s\n",
      "[Parallel(n_jobs=8)]: Done  34 tasks      | elapsed:    0.3s\n",
      "[Parallel(n_jobs=8)]: Done  45 tasks      | elapsed:    0.4s\n",
      "[Parallel(n_jobs=8)]: Done  56 tasks      | elapsed:    0.5s\n",
      "[Parallel(n_jobs=8)]: Done  69 tasks      | elapsed:    0.6s\n",
      "[Parallel(n_jobs=8)]: Done  82 tasks      | elapsed:    0.7s\n",
      "[Parallel(n_jobs=8)]: Done  97 tasks      | elapsed:    0.8s\n",
      "[Parallel(n_jobs=8)]: Done 112 tasks      | elapsed:    0.9s\n",
      "[Parallel(n_jobs=8)]: Done 132 out of 132 | elapsed:    1.0s finished\n",
      "[Parallel(n_jobs=8)]: Done   2 tasks      | elapsed:    0.1s\n",
      "[Parallel(n_jobs=8)]: Done   9 tasks      | elapsed:    0.2s\n",
      "[Parallel(n_jobs=8)]: Done  16 tasks      | elapsed:    0.3s\n",
      "[Parallel(n_jobs=8)]: Done  25 tasks      | elapsed:    0.5s\n",
      "[Parallel(n_jobs=8)]: Done  34 tasks      | elapsed:    0.6s\n",
      "[Parallel(n_jobs=8)]: Done  45 tasks      | elapsed:    0.8s\n",
      "[Parallel(n_jobs=8)]: Done  56 tasks      | elapsed:    1.0s\n",
      "[Parallel(n_jobs=8)]: Done  69 tasks      | elapsed:    1.2s\n",
      "[Parallel(n_jobs=8)]: Done  82 tasks      | elapsed:    1.4s\n",
      "[Parallel(n_jobs=8)]: Done  97 tasks      | elapsed:    1.6s\n",
      "[Parallel(n_jobs=8)]: Done 112 tasks      | elapsed:    1.8s\n",
      "[Parallel(n_jobs=8)]: Done 132 out of 132 | elapsed:    2.1s finished\n",
      "/home/justin/anaconda3/lib/python3.6/site-packages/sklearn/model_selection/_validation.py:458: DataConversionWarning: A column-vector y was passed when a 1d array was expected. Please change the shape of y to (n_samples,), for example using ravel().\n",
      "  estimator.fit(X_train, y_train, **fit_params)\n"
     ]
    },
    {
     "name": "stdout",
     "output_type": "stream",
     "text": [
      "building tree 2 of 132building tree 4 of 132building tree 5 of 132building tree 6 of 132building tree 7 of 132building tree 3 of 132building tree 1 of 132building tree 8 of 132\n",
      "\n",
      "\n",
      "\n",
      "\n",
      "\n",
      "\n",
      "\n",
      "building tree 9 of 132\n",
      "building tree 10 of 132building tree 11 of 132\n",
      "\n",
      "building tree 12 of 132\n",
      "building tree 13 of 132\n"
     ]
    },
    {
     "name": "stderr",
     "output_type": "stream",
     "text": [
      "[Parallel(n_jobs=-1)]: Done   2 tasks      | elapsed:    0.7s\n"
     ]
    },
    {
     "name": "stdout",
     "output_type": "stream",
     "text": [
      "building tree 14 of 132\n",
      "building tree 15 of 132\n",
      "building tree 16 of 132\n"
     ]
    },
    {
     "name": "stderr",
     "output_type": "stream",
     "text": [
      "[Parallel(n_jobs=-1)]: Done   9 tasks      | elapsed:    1.6s\n"
     ]
    },
    {
     "name": "stdout",
     "output_type": "stream",
     "text": [
      "building tree 17 of 132\n",
      "building tree 18 of 132\n",
      "building tree 19 of 132\n",
      "building tree 20 of 132\n",
      "building tree 21 of 132\n",
      "building tree 22 of 132\n",
      "building tree 23 of 132\n",
      "building tree 24 of 132\n"
     ]
    },
    {
     "name": "stderr",
     "output_type": "stream",
     "text": [
      "[Parallel(n_jobs=-1)]: Done  16 tasks      | elapsed:    2.0s\n"
     ]
    },
    {
     "name": "stdout",
     "output_type": "stream",
     "text": [
      "building tree 25 of 132\n",
      "building tree 26 of 132\n",
      "building tree 27 of 132\n",
      "building tree 28 of 132\n",
      "building tree 29 of 132\n",
      "building tree 30 of 132\n",
      "building tree 31 of 132\n",
      "building tree 32 of 132\n",
      "building tree 33 of 132\n"
     ]
    },
    {
     "name": "stderr",
     "output_type": "stream",
     "text": [
      "[Parallel(n_jobs=-1)]: Done  25 tasks      | elapsed:    3.1s\n"
     ]
    },
    {
     "name": "stdout",
     "output_type": "stream",
     "text": [
      "building tree 34 of 132\n",
      "building tree 35 of 132\n",
      "building tree 36 of 132\n",
      "building tree 37 of 132\n",
      "building tree 38 of 132\n",
      "building tree 39 of 132\n",
      "building tree 40 of 132\n",
      "building tree 41 of 132\n",
      "building tree 42 of 132\n"
     ]
    },
    {
     "name": "stderr",
     "output_type": "stream",
     "text": [
      "[Parallel(n_jobs=-1)]: Done  34 tasks      | elapsed:    3.9s\n"
     ]
    },
    {
     "name": "stdout",
     "output_type": "stream",
     "text": [
      "building tree 43 of 132\n",
      "building tree 44 of 132\n",
      "building tree 45 of 132\n",
      "building tree 46 of 132\n",
      "building tree 47 of 132\n",
      "building tree 48 of 132\n",
      "building tree 49 of 132\n",
      "building tree 50 of 132\n",
      "building tree 51 of 132\n",
      "building tree 52 of 132\n",
      "building tree 53 of 132\n",
      "building tree 54 of 132\n"
     ]
    },
    {
     "name": "stderr",
     "output_type": "stream",
     "text": [
      "[Parallel(n_jobs=-1)]: Done  45 tasks      | elapsed:    5.4s\n"
     ]
    },
    {
     "name": "stdout",
     "output_type": "stream",
     "text": [
      "building tree 55 of 132\n",
      "building tree 56 of 132\n",
      "building tree 57 of 132\n",
      "building tree 58 of 132\n",
      "building tree 59 of 132\n",
      "building tree 60 of 132\n",
      "building tree 61 of 132\n",
      "building tree 62 of 132\n",
      "building tree 63 of 132\n"
     ]
    },
    {
     "name": "stderr",
     "output_type": "stream",
     "text": [
      "[Parallel(n_jobs=-1)]: Done  56 tasks      | elapsed:    6.5s\n"
     ]
    },
    {
     "name": "stdout",
     "output_type": "stream",
     "text": [
      "building tree 64 of 132\n",
      "building tree 65 of 132\n",
      "building tree 66 of 132\n",
      "building tree 67 of 132\n",
      "building tree 68 of 132\n",
      "building tree 69 of 132\n",
      "building tree 70 of 132\n",
      "building tree 71 of 132\n",
      "building tree 72 of 132\n",
      "building tree 73 of 132\n",
      "building tree 74 of 132\n",
      "building tree 75 of 132\n",
      "building tree 76 of 132\n",
      "building tree 77 of 132\n"
     ]
    },
    {
     "name": "stderr",
     "output_type": "stream",
     "text": [
      "[Parallel(n_jobs=-1)]: Done  69 tasks      | elapsed:    7.9s\n"
     ]
    },
    {
     "name": "stdout",
     "output_type": "stream",
     "text": [
      "building tree 78 of 132\n",
      "building tree 79 of 132\n",
      "building tree 80 of 132\n",
      "building tree 81 of 132\n",
      "building tree 82 of 132\n",
      "building tree 83 of 132\n",
      "building tree 84 of 132\n",
      "building tree 85 of 132\n",
      "building tree 86 of 132\n",
      "building tree 87 of 132\n",
      "building tree 88 of 132\n",
      "building tree 89 of 132\n",
      "building tree 90 of 132\n",
      "building tree 91 of 132\n"
     ]
    },
    {
     "name": "stderr",
     "output_type": "stream",
     "text": [
      "[Parallel(n_jobs=-1)]: Done  82 tasks      | elapsed:    9.4s\n"
     ]
    },
    {
     "name": "stdout",
     "output_type": "stream",
     "text": [
      "building tree 92 of 132\n",
      "building tree 93 of 132\n",
      "building tree 94 of 132\n",
      "building tree 95 of 132\n",
      "building tree 96 of 132\n",
      "building tree 97 of 132\n",
      "building tree 98 of 132\n",
      "building tree 99 of 132\n",
      "building tree 100 of 132\n",
      "building tree 101 of 132\n",
      "building tree 102 of 132\n",
      "building tree 103 of 132\n",
      "building tree 104 of 132\n"
     ]
    },
    {
     "name": "stderr",
     "output_type": "stream",
     "text": [
      "[Parallel(n_jobs=-1)]: Done  97 tasks      | elapsed:   11.0s\n"
     ]
    },
    {
     "name": "stdout",
     "output_type": "stream",
     "text": [
      "building tree 105 of 132\n",
      "building tree 106 of 132\n",
      "building tree 107 of 132\n",
      "building tree 108 of 132\n",
      "building tree 109 of 132\n",
      "building tree 110 of 132\n",
      "building tree 111 of 132\n",
      "building tree 112 of 132\n",
      "building tree 113 of 132\n",
      "building tree 114 of 132\n",
      "building tree 115 of 132\n",
      "building tree 116 of 132\n",
      "building tree 117 of 132\n",
      "building tree 118 of 132\n",
      "building tree 119 of 132\n",
      "building tree 120 of 132\n",
      "building tree 121 of 132\n",
      "building tree 122 of 132\n"
     ]
    },
    {
     "name": "stderr",
     "output_type": "stream",
     "text": [
      "[Parallel(n_jobs=-1)]: Done 112 tasks      | elapsed:   12.7s\n"
     ]
    },
    {
     "name": "stdout",
     "output_type": "stream",
     "text": [
      "building tree 123 of 132\n",
      "building tree 124 of 132\n",
      "building tree 125 of 132\n",
      "building tree 126 of 132\n",
      "building tree 127 of 132\n",
      "building tree 128 of 132\n",
      "building tree 130 of 132\n",
      "building tree 129 of 132\n",
      "building tree 131 of 132\n",
      "building tree 132 of 132\n"
     ]
    },
    {
     "name": "stderr",
     "output_type": "stream",
     "text": [
      "[Parallel(n_jobs=-1)]: Done 132 out of 132 | elapsed:   14.6s finished\n",
      "[Parallel(n_jobs=8)]: Done   2 tasks      | elapsed:    0.0s\n",
      "[Parallel(n_jobs=8)]: Done   9 tasks      | elapsed:    0.1s\n",
      "[Parallel(n_jobs=8)]: Done  16 tasks      | elapsed:    0.2s\n",
      "[Parallel(n_jobs=8)]: Done  25 tasks      | elapsed:    0.2s\n",
      "[Parallel(n_jobs=8)]: Done  34 tasks      | elapsed:    0.3s\n",
      "[Parallel(n_jobs=8)]: Done  45 tasks      | elapsed:    0.4s\n",
      "[Parallel(n_jobs=8)]: Done  56 tasks      | elapsed:    0.5s\n",
      "[Parallel(n_jobs=8)]: Done  69 tasks      | elapsed:    0.6s\n",
      "[Parallel(n_jobs=8)]: Done  82 tasks      | elapsed:    0.7s\n",
      "[Parallel(n_jobs=8)]: Done  97 tasks      | elapsed:    0.8s\n",
      "[Parallel(n_jobs=8)]: Done 112 tasks      | elapsed:    1.0s\n",
      "[Parallel(n_jobs=8)]: Done 132 out of 132 | elapsed:    1.1s finished\n",
      "[Parallel(n_jobs=8)]: Done   2 tasks      | elapsed:    0.1s\n",
      "[Parallel(n_jobs=8)]: Done   9 tasks      | elapsed:    0.2s\n",
      "[Parallel(n_jobs=8)]: Done  16 tasks      | elapsed:    0.3s\n",
      "[Parallel(n_jobs=8)]: Done  25 tasks      | elapsed:    0.5s\n",
      "[Parallel(n_jobs=8)]: Done  34 tasks      | elapsed:    0.6s\n",
      "[Parallel(n_jobs=8)]: Done  45 tasks      | elapsed:    0.8s\n",
      "[Parallel(n_jobs=8)]: Done  56 tasks      | elapsed:    1.0s\n",
      "[Parallel(n_jobs=8)]: Done  69 tasks      | elapsed:    1.3s\n",
      "[Parallel(n_jobs=8)]: Done  82 tasks      | elapsed:    1.5s\n",
      "[Parallel(n_jobs=8)]: Done  97 tasks      | elapsed:    1.8s\n",
      "[Parallel(n_jobs=8)]: Done 112 tasks      | elapsed:    2.1s\n",
      "[Parallel(n_jobs=8)]: Done 132 out of 132 | elapsed:    2.4s finished\n",
      "/home/justin/anaconda3/lib/python3.6/site-packages/sklearn/model_selection/_validation.py:458: DataConversionWarning: A column-vector y was passed when a 1d array was expected. Please change the shape of y to (n_samples,), for example using ravel().\n",
      "  estimator.fit(X_train, y_train, **fit_params)\n"
     ]
    },
    {
     "name": "stdout",
     "output_type": "stream",
     "text": [
      "building tree 5 of 66building tree 2 of 66building tree 3 of 66building tree 6 of 66building tree 7 of 66building tree 8 of 66building tree 1 of 66\n",
      "building tree 4 of 66\n",
      "\n",
      "\n",
      "\n",
      "\n",
      "\n",
      "\n",
      "building tree 9 of 66\n"
     ]
    },
    {
     "name": "stderr",
     "output_type": "stream",
     "text": [
      "[Parallel(n_jobs=-1)]: Done   2 tasks      | elapsed:   20.6s\n"
     ]
    },
    {
     "name": "stdout",
     "output_type": "stream",
     "text": [
      "building tree 10 of 66\n",
      "building tree 11 of 66\n",
      "building tree 12 of 66\n",
      "building tree 13 of 66\n",
      "building tree 14 of 66\n",
      "building tree 15 of 66\n",
      "building tree 16 of 66\n"
     ]
    },
    {
     "name": "stderr",
     "output_type": "stream",
     "text": [
      "[Parallel(n_jobs=-1)]: Done   9 tasks      | elapsed:   41.9s\n"
     ]
    },
    {
     "name": "stdout",
     "output_type": "stream",
     "text": [
      "building tree 17 of 66\n",
      "building tree 18 of 66\n",
      "building tree 19 of 66\n",
      "building tree 20 of 66\n",
      "building tree 21 of 66\n",
      "building tree 22 of 66\n",
      "building tree 23 of 66\n"
     ]
    },
    {
     "name": "stderr",
     "output_type": "stream",
     "text": [
      "[Parallel(n_jobs=-1)]: Done  16 tasks      | elapsed:   49.5s\n"
     ]
    },
    {
     "name": "stdout",
     "output_type": "stream",
     "text": [
      "building tree 24 of 66\n",
      "building tree 25 of 66\n",
      "building tree 26 of 66\n",
      "building tree 27 of 66\n",
      "building tree 28 of 66\n",
      "building tree 29 of 66\n",
      "building tree 30 of 66\n",
      "building tree 31 of 66\n",
      "building tree 32 of 66\n"
     ]
    },
    {
     "name": "stderr",
     "output_type": "stream",
     "text": [
      "[Parallel(n_jobs=-1)]: Done  25 tasks      | elapsed:  1.4min\n"
     ]
    },
    {
     "name": "stdout",
     "output_type": "stream",
     "text": [
      "building tree 33 of 66\n",
      "building tree 34 of 66\n",
      "building tree 35 of 66\n",
      "building tree 36 of 66\n",
      "building tree 37 of 66\n",
      "building tree 38 of 66\n",
      "building tree 39 of 66\n",
      "building tree 40 of 66\n",
      "building tree 41 of 66\n"
     ]
    },
    {
     "name": "stderr",
     "output_type": "stream",
     "text": [
      "[Parallel(n_jobs=-1)]: Done  34 tasks      | elapsed:  1.8min\n"
     ]
    },
    {
     "name": "stdout",
     "output_type": "stream",
     "text": [
      "building tree 42 of 66\n",
      "building tree 43 of 66\n",
      "building tree 44 of 66\n",
      "building tree 45 of 66\n",
      "building tree 46 of 66\n",
      "building tree 47 of 66\n",
      "building tree 48 of 66\n",
      "building tree 49 of 66\n",
      "building tree 50 of 66\n",
      "building tree 51 of 66\n",
      "building tree 52 of 66\n"
     ]
    },
    {
     "name": "stderr",
     "output_type": "stream",
     "text": [
      "[Parallel(n_jobs=-1)]: Done  45 tasks      | elapsed:  2.2min\n"
     ]
    },
    {
     "name": "stdout",
     "output_type": "stream",
     "text": [
      "building tree 53 of 66\n",
      "building tree 54 of 66\n",
      "building tree 55 of 66\n",
      "building tree 56 of 66\n",
      "building tree 57 of 66\n",
      "building tree 58 of 66\n",
      "building tree 59 of 66\n",
      "building tree 60 of 66\n",
      "building tree 61 of 66\n",
      "building tree 62 of 66\n",
      "building tree 63 of 66\n",
      "building tree 64 of 66\n",
      "building tree 65 of 66\n"
     ]
    },
    {
     "name": "stderr",
     "output_type": "stream",
     "text": [
      "[Parallel(n_jobs=-1)]: Done  58 out of  66 | elapsed:  2.9min remaining:   24.0s\n"
     ]
    },
    {
     "name": "stdout",
     "output_type": "stream",
     "text": [
      "building tree 66 of 66\n"
     ]
    },
    {
     "name": "stderr",
     "output_type": "stream",
     "text": [
      "[Parallel(n_jobs=-1)]: Done  66 out of  66 | elapsed:  3.2min finished\n",
      "[Parallel(n_jobs=8)]: Done   2 tasks      | elapsed:    0.0s\n",
      "[Parallel(n_jobs=8)]: Done   9 tasks      | elapsed:    0.1s\n",
      "[Parallel(n_jobs=8)]: Done  16 tasks      | elapsed:    0.1s\n",
      "[Parallel(n_jobs=8)]: Done  25 tasks      | elapsed:    0.3s\n",
      "[Parallel(n_jobs=8)]: Done  34 tasks      | elapsed:    0.3s\n",
      "[Parallel(n_jobs=8)]: Done  45 tasks      | elapsed:    0.4s\n",
      "[Parallel(n_jobs=8)]: Done  58 out of  66 | elapsed:    0.5s remaining:    0.1s\n",
      "[Parallel(n_jobs=8)]: Done  66 out of  66 | elapsed:    0.6s finished\n",
      "[Parallel(n_jobs=8)]: Done   2 tasks      | elapsed:    0.1s\n",
      "[Parallel(n_jobs=8)]: Done   9 tasks      | elapsed:    0.2s\n",
      "[Parallel(n_jobs=8)]: Done  16 tasks      | elapsed:    0.3s\n",
      "[Parallel(n_jobs=8)]: Done  25 tasks      | elapsed:    0.5s\n",
      "[Parallel(n_jobs=8)]: Done  34 tasks      | elapsed:    0.6s\n",
      "[Parallel(n_jobs=8)]: Done  45 tasks      | elapsed:    0.8s\n",
      "[Parallel(n_jobs=8)]: Done  58 out of  66 | elapsed:    1.0s remaining:    0.1s\n",
      "[Parallel(n_jobs=8)]: Done  66 out of  66 | elapsed:    1.1s finished\n",
      "/home/justin/anaconda3/lib/python3.6/site-packages/sklearn/model_selection/_validation.py:458: DataConversionWarning: A column-vector y was passed when a 1d array was expected. Please change the shape of y to (n_samples,), for example using ravel().\n",
      "  estimator.fit(X_train, y_train, **fit_params)\n"
     ]
    },
    {
     "name": "stdout",
     "output_type": "stream",
     "text": [
      "building tree 2 of 66\n",
      "building tree 3 of 66building tree 4 of 66building tree 6 of 66building tree 7 of 66building tree 8 of 66building tree 1 of 66\n",
      "\n",
      "\n",
      "\n",
      "\n",
      "\n",
      "building tree 5 of 66\n",
      "building tree 9 of 66\n"
     ]
    },
    {
     "name": "stderr",
     "output_type": "stream",
     "text": [
      "[Parallel(n_jobs=-1)]: Done   2 tasks      | elapsed:   20.6s\n"
     ]
    },
    {
     "name": "stdout",
     "output_type": "stream",
     "text": [
      "building tree 10 of 66\n",
      "building tree 11 of 66\n",
      "building tree 12 of 66\n",
      "building tree 13 of 66\n",
      "building tree 14 of 66\n",
      "building tree 15 of 66\n",
      "building tree 16 of 66\n"
     ]
    },
    {
     "name": "stderr",
     "output_type": "stream",
     "text": [
      "[Parallel(n_jobs=-1)]: Done   9 tasks      | elapsed:   40.2s\n"
     ]
    },
    {
     "name": "stdout",
     "output_type": "stream",
     "text": [
      "building tree 17 of 66\n",
      "building tree 18 of 66\n",
      "building tree 19 of 66\n",
      "building tree 20 of 66\n",
      "building tree 21 of 66\n",
      "building tree 22 of 66\n",
      "building tree 23 of 66\n"
     ]
    },
    {
     "name": "stderr",
     "output_type": "stream",
     "text": [
      "[Parallel(n_jobs=-1)]: Done  16 tasks      | elapsed:   45.8s\n"
     ]
    },
    {
     "name": "stdout",
     "output_type": "stream",
     "text": [
      "building tree 24 of 66\n",
      "building tree 25 of 66\n",
      "building tree 26 of 66\n",
      "building tree 27 of 66\n",
      "building tree 28 of 66\n",
      "building tree 29 of 66\n",
      "building tree 30 of 66\n",
      "building tree 31 of 66\n",
      "building tree 32 of 66\n"
     ]
    },
    {
     "name": "stderr",
     "output_type": "stream",
     "text": [
      "[Parallel(n_jobs=-1)]: Done  25 tasks      | elapsed:  1.4min\n"
     ]
    },
    {
     "name": "stdout",
     "output_type": "stream",
     "text": [
      "building tree 33 of 66\n",
      "building tree 34 of 66\n",
      "building tree 35 of 66\n",
      "building tree 36 of 66\n",
      "building tree 37 of 66\n",
      "building tree 38 of 66\n",
      "building tree 39 of 66\n",
      "building tree 40 of 66\n",
      "building tree 41 of 66\n"
     ]
    },
    {
     "name": "stderr",
     "output_type": "stream",
     "text": [
      "[Parallel(n_jobs=-1)]: Done  34 tasks      | elapsed:  1.8min\n"
     ]
    },
    {
     "name": "stdout",
     "output_type": "stream",
     "text": [
      "building tree 42 of 66\n",
      "building tree 43 of 66\n",
      "building tree 44 of 66\n",
      "building tree 45 of 66\n",
      "building tree 46 of 66\n",
      "building tree 47 of 66\n",
      "building tree 48 of 66\n",
      "building tree 49 of 66\n",
      "building tree 50 of 66\n",
      "building tree 51 of 66\n",
      "building tree 52 of 66\n"
     ]
    },
    {
     "name": "stderr",
     "output_type": "stream",
     "text": [
      "[Parallel(n_jobs=-1)]: Done  45 tasks      | elapsed:  2.2min\n"
     ]
    },
    {
     "name": "stdout",
     "output_type": "stream",
     "text": [
      "building tree 53 of 66\n",
      "building tree 54 of 66\n",
      "building tree 55 of 66\n",
      "building tree 56 of 66\n",
      "building tree 57 of 66\n",
      "building tree 58 of 66\n",
      "building tree 59 of 66\n",
      "building tree 60 of 66\n",
      "building tree 61 of 66\n",
      "building tree 62 of 66\n",
      "building tree 63 of 66\n",
      "building tree 64 of 66\n",
      "building tree 65 of 66\n"
     ]
    },
    {
     "name": "stderr",
     "output_type": "stream",
     "text": [
      "[Parallel(n_jobs=-1)]: Done  58 out of  66 | elapsed:  2.8min remaining:   23.5s\n"
     ]
    },
    {
     "name": "stdout",
     "output_type": "stream",
     "text": [
      "building tree 66 of 66\n"
     ]
    },
    {
     "name": "stderr",
     "output_type": "stream",
     "text": [
      "[Parallel(n_jobs=-1)]: Done  66 out of  66 | elapsed:  3.1min finished\n",
      "[Parallel(n_jobs=8)]: Done   2 tasks      | elapsed:    0.1s\n",
      "[Parallel(n_jobs=8)]: Done   9 tasks      | elapsed:    0.1s\n",
      "[Parallel(n_jobs=8)]: Done  16 tasks      | elapsed:    0.2s\n",
      "[Parallel(n_jobs=8)]: Done  25 tasks      | elapsed:    0.2s\n",
      "[Parallel(n_jobs=8)]: Done  34 tasks      | elapsed:    0.3s\n",
      "[Parallel(n_jobs=8)]: Done  45 tasks      | elapsed:    0.4s\n",
      "[Parallel(n_jobs=8)]: Done  58 out of  66 | elapsed:    0.5s remaining:    0.1s\n",
      "[Parallel(n_jobs=8)]: Done  66 out of  66 | elapsed:    0.5s finished\n",
      "[Parallel(n_jobs=8)]: Done   2 tasks      | elapsed:    0.1s\n",
      "[Parallel(n_jobs=8)]: Done   9 tasks      | elapsed:    0.2s\n",
      "[Parallel(n_jobs=8)]: Done  16 tasks      | elapsed:    0.3s\n",
      "[Parallel(n_jobs=8)]: Done  25 tasks      | elapsed:    0.5s\n",
      "[Parallel(n_jobs=8)]: Done  34 tasks      | elapsed:    0.7s\n",
      "[Parallel(n_jobs=8)]: Done  45 tasks      | elapsed:    0.9s\n",
      "[Parallel(n_jobs=8)]: Done  58 out of  66 | elapsed:    1.1s remaining:    0.2s\n",
      "[Parallel(n_jobs=8)]: Done  66 out of  66 | elapsed:    1.2s finished\n",
      "/home/justin/anaconda3/lib/python3.6/site-packages/sklearn/model_selection/_validation.py:458: DataConversionWarning: A column-vector y was passed when a 1d array was expected. Please change the shape of y to (n_samples,), for example using ravel().\n",
      "  estimator.fit(X_train, y_train, **fit_params)\n"
     ]
    },
    {
     "name": "stdout",
     "output_type": "stream",
     "text": [
      "building tree 3 of 66building tree 5 of 66building tree 7 of 66building tree 4 of 66building tree 1 of 66building tree 6 of 66\n",
      "building tree 2 of 66\n",
      "\n",
      "\n",
      "\n",
      "\n",
      "\n",
      "building tree 8 of 66\n",
      "building tree 9 of 66\n"
     ]
    },
    {
     "name": "stderr",
     "output_type": "stream",
     "text": [
      "[Parallel(n_jobs=-1)]: Done   2 tasks      | elapsed:   20.8s\n"
     ]
    },
    {
     "name": "stdout",
     "output_type": "stream",
     "text": [
      "building tree 10 of 66\n",
      "building tree 11 of 66\n",
      "building tree 12 of 66\n",
      "building tree 13 of 66\n",
      "building tree 14 of 66\n",
      "building tree 15 of 66\n",
      "building tree 16 of 66\n"
     ]
    },
    {
     "name": "stderr",
     "output_type": "stream",
     "text": [
      "[Parallel(n_jobs=-1)]: Done   9 tasks      | elapsed:   40.2s\n"
     ]
    },
    {
     "name": "stdout",
     "output_type": "stream",
     "text": [
      "building tree 17 of 66\n",
      "building tree 18 of 66\n",
      "building tree 19 of 66\n",
      "building tree 20 of 66\n",
      "building tree 21 of 66\n",
      "building tree 22 of 66\n",
      "building tree 23 of 66\n"
     ]
    },
    {
     "name": "stderr",
     "output_type": "stream",
     "text": [
      "[Parallel(n_jobs=-1)]: Done  16 tasks      | elapsed:   45.1s\n"
     ]
    },
    {
     "name": "stdout",
     "output_type": "stream",
     "text": [
      "building tree 24 of 66\n",
      "building tree 25 of 66\n",
      "building tree 26 of 66\n",
      "building tree 27 of 66\n",
      "building tree 28 of 66\n",
      "building tree 29 of 66\n",
      "building tree 30 of 66\n",
      "building tree 31 of 66\n",
      "building tree 32 of 66\n"
     ]
    },
    {
     "name": "stderr",
     "output_type": "stream",
     "text": [
      "[Parallel(n_jobs=-1)]: Done  25 tasks      | elapsed:  1.3min\n"
     ]
    },
    {
     "name": "stdout",
     "output_type": "stream",
     "text": [
      "building tree 33 of 66\n",
      "building tree 34 of 66\n",
      "building tree 35 of 66\n",
      "building tree 36 of 66\n",
      "building tree 37 of 66\n",
      "building tree 38 of 66\n",
      "building tree 39 of 66\n",
      "building tree 40 of 66\n",
      "building tree 41 of 66\n"
     ]
    },
    {
     "name": "stderr",
     "output_type": "stream",
     "text": [
      "[Parallel(n_jobs=-1)]: Done  34 tasks      | elapsed:  1.7min\n"
     ]
    },
    {
     "name": "stdout",
     "output_type": "stream",
     "text": [
      "building tree 42 of 66\n",
      "building tree 43 of 66\n",
      "building tree 44 of 66\n",
      "building tree 45 of 66\n",
      "building tree 46 of 66\n",
      "building tree 47 of 66\n",
      "building tree 48 of 66\n",
      "building tree 49 of 66\n",
      "building tree 50 of 66\n",
      "building tree 51 of 66\n",
      "building tree 52 of 66\n"
     ]
    },
    {
     "name": "stderr",
     "output_type": "stream",
     "text": [
      "[Parallel(n_jobs=-1)]: Done  45 tasks      | elapsed:  2.1min\n"
     ]
    },
    {
     "name": "stdout",
     "output_type": "stream",
     "text": [
      "building tree 53 of 66\n",
      "building tree 54 of 66\n",
      "building tree 55 of 66\n",
      "building tree 56 of 66\n",
      "building tree 57 of 66\n",
      "building tree 58 of 66\n",
      "building tree 59 of 66\n",
      "building tree 60 of 66\n",
      "building tree 61 of 66\n",
      "building tree 62 of 66\n",
      "building tree 63 of 66\n",
      "building tree 64 of 66\n",
      "building tree 65 of 66\n"
     ]
    },
    {
     "name": "stderr",
     "output_type": "stream",
     "text": [
      "[Parallel(n_jobs=-1)]: Done  58 out of  66 | elapsed:  2.8min remaining:   22.8s\n"
     ]
    },
    {
     "name": "stdout",
     "output_type": "stream",
     "text": [
      "building tree 66 of 66\n"
     ]
    },
    {
     "name": "stderr",
     "output_type": "stream",
     "text": [
      "[Parallel(n_jobs=-1)]: Done  66 out of  66 | elapsed:  3.0min finished\n",
      "[Parallel(n_jobs=8)]: Done   2 tasks      | elapsed:    0.0s\n",
      "[Parallel(n_jobs=8)]: Done   9 tasks      | elapsed:    0.1s\n",
      "[Parallel(n_jobs=8)]: Done  16 tasks      | elapsed:    0.1s\n",
      "[Parallel(n_jobs=8)]: Done  25 tasks      | elapsed:    0.2s\n",
      "[Parallel(n_jobs=8)]: Done  34 tasks      | elapsed:    0.3s\n",
      "[Parallel(n_jobs=8)]: Done  45 tasks      | elapsed:    0.4s\n",
      "[Parallel(n_jobs=8)]: Done  58 out of  66 | elapsed:    0.5s remaining:    0.1s\n",
      "[Parallel(n_jobs=8)]: Done  66 out of  66 | elapsed:    0.6s finished\n",
      "[Parallel(n_jobs=8)]: Done   2 tasks      | elapsed:    0.1s\n",
      "[Parallel(n_jobs=8)]: Done   9 tasks      | elapsed:    0.2s\n",
      "[Parallel(n_jobs=8)]: Done  16 tasks      | elapsed:    0.3s\n",
      "[Parallel(n_jobs=8)]: Done  25 tasks      | elapsed:    0.5s\n",
      "[Parallel(n_jobs=8)]: Done  34 tasks      | elapsed:    0.7s\n",
      "[Parallel(n_jobs=8)]: Done  45 tasks      | elapsed:    0.9s\n",
      "[Parallel(n_jobs=8)]: Done  58 out of  66 | elapsed:    1.1s remaining:    0.2s\n",
      "[Parallel(n_jobs=8)]: Done  66 out of  66 | elapsed:    1.2s finished\n",
      "/home/justin/anaconda3/lib/python3.6/site-packages/sklearn/model_selection/_validation.py:458: DataConversionWarning: A column-vector y was passed when a 1d array was expected. Please change the shape of y to (n_samples,), for example using ravel().\n",
      "  estimator.fit(X_train, y_train, **fit_params)\n"
     ]
    },
    {
     "name": "stdout",
     "output_type": "stream",
     "text": [
      "building tree 1 of 11building tree 2 of 11building tree 3 of 11building tree 4 of 11building tree 5 of 11building tree 6 of 11\n",
      "\n",
      "\n",
      "\n",
      "\n",
      "\n",
      "building tree 7 of 11\n",
      "building tree 8 of 11\n",
      "building tree 9 of 11\n"
     ]
    },
    {
     "name": "stderr",
     "output_type": "stream",
     "text": [
      "[Parallel(n_jobs=-1)]: Done   2 out of  11 | elapsed:    7.2s remaining:   32.5s\n"
     ]
    },
    {
     "name": "stdout",
     "output_type": "stream",
     "text": [
      "building tree 10 of 11\n",
      "building tree 11 of 11\n"
     ]
    },
    {
     "name": "stderr",
     "output_type": "stream",
     "text": [
      "[Parallel(n_jobs=-1)]: Done   4 out of  11 | elapsed:    8.0s remaining:   14.1s\n",
      "[Parallel(n_jobs=-1)]: Done   6 out of  11 | elapsed:    9.0s remaining:    7.5s\n",
      "[Parallel(n_jobs=-1)]: Done   8 out of  11 | elapsed:    9.8s remaining:    3.7s\n",
      "[Parallel(n_jobs=-1)]: Done  11 out of  11 | elapsed:   13.5s finished\n",
      "/home/justin/anaconda3/lib/python3.6/site-packages/sklearn/ensemble/forest.py:724: UserWarning: Some inputs do not have OOB scores. This probably means too few trees were used to compute any reliable oob estimates.\n",
      "  warn(\"Some inputs do not have OOB scores. \"\n",
      "[Parallel(n_jobs=8)]: Done   2 out of  11 | elapsed:    0.1s remaining:    0.3s\n",
      "[Parallel(n_jobs=8)]: Done   4 out of  11 | elapsed:    0.1s remaining:    0.1s\n",
      "[Parallel(n_jobs=8)]: Done   6 out of  11 | elapsed:    0.1s remaining:    0.1s\n",
      "[Parallel(n_jobs=8)]: Done   8 out of  11 | elapsed:    0.1s remaining:    0.0s\n",
      "[Parallel(n_jobs=8)]: Done  11 out of  11 | elapsed:    0.2s finished\n",
      "[Parallel(n_jobs=8)]: Done   2 out of  11 | elapsed:    0.1s remaining:    0.5s\n",
      "[Parallel(n_jobs=8)]: Done   4 out of  11 | elapsed:    0.1s remaining:    0.2s\n",
      "[Parallel(n_jobs=8)]: Done   6 out of  11 | elapsed:    0.2s remaining:    0.1s\n",
      "[Parallel(n_jobs=8)]: Done   8 out of  11 | elapsed:    0.2s remaining:    0.1s\n",
      "[Parallel(n_jobs=8)]: Done  11 out of  11 | elapsed:    0.3s finished\n",
      "/home/justin/anaconda3/lib/python3.6/site-packages/sklearn/model_selection/_validation.py:458: DataConversionWarning: A column-vector y was passed when a 1d array was expected. Please change the shape of y to (n_samples,), for example using ravel().\n",
      "  estimator.fit(X_train, y_train, **fit_params)\n"
     ]
    },
    {
     "name": "stdout",
     "output_type": "stream",
     "text": [
      "building tree 2 of 11building tree 3 of 11building tree 5 of 11building tree 7 of 11building tree 4 of 11building tree 1 of 11\n",
      "building tree 8 of 11building tree 6 of 11\n",
      "\n",
      "\n",
      "\n",
      "\n",
      "\n",
      "\n",
      "building tree 9 of 11\n"
     ]
    },
    {
     "name": "stderr",
     "output_type": "stream",
     "text": [
      "[Parallel(n_jobs=-1)]: Done   2 out of  11 | elapsed:    8.1s remaining:   36.4s\n",
      "[Parallel(n_jobs=-1)]: Done   4 out of  11 | elapsed:    8.3s remaining:   14.5s\n"
     ]
    },
    {
     "name": "stdout",
     "output_type": "stream",
     "text": [
      "building tree 10 of 11\n",
      "building tree 11 of 11\n"
     ]
    },
    {
     "name": "stderr",
     "output_type": "stream",
     "text": [
      "[Parallel(n_jobs=-1)]: Done   6 out of  11 | elapsed:    8.3s remaining:    6.9s\n",
      "[Parallel(n_jobs=-1)]: Done   8 out of  11 | elapsed:    9.3s remaining:    3.5s\n",
      "[Parallel(n_jobs=-1)]: Done  11 out of  11 | elapsed:   14.1s finished\n",
      "/home/justin/anaconda3/lib/python3.6/site-packages/sklearn/ensemble/forest.py:724: UserWarning: Some inputs do not have OOB scores. This probably means too few trees were used to compute any reliable oob estimates.\n",
      "  warn(\"Some inputs do not have OOB scores. \"\n",
      "[Parallel(n_jobs=8)]: Done   2 out of  11 | elapsed:    0.1s remaining:    0.3s\n",
      "[Parallel(n_jobs=8)]: Done   4 out of  11 | elapsed:    0.1s remaining:    0.1s\n",
      "[Parallel(n_jobs=8)]: Done   6 out of  11 | elapsed:    0.1s remaining:    0.1s\n",
      "[Parallel(n_jobs=8)]: Done   8 out of  11 | elapsed:    0.1s remaining:    0.0s\n",
      "[Parallel(n_jobs=8)]: Done  11 out of  11 | elapsed:    0.1s finished\n",
      "[Parallel(n_jobs=8)]: Done   2 out of  11 | elapsed:    0.1s remaining:    0.6s\n",
      "[Parallel(n_jobs=8)]: Done   4 out of  11 | elapsed:    0.1s remaining:    0.2s\n",
      "[Parallel(n_jobs=8)]: Done   6 out of  11 | elapsed:    0.2s remaining:    0.2s\n",
      "[Parallel(n_jobs=8)]: Done   8 out of  11 | elapsed:    0.2s remaining:    0.1s\n",
      "[Parallel(n_jobs=8)]: Done  11 out of  11 | elapsed:    0.3s finished\n",
      "/home/justin/anaconda3/lib/python3.6/site-packages/sklearn/model_selection/_validation.py:458: DataConversionWarning: A column-vector y was passed when a 1d array was expected. Please change the shape of y to (n_samples,), for example using ravel().\n",
      "  estimator.fit(X_train, y_train, **fit_params)\n"
     ]
    },
    {
     "name": "stdout",
     "output_type": "stream",
     "text": [
      "building tree 1 of 11building tree 4 of 11building tree 5 of 11\n",
      "building tree 6 of 11building tree 3 of 11\n",
      "building tree 2 of 11building tree 7 of 11building tree 8 of 11\n",
      "\n",
      "\n",
      "\n",
      "\n",
      "\n",
      "building tree 9 of 11\n"
     ]
    },
    {
     "name": "stderr",
     "output_type": "stream",
     "text": [
      "[Parallel(n_jobs=-1)]: Done   2 out of  11 | elapsed:    7.6s remaining:   34.2s\n"
     ]
    },
    {
     "name": "stdout",
     "output_type": "stream",
     "text": [
      "building tree 10 of 11\n",
      "building tree 11 of 11\n"
     ]
    },
    {
     "name": "stderr",
     "output_type": "stream",
     "text": [
      "[Parallel(n_jobs=-1)]: Done   4 out of  11 | elapsed:    7.9s remaining:   13.9s\n",
      "[Parallel(n_jobs=-1)]: Done   6 out of  11 | elapsed:    8.9s remaining:    7.4s\n",
      "[Parallel(n_jobs=-1)]: Done   8 out of  11 | elapsed:    9.3s remaining:    3.5s\n",
      "[Parallel(n_jobs=-1)]: Done  11 out of  11 | elapsed:   13.6s finished\n",
      "/home/justin/anaconda3/lib/python3.6/site-packages/sklearn/ensemble/forest.py:724: UserWarning: Some inputs do not have OOB scores. This probably means too few trees were used to compute any reliable oob estimates.\n",
      "  warn(\"Some inputs do not have OOB scores. \"\n",
      "[Parallel(n_jobs=8)]: Done   2 out of  11 | elapsed:    0.1s remaining:    0.3s\n",
      "[Parallel(n_jobs=8)]: Done   4 out of  11 | elapsed:    0.1s remaining:    0.2s\n",
      "[Parallel(n_jobs=8)]: Done   6 out of  11 | elapsed:    0.1s remaining:    0.1s\n",
      "[Parallel(n_jobs=8)]: Done   8 out of  11 | elapsed:    0.1s remaining:    0.0s\n",
      "[Parallel(n_jobs=8)]: Done  11 out of  11 | elapsed:    0.1s finished\n",
      "[Parallel(n_jobs=8)]: Done   2 out of  11 | elapsed:    0.1s remaining:    0.6s\n",
      "[Parallel(n_jobs=8)]: Done   4 out of  11 | elapsed:    0.2s remaining:    0.3s\n",
      "[Parallel(n_jobs=8)]: Done   6 out of  11 | elapsed:    0.2s remaining:    0.2s\n",
      "[Parallel(n_jobs=8)]: Done   8 out of  11 | elapsed:    0.2s remaining:    0.1s\n",
      "[Parallel(n_jobs=8)]: Done  11 out of  11 | elapsed:    0.3s finished\n",
      "/home/justin/anaconda3/lib/python3.6/site-packages/sklearn/model_selection/_validation.py:458: DataConversionWarning: A column-vector y was passed when a 1d array was expected. Please change the shape of y to (n_samples,), for example using ravel().\n",
      "  estimator.fit(X_train, y_train, **fit_params)\n"
     ]
    },
    {
     "name": "stdout",
     "output_type": "stream",
     "text": [
      "building tree 1 of 8\n",
      "building tree 2 of 8building tree 3 of 8building tree 5 of 8building tree 6 of 8building tree 4 of 8building tree 8 of 8building tree 7 of 8\n",
      "\n",
      "\n",
      "\n",
      "\n",
      "\n",
      "\n"
     ]
    },
    {
     "name": "stderr",
     "output_type": "stream",
     "text": [
      "[Parallel(n_jobs=-1)]: Done   2 out of   8 | elapsed:   10.1s remaining:   30.3s\n",
      "[Parallel(n_jobs=-1)]: Done   3 out of   8 | elapsed:   10.6s remaining:   17.7s\n",
      "[Parallel(n_jobs=-1)]: Done   4 out of   8 | elapsed:   11.2s remaining:   11.2s\n",
      "[Parallel(n_jobs=-1)]: Done   5 out of   8 | elapsed:   11.3s remaining:    6.8s\n",
      "[Parallel(n_jobs=-1)]: Done   6 out of   8 | elapsed:   11.5s remaining:    3.8s\n",
      "[Parallel(n_jobs=-1)]: Done   8 out of   8 | elapsed:   12.0s remaining:    0.0s\n",
      "[Parallel(n_jobs=-1)]: Done   8 out of   8 | elapsed:   12.0s finished\n",
      "/home/justin/anaconda3/lib/python3.6/site-packages/sklearn/ensemble/forest.py:724: UserWarning: Some inputs do not have OOB scores. This probably means too few trees were used to compute any reliable oob estimates.\n",
      "  warn(\"Some inputs do not have OOB scores. \"\n",
      "[Parallel(n_jobs=8)]: Done   2 out of   8 | elapsed:    0.1s remaining:    0.4s\n",
      "[Parallel(n_jobs=8)]: Done   3 out of   8 | elapsed:    0.1s remaining:    0.2s\n",
      "[Parallel(n_jobs=8)]: Done   4 out of   8 | elapsed:    0.1s remaining:    0.1s\n",
      "[Parallel(n_jobs=8)]: Done   5 out of   8 | elapsed:    0.1s remaining:    0.1s\n",
      "[Parallel(n_jobs=8)]: Done   6 out of   8 | elapsed:    0.2s remaining:    0.1s\n",
      "[Parallel(n_jobs=8)]: Done   8 out of   8 | elapsed:    0.2s remaining:    0.0s\n",
      "[Parallel(n_jobs=8)]: Done   8 out of   8 | elapsed:    0.2s finished\n",
      "[Parallel(n_jobs=8)]: Done   2 out of   8 | elapsed:    0.2s remaining:    0.7s\n",
      "[Parallel(n_jobs=8)]: Done   3 out of   8 | elapsed:    0.2s remaining:    0.4s\n",
      "[Parallel(n_jobs=8)]: Done   4 out of   8 | elapsed:    0.3s remaining:    0.3s\n",
      "[Parallel(n_jobs=8)]: Done   5 out of   8 | elapsed:    0.3s remaining:    0.2s\n",
      "[Parallel(n_jobs=8)]: Done   6 out of   8 | elapsed:    0.4s remaining:    0.1s\n",
      "[Parallel(n_jobs=8)]: Done   8 out of   8 | elapsed:    0.4s remaining:    0.0s\n",
      "[Parallel(n_jobs=8)]: Done   8 out of   8 | elapsed:    0.4s finished\n",
      "/home/justin/anaconda3/lib/python3.6/site-packages/sklearn/model_selection/_validation.py:458: DataConversionWarning: A column-vector y was passed when a 1d array was expected. Please change the shape of y to (n_samples,), for example using ravel().\n",
      "  estimator.fit(X_train, y_train, **fit_params)\n"
     ]
    },
    {
     "name": "stdout",
     "output_type": "stream",
     "text": [
      "building tree 2 of 8building tree 3 of 8building tree 4 of 8building tree 5 of 8building tree 7 of 8building tree 1 of 8building tree 8 of 8\n",
      "\n",
      "\n",
      "\n",
      "\n",
      "\n",
      "\n",
      "building tree 6 of 8\n"
     ]
    },
    {
     "name": "stderr",
     "output_type": "stream",
     "text": [
      "[Parallel(n_jobs=-1)]: Done   2 out of   8 | elapsed:   10.5s remaining:   31.4s\n",
      "[Parallel(n_jobs=-1)]: Done   3 out of   8 | elapsed:   11.3s remaining:   18.8s\n",
      "[Parallel(n_jobs=-1)]: Done   4 out of   8 | elapsed:   11.5s remaining:   11.5s\n",
      "[Parallel(n_jobs=-1)]: Done   5 out of   8 | elapsed:   11.6s remaining:    7.0s\n",
      "[Parallel(n_jobs=-1)]: Done   6 out of   8 | elapsed:   11.9s remaining:    4.0s\n",
      "[Parallel(n_jobs=-1)]: Done   8 out of   8 | elapsed:   12.6s remaining:    0.0s\n",
      "[Parallel(n_jobs=-1)]: Done   8 out of   8 | elapsed:   12.6s finished\n",
      "/home/justin/anaconda3/lib/python3.6/site-packages/sklearn/ensemble/forest.py:724: UserWarning: Some inputs do not have OOB scores. This probably means too few trees were used to compute any reliable oob estimates.\n",
      "  warn(\"Some inputs do not have OOB scores. \"\n",
      "[Parallel(n_jobs=8)]: Done   2 out of   8 | elapsed:    0.1s remaining:    0.3s\n",
      "[Parallel(n_jobs=8)]: Done   3 out of   8 | elapsed:    0.1s remaining:    0.2s\n",
      "[Parallel(n_jobs=8)]: Done   4 out of   8 | elapsed:    0.1s remaining:    0.1s\n",
      "[Parallel(n_jobs=8)]: Done   5 out of   8 | elapsed:    0.2s remaining:    0.1s\n",
      "[Parallel(n_jobs=8)]: Done   6 out of   8 | elapsed:    0.2s remaining:    0.1s\n",
      "[Parallel(n_jobs=8)]: Done   8 out of   8 | elapsed:    0.2s remaining:    0.0s\n",
      "[Parallel(n_jobs=8)]: Done   8 out of   8 | elapsed:    0.2s finished\n",
      "[Parallel(n_jobs=8)]: Done   2 out of   8 | elapsed:    0.2s remaining:    0.7s\n",
      "[Parallel(n_jobs=8)]: Done   3 out of   8 | elapsed:    0.3s remaining:    0.4s\n",
      "[Parallel(n_jobs=8)]: Done   4 out of   8 | elapsed:    0.3s remaining:    0.3s\n",
      "[Parallel(n_jobs=8)]: Done   5 out of   8 | elapsed:    0.3s remaining:    0.2s\n",
      "[Parallel(n_jobs=8)]: Done   6 out of   8 | elapsed:    0.3s remaining:    0.1s\n",
      "[Parallel(n_jobs=8)]: Done   8 out of   8 | elapsed:    0.4s remaining:    0.0s\n",
      "[Parallel(n_jobs=8)]: Done   8 out of   8 | elapsed:    0.4s finished\n",
      "/home/justin/anaconda3/lib/python3.6/site-packages/sklearn/model_selection/_validation.py:458: DataConversionWarning: A column-vector y was passed when a 1d array was expected. Please change the shape of y to (n_samples,), for example using ravel().\n",
      "  estimator.fit(X_train, y_train, **fit_params)\n"
     ]
    },
    {
     "name": "stdout",
     "output_type": "stream",
     "text": [
      "building tree 2 of 8building tree 4 of 8building tree 6 of 8building tree 3 of 8building tree 1 of 8\n",
      "building tree 5 of 8building tree 7 of 8building tree 8 of 8\n",
      "\n",
      "\n",
      "\n",
      "\n",
      "\n",
      "\n"
     ]
    },
    {
     "name": "stderr",
     "output_type": "stream",
     "text": [
      "[Parallel(n_jobs=-1)]: Done   2 out of   8 | elapsed:   11.2s remaining:   33.5s\n",
      "[Parallel(n_jobs=-1)]: Done   3 out of   8 | elapsed:   11.2s remaining:   18.7s\n",
      "[Parallel(n_jobs=-1)]: Done   4 out of   8 | elapsed:   11.2s remaining:   11.2s\n",
      "[Parallel(n_jobs=-1)]: Done   5 out of   8 | elapsed:   11.2s remaining:    6.7s\n",
      "[Parallel(n_jobs=-1)]: Done   6 out of   8 | elapsed:   11.3s remaining:    3.8s\n",
      "[Parallel(n_jobs=-1)]: Done   8 out of   8 | elapsed:   11.6s remaining:    0.0s\n",
      "[Parallel(n_jobs=-1)]: Done   8 out of   8 | elapsed:   11.6s finished\n",
      "/home/justin/anaconda3/lib/python3.6/site-packages/sklearn/ensemble/forest.py:724: UserWarning: Some inputs do not have OOB scores. This probably means too few trees were used to compute any reliable oob estimates.\n",
      "  warn(\"Some inputs do not have OOB scores. \"\n",
      "[Parallel(n_jobs=8)]: Done   2 out of   8 | elapsed:    0.1s remaining:    0.4s\n",
      "[Parallel(n_jobs=8)]: Done   3 out of   8 | elapsed:    0.1s remaining:    0.2s\n",
      "[Parallel(n_jobs=8)]: Done   4 out of   8 | elapsed:    0.1s remaining:    0.1s\n",
      "[Parallel(n_jobs=8)]: Done   5 out of   8 | elapsed:    0.1s remaining:    0.1s\n",
      "[Parallel(n_jobs=8)]: Done   6 out of   8 | elapsed:    0.1s remaining:    0.0s\n",
      "[Parallel(n_jobs=8)]: Done   8 out of   8 | elapsed:    0.2s remaining:    0.0s\n",
      "[Parallel(n_jobs=8)]: Done   8 out of   8 | elapsed:    0.2s finished\n",
      "[Parallel(n_jobs=8)]: Done   2 out of   8 | elapsed:    0.2s remaining:    0.7s\n",
      "[Parallel(n_jobs=8)]: Done   3 out of   8 | elapsed:    0.2s remaining:    0.4s\n",
      "[Parallel(n_jobs=8)]: Done   4 out of   8 | elapsed:    0.2s remaining:    0.2s\n",
      "[Parallel(n_jobs=8)]: Done   5 out of   8 | elapsed:    0.3s remaining:    0.2s\n",
      "[Parallel(n_jobs=8)]: Done   6 out of   8 | elapsed:    0.3s remaining:    0.1s\n",
      "[Parallel(n_jobs=8)]: Done   8 out of   8 | elapsed:    0.4s remaining:    0.0s\n",
      "[Parallel(n_jobs=8)]: Done   8 out of   8 | elapsed:    0.4s finished\n",
      "/home/justin/anaconda3/lib/python3.6/site-packages/sklearn/model_selection/_validation.py:458: DataConversionWarning: A column-vector y was passed when a 1d array was expected. Please change the shape of y to (n_samples,), for example using ravel().\n",
      "  estimator.fit(X_train, y_train, **fit_params)\n"
     ]
    },
    {
     "name": "stdout",
     "output_type": "stream",
     "text": [
      "building tree 2 of 147\n",
      "building tree 3 of 147building tree 4 of 147building tree 5 of 147building tree 6 of 147building tree 7 of 147building tree 8 of 147\n",
      "\n",
      "\n",
      "\n",
      "\n",
      "\n",
      "building tree 1 of 147\n",
      "building tree 9 of 147\n"
     ]
    },
    {
     "name": "stderr",
     "output_type": "stream",
     "text": [
      "[Parallel(n_jobs=-1)]: Done   2 tasks      | elapsed:   15.8s\n"
     ]
    },
    {
     "name": "stdout",
     "output_type": "stream",
     "text": [
      "building tree 10 of 147\n",
      "building tree 11 of 147\n",
      "building tree 12 of 147\n",
      "building tree 13 of 147\n",
      "building tree 14 of 147\n",
      "building tree 15 of 147\n",
      "building tree 16 of 147\n"
     ]
    },
    {
     "name": "stderr",
     "output_type": "stream",
     "text": [
      "[Parallel(n_jobs=-1)]: Done   9 tasks      | elapsed:   31.8s\n"
     ]
    },
    {
     "name": "stdout",
     "output_type": "stream",
     "text": [
      "building tree 17 of 147\n",
      "building tree 18 of 147\n",
      "building tree 19 of 147\n",
      "building tree 20 of 147\n",
      "building tree 21 of 147\n",
      "building tree 22 of 147\n",
      "building tree 23 of 147\n"
     ]
    },
    {
     "name": "stderr",
     "output_type": "stream",
     "text": [
      "[Parallel(n_jobs=-1)]: Done  16 tasks      | elapsed:   35.6s\n"
     ]
    },
    {
     "name": "stdout",
     "output_type": "stream",
     "text": [
      "building tree 24 of 147\n",
      "building tree 25 of 147\n",
      "building tree 26 of 147\n",
      "building tree 27 of 147\n",
      "building tree 28 of 147\n",
      "building tree 29 of 147\n",
      "building tree 30 of 147\n",
      "building tree 31 of 147\n",
      "building tree 32 of 147\n"
     ]
    },
    {
     "name": "stderr",
     "output_type": "stream",
     "text": [
      "[Parallel(n_jobs=-1)]: Done  25 tasks      | elapsed:  1.1min\n"
     ]
    },
    {
     "name": "stdout",
     "output_type": "stream",
     "text": [
      "building tree 33 of 147\n",
      "building tree 34 of 147\n",
      "building tree 35 of 147\n",
      "building tree 36 of 147\n",
      "building tree 37 of 147\n",
      "building tree 38 of 147\n",
      "building tree 39 of 147\n",
      "building tree 40 of 147\n",
      "building tree 41 of 147\n"
     ]
    },
    {
     "name": "stderr",
     "output_type": "stream",
     "text": [
      "[Parallel(n_jobs=-1)]: Done  34 tasks      | elapsed:  1.3min\n"
     ]
    },
    {
     "name": "stdout",
     "output_type": "stream",
     "text": [
      "building tree 42 of 147\n",
      "building tree 43 of 147\n",
      "building tree 44 of 147\n",
      "building tree 45 of 147\n",
      "building tree 46 of 147\n",
      "building tree 47 of 147\n",
      "building tree 48 of 147\n",
      "building tree 49 of 147\n",
      "building tree 50 of 147\n",
      "building tree 51 of 147\n",
      "building tree 52 of 147\n"
     ]
    },
    {
     "name": "stderr",
     "output_type": "stream",
     "text": [
      "[Parallel(n_jobs=-1)]: Done  45 tasks      | elapsed:  1.7min\n"
     ]
    },
    {
     "name": "stdout",
     "output_type": "stream",
     "text": [
      "building tree 53 of 147\n",
      "building tree 54 of 147\n",
      "building tree 55 of 147\n",
      "building tree 56 of 147\n",
      "building tree 57 of 147\n",
      "building tree 58 of 147\n",
      "building tree 59 of 147\n",
      "building tree 60 of 147\n",
      "building tree 61 of 147\n",
      "building tree 62 of 147\n",
      "building tree 63 of 147\n",
      "building tree 64 of 147\n"
     ]
    },
    {
     "name": "stderr",
     "output_type": "stream",
     "text": [
      "[Parallel(n_jobs=-1)]: Done  56 tasks      | elapsed:  2.0min\n"
     ]
    },
    {
     "name": "stdout",
     "output_type": "stream",
     "text": [
      "building tree 65 of 147\n",
      "building tree 66 of 147\n",
      "building tree 67 of 147\n",
      "building tree 68 of 147\n",
      "building tree 69 of 147\n",
      "building tree 70 of 147\n",
      "building tree 71 of 147\n",
      "building tree 72 of 147\n",
      "building tree 73 of 147\n",
      "building tree 74 of 147\n",
      "building tree 75 of 147\n",
      "building tree 76 of 147\n"
     ]
    },
    {
     "name": "stderr",
     "output_type": "stream",
     "text": [
      "[Parallel(n_jobs=-1)]: Done  69 tasks      | elapsed:  2.5min\n"
     ]
    },
    {
     "name": "stdout",
     "output_type": "stream",
     "text": [
      "building tree 77 of 147\n",
      "building tree 78 of 147\n",
      "building tree 79 of 147\n",
      "building tree 80 of 147\n",
      "building tree 81 of 147\n",
      "building tree 82 of 147\n",
      "building tree 83 of 147\n",
      "building tree 84 of 147\n",
      "building tree 85 of 147\n",
      "building tree 86 of 147\n",
      "building tree 87 of 147\n",
      "building tree 88 of 147\n",
      "building tree 89 of 147\n"
     ]
    },
    {
     "name": "stderr",
     "output_type": "stream",
     "text": [
      "[Parallel(n_jobs=-1)]: Done  82 tasks      | elapsed:  3.0min\n"
     ]
    },
    {
     "name": "stdout",
     "output_type": "stream",
     "text": [
      "building tree 90 of 147\n",
      "building tree 91 of 147\n",
      "building tree 92 of 147\n",
      "building tree 93 of 147\n",
      "building tree 94 of 147\n",
      "building tree 95 of 147\n",
      "building tree 96 of 147\n",
      "building tree 97 of 147\n",
      "building tree 98 of 147\n",
      "building tree 99 of 147\n",
      "building tree 100 of 147\n",
      "building tree 101 of 147\n",
      "building tree 102 of 147\n",
      "building tree 103 of 147\n",
      "building tree 104 of 147\n"
     ]
    },
    {
     "name": "stderr",
     "output_type": "stream",
     "text": [
      "[Parallel(n_jobs=-1)]: Done  97 tasks      | elapsed:  3.5min\n"
     ]
    },
    {
     "name": "stdout",
     "output_type": "stream",
     "text": [
      "building tree 105 of 147\n",
      "building tree 106 of 147\n",
      "building tree 107 of 147\n",
      "building tree 108 of 147\n",
      "building tree 109 of 147\n",
      "building tree 110 of 147\n",
      "building tree 111 of 147\n",
      "building tree 112 of 147\n",
      "building tree 113 of 147\n",
      "building tree 114 of 147\n",
      "building tree 115 of 147\n",
      "building tree 116 of 147\n",
      "building tree 117 of 147\n",
      "building tree 118 of 147\n",
      "building tree 119 of 147\n"
     ]
    },
    {
     "name": "stderr",
     "output_type": "stream",
     "text": [
      "[Parallel(n_jobs=-1)]: Done 112 tasks      | elapsed:  4.0min\n"
     ]
    },
    {
     "name": "stdout",
     "output_type": "stream",
     "text": [
      "building tree 120 of 147\n",
      "building tree 121 of 147\n",
      "building tree 122 of 147\n",
      "building tree 123 of 147\n",
      "building tree 124 of 147\n",
      "building tree 125 of 147\n",
      "building tree 126 of 147\n",
      "building tree 127 of 147\n",
      "building tree 128 of 147\n",
      "building tree 129 of 147\n",
      "building tree 130 of 147\n",
      "building tree 131 of 147\n",
      "building tree 132 of 147\n",
      "building tree 133 of 147\n",
      "building tree 134 of 147\n",
      "building tree 135 of 147\n",
      "building tree 136 of 147\n"
     ]
    },
    {
     "name": "stderr",
     "output_type": "stream",
     "text": [
      "[Parallel(n_jobs=-1)]: Done 129 tasks      | elapsed:  4.6min\n"
     ]
    },
    {
     "name": "stdout",
     "output_type": "stream",
     "text": [
      "building tree 137 of 147\n",
      "building tree 138 of 147\n",
      "building tree 139 of 147\n",
      "building tree 140 of 147\n",
      "building tree 141 of 147\n",
      "building tree 142 of 147\n",
      "building tree 143 of 147\n",
      "building tree 144 of 147\n",
      "building tree 145 of 147\n",
      "building tree 146 of 147\n",
      "building tree 147 of 147\n"
     ]
    },
    {
     "name": "stderr",
     "output_type": "stream",
     "text": [
      "[Parallel(n_jobs=-1)]: Done 147 out of 147 | elapsed:  5.1min remaining:    0.0s\n",
      "[Parallel(n_jobs=-1)]: Done 147 out of 147 | elapsed:  5.1min finished\n",
      "[Parallel(n_jobs=8)]: Done   2 tasks      | elapsed:    0.1s\n",
      "[Parallel(n_jobs=8)]: Done   9 tasks      | elapsed:    0.2s\n",
      "[Parallel(n_jobs=8)]: Done  16 tasks      | elapsed:    0.2s\n",
      "[Parallel(n_jobs=8)]: Done  25 tasks      | elapsed:    0.3s\n",
      "[Parallel(n_jobs=8)]: Done  34 tasks      | elapsed:    0.5s\n",
      "[Parallel(n_jobs=8)]: Done  45 tasks      | elapsed:    0.6s\n",
      "[Parallel(n_jobs=8)]: Done  56 tasks      | elapsed:    0.7s\n",
      "[Parallel(n_jobs=8)]: Done  69 tasks      | elapsed:    0.8s\n",
      "[Parallel(n_jobs=8)]: Done  82 tasks      | elapsed:    1.0s\n",
      "[Parallel(n_jobs=8)]: Done  97 tasks      | elapsed:    1.2s\n",
      "[Parallel(n_jobs=8)]: Done 112 tasks      | elapsed:    1.4s\n",
      "[Parallel(n_jobs=8)]: Done 129 tasks      | elapsed:    1.6s\n",
      "[Parallel(n_jobs=8)]: Done 147 out of 147 | elapsed:    1.8s remaining:    0.0s\n",
      "[Parallel(n_jobs=8)]: Done 147 out of 147 | elapsed:    1.8s finished\n",
      "[Parallel(n_jobs=8)]: Done   2 tasks      | elapsed:    0.1s\n",
      "[Parallel(n_jobs=8)]: Done   9 tasks      | elapsed:    0.3s\n",
      "[Parallel(n_jobs=8)]: Done  16 tasks      | elapsed:    0.4s\n",
      "[Parallel(n_jobs=8)]: Done  25 tasks      | elapsed:    0.6s\n",
      "[Parallel(n_jobs=8)]: Done  34 tasks      | elapsed:    0.8s\n",
      "[Parallel(n_jobs=8)]: Done  45 tasks      | elapsed:    1.1s\n",
      "[Parallel(n_jobs=8)]: Done  56 tasks      | elapsed:    1.3s\n",
      "[Parallel(n_jobs=8)]: Done  69 tasks      | elapsed:    1.6s\n",
      "[Parallel(n_jobs=8)]: Done  82 tasks      | elapsed:    1.8s\n",
      "[Parallel(n_jobs=8)]: Done  97 tasks      | elapsed:    2.2s\n",
      "[Parallel(n_jobs=8)]: Done 112 tasks      | elapsed:    2.6s\n",
      "[Parallel(n_jobs=8)]: Done 129 tasks      | elapsed:    2.9s\n",
      "[Parallel(n_jobs=8)]: Done 147 out of 147 | elapsed:    3.3s remaining:    0.0s\n",
      "[Parallel(n_jobs=8)]: Done 147 out of 147 | elapsed:    3.3s finished\n",
      "/home/justin/anaconda3/lib/python3.6/site-packages/sklearn/model_selection/_validation.py:458: DataConversionWarning: A column-vector y was passed when a 1d array was expected. Please change the shape of y to (n_samples,), for example using ravel().\n",
      "  estimator.fit(X_train, y_train, **fit_params)\n"
     ]
    },
    {
     "name": "stdout",
     "output_type": "stream",
     "text": [
      "building tree 2 of 147\n",
      "building tree 3 of 147building tree 1 of 147building tree 4 of 147building tree 5 of 147building tree 7 of 147building tree 8 of 147\n",
      "\n",
      "\n",
      "\n",
      "\n",
      "\n",
      "building tree 6 of 147\n",
      "building tree 9 of 147\n",
      "building tree 10 of 147\n",
      "building tree 11 of 147\n"
     ]
    },
    {
     "name": "stderr",
     "output_type": "stream",
     "text": [
      "[Parallel(n_jobs=-1)]: Done   2 tasks      | elapsed:   15.7s\n"
     ]
    },
    {
     "name": "stdout",
     "output_type": "stream",
     "text": [
      "building tree 12 of 147\n",
      "building tree 13 of 147\n",
      "building tree 14 of 147\n",
      "building tree 15 of 147\n",
      "building tree 16 of 147\n"
     ]
    },
    {
     "name": "stderr",
     "output_type": "stream",
     "text": [
      "[Parallel(n_jobs=-1)]: Done   9 tasks      | elapsed:   31.6s\n"
     ]
    },
    {
     "name": "stdout",
     "output_type": "stream",
     "text": [
      "building tree 17 of 147\n",
      "building tree 18 of 147\n",
      "building tree 19 of 147\n",
      "building tree 20 of 147\n",
      "building tree 21 of 147\n",
      "building tree 22 of 147\n",
      "building tree 23 of 147\n"
     ]
    },
    {
     "name": "stderr",
     "output_type": "stream",
     "text": [
      "[Parallel(n_jobs=-1)]: Done  16 tasks      | elapsed:   35.1s\n"
     ]
    },
    {
     "name": "stdout",
     "output_type": "stream",
     "text": [
      "building tree 24 of 147\n",
      "building tree 25 of 147\n",
      "building tree 26 of 147\n",
      "building tree 27 of 147\n",
      "building tree 28 of 147\n",
      "building tree 29 of 147\n",
      "building tree 30 of 147\n",
      "building tree 31 of 147\n",
      "building tree 32 of 147\n"
     ]
    },
    {
     "name": "stderr",
     "output_type": "stream",
     "text": [
      "[Parallel(n_jobs=-1)]: Done  25 tasks      | elapsed:  1.1min\n"
     ]
    },
    {
     "name": "stdout",
     "output_type": "stream",
     "text": [
      "building tree 33 of 147\n",
      "building tree 34 of 147\n",
      "building tree 35 of 147\n",
      "building tree 36 of 147\n",
      "building tree 37 of 147\n",
      "building tree 38 of 147\n",
      "building tree 39 of 147\n",
      "building tree 40 of 147\n",
      "building tree 41 of 147\n"
     ]
    },
    {
     "name": "stderr",
     "output_type": "stream",
     "text": [
      "[Parallel(n_jobs=-1)]: Done  34 tasks      | elapsed:  1.3min\n"
     ]
    },
    {
     "name": "stdout",
     "output_type": "stream",
     "text": [
      "building tree 42 of 147\n",
      "building tree 43 of 147\n",
      "building tree 44 of 147\n",
      "building tree 45 of 147\n",
      "building tree 46 of 147\n",
      "building tree 47 of 147\n",
      "building tree 48 of 147\n",
      "building tree 49 of 147\n",
      "building tree 50 of 147\n",
      "building tree 51 of 147\n",
      "building tree 52 of 147\n",
      "building tree 53 of 147\n"
     ]
    },
    {
     "name": "stderr",
     "output_type": "stream",
     "text": [
      "[Parallel(n_jobs=-1)]: Done  45 tasks      | elapsed:  1.6min\n"
     ]
    },
    {
     "name": "stdout",
     "output_type": "stream",
     "text": [
      "building tree 54 of 147\n",
      "building tree 55 of 147\n",
      "building tree 56 of 147\n",
      "building tree 57 of 147\n",
      "building tree 58 of 147\n",
      "building tree 59 of 147\n",
      "building tree 60 of 147\n",
      "building tree 61 of 147\n",
      "building tree 62 of 147\n",
      "building tree 63 of 147\n"
     ]
    },
    {
     "name": "stderr",
     "output_type": "stream",
     "text": [
      "[Parallel(n_jobs=-1)]: Done  56 tasks      | elapsed:  2.0min\n"
     ]
    },
    {
     "name": "stdout",
     "output_type": "stream",
     "text": [
      "building tree 64 of 147\n",
      "building tree 65 of 147\n",
      "building tree 66 of 147\n",
      "building tree 67 of 147\n",
      "building tree 68 of 147\n",
      "building tree 69 of 147\n",
      "building tree 70 of 147\n",
      "building tree 71 of 147\n",
      "building tree 72 of 147\n",
      "building tree 73 of 147\n",
      "building tree 74 of 147\n",
      "building tree 75 of 147\n",
      "building tree 76 of 147\n"
     ]
    },
    {
     "name": "stderr",
     "output_type": "stream",
     "text": [
      "[Parallel(n_jobs=-1)]: Done  69 tasks      | elapsed:  2.5min\n"
     ]
    },
    {
     "name": "stdout",
     "output_type": "stream",
     "text": [
      "building tree 77 of 147\n",
      "building tree 78 of 147\n",
      "building tree 79 of 147\n",
      "building tree 80 of 147\n",
      "building tree 81 of 147\n",
      "building tree 82 of 147\n",
      "building tree 83 of 147\n",
      "building tree 84 of 147\n",
      "building tree 85 of 147\n",
      "building tree 86 of 147\n",
      "building tree 87 of 147\n",
      "building tree 88 of 147\n",
      "building tree 89 of 147\n"
     ]
    },
    {
     "name": "stderr",
     "output_type": "stream",
     "text": [
      "[Parallel(n_jobs=-1)]: Done  82 tasks      | elapsed:  2.9min\n"
     ]
    },
    {
     "name": "stdout",
     "output_type": "stream",
     "text": [
      "building tree 90 of 147\n",
      "building tree 91 of 147\n",
      "building tree 92 of 147\n",
      "building tree 93 of 147\n",
      "building tree 94 of 147\n",
      "building tree 95 of 147\n",
      "building tree 96 of 147\n",
      "building tree 97 of 147\n",
      "building tree 98 of 147\n",
      "building tree 99 of 147\n",
      "building tree 100 of 147\n",
      "building tree 101 of 147\n",
      "building tree 102 of 147\n",
      "building tree 103 of 147\n",
      "building tree 104 of 147\n"
     ]
    },
    {
     "name": "stderr",
     "output_type": "stream",
     "text": [
      "[Parallel(n_jobs=-1)]: Done  97 tasks      | elapsed:  3.5min\n"
     ]
    },
    {
     "name": "stdout",
     "output_type": "stream",
     "text": [
      "building tree 105 of 147\n",
      "building tree 106 of 147\n",
      "building tree 107 of 147\n",
      "building tree 108 of 147\n",
      "building tree 109 of 147\n",
      "building tree 110 of 147\n",
      "building tree 111 of 147\n",
      "building tree 112 of 147\n",
      "building tree 113 of 147\n",
      "building tree 114 of 147\n",
      "building tree 115 of 147\n",
      "building tree 116 of 147\n",
      "building tree 117 of 147\n",
      "building tree 118 of 147\n",
      "building tree 119 of 147\n"
     ]
    },
    {
     "name": "stderr",
     "output_type": "stream",
     "text": [
      "[Parallel(n_jobs=-1)]: Done 112 tasks      | elapsed:  3.9min\n"
     ]
    },
    {
     "name": "stdout",
     "output_type": "stream",
     "text": [
      "building tree 120 of 147\n",
      "building tree 121 of 147\n",
      "building tree 122 of 147\n",
      "building tree 123 of 147\n",
      "building tree 124 of 147\n",
      "building tree 125 of 147\n",
      "building tree 126 of 147\n",
      "building tree 127 of 147\n",
      "building tree 128 of 147\n",
      "building tree 129 of 147\n",
      "building tree 130 of 147\n",
      "building tree 131 of 147\n",
      "building tree 132 of 147\n",
      "building tree 133 of 147\n",
      "building tree 134 of 147\n",
      "building tree 135 of 147\n",
      "building tree 136 of 147\n"
     ]
    },
    {
     "name": "stderr",
     "output_type": "stream",
     "text": [
      "[Parallel(n_jobs=-1)]: Done 129 tasks      | elapsed:  4.5min\n"
     ]
    },
    {
     "name": "stdout",
     "output_type": "stream",
     "text": [
      "building tree 137 of 147\n",
      "building tree 138 of 147\n",
      "building tree 139 of 147\n",
      "building tree 140 of 147\n",
      "building tree 141 of 147\n",
      "building tree 142 of 147\n",
      "building tree 143 of 147\n",
      "building tree 144 of 147\n",
      "building tree 145 of 147\n",
      "building tree 146 of 147\n",
      "building tree 147 of 147\n"
     ]
    },
    {
     "name": "stderr",
     "output_type": "stream",
     "text": [
      "[Parallel(n_jobs=-1)]: Done 147 out of 147 | elapsed:  5.0min remaining:    0.0s\n",
      "[Parallel(n_jobs=-1)]: Done 147 out of 147 | elapsed:  5.0min finished\n",
      "[Parallel(n_jobs=8)]: Done   2 tasks      | elapsed:    0.1s\n",
      "[Parallel(n_jobs=8)]: Done   9 tasks      | elapsed:    0.1s\n",
      "[Parallel(n_jobs=8)]: Done  16 tasks      | elapsed:    0.2s\n",
      "[Parallel(n_jobs=8)]: Done  25 tasks      | elapsed:    0.3s\n",
      "[Parallel(n_jobs=8)]: Done  34 tasks      | elapsed:    0.4s\n",
      "[Parallel(n_jobs=8)]: Done  45 tasks      | elapsed:    0.5s\n",
      "[Parallel(n_jobs=8)]: Done  56 tasks      | elapsed:    0.6s\n",
      "[Parallel(n_jobs=8)]: Done  69 tasks      | elapsed:    0.8s\n",
      "[Parallel(n_jobs=8)]: Done  82 tasks      | elapsed:    0.9s\n",
      "[Parallel(n_jobs=8)]: Done  97 tasks      | elapsed:    1.1s\n",
      "[Parallel(n_jobs=8)]: Done 112 tasks      | elapsed:    1.2s\n",
      "[Parallel(n_jobs=8)]: Done 129 tasks      | elapsed:    1.4s\n",
      "[Parallel(n_jobs=8)]: Done 147 out of 147 | elapsed:    1.6s remaining:    0.0s\n",
      "[Parallel(n_jobs=8)]: Done 147 out of 147 | elapsed:    1.6s finished\n",
      "[Parallel(n_jobs=8)]: Done   2 tasks      | elapsed:    0.1s\n",
      "[Parallel(n_jobs=8)]: Done   9 tasks      | elapsed:    0.3s\n",
      "[Parallel(n_jobs=8)]: Done  16 tasks      | elapsed:    0.4s\n",
      "[Parallel(n_jobs=8)]: Done  25 tasks      | elapsed:    0.7s\n",
      "[Parallel(n_jobs=8)]: Done  34 tasks      | elapsed:    0.9s\n",
      "[Parallel(n_jobs=8)]: Done  45 tasks      | elapsed:    1.2s\n",
      "[Parallel(n_jobs=8)]: Done  56 tasks      | elapsed:    1.4s\n",
      "[Parallel(n_jobs=8)]: Done  69 tasks      | elapsed:    1.7s\n",
      "[Parallel(n_jobs=8)]: Done  82 tasks      | elapsed:    2.0s\n",
      "[Parallel(n_jobs=8)]: Done  97 tasks      | elapsed:    2.4s\n",
      "[Parallel(n_jobs=8)]: Done 112 tasks      | elapsed:    2.8s\n",
      "[Parallel(n_jobs=8)]: Done 129 tasks      | elapsed:    3.2s\n",
      "[Parallel(n_jobs=8)]: Done 147 out of 147 | elapsed:    3.6s remaining:    0.0s\n",
      "[Parallel(n_jobs=8)]: Done 147 out of 147 | elapsed:    3.6s finished\n",
      "/home/justin/anaconda3/lib/python3.6/site-packages/sklearn/model_selection/_validation.py:458: DataConversionWarning: A column-vector y was passed when a 1d array was expected. Please change the shape of y to (n_samples,), for example using ravel().\n",
      "  estimator.fit(X_train, y_train, **fit_params)\n"
     ]
    },
    {
     "name": "stdout",
     "output_type": "stream",
     "text": [
      "building tree 3 of 147\n",
      "building tree 4 of 147building tree 5 of 147building tree 1 of 147building tree 7 of 147building tree 2 of 147building tree 6 of 147building tree 8 of 147\n",
      "\n",
      "\n",
      "\n",
      "\n",
      "\n",
      "\n",
      "building tree 9 of 147\n",
      "building tree 10 of 147\n"
     ]
    },
    {
     "name": "stderr",
     "output_type": "stream",
     "text": [
      "[Parallel(n_jobs=-1)]: Done   2 tasks      | elapsed:   14.5s\n"
     ]
    },
    {
     "name": "stdout",
     "output_type": "stream",
     "text": [
      "building tree 11 of 147\n",
      "building tree 12 of 147\n",
      "building tree 13 of 147\n",
      "building tree 14 of 147\n",
      "building tree 15 of 147\n",
      "building tree 16 of 147\n"
     ]
    },
    {
     "name": "stderr",
     "output_type": "stream",
     "text": [
      "[Parallel(n_jobs=-1)]: Done   9 tasks      | elapsed:   28.7s\n"
     ]
    },
    {
     "name": "stdout",
     "output_type": "stream",
     "text": [
      "building tree 17 of 147\n",
      "building tree 18 of 147\n",
      "building tree 19 of 147\n",
      "building tree 20 of 147\n",
      "building tree 21 of 147\n",
      "building tree 22 of 147\n",
      "building tree 23 of 147\n",
      "building tree 24 of 147\n"
     ]
    },
    {
     "name": "stderr",
     "output_type": "stream",
     "text": [
      "[Parallel(n_jobs=-1)]: Done  16 tasks      | elapsed:   33.8s\n"
     ]
    },
    {
     "name": "stdout",
     "output_type": "stream",
     "text": [
      "building tree 25 of 147\n",
      "building tree 26 of 147\n",
      "building tree 27 of 147\n",
      "building tree 28 of 147\n",
      "building tree 29 of 147\n",
      "building tree 30 of 147\n",
      "building tree 31 of 147\n",
      "building tree 32 of 147\n"
     ]
    },
    {
     "name": "stderr",
     "output_type": "stream",
     "text": [
      "[Parallel(n_jobs=-1)]: Done  25 tasks      | elapsed:   59.1s\n"
     ]
    },
    {
     "name": "stdout",
     "output_type": "stream",
     "text": [
      "building tree 33 of 147\n",
      "building tree 34 of 147\n",
      "building tree 35 of 147\n",
      "building tree 36 of 147\n",
      "building tree 37 of 147\n",
      "building tree 38 of 147\n",
      "building tree 39 of 147\n",
      "building tree 40 of 147\n",
      "building tree 41 of 147\n"
     ]
    },
    {
     "name": "stderr",
     "output_type": "stream",
     "text": [
      "[Parallel(n_jobs=-1)]: Done  34 tasks      | elapsed:  1.3min\n"
     ]
    },
    {
     "name": "stdout",
     "output_type": "stream",
     "text": [
      "building tree 42 of 147\n",
      "building tree 43 of 147\n",
      "building tree 44 of 147\n",
      "building tree 45 of 147\n",
      "building tree 46 of 147\n",
      "building tree 47 of 147\n",
      "building tree 48 of 147\n",
      "building tree 49 of 147\n",
      "building tree 50 of 147\n",
      "building tree 51 of 147\n",
      "building tree 52 of 147\n"
     ]
    },
    {
     "name": "stderr",
     "output_type": "stream",
     "text": [
      "[Parallel(n_jobs=-1)]: Done  45 tasks      | elapsed:  1.6min\n"
     ]
    },
    {
     "name": "stdout",
     "output_type": "stream",
     "text": [
      "building tree 53 of 147\n",
      "building tree 54 of 147\n",
      "building tree 55 of 147\n",
      "building tree 56 of 147\n",
      "building tree 57 of 147\n",
      "building tree 58 of 147\n",
      "building tree 59 of 147\n",
      "building tree 60 of 147\n",
      "building tree 61 of 147\n",
      "building tree 62 of 147\n",
      "building tree 63 of 147\n"
     ]
    },
    {
     "name": "stderr",
     "output_type": "stream",
     "text": [
      "[Parallel(n_jobs=-1)]: Done  56 tasks      | elapsed:  1.9min\n"
     ]
    },
    {
     "name": "stdout",
     "output_type": "stream",
     "text": [
      "building tree 64 of 147\n",
      "building tree 65 of 147\n",
      "building tree 66 of 147\n",
      "building tree 67 of 147\n",
      "building tree 68 of 147\n",
      "building tree 69 of 147\n",
      "building tree 70 of 147\n",
      "building tree 71 of 147\n",
      "building tree 72 of 147\n",
      "building tree 73 of 147\n",
      "building tree 74 of 147\n",
      "building tree 75 of 147\n",
      "building tree 76 of 147\n",
      "building tree 77 of 147\n"
     ]
    },
    {
     "name": "stderr",
     "output_type": "stream",
     "text": [
      "[Parallel(n_jobs=-1)]: Done  69 tasks      | elapsed:  2.3min\n"
     ]
    },
    {
     "name": "stdout",
     "output_type": "stream",
     "text": [
      "building tree 78 of 147\n",
      "building tree 79 of 147\n",
      "building tree 80 of 147\n",
      "building tree 81 of 147\n",
      "building tree 82 of 147\n",
      "building tree 83 of 147\n",
      "building tree 84 of 147\n",
      "building tree 85 of 147\n",
      "building tree 86 of 147\n",
      "building tree 87 of 147\n",
      "building tree 88 of 147\n",
      "building tree 89 of 147\n"
     ]
    },
    {
     "name": "stderr",
     "output_type": "stream",
     "text": [
      "[Parallel(n_jobs=-1)]: Done  82 tasks      | elapsed:  2.8min\n"
     ]
    },
    {
     "name": "stdout",
     "output_type": "stream",
     "text": [
      "building tree 90 of 147\n",
      "building tree 91 of 147\n",
      "building tree 92 of 147\n",
      "building tree 93 of 147\n",
      "building tree 94 of 147\n",
      "building tree 95 of 147\n",
      "building tree 96 of 147\n",
      "building tree 97 of 147\n",
      "building tree 98 of 147\n",
      "building tree 99 of 147\n",
      "building tree 100 of 147\n",
      "building tree 101 of 147\n",
      "building tree 102 of 147\n",
      "building tree 103 of 147\n",
      "building tree 104 of 147\n"
     ]
    },
    {
     "name": "stderr",
     "output_type": "stream",
     "text": [
      "[Parallel(n_jobs=-1)]: Done  97 tasks      | elapsed:  3.3min\n"
     ]
    },
    {
     "name": "stdout",
     "output_type": "stream",
     "text": [
      "building tree 105 of 147\n",
      "building tree 106 of 147\n",
      "building tree 107 of 147\n",
      "building tree 108 of 147\n",
      "building tree 109 of 147\n",
      "building tree 110 of 147\n",
      "building tree 111 of 147\n",
      "building tree 112 of 147\n",
      "building tree 113 of 147\n",
      "building tree 114 of 147\n",
      "building tree 115 of 147\n",
      "building tree 116 of 147\n",
      "building tree 117 of 147\n",
      "building tree 118 of 147\n",
      "building tree 119 of 147\n"
     ]
    },
    {
     "name": "stderr",
     "output_type": "stream",
     "text": [
      "[Parallel(n_jobs=-1)]: Done 112 tasks      | elapsed:  3.8min\n"
     ]
    },
    {
     "name": "stdout",
     "output_type": "stream",
     "text": [
      "building tree 120 of 147\n",
      "building tree 121 of 147\n",
      "building tree 122 of 147\n",
      "building tree 123 of 147\n",
      "building tree 124 of 147\n",
      "building tree 125 of 147\n",
      "building tree 126 of 147\n",
      "building tree 127 of 147\n",
      "building tree 128 of 147\n",
      "building tree 129 of 147\n",
      "building tree 130 of 147\n",
      "building tree 131 of 147\n",
      "building tree 132 of 147\n",
      "building tree 133 of 147\n",
      "building tree 134 of 147\n",
      "building tree 135 of 147\n",
      "building tree 136 of 147\n"
     ]
    },
    {
     "name": "stderr",
     "output_type": "stream",
     "text": [
      "[Parallel(n_jobs=-1)]: Done 129 tasks      | elapsed:  4.3min\n"
     ]
    },
    {
     "name": "stdout",
     "output_type": "stream",
     "text": [
      "building tree 137 of 147\n",
      "building tree 138 of 147\n",
      "building tree 139 of 147\n",
      "building tree 140 of 147\n",
      "building tree 141 of 147\n",
      "building tree 142 of 147\n",
      "building tree 143 of 147\n",
      "building tree 144 of 147\n",
      "building tree 145 of 147\n",
      "building tree 146 of 147\n",
      "building tree 147 of 147\n"
     ]
    },
    {
     "name": "stderr",
     "output_type": "stream",
     "text": [
      "[Parallel(n_jobs=-1)]: Done 147 out of 147 | elapsed:  4.8min remaining:    0.0s\n",
      "[Parallel(n_jobs=-1)]: Done 147 out of 147 | elapsed:  4.8min finished\n",
      "[Parallel(n_jobs=8)]: Done   2 tasks      | elapsed:    0.1s\n",
      "[Parallel(n_jobs=8)]: Done   9 tasks      | elapsed:    0.1s\n",
      "[Parallel(n_jobs=8)]: Done  16 tasks      | elapsed:    0.2s\n",
      "[Parallel(n_jobs=8)]: Done  25 tasks      | elapsed:    0.3s\n",
      "[Parallel(n_jobs=8)]: Done  34 tasks      | elapsed:    0.4s\n",
      "[Parallel(n_jobs=8)]: Done  45 tasks      | elapsed:    0.5s\n",
      "[Parallel(n_jobs=8)]: Done  56 tasks      | elapsed:    0.6s\n",
      "[Parallel(n_jobs=8)]: Done  69 tasks      | elapsed:    0.8s\n",
      "[Parallel(n_jobs=8)]: Done  82 tasks      | elapsed:    0.9s\n",
      "[Parallel(n_jobs=8)]: Done  97 tasks      | elapsed:    1.1s\n",
      "[Parallel(n_jobs=8)]: Done 112 tasks      | elapsed:    1.2s\n",
      "[Parallel(n_jobs=8)]: Done 129 tasks      | elapsed:    1.4s\n",
      "[Parallel(n_jobs=8)]: Done 147 out of 147 | elapsed:    1.6s remaining:    0.0s\n",
      "[Parallel(n_jobs=8)]: Done 147 out of 147 | elapsed:    1.6s finished\n",
      "[Parallel(n_jobs=8)]: Done   2 tasks      | elapsed:    0.1s\n",
      "[Parallel(n_jobs=8)]: Done   9 tasks      | elapsed:    0.3s\n",
      "[Parallel(n_jobs=8)]: Done  16 tasks      | elapsed:    0.5s\n",
      "[Parallel(n_jobs=8)]: Done  25 tasks      | elapsed:    0.6s\n",
      "[Parallel(n_jobs=8)]: Done  34 tasks      | elapsed:    0.9s\n",
      "[Parallel(n_jobs=8)]: Done  45 tasks      | elapsed:    1.2s\n",
      "[Parallel(n_jobs=8)]: Done  56 tasks      | elapsed:    1.4s\n",
      "[Parallel(n_jobs=8)]: Done  69 tasks      | elapsed:    1.7s\n",
      "[Parallel(n_jobs=8)]: Done  82 tasks      | elapsed:    2.0s\n",
      "[Parallel(n_jobs=8)]: Done  97 tasks      | elapsed:    2.3s\n",
      "[Parallel(n_jobs=8)]: Done 112 tasks      | elapsed:    2.7s\n",
      "[Parallel(n_jobs=8)]: Done 129 tasks      | elapsed:    3.1s\n",
      "[Parallel(n_jobs=8)]: Done 147 out of 147 | elapsed:    3.5s remaining:    0.0s\n",
      "[Parallel(n_jobs=8)]: Done 147 out of 147 | elapsed:    3.5s finished\n",
      "/home/justin/anaconda3/lib/python3.6/site-packages/sklearn/model_selection/_validation.py:458: DataConversionWarning: A column-vector y was passed when a 1d array was expected. Please change the shape of y to (n_samples,), for example using ravel().\n",
      "  estimator.fit(X_train, y_train, **fit_params)\n"
     ]
    },
    {
     "name": "stdout",
     "output_type": "stream",
     "text": [
      "building tree 4 of 174building tree 5 of 174building tree 3 of 174building tree 2 of 174building tree 6 of 174building tree 1 of 174building tree 7 of 174building tree 8 of 174\n",
      "\n",
      "\n",
      "\n",
      "\n",
      "\n",
      "\n",
      "\n",
      "building tree 9 of 174\n",
      "building tree 10 of 174\n",
      "building tree 11 of 174\n"
     ]
    },
    {
     "name": "stderr",
     "output_type": "stream",
     "text": [
      "[Parallel(n_jobs=-1)]: Done   2 tasks      | elapsed:    0.6s\n"
     ]
    },
    {
     "name": "stdout",
     "output_type": "stream",
     "text": [
      "building tree 12 of 174\n",
      "building tree 13 of 174\n",
      "building tree 14 of 174\n",
      "building tree 15 of 174\n",
      "building tree 16 of 174\n",
      "building tree 17 of 174\n",
      "building tree 18 of 174\n"
     ]
    },
    {
     "name": "stderr",
     "output_type": "stream",
     "text": [
      "[Parallel(n_jobs=-1)]: Done   9 tasks      | elapsed:    1.2s\n"
     ]
    },
    {
     "name": "stdout",
     "output_type": "stream",
     "text": [
      "building tree 19 of 174\n",
      "building tree 20 of 174\n",
      "building tree 21 of 174\n",
      "building tree 22 of 174\n",
      "building tree 23 of 174\n",
      "building tree 24 of 174\n",
      "building tree 25 of 174\n"
     ]
    },
    {
     "name": "stderr",
     "output_type": "stream",
     "text": [
      "[Parallel(n_jobs=-1)]: Done  16 tasks      | elapsed:    1.8s\n"
     ]
    },
    {
     "name": "stdout",
     "output_type": "stream",
     "text": [
      "building tree 26 of 174\n",
      "building tree 27 of 174\n",
      "building tree 28 of 174\n",
      "building tree 29 of 174\n",
      "building tree 30 of 174\n",
      "building tree 31 of 174\n",
      "building tree 32 of 174\n",
      "building tree 33 of 174\n",
      "building tree 34 of 174\n"
     ]
    },
    {
     "name": "stderr",
     "output_type": "stream",
     "text": [
      "[Parallel(n_jobs=-1)]: Done  25 tasks      | elapsed:    2.5s\n"
     ]
    },
    {
     "name": "stdout",
     "output_type": "stream",
     "text": [
      "building tree 35 of 174\n",
      "building tree 36 of 174\n",
      "building tree 37 of 174\n",
      "building tree 38 of 174\n",
      "building tree 39 of 174\n",
      "building tree 40 of 174\n",
      "building tree 41 of 174\n"
     ]
    },
    {
     "name": "stderr",
     "output_type": "stream",
     "text": [
      "[Parallel(n_jobs=-1)]: Done  34 tasks      | elapsed:    3.2s\n"
     ]
    },
    {
     "name": "stdout",
     "output_type": "stream",
     "text": [
      "building tree 42 of 174\n",
      "building tree 43 of 174\n",
      "building tree 44 of 174\n",
      "building tree 45 of 174\n",
      "building tree 46 of 174\n",
      "building tree 47 of 174\n",
      "building tree 48 of 174\n",
      "building tree 49 of 174\n",
      "building tree 50 of 174\n",
      "building tree 51 of 174\n",
      "building tree 52 of 174\n"
     ]
    },
    {
     "name": "stderr",
     "output_type": "stream",
     "text": [
      "[Parallel(n_jobs=-1)]: Done  45 tasks      | elapsed:    4.3s\n"
     ]
    },
    {
     "name": "stdout",
     "output_type": "stream",
     "text": [
      "building tree 53 of 174\n",
      "building tree 54 of 174\n",
      "building tree 55 of 174\n",
      "building tree 56 of 174\n",
      "building tree 57 of 174\n",
      "building tree 58 of 174\n",
      "building tree 59 of 174\n",
      "building tree 60 of 174\n",
      "building tree 61 of 174\n",
      "building tree 62 of 174\n",
      "building tree 64 of 174\n",
      "building tree 63 of 174\n",
      "building tree 65 of 174\n",
      "building tree 66 of 174\n"
     ]
    },
    {
     "name": "stderr",
     "output_type": "stream",
     "text": [
      "[Parallel(n_jobs=-1)]: Done  56 tasks      | elapsed:    5.2s\n"
     ]
    },
    {
     "name": "stdout",
     "output_type": "stream",
     "text": [
      "building tree 67 of 174\n",
      "building tree 68 of 174\n",
      "building tree 69 of 174\n",
      "building tree 70 of 174\n",
      "building tree 71 of 174\n",
      "building tree 72 of 174\n",
      "building tree 73 of 174\n",
      "building tree 74 of 174\n",
      "building tree 75 of 174\n",
      "building tree 76 of 174\n",
      "building tree 77 of 174\n"
     ]
    },
    {
     "name": "stderr",
     "output_type": "stream",
     "text": [
      "[Parallel(n_jobs=-1)]: Done  69 tasks      | elapsed:    6.4s\n"
     ]
    },
    {
     "name": "stdout",
     "output_type": "stream",
     "text": [
      "building tree 78 of 174\n",
      "building tree 79 of 174\n",
      "building tree 80 of 174\n",
      "building tree 81 of 174\n",
      "building tree 82 of 174\n",
      "building tree 83 of 174\n",
      "building tree 84 of 174\n",
      "building tree 85 of 174\n",
      "building tree 86 of 174\n",
      "building tree 87 of 174\n",
      "building tree 88 of 174\n",
      "building tree 89 of 174\n",
      "building tree 90 of 174\n",
      "building tree 91 of 174\n",
      "building tree 92 of 174\n"
     ]
    },
    {
     "name": "stderr",
     "output_type": "stream",
     "text": [
      "[Parallel(n_jobs=-1)]: Done  82 tasks      | elapsed:    7.5s\n"
     ]
    },
    {
     "name": "stdout",
     "output_type": "stream",
     "text": [
      "building tree 93 of 174\n",
      "building tree 94 of 174\n",
      "building tree 95 of 174\n",
      "building tree 96 of 174\n",
      "building tree 97 of 174\n",
      "building tree 98 of 174\n",
      "building tree 99 of 174\n",
      "building tree 100 of 174\n",
      "building tree 101 of 174\n",
      "building tree 102 of 174\n",
      "building tree 103 of 174\n",
      "building tree 104 of 174\n",
      "building tree 105 of 174\n",
      "building tree 106 of 174\n"
     ]
    },
    {
     "name": "stderr",
     "output_type": "stream",
     "text": [
      "[Parallel(n_jobs=-1)]: Done  97 tasks      | elapsed:    8.8s\n"
     ]
    },
    {
     "name": "stdout",
     "output_type": "stream",
     "text": [
      "building tree 107 of 174\n",
      "building tree 108 of 174\n",
      "building tree 109 of 174\n",
      "building tree 110 of 174\n",
      "building tree 111 of 174\n",
      "building tree 112 of 174\n",
      "building tree 113 of 174\n",
      "building tree 114 of 174\n",
      "building tree 115 of 174\n",
      "building tree 116 of 174\n",
      "building tree 117 of 174\n",
      "building tree 118 of 174\n",
      "building tree 119 of 174\n",
      "building tree 120 of 174\n",
      "building tree 121 of 174\n",
      "building tree 122 of 174\n",
      "building tree 123 of 174\n",
      "building tree 124 of 174\n"
     ]
    },
    {
     "name": "stderr",
     "output_type": "stream",
     "text": [
      "[Parallel(n_jobs=-1)]: Done 112 tasks      | elapsed:   10.2s\n"
     ]
    },
    {
     "name": "stdout",
     "output_type": "stream",
     "text": [
      "building tree 125 of 174\n",
      "building tree 126 of 174\n",
      "building tree 127 of 174\n",
      "building tree 128 of 174\n",
      "building tree 129 of 174\n",
      "building tree 130 of 174\n",
      "building tree 131 of 174\n",
      "building tree 132 of 174\n",
      "building tree 133 of 174\n",
      "building tree 134 of 174\n",
      "building tree 135 of 174\n",
      "building tree 136 of 174\n",
      "building tree 137 of 174\n"
     ]
    },
    {
     "name": "stderr",
     "output_type": "stream",
     "text": [
      "[Parallel(n_jobs=-1)]: Done 129 tasks      | elapsed:   11.5s\n"
     ]
    },
    {
     "name": "stdout",
     "output_type": "stream",
     "text": [
      "building tree 138 of 174\n",
      "building tree 139 of 174\n",
      "building tree 140 of 174\n",
      "building tree 141 of 174\n",
      "building tree 142 of 174\n",
      "building tree 143 of 174\n",
      "building tree 144 of 174\n",
      "building tree 145 of 174\n",
      "building tree 146 of 174\n",
      "building tree 147 of 174\n",
      "building tree 148 of 174\n",
      "building tree 149 of 174\n",
      "building tree 150 of 174\n",
      "building tree 151 of 174\n",
      "building tree 152 of 174\n",
      "building tree 153 of 174\n"
     ]
    },
    {
     "name": "stderr",
     "output_type": "stream",
     "text": [
      "[Parallel(n_jobs=-1)]: Done 146 tasks      | elapsed:   13.2s\n"
     ]
    },
    {
     "name": "stdout",
     "output_type": "stream",
     "text": [
      "building tree 154 of 174\n",
      "building tree 155 of 174\n",
      "building tree 156 of 174\n",
      "building tree 157 of 174\n",
      "building tree 158 of 174\n",
      "building tree 159 of 174\n",
      "building tree 160 of 174\n",
      "building tree 161 of 174\n",
      "building tree 162 of 174\n",
      "building tree 163 of 174\n",
      "building tree 164 of 174\n",
      "building tree 165 of 174\n",
      "building tree 166 of 174\n",
      "building tree 167 of 174\n",
      "building tree 168 of 174\n",
      "building tree 169 of 174\n",
      "building tree 170 of 174\n",
      "building tree 171 of 174\n",
      "building tree 172 of 174\n",
      "building tree 173 of 174\n",
      "building tree 174 of 174\n"
     ]
    },
    {
     "name": "stderr",
     "output_type": "stream",
     "text": [
      "[Parallel(n_jobs=-1)]: Done 174 out of 174 | elapsed:   15.5s finished\n",
      "[Parallel(n_jobs=8)]: Done   2 tasks      | elapsed:    0.0s\n",
      "[Parallel(n_jobs=8)]: Done   9 tasks      | elapsed:    0.1s\n",
      "[Parallel(n_jobs=8)]: Done  16 tasks      | elapsed:    0.2s\n",
      "[Parallel(n_jobs=8)]: Done  25 tasks      | elapsed:    0.2s\n",
      "[Parallel(n_jobs=8)]: Done  34 tasks      | elapsed:    0.3s\n",
      "[Parallel(n_jobs=8)]: Done  45 tasks      | elapsed:    0.4s\n",
      "[Parallel(n_jobs=8)]: Done  56 tasks      | elapsed:    0.5s\n",
      "[Parallel(n_jobs=8)]: Done  69 tasks      | elapsed:    0.6s\n",
      "[Parallel(n_jobs=8)]: Done  82 tasks      | elapsed:    0.7s\n",
      "[Parallel(n_jobs=8)]: Done  97 tasks      | elapsed:    0.8s\n",
      "[Parallel(n_jobs=8)]: Done 112 tasks      | elapsed:    0.9s\n",
      "[Parallel(n_jobs=8)]: Done 129 tasks      | elapsed:    1.1s\n",
      "[Parallel(n_jobs=8)]: Done 146 tasks      | elapsed:    1.2s\n",
      "[Parallel(n_jobs=8)]: Done 174 out of 174 | elapsed:    1.4s finished\n",
      "[Parallel(n_jobs=8)]: Done   2 tasks      | elapsed:    0.1s\n",
      "[Parallel(n_jobs=8)]: Done   9 tasks      | elapsed:    0.2s\n",
      "[Parallel(n_jobs=8)]: Done  16 tasks      | elapsed:    0.3s\n",
      "[Parallel(n_jobs=8)]: Done  25 tasks      | elapsed:    0.4s\n",
      "[Parallel(n_jobs=8)]: Done  34 tasks      | elapsed:    0.5s\n",
      "[Parallel(n_jobs=8)]: Done  45 tasks      | elapsed:    0.7s\n",
      "[Parallel(n_jobs=8)]: Done  56 tasks      | elapsed:    0.9s\n",
      "[Parallel(n_jobs=8)]: Done  69 tasks      | elapsed:    1.1s\n",
      "[Parallel(n_jobs=8)]: Done  82 tasks      | elapsed:    1.3s\n",
      "[Parallel(n_jobs=8)]: Done  97 tasks      | elapsed:    1.5s\n",
      "[Parallel(n_jobs=8)]: Done 112 tasks      | elapsed:    1.7s\n",
      "[Parallel(n_jobs=8)]: Done 129 tasks      | elapsed:    2.0s\n",
      "[Parallel(n_jobs=8)]: Done 146 tasks      | elapsed:    2.2s\n",
      "[Parallel(n_jobs=8)]: Done 174 out of 174 | elapsed:    2.6s finished\n",
      "/home/justin/anaconda3/lib/python3.6/site-packages/sklearn/model_selection/_validation.py:458: DataConversionWarning: A column-vector y was passed when a 1d array was expected. Please change the shape of y to (n_samples,), for example using ravel().\n",
      "  estimator.fit(X_train, y_train, **fit_params)\n"
     ]
    },
    {
     "name": "stdout",
     "output_type": "stream",
     "text": [
      "building tree 1 of 174building tree 3 of 174building tree 4 of 174\n",
      "building tree 5 of 174building tree 6 of 174building tree 7 of 174\n",
      "\n",
      "\n",
      "\n",
      "\n",
      "building tree 8 of 174\n",
      "building tree 2 of 174\n",
      "building tree 9 of 174\n"
     ]
    },
    {
     "name": "stderr",
     "output_type": "stream",
     "text": [
      "[Parallel(n_jobs=-1)]: Done   2 tasks      | elapsed:    0.8s\n"
     ]
    },
    {
     "name": "stdout",
     "output_type": "stream",
     "text": [
      "building tree 10 of 174\n",
      "building tree 11 of 174\n",
      "building tree 12 of 174\n",
      "building tree 13 of 174\n",
      "building tree 14 of 174\n",
      "building tree 15 of 174\n",
      "building tree 16 of 174\n",
      "building tree 17 of 174\n"
     ]
    },
    {
     "name": "stderr",
     "output_type": "stream",
     "text": [
      "[Parallel(n_jobs=-1)]: Done   9 tasks      | elapsed:    1.2s\n"
     ]
    },
    {
     "name": "stdout",
     "output_type": "stream",
     "text": [
      "building tree 18 of 174\n",
      "building tree 19 of 174\n",
      "building tree 20 of 174\n",
      "building tree 21 of 174\n",
      "building tree 22 of 174\n",
      "building tree 23 of 174\n"
     ]
    },
    {
     "name": "stderr",
     "output_type": "stream",
     "text": [
      "[Parallel(n_jobs=-1)]: Done  16 tasks      | elapsed:    2.0s\n"
     ]
    },
    {
     "name": "stdout",
     "output_type": "stream",
     "text": [
      "building tree 24 of 174\n",
      "building tree 25 of 174\n",
      "building tree 26 of 174\n",
      "building tree 27 of 174\n",
      "building tree 28 of 174\n",
      "building tree 29 of 174\n",
      "building tree 30 of 174\n",
      "building tree 31 of 174\n",
      "building tree 32 of 174\n"
     ]
    },
    {
     "name": "stderr",
     "output_type": "stream",
     "text": [
      "[Parallel(n_jobs=-1)]: Done  25 tasks      | elapsed:    2.8s\n"
     ]
    },
    {
     "name": "stdout",
     "output_type": "stream",
     "text": [
      "building tree 33 of 174\n",
      "building tree 34 of 174\n",
      "building tree 35 of 174\n",
      "building tree 36 of 174\n",
      "building tree 37 of 174\n",
      "building tree 38 of 174\n",
      "building tree 39 of 174\n",
      "building tree 40 of 174\n",
      "building tree 41 of 174\n"
     ]
    },
    {
     "name": "stderr",
     "output_type": "stream",
     "text": [
      "[Parallel(n_jobs=-1)]: Done  34 tasks      | elapsed:    3.7s\n"
     ]
    },
    {
     "name": "stdout",
     "output_type": "stream",
     "text": [
      "building tree 42 of 174\n",
      "building tree 43 of 174\n",
      "building tree 44 of 174\n",
      "building tree 45 of 174\n",
      "building tree 46 of 174\n",
      "building tree 47 of 174\n",
      "building tree 48 of 174\n",
      "building tree 49 of 174\n",
      "building tree 50 of 174\n",
      "building tree 51 of 174\n",
      "building tree 52 of 174\n"
     ]
    },
    {
     "name": "stderr",
     "output_type": "stream",
     "text": [
      "[Parallel(n_jobs=-1)]: Done  45 tasks      | elapsed:    4.7s\n"
     ]
    },
    {
     "name": "stdout",
     "output_type": "stream",
     "text": [
      "building tree 53 of 174\n",
      "building tree 54 of 174\n",
      "building tree 55 of 174\n",
      "building tree 56 of 174\n",
      "building tree 57 of 174\n",
      "building tree 58 of 174\n",
      "building tree 59 of 174\n",
      "building tree 60 of 174\n",
      "building tree 61 of 174\n",
      "building tree 62 of 174\n",
      "building tree 63 of 174\n"
     ]
    },
    {
     "name": "stderr",
     "output_type": "stream",
     "text": [
      "[Parallel(n_jobs=-1)]: Done  56 tasks      | elapsed:    5.8s\n"
     ]
    },
    {
     "name": "stdout",
     "output_type": "stream",
     "text": [
      "building tree 64 of 174\n",
      "building tree 65 of 174\n",
      "building tree 66 of 174\n",
      "building tree 67 of 174\n",
      "building tree 68 of 174\n",
      "building tree 69 of 174\n",
      "building tree 70 of 174\n",
      "building tree 71 of 174\n",
      "building tree 72 of 174\n",
      "building tree 73 of 174\n",
      "building tree 74 of 174\n",
      "building tree 75 of 174\n",
      "building tree 76 of 174\n"
     ]
    },
    {
     "name": "stderr",
     "output_type": "stream",
     "text": [
      "[Parallel(n_jobs=-1)]: Done  69 tasks      | elapsed:    7.1s\n"
     ]
    },
    {
     "name": "stdout",
     "output_type": "stream",
     "text": [
      "building tree 77 of 174\n",
      "building tree 78 of 174\n",
      "building tree 79 of 174\n",
      "building tree 80 of 174\n",
      "building tree 81 of 174\n",
      "building tree 82 of 174\n",
      "building tree 83 of 174\n",
      "building tree 84 of 174\n",
      "building tree 85 of 174\n",
      "building tree 86 of 174\n",
      "building tree 87 of 174\n",
      "building tree 88 of 174\n",
      "building tree 89 of 174\n",
      "building tree 90 of 174\n",
      "building tree 91 of 174\n",
      "building tree 92 of 174\n",
      "building tree 93 of 174\n"
     ]
    },
    {
     "name": "stderr",
     "output_type": "stream",
     "text": [
      "[Parallel(n_jobs=-1)]: Done  82 tasks      | elapsed:    8.3s\n"
     ]
    },
    {
     "name": "stdout",
     "output_type": "stream",
     "text": [
      "building tree 94 of 174\n",
      "building tree 95 of 174\n",
      "building tree 96 of 174\n",
      "building tree 97 of 174\n",
      "building tree 98 of 174\n",
      "building tree 99 of 174\n",
      "building tree 100 of 174\n",
      "building tree 101 of 174\n",
      "building tree 102 of 174\n",
      "building tree 103 of 174\n",
      "building tree 104 of 174\n",
      "building tree 105 of 174\n"
     ]
    },
    {
     "name": "stderr",
     "output_type": "stream",
     "text": [
      "[Parallel(n_jobs=-1)]: Done  97 tasks      | elapsed:    9.7s\n"
     ]
    },
    {
     "name": "stdout",
     "output_type": "stream",
     "text": [
      "building tree 106 of 174\n",
      "building tree 107 of 174\n",
      "building tree 108 of 174\n",
      "building tree 109 of 174\n",
      "building tree 110 of 174\n",
      "building tree 111 of 174\n",
      "building tree 112 of 174\n",
      "building tree 113 of 174\n",
      "building tree 114 of 174\n",
      "building tree 115 of 174\n",
      "building tree 116 of 174\n",
      "building tree 117 of 174\n",
      "building tree 118 of 174\n",
      "building tree 119 of 174\n"
     ]
    },
    {
     "name": "stderr",
     "output_type": "stream",
     "text": [
      "[Parallel(n_jobs=-1)]: Done 112 tasks      | elapsed:   11.1s\n"
     ]
    },
    {
     "name": "stdout",
     "output_type": "stream",
     "text": [
      "building tree 120 of 174\n",
      "building tree 121 of 174\n",
      "building tree 122 of 174\n",
      "building tree 123 of 174\n",
      "building tree 124 of 174\n",
      "building tree 125 of 174\n",
      "building tree 126 of 174\n",
      "building tree 127 of 174\n",
      "building tree 128 of 174\n",
      "building tree 129 of 174\n",
      "building tree 130 of 174\n",
      "building tree 131 of 174\n",
      "building tree 132 of 174\n",
      "building tree 133 of 174\n",
      "building tree 134 of 174\n",
      "building tree 135 of 174\n",
      "building tree 136 of 174\n"
     ]
    },
    {
     "name": "stderr",
     "output_type": "stream",
     "text": [
      "[Parallel(n_jobs=-1)]: Done 129 tasks      | elapsed:   12.9s\n"
     ]
    },
    {
     "name": "stdout",
     "output_type": "stream",
     "text": [
      "building tree 137 of 174\n",
      "building tree 138 of 174\n",
      "building tree 139 of 174\n",
      "building tree 140 of 174\n",
      "building tree 141 of 174\n",
      "building tree 142 of 174\n",
      "building tree 143 of 174\n",
      "building tree 144 of 174\n",
      "building tree 145 of 174\n",
      "building tree 146 of 174\n",
      "building tree 147 of 174\n",
      "building tree 148 of 174\n",
      "building tree 149 of 174\n",
      "building tree 150 of 174\n",
      "building tree 151 of 174\n",
      "building tree 152 of 174\n",
      "building tree 153 of 174\n"
     ]
    },
    {
     "name": "stderr",
     "output_type": "stream",
     "text": [
      "[Parallel(n_jobs=-1)]: Done 146 tasks      | elapsed:   14.6s\n"
     ]
    },
    {
     "name": "stdout",
     "output_type": "stream",
     "text": [
      "building tree 154 of 174\n",
      "building tree 155 of 174\n",
      "building tree 156 of 174\n",
      "building tree 157 of 174building tree 158 of 174\n",
      "\n",
      "building tree 159 of 174\n",
      "building tree 160 of 174\n",
      "building tree 161 of 174\n",
      "building tree 162 of 174\n",
      "building tree 163 of 174\n",
      "building tree 164 of 174\n",
      "building tree 165 of 174\n",
      "building tree 166 of 174\n",
      "building tree 167 of 174\n",
      "building tree 168 of 174\n",
      "building tree 169 of 174\n",
      "building tree 170 of 174\n",
      "building tree 171 of 174\n",
      "building tree 172 of 174\n",
      "building tree 173 of 174\n",
      "building tree 174 of 174\n"
     ]
    },
    {
     "name": "stderr",
     "output_type": "stream",
     "text": [
      "[Parallel(n_jobs=-1)]: Done 174 out of 174 | elapsed:   17.1s finished\n",
      "[Parallel(n_jobs=8)]: Done   2 tasks      | elapsed:    0.1s\n",
      "[Parallel(n_jobs=8)]: Done   9 tasks      | elapsed:    0.1s\n",
      "[Parallel(n_jobs=8)]: Done  16 tasks      | elapsed:    0.2s\n",
      "[Parallel(n_jobs=8)]: Done  25 tasks      | elapsed:    0.2s\n",
      "[Parallel(n_jobs=8)]: Done  34 tasks      | elapsed:    0.3s\n",
      "[Parallel(n_jobs=8)]: Done  45 tasks      | elapsed:    0.4s\n",
      "[Parallel(n_jobs=8)]: Done  56 tasks      | elapsed:    0.5s\n",
      "[Parallel(n_jobs=8)]: Done  69 tasks      | elapsed:    0.6s\n",
      "[Parallel(n_jobs=8)]: Done  82 tasks      | elapsed:    0.6s\n",
      "[Parallel(n_jobs=8)]: Done  97 tasks      | elapsed:    0.8s\n",
      "[Parallel(n_jobs=8)]: Done 112 tasks      | elapsed:    0.9s\n",
      "[Parallel(n_jobs=8)]: Done 129 tasks      | elapsed:    1.0s\n",
      "[Parallel(n_jobs=8)]: Done 146 tasks      | elapsed:    1.1s\n",
      "[Parallel(n_jobs=8)]: Done 174 out of 174 | elapsed:    1.4s finished\n",
      "[Parallel(n_jobs=8)]: Done   2 tasks      | elapsed:    0.1s\n",
      "[Parallel(n_jobs=8)]: Done   9 tasks      | elapsed:    0.2s\n",
      "[Parallel(n_jobs=8)]: Done  16 tasks      | elapsed:    0.4s\n",
      "[Parallel(n_jobs=8)]: Done  25 tasks      | elapsed:    0.5s\n",
      "[Parallel(n_jobs=8)]: Done  34 tasks      | elapsed:    0.6s\n",
      "[Parallel(n_jobs=8)]: Done  45 tasks      | elapsed:    0.8s\n",
      "[Parallel(n_jobs=8)]: Done  56 tasks      | elapsed:    1.0s\n",
      "[Parallel(n_jobs=8)]: Done  69 tasks      | elapsed:    1.2s\n",
      "[Parallel(n_jobs=8)]: Done  82 tasks      | elapsed:    1.4s\n",
      "[Parallel(n_jobs=8)]: Done  97 tasks      | elapsed:    1.6s\n",
      "[Parallel(n_jobs=8)]: Done 112 tasks      | elapsed:    1.9s\n",
      "[Parallel(n_jobs=8)]: Done 129 tasks      | elapsed:    2.1s\n",
      "[Parallel(n_jobs=8)]: Done 146 tasks      | elapsed:    2.4s\n",
      "[Parallel(n_jobs=8)]: Done 174 out of 174 | elapsed:    2.9s finished\n",
      "/home/justin/anaconda3/lib/python3.6/site-packages/sklearn/model_selection/_validation.py:458: DataConversionWarning: A column-vector y was passed when a 1d array was expected. Please change the shape of y to (n_samples,), for example using ravel().\n",
      "  estimator.fit(X_train, y_train, **fit_params)\n"
     ]
    },
    {
     "name": "stdout",
     "output_type": "stream",
     "text": [
      "building tree 2 of 174building tree 3 of 174building tree 5 of 174building tree 1 of 174building tree 6 of 174\n",
      "building tree 7 of 174building tree 4 of 174building tree 8 of 174\n",
      "\n",
      "\n",
      "\n",
      "\n",
      "\n",
      "\n",
      "building tree 9 of 174\n",
      "building tree 10 of 174\n"
     ]
    },
    {
     "name": "stderr",
     "output_type": "stream",
     "text": [
      "[Parallel(n_jobs=-1)]: Done   2 tasks      | elapsed:    0.7s\n"
     ]
    },
    {
     "name": "stdout",
     "output_type": "stream",
     "text": [
      "building tree 11 of 174\n",
      "building tree 12 of 174\n",
      "building tree 13 of 174\n",
      "building tree 14 of 174building tree 15 of 174\n",
      "\n",
      "building tree 16 of 174\n",
      "building tree 17 of 174\n",
      "building tree 18 of 174\n",
      "building tree 19 of 174\n"
     ]
    },
    {
     "name": "stderr",
     "output_type": "stream",
     "text": [
      "[Parallel(n_jobs=-1)]: Done   9 tasks      | elapsed:    1.4s\n"
     ]
    },
    {
     "name": "stdout",
     "output_type": "stream",
     "text": [
      "building tree 20 of 174\n",
      "building tree 21 of 174\n",
      "building tree 22 of 174\n",
      "building tree 23 of 174\n",
      "building tree 24 of 174\n",
      "building tree 25 of 174\n",
      "building tree 26 of 174"
     ]
    },
    {
     "name": "stderr",
     "output_type": "stream",
     "text": [
      "[Parallel(n_jobs=-1)]: Done  16 tasks      | elapsed:    2.1s\n"
     ]
    },
    {
     "name": "stdout",
     "output_type": "stream",
     "text": [
      "\n",
      "building tree 27 of 174\n",
      "building tree 28 of 174\n",
      "building tree 29 of 174\n",
      "building tree 30 of 174\n",
      "building tree 31 of 174\n",
      "building tree 32 of 174\n"
     ]
    },
    {
     "name": "stderr",
     "output_type": "stream",
     "text": [
      "[Parallel(n_jobs=-1)]: Done  25 tasks      | elapsed:    3.1s\n"
     ]
    },
    {
     "name": "stdout",
     "output_type": "stream",
     "text": [
      "building tree 33 of 174\n",
      "building tree 34 of 174\n",
      "building tree 35 of 174\n",
      "building tree 36 of 174\n",
      "building tree 37 of 174\n",
      "building tree 38 of 174\n",
      "building tree 39 of 174\n",
      "building tree 40 of 174\n",
      "building tree 41 of 174\n",
      "building tree 42 of 174\n"
     ]
    },
    {
     "name": "stderr",
     "output_type": "stream",
     "text": [
      "[Parallel(n_jobs=-1)]: Done  34 tasks      | elapsed:    4.0s\n"
     ]
    },
    {
     "name": "stdout",
     "output_type": "stream",
     "text": [
      "building tree 43 of 174\n",
      "building tree 44 of 174\n",
      "building tree 45 of 174\n",
      "building tree 46 of 174\n",
      "building tree 47 of 174\n",
      "building tree 48 of 174\n",
      "building tree 49 of 174\n",
      "building tree 50 of 174\n",
      "building tree 51 of 174\n",
      "building tree 52 of 174\n",
      "building tree 53 of 174\n",
      "building tree 54 of 174\n",
      "building tree 55 of 174\n",
      "building tree 56 of 174"
     ]
    },
    {
     "name": "stderr",
     "output_type": "stream",
     "text": [
      "[Parallel(n_jobs=-1)]: Done  45 tasks      | elapsed:    5.3s\n"
     ]
    },
    {
     "name": "stdout",
     "output_type": "stream",
     "text": [
      "\n",
      "building tree 57 of 174\n",
      "building tree 58 of 174\n",
      "building tree 59 of 174\n",
      "building tree 60 of 174\n",
      "building tree 61 of 174\n",
      "building tree 62 of 174\n",
      "building tree 63 of 174\n"
     ]
    },
    {
     "name": "stderr",
     "output_type": "stream",
     "text": [
      "[Parallel(n_jobs=-1)]: Done  56 tasks      | elapsed:    6.4s\n"
     ]
    },
    {
     "name": "stdout",
     "output_type": "stream",
     "text": [
      "building tree 64 of 174\n",
      "building tree 65 of 174\n",
      "building tree 66 of 174\n",
      "building tree 67 of 174\n",
      "building tree 68 of 174\n",
      "building tree 69 of 174\n",
      "building tree 70 of 174\n",
      "building tree 71 of 174\n",
      "building tree 72 of 174\n",
      "building tree 73 of 174\n",
      "building tree 74 of 174\n",
      "building tree 75 of 174\n",
      "building tree 76 of 174\n",
      "building tree 77 of 174\n"
     ]
    },
    {
     "name": "stderr",
     "output_type": "stream",
     "text": [
      "[Parallel(n_jobs=-1)]: Done  69 tasks      | elapsed:    8.0s\n"
     ]
    },
    {
     "name": "stdout",
     "output_type": "stream",
     "text": [
      "building tree 78 of 174\n",
      "building tree 79 of 174\n",
      "building tree 80 of 174\n",
      "building tree 81 of 174\n",
      "building tree 82 of 174\n",
      "building tree 83 of 174\n",
      "building tree 84 of 174\n",
      "building tree 85 of 174\n",
      "building tree 86 of 174\n",
      "building tree 87 of 174\n",
      "building tree 88 of 174\n",
      "building tree 89 of 174\n"
     ]
    },
    {
     "name": "stderr",
     "output_type": "stream",
     "text": [
      "[Parallel(n_jobs=-1)]: Done  82 tasks      | elapsed:    9.4s\n"
     ]
    },
    {
     "name": "stdout",
     "output_type": "stream",
     "text": [
      "building tree 90 of 174\n",
      "building tree 91 of 174\n",
      "building tree 92 of 174\n",
      "building tree 93 of 174\n",
      "building tree 94 of 174\n",
      "building tree 95 of 174\n",
      "building tree 96 of 174\n",
      "building tree 97 of 174\n",
      "building tree 98 of 174\n",
      "building tree 99 of 174\n",
      "building tree 100 of 174\n",
      "building tree 101 of 174\n",
      "building tree 102 of 174\n",
      "building tree 103 of 174\n",
      "building tree 104 of 174\n",
      "building tree 105 of 174\n",
      "building tree 106 of 174\n"
     ]
    },
    {
     "name": "stderr",
     "output_type": "stream",
     "text": [
      "[Parallel(n_jobs=-1)]: Done  97 tasks      | elapsed:   11.1s\n"
     ]
    },
    {
     "name": "stdout",
     "output_type": "stream",
     "text": [
      "building tree 107 of 174\n",
      "building tree 108 of 174\n",
      "building tree 109 of 174\n",
      "building tree 110 of 174\n",
      "building tree 111 of 174\n",
      "building tree 112 of 174\n",
      "building tree 113 of 174\n",
      "building tree 114 of 174\n",
      "building tree 115 of 174\n",
      "building tree 116 of 174\n",
      "building tree 117 of 174\n",
      "building tree 118 of 174\n",
      "building tree 119 of 174\n",
      "building tree 120 of 174\n"
     ]
    },
    {
     "name": "stderr",
     "output_type": "stream",
     "text": [
      "[Parallel(n_jobs=-1)]: Done 112 tasks      | elapsed:   12.5s\n"
     ]
    },
    {
     "name": "stdout",
     "output_type": "stream",
     "text": [
      "building tree 121 of 174\n",
      "building tree 122 of 174\n",
      "building tree 123 of 174\n",
      "building tree 124 of 174\n",
      "building tree 125 of 174\n",
      "building tree 126 of 174\n",
      "building tree 127 of 174\n",
      "building tree 128 of 174\n",
      "building tree 129 of 174\n",
      "building tree 130 of 174\n",
      "building tree 131 of 174\n",
      "building tree 132 of 174\n",
      "building tree 133 of 174\n",
      "building tree 134 of 174\n",
      "building tree 135 of 174\n",
      "building tree 136 of 174\n",
      "building tree 137 of 174\n"
     ]
    },
    {
     "name": "stderr",
     "output_type": "stream",
     "text": [
      "[Parallel(n_jobs=-1)]: Done 129 tasks      | elapsed:   14.6s\n"
     ]
    },
    {
     "name": "stdout",
     "output_type": "stream",
     "text": [
      "building tree 138 of 174\n",
      "building tree 139 of 174\n",
      "building tree 140 of 174\n",
      "building tree 141 of 174\n",
      "building tree 142 of 174\n",
      "building tree 143 of 174\n",
      "building tree 144 of 174\n",
      "building tree 145 of 174\n",
      "building tree 146 of 174\n",
      "building tree 147 of 174\n",
      "building tree 148 of 174\n",
      "building tree 149 of 174\n",
      "building tree 150 of 174\n",
      "building tree 151 of 174\n",
      "building tree 152 of 174\n"
     ]
    },
    {
     "name": "stderr",
     "output_type": "stream",
     "text": [
      "[Parallel(n_jobs=-1)]: Done 146 tasks      | elapsed:   16.6s\n"
     ]
    },
    {
     "name": "stdout",
     "output_type": "stream",
     "text": [
      "building tree 154 of 174\n",
      "building tree 153 of 174\n",
      "building tree 155 of 174\n",
      "building tree 156 of 174\n",
      "building tree 157 of 174\n",
      "building tree 158 of 174\n",
      "building tree 159 of 174\n",
      "building tree 160 of 174\n",
      "building tree 161 of 174\n",
      "building tree 162 of 174\n",
      "building tree 163 of 174\n",
      "building tree 164 of 174\n",
      "building tree 165 of 174\n",
      "building tree 166 of 174building tree 167 of 174\n",
      "\n",
      "building tree 168 of 174\n",
      "building tree 169 of 174\n",
      "building tree 170 of 174\n",
      "building tree 171 of 174\n",
      "building tree 172 of 174\n",
      "building tree 173 of 174\n",
      "building tree 174 of 174\n"
     ]
    },
    {
     "name": "stderr",
     "output_type": "stream",
     "text": [
      "[Parallel(n_jobs=-1)]: Done 174 out of 174 | elapsed:   19.4s finished\n",
      "[Parallel(n_jobs=8)]: Done   2 tasks      | elapsed:    0.1s\n",
      "[Parallel(n_jobs=8)]: Done   9 tasks      | elapsed:    0.1s\n",
      "[Parallel(n_jobs=8)]: Done  16 tasks      | elapsed:    0.2s\n",
      "[Parallel(n_jobs=8)]: Done  25 tasks      | elapsed:    0.2s\n",
      "[Parallel(n_jobs=8)]: Done  34 tasks      | elapsed:    0.3s\n",
      "[Parallel(n_jobs=8)]: Done  45 tasks      | elapsed:    0.4s\n",
      "[Parallel(n_jobs=8)]: Done  56 tasks      | elapsed:    0.5s\n",
      "[Parallel(n_jobs=8)]: Done  69 tasks      | elapsed:    0.6s\n",
      "[Parallel(n_jobs=8)]: Done  82 tasks      | elapsed:    0.7s\n",
      "[Parallel(n_jobs=8)]: Done  97 tasks      | elapsed:    0.8s\n",
      "[Parallel(n_jobs=8)]: Done 112 tasks      | elapsed:    0.9s\n",
      "[Parallel(n_jobs=8)]: Done 129 tasks      | elapsed:    1.1s\n",
      "[Parallel(n_jobs=8)]: Done 146 tasks      | elapsed:    1.2s\n",
      "[Parallel(n_jobs=8)]: Done 174 out of 174 | elapsed:    1.4s finished\n",
      "[Parallel(n_jobs=8)]: Done   2 tasks      | elapsed:    0.1s\n",
      "[Parallel(n_jobs=8)]: Done   9 tasks      | elapsed:    0.2s\n",
      "[Parallel(n_jobs=8)]: Done  16 tasks      | elapsed:    0.3s\n",
      "[Parallel(n_jobs=8)]: Done  25 tasks      | elapsed:    0.5s\n",
      "[Parallel(n_jobs=8)]: Done  34 tasks      | elapsed:    0.6s\n",
      "[Parallel(n_jobs=8)]: Done  45 tasks      | elapsed:    0.8s\n",
      "[Parallel(n_jobs=8)]: Done  56 tasks      | elapsed:    1.0s\n",
      "[Parallel(n_jobs=8)]: Done  69 tasks      | elapsed:    1.3s\n",
      "[Parallel(n_jobs=8)]: Done  82 tasks      | elapsed:    1.5s\n",
      "[Parallel(n_jobs=8)]: Done  97 tasks      | elapsed:    1.8s\n",
      "[Parallel(n_jobs=8)]: Done 112 tasks      | elapsed:    2.0s\n",
      "[Parallel(n_jobs=8)]: Done 129 tasks      | elapsed:    2.3s\n",
      "[Parallel(n_jobs=8)]: Done 146 tasks      | elapsed:    2.7s\n",
      "[Parallel(n_jobs=8)]: Done 174 out of 174 | elapsed:    3.1s finished\n",
      "/home/justin/anaconda3/lib/python3.6/site-packages/sklearn/model_selection/_validation.py:458: DataConversionWarning: A column-vector y was passed when a 1d array was expected. Please change the shape of y to (n_samples,), for example using ravel().\n",
      "  estimator.fit(X_train, y_train, **fit_params)\n"
     ]
    },
    {
     "name": "stdout",
     "output_type": "stream",
     "text": [
      "building tree 1 of 39\n",
      "building tree 4 of 39building tree 5 of 39building tree 3 of 39building tree 2 of 39building tree 8 of 39building tree 6 of 39building tree 7 of 39\n",
      "\n",
      "\n",
      "\n",
      "\n",
      "\n",
      "\n",
      "building tree 9 of 39\n"
     ]
    },
    {
     "name": "stderr",
     "output_type": "stream",
     "text": [
      "[Parallel(n_jobs=-1)]: Done   2 tasks      | elapsed:    8.7s\n"
     ]
    },
    {
     "name": "stdout",
     "output_type": "stream",
     "text": [
      "building tree 11 of 39\n",
      "building tree 10 of 39\n",
      "building tree 12 of 39\n",
      "building tree 13 of 39\n",
      "building tree 14 of 39\n",
      "building tree 15 of 39\n",
      "building tree 16 of 39\n"
     ]
    },
    {
     "name": "stderr",
     "output_type": "stream",
     "text": [
      "[Parallel(n_jobs=-1)]: Done   9 tasks      | elapsed:   15.6s\n"
     ]
    },
    {
     "name": "stdout",
     "output_type": "stream",
     "text": [
      "building tree 17 of 39\n",
      "building tree 18 of 39\n",
      "building tree 19 of 39\n",
      "building tree 20 of 39\n",
      "building tree 21 of 39\n",
      "building tree 22 of 39\n",
      "building tree 23 of 39\n"
     ]
    },
    {
     "name": "stderr",
     "output_type": "stream",
     "text": [
      "[Parallel(n_jobs=-1)]: Done  16 tasks      | elapsed:   18.4s\n"
     ]
    },
    {
     "name": "stdout",
     "output_type": "stream",
     "text": [
      "building tree 24 of 39\n",
      "building tree 25 of 39\n",
      "building tree 26 of 39\n",
      "building tree 27 of 39\n",
      "building tree 28 of 39\n",
      "building tree 29 of 39\n",
      "building tree 30 of 39\n",
      "building tree 31 of 39\n",
      "building tree 32 of 39\n",
      "building tree 33 of 39\n",
      "building tree 34 of 39\n",
      "building tree 35 of 39\n"
     ]
    },
    {
     "name": "stderr",
     "output_type": "stream",
     "text": [
      "[Parallel(n_jobs=-1)]: Done  28 out of  39 | elapsed:   34.0s remaining:   13.3s\n"
     ]
    },
    {
     "name": "stdout",
     "output_type": "stream",
     "text": [
      "building tree 36 of 39\n",
      "building tree 37 of 39\n",
      "building tree 38 of 39\n",
      "building tree 39 of 39\n"
     ]
    },
    {
     "name": "stderr",
     "output_type": "stream",
     "text": [
      "[Parallel(n_jobs=-1)]: Done  32 out of  39 | elapsed:   36.9s remaining:    8.1s\n",
      "[Parallel(n_jobs=-1)]: Done  36 out of  39 | elapsed:   41.3s remaining:    3.4s\n",
      "[Parallel(n_jobs=-1)]: Done  39 out of  39 | elapsed:   42.4s finished\n",
      "[Parallel(n_jobs=8)]: Done   2 tasks      | elapsed:    0.1s\n",
      "[Parallel(n_jobs=8)]: Done   9 tasks      | elapsed:    0.1s\n",
      "[Parallel(n_jobs=8)]: Done  16 tasks      | elapsed:    0.2s\n",
      "[Parallel(n_jobs=8)]: Done  28 out of  39 | elapsed:    0.4s remaining:    0.2s\n",
      "[Parallel(n_jobs=8)]: Done  32 out of  39 | elapsed:    0.4s remaining:    0.1s\n",
      "[Parallel(n_jobs=8)]: Done  36 out of  39 | elapsed:    0.5s remaining:    0.0s\n",
      "[Parallel(n_jobs=8)]: Done  39 out of  39 | elapsed:    0.5s finished\n",
      "[Parallel(n_jobs=8)]: Done   2 tasks      | elapsed:    0.1s\n",
      "[Parallel(n_jobs=8)]: Done   9 tasks      | elapsed:    0.3s\n",
      "[Parallel(n_jobs=8)]: Done  16 tasks      | elapsed:    0.5s\n",
      "[Parallel(n_jobs=8)]: Done  28 out of  39 | elapsed:    0.8s remaining:    0.3s\n",
      "[Parallel(n_jobs=8)]: Done  32 out of  39 | elapsed:    0.8s remaining:    0.2s\n",
      "[Parallel(n_jobs=8)]: Done  36 out of  39 | elapsed:    0.9s remaining:    0.1s\n",
      "[Parallel(n_jobs=8)]: Done  39 out of  39 | elapsed:    1.0s finished\n",
      "/home/justin/anaconda3/lib/python3.6/site-packages/sklearn/model_selection/_validation.py:458: DataConversionWarning: A column-vector y was passed when a 1d array was expected. Please change the shape of y to (n_samples,), for example using ravel().\n",
      "  estimator.fit(X_train, y_train, **fit_params)\n"
     ]
    },
    {
     "name": "stdout",
     "output_type": "stream",
     "text": [
      "building tree 1 of 39building tree 3 of 39building tree 4 of 39building tree 2 of 39building tree 5 of 39building tree 6 of 39building tree 7 of 39building tree 8 of 39\n",
      "\n",
      "\n",
      "\n",
      "\n",
      "\n",
      "\n",
      "\n",
      "building tree 9 of 39\n",
      "building tree 10 of 39\n"
     ]
    },
    {
     "name": "stderr",
     "output_type": "stream",
     "text": [
      "[Parallel(n_jobs=-1)]: Done   2 tasks      | elapsed:    7.8s\n"
     ]
    },
    {
     "name": "stdout",
     "output_type": "stream",
     "text": [
      "building tree 11 of 39\n",
      "building tree 12 of 39\n",
      "building tree 13 of 39\n",
      "building tree 14 of 39\n",
      "building tree 15 of 39\n",
      "building tree 16 of 39\n"
     ]
    },
    {
     "name": "stderr",
     "output_type": "stream",
     "text": [
      "[Parallel(n_jobs=-1)]: Done   9 tasks      | elapsed:   16.0s\n"
     ]
    },
    {
     "name": "stdout",
     "output_type": "stream",
     "text": [
      "building tree 17 of 39\n",
      "building tree 18 of 39\n",
      "building tree 19 of 39\n",
      "building tree 20 of 39\n",
      "building tree 21 of 39\n",
      "building tree 22 of 39\n",
      "building tree 23 of 39\n"
     ]
    },
    {
     "name": "stderr",
     "output_type": "stream",
     "text": [
      "[Parallel(n_jobs=-1)]: Done  16 tasks      | elapsed:   18.6s\n"
     ]
    },
    {
     "name": "stdout",
     "output_type": "stream",
     "text": [
      "building tree 24 of 39\n",
      "building tree 25 of 39\n",
      "building tree 26 of 39\n",
      "building tree 27 of 39\n",
      "building tree 28 of 39\n",
      "building tree 29 of 39\n",
      "building tree 30 of 39\n",
      "building tree 31 of 39\n",
      "building tree 32 of 39\n",
      "building tree 33 of 39\n",
      "building tree 34 of 39\n",
      "building tree 35 of 39\n"
     ]
    },
    {
     "name": "stderr",
     "output_type": "stream",
     "text": [
      "[Parallel(n_jobs=-1)]: Done  28 out of  39 | elapsed:   34.3s remaining:   13.5s\n"
     ]
    },
    {
     "name": "stdout",
     "output_type": "stream",
     "text": [
      "building tree 36 of 39\n",
      "building tree 37 of 39\n",
      "building tree 38 of 39\n",
      "building tree 39 of 39\n"
     ]
    },
    {
     "name": "stderr",
     "output_type": "stream",
     "text": [
      "[Parallel(n_jobs=-1)]: Done  32 out of  39 | elapsed:   36.7s remaining:    8.0s\n",
      "[Parallel(n_jobs=-1)]: Done  36 out of  39 | elapsed:   41.9s remaining:    3.5s\n",
      "[Parallel(n_jobs=-1)]: Done  39 out of  39 | elapsed:   42.4s finished\n",
      "[Parallel(n_jobs=8)]: Done   2 tasks      | elapsed:    0.1s\n",
      "[Parallel(n_jobs=8)]: Done   9 tasks      | elapsed:    0.1s\n",
      "[Parallel(n_jobs=8)]: Done  16 tasks      | elapsed:    0.2s\n",
      "[Parallel(n_jobs=8)]: Done  28 out of  39 | elapsed:    0.3s remaining:    0.1s\n",
      "[Parallel(n_jobs=8)]: Done  32 out of  39 | elapsed:    0.4s remaining:    0.1s\n",
      "[Parallel(n_jobs=8)]: Done  36 out of  39 | elapsed:    0.4s remaining:    0.0s\n",
      "[Parallel(n_jobs=8)]: Done  39 out of  39 | elapsed:    0.4s finished\n",
      "[Parallel(n_jobs=8)]: Done   2 tasks      | elapsed:    0.1s\n",
      "[Parallel(n_jobs=8)]: Done   9 tasks      | elapsed:    0.3s\n",
      "[Parallel(n_jobs=8)]: Done  16 tasks      | elapsed:    0.5s\n",
      "[Parallel(n_jobs=8)]: Done  28 out of  39 | elapsed:    0.8s remaining:    0.3s\n",
      "[Parallel(n_jobs=8)]: Done  32 out of  39 | elapsed:    0.9s remaining:    0.2s\n",
      "[Parallel(n_jobs=8)]: Done  36 out of  39 | elapsed:    0.9s remaining:    0.1s\n",
      "[Parallel(n_jobs=8)]: Done  39 out of  39 | elapsed:    1.0s finished\n",
      "/home/justin/anaconda3/lib/python3.6/site-packages/sklearn/model_selection/_validation.py:458: DataConversionWarning: A column-vector y was passed when a 1d array was expected. Please change the shape of y to (n_samples,), for example using ravel().\n",
      "  estimator.fit(X_train, y_train, **fit_params)\n"
     ]
    },
    {
     "name": "stdout",
     "output_type": "stream",
     "text": [
      "building tree 2 of 39building tree 6 of 39building tree 5 of 39building tree 3 of 39building tree 4 of 39building tree 7 of 39\n",
      "\n",
      "\n",
      "\n",
      "\n",
      "building tree 1 of 39building tree 8 of 39\n",
      "\n",
      "\n",
      "building tree 9 of 39\n",
      "building tree 10 of 39\n",
      "building tree 11 of 39\n"
     ]
    },
    {
     "name": "stderr",
     "output_type": "stream",
     "text": [
      "[Parallel(n_jobs=-1)]: Done   2 tasks      | elapsed:    8.0s\n"
     ]
    },
    {
     "name": "stdout",
     "output_type": "stream",
     "text": [
      "building tree 12 of 39\n",
      "building tree 13 of 39\n",
      "building tree 14 of 39\n",
      "building tree 15 of 39\n",
      "building tree 16 of 39\n"
     ]
    },
    {
     "name": "stderr",
     "output_type": "stream",
     "text": [
      "[Parallel(n_jobs=-1)]: Done   9 tasks      | elapsed:   15.6s\n"
     ]
    },
    {
     "name": "stdout",
     "output_type": "stream",
     "text": [
      "building tree 17 of 39\n",
      "building tree 18 of 39\n",
      "building tree 19 of 39\n",
      "building tree 20 of 39\n",
      "building tree 21 of 39\n",
      "building tree 22 of 39\n",
      "building tree 23 of 39\n",
      "building tree 24 of 39\n"
     ]
    },
    {
     "name": "stderr",
     "output_type": "stream",
     "text": [
      "[Parallel(n_jobs=-1)]: Done  16 tasks      | elapsed:   16.8s\n"
     ]
    },
    {
     "name": "stdout",
     "output_type": "stream",
     "text": [
      "building tree 25 of 39\n",
      "building tree 26 of 39\n",
      "building tree 27 of 39\n",
      "building tree 28 of 39\n",
      "building tree 29 of 39\n",
      "building tree 30 of 39\n",
      "building tree 31 of 39\n",
      "building tree 32 of 39\n",
      "building tree 33 of 39\n",
      "building tree 34 of 39\n",
      "building tree 35 of 39\n",
      "building tree 36 of 39\n",
      "building tree 37 of 39\n"
     ]
    },
    {
     "name": "stderr",
     "output_type": "stream",
     "text": [
      "[Parallel(n_jobs=-1)]: Done  28 out of  39 | elapsed:   32.6s remaining:   12.8s\n"
     ]
    },
    {
     "name": "stdout",
     "output_type": "stream",
     "text": [
      "building tree 38 of 39\n",
      "building tree 39 of 39\n"
     ]
    },
    {
     "name": "stderr",
     "output_type": "stream",
     "text": [
      "[Parallel(n_jobs=-1)]: Done  32 out of  39 | elapsed:   33.4s remaining:    7.3s\n",
      "[Parallel(n_jobs=-1)]: Done  36 out of  39 | elapsed:   39.8s remaining:    3.3s\n",
      "[Parallel(n_jobs=-1)]: Done  39 out of  39 | elapsed:   40.0s finished\n",
      "[Parallel(n_jobs=8)]: Done   2 tasks      | elapsed:    0.1s\n",
      "[Parallel(n_jobs=8)]: Done   9 tasks      | elapsed:    0.1s\n",
      "[Parallel(n_jobs=8)]: Done  16 tasks      | elapsed:    0.2s\n",
      "[Parallel(n_jobs=8)]: Done  28 out of  39 | elapsed:    0.3s remaining:    0.1s\n",
      "[Parallel(n_jobs=8)]: Done  32 out of  39 | elapsed:    0.4s remaining:    0.1s\n",
      "[Parallel(n_jobs=8)]: Done  36 out of  39 | elapsed:    0.4s remaining:    0.0s\n",
      "[Parallel(n_jobs=8)]: Done  39 out of  39 | elapsed:    0.4s finished\n",
      "[Parallel(n_jobs=8)]: Done   2 tasks      | elapsed:    0.1s\n",
      "[Parallel(n_jobs=8)]: Done   9 tasks      | elapsed:    0.3s\n",
      "[Parallel(n_jobs=8)]: Done  16 tasks      | elapsed:    0.5s\n",
      "[Parallel(n_jobs=8)]: Done  28 out of  39 | elapsed:    0.8s remaining:    0.3s\n",
      "[Parallel(n_jobs=8)]: Done  32 out of  39 | elapsed:    0.8s remaining:    0.2s\n",
      "[Parallel(n_jobs=8)]: Done  36 out of  39 | elapsed:    0.9s remaining:    0.1s\n",
      "[Parallel(n_jobs=8)]: Done  39 out of  39 | elapsed:    1.0s finished\n",
      "/home/justin/anaconda3/lib/python3.6/site-packages/sklearn/model_selection/_validation.py:458: DataConversionWarning: A column-vector y was passed when a 1d array was expected. Please change the shape of y to (n_samples,), for example using ravel().\n",
      "  estimator.fit(X_train, y_train, **fit_params)\n"
     ]
    },
    {
     "name": "stdout",
     "output_type": "stream",
     "text": [
      "building tree 2 of 89\n",
      "building tree 3 of 89building tree 1 of 89building tree 5 of 89building tree 4 of 89building tree 6 of 89building tree 7 of 89\n",
      "\n",
      "\n",
      "\n",
      "\n",
      "\n",
      "building tree 8 of 89\n",
      "building tree 9 of 89\n"
     ]
    },
    {
     "name": "stderr",
     "output_type": "stream",
     "text": [
      "[Parallel(n_jobs=-1)]: Done   2 tasks      | elapsed:   23.0s\n"
     ]
    },
    {
     "name": "stdout",
     "output_type": "stream",
     "text": [
      "building tree 10 of 89\n",
      "building tree 11 of 89\n",
      "building tree 12 of 89\n",
      "building tree 13 of 89\n",
      "building tree 14 of 89\n",
      "building tree 15 of 89\n",
      "building tree 16 of 89\n"
     ]
    },
    {
     "name": "stderr",
     "output_type": "stream",
     "text": [
      "[Parallel(n_jobs=-1)]: Done   9 tasks      | elapsed:   44.5s\n"
     ]
    },
    {
     "name": "stdout",
     "output_type": "stream",
     "text": [
      "building tree 17 of 89\n",
      "building tree 18 of 89\n",
      "building tree 19 of 89\n",
      "building tree 20 of 89\n",
      "building tree 21 of 89\n",
      "building tree 22 of 89\n",
      "building tree 23 of 89\n"
     ]
    },
    {
     "name": "stderr",
     "output_type": "stream",
     "text": [
      "[Parallel(n_jobs=-1)]: Done  16 tasks      | elapsed:   51.5s\n"
     ]
    },
    {
     "name": "stdout",
     "output_type": "stream",
     "text": [
      "building tree 24 of 89\n",
      "building tree 25 of 89\n",
      "building tree 26 of 89\n",
      "building tree 27 of 89\n",
      "building tree 28 of 89\n",
      "building tree 29 of 89\n",
      "building tree 30 of 89\n",
      "building tree 31 of 89\n",
      "building tree 32 of 89\n"
     ]
    },
    {
     "name": "stderr",
     "output_type": "stream",
     "text": [
      "[Parallel(n_jobs=-1)]: Done  25 tasks      | elapsed:  1.5min\n"
     ]
    },
    {
     "name": "stdout",
     "output_type": "stream",
     "text": [
      "building tree 33 of 89\n",
      "building tree 34 of 89\n",
      "building tree 35 of 89\n",
      "building tree 36 of 89\n",
      "building tree 37 of 89\n",
      "building tree 38 of 89\n",
      "building tree 39 of 89\n",
      "building tree 40 of 89\n",
      "building tree 41 of 89\n"
     ]
    },
    {
     "name": "stderr",
     "output_type": "stream",
     "text": [
      "[Parallel(n_jobs=-1)]: Done  34 tasks      | elapsed:  2.0min\n"
     ]
    },
    {
     "name": "stdout",
     "output_type": "stream",
     "text": [
      "building tree 42 of 89\n",
      "building tree 43 of 89\n",
      "building tree 44 of 89\n",
      "building tree 45 of 89\n",
      "building tree 46 of 89\n",
      "building tree 47 of 89\n",
      "building tree 48 of 89\n",
      "building tree 49 of 89\n",
      "building tree 50 of 89\n",
      "building tree 51 of 89\n",
      "building tree 52 of 89\n"
     ]
    },
    {
     "name": "stderr",
     "output_type": "stream",
     "text": [
      "[Parallel(n_jobs=-1)]: Done  45 tasks      | elapsed:  2.4min\n"
     ]
    },
    {
     "name": "stdout",
     "output_type": "stream",
     "text": [
      "building tree 53 of 89\n",
      "building tree 54 of 89\n",
      "building tree 55 of 89\n",
      "building tree 56 of 89\n",
      "building tree 57 of 89\n",
      "building tree 58 of 89\n",
      "building tree 59 of 89\n",
      "building tree 60 of 89\n",
      "building tree 61 of 89\n",
      "building tree 62 of 89\n",
      "building tree 63 of 89\n"
     ]
    },
    {
     "name": "stderr",
     "output_type": "stream",
     "text": [
      "[Parallel(n_jobs=-1)]: Done  56 tasks      | elapsed:  2.9min\n"
     ]
    },
    {
     "name": "stdout",
     "output_type": "stream",
     "text": [
      "building tree 64 of 89\n",
      "building tree 65 of 89\n",
      "building tree 66 of 89\n",
      "building tree 67 of 89\n",
      "building tree 68 of 89\n",
      "building tree 69 of 89\n",
      "building tree 70 of 89\n",
      "building tree 71 of 89\n",
      "building tree 72 of 89\n",
      "building tree 73 of 89\n",
      "building tree 74 of 89\n",
      "building tree 75 of 89\n",
      "building tree 76 of 89\n",
      "building tree 77 of 89\n"
     ]
    },
    {
     "name": "stderr",
     "output_type": "stream",
     "text": [
      "[Parallel(n_jobs=-1)]: Done  69 tasks      | elapsed:  3.6min\n"
     ]
    },
    {
     "name": "stdout",
     "output_type": "stream",
     "text": [
      "building tree 78 of 89\n",
      "building tree 79 of 89\n",
      "building tree 80 of 89\n",
      "building tree 81 of 89\n",
      "building tree 82 of 89\n",
      "building tree 83 of 89\n",
      "building tree 84 of 89\n",
      "building tree 85 of 89\n",
      "building tree 86 of 89\n",
      "building tree 87 of 89\n",
      "building tree 88 of 89\n",
      "building tree 89 of 89\n"
     ]
    },
    {
     "name": "stderr",
     "output_type": "stream",
     "text": [
      "[Parallel(n_jobs=-1)]: Done  83 out of  89 | elapsed:  4.4min remaining:   19.1s\n",
      "[Parallel(n_jobs=-1)]: Done  89 out of  89 | elapsed:  4.6min finished\n",
      "[Parallel(n_jobs=8)]: Done   2 tasks      | elapsed:    0.0s\n",
      "[Parallel(n_jobs=8)]: Done   9 tasks      | elapsed:    0.1s\n",
      "[Parallel(n_jobs=8)]: Done  16 tasks      | elapsed:    0.1s\n",
      "[Parallel(n_jobs=8)]: Done  25 tasks      | elapsed:    0.2s\n",
      "[Parallel(n_jobs=8)]: Done  34 tasks      | elapsed:    0.3s\n",
      "[Parallel(n_jobs=8)]: Done  45 tasks      | elapsed:    0.3s\n",
      "[Parallel(n_jobs=8)]: Done  56 tasks      | elapsed:    0.4s\n",
      "[Parallel(n_jobs=8)]: Done  69 tasks      | elapsed:    0.5s\n",
      "[Parallel(n_jobs=8)]: Done  83 out of  89 | elapsed:    0.6s remaining:    0.0s\n",
      "[Parallel(n_jobs=8)]: Done  89 out of  89 | elapsed:    0.6s finished\n",
      "[Parallel(n_jobs=8)]: Done   2 tasks      | elapsed:    0.1s\n",
      "[Parallel(n_jobs=8)]: Done   9 tasks      | elapsed:    0.2s\n",
      "[Parallel(n_jobs=8)]: Done  16 tasks      | elapsed:    0.3s\n",
      "[Parallel(n_jobs=8)]: Done  25 tasks      | elapsed:    0.4s\n",
      "[Parallel(n_jobs=8)]: Done  34 tasks      | elapsed:    0.5s\n",
      "[Parallel(n_jobs=8)]: Done  45 tasks      | elapsed:    0.7s\n",
      "[Parallel(n_jobs=8)]: Done  56 tasks      | elapsed:    0.8s\n",
      "[Parallel(n_jobs=8)]: Done  69 tasks      | elapsed:    1.0s\n",
      "[Parallel(n_jobs=8)]: Done  83 out of  89 | elapsed:    1.2s remaining:    0.1s\n",
      "[Parallel(n_jobs=8)]: Done  89 out of  89 | elapsed:    1.2s finished\n",
      "/home/justin/anaconda3/lib/python3.6/site-packages/sklearn/model_selection/_validation.py:458: DataConversionWarning: A column-vector y was passed when a 1d array was expected. Please change the shape of y to (n_samples,), for example using ravel().\n",
      "  estimator.fit(X_train, y_train, **fit_params)\n"
     ]
    },
    {
     "name": "stdout",
     "output_type": "stream",
     "text": [
      "building tree 1 of 89building tree 3 of 89building tree 4 of 89building tree 5 of 89building tree 6 of 89building tree 7 of 89building tree 8 of 89\n",
      "\n",
      "\n",
      "\n",
      "\n",
      "\n",
      "\n",
      "building tree 2 of 89\n",
      "building tree 9 of 89\n",
      "building tree 10 of 89\n"
     ]
    },
    {
     "name": "stderr",
     "output_type": "stream",
     "text": [
      "[Parallel(n_jobs=-1)]: Done   2 tasks      | elapsed:   20.9s\n"
     ]
    },
    {
     "name": "stdout",
     "output_type": "stream",
     "text": [
      "building tree 11 of 89\n",
      "building tree 12 of 89\n",
      "building tree 13 of 89\n",
      "building tree 14 of 89\n",
      "building tree 15 of 89\n",
      "building tree 16 of 89\n"
     ]
    },
    {
     "name": "stderr",
     "output_type": "stream",
     "text": [
      "[Parallel(n_jobs=-1)]: Done   9 tasks      | elapsed:   43.0s\n"
     ]
    },
    {
     "name": "stdout",
     "output_type": "stream",
     "text": [
      "building tree 17 of 89\n",
      "building tree 18 of 89\n",
      "building tree 19 of 89\n",
      "building tree 20 of 89\n",
      "building tree 21 of 89\n",
      "building tree 22 of 89\n",
      "building tree 23 of 89\n"
     ]
    },
    {
     "name": "stderr",
     "output_type": "stream",
     "text": [
      "[Parallel(n_jobs=-1)]: Done  16 tasks      | elapsed:   47.1s\n"
     ]
    },
    {
     "name": "stdout",
     "output_type": "stream",
     "text": [
      "building tree 24 of 89\n",
      "building tree 25 of 89\n",
      "building tree 26 of 89\n",
      "building tree 27 of 89\n",
      "building tree 28 of 89\n",
      "building tree 29 of 89\n",
      "building tree 30 of 89\n",
      "building tree 31 of 89\n",
      "building tree 32 of 89\n"
     ]
    },
    {
     "name": "stderr",
     "output_type": "stream",
     "text": [
      "[Parallel(n_jobs=-1)]: Done  25 tasks      | elapsed:  1.5min\n"
     ]
    },
    {
     "name": "stdout",
     "output_type": "stream",
     "text": [
      "building tree 33 of 89\n",
      "building tree 34 of 89\n",
      "building tree 35 of 89\n",
      "building tree 36 of 89\n",
      "building tree 37 of 89\n",
      "building tree 38 of 89\n",
      "building tree 39 of 89\n",
      "building tree 40 of 89\n",
      "building tree 41 of 89\n"
     ]
    },
    {
     "name": "stderr",
     "output_type": "stream",
     "text": [
      "[Parallel(n_jobs=-1)]: Done  34 tasks      | elapsed:  1.8min\n"
     ]
    },
    {
     "name": "stdout",
     "output_type": "stream",
     "text": [
      "building tree 42 of 89\n",
      "building tree 43 of 89\n",
      "building tree 44 of 89\n",
      "building tree 45 of 89\n",
      "building tree 46 of 89\n",
      "building tree 47 of 89\n",
      "building tree 48 of 89\n",
      "building tree 49 of 89\n",
      "building tree 50 of 89\n",
      "building tree 51 of 89\n",
      "building tree 52 of 89\n"
     ]
    },
    {
     "name": "stderr",
     "output_type": "stream",
     "text": [
      "[Parallel(n_jobs=-1)]: Done  45 tasks      | elapsed:  2.3min\n"
     ]
    },
    {
     "name": "stdout",
     "output_type": "stream",
     "text": [
      "building tree 53 of 89\n",
      "building tree 54 of 89\n",
      "building tree 55 of 89\n",
      "building tree 56 of 89\n",
      "building tree 57 of 89\n",
      "building tree 58 of 89\n",
      "building tree 59 of 89\n",
      "building tree 60 of 89\n",
      "building tree 61 of 89\n",
      "building tree 62 of 89\n",
      "building tree 63 of 89\n"
     ]
    },
    {
     "name": "stderr",
     "output_type": "stream",
     "text": [
      "[Parallel(n_jobs=-1)]: Done  56 tasks      | elapsed:  2.7min\n"
     ]
    },
    {
     "name": "stdout",
     "output_type": "stream",
     "text": [
      "building tree 64 of 89\n",
      "building tree 65 of 89\n",
      "building tree 66 of 89\n",
      "building tree 67 of 89\n",
      "building tree 68 of 89\n",
      "building tree 69 of 89\n",
      "building tree 70 of 89\n",
      "building tree 71 of 89\n",
      "building tree 72 of 89\n",
      "building tree 73 of 89\n",
      "building tree 74 of 89\n",
      "building tree 75 of 89\n",
      "building tree 76 of 89\n"
     ]
    },
    {
     "name": "stderr",
     "output_type": "stream",
     "text": [
      "[Parallel(n_jobs=-1)]: Done  69 tasks      | elapsed:  3.4min\n"
     ]
    },
    {
     "name": "stdout",
     "output_type": "stream",
     "text": [
      "building tree 77 of 89\n",
      "building tree 78 of 89\n",
      "building tree 79 of 89\n",
      "building tree 80 of 89\n",
      "building tree 81 of 89\n",
      "building tree 82 of 89\n",
      "building tree 83 of 89\n",
      "building tree 84 of 89\n",
      "building tree 85 of 89\n",
      "building tree 86 of 89\n",
      "building tree 87 of 89\n",
      "building tree 88 of 89\n",
      "building tree 89 of 89\n"
     ]
    },
    {
     "name": "stderr",
     "output_type": "stream",
     "text": [
      "[Parallel(n_jobs=-1)]: Done  83 out of  89 | elapsed:  4.1min remaining:   18.0s\n",
      "[Parallel(n_jobs=-1)]: Done  89 out of  89 | elapsed:  4.3min finished\n",
      "[Parallel(n_jobs=8)]: Done   2 tasks      | elapsed:    0.0s\n",
      "[Parallel(n_jobs=8)]: Done   9 tasks      | elapsed:    0.1s\n",
      "[Parallel(n_jobs=8)]: Done  16 tasks      | elapsed:    0.1s\n",
      "[Parallel(n_jobs=8)]: Done  25 tasks      | elapsed:    0.2s\n",
      "[Parallel(n_jobs=8)]: Done  34 tasks      | elapsed:    0.2s\n",
      "[Parallel(n_jobs=8)]: Done  45 tasks      | elapsed:    0.3s\n",
      "[Parallel(n_jobs=8)]: Done  56 tasks      | elapsed:    0.4s\n",
      "[Parallel(n_jobs=8)]: Done  69 tasks      | elapsed:    0.5s\n",
      "[Parallel(n_jobs=8)]: Done  83 out of  89 | elapsed:    0.6s remaining:    0.0s\n",
      "[Parallel(n_jobs=8)]: Done  89 out of  89 | elapsed:    0.6s finished\n",
      "[Parallel(n_jobs=8)]: Done   2 tasks      | elapsed:    0.1s\n",
      "[Parallel(n_jobs=8)]: Done   9 tasks      | elapsed:    0.2s\n",
      "[Parallel(n_jobs=8)]: Done  16 tasks      | elapsed:    0.3s\n",
      "[Parallel(n_jobs=8)]: Done  25 tasks      | elapsed:    0.4s\n",
      "[Parallel(n_jobs=8)]: Done  34 tasks      | elapsed:    0.5s\n",
      "[Parallel(n_jobs=8)]: Done  45 tasks      | elapsed:    0.6s\n",
      "[Parallel(n_jobs=8)]: Done  56 tasks      | elapsed:    0.8s\n",
      "[Parallel(n_jobs=8)]: Done  69 tasks      | elapsed:    1.0s\n",
      "[Parallel(n_jobs=8)]: Done  83 out of  89 | elapsed:    1.2s remaining:    0.1s\n",
      "[Parallel(n_jobs=8)]: Done  89 out of  89 | elapsed:    1.2s finished\n",
      "/home/justin/anaconda3/lib/python3.6/site-packages/sklearn/model_selection/_validation.py:458: DataConversionWarning: A column-vector y was passed when a 1d array was expected. Please change the shape of y to (n_samples,), for example using ravel().\n",
      "  estimator.fit(X_train, y_train, **fit_params)\n"
     ]
    },
    {
     "name": "stdout",
     "output_type": "stream",
     "text": [
      "building tree 2 of 89building tree 4 of 89building tree 5 of 89building tree 6 of 89building tree 7 of 89\n",
      "\n",
      "\n",
      "\n",
      "\n",
      "building tree 1 of 89\n",
      "building tree 3 of 89\n",
      "building tree 8 of 89\n",
      "building tree 9 of 89\n"
     ]
    },
    {
     "name": "stderr",
     "output_type": "stream",
     "text": [
      "[Parallel(n_jobs=-1)]: Done   2 tasks      | elapsed:   19.0s\n"
     ]
    },
    {
     "name": "stdout",
     "output_type": "stream",
     "text": [
      "building tree 10 of 89\n",
      "building tree 11 of 89\n",
      "building tree 12 of 89\n",
      "building tree 13 of 89\n",
      "building tree 14 of 89\n",
      "building tree 15 of 89\n",
      "building tree 16 of 89\n"
     ]
    },
    {
     "name": "stderr",
     "output_type": "stream",
     "text": [
      "[Parallel(n_jobs=-1)]: Done   9 tasks      | elapsed:   38.0s\n"
     ]
    },
    {
     "name": "stdout",
     "output_type": "stream",
     "text": [
      "building tree 17 of 89\n",
      "building tree 18 of 89\n",
      "building tree 19 of 89\n",
      "building tree 20 of 89\n",
      "building tree 21 of 89\n",
      "building tree 22 of 89\n",
      "building tree 23 of 89\n"
     ]
    },
    {
     "name": "stderr",
     "output_type": "stream",
     "text": [
      "[Parallel(n_jobs=-1)]: Done  16 tasks      | elapsed:   42.1s\n"
     ]
    },
    {
     "name": "stdout",
     "output_type": "stream",
     "text": [
      "building tree 24 of 89\n",
      "building tree 25 of 89\n",
      "building tree 26 of 89\n",
      "building tree 27 of 89\n",
      "building tree 28 of 89\n",
      "building tree 29 of 89\n",
      "building tree 30 of 89\n",
      "building tree 31 of 89\n",
      "building tree 32 of 89\n"
     ]
    },
    {
     "name": "stderr",
     "output_type": "stream",
     "text": [
      "[Parallel(n_jobs=-1)]: Done  25 tasks      | elapsed:  1.3min\n"
     ]
    },
    {
     "name": "stdout",
     "output_type": "stream",
     "text": [
      "building tree 33 of 89\n",
      "building tree 34 of 89\n",
      "building tree 35 of 89\n",
      "building tree 36 of 89\n",
      "building tree 37 of 89\n",
      "building tree 38 of 89\n",
      "building tree 39 of 89\n",
      "building tree 40 of 89\n",
      "building tree 41 of 89\n"
     ]
    },
    {
     "name": "stderr",
     "output_type": "stream",
     "text": [
      "[Parallel(n_jobs=-1)]: Done  34 tasks      | elapsed:  1.6min\n"
     ]
    },
    {
     "name": "stdout",
     "output_type": "stream",
     "text": [
      "building tree 42 of 89\n",
      "building tree 43 of 89\n",
      "building tree 44 of 89\n",
      "building tree 45 of 89\n",
      "building tree 46 of 89\n",
      "building tree 47 of 89\n",
      "building tree 48 of 89\n",
      "building tree 49 of 89\n",
      "building tree 50 of 89\n",
      "building tree 51 of 89\n",
      "building tree 52 of 89\n",
      "building tree 53 of 89\n"
     ]
    },
    {
     "name": "stderr",
     "output_type": "stream",
     "text": [
      "[Parallel(n_jobs=-1)]: Done  45 tasks      | elapsed:  2.0min\n"
     ]
    },
    {
     "name": "stdout",
     "output_type": "stream",
     "text": [
      "building tree 54 of 89\n",
      "building tree 55 of 89\n",
      "building tree 56 of 89\n",
      "building tree 57 of 89\n",
      "building tree 58 of 89\n",
      "building tree 59 of 89\n",
      "building tree 60 of 89\n",
      "building tree 61 of 89\n",
      "building tree 62 of 89\n",
      "building tree 63 of 89\n"
     ]
    },
    {
     "name": "stderr",
     "output_type": "stream",
     "text": [
      "[Parallel(n_jobs=-1)]: Done  56 tasks      | elapsed:  2.4min\n"
     ]
    },
    {
     "name": "stdout",
     "output_type": "stream",
     "text": [
      "building tree 64 of 89\n",
      "building tree 65 of 89\n",
      "building tree 66 of 89\n",
      "building tree 67 of 89\n",
      "building tree 68 of 89\n",
      "building tree 69 of 89\n",
      "building tree 70 of 89\n",
      "building tree 71 of 89\n",
      "building tree 72 of 89\n",
      "building tree 73 of 89\n",
      "building tree 74 of 89\n",
      "building tree 75 of 89\n",
      "building tree 76 of 89\n"
     ]
    },
    {
     "name": "stderr",
     "output_type": "stream",
     "text": [
      "[Parallel(n_jobs=-1)]: Done  69 tasks      | elapsed:  3.0min\n"
     ]
    },
    {
     "name": "stdout",
     "output_type": "stream",
     "text": [
      "building tree 77 of 89\n",
      "building tree 78 of 89\n",
      "building tree 79 of 89\n",
      "building tree 80 of 89\n",
      "building tree 81 of 89\n",
      "building tree 82 of 89\n",
      "building tree 83 of 89\n",
      "building tree 84 of 89\n",
      "building tree 85 of 89\n",
      "building tree 86 of 89\n",
      "building tree 87 of 89\n",
      "building tree 88 of 89\n",
      "building tree 89 of 89\n"
     ]
    },
    {
     "name": "stderr",
     "output_type": "stream",
     "text": [
      "[Parallel(n_jobs=-1)]: Done  83 out of  89 | elapsed:  3.7min remaining:   15.8s\n",
      "[Parallel(n_jobs=-1)]: Done  89 out of  89 | elapsed:  3.8min finished\n",
      "[Parallel(n_jobs=8)]: Done   2 tasks      | elapsed:    0.0s\n",
      "[Parallel(n_jobs=8)]: Done   9 tasks      | elapsed:    0.1s\n",
      "[Parallel(n_jobs=8)]: Done  16 tasks      | elapsed:    0.1s\n",
      "[Parallel(n_jobs=8)]: Done  25 tasks      | elapsed:    0.2s\n",
      "[Parallel(n_jobs=8)]: Done  34 tasks      | elapsed:    0.2s\n",
      "[Parallel(n_jobs=8)]: Done  45 tasks      | elapsed:    0.3s\n",
      "[Parallel(n_jobs=8)]: Done  56 tasks      | elapsed:    0.4s\n",
      "[Parallel(n_jobs=8)]: Done  69 tasks      | elapsed:    0.5s\n",
      "[Parallel(n_jobs=8)]: Done  83 out of  89 | elapsed:    0.6s remaining:    0.0s\n",
      "[Parallel(n_jobs=8)]: Done  89 out of  89 | elapsed:    0.6s finished\n",
      "[Parallel(n_jobs=8)]: Done   2 tasks      | elapsed:    0.1s\n",
      "[Parallel(n_jobs=8)]: Done   9 tasks      | elapsed:    0.2s\n",
      "[Parallel(n_jobs=8)]: Done  16 tasks      | elapsed:    0.3s\n",
      "[Parallel(n_jobs=8)]: Done  25 tasks      | elapsed:    0.4s\n",
      "[Parallel(n_jobs=8)]: Done  34 tasks      | elapsed:    0.5s\n",
      "[Parallel(n_jobs=8)]: Done  45 tasks      | elapsed:    0.6s\n",
      "[Parallel(n_jobs=8)]: Done  56 tasks      | elapsed:    0.8s\n",
      "[Parallel(n_jobs=8)]: Done  69 tasks      | elapsed:    1.0s\n",
      "[Parallel(n_jobs=8)]: Done  83 out of  89 | elapsed:    1.1s remaining:    0.1s\n",
      "[Parallel(n_jobs=8)]: Done  89 out of  89 | elapsed:    1.2s finished\n",
      "/home/justin/anaconda3/lib/python3.6/site-packages/sklearn/model_selection/_validation.py:458: DataConversionWarning: A column-vector y was passed when a 1d array was expected. Please change the shape of y to (n_samples,), for example using ravel().\n",
      "  estimator.fit(X_train, y_train, **fit_params)\n"
     ]
    },
    {
     "name": "stdout",
     "output_type": "stream",
     "text": [
      "building tree 3 of 195\n",
      "building tree 5 of 195building tree 4 of 195building tree 2 of 195building tree 6 of 195building tree 1 of 195building tree 7 of 195building tree 8 of 195\n",
      "\n",
      "\n",
      "\n",
      "\n",
      "\n",
      "\n",
      "building tree 9 of 195\n",
      "building tree 10 of 195\n",
      "building tree 11 of 195\n"
     ]
    },
    {
     "name": "stderr",
     "output_type": "stream",
     "text": [
      "[Parallel(n_jobs=-1)]: Done   2 tasks      | elapsed:    7.4s\n"
     ]
    },
    {
     "name": "stdout",
     "output_type": "stream",
     "text": [
      "building tree 12 of 195\n",
      "building tree 13 of 195\n",
      "building tree 15 of 195building tree 14 of 195\n",
      "\n",
      "building tree 16 of 195\n"
     ]
    },
    {
     "name": "stderr",
     "output_type": "stream",
     "text": [
      "[Parallel(n_jobs=-1)]: Done   9 tasks      | elapsed:   15.1s\n"
     ]
    },
    {
     "name": "stdout",
     "output_type": "stream",
     "text": [
      "building tree 17 of 195\n",
      "building tree 18 of 195\n",
      "building tree 19 of 195\n",
      "building tree 20 of 195\n",
      "building tree 21 of 195\n",
      "building tree 22 of 195\n",
      "building tree 23 of 195\n"
     ]
    },
    {
     "name": "stderr",
     "output_type": "stream",
     "text": [
      "[Parallel(n_jobs=-1)]: Done  16 tasks      | elapsed:   19.8s\n"
     ]
    },
    {
     "name": "stdout",
     "output_type": "stream",
     "text": [
      "building tree 24 of 195\n",
      "building tree 25 of 195\n",
      "building tree 26 of 195\n",
      "building tree 27 of 195\n",
      "building tree 28 of 195\n",
      "building tree 29 of 195\n",
      "building tree 30 of 195\n",
      "building tree 31 of 195\n",
      "building tree 32 of 195\n"
     ]
    },
    {
     "name": "stderr",
     "output_type": "stream",
     "text": [
      "[Parallel(n_jobs=-1)]: Done  25 tasks      | elapsed:   32.0s\n"
     ]
    },
    {
     "name": "stdout",
     "output_type": "stream",
     "text": [
      "building tree 33 of 195\n",
      "building tree 34 of 195\n",
      "building tree 35 of 195\n",
      "building tree 36 of 195\n",
      "building tree 37 of 195\n",
      "building tree 38 of 195\n",
      "building tree 39 of 195\n",
      "building tree 40 of 195\n",
      "building tree 41 of 195\n"
     ]
    },
    {
     "name": "stderr",
     "output_type": "stream",
     "text": [
      "[Parallel(n_jobs=-1)]: Done  34 tasks      | elapsed:   40.9s\n"
     ]
    },
    {
     "name": "stdout",
     "output_type": "stream",
     "text": [
      "building tree 42 of 195\n",
      "building tree 43 of 195\n",
      "building tree 44 of 195\n",
      "building tree 45 of 195\n",
      "building tree 46 of 195\n",
      "building tree 47 of 195\n",
      "building tree 48 of 195\n",
      "building tree 49 of 195\n",
      "building tree 50 of 195\n",
      "building tree 51 of 195\n",
      "building tree 52 of 195\n"
     ]
    },
    {
     "name": "stderr",
     "output_type": "stream",
     "text": [
      "[Parallel(n_jobs=-1)]: Done  45 tasks      | elapsed:   53.2s\n"
     ]
    },
    {
     "name": "stdout",
     "output_type": "stream",
     "text": [
      "building tree 53 of 195\n",
      "building tree 54 of 195\n",
      "building tree 55 of 195\n",
      "building tree 56 of 195\n",
      "building tree 57 of 195\n",
      "building tree 58 of 195\n",
      "building tree 59 of 195\n",
      "building tree 60 of 195\n",
      "building tree 61 of 195\n",
      "building tree 62 of 195\n",
      "building tree 63 of 195\n"
     ]
    },
    {
     "name": "stderr",
     "output_type": "stream",
     "text": [
      "[Parallel(n_jobs=-1)]: Done  56 tasks      | elapsed:  1.1min\n"
     ]
    },
    {
     "name": "stdout",
     "output_type": "stream",
     "text": [
      "building tree 64 of 195\n",
      "building tree 65 of 195\n",
      "building tree 66 of 195\n",
      "building tree 67 of 195\n",
      "building tree 68 of 195\n",
      "building tree 69 of 195\n",
      "building tree 70 of 195\n",
      "building tree 71 of 195\n",
      "building tree 72 of 195\n",
      "building tree 73 of 195\n",
      "building tree 74 of 195\n",
      "building tree 75 of 195\n",
      "building tree 76 of 195\n",
      "building tree 77 of 195\n"
     ]
    },
    {
     "name": "stderr",
     "output_type": "stream",
     "text": [
      "[Parallel(n_jobs=-1)]: Done  69 tasks      | elapsed:  1.3min\n"
     ]
    },
    {
     "name": "stdout",
     "output_type": "stream",
     "text": [
      "building tree 78 of 195\n",
      "building tree 79 of 195\n",
      "building tree 80 of 195\n",
      "building tree 81 of 195\n",
      "building tree 82 of 195\n",
      "building tree 83 of 195\n",
      "building tree 84 of 195\n",
      "building tree 85 of 195\n",
      "building tree 86 of 195\n",
      "building tree 87 of 195\n",
      "building tree 88 of 195\n",
      "building tree 89 of 195\n"
     ]
    },
    {
     "name": "stderr",
     "output_type": "stream",
     "text": [
      "[Parallel(n_jobs=-1)]: Done  82 tasks      | elapsed:  1.5min\n"
     ]
    },
    {
     "name": "stdout",
     "output_type": "stream",
     "text": [
      "building tree 90 of 195\n",
      "building tree 91 of 195\n",
      "building tree 92 of 195\n",
      "building tree 93 of 195\n",
      "building tree 94 of 195\n",
      "building tree 95 of 195\n",
      "building tree 96 of 195\n",
      "building tree 97 of 195\n",
      "building tree 98 of 195\n",
      "building tree 99 of 195\n",
      "building tree 100 of 195\n",
      "building tree 101 of 195\n",
      "building tree 102 of 195\n",
      "building tree 103 of 195\n",
      "building tree 104 of 195\n"
     ]
    },
    {
     "name": "stderr",
     "output_type": "stream",
     "text": [
      "[Parallel(n_jobs=-1)]: Done  97 tasks      | elapsed:  1.8min\n"
     ]
    },
    {
     "name": "stdout",
     "output_type": "stream",
     "text": [
      "building tree 105 of 195\n",
      "building tree 106 of 195\n",
      "building tree 107 of 195\n",
      "building tree 108 of 195\n",
      "building tree 109 of 195\n",
      "building tree 110 of 195\n",
      "building tree 111 of 195\n",
      "building tree 112 of 195\n",
      "building tree 113 of 195\n",
      "building tree 114 of 195\n",
      "building tree 115 of 195\n",
      "building tree 116 of 195\n",
      "building tree 117 of 195\n",
      "building tree 118 of 195\n",
      "building tree 119 of 195\n",
      "building tree 120 of 195\n"
     ]
    },
    {
     "name": "stderr",
     "output_type": "stream",
     "text": [
      "[Parallel(n_jobs=-1)]: Done 112 tasks      | elapsed:  2.1min\n"
     ]
    },
    {
     "name": "stdout",
     "output_type": "stream",
     "text": [
      "building tree 121 of 195\n",
      "building tree 122 of 195\n",
      "building tree 123 of 195\n",
      "building tree 124 of 195\n",
      "building tree 125 of 195\n",
      "building tree 126 of 195\n",
      "building tree 127 of 195\n",
      "building tree 128 of 195\n",
      "building tree 129 of 195\n",
      "building tree 130 of 195\n",
      "building tree 131 of 195\n",
      "building tree 132 of 195\n",
      "building tree 133 of 195\n",
      "building tree 134 of 195\n",
      "building tree 135 of 195\n",
      "building tree 136 of 195\n",
      "building tree 137 of 195\n",
      "building tree 138 of 195\n"
     ]
    },
    {
     "name": "stderr",
     "output_type": "stream",
     "text": [
      "[Parallel(n_jobs=-1)]: Done 129 tasks      | elapsed:  2.4min\n"
     ]
    },
    {
     "name": "stdout",
     "output_type": "stream",
     "text": [
      "building tree 139 of 195\n",
      "building tree 140 of 195\n",
      "building tree 141 of 195\n",
      "building tree 142 of 195\n",
      "building tree 143 of 195\n",
      "building tree 144 of 195\n",
      "building tree 145 of 195\n",
      "building tree 146 of 195\n",
      "building tree 147 of 195\n",
      "building tree 148 of 195\n",
      "building tree 149 of 195\n",
      "building tree 150 of 195\n",
      "building tree 151 of 195\n",
      "building tree 152 of 195\n",
      "building tree 153 of 195\n"
     ]
    },
    {
     "name": "stderr",
     "output_type": "stream",
     "text": [
      "[Parallel(n_jobs=-1)]: Done 146 tasks      | elapsed:  2.7min\n"
     ]
    },
    {
     "name": "stdout",
     "output_type": "stream",
     "text": [
      "building tree 154 of 195\n",
      "building tree 155 of 195\n",
      "building tree 156 of 195\n",
      "building tree 157 of 195\n",
      "building tree 158 of 195\n",
      "building tree 159 of 195\n",
      "building tree 160 of 195\n",
      "building tree 161 of 195\n",
      "building tree 162 of 195\n",
      "building tree 163 of 195\n",
      "building tree 164 of 195\n",
      "building tree 165 of 195\n",
      "building tree 166 of 195\n",
      "building tree 167 of 195\n",
      "building tree 168 of 195\n",
      "building tree 169 of 195\n",
      "building tree 170 of 195\n",
      "building tree 171 of 195\n",
      "building tree 172 of 195\n"
     ]
    },
    {
     "name": "stderr",
     "output_type": "stream",
     "text": [
      "[Parallel(n_jobs=-1)]: Done 165 tasks      | elapsed:  3.1min\n"
     ]
    },
    {
     "name": "stdout",
     "output_type": "stream",
     "text": [
      "building tree 173 of 195\n",
      "building tree 174 of 195\n",
      "building tree 175 of 195\n",
      "building tree 176 of 195\n",
      "building tree 177 of 195\n",
      "building tree 178 of 195\n",
      "building tree 179 of 195\n",
      "building tree 180 of 195\n",
      "building tree 181 of 195\n",
      "building tree 182 of 195\n",
      "building tree 183 of 195\n",
      "building tree 184 of 195\n",
      "building tree 185 of 195\n",
      "building tree 186 of 195\n",
      "building tree 187 of 195\n",
      "building tree 188 of 195\n",
      "building tree 189 of 195\n",
      "building tree 190 of 195\n",
      "building tree 191 of 195\n",
      "building tree 192 of 195\n",
      "building tree 193 of 195\n",
      "building tree 194 of 195\n",
      "building tree 195 of 195\n"
     ]
    },
    {
     "name": "stderr",
     "output_type": "stream",
     "text": [
      "[Parallel(n_jobs=-1)]: Done 195 out of 195 | elapsed:  3.5min finished\n",
      "[Parallel(n_jobs=8)]: Done   2 tasks      | elapsed:    0.1s\n",
      "[Parallel(n_jobs=8)]: Done   9 tasks      | elapsed:    0.2s\n",
      "[Parallel(n_jobs=8)]: Done  16 tasks      | elapsed:    0.3s\n",
      "[Parallel(n_jobs=8)]: Done  25 tasks      | elapsed:    0.4s\n",
      "[Parallel(n_jobs=8)]: Done  34 tasks      | elapsed:    0.5s\n",
      "[Parallel(n_jobs=8)]: Done  45 tasks      | elapsed:    0.6s\n",
      "[Parallel(n_jobs=8)]: Done  56 tasks      | elapsed:    0.8s\n",
      "[Parallel(n_jobs=8)]: Done  69 tasks      | elapsed:    0.9s\n",
      "[Parallel(n_jobs=8)]: Done  82 tasks      | elapsed:    1.1s\n",
      "[Parallel(n_jobs=8)]: Done  97 tasks      | elapsed:    1.3s\n",
      "[Parallel(n_jobs=8)]: Done 112 tasks      | elapsed:    1.4s\n",
      "[Parallel(n_jobs=8)]: Done 129 tasks      | elapsed:    1.6s\n",
      "[Parallel(n_jobs=8)]: Done 146 tasks      | elapsed:    1.9s\n",
      "[Parallel(n_jobs=8)]: Done 165 tasks      | elapsed:    2.1s\n",
      "[Parallel(n_jobs=8)]: Done 195 out of 195 | elapsed:    2.4s finished\n",
      "[Parallel(n_jobs=8)]: Done   2 tasks      | elapsed:    0.1s\n",
      "[Parallel(n_jobs=8)]: Done   9 tasks      | elapsed:    0.3s\n",
      "[Parallel(n_jobs=8)]: Done  16 tasks      | elapsed:    0.4s\n",
      "[Parallel(n_jobs=8)]: Done  25 tasks      | elapsed:    0.6s\n",
      "[Parallel(n_jobs=8)]: Done  34 tasks      | elapsed:    0.8s\n",
      "[Parallel(n_jobs=8)]: Done  45 tasks      | elapsed:    1.1s\n",
      "[Parallel(n_jobs=8)]: Done  56 tasks      | elapsed:    1.4s\n",
      "[Parallel(n_jobs=8)]: Done  69 tasks      | elapsed:    1.6s\n",
      "[Parallel(n_jobs=8)]: Done  82 tasks      | elapsed:    1.9s\n",
      "[Parallel(n_jobs=8)]: Done  97 tasks      | elapsed:    2.4s\n",
      "[Parallel(n_jobs=8)]: Done 112 tasks      | elapsed:    2.7s\n",
      "[Parallel(n_jobs=8)]: Done 129 tasks      | elapsed:    3.1s\n",
      "[Parallel(n_jobs=8)]: Done 146 tasks      | elapsed:    3.4s\n",
      "[Parallel(n_jobs=8)]: Done 165 tasks      | elapsed:    3.9s\n",
      "[Parallel(n_jobs=8)]: Done 195 out of 195 | elapsed:    4.5s finished\n",
      "/home/justin/anaconda3/lib/python3.6/site-packages/sklearn/model_selection/_validation.py:458: DataConversionWarning: A column-vector y was passed when a 1d array was expected. Please change the shape of y to (n_samples,), for example using ravel().\n",
      "  estimator.fit(X_train, y_train, **fit_params)\n"
     ]
    },
    {
     "name": "stdout",
     "output_type": "stream",
     "text": [
      "building tree 3 of 195\n",
      "building tree 4 of 195building tree 2 of 195building tree 6 of 195building tree 5 of 195building tree 1 of 195building tree 7 of 195building tree 8 of 195\n",
      "\n",
      "\n",
      "\n",
      "\n",
      "\n",
      "\n",
      "building tree 9 of 195\n"
     ]
    },
    {
     "name": "stderr",
     "output_type": "stream",
     "text": [
      "[Parallel(n_jobs=-1)]: Done   2 tasks      | elapsed:    8.1s\n"
     ]
    },
    {
     "name": "stdout",
     "output_type": "stream",
     "text": [
      "building tree 10 of 195\n",
      "building tree 11 of 195\n",
      "building tree 12 of 195\n",
      "building tree 13 of 195\n",
      "building tree 14 of 195\n",
      "building tree 15 of 195\n",
      "building tree 16 of 195\n"
     ]
    },
    {
     "name": "stderr",
     "output_type": "stream",
     "text": [
      "[Parallel(n_jobs=-1)]: Done   9 tasks      | elapsed:   15.8s\n"
     ]
    },
    {
     "name": "stdout",
     "output_type": "stream",
     "text": [
      "building tree 17 of 195\n",
      "building tree 18 of 195\n",
      "building tree 19 of 195\n",
      "building tree 20 of 195\n",
      "building tree 21 of 195\n",
      "building tree 22 of 195\n",
      "building tree 23 of 195\n"
     ]
    },
    {
     "name": "stderr",
     "output_type": "stream",
     "text": [
      "[Parallel(n_jobs=-1)]: Done  16 tasks      | elapsed:   18.9s\n"
     ]
    },
    {
     "name": "stdout",
     "output_type": "stream",
     "text": [
      "building tree 24 of 195\n",
      "building tree 25 of 195\n",
      "building tree 26 of 195\n",
      "building tree 27 of 195\n",
      "building tree 28 of 195\n",
      "building tree 29 of 195\n",
      "building tree 30 of 195\n",
      "building tree 31 of 195\n",
      "building tree 32 of 195\n"
     ]
    },
    {
     "name": "stderr",
     "output_type": "stream",
     "text": [
      "[Parallel(n_jobs=-1)]: Done  25 tasks      | elapsed:   32.8s\n"
     ]
    },
    {
     "name": "stdout",
     "output_type": "stream",
     "text": [
      "building tree 33 of 195\n",
      "building tree 34 of 195\n",
      "building tree 35 of 195\n",
      "building tree 36 of 195\n",
      "building tree 37 of 195\n",
      "building tree 38 of 195\n",
      "building tree 39 of 195\n",
      "building tree 40 of 195\n",
      "building tree 41 of 195\n"
     ]
    },
    {
     "name": "stderr",
     "output_type": "stream",
     "text": [
      "[Parallel(n_jobs=-1)]: Done  34 tasks      | elapsed:   41.3s\n"
     ]
    },
    {
     "name": "stdout",
     "output_type": "stream",
     "text": [
      "building tree 42 of 195\n",
      "building tree 43 of 195\n",
      "building tree 44 of 195\n",
      "building tree 45 of 195\n",
      "building tree 46 of 195\n",
      "building tree 47 of 195\n",
      "building tree 48 of 195\n",
      "building tree 49 of 195\n",
      "building tree 50 of 195\n",
      "building tree 51 of 195\n",
      "building tree 52 of 195\n",
      "building tree 53 of 195\n"
     ]
    },
    {
     "name": "stderr",
     "output_type": "stream",
     "text": [
      "[Parallel(n_jobs=-1)]: Done  45 tasks      | elapsed:   52.6s\n"
     ]
    },
    {
     "name": "stdout",
     "output_type": "stream",
     "text": [
      "building tree 54 of 195\n",
      "building tree 55 of 195\n",
      "building tree 56 of 195\n",
      "building tree 57 of 195\n",
      "building tree 58 of 195\n",
      "building tree 59 of 195\n",
      "building tree 60 of 195\n",
      "building tree 61 of 195\n",
      "building tree 62 of 195\n",
      "building tree 63 of 195\n"
     ]
    },
    {
     "name": "stderr",
     "output_type": "stream",
     "text": [
      "[Parallel(n_jobs=-1)]: Done  56 tasks      | elapsed:  1.0min\n"
     ]
    },
    {
     "name": "stdout",
     "output_type": "stream",
     "text": [
      "building tree 64 of 195\n",
      "building tree 65 of 195\n",
      "building tree 66 of 195\n",
      "building tree 67 of 195\n",
      "building tree 68 of 195\n",
      "building tree 69 of 195\n",
      "building tree 70 of 195\n",
      "building tree 71 of 195\n",
      "building tree 72 of 195\n",
      "building tree 73 of 195\n",
      "building tree 74 of 195\n",
      "building tree 75 of 195\n",
      "building tree 76 of 195\n"
     ]
    },
    {
     "name": "stderr",
     "output_type": "stream",
     "text": [
      "[Parallel(n_jobs=-1)]: Done  69 tasks      | elapsed:  1.3min\n"
     ]
    },
    {
     "name": "stdout",
     "output_type": "stream",
     "text": [
      "building tree 77 of 195\n",
      "building tree 78 of 195\n",
      "building tree 79 of 195\n",
      "building tree 80 of 195\n",
      "building tree 81 of 195\n",
      "building tree 82 of 195\n",
      "building tree 83 of 195\n",
      "building tree 84 of 195\n",
      "building tree 85 of 195\n",
      "building tree 86 of 195\n",
      "building tree 87 of 195\n",
      "building tree 88 of 195\n",
      "building tree 89 of 195\n"
     ]
    },
    {
     "name": "stderr",
     "output_type": "stream",
     "text": [
      "[Parallel(n_jobs=-1)]: Done  82 tasks      | elapsed:  1.6min\n"
     ]
    },
    {
     "name": "stdout",
     "output_type": "stream",
     "text": [
      "building tree 90 of 195\n",
      "building tree 91 of 195\n",
      "building tree 92 of 195\n",
      "building tree 93 of 195\n",
      "building tree 94 of 195\n",
      "building tree 95 of 195\n",
      "building tree 96 of 195\n",
      "building tree 97 of 195\n",
      "building tree 98 of 195\n",
      "building tree 99 of 195\n",
      "building tree 100 of 195\n",
      "building tree 101 of 195\n",
      "building tree 102 of 195\n",
      "building tree 103 of 195\n",
      "building tree 104 of 195\n"
     ]
    },
    {
     "name": "stderr",
     "output_type": "stream",
     "text": [
      "[Parallel(n_jobs=-1)]: Done  97 tasks      | elapsed:  1.8min\n"
     ]
    },
    {
     "name": "stdout",
     "output_type": "stream",
     "text": [
      "building tree 105 of 195\n",
      "building tree 106 of 195\n",
      "building tree 107 of 195\n",
      "building tree 108 of 195\n",
      "building tree 109 of 195\n",
      "building tree 110 of 195\n",
      "building tree 111 of 195\n",
      "building tree 112 of 195\n",
      "building tree 113 of 195\n",
      "building tree 114 of 195\n",
      "building tree 115 of 195\n",
      "building tree 116 of 195\n",
      "building tree 117 of 195\n",
      "building tree 118 of 195\n",
      "building tree 119 of 195\n"
     ]
    },
    {
     "name": "stderr",
     "output_type": "stream",
     "text": [
      "[Parallel(n_jobs=-1)]: Done 112 tasks      | elapsed:  2.1min\n"
     ]
    },
    {
     "name": "stdout",
     "output_type": "stream",
     "text": [
      "building tree 120 of 195\n",
      "building tree 121 of 195\n",
      "building tree 122 of 195\n",
      "building tree 123 of 195\n",
      "building tree 124 of 195\n",
      "building tree 125 of 195\n",
      "building tree 126 of 195\n",
      "building tree 127 of 195\n",
      "building tree 128 of 195\n",
      "building tree 129 of 195\n",
      "building tree 130 of 195\n",
      "building tree 131 of 195\n",
      "building tree 132 of 195\n",
      "building tree 133 of 195\n",
      "building tree 134 of 195\n",
      "building tree 135 of 195\n",
      "building tree 136 of 195\n"
     ]
    },
    {
     "name": "stderr",
     "output_type": "stream",
     "text": [
      "[Parallel(n_jobs=-1)]: Done 129 tasks      | elapsed:  2.4min\n"
     ]
    },
    {
     "name": "stdout",
     "output_type": "stream",
     "text": [
      "building tree 137 of 195\n",
      "building tree 138 of 195\n",
      "building tree 139 of 195\n",
      "building tree 140 of 195\n",
      "building tree 141 of 195\n",
      "building tree 142 of 195\n",
      "building tree 143 of 195\n",
      "building tree 144 of 195\n",
      "building tree 145 of 195\n",
      "building tree 146 of 195\n",
      "building tree 147 of 195\n",
      "building tree 148 of 195\n",
      "building tree 149 of 195\n",
      "building tree 150 of 195\n",
      "building tree 151 of 195\n",
      "building tree 152 of 195\n",
      "building tree 153 of 195\n",
      "building tree 154 of 195\n"
     ]
    },
    {
     "name": "stderr",
     "output_type": "stream",
     "text": [
      "[Parallel(n_jobs=-1)]: Done 146 tasks      | elapsed:  2.7min\n"
     ]
    },
    {
     "name": "stdout",
     "output_type": "stream",
     "text": [
      "building tree 155 of 195\n",
      "building tree 156 of 195\n",
      "building tree 157 of 195\n",
      "building tree 158 of 195\n",
      "building tree 159 of 195\n",
      "building tree 160 of 195\n",
      "building tree 161 of 195\n",
      "building tree 162 of 195\n",
      "building tree 163 of 195\n",
      "building tree 164 of 195\n",
      "building tree 165 of 195\n",
      "building tree 166 of 195\n",
      "building tree 167 of 195\n",
      "building tree 168 of 195\n",
      "building tree 169 of 195\n",
      "building tree 170 of 195\n",
      "building tree 171 of 195\n",
      "building tree 172 of 195\n"
     ]
    },
    {
     "name": "stderr",
     "output_type": "stream",
     "text": [
      "[Parallel(n_jobs=-1)]: Done 165 tasks      | elapsed:  3.0min\n"
     ]
    },
    {
     "name": "stdout",
     "output_type": "stream",
     "text": [
      "building tree 173 of 195\n",
      "building tree 174 of 195\n",
      "building tree 175 of 195\n",
      "building tree 176 of 195\n",
      "building tree 177 of 195\n",
      "building tree 178 of 195\n",
      "building tree 179 of 195\n",
      "building tree 180 of 195\n",
      "building tree 181 of 195\n",
      "building tree 182 of 195\n",
      "building tree 183 of 195\n",
      "building tree 184 of 195\n",
      "building tree 185 of 195\n",
      "building tree 186 of 195\n",
      "building tree 187 of 195\n",
      "building tree 188 of 195\n",
      "building tree 189 of 195\n",
      "building tree 190 of 195\n",
      "building tree 191 of 195\n",
      "building tree 192 of 195\n",
      "building tree 193 of 195\n",
      "building tree 194 of 195\n",
      "building tree 195 of 195\n"
     ]
    },
    {
     "name": "stderr",
     "output_type": "stream",
     "text": [
      "[Parallel(n_jobs=-1)]: Done 195 out of 195 | elapsed:  3.5min finished\n",
      "[Parallel(n_jobs=8)]: Done   2 tasks      | elapsed:    0.1s\n",
      "[Parallel(n_jobs=8)]: Done   9 tasks      | elapsed:    0.1s\n",
      "[Parallel(n_jobs=8)]: Done  16 tasks      | elapsed:    0.2s\n",
      "[Parallel(n_jobs=8)]: Done  25 tasks      | elapsed:    0.3s\n",
      "[Parallel(n_jobs=8)]: Done  34 tasks      | elapsed:    0.4s\n",
      "[Parallel(n_jobs=8)]: Done  45 tasks      | elapsed:    0.5s\n",
      "[Parallel(n_jobs=8)]: Done  56 tasks      | elapsed:    0.7s\n",
      "[Parallel(n_jobs=8)]: Done  69 tasks      | elapsed:    0.8s\n",
      "[Parallel(n_jobs=8)]: Done  82 tasks      | elapsed:    1.0s\n",
      "[Parallel(n_jobs=8)]: Done  97 tasks      | elapsed:    1.1s\n",
      "[Parallel(n_jobs=8)]: Done 112 tasks      | elapsed:    1.3s\n",
      "[Parallel(n_jobs=8)]: Done 129 tasks      | elapsed:    1.5s\n",
      "[Parallel(n_jobs=8)]: Done 146 tasks      | elapsed:    1.7s\n",
      "[Parallel(n_jobs=8)]: Done 165 tasks      | elapsed:    1.9s\n",
      "[Parallel(n_jobs=8)]: Done 195 out of 195 | elapsed:    2.2s finished\n",
      "[Parallel(n_jobs=8)]: Done   2 tasks      | elapsed:    0.1s\n",
      "[Parallel(n_jobs=8)]: Done   9 tasks      | elapsed:    0.3s\n",
      "[Parallel(n_jobs=8)]: Done  16 tasks      | elapsed:    0.5s\n",
      "[Parallel(n_jobs=8)]: Done  25 tasks      | elapsed:    0.7s\n",
      "[Parallel(n_jobs=8)]: Done  34 tasks      | elapsed:    0.9s\n",
      "[Parallel(n_jobs=8)]: Done  45 tasks      | elapsed:    1.2s\n",
      "[Parallel(n_jobs=8)]: Done  56 tasks      | elapsed:    1.4s\n",
      "[Parallel(n_jobs=8)]: Done  69 tasks      | elapsed:    1.7s\n",
      "[Parallel(n_jobs=8)]: Done  82 tasks      | elapsed:    2.1s\n",
      "[Parallel(n_jobs=8)]: Done  97 tasks      | elapsed:    2.4s\n",
      "[Parallel(n_jobs=8)]: Done 112 tasks      | elapsed:    2.7s\n",
      "[Parallel(n_jobs=8)]: Done 129 tasks      | elapsed:    3.2s\n",
      "[Parallel(n_jobs=8)]: Done 146 tasks      | elapsed:    3.6s\n",
      "[Parallel(n_jobs=8)]: Done 165 tasks      | elapsed:    4.0s\n",
      "[Parallel(n_jobs=8)]: Done 195 out of 195 | elapsed:    4.7s finished\n",
      "/home/justin/anaconda3/lib/python3.6/site-packages/sklearn/model_selection/_validation.py:458: DataConversionWarning: A column-vector y was passed when a 1d array was expected. Please change the shape of y to (n_samples,), for example using ravel().\n",
      "  estimator.fit(X_train, y_train, **fit_params)\n"
     ]
    },
    {
     "name": "stdout",
     "output_type": "stream",
     "text": [
      "building tree 1 of 195\n",
      "building tree 3 of 195building tree 4 of 195building tree 7 of 195building tree 6 of 195building tree 2 of 195building tree 8 of 195building tree 5 of 195\n",
      "\n",
      "\n",
      "\n",
      "\n",
      "\n",
      "\n",
      "building tree 9 of 195\n",
      "building tree 10 of 195\n"
     ]
    },
    {
     "name": "stderr",
     "output_type": "stream",
     "text": [
      "[Parallel(n_jobs=-1)]: Done   2 tasks      | elapsed:    7.5s\n"
     ]
    },
    {
     "name": "stdout",
     "output_type": "stream",
     "text": [
      "building tree 11 of 195\n",
      "building tree 12 of 195\n",
      "building tree 13 of 195\n",
      "building tree 14 of 195\n",
      "building tree 15 of 195\n",
      "building tree 16 of 195\n"
     ]
    },
    {
     "name": "stderr",
     "output_type": "stream",
     "text": [
      "[Parallel(n_jobs=-1)]: Done   9 tasks      | elapsed:   16.0s\n"
     ]
    },
    {
     "name": "stdout",
     "output_type": "stream",
     "text": [
      "building tree 17 of 195\n",
      "building tree 18 of 195\n",
      "building tree 19 of 195\n",
      "building tree 20 of 195\n",
      "building tree 21 of 195\n",
      "building tree 22 of 195\n",
      "building tree 23 of 195\n"
     ]
    },
    {
     "name": "stderr",
     "output_type": "stream",
     "text": [
      "[Parallel(n_jobs=-1)]: Done  16 tasks      | elapsed:   17.6s\n"
     ]
    },
    {
     "name": "stdout",
     "output_type": "stream",
     "text": [
      "building tree 24 of 195\n",
      "building tree 25 of 195\n",
      "building tree 26 of 195\n",
      "building tree 27 of 195\n",
      "building tree 28 of 195\n",
      "building tree 29 of 195\n",
      "building tree 30 of 195\n",
      "building tree 31 of 195\n",
      "building tree 32 of 195\n"
     ]
    },
    {
     "name": "stderr",
     "output_type": "stream",
     "text": [
      "[Parallel(n_jobs=-1)]: Done  25 tasks      | elapsed:   32.5s\n"
     ]
    },
    {
     "name": "stdout",
     "output_type": "stream",
     "text": [
      "building tree 33 of 195\n",
      "building tree 34 of 195\n",
      "building tree 35 of 195\n",
      "building tree 36 of 195\n",
      "building tree 37 of 195\n",
      "building tree 38 of 195\n",
      "building tree 39 of 195\n",
      "building tree 40 of 195\n",
      "building tree 41 of 195\n",
      "building tree 42 of 195\n"
     ]
    },
    {
     "name": "stderr",
     "output_type": "stream",
     "text": [
      "[Parallel(n_jobs=-1)]: Done  34 tasks      | elapsed:   40.3s\n"
     ]
    },
    {
     "name": "stdout",
     "output_type": "stream",
     "text": [
      "building tree 43 of 195\n",
      "building tree 44 of 195\n",
      "building tree 45 of 195\n",
      "building tree 46 of 195\n",
      "building tree 47 of 195\n",
      "building tree 48 of 195\n",
      "building tree 49 of 195\n",
      "building tree 50 of 195\n",
      "building tree 51 of 195\n",
      "building tree 52 of 195\n",
      "building tree 53 of 195\n"
     ]
    },
    {
     "name": "stderr",
     "output_type": "stream",
     "text": [
      "[Parallel(n_jobs=-1)]: Done  45 tasks      | elapsed:   49.4s\n"
     ]
    },
    {
     "name": "stdout",
     "output_type": "stream",
     "text": [
      "building tree 54 of 195\n",
      "building tree 55 of 195\n",
      "building tree 56 of 195\n",
      "building tree 57 of 195\n",
      "building tree 58 of 195\n",
      "building tree 59 of 195building tree 60 of 195\n",
      "\n",
      "building tree 61 of 195\n",
      "building tree 62 of 195\n",
      "building tree 63 of 195\n"
     ]
    },
    {
     "name": "stderr",
     "output_type": "stream",
     "text": [
      "[Parallel(n_jobs=-1)]: Done  56 tasks      | elapsed:   59.4s\n"
     ]
    },
    {
     "name": "stdout",
     "output_type": "stream",
     "text": [
      "building tree 64 of 195\n",
      "building tree 65 of 195\n",
      "building tree 66 of 195\n",
      "building tree 67 of 195\n",
      "building tree 68 of 195\n",
      "building tree 69 of 195\n",
      "building tree 70 of 195\n",
      "building tree 71 of 195\n",
      "building tree 72 of 195\n",
      "building tree 73 of 195\n",
      "building tree 74 of 195\n",
      "building tree 75 of 195\n",
      "building tree 76 of 195\n",
      "building tree 78 of 195\n",
      "building tree 77 of 195\n"
     ]
    },
    {
     "name": "stderr",
     "output_type": "stream",
     "text": [
      "[Parallel(n_jobs=-1)]: Done  69 tasks      | elapsed:  1.2min\n"
     ]
    },
    {
     "name": "stdout",
     "output_type": "stream",
     "text": [
      "building tree 79 of 195\n",
      "building tree 80 of 195\n",
      "building tree 81 of 195\n",
      "building tree 82 of 195\n",
      "building tree 83 of 195\n",
      "building tree 84 of 195\n",
      "building tree 85 of 195\n",
      "building tree 86 of 195\n",
      "building tree 87 of 195\n",
      "building tree 88 of 195\n",
      "building tree 89 of 195\n",
      "building tree 90 of 195\n",
      "building tree 91 of 195\n"
     ]
    },
    {
     "name": "stderr",
     "output_type": "stream",
     "text": [
      "[Parallel(n_jobs=-1)]: Done  82 tasks      | elapsed:  1.5min\n"
     ]
    },
    {
     "name": "stdout",
     "output_type": "stream",
     "text": [
      "building tree 92 of 195\n",
      "building tree 93 of 195\n",
      "building tree 94 of 195\n",
      "building tree 95 of 195\n",
      "building tree 96 of 195\n",
      "building tree 97 of 195\n",
      "building tree 98 of 195\n",
      "building tree 99 of 195\n",
      "building tree 100 of 195\n",
      "building tree 101 of 195\n",
      "building tree 102 of 195\n",
      "building tree 103 of 195\n",
      "building tree 104 of 195\n"
     ]
    },
    {
     "name": "stderr",
     "output_type": "stream",
     "text": [
      "[Parallel(n_jobs=-1)]: Done  97 tasks      | elapsed:  1.7min\n"
     ]
    },
    {
     "name": "stdout",
     "output_type": "stream",
     "text": [
      "building tree 105 of 195\n",
      "building tree 106 of 195\n",
      "building tree 107 of 195\n",
      "building tree 108 of 195\n",
      "building tree 109 of 195\n",
      "building tree 110 of 195\n",
      "building tree 111 of 195\n",
      "building tree 112 of 195\n",
      "building tree 113 of 195\n",
      "building tree 114 of 195\n",
      "building tree 115 of 195\n",
      "building tree 116 of 195\n",
      "building tree 117 of 195\n",
      "building tree 118 of 195\n",
      "building tree 119 of 195\n"
     ]
    },
    {
     "name": "stderr",
     "output_type": "stream",
     "text": [
      "[Parallel(n_jobs=-1)]: Done 112 tasks      | elapsed:  2.0min\n"
     ]
    },
    {
     "name": "stdout",
     "output_type": "stream",
     "text": [
      "building tree 120 of 195\n",
      "building tree 121 of 195\n",
      "building tree 122 of 195\n",
      "building tree 123 of 195\n",
      "building tree 124 of 195\n",
      "building tree 125 of 195\n",
      "building tree 126 of 195\n",
      "building tree 127 of 195\n",
      "building tree 128 of 195\n",
      "building tree 129 of 195\n",
      "building tree 130 of 195\n",
      "building tree 131 of 195\n",
      "building tree 132 of 195\n",
      "building tree 133 of 195\n",
      "building tree 134 of 195\n",
      "building tree 135 of 195\n",
      "building tree 136 of 195\n"
     ]
    },
    {
     "name": "stderr",
     "output_type": "stream",
     "text": [
      "[Parallel(n_jobs=-1)]: Done 129 tasks      | elapsed:  2.3min\n"
     ]
    },
    {
     "name": "stdout",
     "output_type": "stream",
     "text": [
      "building tree 137 of 195\n",
      "building tree 138 of 195\n",
      "building tree 139 of 195\n",
      "building tree 140 of 195\n",
      "building tree 141 of 195\n",
      "building tree 142 of 195\n",
      "building tree 143 of 195\n",
      "building tree 144 of 195\n",
      "building tree 145 of 195\n",
      "building tree 146 of 195\n",
      "building tree 147 of 195\n",
      "building tree 148 of 195\n",
      "building tree 149 of 195\n",
      "building tree 150 of 195\n",
      "building tree 151 of 195\n",
      "building tree 152 of 195\n",
      "building tree 153 of 195\n"
     ]
    },
    {
     "name": "stderr",
     "output_type": "stream",
     "text": [
      "[Parallel(n_jobs=-1)]: Done 146 tasks      | elapsed:  2.6min\n"
     ]
    },
    {
     "name": "stdout",
     "output_type": "stream",
     "text": [
      "building tree 154 of 195\n",
      "building tree 155 of 195\n",
      "building tree 156 of 195\n",
      "building tree 157 of 195\n",
      "building tree 158 of 195\n",
      "building tree 159 of 195\n",
      "building tree 160 of 195\n",
      "building tree 161 of 195\n",
      "building tree 162 of 195\n",
      "building tree 163 of 195\n",
      "building tree 164 of 195\n",
      "building tree 165 of 195\n",
      "building tree 166 of 195\n",
      "building tree 167 of 195\n",
      "building tree 168 of 195\n",
      "building tree 169 of 195\n",
      "building tree 170 of 195\n",
      "building tree 171 of 195\n",
      "building tree 172 of 195\n"
     ]
    },
    {
     "name": "stderr",
     "output_type": "stream",
     "text": [
      "[Parallel(n_jobs=-1)]: Done 165 tasks      | elapsed:  2.9min\n"
     ]
    },
    {
     "name": "stdout",
     "output_type": "stream",
     "text": [
      "building tree 173 of 195\n",
      "building tree 174 of 195\n",
      "building tree 175 of 195\n",
      "building tree 176 of 195\n",
      "building tree 177 of 195\n",
      "building tree 178 of 195\n",
      "building tree 179 of 195\n",
      "building tree 180 of 195\n",
      "building tree 181 of 195\n",
      "building tree 182 of 195\n",
      "building tree 183 of 195\n",
      "building tree 184 of 195\n",
      "building tree 185 of 195\n",
      "building tree 186 of 195\n",
      "building tree 187 of 195\n",
      "building tree 188 of 195\n",
      "building tree 189 of 195\n",
      "building tree 190 of 195\n",
      "building tree 191 of 195\n",
      "building tree 192 of 195\n",
      "building tree 193 of 195\n",
      "building tree 194 of 195\n",
      "building tree 195 of 195\n"
     ]
    },
    {
     "name": "stderr",
     "output_type": "stream",
     "text": [
      "[Parallel(n_jobs=-1)]: Done 195 out of 195 | elapsed:  3.4min finished\n",
      "[Parallel(n_jobs=8)]: Done   2 tasks      | elapsed:    0.1s\n",
      "[Parallel(n_jobs=8)]: Done   9 tasks      | elapsed:    0.1s\n",
      "[Parallel(n_jobs=8)]: Done  16 tasks      | elapsed:    0.2s\n",
      "[Parallel(n_jobs=8)]: Done  25 tasks      | elapsed:    0.3s\n",
      "[Parallel(n_jobs=8)]: Done  34 tasks      | elapsed:    0.4s\n",
      "[Parallel(n_jobs=8)]: Done  45 tasks      | elapsed:    0.5s\n",
      "[Parallel(n_jobs=8)]: Done  56 tasks      | elapsed:    0.6s\n",
      "[Parallel(n_jobs=8)]: Done  69 tasks      | elapsed:    0.8s\n",
      "[Parallel(n_jobs=8)]: Done  82 tasks      | elapsed:    0.9s\n",
      "[Parallel(n_jobs=8)]: Done  97 tasks      | elapsed:    1.0s\n",
      "[Parallel(n_jobs=8)]: Done 112 tasks      | elapsed:    1.2s\n",
      "[Parallel(n_jobs=8)]: Done 129 tasks      | elapsed:    1.4s\n",
      "[Parallel(n_jobs=8)]: Done 146 tasks      | elapsed:    1.6s\n",
      "[Parallel(n_jobs=8)]: Done 165 tasks      | elapsed:    1.8s\n",
      "[Parallel(n_jobs=8)]: Done 195 out of 195 | elapsed:    2.1s finished\n",
      "[Parallel(n_jobs=8)]: Done   2 tasks      | elapsed:    0.1s\n",
      "[Parallel(n_jobs=8)]: Done   9 tasks      | elapsed:    0.3s\n",
      "[Parallel(n_jobs=8)]: Done  16 tasks      | elapsed:    0.5s\n",
      "[Parallel(n_jobs=8)]: Done  25 tasks      | elapsed:    0.7s\n",
      "[Parallel(n_jobs=8)]: Done  34 tasks      | elapsed:    0.9s\n",
      "[Parallel(n_jobs=8)]: Done  45 tasks      | elapsed:    1.1s\n",
      "[Parallel(n_jobs=8)]: Done  56 tasks      | elapsed:    1.4s\n",
      "[Parallel(n_jobs=8)]: Done  69 tasks      | elapsed:    1.7s\n",
      "[Parallel(n_jobs=8)]: Done  82 tasks      | elapsed:    2.0s\n",
      "[Parallel(n_jobs=8)]: Done  97 tasks      | elapsed:    2.3s\n",
      "[Parallel(n_jobs=8)]: Done 112 tasks      | elapsed:    2.7s\n",
      "[Parallel(n_jobs=8)]: Done 129 tasks      | elapsed:    3.1s\n",
      "[Parallel(n_jobs=8)]: Done 146 tasks      | elapsed:    3.5s\n",
      "[Parallel(n_jobs=8)]: Done 165 tasks      | elapsed:    3.9s\n",
      "[Parallel(n_jobs=8)]: Done 195 out of 195 | elapsed:    4.6s finished\n",
      "/home/justin/anaconda3/lib/python3.6/site-packages/sklearn/model_selection/_validation.py:458: DataConversionWarning: A column-vector y was passed when a 1d array was expected. Please change the shape of y to (n_samples,), for example using ravel().\n",
      "  estimator.fit(X_train, y_train, **fit_params)\n"
     ]
    },
    {
     "name": "stdout",
     "output_type": "stream",
     "text": [
      "building tree 1 of 154building tree 3 of 154building tree 5 of 154building tree 2 of 154building tree 7 of 154building tree 8 of 154building tree 6 of 154building tree 4 of 154\n",
      "\n",
      "\n",
      "\n",
      "\n",
      "\n",
      "\n",
      "\n",
      "building tree 9 of 154\n"
     ]
    },
    {
     "name": "stderr",
     "output_type": "stream",
     "text": [
      "[Parallel(n_jobs=-1)]: Done   2 tasks      | elapsed:    8.9s\n"
     ]
    },
    {
     "name": "stdout",
     "output_type": "stream",
     "text": [
      "building tree 10 of 154\n",
      "building tree 11 of 154\n",
      "building tree 12 of 154\n",
      "building tree 13 of 154\n",
      "building tree 14 of 154\n",
      "building tree 15 of 154\n",
      "building tree 16 of 154\n"
     ]
    },
    {
     "name": "stderr",
     "output_type": "stream",
     "text": [
      "[Parallel(n_jobs=-1)]: Done   9 tasks      | elapsed:   18.4s\n"
     ]
    },
    {
     "name": "stdout",
     "output_type": "stream",
     "text": [
      "building tree 17 of 154\n",
      "building tree 18 of 154\n",
      "building tree 19 of 154\n",
      "building tree 20 of 154\n",
      "building tree 21 of 154\n",
      "building tree 22 of 154\n",
      "building tree 23 of 154\n",
      "building tree 24 of 154\n"
     ]
    },
    {
     "name": "stderr",
     "output_type": "stream",
     "text": [
      "[Parallel(n_jobs=-1)]: Done  16 tasks      | elapsed:   21.3s\n"
     ]
    },
    {
     "name": "stdout",
     "output_type": "stream",
     "text": [
      "building tree 25 of 154\n",
      "building tree 26 of 154\n",
      "building tree 27 of 154\n",
      "building tree 28 of 154\n",
      "building tree 29 of 154\n",
      "building tree 30 of 154\n",
      "building tree 31 of 154\n",
      "building tree 32 of 154\n"
     ]
    },
    {
     "name": "stderr",
     "output_type": "stream",
     "text": [
      "[Parallel(n_jobs=-1)]: Done  25 tasks      | elapsed:   37.1s\n"
     ]
    },
    {
     "name": "stdout",
     "output_type": "stream",
     "text": [
      "building tree 33 of 154\n",
      "building tree 34 of 154\n",
      "building tree 35 of 154\n",
      "building tree 36 of 154\n",
      "building tree 37 of 154\n",
      "building tree 38 of 154\n",
      "building tree 39 of 154\n",
      "building tree 40 of 154\n",
      "building tree 41 of 154\n"
     ]
    },
    {
     "name": "stderr",
     "output_type": "stream",
     "text": [
      "[Parallel(n_jobs=-1)]: Done  34 tasks      | elapsed:   47.4s\n"
     ]
    },
    {
     "name": "stdout",
     "output_type": "stream",
     "text": [
      "building tree 42 of 154\n",
      "building tree 43 of 154\n",
      "building tree 44 of 154\n",
      "building tree 45 of 154\n",
      "building tree 46 of 154\n",
      "building tree 47 of 154\n",
      "building tree 48 of 154\n",
      "building tree 49 of 154\n",
      "building tree 50 of 154\n",
      "building tree 51 of 154\n",
      "building tree 52 of 154\n"
     ]
    },
    {
     "name": "stderr",
     "output_type": "stream",
     "text": [
      "[Parallel(n_jobs=-1)]: Done  45 tasks      | elapsed:   59.5s\n"
     ]
    },
    {
     "name": "stdout",
     "output_type": "stream",
     "text": [
      "building tree 53 of 154\n",
      "building tree 54 of 154\n",
      "building tree 55 of 154\n",
      "building tree 56 of 154\n",
      "building tree 57 of 154\n",
      "building tree 58 of 154\n",
      "building tree 59 of 154\n",
      "building tree 60 of 154\n",
      "building tree 61 of 154\n",
      "building tree 62 of 154\n",
      "building tree 63 of 154\n"
     ]
    },
    {
     "name": "stderr",
     "output_type": "stream",
     "text": [
      "[Parallel(n_jobs=-1)]: Done  56 tasks      | elapsed:  1.2min\n"
     ]
    },
    {
     "name": "stdout",
     "output_type": "stream",
     "text": [
      "building tree 64 of 154\n",
      "building tree 65 of 154\n",
      "building tree 66 of 154\n",
      "building tree 67 of 154\n",
      "building tree 68 of 154\n",
      "building tree 69 of 154\n",
      "building tree 70 of 154\n",
      "building tree 71 of 154\n",
      "building tree 72 of 154\n",
      "building tree 73 of 154\n",
      "building tree 74 of 154\n",
      "building tree 75 of 154\n",
      "building tree 76 of 154\n"
     ]
    },
    {
     "name": "stderr",
     "output_type": "stream",
     "text": [
      "[Parallel(n_jobs=-1)]: Done  69 tasks      | elapsed:  1.5min\n"
     ]
    },
    {
     "name": "stdout",
     "output_type": "stream",
     "text": [
      "building tree 77 of 154\n",
      "building tree 78 of 154\n",
      "building tree 79 of 154\n",
      "building tree 80 of 154\n",
      "building tree 81 of 154\n",
      "building tree 82 of 154\n",
      "building tree 83 of 154\n",
      "building tree 84 of 154\n",
      "building tree 85 of 154\n",
      "building tree 86 of 154\n",
      "building tree 87 of 154\n",
      "building tree 88 of 154\n",
      "building tree 89 of 154\n"
     ]
    },
    {
     "name": "stderr",
     "output_type": "stream",
     "text": [
      "[Parallel(n_jobs=-1)]: Done  82 tasks      | elapsed:  1.8min\n"
     ]
    },
    {
     "name": "stdout",
     "output_type": "stream",
     "text": [
      "building tree 90 of 154\n",
      "building tree 91 of 154\n",
      "building tree 92 of 154\n",
      "building tree 93 of 154\n",
      "building tree 94 of 154\n",
      "building tree 95 of 154\n",
      "building tree 96 of 154\n",
      "building tree 97 of 154\n",
      "building tree 98 of 154\n",
      "building tree 99 of 154\n",
      "building tree 100 of 154\n",
      "building tree 101 of 154\n",
      "building tree 102 of 154\n",
      "building tree 103 of 154\n",
      "building tree 104 of 154\n"
     ]
    },
    {
     "name": "stderr",
     "output_type": "stream",
     "text": [
      "[Parallel(n_jobs=-1)]: Done  97 tasks      | elapsed:  2.1min\n"
     ]
    },
    {
     "name": "stdout",
     "output_type": "stream",
     "text": [
      "building tree 105 of 154\n",
      "building tree 106 of 154\n",
      "building tree 107 of 154\n",
      "building tree 108 of 154\n",
      "building tree 109 of 154\n",
      "building tree 110 of 154\n",
      "building tree 111 of 154\n",
      "building tree 112 of 154\n",
      "building tree 113 of 154\n",
      "building tree 114 of 154\n",
      "building tree 115 of 154\n",
      "building tree 116 of 154\n",
      "building tree 117 of 154\n",
      "building tree 118 of 154\n",
      "building tree 119 of 154\n"
     ]
    },
    {
     "name": "stderr",
     "output_type": "stream",
     "text": [
      "[Parallel(n_jobs=-1)]: Done 112 tasks      | elapsed:  2.4min\n"
     ]
    },
    {
     "name": "stdout",
     "output_type": "stream",
     "text": [
      "building tree 120 of 154\n",
      "building tree 121 of 154\n",
      "building tree 122 of 154\n",
      "building tree 123 of 154\n",
      "building tree 124 of 154\n",
      "building tree 125 of 154\n",
      "building tree 126 of 154\n",
      "building tree 127 of 154\n",
      "building tree 128 of 154\n",
      "building tree 129 of 154\n",
      "building tree 130 of 154\n",
      "building tree 131 of 154\n",
      "building tree 132 of 154\n",
      "building tree 133 of 154\n",
      "building tree 134 of 154\n",
      "building tree 135 of 154\n",
      "building tree 136 of 154\n"
     ]
    },
    {
     "name": "stderr",
     "output_type": "stream",
     "text": [
      "[Parallel(n_jobs=-1)]: Done 129 tasks      | elapsed:  2.7min\n"
     ]
    },
    {
     "name": "stdout",
     "output_type": "stream",
     "text": [
      "building tree 137 of 154\n",
      "building tree 138 of 154\n",
      "building tree 139 of 154\n",
      "building tree 140 of 154\n",
      "building tree 141 of 154\n",
      "building tree 142 of 154\n",
      "building tree 143 of 154\n",
      "building tree 144 of 154\n",
      "building tree 145 of 154\n",
      "building tree 146 of 154\n",
      "building tree 147 of 154\n",
      "building tree 148 of 154\n",
      "building tree 149 of 154\n",
      "building tree 150 of 154\n",
      "building tree 151 of 154\n",
      "building tree 152 of 154\n",
      "building tree 153 of 154\n",
      "building tree 154 of 154\n"
     ]
    },
    {
     "name": "stderr",
     "output_type": "stream",
     "text": [
      "[Parallel(n_jobs=-1)]: Done 154 out of 154 | elapsed:  3.2min finished\n",
      "[Parallel(n_jobs=8)]: Done   2 tasks      | elapsed:    0.1s\n",
      "[Parallel(n_jobs=8)]: Done   9 tasks      | elapsed:    0.2s\n",
      "[Parallel(n_jobs=8)]: Done  16 tasks      | elapsed:    0.3s\n",
      "[Parallel(n_jobs=8)]: Done  25 tasks      | elapsed:    0.4s\n",
      "[Parallel(n_jobs=8)]: Done  34 tasks      | elapsed:    0.5s\n",
      "[Parallel(n_jobs=8)]: Done  45 tasks      | elapsed:    0.7s\n",
      "[Parallel(n_jobs=8)]: Done  56 tasks      | elapsed:    0.9s\n",
      "[Parallel(n_jobs=8)]: Done  69 tasks      | elapsed:    1.1s\n",
      "[Parallel(n_jobs=8)]: Done  82 tasks      | elapsed:    1.3s\n",
      "[Parallel(n_jobs=8)]: Done  97 tasks      | elapsed:    1.5s\n",
      "[Parallel(n_jobs=8)]: Done 112 tasks      | elapsed:    1.7s\n",
      "[Parallel(n_jobs=8)]: Done 129 tasks      | elapsed:    2.0s\n",
      "[Parallel(n_jobs=8)]: Done 154 out of 154 | elapsed:    2.3s finished\n",
      "[Parallel(n_jobs=8)]: Done   2 tasks      | elapsed:    0.1s\n",
      "[Parallel(n_jobs=8)]: Done   9 tasks      | elapsed:    0.3s\n",
      "[Parallel(n_jobs=8)]: Done  16 tasks      | elapsed:    0.5s\n",
      "[Parallel(n_jobs=8)]: Done  25 tasks      | elapsed:    0.8s\n",
      "[Parallel(n_jobs=8)]: Done  34 tasks      | elapsed:    1.0s\n",
      "[Parallel(n_jobs=8)]: Done  45 tasks      | elapsed:    1.3s\n",
      "[Parallel(n_jobs=8)]: Done  56 tasks      | elapsed:    1.7s\n",
      "[Parallel(n_jobs=8)]: Done  69 tasks      | elapsed:    2.1s\n",
      "[Parallel(n_jobs=8)]: Done  82 tasks      | elapsed:    2.4s\n",
      "[Parallel(n_jobs=8)]: Done  97 tasks      | elapsed:    2.9s\n",
      "[Parallel(n_jobs=8)]: Done 112 tasks      | elapsed:    3.3s\n",
      "[Parallel(n_jobs=8)]: Done 129 tasks      | elapsed:    3.7s\n",
      "[Parallel(n_jobs=8)]: Done 154 out of 154 | elapsed:    4.4s finished\n",
      "/home/justin/anaconda3/lib/python3.6/site-packages/sklearn/model_selection/_validation.py:458: DataConversionWarning: A column-vector y was passed when a 1d array was expected. Please change the shape of y to (n_samples,), for example using ravel().\n",
      "  estimator.fit(X_train, y_train, **fit_params)\n"
     ]
    },
    {
     "name": "stdout",
     "output_type": "stream",
     "text": [
      "building tree 3 of 154building tree 2 of 154building tree 1 of 154building tree 5 of 154building tree 6 of 154building tree 4 of 154building tree 7 of 154\n",
      "\n",
      "\n",
      "\n",
      "\n",
      "\n",
      "\n",
      "building tree 8 of 154\n",
      "building tree 9 of 154\n",
      "building tree 10 of 154\n"
     ]
    },
    {
     "name": "stderr",
     "output_type": "stream",
     "text": [
      "[Parallel(n_jobs=-1)]: Done   2 tasks      | elapsed:    8.8s\n"
     ]
    },
    {
     "name": "stdout",
     "output_type": "stream",
     "text": [
      "building tree 11 of 154\n",
      "building tree 12 of 154\n",
      "building tree 13 of 154\n",
      "building tree 14 of 154\n",
      "building tree 15 of 154\n",
      "building tree 16 of 154\n"
     ]
    },
    {
     "name": "stderr",
     "output_type": "stream",
     "text": [
      "[Parallel(n_jobs=-1)]: Done   9 tasks      | elapsed:   18.2s\n"
     ]
    },
    {
     "name": "stdout",
     "output_type": "stream",
     "text": [
      "building tree 17 of 154\n",
      "building tree 18 of 154\n",
      "building tree 19 of 154\n",
      "building tree 20 of 154\n",
      "building tree 21 of 154\n",
      "building tree 22 of 154\n",
      "building tree 23 of 154\n"
     ]
    },
    {
     "name": "stderr",
     "output_type": "stream",
     "text": [
      "[Parallel(n_jobs=-1)]: Done  16 tasks      | elapsed:   22.8s\n"
     ]
    },
    {
     "name": "stdout",
     "output_type": "stream",
     "text": [
      "building tree 24 of 154\n",
      "building tree 25 of 154\n",
      "building tree 26 of 154\n",
      "building tree 27 of 154\n",
      "building tree 28 of 154\n",
      "building tree 29 of 154\n",
      "building tree 30 of 154\n",
      "building tree 31 of 154\n",
      "building tree 32 of 154\n"
     ]
    },
    {
     "name": "stderr",
     "output_type": "stream",
     "text": [
      "[Parallel(n_jobs=-1)]: Done  25 tasks      | elapsed:   38.0s\n"
     ]
    },
    {
     "name": "stdout",
     "output_type": "stream",
     "text": [
      "building tree 33 of 154\n",
      "building tree 34 of 154\n",
      "building tree 35 of 154\n",
      "building tree 36 of 154\n",
      "building tree 37 of 154\n",
      "building tree 38 of 154\n",
      "building tree 39 of 154\n",
      "building tree 40 of 154\n",
      "building tree 41 of 154\n"
     ]
    },
    {
     "name": "stderr",
     "output_type": "stream",
     "text": [
      "[Parallel(n_jobs=-1)]: Done  34 tasks      | elapsed:   48.7s\n"
     ]
    },
    {
     "name": "stdout",
     "output_type": "stream",
     "text": [
      "building tree 42 of 154\n",
      "building tree 43 of 154\n",
      "building tree 44 of 154\n",
      "building tree 45 of 154\n",
      "building tree 46 of 154\n",
      "building tree 47 of 154\n",
      "building tree 48 of 154\n",
      "building tree 49 of 154\n",
      "building tree 50 of 154\n",
      "building tree 51 of 154\n",
      "building tree 52 of 154\n"
     ]
    },
    {
     "name": "stderr",
     "output_type": "stream",
     "text": [
      "[Parallel(n_jobs=-1)]: Done  45 tasks      | elapsed:  1.0min\n"
     ]
    },
    {
     "name": "stdout",
     "output_type": "stream",
     "text": [
      "building tree 53 of 154\n",
      "building tree 54 of 154\n",
      "building tree 55 of 154\n",
      "building tree 56 of 154\n",
      "building tree 57 of 154\n",
      "building tree 58 of 154\n",
      "building tree 59 of 154\n",
      "building tree 60 of 154\n",
      "building tree 61 of 154\n",
      "building tree 62 of 154\n",
      "building tree 63 of 154\n"
     ]
    },
    {
     "name": "stderr",
     "output_type": "stream",
     "text": [
      "[Parallel(n_jobs=-1)]: Done  56 tasks      | elapsed:  1.2min\n"
     ]
    },
    {
     "name": "stdout",
     "output_type": "stream",
     "text": [
      "building tree 64 of 154\n",
      "building tree 65 of 154\n",
      "building tree 66 of 154\n",
      "building tree 67 of 154\n",
      "building tree 68 of 154\n",
      "building tree 69 of 154\n",
      "building tree 70 of 154\n",
      "building tree 71 of 154\n",
      "building tree 72 of 154\n",
      "building tree 73 of 154\n",
      "building tree 74 of 154\n",
      "building tree 75 of 154\n",
      "building tree 76 of 154\n"
     ]
    },
    {
     "name": "stderr",
     "output_type": "stream",
     "text": [
      "[Parallel(n_jobs=-1)]: Done  69 tasks      | elapsed:  1.5min\n"
     ]
    },
    {
     "name": "stdout",
     "output_type": "stream",
     "text": [
      "building tree 77 of 154\n",
      "building tree 78 of 154\n",
      "building tree 79 of 154\n",
      "building tree 80 of 154\n",
      "building tree 81 of 154\n",
      "building tree 82 of 154\n",
      "building tree 83 of 154\n",
      "building tree 84 of 154\n",
      "building tree 85 of 154\n",
      "building tree 86 of 154\n",
      "building tree 87 of 154\n",
      "building tree 88 of 154\n",
      "building tree 89 of 154\n"
     ]
    },
    {
     "name": "stderr",
     "output_type": "stream",
     "text": [
      "[Parallel(n_jobs=-1)]: Done  82 tasks      | elapsed:  1.8min\n"
     ]
    },
    {
     "name": "stdout",
     "output_type": "stream",
     "text": [
      "building tree 90 of 154\n",
      "building tree 91 of 154\n",
      "building tree 92 of 154\n",
      "building tree 93 of 154\n",
      "building tree 94 of 154\n",
      "building tree 95 of 154\n",
      "building tree 96 of 154\n",
      "building tree 97 of 154\n",
      "building tree 98 of 154\n",
      "building tree 99 of 154\n",
      "building tree 100 of 154\n",
      "building tree 101 of 154\n",
      "building tree 102 of 154\n",
      "building tree 103 of 154\n",
      "building tree 104 of 154\n"
     ]
    },
    {
     "name": "stderr",
     "output_type": "stream",
     "text": [
      "[Parallel(n_jobs=-1)]: Done  97 tasks      | elapsed:  2.1min\n"
     ]
    },
    {
     "name": "stdout",
     "output_type": "stream",
     "text": [
      "building tree 105 of 154\n",
      "building tree 106 of 154\n",
      "building tree 107 of 154\n",
      "building tree 108 of 154\n",
      "building tree 109 of 154\n",
      "building tree 110 of 154\n",
      "building tree 111 of 154\n",
      "building tree 112 of 154\n",
      "building tree 113 of 154\n",
      "building tree 114 of 154\n",
      "building tree 115 of 154\n",
      "building tree 116 of 154\n",
      "building tree 117 of 154\n",
      "building tree 118 of 154\n",
      "building tree 119 of 154\n"
     ]
    },
    {
     "name": "stderr",
     "output_type": "stream",
     "text": [
      "[Parallel(n_jobs=-1)]: Done 112 tasks      | elapsed:  2.4min\n"
     ]
    },
    {
     "name": "stdout",
     "output_type": "stream",
     "text": [
      "building tree 120 of 154\n",
      "building tree 121 of 154\n",
      "building tree 122 of 154\n",
      "building tree 123 of 154\n",
      "building tree 124 of 154\n",
      "building tree 125 of 154\n",
      "building tree 126 of 154\n",
      "building tree 127 of 154\n",
      "building tree 128 of 154\n",
      "building tree 129 of 154\n",
      "building tree 130 of 154\n",
      "building tree 131 of 154\n",
      "building tree 132 of 154\n",
      "building tree 133 of 154\n",
      "building tree 134 of 154\n",
      "building tree 135 of 154\n",
      "building tree 136 of 154\n"
     ]
    },
    {
     "name": "stderr",
     "output_type": "stream",
     "text": [
      "[Parallel(n_jobs=-1)]: Done 129 tasks      | elapsed:  2.8min\n"
     ]
    },
    {
     "name": "stdout",
     "output_type": "stream",
     "text": [
      "building tree 137 of 154\n",
      "building tree 138 of 154\n",
      "building tree 139 of 154\n",
      "building tree 140 of 154\n",
      "building tree 141 of 154\n",
      "building tree 142 of 154\n",
      "building tree 143 of 154\n",
      "building tree 144 of 154\n",
      "building tree 145 of 154\n",
      "building tree 146 of 154\n",
      "building tree 147 of 154\n",
      "building tree 148 of 154\n",
      "building tree 149 of 154\n",
      "building tree 150 of 154\n",
      "building tree 151 of 154\n",
      "building tree 152 of 154\n",
      "building tree 153 of 154\n",
      "building tree 154 of 154\n"
     ]
    },
    {
     "name": "stderr",
     "output_type": "stream",
     "text": [
      "[Parallel(n_jobs=-1)]: Done 154 out of 154 | elapsed:  3.3min finished\n",
      "[Parallel(n_jobs=8)]: Done   2 tasks      | elapsed:    0.1s\n",
      "[Parallel(n_jobs=8)]: Done   9 tasks      | elapsed:    0.2s\n",
      "[Parallel(n_jobs=8)]: Done  16 tasks      | elapsed:    0.3s\n",
      "[Parallel(n_jobs=8)]: Done  25 tasks      | elapsed:    0.4s\n",
      "[Parallel(n_jobs=8)]: Done  34 tasks      | elapsed:    0.5s\n",
      "[Parallel(n_jobs=8)]: Done  45 tasks      | elapsed:    0.6s\n",
      "[Parallel(n_jobs=8)]: Done  56 tasks      | elapsed:    0.8s\n",
      "[Parallel(n_jobs=8)]: Done  69 tasks      | elapsed:    1.0s\n",
      "[Parallel(n_jobs=8)]: Done  82 tasks      | elapsed:    1.1s\n",
      "[Parallel(n_jobs=8)]: Done  97 tasks      | elapsed:    1.3s\n",
      "[Parallel(n_jobs=8)]: Done 112 tasks      | elapsed:    1.5s\n",
      "[Parallel(n_jobs=8)]: Done 129 tasks      | elapsed:    1.7s\n",
      "[Parallel(n_jobs=8)]: Done 154 out of 154 | elapsed:    2.0s finished\n",
      "[Parallel(n_jobs=8)]: Done   2 tasks      | elapsed:    0.2s\n",
      "[Parallel(n_jobs=8)]: Done   9 tasks      | elapsed:    0.3s\n",
      "[Parallel(n_jobs=8)]: Done  16 tasks      | elapsed:    0.5s\n",
      "[Parallel(n_jobs=8)]: Done  25 tasks      | elapsed:    0.8s\n",
      "[Parallel(n_jobs=8)]: Done  34 tasks      | elapsed:    1.1s\n",
      "[Parallel(n_jobs=8)]: Done  45 tasks      | elapsed:    1.3s\n",
      "[Parallel(n_jobs=8)]: Done  56 tasks      | elapsed:    1.7s\n",
      "[Parallel(n_jobs=8)]: Done  69 tasks      | elapsed:    2.1s\n",
      "[Parallel(n_jobs=8)]: Done  82 tasks      | elapsed:    2.5s\n",
      "[Parallel(n_jobs=8)]: Done  97 tasks      | elapsed:    2.9s\n",
      "[Parallel(n_jobs=8)]: Done 112 tasks      | elapsed:    3.3s\n",
      "[Parallel(n_jobs=8)]: Done 129 tasks      | elapsed:    3.8s\n",
      "[Parallel(n_jobs=8)]: Done 154 out of 154 | elapsed:    4.6s finished\n",
      "/home/justin/anaconda3/lib/python3.6/site-packages/sklearn/model_selection/_validation.py:458: DataConversionWarning: A column-vector y was passed when a 1d array was expected. Please change the shape of y to (n_samples,), for example using ravel().\n",
      "  estimator.fit(X_train, y_train, **fit_params)\n"
     ]
    },
    {
     "name": "stdout",
     "output_type": "stream",
     "text": [
      "building tree 2 of 154building tree 3 of 154building tree 4 of 154\n",
      "building tree 6 of 154building tree 7 of 154building tree 8 of 154building tree 1 of 154\n",
      "\n",
      "\n",
      "\n",
      "\n",
      "\n",
      "building tree 5 of 154\n",
      "building tree 9 of 154\n",
      "building tree 10 of 154\n"
     ]
    },
    {
     "name": "stderr",
     "output_type": "stream",
     "text": [
      "[Parallel(n_jobs=-1)]: Done   2 tasks      | elapsed:    9.4s\n"
     ]
    },
    {
     "name": "stdout",
     "output_type": "stream",
     "text": [
      "building tree 11 of 154\n",
      "building tree 12 of 154\n",
      "building tree 13 of 154\n",
      "building tree 14 of 154\n",
      "building tree 15 of 154\n",
      "building tree 16 of 154\n"
     ]
    },
    {
     "name": "stderr",
     "output_type": "stream",
     "text": [
      "[Parallel(n_jobs=-1)]: Done   9 tasks      | elapsed:   18.9s\n"
     ]
    },
    {
     "name": "stdout",
     "output_type": "stream",
     "text": [
      "building tree 17 of 154\n",
      "building tree 18 of 154\n",
      "building tree 19 of 154\n",
      "building tree 20 of 154\n",
      "building tree 21 of 154\n",
      "building tree 22 of 154\n",
      "building tree 23 of 154\n",
      "building tree 24 of 154\n"
     ]
    },
    {
     "name": "stderr",
     "output_type": "stream",
     "text": [
      "[Parallel(n_jobs=-1)]: Done  16 tasks      | elapsed:   21.0s\n"
     ]
    },
    {
     "name": "stdout",
     "output_type": "stream",
     "text": [
      "building tree 25 of 154\n",
      "building tree 26 of 154\n",
      "building tree 27 of 154\n",
      "building tree 28 of 154\n",
      "building tree 29 of 154\n",
      "building tree 30 of 154\n",
      "building tree 31 of 154\n",
      "building tree 32 of 154\n"
     ]
    },
    {
     "name": "stderr",
     "output_type": "stream",
     "text": [
      "[Parallel(n_jobs=-1)]: Done  25 tasks      | elapsed:   37.7s\n"
     ]
    },
    {
     "name": "stdout",
     "output_type": "stream",
     "text": [
      "building tree 33 of 154\n",
      "building tree 34 of 154\n",
      "building tree 35 of 154\n",
      "building tree 36 of 154\n",
      "building tree 37 of 154\n",
      "building tree 38 of 154\n",
      "building tree 39 of 154\n",
      "building tree 40 of 154\n",
      "building tree 41 of 154\n"
     ]
    },
    {
     "name": "stderr",
     "output_type": "stream",
     "text": [
      "[Parallel(n_jobs=-1)]: Done  34 tasks      | elapsed:   47.8s\n"
     ]
    },
    {
     "name": "stdout",
     "output_type": "stream",
     "text": [
      "building tree 42 of 154\n",
      "building tree 43 of 154\n",
      "building tree 44 of 154\n",
      "building tree 45 of 154\n",
      "building tree 46 of 154\n",
      "building tree 47 of 154\n",
      "building tree 48 of 154\n",
      "building tree 49 of 154\n",
      "building tree 50 of 154\n",
      "building tree 51 of 154\n",
      "building tree 52 of 154\n",
      "building tree 53 of 154\n"
     ]
    },
    {
     "name": "stderr",
     "output_type": "stream",
     "text": [
      "[Parallel(n_jobs=-1)]: Done  45 tasks      | elapsed:   59.9s\n"
     ]
    },
    {
     "name": "stdout",
     "output_type": "stream",
     "text": [
      "building tree 54 of 154\n",
      "building tree 55 of 154\n",
      "building tree 56 of 154\n",
      "building tree 57 of 154\n",
      "building tree 58 of 154\n",
      "building tree 59 of 154\n",
      "building tree 60 of 154\n",
      "building tree 61 of 154\n",
      "building tree 62 of 154\n",
      "building tree 63 of 154\n"
     ]
    },
    {
     "name": "stderr",
     "output_type": "stream",
     "text": [
      "[Parallel(n_jobs=-1)]: Done  56 tasks      | elapsed:  1.2min\n"
     ]
    },
    {
     "name": "stdout",
     "output_type": "stream",
     "text": [
      "building tree 64 of 154\n",
      "building tree 65 of 154\n",
      "building tree 66 of 154\n",
      "building tree 67 of 154\n",
      "building tree 68 of 154\n",
      "building tree 69 of 154\n",
      "building tree 70 of 154\n",
      "building tree 71 of 154\n",
      "building tree 72 of 154\n",
      "building tree 73 of 154\n",
      "building tree 74 of 154\n",
      "building tree 75 of 154\n",
      "building tree 76 of 154\n"
     ]
    },
    {
     "name": "stderr",
     "output_type": "stream",
     "text": [
      "[Parallel(n_jobs=-1)]: Done  69 tasks      | elapsed:  1.5min\n"
     ]
    },
    {
     "name": "stdout",
     "output_type": "stream",
     "text": [
      "building tree 77 of 154\n",
      "building tree 78 of 154\n",
      "building tree 79 of 154\n",
      "building tree 80 of 154\n",
      "building tree 81 of 154\n",
      "building tree 82 of 154\n",
      "building tree 83 of 154\n",
      "building tree 84 of 154\n",
      "building tree 85 of 154\n",
      "building tree 86 of 154\n",
      "building tree 87 of 154\n",
      "building tree 88 of 154\n",
      "building tree 89 of 154\n"
     ]
    },
    {
     "name": "stderr",
     "output_type": "stream",
     "text": [
      "[Parallel(n_jobs=-1)]: Done  82 tasks      | elapsed:  1.8min\n"
     ]
    },
    {
     "name": "stdout",
     "output_type": "stream",
     "text": [
      "building tree 90 of 154\n",
      "building tree 91 of 154\n",
      "building tree 92 of 154\n",
      "building tree 93 of 154\n",
      "building tree 94 of 154\n",
      "building tree 95 of 154\n",
      "building tree 96 of 154\n",
      "building tree 97 of 154\n",
      "building tree 98 of 154\n",
      "building tree 99 of 154\n",
      "building tree 100 of 154\n",
      "building tree 101 of 154\n",
      "building tree 102 of 154\n",
      "building tree 103 of 154\n",
      "building tree 104 of 154\n"
     ]
    },
    {
     "name": "stderr",
     "output_type": "stream",
     "text": [
      "[Parallel(n_jobs=-1)]: Done  97 tasks      | elapsed:  2.1min\n"
     ]
    },
    {
     "name": "stdout",
     "output_type": "stream",
     "text": [
      "building tree 105 of 154\n",
      "building tree 106 of 154\n",
      "building tree 107 of 154\n",
      "building tree 108 of 154\n",
      "building tree 109 of 154\n",
      "building tree 110 of 154\n",
      "building tree 111 of 154\n",
      "building tree 112 of 154\n",
      "building tree 113 of 154\n",
      "building tree 114 of 154\n",
      "building tree 115 of 154\n",
      "building tree 116 of 154\n",
      "building tree 117 of 154\n",
      "building tree 118 of 154\n",
      "building tree 119 of 154\n"
     ]
    },
    {
     "name": "stderr",
     "output_type": "stream",
     "text": [
      "[Parallel(n_jobs=-1)]: Done 112 tasks      | elapsed:  2.5min\n"
     ]
    },
    {
     "name": "stdout",
     "output_type": "stream",
     "text": [
      "building tree 120 of 154\n",
      "building tree 121 of 154\n",
      "building tree 122 of 154\n",
      "building tree 123 of 154\n",
      "building tree 124 of 154\n",
      "building tree 125 of 154\n",
      "building tree 126 of 154\n",
      "building tree 127 of 154\n",
      "building tree 128 of 154\n",
      "building tree 129 of 154\n",
      "building tree 130 of 154\n",
      "building tree 131 of 154\n",
      "building tree 132 of 154\n",
      "building tree 133 of 154\n",
      "building tree 134 of 154\n",
      "building tree 135 of 154\n",
      "building tree 136 of 154\n"
     ]
    },
    {
     "name": "stderr",
     "output_type": "stream",
     "text": [
      "[Parallel(n_jobs=-1)]: Done 129 tasks      | elapsed:  2.8min\n"
     ]
    },
    {
     "name": "stdout",
     "output_type": "stream",
     "text": [
      "building tree 137 of 154\n",
      "building tree 138 of 154\n",
      "building tree 139 of 154\n",
      "building tree 140 of 154\n",
      "building tree 141 of 154\n",
      "building tree 142 of 154\n",
      "building tree 143 of 154\n",
      "building tree 144 of 154\n",
      "building tree 145 of 154\n",
      "building tree 146 of 154\n",
      "building tree 147 of 154\n",
      "building tree 148 of 154\n",
      "building tree 149 of 154\n",
      "building tree 150 of 154\n",
      "building tree 151 of 154\n",
      "building tree 152 of 154\n",
      "building tree 153 of 154\n",
      "building tree 154 of 154\n"
     ]
    },
    {
     "name": "stderr",
     "output_type": "stream",
     "text": [
      "[Parallel(n_jobs=-1)]: Done 154 out of 154 | elapsed:  3.3min finished\n",
      "[Parallel(n_jobs=8)]: Done   2 tasks      | elapsed:    0.1s\n",
      "[Parallel(n_jobs=8)]: Done   9 tasks      | elapsed:    0.2s\n",
      "[Parallel(n_jobs=8)]: Done  16 tasks      | elapsed:    0.3s\n",
      "[Parallel(n_jobs=8)]: Done  25 tasks      | elapsed:    0.4s\n",
      "[Parallel(n_jobs=8)]: Done  34 tasks      | elapsed:    0.5s\n",
      "[Parallel(n_jobs=8)]: Done  45 tasks      | elapsed:    0.7s\n",
      "[Parallel(n_jobs=8)]: Done  56 tasks      | elapsed:    0.8s\n",
      "[Parallel(n_jobs=8)]: Done  69 tasks      | elapsed:    1.0s\n",
      "[Parallel(n_jobs=8)]: Done  82 tasks      | elapsed:    1.1s\n",
      "[Parallel(n_jobs=8)]: Done  97 tasks      | elapsed:    1.4s\n",
      "[Parallel(n_jobs=8)]: Done 112 tasks      | elapsed:    1.6s\n",
      "[Parallel(n_jobs=8)]: Done 129 tasks      | elapsed:    1.8s\n",
      "[Parallel(n_jobs=8)]: Done 154 out of 154 | elapsed:    2.1s finished\n",
      "[Parallel(n_jobs=8)]: Done   2 tasks      | elapsed:    0.2s\n",
      "[Parallel(n_jobs=8)]: Done   9 tasks      | elapsed:    0.3s\n",
      "[Parallel(n_jobs=8)]: Done  16 tasks      | elapsed:    0.5s\n",
      "[Parallel(n_jobs=8)]: Done  25 tasks      | elapsed:    0.8s\n",
      "[Parallel(n_jobs=8)]: Done  34 tasks      | elapsed:    1.0s\n",
      "[Parallel(n_jobs=8)]: Done  45 tasks      | elapsed:    1.3s\n",
      "[Parallel(n_jobs=8)]: Done  56 tasks      | elapsed:    1.7s\n",
      "[Parallel(n_jobs=8)]: Done  69 tasks      | elapsed:    2.1s\n",
      "[Parallel(n_jobs=8)]: Done  82 tasks      | elapsed:    2.4s\n",
      "[Parallel(n_jobs=8)]: Done  97 tasks      | elapsed:    2.9s\n",
      "[Parallel(n_jobs=8)]: Done 112 tasks      | elapsed:    3.3s\n",
      "[Parallel(n_jobs=8)]: Done 129 tasks      | elapsed:    3.8s\n",
      "[Parallel(n_jobs=8)]: Done 154 out of 154 | elapsed:    4.5s finished\n",
      "/home/justin/anaconda3/lib/python3.6/site-packages/sklearn/model_selection/_search.py:739: DataConversionWarning: A column-vector y was passed when a 1d array was expected. Please change the shape of y to (n_samples,), for example using ravel().\n",
      "  self.best_estimator_.fit(X, y, **fit_params)\n"
     ]
    },
    {
     "name": "stdout",
     "output_type": "stream",
     "text": [
      "building tree 3 of 154\n",
      "building tree 4 of 154building tree 5 of 154building tree 6 of 154building tree 7 of 154building tree 1 of 154\n",
      "\n",
      "\n",
      "\n",
      "\n",
      "building tree 8 of 154\n",
      "building tree 2 of 154\n",
      "building tree 9 of 154\n"
     ]
    },
    {
     "name": "stderr",
     "output_type": "stream",
     "text": [
      "[Parallel(n_jobs=-1)]: Done   2 tasks      | elapsed:   14.8s\n"
     ]
    },
    {
     "name": "stdout",
     "output_type": "stream",
     "text": [
      "building tree 10 of 154\n",
      "building tree 11 of 154\n",
      "building tree 12 of 154\n",
      "building tree 13 of 154\n",
      "building tree 14 of 154\n",
      "building tree 15 of 154\n",
      "building tree 16 of 154\n"
     ]
    },
    {
     "name": "stderr",
     "output_type": "stream",
     "text": [
      "[Parallel(n_jobs=-1)]: Done   9 tasks      | elapsed:   30.6s\n"
     ]
    },
    {
     "name": "stdout",
     "output_type": "stream",
     "text": [
      "building tree 17 of 154\n",
      "building tree 18 of 154\n",
      "building tree 19 of 154\n",
      "building tree 20 of 154\n",
      "building tree 21 of 154\n",
      "building tree 22 of 154\n",
      "building tree 23 of 154\n"
     ]
    },
    {
     "name": "stderr",
     "output_type": "stream",
     "text": [
      "[Parallel(n_jobs=-1)]: Done  16 tasks      | elapsed:   35.8s\n"
     ]
    },
    {
     "name": "stdout",
     "output_type": "stream",
     "text": [
      "building tree 24 of 154\n",
      "building tree 25 of 154\n",
      "building tree 26 of 154\n",
      "building tree 27 of 154\n",
      "building tree 28 of 154\n",
      "building tree 29 of 154\n",
      "building tree 30 of 154\n",
      "building tree 31 of 154\n",
      "building tree 32 of 154\n"
     ]
    },
    {
     "name": "stderr",
     "output_type": "stream",
     "text": [
      "[Parallel(n_jobs=-1)]: Done  25 tasks      | elapsed:  1.0min\n"
     ]
    },
    {
     "name": "stdout",
     "output_type": "stream",
     "text": [
      "building tree 33 of 154\n",
      "building tree 34 of 154\n",
      "building tree 35 of 154\n",
      "building tree 36 of 154\n",
      "building tree 38 of 154\n",
      "building tree 37 of 154\n",
      "building tree 39 of 154\n",
      "building tree 40 of 154\n",
      "building tree 41 of 154\n"
     ]
    },
    {
     "name": "stderr",
     "output_type": "stream",
     "text": [
      "[Parallel(n_jobs=-1)]: Done  34 tasks      | elapsed:  1.4min\n"
     ]
    },
    {
     "name": "stdout",
     "output_type": "stream",
     "text": [
      "building tree 42 of 154\n",
      "building tree 43 of 154\n",
      "building tree 44 of 154\n",
      "building tree 45 of 154\n",
      "building tree 46 of 154\n",
      "building tree 47 of 154\n",
      "building tree 48 of 154\n",
      "building tree 49 of 154\n",
      "building tree 50 of 154\n",
      "building tree 51 of 154\n",
      "building tree 52 of 154\n"
     ]
    },
    {
     "name": "stderr",
     "output_type": "stream",
     "text": [
      "[Parallel(n_jobs=-1)]: Done  45 tasks      | elapsed:  1.7min\n"
     ]
    },
    {
     "name": "stdout",
     "output_type": "stream",
     "text": [
      "building tree 53 of 154\n",
      "building tree 54 of 154\n",
      "building tree 55 of 154\n",
      "building tree 56 of 154\n",
      "building tree 57 of 154\n",
      "building tree 58 of 154\n",
      "building tree 59 of 154\n",
      "building tree 60 of 154\n",
      "building tree 61 of 154\n",
      "building tree 62 of 154\n",
      "building tree 63 of 154\n"
     ]
    },
    {
     "name": "stderr",
     "output_type": "stream",
     "text": [
      "[Parallel(n_jobs=-1)]: Done  56 tasks      | elapsed:  2.0min\n"
     ]
    },
    {
     "name": "stdout",
     "output_type": "stream",
     "text": [
      "building tree 64 of 154\n",
      "building tree 65 of 154\n",
      "building tree 66 of 154\n",
      "building tree 67 of 154\n",
      "building tree 68 of 154\n",
      "building tree 69 of 154\n",
      "building tree 70 of 154\n",
      "building tree 71 of 154\n",
      "building tree 72 of 154\n",
      "building tree 73 of 154\n",
      "building tree 74 of 154\n",
      "building tree 75 of 154\n",
      "building tree 76 of 154\n"
     ]
    },
    {
     "name": "stderr",
     "output_type": "stream",
     "text": [
      "[Parallel(n_jobs=-1)]: Done  69 tasks      | elapsed:  2.5min\n"
     ]
    },
    {
     "name": "stdout",
     "output_type": "stream",
     "text": [
      "building tree 77 of 154\n",
      "building tree 78 of 154\n",
      "building tree 79 of 154\n",
      "building tree 80 of 154\n",
      "building tree 81 of 154\n",
      "building tree 82 of 154\n",
      "building tree 83 of 154\n",
      "building tree 84 of 154\n",
      "building tree 85 of 154\n",
      "building tree 86 of 154\n",
      "building tree 87 of 154\n",
      "building tree 88 of 154\n",
      "building tree 89 of 154\n"
     ]
    },
    {
     "name": "stderr",
     "output_type": "stream",
     "text": [
      "[Parallel(n_jobs=-1)]: Done  82 tasks      | elapsed:  3.0min\n"
     ]
    },
    {
     "name": "stdout",
     "output_type": "stream",
     "text": [
      "building tree 90 of 154\n",
      "building tree 91 of 154\n",
      "building tree 92 of 154\n",
      "building tree 93 of 154\n",
      "building tree 94 of 154\n",
      "building tree 95 of 154\n",
      "building tree 96 of 154\n",
      "building tree 97 of 154\n",
      "building tree 98 of 154\n",
      "building tree 99 of 154\n",
      "building tree 100 of 154\n",
      "building tree 101 of 154\n",
      "building tree 102 of 154\n",
      "building tree 103 of 154\n",
      "building tree 104 of 154\n"
     ]
    },
    {
     "name": "stderr",
     "output_type": "stream",
     "text": [
      "[Parallel(n_jobs=-1)]: Done  97 tasks      | elapsed:  3.5min\n"
     ]
    },
    {
     "name": "stdout",
     "output_type": "stream",
     "text": [
      "building tree 105 of 154\n",
      "building tree 106 of 154\n",
      "building tree 107 of 154\n",
      "building tree 108 of 154\n",
      "building tree 109 of 154\n",
      "building tree 110 of 154\n",
      "building tree 111 of 154\n",
      "building tree 112 of 154\n",
      "building tree 113 of 154\n",
      "building tree 114 of 154\n",
      "building tree 115 of 154\n",
      "building tree 116 of 154\n",
      "building tree 117 of 154\n",
      "building tree 118 of 154\n",
      "building tree 119 of 154\n",
      "building tree 120 of 154\n"
     ]
    },
    {
     "name": "stderr",
     "output_type": "stream",
     "text": [
      "[Parallel(n_jobs=-1)]: Done 112 tasks      | elapsed:  3.9min\n"
     ]
    },
    {
     "name": "stdout",
     "output_type": "stream",
     "text": [
      "building tree 121 of 154\n",
      "building tree 122 of 154\n",
      "building tree 123 of 154\n",
      "building tree 124 of 154\n",
      "building tree 125 of 154\n",
      "building tree 126 of 154\n",
      "building tree 127 of 154\n",
      "building tree 128 of 154\n",
      "building tree 129 of 154\n",
      "building tree 130 of 154\n",
      "building tree 131 of 154\n",
      "building tree 132 of 154\n",
      "building tree 133 of 154\n",
      "building tree 134 of 154\n",
      "building tree 135 of 154\n",
      "building tree 136 of 154\n"
     ]
    },
    {
     "name": "stderr",
     "output_type": "stream",
     "text": [
      "[Parallel(n_jobs=-1)]: Done 129 tasks      | elapsed:  4.6min\n"
     ]
    },
    {
     "name": "stdout",
     "output_type": "stream",
     "text": [
      "building tree 137 of 154\n",
      "building tree 138 of 154\n",
      "building tree 139 of 154\n",
      "building tree 140 of 154\n",
      "building tree 141 of 154\n",
      "building tree 142 of 154\n",
      "building tree 143 of 154\n",
      "building tree 144 of 154\n",
      "building tree 145 of 154\n",
      "building tree 146 of 154\n",
      "building tree 147 of 154\n",
      "building tree 148 of 154\n",
      "building tree 149 of 154\n",
      "building tree 150 of 154\n",
      "building tree 151 of 154\n",
      "building tree 152 of 154\n",
      "building tree 153 of 154\n",
      "building tree 154 of 154\n"
     ]
    },
    {
     "name": "stderr",
     "output_type": "stream",
     "text": [
      "[Parallel(n_jobs=-1)]: Done 154 out of 154 | elapsed:  5.4min finished\n"
     ]
    },
    {
     "name": "stdout",
     "output_type": "stream",
     "text": [
      "RandomizedSearchCV took 12168.27 seconds for 20 candidates parameter settings.\n"
     ]
    }
   ],
   "source": [
    "start = time.time()\n",
    "random_search.fit(standardized, eval_cols)\n",
    "print(\"RandomizedSearchCV took %.2f seconds for %d candidates\"\n",
    "      \" parameter settings.\" % ((time.time() - start), n_iter))"
   ]
  },
  {
   "cell_type": "code",
   "execution_count": 11,
   "metadata": {
    "ExecuteTime": {
     "end_time": "2018-03-06T21:30:12.106033Z",
     "start_time": "2018-03-06T21:30:12.090271Z"
    }
   },
   "outputs": [
    {
     "name": "stdout",
     "output_type": "stream",
     "text": [
      "Model with rank: 1\n",
      "Mean validation score: 0.027 (std: 0.017)\n",
      "Parameters: {'verbose': 10, 'oob_score': True, 'n_jobs': -1, 'n_estimators': 154, 'min_samples_split': 200, 'min_samples_leaf': 10, 'max_features': 50, 'criterion': 'mse', 'bootstrap': True}\n",
      "\n",
      "Model with rank: 2\n",
      "Mean validation score: 0.022 (std: 0.021)\n",
      "Parameters: {'verbose': 10, 'oob_score': True, 'n_jobs': -1, 'n_estimators': 195, 'min_samples_split': 20, 'min_samples_leaf': 100, 'max_features': 50, 'criterion': 'mse', 'bootstrap': True}\n",
      "\n",
      "Model with rank: 3\n",
      "Mean validation score: 0.022 (std: 0.018)\n",
      "Parameters: {'verbose': 10, 'oob_score': True, 'n_jobs': -1, 'n_estimators': 147, 'min_samples_split': 200, 'min_samples_leaf': 100, 'max_features': 100, 'criterion': 'mse', 'bootstrap': True}\n",
      "\n"
     ]
    }
   ],
   "source": [
    "report(random_search.cv_results_)\n",
    "# Model with rank: 1\n",
    "# Mean validation score: 0.026 (std: 0.010)\n",
    "# Parameters: {'verbose': 10, 'oob_score': True, 'n_jobs': -1, 'n_estimators': 81, 'min_samples_split': 200, 'min_samples_leaf': 10, 'max_features': 150, 'criterion': 'mse', 'bootstrap': True}\n",
    "\n",
    "# Model with rank: 2\n",
    "# Mean validation score: 0.025 (std: 0.014)\n",
    "# Parameters: {'verbose': 10, 'oob_score': True, 'n_jobs': -1, 'n_estimators': 159, 'min_samples_split': 20, 'min_samples_leaf': 100, 'max_features': 150, 'criterion': 'mse', 'bootstrap': True}\n",
    "\n",
    "# Model with rank: 3\n",
    "# Mean validation score: 0.025 (std: 0.014)\n",
    "# Parameters: {'verbose': 10, 'oob_score': True, 'n_jobs': -1, 'n_estimators': 186, 'min_samples_split': 200, 'min_samples_leaf': 100, 'max_features': 100, 'criterion': 'mse', 'bootstrap': True}"
   ]
  },
  {
   "cell_type": "markdown",
   "metadata": {},
   "source": [
    "# take best hyperparams from report"
   ]
  },
  {
   "cell_type": "code",
   "execution_count": 12,
   "metadata": {
    "ExecuteTime": {
     "end_time": "2018-03-06T23:04:23.326752Z",
     "start_time": "2018-03-06T22:57:22.199539Z"
    }
   },
   "outputs": [
    {
     "name": "stderr",
     "output_type": "stream",
     "text": [
      "/home/justin/anaconda3/lib/python3.6/site-packages/ipykernel_launcher.py:12: DataConversionWarning: A column-vector y was passed when a 1d array was expected. Please change the shape of y to (n_samples,), for example using ravel().\n",
      "  if sys.path[0] == '':\n"
     ]
    },
    {
     "data": {
      "text/plain": [
       "['/home/justin/all_data/lendingclub/model_dump/mean_stddev_0.2.2_all_train.pkl']"
      ]
     },
     "execution_count": 12,
     "metadata": {},
     "output_type": "execute_result"
    }
   ],
   "source": [
    "regr = RandomForestRegressor(\n",
    "    n_estimators=154,\n",
    "    random_state=0,\n",
    "    max_features=min(standardized.shape[1],50),\n",
    "    min_samples_split=200,\n",
    "    min_samples_leaf=10,\n",
    "    n_jobs=-1,\n",
    "    oob_score=True,\n",
    "    bootstrap=True,\n",
    "    criterion='mse',\n",
    ")\n",
    "regr.fit(standardized, eval_cols)\n",
    "# dump the model\n",
    "joblib.dump(regr, f'{datapath}{platform}/model_dump/standardized_{regr_version}_{type_model}.pkl')\n",
    "joblib.dump((mean_series, std_dev_series), f'{datapath}{platform}/model_dump/mean_stddev_{regr_version}_{type_model}.pkl')"
   ]
  },
  {
   "cell_type": "code",
   "execution_count": 13,
   "metadata": {
    "ExecuteTime": {
     "end_time": "2018-03-06T23:04:53.903028Z",
     "start_time": "2018-03-06T23:04:23.328262Z"
    }
   },
   "outputs": [
    {
     "data": {
      "text/plain": [
       "0.18549187491311636"
      ]
     },
     "execution_count": 13,
     "metadata": {},
     "output_type": "execute_result"
    }
   ],
   "source": [
    "regr.score(standardized, eval_cols)"
   ]
  },
  {
   "cell_type": "code",
   "execution_count": 14,
   "metadata": {
    "ExecuteTime": {
     "end_time": "2018-03-06T23:07:33.308013Z",
     "start_time": "2018-03-06T23:07:33.083267Z"
    }
   },
   "outputs": [
    {
     "name": "stdout",
     "output_type": "stream",
     "text": [
      "0.2.2_ctest.pkl                  nonstandardized_0.2.2_ctest.pkl\r\n",
      "mean_stddev_0.2.2_all_train.pkl  standardized_0.2.2_all_train.pkl\r\n",
      "mean_stddev_0.2.2_ctest.pkl      standardized_0.2.2_ctest.pkl\r\n"
     ]
    }
   ],
   "source": [
    "ls /home/justin/all_data/lendingclub/model_dump/"
   ]
  },
  {
   "cell_type": "markdown",
   "metadata": {
    "heading_collapsed": true
   },
   "source": [
    "# non standardized regressor"
   ]
  },
  {
   "cell_type": "code",
   "execution_count": 10,
   "metadata": {
    "ExecuteTime": {
     "end_time": "2018-03-06T02:31:01.905557Z",
     "start_time": "2018-03-06T02:30:19.003038Z"
    },
    "hidden": true
   },
   "outputs": [
    {
     "name": "stderr",
     "output_type": "stream",
     "text": [
      "/home/justin/anaconda3/lib/python3.6/site-packages/ipykernel_launcher.py:12: DataConversionWarning: A column-vector y was passed when a 1d array was expected. Please change the shape of y to (n_samples,), for example using ravel().\n",
      "  if sys.path[0] == '':\n"
     ]
    },
    {
     "data": {
      "text/plain": [
       "['/home/justin/all_data/lendingclub/model_dump/mean_stddev_0.2.2_ctest.pkl']"
      ]
     },
     "execution_count": 10,
     "metadata": {},
     "output_type": "execute_result"
    }
   ],
   "source": [
    "regr = RandomForestRegressor(\n",
    "    n_estimators=81,\n",
    "    random_state=0,\n",
    "    max_features=min(standardized.shape[1],150),\n",
    "    min_samples_split=200,\n",
    "    min_samples_leaf=10,\n",
    "    n_jobs=-1,\n",
    "    oob_score=True,\n",
    "    bootstrap=True,\n",
    "    criterion='mse',\n",
    ")\n",
    "regr.fit(loan_info, eval_cols)\n",
    "# dump the model\n",
    "joblib.dump(regr, f'{datapath}{platform}/model_dump/nonstandardized_{regr_version}_{type_model}.pkl')\n",
    "joblib.dump((mean_series, std_dev_series), f'{datapath}{platform}/model_dump/mean_stddev_{regr_version}_{type_model}.pkl')"
   ]
  },
  {
   "cell_type": "code",
   "execution_count": 15,
   "metadata": {
    "ExecuteTime": {
     "end_time": "2018-03-06T02:31:30.735794Z",
     "start_time": "2018-03-06T02:31:28.370129Z"
    },
    "hidden": true
   },
   "outputs": [
    {
     "data": {
      "text/plain": [
       "0.17217201887632605"
      ]
     },
     "execution_count": 15,
     "metadata": {},
     "output_type": "execute_result"
    }
   ],
   "source": [
    "regr.score(loan_info, eval_cols)"
   ]
  },
  {
   "cell_type": "code",
   "execution_count": 9,
   "metadata": {
    "ExecuteTime": {
     "end_time": "2018-03-06T02:10:30.423071Z",
     "start_time": "2018-03-06T02:10:30.399901Z"
    },
    "hidden": true
   },
   "outputs": [],
   "source": [
    "now = time.strftime(\"%Y_%m_%d_%Hh_%Mm_%Ss\")\n",
    "# info to stick in detailed dataframe describing each model\n",
    "model_info = {'model_version': regr_version,\n",
    "              'target': 'npv_roi_7',\n",
    "              'weights': 'None',\n",
    "              'algo_model': 'RF_regr',\n",
    "              'hyperparams': \"bootstrap=True, criterion='mse', max_depth=None, max_features=150, max_leaf_nodes=None, min_impurity_decrease=0.0, min_impurity_split=None, min_samples_leaf=10, min_samples_split=200, min_weight_fraction_leaf=0.0, n_estimators=81, n_jobs=-1, oob_score=True, random_state=0, verbose=0, warm_start=False\",\n",
    "              'cost_func': 'sklearn default, which I think is mse',\n",
    "              'useful_notes': 'R2 score of 0.1667047 (regr.score())',\n",
    "              'date': now}\n",
    "\n",
    "model_info_df = pd.DataFrame(model_info, index = [regr_version])"
   ]
  },
  {
   "cell_type": "code",
   "execution_count": 10,
   "metadata": {
    "ExecuteTime": {
     "end_time": "2018-03-06T02:10:37.616949Z",
     "start_time": "2018-03-06T02:10:37.585452Z"
    },
    "hidden": true
   },
   "outputs": [],
   "source": [
    "store.open()\n",
    "store['model_info'] = model_info_df\n",
    "store.close()"
   ]
  },
  {
   "cell_type": "code",
   "execution_count": 11,
   "metadata": {
    "ExecuteTime": {
     "end_time": "2018-03-06T02:10:53.265767Z",
     "start_time": "2018-03-06T02:10:53.250405Z"
    },
    "hidden": true
   },
   "outputs": [],
   "source": [
    "# store.open()\n",
    "# model_info = store['model_info']\n",
    "# model_info.ix[regr_version,:] = model_info_df.values\n",
    "# model_info.sort_index(inplace=True)\n",
    "# store.append(\n",
    "#             'model_info',\n",
    "#             model_info_df,\n",
    "#             data_columns=True,\n",
    "#             index=True,\n",
    "#             append=False,\n",
    "# )\n",
    "# store.close()"
   ]
  },
  {
   "cell_type": "markdown",
   "metadata": {},
   "source": [
    "# Examine performance on test set"
   ]
  },
  {
   "cell_type": "code",
   "execution_count": 8,
   "metadata": {
    "ExecuteTime": {
     "end_time": "2018-03-06T02:39:45.291504Z",
     "start_time": "2018-03-06T02:39:38.301154Z"
    }
   },
   "outputs": [],
   "source": [
    "store.open()\n",
    "test = store['ctest']\n",
    "train = store['ctrain']\n",
    "if type_model == 'ctest':\n",
    "    std_dev = train.std()\n",
    "    to_drop = std_dev[std_dev == 0].index.values\n",
    "    train.drop(to_drop, axis=1, inplace=True)\n",
    "    test.drop(to_drop, axis=1, inplace=True)\n",
    "    \n",
    "loan_npv_rois = store['loan_npv_rois']\n",
    "default_series = store['issue_d_id_mats']['target_loose']\n",
    "results = store['results']\n",
    "store.close()"
   ]
  },
  {
   "cell_type": "code",
   "execution_count": 12,
   "metadata": {
    "ExecuteTime": {
     "end_time": "2018-03-06T02:40:23.284826Z",
     "start_time": "2018-03-06T02:40:23.236901Z"
    }
   },
   "outputs": [],
   "source": [
    "regr_version = '0.2.2'\n",
    "# regr = joblib.load(f'{datapath}{platform}/model_dump/standardized_{regr_version}_{type_model}.pkl')\n",
    "regr_std = joblib.load(f'{datapath}{platform}/model_dump/standardized_{regr_version}_{type_model}.pkl')\n",
    "mean_series, std_dev_series = joblib.load(f'{datapath}{platform}/model_dump/mean_stddev_{regr_version}_{type_model}.pkl')"
   ]
  },
  {
   "cell_type": "code",
   "execution_count": 10,
   "metadata": {
    "ExecuteTime": {
     "end_time": "2018-03-06T02:39:58.486133Z",
     "start_time": "2018-03-06T02:39:58.197309Z"
    }
   },
   "outputs": [],
   "source": [
    "test_std = (test-mean_series)/std_dev_series\n",
    "train_std = (train-mean_series)/std_dev_series"
   ]
  },
  {
   "cell_type": "code",
   "execution_count": 13,
   "metadata": {
    "ExecuteTime": {
     "end_time": "2018-03-06T02:40:28.431964Z",
     "start_time": "2018-03-06T02:40:25.904169Z"
    }
   },
   "outputs": [],
   "source": [
    "# test_yhat = regr.predict(test)\n",
    "# train_yhat = regr.predict(train)\n",
    "test_std_yhat = regr_std.predict(test_std)\n",
    "train_std_yhat = regr_std.predict(train_std)"
   ]
  },
  {
   "cell_type": "code",
   "execution_count": 14,
   "metadata": {
    "ExecuteTime": {
     "end_time": "2018-03-06T02:40:33.900697Z",
     "start_time": "2018-03-06T02:40:31.313073Z"
    }
   },
   "outputs": [
    {
     "name": "stdout",
     "output_type": "stream",
     "text": [
      "0.00974506745554\n",
      "0.17217376239\n"
     ]
    }
   ],
   "source": [
    "# print(regr.score(test, loan_npv_rois.loc[test.index].values))\n",
    "# print(regr.score(train, loan_npv_rois.loc[train.index].values))\n",
    "print(regr_std.score(test_std, loan_npv_rois.loc[test.index].values))\n",
    "print(regr_std.score(train_std, loan_npv_rois.loc[train.index].values))"
   ]
  },
  {
   "cell_type": "code",
   "execution_count": 14,
   "metadata": {
    "ExecuteTime": {
     "end_time": "2018-03-06T02:11:05.534536Z",
     "start_time": "2018-03-06T02:11:05.335342Z"
    }
   },
   "outputs": [],
   "source": [
    "# test_mse = mean_squared_error(test_yhat, loan_npv_rois.loc[test.index].values)\n",
    "# train_mse = mean_squared_error(train_yhat, loan_npv_rois.loc[train.index].values)"
   ]
  },
  {
   "cell_type": "code",
   "execution_count": 15,
   "metadata": {
    "ExecuteTime": {
     "end_time": "2018-03-06T02:41:02.886624Z",
     "start_time": "2018-03-06T02:41:02.867165Z"
    }
   },
   "outputs": [],
   "source": [
    "test_yhat_series = pd.Series(test_std_yhat, index = test.index)"
   ]
  },
  {
   "cell_type": "code",
   "execution_count": 16,
   "metadata": {
    "ExecuteTime": {
     "end_time": "2018-03-06T02:41:15.601192Z",
     "start_time": "2018-03-06T02:41:15.569861Z"
    }
   },
   "outputs": [],
   "source": [
    "def eval_models(trials, port_size, available_loans, regr, regr_version, test, loan_npv_rois,\n",
    "                default_series,test_yhat_series):\n",
    "    results = {}\n",
    "    pct_default = {}\n",
    "    test_copy = test.copy()\n",
    "    for trial in tqdm_notebook(np.arange(trials)):\n",
    "        loan_ids = np.random.choice(\n",
    "            test_copy.index.values, available_loans, replace=False)\n",
    "        loans_to_pick_from = test_copy.loc[loan_ids, :]\n",
    "        scores = test_yhat_series.loc[loan_ids].values\n",
    "        scores_series = pd.Series(dict(zip(loan_ids, scores)))\n",
    "        scores_series.sort_values(ascending=False, inplace=True)\n",
    "        picks = scores_series[:port_size].index.values\n",
    "        results[trial] = loan_npv_rois.loc[picks, :].mean().to_dict()\n",
    "        pct_default[trial] = (default_series.loc[picks].sum()) / port_size\n",
    "    pct_default_series = pd.Series(pct_default)\n",
    "    results_df = pd.DataFrame(results).T\n",
    "    results_df['pct_def'] = pct_default_series\n",
    "    return results_df"
   ]
  },
  {
   "cell_type": "code",
   "execution_count": 17,
   "metadata": {
    "ExecuteTime": {
     "end_time": "2018-03-06T02:44:07.431860Z",
     "start_time": "2018-03-06T02:41:47.612822Z"
    }
   },
   "outputs": [
    {
     "data": {
      "application/vnd.jupyter.widget-view+json": {
       "model_id": "8c4e98d2038a4d8a8ad495067d4c6abc",
       "version_major": 2,
       "version_minor": 0
      },
      "text/plain": [
       "A Jupyter Widget"
      ]
     },
     "metadata": {},
     "output_type": "display_data"
    },
    {
     "name": "stdout",
     "output_type": "stream",
     "text": [
      "\n"
     ]
    }
   ],
   "source": [
    "# as per done with baseline models, say 3000 loans available\n",
    "# , pick 900 of them\n",
    "trials = 30000\n",
    "port_size = 150\n",
    "available_loans = 500\n",
    "model_results = eval_models(trials, port_size, available_loans, regr_std, regr_version, test=test_std, loan_npv_rois=loan_npv_rois, default_series=default_series, test_yhat_series=test_yhat_series)"
   ]
  },
  {
   "cell_type": "code",
   "execution_count": 18,
   "metadata": {
    "ExecuteTime": {
     "end_time": "2018-03-06T02:44:07.456829Z",
     "start_time": "2018-03-06T02:44:07.433372Z"
    }
   },
   "outputs": [],
   "source": [
    "multi_index = []\n",
    "for col in model_results.columns.values:\n",
    "    multi_index.append((str(col),regr_version))\n",
    "append_results = model_results.copy()\n",
    "append_results.columns = pd.MultiIndex.from_tuples(multi_index, names = ['discount_rate', 'model'])    "
   ]
  },
  {
   "cell_type": "code",
   "execution_count": 19,
   "metadata": {
    "ExecuteTime": {
     "end_time": "2018-03-06T02:44:07.482095Z",
     "start_time": "2018-03-06T02:44:07.459285Z"
    }
   },
   "outputs": [],
   "source": [
    "multi_index_results = []\n",
    "for col in results.columns.values:\n",
    "    multi_index_results.append((str(col[0]), col[1]))\n",
    "results.columns = pd.MultiIndex.from_tuples(multi_index_results, names = ['discount_rate', 'model'])    "
   ]
  },
  {
   "cell_type": "code",
   "execution_count": 20,
   "metadata": {
    "ExecuteTime": {
     "end_time": "2018-03-06T02:44:07.511249Z",
     "start_time": "2018-03-06T02:44:07.484616Z"
    }
   },
   "outputs": [],
   "source": [
    "try:\n",
    "    results = results.join(append_results)\n",
    "except ValueError:\n",
    "    results.loc[:,append_results.columns] = append_results\n",
    "# results.sort_index(axis=1, inplace = True)"
   ]
  },
  {
   "cell_type": "code",
   "execution_count": 23,
   "metadata": {
    "ExecuteTime": {
     "end_time": "2018-03-06T17:58:05.495870Z",
     "start_time": "2018-03-06T17:58:05.443586Z"
    }
   },
   "outputs": [
    {
     "data": {
      "text/html": [
       "<div>\n",
       "<style scoped>\n",
       "    .dataframe tbody tr th:only-of-type {\n",
       "        vertical-align: middle;\n",
       "    }\n",
       "\n",
       "    .dataframe tbody tr th {\n",
       "        vertical-align: top;\n",
       "    }\n",
       "\n",
       "    .dataframe thead tr th {\n",
       "        text-align: left;\n",
       "    }\n",
       "</style>\n",
       "<table border=\"1\" class=\"dataframe\">\n",
       "  <thead>\n",
       "    <tr>\n",
       "      <th>discount_rate</th>\n",
       "      <th>0</th>\n",
       "      <th>pct_def</th>\n",
       "      <th>0</th>\n",
       "      <th>pct_def</th>\n",
       "      <th>0.07</th>\n",
       "      <th>pct_def</th>\n",
       "    </tr>\n",
       "    <tr>\n",
       "      <th>model</th>\n",
       "      <th>baseline</th>\n",
       "      <th>baseline</th>\n",
       "      <th>1.00001</th>\n",
       "      <th>1.00001</th>\n",
       "      <th>0.2.2</th>\n",
       "      <th>0.2.2</th>\n",
       "    </tr>\n",
       "  </thead>\n",
       "  <tbody>\n",
       "    <tr>\n",
       "      <th>count</th>\n",
       "      <td>30000.000000</td>\n",
       "      <td>30000.000000</td>\n",
       "      <td>30000.000000</td>\n",
       "      <td>30000.000000</td>\n",
       "      <td>30000.000000</td>\n",
       "      <td>30000.000000</td>\n",
       "    </tr>\n",
       "    <tr>\n",
       "      <th>mean</th>\n",
       "      <td>-0.059090</td>\n",
       "      <td>0.197007</td>\n",
       "      <td>-0.031466</td>\n",
       "      <td>0.069048</td>\n",
       "      <td>-0.027506</td>\n",
       "      <td>0.116026</td>\n",
       "    </tr>\n",
       "    <tr>\n",
       "      <th>std</th>\n",
       "      <td>0.018949</td>\n",
       "      <td>0.032410</td>\n",
       "      <td>0.010804</td>\n",
       "      <td>0.020435</td>\n",
       "      <td>0.014404</td>\n",
       "      <td>0.025727</td>\n",
       "    </tr>\n",
       "    <tr>\n",
       "      <th>min</th>\n",
       "      <td>-0.148132</td>\n",
       "      <td>0.066667</td>\n",
       "      <td>-0.086961</td>\n",
       "      <td>0.006667</td>\n",
       "      <td>-0.092307</td>\n",
       "      <td>0.026667</td>\n",
       "    </tr>\n",
       "    <tr>\n",
       "      <th>25%</th>\n",
       "      <td>-0.071569</td>\n",
       "      <td>0.173333</td>\n",
       "      <td>-0.038453</td>\n",
       "      <td>0.053333</td>\n",
       "      <td>-0.037009</td>\n",
       "      <td>0.100000</td>\n",
       "    </tr>\n",
       "    <tr>\n",
       "      <th>50%</th>\n",
       "      <td>-0.058625</td>\n",
       "      <td>0.193333</td>\n",
       "      <td>-0.030865</td>\n",
       "      <td>0.066667</td>\n",
       "      <td>-0.026875</td>\n",
       "      <td>0.113333</td>\n",
       "    </tr>\n",
       "    <tr>\n",
       "      <th>75%</th>\n",
       "      <td>-0.046024</td>\n",
       "      <td>0.220000</td>\n",
       "      <td>-0.023836</td>\n",
       "      <td>0.080000</td>\n",
       "      <td>-0.017538</td>\n",
       "      <td>0.133333</td>\n",
       "    </tr>\n",
       "    <tr>\n",
       "      <th>max</th>\n",
       "      <td>0.014950</td>\n",
       "      <td>0.333333</td>\n",
       "      <td>0.001349</td>\n",
       "      <td>0.160000</td>\n",
       "      <td>0.023947</td>\n",
       "      <td>0.220000</td>\n",
       "    </tr>\n",
       "  </tbody>\n",
       "</table>\n",
       "</div>"
      ],
      "text/plain": [
       "discount_rate             0       pct_def             0       pct_def  \\\n",
       "model              baseline      baseline       1.00001       1.00001   \n",
       "count          30000.000000  30000.000000  30000.000000  30000.000000   \n",
       "mean              -0.059090      0.197007     -0.031466      0.069048   \n",
       "std                0.018949      0.032410      0.010804      0.020435   \n",
       "min               -0.148132      0.066667     -0.086961      0.006667   \n",
       "25%               -0.071569      0.173333     -0.038453      0.053333   \n",
       "50%               -0.058625      0.193333     -0.030865      0.066667   \n",
       "75%               -0.046024      0.220000     -0.023836      0.080000   \n",
       "max                0.014950      0.333333      0.001349      0.160000   \n",
       "\n",
       "discount_rate          0.07       pct_def  \n",
       "model                 0.2.2         0.2.2  \n",
       "count          30000.000000  30000.000000  \n",
       "mean              -0.027506      0.116026  \n",
       "std                0.014404      0.025727  \n",
       "min               -0.092307      0.026667  \n",
       "25%               -0.037009      0.100000  \n",
       "50%               -0.026875      0.113333  \n",
       "75%               -0.017538      0.133333  \n",
       "max                0.023947      0.220000  "
      ]
     },
     "execution_count": 23,
     "metadata": {},
     "output_type": "execute_result"
    }
   ],
   "source": [
    "results.describe()"
   ]
  },
  {
   "cell_type": "code",
   "execution_count": 22,
   "metadata": {
    "ExecuteTime": {
     "end_time": "2018-03-06T02:44:58.081247Z",
     "start_time": "2018-03-06T02:44:58.037416Z"
    }
   },
   "outputs": [
    {
     "name": "stderr",
     "output_type": "stream",
     "text": [
      "/home/justin/anaconda3/lib/python3.6/site-packages/pandas/io/pytables.py:486: PerformanceWarning: \n",
      "your performance may suffer as PyTables will pickle object types that it cannot\n",
      "map directly to c-types [inferred_type->mixed,key->axis0_level1] [items->None]\n",
      "\n",
      "  self.put(key, value)\n",
      "/home/justin/anaconda3/lib/python3.6/site-packages/pandas/io/pytables.py:486: PerformanceWarning: \n",
      "your performance may suffer as PyTables will pickle object types that it cannot\n",
      "map directly to c-types [inferred_type->mixed,key->block0_items_level1] [items->None]\n",
      "\n",
      "  self.put(key, value)\n"
     ]
    }
   ],
   "source": [
    "store.open()\n",
    "store['results'] = results\n",
    "store.close()"
   ]
  },
  {
   "cell_type": "code",
   "execution_count": null,
   "metadata": {},
   "outputs": [],
   "source": []
  }
 ],
 "metadata": {
  "kernelspec": {
   "display_name": "Python 3",
   "language": "python",
   "name": "python3"
  },
  "language_info": {
   "codemirror_mode": {
    "name": "ipython",
    "version": 3
   },
   "file_extension": ".py",
   "mimetype": "text/x-python",
   "name": "python",
   "nbconvert_exporter": "python",
   "pygments_lexer": "ipython3",
   "version": "3.6.3"
  },
  "notify_time": "30",
  "varInspector": {
   "cols": {
    "lenName": 16,
    "lenType": 16,
    "lenVar": 40
   },
   "kernels_config": {
    "python": {
     "delete_cmd_postfix": "",
     "delete_cmd_prefix": "del ",
     "library": "var_list.py",
     "varRefreshCmd": "print(var_dic_list())"
    },
    "r": {
     "delete_cmd_postfix": ") ",
     "delete_cmd_prefix": "rm(",
     "library": "var_list.r",
     "varRefreshCmd": "cat(var_dic_list()) "
    }
   },
   "types_to_exclude": [
    "module",
    "function",
    "builtin_function_or_method",
    "instance",
    "_Feature"
   ],
   "window_display": false
  }
 },
 "nbformat": 4,
 "nbformat_minor": 2
}
