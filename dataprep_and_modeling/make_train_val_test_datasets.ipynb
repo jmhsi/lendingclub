{
 "cells": [
  {
   "cell_type": "markdown",
   "metadata": {},
   "source": [
    "# Make npv_rois first, then can run this"
   ]
  },
  {
   "cell_type": "code",
   "execution_count": null,
   "metadata": {},
   "outputs": [],
   "source": [
    "%matplotlib inline\n",
    "pd.set_option('display.max_rows',500)"
   ]
  },
  {
   "cell_type": "code",
   "execution_count": null,
   "metadata": {},
   "outputs": [],
   "source": [
    "import dir_constants as dc\n",
    "seed = 42"
   ]
  },
  {
   "cell_type": "code",
   "execution_count": null,
   "metadata": {},
   "outputs": [],
   "source": [
    "platform = 'lendingclub'\n",
    "\n",
    "store = pd.HDFStore(\n",
    "    dc.home_path+'/justin_tinkering/data_science/lendingclub/{0}_store.h5'.\n",
    "    format(platform),\n",
    "    append=True)\n",
    "loan_info = store['loan_info_clean']\n",
    "npv_rois = store['loan_npv_rois']\n",
    "store.close()"
   ]
  },
  {
   "cell_type": "code",
   "execution_count": null,
   "metadata": {},
   "outputs": [],
   "source": [
    "dont_keep_cols = [\n",
    "    'id',\n",
    "    'member_id',\n",
    "    'funded_amnt',\n",
    "    'installment_funded',\n",
    "    'emp_title',\n",
    "    #'issue_d',\n",
    "    'loan_status',\n",
    "    'pymnt_plan',\n",
    "    'fico_range_low',\n",
    "    'fico_range_high',\n",
    "    'initial_list_status',\n",
    "    'out_prncp',\n",
    "    'total_pymnt',\n",
    "    'total_pymnt_inv',\n",
    "    'total_rec_prncp',\n",
    "    'total_rec_int',\n",
    "    'total_rec_late_fee',\n",
    "    'recoveries',\n",
    "    'collection_recovery_fee',\n",
    "    'last_pymnt_d',\n",
    "    'last_pymnt_amnt',\n",
    "    'next_pymnt_d',\n",
    "    'last_credit_pull_d',\n",
    "    'last_fico_range_high',\n",
    "    'last_fico_range_low',\n",
    "    'policy_code',\n",
    "    'end_d',\n",
    "    #'line_history_m',\n",
    "    'line_history_y',\n",
    "    'months_paid',\n",
    "    'earliest_cr_line',\n",
    "    'sec_app_earliest_cr_line',\n",
    "#     'maturity_time',\n",
    "    'rem_to_be_paid',\n",
    "#     'maturity_paid',\n",
    "    'roi_simple',\n",
    "#     'target_strict',\n",
    "#     'target_loose',\n",
    "]"
   ]
  },
  {
   "cell_type": "code",
   "execution_count": null,
   "metadata": {},
   "outputs": [],
   "source": [
    "# first lets try and look at only loans with done status.\n",
    "loan_info = loan_info[loan_info['loan_status'].isin(['paid', 'defaulted', 'charged_off'])]\n",
    "npv_rois = npv_rois.loc[loan_info.index,:]"
   ]
  },
  {
   "cell_type": "code",
   "execution_count": null,
   "metadata": {},
   "outputs": [],
   "source": [
    "# examine what the loans I have \"look\" like\n",
    "loan_info['npv_roi_10'] = npv_rois[0.1]\n",
    "# somehow the npv rois higher seem unrealistic\n",
    "loan_info = loan_info[loan_info['npv_roi_10'] <= 0.9]\n",
    "# only take npv_rois that aren't null (although none should be null)\n",
    "loan_info = loan_info[loan_info['npv_roi_10'].notnull()]"
   ]
  },
  {
   "cell_type": "code",
   "execution_count": null,
   "metadata": {},
   "outputs": [],
   "source": [
    "paid = loan_info[loan_info['loan_status'] == 'paid']\n",
    "defaulted = loan_info[~loan_info['loan_status'].isin(['paid'])]"
   ]
  },
  {
   "cell_type": "code",
   "execution_count": null,
   "metadata": {},
   "outputs": [],
   "source": [
    "loan_info['npv_roi_10'].hist(bins=50)"
   ]
  },
  {
   "cell_type": "code",
   "execution_count": null,
   "metadata": {},
   "outputs": [],
   "source": [
    "keep_cols = [col for col in loan_info.columns.values if col not in dont_keep_cols]\n",
    "useless_cols = []\n",
    "for col in keep_cols:\n",
    "    if len(loan_info[col].value_counts(dropna=False))<=1:\n",
    "        useless_cols.append(col)\n",
    "keep_cols = [col for col in keep_cols if col not in useless_cols]"
   ]
  },
  {
   "cell_type": "code",
   "execution_count": null,
   "metadata": {},
   "outputs": [],
   "source": [
    "train, validate, test = np.split(\n",
    "    loan_info.sample(frac=1, random_state=seed),\n",
    "    [int(.7 * len(loan_info)),\n",
    "     int(.8 * len(loan_info))])"
   ]
  },
  {
   "cell_type": "code",
   "execution_count": null,
   "metadata": {},
   "outputs": [],
   "source": [
    "# save this loan_info set\n",
    "store.open()\n",
    "store['base_dataset_all_columns'] = loan_info\n",
    "store['base_dataset_filtered_columns'] = loan_info[keep_cols]\n",
    "store['train_all_columns'] = train\n",
    "store['train_filtered_columns'] = train[keep_cols]\n",
    "store['validate_all_columns'] = validate\n",
    "store['validate_filtered_columns'] = validate[keep_cols]\n",
    "store['test_all_columns'] = test\n",
    "store['test_filtered_columns'] = test[keep_cols]\n",
    "store.close()"
   ]
  },
  {
   "cell_type": "code",
   "execution_count": null,
   "metadata": {},
   "outputs": [],
   "source": []
  }
 ],
 "metadata": {
  "kernelspec": {
   "display_name": "Python 3",
   "language": "python",
   "name": "python3"
  },
  "language_info": {
   "codemirror_mode": {
    "name": "ipython",
    "version": 3
   },
   "file_extension": ".py",
   "mimetype": "text/x-python",
   "name": "python",
   "nbconvert_exporter": "python",
   "pygments_lexer": "ipython3",
   "version": "3.6.3"
  },
  "varInspector": {
   "cols": {
    "lenName": 16,
    "lenType": 16,
    "lenVar": 40
   },
   "kernels_config": {
    "python": {
     "delete_cmd_postfix": "",
     "delete_cmd_prefix": "del ",
     "library": "var_list.py",
     "varRefreshCmd": "print(var_dic_list())"
    },
    "r": {
     "delete_cmd_postfix": ") ",
     "delete_cmd_prefix": "rm(",
     "library": "var_list.r",
     "varRefreshCmd": "cat(var_dic_list()) "
    }
   },
   "types_to_exclude": [
    "module",
    "function",
    "builtin_function_or_method",
    "instance",
    "_Feature"
   ],
   "window_display": false
  }
 },
 "nbformat": 4,
 "nbformat_minor": 2
}
