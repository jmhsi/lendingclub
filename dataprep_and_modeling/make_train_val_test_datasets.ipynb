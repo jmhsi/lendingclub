{
 "cells": [
  {
   "cell_type": "markdown",
   "metadata": {},
   "source": [
    "# Make npv_rois first, then can run this"
   ]
  },
  {
   "cell_type": "code",

   "execution_count": 1,
   "metadata": {
    "ExecuteTime": {
     "end_time": "2018-03-06T00:59:03.643450Z",
     "start_time": "2018-03-06T00:59:03.624944Z"
    }
   },
   "outputs": [],
   "source": [
    "%matplotlib inline\n",
    "pd.set_option('display.max_columns',500)"

   "execution_count": null,
   "metadata": {},
   "outputs": [],
   "source": [
    "%matplotlib inline\n",
    "pd.set_option('display.max_rows',500)"
2
   ]
  },
  {
   "cell_type": "code",

   "execution_count": 2,
   "metadata": {
    "ExecuteTime": {
     "end_time": "2018-03-06T00:59:04.166171Z",
     "start_time": "2018-03-06T00:59:04.152571Z"
    }
   },

   "execution_count": null,
   "metadata": {},
2
   "outputs": [],
   "source": [
    "import dir_constants as dc\n",
    "seed = 42"
   ]
  },
  {
   "cell_type": "code",

   "execution_count": 3,
   "metadata": {
    "ExecuteTime": {
     "end_time": "2018-03-06T00:59:21.054320Z",
     "start_time": "2018-03-06T00:59:04.652187Z"
    }
   },
   "outputs": [],
   "source": [
    "store_path=f'{datapath}lendingclub/lendingclub.h5'\n",
    "store = pd.HDFStore(store_path)\n",
    "loan_info = store['clean_loan_info']\n",
    "npv_rois = store['loan_npv_rois']\n",
    "issue_d_id_mats = store['issue_d_id_mats']\n",
    "li_statuses = store['loan_info_for_statuses']\n",
    "store.close()"
   ]
  },
  {
   "cell_type": "code",
   "execution_count": 4,
   "metadata": {
    "ExecuteTime": {
     "end_time": "2018-03-06T00:59:21.398569Z",
     "start_time": "2018-03-06T00:59:21.055978Z"
    }
   },
   "outputs": [
    {
     "data": {
      "text/plain": [
       "Series([], Name: id, dtype: int64)"
      ]
     },
     "execution_count": 4,
     "metadata": {},
     "output_type": "execute_result"
    }
   ],
   "source": [
    "loan_info[loan_info.duplicated('id')]['id']"
   ]
  },
  {
   "cell_type": "markdown",
   "metadata": {},
   "source": [
    "# split data similar to how I'm using it, training on old stuff and\n",
    "# testing on newer stuff"
   ]
  },
  {
   "cell_type": "code",
   "execution_count": 5,
   "metadata": {
    "ExecuteTime": {
     "end_time": "2018-03-06T00:59:21.441035Z",
     "start_time": "2018-03-06T00:59:21.400290Z"
    }
   },
   "outputs": [],
   "source": [
    "nearly_done = issue_d_id_mats[(issue_d_id_mats['maturity_paid'] > .9) & (issue_d_id_mats['maturity_time'] > .9)]"
   ]
  },
  {
   "cell_type": "code",
   "execution_count": 6,
   "metadata": {
    "ExecuteTime": {
     "end_time": "2018-03-06T00:59:21.473129Z",
     "start_time": "2018-03-06T00:59:21.442690Z"
    }
   },
   "outputs": [],
   "source": [
    "# take last quarter of nearly done as test/valid, take all loans with end_d before first month of last quarter to train on\n",
    "cutoff_issue_d = nearly_done['issue_d'].max() + pd.DateOffset(months=-3)\n",
    "test_valid = nearly_done[nearly_done['issue_d'] >= cutoff_issue_d]\n",
    "train = nearly_done[nearly_done['end_d'] < cutoff_issue_d]"
   ]
  },
  {
   "cell_type": "code",
   "execution_count": 7,
   "metadata": {
    "ExecuteTime": {
     "end_time": "2018-03-06T00:59:22.137113Z",
     "start_time": "2018-03-06T00:59:21.475207Z"
    }
   },
   "outputs": [],
   "source": [
    "ctest_id = np.random.choice(test_valid.index.values, int(len(test_valid)/2), replace=False)\n",
    "cvalid_id = [ids for ids in test_valid.index.values if ids not in ctest_id]\n",
    "ctrain_id = train.index.values\n",
    "assert len(set(ctest_id).intersection(set(cvalid_id))) == 0\n",
    "assert len(set(ctest_id).intersection(set(ctrain_id))) == 0\n",
    "assert len(set(ctrain_id).intersection(set(cvalid_id))) == 0"
   ]
  },
  {
   "cell_type": "code",
   "execution_count": 8,
   "metadata": {
    "ExecuteTime": {
     "end_time": "2018-03-06T00:59:23.156848Z",
     "start_time": "2018-03-06T00:59:22.139092Z"
    }
   },
   "outputs": [],
   "source": [
    "ctest = loan_info[loan_info['id'].isin(ctest_id)]\n",
    "cvalid = loan_info[loan_info['id'].isin(cvalid_id)]\n",
    "ctrain = loan_info[loan_info['id'].isin(ctrain_id)]\n",
    "ctest_roi = npv_rois.loc[ctest_id,:]\n",
    "cvalid_roi = npv_rois.loc[cvalid_id,:]\n",
    "ctrain_roi = npv_rois.loc[ctrain_id,:]\n",
    "assert len(ctest_id) == ctest.shape[0]\n",
    "assert len(cvalid_id) == cvalid.shape[0]\n",
    "assert len(ctrain_id) == ctrain.shape[0]\n",
    "assert len(ctest_roi) == ctest.shape[0]\n",
    "assert len(cvalid_roi) == cvalid.shape[0]\n",
    "assert len(ctrain_roi) == ctrain.shape[0]"
   ]
  },
  {
   "cell_type": "code",
   "execution_count": 9,
   "metadata": {
    "ExecuteTime": {
     "end_time": "2018-03-06T00:59:23.427509Z",
     "start_time": "2018-03-06T00:59:23.158291Z"
    }
   },
   "outputs": [],
   "source": [
    "ctest.set_index('id', inplace=True)\n",
    "ctest = ctest.loc[ctest_id,:]\n",
    "cvalid.set_index('id', inplace=True)\n",
    "cvalid = cvalid.loc[cvalid_id,:]\n",
    "ctrain.set_index('id', inplace=True)\n",
    "ctrain = ctrain.loc[ctrain_id,:]"
   ]
  },
  {
   "cell_type": "markdown",
   "metadata": {
    "ExecuteTime": {
     "end_time": "2018-03-04T02:08:27.538820Z",
     "start_time": "2018-03-04T02:08:27.024383Z"
    }
   },
   "source": [
    "# get ids for all_train"
   ]
  },
  {
   "cell_type": "code",
   "execution_count": 10,
   "metadata": {
    "ExecuteTime": {
     "end_time": "2018-03-06T00:59:27.620932Z",
     "start_time": "2018-03-06T00:59:27.001492Z"
    }
   },
   "outputs": [],
   "source": [
    "done_statuses = ['Charged Off', 'Fully Paid', 'Default']\n",
    "all_train_ids = li_statuses[li_statuses['loan_status'].isin(done_statuses) | (li_statuses['maturity_paid'] > .9)]['id'].values"
   ]
  },
  {
   "cell_type": "code",
   "execution_count": 11,
   "metadata": {
    "ExecuteTime": {
     "end_time": "2018-03-06T00:59:32.641407Z",
     "start_time": "2018-03-06T00:59:29.593261Z"
    }
   },
   "outputs": [],
   "source": [
    "loan_info.set_index('id', inplace=True)\n",
    "loan_info = loan_info.loc[all_train_ids, :]"
   ]
  },
  {
   "cell_type": "code",
   "execution_count": 12,
   "metadata": {
    "ExecuteTime": {
     "end_time": "2018-03-06T00:59:33.920097Z",
     "start_time": "2018-03-06T00:59:33.740756Z"
    }
   },
   "outputs": [],
   "source": [
    "loan_info_roi = npv_rois.loc[all_train_ids,:]"
   ]
  },
  {
   "cell_type": "markdown",
   "metadata": {},
   "source": [
    "# save"
   ]
  },
  {
   "cell_type": "code",
   "execution_count": 13,
   "metadata": {
    "ExecuteTime": {
     "end_time": "2018-03-06T00:59:38.100942Z",
     "start_time": "2018-03-06T00:59:36.515063Z"
    }
   },
   "outputs": [],
   "source": [
    "store.open()\n",
    "store['ctest'] = ctest\n",
    "store['ctest_roi'] = ctest_roi\n",
    "store['cvalid'] = cvalid\n",
    "store['cvalid_roi'] = cvalid_roi\n",
    "store['ctrain'] = ctrain\n",
    "store['ctrain_roi'] = ctrain_roi\n",
    "store['all_train'] = loan_info\n",
    "store['all_train_roi'] = loan_info_roi\n",

   "execution_count": null,
   "metadata": {},
   "outputs": [],
   "source": [
    "platform = 'lendingclub'\n",
    "\n",
    "store = pd.HDFStore(\n",
    "    dc.home_path+'/justin_tinkering/data_science/lendingclub/{0}_store.h5'.\n",
    "    format(platform),\n",
    "    append=True)\n",
    "loan_info = store['loan_info_clean']\n",
    "npv_rois = store['loan_npv_rois']\n",
2
    "store.close()"
   ]
  },
  {
   "cell_type": "code",
   "execution_count": null,
   "metadata": {},
   "outputs": [],

   "source": []
  },
  {
   "cell_type": "code",
   "execution_count": null,
   "metadata": {},
   "outputs": [],
   "source": []
  },
  {
   "cell_type": "code",
   "execution_count": null,
   "metadata": {},
   "outputs": [],
   "source": []
  },
  {
   "cell_type": "code",
   "execution_count": null,
   "metadata": {},
   "outputs": [],
   "source": []
  },
  {
   "cell_type": "code",
   "execution_count": null,
   "metadata": {},
   "outputs": [],

2
   "source": [
    "dont_keep_cols = [\n",
    "    'id',\n",
    "    'member_id',\n",
    "    'funded_amnt',\n",
    "    'installment_funded',\n",
    "    'emp_title',\n",
    "    #'issue_d',\n",
    "    'loan_status',\n",
    "    'pymnt_plan',\n",
    "    'fico_range_low',\n",
    "    'fico_range_high',\n",
    "    'initial_list_status',\n",
    "    'out_prncp',\n",
    "    'total_pymnt',\n",
    "    'total_pymnt_inv',\n",
    "    'total_rec_prncp',\n",
    "    'total_rec_int',\n",
    "    'total_rec_late_fee',\n",
    "    'recoveries',\n",
    "    'collection_recovery_fee',\n",
    "    'last_pymnt_d',\n",
    "    'last_pymnt_amnt',\n",
    "    'next_pymnt_d',\n",
    "    'last_credit_pull_d',\n",
    "    'last_fico_range_high',\n",
    "    'last_fico_range_low',\n",
    "    'policy_code',\n",
    "    'end_d',\n",
    "    #'line_history_m',\n",
    "    'line_history_y',\n",
    "    'months_paid',\n",
    "    'earliest_cr_line',\n",
    "    'sec_app_earliest_cr_line',\n",
    "#     'maturity_time',\n",
    "    'rem_to_be_paid',\n",
    "#     'maturity_paid',\n",
    "    'roi_simple',\n",
    "#     'target_strict',\n",
    "#     'target_loose',\n",
    "]"
   ]
  },
  {
   "cell_type": "code",
   "execution_count": null,
   "metadata": {},
   "outputs": [],
   "source": [
    "# first lets try and look at only loans with done status.\n",
    "loan_info = loan_info[loan_info['loan_status'].isin(['paid', 'defaulted', 'charged_off'])]\n",
    "npv_rois = npv_rois.loc[loan_info.index,:]"
   ]
  },
  {
   "cell_type": "code",
   "execution_count": null,
   "metadata": {},
   "outputs": [],
   "source": [
    "# examine what the loans I have \"look\" like\n",
    "loan_info['npv_roi_10'] = npv_rois[0.1]\n",
    "# somehow the npv rois higher seem unrealistic\n",
    "loan_info = loan_info[loan_info['npv_roi_10'] <= 0.9]\n",
    "# only take npv_rois that aren't null (although none should be null)\n",
    "loan_info = loan_info[loan_info['npv_roi_10'].notnull()]"
   ]
  },
  {
   "cell_type": "code",
   "execution_count": null,
   "metadata": {},
   "outputs": [],
   "source": [
    "paid = loan_info[loan_info['loan_status'] == 'paid']\n",
    "defaulted = loan_info[~loan_info['loan_status'].isin(['paid'])]"
   ]
  },
  {
   "cell_type": "code",
   "execution_count": null,
   "metadata": {},
   "outputs": [],
   "source": [
    "loan_info['npv_roi_10'].hist(bins=50)"
   ]
  },
  {
   "cell_type": "code",
   "execution_count": null,
   "metadata": {},
   "outputs": [],
   "source": [
    "keep_cols = [col for col in loan_info.columns.values if col not in dont_keep_cols]\n",
    "useless_cols = []\n",
    "for col in keep_cols:\n",
    "    if len(loan_info[col].value_counts(dropna=False))<=1:\n",
    "        useless_cols.append(col)\n",
    "keep_cols = [col for col in keep_cols if col not in useless_cols]"
   ]
  },
  {
   "cell_type": "code",
   "execution_count": null,
   "metadata": {},
   "outputs": [],
   "source": [
    "train, validate, test = np.split(\n",
    "    loan_info.sample(frac=1, random_state=seed),\n",
    "    [int(.7 * len(loan_info)),\n",
    "     int(.8 * len(loan_info))])"
   ]
  },
  {
   "cell_type": "code",
   "execution_count": null,
   "metadata": {},
   "outputs": [],
   "source": [
    "# save this loan_info set\n",
    "store.open()\n",
    "store['base_dataset_all_columns'] = loan_info\n",
    "store['base_dataset_filtered_columns'] = loan_info[keep_cols]\n",
    "store['train_all_columns'] = train\n",
    "store['train_filtered_columns'] = train[keep_cols]\n",
    "store['validate_all_columns'] = validate\n",
    "store['validate_filtered_columns'] = validate[keep_cols]\n",
    "store['test_all_columns'] = test\n",
    "store['test_filtered_columns'] = test[keep_cols]\n",
    "store.close()"
   ]
  },
  {
   "cell_type": "code",
   "execution_count": null,
   "metadata": {},
   "outputs": [],
   "source": []
  }
 ],
 "metadata": {
  "kernelspec": {
   "display_name": "Python 3",
   "language": "python",
   "name": "python3"
  },
  "language_info": {
   "codemirror_mode": {
    "name": "ipython",
    "version": 3
   },
   "file_extension": ".py",
   "mimetype": "text/x-python",
   "name": "python",
   "nbconvert_exporter": "python",
   "pygments_lexer": "ipython3",
   "version": "3.6.3"
  },
  "varInspector": {
   "cols": {
    "lenName": 16,
    "lenType": 16,
    "lenVar": 40
   },
   "kernels_config": {
    "python": {
     "delete_cmd_postfix": "",
     "delete_cmd_prefix": "del ",
     "library": "var_list.py",
     "varRefreshCmd": "print(var_dic_list())"
    },
    "r": {
     "delete_cmd_postfix": ") ",
     "delete_cmd_prefix": "rm(",
     "library": "var_list.r",
     "varRefreshCmd": "cat(var_dic_list()) "
    }
   },
   "types_to_exclude": [
    "module",
    "function",
    "builtin_function_or_method",
    "instance",
    "_Feature"
   ],
   "window_display": false
  }
 },
 "nbformat": 4,
 "nbformat_minor": 2
}
