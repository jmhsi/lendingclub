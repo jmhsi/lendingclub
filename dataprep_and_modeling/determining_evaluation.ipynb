{
 "cells": [
  {
   "cell_type": "code",
   "execution_count": 1,
   "metadata": {
    "ExecuteTime": {
     "end_time": "2018-11-13T11:47:08.018539Z",
     "start_time": "2018-11-13T11:47:07.994747Z"
    }
   },
   "outputs": [
    {
     "name": "stdout",
     "output_type": "stream",
     "text": [
      "The autoreload extension is already loaded. To reload it, use:\n",
      "  %reload_ext autoreload\n"
     ]
    }
   ],
   "source": [
    "%load_ext autoreload\n",
    "%autoreload 2\n",
    "%matplotlib inline"
   ]
  },
  {
   "cell_type": "code",
   "execution_count": 2,
   "metadata": {
    "ExecuteTime": {
     "end_time": "2018-11-13T11:47:09.022571Z",
     "start_time": "2018-11-13T11:47:08.797695Z"
    }
   },
   "outputs": [],
   "source": [
    "import dir_constants as dc\n",
    "from tqdm import tqdm\n",
    "from j_utils import munging as mg\n",
    "from j_utils import eval_results as er\n",
    "import lc_utils\n",
    "# from fastai.structured import *\n",
    "\n",
    "pd.options.display.max_columns = 999\n",
    "# pd.options.display.max_rows = 999\n",
    "pd.options.display.max_seq_items = None\n",
    "# np.set_printoptions(threshold=100)"
   ]
  },
  {
   "cell_type": "code",
   "execution_count": 3,
   "metadata": {
    "ExecuteTime": {
     "end_time": "2018-11-13T11:47:12.953449Z",
     "start_time": "2018-11-13T11:47:12.935503Z"
    }
   },
   "outputs": [],
   "source": [
    "PATH = dc.data_path\n",
    "project = 'lendingclub'\n",
    "fname_base_loan = 'base_loan_info.fth'\n",
    "fname_eval_loan = 'eval_loan_info.fth'\n",
    "fname_str_loan = 'str_loan_info.fth'\n",
    "fname_scl_pmt = 'scaled_pmt_hist.fth'\n",
    "data_path = f'{PATH}{project}'"
   ]
  },
  {
   "cell_type": "code",
   "execution_count": 4,
   "metadata": {
    "ExecuteTime": {
     "end_time": "2018-11-13T11:47:49.821910Z",
     "start_time": "2018-11-13T11:47:46.576521Z"
    }
   },
   "outputs": [],
   "source": [
    "# load in and drop fico low\n",
    "base_loan_info = pd.read_feather(f'{data_path}/base_loan_info.fth')\n",
    "base_loan_info.drop('fico_range_low', axis=1, inplace=True)\n",
    "eval_loan_info = pd.read_feather(f'{data_path}/eval_loan_info.fth')\n",
    "str_loan_info = pd.read_feather(f'{data_path}/str_loan_info.fth')\n",
    "# base_loan_info = pd.read_feather(f'{data_path}/base_loan_info_w_newfeats.fth')"
   ]
  },
  {
   "cell_type": "code",
   "execution_count": 6,
   "metadata": {
    "ExecuteTime": {
     "end_time": "2018-11-13T11:49:30.506317Z",
     "start_time": "2018-11-13T11:49:30.342072Z"
    }
   },
   "outputs": [
    {
     "name": "stdout",
     "output_type": "stream",
     "text": [
      "(2003915, 102)\n",
      "(2003915, 107)\n"
     ]
    }
   ],
   "source": [
    "print(base_loan_info.shape)\n",
    "lc_utils.add_custom_lc_features(base_loan_info)\n",
    "print(base_loan_info.shape)"
   ]
  },
  {
   "cell_type": "markdown",
   "metadata": {},
   "source": [
    "```\n",
    "In this notebook I want to determine how I should evaluate models. Previously, I trained regressors on data to predict a npv_return on loans.\n",
    "Things I want to determine:\n",
    "1) Should I use ranking as a target? e.g. see loans in a batch, rank loans by known return, and then have model try and be good at ranking loans within batches?\n",
    "1a) The final loan selection should probably determine a rank and regress a return, so we can still select a minimum score threshold that a loan must have a predicted return greater than before investing in it.\n",
    "2) I want to do some sort of testing to see whether I should actually be training on all my data. Compare the following scenarios where \"today\" is a chosen date in the past and \"prev\" is a date older than \"today\":\n",
    "    train on all past until today, test on everything in future (see how good past can predict future, pushing \"today\" more into the past will show us how good \"old models\" are still beyond their today)\n",
    "    train on all past until today, test on sequential 3-mo periods in future (can show us if predictions get steadily worse as we move further and further past \"today\")\n",
    "    train from prev until today, test on everything beyond today (see if its actually better to not use all the old data)\n",
    "    train from prev until today, test on sequential 3-mo periods in future (more distinction between train on all data or train on relevant data)\n",
    "```"
   ]
  },
  {
   "cell_type": "code",
   "execution_count": 7,
   "metadata": {
    "ExecuteTime": {
     "end_time": "2018-11-13T11:53:42.119676Z",
     "start_time": "2018-11-13T11:53:42.094077Z"
    }
   },
   "outputs": [],
   "source": [
    "def check_date_doneness(eval_loan_info):\n",
    "    '''Every month, get all loans that were issued on or before month and ended on or after month (all loans that were alive during month, DENOMINATOR) and how many of those loans are still alive today (NUMERATOR, filter by status not in ['paid', 'charged_off', 'defaulted])'''\n",
    "    dates = sorted(list(set(eval_loan_info['issue_d'].unique()).union(set(eval_loan_info['end_d'].unique()))))\n",
    "    res_dict = {}\n",
    "    for month in tqdm(dates):\n",
    "        alive_cond = (eval_loan_info['issue_d'] <= month) & (eval_loan_info['end_d'] >= month)\n",
    "        alive_in_month = eval_loan_info[alive_cond]\n",
    "        still_going_today = alive_in_month[~alive_in_month['loan_status'].isin(['paid', 'defaulted', 'charged_off'])]\n",
    "        res_dict[month] = len(still_going_today)/len(alive_in_month)\n",
    "    return pd.Series(res_dict)"
   ]
  },
  {
   "cell_type": "code",
   "execution_count": 8,
   "metadata": {
    "ExecuteTime": {
     "end_time": "2018-11-13T11:53:56.407557Z",
     "start_time": "2018-11-13T11:53:43.098083Z"
    },
    "scrolled": true
   },
   "outputs": [
    {
     "name": "stderr",
     "output_type": "stream",
     "text": [
      "100%|██████████| 138/138 [00:13<00:00,  3.80it/s]\n"
     ]
    },
    {
     "data": {
      "text/plain": [
       "<matplotlib.axes._subplots.AxesSubplot at 0x7fd47bad9240>"
      ]
     },
     "execution_count": 8,
     "metadata": {},
     "output_type": "execute_result"
    },
    {
     "data": {
      "image/png": "[encoded data removed]",
      "text/plain": [
       "<Figure size 432x288 with 1 Axes>"
      ]
     },
     "metadata": {},
     "output_type": "display_data"
    }
   ],
   "source": [
    "res = check_date_doneness(eval_loan_info=eval_loan_info)\n",
    "res.plot()"
   ]
  },
  {
   "cell_type": "code",
   "execution_count": 10,
   "metadata": {
    "ExecuteTime": {
     "end_time": "2018-11-13T11:54:45.734007Z",
     "start_time": "2018-11-13T11:54:45.696999Z"
    }
   },
   "outputs": [],
   "source": [
    "# oldness_thrsh = .9\n",
    "dates = sorted(list(set(eval_loan_info['issue_d'].unique()).union(set(eval_loan_info['end_d'].unique()))))\n",
    "start_date = '2011-01-01'"
   ]
  },
  {
   "cell_type": "code",
   "execution_count": 11,
   "metadata": {
    "ExecuteTime": {
     "end_time": "2018-11-13T11:54:52.454650Z",
     "start_time": "2018-11-13T11:54:50.452803Z"
    }
   },
   "outputs": [],
   "source": [
    "base_loan_info, eval_loan_info = lc_utils.split_out_traintestable_loans(base_loan_info, eval_loan_info)"
   ]
  },
  {
   "cell_type": "code",
   "execution_count": 12,
   "metadata": {
    "ExecuteTime": {
     "end_time": "2018-11-13T11:55:16.953977Z",
     "start_time": "2018-11-13T11:55:16.935781Z"
    }
   },
   "outputs": [
    {
     "name": "stdout",
     "output_type": "stream",
     "text": [
      "(1151168, 107) (1151168, 43)\n"
     ]
    }
   ],
   "source": [
    "print(base_loan_info.shape, eval_loan_info.shape)"
   ]
  },
  {
   "cell_type": "code",
   "execution_count": 10,
   "metadata": {
    "ExecuteTime": {
     "end_time": "2018-11-05T19:37:20.306522Z",
     "start_time": "2018-11-05T19:37:20.281386Z"
    }
   },
   "outputs": [],
   "source": [
    "def run_expt(today, oldest, valid_start, base_loan_info, eval_loan_info, valid_end=None):\n",
    "    train_ids = eval_loan_info[(eval_loan_info['issue_d'] <= today) & (eval_loan_info['issue_d'] >= oldest)]['id'].unique()\n",
    "    if valid_end:\n",
    "        valid_ids = eval_loan_info[(eval_loan_info['issue_d'] >= valid_start) & (eval_loan_info['issue_d'] <= valid_end)]['id'].unique()\n",
    "    else:\n",
    "        valid_ids = eval_loan_info[(eval_loan_info['issue_d'] >= valid_start)]['id'].unique()\n",
    "    train = base_loan_info[base_loan_info['id'].isin(train_ids)]\n",
    "    valid = base_loan_info[base_loan_info['id'].isin(valid_ids)]\n",
    "    \n",
    "    # setup for catboost\n",
    "    # a bit more data processing and nan handling for catboost\n",
    "    X_train = train.copy()\n",
    "    X_train, na_map = mg.get_medians_make_nullcols_fill_values(X_train, catboost=True)\n",
    "    \n",
    "    X_valid = valid.copy()\n",
    "    X_valid = mg.get_medians_make_nullcols_fill_values(valid, na_map, catboost=True)\n",
    "    return X_train, X_valid, na_map"
   ]
  },
  {
   "cell_type": "code",
   "execution_count": 11,
   "metadata": {
    "ExecuteTime": {
     "end_time": "2018-11-05T19:37:20.324863Z",
     "start_time": "2018-11-05T19:37:20.308105Z"
    },
    "scrolled": true
   },
   "outputs": [],
   "source": [
    "today = pd.to_datetime('2013-01-01')\n",
    "oldest = eval_loan_info['issue_d'].min()\n",
    "valid_start = pd.to_datetime(today) + pd.DateOffset(months=1)"
   ]
  },
  {
   "cell_type": "code",
   "execution_count": 12,
   "metadata": {
    "ExecuteTime": {
     "end_time": "2018-11-05T19:37:26.264721Z",
     "start_time": "2018-11-05T19:37:20.328106Z"
    }
   },
   "outputs": [
    {
     "name": "stderr",
     "output_type": "stream",
     "text": [
      "100%|██████████| 78/78 [00:00<00:00, 632.54it/s]"
     ]
    },
    {
     "name": "stdout",
     "output_type": "stream",
     "text": [
      "is_inc_v_joint col is likely of non-int/float dtype, filling with mode instead\n",
      "emp_length col is likely of non-int/float dtype, filling with mode instead\n"
     ]
    },
    {
     "name": "stderr",
     "output_type": "stream",
     "text": [
      "\n",
      "/home/justin/j_utils/munging.py:193: SettingWithCopyWarning: \n",
      "A value is trying to be set on a copy of a slice from a DataFrame.\n",
      "Try using .loc[row_indexer,col_indexer] = value instead\n",
      "\n",
      "See the caveats in the documentation: http://pandas.pydata.org/pandas-docs/stable/indexing.html#indexing-view-versus-copy\n",
      "  df[col] = df[col].fillna(nafill)\n"
     ]
    },
    {
     "name": "stdout",
     "output_type": "stream",
     "text": [
      "Was passed an na_map. Will fill accordingly (test or valid data?\n"
     ]
    }
   ],
   "source": [
    "ex = run_expt(today, oldest, valid_start, base_loan_info, eval_loan_info)"
   ]
  },
  {
   "cell_type": "code",
   "execution_count": 14,
   "metadata": {
    "ExecuteTime": {
     "end_time": "2018-11-05T19:38:23.847834Z",
     "start_time": "2018-11-05T19:38:21.428514Z"
    }
   },
   "outputs": [
    {
     "data": {
      "text/plain": [
       "False"
      ]
     },
     "execution_count": 14,
     "metadata": {},
     "output_type": "execute_result"
    }
   ],
   "source": [
    "mg.no_nulls(ex[0]) == mg.no_nulls(ex[1])"
   ]
  },
  {
   "cell_type": "code",
   "execution_count": 16,
   "metadata": {
    "ExecuteTime": {
     "end_time": "2018-11-05T19:38:40.648297Z",
     "start_time": "2018-11-05T19:38:40.398129Z"
    }
   },
   "outputs": [
    {
     "data": {
      "text/plain": [
       "True"
      ]
     },
     "execution_count": 16,
     "metadata": {},
     "output_type": "execute_result"
    }
   ],
   "source": [
    "mg.no_nulls(ex[0])"
   ]
  },
  {
   "cell_type": "code",
   "execution_count": 17,
   "metadata": {
    "ExecuteTime": {
     "end_time": "2018-11-05T19:38:47.503978Z",
     "start_time": "2018-11-05T19:38:45.380853Z"
    }
   },
   "outputs": [
    {
     "data": {
      "text/plain": [
       "False"
      ]
     },
     "execution_count": 17,
     "metadata": {},
     "output_type": "execute_result"
    }
   ],
   "source": [
    "mg.no_nulls(ex[1])"
   ]
  },
  {
   "cell_type": "code",
   "execution_count": 20,
   "metadata": {
    "ExecuteTime": {
     "end_time": "2018-11-05T19:39:21.575223Z",
     "start_time": "2018-11-05T19:39:19.408562Z"
    }
   },
   "outputs": [
    {
     "data": {
      "text/plain": [
       "['dti', 'dti_w_loan', 'delinq_to_monthly_inc']"
      ]
     },
     "execution_count": 20,
     "metadata": {},
     "output_type": "execute_result"
    }
   ],
   "source": [
    "has_nulls = [col for col in ex[1].columns if any(ex[1][col].isnull())]\n",
    "has_nulls"
   ]
  },
  {
   "cell_type": "code",
   "execution_count": 19,
   "metadata": {
    "ExecuteTime": {
     "end_time": "2018-11-05T19:39:13.917998Z",
     "start_time": "2018-11-05T19:39:13.898552Z"
    },
    "scrolled": true
   },
   "outputs": [
    {
     "data": {
      "text/plain": [
       "{'acc_open_past_24_mths': 3.0,\n",
       " 'all_util': 0,\n",
       " 'annual_inc_joint': 0,\n",
       " 'avg_cur_bal': 7081.0,\n",
       " 'bc_open_to_buy': 3328.0,\n",
       " 'bc_util': 0.731,\n",
       " 'dti_joint': 0,\n",
       " 'emp_length': '10+ years',\n",
       " 'i_l_util': 0,\n",
       " 'inq_fi': 0,\n",
       " 'inq_last_12m': 0,\n",
       " 'is_inc_v_joint': 'nan',\n",
       " 'max_bal_bc': 0,\n",
       " 'mo_sin_old_il_acct': 126.0,\n",
       " 'mo_sin_old_rev_tl_op': 157.0,\n",
       " 'mo_sin_rcnt_rev_tl_op': 9.0,\n",
       " 'mo_sin_rcnt_tl': 6.0,\n",
       " 'mort_acc': 1.0,\n",
       " 'mths_since_last_delinq': 34.0,\n",
       " 'mths_since_last_major_derog': 40.0,\n",
       " 'mths_since_last_record': 90.0,\n",
       " 'mths_since_rcnt_il': 0,\n",
       " 'mths_since_recent_bc': 14.0,\n",
       " 'mths_since_recent_bc_dlq': 40.0,\n",
       " 'mths_since_recent_inq': 5.0,\n",
       " 'mths_since_recent_revol_delinq': 36.0,\n",
       " 'num_accts_ever_12_0_ppd': 0.0,\n",
       " 'num_actv_bc_tl': 3.0,\n",
       " 'num_actv_rev_tl': 5.0,\n",
       " 'num_bc_sats': 4.0,\n",
       " 'num_bc_tl': 8.0,\n",
       " 'num_il_tl': 6.0,\n",
       " 'num_op_rev_tl': 7.0,\n",
       " 'num_rev_accts': 14.0,\n",
       " 'num_rev_tl_bal_gt_0': 5.0,\n",
       " 'num_sats': 10.0,\n",
       " 'num_tl_12_0dpd_2m': 0.0,\n",
       " 'num_tl_30dpd': 0.0,\n",
       " 'num_tl_90g_dpd_24m': 0.0,\n",
       " 'num_tl_op_past_12m': 2.0,\n",
       " 'open_acc_6m': 0,\n",
       " 'open_act_il': 0,\n",
       " 'open_il_12m': 0,\n",
       " 'open_il_24m': 0,\n",
       " 'open_rv_12m': 0,\n",
       " 'open_rv_24m': 0,\n",
       " 'pct_tl_nvr_dlq': 1.0,\n",
       " 'percent_bc_gt_75': 0.5,\n",
       " 'pub_rec_bankruptcies': 0.0,\n",
       " 'revol_bal_joint': 0,\n",
       " 'revol_util': 0.574,\n",
       " 'sec_app_chargeoff_within_12_mths': 0,\n",
       " 'sec_app_collections_12_mths_ex_med': 0,\n",
       " 'sec_app_earliest_cr_lineDay': 0,\n",
       " 'sec_app_earliest_cr_lineDayofweek': 0,\n",
       " 'sec_app_earliest_cr_lineDayofyear': 0,\n",
       " 'sec_app_earliest_cr_lineMonth': 0,\n",
       " 'sec_app_earliest_cr_lineWeek': 0,\n",
       " 'sec_app_earliest_cr_lineYear': 0,\n",
       " 'sec_app_fico_range_high': 0,\n",
       " 'sec_app_fico_range_low': 0,\n",
       " 'sec_app_inq_last_6_mths': 0,\n",
       " 'sec_app_mort_acc': 0,\n",
       " 'sec_app_mths_since_last_major_derog': 0,\n",
       " 'sec_app_num_rev_accts': 0,\n",
       " 'sec_app_open_acc': 0,\n",
       " 'sec_app_open_act_il': 0,\n",
       " 'sec_app_revol_util': 0,\n",
       " 'tot_coll_amt': 0.0,\n",
       " 'tot_cur_bal': 70580.5,\n",
       " 'tot_cur_bal_to_monthly_inc': 13.796299999999999,\n",
       " 'tot_hi_cred_lim': 97221.5,\n",
       " 'total_bal_ex_mort': 31439.5,\n",
       " 'total_bal_il': 0,\n",
       " 'total_bc_limit': 14400.0,\n",
       " 'total_cu_tl': 0,\n",
       " 'total_il_high_credit_limit': 25154.5,\n",
       " 'total_rev_hi_lim': 22400.0}"
      ]
     },
     "execution_count": 19,
     "metadata": {},
     "output_type": "execute_result"
    }
   ],
   "source": [
    "ex[2]"
   ]
  },
  {
   "cell_type": "code",
   "execution_count": null,
   "metadata": {},
   "outputs": [],
   "source": []
  },
  {
   "cell_type": "code",
   "execution_count": 17,
   "metadata": {
    "ExecuteTime": {
     "end_time": "2018-11-03T09:49:47.025597Z",
     "start_time": "2018-11-03T09:49:47.013701Z"
    }
   },
   "outputs": [
    {
     "data": {
      "text/plain": [
       "(1151168, 131)"
      ]
     },
     "execution_count": 17,
     "metadata": {},
     "output_type": "execute_result"
    }
   ],
   "source": [
    "base_loan_info.shape"
   ]
  },
  {
   "cell_type": "code",
   "execution_count": 18,
   "metadata": {
    "ExecuteTime": {
     "end_time": "2018-11-03T09:49:47.039429Z",
     "start_time": "2018-11-03T09:49:47.027097Z"
    }
   },
   "outputs": [
    {
     "data": {
      "text/plain": [
       "(1151168, 43)"
      ]
     },
     "execution_count": 18,
     "metadata": {},
     "output_type": "execute_result"
    }
   ],
   "source": [
    "eval_loan_info.shape"
   ]
  },
  {
   "cell_type": "code",
   "execution_count": null,
   "metadata": {},
   "outputs": [],
   "source": []
  },
  {
   "cell_type": "markdown",
   "metadata": {
    "heading_collapsed": true
   },
   "source": [
    "# Old stuff from baseline_models"
   ]
  },
  {
   "cell_type": "code",
   "execution_count": null,
   "metadata": {
    "code_folding": [
     0
    ],
    "hidden": true
   },
   "outputs": [],
   "source": [
    "# Old stuff\n",
    "# platform = 'lendingclub'\n",
    "\n",
    "# store = pd.HDFStore(\n",
    "#     '/Users/justinhsi/justin_tinkering/data_science/lendingclub/{0}_store.h5'.\n",
    "#     format(platform),\n",
    "#     append=True)\n",
    "\n",
    "# test = store['test_filtered_columns']\n",
    "# loan_npv_rois = store['loan_npv_rois']\n",
    "# default_series = test['target_strict']"
   ]
  },
  {
   "cell_type": "code",
   "execution_count": null,
   "metadata": {
    "hidden": true
   },
   "outputs": [],
   "source": []
  },
  {
   "cell_type": "code",
   "execution_count": null,
   "metadata": {
    "hidden": true
   },
   "outputs": [],
   "source": [
    "def basic_models(trials, port_size, available_loans, grade, test,\n",
    "                 loan_npv_rois, default_series):\n",
    "    results = {}\n",
    "    pct_default = {}\n",
    "    if grade:\n",
    "        test = test[test['grade'] == grade]\n",
    "    for trial in tqdm_notebook(np.arange(trials)):\n",
    "        loans_to_pick_from = np.random.choice(\n",
    "            test.index.values, available_loans, replace=False)\n",
    "        picks = np.random.choice(loans_to_pick_from, port_size, replace=False)\n",
    "        results[trial] = loan_npv_rois.loc[picks, :].mean().to_dict()\n",
    "        pct_default[trial] = (default_series.loc[picks].sum()) / port_size\n",
    "    pct_default_series = pd.Series(pct_default)\n",
    "    results_df = pd.DataFrame(results).T\n",
    "    results_df['pct_def'] = pct_default_series\n",
    "#     if not grade:\n",
    "#         results_df = results_df.add_prefix('baseline_')\n",
    "#     else:\n",
    "#         results_df = results_df.add_prefix(grade + '_')\n",
    "    if not grade:\n",
    "        grade = 'baseline'\n",
    "    results_df.columns = zip(results_df.columns.values,[grade]*len(results_df.columns.values))\n",
    "    return results_df"
   ]
  },
  {
   "cell_type": "code",
   "execution_count": null,
   "metadata": {
    "hidden": true
   },
   "outputs": [],
   "source": [
    "grades = [None]\n",
    "grades.extend(test.grade.unique().tolist())\n",
    "grades.sort()\n",
    "grade_counts = test.grade.value_counts(dropna=False)"
   ]
  },
  {
   "cell_type": "code",
   "execution_count": null,
   "metadata": {
    "hidden": true
   },
   "outputs": [],
   "source": [
    "trials = 20000\n",
    "available_loans = 3000\n",
    "grades_available_loans = [\n",
    "    int(min(grade_counts[grade] * .2, available_loans))\n",
    "    if grade else available_loans for grade in grades\n",
    "]\n",
    "grades_port_size = [int(.3*n_loans) for n_loans in grades_available_loans]\n",
    "grade_batch_loans = dict(zip(grades, zip(grades_available_loans,grades_port_size)))"
   ]
  },
  {
   "cell_type": "code",
   "execution_count": null,
   "metadata": {
    "hidden": true
   },
   "outputs": [],
   "source": [
    "grade_batch_loans"
   ]
  },
  {
   "cell_type": "code",
   "execution_count": null,
   "metadata": {
    "hidden": true
   },
   "outputs": [],
   "source": [
    "grades_port_size"
   ]
  },
  {
   "cell_type": "code",
   "execution_count": null,
   "metadata": {
    "hidden": true
   },
   "outputs": [],
   "source": [
    "results_dict = {}\n",
    "for grade in tqdm_notebook(grades):\n",
    "    results_dict[grade] = basic_models(trials, grade_batch_loans[grade][1],\n",
    "                                       grade_batch_loans[grade][0], grade,\n",
    "                                       test, loan_npv_rois, default_series)"
   ]
  },
  {
   "cell_type": "code",
   "execution_count": null,
   "metadata": {
    "hidden": true
   },
   "outputs": [],
   "source": [
    "result = pd.concat(results_dict.values(), axis=1)\n",
    "result.columns = pd.MultiIndex.from_tuples(\n",
    "    result.columns.values, names=['discount_rate', 'model'])\n",
    "result.sort_index(axis=1, inplace = True)"
   ]
  },
  {
   "cell_type": "code",
   "execution_count": null,
   "metadata": {
    "hidden": true
   },
   "outputs": [],
   "source": [
    "result.describe()"
   ]
  },
  {
   "cell_type": "code",
   "execution_count": null,
   "metadata": {
    "hidden": true
   },
   "outputs": [],
   "source": [
    "store.open()\n",
    "store['results'] = result\n",
    "store.close()"
   ]
  },
  {
   "cell_type": "code",
   "execution_count": null,
   "metadata": {
    "hidden": true
   },
   "outputs": [],
   "source": []
  }
 ],
 "metadata": {
  "kernelspec": {
   "display_name": "Python 3",
   "language": "python",
   "name": "python3"
  },
  "language_info": {
   "codemirror_mode": {
    "name": "ipython",
    "version": 3
   },
   "file_extension": ".py",
   "mimetype": "text/x-python",
   "name": "python",
   "nbconvert_exporter": "python",
   "pygments_lexer": "ipython3",
   "version": "3.6.3"
  }
 },
 "nbformat": 4,
 "nbformat_minor": 2
}
