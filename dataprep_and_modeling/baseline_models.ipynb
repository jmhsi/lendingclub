{
 "cells": [
  {
   "cell_type": "code",
<<<<<<< HEAD
   "execution_count": 1,
   "metadata": {
    "ExecuteTime": {
     "end_time": "2018-03-09T11:20:58.119168Z",
     "start_time": "2018-03-09T11:20:58.096127Z"
    }
   },
   "outputs": [],
   "source": [
    "from tqdm import tqdm_notebook"
   ]
  },
  {
   "cell_type": "code",
   "execution_count": 2,
   "metadata": {
    "ExecuteTime": {
     "end_time": "2018-03-09T11:20:58.796491Z",
     "start_time": "2018-03-09T11:20:58.623483Z"
    }
   },
=======
   "execution_count": null,
   "metadata": {},
>>>>>>> 10e1c43f58f5811bcf1be2f2aa27dd87afa57792
   "outputs": [],
   "source": [
    "platform = 'lendingclub'\n",
    "\n",
<<<<<<< HEAD
    "store = pd.HDFStore(f'{datapath}{platform}/{platform}.h5')"
=======
    "store = pd.HDFStore(\n",
    "    '/Users/justinhsi/justin_tinkering/data_science/lendingclub/{0}_store.h5'.\n",
    "    format(platform),\n",
    "    append=True)"
>>>>>>> 10e1c43f58f5811bcf1be2f2aa27dd87afa57792
   ]
  },
  {
   "cell_type": "code",
<<<<<<< HEAD
   "execution_count": 3,
   "metadata": {
    "ExecuteTime": {
     "end_time": "2018-03-09T11:21:08.739224Z",
     "start_time": "2018-03-09T11:20:59.268082Z"
    }
   },
   "outputs": [],
   "source": [
    "store.open()\n",
    "test_index = store['test_index']\n",
    "loan_npv_rois = store['loan_npv_rois']\n",
    "loan_info = store['loan_info_step1']\n",
    "default_series = store['default_series']\n",
    "store.close()\n",
    "\n",
    "test_npvs = loan_npv_rois.loc[test_index.values,:]\n",
    "test = loan_info.loc[test_index.values,:]"
=======
   "execution_count": null,
   "metadata": {},
   "outputs": [],
   "source": [
    "test = store['test_filtered_columns']\n",
    "loan_npv_rois = store['loan_npv_rois']\n",
    "default_series = test['target_strict']"
>>>>>>> 10e1c43f58f5811bcf1be2f2aa27dd87afa57792
   ]
  },
  {
   "cell_type": "code",
<<<<<<< HEAD
   "execution_count": 4,
   "metadata": {
    "ExecuteTime": {
     "end_time": "2018-03-09T11:21:08.779693Z",
     "start_time": "2018-03-09T11:21:08.741411Z"
    }
   },
   "outputs": [],
   "source": [
    "grade_mean = {}\n",
    "for grade, group in test.groupby('grade'):    \n",
    "    grade_mean[grade] = test_npvs.loc[group.index,:].mean().values[0]\n",
    "    \n",
    "grade_mean = pd.Series(grade_mean)"
   ]
  },
  {
   "cell_type": "code",
   "execution_count": 5,
   "metadata": {
    "ExecuteTime": {
     "end_time": "2018-03-09T11:21:08.798155Z",
     "start_time": "2018-03-09T11:21:08.781247Z"
    }
   },
   "outputs": [],
   "source": [
    "best_grade = grade_mean[grade_mean == grade_mean.max()].index.values[0]"
   ]
  },
  {
   "cell_type": "code",
   "execution_count": 6,
   "metadata": {
    "ExecuteTime": {
     "end_time": "2018-03-09T11:21:08.910674Z",
     "start_time": "2018-03-09T11:21:08.799683Z"
    }
   },
   "outputs": [],
   "source": [
    "def basic_models(trials, port_size, available_loans, grade, test,\n",
    "                 test_npvs, default_series, best_grade):\n",
    "    results = {}\n",
    "    pct_default = {}\n",
    "    if grade == best_grade:\n",
=======
   "execution_count": null,
   "metadata": {},
   "outputs": [],
   "source": [
    "def basic_models(trials, port_size, available_loans, grade, test,\n",
    "                 loan_npv_rois, default_series):\n",
    "    results = {}\n",
    "    pct_default = {}\n",
    "    if grade:\n",
>>>>>>> 10e1c43f58f5811bcf1be2f2aa27dd87afa57792
    "        test = test[test['grade'] == grade]\n",
    "    for trial in tqdm_notebook(np.arange(trials)):\n",
    "        loans_to_pick_from = np.random.choice(\n",
    "            test.index.values, available_loans, replace=False)\n",
    "        picks = np.random.choice(loans_to_pick_from, port_size, replace=False)\n",
<<<<<<< HEAD
    "        picked_rois = test_npvs.loc[picks, .07]\n",
    "        results[trial] = picked_rois.mean()\n",
    "        pct_default[trial] = (default_series.loc[picks].sum()) / port_size\n",
    "#         try:\n",
    "#             pct_default[trial] = len(picked_rois[picked_rois] < 0)/len(picked_rois)\n",
    "#         except:\n",
    "#             pct_default[trial] = np.nan\n",
    "    pct_default_series = pd.Series(pct_default)\n",
    "    results_df = pd.DataFrame(pd.Series(results))\n",
=======
    "        results[trial] = loan_npv_rois.loc[picks, :].mean().to_dict()\n",
    "        pct_default[trial] = (default_series.loc[picks].sum()) / port_size\n",
    "    pct_default_series = pd.Series(pct_default)\n",
    "    results_df = pd.DataFrame(results).T\n",
>>>>>>> 10e1c43f58f5811bcf1be2f2aa27dd87afa57792
    "    results_df['pct_def'] = pct_default_series\n",
    "#     if not grade:\n",
    "#         results_df = results_df.add_prefix('baseline_')\n",
    "#     else:\n",
    "#         results_df = results_df.add_prefix(grade + '_')\n",
    "    if not grade:\n",
    "        grade = 'baseline'\n",
<<<<<<< HEAD
    "    results_df.columns = ((grade, 0.07), (grade,'pct_def'))\n",
=======
    "    results_df.columns = zip(results_df.columns.values,[grade]*len(results_df.columns.values))\n",
>>>>>>> 10e1c43f58f5811bcf1be2f2aa27dd87afa57792
    "    return results_df"
   ]
  },
  {
   "cell_type": "code",
<<<<<<< HEAD
   "execution_count": 7,
   "metadata": {
    "ExecuteTime": {
     "end_time": "2018-03-09T11:21:08.932586Z",
     "start_time": "2018-03-09T11:21:08.912505Z"
    }
   },
   "outputs": [],
   "source": [
    "grades = [None]\n",
    "grades.extend([best_grade])\n",
    "# grades.sort()\n",
=======
   "execution_count": null,
   "metadata": {},
   "outputs": [],
   "source": [
    "grades = [None]\n",
    "grades.extend(test.grade.unique().tolist())\n",
    "grades.sort()\n",
>>>>>>> 10e1c43f58f5811bcf1be2f2aa27dd87afa57792
    "grade_counts = test.grade.value_counts(dropna=False)"
   ]
  },
  {
   "cell_type": "code",
<<<<<<< HEAD
   "execution_count": 8,
   "metadata": {
    "ExecuteTime": {
     "end_time": "2018-03-09T11:21:08.953438Z",
     "start_time": "2018-03-09T11:21:08.934454Z"
    }
   },
   "outputs": [],
   "source": [
    "trials = 30000\n",
    "available_loans = 500\n",
=======
   "execution_count": null,
   "metadata": {},
   "outputs": [],
   "source": [
    "trials = 20000\n",
    "available_loans = 3000\n",
>>>>>>> 10e1c43f58f5811bcf1be2f2aa27dd87afa57792
    "grades_available_loans = [\n",
    "    int(min(grade_counts[grade] * .2, available_loans))\n",
    "    if grade else available_loans for grade in grades\n",
    "]\n",
<<<<<<< HEAD
    "grades_port_size = [150 for n_loans in grades_available_loans]\n",
=======
    "grades_port_size = [int(.3*n_loans) for n_loans in grades_available_loans]\n",
>>>>>>> 10e1c43f58f5811bcf1be2f2aa27dd87afa57792
    "grade_batch_loans = dict(zip(grades, zip(grades_available_loans,grades_port_size)))"
   ]
  },
  {
   "cell_type": "code",
<<<<<<< HEAD
   "execution_count": 9,
   "metadata": {
    "ExecuteTime": {
     "end_time": "2018-03-09T11:22:26.122889Z",
     "start_time": "2018-03-09T11:21:08.955125Z"
    },
    "scrolled": true
   },
   "outputs": [
    {
     "data": {
      "application/vnd.jupyter.widget-view+json": {
       "model_id": "69bd00d0f634421085ce0a2a2003e9d0",
       "version_major": 2,
       "version_minor": 0
      },
      "text/plain": [
       "A Jupyter Widget"
      ]
     },
     "metadata": {},
     "output_type": "display_data"
    },
    {
     "data": {
      "application/vnd.jupyter.widget-view+json": {
       "model_id": "4ebe1ffd17bf4ca389e0afef4c7bf0df",
       "version_major": 2,
       "version_minor": 0
      },
      "text/plain": [
       "A Jupyter Widget"
      ]
     },
     "metadata": {},
     "output_type": "display_data"
    },
    {
     "data": {
      "application/vnd.jupyter.widget-view+json": {
       "model_id": "06ab332261bb410fba6f0ae38391e7ca",
       "version_major": 2,
       "version_minor": 0
      },
      "text/plain": [
       "A Jupyter Widget"
      ]
     },
     "metadata": {},
     "output_type": "display_data"
    },
    {
     "name": "stdout",
     "output_type": "stream",
     "text": [
      "\n"
     ]
    }
   ],
=======
   "execution_count": null,
   "metadata": {},
   "outputs": [],
   "source": [
    "grade_batch_loans"
   ]
  },
  {
   "cell_type": "code",
   "execution_count": null,
   "metadata": {},
   "outputs": [],
   "source": [
    "grades_port_size"
   ]
  },
  {
   "cell_type": "code",
   "execution_count": null,
   "metadata": {},
   "outputs": [],
>>>>>>> 10e1c43f58f5811bcf1be2f2aa27dd87afa57792
   "source": [
    "results_dict = {}\n",
    "for grade in tqdm_notebook(grades):\n",
    "    results_dict[grade] = basic_models(trials, grade_batch_loans[grade][1],\n",
    "                                       grade_batch_loans[grade][0], grade,\n",
<<<<<<< HEAD
    "                                       test, test_npvs, default_series=default_series, best_grade=best_grade)"
=======
    "                                       test, loan_npv_rois, default_series)"
>>>>>>> 10e1c43f58f5811bcf1be2f2aa27dd87afa57792
   ]
  },
  {
   "cell_type": "code",
<<<<<<< HEAD
   "execution_count": 10,
   "metadata": {
    "ExecuteTime": {
     "end_time": "2018-03-09T11:22:26.140827Z",
     "start_time": "2018-03-09T11:22:26.124441Z"
    }
   },
=======
   "execution_count": null,
   "metadata": {},
>>>>>>> 10e1c43f58f5811bcf1be2f2aa27dd87afa57792
   "outputs": [],
   "source": [
    "result = pd.concat(results_dict.values(), axis=1)\n",
    "result.columns = pd.MultiIndex.from_tuples(\n",
    "    result.columns.values, names=['discount_rate', 'model'])\n",
<<<<<<< HEAD
    "# result.sort_index(axis=1, inplace = True)"
   ]
  },
  {
   "cell_type": "code",
   "execution_count": 11,
   "metadata": {
    "ExecuteTime": {
     "end_time": "2018-03-09T11:22:26.173796Z",
     "start_time": "2018-03-09T11:22:26.142417Z"
    },
    "scrolled": true
   },
   "outputs": [
    {
     "data": {
      "text/html": [
       "<div>\n",
       "<style scoped>\n",
       "    .dataframe tbody tr th:only-of-type {\n",
       "        vertical-align: middle;\n",
       "    }\n",
       "\n",
       "    .dataframe tbody tr th {\n",
       "        vertical-align: top;\n",
       "    }\n",
       "\n",
       "    .dataframe thead tr th {\n",
       "        text-align: left;\n",
       "    }\n",
       "</style>\n",
       "<table border=\"1\" class=\"dataframe\">\n",
       "  <thead>\n",
       "    <tr>\n",
       "      <th>discount_rate</th>\n",
       "      <th colspan=\"2\" halign=\"left\">baseline</th>\n",
       "      <th colspan=\"2\" halign=\"left\">A</th>\n",
       "    </tr>\n",
       "    <tr>\n",
       "      <th>model</th>\n",
       "      <th>0.07</th>\n",
       "      <th>pct_def</th>\n",
       "      <th>0.07</th>\n",
       "      <th>pct_def</th>\n",
       "    </tr>\n",
       "  </thead>\n",
       "  <tbody>\n",
       "    <tr>\n",
       "      <th>0</th>\n",
       "      <td>-0.084260</td>\n",
       "      <td>0.226667</td>\n",
       "      <td>-0.043326</td>\n",
       "      <td>0.086667</td>\n",
       "    </tr>\n",
       "    <tr>\n",
       "      <th>1</th>\n",
       "      <td>-0.035565</td>\n",
       "      <td>0.146667</td>\n",
       "      <td>-0.033154</td>\n",
       "      <td>0.073333</td>\n",
       "    </tr>\n",
       "    <tr>\n",
       "      <th>2</th>\n",
       "      <td>-0.044162</td>\n",
       "      <td>0.166667</td>\n",
       "      <td>-0.041908</td>\n",
       "      <td>0.086667</td>\n",
       "    </tr>\n",
       "    <tr>\n",
       "      <th>3</th>\n",
       "      <td>-0.018673</td>\n",
       "      <td>0.133333</td>\n",
       "      <td>-0.030981</td>\n",
       "      <td>0.073333</td>\n",
       "    </tr>\n",
       "    <tr>\n",
       "      <th>4</th>\n",
       "      <td>-0.057401</td>\n",
       "      <td>0.186667</td>\n",
       "      <td>-0.042681</td>\n",
       "      <td>0.086667</td>\n",
       "    </tr>\n",
       "    <tr>\n",
       "      <th>5</th>\n",
       "      <td>-0.062791</td>\n",
       "      <td>0.213333</td>\n",
       "      <td>-0.025797</td>\n",
       "      <td>0.060000</td>\n",
       "    </tr>\n",
       "    <tr>\n",
       "      <th>6</th>\n",
       "      <td>-0.053452</td>\n",
       "      <td>0.200000</td>\n",
       "      <td>-0.020542</td>\n",
       "      <td>0.040000</td>\n",
       "    </tr>\n",
       "    <tr>\n",
       "      <th>7</th>\n",
       "      <td>-0.087577</td>\n",
       "      <td>0.253333</td>\n",
       "      <td>-0.037766</td>\n",
       "      <td>0.073333</td>\n",
       "    </tr>\n",
       "    <tr>\n",
       "      <th>8</th>\n",
       "      <td>-0.078580</td>\n",
       "      <td>0.226667</td>\n",
       "      <td>-0.022774</td>\n",
       "      <td>0.066667</td>\n",
       "    </tr>\n",
       "    <tr>\n",
       "      <th>9</th>\n",
       "      <td>-0.068975</td>\n",
       "      <td>0.240000</td>\n",
       "      <td>-0.013543</td>\n",
       "      <td>0.033333</td>\n",
       "    </tr>\n",
       "    <tr>\n",
       "      <th>10</th>\n",
       "      <td>-0.033396</td>\n",
       "      <td>0.166667</td>\n",
       "      <td>-0.026044</td>\n",
       "      <td>0.066667</td>\n",
       "    </tr>\n",
       "    <tr>\n",
       "      <th>11</th>\n",
       "      <td>-0.051624</td>\n",
       "      <td>0.173333</td>\n",
       "      <td>-0.029652</td>\n",
       "      <td>0.060000</td>\n",
       "    </tr>\n",
       "    <tr>\n",
       "      <th>12</th>\n",
       "      <td>-0.044595</td>\n",
       "      <td>0.180000</td>\n",
       "      <td>-0.016524</td>\n",
       "      <td>0.040000</td>\n",
       "    </tr>\n",
       "    <tr>\n",
       "      <th>13</th>\n",
       "      <td>-0.065781</td>\n",
       "      <td>0.213333</td>\n",
       "      <td>-0.034809</td>\n",
       "      <td>0.066667</td>\n",
       "    </tr>\n",
       "    <tr>\n",
       "      <th>14</th>\n",
       "      <td>-0.076856</td>\n",
       "      <td>0.220000</td>\n",
       "      <td>-0.041682</td>\n",
       "      <td>0.086667</td>\n",
       "    </tr>\n",
       "    <tr>\n",
       "      <th>15</th>\n",
       "      <td>-0.084200</td>\n",
       "      <td>0.233333</td>\n",
       "      <td>-0.017944</td>\n",
       "      <td>0.046667</td>\n",
       "    </tr>\n",
       "    <tr>\n",
       "      <th>16</th>\n",
       "      <td>-0.038654</td>\n",
       "      <td>0.173333</td>\n",
       "      <td>-0.041538</td>\n",
       "      <td>0.073333</td>\n",
       "    </tr>\n",
       "    <tr>\n",
       "      <th>17</th>\n",
       "      <td>-0.074843</td>\n",
       "      <td>0.233333</td>\n",
       "      <td>-0.030666</td>\n",
       "      <td>0.060000</td>\n",
       "    </tr>\n",
       "    <tr>\n",
       "      <th>18</th>\n",
       "      <td>-0.044325</td>\n",
       "      <td>0.166667</td>\n",
       "      <td>-0.025957</td>\n",
       "      <td>0.060000</td>\n",
       "    </tr>\n",
       "    <tr>\n",
       "      <th>19</th>\n",
       "      <td>-0.056069</td>\n",
       "      <td>0.200000</td>\n",
       "      <td>-0.018910</td>\n",
       "      <td>0.046667</td>\n",
       "    </tr>\n",
       "    <tr>\n",
       "      <th>20</th>\n",
       "      <td>-0.071501</td>\n",
       "      <td>0.240000</td>\n",
       "      <td>-0.036902</td>\n",
       "      <td>0.066667</td>\n",
       "    </tr>\n",
       "    <tr>\n",
       "      <th>21</th>\n",
       "      <td>-0.030716</td>\n",
       "      <td>0.160000</td>\n",
       "      <td>-0.026534</td>\n",
       "      <td>0.086667</td>\n",
       "    </tr>\n",
       "    <tr>\n",
       "      <th>22</th>\n",
       "      <td>-0.044948</td>\n",
       "      <td>0.160000</td>\n",
       "      <td>-0.023195</td>\n",
       "      <td>0.060000</td>\n",
       "    </tr>\n",
       "    <tr>\n",
       "      <th>23</th>\n",
       "      <td>-0.028214</td>\n",
       "      <td>0.133333</td>\n",
       "      <td>-0.037960</td>\n",
       "      <td>0.080000</td>\n",
       "    </tr>\n",
       "    <tr>\n",
       "      <th>24</th>\n",
       "      <td>-0.058647</td>\n",
       "      <td>0.173333</td>\n",
       "      <td>-0.042889</td>\n",
       "      <td>0.086667</td>\n",
       "    </tr>\n",
       "    <tr>\n",
       "      <th>25</th>\n",
       "      <td>-0.059750</td>\n",
       "      <td>0.200000</td>\n",
       "      <td>-0.027482</td>\n",
       "      <td>0.066667</td>\n",
       "    </tr>\n",
       "    <tr>\n",
       "      <th>26</th>\n",
       "      <td>-0.064390</td>\n",
       "      <td>0.206667</td>\n",
       "      <td>-0.033069</td>\n",
       "      <td>0.073333</td>\n",
       "    </tr>\n",
       "    <tr>\n",
       "      <th>27</th>\n",
       "      <td>-0.065227</td>\n",
       "      <td>0.213333</td>\n",
       "      <td>-0.044530</td>\n",
       "      <td>0.080000</td>\n",
       "    </tr>\n",
       "    <tr>\n",
       "      <th>28</th>\n",
       "      <td>-0.041417</td>\n",
       "      <td>0.166667</td>\n",
       "      <td>-0.034282</td>\n",
       "      <td>0.073333</td>\n",
       "    </tr>\n",
       "    <tr>\n",
       "      <th>29</th>\n",
       "      <td>-0.024712</td>\n",
       "      <td>0.153333</td>\n",
       "      <td>-0.029742</td>\n",
       "      <td>0.066667</td>\n",
       "    </tr>\n",
       "    <tr>\n",
       "      <th>...</th>\n",
       "      <td>...</td>\n",
       "      <td>...</td>\n",
       "      <td>...</td>\n",
       "      <td>...</td>\n",
       "    </tr>\n",
       "    <tr>\n",
       "      <th>29970</th>\n",
       "      <td>-0.058213</td>\n",
       "      <td>0.186667</td>\n",
       "      <td>-0.034699</td>\n",
       "      <td>0.080000</td>\n",
       "    </tr>\n",
       "    <tr>\n",
       "      <th>29971</th>\n",
       "      <td>-0.040974</td>\n",
       "      <td>0.160000</td>\n",
       "      <td>-0.013723</td>\n",
       "      <td>0.053333</td>\n",
       "    </tr>\n",
       "    <tr>\n",
       "      <th>29972</th>\n",
       "      <td>-0.058229</td>\n",
       "      <td>0.200000</td>\n",
       "      <td>-0.042683</td>\n",
       "      <td>0.086667</td>\n",
       "    </tr>\n",
       "    <tr>\n",
       "      <th>29973</th>\n",
       "      <td>-0.100802</td>\n",
       "      <td>0.273333</td>\n",
       "      <td>-0.029747</td>\n",
       "      <td>0.066667</td>\n",
       "    </tr>\n",
       "    <tr>\n",
       "      <th>29974</th>\n",
       "      <td>-0.065326</td>\n",
       "      <td>0.193333</td>\n",
       "      <td>-0.034071</td>\n",
       "      <td>0.080000</td>\n",
       "    </tr>\n",
       "    <tr>\n",
       "      <th>29975</th>\n",
       "      <td>-0.063246</td>\n",
       "      <td>0.220000</td>\n",
       "      <td>-0.034580</td>\n",
       "      <td>0.080000</td>\n",
       "    </tr>\n",
       "    <tr>\n",
       "      <th>29976</th>\n",
       "      <td>-0.086206</td>\n",
       "      <td>0.233333</td>\n",
       "      <td>-0.042335</td>\n",
       "      <td>0.093333</td>\n",
       "    </tr>\n",
       "    <tr>\n",
       "      <th>29977</th>\n",
       "      <td>-0.038867</td>\n",
       "      <td>0.153333</td>\n",
       "      <td>-0.049774</td>\n",
       "      <td>0.100000</td>\n",
       "    </tr>\n",
       "    <tr>\n",
       "      <th>29978</th>\n",
       "      <td>-0.091792</td>\n",
       "      <td>0.246667</td>\n",
       "      <td>-0.025330</td>\n",
       "      <td>0.053333</td>\n",
       "    </tr>\n",
       "    <tr>\n",
       "      <th>29979</th>\n",
       "      <td>-0.046609</td>\n",
       "      <td>0.146667</td>\n",
       "      <td>-0.030038</td>\n",
       "      <td>0.066667</td>\n",
       "    </tr>\n",
       "    <tr>\n",
       "      <th>29980</th>\n",
       "      <td>-0.036971</td>\n",
       "      <td>0.153333</td>\n",
       "      <td>-0.020474</td>\n",
       "      <td>0.046667</td>\n",
       "    </tr>\n",
       "    <tr>\n",
       "      <th>29981</th>\n",
       "      <td>-0.056505</td>\n",
       "      <td>0.193333</td>\n",
       "      <td>-0.034640</td>\n",
       "      <td>0.100000</td>\n",
       "    </tr>\n",
       "    <tr>\n",
       "      <th>29982</th>\n",
       "      <td>-0.048124</td>\n",
       "      <td>0.186667</td>\n",
       "      <td>-0.048111</td>\n",
       "      <td>0.106667</td>\n",
       "    </tr>\n",
       "    <tr>\n",
       "      <th>29983</th>\n",
       "      <td>-0.037190</td>\n",
       "      <td>0.153333</td>\n",
       "      <td>-0.022048</td>\n",
       "      <td>0.033333</td>\n",
       "    </tr>\n",
       "    <tr>\n",
       "      <th>29984</th>\n",
       "      <td>-0.053470</td>\n",
       "      <td>0.200000</td>\n",
       "      <td>-0.046062</td>\n",
       "      <td>0.120000</td>\n",
       "    </tr>\n",
       "    <tr>\n",
       "      <th>29985</th>\n",
       "      <td>-0.053734</td>\n",
       "      <td>0.206667</td>\n",
       "      <td>-0.022582</td>\n",
       "      <td>0.046667</td>\n",
       "    </tr>\n",
       "    <tr>\n",
       "      <th>29986</th>\n",
       "      <td>-0.049764</td>\n",
       "      <td>0.180000</td>\n",
       "      <td>-0.039044</td>\n",
       "      <td>0.086667</td>\n",
       "    </tr>\n",
       "    <tr>\n",
       "      <th>29987</th>\n",
       "      <td>-0.045582</td>\n",
       "      <td>0.166667</td>\n",
       "      <td>-0.049454</td>\n",
       "      <td>0.106667</td>\n",
       "    </tr>\n",
       "    <tr>\n",
       "      <th>29988</th>\n",
       "      <td>-0.022740</td>\n",
       "      <td>0.133333</td>\n",
       "      <td>-0.050192</td>\n",
       "      <td>0.100000</td>\n",
       "    </tr>\n",
       "    <tr>\n",
       "      <th>29989</th>\n",
       "      <td>-0.093987</td>\n",
       "      <td>0.280000</td>\n",
       "      <td>-0.032490</td>\n",
       "      <td>0.066667</td>\n",
       "    </tr>\n",
       "    <tr>\n",
       "      <th>29990</th>\n",
       "      <td>-0.065281</td>\n",
       "      <td>0.220000</td>\n",
       "      <td>-0.035126</td>\n",
       "      <td>0.080000</td>\n",
       "    </tr>\n",
       "    <tr>\n",
       "      <th>29991</th>\n",
       "      <td>-0.013962</td>\n",
       "      <td>0.133333</td>\n",
       "      <td>-0.041360</td>\n",
       "      <td>0.080000</td>\n",
       "    </tr>\n",
       "    <tr>\n",
       "      <th>29992</th>\n",
       "      <td>-0.062055</td>\n",
       "      <td>0.213333</td>\n",
       "      <td>-0.046866</td>\n",
       "      <td>0.093333</td>\n",
       "    </tr>\n",
       "    <tr>\n",
       "      <th>29993</th>\n",
       "      <td>-0.042402</td>\n",
       "      <td>0.180000</td>\n",
       "      <td>-0.038614</td>\n",
       "      <td>0.080000</td>\n",
       "    </tr>\n",
       "    <tr>\n",
       "      <th>29994</th>\n",
       "      <td>-0.049976</td>\n",
       "      <td>0.173333</td>\n",
       "      <td>-0.036629</td>\n",
       "      <td>0.066667</td>\n",
       "    </tr>\n",
       "    <tr>\n",
       "      <th>29995</th>\n",
       "      <td>-0.065684</td>\n",
       "      <td>0.200000</td>\n",
       "      <td>-0.029451</td>\n",
       "      <td>0.060000</td>\n",
       "    </tr>\n",
       "    <tr>\n",
       "      <th>29996</th>\n",
       "      <td>-0.067450</td>\n",
       "      <td>0.213333</td>\n",
       "      <td>-0.023257</td>\n",
       "      <td>0.060000</td>\n",
       "    </tr>\n",
       "    <tr>\n",
       "      <th>29997</th>\n",
       "      <td>-0.046137</td>\n",
       "      <td>0.160000</td>\n",
       "      <td>-0.023661</td>\n",
       "      <td>0.060000</td>\n",
       "    </tr>\n",
       "    <tr>\n",
       "      <th>29998</th>\n",
       "      <td>-0.077797</td>\n",
       "      <td>0.220000</td>\n",
       "      <td>-0.040336</td>\n",
       "      <td>0.080000</td>\n",
       "    </tr>\n",
       "    <tr>\n",
       "      <th>29999</th>\n",
       "      <td>-0.060042</td>\n",
       "      <td>0.200000</td>\n",
       "      <td>-0.043693</td>\n",
       "      <td>0.106667</td>\n",
       "    </tr>\n",
       "  </tbody>\n",
       "</table>\n",
       "<p>30000 rows × 4 columns</p>\n",
       "</div>"
      ],
      "text/plain": [
       "discount_rate  baseline                   A          \n",
       "model              0.07   pct_def      0.07   pct_def\n",
       "0             -0.084260  0.226667 -0.043326  0.086667\n",
       "1             -0.035565  0.146667 -0.033154  0.073333\n",
       "2             -0.044162  0.166667 -0.041908  0.086667\n",
       "3             -0.018673  0.133333 -0.030981  0.073333\n",
       "4             -0.057401  0.186667 -0.042681  0.086667\n",
       "5             -0.062791  0.213333 -0.025797  0.060000\n",
       "6             -0.053452  0.200000 -0.020542  0.040000\n",
       "7             -0.087577  0.253333 -0.037766  0.073333\n",
       "8             -0.078580  0.226667 -0.022774  0.066667\n",
       "9             -0.068975  0.240000 -0.013543  0.033333\n",
       "10            -0.033396  0.166667 -0.026044  0.066667\n",
       "11            -0.051624  0.173333 -0.029652  0.060000\n",
       "12            -0.044595  0.180000 -0.016524  0.040000\n",
       "13            -0.065781  0.213333 -0.034809  0.066667\n",
       "14            -0.076856  0.220000 -0.041682  0.086667\n",
       "15            -0.084200  0.233333 -0.017944  0.046667\n",
       "16            -0.038654  0.173333 -0.041538  0.073333\n",
       "17            -0.074843  0.233333 -0.030666  0.060000\n",
       "18            -0.044325  0.166667 -0.025957  0.060000\n",
       "19            -0.056069  0.200000 -0.018910  0.046667\n",
       "20            -0.071501  0.240000 -0.036902  0.066667\n",
       "21            -0.030716  0.160000 -0.026534  0.086667\n",
       "22            -0.044948  0.160000 -0.023195  0.060000\n",
       "23            -0.028214  0.133333 -0.037960  0.080000\n",
       "24            -0.058647  0.173333 -0.042889  0.086667\n",
       "25            -0.059750  0.200000 -0.027482  0.066667\n",
       "26            -0.064390  0.206667 -0.033069  0.073333\n",
       "27            -0.065227  0.213333 -0.044530  0.080000\n",
       "28            -0.041417  0.166667 -0.034282  0.073333\n",
       "29            -0.024712  0.153333 -0.029742  0.066667\n",
       "...                 ...       ...       ...       ...\n",
       "29970         -0.058213  0.186667 -0.034699  0.080000\n",
       "29971         -0.040974  0.160000 -0.013723  0.053333\n",
       "29972         -0.058229  0.200000 -0.042683  0.086667\n",
       "29973         -0.100802  0.273333 -0.029747  0.066667\n",
       "29974         -0.065326  0.193333 -0.034071  0.080000\n",
       "29975         -0.063246  0.220000 -0.034580  0.080000\n",
       "29976         -0.086206  0.233333 -0.042335  0.093333\n",
       "29977         -0.038867  0.153333 -0.049774  0.100000\n",
       "29978         -0.091792  0.246667 -0.025330  0.053333\n",
       "29979         -0.046609  0.146667 -0.030038  0.066667\n",
       "29980         -0.036971  0.153333 -0.020474  0.046667\n",
       "29981         -0.056505  0.193333 -0.034640  0.100000\n",
       "29982         -0.048124  0.186667 -0.048111  0.106667\n",
       "29983         -0.037190  0.153333 -0.022048  0.033333\n",
       "29984         -0.053470  0.200000 -0.046062  0.120000\n",
       "29985         -0.053734  0.206667 -0.022582  0.046667\n",
       "29986         -0.049764  0.180000 -0.039044  0.086667\n",
       "29987         -0.045582  0.166667 -0.049454  0.106667\n",
       "29988         -0.022740  0.133333 -0.050192  0.100000\n",
       "29989         -0.093987  0.280000 -0.032490  0.066667\n",
       "29990         -0.065281  0.220000 -0.035126  0.080000\n",
       "29991         -0.013962  0.133333 -0.041360  0.080000\n",
       "29992         -0.062055  0.213333 -0.046866  0.093333\n",
       "29993         -0.042402  0.180000 -0.038614  0.080000\n",
       "29994         -0.049976  0.173333 -0.036629  0.066667\n",
       "29995         -0.065684  0.200000 -0.029451  0.060000\n",
       "29996         -0.067450  0.213333 -0.023257  0.060000\n",
       "29997         -0.046137  0.160000 -0.023661  0.060000\n",
       "29998         -0.077797  0.220000 -0.040336  0.080000\n",
       "29999         -0.060042  0.200000 -0.043693  0.106667\n",
       "\n",
       "[30000 rows x 4 columns]"
      ]
     },
     "execution_count": 11,
     "metadata": {},
     "output_type": "execute_result"
    }
   ],
   "source": [
    "result"
=======
    "result.sort_index(axis=1, inplace = True)"
>>>>>>> 10e1c43f58f5811bcf1be2f2aa27dd87afa57792
   ]
  },
  {
   "cell_type": "code",
<<<<<<< HEAD
   "execution_count": 12,
   "metadata": {
    "ExecuteTime": {
     "end_time": "2018-03-09T11:22:26.213184Z",
     "start_time": "2018-03-09T11:22:26.175742Z"
    }
   },
   "outputs": [
    {
     "data": {
      "text/html": [
       "<div>\n",
       "<style scoped>\n",
       "    .dataframe tbody tr th:only-of-type {\n",
       "        vertical-align: middle;\n",
       "    }\n",
       "\n",
       "    .dataframe tbody tr th {\n",
       "        vertical-align: top;\n",
       "    }\n",
       "\n",
       "    .dataframe thead tr th {\n",
       "        text-align: left;\n",
       "    }\n",
       "</style>\n",
       "<table border=\"1\" class=\"dataframe\">\n",
       "  <thead>\n",
       "    <tr>\n",
       "      <th>discount_rate</th>\n",
       "      <th colspan=\"2\" halign=\"left\">baseline</th>\n",
       "      <th colspan=\"2\" halign=\"left\">A</th>\n",
       "    </tr>\n",
       "    <tr>\n",
       "      <th>model</th>\n",
       "      <th>0.07</th>\n",
       "      <th>pct_def</th>\n",
       "      <th>0.07</th>\n",
       "      <th>pct_def</th>\n",
       "    </tr>\n",
       "  </thead>\n",
       "  <tbody>\n",
       "    <tr>\n",
       "      <th>count</th>\n",
       "      <td>30000.000000</td>\n",
       "      <td>30000.000000</td>\n",
       "      <td>30000.000000</td>\n",
       "      <td>30000.000000</td>\n",
       "    </tr>\n",
       "    <tr>\n",
       "      <th>mean</th>\n",
       "      <td>-0.056679</td>\n",
       "      <td>0.193342</td>\n",
       "      <td>-0.033183</td>\n",
       "      <td>0.073307</td>\n",
       "    </tr>\n",
       "    <tr>\n",
       "      <th>std</th>\n",
       "      <td>0.018726</td>\n",
       "      <td>0.032075</td>\n",
       "      <td>0.011064</td>\n",
       "      <td>0.021000</td>\n",
       "    </tr>\n",
       "    <tr>\n",
       "      <th>min</th>\n",
       "      <td>-0.138537</td>\n",
       "      <td>0.080000</td>\n",
       "      <td>-0.083743</td>\n",
       "      <td>0.000000</td>\n",
       "    </tr>\n",
       "    <tr>\n",
       "      <th>25%</th>\n",
       "      <td>-0.069253</td>\n",
       "      <td>0.173333</td>\n",
       "      <td>-0.040308</td>\n",
       "      <td>0.060000</td>\n",
       "    </tr>\n",
       "    <tr>\n",
       "      <th>50%</th>\n",
       "      <td>-0.056113</td>\n",
       "      <td>0.193333</td>\n",
       "      <td>-0.032622</td>\n",
       "      <td>0.073333</td>\n",
       "    </tr>\n",
       "    <tr>\n",
       "      <th>75%</th>\n",
       "      <td>-0.043736</td>\n",
       "      <td>0.213333</td>\n",
       "      <td>-0.025429</td>\n",
       "      <td>0.086667</td>\n",
       "    </tr>\n",
       "    <tr>\n",
       "      <th>max</th>\n",
       "      <td>0.014205</td>\n",
       "      <td>0.333333</td>\n",
       "      <td>0.001738</td>\n",
       "      <td>0.166667</td>\n",
       "    </tr>\n",
       "  </tbody>\n",
       "</table>\n",
       "</div>"
      ],
      "text/plain": [
       "discount_rate      baseline                           A              \n",
       "model                  0.07       pct_def          0.07       pct_def\n",
       "count          30000.000000  30000.000000  30000.000000  30000.000000\n",
       "mean              -0.056679      0.193342     -0.033183      0.073307\n",
       "std                0.018726      0.032075      0.011064      0.021000\n",
       "min               -0.138537      0.080000     -0.083743      0.000000\n",
       "25%               -0.069253      0.173333     -0.040308      0.060000\n",
       "50%               -0.056113      0.193333     -0.032622      0.073333\n",
       "75%               -0.043736      0.213333     -0.025429      0.086667\n",
       "max                0.014205      0.333333      0.001738      0.166667"
      ]
     },
     "execution_count": 12,
     "metadata": {},
     "output_type": "execute_result"
    }
   ],
=======
   "execution_count": null,
   "metadata": {},
   "outputs": [],
>>>>>>> 10e1c43f58f5811bcf1be2f2aa27dd87afa57792
   "source": [
    "result.describe()"
   ]
  },
  {
   "cell_type": "code",
<<<<<<< HEAD
   "execution_count": 13,
   "metadata": {
    "ExecuteTime": {
     "end_time": "2018-03-09T11:22:46.843867Z",
     "start_time": "2018-03-09T11:22:46.800016Z"
    }
   },
   "outputs": [],
   "source": [
    "store.open()\n",
    "result.to_hdf(store, key='model_results', format='table')\n",
=======
   "execution_count": null,
   "metadata": {},
   "outputs": [],
   "source": [
    "store.open()\n",
    "store['results'] = result\n",
>>>>>>> 10e1c43f58f5811bcf1be2f2aa27dd87afa57792
    "store.close()"
   ]
  },
  {
   "cell_type": "code",
   "execution_count": null,
   "metadata": {},
   "outputs": [],
   "source": []
  }
 ],
 "metadata": {
  "kernelspec": {
<<<<<<< HEAD
   "display_name": "Python 3",
   "language": "python",
   "name": "python3"
=======
   "display_name": "Python 2",
   "language": "python",
   "name": "python2"
>>>>>>> 10e1c43f58f5811bcf1be2f2aa27dd87afa57792
  },
  "language_info": {
   "codemirror_mode": {
    "name": "ipython",
<<<<<<< HEAD
    "version": 3
=======
    "version": 2
>>>>>>> 10e1c43f58f5811bcf1be2f2aa27dd87afa57792
   },
   "file_extension": ".py",
   "mimetype": "text/x-python",
   "name": "python",
   "nbconvert_exporter": "python",
<<<<<<< HEAD
   "pygments_lexer": "ipython3",
   "version": "3.6.3"
=======
   "pygments_lexer": "ipython2",
   "version": "2.7.13"
>>>>>>> 10e1c43f58f5811bcf1be2f2aa27dd87afa57792
  }
 },
 "nbformat": 4,
 "nbformat_minor": 2
}
