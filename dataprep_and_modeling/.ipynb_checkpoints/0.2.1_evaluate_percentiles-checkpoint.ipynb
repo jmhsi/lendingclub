{
 "cells": [
  {
   "cell_type": "code",
   "execution_count": 13,
   "metadata": {
    "ExecuteTime": {
     "end_time": "2017-11-01T19:58:25.078941Z",
     "start_time": "2017-11-01T19:58:25.063708Z"
    },
    "collapsed": true
   },
   "outputs": [],
   "source": [
    "import modeling_utils.data_prep_new as data_prep\n",
    "from sklearn.externals import joblib\n",
    "import time\n",
    "import dir_constants as dc\n",
    "from tqdm import tqdm_notebook"
   ]
  },
  {
   "cell_type": "code",
   "execution_count": 2,
   "metadata": {
    "ExecuteTime": {
     "end_time": "2017-11-01T19:53:34.610698Z",
     "start_time": "2017-11-01T19:53:34.536512Z"
    },
    "collapsed": true
   },
   "outputs": [],
   "source": [
    "platform = 'lendingclub'\n",
    "\n",
    "store = pd.HDFStore(\n",
    "    dc.home_path+'/justin_tinkering/data_science/lendingclub/{0}_store.h5'.\n",
    "    format(platform),\n",
    "    append=True)"
   ]
  },
  {
   "cell_type": "markdown",
   "metadata": {},
   "source": [
    "# Make sure no loan in test set was in train set"
   ]
  },
  {
   "cell_type": "code",
   "execution_count": 3,
   "metadata": {
    "ExecuteTime": {
     "end_time": "2017-11-01T19:56:24.552945Z",
     "start_time": "2017-11-01T19:56:20.292521Z"
    },
    "collapsed": true
   },
   "outputs": [],
   "source": [
    "store.open()\n",
    "train = store['train_filtered_columns']\n",
    "test = store['test_filtered_columns']\n",
    "loan_npv_rois = store['loan_npv_rois']\n",
    "default_series = test['target_strict']\n",
    "results = store['results']\n",
    "store.close()\n",
    "\n",
    "train_ids = set(train.index.values)\n",
    "test_ids = set(test.index.values)\n",
    "assert len(train_ids.intersection(test_ids)) == 0"
   ]
  },
  {
   "cell_type": "markdown",
   "metadata": {},
   "source": [
    "# Examine performance on test set"
   ]
  },
  {
   "cell_type": "code",
   "execution_count": 4,
   "metadata": {
    "ExecuteTime": {
     "end_time": "2017-11-01T19:56:28.127103Z",
     "start_time": "2017-11-01T19:56:25.429007Z"
    }
   },
   "outputs": [],
   "source": [
    "test_X, test_y = data_prep.process_data_test(test)\n",
    "test_y = test_y['npv_roi_10'].values\n",
    "regr = joblib.load('model_dump/model_0.2.1.pkl')\n",
    "regr_version = '0.2.1'\n",
    "test_yhat = regr.predict(test_X)"
   ]
  },
  {
   "cell_type": "code",
   "execution_count": 6,
   "metadata": {
    "ExecuteTime": {
     "end_time": "2017-11-01T19:56:52.936789Z",
     "start_time": "2017-11-01T19:56:52.785364Z"
    },
    "collapsed": true
   },
   "outputs": [],
   "source": [
    "for col in test_X.columns:\n",
    "    if len(test_X[test_X[col].isnull()]) > 0:\n",
    "        print(col)"
   ]
  },
  {
   "cell_type": "markdown",
   "metadata": {},
   "source": [
    "# Short digression on examining feature importances"
   ]
  },
  {
   "cell_type": "code",
   "execution_count": 7,
   "metadata": {
    "ExecuteTime": {
     "end_time": "2017-11-01T19:56:57.299240Z",
     "start_time": "2017-11-01T19:56:55.748438Z"
    }
   },
   "outputs": [
    {
     "name": "stdout",
     "output_type": "stream",
     "text": [
      "Feature ranking:\n",
      "1. feature 102: int_rate 0.09433479658947348\n",
      "2. feature 209: term 0.08120792398004908\n",
      "3. feature 71: dti_joint 0.0660940876311646\n",
      "4. feature 70: dti 0.05727333674055612\n",
      "5. feature 160: revol_bal 0.043324256995766926\n",
      "6. feature 162: revol_util 0.04088004408571147\n",
      "7. feature 103: line_history_m 0.036993851211439534\n",
      "8. feature 85: fico 0.03598009434168179\n",
      "9. feature 140: orig_amt_due 0.03542815536852491\n",
      "10. feature 58: annual_inc_joint 0.03226357105722073\n",
      "11. feature 101: installment_amount 0.03162108689568223\n",
      "12. feature 57: annual_inc 0.03143810987274649\n",
      "13. feature 213: total_acc 0.02521434828320984\n",
      "14. feature 104: loan_amnt 0.022306506519582214\n",
      "15. feature 56: all_util_isnull 0.020577768246496153\n",
      "16. feature 93: home_ownership_mortgage 0.019127914095769735\n",
      "17. feature 53: age_since_last_delinq 0.018643454011181646\n",
      "18. feature 133: open_acc 0.017997258237530074\n",
      "19. feature 96: home_ownership_rent 0.017966893039891848\n",
      "20. feature 54: age_since_last_major_derog 0.012580376376843009\n",
      "21. feature 100: inq_last_6mths 0.011488477573696311\n",
      "22. feature 55: age_since_last_record 0.010856358798883447\n",
      "23. feature 84: emp_length_n/a 0.007959255633655503\n",
      "24. feature 90: grade_E 0.006487380877015439\n",
      "25. feature 87: grade_B 0.005695161120257321\n",
      "26. feature 89: grade_D 0.005553654958858963\n",
      "27. feature 134: open_acc_6m_isnull 0.005056856864612172\n",
      "28. feature 88: grade_C 0.0048874151625669425\n",
      "29. feature 217: total_cu_tl_isnull 0.004803476226538063\n",
      "30. feature 215: total_bal_il_isnull 0.004596031645170438\n",
      "31. feature 221: verification_status_platform 0.004274967262506356\n",
      "32. feature 68: delinq_2yrs 0.004233429978066735\n",
      "33. feature 98: inq_fi_isnull 0.004111675323806737\n",
      "34. feature 136: open_il_24m_isnull 0.0038418615569009097\n",
      "35. feature 36: addr_state_NY 0.0035872860305707264\n",
      "36. feature 137: open_il_6m_isnull 0.0035811115946647177\n",
      "37. feature 220: verification_status_none 0.003514705195804661\n",
      "38. feature 138: open_rv_12m_isnull 0.003399020099323078\n",
      "39. feature 86: grade_A 0.0031262670072789924\n",
      "40. feature 105: max_bal_bc_isnull 0.0031050563439744936\n",
      "41. feature 222: verification_status_source 0.003101902484220736\n",
      "42. feature 141: pct_tl_nvr_dlq_isnull 0.003070915555645891\n",
      "43. feature 99: inq_last_12m_isnull 0.0029734275513561164\n",
      "44. feature 91: grade_F 0.0028898223752459656\n",
      "45. feature 157: purpose_small_business 0.0028746726067794214\n",
      "46. feature 139: open_rv_24m_isnull 0.0028410070941515472\n",
      "47. feature 129: num_tl_120dpd_2m_isnull 0.0026630868647588802\n",
      "48. feature 83: emp_length_< 1 year 0.0026170502636664607\n",
      "49. feature 6: addr_state_CA 0.002599139774552462\n",
      "50. feature 11: addr_state_FL 0.002591406914410367\n",
      "51. feature 74: emp_length_10+ years 0.0025211744366568432\n",
      "52. feature 187: sub_grade_C5 0.002439815129892476\n",
      "53. feature 186: sub_grade_C4 0.0023087135322552503\n",
      "54. feature 33: addr_state_NJ 0.002244530031035805\n",
      "55. feature 143: pub_rec 0.0022082316131358404\n",
      "56. feature 188: sub_grade_D1 0.0021524992133561895\n",
      "57. feature 73: emp_length_1 year 0.002111920044715059\n",
      "58. feature 135: open_il_12m_isnull 0.0020948776502541064\n",
      "59. feature 117: mths_since_recent_inq_isnull 0.002073707596831769\n",
      "60. feature 155: purpose_other 0.0019178520825175098\n",
      "61. feature 76: emp_length_3 years 0.0018960318238304115\n",
      "62. feature 192: sub_grade_D5 0.0018525072622072158\n",
      "63. feature 75: emp_length_2 years 0.0018415193298965955\n",
      "64. feature 95: home_ownership_own 0.0018016729679587401\n",
      "65. feature 45: addr_state_TX 0.001773162220402243\n",
      "66. feature 148: purpose_debt_consolidation 0.0017378652785902883\n",
      "67. feature 208: tax_liens 0.0017105902203600049\n",
      "68. feature 81: emp_length_8 years 0.0016876494529602308\n",
      "69. feature 144: pub_rec_bankruptcies 0.0016821846695871726\n",
      "70. feature 40: addr_state_PA 0.0016634689083152774\n",
      "71. feature 191: sub_grade_D4 0.0016546726553861525\n",
      "72. feature 78: emp_length_5 years 0.0016435557383877488\n",
      "73. feature 194: sub_grade_E2 0.0016346359748715185\n",
      "74. feature 77: emp_length_4 years 0.0016011933459322179\n",
      "75. feature 82: emp_length_9 years 0.0015475903874300069\n",
      "76. feature 80: emp_length_7 years 0.0015045857145229544\n",
      "77. feature 193: sub_grade_E1 0.0014970413491576507\n",
      "78. feature 37: addr_state_OH 0.0014627322403543957\n",
      "79. feature 79: emp_length_6 years 0.0014557173447798072\n",
      "80. feature 150: purpose_home_improvement 0.0014280144478988068\n",
      "81. feature 185: sub_grade_C3 0.0014083197273153396\n",
      "82. feature 29: addr_state_NC 0.0014030422879766336\n",
      "83. feature 147: purpose_credit_card 0.0013953679219290552\n",
      "84. feature 189: sub_grade_D2 0.0013928267830103625\n",
      "85. feature 183: sub_grade_C1 0.0013792206723216513\n",
      "86. feature 190: sub_grade_D3 0.0013698731817846426\n",
      "87. feature 16: addr_state_IL 0.0013235082249416963\n",
      "88. feature 196: sub_grade_E4 0.0012884127080772794\n",
      "89. feature 7: addr_state_CO 0.0012855067329279434\n",
      "90. feature 115: mths_since_recent_bc_dlq_isnull 0.0012816128165005205\n",
      "91. feature 118: mths_since_recent_revol_delinq_isnull 0.0012457357786121238\n",
      "92. feature 47: addr_state_VA 0.0012236693884609265\n",
      "93. feature 195: sub_grade_E3 0.001222139507067814\n",
      "94. feature 106: mo_sin_old_il_acct_isnull 0.0012197039435621576\n",
      "95. feature 35: addr_state_NV 0.00117119936878165\n",
      "96. feature 24: addr_state_MI 0.001161908884924281\n",
      "97. feature 184: sub_grade_C2 0.0011585883506846518\n",
      "98. feature 197: sub_grade_E5 0.0011458380361264338\n",
      "99. feature 182: sub_grade_B5 0.0011298791962628346\n",
      "100. feature 67: collections_12_mths_ex_med 0.001120652826454391\n",
      "101. feature 63: avg_cur_bal_isnull 0.0011109768409739305\n",
      "102. feature 112: mths_since_last_major_derog_isnull 0.001058393389689197\n",
      "103. feature 113: mths_since_last_record_isnull 0.0010307547522351603\n",
      "104. feature 119: num_accts_ever_120_pd_isnull 0.0010247124909745088\n",
      "105. feature 109: mo_sin_rcnt_tl_isnull 0.0010184241765687522\n",
      "106. feature 22: addr_state_MD 0.0010058413759807183\n",
      "107. feature 181: sub_grade_B4 0.0009849577506037051\n",
      "108. feature 25: addr_state_MN 0.0009572515495710732\n",
      "109. feature 3: addr_state_AL 0.0009525474458902854\n",
      "110. feature 111: mths_since_last_delinq_isnull 0.0009396400521172116\n",
      "111. feature 126: num_rev_accts_isnull 0.0009354706158312252\n",
      "112. feature 123: num_bc_tl_isnull 0.0009312317304203823\n",
      "113. feature 131: num_tl_90g_dpd_24m_isnull 0.0009197027255120952\n",
      "114. feature 125: num_op_rev_tl_isnull 0.0008994394157787768\n",
      "115. feature 124: num_il_tl_isnull 0.000898755825558287\n",
      "116. feature 12: addr_state_GA 0.0008941570086972553\n",
      "117. feature 5: addr_state_AZ 0.0008913994124125216\n",
      "118. feature 153: purpose_medical 0.000887270270867994\n",
      "119. feature 21: addr_state_MA 0.0008766373297590078\n",
      "120. feature 132: num_tl_op_past_12m_isnull 0.0008379940162201189\n",
      "121. feature 44: addr_state_TN 0.0008334987759745429\n",
      "122. feature 121: num_actv_rev_tl_isnull 0.0008264096324228835\n",
      "123. feature 17: addr_state_IN 0.0008026178104784446\n",
      "124. feature 152: purpose_major_purchase 0.0007926093038325864\n",
      "125. feature 97: il_util_isnull 0.0007672771985495284\n",
      "126. feature 38: addr_state_OK 0.0007182206239081527\n",
      "127. feature 212: tot_hi_cred_lim_isnull 0.0007046434541069236\n",
      "128. feature 92: grade_G 0.0007041427385010495\n",
      "129. feature 49: addr_state_WA 0.0007025062832437787\n",
      "130. feature 114: mths_since_rcnt_il_isnull 0.0006961934336174346\n",
      "131. feature 127: num_rev_tl_bal_gt_0_isnull 0.0006904387256597565\n",
      "132. feature 120: num_actv_bc_tl_isnull 0.0006610394980534654\n",
      "133. feature 179: sub_grade_B2 0.0006593075395911706\n",
      "134. feature 210: tot_coll_amt_isnull 0.0006537332820949626\n",
      "135. feature 180: sub_grade_B3 0.0006506687832815078\n",
      "136. feature 26: addr_state_MO 0.0006458006121560793\n",
      "137. feature 199: sub_grade_F2 0.0006440015580895939\n",
      "138. feature 20: addr_state_LA 0.000612234077256246\n",
      "139. feature 219: total_rev_hi_lim_isnull 0.0006081350962886555\n",
      "140. feature 198: sub_grade_F1 0.0006074784340687666\n",
      "141. feature 8: addr_state_CT 0.0005766688431027315\n",
      "142. feature 218: total_il_high_credit_limit_isnull 0.0005573031721926825\n",
      "143. feature 200: sub_grade_F3 0.0005382919068779882\n",
      "144. feature 154: purpose_moving 0.000510368434869422\n",
      "145. feature 107: mo_sin_old_rev_tl_op_isnull 0.0005072001325991134\n",
      "146. feature 130: num_tl_30dpd_isnull 0.0005071970959639175\n",
      "147. feature 178: sub_grade_B1 0.00046014349450263224\n",
      "148. feature 201: sub_grade_F4 0.00045070390583041474\n",
      "149. feature 108: mo_sin_rcnt_rev_tl_op_isnull 0.00044579522261308863\n",
      "150. feature 211: tot_cur_bal_isnull 0.00043135868409132044\n",
      "151. feature 69: delinq_amnt 0.00041704407298268276\n",
      "152. feature 19: addr_state_KY 0.00040748960897207137\n",
      "153. feature 50: addr_state_WI 0.00036476974369532145\n",
      "154. feature 202: sub_grade_F5 0.00032730012966082286\n",
      "155. feature 39: addr_state_OR 0.0003014684473828594\n",
      "156. feature 27: addr_state_MS 0.0002753664532580358\n",
      "157. feature 65: bc_util_isnull 0.00027498473786156\n",
      "158. feature 4: addr_state_AR 0.00025826198349663453\n",
      "159. feature 142: percent_bc_gt_75_isnull 0.00024550980043667694\n",
      "160. feature 42: addr_state_SC 0.0002378358722685817\n",
      "161. feature 128: num_sats_isnull 0.00023394100127285795\n",
      "162. feature 116: mths_since_recent_bc_isnull 0.00022795743092239403\n",
      "163. feature 158: purpose_vacation 0.00022179660259363652\n",
      "164. feature 122: num_bc_sats_isnull 0.0002178168152998803\n",
      "165. feature 177: sub_grade_A5 0.000214815708400353\n",
      "166. feature 64: bc_open_to_buy_isnull 0.00020702289140723295\n",
      "167. feature 145: pub_rec_bankruptcies_isnull 0.000196485285373731\n",
      "168. feature 66: chargeoff_within_12_mths 0.0001863078396078792\n",
      "169. feature 203: sub_grade_G1 0.00018351721458101017\n",
      "170. feature 146: purpose_car 0.000173982822084257\n",
      "171. feature 34: addr_state_NM 0.00016589973332628054\n",
      "172. feature 151: purpose_house 0.00014508945912046755\n",
      "173. feature 176: sub_grade_A4 0.00014091262575048247\n",
      "174. feature 18: addr_state_KS 0.00013745892759404638\n",
      "175. feature 46: addr_state_UT 0.0001256490213514126\n",
      "176. feature 1: acc_open_past_24mths_isnull 0.00012532131634753577\n",
      "177. feature 13: addr_state_HI 0.00012220919681881252\n",
      "178. feature 216: total_bc_limit_isnull 0.00011347546594992878\n",
      "179. feature 110: mort_acc_isnull 0.00011262119844258801\n",
      "180. feature 214: total_bal_ex_mort_isnull 0.00010369727640629013\n",
      "181. feature 174: sub_grade_A2 0.00010311947586405313\n",
      "182. feature 204: sub_grade_G2 9.412535874120732e-05\n",
      "183. feature 61: application_type_individual 9.205576821027176e-05\n",
      "184. feature 60: application_type_direct_pay 8.803333118228827e-05\n",
      "185. feature 0: acc_now_delinq 8.034675002469856e-05\n",
      "186. feature 175: sub_grade_A3 7.698524245089349e-05\n",
      "187. feature 10: addr_state_DE 7.688463343859385e-05\n",
      "188. feature 72: dti_joint_isnull 7.004757915068833e-05\n",
      "189. feature 62: application_type_joint 6.829191723171095e-05\n",
      "190. feature 173: sub_grade_A1 6.811709088676042e-05\n",
      "191. feature 51: addr_state_WV 6.800007033126888e-05\n",
      "192. feature 41: addr_state_RI 6.585118123984377e-05\n",
      "193. feature 159: purpose_wedding 6.526137756186305e-05\n",
      "194. feature 59: annual_inc_joint_isnull 6.482367560266465e-05\n",
      "195. feature 205: sub_grade_G3 5.97775387694866e-05\n",
      "196. feature 28: addr_state_MT 4.5092981230765715e-05\n",
      "197. feature 31: addr_state_NE 4.2510818817146185e-05\n",
      "198. feature 43: addr_state_SD 3.562464526833183e-05\n",
      "199. feature 207: sub_grade_G5 2.611705206864342e-05\n",
      "200. feature 206: sub_grade_G4 2.4728233928096482e-05\n",
      "201. feature 32: addr_state_NH 1.7718967369135302e-05\n",
      "202. feature 2: addr_state_AK 1.4687694359659541e-05\n",
      "203. feature 156: purpose_renewable_energy 1.1290840568456598e-05\n",
      "204. feature 52: addr_state_WY 1.0982657102405915e-05\n",
      "205. feature 9: addr_state_DC 9.042394938456996e-06\n",
      "206. feature 48: addr_state_VT 8.457673042904241e-06\n",
      "207. feature 149: purpose_educational 4.1491771571312444e-06\n",
      "208. feature 169: sec_app_num_rev_accts_isnull 3.5148273203061654e-06\n",
      "209. feature 167: sec_app_mort_acc_isnull 2.3155552297354457e-06\n",
      "210. feature 94: home_ownership_other 1.6732953662144968e-06\n",
      "211. feature 23: addr_state_ME 3.8426273457720054e-07\n",
      "212. feature 14: addr_state_IA 0.0\n",
      "213. feature 15: addr_state_ID 0.0\n",
      "214. feature 166: sec_app_inq_last_6mths_isnull 0.0\n",
      "215. feature 165: sec_app_collections_12_mths_ex_med_isnull 0.0\n",
      "216. feature 164: sec_app_chargeoff_within_12_mths_isnull 0.0\n",
      "217. feature 163: revol_util_isnull 0.0\n",
      "218. feature 172: sec_app_revol_util_isnull 0.0\n",
      "219. feature 171: sec_app_open_il_6m_isnull 0.0\n",
      "220. feature 161: revol_bal_joint_isnull 0.0\n",
      "221. feature 30: addr_state_ND 0.0\n",
      "222. feature 170: sec_app_open_acc_isnull 0.0\n",
      "223. feature 168: sec_app_mths_since_last_major_derog_isnull 0.0\n"
     ]
    },
    {
     "data": {
      "image/png": "[encoded data removed]",
      "text/plain": [
       "<matplotlib.figure.Figure at 0x7fdfad615ac8>"
      ]
     },
     "metadata": {},
     "output_type": "display_data"
    }
   ],
   "source": [
    "importances = regr.feature_importances_\n",
    "std = np.std([tree.feature_importances_ for tree in regr.estimators_],\n",
    "             axis=0)\n",
    "indices = np.argsort(importances)[::-1]\n",
    "columns = test_X.columns.values\n",
    "\n",
    "# Print the feature ranking\n",
    "print(\"Feature ranking:\")\n",
    "\n",
    "for f in range(test_X.shape[1]):\n",
    "    print(\"{0}. feature {1}: {2} {3}\".format(f + 1, indices[f], columns[indices[f]], importances[indices[f]]))\n",
    "\n",
    "# Plot the feature importances of the regr\n",
    "plt.figure()\n",
    "plt.title(\"Feature importances\")\n",
    "plt.bar(range(test_X.shape[1]), importances[indices],\n",
    "       color=\"r\", yerr=std[indices], align=\"center\")\n",
    "plt.xticks(range(test_X.shape[1]), indices)\n",
    "plt.xlim([-1, test_X.shape[1]])\n",
    "plt.show()"
   ]
  },
  {
   "cell_type": "code",
   "execution_count": 8,
   "metadata": {
    "ExecuteTime": {
     "end_time": "2017-11-01T19:57:25.181826Z",
     "start_time": "2017-11-01T19:57:25.176705Z"
    },
    "collapsed": true
   },
   "outputs": [],
   "source": [
    "test['0.2.1_scores'] = test_yhat"
   ]
  },
  {
   "cell_type": "code",
   "execution_count": 9,
   "metadata": {
    "ExecuteTime": {
     "end_time": "2017-11-01T19:57:26.706789Z",
     "start_time": "2017-11-01T19:57:26.047509Z"
    }
   },
   "outputs": [
    {
     "data": {
      "image/png": "[encoded data removed]",
      "text/plain": [
       "<matplotlib.figure.Figure at 0x7fdfad5be898>"
      ]
     },
     "metadata": {},
     "output_type": "display_data"
    }
   ],
   "source": [
    "import matplotlib as mpl\n",
    "mpl.rcParams['agg.path.chunksize'] = 10000\n",
    "plt.figure(figsize=(12,9))\n",
    "plt.plot(test['0.2.1_scores'], test['npv_roi_10'], 'o')\n",
    "plt.show()"
   ]
  },
  {
   "cell_type": "markdown",
   "metadata": {},
   "source": [
    "# at scores above 0, check the pctage of positive returns"
   ]
  },
  {
   "cell_type": "code",
   "execution_count": 21,
   "metadata": {
    "ExecuteTime": {
     "end_time": "2017-11-01T22:15:12.976409Z",
     "start_time": "2017-11-01T22:15:12.958588Z"
    },
    "collapsed": true
   },
   "outputs": [],
   "source": [
    "pos_scores = test[test['0.2.1_scores'] >= 0]\n",
    "ps_pos_returns = pos_scores[pos_scores['npv_roi_10'] > 0]"
   ]
  },
  {
   "cell_type": "code",
   "execution_count": 22,
   "metadata": {
    "ExecuteTime": {
     "end_time": "2017-11-01T22:15:13.859664Z",
     "start_time": "2017-11-01T22:15:13.856040Z"
    }
   },
   "outputs": [
    {
     "data": {
      "text/plain": [
       "0.8683551349846924"
      ]
     },
     "execution_count": 22,
     "metadata": {},
     "output_type": "execute_result"
    }
   ],
   "source": [
    "len(ps_pos_returns)/len(pos_scores)"
   ]
  },
  {
   "cell_type": "markdown",
   "metadata": {},
   "source": [
    "# checking return per percentile below"
   ]
  },
  {
   "cell_type": "code",
   "execution_count": 10,
   "metadata": {
    "ExecuteTime": {
     "end_time": "2017-11-01T19:58:00.994935Z",
     "start_time": "2017-11-01T19:58:00.990796Z"
    },
    "collapsed": true
   },
   "outputs": [],
   "source": [
    "percentiles = np.arange(0,100,1)"
   ]
  },
  {
   "cell_type": "code",
   "execution_count": 11,
   "metadata": {
    "ExecuteTime": {
     "end_time": "2017-11-01T19:58:12.176268Z",
     "start_time": "2017-11-01T19:58:12.118434Z"
    },
    "collapsed": true
   },
   "outputs": [],
   "source": [
    "def eval_models(trials, port_size, available_loans, test, percentiles):\n",
    "    results = {}\n",
    "    pct_default = {}\n",
    "    test_copy = test.copy()\n",
    "    for trial in tqdm_notebook(np.arange(trials)):\n",
    "        loan_ids = np.random.choice(\n",
    "            test_copy.index.values, available_loans, replace=False)\n",
    "        loans_to_pick_from = test_copy.loc[loan_ids, :]\n",
    "        loans_to_pick_from.sort_values('0.2.1_scores', ascending=True, inplace = True)\n",
    "        chunksize = int(len(loans_to_pick_from)/100)\n",
    "        results_dict = {}\n",
    "        for k,perc in enumerate(percentiles):\n",
    "            subset = loans_to_pick_from[k*chunksize:(k+1)*chunksize]\n",
    "            results_dict[perc] = subset['npv_roi_10'].mean()\n",
    "\n",
    "        results[trial] = pd.Series(results_dict)\n",
    "        \n",
    "    return pd.DataFrame.from_dict(results).T\n",
    "\n",
    "\n",
    "#         picks = scores_series[:900].index.values\n",
    "#         results[trial] = loan_npv_rois.loc[picks, :].mean().to_dict()\n",
    "#         pct_default[trial] = (default_series.loc[picks].sum()) / port_size\n",
    "#     pct_default_series = pd.Series(pct_default)\n",
    "#     results_df = pd.DataFrame(results).T\n",
    "#     results_df['pct_def'] = pct_default_series\n",
    "#     return results_df"
   ]
  },
  {
   "cell_type": "code",
   "execution_count": 14,
   "metadata": {
    "ExecuteTime": {
     "end_time": "2017-11-01T20:09:33.765857Z",
     "start_time": "2017-11-01T19:58:29.695644Z"
    }
   },
   "outputs": [
    {
     "data": {
      "application/vnd.jupyter.widget-view+json": {
       "model_id": "cc8052c7fdd447b590ca4a45e67e8914",
       "version_major": 2,
       "version_minor": 0
      },
      "text/plain": [
       "A Jupyter Widget"
      ]
     },
     "metadata": {},
     "output_type": "display_data"
    },
    {
     "name": "stdout",
     "output_type": "stream",
     "text": [
      "\n"
     ]
    }
   ],
   "source": [
    "# as per done with baseline models, say 3000 loans available\n",
    "# , pick 900 of them\n",
    "trials = 20000\n",
    "port_size = 900\n",
    "available_loans = 3000\n",
    "results = eval_models(trials, port_size, available_loans, test, percentiles)"
   ]
  },
  {
   "cell_type": "code",
   "execution_count": 15,
   "metadata": {
    "ExecuteTime": {
     "end_time": "2017-11-01T20:09:34.693245Z",
     "start_time": "2017-11-01T20:09:34.477632Z"
    },
    "collapsed": true
   },
   "outputs": [],
   "source": [
    "summaries = results.describe()"
   ]
  },
  {
   "cell_type": "code",
   "execution_count": 16,
   "metadata": {
    "ExecuteTime": {
     "end_time": "2017-11-01T20:09:35.438215Z",
     "start_time": "2017-11-01T20:09:35.416503Z"
    }
   },
   "outputs": [
    {
     "data": {
      "text/html": [
       "<div>\n",
       "<style>\n",
       "    .dataframe thead tr:only-child th {\n",
       "        text-align: right;\n",
       "    }\n",
       "\n",
       "    .dataframe thead th {\n",
       "        text-align: left;\n",
       "    }\n",
       "\n",
       "    .dataframe tbody tr th {\n",
       "        vertical-align: top;\n",
       "    }\n",
       "</style>\n",
       "<table border=\"1\" class=\"dataframe\">\n",
       "  <thead>\n",
       "    <tr style=\"text-align: right;\">\n",
       "      <th></th>\n",
       "      <th>0</th>\n",
       "      <th>1</th>\n",
       "      <th>2</th>\n",
       "      <th>3</th>\n",
       "      <th>4</th>\n",
       "      <th>5</th>\n",
       "      <th>6</th>\n",
       "      <th>7</th>\n",
       "      <th>8</th>\n",
       "      <th>9</th>\n",
       "      <th>...</th>\n",
       "      <th>90</th>\n",
       "      <th>91</th>\n",
       "      <th>92</th>\n",
       "      <th>93</th>\n",
       "      <th>94</th>\n",
       "      <th>95</th>\n",
       "      <th>96</th>\n",
       "      <th>97</th>\n",
       "      <th>98</th>\n",
       "      <th>99</th>\n",
       "    </tr>\n",
       "  </thead>\n",
       "  <tbody>\n",
       "    <tr>\n",
       "      <th>count</th>\n",
       "      <td>20000.000000</td>\n",
       "      <td>20000.000000</td>\n",
       "      <td>20000.000000</td>\n",
       "      <td>20000.000000</td>\n",
       "      <td>20000.000000</td>\n",
       "      <td>20000.000000</td>\n",
       "      <td>20000.000000</td>\n",
       "      <td>20000.000000</td>\n",
       "      <td>20000.000000</td>\n",
       "      <td>20000.000000</td>\n",
       "      <td>...</td>\n",
       "      <td>20000.000000</td>\n",
       "      <td>20000.000000</td>\n",
       "      <td>20000.000000</td>\n",
       "      <td>20000.000000</td>\n",
       "      <td>20000.000000</td>\n",
       "      <td>20000.000000</td>\n",
       "      <td>20000.000000</td>\n",
       "      <td>20000.000000</td>\n",
       "      <td>20000.000000</td>\n",
       "      <td>20000.000000</td>\n",
       "    </tr>\n",
       "    <tr>\n",
       "      <th>mean</th>\n",
       "      <td>-0.391222</td>\n",
       "      <td>-0.330353</td>\n",
       "      <td>-0.297827</td>\n",
       "      <td>-0.282509</td>\n",
       "      <td>-0.255773</td>\n",
       "      <td>-0.241937</td>\n",
       "      <td>-0.239384</td>\n",
       "      <td>-0.226562</td>\n",
       "      <td>-0.210850</td>\n",
       "      <td>-0.199654</td>\n",
       "      <td>...</td>\n",
       "      <td>-0.016877</td>\n",
       "      <td>-0.012568</td>\n",
       "      <td>-0.009182</td>\n",
       "      <td>-0.006604</td>\n",
       "      <td>-0.004646</td>\n",
       "      <td>0.004969</td>\n",
       "      <td>0.009083</td>\n",
       "      <td>0.006747</td>\n",
       "      <td>0.018808</td>\n",
       "      <td>0.042024</td>\n",
       "    </tr>\n",
       "    <tr>\n",
       "      <th>std</th>\n",
       "      <td>0.074099</td>\n",
       "      <td>0.073329</td>\n",
       "      <td>0.072765</td>\n",
       "      <td>0.073609</td>\n",
       "      <td>0.071466</td>\n",
       "      <td>0.068540</td>\n",
       "      <td>0.068616</td>\n",
       "      <td>0.068606</td>\n",
       "      <td>0.067879</td>\n",
       "      <td>0.065643</td>\n",
       "      <td>...</td>\n",
       "      <td>0.033890</td>\n",
       "      <td>0.033692</td>\n",
       "      <td>0.033893</td>\n",
       "      <td>0.033191</td>\n",
       "      <td>0.033606</td>\n",
       "      <td>0.031912</td>\n",
       "      <td>0.031245</td>\n",
       "      <td>0.033595</td>\n",
       "      <td>0.035474</td>\n",
       "      <td>0.041553</td>\n",
       "    </tr>\n",
       "    <tr>\n",
       "      <th>min</th>\n",
       "      <td>-0.654570</td>\n",
       "      <td>-0.614111</td>\n",
       "      <td>-0.570837</td>\n",
       "      <td>-0.594410</td>\n",
       "      <td>-0.535304</td>\n",
       "      <td>-0.553902</td>\n",
       "      <td>-0.501003</td>\n",
       "      <td>-0.485695</td>\n",
       "      <td>-0.482652</td>\n",
       "      <td>-0.463099</td>\n",
       "      <td>...</td>\n",
       "      <td>-0.197667</td>\n",
       "      <td>-0.171555</td>\n",
       "      <td>-0.183199</td>\n",
       "      <td>-0.165661</td>\n",
       "      <td>-0.172064</td>\n",
       "      <td>-0.168739</td>\n",
       "      <td>-0.128010</td>\n",
       "      <td>-0.139395</td>\n",
       "      <td>-0.159605</td>\n",
       "      <td>-0.181138</td>\n",
       "    </tr>\n",
       "    <tr>\n",
       "      <th>25%</th>\n",
       "      <td>-0.442436</td>\n",
       "      <td>-0.380515</td>\n",
       "      <td>-0.347166</td>\n",
       "      <td>-0.331383</td>\n",
       "      <td>-0.303233</td>\n",
       "      <td>-0.287524</td>\n",
       "      <td>-0.285130</td>\n",
       "      <td>-0.272612</td>\n",
       "      <td>-0.255635</td>\n",
       "      <td>-0.243864</td>\n",
       "      <td>...</td>\n",
       "      <td>-0.038834</td>\n",
       "      <td>-0.033647</td>\n",
       "      <td>-0.030656</td>\n",
       "      <td>-0.027278</td>\n",
       "      <td>-0.025802</td>\n",
       "      <td>-0.014884</td>\n",
       "      <td>-0.010542</td>\n",
       "      <td>-0.014499</td>\n",
       "      <td>-0.003463</td>\n",
       "      <td>0.015100</td>\n",
       "    </tr>\n",
       "    <tr>\n",
       "      <th>50%</th>\n",
       "      <td>-0.391589</td>\n",
       "      <td>-0.330535</td>\n",
       "      <td>-0.296908</td>\n",
       "      <td>-0.282247</td>\n",
       "      <td>-0.254979</td>\n",
       "      <td>-0.241431</td>\n",
       "      <td>-0.238847</td>\n",
       "      <td>-0.225619</td>\n",
       "      <td>-0.209643</td>\n",
       "      <td>-0.198105</td>\n",
       "      <td>...</td>\n",
       "      <td>-0.014067</td>\n",
       "      <td>-0.009472</td>\n",
       "      <td>-0.006238</td>\n",
       "      <td>-0.003589</td>\n",
       "      <td>-0.001692</td>\n",
       "      <td>0.008240</td>\n",
       "      <td>0.012226</td>\n",
       "      <td>0.009620</td>\n",
       "      <td>0.021483</td>\n",
       "      <td>0.045069</td>\n",
       "    </tr>\n",
       "    <tr>\n",
       "      <th>75%</th>\n",
       "      <td>-0.341169</td>\n",
       "      <td>-0.280441</td>\n",
       "      <td>-0.247721</td>\n",
       "      <td>-0.232305</td>\n",
       "      <td>-0.206789</td>\n",
       "      <td>-0.195141</td>\n",
       "      <td>-0.192707</td>\n",
       "      <td>-0.179299</td>\n",
       "      <td>-0.164047</td>\n",
       "      <td>-0.154035</td>\n",
       "      <td>...</td>\n",
       "      <td>0.007548</td>\n",
       "      <td>0.011915</td>\n",
       "      <td>0.015718</td>\n",
       "      <td>0.017719</td>\n",
       "      <td>0.020035</td>\n",
       "      <td>0.028118</td>\n",
       "      <td>0.031937</td>\n",
       "      <td>0.030904</td>\n",
       "      <td>0.044173</td>\n",
       "      <td>0.071627</td>\n",
       "    </tr>\n",
       "    <tr>\n",
       "      <th>max</th>\n",
       "      <td>-0.095330</td>\n",
       "      <td>-0.032284</td>\n",
       "      <td>-0.027297</td>\n",
       "      <td>-0.021919</td>\n",
       "      <td>0.009860</td>\n",
       "      <td>-0.000260</td>\n",
       "      <td>0.011571</td>\n",
       "      <td>-0.003333</td>\n",
       "      <td>0.036974</td>\n",
       "      <td>0.039427</td>\n",
       "      <td>...</td>\n",
       "      <td>0.071147</td>\n",
       "      <td>0.069321</td>\n",
       "      <td>0.071872</td>\n",
       "      <td>0.071923</td>\n",
       "      <td>0.077687</td>\n",
       "      <td>0.084758</td>\n",
       "      <td>0.087590</td>\n",
       "      <td>0.097861</td>\n",
       "      <td>0.111437</td>\n",
       "      <td>0.155825</td>\n",
       "    </tr>\n",
       "  </tbody>\n",
       "</table>\n",
       "<p>8 rows × 100 columns</p>\n",
       "</div>"
      ],
      "text/plain": [
       "                 0             1             2             3             4   \\\n",
       "count  20000.000000  20000.000000  20000.000000  20000.000000  20000.000000   \n",
       "mean      -0.391222     -0.330353     -0.297827     -0.282509     -0.255773   \n",
       "std        0.074099      0.073329      0.072765      0.073609      0.071466   \n",
       "min       -0.654570     -0.614111     -0.570837     -0.594410     -0.535304   \n",
       "25%       -0.442436     -0.380515     -0.347166     -0.331383     -0.303233   \n",
       "50%       -0.391589     -0.330535     -0.296908     -0.282247     -0.254979   \n",
       "75%       -0.341169     -0.280441     -0.247721     -0.232305     -0.206789   \n",
       "max       -0.095330     -0.032284     -0.027297     -0.021919      0.009860   \n",
       "\n",
       "                 5             6             7             8             9   \\\n",
       "count  20000.000000  20000.000000  20000.000000  20000.000000  20000.000000   \n",
       "mean      -0.241937     -0.239384     -0.226562     -0.210850     -0.199654   \n",
       "std        0.068540      0.068616      0.068606      0.067879      0.065643   \n",
       "min       -0.553902     -0.501003     -0.485695     -0.482652     -0.463099   \n",
       "25%       -0.287524     -0.285130     -0.272612     -0.255635     -0.243864   \n",
       "50%       -0.241431     -0.238847     -0.225619     -0.209643     -0.198105   \n",
       "75%       -0.195141     -0.192707     -0.179299     -0.164047     -0.154035   \n",
       "max       -0.000260      0.011571     -0.003333      0.036974      0.039427   \n",
       "\n",
       "           ...                 90            91            92            93  \\\n",
       "count      ...       20000.000000  20000.000000  20000.000000  20000.000000   \n",
       "mean       ...          -0.016877     -0.012568     -0.009182     -0.006604   \n",
       "std        ...           0.033890      0.033692      0.033893      0.033191   \n",
       "min        ...          -0.197667     -0.171555     -0.183199     -0.165661   \n",
       "25%        ...          -0.038834     -0.033647     -0.030656     -0.027278   \n",
       "50%        ...          -0.014067     -0.009472     -0.006238     -0.003589   \n",
       "75%        ...           0.007548      0.011915      0.015718      0.017719   \n",
       "max        ...           0.071147      0.069321      0.071872      0.071923   \n",
       "\n",
       "                 94            95            96            97            98  \\\n",
       "count  20000.000000  20000.000000  20000.000000  20000.000000  20000.000000   \n",
       "mean      -0.004646      0.004969      0.009083      0.006747      0.018808   \n",
       "std        0.033606      0.031912      0.031245      0.033595      0.035474   \n",
       "min       -0.172064     -0.168739     -0.128010     -0.139395     -0.159605   \n",
       "25%       -0.025802     -0.014884     -0.010542     -0.014499     -0.003463   \n",
       "50%       -0.001692      0.008240      0.012226      0.009620      0.021483   \n",
       "75%        0.020035      0.028118      0.031937      0.030904      0.044173   \n",
       "max        0.077687      0.084758      0.087590      0.097861      0.111437   \n",
       "\n",
       "                 99  \n",
       "count  20000.000000  \n",
       "mean       0.042024  \n",
       "std        0.041553  \n",
       "min       -0.181138  \n",
       "25%        0.015100  \n",
       "50%        0.045069  \n",
       "75%        0.071627  \n",
       "max        0.155825  \n",
       "\n",
       "[8 rows x 100 columns]"
      ]
     },
     "execution_count": 16,
     "metadata": {},
     "output_type": "execute_result"
    }
   ],
   "source": [
    "summaries"
   ]
  },
  {
   "cell_type": "code",
   "execution_count": 17,
   "metadata": {
    "ExecuteTime": {
     "end_time": "2017-11-01T20:09:36.407164Z",
     "start_time": "2017-11-01T20:09:36.158090Z"
    }
   },
   "outputs": [
    {
     "data": {
      "image/png": "[encoded data removed]",
      "text/plain": [
       "<matplotlib.figure.Figure at 0x7fdf994481d0>"
      ]
     },
     "metadata": {},
     "output_type": "display_data"
    }
   ],
   "source": [
    "plt.figure(figsize=(12,9))\n",
    "plt.plot(summaries.columns.values, summaries.loc['mean',:], 'o', label='mean')\n",
    "plt.plot(summaries.columns.values, summaries.loc['25%',:], 'ro', label='25%')\n",
    "# plt.plot(summaries.columns.values, summaries.loc['50%',:], '-.')\n",
    "plt.plot(summaries.columns.values, summaries.loc['75%',:], 'ko', label='75%')\n",
    "plt.title('return per percentile over batches')\n",
    "plt.legend(loc='best')\n",
    "plt.xlabel('percentile of 0.2.1_score')\n",
    "plt.ylabel('npv_roi_10')\n",
    "plt.show()"
   ]
  },
  {
   "cell_type": "code",
   "execution_count": 18,
   "metadata": {
    "ExecuteTime": {
     "end_time": "2017-11-01T20:31:17.075750Z",
     "start_time": "2017-11-01T20:31:17.040801Z"
    }
   },
   "outputs": [
    {
     "name": "stderr",
     "output_type": "stream",
     "text": [
      "/home/justin/anaconda3/lib/python3.6/site-packages/tables/path.py:112: NaturalNameWarning: object name is not a valid Python identifier: 'percentiles_for_0.2.1'; it does not match the pattern ``^[a-zA-Z_][a-zA-Z0-9_]*$``; you will not be able to use natural naming to access this object; using ``getattr()`` will still work, though\n",
      "  NaturalNameWarning)\n"
     ]
    }
   ],
   "source": [
    "store.open()\n",
    "store['percentiles_for_0.2.1'] = results\n",
    "store.close()"
   ]
  },
  {
   "cell_type": "code",
   "execution_count": null,
   "metadata": {
    "collapsed": true
   },
   "outputs": [],
   "source": []
  }
 ],
 "metadata": {
  "kernelspec": {
   "display_name": "Python 3",
   "language": "python",
   "name": "python3"
  },
  "language_info": {
   "codemirror_mode": {
    "name": "ipython",
    "version": 3
   },
   "file_extension": ".py",
   "mimetype": "text/x-python",
   "name": "python",
   "nbconvert_exporter": "python",
   "pygments_lexer": "ipython3",
   "version": "3.6.3"
  },
  "notify_time": "30",
  "varInspector": {
   "cols": {
    "lenName": 16,
    "lenType": 16,
    "lenVar": 40
   },
   "kernels_config": {
    "python": {
     "delete_cmd_postfix": "",
     "delete_cmd_prefix": "del ",
     "library": "var_list.py",
     "varRefreshCmd": "print(var_dic_list())"
    },
    "r": {
     "delete_cmd_postfix": ") ",
     "delete_cmd_prefix": "rm(",
     "library": "var_list.r",
     "varRefreshCmd": "cat(var_dic_list()) "
    }
   },
   "types_to_exclude": [
    "module",
    "function",
    "builtin_function_or_method",
    "instance",
    "_Feature"
   ],
   "window_display": false
  }
 },
 "nbformat": 4,
 "nbformat_minor": 2
}
