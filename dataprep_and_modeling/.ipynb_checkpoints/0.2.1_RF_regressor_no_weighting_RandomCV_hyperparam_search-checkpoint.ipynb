{
 "cells": [
  {
   "cell_type": "code",
   "execution_count": 1,
   "metadata": {
    "ExecuteTime": {
     "end_time": "2017-11-01T05:58:44.182339Z",
     "start_time": "2017-11-01T05:58:44.178963Z"
    },
    "collapsed": true
   },
   "outputs": [],
   "source": [
    "pd.options.display.max_columns=999"
   ]
  },
  {
   "cell_type": "code",
   "execution_count": 2,
   "metadata": {
    "ExecuteTime": {
     "end_time": "2017-11-01T05:58:45.020182Z",
     "start_time": "2017-11-01T05:58:44.714963Z"
    },
    "collapsed": true
   },
   "outputs": [],
   "source": [
    "import data_science.lendingclub.dataprep_and_modeling.modeling_utils.data_prep_new as data_prep\n",
    "import dir_constants as dc\n",
    "from sklearn.ensemble import RandomForestRegressor\n",
    "from sklearn.externals import joblib\n",
    "from sklearn.model_selection import RandomizedSearchCV\n",
    "import time"
   ]
  },
  {
   "cell_type": "markdown",
   "metadata": {},
   "source": [
    "# DO NOT FORGET TO DROP ISSUE_D AFTER PREPPING"
   ]
  },
  {
   "cell_type": "code",
   "execution_count": 3,
   "metadata": {
    "ExecuteTime": {
     "end_time": "2017-11-01T05:58:45.504246Z",
     "start_time": "2017-11-01T05:58:45.452798Z"
    },
    "collapsed": true
   },
   "outputs": [],
   "source": [
    "platform = 'lendingclub'\n",
    "\n",
    "store = pd.HDFStore(\n",
    "    dc.home_path+'/justin_tinkering/data_science/lendingclub/{0}_store.h5'.\n",
    "    format(platform),\n",
    "    append=True)"
   ]
  },
  {
   "cell_type": "code",
   "execution_count": 4,
   "metadata": {
    "ExecuteTime": {
     "end_time": "2017-11-01T05:58:52.473177Z",
     "start_time": "2017-11-01T05:58:50.876593Z"
    },
    "collapsed": true
   },
   "outputs": [],
   "source": [
    "loan_info = store['train_filtered_columns']\n",
    "store.close()\n",
    "columns = loan_info.columns.values\n",
    "# checking dtypes to see which columns need one hotting, and which need null or not\n",
    "to_one_hot = []\n",
    "to_null_or_not = []\n",
    "do_nothing = []\n",
    "for col in columns:\n",
    "    if loan_info[col].dtypes == np.dtype('O'):\n",
    "#         print(col, loan_info[col].isnull().value_counts(dropna=False).to_dict())\n",
    "        to_one_hot.append(col)\n",
    "    elif len(loan_info[col].isnull().value_counts(dropna=False)) > 1:\n",
    "#         print(col, loan_info[col].isnull().value_counts(dropna=False).to_dict())\n",
    "        to_null_or_not.append(col)\n",
    "    else:\n",
    "#         print(col, loan_info[col].isnull().value_counts(dropna=False).to_dict())\n",
    "        do_nothing.append(col)"
   ]
  },
  {
   "cell_type": "markdown",
   "metadata": {},
   "source": [
    "# Until I figure out a good imputation method (e.g. bayes PCA), just drop columns with null still"
   ]
  },
  {
   "cell_type": "code",
   "execution_count": 5,
   "metadata": {
    "ExecuteTime": {
     "end_time": "2017-11-01T05:58:58.000385Z",
     "start_time": "2017-11-01T05:58:53.349456Z"
    }
   },
   "outputs": [],
   "source": [
    "standardized, eval_cols, mean_series, std_dev_series = data_prep.process_data_train(\n",
    "    loan_info)"
   ]
  },
  {
   "cell_type": "code",
   "execution_count": 6,
   "metadata": {
    "ExecuteTime": {
     "end_time": "2017-11-01T05:59:00.010998Z",
     "start_time": "2017-11-01T05:59:00.007922Z"
    }
   },
   "outputs": [],
   "source": [
    "# for col in standardized.columns:\n",
    "#     if len(standardized[standardized[col].isnull()]) > 0:\n",
    "#         print(col)"
   ]
  },
  {
   "cell_type": "markdown",
   "metadata": {},
   "source": [
    "# random search RF hyperparams, and build with best one"
   ]
  },
  {
   "cell_type": "code",
   "execution_count": 7,
   "metadata": {
    "ExecuteTime": {
     "end_time": "2017-11-01T05:59:02.094061Z",
     "start_time": "2017-11-01T05:59:02.091727Z"
    },
    "collapsed": true
   },
   "outputs": [],
   "source": [
    "regr = RandomForestRegressor()"
   ]
  },
  {
   "cell_type": "code",
   "execution_count": 8,
   "metadata": {
    "ExecuteTime": {
     "end_time": "2017-11-01T05:59:04.208321Z",
     "start_time": "2017-11-01T05:59:04.202328Z"
    },
    "collapsed": true
   },
   "outputs": [],
   "source": [
    "def report(results, n_top=3):\n",
    "    for i in range(1, n_top + 1):\n",
    "        candidates = np.flatnonzero(results['rank_test_score'] == i)\n",
    "        for candidate in candidates:\n",
    "            print(\"Model with rank: {0}\".format(i))\n",
    "            print(\"Mean validation score: {0:.3f} (std: {1:.3f})\".format(\n",
    "                  results['mean_test_score'][candidate],\n",
    "                  results['std_test_score'][candidate]))\n",
    "            print(\"Parameters: {0}\".format(results['params'][candidate]))\n",
    "            print(\"\")"
   ]
  },
  {
   "cell_type": "code",
   "execution_count": 9,
   "metadata": {
    "ExecuteTime": {
     "end_time": "2017-11-01T05:59:06.124057Z",
     "start_time": "2017-11-01T05:59:06.119983Z"
    },
    "collapsed": true
   },
   "outputs": [],
   "source": [
    "fit_params_dict = {'n_estimators': np.arange(1,201),\n",
    "                   'criterion': ['mse'],#, 'mae'\n",
    "                   'max_features': [3,10, 50, 70, 100, 150, 200],\n",
    "                   'min_samples_split': [20, 200, 2000],\n",
    "                   'min_samples_leaf': [10, 100, 1000],\n",
    "                   'bootstrap': [True],\n",
    "                   'oob_score': [True],\n",
    "                   'n_jobs': [-1],\n",
    "                   'verbose': [10]}"
   ]
  },
  {
   "cell_type": "code",
   "execution_count": 10,
   "metadata": {
    "ExecuteTime": {
     "end_time": "2017-11-01T05:59:08.142848Z",
     "start_time": "2017-11-01T05:59:08.139204Z"
    },
    "collapsed": true
   },
   "outputs": [],
   "source": [
    "n_iter = 20\n",
    "random_search = RandomizedSearchCV(\n",
    "    regr, param_distributions=fit_params_dict, n_iter=n_iter)"
   ]
  },
  {
   "cell_type": "code",
   "execution_count": 11,
   "metadata": {
    "ExecuteTime": {
     "end_time": "2017-11-01T08:13:25.639334Z",
     "start_time": "2017-11-01T05:59:10.104502Z"
    },
    "scrolled": true
   },
   "outputs": [
    {
     "name": "stderr",
     "output_type": "stream",
     "text": [
      "/home/justin/anaconda3/lib/python3.6/site-packages/sklearn/model_selection/_validation.py:437: DataConversionWarning: A column-vector y was passed when a 1d array was expected. Please change the shape of y to (n_samples,), for example using ravel().\n",
      "  estimator.fit(X_train, y_train, **fit_params)\n"
     ]
    },
    {
     "name": "stdout",
     "output_type": "stream",
     "text": [
      "building tree 1 of 139building tree 2 of 139building tree 3 of 139building tree 4 of 139building tree 5 of 139building tree 6 of 139building tree 7 of 139building tree 8 of 139\n",
      "\n",
      "\n",
      "\n",
      "\n",
      "\n",
      "\n",
      "\n",
      "building tree 9 of 139\n"
     ]
    },
    {
     "name": "stderr",
     "output_type": "stream",
     "text": [
      "[Parallel(n_jobs=-1)]: Done   2 tasks      | elapsed:   11.6s\n"
     ]
    },
    {
     "name": "stdout",
     "output_type": "stream",
     "text": [
      "building tree 10 of 139\n",
      "building tree 11 of 139\n",
      "building tree 12 of 139\n",
      "building tree 13 of 139\n",
      "building tree 14 of 139\n",
      "building tree 15 of 139\n",
      "building tree 16 of 139\n"
     ]
    },
    {
     "name": "stderr",
     "output_type": "stream",
     "text": [
      "[Parallel(n_jobs=-1)]: Done   9 tasks      | elapsed:   23.0s\n"
     ]
    },
    {
     "name": "stdout",
     "output_type": "stream",
     "text": [
      "building tree 17 of 139\n",
      "building tree 18 of 139\n",
      "building tree 19 of 139\n",
      "building tree 20 of 139\n",
      "building tree 21 of 139\n",
      "building tree 22 of 139\n",
      "building tree 23 of 139\n"
     ]
    },
    {
     "name": "stderr",
     "output_type": "stream",
     "text": [
      "[Parallel(n_jobs=-1)]: Done  16 tasks      | elapsed:   27.4s\n"
     ]
    },
    {
     "name": "stdout",
     "output_type": "stream",
     "text": [
      "building tree 24 of 139\n",
      "building tree 25 of 139\n",
      "building tree 26 of 139\n",
      "building tree 27 of 139\n",
      "building tree 28 of 139\n",
      "building tree 29 of 139\n",
      "building tree 30 of 139\n",
      "building tree 31 of 139\n",
      "building tree 32 of 139\n"
     ]
    },
    {
     "name": "stderr",
     "output_type": "stream",
     "text": [
      "[Parallel(n_jobs=-1)]: Done  25 tasks      | elapsed:   45.2s\n"
     ]
    },
    {
     "name": "stdout",
     "output_type": "stream",
     "text": [
      "building tree 33 of 139\n",
      "building tree 34 of 139\n",
      "building tree 35 of 139\n",
      "building tree 36 of 139\n",
      "building tree 37 of 139\n",
      "building tree 38 of 139\n",
      "building tree 39 of 139\n",
      "building tree 40 of 139\n",
      "building tree 41 of 139\n"
     ]
    },
    {
     "name": "stderr",
     "output_type": "stream",
     "text": [
      "[Parallel(n_jobs=-1)]: Done  34 tasks      | elapsed:   58.3s\n"
     ]
    },
    {
     "name": "stdout",
     "output_type": "stream",
     "text": [
      "building tree 42 of 139\n",
      "building tree 43 of 139\n",
      "building tree 44 of 139\n",
      "building tree 45 of 139\n",
      "building tree 46 of 139\n",
      "building tree 47 of 139\n",
      "building tree 48 of 139\n",
      "building tree 49 of 139\n",
      "building tree 50 of 139\n",
      "building tree 51 of 139\n",
      "building tree 52 of 139\n"
     ]
    },
    {
     "name": "stderr",
     "output_type": "stream",
     "text": [
      "[Parallel(n_jobs=-1)]: Done  45 tasks      | elapsed:  1.2min\n"
     ]
    },
    {
     "name": "stdout",
     "output_type": "stream",
     "text": [
      "building tree 53 of 139\n",
      "building tree 54 of 139\n",
      "building tree 55 of 139\n",
      "building tree 56 of 139\n",
      "building tree 57 of 139\n",
      "building tree 58 of 139\n",
      "building tree 59 of 139\n",
      "building tree 60 of 139\n",
      "building tree 61 of 139\n",
      "building tree 62 of 139\n",
      "building tree 63 of 139\n"
     ]
    },
    {
     "name": "stderr",
     "output_type": "stream",
     "text": [
      "[Parallel(n_jobs=-1)]: Done  56 tasks      | elapsed:  1.4min\n"
     ]
    },
    {
     "name": "stdout",
     "output_type": "stream",
     "text": [
      "building tree 64 of 139\n",
      "building tree 65 of 139\n",
      "building tree 66 of 139\n",
      "building tree 67 of 139\n",
      "building tree 68 of 139\n",
      "building tree 69 of 139\n",
      "building tree 70 of 139\n",
      "building tree 71 of 139\n",
      "building tree 72 of 139\n",
      "building tree 73 of 139\n",
      "building tree 74 of 139\n",
      "building tree 75 of 139\n",
      "building tree 76 of 139\n"
     ]
    },
    {
     "name": "stderr",
     "output_type": "stream",
     "text": [
      "[Parallel(n_jobs=-1)]: Done  69 tasks      | elapsed:  1.8min\n"
     ]
    },
    {
     "name": "stdout",
     "output_type": "stream",
     "text": [
      "building tree 77 of 139\n",
      "building tree 78 of 139\n",
      "building tree 79 of 139\n",
      "building tree 80 of 139\n",
      "building tree 81 of 139\n",
      "building tree 82 of 139\n",
      "building tree 83 of 139\n",
      "building tree 84 of 139\n",
      "building tree 85 of 139\n",
      "building tree 86 of 139\n",
      "building tree 87 of 139\n",
      "building tree 88 of 139\n",
      "building tree 89 of 139\n"
     ]
    },
    {
     "name": "stderr",
     "output_type": "stream",
     "text": [
      "[Parallel(n_jobs=-1)]: Done  82 tasks      | elapsed:  2.2min\n"
     ]
    },
    {
     "name": "stdout",
     "output_type": "stream",
     "text": [
      "building tree 90 of 139\n",
      "building tree 91 of 139\n",
      "building tree 92 of 139\n",
      "building tree 93 of 139\n",
      "building tree 94 of 139\n",
      "building tree 95 of 139\n",
      "building tree 96 of 139\n",
      "building tree 97 of 139\n",
      "building tree 98 of 139\n",
      "building tree 99 of 139\n",
      "building tree 100 of 139\n",
      "building tree 101 of 139\n",
      "building tree 102 of 139\n",
      "building tree 103 of 139\n",
      "building tree 104 of 139\n"
     ]
    },
    {
     "name": "stderr",
     "output_type": "stream",
     "text": [
      "[Parallel(n_jobs=-1)]: Done  97 tasks      | elapsed:  2.5min\n"
     ]
    },
    {
     "name": "stdout",
     "output_type": "stream",
     "text": [
      "building tree 105 of 139\n",
      "building tree 107 of 139building tree 106 of 139\n",
      "\n",
      "building tree 108 of 139\n",
      "building tree 109 of 139\n",
      "building tree 110 of 139\n",
      "building tree 111 of 139\n",
      "building tree 112 of 139\n",
      "building tree 113 of 139\n",
      "building tree 114 of 139\n",
      "building tree 115 of 139\n",
      "building tree 116 of 139\n",
      "building tree 117 of 139\n",
      "building tree 118 of 139\n",
      "building tree 119 of 139\n"
     ]
    },
    {
     "name": "stderr",
     "output_type": "stream",
     "text": [
      "[Parallel(n_jobs=-1)]: Done 112 tasks      | elapsed:  2.9min\n"
     ]
    },
    {
     "name": "stdout",
     "output_type": "stream",
     "text": [
      "building tree 120 of 139\n",
      "building tree 121 of 139\n",
      "building tree 122 of 139\n",
      "building tree 123 of 139\n",
      "building tree 124 of 139\n",
      "building tree 125 of 139\n",
      "building tree 126 of 139\n",
      "building tree 127 of 139\n",
      "building tree 128 of 139\n",
      "building tree 129 of 139\n",
      "building tree 130 of 139\n",
      "building tree 131 of 139\n",
      "building tree 132 of 139\n",
      "building tree 133 of 139\n",
      "building tree 134 of 139\n",
      "building tree 135 of 139\n",
      "building tree 136 of 139\n",
      "building tree 137 of 139\n",
      "building tree 138 of 139\n",
      "building tree 139 of 139\n"
     ]
    },
    {
     "name": "stderr",
     "output_type": "stream",
     "text": [
      "[Parallel(n_jobs=-1)]: Done 139 out of 139 | elapsed:  3.5min finished\n",
      "[Parallel(n_jobs=8)]: Done   2 tasks      | elapsed:    0.1s\n",
      "[Parallel(n_jobs=8)]: Done   9 tasks      | elapsed:    0.2s\n",
      "[Parallel(n_jobs=8)]: Done  16 tasks      | elapsed:    0.3s\n",
      "[Parallel(n_jobs=8)]: Done  25 tasks      | elapsed:    0.4s\n",
      "[Parallel(n_jobs=8)]: Done  34 tasks      | elapsed:    0.5s\n",
      "[Parallel(n_jobs=8)]: Done  45 tasks      | elapsed:    0.7s\n",
      "[Parallel(n_jobs=8)]: Done  56 tasks      | elapsed:    0.8s\n",
      "[Parallel(n_jobs=8)]: Done  69 tasks      | elapsed:    1.0s\n",
      "[Parallel(n_jobs=8)]: Done  82 tasks      | elapsed:    1.2s\n",
      "[Parallel(n_jobs=8)]: Done  97 tasks      | elapsed:    1.4s\n",
      "[Parallel(n_jobs=8)]: Done 112 tasks      | elapsed:    1.6s\n",
      "[Parallel(n_jobs=8)]: Done 139 out of 139 | elapsed:    2.0s finished\n",
      "[Parallel(n_jobs=8)]: Done   2 tasks      | elapsed:    0.2s\n",
      "[Parallel(n_jobs=8)]: Done   9 tasks      | elapsed:    0.4s\n",
      "[Parallel(n_jobs=8)]: Done  16 tasks      | elapsed:    0.5s\n",
      "[Parallel(n_jobs=8)]: Done  25 tasks      | elapsed:    0.8s\n",
      "[Parallel(n_jobs=8)]: Done  34 tasks      | elapsed:    1.0s\n",
      "[Parallel(n_jobs=8)]: Done  45 tasks      | elapsed:    1.3s\n",
      "[Parallel(n_jobs=8)]: Done  56 tasks      | elapsed:    1.6s\n",
      "[Parallel(n_jobs=8)]: Done  69 tasks      | elapsed:    2.0s\n",
      "[Parallel(n_jobs=8)]: Done  82 tasks      | elapsed:    2.4s\n",
      "[Parallel(n_jobs=8)]: Done  97 tasks      | elapsed:    2.8s\n",
      "[Parallel(n_jobs=8)]: Done 112 tasks      | elapsed:    3.2s\n",
      "[Parallel(n_jobs=8)]: Done 139 out of 139 | elapsed:    3.9s finished\n",
      "/home/justin/anaconda3/lib/python3.6/site-packages/sklearn/model_selection/_validation.py:437: DataConversionWarning: A column-vector y was passed when a 1d array was expected. Please change the shape of y to (n_samples,), for example using ravel().\n",
      "  estimator.fit(X_train, y_train, **fit_params)\n"
     ]
    },
    {
     "name": "stdout",
     "output_type": "stream",
     "text": [
      "building tree 2 of 139building tree 4 of 139building tree 5 of 139building tree 1 of 139building tree 3 of 139building tree 6 of 139\n",
      "building tree 7 of 139building tree 8 of 139\n",
      "\n",
      "\n",
      "\n",
      "\n",
      "\n",
      "\n",
      "building tree 9 of 139\n"
     ]
    },
    {
     "name": "stderr",
     "output_type": "stream",
     "text": [
      "[Parallel(n_jobs=-1)]: Done   2 tasks      | elapsed:   11.7s\n"
     ]
    },
    {
     "name": "stdout",
     "output_type": "stream",
     "text": [
      "building tree 10 of 139\n",
      "building tree 11 of 139\n",
      "building tree 12 of 139\n",
      "building tree 13 of 139\n",
      "building tree 14 of 139\n",
      "building tree 15 of 139\n",
      "building tree 16 of 139\n"
     ]
    },
    {
     "name": "stderr",
     "output_type": "stream",
     "text": [
      "[Parallel(n_jobs=-1)]: Done   9 tasks      | elapsed:   22.2s\n"
     ]
    },
    {
     "name": "stdout",
     "output_type": "stream",
     "text": [
      "building tree 17 of 139\n",
      "building tree 18 of 139\n",
      "building tree 19 of 139\n",
      "building tree 20 of 139\n",
      "building tree 21 of 139\n",
      "building tree 22 of 139\n",
      "building tree 23 of 139\n"
     ]
    },
    {
     "name": "stderr",
     "output_type": "stream",
     "text": [
      "[Parallel(n_jobs=-1)]: Done  16 tasks      | elapsed:   26.5s\n"
     ]
    },
    {
     "name": "stdout",
     "output_type": "stream",
     "text": [
      "building tree 24 of 139\n",
      "building tree 25 of 139\n",
      "building tree 26 of 139\n",
      "building tree 27 of 139\n",
      "building tree 28 of 139\n",
      "building tree 29 of 139\n",
      "building tree 30 of 139\n",
      "building tree 31 of 139\n",
      "building tree 32 of 139\n"
     ]
    },
    {
     "name": "stderr",
     "output_type": "stream",
     "text": [
      "[Parallel(n_jobs=-1)]: Done  25 tasks      | elapsed:   46.0s\n"
     ]
    },
    {
     "name": "stdout",
     "output_type": "stream",
     "text": [
      "building tree 33 of 139\n",
      "building tree 34 of 139\n",
      "building tree 35 of 139\n",
      "building tree 36 of 139\n",
      "building tree 37 of 139\n",
      "building tree 38 of 139\n",
      "building tree 39 of 139\n",
      "building tree 40 of 139\n",
      "building tree 41 of 139\n"
     ]
    },
    {
     "name": "stderr",
     "output_type": "stream",
     "text": [
      "[Parallel(n_jobs=-1)]: Done  34 tasks      | elapsed:   57.9s\n"
     ]
    },
    {
     "name": "stdout",
     "output_type": "stream",
     "text": [
      "building tree 42 of 139\n",
      "building tree 43 of 139\n",
      "building tree 44 of 139\n",
      "building tree 45 of 139\n",
      "building tree 46 of 139\n",
      "building tree 47 of 139\n",
      "building tree 48 of 139\n",
      "building tree 49 of 139\n",
      "building tree 50 of 139\n",
      "building tree 51 of 139\n",
      "building tree 52 of 139\n"
     ]
    },
    {
     "name": "stderr",
     "output_type": "stream",
     "text": [
      "[Parallel(n_jobs=-1)]: Done  45 tasks      | elapsed:  1.2min\n"
     ]
    },
    {
     "name": "stdout",
     "output_type": "stream",
     "text": [
      "building tree 53 of 139\n",
      "building tree 54 of 139\n",
      "building tree 55 of 139\n",
      "building tree 56 of 139\n",
      "building tree 57 of 139\n",
      "building tree 58 of 139\n",
      "building tree 59 of 139\n",
      "building tree 60 of 139\n",
      "building tree 61 of 139\n",
      "building tree 62 of 139\n",
      "building tree 63 of 139\n"
     ]
    },
    {
     "name": "stderr",
     "output_type": "stream",
     "text": [
      "[Parallel(n_jobs=-1)]: Done  56 tasks      | elapsed:  1.5min\n"
     ]
    },
    {
     "name": "stdout",
     "output_type": "stream",
     "text": [
      "building tree 64 of 139\n",
      "building tree 65 of 139\n",
      "building tree 66 of 139\n",
      "building tree 67 of 139\n",
      "building tree 68 of 139\n",
      "building tree 69 of 139\n",
      "building tree 70 of 139\n",
      "building tree 71 of 139\n",
      "building tree 72 of 139\n",
      "building tree 73 of 139\n",
      "building tree 74 of 139\n",
      "building tree 75 of 139\n",
      "building tree 76 of 139\n"
     ]
    },
    {
     "name": "stderr",
     "output_type": "stream",
     "text": [
      "[Parallel(n_jobs=-1)]: Done  69 tasks      | elapsed:  1.8min\n"
     ]
    },
    {
     "name": "stdout",
     "output_type": "stream",
     "text": [
      "building tree 77 of 139\n",
      "building tree 78 of 139\n",
      "building tree 79 of 139\n",
      "building tree 80 of 139\n",
      "building tree 81 of 139\n",
      "building tree 82 of 139\n",
      "building tree 83 of 139\n",
      "building tree 84 of 139\n",
      "building tree 85 of 139\n",
      "building tree 86 of 139\n",
      "building tree 87 of 139\n",
      "building tree 88 of 139\n",
      "building tree 89 of 139\n"
     ]
    },
    {
     "name": "stderr",
     "output_type": "stream",
     "text": [
      "[Parallel(n_jobs=-1)]: Done  82 tasks      | elapsed:  2.2min\n"
     ]
    },
    {
     "name": "stdout",
     "output_type": "stream",
     "text": [
      "building tree 90 of 139\n",
      "building tree 91 of 139\n",
      "building tree 92 of 139\n",
      "building tree 93 of 139\n",
      "building tree 94 of 139\n",
      "building tree 95 of 139\n",
      "building tree 96 of 139\n",
      "building tree 97 of 139\n",
      "building tree 98 of 139\n",
      "building tree 99 of 139\n",
      "building tree 100 of 139\n",
      "building tree 101 of 139\n",
      "building tree 102 of 139\n",
      "building tree 103 of 139\n",
      "building tree 104 of 139\n"
     ]
    },
    {
     "name": "stderr",
     "output_type": "stream",
     "text": [
      "[Parallel(n_jobs=-1)]: Done  97 tasks      | elapsed:  2.5min\n"
     ]
    },
    {
     "name": "stdout",
     "output_type": "stream",
     "text": [
      "building tree 105 of 139\n",
      "building tree 106 of 139\n",
      "building tree 107 of 139\n",
      "building tree 108 of 139\n",
      "building tree 109 of 139\n",
      "building tree 110 of 139\n",
      "building tree 111 of 139\n",
      "building tree 112 of 139\n",
      "building tree 113 of 139\n",
      "building tree 114 of 139\n",
      "building tree 115 of 139\n",
      "building tree 116 of 139\n",
      "building tree 117 of 139\n",
      "building tree 118 of 139\n",
      "building tree 119 of 139\n"
     ]
    },
    {
     "name": "stderr",
     "output_type": "stream",
     "text": [
      "[Parallel(n_jobs=-1)]: Done 112 tasks      | elapsed:  2.9min\n"
     ]
    },
    {
     "name": "stdout",
     "output_type": "stream",
     "text": [
      "building tree 120 of 139\n",
      "building tree 121 of 139\n",
      "building tree 122 of 139\n",
      "building tree 123 of 139\n",
      "building tree 124 of 139\n",
      "building tree 125 of 139\n",
      "building tree 126 of 139\n",
      "building tree 127 of 139\n",
      "building tree 128 of 139\n",
      "building tree 129 of 139\n",
      "building tree 130 of 139\n",
      "building tree 131 of 139\n",
      "building tree 132 of 139\n",
      "building tree 133 of 139\n",
      "building tree 134 of 139\n",
      "building tree 135 of 139\n",
      "building tree 136 of 139\n",
      "building tree 137 of 139\n",
      "building tree 138 of 139\n",
      "building tree 139 of 139\n"
     ]
    },
    {
     "name": "stderr",
     "output_type": "stream",
     "text": [
      "[Parallel(n_jobs=-1)]: Done 139 out of 139 | elapsed:  3.5min finished\n",
      "[Parallel(n_jobs=8)]: Done   2 tasks      | elapsed:    0.1s\n",
      "[Parallel(n_jobs=8)]: Done   9 tasks      | elapsed:    0.2s\n",
      "[Parallel(n_jobs=8)]: Done  16 tasks      | elapsed:    0.3s\n",
      "[Parallel(n_jobs=8)]: Done  25 tasks      | elapsed:    0.4s\n",
      "[Parallel(n_jobs=8)]: Done  34 tasks      | elapsed:    0.5s\n",
      "[Parallel(n_jobs=8)]: Done  45 tasks      | elapsed:    0.7s\n",
      "[Parallel(n_jobs=8)]: Done  56 tasks      | elapsed:    0.8s\n",
      "[Parallel(n_jobs=8)]: Done  69 tasks      | elapsed:    1.0s\n",
      "[Parallel(n_jobs=8)]: Done  82 tasks      | elapsed:    1.2s\n",
      "[Parallel(n_jobs=8)]: Done  97 tasks      | elapsed:    1.4s\n",
      "[Parallel(n_jobs=8)]: Done 112 tasks      | elapsed:    1.6s\n",
      "[Parallel(n_jobs=8)]: Done 139 out of 139 | elapsed:    1.9s finished\n",
      "[Parallel(n_jobs=8)]: Done   2 tasks      | elapsed:    0.2s\n",
      "[Parallel(n_jobs=8)]: Done   9 tasks      | elapsed:    0.4s\n",
      "[Parallel(n_jobs=8)]: Done  16 tasks      | elapsed:    0.6s\n",
      "[Parallel(n_jobs=8)]: Done  25 tasks      | elapsed:    0.8s\n",
      "[Parallel(n_jobs=8)]: Done  34 tasks      | elapsed:    1.0s\n",
      "[Parallel(n_jobs=8)]: Done  45 tasks      | elapsed:    1.4s\n",
      "[Parallel(n_jobs=8)]: Done  56 tasks      | elapsed:    1.6s\n",
      "[Parallel(n_jobs=8)]: Done  69 tasks      | elapsed:    2.0s\n",
      "[Parallel(n_jobs=8)]: Done  82 tasks      | elapsed:    2.4s\n",
      "[Parallel(n_jobs=8)]: Done  97 tasks      | elapsed:    2.8s\n",
      "[Parallel(n_jobs=8)]: Done 112 tasks      | elapsed:    3.2s\n",
      "[Parallel(n_jobs=8)]: Done 139 out of 139 | elapsed:    3.9s finished\n",
      "/home/justin/anaconda3/lib/python3.6/site-packages/sklearn/model_selection/_validation.py:437: DataConversionWarning: A column-vector y was passed when a 1d array was expected. Please change the shape of y to (n_samples,), for example using ravel().\n",
      "  estimator.fit(X_train, y_train, **fit_params)\n"
     ]
    },
    {
     "name": "stdout",
     "output_type": "stream",
     "text": [
      "building tree 3 of 139building tree 4 of 139building tree 5 of 139\n",
      "building tree 1 of 139building tree 7 of 139\n",
      "\n",
      "building tree 2 of 139\n",
      "\n",
      "building tree 8 of 139building tree 6 of 139\n",
      "\n",
      "\n",
      "building tree 9 of 139\n"
     ]
    },
    {
     "name": "stderr",
     "output_type": "stream",
     "text": [
      "[Parallel(n_jobs=-1)]: Done   2 tasks      | elapsed:   12.0s\n"
     ]
    },
    {
     "name": "stdout",
     "output_type": "stream",
     "text": [
      "building tree 10 of 139\n",
      "building tree 11 of 139\n",
      "building tree 12 of 139\n",
      "building tree 13 of 139\n",
      "building tree 14 of 139\n",
      "building tree 15 of 139\n",
      "building tree 16 of 139\n"
     ]
    },
    {
     "name": "stderr",
     "output_type": "stream",
     "text": [
      "[Parallel(n_jobs=-1)]: Done   9 tasks      | elapsed:   22.4s\n"
     ]
    },
    {
     "name": "stdout",
     "output_type": "stream",
     "text": [
      "building tree 17 of 139\n",
      "building tree 18 of 139\n",
      "building tree 19 of 139\n",
      "building tree 20 of 139\n",
      "building tree 21 of 139\n",
      "building tree 22 of 139\n",
      "building tree 23 of 139\n"
     ]
    },
    {
     "name": "stderr",
     "output_type": "stream",
     "text": [
      "[Parallel(n_jobs=-1)]: Done  16 tasks      | elapsed:   26.0s\n"
     ]
    },
    {
     "name": "stdout",
     "output_type": "stream",
     "text": [
      "building tree 24 of 139\n",
      "building tree 25 of 139\n",
      "building tree 26 of 139\n",
      "building tree 27 of 139\n",
      "building tree 28 of 139\n",
      "building tree 29 of 139\n",
      "building tree 30 of 139\n",
      "building tree 31 of 139\n",
      "building tree 32 of 139\n"
     ]
    },
    {
     "name": "stderr",
     "output_type": "stream",
     "text": [
      "[Parallel(n_jobs=-1)]: Done  25 tasks      | elapsed:   45.9s\n"
     ]
    },
    {
     "name": "stdout",
     "output_type": "stream",
     "text": [
      "building tree 33 of 139\n",
      "building tree 34 of 139\n",
      "building tree 35 of 139\n",
      "building tree 36 of 139\n",
      "building tree 37 of 139\n",
      "building tree 38 of 139\n",
      "building tree 39 of 139\n",
      "building tree 40 of 139\n",
      "building tree 41 of 139\n"
     ]
    },
    {
     "name": "stderr",
     "output_type": "stream",
     "text": [
      "[Parallel(n_jobs=-1)]: Done  34 tasks      | elapsed:   59.9s\n"
     ]
    },
    {
     "name": "stdout",
     "output_type": "stream",
     "text": [
      "building tree 42 of 139\n",
      "building tree 43 of 139\n",
      "building tree 44 of 139\n",
      "building tree 45 of 139\n",
      "building tree 46 of 139\n",
      "building tree 47 of 139\n",
      "building tree 48 of 139\n",
      "building tree 49 of 139\n",
      "building tree 50 of 139\n",
      "building tree 51 of 139\n",
      "building tree 52 of 139\n"
     ]
    },
    {
     "name": "stderr",
     "output_type": "stream",
     "text": [
      "[Parallel(n_jobs=-1)]: Done  45 tasks      | elapsed:  1.2min\n"
     ]
    },
    {
     "name": "stdout",
     "output_type": "stream",
     "text": [
      "building tree 53 of 139\n",
      "building tree 54 of 139\n",
      "building tree 55 of 139\n",
      "building tree 56 of 139\n",
      "building tree 57 of 139\n",
      "building tree 58 of 139\n",
      "building tree 59 of 139\n",
      "building tree 60 of 139\n",
      "building tree 61 of 139\n",
      "building tree 62 of 139\n",
      "building tree 63 of 139\n"
     ]
    },
    {
     "name": "stderr",
     "output_type": "stream",
     "text": [
      "[Parallel(n_jobs=-1)]: Done  56 tasks      | elapsed:  1.5min\n"
     ]
    },
    {
     "name": "stdout",
     "output_type": "stream",
     "text": [
      "building tree 64 of 139\n",
      "building tree 65 of 139\n",
      "building tree 66 of 139\n",
      "building tree 67 of 139\n",
      "building tree 68 of 139\n",
      "building tree 69 of 139\n",
      "building tree 70 of 139\n",
      "building tree 71 of 139\n",
      "building tree 72 of 139\n",
      "building tree 73 of 139\n",
      "building tree 74 of 139\n",
      "building tree 75 of 139\n",
      "building tree 76 of 139\n"
     ]
    },
    {
     "name": "stderr",
     "output_type": "stream",
     "text": [
      "[Parallel(n_jobs=-1)]: Done  69 tasks      | elapsed:  1.8min\n"
     ]
    },
    {
     "name": "stdout",
     "output_type": "stream",
     "text": [
      "building tree 77 of 139\n",
      "building tree 78 of 139\n",
      "building tree 79 of 139\n",
      "building tree 80 of 139\n",
      "building tree 81 of 139\n",
      "building tree 82 of 139\n",
      "building tree 83 of 139\n",
      "building tree 84 of 139\n",
      "building tree 85 of 139\n",
      "building tree 86 of 139\n",
      "building tree 87 of 139\n",
      "building tree 88 of 139\n",
      "building tree 89 of 139\n"
     ]
    },
    {
     "name": "stderr",
     "output_type": "stream",
     "text": [
      "[Parallel(n_jobs=-1)]: Done  82 tasks      | elapsed:  2.2min\n"
     ]
    },
    {
     "name": "stdout",
     "output_type": "stream",
     "text": [
      "building tree 90 of 139\n",
      "building tree 91 of 139\n",
      "building tree 92 of 139\n",
      "building tree 93 of 139\n",
      "building tree 94 of 139\n",
      "building tree 95 of 139\n",
      "building tree 96 of 139\n",
      "building tree 97 of 139\n",
      "building tree 98 of 139\n",
      "building tree 99 of 139\n",
      "building tree 100 of 139\n",
      "building tree 101 of 139\n",
      "building tree 102 of 139\n",
      "building tree 103 of 139\n",
      "building tree 104 of 139\n"
     ]
    },
    {
     "name": "stderr",
     "output_type": "stream",
     "text": [
      "[Parallel(n_jobs=-1)]: Done  97 tasks      | elapsed:  2.5min\n"
     ]
    },
    {
     "name": "stdout",
     "output_type": "stream",
     "text": [
      "building tree 105 of 139\n",
      "building tree 106 of 139\n",
      "building tree 107 of 139\n",
      "building tree 108 of 139\n",
      "building tree 109 of 139\n",
      "building tree 110 of 139\n",
      "building tree 111 of 139\n",
      "building tree 112 of 139\n",
      "building tree 113 of 139\n",
      "building tree 114 of 139\n",
      "building tree 115 of 139\n",
      "building tree 116 of 139\n",
      "building tree 117 of 139\n",
      "building tree 118 of 139\n",
      "building tree 119 of 139\n",
      "building tree 120 of 139\n"
     ]
    },
    {
     "name": "stderr",
     "output_type": "stream",
     "text": [
      "[Parallel(n_jobs=-1)]: Done 112 tasks      | elapsed:  2.9min\n"
     ]
    },
    {
     "name": "stdout",
     "output_type": "stream",
     "text": [
      "building tree 121 of 139\n",
      "building tree 122 of 139\n",
      "building tree 123 of 139\n",
      "building tree 124 of 139\n",
      "building tree 125 of 139\n",
      "building tree 126 of 139\n",
      "building tree 127 of 139\n",
      "building tree 128 of 139\n",
      "building tree 129 of 139\n",
      "building tree 130 of 139\n",
      "building tree 131 of 139\n",
      "building tree 132 of 139\n",
      "building tree 133 of 139\n",
      "building tree 134 of 139\n",
      "building tree 135 of 139\n",
      "building tree 136 of 139\n",
      "building tree 137 of 139\n",
      "building tree 138 of 139\n",
      "building tree 139 of 139\n"
     ]
    },
    {
     "name": "stderr",
     "output_type": "stream",
     "text": [
      "[Parallel(n_jobs=-1)]: Done 139 out of 139 | elapsed:  3.5min finished\n",
      "[Parallel(n_jobs=8)]: Done   2 tasks      | elapsed:    0.1s\n",
      "[Parallel(n_jobs=8)]: Done   9 tasks      | elapsed:    0.2s\n",
      "[Parallel(n_jobs=8)]: Done  16 tasks      | elapsed:    0.3s\n",
      "[Parallel(n_jobs=8)]: Done  25 tasks      | elapsed:    0.4s\n",
      "[Parallel(n_jobs=8)]: Done  34 tasks      | elapsed:    0.5s\n",
      "[Parallel(n_jobs=8)]: Done  45 tasks      | elapsed:    0.7s\n",
      "[Parallel(n_jobs=8)]: Done  56 tasks      | elapsed:    0.8s\n",
      "[Parallel(n_jobs=8)]: Done  69 tasks      | elapsed:    1.0s\n",
      "[Parallel(n_jobs=8)]: Done  82 tasks      | elapsed:    1.2s\n",
      "[Parallel(n_jobs=8)]: Done  97 tasks      | elapsed:    1.4s\n",
      "[Parallel(n_jobs=8)]: Done 112 tasks      | elapsed:    1.6s\n",
      "[Parallel(n_jobs=8)]: Done 139 out of 139 | elapsed:    2.0s finished\n",
      "[Parallel(n_jobs=8)]: Done   2 tasks      | elapsed:    0.2s\n",
      "[Parallel(n_jobs=8)]: Done   9 tasks      | elapsed:    0.4s\n",
      "[Parallel(n_jobs=8)]: Done  16 tasks      | elapsed:    0.6s\n",
      "[Parallel(n_jobs=8)]: Done  25 tasks      | elapsed:    0.8s\n",
      "[Parallel(n_jobs=8)]: Done  34 tasks      | elapsed:    1.0s\n",
      "[Parallel(n_jobs=8)]: Done  45 tasks      | elapsed:    1.4s\n",
      "[Parallel(n_jobs=8)]: Done  56 tasks      | elapsed:    1.6s\n",
      "[Parallel(n_jobs=8)]: Done  69 tasks      | elapsed:    2.0s\n",
      "[Parallel(n_jobs=8)]: Done  82 tasks      | elapsed:    2.3s\n",
      "[Parallel(n_jobs=8)]: Done  97 tasks      | elapsed:    2.7s\n",
      "[Parallel(n_jobs=8)]: Done 112 tasks      | elapsed:    3.1s\n",
      "[Parallel(n_jobs=8)]: Done 139 out of 139 | elapsed:    3.9s finished\n",
      "/home/justin/anaconda3/lib/python3.6/site-packages/sklearn/model_selection/_validation.py:437: DataConversionWarning: A column-vector y was passed when a 1d array was expected. Please change the shape of y to (n_samples,), for example using ravel().\n",
      "  estimator.fit(X_train, y_train, **fit_params)\n"
     ]
    },
    {
     "name": "stdout",
     "output_type": "stream",
     "text": [
      "building tree 3 of 163building tree 1 of 163building tree 4 of 163building tree 6 of 163building tree 8 of 163building tree 7 of 163\n",
      "\n",
      "\n",
      "\n",
      "\n",
      "\n",
      "building tree 2 of 163building tree 5 of 163\n",
      "\n",
      "building tree 9 of 163\n"
     ]
    },
    {
     "name": "stderr",
     "output_type": "stream",
     "text": [
      "[Parallel(n_jobs=-1)]: Done   2 tasks      | elapsed:   12.7s\n"
     ]
    },
    {
     "name": "stdout",
     "output_type": "stream",
     "text": [
      "building tree 10 of 163\n",
      "building tree 11 of 163\n",
      "building tree 12 of 163\n",
      "building tree 13 of 163\n",
      "building tree 14 of 163\n",
      "building tree 15 of 163\n",
      "building tree 16 of 163\n"
     ]
    },
    {
     "name": "stderr",
     "output_type": "stream",
     "text": [
      "[Parallel(n_jobs=-1)]: Done   9 tasks      | elapsed:   24.8s\n"
     ]
    },
    {
     "name": "stdout",
     "output_type": "stream",
     "text": [
      "building tree 17 of 163\n",
      "building tree 18 of 163\n",
      "building tree 19 of 163\n",
      "building tree 20 of 163\n",
      "building tree 21 of 163\n",
      "building tree 22 of 163\n",
      "building tree 23 of 163\n"
     ]
    },
    {
     "name": "stderr",
     "output_type": "stream",
     "text": [
      "[Parallel(n_jobs=-1)]: Done  16 tasks      | elapsed:   29.3s\n"
     ]
    },
    {
     "name": "stdout",
     "output_type": "stream",
     "text": [
      "building tree 24 of 163\n",
      "building tree 25 of 163\n",
      "building tree 26 of 163\n",
      "building tree 27 of 163\n",
      "building tree 28 of 163\n",
      "building tree 29 of 163\n",
      "building tree 30 of 163\n",
      "building tree 31 of 163\n",
      "building tree 32 of 163\n"
     ]
    },
    {
     "name": "stderr",
     "output_type": "stream",
     "text": [
      "[Parallel(n_jobs=-1)]: Done  25 tasks      | elapsed:   51.1s\n"
     ]
    },
    {
     "name": "stdout",
     "output_type": "stream",
     "text": [
      "building tree 33 of 163\n",
      "building tree 34 of 163\n",
      "building tree 35 of 163\n",
      "building tree 36 of 163\n",
      "building tree 37 of 163\n",
      "building tree 38 of 163\n",
      "building tree 39 of 163\n",
      "building tree 40 of 163\n",
      "building tree 41 of 163\n"
     ]
    },
    {
     "name": "stderr",
     "output_type": "stream",
     "text": [
      "[Parallel(n_jobs=-1)]: Done  34 tasks      | elapsed:  1.1min\n"
     ]
    },
    {
     "name": "stdout",
     "output_type": "stream",
     "text": [
      "building tree 42 of 163\n",
      "building tree 43 of 163\n",
      "building tree 44 of 163\n",
      "building tree 45 of 163\n",
      "building tree 46 of 163\n",
      "building tree 47 of 163\n",
      "building tree 48 of 163\n",
      "building tree 49 of 163\n",
      "building tree 50 of 163\n",
      "building tree 51 of 163\n",
      "building tree 52 of 163\n"
     ]
    },
    {
     "name": "stderr",
     "output_type": "stream",
     "text": [
      "[Parallel(n_jobs=-1)]: Done  45 tasks      | elapsed:  1.3min\n"
     ]
    },
    {
     "name": "stdout",
     "output_type": "stream",
     "text": [
      "building tree 53 of 163\n",
      "building tree 54 of 163\n",
      "building tree 55 of 163\n",
      "building tree 56 of 163\n",
      "building tree 57 of 163\n",
      "building tree 58 of 163\n",
      "building tree 59 of 163\n",
      "building tree 60 of 163\n",
      "building tree 61 of 163\n",
      "building tree 62 of 163\n",
      "building tree 63 of 163\n"
     ]
    },
    {
     "name": "stderr",
     "output_type": "stream",
     "text": [
      "[Parallel(n_jobs=-1)]: Done  56 tasks      | elapsed:  1.6min\n"
     ]
    },
    {
     "name": "stdout",
     "output_type": "stream",
     "text": [
      "building tree 64 of 163\n",
      "building tree 65 of 163\n",
      "building tree 66 of 163\n",
      "building tree 67 of 163\n",
      "building tree 68 of 163\n",
      "building tree 69 of 163\n",
      "building tree 70 of 163\n",
      "building tree 71 of 163\n",
      "building tree 72 of 163\n",
      "building tree 73 of 163\n",
      "building tree 74 of 163\n",
      "building tree 75 of 163\n",
      "building tree 76 of 163\n"
     ]
    },
    {
     "name": "stderr",
     "output_type": "stream",
     "text": [
      "[Parallel(n_jobs=-1)]: Done  69 tasks      | elapsed:  2.0min\n"
     ]
    },
    {
     "name": "stdout",
     "output_type": "stream",
     "text": [
      "building tree 77 of 163\n",
      "building tree 78 of 163\n",
      "building tree 79 of 163\n",
      "building tree 80 of 163\n",
      "building tree 81 of 163\n",
      "building tree 82 of 163\n",
      "building tree 83 of 163\n",
      "building tree 84 of 163\n",
      "building tree 85 of 163\n",
      "building tree 86 of 163\n",
      "building tree 87 of 163\n",
      "building tree 88 of 163\n",
      "building tree 89 of 163\n"
     ]
    },
    {
     "name": "stderr",
     "output_type": "stream",
     "text": [
      "[Parallel(n_jobs=-1)]: Done  82 tasks      | elapsed:  2.4min\n"
     ]
    },
    {
     "name": "stdout",
     "output_type": "stream",
     "text": [
      "building tree 90 of 163\n",
      "building tree 91 of 163\n",
      "building tree 92 of 163\n",
      "building tree 93 of 163\n",
      "building tree 94 of 163\n",
      "building tree 95 of 163\n",
      "building tree 96 of 163\n",
      "building tree 97 of 163\n",
      "building tree 98 of 163\n",
      "building tree 99 of 163\n",
      "building tree 100 of 163\n",
      "building tree 101 of 163\n",
      "building tree 102 of 163\n",
      "building tree 103 of 163\n",
      "building tree 104 of 163\n"
     ]
    },
    {
     "name": "stderr",
     "output_type": "stream",
     "text": [
      "[Parallel(n_jobs=-1)]: Done  97 tasks      | elapsed:  2.8min\n"
     ]
    },
    {
     "name": "stdout",
     "output_type": "stream",
     "text": [
      "building tree 105 of 163\n",
      "building tree 106 of 163\n",
      "building tree 107 of 163\n",
      "building tree 108 of 163\n",
      "building tree 109 of 163\n",
      "building tree 110 of 163\n",
      "building tree 111 of 163\n",
      "building tree 112 of 163\n",
      "building tree 113 of 163\n",
      "building tree 114 of 163\n",
      "building tree 115 of 163\n",
      "building tree 116 of 163\n",
      "building tree 117 of 163\n",
      "building tree 118 of 163\n",
      "building tree 119 of 163\n"
     ]
    },
    {
     "name": "stderr",
     "output_type": "stream",
     "text": [
      "[Parallel(n_jobs=-1)]: Done 112 tasks      | elapsed:  3.2min\n"
     ]
    },
    {
     "name": "stdout",
     "output_type": "stream",
     "text": [
      "building tree 120 of 163\n",
      "building tree 121 of 163\n",
      "building tree 122 of 163\n",
      "building tree 123 of 163\n",
      "building tree 124 of 163\n",
      "building tree 125 of 163\n",
      "building tree 126 of 163\n",
      "building tree 127 of 163\n",
      "building tree 128 of 163\n",
      "building tree 129 of 163\n",
      "building tree 130 of 163\n",
      "building tree 131 of 163\n",
      "building tree 132 of 163\n",
      "building tree 133 of 163\n",
      "building tree 134 of 163\n",
      "building tree 135 of 163\n",
      "building tree 136 of 163\n"
     ]
    },
    {
     "name": "stderr",
     "output_type": "stream",
     "text": [
      "[Parallel(n_jobs=-1)]: Done 129 tasks      | elapsed:  3.7min\n"
     ]
    },
    {
     "name": "stdout",
     "output_type": "stream",
     "text": [
      "building tree 137 of 163\n",
      "building tree 138 of 163\n",
      "building tree 139 of 163\n",
      "building tree 140 of 163\n",
      "building tree 141 of 163\n",
      "building tree 142 of 163\n",
      "building tree 143 of 163\n",
      "building tree 144 of 163\n",
      "building tree 145 of 163\n",
      "building tree 146 of 163\n",
      "building tree 147 of 163\n",
      "building tree 148 of 163\n",
      "building tree 149 of 163\n",
      "building tree 150 of 163\n",
      "building tree 151 of 163\n",
      "building tree 152 of 163\n",
      "building tree 153 of 163\n"
     ]
    },
    {
     "name": "stderr",
     "output_type": "stream",
     "text": [
      "[Parallel(n_jobs=-1)]: Done 146 tasks      | elapsed:  4.2min\n"
     ]
    },
    {
     "name": "stdout",
     "output_type": "stream",
     "text": [
      "building tree 154 of 163\n",
      "building tree 155 of 163\n",
      "building tree 156 of 163\n",
      "building tree 157 of 163\n",
      "building tree 158 of 163\n",
      "building tree 159 of 163\n",
      "building tree 160 of 163\n",
      "building tree 161 of 163\n",
      "building tree 162 of 163\n",
      "building tree 163 of 163\n"
     ]
    },
    {
     "name": "stderr",
     "output_type": "stream",
     "text": [
      "[Parallel(n_jobs=-1)]: Done 163 out of 163 | elapsed:  4.6min finished\n",
      "[Parallel(n_jobs=8)]: Done   2 tasks      | elapsed:    0.0s\n",
      "[Parallel(n_jobs=8)]: Done   9 tasks      | elapsed:    0.1s\n",
      "[Parallel(n_jobs=8)]: Done  16 tasks      | elapsed:    0.1s\n",
      "[Parallel(n_jobs=8)]: Done  25 tasks      | elapsed:    0.1s\n",
      "[Parallel(n_jobs=8)]: Done  34 tasks      | elapsed:    0.2s\n",
      "[Parallel(n_jobs=8)]: Done  45 tasks      | elapsed:    0.2s\n",
      "[Parallel(n_jobs=8)]: Done  56 tasks      | elapsed:    0.3s\n",
      "[Parallel(n_jobs=8)]: Done  69 tasks      | elapsed:    0.3s\n",
      "[Parallel(n_jobs=8)]: Done  82 tasks      | elapsed:    0.4s\n",
      "[Parallel(n_jobs=8)]: Done  97 tasks      | elapsed:    0.4s\n",
      "[Parallel(n_jobs=8)]: Done 112 tasks      | elapsed:    0.5s\n",
      "[Parallel(n_jobs=8)]: Done 129 tasks      | elapsed:    0.6s\n",
      "[Parallel(n_jobs=8)]: Done 146 tasks      | elapsed:    0.7s\n",
      "[Parallel(n_jobs=8)]: Done 163 out of 163 | elapsed:    0.7s finished\n",
      "[Parallel(n_jobs=8)]: Done   2 tasks      | elapsed:    0.1s\n",
      "[Parallel(n_jobs=8)]: Done   9 tasks      | elapsed:    0.1s\n",
      "[Parallel(n_jobs=8)]: Done  16 tasks      | elapsed:    0.2s\n",
      "[Parallel(n_jobs=8)]: Done  25 tasks      | elapsed:    0.2s\n",
      "[Parallel(n_jobs=8)]: Done  34 tasks      | elapsed:    0.3s\n",
      "[Parallel(n_jobs=8)]: Done  45 tasks      | elapsed:    0.4s\n",
      "[Parallel(n_jobs=8)]: Done  56 tasks      | elapsed:    0.5s\n",
      "[Parallel(n_jobs=8)]: Done  69 tasks      | elapsed:    0.6s\n",
      "[Parallel(n_jobs=8)]: Done  82 tasks      | elapsed:    0.8s\n",
      "[Parallel(n_jobs=8)]: Done  97 tasks      | elapsed:    0.9s\n",
      "[Parallel(n_jobs=8)]: Done 112 tasks      | elapsed:    1.0s\n",
      "[Parallel(n_jobs=8)]: Done 129 tasks      | elapsed:    1.2s\n",
      "[Parallel(n_jobs=8)]: Done 146 tasks      | elapsed:    1.3s\n",
      "[Parallel(n_jobs=8)]: Done 163 out of 163 | elapsed:    1.5s finished\n",
      "/home/justin/anaconda3/lib/python3.6/site-packages/sklearn/model_selection/_validation.py:437: DataConversionWarning: A column-vector y was passed when a 1d array was expected. Please change the shape of y to (n_samples,), for example using ravel().\n",
      "  estimator.fit(X_train, y_train, **fit_params)\n"
     ]
    },
    {
     "name": "stdout",
     "output_type": "stream",
     "text": [
      "building tree 2 of 163building tree 1 of 163building tree 3 of 163building tree 5 of 163building tree 6 of 163building tree 4 of 163building tree 7 of 163\n",
      "\n",
      "\n",
      "\n",
      "\n",
      "\n",
      "\n",
      "building tree 8 of 163\n",
      "building tree 9 of 163\n"
     ]
    },
    {
     "name": "stderr",
     "output_type": "stream",
     "text": [
      "[Parallel(n_jobs=-1)]: Done   2 tasks      | elapsed:   12.2s\n"
     ]
    },
    {
     "name": "stdout",
     "output_type": "stream",
     "text": [
      "building tree 10 of 163\n",
      "building tree 11 of 163\n",
      "building tree 13 of 163\n",
      "building tree 12 of 163\n",
      "building tree 14 of 163\n",
      "building tree 15 of 163\n",
      "building tree 16 of 163\n"
     ]
    },
    {
     "name": "stderr",
     "output_type": "stream",
     "text": [
      "[Parallel(n_jobs=-1)]: Done   9 tasks      | elapsed:   24.2s\n"
     ]
    },
    {
     "name": "stdout",
     "output_type": "stream",
     "text": [
      "building tree 17 of 163\n",
      "building tree 18 of 163\n",
      "building tree 19 of 163\n",
      "building tree 20 of 163\n",
      "building tree 21 of 163\n",
      "building tree 22 of 163\n",
      "building tree 23 of 163\n"
     ]
    },
    {
     "name": "stderr",
     "output_type": "stream",
     "text": [
      "[Parallel(n_jobs=-1)]: Done  16 tasks      | elapsed:   27.5s\n"
     ]
    },
    {
     "name": "stdout",
     "output_type": "stream",
     "text": [
      "building tree 24 of 163\n",
      "building tree 25 of 163\n",
      "building tree 26 of 163\n",
      "building tree 27 of 163\n",
      "building tree 28 of 163\n",
      "building tree 29 of 163\n",
      "building tree 30 of 163\n",
      "building tree 31 of 163\n",
      "building tree 32 of 163\n"
     ]
    },
    {
     "name": "stderr",
     "output_type": "stream",
     "text": [
      "[Parallel(n_jobs=-1)]: Done  25 tasks      | elapsed:   49.1s\n"
     ]
    },
    {
     "name": "stdout",
     "output_type": "stream",
     "text": [
      "building tree 33 of 163\n",
      "building tree 34 of 163\n",
      "building tree 35 of 163\n",
      "building tree 36 of 163\n",
      "building tree 37 of 163\n",
      "building tree 38 of 163\n",
      "building tree 39 of 163\n",
      "building tree 40 of 163\n",
      "building tree 41 of 163\n"
     ]
    },
    {
     "name": "stderr",
     "output_type": "stream",
     "text": [
      "[Parallel(n_jobs=-1)]: Done  34 tasks      | elapsed:  1.1min\n"
     ]
    },
    {
     "name": "stdout",
     "output_type": "stream",
     "text": [
      "building tree 42 of 163\n",
      "building tree 43 of 163\n",
      "building tree 44 of 163\n",
      "building tree 45 of 163\n",
      "building tree 46 of 163\n",
      "building tree 47 of 163\n",
      "building tree 48 of 163\n",
      "building tree 49 of 163\n",
      "building tree 50 of 163\n",
      "building tree 51 of 163\n",
      "building tree 52 of 163\n"
     ]
    },
    {
     "name": "stderr",
     "output_type": "stream",
     "text": [
      "[Parallel(n_jobs=-1)]: Done  45 tasks      | elapsed:  1.3min\n"
     ]
    },
    {
     "name": "stdout",
     "output_type": "stream",
     "text": [
      "building tree 53 of 163\n",
      "building tree 54 of 163\n",
      "building tree 55 of 163\n",
      "building tree 56 of 163\n",
      "building tree 57 of 163\n",
      "building tree 58 of 163\n",
      "building tree 59 of 163\n",
      "building tree 60 of 163\n",
      "building tree 61 of 163\n",
      "building tree 62 of 163\n",
      "building tree 63 of 163\n"
     ]
    },
    {
     "name": "stderr",
     "output_type": "stream",
     "text": [
      "[Parallel(n_jobs=-1)]: Done  56 tasks      | elapsed:  1.6min\n"
     ]
    },
    {
     "name": "stdout",
     "output_type": "stream",
     "text": [
      "building tree 64 of 163\n",
      "building tree 65 of 163\n",
      "building tree 66 of 163\n",
      "building tree 67 of 163\n",
      "building tree 68 of 163\n",
      "building tree 69 of 163\n",
      "building tree 70 of 163\n",
      "building tree 71 of 163\n",
      "building tree 72 of 163\n",
      "building tree 73 of 163\n",
      "building tree 74 of 163\n",
      "building tree 75 of 163\n",
      "building tree 76 of 163\n",
      "building tree 77 of 163\n"
     ]
    },
    {
     "name": "stderr",
     "output_type": "stream",
     "text": [
      "[Parallel(n_jobs=-1)]: Done  69 tasks      | elapsed:  1.9min\n"
     ]
    },
    {
     "name": "stdout",
     "output_type": "stream",
     "text": [
      "building tree 78 of 163\n",
      "building tree 79 of 163\n",
      "building tree 80 of 163\n",
      "building tree 81 of 163\n",
      "building tree 82 of 163\n",
      "building tree 83 of 163\n",
      "building tree 84 of 163\n",
      "building tree 85 of 163\n",
      "building tree 86 of 163\n",
      "building tree 87 of 163\n",
      "building tree 88 of 163\n",
      "building tree 89 of 163\n"
     ]
    },
    {
     "name": "stderr",
     "output_type": "stream",
     "text": [
      "[Parallel(n_jobs=-1)]: Done  82 tasks      | elapsed:  2.3min\n"
     ]
    },
    {
     "name": "stdout",
     "output_type": "stream",
     "text": [
      "building tree 90 of 163\n",
      "building tree 91 of 163\n",
      "building tree 92 of 163\n",
      "building tree 93 of 163\n",
      "building tree 94 of 163\n",
      "building tree 95 of 163\n",
      "building tree 96 of 163\n",
      "building tree 97 of 163\n",
      "building tree 98 of 163\n",
      "building tree 99 of 163\n",
      "building tree 100 of 163\n",
      "building tree 101 of 163\n",
      "building tree 102 of 163\n",
      "building tree 103 of 163\n",
      "building tree 104 of 163\n"
     ]
    },
    {
     "name": "stderr",
     "output_type": "stream",
     "text": [
      "[Parallel(n_jobs=-1)]: Done  97 tasks      | elapsed:  2.7min\n"
     ]
    },
    {
     "name": "stdout",
     "output_type": "stream",
     "text": [
      "building tree 105 of 163\n",
      "building tree 106 of 163\n",
      "building tree 107 of 163\n",
      "building tree 108 of 163\n",
      "building tree 109 of 163\n",
      "building tree 110 of 163\n",
      "building tree 111 of 163\n",
      "building tree 112 of 163\n",
      "building tree 113 of 163\n",
      "building tree 114 of 163\n",
      "building tree 115 of 163\n",
      "building tree 116 of 163\n",
      "building tree 117 of 163\n",
      "building tree 118 of 163\n",
      "building tree 119 of 163\n"
     ]
    },
    {
     "name": "stderr",
     "output_type": "stream",
     "text": [
      "[Parallel(n_jobs=-1)]: Done 112 tasks      | elapsed:  3.1min\n"
     ]
    },
    {
     "name": "stdout",
     "output_type": "stream",
     "text": [
      "building tree 120 of 163\n",
      "building tree 121 of 163\n",
      "building tree 122 of 163\n",
      "building tree 123 of 163\n",
      "building tree 124 of 163\n",
      "building tree 125 of 163\n",
      "building tree 126 of 163\n",
      "building tree 127 of 163\n",
      "building tree 128 of 163\n",
      "building tree 129 of 163\n",
      "building tree 130 of 163\n",
      "building tree 131 of 163\n",
      "building tree 132 of 163\n",
      "building tree 133 of 163\n",
      "building tree 134 of 163\n",
      "building tree 135 of 163\n",
      "building tree 136 of 163\n"
     ]
    },
    {
     "name": "stderr",
     "output_type": "stream",
     "text": [
      "[Parallel(n_jobs=-1)]: Done 129 tasks      | elapsed:  3.6min\n"
     ]
    },
    {
     "name": "stdout",
     "output_type": "stream",
     "text": [
      "building tree 137 of 163\n",
      "building tree 138 of 163\n",
      "building tree 139 of 163\n",
      "building tree 140 of 163\n",
      "building tree 141 of 163\n",
      "building tree 142 of 163\n",
      "building tree 143 of 163\n",
      "building tree 144 of 163\n",
      "building tree 145 of 163\n",
      "building tree 146 of 163\n",
      "building tree 147 of 163\n",
      "building tree 148 of 163\n",
      "building tree 149 of 163\n",
      "building tree 150 of 163\n",
      "building tree 151 of 163\n",
      "building tree 152 of 163\n",
      "building tree 153 of 163\n",
      "building tree 154 of 163\n"
     ]
    },
    {
     "name": "stderr",
     "output_type": "stream",
     "text": [
      "[Parallel(n_jobs=-1)]: Done 146 tasks      | elapsed:  4.1min\n"
     ]
    },
    {
     "name": "stdout",
     "output_type": "stream",
     "text": [
      "building tree 155 of 163\n",
      "building tree 156 of 163\n",
      "building tree 157 of 163\n",
      "building tree 158 of 163\n",
      "building tree 159 of 163\n",
      "building tree 160 of 163\n",
      "building tree 161 of 163\n",
      "building tree 162 of 163\n",
      "building tree 163 of 163\n"
     ]
    },
    {
     "name": "stderr",
     "output_type": "stream",
     "text": [
      "[Parallel(n_jobs=-1)]: Done 163 out of 163 | elapsed:  4.4min finished\n",
      "[Parallel(n_jobs=8)]: Done   2 tasks      | elapsed:    0.0s\n",
      "[Parallel(n_jobs=8)]: Done   9 tasks      | elapsed:    0.1s\n",
      "[Parallel(n_jobs=8)]: Done  16 tasks      | elapsed:    0.1s\n",
      "[Parallel(n_jobs=8)]: Done  25 tasks      | elapsed:    0.1s\n",
      "[Parallel(n_jobs=8)]: Done  34 tasks      | elapsed:    0.2s\n",
      "[Parallel(n_jobs=8)]: Done  45 tasks      | elapsed:    0.2s\n",
      "[Parallel(n_jobs=8)]: Done  56 tasks      | elapsed:    0.3s\n",
      "[Parallel(n_jobs=8)]: Done  69 tasks      | elapsed:    0.3s\n",
      "[Parallel(n_jobs=8)]: Done  82 tasks      | elapsed:    0.4s\n",
      "[Parallel(n_jobs=8)]: Done  97 tasks      | elapsed:    0.4s\n",
      "[Parallel(n_jobs=8)]: Done 112 tasks      | elapsed:    0.5s\n",
      "[Parallel(n_jobs=8)]: Done 129 tasks      | elapsed:    0.6s\n",
      "[Parallel(n_jobs=8)]: Done 146 tasks      | elapsed:    0.6s\n",
      "[Parallel(n_jobs=8)]: Done 163 out of 163 | elapsed:    0.7s finished\n",
      "[Parallel(n_jobs=8)]: Done   2 tasks      | elapsed:    0.1s\n",
      "[Parallel(n_jobs=8)]: Done   9 tasks      | elapsed:    0.1s\n",
      "[Parallel(n_jobs=8)]: Done  16 tasks      | elapsed:    0.2s\n",
      "[Parallel(n_jobs=8)]: Done  25 tasks      | elapsed:    0.3s\n",
      "[Parallel(n_jobs=8)]: Done  34 tasks      | elapsed:    0.3s\n",
      "[Parallel(n_jobs=8)]: Done  45 tasks      | elapsed:    0.4s\n",
      "[Parallel(n_jobs=8)]: Done  56 tasks      | elapsed:    0.5s\n",
      "[Parallel(n_jobs=8)]: Done  69 tasks      | elapsed:    0.7s\n",
      "[Parallel(n_jobs=8)]: Done  82 tasks      | elapsed:    0.8s\n",
      "[Parallel(n_jobs=8)]: Done  97 tasks      | elapsed:    0.9s\n",
      "[Parallel(n_jobs=8)]: Done 112 tasks      | elapsed:    1.0s\n",
      "[Parallel(n_jobs=8)]: Done 129 tasks      | elapsed:    1.2s\n",
      "[Parallel(n_jobs=8)]: Done 146 tasks      | elapsed:    1.4s\n",
      "[Parallel(n_jobs=8)]: Done 163 out of 163 | elapsed:    1.5s finished\n",
      "/home/justin/anaconda3/lib/python3.6/site-packages/sklearn/model_selection/_validation.py:437: DataConversionWarning: A column-vector y was passed when a 1d array was expected. Please change the shape of y to (n_samples,), for example using ravel().\n",
      "  estimator.fit(X_train, y_train, **fit_params)\n"
     ]
    },
    {
     "name": "stdout",
     "output_type": "stream",
     "text": [
      "building tree 2 of 163building tree 4 of 163building tree 6 of 163building tree 3 of 163building tree 1 of 163\n",
      "building tree 5 of 163building tree 7 of 163building tree 8 of 163\n",
      "\n",
      "\n",
      "\n",
      "\n",
      "\n",
      "\n",
      "building tree 9 of 163\n"
     ]
    },
    {
     "name": "stderr",
     "output_type": "stream",
     "text": [
      "[Parallel(n_jobs=-1)]: Done   2 tasks      | elapsed:   12.1s\n"
     ]
    },
    {
     "name": "stdout",
     "output_type": "stream",
     "text": [
      "building tree 10 of 163\n",
      "building tree 11 of 163\n",
      "building tree 12 of 163\n",
      "building tree 13 of 163\n",
      "building tree 14 of 163\n",
      "building tree 15 of 163\n",
      "building tree 16 of 163\n"
     ]
    },
    {
     "name": "stderr",
     "output_type": "stream",
     "text": [
      "[Parallel(n_jobs=-1)]: Done   9 tasks      | elapsed:   23.7s\n"
     ]
    },
    {
     "name": "stdout",
     "output_type": "stream",
     "text": [
      "building tree 17 of 163\n",
      "building tree 18 of 163\n",
      "building tree 19 of 163\n",
      "building tree 20 of 163\n",
      "building tree 21 of 163\n",
      "building tree 22 of 163\n",
      "building tree 23 of 163\n"
     ]
    },
    {
     "name": "stderr",
     "output_type": "stream",
     "text": [
      "[Parallel(n_jobs=-1)]: Done  16 tasks      | elapsed:   28.3s\n"
     ]
    },
    {
     "name": "stdout",
     "output_type": "stream",
     "text": [
      "building tree 24 of 163\n",
      "building tree 25 of 163\n",
      "building tree 26 of 163\n",
      "building tree 27 of 163\n",
      "building tree 28 of 163\n",
      "building tree 29 of 163\n",
      "building tree 30 of 163\n",
      "building tree 31 of 163\n",
      "building tree 32 of 163\n"
     ]
    },
    {
     "name": "stderr",
     "output_type": "stream",
     "text": [
      "[Parallel(n_jobs=-1)]: Done  25 tasks      | elapsed:   49.7s\n"
     ]
    },
    {
     "name": "stdout",
     "output_type": "stream",
     "text": [
      "building tree 33 of 163\n",
      "building tree 34 of 163\n",
      "building tree 35 of 163\n",
      "building tree 36 of 163\n",
      "building tree 37 of 163\n",
      "building tree 38 of 163\n",
      "building tree 39 of 163\n",
      "building tree 40 of 163\n",
      "building tree 41 of 163\n"
     ]
    },
    {
     "name": "stderr",
     "output_type": "stream",
     "text": [
      "[Parallel(n_jobs=-1)]: Done  34 tasks      | elapsed:  1.1min\n"
     ]
    },
    {
     "name": "stdout",
     "output_type": "stream",
     "text": [
      "building tree 42 of 163\n",
      "building tree 43 of 163\n",
      "building tree 44 of 163\n",
      "building tree 45 of 163\n",
      "building tree 46 of 163\n",
      "building tree 47 of 163\n",
      "building tree 48 of 163\n",
      "building tree 49 of 163\n",
      "building tree 50 of 163\n",
      "building tree 51 of 163\n",
      "building tree 52 of 163\n"
     ]
    },
    {
     "name": "stderr",
     "output_type": "stream",
     "text": [
      "[Parallel(n_jobs=-1)]: Done  45 tasks      | elapsed:  1.3min\n"
     ]
    },
    {
     "name": "stdout",
     "output_type": "stream",
     "text": [
      "building tree 53 of 163\n",
      "building tree 54 of 163\n",
      "building tree 55 of 163\n",
      "building tree 56 of 163\n",
      "building tree 57 of 163\n",
      "building tree 58 of 163\n",
      "building tree 59 of 163\n",
      "building tree 60 of 163\n",
      "building tree 61 of 163\n",
      "building tree 62 of 163\n",
      "building tree 63 of 163\n"
     ]
    },
    {
     "name": "stderr",
     "output_type": "stream",
     "text": [
      "[Parallel(n_jobs=-1)]: Done  56 tasks      | elapsed:  1.6min\n"
     ]
    },
    {
     "name": "stdout",
     "output_type": "stream",
     "text": [
      "building tree 64 of 163\n",
      "building tree 65 of 163\n",
      "building tree 66 of 163\n",
      "building tree 67 of 163\n",
      "building tree 68 of 163\n",
      "building tree 69 of 163\n",
      "building tree 70 of 163\n",
      "building tree 71 of 163\n",
      "building tree 72 of 163\n",
      "building tree 73 of 163\n",
      "building tree 74 of 163\n",
      "building tree 75 of 163\n",
      "building tree 76 of 163\n",
      "building tree 77 of 163\n",
      "building tree 78 of 163\n"
     ]
    },
    {
     "name": "stderr",
     "output_type": "stream",
     "text": [
      "[Parallel(n_jobs=-1)]: Done  69 tasks      | elapsed:  2.0min\n"
     ]
    },
    {
     "name": "stdout",
     "output_type": "stream",
     "text": [
      "building tree 79 of 163\n",
      "building tree 80 of 163\n",
      "building tree 81 of 163\n",
      "building tree 82 of 163\n",
      "building tree 83 of 163\n",
      "building tree 84 of 163\n",
      "building tree 85 of 163\n",
      "building tree 86 of 163\n",
      "building tree 87 of 163\n",
      "building tree 88 of 163\n",
      "building tree 89 of 163\n"
     ]
    },
    {
     "name": "stderr",
     "output_type": "stream",
     "text": [
      "[Parallel(n_jobs=-1)]: Done  82 tasks      | elapsed:  2.4min\n"
     ]
    },
    {
     "name": "stdout",
     "output_type": "stream",
     "text": [
      "building tree 90 of 163\n",
      "building tree 91 of 163\n",
      "building tree 92 of 163\n",
      "building tree 93 of 163\n",
      "building tree 94 of 163\n",
      "building tree 95 of 163\n",
      "building tree 96 of 163\n",
      "building tree 97 of 163\n",
      "building tree 98 of 163\n",
      "building tree 99 of 163\n",
      "building tree 100 of 163\n",
      "building tree 101 of 163\n",
      "building tree 102 of 163\n",
      "building tree 103 of 163\n",
      "building tree 104 of 163\n"
     ]
    },
    {
     "name": "stderr",
     "output_type": "stream",
     "text": [
      "[Parallel(n_jobs=-1)]: Done  97 tasks      | elapsed:  2.7min\n"
     ]
    },
    {
     "name": "stdout",
     "output_type": "stream",
     "text": [
      "building tree 105 of 163\n",
      "building tree 106 of 163\n",
      "building tree 107 of 163\n",
      "building tree 108 of 163\n",
      "building tree 109 of 163\n",
      "building tree 110 of 163\n",
      "building tree 111 of 163\n",
      "building tree 112 of 163\n",
      "building tree 113 of 163\n",
      "building tree 114 of 163\n",
      "building tree 115 of 163\n",
      "building tree 116 of 163\n",
      "building tree 117 of 163\n",
      "building tree 118 of 163\n",
      "building tree 119 of 163\n"
     ]
    },
    {
     "name": "stderr",
     "output_type": "stream",
     "text": [
      "[Parallel(n_jobs=-1)]: Done 112 tasks      | elapsed:  3.2min\n"
     ]
    },
    {
     "name": "stdout",
     "output_type": "stream",
     "text": [
      "building tree 120 of 163\n",
      "building tree 121 of 163\n",
      "building tree 122 of 163\n",
      "building tree 123 of 163\n",
      "building tree 124 of 163\n",
      "building tree 125 of 163\n",
      "building tree 126 of 163\n",
      "building tree 127 of 163\n",
      "building tree 128 of 163\n",
      "building tree 129 of 163\n",
      "building tree 130 of 163\n",
      "building tree 131 of 163\n",
      "building tree 132 of 163\n",
      "building tree 133 of 163\n",
      "building tree 134 of 163\n",
      "building tree 135 of 163\n",
      "building tree 136 of 163\n"
     ]
    },
    {
     "name": "stderr",
     "output_type": "stream",
     "text": [
      "[Parallel(n_jobs=-1)]: Done 129 tasks      | elapsed:  3.6min\n"
     ]
    },
    {
     "name": "stdout",
     "output_type": "stream",
     "text": [
      "building tree 137 of 163\n",
      "building tree 138 of 163\n",
      "building tree 139 of 163\n",
      "building tree 140 of 163\n",
      "building tree 141 of 163\n",
      "building tree 142 of 163\n",
      "building tree 143 of 163\n",
      "building tree 144 of 163\n",
      "building tree 145 of 163\n",
      "building tree 146 of 163\n",
      "building tree 147 of 163\n",
      "building tree 148 of 163\n",
      "building tree 149 of 163\n",
      "building tree 150 of 163\n",
      "building tree 151 of 163\n",
      "building tree 152 of 163\n",
      "building tree 153 of 163\n"
     ]
    },
    {
     "name": "stderr",
     "output_type": "stream",
     "text": [
      "[Parallel(n_jobs=-1)]: Done 146 tasks      | elapsed:  4.1min\n"
     ]
    },
    {
     "name": "stdout",
     "output_type": "stream",
     "text": [
      "building tree 154 of 163\n",
      "building tree 155 of 163\n",
      "building tree 156 of 163\n",
      "building tree 157 of 163\n",
      "building tree 158 of 163\n",
      "building tree 159 of 163\n",
      "building tree 160 of 163\n",
      "building tree 161 of 163\n",
      "building tree 162 of 163\n",
      "building tree 163 of 163\n"
     ]
    },
    {
     "name": "stderr",
     "output_type": "stream",
     "text": [
      "[Parallel(n_jobs=-1)]: Done 163 out of 163 | elapsed:  4.5min finished\n",
      "[Parallel(n_jobs=8)]: Done   2 tasks      | elapsed:    0.0s\n",
      "[Parallel(n_jobs=8)]: Done   9 tasks      | elapsed:    0.1s\n",
      "[Parallel(n_jobs=8)]: Done  16 tasks      | elapsed:    0.1s\n",
      "[Parallel(n_jobs=8)]: Done  25 tasks      | elapsed:    0.1s\n",
      "[Parallel(n_jobs=8)]: Done  34 tasks      | elapsed:    0.2s\n",
      "[Parallel(n_jobs=8)]: Done  45 tasks      | elapsed:    0.2s\n",
      "[Parallel(n_jobs=8)]: Done  56 tasks      | elapsed:    0.3s\n",
      "[Parallel(n_jobs=8)]: Done  69 tasks      | elapsed:    0.3s\n",
      "[Parallel(n_jobs=8)]: Done  82 tasks      | elapsed:    0.4s\n",
      "[Parallel(n_jobs=8)]: Done  97 tasks      | elapsed:    0.4s\n",
      "[Parallel(n_jobs=8)]: Done 112 tasks      | elapsed:    0.5s\n",
      "[Parallel(n_jobs=8)]: Done 129 tasks      | elapsed:    0.6s\n",
      "[Parallel(n_jobs=8)]: Done 146 tasks      | elapsed:    0.6s\n",
      "[Parallel(n_jobs=8)]: Done 163 out of 163 | elapsed:    0.7s finished\n",
      "[Parallel(n_jobs=8)]: Done   2 tasks      | elapsed:    0.1s\n",
      "[Parallel(n_jobs=8)]: Done   9 tasks      | elapsed:    0.1s\n",
      "[Parallel(n_jobs=8)]: Done  16 tasks      | elapsed:    0.2s\n",
      "[Parallel(n_jobs=8)]: Done  25 tasks      | elapsed:    0.2s\n",
      "[Parallel(n_jobs=8)]: Done  34 tasks      | elapsed:    0.3s\n",
      "[Parallel(n_jobs=8)]: Done  45 tasks      | elapsed:    0.4s\n",
      "[Parallel(n_jobs=8)]: Done  56 tasks      | elapsed:    0.5s\n",
      "[Parallel(n_jobs=8)]: Done  69 tasks      | elapsed:    0.6s\n",
      "[Parallel(n_jobs=8)]: Done  82 tasks      | elapsed:    0.7s\n",
      "[Parallel(n_jobs=8)]: Done  97 tasks      | elapsed:    0.8s\n",
      "[Parallel(n_jobs=8)]: Done 112 tasks      | elapsed:    1.0s\n",
      "[Parallel(n_jobs=8)]: Done 129 tasks      | elapsed:    1.1s\n",
      "[Parallel(n_jobs=8)]: Done 146 tasks      | elapsed:    1.3s\n",
      "[Parallel(n_jobs=8)]: Done 163 out of 163 | elapsed:    1.4s finished\n",
      "/home/justin/anaconda3/lib/python3.6/site-packages/sklearn/model_selection/_validation.py:437: DataConversionWarning: A column-vector y was passed when a 1d array was expected. Please change the shape of y to (n_samples,), for example using ravel().\n",
      "  estimator.fit(X_train, y_train, **fit_params)\n"
     ]
    },
    {
     "name": "stdout",
     "output_type": "stream",
     "text": [
      "building tree 3 of 88building tree 2 of 88building tree 4 of 88building tree 5 of 88building tree 6 of 88building tree 7 of 88building tree 1 of 88building tree 8 of 88\n",
      "\n",
      "\n",
      "\n",
      "\n",
      "\n",
      "\n",
      "\n",
      "building tree 9 of 88\n",
      "building tree 10 of 88\n",
      "building tree 11 of 88"
     ]
    },
    {
     "name": "stderr",
     "output_type": "stream",
     "text": [
      "[Parallel(n_jobs=-1)]: Done   2 tasks      | elapsed:    0.2s\n"
     ]
    },
    {
     "name": "stdout",
     "output_type": "stream",
     "text": [
      "\n",
      "building tree 12 of 88\n",
      "building tree 13 of 88\n",
      "building tree 14 of 88\n",
      "building tree 15 of 88\n",
      "building tree 16 of 88\n",
      "building tree 17 of 88\n",
      "building tree 18 of 88\n"
     ]
    },
    {
     "name": "stderr",
     "output_type": "stream",
     "text": [
      "[Parallel(n_jobs=-1)]: Done   9 tasks      | elapsed:    0.4s\n"
     ]
    },
    {
     "name": "stdout",
     "output_type": "stream",
     "text": [
      "building tree 19 of 88\n",
      "building tree 20 of 88\n",
      "building tree 21 of 88\n",
      "building tree 22 of 88\n",
      "building tree 23 of 88\n"
     ]
    },
    {
     "name": "stderr",
     "output_type": "stream",
     "text": [
      "[Parallel(n_jobs=-1)]: Done  16 tasks      | elapsed:    0.7s\n",
      "[Parallel(n_jobs=-1)]: Done  25 tasks      | elapsed:    0.9s\n"
     ]
    },
    {
     "name": "stdout",
     "output_type": "stream",
     "text": [
      "building tree 24 of 88\n",
      "building tree 25 of 88\n",
      "building tree 26 of 88\n",
      "building tree 27 of 88\n",
      "building tree 28 of 88\n",
      "building tree 29 of 88\n",
      "building tree 30 of 88\n",
      "building tree 31 of 88\n",
      "building tree 32 of 88\n",
      "building tree 33 of 88\n",
      "building tree 34 of 88\n",
      "building tree 35 of 88\n",
      "building tree 36 of 88\n",
      "building tree 37 of 88\n",
      "building tree 38 of 88\n",
      "building tree 39 of 88\n",
      "building tree 40 of 88\n",
      "building tree 41 of 88\n"
     ]
    },
    {
     "name": "stderr",
     "output_type": "stream",
     "text": [
      "[Parallel(n_jobs=-1)]: Done  34 tasks      | elapsed:    1.3s\n"
     ]
    },
    {
     "name": "stdout",
     "output_type": "stream",
     "text": [
      "building tree 42 of 88\n",
      "building tree 43 of 88\n",
      "building tree 44 of 88\n",
      "building tree 45 of 88\n",
      "building tree 46 of 88\n",
      "building tree 47 of 88\n",
      "building tree 48 of 88\n",
      "building tree 49 of 88\n",
      "building tree 50 of 88building tree 51 of 88\n",
      "\n",
      "building tree 52 of 88\n",
      "building tree 53 of 88\n",
      "building tree 54 of 88\n"
     ]
    },
    {
     "name": "stderr",
     "output_type": "stream",
     "text": [
      "[Parallel(n_jobs=-1)]: Done  45 tasks      | elapsed:    1.7s\n"
     ]
    },
    {
     "name": "stdout",
     "output_type": "stream",
     "text": [
      "building tree 55 of 88\n",
      "building tree 56 of 88\n",
      "building tree 57 of 88\n",
      "building tree 58 of 88\n",
      "building tree 59 of 88\n",
      "building tree 60 of 88\n",
      "building tree 61 of 88\n",
      "building tree 62 of 88\n",
      "building tree 63 of 88\n",
      "building tree 64 of 88\n",
      "building tree 65 of 88\n",
      "building tree 66 of 88\n"
     ]
    },
    {
     "name": "stderr",
     "output_type": "stream",
     "text": [
      "[Parallel(n_jobs=-1)]: Done  56 tasks      | elapsed:    2.0s\n"
     ]
    },
    {
     "name": "stdout",
     "output_type": "stream",
     "text": [
      "building tree 67 of 88\n",
      "building tree 68 of 88\n",
      "building tree 69 of 88\n",
      "building tree 70 of 88\n",
      "building tree 71 of 88\n",
      "building tree 72 of 88\n",
      "building tree 73 of 88\n",
      "building tree 74 of 88\n",
      "building tree 75 of 88\n",
      "building tree 76 of 88\n",
      "building tree 77 of 88\n",
      "building tree 78 of 88\n",
      "building tree 79 of 88\n",
      "building tree 80 of 88\n",
      "building tree 81 of 88\n"
     ]
    },
    {
     "name": "stderr",
     "output_type": "stream",
     "text": [
      "[Parallel(n_jobs=-1)]: Done  69 tasks      | elapsed:    2.5s\n"
     ]
    },
    {
     "name": "stdout",
     "output_type": "stream",
     "text": [
      "building tree 82 of 88\n",
      "building tree 83 of 88\n",
      "building tree 84 of 88\n",
      "building tree 85 of 88\n",
      "building tree 86 of 88\n",
      "building tree 87 of 88\n",
      "building tree 88 of 88\n"
     ]
    },
    {
     "name": "stderr",
     "output_type": "stream",
     "text": [
      "[Parallel(n_jobs=-1)]: Done  82 out of  88 | elapsed:    2.9s remaining:    0.2s\n",
      "[Parallel(n_jobs=-1)]: Done  88 out of  88 | elapsed:    3.1s finished\n",
      "[Parallel(n_jobs=8)]: Done   2 tasks      | elapsed:    0.0s\n",
      "[Parallel(n_jobs=8)]: Done   9 tasks      | elapsed:    0.0s\n",
      "[Parallel(n_jobs=8)]: Done  16 tasks      | elapsed:    0.1s\n",
      "[Parallel(n_jobs=8)]: Done  25 tasks      | elapsed:    0.1s\n",
      "[Parallel(n_jobs=8)]: Done  34 tasks      | elapsed:    0.1s\n",
      "[Parallel(n_jobs=8)]: Done  45 tasks      | elapsed:    0.1s\n",
      "[Parallel(n_jobs=8)]: Done  56 tasks      | elapsed:    0.2s\n",
      "[Parallel(n_jobs=8)]: Done  69 tasks      | elapsed:    0.2s\n",
      "[Parallel(n_jobs=8)]: Done  82 out of  88 | elapsed:    0.2s remaining:    0.0s\n",
      "[Parallel(n_jobs=8)]: Done  88 out of  88 | elapsed:    0.2s finished\n",
      "[Parallel(n_jobs=8)]: Done   2 tasks      | elapsed:    0.0s\n",
      "[Parallel(n_jobs=8)]: Done   9 tasks      | elapsed:    0.1s\n",
      "[Parallel(n_jobs=8)]: Done  16 tasks      | elapsed:    0.1s\n",
      "[Parallel(n_jobs=8)]: Done  25 tasks      | elapsed:    0.1s\n",
      "[Parallel(n_jobs=8)]: Done  34 tasks      | elapsed:    0.2s\n",
      "[Parallel(n_jobs=8)]: Done  45 tasks      | elapsed:    0.2s\n",
      "[Parallel(n_jobs=8)]: Done  56 tasks      | elapsed:    0.3s\n",
      "[Parallel(n_jobs=8)]: Done  69 tasks      | elapsed:    0.4s\n",
      "[Parallel(n_jobs=8)]: Done  82 out of  88 | elapsed:    0.4s remaining:    0.0s\n",
      "[Parallel(n_jobs=8)]: Done  88 out of  88 | elapsed:    0.5s finished\n",
      "/home/justin/anaconda3/lib/python3.6/site-packages/sklearn/model_selection/_validation.py:437: DataConversionWarning: A column-vector y was passed when a 1d array was expected. Please change the shape of y to (n_samples,), for example using ravel().\n",
      "  estimator.fit(X_train, y_train, **fit_params)\n"
     ]
    },
    {
     "name": "stdout",
     "output_type": "stream",
     "text": [
      "building tree 2 of 88\n",
      "building tree 3 of 88building tree 4 of 88building tree 1 of 88building tree 6 of 88building tree 7 of 88building tree 5 of 88\n",
      "\n",
      "\n",
      "\n",
      "\n",
      "building tree 8 of 88\n",
      "\n",
      "building tree 9 of 88\n",
      "building tree 10 of 88\n"
     ]
    },
    {
     "name": "stderr",
     "output_type": "stream",
     "text": [
      "[Parallel(n_jobs=-1)]: Done   2 tasks      | elapsed:    0.2s\n"
     ]
    },
    {
     "name": "stdout",
     "output_type": "stream",
     "text": [
      "building tree 11 of 88\n",
      "building tree 12 of 88\n",
      "building tree 13 of 88\n",
      "building tree 14 of 88\n",
      "building tree 15 of 88\n",
      "building tree 16 of 88\n"
     ]
    },
    {
     "name": "stderr",
     "output_type": "stream",
     "text": [
      "[Parallel(n_jobs=-1)]: Done   9 tasks      | elapsed:    0.4s\n"
     ]
    },
    {
     "name": "stdout",
     "output_type": "stream",
     "text": [
      "building tree 17 of 88\n",
      "building tree 18 of 88\n",
      "building tree 19 of 88\n",
      "building tree 20 of 88\n",
      "building tree 21 of 88\n",
      "building tree 22 of 88\n",
      "building tree 23 of 88\n",
      "building tree 24 of 88\n",
      "building tree 25 of 88\n",
      "building tree 26 of 88\n"
     ]
    },
    {
     "name": "stderr",
     "output_type": "stream",
     "text": [
      "[Parallel(n_jobs=-1)]: Done  16 tasks      | elapsed:    0.7s\n"
     ]
    },
    {
     "name": "stdout",
     "output_type": "stream",
     "text": [
      "building tree 27 of 88\n",
      "building tree 29 of 88\n",
      "building tree 28 of 88\n",
      "building tree 30 of 88\n",
      "building tree 31 of 88\n",
      "building tree 32 of 88\n",
      "building tree 33 of 88\n",
      "building tree 34 of 88\n"
     ]
    },
    {
     "name": "stderr",
     "output_type": "stream",
     "text": [
      "[Parallel(n_jobs=-1)]: Done  25 tasks      | elapsed:    1.0s\n"
     ]
    },
    {
     "name": "stdout",
     "output_type": "stream",
     "text": [
      "building tree 35 of 88\n",
      "building tree 36 of 88\n",
      "building tree 37 of 88\n",
      "building tree 38 of 88\n",
      "building tree 39 of 88\n",
      "building tree 40 of 88\n",
      "building tree 41 of 88\n",
      "building tree 42 of 88\n",
      "building tree 43 of 88\n",
      "building tree 44 of 88\n"
     ]
    },
    {
     "name": "stderr",
     "output_type": "stream",
     "text": [
      "[Parallel(n_jobs=-1)]: Done  34 tasks      | elapsed:    1.4s\n"
     ]
    },
    {
     "name": "stdout",
     "output_type": "stream",
     "text": [
      "building tree 45 of 88\n",
      "building tree 46 of 88\n",
      "building tree 47 of 88\n",
      "building tree 48 of 88\n",
      "building tree 49 of 88\n",
      "building tree 50 of 88building tree 51 of 88\n",
      "\n",
      "building tree 52 of 88\n",
      "building tree 53 of 88\n"
     ]
    },
    {
     "name": "stderr",
     "output_type": "stream",
     "text": [
      "[Parallel(n_jobs=-1)]: Done  45 tasks      | elapsed:    1.7s\n"
     ]
    },
    {
     "name": "stdout",
     "output_type": "stream",
     "text": [
      "building tree 54 of 88\n",
      "building tree 55 of 88\n",
      "building tree 56 of 88\n",
      "building tree 57 of 88\n",
      "building tree 58 of 88\n",
      "building tree 59 of 88\n",
      "building tree 60 of 88\n",
      "building tree 61 of 88\n",
      "building tree 62 of 88\n",
      "building tree 63 of 88\n"
     ]
    },
    {
     "name": "stderr",
     "output_type": "stream",
     "text": [
      "[Parallel(n_jobs=-1)]: Done  56 tasks      | elapsed:    2.2s\n"
     ]
    },
    {
     "name": "stdout",
     "output_type": "stream",
     "text": [
      "building tree 64 of 88\n",
      "building tree 65 of 88\n",
      "building tree 66 of 88\n",
      "building tree 67 of 88\n",
      "building tree 68 of 88\n",
      "building tree 69 of 88\n",
      "building tree 70 of 88\n",
      "building tree 71 of 88\n",
      "building tree 72 of 88building tree 73 of 88\n",
      "\n",
      "building tree 74 of 88\n",
      "building tree 75 of 88\n",
      "building tree 76 of 88\n",
      "building tree 77 of 88\n",
      "building tree 79 of 88\n",
      "building tree 78 of 88\n",
      "building tree 80 of 88\n",
      "building tree 81 of 88\n",
      "building tree 82 of 88\n"
     ]
    },
    {
     "name": "stderr",
     "output_type": "stream",
     "text": [
      "[Parallel(n_jobs=-1)]: Done  69 tasks      | elapsed:    2.6s\n"
     ]
    },
    {
     "name": "stdout",
     "output_type": "stream",
     "text": [
      "building tree 83 of 88\n",
      "building tree 84 of 88\n",
      "building tree 85 of 88\n",
      "building tree 86 of 88\n",
      "building tree 87 of 88\n",
      "building tree 88 of 88\n"
     ]
    },
    {
     "name": "stderr",
     "output_type": "stream",
     "text": [
      "[Parallel(n_jobs=-1)]: Done  82 out of  88 | elapsed:    3.1s remaining:    0.2s\n",
      "[Parallel(n_jobs=-1)]: Done  88 out of  88 | elapsed:    3.2s finished\n",
      "[Parallel(n_jobs=8)]: Done   2 tasks      | elapsed:    0.0s\n",
      "[Parallel(n_jobs=8)]: Done   9 tasks      | elapsed:    0.0s\n",
      "[Parallel(n_jobs=8)]: Done  16 tasks      | elapsed:    0.1s\n",
      "[Parallel(n_jobs=8)]: Done  25 tasks      | elapsed:    0.1s\n",
      "[Parallel(n_jobs=8)]: Done  34 tasks      | elapsed:    0.1s\n",
      "[Parallel(n_jobs=8)]: Done  45 tasks      | elapsed:    0.1s\n",
      "[Parallel(n_jobs=8)]: Done  56 tasks      | elapsed:    0.2s\n",
      "[Parallel(n_jobs=8)]: Done  69 tasks      | elapsed:    0.2s\n",
      "[Parallel(n_jobs=8)]: Done  82 out of  88 | elapsed:    0.2s remaining:    0.0s\n",
      "[Parallel(n_jobs=8)]: Done  88 out of  88 | elapsed:    0.2s finished\n",
      "[Parallel(n_jobs=8)]: Done   2 tasks      | elapsed:    0.0s\n",
      "[Parallel(n_jobs=8)]: Done   9 tasks      | elapsed:    0.1s\n",
      "[Parallel(n_jobs=8)]: Done  16 tasks      | elapsed:    0.1s\n",
      "[Parallel(n_jobs=8)]: Done  25 tasks      | elapsed:    0.1s\n",
      "[Parallel(n_jobs=8)]: Done  34 tasks      | elapsed:    0.2s\n",
      "[Parallel(n_jobs=8)]: Done  45 tasks      | elapsed:    0.2s\n",
      "[Parallel(n_jobs=8)]: Done  56 tasks      | elapsed:    0.3s\n",
      "[Parallel(n_jobs=8)]: Done  69 tasks      | elapsed:    0.4s\n",
      "[Parallel(n_jobs=8)]: Done  82 out of  88 | elapsed:    0.4s remaining:    0.0s\n",
      "[Parallel(n_jobs=8)]: Done  88 out of  88 | elapsed:    0.5s finished\n",
      "/home/justin/anaconda3/lib/python3.6/site-packages/sklearn/model_selection/_validation.py:437: DataConversionWarning: A column-vector y was passed when a 1d array was expected. Please change the shape of y to (n_samples,), for example using ravel().\n",
      "  estimator.fit(X_train, y_train, **fit_params)\n"
     ]
    },
    {
     "name": "stdout",
     "output_type": "stream",
     "text": [
      "building tree 3 of 88building tree 5 of 88building tree 4 of 88building tree 2 of 88building tree 6 of 88building tree 7 of 88\n",
      "building tree 8 of 88\n",
      "\n",
      "\n",
      "\n",
      "\n",
      "\n",
      "building tree 1 of 88\n",
      "building tree 9 of 88\n"
     ]
    },
    {
     "name": "stderr",
     "output_type": "stream",
     "text": [
      "[Parallel(n_jobs=-1)]: Done   2 tasks      | elapsed:    0.2s\n"
     ]
    },
    {
     "name": "stdout",
     "output_type": "stream",
     "text": [
      "building tree 10 of 88\n",
      "building tree 11 of 88\n",
      "building tree 12 of 88\n",
      "building tree 13 of 88\n",
      "building tree 14 of 88\n",
      "building tree 15 of 88\n",
      "building tree 16 of 88\n"
     ]
    },
    {
     "name": "stderr",
     "output_type": "stream",
     "text": [
      "[Parallel(n_jobs=-1)]: Done   9 tasks      | elapsed:    0.5s\n"
     ]
    },
    {
     "name": "stdout",
     "output_type": "stream",
     "text": [
      "building tree 17 of 88\n",
      "building tree 18 of 88\n",
      "building tree 19 of 88\n",
      "building tree 20 of 88\n",
      "building tree 21 of 88\n",
      "building tree 22 of 88\n",
      "building tree 23 of 88\n",
      "building tree 24 of 88\n",
      "building tree 25 of 88\n",
      "building tree 26 of 88\n",
      "building tree 27 of 88\n"
     ]
    },
    {
     "name": "stderr",
     "output_type": "stream",
     "text": [
      "[Parallel(n_jobs=-1)]: Done  16 tasks      | elapsed:    0.8s\n"
     ]
    },
    {
     "name": "stdout",
     "output_type": "stream",
     "text": [
      "building tree 28 of 88\n",
      "building tree 29 of 88\n",
      "building tree 30 of 88\n",
      "building tree 31 of 88\n",
      "building tree 32 of 88\n",
      "building tree 33 of 88\n"
     ]
    },
    {
     "name": "stderr",
     "output_type": "stream",
     "text": [
      "[Parallel(n_jobs=-1)]: Done  25 tasks      | elapsed:    1.0s\n"
     ]
    },
    {
     "name": "stdout",
     "output_type": "stream",
     "text": [
      "building tree 34 of 88\n",
      "building tree 35 of 88\n",
      "building tree 36 of 88\n",
      "building tree 38 of 88\n",
      "building tree 39 of 88\n",
      "building tree 37 of 88\n",
      "building tree 40 of 88\n",
      "building tree 41 of 88\n"
     ]
    },
    {
     "name": "stderr",
     "output_type": "stream",
     "text": [
      "[Parallel(n_jobs=-1)]: Done  34 tasks      | elapsed:    1.3s\n"
     ]
    },
    {
     "name": "stdout",
     "output_type": "stream",
     "text": [
      "building tree 42 of 88\n",
      "building tree 43 of 88\n",
      "building tree 44 of 88\n",
      "building tree 45 of 88\n",
      "building tree 46 of 88\n",
      "building tree 47 of 88\n",
      "building tree 48 of 88\n",
      "building tree 49 of 88\n",
      "building tree 50 of 88\n",
      "building tree 51 of 88\n",
      "building tree 52 of 88\n"
     ]
    },
    {
     "name": "stderr",
     "output_type": "stream",
     "text": [
      "[Parallel(n_jobs=-1)]: Done  45 tasks      | elapsed:    1.7s\n"
     ]
    },
    {
     "name": "stdout",
     "output_type": "stream",
     "text": [
      "building tree 53 of 88\n",
      "building tree 54 of 88\n",
      "building tree 55 of 88\n",
      "building tree 56 of 88\n",
      "building tree 57 of 88\n",
      "building tree 58 of 88\n",
      "building tree 59 of 88\n",
      "building tree 60 of 88\n",
      "building tree 61 of 88\n",
      "building tree 62 of 88\n",
      "building tree 63 of 88\n",
      "building tree 64 of 88\n"
     ]
    },
    {
     "name": "stderr",
     "output_type": "stream",
     "text": [
      "[Parallel(n_jobs=-1)]: Done  56 tasks      | elapsed:    2.1s\n"
     ]
    },
    {
     "name": "stdout",
     "output_type": "stream",
     "text": [
      "building tree 65 of 88\n",
      "building tree 66 of 88\n",
      "building tree 67 of 88\n",
      "building tree 68 of 88\n",
      "building tree 69 of 88\n",
      "building tree 70 of 88\n",
      "building tree 71 of 88\n",
      "building tree 72 of 88\n",
      "building tree 73 of 88\n",
      "building tree 74 of 88\n",
      "building tree 75 of 88\n",
      "building tree 76 of 88\n"
     ]
    },
    {
     "name": "stderr",
     "output_type": "stream",
     "text": [
      "[Parallel(n_jobs=-1)]: Done  69 tasks      | elapsed:    2.6s\n"
     ]
    },
    {
     "name": "stdout",
     "output_type": "stream",
     "text": [
      "building tree 77 of 88\n",
      "building tree 78 of 88\n",
      "building tree 79 of 88\n",
      "building tree 80 of 88\n",
      "building tree 81 of 88\n",
      "building tree 82 of 88\n",
      "building tree 83 of 88\n",
      "building tree 84 of 88\n",
      "building tree 85 of 88\n",
      "building tree 86 of 88\n",
      "building tree 87 of 88\n",
      "building tree 88 of 88\n"
     ]
    },
    {
     "name": "stderr",
     "output_type": "stream",
     "text": [
      "[Parallel(n_jobs=-1)]: Done  82 out of  88 | elapsed:    3.1s remaining:    0.2s\n",
      "[Parallel(n_jobs=-1)]: Done  88 out of  88 | elapsed:    3.2s finished\n",
      "[Parallel(n_jobs=8)]: Done   2 tasks      | elapsed:    0.0s\n",
      "[Parallel(n_jobs=8)]: Done   9 tasks      | elapsed:    0.0s\n",
      "[Parallel(n_jobs=8)]: Done  16 tasks      | elapsed:    0.1s\n",
      "[Parallel(n_jobs=8)]: Done  25 tasks      | elapsed:    0.1s\n",
      "[Parallel(n_jobs=8)]: Done  34 tasks      | elapsed:    0.1s\n",
      "[Parallel(n_jobs=8)]: Done  45 tasks      | elapsed:    0.1s\n",
      "[Parallel(n_jobs=8)]: Done  56 tasks      | elapsed:    0.2s\n",
      "[Parallel(n_jobs=8)]: Done  69 tasks      | elapsed:    0.2s\n",
      "[Parallel(n_jobs=8)]: Done  82 out of  88 | elapsed:    0.2s remaining:    0.0s\n",
      "[Parallel(n_jobs=8)]: Done  88 out of  88 | elapsed:    0.2s finished\n",
      "[Parallel(n_jobs=8)]: Done   2 tasks      | elapsed:    0.0s\n",
      "[Parallel(n_jobs=8)]: Done   9 tasks      | elapsed:    0.1s\n",
      "[Parallel(n_jobs=8)]: Done  16 tasks      | elapsed:    0.1s\n",
      "[Parallel(n_jobs=8)]: Done  25 tasks      | elapsed:    0.1s\n",
      "[Parallel(n_jobs=8)]: Done  34 tasks      | elapsed:    0.2s\n",
      "[Parallel(n_jobs=8)]: Done  45 tasks      | elapsed:    0.2s\n",
      "[Parallel(n_jobs=8)]: Done  56 tasks      | elapsed:    0.3s\n",
      "[Parallel(n_jobs=8)]: Done  69 tasks      | elapsed:    0.4s\n",
      "[Parallel(n_jobs=8)]: Done  82 out of  88 | elapsed:    0.4s remaining:    0.0s\n",
      "[Parallel(n_jobs=8)]: Done  88 out of  88 | elapsed:    0.4s finished\n",
      "/home/justin/anaconda3/lib/python3.6/site-packages/sklearn/model_selection/_validation.py:437: DataConversionWarning: A column-vector y was passed when a 1d array was expected. Please change the shape of y to (n_samples,), for example using ravel().\n",
      "  estimator.fit(X_train, y_train, **fit_params)\n"
     ]
    },
    {
     "name": "stdout",
     "output_type": "stream",
     "text": [
      "building tree 2 of 175building tree 1 of 175building tree 3 of 175building tree 4 of 175building tree 5 of 175building tree 6 of 175building tree 7 of 175\n",
      "\n",
      "\n",
      "\n",
      "\n",
      "\n",
      "\n",
      "building tree 8 of 175\n",
      "building tree 9 of 175\n",
      "building tree 10 of 175\n"
     ]
    },
    {
     "name": "stderr",
     "output_type": "stream",
     "text": [
      "[Parallel(n_jobs=-1)]: Done   2 tasks      | elapsed:    6.9s\n"
     ]
    },
    {
     "name": "stdout",
     "output_type": "stream",
     "text": [
      "building tree 11 of 175\n",
      "building tree 12 of 175\n",
      "building tree 13 of 175\n",
      "building tree 14 of 175\n",
      "building tree 15 of 175\n",
      "building tree 16 of 175\n"
     ]
    },
    {
     "name": "stderr",
     "output_type": "stream",
     "text": [
      "[Parallel(n_jobs=-1)]: Done   9 tasks      | elapsed:   14.6s\n"
     ]
    },
    {
     "name": "stdout",
     "output_type": "stream",
     "text": [
      "building tree 17 of 175\n",
      "building tree 18 of 175\n",
      "building tree 19 of 175\n",
      "building tree 20 of 175\n",
      "building tree 21 of 175\n",
      "building tree 22 of 175\n",
      "building tree 23 of 175\n",
      "building tree 24 of 175\n"
     ]
    },
    {
     "name": "stderr",
     "output_type": "stream",
     "text": [
      "[Parallel(n_jobs=-1)]: Done  16 tasks      | elapsed:   16.5s\n"
     ]
    },
    {
     "name": "stdout",
     "output_type": "stream",
     "text": [
      "building tree 25 of 175\n",
      "building tree 26 of 175\n",
      "building tree 27 of 175\n",
      "building tree 28 of 175\n",
      "building tree 29 of 175\n",
      "building tree 30 of 175\n",
      "building tree 31 of 175\n",
      "building tree 32 of 175\n"
     ]
    },
    {
     "name": "stderr",
     "output_type": "stream",
     "text": [
      "[Parallel(n_jobs=-1)]: Done  25 tasks      | elapsed:   28.9s\n"
     ]
    },
    {
     "name": "stdout",
     "output_type": "stream",
     "text": [
      "building tree 33 of 175\n",
      "building tree 34 of 175\n",
      "building tree 35 of 175\n",
      "building tree 36 of 175\n",
      "building tree 37 of 175\n",
      "building tree 38 of 175\n",
      "building tree 39 of 175\n",
      "building tree 40 of 175\n",
      "building tree 41 of 175\n"
     ]
    },
    {
     "name": "stderr",
     "output_type": "stream",
     "text": [
      "[Parallel(n_jobs=-1)]: Done  34 tasks      | elapsed:   37.7s\n"
     ]
    },
    {
     "name": "stdout",
     "output_type": "stream",
     "text": [
      "building tree 42 of 175\n",
      "building tree 43 of 175\n",
      "building tree 44 of 175\n",
      "building tree 45 of 175\n",
      "building tree 46 of 175\n",
      "building tree 47 of 175\n",
      "building tree 48 of 175\n",
      "building tree 49 of 175\n",
      "building tree 50 of 175\n",
      "building tree 51 of 175\n",
      "building tree 52 of 175\n"
     ]
    },
    {
     "name": "stderr",
     "output_type": "stream",
     "text": [
      "[Parallel(n_jobs=-1)]: Done  45 tasks      | elapsed:   46.1s\n"
     ]
    },
    {
     "name": "stdout",
     "output_type": "stream",
     "text": [
      "building tree 53 of 175\n",
      "building tree 54 of 175\n",
      "building tree 55 of 175\n",
      "building tree 56 of 175\n",
      "building tree 57 of 175\n",
      "building tree 58 of 175\n",
      "building tree 59 of 175\n",
      "building tree 60 of 175\n",
      "building tree 61 of 175\n",
      "building tree 62 of 175\n",
      "building tree 63 of 175\n"
     ]
    },
    {
     "name": "stderr",
     "output_type": "stream",
     "text": [
      "[Parallel(n_jobs=-1)]: Done  56 tasks      | elapsed:   56.2s\n"
     ]
    },
    {
     "name": "stdout",
     "output_type": "stream",
     "text": [
      "building tree 64 of 175\n",
      "building tree 65 of 175\n",
      "building tree 66 of 175\n",
      "building tree 67 of 175\n",
      "building tree 68 of 175\n",
      "building tree 69 of 175\n",
      "building tree 70 of 175\n",
      "building tree 71 of 175\n",
      "building tree 72 of 175\n",
      "building tree 73 of 175\n",
      "building tree 74 of 175\n",
      "building tree 75 of 175\n",
      "building tree 76 of 175\n",
      "building tree 77 of 175\n"
     ]
    },
    {
     "name": "stderr",
     "output_type": "stream",
     "text": [
      "[Parallel(n_jobs=-1)]: Done  69 tasks      | elapsed:  1.2min\n"
     ]
    },
    {
     "name": "stdout",
     "output_type": "stream",
     "text": [
      "building tree 78 of 175\n",
      "building tree 79 of 175\n",
      "building tree 80 of 175\n",
      "building tree 81 of 175\n",
      "building tree 82 of 175\n",
      "building tree 83 of 175\n",
      "building tree 84 of 175\n",
      "building tree 85 of 175\n",
      "building tree 86 of 175\n",
      "building tree 87 of 175\n",
      "building tree 88 of 175\n",
      "building tree 89 of 175\n",
      "building tree 90 of 175\n"
     ]
    },
    {
     "name": "stderr",
     "output_type": "stream",
     "text": [
      "[Parallel(n_jobs=-1)]: Done  82 tasks      | elapsed:  1.4min\n"
     ]
    },
    {
     "name": "stdout",
     "output_type": "stream",
     "text": [
      "building tree 91 of 175\n",
      "building tree 92 of 175\n",
      "building tree 93 of 175\n",
      "building tree 94 of 175\n",
      "building tree 95 of 175\n",
      "building tree 96 of 175\n",
      "building tree 97 of 175\n",
      "building tree 98 of 175\n",
      "building tree 99 of 175\n",
      "building tree 100 of 175\n",
      "building tree 101 of 175\n",
      "building tree 102 of 175\n",
      "building tree 103 of 175\n",
      "building tree 104 of 175\n"
     ]
    },
    {
     "name": "stderr",
     "output_type": "stream",
     "text": [
      "[Parallel(n_jobs=-1)]: Done  97 tasks      | elapsed:  1.6min\n"
     ]
    },
    {
     "name": "stdout",
     "output_type": "stream",
     "text": [
      "building tree 105 of 175\n",
      "building tree 106 of 175\n",
      "building tree 107 of 175\n",
      "building tree 108 of 175\n",
      "building tree 109 of 175\n",
      "building tree 110 of 175\n",
      "building tree 111 of 175\n",
      "building tree 112 of 175\n",
      "building tree 113 of 175\n",
      "building tree 114 of 175\n",
      "building tree 115 of 175\n",
      "building tree 116 of 175\n",
      "building tree 117 of 175\n",
      "building tree 118 of 175\n",
      "building tree 119 of 175\n"
     ]
    },
    {
     "name": "stderr",
     "output_type": "stream",
     "text": [
      "[Parallel(n_jobs=-1)]: Done 112 tasks      | elapsed:  1.8min\n"
     ]
    },
    {
     "name": "stdout",
     "output_type": "stream",
     "text": [
      "building tree 120 of 175\n",
      "building tree 121 of 175\n",
      "building tree 122 of 175\n",
      "building tree 123 of 175\n",
      "building tree 124 of 175\n",
      "building tree 125 of 175\n",
      "building tree 126 of 175\n",
      "building tree 127 of 175\n",
      "building tree 128 of 175\n",
      "building tree 129 of 175\n",
      "building tree 130 of 175\n",
      "building tree 131 of 175\n",
      "building tree 132 of 175\n",
      "building tree 133 of 175\n",
      "building tree 134 of 175\n",
      "building tree 135 of 175\n",
      "building tree 136 of 175\n"
     ]
    },
    {
     "name": "stderr",
     "output_type": "stream",
     "text": [
      "[Parallel(n_jobs=-1)]: Done 129 tasks      | elapsed:  2.1min\n"
     ]
    },
    {
     "name": "stdout",
     "output_type": "stream",
     "text": [
      "building tree 137 of 175\n",
      "building tree 138 of 175\n",
      "building tree 139 of 175\n",
      "building tree 140 of 175\n",
      "building tree 141 of 175\n",
      "building tree 142 of 175\n",
      "building tree 143 of 175\n",
      "building tree 144 of 175\n",
      "building tree 145 of 175\n",
      "building tree 146 of 175\n",
      "building tree 147 of 175\n",
      "building tree 148 of 175\n",
      "building tree 149 of 175\n",
      "building tree 150 of 175\n",
      "building tree 151 of 175\n",
      "building tree 152 of 175\n",
      "building tree 153 of 175\n"
     ]
    },
    {
     "name": "stderr",
     "output_type": "stream",
     "text": [
      "[Parallel(n_jobs=-1)]: Done 146 tasks      | elapsed:  2.4min\n"
     ]
    },
    {
     "name": "stdout",
     "output_type": "stream",
     "text": [
      "building tree 154 of 175\n",
      "building tree 155 of 175\n",
      "building tree 156 of 175\n",
      "building tree 157 of 175\n",
      "building tree 158 of 175\n",
      "building tree 159 of 175\n",
      "building tree 160 of 175\n",
      "building tree 161 of 175\n",
      "building tree 162 of 175\n",
      "building tree 163 of 175\n",
      "building tree 164 of 175\n",
      "building tree 165 of 175\n",
      "building tree 166 of 175\n",
      "building tree 167 of 175\n",
      "building tree 168 of 175\n",
      "building tree 169 of 175\n",
      "building tree 170 of 175\n",
      "building tree 171 of 175\n",
      "building tree 172 of 175\n",
      "building tree 173 of 175\n",
      "building tree 174 of 175\n",
      "building tree 175 of 175\n"
     ]
    },
    {
     "name": "stderr",
     "output_type": "stream",
     "text": [
      "[Parallel(n_jobs=-1)]: Done 175 out of 175 | elapsed:  2.8min finished\n",
      "[Parallel(n_jobs=8)]: Done   2 tasks      | elapsed:    0.1s\n",
      "[Parallel(n_jobs=8)]: Done   9 tasks      | elapsed:    0.1s\n",
      "[Parallel(n_jobs=8)]: Done  16 tasks      | elapsed:    0.2s\n",
      "[Parallel(n_jobs=8)]: Done  25 tasks      | elapsed:    0.2s\n",
      "[Parallel(n_jobs=8)]: Done  34 tasks      | elapsed:    0.3s\n",
      "[Parallel(n_jobs=8)]: Done  45 tasks      | elapsed:    0.4s\n",
      "[Parallel(n_jobs=8)]: Done  56 tasks      | elapsed:    0.5s\n",
      "[Parallel(n_jobs=8)]: Done  69 tasks      | elapsed:    0.6s\n",
      "[Parallel(n_jobs=8)]: Done  82 tasks      | elapsed:    0.7s\n",
      "[Parallel(n_jobs=8)]: Done  97 tasks      | elapsed:    0.8s\n",
      "[Parallel(n_jobs=8)]: Done 112 tasks      | elapsed:    1.0s\n",
      "[Parallel(n_jobs=8)]: Done 129 tasks      | elapsed:    1.1s\n",
      "[Parallel(n_jobs=8)]: Done 146 tasks      | elapsed:    1.2s\n",
      "[Parallel(n_jobs=8)]: Done 175 out of 175 | elapsed:    1.5s finished\n",
      "[Parallel(n_jobs=8)]: Done   2 tasks      | elapsed:    0.1s\n",
      "[Parallel(n_jobs=8)]: Done   9 tasks      | elapsed:    0.2s\n",
      "[Parallel(n_jobs=8)]: Done  16 tasks      | elapsed:    0.4s\n",
      "[Parallel(n_jobs=8)]: Done  25 tasks      | elapsed:    0.5s\n",
      "[Parallel(n_jobs=8)]: Done  34 tasks      | elapsed:    0.6s\n",
      "[Parallel(n_jobs=8)]: Done  45 tasks      | elapsed:    0.8s\n",
      "[Parallel(n_jobs=8)]: Done  56 tasks      | elapsed:    1.0s\n",
      "[Parallel(n_jobs=8)]: Done  69 tasks      | elapsed:    1.2s\n",
      "[Parallel(n_jobs=8)]: Done  82 tasks      | elapsed:    1.5s\n",
      "[Parallel(n_jobs=8)]: Done  97 tasks      | elapsed:    1.7s\n",
      "[Parallel(n_jobs=8)]: Done 112 tasks      | elapsed:    2.0s\n",
      "[Parallel(n_jobs=8)]: Done 129 tasks      | elapsed:    2.3s\n",
      "[Parallel(n_jobs=8)]: Done 146 tasks      | elapsed:    2.6s\n",
      "[Parallel(n_jobs=8)]: Done 175 out of 175 | elapsed:    3.0s finished\n",
      "/home/justin/anaconda3/lib/python3.6/site-packages/sklearn/model_selection/_validation.py:437: DataConversionWarning: A column-vector y was passed when a 1d array was expected. Please change the shape of y to (n_samples,), for example using ravel().\n",
      "  estimator.fit(X_train, y_train, **fit_params)\n"
     ]
    },
    {
     "name": "stdout",
     "output_type": "stream",
     "text": [
      "building tree 3 of 175building tree 4 of 175building tree 1 of 175building tree 5 of 175building tree 6 of 175building tree 7 of 175building tree 8 of 175building tree 2 of 175\n",
      "\n",
      "\n",
      "\n",
      "\n",
      "\n",
      "\n",
      "\n",
      "building tree 9 of 175\n"
     ]
    },
    {
     "name": "stderr",
     "output_type": "stream",
     "text": [
      "[Parallel(n_jobs=-1)]: Done   2 tasks      | elapsed:    7.1s\n"
     ]
    },
    {
     "name": "stdout",
     "output_type": "stream",
     "text": [
      "building tree 10 of 175\n",
      "building tree 11 of 175\n",
      "building tree 12 of 175\n",
      "building tree 13 of 175\n",
      "building tree 14 of 175\n",
      "building tree 15 of 175\n",
      "building tree 16 of 175\n"
     ]
    },
    {
     "name": "stderr",
     "output_type": "stream",
     "text": [
      "[Parallel(n_jobs=-1)]: Done   9 tasks      | elapsed:   13.1s\n"
     ]
    },
    {
     "name": "stdout",
     "output_type": "stream",
     "text": [
      "building tree 17 of 175\n",
      "building tree 18 of 175\n",
      "building tree 19 of 175\n",
      "building tree 20 of 175\n",
      "building tree 21 of 175\n",
      "building tree 22 of 175\n",
      "building tree 23 of 175\n"
     ]
    },
    {
     "name": "stderr",
     "output_type": "stream",
     "text": [
      "[Parallel(n_jobs=-1)]: Done  16 tasks      | elapsed:   16.3s\n"
     ]
    },
    {
     "name": "stdout",
     "output_type": "stream",
     "text": [
      "building tree 24 of 175\n",
      "building tree 25 of 175\n",
      "building tree 26 of 175\n",
      "building tree 27 of 175\n",
      "building tree 28 of 175\n",
      "building tree 29 of 175\n",
      "building tree 30 of 175\n",
      "building tree 31 of 175\n",
      "building tree 32 of 175\n"
     ]
    },
    {
     "name": "stderr",
     "output_type": "stream",
     "text": [
      "[Parallel(n_jobs=-1)]: Done  25 tasks      | elapsed:   28.8s\n"
     ]
    },
    {
     "name": "stdout",
     "output_type": "stream",
     "text": [
      "building tree 33 of 175\n",
      "building tree 34 of 175\n",
      "building tree 35 of 175\n",
      "building tree 36 of 175\n",
      "building tree 37 of 175\n",
      "building tree 38 of 175\n",
      "building tree 39 of 175\n",
      "building tree 40 of 175\n",
      "building tree 41 of 175\n"
     ]
    },
    {
     "name": "stderr",
     "output_type": "stream",
     "text": [
      "[Parallel(n_jobs=-1)]: Done  34 tasks      | elapsed:   38.0s\n"
     ]
    },
    {
     "name": "stdout",
     "output_type": "stream",
     "text": [
      "building tree 42 of 175\n",
      "building tree 43 of 175\n",
      "building tree 44 of 175\n",
      "building tree 45 of 175\n",
      "building tree 46 of 175\n",
      "building tree 47 of 175\n",
      "building tree 48 of 175\n",
      "building tree 49 of 175\n",
      "building tree 50 of 175\n",
      "building tree 51 of 175\n",
      "building tree 52 of 175\n"
     ]
    },
    {
     "name": "stderr",
     "output_type": "stream",
     "text": [
      "[Parallel(n_jobs=-1)]: Done  45 tasks      | elapsed:   46.8s\n"
     ]
    },
    {
     "name": "stdout",
     "output_type": "stream",
     "text": [
      "building tree 53 of 175\n",
      "building tree 55 of 175\n",
      "building tree 54 of 175\n",
      "building tree 56 of 175\n",
      "building tree 57 of 175\n",
      "building tree 58 of 175\n",
      "building tree 59 of 175\n",
      "building tree 60 of 175\n",
      "building tree 61 of 175\n",
      "building tree 62 of 175\n",
      "building tree 63 of 175\n"
     ]
    },
    {
     "name": "stderr",
     "output_type": "stream",
     "text": [
      "[Parallel(n_jobs=-1)]: Done  56 tasks      | elapsed:   54.9s\n"
     ]
    },
    {
     "name": "stdout",
     "output_type": "stream",
     "text": [
      "building tree 64 of 175\n",
      "building tree 65 of 175\n",
      "building tree 66 of 175\n",
      "building tree 67 of 175\n",
      "building tree 68 of 175\n",
      "building tree 69 of 175\n",
      "building tree 70 of 175\n",
      "building tree 71 of 175\n",
      "building tree 72 of 175\n",
      "building tree 73 of 175\n",
      "building tree 74 of 175\n",
      "building tree 75 of 175\n",
      "building tree 76 of 175\n"
     ]
    },
    {
     "name": "stderr",
     "output_type": "stream",
     "text": [
      "[Parallel(n_jobs=-1)]: Done  69 tasks      | elapsed:  1.2min\n"
     ]
    },
    {
     "name": "stdout",
     "output_type": "stream",
     "text": [
      "building tree 77 of 175\n",
      "building tree 78 of 175\n",
      "building tree 80 of 175\n",
      "building tree 79 of 175\n",
      "building tree 81 of 175\n",
      "building tree 82 of 175\n",
      "building tree 83 of 175\n",
      "building tree 84 of 175\n",
      "building tree 85 of 175\n",
      "building tree 86 of 175\n",
      "building tree 87 of 175\n",
      "building tree 88 of 175\n",
      "building tree 89 of 175\n",
      "building tree 90 of 175\n",
      "building tree 91 of 175\n"
     ]
    },
    {
     "name": "stderr",
     "output_type": "stream",
     "text": [
      "[Parallel(n_jobs=-1)]: Done  82 tasks      | elapsed:  1.4min\n"
     ]
    },
    {
     "name": "stdout",
     "output_type": "stream",
     "text": [
      "building tree 92 of 175\n",
      "building tree 93 of 175\n",
      "building tree 94 of 175\n",
      "building tree 95 of 175\n",
      "building tree 96 of 175\n",
      "building tree 97 of 175\n",
      "building tree 98 of 175\n",
      "building tree 99 of 175\n",
      "building tree 100 of 175\n",
      "building tree 101 of 175\n",
      "building tree 102 of 175\n",
      "building tree 103 of 175\n",
      "building tree 104 of 175\n"
     ]
    },
    {
     "name": "stderr",
     "output_type": "stream",
     "text": [
      "[Parallel(n_jobs=-1)]: Done  97 tasks      | elapsed:  1.6min\n"
     ]
    },
    {
     "name": "stdout",
     "output_type": "stream",
     "text": [
      "building tree 105 of 175\n",
      "building tree 106 of 175\n",
      "building tree 107 of 175\n",
      "building tree 109 of 175\n",
      "building tree 108 of 175\n",
      "building tree 110 of 175\n",
      "building tree 111 of 175\n",
      "building tree 112 of 175\n",
      "building tree 113 of 175\n",
      "building tree 114 of 175\n",
      "building tree 115 of 175\n",
      "building tree 116 of 175\n",
      "building tree 117 of 175\n",
      "building tree 118 of 175\n",
      "building tree 119 of 175\n"
     ]
    },
    {
     "name": "stderr",
     "output_type": "stream",
     "text": [
      "[Parallel(n_jobs=-1)]: Done 112 tasks      | elapsed:  1.8min\n"
     ]
    },
    {
     "name": "stdout",
     "output_type": "stream",
     "text": [
      "building tree 120 of 175\n",
      "building tree 121 of 175\n",
      "building tree 122 of 175\n",
      "building tree 123 of 175\n",
      "building tree 124 of 175\n",
      "building tree 125 of 175\n",
      "building tree 126 of 175\n",
      "building tree 127 of 175\n",
      "building tree 128 of 175\n",
      "building tree 129 of 175\n",
      "building tree 130 of 175\n",
      "building tree 131 of 175\n",
      "building tree 132 of 175\n",
      "building tree 133 of 175\n",
      "building tree 134 of 175\n",
      "building tree 135 of 175\n",
      "building tree 136 of 175\n"
     ]
    },
    {
     "name": "stderr",
     "output_type": "stream",
     "text": [
      "[Parallel(n_jobs=-1)]: Done 129 tasks      | elapsed:  2.1min\n"
     ]
    },
    {
     "name": "stdout",
     "output_type": "stream",
     "text": [
      "building tree 137 of 175\n",
      "building tree 138 of 175\n",
      "building tree 139 of 175\n",
      "building tree 140 of 175\n",
      "building tree 141 of 175\n",
      "building tree 142 of 175\n",
      "building tree 143 of 175\n",
      "building tree 144 of 175\n",
      "building tree 145 of 175\n",
      "building tree 146 of 175\n",
      "building tree 147 of 175\n",
      "building tree 148 of 175\n",
      "building tree 149 of 175\n",
      "building tree 150 of 175\n",
      "building tree 151 of 175\n",
      "building tree 152 of 175\n",
      "building tree 153 of 175\n"
     ]
    },
    {
     "name": "stderr",
     "output_type": "stream",
     "text": [
      "[Parallel(n_jobs=-1)]: Done 146 tasks      | elapsed:  2.4min\n"
     ]
    },
    {
     "name": "stdout",
     "output_type": "stream",
     "text": [
      "building tree 154 of 175\n",
      "building tree 155 of 175\n",
      "building tree 156 of 175\n",
      "building tree 157 of 175\n",
      "building tree 158 of 175\n",
      "building tree 159 of 175\n",
      "building tree 160 of 175\n",
      "building tree 161 of 175\n",
      "building tree 162 of 175\n",
      "building tree 163 of 175\n",
      "building tree 164 of 175\n",
      "building tree 165 of 175\n",
      "building tree 166 of 175\n",
      "building tree 167 of 175\n",
      "building tree 168 of 175\n",
      "building tree 169 of 175\n",
      "building tree 170 of 175\n",
      "building tree 171 of 175\n",
      "building tree 172 of 175\n",
      "building tree 173 of 175\n",
      "building tree 174 of 175\n",
      "building tree 175 of 175\n"
     ]
    },
    {
     "name": "stderr",
     "output_type": "stream",
     "text": [
      "[Parallel(n_jobs=-1)]: Done 175 out of 175 | elapsed:  2.8min finished\n",
      "[Parallel(n_jobs=8)]: Done   2 tasks      | elapsed:    0.1s\n",
      "[Parallel(n_jobs=8)]: Done   9 tasks      | elapsed:    0.1s\n",
      "[Parallel(n_jobs=8)]: Done  16 tasks      | elapsed:    0.2s\n",
      "[Parallel(n_jobs=8)]: Done  25 tasks      | elapsed:    0.2s\n",
      "[Parallel(n_jobs=8)]: Done  34 tasks      | elapsed:    0.3s\n",
      "[Parallel(n_jobs=8)]: Done  45 tasks      | elapsed:    0.4s\n",
      "[Parallel(n_jobs=8)]: Done  56 tasks      | elapsed:    0.5s\n",
      "[Parallel(n_jobs=8)]: Done  69 tasks      | elapsed:    0.6s\n",
      "[Parallel(n_jobs=8)]: Done  82 tasks      | elapsed:    0.7s\n",
      "[Parallel(n_jobs=8)]: Done  97 tasks      | elapsed:    0.9s\n",
      "[Parallel(n_jobs=8)]: Done 112 tasks      | elapsed:    1.0s\n",
      "[Parallel(n_jobs=8)]: Done 129 tasks      | elapsed:    1.1s\n",
      "[Parallel(n_jobs=8)]: Done 146 tasks      | elapsed:    1.3s\n",
      "[Parallel(n_jobs=8)]: Done 175 out of 175 | elapsed:    1.5s finished\n",
      "[Parallel(n_jobs=8)]: Done   2 tasks      | elapsed:    0.1s\n",
      "[Parallel(n_jobs=8)]: Done   9 tasks      | elapsed:    0.2s\n",
      "[Parallel(n_jobs=8)]: Done  16 tasks      | elapsed:    0.3s\n",
      "[Parallel(n_jobs=8)]: Done  25 tasks      | elapsed:    0.5s\n",
      "[Parallel(n_jobs=8)]: Done  34 tasks      | elapsed:    0.6s\n",
      "[Parallel(n_jobs=8)]: Done  45 tasks      | elapsed:    0.8s\n",
      "[Parallel(n_jobs=8)]: Done  56 tasks      | elapsed:    1.0s\n",
      "[Parallel(n_jobs=8)]: Done  69 tasks      | elapsed:    1.2s\n",
      "[Parallel(n_jobs=8)]: Done  82 tasks      | elapsed:    1.5s\n",
      "[Parallel(n_jobs=8)]: Done  97 tasks      | elapsed:    1.7s\n",
      "[Parallel(n_jobs=8)]: Done 112 tasks      | elapsed:    2.0s\n",
      "[Parallel(n_jobs=8)]: Done 129 tasks      | elapsed:    2.3s\n",
      "[Parallel(n_jobs=8)]: Done 146 tasks      | elapsed:    2.6s\n",
      "[Parallel(n_jobs=8)]: Done 175 out of 175 | elapsed:    3.0s finished\n",
      "/home/justin/anaconda3/lib/python3.6/site-packages/sklearn/model_selection/_validation.py:437: DataConversionWarning: A column-vector y was passed when a 1d array was expected. Please change the shape of y to (n_samples,), for example using ravel().\n",
      "  estimator.fit(X_train, y_train, **fit_params)\n"
     ]
    },
    {
     "name": "stdout",
     "output_type": "stream",
     "text": [
      "building tree 3 of 175building tree 4 of 175building tree 2 of 175building tree 1 of 175building tree 5 of 175building tree 6 of 175building tree 8 of 175\n",
      "\n",
      "\n",
      "\n",
      "\n",
      "\n",
      "\n",
      "building tree 7 of 175\n",
      "building tree 9 of 175\n"
     ]
    },
    {
     "name": "stderr",
     "output_type": "stream",
     "text": [
      "[Parallel(n_jobs=-1)]: Done   2 tasks      | elapsed:    7.4s\n"
     ]
    },
    {
     "name": "stdout",
     "output_type": "stream",
     "text": [
      "building tree 10 of 175\n",
      "building tree 11 of 175\n",
      "building tree 12 of 175\n",
      "building tree 13 of 175\n",
      "building tree 14 of 175\n",
      "building tree 15 of 175\n",
      "building tree 16 of 175\n"
     ]
    },
    {
     "name": "stderr",
     "output_type": "stream",
     "text": [
      "[Parallel(n_jobs=-1)]: Done   9 tasks      | elapsed:   14.2s\n"
     ]
    },
    {
     "name": "stdout",
     "output_type": "stream",
     "text": [
      "building tree 17 of 175\n",
      "building tree 18 of 175\n",
      "building tree 19 of 175\n",
      "building tree 20 of 175\n",
      "building tree 21 of 175\n",
      "building tree 22 of 175\n",
      "building tree 23 of 175\n"
     ]
    },
    {
     "name": "stderr",
     "output_type": "stream",
     "text": [
      "[Parallel(n_jobs=-1)]: Done  16 tasks      | elapsed:   16.7s\n"
     ]
    },
    {
     "name": "stdout",
     "output_type": "stream",
     "text": [
      "building tree 24 of 175\n",
      "building tree 25 of 175\n",
      "building tree 26 of 175\n",
      "building tree 27 of 175\n",
      "building tree 28 of 175\n",
      "building tree 29 of 175\n",
      "building tree 30 of 175\n",
      "building tree 31 of 175\n",
      "building tree 32 of 175\n"
     ]
    },
    {
     "name": "stderr",
     "output_type": "stream",
     "text": [
      "[Parallel(n_jobs=-1)]: Done  25 tasks      | elapsed:   30.3s\n"
     ]
    },
    {
     "name": "stdout",
     "output_type": "stream",
     "text": [
      "building tree 33 of 175\n",
      "building tree 34 of 175\n",
      "building tree 35 of 175\n",
      "building tree 36 of 175\n",
      "building tree 37 of 175\n",
      "building tree 38 of 175\n",
      "building tree 39 of 175\n",
      "building tree 40 of 175\n",
      "building tree 41 of 175\n",
      "building tree 42 of 175\n",
      "building tree 43 of 175\n",
      "building tree 44 of 175\n"
     ]
    },
    {
     "name": "stderr",
     "output_type": "stream",
     "text": [
      "[Parallel(n_jobs=-1)]: Done  34 tasks      | elapsed:   38.5s\n"
     ]
    },
    {
     "name": "stdout",
     "output_type": "stream",
     "text": [
      "building tree 45 of 175\n",
      "building tree 46 of 175\n",
      "building tree 47 of 175\n",
      "building tree 48 of 175\n",
      "building tree 49 of 175\n",
      "building tree 50 of 175\n",
      "building tree 51 of 175\n",
      "building tree 52 of 175\n"
     ]
    },
    {
     "name": "stderr",
     "output_type": "stream",
     "text": [
      "[Parallel(n_jobs=-1)]: Done  45 tasks      | elapsed:   46.9s\n"
     ]
    },
    {
     "name": "stdout",
     "output_type": "stream",
     "text": [
      "building tree 53 of 175\n",
      "building tree 54 of 175\n",
      "building tree 55 of 175\n",
      "building tree 56 of 175\n",
      "building tree 57 of 175\n",
      "building tree 58 of 175\n",
      "building tree 59 of 175\n",
      "building tree 60 of 175\n",
      "building tree 61 of 175\n",
      "building tree 62 of 175\n",
      "building tree 63 of 175\n"
     ]
    },
    {
     "name": "stderr",
     "output_type": "stream",
     "text": [
      "[Parallel(n_jobs=-1)]: Done  56 tasks      | elapsed:   56.1s\n"
     ]
    },
    {
     "name": "stdout",
     "output_type": "stream",
     "text": [
      "building tree 64 of 175\n",
      "building tree 65 of 175\n",
      "building tree 66 of 175\n",
      "building tree 67 of 175\n",
      "building tree 68 of 175\n",
      "building tree 69 of 175\n",
      "building tree 70 of 175\n",
      "building tree 71 of 175\n",
      "building tree 72 of 175\n",
      "building tree 73 of 175\n",
      "building tree 74 of 175\n",
      "building tree 75 of 175\n",
      "building tree 76 of 175\n"
     ]
    },
    {
     "name": "stderr",
     "output_type": "stream",
     "text": [
      "[Parallel(n_jobs=-1)]: Done  69 tasks      | elapsed:  1.2min\n"
     ]
    },
    {
     "name": "stdout",
     "output_type": "stream",
     "text": [
      "building tree 77 of 175\n",
      "building tree 78 of 175\n",
      "building tree 79 of 175\n",
      "building tree 80 of 175\n",
      "building tree 81 of 175\n",
      "building tree 82 of 175\n",
      "building tree 83 of 175\n",
      "building tree 84 of 175\n",
      "building tree 85 of 175\n",
      "building tree 86 of 175\n",
      "building tree 87 of 175\n",
      "building tree 88 of 175\n",
      "building tree 89 of 175\n"
     ]
    },
    {
     "name": "stderr",
     "output_type": "stream",
     "text": [
      "[Parallel(n_jobs=-1)]: Done  82 tasks      | elapsed:  1.4min\n"
     ]
    },
    {
     "name": "stdout",
     "output_type": "stream",
     "text": [
      "building tree 90 of 175\n",
      "building tree 91 of 175\n",
      "building tree 92 of 175\n",
      "building tree 93 of 175\n",
      "building tree 94 of 175\n",
      "building tree 95 of 175\n",
      "building tree 96 of 175\n",
      "building tree 97 of 175\n",
      "building tree 98 of 175\n",
      "building tree 99 of 175\n",
      "building tree 100 of 175\n",
      "building tree 101 of 175\n",
      "building tree 102 of 175\n",
      "building tree 103 of 175\n",
      "building tree 104 of 175\n"
     ]
    },
    {
     "name": "stderr",
     "output_type": "stream",
     "text": [
      "[Parallel(n_jobs=-1)]: Done  97 tasks      | elapsed:  1.7min\n"
     ]
    },
    {
     "name": "stdout",
     "output_type": "stream",
     "text": [
      "building tree 105 of 175\n",
      "building tree 106 of 175\n",
      "building tree 107 of 175\n",
      "building tree 108 of 175\n",
      "building tree 109 of 175\n",
      "building tree 110 of 175\n",
      "building tree 111 of 175\n",
      "building tree 112 of 175\n",
      "building tree 113 of 175\n",
      "building tree 114 of 175\n",
      "building tree 115 of 175\n",
      "building tree 116 of 175\n",
      "building tree 117 of 175\n",
      "building tree 118 of 175\n",
      "building tree 119 of 175\n"
     ]
    },
    {
     "name": "stderr",
     "output_type": "stream",
     "text": [
      "[Parallel(n_jobs=-1)]: Done 112 tasks      | elapsed:  1.8min\n"
     ]
    },
    {
     "name": "stdout",
     "output_type": "stream",
     "text": [
      "building tree 120 of 175\n",
      "building tree 121 of 175\n",
      "building tree 122 of 175\n",
      "building tree 123 of 175\n",
      "building tree 124 of 175\n",
      "building tree 125 of 175\n",
      "building tree 126 of 175\n",
      "building tree 127 of 175\n",
      "building tree 128 of 175\n",
      "building tree 129 of 175\n",
      "building tree 130 of 175\n",
      "building tree 131 of 175\n",
      "building tree 132 of 175\n",
      "building tree 133 of 175\n",
      "building tree 134 of 175\n",
      "building tree 135 of 175\n",
      "building tree 136 of 175\n"
     ]
    },
    {
     "name": "stderr",
     "output_type": "stream",
     "text": [
      "[Parallel(n_jobs=-1)]: Done 129 tasks      | elapsed:  2.2min\n"
     ]
    },
    {
     "name": "stdout",
     "output_type": "stream",
     "text": [
      "building tree 137 of 175\n",
      "building tree 138 of 175\n",
      "building tree 139 of 175\n",
      "building tree 140 of 175\n",
      "building tree 141 of 175\n",
      "building tree 142 of 175\n",
      "building tree 143 of 175\n",
      "building tree 144 of 175\n",
      "building tree 145 of 175\n",
      "building tree 146 of 175\n",
      "building tree 147 of 175\n",
      "building tree 148 of 175\n",
      "building tree 149 of 175\n",
      "building tree 150 of 175\n",
      "building tree 151 of 175\n",
      "building tree 152 of 175\n",
      "building tree 153 of 175\n"
     ]
    },
    {
     "name": "stderr",
     "output_type": "stream",
     "text": [
      "[Parallel(n_jobs=-1)]: Done 146 tasks      | elapsed:  2.4min\n"
     ]
    },
    {
     "name": "stdout",
     "output_type": "stream",
     "text": [
      "building tree 154 of 175\n",
      "building tree 155 of 175\n",
      "building tree 156 of 175\n",
      "building tree 157 of 175\n",
      "building tree 158 of 175\n",
      "building tree 159 of 175\n",
      "building tree 160 of 175\n",
      "building tree 161 of 175\n",
      "building tree 162 of 175\n",
      "building tree 163 of 175\n",
      "building tree 164 of 175\n",
      "building tree 165 of 175\n",
      "building tree 166 of 175\n",
      "building tree 167 of 175\n",
      "building tree 168 of 175\n",
      "building tree 169 of 175\n",
      "building tree 170 of 175\n",
      "building tree 171 of 175\n",
      "building tree 172 of 175\n",
      "building tree 173 of 175\n",
      "building tree 174 of 175\n",
      "building tree 175 of 175\n"
     ]
    },
    {
     "name": "stderr",
     "output_type": "stream",
     "text": [
      "[Parallel(n_jobs=-1)]: Done 175 out of 175 | elapsed:  2.8min finished\n",
      "[Parallel(n_jobs=8)]: Done   2 tasks      | elapsed:    0.1s\n",
      "[Parallel(n_jobs=8)]: Done   9 tasks      | elapsed:    0.1s\n",
      "[Parallel(n_jobs=8)]: Done  16 tasks      | elapsed:    0.2s\n",
      "[Parallel(n_jobs=8)]: Done  25 tasks      | elapsed:    0.2s\n",
      "[Parallel(n_jobs=8)]: Done  34 tasks      | elapsed:    0.3s\n",
      "[Parallel(n_jobs=8)]: Done  45 tasks      | elapsed:    0.4s\n",
      "[Parallel(n_jobs=8)]: Done  56 tasks      | elapsed:    0.5s\n",
      "[Parallel(n_jobs=8)]: Done  69 tasks      | elapsed:    0.6s\n",
      "[Parallel(n_jobs=8)]: Done  82 tasks      | elapsed:    0.7s\n",
      "[Parallel(n_jobs=8)]: Done  97 tasks      | elapsed:    0.9s\n",
      "[Parallel(n_jobs=8)]: Done 112 tasks      | elapsed:    1.0s\n",
      "[Parallel(n_jobs=8)]: Done 129 tasks      | elapsed:    1.1s\n",
      "[Parallel(n_jobs=8)]: Done 146 tasks      | elapsed:    1.2s\n",
      "[Parallel(n_jobs=8)]: Done 175 out of 175 | elapsed:    1.5s finished\n",
      "[Parallel(n_jobs=8)]: Done   2 tasks      | elapsed:    0.1s\n",
      "[Parallel(n_jobs=8)]: Done   9 tasks      | elapsed:    0.2s\n",
      "[Parallel(n_jobs=8)]: Done  16 tasks      | elapsed:    0.4s\n",
      "[Parallel(n_jobs=8)]: Done  25 tasks      | elapsed:    0.5s\n",
      "[Parallel(n_jobs=8)]: Done  34 tasks      | elapsed:    0.7s\n",
      "[Parallel(n_jobs=8)]: Done  45 tasks      | elapsed:    0.9s\n",
      "[Parallel(n_jobs=8)]: Done  56 tasks      | elapsed:    1.1s\n",
      "[Parallel(n_jobs=8)]: Done  69 tasks      | elapsed:    1.3s\n",
      "[Parallel(n_jobs=8)]: Done  82 tasks      | elapsed:    1.5s\n",
      "[Parallel(n_jobs=8)]: Done  97 tasks      | elapsed:    1.7s\n",
      "[Parallel(n_jobs=8)]: Done 112 tasks      | elapsed:    2.0s\n",
      "[Parallel(n_jobs=8)]: Done 129 tasks      | elapsed:    2.3s\n",
      "[Parallel(n_jobs=8)]: Done 146 tasks      | elapsed:    2.6s\n",
      "[Parallel(n_jobs=8)]: Done 175 out of 175 | elapsed:    3.1s finished\n",
      "/home/justin/anaconda3/lib/python3.6/site-packages/sklearn/model_selection/_validation.py:437: DataConversionWarning: A column-vector y was passed when a 1d array was expected. Please change the shape of y to (n_samples,), for example using ravel().\n",
      "  estimator.fit(X_train, y_train, **fit_params)\n"
     ]
    },
    {
     "name": "stdout",
     "output_type": "stream",
     "text": [
      "building tree 2 of 158building tree 4 of 158building tree 5 of 158building tree 1 of 158building tree 3 of 158building tree 6 of 158building tree 7 of 158\n",
      "building tree 8 of 158\n",
      "\n",
      "\n",
      "\n",
      "\n",
      "\n",
      "\n",
      "building tree 9 of 158\n",
      "building tree 10 of 158\n"
     ]
    },
    {
     "name": "stderr",
     "output_type": "stream",
     "text": [
      "[Parallel(n_jobs=-1)]: Done   2 tasks      | elapsed:    5.1s\n"
     ]
    },
    {
     "name": "stdout",
     "output_type": "stream",
     "text": [
      "building tree 11 of 158\n",
      "building tree 12 of 158\n",
      "building tree 13 of 158\n",
      "building tree 14 of 158\n",
      "building tree 15 of 158\n",
      "building tree 16 of 158\n"
     ]
    },
    {
     "name": "stderr",
     "output_type": "stream",
     "text": [
      "[Parallel(n_jobs=-1)]: Done   9 tasks      | elapsed:   10.1s\n"
     ]
    },
    {
     "name": "stdout",
     "output_type": "stream",
     "text": [
      "building tree 17 of 158\n",
      "building tree 18 of 158\n",
      "building tree 19 of 158\n",
      "building tree 20 of 158\n",
      "building tree 21 of 158\n",
      "building tree 22 of 158\n",
      "building tree 23 of 158\n"
     ]
    },
    {
     "name": "stderr",
     "output_type": "stream",
     "text": [
      "[Parallel(n_jobs=-1)]: Done  16 tasks      | elapsed:   11.9s\n"
     ]
    },
    {
     "name": "stdout",
     "output_type": "stream",
     "text": [
      "building tree 24 of 158\n",
      "building tree 25 of 158\n",
      "building tree 26 of 158\n",
      "building tree 27 of 158\n",
      "building tree 28 of 158\n",
      "building tree 29 of 158\n",
      "building tree 30 of 158\n",
      "building tree 31 of 158\n",
      "building tree 32 of 158\n"
     ]
    },
    {
     "name": "stderr",
     "output_type": "stream",
     "text": [
      "[Parallel(n_jobs=-1)]: Done  25 tasks      | elapsed:   19.6s\n"
     ]
    },
    {
     "name": "stdout",
     "output_type": "stream",
     "text": [
      "building tree 33 of 158\n",
      "building tree 34 of 158\n",
      "building tree 35 of 158\n",
      "building tree 36 of 158\n",
      "building tree 37 of 158\n",
      "building tree 38 of 158\n",
      "building tree 39 of 158\n",
      "building tree 40 of 158\n",
      "building tree 41 of 158\n"
     ]
    },
    {
     "name": "stderr",
     "output_type": "stream",
     "text": [
      "[Parallel(n_jobs=-1)]: Done  34 tasks      | elapsed:   26.1s\n"
     ]
    },
    {
     "name": "stdout",
     "output_type": "stream",
     "text": [
      "building tree 42 of 158\n",
      "building tree 43 of 158\n",
      "building tree 44 of 158\n",
      "building tree 45 of 158\n",
      "building tree 46 of 158\n",
      "building tree 47 of 158\n",
      "building tree 48 of 158\n",
      "building tree 49 of 158\n",
      "building tree 50 of 158\n",
      "building tree 51 of 158\n",
      "building tree 52 of 158\n"
     ]
    },
    {
     "name": "stderr",
     "output_type": "stream",
     "text": [
      "[Parallel(n_jobs=-1)]: Done  45 tasks      | elapsed:   33.1s\n"
     ]
    },
    {
     "name": "stdout",
     "output_type": "stream",
     "text": [
      "building tree 53 of 158\n",
      "building tree 54 of 158\n",
      "building tree 55 of 158\n",
      "building tree 56 of 158\n",
      "building tree 57 of 158\n",
      "building tree 58 of 158\n",
      "building tree 59 of 158\n",
      "building tree 60 of 158\n",
      "building tree 61 of 158\n",
      "building tree 62 of 158\n",
      "building tree 63 of 158\n"
     ]
    },
    {
     "name": "stderr",
     "output_type": "stream",
     "text": [
      "[Parallel(n_jobs=-1)]: Done  56 tasks      | elapsed:   39.8s\n"
     ]
    },
    {
     "name": "stdout",
     "output_type": "stream",
     "text": [
      "building tree 64 of 158\n",
      "building tree 65 of 158\n",
      "building tree 66 of 158\n",
      "building tree 67 of 158\n",
      "building tree 68 of 158\n",
      "building tree 69 of 158\n",
      "building tree 70 of 158\n",
      "building tree 71 of 158\n",
      "building tree 72 of 158\n",
      "building tree 73 of 158\n",
      "building tree 74 of 158\n",
      "building tree 75 of 158\n",
      "building tree 76 of 158\n"
     ]
    },
    {
     "name": "stderr",
     "output_type": "stream",
     "text": [
      "[Parallel(n_jobs=-1)]: Done  69 tasks      | elapsed:   49.7s\n"
     ]
    },
    {
     "name": "stdout",
     "output_type": "stream",
     "text": [
      "building tree 77 of 158\n",
      "building tree 78 of 158\n",
      "building tree 79 of 158\n",
      "building tree 80 of 158\n",
      "building tree 81 of 158\n",
      "building tree 82 of 158\n",
      "building tree 83 of 158\n",
      "building tree 84 of 158\n",
      "building tree 85 of 158\n",
      "building tree 86 of 158\n",
      "building tree 87 of 158\n",
      "building tree 88 of 158\n",
      "building tree 89 of 158\n"
     ]
    },
    {
     "name": "stderr",
     "output_type": "stream",
     "text": [
      "[Parallel(n_jobs=-1)]: Done  82 tasks      | elapsed:   58.5s\n"
     ]
    },
    {
     "name": "stdout",
     "output_type": "stream",
     "text": [
      "building tree 90 of 158\n",
      "building tree 91 of 158\n",
      "building tree 92 of 158\n",
      "building tree 93 of 158\n",
      "building tree 94 of 158\n",
      "building tree 95 of 158\n",
      "building tree 96 of 158\n",
      "building tree 97 of 158\n",
      "building tree 98 of 158\n",
      "building tree 99 of 158\n",
      "building tree 100 of 158\n",
      "building tree 101 of 158\n",
      "building tree 102 of 158\n",
      "building tree 103 of 158\n",
      "building tree 104 of 158\n"
     ]
    },
    {
     "name": "stderr",
     "output_type": "stream",
     "text": [
      "[Parallel(n_jobs=-1)]: Done  97 tasks      | elapsed:  1.1min\n"
     ]
    },
    {
     "name": "stdout",
     "output_type": "stream",
     "text": [
      "building tree 105 of 158\n",
      "building tree 106 of 158\n",
      "building tree 107 of 158\n",
      "building tree 108 of 158\n",
      "building tree 109 of 158\n",
      "building tree 110 of 158\n",
      "building tree 111 of 158\n",
      "building tree 112 of 158\n",
      "building tree 113 of 158\n",
      "building tree 114 of 158\n",
      "building tree 115 of 158\n",
      "building tree 116 of 158\n",
      "building tree 117 of 158\n",
      "building tree 118 of 158\n",
      "building tree 119 of 158\n",
      "building tree 120 of 158\n"
     ]
    },
    {
     "name": "stderr",
     "output_type": "stream",
     "text": [
      "[Parallel(n_jobs=-1)]: Done 112 tasks      | elapsed:  1.3min\n"
     ]
    },
    {
     "name": "stdout",
     "output_type": "stream",
     "text": [
      "building tree 121 of 158\n",
      "building tree 122 of 158\n",
      "building tree 123 of 158\n",
      "building tree 124 of 158\n",
      "building tree 125 of 158\n",
      "building tree 126 of 158\n",
      "building tree 127 of 158\n",
      "building tree 128 of 158\n",
      "building tree 129 of 158\n",
      "building tree 130 of 158\n",
      "building tree 131 of 158\n",
      "building tree 132 of 158\n",
      "building tree 133 of 158\n",
      "building tree 134 of 158\n",
      "building tree 135 of 158\n",
      "building tree 136 of 158\n"
     ]
    },
    {
     "name": "stderr",
     "output_type": "stream",
     "text": [
      "[Parallel(n_jobs=-1)]: Done 129 tasks      | elapsed:  1.5min\n"
     ]
    },
    {
     "name": "stdout",
     "output_type": "stream",
     "text": [
      "building tree 137 of 158\n",
      "building tree 138 of 158\n",
      "building tree 139 of 158\n",
      "building tree 140 of 158\n",
      "building tree 141 of 158\n",
      "building tree 142 of 158\n",
      "building tree 143 of 158\n",
      "building tree 144 of 158\n",
      "building tree 145 of 158\n",
      "building tree 146 of 158\n",
      "building tree 147 of 158\n",
      "building tree 148 of 158\n",
      "building tree 149 of 158\n",
      "building tree 150 of 158\n",
      "building tree 151 of 158\n",
      "building tree 152 of 158\n",
      "building tree 153 of 158\n",
      "building tree 154 of 158\n",
      "building tree 155 of 158\n",
      "building tree 156 of 158\n",
      "building tree 157 of 158\n",
      "building tree 158 of 158\n"
     ]
    },
    {
     "name": "stderr",
     "output_type": "stream",
     "text": [
      "[Parallel(n_jobs=-1)]: Done 158 out of 158 | elapsed:  1.8min finished\n",
      "[Parallel(n_jobs=8)]: Done   2 tasks      | elapsed:    0.0s\n",
      "[Parallel(n_jobs=8)]: Done   9 tasks      | elapsed:    0.1s\n",
      "[Parallel(n_jobs=8)]: Done  16 tasks      | elapsed:    0.1s\n",
      "[Parallel(n_jobs=8)]: Done  25 tasks      | elapsed:    0.2s\n",
      "[Parallel(n_jobs=8)]: Done  34 tasks      | elapsed:    0.2s\n",
      "[Parallel(n_jobs=8)]: Done  45 tasks      | elapsed:    0.3s\n",
      "[Parallel(n_jobs=8)]: Done  56 tasks      | elapsed:    0.3s\n",
      "[Parallel(n_jobs=8)]: Done  69 tasks      | elapsed:    0.4s\n",
      "[Parallel(n_jobs=8)]: Done  82 tasks      | elapsed:    0.4s\n",
      "[Parallel(n_jobs=8)]: Done  97 tasks      | elapsed:    0.5s\n",
      "[Parallel(n_jobs=8)]: Done 112 tasks      | elapsed:    0.6s\n",
      "[Parallel(n_jobs=8)]: Done 129 tasks      | elapsed:    0.7s\n",
      "[Parallel(n_jobs=8)]: Done 158 out of 158 | elapsed:    0.8s finished\n",
      "[Parallel(n_jobs=8)]: Done   2 tasks      | elapsed:    0.1s\n",
      "[Parallel(n_jobs=8)]: Done   9 tasks      | elapsed:    0.2s\n",
      "[Parallel(n_jobs=8)]: Done  16 tasks      | elapsed:    0.2s\n",
      "[Parallel(n_jobs=8)]: Done  25 tasks      | elapsed:    0.3s\n",
      "[Parallel(n_jobs=8)]: Done  34 tasks      | elapsed:    0.4s\n",
      "[Parallel(n_jobs=8)]: Done  45 tasks      | elapsed:    0.5s\n",
      "[Parallel(n_jobs=8)]: Done  56 tasks      | elapsed:    0.7s\n",
      "[Parallel(n_jobs=8)]: Done  69 tasks      | elapsed:    0.8s\n",
      "[Parallel(n_jobs=8)]: Done  82 tasks      | elapsed:    0.9s\n",
      "[Parallel(n_jobs=8)]: Done  97 tasks      | elapsed:    1.1s\n",
      "[Parallel(n_jobs=8)]: Done 112 tasks      | elapsed:    1.2s\n",
      "[Parallel(n_jobs=8)]: Done 129 tasks      | elapsed:    1.4s\n",
      "[Parallel(n_jobs=8)]: Done 158 out of 158 | elapsed:    1.7s finished\n",
      "/home/justin/anaconda3/lib/python3.6/site-packages/sklearn/model_selection/_validation.py:437: DataConversionWarning: A column-vector y was passed when a 1d array was expected. Please change the shape of y to (n_samples,), for example using ravel().\n",
      "  estimator.fit(X_train, y_train, **fit_params)\n"
     ]
    },
    {
     "name": "stdout",
     "output_type": "stream",
     "text": [
      "building tree 2 of 158building tree 5 of 158building tree 4 of 158building tree 6 of 158building tree 3 of 158building tree 7 of 158building tree 8 of 158building tree 1 of 158\n",
      "\n",
      "\n",
      "\n",
      "\n",
      "\n",
      "\n",
      "\n",
      "building tree 9 of 158\n",
      "building tree 10 of 158\n",
      "building tree 11 of 158\n",
      "building tree 12 of 158\n"
     ]
    },
    {
     "name": "stderr",
     "output_type": "stream",
     "text": [
      "[Parallel(n_jobs=-1)]: Done   2 tasks      | elapsed:    4.9s\n"
     ]
    },
    {
     "name": "stdout",
     "output_type": "stream",
     "text": [
      "building tree 13 of 158\n",
      "building tree 14 of 158\n",
      "building tree 15 of 158\n",
      "building tree 16 of 158\n"
     ]
    },
    {
     "name": "stderr",
     "output_type": "stream",
     "text": [
      "[Parallel(n_jobs=-1)]: Done   9 tasks      | elapsed:    9.2s\n"
     ]
    },
    {
     "name": "stdout",
     "output_type": "stream",
     "text": [
      "building tree 17 of 158\n",
      "building tree 18 of 158\n",
      "building tree 19 of 158\n",
      "building tree 20 of 158\n",
      "building tree 21 of 158\n",
      "building tree 22 of 158\n",
      "building tree 23 of 158\n"
     ]
    },
    {
     "name": "stderr",
     "output_type": "stream",
     "text": [
      "[Parallel(n_jobs=-1)]: Done  16 tasks      | elapsed:   11.8s\n"
     ]
    },
    {
     "name": "stdout",
     "output_type": "stream",
     "text": [
      "building tree 24 of 158\n",
      "building tree 25 of 158\n",
      "building tree 26 of 158\n",
      "building tree 27 of 158\n",
      "building tree 28 of 158\n",
      "building tree 29 of 158\n",
      "building tree 30 of 158\n",
      "building tree 31 of 158\n",
      "building tree 32 of 158\n"
     ]
    },
    {
     "name": "stderr",
     "output_type": "stream",
     "text": [
      "[Parallel(n_jobs=-1)]: Done  25 tasks      | elapsed:   19.9s\n"
     ]
    },
    {
     "name": "stdout",
     "output_type": "stream",
     "text": [
      "building tree 33 of 158\n",
      "building tree 34 of 158\n",
      "building tree 35 of 158\n",
      "building tree 36 of 158\n",
      "building tree 37 of 158\n",
      "building tree 38 of 158\n",
      "building tree 39 of 158\n",
      "building tree 40 of 158\n",
      "building tree 41 of 158\n",
      "building tree 42 of 158\n"
     ]
    },
    {
     "name": "stderr",
     "output_type": "stream",
     "text": [
      "[Parallel(n_jobs=-1)]: Done  34 tasks      | elapsed:   25.2s\n"
     ]
    },
    {
     "name": "stdout",
     "output_type": "stream",
     "text": [
      "building tree 43 of 158\n",
      "building tree 44 of 158\n",
      "building tree 45 of 158\n",
      "building tree 46 of 158\n",
      "building tree 47 of 158\n",
      "building tree 48 of 158\n",
      "building tree 49 of 158\n",
      "building tree 50 of 158\n",
      "building tree 51 of 158\n",
      "building tree 52 of 158\n",
      "building tree 53 of 158\n"
     ]
    },
    {
     "name": "stderr",
     "output_type": "stream",
     "text": [
      "[Parallel(n_jobs=-1)]: Done  45 tasks      | elapsed:   31.4s\n"
     ]
    },
    {
     "name": "stdout",
     "output_type": "stream",
     "text": [
      "building tree 54 of 158\n",
      "building tree 55 of 158\n",
      "building tree 56 of 158\n",
      "building tree 57 of 158\n",
      "building tree 58 of 158\n",
      "building tree 59 of 158\n",
      "building tree 60 of 158\n",
      "building tree 61 of 158\n",
      "building tree 62 of 158\n",
      "building tree 63 of 158\n"
     ]
    },
    {
     "name": "stderr",
     "output_type": "stream",
     "text": [
      "[Parallel(n_jobs=-1)]: Done  56 tasks      | elapsed:   40.6s\n"
     ]
    },
    {
     "name": "stdout",
     "output_type": "stream",
     "text": [
      "building tree 64 of 158\n",
      "building tree 65 of 158\n",
      "building tree 66 of 158\n",
      "building tree 67 of 158\n",
      "building tree 68 of 158\n",
      "building tree 69 of 158\n",
      "building tree 70 of 158\n",
      "building tree 71 of 158\n",
      "building tree 72 of 158\n",
      "building tree 73 of 158\n",
      "building tree 74 of 158\n",
      "building tree 75 of 158\n",
      "building tree 76 of 158\n",
      "building tree 77 of 158\n"
     ]
    },
    {
     "name": "stderr",
     "output_type": "stream",
     "text": [
      "[Parallel(n_jobs=-1)]: Done  69 tasks      | elapsed:   48.2s\n"
     ]
    },
    {
     "name": "stdout",
     "output_type": "stream",
     "text": [
      "building tree 78 of 158\n",
      "building tree 79 of 158\n",
      "building tree 80 of 158\n",
      "building tree 81 of 158\n",
      "building tree 82 of 158\n",
      "building tree 83 of 158\n",
      "building tree 84 of 158\n",
      "building tree 85 of 158\n",
      "building tree 86 of 158\n",
      "building tree 87 of 158\n",
      "building tree 88 of 158\n",
      "building tree 89 of 158\n"
     ]
    },
    {
     "name": "stderr",
     "output_type": "stream",
     "text": [
      "[Parallel(n_jobs=-1)]: Done  82 tasks      | elapsed:   58.3s\n"
     ]
    },
    {
     "name": "stdout",
     "output_type": "stream",
     "text": [
      "building tree 90 of 158\n",
      "building tree 91 of 158\n",
      "building tree 92 of 158\n",
      "building tree 93 of 158\n",
      "building tree 94 of 158\n",
      "building tree 95 of 158\n",
      "building tree 96 of 158\n",
      "building tree 97 of 158\n",
      "building tree 98 of 158\n",
      "building tree 99 of 158\n",
      "building tree 100 of 158\n",
      "building tree 101 of 158\n",
      "building tree 102 of 158\n",
      "building tree 103 of 158\n",
      "building tree 104 of 158\n"
     ]
    },
    {
     "name": "stderr",
     "output_type": "stream",
     "text": [
      "[Parallel(n_jobs=-1)]: Done  97 tasks      | elapsed:  1.1min\n"
     ]
    },
    {
     "name": "stdout",
     "output_type": "stream",
     "text": [
      "building tree 105 of 158\n",
      "building tree 106 of 158\n",
      "building tree 107 of 158\n",
      "building tree 108 of 158\n",
      "building tree 109 of 158\n",
      "building tree 110 of 158\n",
      "building tree 111 of 158\n",
      "building tree 112 of 158\n",
      "building tree 113 of 158\n",
      "building tree 114 of 158\n",
      "building tree 115 of 158\n",
      "building tree 116 of 158\n",
      "building tree 117 of 158\n",
      "building tree 118 of 158\n",
      "building tree 119 of 158\n"
     ]
    },
    {
     "name": "stderr",
     "output_type": "stream",
     "text": [
      "[Parallel(n_jobs=-1)]: Done 112 tasks      | elapsed:  1.3min\n"
     ]
    },
    {
     "name": "stdout",
     "output_type": "stream",
     "text": [
      "building tree 120 of 158\n",
      "building tree 121 of 158\n",
      "building tree 122 of 158\n",
      "building tree 123 of 158\n",
      "building tree 124 of 158\n",
      "building tree 125 of 158\n",
      "building tree 126 of 158\n",
      "building tree 127 of 158\n",
      "building tree 128 of 158\n",
      "building tree 129 of 158\n",
      "building tree 130 of 158\n",
      "building tree 131 of 158\n",
      "building tree 132 of 158\n",
      "building tree 133 of 158\n",
      "building tree 134 of 158\n",
      "building tree 135 of 158\n",
      "building tree 136 of 158\n"
     ]
    },
    {
     "name": "stderr",
     "output_type": "stream",
     "text": [
      "[Parallel(n_jobs=-1)]: Done 129 tasks      | elapsed:  1.5min\n"
     ]
    },
    {
     "name": "stdout",
     "output_type": "stream",
     "text": [
      "building tree 137 of 158\n",
      "building tree 138 of 158\n",
      "building tree 139 of 158\n",
      "building tree 140 of 158\n",
      "building tree 141 of 158\n",
      "building tree 142 of 158\n",
      "building tree 143 of 158\n",
      "building tree 144 of 158\n",
      "building tree 145 of 158\n",
      "building tree 146 of 158\n",
      "building tree 147 of 158\n",
      "building tree 148 of 158\n",
      "building tree 149 of 158\n",
      "building tree 150 of 158\n",
      "building tree 151 of 158\n",
      "building tree 152 of 158\n",
      "building tree 153 of 158\n",
      "building tree 154 of 158\n",
      "building tree 155 of 158\n",
      "building tree 156 of 158\n",
      "building tree 157 of 158\n",
      "building tree 158 of 158\n"
     ]
    },
    {
     "name": "stderr",
     "output_type": "stream",
     "text": [
      "[Parallel(n_jobs=-1)]: Done 158 out of 158 | elapsed:  1.8min finished\n",
      "[Parallel(n_jobs=8)]: Done   2 tasks      | elapsed:    0.0s\n",
      "[Parallel(n_jobs=8)]: Done   9 tasks      | elapsed:    0.1s\n",
      "[Parallel(n_jobs=8)]: Done  16 tasks      | elapsed:    0.1s\n",
      "[Parallel(n_jobs=8)]: Done  25 tasks      | elapsed:    0.2s\n",
      "[Parallel(n_jobs=8)]: Done  34 tasks      | elapsed:    0.2s\n",
      "[Parallel(n_jobs=8)]: Done  45 tasks      | elapsed:    0.2s\n",
      "[Parallel(n_jobs=8)]: Done  56 tasks      | elapsed:    0.3s\n",
      "[Parallel(n_jobs=8)]: Done  69 tasks      | elapsed:    0.4s\n",
      "[Parallel(n_jobs=8)]: Done  82 tasks      | elapsed:    0.4s\n",
      "[Parallel(n_jobs=8)]: Done  97 tasks      | elapsed:    0.5s\n",
      "[Parallel(n_jobs=8)]: Done 112 tasks      | elapsed:    0.6s\n",
      "[Parallel(n_jobs=8)]: Done 129 tasks      | elapsed:    0.7s\n",
      "[Parallel(n_jobs=8)]: Done 158 out of 158 | elapsed:    0.8s finished\n",
      "[Parallel(n_jobs=8)]: Done   2 tasks      | elapsed:    0.1s\n",
      "[Parallel(n_jobs=8)]: Done   9 tasks      | elapsed:    0.1s\n",
      "[Parallel(n_jobs=8)]: Done  16 tasks      | elapsed:    0.2s\n",
      "[Parallel(n_jobs=8)]: Done  25 tasks      | elapsed:    0.3s\n",
      "[Parallel(n_jobs=8)]: Done  34 tasks      | elapsed:    0.4s\n",
      "[Parallel(n_jobs=8)]: Done  45 tasks      | elapsed:    0.5s\n",
      "[Parallel(n_jobs=8)]: Done  56 tasks      | elapsed:    0.6s\n",
      "[Parallel(n_jobs=8)]: Done  69 tasks      | elapsed:    0.7s\n",
      "[Parallel(n_jobs=8)]: Done  82 tasks      | elapsed:    0.8s\n",
      "[Parallel(n_jobs=8)]: Done  97 tasks      | elapsed:    1.0s\n",
      "[Parallel(n_jobs=8)]: Done 112 tasks      | elapsed:    1.2s\n",
      "[Parallel(n_jobs=8)]: Done 129 tasks      | elapsed:    1.4s\n",
      "[Parallel(n_jobs=8)]: Done 158 out of 158 | elapsed:    1.6s finished\n",
      "/home/justin/anaconda3/lib/python3.6/site-packages/sklearn/model_selection/_validation.py:437: DataConversionWarning: A column-vector y was passed when a 1d array was expected. Please change the shape of y to (n_samples,), for example using ravel().\n",
      "  estimator.fit(X_train, y_train, **fit_params)\n"
     ]
    },
    {
     "name": "stdout",
     "output_type": "stream",
     "text": [
      "building tree 2 of 158building tree 1 of 158building tree 4 of 158building tree 3 of 158building tree 6 of 158building tree 7 of 158building tree 8 of 158building tree 5 of 158\n",
      "\n",
      "\n",
      "\n",
      "\n",
      "\n",
      "\n",
      "\n",
      "building tree 9 of 158\n"
     ]
    },
    {
     "name": "stderr",
     "output_type": "stream",
     "text": [
      "[Parallel(n_jobs=-1)]: Done   2 tasks      | elapsed:    5.2s\n"
     ]
    },
    {
     "name": "stdout",
     "output_type": "stream",
     "text": [
      "building tree 10 of 158\n",
      "building tree 11 of 158\n",
      "building tree 12 of 158\n",
      "building tree 13 of 158\n",
      "building tree 14 of 158\n",
      "building tree 15 of 158\n",
      "building tree 16 of 158\n"
     ]
    },
    {
     "name": "stderr",
     "output_type": "stream",
     "text": [
      "[Parallel(n_jobs=-1)]: Done   9 tasks      | elapsed:   10.1s\n"
     ]
    },
    {
     "name": "stdout",
     "output_type": "stream",
     "text": [
      "building tree 17 of 158\n",
      "building tree 18 of 158\n",
      "building tree 19 of 158\n",
      "building tree 20 of 158\n",
      "building tree 21 of 158\n",
      "building tree 22 of 158\n",
      "building tree 23 of 158\n"
     ]
    },
    {
     "name": "stderr",
     "output_type": "stream",
     "text": [
      "[Parallel(n_jobs=-1)]: Done  16 tasks      | elapsed:   12.6s\n"
     ]
    },
    {
     "name": "stdout",
     "output_type": "stream",
     "text": [
      "building tree 24 of 158\n",
      "building tree 25 of 158\n",
      "building tree 26 of 158\n",
      "building tree 27 of 158\n",
      "building tree 28 of 158\n",
      "building tree 29 of 158\n",
      "building tree 30 of 158\n",
      "building tree 31 of 158\n",
      "building tree 32 of 158\n"
     ]
    },
    {
     "name": "stderr",
     "output_type": "stream",
     "text": [
      "[Parallel(n_jobs=-1)]: Done  25 tasks      | elapsed:   20.7s\n"
     ]
    },
    {
     "name": "stdout",
     "output_type": "stream",
     "text": [
      "building tree 33 of 158\n",
      "building tree 34 of 158\n",
      "building tree 35 of 158\n",
      "building tree 36 of 158\n",
      "building tree 37 of 158\n",
      "building tree 38 of 158\n",
      "building tree 39 of 158\n",
      "building tree 40 of 158\n",
      "building tree 41 of 158\n"
     ]
    },
    {
     "name": "stderr",
     "output_type": "stream",
     "text": [
      "[Parallel(n_jobs=-1)]: Done  34 tasks      | elapsed:   26.5s\n"
     ]
    },
    {
     "name": "stdout",
     "output_type": "stream",
     "text": [
      "building tree 42 of 158\n",
      "building tree 43 of 158\n",
      "building tree 44 of 158\n",
      "building tree 45 of 158\n",
      "building tree 46 of 158\n",
      "building tree 47 of 158\n",
      "building tree 48 of 158\n",
      "building tree 49 of 158\n",
      "building tree 50 of 158\n",
      "building tree 51 of 158\n",
      "building tree 52 of 158\n",
      "building tree 53 of 158\n"
     ]
    },
    {
     "name": "stderr",
     "output_type": "stream",
     "text": [
      "[Parallel(n_jobs=-1)]: Done  45 tasks      | elapsed:   32.8s\n"
     ]
    },
    {
     "name": "stdout",
     "output_type": "stream",
     "text": [
      "building tree 54 of 158\n",
      "building tree 55 of 158\n",
      "building tree 56 of 158\n",
      "building tree 57 of 158\n",
      "building tree 58 of 158\n",
      "building tree 59 of 158\n",
      "building tree 60 of 158\n",
      "building tree 61 of 158\n",
      "building tree 62 of 158\n",
      "building tree 63 of 158\n"
     ]
    },
    {
     "name": "stderr",
     "output_type": "stream",
     "text": [
      "[Parallel(n_jobs=-1)]: Done  56 tasks      | elapsed:   41.0s\n"
     ]
    },
    {
     "name": "stdout",
     "output_type": "stream",
     "text": [
      "building tree 64 of 158\n",
      "building tree 65 of 158\n",
      "building tree 66 of 158\n",
      "building tree 67 of 158\n",
      "building tree 68 of 158\n",
      "building tree 69 of 158\n",
      "building tree 70 of 158\n",
      "building tree 71 of 158\n",
      "building tree 72 of 158\n",
      "building tree 73 of 158\n",
      "building tree 74 of 158\n",
      "building tree 75 of 158\n",
      "building tree 76 of 158\n",
      "building tree 77 of 158\n"
     ]
    },
    {
     "name": "stderr",
     "output_type": "stream",
     "text": [
      "[Parallel(n_jobs=-1)]: Done  69 tasks      | elapsed:   49.4s\n"
     ]
    },
    {
     "name": "stdout",
     "output_type": "stream",
     "text": [
      "building tree 78 of 158\n",
      "building tree 79 of 158\n",
      "building tree 80 of 158\n",
      "building tree 81 of 158\n",
      "building tree 82 of 158\n",
      "building tree 83 of 158\n",
      "building tree 84 of 158\n",
      "building tree 85 of 158\n",
      "building tree 86 of 158\n",
      "building tree 87 of 158\n",
      "building tree 88 of 158\n",
      "building tree 89 of 158\n",
      "building tree 90 of 158\n"
     ]
    },
    {
     "name": "stderr",
     "output_type": "stream",
     "text": [
      "[Parallel(n_jobs=-1)]: Done  82 tasks      | elapsed:   57.6s\n"
     ]
    },
    {
     "name": "stdout",
     "output_type": "stream",
     "text": [
      "building tree 91 of 158\n",
      "building tree 92 of 158\n",
      "building tree 93 of 158\n",
      "building tree 94 of 158\n",
      "building tree 95 of 158\n",
      "building tree 96 of 158\n",
      "building tree 97 of 158\n",
      "building tree 98 of 158\n",
      "building tree 99 of 158\n",
      "building tree 100 of 158\n",
      "building tree 101 of 158\n",
      "building tree 102 of 158\n",
      "building tree 103 of 158\n",
      "building tree 104 of 158\n"
     ]
    },
    {
     "name": "stderr",
     "output_type": "stream",
     "text": [
      "[Parallel(n_jobs=-1)]: Done  97 tasks      | elapsed:  1.1min\n"
     ]
    },
    {
     "name": "stdout",
     "output_type": "stream",
     "text": [
      "building tree 105 of 158\n",
      "building tree 106 of 158\n",
      "building tree 107 of 158\n",
      "building tree 108 of 158\n",
      "building tree 109 of 158\n",
      "building tree 110 of 158\n",
      "building tree 111 of 158\n",
      "building tree 112 of 158\n",
      "building tree 113 of 158\n",
      "building tree 114 of 158\n",
      "building tree 115 of 158\n",
      "building tree 116 of 158\n",
      "building tree 117 of 158\n",
      "building tree 118 of 158\n",
      "building tree 119 of 158\n"
     ]
    },
    {
     "name": "stderr",
     "output_type": "stream",
     "text": [
      "[Parallel(n_jobs=-1)]: Done 112 tasks      | elapsed:  1.3min\n"
     ]
    },
    {
     "name": "stdout",
     "output_type": "stream",
     "text": [
      "building tree 120 of 158\n",
      "building tree 121 of 158\n",
      "building tree 122 of 158\n",
      "building tree 123 of 158\n",
      "building tree 124 of 158\n",
      "building tree 125 of 158\n",
      "building tree 126 of 158\n",
      "building tree 127 of 158\n",
      "building tree 128 of 158\n",
      "building tree 129 of 158\n",
      "building tree 130 of 158\n",
      "building tree 131 of 158\n",
      "building tree 132 of 158\n",
      "building tree 133 of 158\n",
      "building tree 134 of 158\n",
      "building tree 135 of 158\n",
      "building tree 136 of 158\n"
     ]
    },
    {
     "name": "stderr",
     "output_type": "stream",
     "text": [
      "[Parallel(n_jobs=-1)]: Done 129 tasks      | elapsed:  1.5min\n"
     ]
    },
    {
     "name": "stdout",
     "output_type": "stream",
     "text": [
      "building tree 137 of 158\n",
      "building tree 138 of 158\n",
      "building tree 139 of 158\n",
      "building tree 140 of 158\n",
      "building tree 141 of 158\n",
      "building tree 142 of 158\n",
      "building tree 143 of 158\n",
      "building tree 144 of 158\n",
      "building tree 145 of 158\n",
      "building tree 146 of 158\n",
      "building tree 147 of 158\n",
      "building tree 148 of 158\n",
      "building tree 149 of 158\n",
      "building tree 150 of 158\n",
      "building tree 151 of 158\n",
      "building tree 152 of 158\n",
      "building tree 153 of 158\n",
      "building tree 154 of 158\n",
      "building tree 155 of 158\n",
      "building tree 156 of 158\n",
      "building tree 157 of 158\n",
      "building tree 158 of 158\n"
     ]
    },
    {
     "name": "stderr",
     "output_type": "stream",
     "text": [
      "[Parallel(n_jobs=-1)]: Done 158 out of 158 | elapsed:  1.8min finished\n",
      "[Parallel(n_jobs=8)]: Done   2 tasks      | elapsed:    0.0s\n",
      "[Parallel(n_jobs=8)]: Done   9 tasks      | elapsed:    0.1s\n",
      "[Parallel(n_jobs=8)]: Done  16 tasks      | elapsed:    0.1s\n",
      "[Parallel(n_jobs=8)]: Done  25 tasks      | elapsed:    0.2s\n",
      "[Parallel(n_jobs=8)]: Done  34 tasks      | elapsed:    0.2s\n",
      "[Parallel(n_jobs=8)]: Done  45 tasks      | elapsed:    0.3s\n",
      "[Parallel(n_jobs=8)]: Done  56 tasks      | elapsed:    0.3s\n",
      "[Parallel(n_jobs=8)]: Done  69 tasks      | elapsed:    0.4s\n",
      "[Parallel(n_jobs=8)]: Done  82 tasks      | elapsed:    0.4s\n",
      "[Parallel(n_jobs=8)]: Done  97 tasks      | elapsed:    0.5s\n",
      "[Parallel(n_jobs=8)]: Done 112 tasks      | elapsed:    0.6s\n",
      "[Parallel(n_jobs=8)]: Done 129 tasks      | elapsed:    0.7s\n",
      "[Parallel(n_jobs=8)]: Done 158 out of 158 | elapsed:    0.8s finished\n",
      "[Parallel(n_jobs=8)]: Done   2 tasks      | elapsed:    0.1s\n",
      "[Parallel(n_jobs=8)]: Done   9 tasks      | elapsed:    0.1s\n",
      "[Parallel(n_jobs=8)]: Done  16 tasks      | elapsed:    0.2s\n",
      "[Parallel(n_jobs=8)]: Done  25 tasks      | elapsed:    0.3s\n",
      "[Parallel(n_jobs=8)]: Done  34 tasks      | elapsed:    0.4s\n",
      "[Parallel(n_jobs=8)]: Done  45 tasks      | elapsed:    0.5s\n",
      "[Parallel(n_jobs=8)]: Done  56 tasks      | elapsed:    0.6s\n",
      "[Parallel(n_jobs=8)]: Done  69 tasks      | elapsed:    0.7s\n",
      "[Parallel(n_jobs=8)]: Done  82 tasks      | elapsed:    0.9s\n",
      "[Parallel(n_jobs=8)]: Done  97 tasks      | elapsed:    1.0s\n",
      "[Parallel(n_jobs=8)]: Done 112 tasks      | elapsed:    1.2s\n",
      "[Parallel(n_jobs=8)]: Done 129 tasks      | elapsed:    1.4s\n",
      "[Parallel(n_jobs=8)]: Done 158 out of 158 | elapsed:    1.6s finished\n",
      "/home/justin/anaconda3/lib/python3.6/site-packages/sklearn/model_selection/_validation.py:437: DataConversionWarning: A column-vector y was passed when a 1d array was expected. Please change the shape of y to (n_samples,), for example using ravel().\n",
      "  estimator.fit(X_train, y_train, **fit_params)\n"
     ]
    },
    {
     "name": "stdout",
     "output_type": "stream",
     "text": [
      "building tree 2 of 154building tree 1 of 154building tree 4 of 154building tree 5 of 154building tree 3 of 154building tree 6 of 154building tree 7 of 154building tree 8 of 154\n",
      "\n",
      "\n",
      "\n",
      "\n",
      "\n",
      "\n",
      "\n",
      "building tree 9 of 154\n"
     ]
    },
    {
     "name": "stderr",
     "output_type": "stream",
     "text": [
      "[Parallel(n_jobs=-1)]: Done   2 tasks      | elapsed:   11.1s\n"
     ]
    },
    {
     "name": "stdout",
     "output_type": "stream",
     "text": [
      "building tree 10 of 154\n",
      "building tree 11 of 154\n",
      "building tree 12 of 154\n",
      "building tree 13 of 154\n",
      "building tree 14 of 154\n",
      "building tree 15 of 154\n",
      "building tree 16 of 154\n"
     ]
    },
    {
     "name": "stderr",
     "output_type": "stream",
     "text": [
      "[Parallel(n_jobs=-1)]: Done   9 tasks      | elapsed:   21.8s\n"
     ]
    },
    {
     "name": "stdout",
     "output_type": "stream",
     "text": [
      "building tree 17 of 154\n",
      "building tree 18 of 154\n",
      "building tree 19 of 154\n",
      "building tree 20 of 154\n",
      "building tree 21 of 154\n",
      "building tree 22 of 154\n",
      "building tree 23 of 154\n"
     ]
    },
    {
     "name": "stderr",
     "output_type": "stream",
     "text": [
      "[Parallel(n_jobs=-1)]: Done  16 tasks      | elapsed:   25.0s\n"
     ]
    },
    {
     "name": "stdout",
     "output_type": "stream",
     "text": [
      "building tree 24 of 154\n",
      "building tree 25 of 154\n",
      "building tree 26 of 154\n",
      "building tree 27 of 154\n",
      "building tree 28 of 154\n",
      "building tree 29 of 154\n",
      "building tree 30 of 154\n",
      "building tree 31 of 154\n",
      "building tree 32 of 154\n"
     ]
    },
    {
     "name": "stderr",
     "output_type": "stream",
     "text": [
      "[Parallel(n_jobs=-1)]: Done  25 tasks      | elapsed:   44.4s\n"
     ]
    },
    {
     "name": "stdout",
     "output_type": "stream",
     "text": [
      "building tree 33 of 154\n",
      "building tree 34 of 154\n",
      "building tree 35 of 154\n",
      "building tree 36 of 154\n",
      "building tree 37 of 154\n",
      "building tree 38 of 154\n",
      "building tree 39 of 154\n",
      "building tree 40 of 154\n",
      "building tree 41 of 154\n"
     ]
    },
    {
     "name": "stderr",
     "output_type": "stream",
     "text": [
      "[Parallel(n_jobs=-1)]: Done  34 tasks      | elapsed:   55.7s\n"
     ]
    },
    {
     "name": "stdout",
     "output_type": "stream",
     "text": [
      "building tree 42 of 154\n",
      "building tree 43 of 154\n",
      "building tree 44 of 154\n",
      "building tree 45 of 154\n",
      "building tree 46 of 154\n",
      "building tree 47 of 154\n",
      "building tree 48 of 154\n",
      "building tree 49 of 154\n",
      "building tree 50 of 154\n",
      "building tree 51 of 154\n",
      "building tree 52 of 154\n"
     ]
    },
    {
     "name": "stderr",
     "output_type": "stream",
     "text": [
      "[Parallel(n_jobs=-1)]: Done  45 tasks      | elapsed:  1.1min\n"
     ]
    },
    {
     "name": "stdout",
     "output_type": "stream",
     "text": [
      "building tree 53 of 154\n",
      "building tree 54 of 154\n",
      "building tree 55 of 154\n",
      "building tree 56 of 154\n",
      "building tree 57 of 154\n",
      "building tree 58 of 154\n",
      "building tree 59 of 154\n",
      "building tree 60 of 154\n",
      "building tree 61 of 154\n",
      "building tree 62 of 154\n",
      "building tree 63 of 154\n"
     ]
    },
    {
     "name": "stderr",
     "output_type": "stream",
     "text": [
      "[Parallel(n_jobs=-1)]: Done  56 tasks      | elapsed:  1.4min\n"
     ]
    },
    {
     "name": "stdout",
     "output_type": "stream",
     "text": [
      "building tree 64 of 154\n",
      "building tree 65 of 154\n",
      "building tree 66 of 154\n",
      "building tree 67 of 154\n",
      "building tree 68 of 154\n",
      "building tree 69 of 154\n",
      "building tree 70 of 154\n",
      "building tree 71 of 154\n",
      "building tree 72 of 154\n",
      "building tree 73 of 154\n",
      "building tree 74 of 154\n",
      "building tree 75 of 154\n",
      "building tree 76 of 154\n"
     ]
    },
    {
     "name": "stderr",
     "output_type": "stream",
     "text": [
      "[Parallel(n_jobs=-1)]: Done  69 tasks      | elapsed:  1.7min\n"
     ]
    },
    {
     "name": "stdout",
     "output_type": "stream",
     "text": [
      "building tree 77 of 154\n",
      "building tree 78 of 154\n",
      "building tree 79 of 154\n",
      "building tree 80 of 154\n",
      "building tree 81 of 154\n",
      "building tree 82 of 154\n",
      "building tree 83 of 154\n",
      "building tree 84 of 154\n",
      "building tree 85 of 154\n",
      "building tree 86 of 154\n",
      "building tree 87 of 154\n",
      "building tree 88 of 154\n",
      "building tree 89 of 154\n"
     ]
    },
    {
     "name": "stderr",
     "output_type": "stream",
     "text": [
      "[Parallel(n_jobs=-1)]: Done  82 tasks      | elapsed:  2.0min\n"
     ]
    },
    {
     "name": "stdout",
     "output_type": "stream",
     "text": [
      "building tree 90 of 154\n",
      "building tree 91 of 154\n",
      "building tree 92 of 154\n",
      "building tree 93 of 154\n",
      "building tree 94 of 154\n",
      "building tree 95 of 154\n",
      "building tree 96 of 154\n",
      "building tree 97 of 154\n",
      "building tree 98 of 154\n",
      "building tree 99 of 154\n",
      "building tree 100 of 154\n",
      "building tree 101 of 154\n",
      "building tree 102 of 154\n",
      "building tree 103 of 154\n",
      "building tree 104 of 154\n"
     ]
    },
    {
     "name": "stderr",
     "output_type": "stream",
     "text": [
      "[Parallel(n_jobs=-1)]: Done  97 tasks      | elapsed:  2.4min\n"
     ]
    },
    {
     "name": "stdout",
     "output_type": "stream",
     "text": [
      "building tree 105 of 154\n",
      "building tree 106 of 154\n",
      "building tree 107 of 154\n",
      "building tree 109 of 154\n",
      "building tree 108 of 154\n",
      "building tree 110 of 154\n",
      "building tree 111 of 154\n",
      "building tree 112 of 154\n",
      "building tree 113 of 154\n",
      "building tree 114 of 154\n",
      "building tree 115 of 154\n",
      "building tree 116 of 154\n",
      "building tree 117 of 154\n",
      "building tree 118 of 154\n",
      "building tree 119 of 154\n"
     ]
    },
    {
     "name": "stderr",
     "output_type": "stream",
     "text": [
      "[Parallel(n_jobs=-1)]: Done 112 tasks      | elapsed:  2.7min\n"
     ]
    },
    {
     "name": "stdout",
     "output_type": "stream",
     "text": [
      "building tree 120 of 154\n",
      "building tree 121 of 154\n",
      "building tree 122 of 154\n",
      "building tree 123 of 154\n",
      "building tree 124 of 154\n",
      "building tree 125 of 154\n",
      "building tree 126 of 154\n",
      "building tree 127 of 154\n",
      "building tree 128 of 154\n",
      "building tree 129 of 154\n",
      "building tree 130 of 154\n",
      "building tree 131 of 154\n",
      "building tree 132 of 154\n",
      "building tree 133 of 154\n",
      "building tree 134 of 154\n",
      "building tree 135 of 154\n",
      "building tree 136 of 154\n"
     ]
    },
    {
     "name": "stderr",
     "output_type": "stream",
     "text": [
      "[Parallel(n_jobs=-1)]: Done 129 tasks      | elapsed:  3.1min\n"
     ]
    },
    {
     "name": "stdout",
     "output_type": "stream",
     "text": [
      "building tree 137 of 154\n",
      "building tree 138 of 154\n",
      "building tree 139 of 154\n",
      "building tree 140 of 154\n",
      "building tree 141 of 154\n",
      "building tree 142 of 154\n",
      "building tree 143 of 154\n",
      "building tree 144 of 154\n",
      "building tree 145 of 154\n",
      "building tree 146 of 154\n",
      "building tree 147 of 154\n",
      "building tree 148 of 154\n",
      "building tree 149 of 154\n",
      "building tree 150 of 154\n",
      "building tree 151 of 154\n",
      "building tree 152 of 154\n",
      "building tree 153 of 154\n",
      "building tree 154 of 154\n"
     ]
    },
    {
     "name": "stderr",
     "output_type": "stream",
     "text": [
      "[Parallel(n_jobs=-1)]: Done 154 out of 154 | elapsed:  3.7min finished\n",
      "[Parallel(n_jobs=8)]: Done   2 tasks      | elapsed:    0.0s\n",
      "[Parallel(n_jobs=8)]: Done   9 tasks      | elapsed:    0.1s\n",
      "[Parallel(n_jobs=8)]: Done  16 tasks      | elapsed:    0.1s\n",
      "[Parallel(n_jobs=8)]: Done  25 tasks      | elapsed:    0.2s\n",
      "[Parallel(n_jobs=8)]: Done  34 tasks      | elapsed:    0.2s\n",
      "[Parallel(n_jobs=8)]: Done  45 tasks      | elapsed:    0.2s\n",
      "[Parallel(n_jobs=8)]: Done  56 tasks      | elapsed:    0.3s\n",
      "[Parallel(n_jobs=8)]: Done  69 tasks      | elapsed:    0.4s\n",
      "[Parallel(n_jobs=8)]: Done  82 tasks      | elapsed:    0.4s\n",
      "[Parallel(n_jobs=8)]: Done  97 tasks      | elapsed:    0.5s\n",
      "[Parallel(n_jobs=8)]: Done 112 tasks      | elapsed:    0.6s\n",
      "[Parallel(n_jobs=8)]: Done 129 tasks      | elapsed:    0.6s\n",
      "[Parallel(n_jobs=8)]: Done 154 out of 154 | elapsed:    0.8s finished\n",
      "[Parallel(n_jobs=8)]: Done   2 tasks      | elapsed:    0.1s\n",
      "[Parallel(n_jobs=8)]: Done   9 tasks      | elapsed:    0.1s\n",
      "[Parallel(n_jobs=8)]: Done  16 tasks      | elapsed:    0.2s\n",
      "[Parallel(n_jobs=8)]: Done  25 tasks      | elapsed:    0.3s\n",
      "[Parallel(n_jobs=8)]: Done  34 tasks      | elapsed:    0.4s\n",
      "[Parallel(n_jobs=8)]: Done  45 tasks      | elapsed:    0.5s\n",
      "[Parallel(n_jobs=8)]: Done  56 tasks      | elapsed:    0.6s\n",
      "[Parallel(n_jobs=8)]: Done  69 tasks      | elapsed:    0.8s\n",
      "[Parallel(n_jobs=8)]: Done  82 tasks      | elapsed:    0.9s\n",
      "[Parallel(n_jobs=8)]: Done  97 tasks      | elapsed:    1.1s\n",
      "[Parallel(n_jobs=8)]: Done 112 tasks      | elapsed:    1.2s\n",
      "[Parallel(n_jobs=8)]: Done 129 tasks      | elapsed:    1.4s\n",
      "[Parallel(n_jobs=8)]: Done 154 out of 154 | elapsed:    1.7s finished\n",
      "/home/justin/anaconda3/lib/python3.6/site-packages/sklearn/model_selection/_validation.py:437: DataConversionWarning: A column-vector y was passed when a 1d array was expected. Please change the shape of y to (n_samples,), for example using ravel().\n",
      "  estimator.fit(X_train, y_train, **fit_params)\n"
     ]
    },
    {
     "name": "stdout",
     "output_type": "stream",
     "text": [
      "building tree 1 of 154\n",
      "building tree 2 of 154building tree 3 of 154building tree 4 of 154building tree 5 of 154building tree 6 of 154\n",
      "\n",
      "\n",
      "\n",
      "\n",
      "building tree 7 of 154\n",
      "building tree 8 of 154\n",
      "building tree 9 of 154\n"
     ]
    },
    {
     "name": "stderr",
     "output_type": "stream",
     "text": [
      "[Parallel(n_jobs=-1)]: Done   2 tasks      | elapsed:   10.4s\n"
     ]
    },
    {
     "name": "stdout",
     "output_type": "stream",
     "text": [
      "building tree 10 of 154\n",
      "building tree 11 of 154\n",
      "building tree 12 of 154\n",
      "building tree 13 of 154\n",
      "building tree 14 of 154\n",
      "building tree 15 of 154\n",
      "building tree 16 of 154\n"
     ]
    },
    {
     "name": "stderr",
     "output_type": "stream",
     "text": [
      "[Parallel(n_jobs=-1)]: Done   9 tasks      | elapsed:   20.8s\n"
     ]
    },
    {
     "name": "stdout",
     "output_type": "stream",
     "text": [
      "building tree 17 of 154\n",
      "building tree 18 of 154\n",
      "building tree 19 of 154\n",
      "building tree 20 of 154\n",
      "building tree 21 of 154\n",
      "building tree 22 of 154\n",
      "building tree 23 of 154\n"
     ]
    },
    {
     "name": "stderr",
     "output_type": "stream",
     "text": [
      "[Parallel(n_jobs=-1)]: Done  16 tasks      | elapsed:   23.1s\n"
     ]
    },
    {
     "name": "stdout",
     "output_type": "stream",
     "text": [
      "building tree 24 of 154\n",
      "building tree 25 of 154\n",
      "building tree 26 of 154\n",
      "building tree 27 of 154\n",
      "building tree 28 of 154\n",
      "building tree 29 of 154\n",
      "building tree 30 of 154\n",
      "building tree 31 of 154\n",
      "building tree 32 of 154\n"
     ]
    },
    {
     "name": "stderr",
     "output_type": "stream",
     "text": [
      "[Parallel(n_jobs=-1)]: Done  25 tasks      | elapsed:   42.8s\n"
     ]
    },
    {
     "name": "stdout",
     "output_type": "stream",
     "text": [
      "building tree 33 of 154\n",
      "building tree 34 of 154\n",
      "building tree 35 of 154\n",
      "building tree 36 of 154\n",
      "building tree 37 of 154\n",
      "building tree 38 of 154\n",
      "building tree 39 of 154\n",
      "building tree 40 of 154\n",
      "building tree 41 of 154\n"
     ]
    },
    {
     "name": "stderr",
     "output_type": "stream",
     "text": [
      "[Parallel(n_jobs=-1)]: Done  34 tasks      | elapsed:   53.8s\n"
     ]
    },
    {
     "name": "stdout",
     "output_type": "stream",
     "text": [
      "building tree 42 of 154\n",
      "building tree 43 of 154\n",
      "building tree 44 of 154\n",
      "building tree 45 of 154\n",
      "building tree 46 of 154\n",
      "building tree 47 of 154\n",
      "building tree 48 of 154\n",
      "building tree 49 of 154\n",
      "building tree 50 of 154\n",
      "building tree 51 of 154\n",
      "building tree 52 of 154\n"
     ]
    },
    {
     "name": "stderr",
     "output_type": "stream",
     "text": [
      "[Parallel(n_jobs=-1)]: Done  45 tasks      | elapsed:  1.1min\n"
     ]
    },
    {
     "name": "stdout",
     "output_type": "stream",
     "text": [
      "building tree 53 of 154\n",
      "building tree 54 of 154\n",
      "building tree 55 of 154\n",
      "building tree 56 of 154\n",
      "building tree 57 of 154\n",
      "building tree 58 of 154\n",
      "building tree 59 of 154\n",
      "building tree 60 of 154\n",
      "building tree 61 of 154\n",
      "building tree 62 of 154\n",
      "building tree 63 of 154\n"
     ]
    },
    {
     "name": "stderr",
     "output_type": "stream",
     "text": [
      "[Parallel(n_jobs=-1)]: Done  56 tasks      | elapsed:  1.3min\n"
     ]
    },
    {
     "name": "stdout",
     "output_type": "stream",
     "text": [
      "building tree 64 of 154\n",
      "building tree 65 of 154\n",
      "building tree 66 of 154\n",
      "building tree 67 of 154\n",
      "building tree 68 of 154\n",
      "building tree 69 of 154\n",
      "building tree 70 of 154\n",
      "building tree 71 of 154\n",
      "building tree 72 of 154\n",
      "building tree 73 of 154\n",
      "building tree 74 of 154\n",
      "building tree 75 of 154\n",
      "building tree 76 of 154\n"
     ]
    },
    {
     "name": "stderr",
     "output_type": "stream",
     "text": [
      "[Parallel(n_jobs=-1)]: Done  69 tasks      | elapsed:  1.7min\n"
     ]
    },
    {
     "name": "stdout",
     "output_type": "stream",
     "text": [
      "building tree 77 of 154\n",
      "building tree 78 of 154\n",
      "building tree 79 of 154\n",
      "building tree 80 of 154\n",
      "building tree 81 of 154\n",
      "building tree 82 of 154\n",
      "building tree 83 of 154\n",
      "building tree 84 of 154\n",
      "building tree 85 of 154\n",
      "building tree 86 of 154\n",
      "building tree 87 of 154\n",
      "building tree 88 of 154\n",
      "building tree 89 of 154\n"
     ]
    },
    {
     "name": "stderr",
     "output_type": "stream",
     "text": [
      "[Parallel(n_jobs=-1)]: Done  82 tasks      | elapsed:  2.0min\n"
     ]
    },
    {
     "name": "stdout",
     "output_type": "stream",
     "text": [
      "building tree 90 of 154\n",
      "building tree 91 of 154\n",
      "building tree 92 of 154\n",
      "building tree 93 of 154\n",
      "building tree 94 of 154\n",
      "building tree 95 of 154\n",
      "building tree 96 of 154\n",
      "building tree 97 of 154\n",
      "building tree 98 of 154\n",
      "building tree 99 of 154\n",
      "building tree 100 of 154\n",
      "building tree 101 of 154\n",
      "building tree 102 of 154\n",
      "building tree 103 of 154\n",
      "building tree 104 of 154\n"
     ]
    },
    {
     "name": "stderr",
     "output_type": "stream",
     "text": [
      "[Parallel(n_jobs=-1)]: Done  97 tasks      | elapsed:  2.3min\n"
     ]
    },
    {
     "name": "stdout",
     "output_type": "stream",
     "text": [
      "building tree 105 of 154\n",
      "building tree 106 of 154\n",
      "building tree 107 of 154\n",
      "building tree 108 of 154\n",
      "building tree 109 of 154\n",
      "building tree 110 of 154\n",
      "building tree 111 of 154\n",
      "building tree 112 of 154\n",
      "building tree 113 of 154\n",
      "building tree 114 of 154\n",
      "building tree 115 of 154\n",
      "building tree 116 of 154\n",
      "building tree 117 of 154\n",
      "building tree 118 of 154\n",
      "building tree 119 of 154\n"
     ]
    },
    {
     "name": "stderr",
     "output_type": "stream",
     "text": [
      "[Parallel(n_jobs=-1)]: Done 112 tasks      | elapsed:  2.6min\n"
     ]
    },
    {
     "name": "stdout",
     "output_type": "stream",
     "text": [
      "building tree 120 of 154\n",
      "building tree 121 of 154\n",
      "building tree 122 of 154\n",
      "building tree 123 of 154\n",
      "building tree 124 of 154\n",
      "building tree 125 of 154\n",
      "building tree 126 of 154\n",
      "building tree 127 of 154\n",
      "building tree 128 of 154\n",
      "building tree 129 of 154\n",
      "building tree 130 of 154\n",
      "building tree 131 of 154\n",
      "building tree 132 of 154\n",
      "building tree 133 of 154\n",
      "building tree 134 of 154\n",
      "building tree 135 of 154\n",
      "building tree 136 of 154\n"
     ]
    },
    {
     "name": "stderr",
     "output_type": "stream",
     "text": [
      "[Parallel(n_jobs=-1)]: Done 129 tasks      | elapsed:  3.0min\n"
     ]
    },
    {
     "name": "stdout",
     "output_type": "stream",
     "text": [
      "building tree 137 of 154\n",
      "building tree 138 of 154\n",
      "building tree 139 of 154\n",
      "building tree 140 of 154\n",
      "building tree 141 of 154\n",
      "building tree 142 of 154\n",
      "building tree 143 of 154\n",
      "building tree 144 of 154\n",
      "building tree 145 of 154\n",
      "building tree 146 of 154\n",
      "building tree 147 of 154\n",
      "building tree 148 of 154\n",
      "building tree 149 of 154\n",
      "building tree 150 of 154\n",
      "building tree 151 of 154\n",
      "building tree 152 of 154\n",
      "building tree 153 of 154\n",
      "building tree 154 of 154\n"
     ]
    },
    {
     "name": "stderr",
     "output_type": "stream",
     "text": [
      "[Parallel(n_jobs=-1)]: Done 154 out of 154 | elapsed:  3.5min finished\n",
      "[Parallel(n_jobs=8)]: Done   2 tasks      | elapsed:    0.0s\n",
      "[Parallel(n_jobs=8)]: Done   9 tasks      | elapsed:    0.1s\n",
      "[Parallel(n_jobs=8)]: Done  16 tasks      | elapsed:    0.1s\n",
      "[Parallel(n_jobs=8)]: Done  25 tasks      | elapsed:    0.2s\n",
      "[Parallel(n_jobs=8)]: Done  34 tasks      | elapsed:    0.2s\n",
      "[Parallel(n_jobs=8)]: Done  45 tasks      | elapsed:    0.3s\n",
      "[Parallel(n_jobs=8)]: Done  56 tasks      | elapsed:    0.3s\n",
      "[Parallel(n_jobs=8)]: Done  69 tasks      | elapsed:    0.4s\n",
      "[Parallel(n_jobs=8)]: Done  82 tasks      | elapsed:    0.5s\n",
      "[Parallel(n_jobs=8)]: Done  97 tasks      | elapsed:    0.5s\n",
      "[Parallel(n_jobs=8)]: Done 112 tasks      | elapsed:    0.6s\n",
      "[Parallel(n_jobs=8)]: Done 129 tasks      | elapsed:    0.7s\n",
      "[Parallel(n_jobs=8)]: Done 154 out of 154 | elapsed:    0.8s finished\n",
      "[Parallel(n_jobs=8)]: Done   2 tasks      | elapsed:    0.1s\n",
      "[Parallel(n_jobs=8)]: Done   9 tasks      | elapsed:    0.2s\n",
      "[Parallel(n_jobs=8)]: Done  16 tasks      | elapsed:    0.2s\n",
      "[Parallel(n_jobs=8)]: Done  25 tasks      | elapsed:    0.3s\n",
      "[Parallel(n_jobs=8)]: Done  34 tasks      | elapsed:    0.4s\n",
      "[Parallel(n_jobs=8)]: Done  45 tasks      | elapsed:    0.5s\n",
      "[Parallel(n_jobs=8)]: Done  56 tasks      | elapsed:    0.6s\n",
      "[Parallel(n_jobs=8)]: Done  69 tasks      | elapsed:    0.7s\n",
      "[Parallel(n_jobs=8)]: Done  82 tasks      | elapsed:    0.9s\n",
      "[Parallel(n_jobs=8)]: Done  97 tasks      | elapsed:    1.0s\n",
      "[Parallel(n_jobs=8)]: Done 112 tasks      | elapsed:    1.2s\n",
      "[Parallel(n_jobs=8)]: Done 129 tasks      | elapsed:    1.3s\n",
      "[Parallel(n_jobs=8)]: Done 154 out of 154 | elapsed:    1.6s finished\n",
      "/home/justin/anaconda3/lib/python3.6/site-packages/sklearn/model_selection/_validation.py:437: DataConversionWarning: A column-vector y was passed when a 1d array was expected. Please change the shape of y to (n_samples,), for example using ravel().\n",
      "  estimator.fit(X_train, y_train, **fit_params)\n"
     ]
    },
    {
     "name": "stdout",
     "output_type": "stream",
     "text": [
      "building tree 1 of 154building tree 3 of 154building tree 4 of 154building tree 5 of 154building tree 2 of 154building tree 6 of 154\n",
      "\n",
      "\n",
      "\n",
      "\n",
      "\n",
      "building tree 7 of 154\n",
      "building tree 8 of 154\n",
      "building tree 9 of 154\n"
     ]
    },
    {
     "name": "stderr",
     "output_type": "stream",
     "text": [
      "[Parallel(n_jobs=-1)]: Done   2 tasks      | elapsed:   10.7s\n"
     ]
    },
    {
     "name": "stdout",
     "output_type": "stream",
     "text": [
      "building tree 10 of 154\n",
      "building tree 11 of 154\n",
      "building tree 12 of 154\n",
      "building tree 13 of 154\n",
      "building tree 14 of 154\n",
      "building tree 15 of 154\n",
      "building tree 16 of 154\n"
     ]
    },
    {
     "name": "stderr",
     "output_type": "stream",
     "text": [
      "[Parallel(n_jobs=-1)]: Done   9 tasks      | elapsed:   21.4s\n"
     ]
    },
    {
     "name": "stdout",
     "output_type": "stream",
     "text": [
      "building tree 17 of 154\n",
      "building tree 18 of 154\n",
      "building tree 19 of 154\n",
      "building tree 20 of 154\n",
      "building tree 21 of 154\n",
      "building tree 22 of 154\n",
      "building tree 23 of 154\n"
     ]
    },
    {
     "name": "stderr",
     "output_type": "stream",
     "text": [
      "[Parallel(n_jobs=-1)]: Done  16 tasks      | elapsed:   23.5s\n"
     ]
    },
    {
     "name": "stdout",
     "output_type": "stream",
     "text": [
      "building tree 24 of 154\n",
      "building tree 25 of 154\n",
      "building tree 26 of 154\n",
      "building tree 27 of 154\n",
      "building tree 28 of 154\n",
      "building tree 29 of 154\n",
      "building tree 30 of 154\n",
      "building tree 31 of 154\n",
      "building tree 32 of 154\n"
     ]
    },
    {
     "name": "stderr",
     "output_type": "stream",
     "text": [
      "[Parallel(n_jobs=-1)]: Done  25 tasks      | elapsed:   43.2s\n"
     ]
    },
    {
     "name": "stdout",
     "output_type": "stream",
     "text": [
      "building tree 33 of 154\n",
      "building tree 34 of 154\n",
      "building tree 35 of 154\n",
      "building tree 36 of 154\n",
      "building tree 37 of 154\n",
      "building tree 38 of 154\n",
      "building tree 39 of 154\n",
      "building tree 40 of 154\n",
      "building tree 41 of 154\n"
     ]
    },
    {
     "name": "stderr",
     "output_type": "stream",
     "text": [
      "[Parallel(n_jobs=-1)]: Done  34 tasks      | elapsed:   54.3s\n"
     ]
    },
    {
     "name": "stdout",
     "output_type": "stream",
     "text": [
      "building tree 42 of 154\n",
      "building tree 43 of 154\n",
      "building tree 44 of 154\n",
      "building tree 45 of 154\n",
      "building tree 46 of 154\n",
      "building tree 47 of 154\n",
      "building tree 48 of 154\n",
      "building tree 49 of 154\n",
      "building tree 50 of 154\n",
      "building tree 51 of 154\n",
      "building tree 52 of 154\n"
     ]
    },
    {
     "name": "stderr",
     "output_type": "stream",
     "text": [
      "[Parallel(n_jobs=-1)]: Done  45 tasks      | elapsed:  1.1min\n"
     ]
    },
    {
     "name": "stdout",
     "output_type": "stream",
     "text": [
      "building tree 53 of 154\n",
      "building tree 54 of 154\n",
      "building tree 55 of 154\n",
      "building tree 56 of 154\n",
      "building tree 57 of 154\n",
      "building tree 58 of 154\n",
      "building tree 59 of 154\n",
      "building tree 60 of 154\n",
      "building tree 61 of 154\n",
      "building tree 62 of 154\n",
      "building tree 63 of 154\n"
     ]
    },
    {
     "name": "stderr",
     "output_type": "stream",
     "text": [
      "[Parallel(n_jobs=-1)]: Done  56 tasks      | elapsed:  1.4min\n"
     ]
    },
    {
     "name": "stdout",
     "output_type": "stream",
     "text": [
      "building tree 64 of 154\n",
      "building tree 65 of 154\n",
      "building tree 66 of 154\n",
      "building tree 67 of 154\n",
      "building tree 68 of 154\n",
      "building tree 69 of 154\n",
      "building tree 70 of 154\n",
      "building tree 71 of 154\n",
      "building tree 72 of 154\n",
      "building tree 73 of 154\n",
      "building tree 74 of 154\n",
      "building tree 75 of 154\n",
      "building tree 76 of 154\n"
     ]
    },
    {
     "name": "stderr",
     "output_type": "stream",
     "text": [
      "[Parallel(n_jobs=-1)]: Done  69 tasks      | elapsed:  1.7min\n"
     ]
    },
    {
     "name": "stdout",
     "output_type": "stream",
     "text": [
      "building tree 77 of 154\n",
      "building tree 78 of 154\n",
      "building tree 79 of 154\n",
      "building tree 80 of 154\n",
      "building tree 81 of 154\n",
      "building tree 82 of 154\n",
      "building tree 83 of 154\n",
      "building tree 84 of 154\n",
      "building tree 85 of 154\n",
      "building tree 86 of 154\n",
      "building tree 87 of 154\n",
      "building tree 88 of 154\n",
      "building tree 89 of 154\n"
     ]
    },
    {
     "name": "stderr",
     "output_type": "stream",
     "text": [
      "[Parallel(n_jobs=-1)]: Done  82 tasks      | elapsed:  2.0min\n"
     ]
    },
    {
     "name": "stdout",
     "output_type": "stream",
     "text": [
      "building tree 90 of 154\n",
      "building tree 91 of 154\n",
      "building tree 92 of 154\n",
      "building tree 93 of 154\n",
      "building tree 94 of 154\n",
      "building tree 95 of 154\n",
      "building tree 96 of 154\n",
      "building tree 97 of 154\n",
      "building tree 98 of 154\n",
      "building tree 99 of 154\n",
      "building tree 100 of 154\n",
      "building tree 101 of 154\n",
      "building tree 102 of 154\n",
      "building tree 103 of 154\n",
      "building tree 104 of 154\n"
     ]
    },
    {
     "name": "stderr",
     "output_type": "stream",
     "text": [
      "[Parallel(n_jobs=-1)]: Done  97 tasks      | elapsed:  2.3min\n"
     ]
    },
    {
     "name": "stdout",
     "output_type": "stream",
     "text": [
      "building tree 105 of 154\n",
      "building tree 106 of 154\n",
      "building tree 107 of 154\n",
      "building tree 108 of 154\n",
      "building tree 109 of 154\n",
      "building tree 110 of 154\n",
      "building tree 111 of 154\n",
      "building tree 112 of 154\n",
      "building tree 113 of 154\n",
      "building tree 114 of 154\n",
      "building tree 115 of 154\n",
      "building tree 116 of 154\n",
      "building tree 117 of 154\n",
      "building tree 118 of 154\n",
      "building tree 119 of 154\n"
     ]
    },
    {
     "name": "stderr",
     "output_type": "stream",
     "text": [
      "[Parallel(n_jobs=-1)]: Done 112 tasks      | elapsed:  2.7min\n"
     ]
    },
    {
     "name": "stdout",
     "output_type": "stream",
     "text": [
      "building tree 120 of 154\n",
      "building tree 121 of 154\n",
      "building tree 122 of 154\n",
      "building tree 123 of 154\n",
      "building tree 124 of 154\n",
      "building tree 125 of 154\n",
      "building tree 126 of 154\n",
      "building tree 127 of 154\n",
      "building tree 128 of 154\n",
      "building tree 129 of 154\n",
      "building tree 130 of 154\n",
      "building tree 131 of 154\n",
      "building tree 132 of 154\n",
      "building tree 133 of 154\n",
      "building tree 134 of 154\n",
      "building tree 135 of 154\n",
      "building tree 136 of 154\n"
     ]
    },
    {
     "name": "stderr",
     "output_type": "stream",
     "text": [
      "[Parallel(n_jobs=-1)]: Done 129 tasks      | elapsed:  3.1min\n"
     ]
    },
    {
     "name": "stdout",
     "output_type": "stream",
     "text": [
      "building tree 137 of 154\n",
      "building tree 138 of 154\n",
      "building tree 139 of 154\n",
      "building tree 140 of 154\n",
      "building tree 141 of 154\n",
      "building tree 142 of 154\n",
      "building tree 143 of 154\n",
      "building tree 144 of 154\n",
      "building tree 145 of 154\n",
      "building tree 146 of 154\n",
      "building tree 147 of 154\n",
      "building tree 148 of 154\n",
      "building tree 149 of 154\n",
      "building tree 150 of 154\n",
      "building tree 151 of 154\n",
      "building tree 152 of 154\n",
      "building tree 153 of 154\n",
      "building tree 154 of 154\n"
     ]
    },
    {
     "name": "stderr",
     "output_type": "stream",
     "text": [
      "[Parallel(n_jobs=-1)]: Done 154 out of 154 | elapsed:  3.6min finished\n",
      "[Parallel(n_jobs=8)]: Done   2 tasks      | elapsed:    0.0s\n",
      "[Parallel(n_jobs=8)]: Done   9 tasks      | elapsed:    0.1s\n",
      "[Parallel(n_jobs=8)]: Done  16 tasks      | elapsed:    0.1s\n",
      "[Parallel(n_jobs=8)]: Done  25 tasks      | elapsed:    0.1s\n",
      "[Parallel(n_jobs=8)]: Done  34 tasks      | elapsed:    0.2s\n",
      "[Parallel(n_jobs=8)]: Done  45 tasks      | elapsed:    0.2s\n",
      "[Parallel(n_jobs=8)]: Done  56 tasks      | elapsed:    0.3s\n",
      "[Parallel(n_jobs=8)]: Done  69 tasks      | elapsed:    0.3s\n",
      "[Parallel(n_jobs=8)]: Done  82 tasks      | elapsed:    0.4s\n",
      "[Parallel(n_jobs=8)]: Done  97 tasks      | elapsed:    0.5s\n",
      "[Parallel(n_jobs=8)]: Done 112 tasks      | elapsed:    0.6s\n",
      "[Parallel(n_jobs=8)]: Done 129 tasks      | elapsed:    0.6s\n",
      "[Parallel(n_jobs=8)]: Done 154 out of 154 | elapsed:    0.8s finished\n",
      "[Parallel(n_jobs=8)]: Done   2 tasks      | elapsed:    0.1s\n",
      "[Parallel(n_jobs=8)]: Done   9 tasks      | elapsed:    0.1s\n",
      "[Parallel(n_jobs=8)]: Done  16 tasks      | elapsed:    0.2s\n",
      "[Parallel(n_jobs=8)]: Done  25 tasks      | elapsed:    0.3s\n",
      "[Parallel(n_jobs=8)]: Done  34 tasks      | elapsed:    0.4s\n",
      "[Parallel(n_jobs=8)]: Done  45 tasks      | elapsed:    0.5s\n",
      "[Parallel(n_jobs=8)]: Done  56 tasks      | elapsed:    0.6s\n",
      "[Parallel(n_jobs=8)]: Done  69 tasks      | elapsed:    0.7s\n",
      "[Parallel(n_jobs=8)]: Done  82 tasks      | elapsed:    0.8s\n",
      "[Parallel(n_jobs=8)]: Done  97 tasks      | elapsed:    1.0s\n",
      "[Parallel(n_jobs=8)]: Done 112 tasks      | elapsed:    1.1s\n",
      "[Parallel(n_jobs=8)]: Done 129 tasks      | elapsed:    1.3s\n",
      "[Parallel(n_jobs=8)]: Done 154 out of 154 | elapsed:    1.5s finished\n",
      "/home/justin/anaconda3/lib/python3.6/site-packages/sklearn/model_selection/_validation.py:437: DataConversionWarning: A column-vector y was passed when a 1d array was expected. Please change the shape of y to (n_samples,), for example using ravel().\n",
      "  estimator.fit(X_train, y_train, **fit_params)\n"
     ]
    },
    {
     "name": "stdout",
     "output_type": "stream",
     "text": [
      "building tree 2 of 131\n",
      "building tree 3 of 131building tree 4 of 131building tree 1 of 131building tree 5 of 131building tree 6 of 131building tree 7 of 131\n",
      "\n",
      "\n",
      "\n",
      "\n",
      "\n",
      "building tree 8 of 131\n",
      "building tree 9 of 131\n",
      "building tree 10 of 131\n",
      "building tree 11 of 131\n",
      "building tree 12 of 131\n",
      "building tree 13 of 131\n",
      "building tree 14 of 131\n"
     ]
    },
    {
     "name": "stderr",
     "output_type": "stream",
     "text": [
      "[Parallel(n_jobs=-1)]: Done   2 tasks      | elapsed:    0.7s\n"
     ]
    },
    {
     "name": "stdout",
     "output_type": "stream",
     "text": [
      "building tree 15 of 131\n",
      "building tree 16 of 131\n"
     ]
    },
    {
     "name": "stderr",
     "output_type": "stream",
     "text": [
      "[Parallel(n_jobs=-1)]: Done   9 tasks      | elapsed:    1.4s\n"
     ]
    },
    {
     "name": "stdout",
     "output_type": "stream",
     "text": [
      "building tree 17 of 131\n",
      "building tree 18 of 131\n",
      "building tree 20 of 131\n",
      "building tree 19 of 131\n",
      "building tree 21 of 131\n",
      "building tree 22 of 131\n",
      "building tree 23 of 131\n"
     ]
    },
    {
     "name": "stderr",
     "output_type": "stream",
     "text": [
      "[Parallel(n_jobs=-1)]: Done  16 tasks      | elapsed:    2.1s\n"
     ]
    },
    {
     "name": "stdout",
     "output_type": "stream",
     "text": [
      "building tree 24 of 131\n",
      "building tree 25 of 131\n",
      "building tree 26 of 131\n",
      "building tree 27 of 131\n",
      "building tree 28 of 131\n",
      "building tree 29 of 131\n",
      "building tree 30 of 131\n",
      "building tree 31 of 131\n",
      "building tree 32 of 131\n",
      "building tree 33 of 131\n",
      "building tree 34 of 131\n",
      "building tree 35 of 131\n",
      "building tree 36 of 131\n"
     ]
    },
    {
     "name": "stderr",
     "output_type": "stream",
     "text": [
      "[Parallel(n_jobs=-1)]: Done  25 tasks      | elapsed:    3.1s\n"
     ]
    },
    {
     "name": "stdout",
     "output_type": "stream",
     "text": [
      "building tree 37 of 131\n",
      "building tree 38 of 131\n",
      "building tree 39 of 131\n",
      "building tree 40 of 131\n",
      "building tree 41 of 131\n",
      "building tree 42 of 131\n",
      "building tree 43 of 131\n"
     ]
    },
    {
     "name": "stderr",
     "output_type": "stream",
     "text": [
      "[Parallel(n_jobs=-1)]: Done  34 tasks      | elapsed:    3.9s\n"
     ]
    },
    {
     "name": "stdout",
     "output_type": "stream",
     "text": [
      "building tree 44 of 131\n",
      "building tree 45 of 131\n",
      "building tree 46 of 131\n",
      "building tree 47 of 131\n",
      "building tree 48 of 131\n",
      "building tree 49 of 131\n",
      "building tree 50 of 131\n",
      "building tree 51 of 131\n",
      "building tree 52 of 131\n",
      "building tree 53 of 131\n",
      "building tree 54 of 131\n",
      "building tree 55 of 131\n"
     ]
    },
    {
     "name": "stderr",
     "output_type": "stream",
     "text": [
      "[Parallel(n_jobs=-1)]: Done  45 tasks      | elapsed:    5.0s\n"
     ]
    },
    {
     "name": "stdout",
     "output_type": "stream",
     "text": [
      "building tree 56 of 131\n",
      "building tree 57 of 131\n",
      "building tree 58 of 131\n",
      "building tree 60 of 131\n",
      "building tree 59 of 131\n",
      "building tree 61 of 131\n",
      "building tree 62 of 131\n",
      "building tree 63 of 131\n"
     ]
    },
    {
     "name": "stderr",
     "output_type": "stream",
     "text": [
      "[Parallel(n_jobs=-1)]: Done  56 tasks      | elapsed:    6.0s\n"
     ]
    },
    {
     "name": "stdout",
     "output_type": "stream",
     "text": [
      "building tree 64 of 131\n",
      "building tree 65 of 131\n",
      "building tree 66 of 131\n",
      "building tree 67 of 131\n",
      "building tree 68 of 131\n",
      "building tree 69 of 131\n",
      "building tree 70 of 131\n",
      "building tree 71 of 131\n",
      "building tree 72 of 131\n",
      "building tree 73 of 131\n",
      "building tree 74 of 131\n",
      "building tree 75 of 131\n",
      "building tree 76 of 131\n"
     ]
    },
    {
     "name": "stderr",
     "output_type": "stream",
     "text": [
      "[Parallel(n_jobs=-1)]: Done  69 tasks      | elapsed:    7.3s\n"
     ]
    },
    {
     "name": "stdout",
     "output_type": "stream",
     "text": [
      "building tree 77 of 131\n",
      "building tree 78 of 131\n",
      "building tree 79 of 131\n",
      "building tree 80 of 131\n",
      "building tree 81 of 131\n",
      "building tree 82 of 131\n",
      "building tree 83 of 131\n",
      "building tree 84 of 131\n",
      "building tree 85 of 131\n",
      "building tree 86 of 131\n",
      "building tree 87 of 131\n",
      "building tree 88 of 131\n",
      "building tree 89 of 131\n",
      "building tree 90 of 131\n",
      "building tree 91 of 131\n"
     ]
    },
    {
     "name": "stderr",
     "output_type": "stream",
     "text": [
      "[Parallel(n_jobs=-1)]: Done  82 tasks      | elapsed:    8.8s\n"
     ]
    },
    {
     "name": "stdout",
     "output_type": "stream",
     "text": [
      "building tree 92 of 131\n",
      "building tree 93 of 131\n",
      "building tree 94 of 131\n",
      "building tree 95 of 131\n",
      "building tree 96 of 131\n",
      "building tree 97 of 131\n",
      "building tree 98 of 131\n",
      "building tree 99 of 131\n",
      "building tree 100 of 131\n",
      "building tree 101 of 131\n",
      "building tree 102 of 131\n",
      "building tree 103 of 131\n",
      "building tree 104 of 131\n",
      "building tree 105 of 131\n"
     ]
    },
    {
     "name": "stderr",
     "output_type": "stream",
     "text": [
      "[Parallel(n_jobs=-1)]: Done  97 tasks      | elapsed:   10.2s\n"
     ]
    },
    {
     "name": "stdout",
     "output_type": "stream",
     "text": [
      "building tree 106 of 131\n",
      "building tree 107 of 131\n",
      "building tree 108 of 131\n",
      "building tree 109 of 131\n",
      "building tree 110 of 131building tree 111 of 131\n",
      "\n",
      "building tree 112 of 131\n",
      "building tree 113 of 131\n",
      "building tree 114 of 131\n",
      "building tree 115 of 131\n",
      "building tree 116 of 131\n",
      "building tree 117 of 131\n",
      "building tree 118 of 131\n",
      "building tree 119 of 131\n",
      "building tree 120 of 131\n"
     ]
    },
    {
     "name": "stderr",
     "output_type": "stream",
     "text": [
      "[Parallel(n_jobs=-1)]: Done 112 tasks      | elapsed:   11.6s\n"
     ]
    },
    {
     "name": "stdout",
     "output_type": "stream",
     "text": [
      "building tree 121 of 131\n",
      "building tree 122 of 131\n",
      "building tree 123 of 131\n",
      "building tree 124 of 131\n",
      "building tree 125 of 131\n",
      "building tree 126 of 131\n",
      "building tree 127 of 131\n",
      "building tree 128 of 131\n",
      "building tree 129 of 131\n",
      "building tree 130 of 131\n",
      "building tree 131 of 131\n"
     ]
    },
    {
     "name": "stderr",
     "output_type": "stream",
     "text": [
      "[Parallel(n_jobs=-1)]: Done 131 out of 131 | elapsed:   13.3s finished\n",
      "[Parallel(n_jobs=8)]: Done   2 tasks      | elapsed:    0.0s\n",
      "[Parallel(n_jobs=8)]: Done   9 tasks      | elapsed:    0.1s\n",
      "[Parallel(n_jobs=8)]: Done  16 tasks      | elapsed:    0.1s\n",
      "[Parallel(n_jobs=8)]: Done  25 tasks      | elapsed:    0.1s\n",
      "[Parallel(n_jobs=8)]: Done  34 tasks      | elapsed:    0.2s\n",
      "[Parallel(n_jobs=8)]: Done  45 tasks      | elapsed:    0.2s\n",
      "[Parallel(n_jobs=8)]: Done  56 tasks      | elapsed:    0.2s\n",
      "[Parallel(n_jobs=8)]: Done  69 tasks      | elapsed:    0.3s\n",
      "[Parallel(n_jobs=8)]: Done  82 tasks      | elapsed:    0.3s\n",
      "[Parallel(n_jobs=8)]: Done  97 tasks      | elapsed:    0.4s\n",
      "[Parallel(n_jobs=8)]: Done 112 tasks      | elapsed:    0.5s\n",
      "[Parallel(n_jobs=8)]: Done 131 out of 131 | elapsed:    0.5s finished\n",
      "[Parallel(n_jobs=8)]: Done   2 tasks      | elapsed:    0.1s\n",
      "[Parallel(n_jobs=8)]: Done   9 tasks      | elapsed:    0.1s\n",
      "[Parallel(n_jobs=8)]: Done  16 tasks      | elapsed:    0.2s\n",
      "[Parallel(n_jobs=8)]: Done  25 tasks      | elapsed:    0.3s\n",
      "[Parallel(n_jobs=8)]: Done  34 tasks      | elapsed:    0.3s\n",
      "[Parallel(n_jobs=8)]: Done  45 tasks      | elapsed:    0.4s\n",
      "[Parallel(n_jobs=8)]: Done  56 tasks      | elapsed:    0.5s\n",
      "[Parallel(n_jobs=8)]: Done  69 tasks      | elapsed:    0.6s\n",
      "[Parallel(n_jobs=8)]: Done  82 tasks      | elapsed:    0.7s\n",
      "[Parallel(n_jobs=8)]: Done  97 tasks      | elapsed:    0.8s\n",
      "[Parallel(n_jobs=8)]: Done 112 tasks      | elapsed:    0.9s\n",
      "[Parallel(n_jobs=8)]: Done 131 out of 131 | elapsed:    1.1s finished\n",
      "/home/justin/anaconda3/lib/python3.6/site-packages/sklearn/model_selection/_validation.py:437: DataConversionWarning: A column-vector y was passed when a 1d array was expected. Please change the shape of y to (n_samples,), for example using ravel().\n",
      "  estimator.fit(X_train, y_train, **fit_params)\n"
     ]
    },
    {
     "name": "stdout",
     "output_type": "stream",
     "text": [
      "building tree 1 of 131\n",
      "building tree 2 of 131building tree 3 of 131building tree 4 of 131building tree 5 of 131building tree 7 of 131building tree 6 of 131building tree 8 of 131\n",
      "\n",
      "\n",
      "\n",
      "\n",
      "\n",
      "\n",
      "building tree 9 of 131\n",
      "building tree 10 of 131\n",
      "building tree 11 of 131\n",
      "building tree 12 of 131\n",
      "building tree 13 of 131\n",
      "building tree 14 of 131\n"
     ]
    },
    {
     "name": "stderr",
     "output_type": "stream",
     "text": [
      "[Parallel(n_jobs=-1)]: Done   2 tasks      | elapsed:    0.7s\n"
     ]
    },
    {
     "name": "stdout",
     "output_type": "stream",
     "text": [
      "building tree 15 of 131\n",
      "building tree 16 of 131\n"
     ]
    },
    {
     "name": "stderr",
     "output_type": "stream",
     "text": [
      "[Parallel(n_jobs=-1)]: Done   9 tasks      | elapsed:    1.4s\n"
     ]
    },
    {
     "name": "stdout",
     "output_type": "stream",
     "text": [
      "building tree 17 of 131\n",
      "building tree 18 of 131\n",
      "building tree 19 of 131\n",
      "building tree 20 of 131\n",
      "building tree 21 of 131\n",
      "building tree 22 of 131\n",
      "building tree 23 of 131\n"
     ]
    },
    {
     "name": "stderr",
     "output_type": "stream",
     "text": [
      "[Parallel(n_jobs=-1)]: Done  16 tasks      | elapsed:    2.0s\n"
     ]
    },
    {
     "name": "stdout",
     "output_type": "stream",
     "text": [
      "building tree 24 of 131\n",
      "building tree 25 of 131\n",
      "building tree 26 of 131\n",
      "building tree 27 of 131\n",
      "building tree 28 of 131\n",
      "building tree 29 of 131\n",
      "building tree 30 of 131\n",
      "building tree 31 of 131\n",
      "building tree 32 of 131\n",
      "building tree 33 of 131\n"
     ]
    },
    {
     "name": "stderr",
     "output_type": "stream",
     "text": [
      "[Parallel(n_jobs=-1)]: Done  25 tasks      | elapsed:    2.9s\n"
     ]
    },
    {
     "name": "stdout",
     "output_type": "stream",
     "text": [
      "building tree 34 of 131\n",
      "building tree 35 of 131\n",
      "building tree 36 of 131\n",
      "building tree 37 of 131\n",
      "building tree 38 of 131\n",
      "building tree 39 of 131\n",
      "building tree 40 of 131\n",
      "building tree 41 of 131\n"
     ]
    },
    {
     "name": "stderr",
     "output_type": "stream",
     "text": [
      "[Parallel(n_jobs=-1)]: Done  34 tasks      | elapsed:    3.8s\n"
     ]
    },
    {
     "name": "stdout",
     "output_type": "stream",
     "text": [
      "building tree 42 of 131\n",
      "building tree 43 of 131\n",
      "building tree 44 of 131\n",
      "building tree 45 of 131\n",
      "building tree 46 of 131\n",
      "building tree 47 of 131\n",
      "building tree 49 of 131\n",
      "building tree 48 of 131\n",
      "building tree 50 of 131\n",
      "building tree 51 of 131\n",
      "building tree 52 of 131\n"
     ]
    },
    {
     "name": "stderr",
     "output_type": "stream",
     "text": [
      "[Parallel(n_jobs=-1)]: Done  45 tasks      | elapsed:    5.0s\n"
     ]
    },
    {
     "name": "stdout",
     "output_type": "stream",
     "text": [
      "building tree 53 of 131\n",
      "building tree 54 of 131\n",
      "building tree 55 of 131\n",
      "building tree 56 of 131\n",
      "building tree 57 of 131\n",
      "building tree 58 of 131\n",
      "building tree 59 of 131\n",
      "building tree 60 of 131\n",
      "building tree 61 of 131\n",
      "building tree 62 of 131\n",
      "building tree 63 of 131\n",
      "building tree 64 of 131\n"
     ]
    },
    {
     "name": "stderr",
     "output_type": "stream",
     "text": [
      "[Parallel(n_jobs=-1)]: Done  56 tasks      | elapsed:    6.1s\n"
     ]
    },
    {
     "name": "stdout",
     "output_type": "stream",
     "text": [
      "building tree 65 of 131\n",
      "building tree 66 of 131\n",
      "building tree 67 of 131\n",
      "building tree 68 of 131\n",
      "building tree 69 of 131\n",
      "building tree 70 of 131\n",
      "building tree 71 of 131\n",
      "building tree 72 of 131\n",
      "building tree 73 of 131\n",
      "building tree 74 of 131\n",
      "building tree 75 of 131\n",
      "building tree 76 of 131\n",
      "building tree 77 of 131\n",
      "building tree 78 of 131\n",
      "building tree 79 of 131\n"
     ]
    },
    {
     "name": "stderr",
     "output_type": "stream",
     "text": [
      "[Parallel(n_jobs=-1)]: Done  69 tasks      | elapsed:    7.3s\n"
     ]
    },
    {
     "name": "stdout",
     "output_type": "stream",
     "text": [
      "building tree 80 of 131\n",
      "building tree 81 of 131\n",
      "building tree 82 of 131\n",
      "building tree 83 of 131\n",
      "building tree 84 of 131\n",
      "building tree 85 of 131\n",
      "building tree 86 of 131\n",
      "building tree 87 of 131\n",
      "building tree 88 of 131\n",
      "building tree 89 of 131\n",
      "building tree 90 of 131\n"
     ]
    },
    {
     "name": "stderr",
     "output_type": "stream",
     "text": [
      "[Parallel(n_jobs=-1)]: Done  82 tasks      | elapsed:    8.7s\n"
     ]
    },
    {
     "name": "stdout",
     "output_type": "stream",
     "text": [
      "building tree 91 of 131\n",
      "building tree 92 of 131\n",
      "building tree 93 of 131\n",
      "building tree 94 of 131\n",
      "building tree 95 of 131\n",
      "building tree 96 of 131\n",
      "building tree 97 of 131\n",
      "building tree 98 of 131\n",
      "building tree 99 of 131\n",
      "building tree 100 of 131\n",
      "building tree 101 of 131\n",
      "building tree 102 of 131\n",
      "building tree 103 of 131\n",
      "building tree 104 of 131\n"
     ]
    },
    {
     "name": "stderr",
     "output_type": "stream",
     "text": [
      "[Parallel(n_jobs=-1)]: Done  97 tasks      | elapsed:   10.3s\n"
     ]
    },
    {
     "name": "stdout",
     "output_type": "stream",
     "text": [
      "building tree 105 of 131\n",
      "building tree 106 of 131\n",
      "building tree 107 of 131\n",
      "building tree 108 of 131\n",
      "building tree 109 of 131\n",
      "building tree 110 of 131\n",
      "building tree 111 of 131\n",
      "building tree 112 of 131\n",
      "building tree 113 of 131\n",
      "building tree 114 of 131\n",
      "building tree 115 of 131\n",
      "building tree 116 of 131\n",
      "building tree 117 of 131\n",
      "building tree 118 of 131\n",
      "building tree 119 of 131\n",
      "building tree 120 of 131\n"
     ]
    },
    {
     "name": "stderr",
     "output_type": "stream",
     "text": [
      "[Parallel(n_jobs=-1)]: Done 112 tasks      | elapsed:   11.8s\n"
     ]
    },
    {
     "name": "stdout",
     "output_type": "stream",
     "text": [
      "building tree 121 of 131\n",
      "building tree 123 of 131\n",
      "building tree 122 of 131\n",
      "building tree 124 of 131\n",
      "building tree 125 of 131\n",
      "building tree 126 of 131\n",
      "building tree 127 of 131\n",
      "building tree 128 of 131\n",
      "building tree 129 of 131\n",
      "building tree 130 of 131\n",
      "building tree 131 of 131\n"
     ]
    },
    {
     "name": "stderr",
     "output_type": "stream",
     "text": [
      "[Parallel(n_jobs=-1)]: Done 131 out of 131 | elapsed:   13.3s finished\n",
      "[Parallel(n_jobs=8)]: Done   2 tasks      | elapsed:    0.0s\n",
      "[Parallel(n_jobs=8)]: Done   9 tasks      | elapsed:    0.1s\n",
      "[Parallel(n_jobs=8)]: Done  16 tasks      | elapsed:    0.1s\n",
      "[Parallel(n_jobs=8)]: Done  25 tasks      | elapsed:    0.1s\n",
      "[Parallel(n_jobs=8)]: Done  34 tasks      | elapsed:    0.2s\n",
      "[Parallel(n_jobs=8)]: Done  45 tasks      | elapsed:    0.2s\n",
      "[Parallel(n_jobs=8)]: Done  56 tasks      | elapsed:    0.3s\n",
      "[Parallel(n_jobs=8)]: Done  69 tasks      | elapsed:    0.3s\n",
      "[Parallel(n_jobs=8)]: Done  82 tasks      | elapsed:    0.4s\n",
      "[Parallel(n_jobs=8)]: Done  97 tasks      | elapsed:    0.4s\n",
      "[Parallel(n_jobs=8)]: Done 112 tasks      | elapsed:    0.5s\n",
      "[Parallel(n_jobs=8)]: Done 131 out of 131 | elapsed:    0.5s finished\n",
      "[Parallel(n_jobs=8)]: Done   2 tasks      | elapsed:    0.0s\n",
      "[Parallel(n_jobs=8)]: Done   9 tasks      | elapsed:    0.1s\n",
      "[Parallel(n_jobs=8)]: Done  16 tasks      | elapsed:    0.2s\n",
      "[Parallel(n_jobs=8)]: Done  25 tasks      | elapsed:    0.2s\n",
      "[Parallel(n_jobs=8)]: Done  34 tasks      | elapsed:    0.3s\n",
      "[Parallel(n_jobs=8)]: Done  45 tasks      | elapsed:    0.4s\n",
      "[Parallel(n_jobs=8)]: Done  56 tasks      | elapsed:    0.5s\n",
      "[Parallel(n_jobs=8)]: Done  69 tasks      | elapsed:    0.6s\n",
      "[Parallel(n_jobs=8)]: Done  82 tasks      | elapsed:    0.7s\n",
      "[Parallel(n_jobs=8)]: Done  97 tasks      | elapsed:    0.8s\n",
      "[Parallel(n_jobs=8)]: Done 112 tasks      | elapsed:    0.9s\n",
      "[Parallel(n_jobs=8)]: Done 131 out of 131 | elapsed:    1.1s finished\n",
      "/home/justin/anaconda3/lib/python3.6/site-packages/sklearn/model_selection/_validation.py:437: DataConversionWarning: A column-vector y was passed when a 1d array was expected. Please change the shape of y to (n_samples,), for example using ravel().\n",
      "  estimator.fit(X_train, y_train, **fit_params)\n"
     ]
    },
    {
     "name": "stdout",
     "output_type": "stream",
     "text": [
      "building tree 2 of 131building tree 4 of 131building tree 5 of 131building tree 6 of 131building tree 1 of 131building tree 3 of 131building tree 7 of 131building tree 8 of 131\n",
      "\n",
      "\n",
      "\n",
      "\n",
      "\n",
      "\n",
      "\n",
      "building tree 9 of 131\n",
      "building tree 10 of 131\n",
      "building tree 11 of 131\n",
      "building tree 12 of 131\n"
     ]
    },
    {
     "name": "stderr",
     "output_type": "stream",
     "text": [
      "[Parallel(n_jobs=-1)]: Done   2 tasks      | elapsed:    0.7s\n"
     ]
    },
    {
     "name": "stdout",
     "output_type": "stream",
     "text": [
      "building tree 13 of 131\n",
      "building tree 14 of 131\n",
      "building tree 15 of 131\n",
      "building tree 16 of 131\n"
     ]
    },
    {
     "name": "stderr",
     "output_type": "stream",
     "text": [
      "[Parallel(n_jobs=-1)]: Done   9 tasks      | elapsed:    1.3s\n"
     ]
    },
    {
     "name": "stdout",
     "output_type": "stream",
     "text": [
      "building tree 17 of 131\n",
      "building tree 18 of 131\n",
      "building tree 19 of 131\n",
      "building tree 20 of 131\n",
      "building tree 21 of 131\n",
      "building tree 22 of 131\n",
      "building tree 23 of 131\n"
     ]
    },
    {
     "name": "stderr",
     "output_type": "stream",
     "text": [
      "[Parallel(n_jobs=-1)]: Done  16 tasks      | elapsed:    2.0s\n"
     ]
    },
    {
     "name": "stdout",
     "output_type": "stream",
     "text": [
      "building tree 24 of 131\n",
      "building tree 25 of 131\n",
      "building tree 26 of 131\n",
      "building tree 27 of 131\n",
      "building tree 28 of 131\n",
      "building tree 29 of 131\n",
      "building tree 30 of 131\n",
      "building tree 31 of 131\n",
      "building tree 32 of 131\n",
      "building tree 33 of 131\n"
     ]
    },
    {
     "name": "stderr",
     "output_type": "stream",
     "text": [
      "[Parallel(n_jobs=-1)]: Done  25 tasks      | elapsed:    2.8s\n"
     ]
    },
    {
     "name": "stdout",
     "output_type": "stream",
     "text": [
      "building tree 34 of 131\n",
      "building tree 35 of 131\n",
      "building tree 36 of 131\n",
      "building tree 37 of 131\n",
      "building tree 38 of 131\n",
      "building tree 39 of 131\n",
      "building tree 40 of 131\n",
      "building tree 41 of 131\n"
     ]
    },
    {
     "name": "stderr",
     "output_type": "stream",
     "text": [
      "[Parallel(n_jobs=-1)]: Done  34 tasks      | elapsed:    3.9s\n"
     ]
    },
    {
     "name": "stdout",
     "output_type": "stream",
     "text": [
      "building tree 42 of 131\n",
      "building tree 43 of 131\n",
      "building tree 44 of 131\n",
      "building tree 45 of 131\n",
      "building tree 46 of 131\n",
      "building tree 47 of 131\n",
      "building tree 48 of 131\n",
      "building tree 49 of 131\n",
      "building tree 50 of 131\n",
      "building tree 51 of 131\n",
      "building tree 52 of 131\n"
     ]
    },
    {
     "name": "stderr",
     "output_type": "stream",
     "text": [
      "[Parallel(n_jobs=-1)]: Done  45 tasks      | elapsed:    4.9s\n"
     ]
    },
    {
     "name": "stdout",
     "output_type": "stream",
     "text": [
      "building tree 53 of 131\n",
      "building tree 54 of 131\n",
      "building tree 55 of 131\n",
      "building tree 56 of 131\n",
      "building tree 57 of 131\n",
      "building tree 58 of 131\n",
      "building tree 59 of 131\n",
      "building tree 60 of 131\n",
      "building tree 61 of 131\n",
      "building tree 62 of 131\n",
      "building tree 63 of 131\n"
     ]
    },
    {
     "name": "stderr",
     "output_type": "stream",
     "text": [
      "[Parallel(n_jobs=-1)]: Done  56 tasks      | elapsed:    5.8s\n"
     ]
    },
    {
     "name": "stdout",
     "output_type": "stream",
     "text": [
      "building tree 64 of 131\n",
      "building tree 65 of 131\n",
      "building tree 66 of 131\n",
      "building tree 67 of 131\n",
      "building tree 68 of 131\n",
      "building tree 69 of 131\n",
      "building tree 70 of 131\n",
      "building tree 71 of 131\n",
      "building tree 72 of 131\n",
      "building tree 73 of 131\n",
      "building tree 74 of 131\n",
      "building tree 75 of 131\n",
      "building tree 76 of 131\n",
      "building tree 77 of 131\n",
      "building tree 78 of 131\n",
      "building tree 79 of 131\n",
      "building tree 80 of 131\n"
     ]
    },
    {
     "name": "stderr",
     "output_type": "stream",
     "text": [
      "[Parallel(n_jobs=-1)]: Done  69 tasks      | elapsed:    7.4s\n"
     ]
    },
    {
     "name": "stdout",
     "output_type": "stream",
     "text": [
      "building tree 81 of 131\n",
      "building tree 82 of 131\n",
      "building tree 83 of 131\n",
      "building tree 84 of 131\n",
      "building tree 85 of 131\n",
      "building tree 86 of 131\n",
      "building tree 87 of 131\n",
      "building tree 88 of 131\n",
      "building tree 89 of 131\n",
      "building tree 90 of 131\n",
      "building tree 91 of 131\n"
     ]
    },
    {
     "name": "stderr",
     "output_type": "stream",
     "text": [
      "[Parallel(n_jobs=-1)]: Done  82 tasks      | elapsed:    8.6s\n"
     ]
    },
    {
     "name": "stdout",
     "output_type": "stream",
     "text": [
      "building tree 92 of 131\n",
      "building tree 93 of 131\n",
      "building tree 94 of 131\n",
      "building tree 95 of 131\n",
      "building tree 96 of 131\n",
      "building tree 97 of 131\n",
      "building tree 98 of 131\n",
      "building tree 99 of 131\n",
      "building tree 100 of 131\n",
      "building tree 101 of 131\n",
      "building tree 102 of 131\n",
      "building tree 103 of 131\n",
      "building tree 104 of 131\n",
      "building tree 105 of 131\n",
      "building tree 106 of 131\n"
     ]
    },
    {
     "name": "stderr",
     "output_type": "stream",
     "text": [
      "[Parallel(n_jobs=-1)]: Done  97 tasks      | elapsed:   10.2s\n"
     ]
    },
    {
     "name": "stdout",
     "output_type": "stream",
     "text": [
      "building tree 107 of 131\n",
      "building tree 108 of 131\n",
      "building tree 109 of 131\n",
      "building tree 110 of 131\n",
      "building tree 111 of 131\n",
      "building tree 112 of 131\n",
      "building tree 113 of 131\n",
      "building tree 114 of 131\n",
      "building tree 115 of 131\n",
      "building tree 116 of 131\n",
      "building tree 117 of 131\n",
      "building tree 118 of 131\n",
      "building tree 119 of 131\n"
     ]
    },
    {
     "name": "stderr",
     "output_type": "stream",
     "text": [
      "[Parallel(n_jobs=-1)]: Done 112 tasks      | elapsed:   11.7s\n"
     ]
    },
    {
     "name": "stdout",
     "output_type": "stream",
     "text": [
      "building tree 120 of 131\n",
      "building tree 121 of 131\n",
      "building tree 122 of 131\n",
      "building tree 123 of 131\n",
      "building tree 124 of 131\n",
      "building tree 125 of 131\n",
      "building tree 126 of 131\n",
      "building tree 127 of 131\n",
      "building tree 128 of 131\n",
      "building tree 129 of 131\n",
      "building tree 130 of 131\n",
      "building tree 131 of 131\n"
     ]
    },
    {
     "name": "stderr",
     "output_type": "stream",
     "text": [
      "[Parallel(n_jobs=-1)]: Done 131 out of 131 | elapsed:   13.4s finished\n",
      "[Parallel(n_jobs=8)]: Done   2 tasks      | elapsed:    0.0s\n",
      "[Parallel(n_jobs=8)]: Done   9 tasks      | elapsed:    0.1s\n",
      "[Parallel(n_jobs=8)]: Done  16 tasks      | elapsed:    0.1s\n",
      "[Parallel(n_jobs=8)]: Done  25 tasks      | elapsed:    0.1s\n",
      "[Parallel(n_jobs=8)]: Done  34 tasks      | elapsed:    0.2s\n",
      "[Parallel(n_jobs=8)]: Done  45 tasks      | elapsed:    0.2s\n",
      "[Parallel(n_jobs=8)]: Done  56 tasks      | elapsed:    0.3s\n",
      "[Parallel(n_jobs=8)]: Done  69 tasks      | elapsed:    0.3s\n",
      "[Parallel(n_jobs=8)]: Done  82 tasks      | elapsed:    0.3s\n",
      "[Parallel(n_jobs=8)]: Done  97 tasks      | elapsed:    0.4s\n",
      "[Parallel(n_jobs=8)]: Done 112 tasks      | elapsed:    0.5s\n",
      "[Parallel(n_jobs=8)]: Done 131 out of 131 | elapsed:    0.5s finished\n",
      "[Parallel(n_jobs=8)]: Done   2 tasks      | elapsed:    0.1s\n",
      "[Parallel(n_jobs=8)]: Done   9 tasks      | elapsed:    0.1s\n",
      "[Parallel(n_jobs=8)]: Done  16 tasks      | elapsed:    0.2s\n",
      "[Parallel(n_jobs=8)]: Done  25 tasks      | elapsed:    0.3s\n",
      "[Parallel(n_jobs=8)]: Done  34 tasks      | elapsed:    0.3s\n",
      "[Parallel(n_jobs=8)]: Done  45 tasks      | elapsed:    0.4s\n",
      "[Parallel(n_jobs=8)]: Done  56 tasks      | elapsed:    0.5s\n",
      "[Parallel(n_jobs=8)]: Done  69 tasks      | elapsed:    0.6s\n",
      "[Parallel(n_jobs=8)]: Done  82 tasks      | elapsed:    0.7s\n",
      "[Parallel(n_jobs=8)]: Done  97 tasks      | elapsed:    0.8s\n",
      "[Parallel(n_jobs=8)]: Done 112 tasks      | elapsed:    0.9s\n",
      "[Parallel(n_jobs=8)]: Done 131 out of 131 | elapsed:    1.1s finished\n",
      "/home/justin/anaconda3/lib/python3.6/site-packages/sklearn/model_selection/_validation.py:437: DataConversionWarning: A column-vector y was passed when a 1d array was expected. Please change the shape of y to (n_samples,), for example using ravel().\n",
      "  estimator.fit(X_train, y_train, **fit_params)\n"
     ]
    },
    {
     "name": "stdout",
     "output_type": "stream",
     "text": [
      "building tree 3 of 183\n",
      "building tree 4 of 183building tree 5 of 183building tree 6 of 183building tree 1 of 183building tree 2 of 183building tree 7 of 183\n",
      "\n",
      "\n",
      "\n",
      "\n",
      "building tree 8 of 183\n",
      "\n",
      "building tree 9 of 183\n"
     ]
    },
    {
     "name": "stderr",
     "output_type": "stream",
     "text": [
      "[Parallel(n_jobs=-1)]: Done   2 tasks      | elapsed:    4.9s\n"
     ]
    },
    {
     "name": "stdout",
     "output_type": "stream",
     "text": [
      "building tree 10 of 183\n",
      "building tree 11 of 183\n",
      "building tree 12 of 183\n",
      "building tree 13 of 183\n",
      "building tree 14 of 183\n",
      "building tree 15 of 183\n",
      "building tree 16 of 183\n"
     ]
    },
    {
     "name": "stderr",
     "output_type": "stream",
     "text": [
      "[Parallel(n_jobs=-1)]: Done   9 tasks      | elapsed:   10.0s\n"
     ]
    },
    {
     "name": "stdout",
     "output_type": "stream",
     "text": [
      "building tree 17 of 183\n",
      "building tree 18 of 183\n",
      "building tree 19 of 183\n",
      "building tree 20 of 183\n",
      "building tree 21 of 183\n",
      "building tree 22 of 183\n",
      "building tree 23 of 183\n"
     ]
    },
    {
     "name": "stderr",
     "output_type": "stream",
     "text": [
      "[Parallel(n_jobs=-1)]: Done  16 tasks      | elapsed:   11.6s\n"
     ]
    },
    {
     "name": "stdout",
     "output_type": "stream",
     "text": [
      "building tree 24 of 183\n",
      "building tree 25 of 183\n",
      "building tree 26 of 183\n",
      "building tree 27 of 183\n",
      "building tree 28 of 183\n",
      "building tree 29 of 183\n",
      "building tree 30 of 183\n",
      "building tree 31 of 183\n",
      "building tree 32 of 183\n"
     ]
    },
    {
     "name": "stderr",
     "output_type": "stream",
     "text": [
      "[Parallel(n_jobs=-1)]: Done  25 tasks      | elapsed:   20.9s\n"
     ]
    },
    {
     "name": "stdout",
     "output_type": "stream",
     "text": [
      "building tree 33 of 183\n",
      "building tree 34 of 183\n",
      "building tree 35 of 183\n",
      "building tree 36 of 183\n",
      "building tree 37 of 183\n",
      "building tree 38 of 183\n",
      "building tree 39 of 183\n",
      "building tree 40 of 183\n",
      "building tree 41 of 183\n"
     ]
    },
    {
     "name": "stderr",
     "output_type": "stream",
     "text": [
      "[Parallel(n_jobs=-1)]: Done  34 tasks      | elapsed:   26.5s\n"
     ]
    },
    {
     "name": "stdout",
     "output_type": "stream",
     "text": [
      "building tree 42 of 183\n",
      "building tree 43 of 183\n",
      "building tree 44 of 183\n",
      "building tree 45 of 183\n",
      "building tree 46 of 183\n",
      "building tree 47 of 183\n",
      "building tree 48 of 183\n",
      "building tree 49 of 183\n",
      "building tree 50 of 183\n",
      "building tree 51 of 183\n",
      "building tree 52 of 183\n",
      "building tree 53 of 183\n",
      "building tree 54 of 183\n",
      "building tree 55 of 183\n"
     ]
    },
    {
     "name": "stderr",
     "output_type": "stream",
     "text": [
      "[Parallel(n_jobs=-1)]: Done  45 tasks      | elapsed:   32.8s\n"
     ]
    },
    {
     "name": "stdout",
     "output_type": "stream",
     "text": [
      "building tree 56 of 183\n",
      "building tree 57 of 183\n",
      "building tree 58 of 183\n",
      "building tree 59 of 183\n",
      "building tree 60 of 183\n",
      "building tree 61 of 183\n",
      "building tree 62 of 183\n",
      "building tree 63 of 183\n"
     ]
    },
    {
     "name": "stderr",
     "output_type": "stream",
     "text": [
      "[Parallel(n_jobs=-1)]: Done  56 tasks      | elapsed:   39.2s\n"
     ]
    },
    {
     "name": "stdout",
     "output_type": "stream",
     "text": [
      "building tree 64 of 183\n",
      "building tree 65 of 183\n",
      "building tree 66 of 183\n",
      "building tree 67 of 183\n",
      "building tree 68 of 183\n",
      "building tree 69 of 183\n",
      "building tree 70 of 183\n",
      "building tree 71 of 183\n",
      "building tree 72 of 183\n",
      "building tree 73 of 183\n",
      "building tree 74 of 183\n",
      "building tree 75 of 183\n",
      "building tree 76 of 183\n",
      "building tree 77 of 183\n"
     ]
    },
    {
     "name": "stderr",
     "output_type": "stream",
     "text": [
      "[Parallel(n_jobs=-1)]: Done  69 tasks      | elapsed:   48.8s\n"
     ]
    },
    {
     "name": "stdout",
     "output_type": "stream",
     "text": [
      "building tree 78 of 183\n",
      "building tree 79 of 183\n",
      "building tree 80 of 183\n",
      "building tree 81 of 183\n",
      "building tree 82 of 183\n",
      "building tree 83 of 183\n",
      "building tree 84 of 183\n",
      "building tree 85 of 183\n",
      "building tree 86 of 183\n",
      "building tree 87 of 183\n",
      "building tree 88 of 183\n",
      "building tree 89 of 183\n"
     ]
    },
    {
     "name": "stderr",
     "output_type": "stream",
     "text": [
      "[Parallel(n_jobs=-1)]: Done  82 tasks      | elapsed:   58.3s\n"
     ]
    },
    {
     "name": "stdout",
     "output_type": "stream",
     "text": [
      "building tree 90 of 183\n",
      "building tree 91 of 183\n",
      "building tree 92 of 183\n",
      "building tree 93 of 183\n",
      "building tree 94 of 183\n",
      "building tree 95 of 183\n",
      "building tree 96 of 183\n",
      "building tree 97 of 183\n",
      "building tree 98 of 183\n",
      "building tree 99 of 183\n",
      "building tree 100 of 183\n",
      "building tree 101 of 183\n",
      "building tree 102 of 183\n",
      "building tree 103 of 183\n",
      "building tree 104 of 183\n"
     ]
    },
    {
     "name": "stderr",
     "output_type": "stream",
     "text": [
      "[Parallel(n_jobs=-1)]: Done  97 tasks      | elapsed:  1.1min\n"
     ]
    },
    {
     "name": "stdout",
     "output_type": "stream",
     "text": [
      "building tree 105 of 183\n",
      "building tree 106 of 183\n",
      "building tree 107 of 183\n",
      "building tree 108 of 183\n",
      "building tree 109 of 183\n",
      "building tree 110 of 183\n",
      "building tree 111 of 183\n",
      "building tree 112 of 183\n",
      "building tree 113 of 183\n",
      "building tree 114 of 183\n",
      "building tree 115 of 183\n",
      "building tree 116 of 183\n",
      "building tree 117 of 183\n",
      "building tree 118 of 183\n",
      "building tree 119 of 183\n"
     ]
    },
    {
     "name": "stderr",
     "output_type": "stream",
     "text": [
      "[Parallel(n_jobs=-1)]: Done 112 tasks      | elapsed:  1.3min\n"
     ]
    },
    {
     "name": "stdout",
     "output_type": "stream",
     "text": [
      "building tree 120 of 183\n",
      "building tree 121 of 183\n",
      "building tree 122 of 183\n",
      "building tree 123 of 183\n",
      "building tree 124 of 183\n",
      "building tree 125 of 183\n",
      "building tree 126 of 183\n",
      "building tree 127 of 183\n",
      "building tree 128 of 183\n",
      "building tree 129 of 183\n",
      "building tree 130 of 183\n",
      "building tree 131 of 183\n",
      "building tree 132 of 183\n",
      "building tree 133 of 183\n",
      "building tree 134 of 183\n",
      "building tree 135 of 183\n",
      "building tree 136 of 183\n"
     ]
    },
    {
     "name": "stderr",
     "output_type": "stream",
     "text": [
      "[Parallel(n_jobs=-1)]: Done 129 tasks      | elapsed:  1.5min\n"
     ]
    },
    {
     "name": "stdout",
     "output_type": "stream",
     "text": [
      "building tree 137 of 183\n",
      "building tree 138 of 183\n",
      "building tree 139 of 183\n",
      "building tree 140 of 183\n",
      "building tree 141 of 183\n",
      "building tree 142 of 183\n",
      "building tree 143 of 183\n",
      "building tree 144 of 183\n",
      "building tree 145 of 183\n",
      "building tree 146 of 183\n",
      "building tree 147 of 183\n",
      "building tree 148 of 183\n",
      "building tree 149 of 183\n",
      "building tree 150 of 183\n",
      "building tree 151 of 183\n",
      "building tree 152 of 183\n",
      "building tree 153 of 183\n"
     ]
    },
    {
     "name": "stderr",
     "output_type": "stream",
     "text": [
      "[Parallel(n_jobs=-1)]: Done 146 tasks      | elapsed:  1.7min\n"
     ]
    },
    {
     "name": "stdout",
     "output_type": "stream",
     "text": [
      "building tree 154 of 183\n",
      "building tree 155 of 183\n",
      "building tree 156 of 183\n",
      "building tree 157 of 183\n",
      "building tree 158 of 183\n",
      "building tree 159 of 183\n",
      "building tree 160 of 183\n",
      "building tree 161 of 183\n",
      "building tree 162 of 183\n",
      "building tree 163 of 183\n",
      "building tree 164 of 183\n",
      "building tree 165 of 183\n",
      "building tree 166 of 183\n",
      "building tree 167 of 183\n",
      "building tree 168 of 183\n",
      "building tree 169 of 183\n",
      "building tree 170 of 183\n",
      "building tree 171 of 183\n",
      "building tree 172 of 183\n",
      "building tree 173 of 183\n"
     ]
    },
    {
     "name": "stderr",
     "output_type": "stream",
     "text": [
      "[Parallel(n_jobs=-1)]: Done 165 tasks      | elapsed:  1.9min\n"
     ]
    },
    {
     "name": "stdout",
     "output_type": "stream",
     "text": [
      "building tree 174 of 183\n",
      "building tree 175 of 183\n",
      "building tree 176 of 183\n",
      "building tree 177 of 183\n",
      "building tree 178 of 183\n",
      "building tree 179 of 183\n",
      "building tree 180 of 183\n",
      "building tree 181 of 183\n",
      "building tree 182 of 183\n",
      "building tree 183 of 183\n"
     ]
    },
    {
     "name": "stderr",
     "output_type": "stream",
     "text": [
      "[Parallel(n_jobs=-1)]: Done 183 out of 183 | elapsed:  2.1min finished\n",
      "[Parallel(n_jobs=8)]: Done   2 tasks      | elapsed:    0.0s\n",
      "[Parallel(n_jobs=8)]: Done   9 tasks      | elapsed:    0.1s\n",
      "[Parallel(n_jobs=8)]: Done  16 tasks      | elapsed:    0.1s\n",
      "[Parallel(n_jobs=8)]: Done  25 tasks      | elapsed:    0.2s\n",
      "[Parallel(n_jobs=8)]: Done  34 tasks      | elapsed:    0.2s\n",
      "[Parallel(n_jobs=8)]: Done  45 tasks      | elapsed:    0.3s\n",
      "[Parallel(n_jobs=8)]: Done  56 tasks      | elapsed:    0.3s\n",
      "[Parallel(n_jobs=8)]: Done  69 tasks      | elapsed:    0.4s\n",
      "[Parallel(n_jobs=8)]: Done  82 tasks      | elapsed:    0.5s\n",
      "[Parallel(n_jobs=8)]: Done  97 tasks      | elapsed:    0.5s\n",
      "[Parallel(n_jobs=8)]: Done 112 tasks      | elapsed:    0.6s\n",
      "[Parallel(n_jobs=8)]: Done 129 tasks      | elapsed:    0.7s\n",
      "[Parallel(n_jobs=8)]: Done 146 tasks      | elapsed:    0.8s\n",
      "[Parallel(n_jobs=8)]: Done 165 tasks      | elapsed:    0.9s\n",
      "[Parallel(n_jobs=8)]: Done 183 out of 183 | elapsed:    0.9s finished\n",
      "[Parallel(n_jobs=8)]: Done   2 tasks      | elapsed:    0.1s\n",
      "[Parallel(n_jobs=8)]: Done   9 tasks      | elapsed:    0.1s\n",
      "[Parallel(n_jobs=8)]: Done  16 tasks      | elapsed:    0.2s\n",
      "[Parallel(n_jobs=8)]: Done  25 tasks      | elapsed:    0.3s\n",
      "[Parallel(n_jobs=8)]: Done  34 tasks      | elapsed:    0.4s\n",
      "[Parallel(n_jobs=8)]: Done  45 tasks      | elapsed:    0.5s\n",
      "[Parallel(n_jobs=8)]: Done  56 tasks      | elapsed:    0.6s\n",
      "[Parallel(n_jobs=8)]: Done  69 tasks      | elapsed:    0.7s\n",
      "[Parallel(n_jobs=8)]: Done  82 tasks      | elapsed:    0.9s\n",
      "[Parallel(n_jobs=8)]: Done  97 tasks      | elapsed:    1.0s\n",
      "[Parallel(n_jobs=8)]: Done 112 tasks      | elapsed:    1.2s\n",
      "[Parallel(n_jobs=8)]: Done 129 tasks      | elapsed:    1.4s\n",
      "[Parallel(n_jobs=8)]: Done 146 tasks      | elapsed:    1.6s\n",
      "[Parallel(n_jobs=8)]: Done 165 tasks      | elapsed:    1.7s\n",
      "[Parallel(n_jobs=8)]: Done 183 out of 183 | elapsed:    1.9s finished\n",
      "/home/justin/anaconda3/lib/python3.6/site-packages/sklearn/model_selection/_validation.py:437: DataConversionWarning: A column-vector y was passed when a 1d array was expected. Please change the shape of y to (n_samples,), for example using ravel().\n",
      "  estimator.fit(X_train, y_train, **fit_params)\n"
     ]
    },
    {
     "name": "stdout",
     "output_type": "stream",
     "text": [
      "building tree 1 of 183building tree 2 of 183building tree 3 of 183building tree 5 of 183building tree 7 of 183building tree 6 of 183building tree 8 of 183building tree 4 of 183\n",
      "\n",
      "\n",
      "\n",
      "\n",
      "\n",
      "\n",
      "\n",
      "building tree 9 of 183\n",
      "building tree 10 of 183\n",
      "building tree 11 of 183\n"
     ]
    },
    {
     "name": "stderr",
     "output_type": "stream",
     "text": [
      "[Parallel(n_jobs=-1)]: Done   2 tasks      | elapsed:    5.2s\n"
     ]
    },
    {
     "name": "stdout",
     "output_type": "stream",
     "text": [
      "building tree 12 of 183\n",
      "building tree 13 of 183\n",
      "building tree 14 of 183\n",
      "building tree 15 of 183\n",
      "building tree 16 of 183\n"
     ]
    },
    {
     "name": "stderr",
     "output_type": "stream",
     "text": [
      "[Parallel(n_jobs=-1)]: Done   9 tasks      | elapsed:   10.2s\n"
     ]
    },
    {
     "name": "stdout",
     "output_type": "stream",
     "text": [
      "building tree 17 of 183\n",
      "building tree 18 of 183\n",
      "building tree 19 of 183\n",
      "building tree 20 of 183\n",
      "building tree 21 of 183\n",
      "building tree 22 of 183\n",
      "building tree 23 of 183\n"
     ]
    },
    {
     "name": "stderr",
     "output_type": "stream",
     "text": [
      "[Parallel(n_jobs=-1)]: Done  16 tasks      | elapsed:   12.6s\n"
     ]
    },
    {
     "name": "stdout",
     "output_type": "stream",
     "text": [
      "building tree 24 of 183\n",
      "building tree 25 of 183\n",
      "building tree 26 of 183\n",
      "building tree 27 of 183\n",
      "building tree 28 of 183\n",
      "building tree 29 of 183\n",
      "building tree 30 of 183\n",
      "building tree 31 of 183\n",
      "building tree 32 of 183\n"
     ]
    },
    {
     "name": "stderr",
     "output_type": "stream",
     "text": [
      "[Parallel(n_jobs=-1)]: Done  25 tasks      | elapsed:   20.3s\n"
     ]
    },
    {
     "name": "stdout",
     "output_type": "stream",
     "text": [
      "building tree 33 of 183\n",
      "building tree 34 of 183\n",
      "building tree 35 of 183\n",
      "building tree 36 of 183\n",
      "building tree 37 of 183\n",
      "building tree 38 of 183\n",
      "building tree 39 of 183\n",
      "building tree 40 of 183\n",
      "building tree 41 of 183\n"
     ]
    },
    {
     "name": "stderr",
     "output_type": "stream",
     "text": [
      "[Parallel(n_jobs=-1)]: Done  34 tasks      | elapsed:   25.9s\n"
     ]
    },
    {
     "name": "stdout",
     "output_type": "stream",
     "text": [
      "building tree 42 of 183\n",
      "building tree 43 of 183\n",
      "building tree 44 of 183\n",
      "building tree 45 of 183\n",
      "building tree 46 of 183\n",
      "building tree 47 of 183\n",
      "building tree 48 of 183\n",
      "building tree 49 of 183\n",
      "building tree 50 of 183\n",
      "building tree 51 of 183\n",
      "building tree 52 of 183\n",
      "building tree 53 of 183\n"
     ]
    },
    {
     "name": "stderr",
     "output_type": "stream",
     "text": [
      "[Parallel(n_jobs=-1)]: Done  45 tasks      | elapsed:   31.7s\n"
     ]
    },
    {
     "name": "stdout",
     "output_type": "stream",
     "text": [
      "building tree 54 of 183\n",
      "building tree 55 of 183\n",
      "building tree 56 of 183\n",
      "building tree 57 of 183\n",
      "building tree 58 of 183\n",
      "building tree 59 of 183\n",
      "building tree 60 of 183\n",
      "building tree 61 of 183\n",
      "building tree 62 of 183\n",
      "building tree 63 of 183\n"
     ]
    },
    {
     "name": "stderr",
     "output_type": "stream",
     "text": [
      "[Parallel(n_jobs=-1)]: Done  56 tasks      | elapsed:   39.6s\n"
     ]
    },
    {
     "name": "stdout",
     "output_type": "stream",
     "text": [
      "building tree 64 of 183\n",
      "building tree 65 of 183\n",
      "building tree 66 of 183\n",
      "building tree 67 of 183\n",
      "building tree 68 of 183\n",
      "building tree 69 of 183\n",
      "building tree 70 of 183\n",
      "building tree 71 of 183\n",
      "building tree 72 of 183\n",
      "building tree 73 of 183\n",
      "building tree 74 of 183\n",
      "building tree 75 of 183\n",
      "building tree 76 of 183\n"
     ]
    },
    {
     "name": "stderr",
     "output_type": "stream",
     "text": [
      "[Parallel(n_jobs=-1)]: Done  69 tasks      | elapsed:   47.9s\n"
     ]
    },
    {
     "name": "stdout",
     "output_type": "stream",
     "text": [
      "building tree 77 of 183\n",
      "building tree 78 of 183\n",
      "building tree 79 of 183\n",
      "building tree 80 of 183\n",
      "building tree 81 of 183\n",
      "building tree 82 of 183\n",
      "building tree 83 of 183\n",
      "building tree 84 of 183\n",
      "building tree 85 of 183\n",
      "building tree 86 of 183\n",
      "building tree 87 of 183\n",
      "building tree 88 of 183\n",
      "building tree 89 of 183\n"
     ]
    },
    {
     "name": "stderr",
     "output_type": "stream",
     "text": [
      "[Parallel(n_jobs=-1)]: Done  82 tasks      | elapsed:   56.9s\n"
     ]
    },
    {
     "name": "stdout",
     "output_type": "stream",
     "text": [
      "building tree 90 of 183\n",
      "building tree 91 of 183\n",
      "building tree 92 of 183\n",
      "building tree 93 of 183\n",
      "building tree 94 of 183\n",
      "building tree 95 of 183\n",
      "building tree 96 of 183\n",
      "building tree 97 of 183\n",
      "building tree 98 of 183\n",
      "building tree 99 of 183\n",
      "building tree 100 of 183\n",
      "building tree 101 of 183\n",
      "building tree 102 of 183\n",
      "building tree 103 of 183\n",
      "building tree 104 of 183\n"
     ]
    },
    {
     "name": "stderr",
     "output_type": "stream",
     "text": [
      "[Parallel(n_jobs=-1)]: Done  97 tasks      | elapsed:  1.1min\n"
     ]
    },
    {
     "name": "stdout",
     "output_type": "stream",
     "text": [
      "building tree 105 of 183\n",
      "building tree 106 of 183\n",
      "building tree 107 of 183\n",
      "building tree 108 of 183\n",
      "building tree 109 of 183\n",
      "building tree 110 of 183\n",
      "building tree 111 of 183\n",
      "building tree 112 of 183\n",
      "building tree 113 of 183\n",
      "building tree 114 of 183\n",
      "building tree 115 of 183\n",
      "building tree 116 of 183\n",
      "building tree 117 of 183\n",
      "building tree 118 of 183\n",
      "building tree 119 of 183\n"
     ]
    },
    {
     "name": "stderr",
     "output_type": "stream",
     "text": [
      "[Parallel(n_jobs=-1)]: Done 112 tasks      | elapsed:  1.3min\n"
     ]
    },
    {
     "name": "stdout",
     "output_type": "stream",
     "text": [
      "building tree 120 of 183\n",
      "building tree 121 of 183\n",
      "building tree 122 of 183\n",
      "building tree 123 of 183\n",
      "building tree 124 of 183\n",
      "building tree 125 of 183\n",
      "building tree 126 of 183\n",
      "building tree 127 of 183\n",
      "building tree 128 of 183\n",
      "building tree 129 of 183\n",
      "building tree 130 of 183\n",
      "building tree 131 of 183\n",
      "building tree 132 of 183\n",
      "building tree 133 of 183\n",
      "building tree 134 of 183\n",
      "building tree 135 of 183\n",
      "building tree 136 of 183\n"
     ]
    },
    {
     "name": "stderr",
     "output_type": "stream",
     "text": [
      "[Parallel(n_jobs=-1)]: Done 129 tasks      | elapsed:  1.5min\n"
     ]
    },
    {
     "name": "stdout",
     "output_type": "stream",
     "text": [
      "building tree 137 of 183\n",
      "building tree 138 of 183\n",
      "building tree 139 of 183\n",
      "building tree 140 of 183\n",
      "building tree 141 of 183\n",
      "building tree 142 of 183\n",
      "building tree 143 of 183\n",
      "building tree 144 of 183\n",
      "building tree 145 of 183\n",
      "building tree 146 of 183\n",
      "building tree 147 of 183\n",
      "building tree 148 of 183\n",
      "building tree 149 of 183\n",
      "building tree 150 of 183\n",
      "building tree 151 of 183\n",
      "building tree 152 of 183\n",
      "building tree 153 of 183\n"
     ]
    },
    {
     "name": "stderr",
     "output_type": "stream",
     "text": [
      "[Parallel(n_jobs=-1)]: Done 146 tasks      | elapsed:  1.7min\n"
     ]
    },
    {
     "name": "stdout",
     "output_type": "stream",
     "text": [
      "building tree 154 of 183\n",
      "building tree 155 of 183\n",
      "building tree 156 of 183\n",
      "building tree 157 of 183\n",
      "building tree 158 of 183\n",
      "building tree 159 of 183\n",
      "building tree 160 of 183\n",
      "building tree 161 of 183\n",
      "building tree 162 of 183\n",
      "building tree 163 of 183\n",
      "building tree 164 of 183\n",
      "building tree 165 of 183\n",
      "building tree 166 of 183\n",
      "building tree 167 of 183\n",
      "building tree 168 of 183\n",
      "building tree 169 of 183\n",
      "building tree 170 of 183\n",
      "building tree 171 of 183\n",
      "building tree 172 of 183\n"
     ]
    },
    {
     "name": "stderr",
     "output_type": "stream",
     "text": [
      "[Parallel(n_jobs=-1)]: Done 165 tasks      | elapsed:  1.9min\n"
     ]
    },
    {
     "name": "stdout",
     "output_type": "stream",
     "text": [
      "building tree 173 of 183\n",
      "building tree 174 of 183\n",
      "building tree 175 of 183\n",
      "building tree 176 of 183\n",
      "building tree 177 of 183\n",
      "building tree 178 of 183\n",
      "building tree 179 of 183\n",
      "building tree 180 of 183\n",
      "building tree 181 of 183\n",
      "building tree 182 of 183\n",
      "building tree 183 of 183\n"
     ]
    },
    {
     "name": "stderr",
     "output_type": "stream",
     "text": [
      "[Parallel(n_jobs=-1)]: Done 183 out of 183 | elapsed:  2.0min finished\n",
      "[Parallel(n_jobs=8)]: Done   2 tasks      | elapsed:    0.0s\n",
      "[Parallel(n_jobs=8)]: Done   9 tasks      | elapsed:    0.1s\n",
      "[Parallel(n_jobs=8)]: Done  16 tasks      | elapsed:    0.1s\n",
      "[Parallel(n_jobs=8)]: Done  25 tasks      | elapsed:    0.2s\n",
      "[Parallel(n_jobs=8)]: Done  34 tasks      | elapsed:    0.2s\n",
      "[Parallel(n_jobs=8)]: Done  45 tasks      | elapsed:    0.3s\n",
      "[Parallel(n_jobs=8)]: Done  56 tasks      | elapsed:    0.3s\n",
      "[Parallel(n_jobs=8)]: Done  69 tasks      | elapsed:    0.4s\n",
      "[Parallel(n_jobs=8)]: Done  82 tasks      | elapsed:    0.4s\n",
      "[Parallel(n_jobs=8)]: Done  97 tasks      | elapsed:    0.5s\n",
      "[Parallel(n_jobs=8)]: Done 112 tasks      | elapsed:    0.6s\n",
      "[Parallel(n_jobs=8)]: Done 129 tasks      | elapsed:    0.7s\n",
      "[Parallel(n_jobs=8)]: Done 146 tasks      | elapsed:    0.7s\n",
      "[Parallel(n_jobs=8)]: Done 165 tasks      | elapsed:    0.8s\n",
      "[Parallel(n_jobs=8)]: Done 183 out of 183 | elapsed:    0.9s finished\n",
      "[Parallel(n_jobs=8)]: Done   2 tasks      | elapsed:    0.1s\n",
      "[Parallel(n_jobs=8)]: Done   9 tasks      | elapsed:    0.1s\n",
      "[Parallel(n_jobs=8)]: Done  16 tasks      | elapsed:    0.2s\n",
      "[Parallel(n_jobs=8)]: Done  25 tasks      | elapsed:    0.3s\n",
      "[Parallel(n_jobs=8)]: Done  34 tasks      | elapsed:    0.4s\n",
      "[Parallel(n_jobs=8)]: Done  45 tasks      | elapsed:    0.5s\n",
      "[Parallel(n_jobs=8)]: Done  56 tasks      | elapsed:    0.6s\n",
      "[Parallel(n_jobs=8)]: Done  69 tasks      | elapsed:    0.7s\n",
      "[Parallel(n_jobs=8)]: Done  82 tasks      | elapsed:    0.9s\n",
      "[Parallel(n_jobs=8)]: Done  97 tasks      | elapsed:    1.0s\n",
      "[Parallel(n_jobs=8)]: Done 112 tasks      | elapsed:    1.2s\n",
      "[Parallel(n_jobs=8)]: Done 129 tasks      | elapsed:    1.3s\n",
      "[Parallel(n_jobs=8)]: Done 146 tasks      | elapsed:    1.5s\n",
      "[Parallel(n_jobs=8)]: Done 165 tasks      | elapsed:    1.7s\n",
      "[Parallel(n_jobs=8)]: Done 183 out of 183 | elapsed:    1.9s finished\n",
      "/home/justin/anaconda3/lib/python3.6/site-packages/sklearn/model_selection/_validation.py:437: DataConversionWarning: A column-vector y was passed when a 1d array was expected. Please change the shape of y to (n_samples,), for example using ravel().\n",
      "  estimator.fit(X_train, y_train, **fit_params)\n"
     ]
    },
    {
     "name": "stdout",
     "output_type": "stream",
     "text": [
      "building tree 1 of 183building tree 2 of 183building tree 3 of 183building tree 5 of 183building tree 6 of 183building tree 7 of 183building tree 8 of 183building tree 4 of 183\n",
      "\n",
      "\n",
      "\n",
      "\n",
      "\n",
      "\n",
      "\n",
      "building tree 9 of 183\n"
     ]
    },
    {
     "name": "stderr",
     "output_type": "stream",
     "text": [
      "[Parallel(n_jobs=-1)]: Done   2 tasks      | elapsed:    4.8s\n"
     ]
    },
    {
     "name": "stdout",
     "output_type": "stream",
     "text": [
      "building tree 10 of 183\n",
      "building tree 11 of 183\n",
      "building tree 12 of 183\n",
      "building tree 13 of 183\n",
      "building tree 14 of 183\n",
      "building tree 15 of 183\n",
      "building tree 16 of 183\n"
     ]
    },
    {
     "name": "stderr",
     "output_type": "stream",
     "text": [
      "[Parallel(n_jobs=-1)]: Done   9 tasks      | elapsed:    9.2s\n"
     ]
    },
    {
     "name": "stdout",
     "output_type": "stream",
     "text": [
      "building tree 17 of 183\n",
      "building tree 18 of 183\n",
      "building tree 19 of 183\n",
      "building tree 20 of 183\n",
      "building tree 21 of 183\n",
      "building tree 22 of 183\n",
      "building tree 23 of 183\n"
     ]
    },
    {
     "name": "stderr",
     "output_type": "stream",
     "text": [
      "[Parallel(n_jobs=-1)]: Done  16 tasks      | elapsed:   11.6s\n"
     ]
    },
    {
     "name": "stdout",
     "output_type": "stream",
     "text": [
      "building tree 24 of 183\n",
      "building tree 25 of 183\n",
      "building tree 26 of 183\n",
      "building tree 27 of 183\n",
      "building tree 28 of 183\n",
      "building tree 29 of 183\n",
      "building tree 30 of 183\n",
      "building tree 31 of 183\n",
      "building tree 32 of 183\n"
     ]
    },
    {
     "name": "stderr",
     "output_type": "stream",
     "text": [
      "[Parallel(n_jobs=-1)]: Done  25 tasks      | elapsed:   19.6s\n"
     ]
    },
    {
     "name": "stdout",
     "output_type": "stream",
     "text": [
      "building tree 33 of 183\n",
      "building tree 34 of 183\n",
      "building tree 35 of 183\n",
      "building tree 36 of 183\n",
      "building tree 37 of 183\n",
      "building tree 38 of 183\n",
      "building tree 39 of 183\n",
      "building tree 40 of 183\n",
      "building tree 41 of 183\n"
     ]
    },
    {
     "name": "stderr",
     "output_type": "stream",
     "text": [
      "[Parallel(n_jobs=-1)]: Done  34 tasks      | elapsed:   25.8s\n"
     ]
    },
    {
     "name": "stdout",
     "output_type": "stream",
     "text": [
      "building tree 42 of 183\n",
      "building tree 43 of 183\n",
      "building tree 44 of 183\n",
      "building tree 45 of 183\n",
      "building tree 46 of 183\n",
      "building tree 47 of 183\n",
      "building tree 48 of 183\n",
      "building tree 49 of 183\n",
      "building tree 50 of 183\n",
      "building tree 51 of 183\n",
      "building tree 52 of 183\n",
      "building tree 53 of 183\n"
     ]
    },
    {
     "name": "stderr",
     "output_type": "stream",
     "text": [
      "[Parallel(n_jobs=-1)]: Done  45 tasks      | elapsed:   32.9s\n"
     ]
    },
    {
     "name": "stdout",
     "output_type": "stream",
     "text": [
      "building tree 54 of 183\n",
      "building tree 55 of 183\n",
      "building tree 56 of 183\n",
      "building tree 57 of 183\n",
      "building tree 58 of 183\n",
      "building tree 59 of 183\n",
      "building tree 60 of 183\n",
      "building tree 61 of 183\n",
      "building tree 62 of 183\n",
      "building tree 63 of 183\n"
     ]
    },
    {
     "name": "stderr",
     "output_type": "stream",
     "text": [
      "[Parallel(n_jobs=-1)]: Done  56 tasks      | elapsed:   39.2s\n"
     ]
    },
    {
     "name": "stdout",
     "output_type": "stream",
     "text": [
      "building tree 64 of 183\n",
      "building tree 65 of 183\n",
      "building tree 66 of 183\n",
      "building tree 67 of 183\n",
      "building tree 68 of 183\n",
      "building tree 69 of 183\n",
      "building tree 70 of 183\n",
      "building tree 71 of 183\n",
      "building tree 72 of 183\n",
      "building tree 73 of 183\n",
      "building tree 74 of 183\n",
      "building tree 75 of 183\n",
      "building tree 76 of 183\n"
     ]
    },
    {
     "name": "stderr",
     "output_type": "stream",
     "text": [
      "[Parallel(n_jobs=-1)]: Done  69 tasks      | elapsed:   49.3s\n"
     ]
    },
    {
     "name": "stdout",
     "output_type": "stream",
     "text": [
      "building tree 77 of 183\n",
      "building tree 78 of 183\n",
      "building tree 79 of 183\n",
      "building tree 80 of 183\n",
      "building tree 81 of 183\n",
      "building tree 82 of 183\n",
      "building tree 83 of 183\n",
      "building tree 84 of 183\n",
      "building tree 85 of 183\n",
      "building tree 86 of 183\n",
      "building tree 87 of 183\n",
      "building tree 88 of 183\n",
      "building tree 89 of 183\n"
     ]
    },
    {
     "name": "stderr",
     "output_type": "stream",
     "text": [
      "[Parallel(n_jobs=-1)]: Done  82 tasks      | elapsed:   57.9s\n"
     ]
    },
    {
     "name": "stdout",
     "output_type": "stream",
     "text": [
      "building tree 90 of 183\n",
      "building tree 91 of 183\n",
      "building tree 92 of 183\n",
      "building tree 93 of 183\n",
      "building tree 94 of 183\n",
      "building tree 95 of 183\n",
      "building tree 96 of 183\n",
      "building tree 97 of 183\n",
      "building tree 98 of 183\n",
      "building tree 99 of 183\n",
      "building tree 100 of 183\n",
      "building tree 101 of 183\n",
      "building tree 102 of 183\n",
      "building tree 103 of 183\n",
      "building tree 104 of 183\n"
     ]
    },
    {
     "name": "stderr",
     "output_type": "stream",
     "text": [
      "[Parallel(n_jobs=-1)]: Done  97 tasks      | elapsed:  1.1min\n"
     ]
    },
    {
     "name": "stdout",
     "output_type": "stream",
     "text": [
      "building tree 105 of 183\n",
      "building tree 106 of 183\n",
      "building tree 107 of 183\n",
      "building tree 108 of 183\n",
      "building tree 109 of 183\n",
      "building tree 110 of 183\n",
      "building tree 111 of 183\n",
      "building tree 112 of 183\n",
      "building tree 113 of 183\n",
      "building tree 114 of 183\n",
      "building tree 115 of 183\n",
      "building tree 116 of 183\n",
      "building tree 117 of 183\n",
      "building tree 118 of 183\n",
      "building tree 119 of 183\n"
     ]
    },
    {
     "name": "stderr",
     "output_type": "stream",
     "text": [
      "[Parallel(n_jobs=-1)]: Done 112 tasks      | elapsed:  1.3min\n"
     ]
    },
    {
     "name": "stdout",
     "output_type": "stream",
     "text": [
      "building tree 120 of 183\n",
      "building tree 121 of 183\n",
      "building tree 122 of 183\n",
      "building tree 123 of 183\n",
      "building tree 124 of 183\n",
      "building tree 125 of 183\n",
      "building tree 126 of 183\n",
      "building tree 127 of 183\n",
      "building tree 128 of 183\n",
      "building tree 129 of 183\n",
      "building tree 130 of 183\n",
      "building tree 131 of 183\n",
      "building tree 132 of 183\n",
      "building tree 133 of 183\n",
      "building tree 134 of 183\n",
      "building tree 135 of 183\n",
      "building tree 136 of 183\n"
     ]
    },
    {
     "name": "stderr",
     "output_type": "stream",
     "text": [
      "[Parallel(n_jobs=-1)]: Done 129 tasks      | elapsed:  1.5min\n"
     ]
    },
    {
     "name": "stdout",
     "output_type": "stream",
     "text": [
      "building tree 137 of 183\n",
      "building tree 138 of 183\n",
      "building tree 139 of 183\n",
      "building tree 140 of 183\n",
      "building tree 141 of 183\n",
      "building tree 142 of 183\n",
      "building tree 143 of 183\n",
      "building tree 144 of 183\n",
      "building tree 145 of 183\n",
      "building tree 146 of 183\n",
      "building tree 147 of 183\n",
      "building tree 148 of 183\n",
      "building tree 149 of 183\n",
      "building tree 150 of 183\n",
      "building tree 151 of 183\n",
      "building tree 152 of 183\n",
      "building tree 153 of 183\n",
      "building tree 154 of 183\n"
     ]
    },
    {
     "name": "stderr",
     "output_type": "stream",
     "text": [
      "[Parallel(n_jobs=-1)]: Done 146 tasks      | elapsed:  1.7min\n"
     ]
    },
    {
     "name": "stdout",
     "output_type": "stream",
     "text": [
      "building tree 155 of 183\n",
      "building tree 156 of 183\n",
      "building tree 157 of 183\n",
      "building tree 158 of 183\n",
      "building tree 159 of 183\n",
      "building tree 160 of 183\n",
      "building tree 161 of 183\n",
      "building tree 162 of 183\n",
      "building tree 163 of 183\n",
      "building tree 164 of 183\n",
      "building tree 165 of 183\n",
      "building tree 166 of 183\n",
      "building tree 167 of 183\n",
      "building tree 168 of 183\n",
      "building tree 169 of 183\n",
      "building tree 170 of 183\n",
      "building tree 171 of 183\n",
      "building tree 172 of 183\n"
     ]
    },
    {
     "name": "stderr",
     "output_type": "stream",
     "text": [
      "[Parallel(n_jobs=-1)]: Done 165 tasks      | elapsed:  1.9min\n"
     ]
    },
    {
     "name": "stdout",
     "output_type": "stream",
     "text": [
      "building tree 173 of 183\n",
      "building tree 174 of 183\n",
      "building tree 175 of 183\n",
      "building tree 176 of 183\n",
      "building tree 177 of 183\n",
      "building tree 178 of 183\n",
      "building tree 179 of 183\n",
      "building tree 180 of 183\n",
      "building tree 181 of 183\n",
      "building tree 182 of 183\n",
      "building tree 183 of 183\n"
     ]
    },
    {
     "name": "stderr",
     "output_type": "stream",
     "text": [
      "[Parallel(n_jobs=-1)]: Done 183 out of 183 | elapsed:  2.1min finished\n",
      "[Parallel(n_jobs=8)]: Done   2 tasks      | elapsed:    0.0s\n",
      "[Parallel(n_jobs=8)]: Done   9 tasks      | elapsed:    0.1s\n",
      "[Parallel(n_jobs=8)]: Done  16 tasks      | elapsed:    0.1s\n",
      "[Parallel(n_jobs=8)]: Done  25 tasks      | elapsed:    0.1s\n",
      "[Parallel(n_jobs=8)]: Done  34 tasks      | elapsed:    0.2s\n",
      "[Parallel(n_jobs=8)]: Done  45 tasks      | elapsed:    0.2s\n",
      "[Parallel(n_jobs=8)]: Done  56 tasks      | elapsed:    0.3s\n",
      "[Parallel(n_jobs=8)]: Done  69 tasks      | elapsed:    0.4s\n",
      "[Parallel(n_jobs=8)]: Done  82 tasks      | elapsed:    0.4s\n",
      "[Parallel(n_jobs=8)]: Done  97 tasks      | elapsed:    0.5s\n",
      "[Parallel(n_jobs=8)]: Done 112 tasks      | elapsed:    0.6s\n",
      "[Parallel(n_jobs=8)]: Done 129 tasks      | elapsed:    0.7s\n",
      "[Parallel(n_jobs=8)]: Done 146 tasks      | elapsed:    0.8s\n",
      "[Parallel(n_jobs=8)]: Done 165 tasks      | elapsed:    0.8s\n",
      "[Parallel(n_jobs=8)]: Done 183 out of 183 | elapsed:    0.9s finished\n",
      "[Parallel(n_jobs=8)]: Done   2 tasks      | elapsed:    0.1s\n",
      "[Parallel(n_jobs=8)]: Done   9 tasks      | elapsed:    0.1s\n",
      "[Parallel(n_jobs=8)]: Done  16 tasks      | elapsed:    0.2s\n",
      "[Parallel(n_jobs=8)]: Done  25 tasks      | elapsed:    0.3s\n",
      "[Parallel(n_jobs=8)]: Done  34 tasks      | elapsed:    0.4s\n",
      "[Parallel(n_jobs=8)]: Done  45 tasks      | elapsed:    0.5s\n",
      "[Parallel(n_jobs=8)]: Done  56 tasks      | elapsed:    0.6s\n",
      "[Parallel(n_jobs=8)]: Done  69 tasks      | elapsed:    0.7s\n",
      "[Parallel(n_jobs=8)]: Done  82 tasks      | elapsed:    0.9s\n",
      "[Parallel(n_jobs=8)]: Done  97 tasks      | elapsed:    1.0s\n",
      "[Parallel(n_jobs=8)]: Done 112 tasks      | elapsed:    1.2s\n",
      "[Parallel(n_jobs=8)]: Done 129 tasks      | elapsed:    1.4s\n",
      "[Parallel(n_jobs=8)]: Done 146 tasks      | elapsed:    1.5s\n",
      "[Parallel(n_jobs=8)]: Done 165 tasks      | elapsed:    1.7s\n",
      "[Parallel(n_jobs=8)]: Done 183 out of 183 | elapsed:    1.9s finished\n",
      "/home/justin/anaconda3/lib/python3.6/site-packages/sklearn/model_selection/_validation.py:437: DataConversionWarning: A column-vector y was passed when a 1d array was expected. Please change the shape of y to (n_samples,), for example using ravel().\n",
      "  estimator.fit(X_train, y_train, **fit_params)\n"
     ]
    },
    {
     "name": "stdout",
     "output_type": "stream",
     "text": [
      "building tree 2 of 94\n",
      "building tree 4 of 94building tree 5 of 94building tree 6 of 94building tree 3 of 94building tree 7 of 94building tree 8 of 94building tree 1 of 94\n",
      "\n",
      "\n",
      "\n",
      "\n",
      "\n",
      "\n",
      "building tree 9 of 94\n"
     ]
    },
    {
     "name": "stderr",
     "output_type": "stream",
     "text": [
      "[Parallel(n_jobs=-1)]: Done   2 tasks      | elapsed:    2.8s\n"
     ]
    },
    {
     "name": "stdout",
     "output_type": "stream",
     "text": [
      "building tree 10 of 94\n",
      "building tree 11 of 94\n",
      "building tree 12 of 94\n",
      "building tree 13 of 94\n",
      "building tree 14 of 94\n",
      "building tree 15 of 94\n",
      "building tree 16 of 94\n"
     ]
    },
    {
     "name": "stderr",
     "output_type": "stream",
     "text": [
      "[Parallel(n_jobs=-1)]: Done   9 tasks      | elapsed:    5.6s\n"
     ]
    },
    {
     "name": "stdout",
     "output_type": "stream",
     "text": [
      "building tree 17 of 94\n",
      "building tree 18 of 94\n",
      "building tree 19 of 94\n",
      "building tree 20 of 94\n",
      "building tree 21 of 94\n",
      "building tree 22 of 94\n",
      "building tree 23 of 94\n"
     ]
    },
    {
     "name": "stderr",
     "output_type": "stream",
     "text": [
      "[Parallel(n_jobs=-1)]: Done  16 tasks      | elapsed:    7.0s\n"
     ]
    },
    {
     "name": "stdout",
     "output_type": "stream",
     "text": [
      "building tree 24 of 94\n",
      "building tree 25 of 94\n",
      "building tree 26 of 94\n",
      "building tree 27 of 94\n",
      "building tree 28 of 94\n",
      "building tree 29 of 94\n",
      "building tree 30 of 94\n",
      "building tree 31 of 94\n",
      "building tree 32 of 94\n"
     ]
    },
    {
     "name": "stderr",
     "output_type": "stream",
     "text": [
      "[Parallel(n_jobs=-1)]: Done  25 tasks      | elapsed:   11.1s\n"
     ]
    },
    {
     "name": "stdout",
     "output_type": "stream",
     "text": [
      "building tree 33 of 94\n",
      "building tree 34 of 94\n",
      "building tree 35 of 94\n",
      "building tree 36 of 94\n",
      "building tree 37 of 94\n",
      "building tree 38 of 94\n",
      "building tree 39 of 94\n",
      "building tree 40 of 94\n",
      "building tree 41 of 94\n",
      "building tree 42 of 94\n"
     ]
    },
    {
     "name": "stderr",
     "output_type": "stream",
     "text": [
      "[Parallel(n_jobs=-1)]: Done  34 tasks      | elapsed:   14.4s\n"
     ]
    },
    {
     "name": "stdout",
     "output_type": "stream",
     "text": [
      "building tree 43 of 94\n",
      "building tree 44 of 94\n",
      "building tree 45 of 94\n",
      "building tree 46 of 94\n",
      "building tree 47 of 94\n",
      "building tree 48 of 94\n",
      "building tree 49 of 94\n",
      "building tree 50 of 94\n",
      "building tree 51 of 94\n",
      "building tree 52 of 94\n"
     ]
    },
    {
     "name": "stderr",
     "output_type": "stream",
     "text": [
      "[Parallel(n_jobs=-1)]: Done  45 tasks      | elapsed:   18.6s\n"
     ]
    },
    {
     "name": "stdout",
     "output_type": "stream",
     "text": [
      "building tree 53 of 94\n",
      "building tree 54 of 94\n",
      "building tree 55 of 94\n",
      "building tree 56 of 94\n",
      "building tree 57 of 94\n",
      "building tree 58 of 94\n",
      "building tree 59 of 94\n",
      "building tree 60 of 94\n",
      "building tree 61 of 94\n",
      "building tree 62 of 94\n",
      "building tree 63 of 94\n"
     ]
    },
    {
     "name": "stderr",
     "output_type": "stream",
     "text": [
      "[Parallel(n_jobs=-1)]: Done  56 tasks      | elapsed:   23.2s\n"
     ]
    },
    {
     "name": "stdout",
     "output_type": "stream",
     "text": [
      "building tree 64 of 94\n",
      "building tree 65 of 94\n",
      "building tree 66 of 94\n",
      "building tree 67 of 94\n",
      "building tree 68 of 94\n",
      "building tree 69 of 94\n",
      "building tree 70 of 94\n",
      "building tree 71 of 94\n",
      "building tree 72 of 94\n",
      "building tree 73 of 94\n",
      "building tree 74 of 94\n",
      "building tree 75 of 94\n",
      "building tree 76 of 94\n"
     ]
    },
    {
     "name": "stderr",
     "output_type": "stream",
     "text": [
      "[Parallel(n_jobs=-1)]: Done  69 tasks      | elapsed:   27.3s\n"
     ]
    },
    {
     "name": "stdout",
     "output_type": "stream",
     "text": [
      "building tree 77 of 94\n",
      "building tree 78 of 94\n",
      "building tree 79 of 94\n",
      "building tree 80 of 94\n",
      "building tree 81 of 94\n",
      "building tree 82 of 94\n",
      "building tree 83 of 94\n",
      "building tree 84 of 94\n",
      "building tree 85 of 94\n",
      "building tree 86 of 94\n",
      "building tree 87 of 94\n",
      "building tree 88 of 94\n",
      "building tree 89 of 94\n",
      "building tree 90 of 94\n",
      "building tree 91 of 94\n",
      "building tree 92 of 94\n",
      "building tree 93 of 94\n",
      "building tree 94 of 94\n"
     ]
    },
    {
     "name": "stderr",
     "output_type": "stream",
     "text": [
      "[Parallel(n_jobs=-1)]: Done  89 out of  94 | elapsed:   35.2s remaining:    2.0s\n",
      "[Parallel(n_jobs=-1)]: Done  94 out of  94 | elapsed:   36.6s finished\n",
      "[Parallel(n_jobs=8)]: Done   2 tasks      | elapsed:    0.0s\n",
      "[Parallel(n_jobs=8)]: Done   9 tasks      | elapsed:    0.0s\n",
      "[Parallel(n_jobs=8)]: Done  16 tasks      | elapsed:    0.1s\n",
      "[Parallel(n_jobs=8)]: Done  25 tasks      | elapsed:    0.1s\n",
      "[Parallel(n_jobs=8)]: Done  34 tasks      | elapsed:    0.1s\n",
      "[Parallel(n_jobs=8)]: Done  45 tasks      | elapsed:    0.2s\n",
      "[Parallel(n_jobs=8)]: Done  56 tasks      | elapsed:    0.2s\n",
      "[Parallel(n_jobs=8)]: Done  69 tasks      | elapsed:    0.3s\n",
      "[Parallel(n_jobs=8)]: Done  89 out of  94 | elapsed:    0.4s remaining:    0.0s\n",
      "[Parallel(n_jobs=8)]: Done  94 out of  94 | elapsed:    0.4s finished\n",
      "[Parallel(n_jobs=8)]: Done   2 tasks      | elapsed:    0.0s\n",
      "[Parallel(n_jobs=8)]: Done   9 tasks      | elapsed:    0.1s\n",
      "[Parallel(n_jobs=8)]: Done  16 tasks      | elapsed:    0.2s\n",
      "[Parallel(n_jobs=8)]: Done  25 tasks      | elapsed:    0.2s\n",
      "[Parallel(n_jobs=8)]: Done  34 tasks      | elapsed:    0.3s\n",
      "[Parallel(n_jobs=8)]: Done  45 tasks      | elapsed:    0.4s\n",
      "[Parallel(n_jobs=8)]: Done  56 tasks      | elapsed:    0.5s\n",
      "[Parallel(n_jobs=8)]: Done  69 tasks      | elapsed:    0.6s\n",
      "[Parallel(n_jobs=8)]: Done  89 out of  94 | elapsed:    0.7s remaining:    0.0s\n",
      "[Parallel(n_jobs=8)]: Done  94 out of  94 | elapsed:    0.7s finished\n",
      "/home/justin/anaconda3/lib/python3.6/site-packages/sklearn/model_selection/_validation.py:437: DataConversionWarning: A column-vector y was passed when a 1d array was expected. Please change the shape of y to (n_samples,), for example using ravel().\n",
      "  estimator.fit(X_train, y_train, **fit_params)\n"
     ]
    },
    {
     "name": "stdout",
     "output_type": "stream",
     "text": [
      "building tree 2 of 94building tree 4 of 94building tree 5 of 94building tree 6 of 94building tree 7 of 94building tree 3 of 94building tree 1 of 94\n",
      "\n",
      "\n",
      "\n",
      "\n",
      "\n",
      "\n",
      "building tree 8 of 94\n",
      "building tree 9 of 94\n",
      "building tree 10 of 94\n"
     ]
    },
    {
     "name": "stderr",
     "output_type": "stream",
     "text": [
      "[Parallel(n_jobs=-1)]: Done   2 tasks      | elapsed:    2.7s\n"
     ]
    },
    {
     "name": "stdout",
     "output_type": "stream",
     "text": [
      "building tree 11 of 94\n",
      "building tree 12 of 94\n",
      "building tree 13 of 94\n",
      "building tree 14 of 94\n",
      "building tree 15 of 94\n",
      "building tree 16 of 94\n"
     ]
    },
    {
     "name": "stderr",
     "output_type": "stream",
     "text": [
      "[Parallel(n_jobs=-1)]: Done   9 tasks      | elapsed:    5.4s\n"
     ]
    },
    {
     "name": "stdout",
     "output_type": "stream",
     "text": [
      "building tree 17 of 94\n",
      "building tree 18 of 94\n",
      "building tree 19 of 94\n",
      "building tree 20 of 94\n",
      "building tree 21 of 94\n",
      "building tree 22 of 94\n",
      "building tree 23 of 94\n",
      "building tree 24 of 94\n"
     ]
    },
    {
     "name": "stderr",
     "output_type": "stream",
     "text": [
      "[Parallel(n_jobs=-1)]: Done  16 tasks      | elapsed:    6.4s\n"
     ]
    },
    {
     "name": "stdout",
     "output_type": "stream",
     "text": [
      "building tree 25 of 94\n",
      "building tree 26 of 94\n",
      "building tree 27 of 94\n",
      "building tree 28 of 94\n",
      "building tree 29 of 94\n",
      "building tree 30 of 94\n",
      "building tree 31 of 94\n",
      "building tree 32 of 94\n"
     ]
    },
    {
     "name": "stderr",
     "output_type": "stream",
     "text": [
      "[Parallel(n_jobs=-1)]: Done  25 tasks      | elapsed:   10.8s\n"
     ]
    },
    {
     "name": "stdout",
     "output_type": "stream",
     "text": [
      "building tree 33 of 94\n",
      "building tree 34 of 94\n",
      "building tree 35 of 94\n",
      "building tree 36 of 94\n",
      "building tree 37 of 94\n",
      "building tree 38 of 94\n",
      "building tree 39 of 94\n",
      "building tree 40 of 94\n",
      "building tree 41 of 94\n"
     ]
    },
    {
     "name": "stderr",
     "output_type": "stream",
     "text": [
      "[Parallel(n_jobs=-1)]: Done  34 tasks      | elapsed:   14.8s\n"
     ]
    },
    {
     "name": "stdout",
     "output_type": "stream",
     "text": [
      "building tree 42 of 94\n",
      "building tree 43 of 94\n",
      "building tree 44 of 94\n",
      "building tree 45 of 94\n",
      "building tree 46 of 94\n",
      "building tree 47 of 94\n",
      "building tree 48 of 94\n",
      "building tree 49 of 94\n",
      "building tree 50 of 94\n",
      "building tree 51 of 94\n",
      "building tree 52 of 94\n",
      "building tree 53 of 94\n"
     ]
    },
    {
     "name": "stderr",
     "output_type": "stream",
     "text": [
      "[Parallel(n_jobs=-1)]: Done  45 tasks      | elapsed:   18.3s\n"
     ]
    },
    {
     "name": "stdout",
     "output_type": "stream",
     "text": [
      "building tree 54 of 94\n",
      "building tree 55 of 94\n",
      "building tree 56 of 94\n",
      "building tree 57 of 94\n",
      "building tree 58 of 94\n",
      "building tree 59 of 94\n",
      "building tree 60 of 94\n",
      "building tree 61 of 94\n",
      "building tree 62 of 94\n",
      "building tree 63 of 94\n"
     ]
    },
    {
     "name": "stderr",
     "output_type": "stream",
     "text": [
      "[Parallel(n_jobs=-1)]: Done  56 tasks      | elapsed:   23.1s\n"
     ]
    },
    {
     "name": "stdout",
     "output_type": "stream",
     "text": [
      "building tree 64 of 94\n",
      "building tree 65 of 94\n",
      "building tree 66 of 94\n",
      "building tree 67 of 94\n",
      "building tree 68 of 94\n",
      "building tree 69 of 94\n",
      "building tree 70 of 94\n",
      "building tree 71 of 94\n",
      "building tree 72 of 94\n",
      "building tree 73 of 94\n",
      "building tree 74 of 94\n",
      "building tree 75 of 94\n",
      "building tree 76 of 94\n",
      "building tree 77 of 94\n"
     ]
    },
    {
     "name": "stderr",
     "output_type": "stream",
     "text": [
      "[Parallel(n_jobs=-1)]: Done  69 tasks      | elapsed:   27.3s\n"
     ]
    },
    {
     "name": "stdout",
     "output_type": "stream",
     "text": [
      "building tree 78 of 94\n",
      "building tree 79 of 94\n",
      "building tree 80 of 94\n",
      "building tree 81 of 94\n",
      "building tree 82 of 94\n",
      "building tree 83 of 94\n",
      "building tree 84 of 94\n",
      "building tree 85 of 94\n",
      "building tree 86 of 94\n",
      "building tree 87 of 94\n",
      "building tree 88 of 94\n",
      "building tree 89 of 94\n",
      "building tree 90 of 94\n",
      "building tree 91 of 94\n",
      "building tree 92 of 94\n",
      "building tree 93 of 94\n",
      "building tree 94 of 94\n"
     ]
    },
    {
     "name": "stderr",
     "output_type": "stream",
     "text": [
      "[Parallel(n_jobs=-1)]: Done  89 out of  94 | elapsed:   35.1s remaining:    2.0s\n",
      "[Parallel(n_jobs=-1)]: Done  94 out of  94 | elapsed:   36.0s finished\n",
      "[Parallel(n_jobs=8)]: Done   2 tasks      | elapsed:    0.0s\n",
      "[Parallel(n_jobs=8)]: Done   9 tasks      | elapsed:    0.1s\n",
      "[Parallel(n_jobs=8)]: Done  16 tasks      | elapsed:    0.1s\n",
      "[Parallel(n_jobs=8)]: Done  25 tasks      | elapsed:    0.1s\n",
      "[Parallel(n_jobs=8)]: Done  34 tasks      | elapsed:    0.2s\n",
      "[Parallel(n_jobs=8)]: Done  45 tasks      | elapsed:    0.2s\n",
      "[Parallel(n_jobs=8)]: Done  56 tasks      | elapsed:    0.3s\n",
      "[Parallel(n_jobs=8)]: Done  69 tasks      | elapsed:    0.3s\n",
      "[Parallel(n_jobs=8)]: Done  89 out of  94 | elapsed:    0.4s remaining:    0.0s\n",
      "[Parallel(n_jobs=8)]: Done  94 out of  94 | elapsed:    0.4s finished\n",
      "[Parallel(n_jobs=8)]: Done   2 tasks      | elapsed:    0.0s\n",
      "[Parallel(n_jobs=8)]: Done   9 tasks      | elapsed:    0.1s\n",
      "[Parallel(n_jobs=8)]: Done  16 tasks      | elapsed:    0.2s\n",
      "[Parallel(n_jobs=8)]: Done  25 tasks      | elapsed:    0.2s\n",
      "[Parallel(n_jobs=8)]: Done  34 tasks      | elapsed:    0.3s\n",
      "[Parallel(n_jobs=8)]: Done  45 tasks      | elapsed:    0.4s\n",
      "[Parallel(n_jobs=8)]: Done  56 tasks      | elapsed:    0.5s\n",
      "[Parallel(n_jobs=8)]: Done  69 tasks      | elapsed:    0.5s\n",
      "[Parallel(n_jobs=8)]: Done  89 out of  94 | elapsed:    0.7s remaining:    0.0s\n",
      "[Parallel(n_jobs=8)]: Done  94 out of  94 | elapsed:    0.7s finished\n",
      "/home/justin/anaconda3/lib/python3.6/site-packages/sklearn/model_selection/_validation.py:437: DataConversionWarning: A column-vector y was passed when a 1d array was expected. Please change the shape of y to (n_samples,), for example using ravel().\n",
      "  estimator.fit(X_train, y_train, **fit_params)\n"
     ]
    },
    {
     "name": "stdout",
     "output_type": "stream",
     "text": [
      "building tree 2 of 94building tree 1 of 94building tree 4 of 94building tree 5 of 94building tree 6 of 94building tree 3 of 94building tree 7 of 94building tree 8 of 94\n",
      "\n",
      "\n",
      "\n",
      "\n",
      "\n",
      "\n",
      "\n",
      "building tree 9 of 94\n"
     ]
    },
    {
     "name": "stderr",
     "output_type": "stream",
     "text": [
      "[Parallel(n_jobs=-1)]: Done   2 tasks      | elapsed:    2.9s\n"
     ]
    },
    {
     "name": "stdout",
     "output_type": "stream",
     "text": [
      "building tree 10 of 94\n",
      "building tree 11 of 94\n",
      "building tree 12 of 94\n",
      "building tree 13 of 94\n",
      "building tree 14 of 94\n",
      "building tree 15 of 94\n",
      "building tree 16 of 94\n"
     ]
    },
    {
     "name": "stderr",
     "output_type": "stream",
     "text": [
      "[Parallel(n_jobs=-1)]: Done   9 tasks      | elapsed:    5.5s\n"
     ]
    },
    {
     "name": "stdout",
     "output_type": "stream",
     "text": [
      "building tree 17 of 94\n",
      "building tree 18 of 94\n",
      "building tree 19 of 94\n",
      "building tree 20 of 94\n",
      "building tree 21 of 94\n",
      "building tree 22 of 94\n",
      "building tree 23 of 94\n",
      "building tree 24 of 94\n"
     ]
    },
    {
     "name": "stderr",
     "output_type": "stream",
     "text": [
      "[Parallel(n_jobs=-1)]: Done  16 tasks      | elapsed:    6.7s\n"
     ]
    },
    {
     "name": "stdout",
     "output_type": "stream",
     "text": [
      "building tree 25 of 94\n",
      "building tree 26 of 94\n",
      "building tree 27 of 94\n",
      "building tree 28 of 94\n",
      "building tree 29 of 94\n",
      "building tree 30 of 94\n",
      "building tree 31 of 94\n",
      "building tree 32 of 94\n"
     ]
    },
    {
     "name": "stderr",
     "output_type": "stream",
     "text": [
      "[Parallel(n_jobs=-1)]: Done  25 tasks      | elapsed:   11.2s\n"
     ]
    },
    {
     "name": "stdout",
     "output_type": "stream",
     "text": [
      "building tree 33 of 94\n",
      "building tree 34 of 94\n",
      "building tree 35 of 94\n",
      "building tree 36 of 94\n",
      "building tree 37 of 94\n",
      "building tree 38 of 94\n",
      "building tree 39 of 94\n",
      "building tree 40 of 94\n",
      "building tree 41 of 94\n",
      "building tree 42 of 94\n"
     ]
    },
    {
     "name": "stderr",
     "output_type": "stream",
     "text": [
      "[Parallel(n_jobs=-1)]: Done  34 tasks      | elapsed:   14.3s\n"
     ]
    },
    {
     "name": "stdout",
     "output_type": "stream",
     "text": [
      "building tree 43 of 94\n",
      "building tree 44 of 94\n",
      "building tree 45 of 94\n",
      "building tree 46 of 94\n",
      "building tree 48 of 94\n",
      "building tree 47 of 94\n",
      "building tree 49 of 94\n",
      "building tree 50 of 94\n",
      "building tree 51 of 94\n",
      "building tree 52 of 94\n"
     ]
    },
    {
     "name": "stderr",
     "output_type": "stream",
     "text": [
      "[Parallel(n_jobs=-1)]: Done  45 tasks      | elapsed:   18.6s\n"
     ]
    },
    {
     "name": "stdout",
     "output_type": "stream",
     "text": [
      "building tree 53 of 94\n",
      "building tree 54 of 94\n",
      "building tree 55 of 94\n",
      "building tree 56 of 94\n",
      "building tree 57 of 94\n",
      "building tree 58 of 94\n",
      "building tree 59 of 94\n",
      "building tree 60 of 94\n",
      "building tree 61 of 94\n",
      "building tree 62 of 94\n",
      "building tree 63 of 94\n"
     ]
    },
    {
     "name": "stderr",
     "output_type": "stream",
     "text": [
      "[Parallel(n_jobs=-1)]: Done  56 tasks      | elapsed:   22.5s\n"
     ]
    },
    {
     "name": "stdout",
     "output_type": "stream",
     "text": [
      "building tree 64 of 94\n",
      "building tree 65 of 94\n",
      "building tree 66 of 94\n",
      "building tree 67 of 94\n",
      "building tree 68 of 94\n",
      "building tree 69 of 94\n",
      "building tree 70 of 94\n",
      "building tree 71 of 94\n",
      "building tree 72 of 94\n",
      "building tree 73 of 94\n",
      "building tree 74 of 94\n",
      "building tree 75 of 94\n",
      "building tree 76 of 94\n",
      "building tree 77 of 94\n"
     ]
    },
    {
     "name": "stderr",
     "output_type": "stream",
     "text": [
      "[Parallel(n_jobs=-1)]: Done  69 tasks      | elapsed:   27.9s\n"
     ]
    },
    {
     "name": "stdout",
     "output_type": "stream",
     "text": [
      "building tree 78 of 94\n",
      "building tree 79 of 94\n",
      "building tree 80 of 94\n",
      "building tree 81 of 94\n",
      "building tree 83 of 94\n",
      "building tree 82 of 94\n",
      "building tree 84 of 94\n",
      "building tree 85 of 94\n",
      "building tree 86 of 94\n",
      "building tree 87 of 94\n",
      "building tree 88 of 94\n",
      "building tree 89 of 94\n",
      "building tree 90 of 94\n",
      "building tree 91 of 94\n",
      "building tree 92 of 94\n",
      "building tree 93 of 94\n",
      "building tree 94 of 94\n"
     ]
    },
    {
     "name": "stderr",
     "output_type": "stream",
     "text": [
      "[Parallel(n_jobs=-1)]: Done  89 out of  94 | elapsed:   35.2s remaining:    2.0s\n",
      "[Parallel(n_jobs=-1)]: Done  94 out of  94 | elapsed:   36.3s finished\n",
      "[Parallel(n_jobs=8)]: Done   2 tasks      | elapsed:    0.0s\n",
      "[Parallel(n_jobs=8)]: Done   9 tasks      | elapsed:    0.1s\n",
      "[Parallel(n_jobs=8)]: Done  16 tasks      | elapsed:    0.1s\n",
      "[Parallel(n_jobs=8)]: Done  25 tasks      | elapsed:    0.1s\n",
      "[Parallel(n_jobs=8)]: Done  34 tasks      | elapsed:    0.2s\n",
      "[Parallel(n_jobs=8)]: Done  45 tasks      | elapsed:    0.2s\n",
      "[Parallel(n_jobs=8)]: Done  56 tasks      | elapsed:    0.3s\n",
      "[Parallel(n_jobs=8)]: Done  69 tasks      | elapsed:    0.3s\n",
      "[Parallel(n_jobs=8)]: Done  89 out of  94 | elapsed:    0.4s remaining:    0.0s\n",
      "[Parallel(n_jobs=8)]: Done  94 out of  94 | elapsed:    0.4s finished\n",
      "[Parallel(n_jobs=8)]: Done   2 tasks      | elapsed:    0.0s\n",
      "[Parallel(n_jobs=8)]: Done   9 tasks      | elapsed:    0.1s\n",
      "[Parallel(n_jobs=8)]: Done  16 tasks      | elapsed:    0.2s\n",
      "[Parallel(n_jobs=8)]: Done  25 tasks      | elapsed:    0.2s\n",
      "[Parallel(n_jobs=8)]: Done  34 tasks      | elapsed:    0.3s\n",
      "[Parallel(n_jobs=8)]: Done  45 tasks      | elapsed:    0.4s\n",
      "[Parallel(n_jobs=8)]: Done  56 tasks      | elapsed:    0.5s\n",
      "[Parallel(n_jobs=8)]: Done  69 tasks      | elapsed:    0.6s\n",
      "[Parallel(n_jobs=8)]: Done  89 out of  94 | elapsed:    0.7s remaining:    0.0s\n",
      "[Parallel(n_jobs=8)]: Done  94 out of  94 | elapsed:    0.8s finished\n",
      "/home/justin/anaconda3/lib/python3.6/site-packages/sklearn/model_selection/_validation.py:437: DataConversionWarning: A column-vector y was passed when a 1d array was expected. Please change the shape of y to (n_samples,), for example using ravel().\n",
      "  estimator.fit(X_train, y_train, **fit_params)\n"
     ]
    },
    {
     "name": "stdout",
     "output_type": "stream",
     "text": [
      "building tree 3 of 156\n",
      "building tree 4 of 156building tree 5 of 156building tree 1 of 156building tree 7 of 156building tree 8 of 156building tree 6 of 156building tree 2 of 156\n",
      "\n",
      "\n",
      "\n",
      "\n",
      "\n",
      "\n",
      "building tree 9 of 156\n",
      "building tree 10 of 156\n"
     ]
    },
    {
     "name": "stderr",
     "output_type": "stream",
     "text": [
      "[Parallel(n_jobs=-1)]: Done   2 tasks      | elapsed:   12.3s\n"
     ]
    },
    {
     "name": "stdout",
     "output_type": "stream",
     "text": [
      "building tree 11 of 156\n",
      "building tree 12 of 156\n",
      "building tree 13 of 156\n",
      "building tree 14 of 156\n",
      "building tree 15 of 156\n",
      "building tree 16 of 156\n"
     ]
    },
    {
     "name": "stderr",
     "output_type": "stream",
     "text": [
      "[Parallel(n_jobs=-1)]: Done   9 tasks      | elapsed:   25.0s\n"
     ]
    },
    {
     "name": "stdout",
     "output_type": "stream",
     "text": [
      "building tree 17 of 156\n",
      "building tree 18 of 156\n",
      "building tree 19 of 156\n",
      "building tree 20 of 156\n",
      "building tree 21 of 156\n",
      "building tree 22 of 156\n",
      "building tree 23 of 156\n"
     ]
    },
    {
     "name": "stderr",
     "output_type": "stream",
     "text": [
      "[Parallel(n_jobs=-1)]: Done  16 tasks      | elapsed:   28.1s\n"
     ]
    },
    {
     "name": "stdout",
     "output_type": "stream",
     "text": [
      "building tree 24 of 156\n",
      "building tree 25 of 156\n",
      "building tree 26 of 156\n",
      "building tree 27 of 156\n",
      "building tree 28 of 156\n",
      "building tree 29 of 156\n",
      "building tree 31 of 156\n",
      "building tree 30 of 156\n",
      "building tree 32 of 156\n"
     ]
    },
    {
     "name": "stderr",
     "output_type": "stream",
     "text": [
      "[Parallel(n_jobs=-1)]: Done  25 tasks      | elapsed:   50.7s\n"
     ]
    },
    {
     "name": "stdout",
     "output_type": "stream",
     "text": [
      "building tree 33 of 156\n",
      "building tree 34 of 156\n",
      "building tree 35 of 156\n",
      "building tree 36 of 156\n",
      "building tree 37 of 156\n",
      "building tree 38 of 156\n",
      "building tree 39 of 156\n",
      "building tree 40 of 156\n",
      "building tree 41 of 156\n"
     ]
    },
    {
     "name": "stderr",
     "output_type": "stream",
     "text": [
      "[Parallel(n_jobs=-1)]: Done  34 tasks      | elapsed:  1.1min\n"
     ]
    },
    {
     "name": "stdout",
     "output_type": "stream",
     "text": [
      "building tree 42 of 156\n",
      "building tree 43 of 156\n",
      "building tree 44 of 156\n",
      "building tree 45 of 156\n",
      "building tree 46 of 156\n",
      "building tree 47 of 156\n",
      "building tree 48 of 156\n",
      "building tree 49 of 156\n",
      "building tree 50 of 156\n",
      "building tree 51 of 156\n",
      "building tree 52 of 156\n"
     ]
    },
    {
     "name": "stderr",
     "output_type": "stream",
     "text": [
      "[Parallel(n_jobs=-1)]: Done  45 tasks      | elapsed:  1.3min\n"
     ]
    },
    {
     "name": "stdout",
     "output_type": "stream",
     "text": [
      "building tree 53 of 156\n",
      "building tree 54 of 156\n",
      "building tree 55 of 156\n",
      "building tree 56 of 156\n",
      "building tree 57 of 156\n",
      "building tree 58 of 156\n",
      "building tree 59 of 156\n",
      "building tree 60 of 156\n",
      "building tree 61 of 156\n",
      "building tree 62 of 156\n",
      "building tree 63 of 156\n",
      "building tree 64 of 156\n"
     ]
    },
    {
     "name": "stderr",
     "output_type": "stream",
     "text": [
      "[Parallel(n_jobs=-1)]: Done  56 tasks      | elapsed:  1.6min\n"
     ]
    },
    {
     "name": "stdout",
     "output_type": "stream",
     "text": [
      "building tree 65 of 156\n",
      "building tree 66 of 156\n",
      "building tree 67 of 156\n",
      "building tree 68 of 156\n",
      "building tree 69 of 156\n",
      "building tree 70 of 156\n",
      "building tree 71 of 156\n",
      "building tree 72 of 156\n",
      "building tree 73 of 156\n",
      "building tree 74 of 156\n",
      "building tree 75 of 156\n",
      "building tree 76 of 156\n"
     ]
    },
    {
     "name": "stderr",
     "output_type": "stream",
     "text": [
      "[Parallel(n_jobs=-1)]: Done  69 tasks      | elapsed:  2.0min\n"
     ]
    },
    {
     "name": "stdout",
     "output_type": "stream",
     "text": [
      "building tree 77 of 156\n",
      "building tree 78 of 156\n",
      "building tree 79 of 156\n",
      "building tree 80 of 156\n",
      "building tree 81 of 156\n",
      "building tree 82 of 156\n",
      "building tree 83 of 156\n",
      "building tree 84 of 156\n",
      "building tree 85 of 156\n",
      "building tree 86 of 156\n",
      "building tree 87 of 156\n",
      "building tree 88 of 156\n",
      "building tree 89 of 156\n"
     ]
    },
    {
     "name": "stderr",
     "output_type": "stream",
     "text": [
      "[Parallel(n_jobs=-1)]: Done  82 tasks      | elapsed:  2.4min\n"
     ]
    },
    {
     "name": "stdout",
     "output_type": "stream",
     "text": [
      "building tree 90 of 156\n",
      "building tree 91 of 156\n",
      "building tree 92 of 156\n",
      "building tree 93 of 156\n",
      "building tree 94 of 156\n",
      "building tree 95 of 156\n",
      "building tree 96 of 156\n",
      "building tree 97 of 156\n",
      "building tree 98 of 156\n",
      "building tree 99 of 156\n",
      "building tree 100 of 156\n",
      "building tree 101 of 156\n",
      "building tree 102 of 156\n",
      "building tree 103 of 156\n",
      "building tree 104 of 156\n"
     ]
    },
    {
     "name": "stderr",
     "output_type": "stream",
     "text": [
      "[Parallel(n_jobs=-1)]: Done  97 tasks      | elapsed:  2.8min\n"
     ]
    },
    {
     "name": "stdout",
     "output_type": "stream",
     "text": [
      "building tree 105 of 156\n",
      "building tree 106 of 156\n",
      "building tree 107 of 156\n",
      "building tree 108 of 156\n",
      "building tree 109 of 156\n",
      "building tree 110 of 156\n",
      "building tree 111 of 156\n",
      "building tree 112 of 156\n",
      "building tree 113 of 156\n",
      "building tree 114 of 156\n",
      "building tree 115 of 156\n",
      "building tree 116 of 156\n",
      "building tree 117 of 156\n",
      "building tree 118 of 156\n",
      "building tree 119 of 156\n"
     ]
    },
    {
     "name": "stderr",
     "output_type": "stream",
     "text": [
      "[Parallel(n_jobs=-1)]: Done 112 tasks      | elapsed:  3.2min\n"
     ]
    },
    {
     "name": "stdout",
     "output_type": "stream",
     "text": [
      "building tree 120 of 156\n",
      "building tree 121 of 156\n",
      "building tree 122 of 156\n",
      "building tree 123 of 156\n",
      "building tree 124 of 156\n",
      "building tree 125 of 156\n",
      "building tree 126 of 156\n",
      "building tree 127 of 156\n",
      "building tree 128 of 156\n",
      "building tree 129 of 156\n",
      "building tree 130 of 156\n",
      "building tree 131 of 156\n",
      "building tree 132 of 156\n",
      "building tree 133 of 156\n",
      "building tree 134 of 156\n",
      "building tree 135 of 156\n",
      "building tree 136 of 156\n"
     ]
    },
    {
     "name": "stderr",
     "output_type": "stream",
     "text": [
      "[Parallel(n_jobs=-1)]: Done 129 tasks      | elapsed:  3.7min\n"
     ]
    },
    {
     "name": "stdout",
     "output_type": "stream",
     "text": [
      "building tree 137 of 156\n",
      "building tree 138 of 156\n",
      "building tree 139 of 156\n",
      "building tree 140 of 156\n",
      "building tree 141 of 156\n",
      "building tree 142 of 156\n",
      "building tree 143 of 156\n",
      "building tree 144 of 156\n",
      "building tree 145 of 156\n",
      "building tree 146 of 156\n",
      "building tree 147 of 156\n",
      "building tree 148 of 156\n",
      "building tree 149 of 156\n",
      "building tree 150 of 156\n",
      "building tree 151 of 156\n",
      "building tree 152 of 156\n",
      "building tree 153 of 156\n",
      "building tree 154 of 156\n",
      "building tree 155 of 156\n",
      "building tree 156 of 156\n"
     ]
    },
    {
     "name": "stderr",
     "output_type": "stream",
     "text": [
      "[Parallel(n_jobs=-1)]: Done 156 out of 156 | elapsed:  4.4min finished\n",
      "[Parallel(n_jobs=8)]: Done   2 tasks      | elapsed:    0.0s\n",
      "[Parallel(n_jobs=8)]: Done   9 tasks      | elapsed:    0.1s\n",
      "[Parallel(n_jobs=8)]: Done  16 tasks      | elapsed:    0.1s\n",
      "[Parallel(n_jobs=8)]: Done  25 tasks      | elapsed:    0.1s\n",
      "[Parallel(n_jobs=8)]: Done  34 tasks      | elapsed:    0.2s\n",
      "[Parallel(n_jobs=8)]: Done  45 tasks      | elapsed:    0.2s\n",
      "[Parallel(n_jobs=8)]: Done  56 tasks      | elapsed:    0.3s\n",
      "[Parallel(n_jobs=8)]: Done  69 tasks      | elapsed:    0.3s\n",
      "[Parallel(n_jobs=8)]: Done  82 tasks      | elapsed:    0.4s\n",
      "[Parallel(n_jobs=8)]: Done  97 tasks      | elapsed:    0.4s\n",
      "[Parallel(n_jobs=8)]: Done 112 tasks      | elapsed:    0.5s\n",
      "[Parallel(n_jobs=8)]: Done 129 tasks      | elapsed:    0.6s\n",
      "[Parallel(n_jobs=8)]: Done 156 out of 156 | elapsed:    0.7s finished\n",
      "[Parallel(n_jobs=8)]: Done   2 tasks      | elapsed:    0.1s\n",
      "[Parallel(n_jobs=8)]: Done   9 tasks      | elapsed:    0.1s\n",
      "[Parallel(n_jobs=8)]: Done  16 tasks      | elapsed:    0.2s\n",
      "[Parallel(n_jobs=8)]: Done  25 tasks      | elapsed:    0.3s\n",
      "[Parallel(n_jobs=8)]: Done  34 tasks      | elapsed:    0.3s\n",
      "[Parallel(n_jobs=8)]: Done  45 tasks      | elapsed:    0.4s\n",
      "[Parallel(n_jobs=8)]: Done  56 tasks      | elapsed:    0.5s\n",
      "[Parallel(n_jobs=8)]: Done  69 tasks      | elapsed:    0.7s\n",
      "[Parallel(n_jobs=8)]: Done  82 tasks      | elapsed:    0.8s\n",
      "[Parallel(n_jobs=8)]: Done  97 tasks      | elapsed:    0.9s\n",
      "[Parallel(n_jobs=8)]: Done 112 tasks      | elapsed:    1.1s\n",
      "[Parallel(n_jobs=8)]: Done 129 tasks      | elapsed:    1.2s\n",
      "[Parallel(n_jobs=8)]: Done 156 out of 156 | elapsed:    1.5s finished\n",
      "/home/justin/anaconda3/lib/python3.6/site-packages/sklearn/model_selection/_validation.py:437: DataConversionWarning: A column-vector y was passed when a 1d array was expected. Please change the shape of y to (n_samples,), for example using ravel().\n",
      "  estimator.fit(X_train, y_train, **fit_params)\n"
     ]
    },
    {
     "name": "stdout",
     "output_type": "stream",
     "text": [
      "building tree 3 of 156\n",
      "building tree 4 of 156building tree 5 of 156building tree 2 of 156building tree 1 of 156building tree 7 of 156building tree 6 of 156building tree 8 of 156\n",
      "\n",
      "\n",
      "\n",
      "\n",
      "\n",
      "\n",
      "building tree 9 of 156\n",
      "building tree 10 of 156\n",
      "building tree 11 of 156\n"
     ]
    },
    {
     "name": "stderr",
     "output_type": "stream",
     "text": [
      "[Parallel(n_jobs=-1)]: Done   2 tasks      | elapsed:   12.1s\n"
     ]
    },
    {
     "name": "stdout",
     "output_type": "stream",
     "text": [
      "building tree 12 of 156\n",
      "building tree 13 of 156\n",
      "building tree 14 of 156\n",
      "building tree 15 of 156\n",
      "building tree 16 of 156\n"
     ]
    },
    {
     "name": "stderr",
     "output_type": "stream",
     "text": [
      "[Parallel(n_jobs=-1)]: Done   9 tasks      | elapsed:   24.9s\n"
     ]
    },
    {
     "name": "stdout",
     "output_type": "stream",
     "text": [
      "building tree 17 of 156\n",
      "building tree 18 of 156\n",
      "building tree 19 of 156\n",
      "building tree 20 of 156\n",
      "building tree 21 of 156\n",
      "building tree 22 of 156\n",
      "building tree 23 of 156\n"
     ]
    },
    {
     "name": "stderr",
     "output_type": "stream",
     "text": [
      "[Parallel(n_jobs=-1)]: Done  16 tasks      | elapsed:   26.9s\n"
     ]
    },
    {
     "name": "stdout",
     "output_type": "stream",
     "text": [
      "building tree 24 of 156\n",
      "building tree 25 of 156\n",
      "building tree 26 of 156\n",
      "building tree 27 of 156\n",
      "building tree 28 of 156\n",
      "building tree 29 of 156\n",
      "building tree 30 of 156\n",
      "building tree 31 of 156\n",
      "building tree 32 of 156\n"
     ]
    },
    {
     "name": "stderr",
     "output_type": "stream",
     "text": [
      "[Parallel(n_jobs=-1)]: Done  25 tasks      | elapsed:   50.4s\n"
     ]
    },
    {
     "name": "stdout",
     "output_type": "stream",
     "text": [
      "building tree 33 of 156\n",
      "building tree 34 of 156\n",
      "building tree 35 of 156\n",
      "building tree 36 of 156\n",
      "building tree 37 of 156\n",
      "building tree 38 of 156\n",
      "building tree 39 of 156\n",
      "building tree 40 of 156\n",
      "building tree 41 of 156\n",
      "building tree 42 of 156\n"
     ]
    },
    {
     "name": "stderr",
     "output_type": "stream",
     "text": [
      "[Parallel(n_jobs=-1)]: Done  34 tasks      | elapsed:  1.0min\n"
     ]
    },
    {
     "name": "stdout",
     "output_type": "stream",
     "text": [
      "building tree 43 of 156\n",
      "building tree 44 of 156\n",
      "building tree 45 of 156\n",
      "building tree 46 of 156\n",
      "building tree 47 of 156\n",
      "building tree 48 of 156\n",
      "building tree 49 of 156\n",
      "building tree 50 of 156\n",
      "building tree 51 of 156\n",
      "building tree 52 of 156\n"
     ]
    },
    {
     "name": "stderr",
     "output_type": "stream",
     "text": [
      "[Parallel(n_jobs=-1)]: Done  45 tasks      | elapsed:  1.3min\n"
     ]
    },
    {
     "name": "stdout",
     "output_type": "stream",
     "text": [
      "building tree 53 of 156\n",
      "building tree 54 of 156\n",
      "building tree 55 of 156\n",
      "building tree 56 of 156\n",
      "building tree 57 of 156\n",
      "building tree 58 of 156\n",
      "building tree 59 of 156\n",
      "building tree 60 of 156\n",
      "building tree 61 of 156\n",
      "building tree 62 of 156\n",
      "building tree 63 of 156\n"
     ]
    },
    {
     "name": "stderr",
     "output_type": "stream",
     "text": [
      "[Parallel(n_jobs=-1)]: Done  56 tasks      | elapsed:  1.6min\n"
     ]
    },
    {
     "name": "stdout",
     "output_type": "stream",
     "text": [
      "building tree 64 of 156\n",
      "building tree 65 of 156\n",
      "building tree 66 of 156\n",
      "building tree 67 of 156\n",
      "building tree 68 of 156\n",
      "building tree 69 of 156\n",
      "building tree 70 of 156\n",
      "building tree 71 of 156\n",
      "building tree 72 of 156\n",
      "building tree 73 of 156\n",
      "building tree 74 of 156\n",
      "building tree 75 of 156\n",
      "building tree 76 of 156\n"
     ]
    },
    {
     "name": "stderr",
     "output_type": "stream",
     "text": [
      "[Parallel(n_jobs=-1)]: Done  69 tasks      | elapsed:  1.9min\n"
     ]
    },
    {
     "name": "stdout",
     "output_type": "stream",
     "text": [
      "building tree 77 of 156\n",
      "building tree 78 of 156\n",
      "building tree 79 of 156\n",
      "building tree 80 of 156\n",
      "building tree 81 of 156\n",
      "building tree 82 of 156\n",
      "building tree 83 of 156\n",
      "building tree 84 of 156\n",
      "building tree 85 of 156\n",
      "building tree 86 of 156\n",
      "building tree 87 of 156\n",
      "building tree 88 of 156\n",
      "building tree 89 of 156\n"
     ]
    },
    {
     "name": "stderr",
     "output_type": "stream",
     "text": [
      "[Parallel(n_jobs=-1)]: Done  82 tasks      | elapsed:  2.3min\n"
     ]
    },
    {
     "name": "stdout",
     "output_type": "stream",
     "text": [
      "building tree 90 of 156\n",
      "building tree 91 of 156\n",
      "building tree 92 of 156\n",
      "building tree 93 of 156\n",
      "building tree 94 of 156\n",
      "building tree 95 of 156\n",
      "building tree 96 of 156\n",
      "building tree 97 of 156\n",
      "building tree 98 of 156\n",
      "building tree 99 of 156\n",
      "building tree 100 of 156\n",
      "building tree 101 of 156\n",
      "building tree 102 of 156\n",
      "building tree 103 of 156\n",
      "building tree 104 of 156\n"
     ]
    },
    {
     "name": "stderr",
     "output_type": "stream",
     "text": [
      "[Parallel(n_jobs=-1)]: Done  97 tasks      | elapsed:  2.7min\n"
     ]
    },
    {
     "name": "stdout",
     "output_type": "stream",
     "text": [
      "building tree 105 of 156\n",
      "building tree 106 of 156\n",
      "building tree 107 of 156\n",
      "building tree 108 of 156\n",
      "building tree 109 of 156\n",
      "building tree 110 of 156\n",
      "building tree 111 of 156\n",
      "building tree 112 of 156\n",
      "building tree 113 of 156\n",
      "building tree 114 of 156\n",
      "building tree 115 of 156\n",
      "building tree 116 of 156\n",
      "building tree 117 of 156\n",
      "building tree 118 of 156\n",
      "building tree 119 of 156\n"
     ]
    },
    {
     "name": "stderr",
     "output_type": "stream",
     "text": [
      "[Parallel(n_jobs=-1)]: Done 112 tasks      | elapsed:  3.1min\n"
     ]
    },
    {
     "name": "stdout",
     "output_type": "stream",
     "text": [
      "building tree 120 of 156\n",
      "building tree 121 of 156\n",
      "building tree 122 of 156\n",
      "building tree 123 of 156\n",
      "building tree 124 of 156\n",
      "building tree 125 of 156\n",
      "building tree 126 of 156\n",
      "building tree 127 of 156\n",
      "building tree 128 of 156\n",
      "building tree 129 of 156\n",
      "building tree 130 of 156\n",
      "building tree 131 of 156\n",
      "building tree 132 of 156\n",
      "building tree 133 of 156\n",
      "building tree 134 of 156\n",
      "building tree 135 of 156\n",
      "building tree 136 of 156\n"
     ]
    },
    {
     "name": "stderr",
     "output_type": "stream",
     "text": [
      "[Parallel(n_jobs=-1)]: Done 129 tasks      | elapsed:  3.6min\n"
     ]
    },
    {
     "name": "stdout",
     "output_type": "stream",
     "text": [
      "building tree 137 of 156\n",
      "building tree 138 of 156\n",
      "building tree 139 of 156\n",
      "building tree 140 of 156\n",
      "building tree 141 of 156\n",
      "building tree 142 of 156\n",
      "building tree 143 of 156\n",
      "building tree 144 of 156\n",
      "building tree 145 of 156\n",
      "building tree 146 of 156\n",
      "building tree 147 of 156\n",
      "building tree 148 of 156\n",
      "building tree 149 of 156\n",
      "building tree 150 of 156\n",
      "building tree 151 of 156\n",
      "building tree 152 of 156\n",
      "building tree 153 of 156\n",
      "building tree 154 of 156\n",
      "building tree 155 of 156\n",
      "building tree 156 of 156\n"
     ]
    },
    {
     "name": "stderr",
     "output_type": "stream",
     "text": [
      "[Parallel(n_jobs=-1)]: Done 156 out of 156 | elapsed:  4.2min finished\n",
      "[Parallel(n_jobs=8)]: Done   2 tasks      | elapsed:    0.0s\n",
      "[Parallel(n_jobs=8)]: Done   9 tasks      | elapsed:    0.1s\n",
      "[Parallel(n_jobs=8)]: Done  16 tasks      | elapsed:    0.1s\n",
      "[Parallel(n_jobs=8)]: Done  25 tasks      | elapsed:    0.1s\n",
      "[Parallel(n_jobs=8)]: Done  34 tasks      | elapsed:    0.2s\n",
      "[Parallel(n_jobs=8)]: Done  45 tasks      | elapsed:    0.2s\n",
      "[Parallel(n_jobs=8)]: Done  56 tasks      | elapsed:    0.3s\n",
      "[Parallel(n_jobs=8)]: Done  69 tasks      | elapsed:    0.3s\n",
      "[Parallel(n_jobs=8)]: Done  82 tasks      | elapsed:    0.4s\n",
      "[Parallel(n_jobs=8)]: Done  97 tasks      | elapsed:    0.4s\n",
      "[Parallel(n_jobs=8)]: Done 112 tasks      | elapsed:    0.5s\n",
      "[Parallel(n_jobs=8)]: Done 129 tasks      | elapsed:    0.6s\n",
      "[Parallel(n_jobs=8)]: Done 156 out of 156 | elapsed:    0.7s finished\n",
      "[Parallel(n_jobs=8)]: Done   2 tasks      | elapsed:    0.1s\n",
      "[Parallel(n_jobs=8)]: Done   9 tasks      | elapsed:    0.1s\n",
      "[Parallel(n_jobs=8)]: Done  16 tasks      | elapsed:    0.2s\n",
      "[Parallel(n_jobs=8)]: Done  25 tasks      | elapsed:    0.3s\n",
      "[Parallel(n_jobs=8)]: Done  34 tasks      | elapsed:    0.3s\n",
      "[Parallel(n_jobs=8)]: Done  45 tasks      | elapsed:    0.4s\n",
      "[Parallel(n_jobs=8)]: Done  56 tasks      | elapsed:    0.5s\n",
      "[Parallel(n_jobs=8)]: Done  69 tasks      | elapsed:    0.6s\n",
      "[Parallel(n_jobs=8)]: Done  82 tasks      | elapsed:    0.7s\n",
      "[Parallel(n_jobs=8)]: Done  97 tasks      | elapsed:    0.9s\n",
      "[Parallel(n_jobs=8)]: Done 112 tasks      | elapsed:    1.0s\n",
      "[Parallel(n_jobs=8)]: Done 129 tasks      | elapsed:    1.1s\n",
      "[Parallel(n_jobs=8)]: Done 156 out of 156 | elapsed:    1.4s finished\n",
      "/home/justin/anaconda3/lib/python3.6/site-packages/sklearn/model_selection/_validation.py:437: DataConversionWarning: A column-vector y was passed when a 1d array was expected. Please change the shape of y to (n_samples,), for example using ravel().\n",
      "  estimator.fit(X_train, y_train, **fit_params)\n"
     ]
    },
    {
     "name": "stdout",
     "output_type": "stream",
     "text": [
      "building tree 2 of 156building tree 1 of 156building tree 3 of 156building tree 4 of 156building tree 5 of 156building tree 7 of 156building tree 8 of 156building tree 6 of 156\n",
      "\n",
      "\n",
      "\n",
      "\n",
      "\n",
      "\n",
      "\n",
      "building tree 9 of 156\n"
     ]
    },
    {
     "name": "stderr",
     "output_type": "stream",
     "text": [
      "[Parallel(n_jobs=-1)]: Done   2 tasks      | elapsed:   12.6s\n"
     ]
    },
    {
     "name": "stdout",
     "output_type": "stream",
     "text": [
      "building tree 10 of 156\n",
      "building tree 11 of 156\n",
      "building tree 12 of 156\n",
      "building tree 13 of 156\n",
      "building tree 14 of 156\n",
      "building tree 15 of 156\n",
      "building tree 16 of 156\n"
     ]
    },
    {
     "name": "stderr",
     "output_type": "stream",
     "text": [
      "[Parallel(n_jobs=-1)]: Done   9 tasks      | elapsed:   23.6s\n"
     ]
    },
    {
     "name": "stdout",
     "output_type": "stream",
     "text": [
      "building tree 17 of 156\n",
      "building tree 18 of 156\n",
      "building tree 19 of 156\n",
      "building tree 20 of 156\n",
      "building tree 21 of 156\n",
      "building tree 22 of 156\n",
      "building tree 23 of 156\n"
     ]
    },
    {
     "name": "stderr",
     "output_type": "stream",
     "text": [
      "[Parallel(n_jobs=-1)]: Done  16 tasks      | elapsed:   28.9s\n"
     ]
    },
    {
     "name": "stdout",
     "output_type": "stream",
     "text": [
      "building tree 24 of 156\n",
      "building tree 25 of 156\n",
      "building tree 26 of 156\n",
      "building tree 27 of 156\n",
      "building tree 28 of 156\n",
      "building tree 29 of 156\n",
      "building tree 30 of 156\n",
      "building tree 31 of 156\n",
      "building tree 32 of 156\n"
     ]
    },
    {
     "name": "stderr",
     "output_type": "stream",
     "text": [
      "[Parallel(n_jobs=-1)]: Done  25 tasks      | elapsed:   48.3s\n"
     ]
    },
    {
     "name": "stdout",
     "output_type": "stream",
     "text": [
      "building tree 33 of 156\n",
      "building tree 34 of 156\n",
      "building tree 35 of 156\n",
      "building tree 36 of 156\n",
      "building tree 37 of 156\n",
      "building tree 38 of 156\n",
      "building tree 39 of 156\n",
      "building tree 40 of 156\n",
      "building tree 41 of 156\n"
     ]
    },
    {
     "name": "stderr",
     "output_type": "stream",
     "text": [
      "[Parallel(n_jobs=-1)]: Done  34 tasks      | elapsed:  1.1min\n"
     ]
    },
    {
     "name": "stdout",
     "output_type": "stream",
     "text": [
      "building tree 42 of 156\n",
      "building tree 43 of 156\n",
      "building tree 44 of 156\n",
      "building tree 45 of 156\n",
      "building tree 46 of 156\n",
      "building tree 47 of 156\n",
      "building tree 48 of 156\n",
      "building tree 49 of 156\n",
      "building tree 50 of 156\n",
      "building tree 51 of 156\n",
      "building tree 52 of 156\n",
      "building tree 53 of 156\n"
     ]
    },
    {
     "name": "stderr",
     "output_type": "stream",
     "text": [
      "[Parallel(n_jobs=-1)]: Done  45 tasks      | elapsed:  1.3min\n"
     ]
    },
    {
     "name": "stdout",
     "output_type": "stream",
     "text": [
      "building tree 54 of 156\n",
      "building tree 55 of 156\n",
      "building tree 56 of 156\n",
      "building tree 57 of 156\n",
      "building tree 58 of 156\n",
      "building tree 59 of 156\n",
      "building tree 60 of 156\n",
      "building tree 61 of 156\n",
      "building tree 62 of 156\n",
      "building tree 63 of 156\n"
     ]
    },
    {
     "name": "stderr",
     "output_type": "stream",
     "text": [
      "[Parallel(n_jobs=-1)]: Done  56 tasks      | elapsed:  1.6min\n"
     ]
    },
    {
     "name": "stdout",
     "output_type": "stream",
     "text": [
      "building tree 64 of 156\n",
      "building tree 65 of 156\n",
      "building tree 66 of 156\n",
      "building tree 67 of 156\n",
      "building tree 68 of 156\n",
      "building tree 69 of 156\n",
      "building tree 70 of 156\n",
      "building tree 71 of 156\n",
      "building tree 72 of 156\n",
      "building tree 73 of 156\n",
      "building tree 74 of 156\n",
      "building tree 75 of 156\n",
      "building tree 76 of 156\n"
     ]
    },
    {
     "name": "stderr",
     "output_type": "stream",
     "text": [
      "[Parallel(n_jobs=-1)]: Done  69 tasks      | elapsed:  2.0min\n"
     ]
    },
    {
     "name": "stdout",
     "output_type": "stream",
     "text": [
      "building tree 77 of 156\n",
      "building tree 78 of 156\n",
      "building tree 79 of 156\n",
      "building tree 80 of 156\n",
      "building tree 81 of 156\n",
      "building tree 82 of 156\n",
      "building tree 83 of 156\n",
      "building tree 84 of 156\n",
      "building tree 85 of 156\n",
      "building tree 86 of 156\n",
      "building tree 87 of 156\n",
      "building tree 88 of 156\n",
      "building tree 89 of 156\n"
     ]
    },
    {
     "name": "stderr",
     "output_type": "stream",
     "text": [
      "[Parallel(n_jobs=-1)]: Done  82 tasks      | elapsed:  2.4min\n"
     ]
    },
    {
     "name": "stdout",
     "output_type": "stream",
     "text": [
      "building tree 90 of 156\n",
      "building tree 91 of 156\n",
      "building tree 92 of 156\n",
      "building tree 93 of 156\n",
      "building tree 94 of 156\n",
      "building tree 95 of 156\n",
      "building tree 96 of 156\n",
      "building tree 97 of 156\n",
      "building tree 98 of 156\n",
      "building tree 99 of 156\n",
      "building tree 100 of 156\n",
      "building tree 101 of 156\n",
      "building tree 102 of 156\n",
      "building tree 103 of 156\n",
      "building tree 104 of 156\n"
     ]
    },
    {
     "name": "stderr",
     "output_type": "stream",
     "text": [
      "[Parallel(n_jobs=-1)]: Done  97 tasks      | elapsed:  2.8min\n"
     ]
    },
    {
     "name": "stdout",
     "output_type": "stream",
     "text": [
      "building tree 105 of 156\n",
      "building tree 106 of 156\n",
      "building tree 107 of 156\n",
      "building tree 108 of 156\n",
      "building tree 109 of 156\n",
      "building tree 110 of 156\n",
      "building tree 111 of 156\n",
      "building tree 112 of 156\n",
      "building tree 113 of 156\n",
      "building tree 114 of 156\n",
      "building tree 115 of 156\n",
      "building tree 116 of 156\n",
      "building tree 117 of 156\n",
      "building tree 118 of 156\n",
      "building tree 119 of 156\n"
     ]
    },
    {
     "name": "stderr",
     "output_type": "stream",
     "text": [
      "[Parallel(n_jobs=-1)]: Done 112 tasks      | elapsed:  3.2min\n"
     ]
    },
    {
     "name": "stdout",
     "output_type": "stream",
     "text": [
      "building tree 120 of 156\n",
      "building tree 121 of 156\n",
      "building tree 122 of 156\n",
      "building tree 123 of 156\n",
      "building tree 124 of 156\n",
      "building tree 125 of 156\n",
      "building tree 126 of 156\n",
      "building tree 127 of 156\n",
      "building tree 128 of 156\n",
      "building tree 129 of 156\n",
      "building tree 130 of 156\n",
      "building tree 131 of 156\n",
      "building tree 132 of 156\n",
      "building tree 133 of 156\n",
      "building tree 134 of 156\n",
      "building tree 135 of 156\n",
      "building tree 136 of 156\n"
     ]
    },
    {
     "name": "stderr",
     "output_type": "stream",
     "text": [
      "[Parallel(n_jobs=-1)]: Done 129 tasks      | elapsed:  3.7min\n"
     ]
    },
    {
     "name": "stdout",
     "output_type": "stream",
     "text": [
      "building tree 137 of 156\n",
      "building tree 138 of 156\n",
      "building tree 139 of 156\n",
      "building tree 140 of 156\n",
      "building tree 141 of 156\n",
      "building tree 142 of 156\n",
      "building tree 143 of 156\n",
      "building tree 144 of 156\n",
      "building tree 145 of 156\n",
      "building tree 146 of 156\n",
      "building tree 147 of 156\n",
      "building tree 148 of 156\n",
      "building tree 149 of 156\n",
      "building tree 150 of 156\n",
      "building tree 151 of 156\n",
      "building tree 152 of 156\n",
      "building tree 153 of 156\n",
      "building tree 154 of 156\n",
      "building tree 155 of 156\n",
      "building tree 156 of 156\n"
     ]
    },
    {
     "name": "stderr",
     "output_type": "stream",
     "text": [
      "[Parallel(n_jobs=-1)]: Done 156 out of 156 | elapsed:  4.3min finished\n",
      "[Parallel(n_jobs=8)]: Done   2 tasks      | elapsed:    0.0s\n",
      "[Parallel(n_jobs=8)]: Done   9 tasks      | elapsed:    0.1s\n",
      "[Parallel(n_jobs=8)]: Done  16 tasks      | elapsed:    0.1s\n",
      "[Parallel(n_jobs=8)]: Done  25 tasks      | elapsed:    0.1s\n",
      "[Parallel(n_jobs=8)]: Done  34 tasks      | elapsed:    0.2s\n",
      "[Parallel(n_jobs=8)]: Done  45 tasks      | elapsed:    0.2s\n",
      "[Parallel(n_jobs=8)]: Done  56 tasks      | elapsed:    0.3s\n",
      "[Parallel(n_jobs=8)]: Done  69 tasks      | elapsed:    0.3s\n",
      "[Parallel(n_jobs=8)]: Done  82 tasks      | elapsed:    0.4s\n",
      "[Parallel(n_jobs=8)]: Done  97 tasks      | elapsed:    0.4s\n",
      "[Parallel(n_jobs=8)]: Done 112 tasks      | elapsed:    0.5s\n",
      "[Parallel(n_jobs=8)]: Done 129 tasks      | elapsed:    0.6s\n",
      "[Parallel(n_jobs=8)]: Done 156 out of 156 | elapsed:    0.7s finished\n",
      "[Parallel(n_jobs=8)]: Done   2 tasks      | elapsed:    0.1s\n",
      "[Parallel(n_jobs=8)]: Done   9 tasks      | elapsed:    0.1s\n",
      "[Parallel(n_jobs=8)]: Done  16 tasks      | elapsed:    0.2s\n",
      "[Parallel(n_jobs=8)]: Done  25 tasks      | elapsed:    0.3s\n",
      "[Parallel(n_jobs=8)]: Done  34 tasks      | elapsed:    0.3s\n",
      "[Parallel(n_jobs=8)]: Done  45 tasks      | elapsed:    0.5s\n",
      "[Parallel(n_jobs=8)]: Done  56 tasks      | elapsed:    0.5s\n",
      "[Parallel(n_jobs=8)]: Done  69 tasks      | elapsed:    0.7s\n",
      "[Parallel(n_jobs=8)]: Done  82 tasks      | elapsed:    0.8s\n",
      "[Parallel(n_jobs=8)]: Done  97 tasks      | elapsed:    0.9s\n",
      "[Parallel(n_jobs=8)]: Done 112 tasks      | elapsed:    1.0s\n",
      "[Parallel(n_jobs=8)]: Done 129 tasks      | elapsed:    1.2s\n",
      "[Parallel(n_jobs=8)]: Done 156 out of 156 | elapsed:    1.4s finished\n",
      "/home/justin/anaconda3/lib/python3.6/site-packages/sklearn/model_selection/_validation.py:437: DataConversionWarning: A column-vector y was passed when a 1d array was expected. Please change the shape of y to (n_samples,), for example using ravel().\n",
      "  estimator.fit(X_train, y_train, **fit_params)\n"
     ]
    },
    {
     "name": "stdout",
     "output_type": "stream",
     "text": [
      "building tree 2 of 99building tree 3 of 99building tree 4 of 99building tree 5 of 99building tree 6 of 99building tree 7 of 99building tree 8 of 99building tree 1 of 99\n",
      "\n",
      "\n",
      "\n",
      "\n",
      "\n",
      "\n",
      "\n",
      "building tree 9 of 99\n",
      "building tree 10 of 99\n",
      "building tree 11 of 99\n"
     ]
    },
    {
     "name": "stderr",
     "output_type": "stream",
     "text": [
      "[Parallel(n_jobs=-1)]: Done   2 tasks      | elapsed:    4.1s\n"
     ]
    },
    {
     "name": "stdout",
     "output_type": "stream",
     "text": [
      "building tree 12 of 99\n",
      "building tree 13 of 99\n",
      "building tree 14 of 99\n",
      "building tree 15 of 99\n",
      "building tree 16 of 99\n"
     ]
    },
    {
     "name": "stderr",
     "output_type": "stream",
     "text": [
      "[Parallel(n_jobs=-1)]: Done   9 tasks      | elapsed:    8.4s\n"
     ]
    },
    {
     "name": "stdout",
     "output_type": "stream",
     "text": [
      "building tree 17 of 99\n",
      "building tree 18 of 99\n",
      "building tree 19 of 99\n",
      "building tree 20 of 99\n",
      "building tree 21 of 99\n",
      "building tree 22 of 99\n",
      "building tree 23 of 99\n",
      "building tree 24 of 99\n"
     ]
    },
    {
     "name": "stderr",
     "output_type": "stream",
     "text": [
      "[Parallel(n_jobs=-1)]: Done  16 tasks      | elapsed:   10.1s\n"
     ]
    },
    {
     "name": "stdout",
     "output_type": "stream",
     "text": [
      "building tree 25 of 99\n",
      "building tree 26 of 99\n",
      "building tree 27 of 99\n",
      "building tree 28 of 99\n",
      "building tree 29 of 99\n",
      "building tree 30 of 99\n",
      "building tree 31 of 99\n",
      "building tree 32 of 99\n"
     ]
    },
    {
     "name": "stderr",
     "output_type": "stream",
     "text": [
      "[Parallel(n_jobs=-1)]: Done  25 tasks      | elapsed:   17.0s\n"
     ]
    },
    {
     "name": "stdout",
     "output_type": "stream",
     "text": [
      "building tree 33 of 99\n",
      "building tree 34 of 99\n",
      "building tree 35 of 99\n",
      "building tree 36 of 99\n",
      "building tree 37 of 99\n",
      "building tree 38 of 99\n",
      "building tree 39 of 99\n",
      "building tree 40 of 99\n",
      "building tree 41 of 99\n"
     ]
    },
    {
     "name": "stderr",
     "output_type": "stream",
     "text": [
      "[Parallel(n_jobs=-1)]: Done  34 tasks      | elapsed:   21.9s\n"
     ]
    },
    {
     "name": "stdout",
     "output_type": "stream",
     "text": [
      "building tree 42 of 99\n",
      "building tree 43 of 99\n",
      "building tree 44 of 99\n",
      "building tree 45 of 99\n",
      "building tree 46 of 99\n",
      "building tree 47 of 99\n",
      "building tree 48 of 99\n",
      "building tree 49 of 99\n",
      "building tree 50 of 99\n",
      "building tree 51 of 99\n",
      "building tree 52 of 99\n"
     ]
    },
    {
     "name": "stderr",
     "output_type": "stream",
     "text": [
      "[Parallel(n_jobs=-1)]: Done  45 tasks      | elapsed:   27.9s\n"
     ]
    },
    {
     "name": "stdout",
     "output_type": "stream",
     "text": [
      "building tree 53 of 99\n",
      "building tree 54 of 99\n",
      "building tree 55 of 99\n",
      "building tree 56 of 99\n",
      "building tree 57 of 99\n",
      "building tree 58 of 99\n",
      "building tree 59 of 99\n",
      "building tree 60 of 99\n",
      "building tree 61 of 99\n",
      "building tree 62 of 99\n",
      "building tree 63 of 99\n"
     ]
    },
    {
     "name": "stderr",
     "output_type": "stream",
     "text": [
      "[Parallel(n_jobs=-1)]: Done  56 tasks      | elapsed:   34.2s\n"
     ]
    },
    {
     "name": "stdout",
     "output_type": "stream",
     "text": [
      "building tree 64 of 99\n",
      "building tree 65 of 99\n",
      "building tree 66 of 99\n",
      "building tree 67 of 99\n",
      "building tree 68 of 99\n",
      "building tree 69 of 99\n",
      "building tree 70 of 99\n",
      "building tree 71 of 99\n",
      "building tree 72 of 99\n",
      "building tree 73 of 99\n",
      "building tree 74 of 99\n",
      "building tree 75 of 99\n",
      "building tree 76 of 99\n"
     ]
    },
    {
     "name": "stderr",
     "output_type": "stream",
     "text": [
      "[Parallel(n_jobs=-1)]: Done  69 tasks      | elapsed:   41.5s\n"
     ]
    },
    {
     "name": "stdout",
     "output_type": "stream",
     "text": [
      "building tree 77 of 99\n",
      "building tree 78 of 99\n",
      "building tree 79 of 99\n",
      "building tree 80 of 99\n",
      "building tree 81 of 99\n",
      "building tree 82 of 99\n",
      "building tree 83 of 99\n",
      "building tree 84 of 99\n",
      "building tree 85 of 99\n",
      "building tree 86 of 99\n",
      "building tree 87 of 99\n",
      "building tree 88 of 99\n",
      "building tree 89 of 99\n"
     ]
    },
    {
     "name": "stderr",
     "output_type": "stream",
     "text": [
      "[Parallel(n_jobs=-1)]: Done  82 tasks      | elapsed:   49.5s\n"
     ]
    },
    {
     "name": "stdout",
     "output_type": "stream",
     "text": [
      "building tree 90 of 99\n",
      "building tree 91 of 99\n",
      "building tree 92 of 99\n",
      "building tree 93 of 99\n",
      "building tree 94 of 99\n",
      "building tree 95 of 99\n",
      "building tree 96 of 99\n",
      "building tree 97 of 99\n",
      "building tree 98 of 99\n",
      "building tree 99 of 99\n"
     ]
    },
    {
     "name": "stderr",
     "output_type": "stream",
     "text": [
      "[Parallel(n_jobs=-1)]: Done  94 out of  99 | elapsed:   55.3s remaining:    2.9s\n",
      "[Parallel(n_jobs=-1)]: Done  99 out of  99 | elapsed:   57.2s finished\n",
      "[Parallel(n_jobs=8)]: Done   2 tasks      | elapsed:    0.1s\n",
      "[Parallel(n_jobs=8)]: Done   9 tasks      | elapsed:    0.1s\n",
      "[Parallel(n_jobs=8)]: Done  16 tasks      | elapsed:    0.2s\n",
      "[Parallel(n_jobs=8)]: Done  25 tasks      | elapsed:    0.2s\n",
      "[Parallel(n_jobs=8)]: Done  34 tasks      | elapsed:    0.3s\n",
      "[Parallel(n_jobs=8)]: Done  45 tasks      | elapsed:    0.3s\n",
      "[Parallel(n_jobs=8)]: Done  56 tasks      | elapsed:    0.4s\n",
      "[Parallel(n_jobs=8)]: Done  69 tasks      | elapsed:    0.5s\n",
      "[Parallel(n_jobs=8)]: Done  82 tasks      | elapsed:    0.6s\n",
      "[Parallel(n_jobs=8)]: Done  94 out of  99 | elapsed:    0.6s remaining:    0.0s\n",
      "[Parallel(n_jobs=8)]: Done  99 out of  99 | elapsed:    0.7s finished\n",
      "[Parallel(n_jobs=8)]: Done   2 tasks      | elapsed:    0.1s\n",
      "[Parallel(n_jobs=8)]: Done   9 tasks      | elapsed:    0.2s\n",
      "[Parallel(n_jobs=8)]: Done  16 tasks      | elapsed:    0.2s\n",
      "[Parallel(n_jobs=8)]: Done  25 tasks      | elapsed:    0.4s\n",
      "[Parallel(n_jobs=8)]: Done  34 tasks      | elapsed:    0.5s\n",
      "[Parallel(n_jobs=8)]: Done  45 tasks      | elapsed:    0.6s\n",
      "[Parallel(n_jobs=8)]: Done  56 tasks      | elapsed:    0.8s\n",
      "[Parallel(n_jobs=8)]: Done  69 tasks      | elapsed:    0.9s\n",
      "[Parallel(n_jobs=8)]: Done  82 tasks      | elapsed:    1.1s\n",
      "[Parallel(n_jobs=8)]: Done  94 out of  99 | elapsed:    1.3s remaining:    0.1s\n",
      "[Parallel(n_jobs=8)]: Done  99 out of  99 | elapsed:    1.3s finished\n",
      "/home/justin/anaconda3/lib/python3.6/site-packages/sklearn/model_selection/_validation.py:437: DataConversionWarning: A column-vector y was passed when a 1d array was expected. Please change the shape of y to (n_samples,), for example using ravel().\n",
      "  estimator.fit(X_train, y_train, **fit_params)\n"
     ]
    },
    {
     "name": "stdout",
     "output_type": "stream",
     "text": [
      "building tree 1 of 99building tree 3 of 99building tree 4 of 99building tree 5 of 99building tree 2 of 99building tree 6 of 99building tree 7 of 99building tree 8 of 99\n",
      "\n",
      "\n",
      "\n",
      "\n",
      "\n",
      "\n",
      "\n",
      "building tree 9 of 99\n",
      "building tree 10 of 99\n"
     ]
    },
    {
     "name": "stderr",
     "output_type": "stream",
     "text": [
      "[Parallel(n_jobs=-1)]: Done   2 tasks      | elapsed:    4.2s\n"
     ]
    },
    {
     "name": "stdout",
     "output_type": "stream",
     "text": [
      "building tree 11 of 99\n",
      "building tree 12 of 99\n",
      "building tree 13 of 99\n",
      "building tree 14 of 99\n",
      "building tree 15 of 99\n",
      "building tree 16 of 99\n"
     ]
    },
    {
     "name": "stderr",
     "output_type": "stream",
     "text": [
      "[Parallel(n_jobs=-1)]: Done   9 tasks      | elapsed:    8.5s\n"
     ]
    },
    {
     "name": "stdout",
     "output_type": "stream",
     "text": [
      "building tree 17 of 99\n",
      "building tree 18 of 99\n",
      "building tree 19 of 99\n",
      "building tree 20 of 99\n",
      "building tree 21 of 99\n",
      "building tree 22 of 99\n",
      "building tree 23 of 99\n"
     ]
    },
    {
     "name": "stderr",
     "output_type": "stream",
     "text": [
      "[Parallel(n_jobs=-1)]: Done  16 tasks      | elapsed:    9.9s\n"
     ]
    },
    {
     "name": "stdout",
     "output_type": "stream",
     "text": [
      "building tree 24 of 99\n",
      "building tree 25 of 99\n",
      "building tree 26 of 99\n",
      "building tree 27 of 99\n",
      "building tree 28 of 99\n",
      "building tree 29 of 99\n",
      "building tree 30 of 99\n",
      "building tree 31 of 99\n",
      "building tree 32 of 99\n"
     ]
    },
    {
     "name": "stderr",
     "output_type": "stream",
     "text": [
      "[Parallel(n_jobs=-1)]: Done  25 tasks      | elapsed:   17.4s\n"
     ]
    },
    {
     "name": "stdout",
     "output_type": "stream",
     "text": [
      "building tree 33 of 99\n",
      "building tree 34 of 99\n",
      "building tree 35 of 99\n",
      "building tree 36 of 99\n",
      "building tree 37 of 99\n",
      "building tree 38 of 99\n",
      "building tree 39 of 99\n",
      "building tree 40 of 99\n",
      "building tree 41 of 99\n"
     ]
    },
    {
     "name": "stderr",
     "output_type": "stream",
     "text": [
      "[Parallel(n_jobs=-1)]: Done  34 tasks      | elapsed:   22.6s\n"
     ]
    },
    {
     "name": "stdout",
     "output_type": "stream",
     "text": [
      "building tree 42 of 99\n",
      "building tree 43 of 99\n",
      "building tree 44 of 99\n",
      "building tree 45 of 99\n",
      "building tree 46 of 99\n",
      "building tree 47 of 99\n",
      "building tree 48 of 99\n",
      "building tree 49 of 99\n",
      "building tree 50 of 99\n",
      "building tree 51 of 99\n",
      "building tree 52 of 99\n"
     ]
    },
    {
     "name": "stderr",
     "output_type": "stream",
     "text": [
      "[Parallel(n_jobs=-1)]: Done  45 tasks      | elapsed:   27.5s\n"
     ]
    },
    {
     "name": "stdout",
     "output_type": "stream",
     "text": [
      "building tree 53 of 99\n",
      "building tree 54 of 99\n",
      "building tree 55 of 99\n",
      "building tree 56 of 99\n",
      "building tree 57 of 99\n",
      "building tree 58 of 99\n",
      "building tree 59 of 99\n",
      "building tree 60 of 99\n",
      "building tree 61 of 99\n",
      "building tree 62 of 99\n",
      "building tree 63 of 99\n"
     ]
    },
    {
     "name": "stderr",
     "output_type": "stream",
     "text": [
      "[Parallel(n_jobs=-1)]: Done  56 tasks      | elapsed:   34.9s\n"
     ]
    },
    {
     "name": "stdout",
     "output_type": "stream",
     "text": [
      "building tree 64 of 99\n",
      "building tree 65 of 99\n",
      "building tree 66 of 99\n",
      "building tree 67 of 99\n",
      "building tree 68 of 99\n",
      "building tree 69 of 99\n",
      "building tree 70 of 99\n",
      "building tree 71 of 99\n",
      "building tree 72 of 99\n",
      "building tree 73 of 99\n",
      "building tree 74 of 99\n",
      "building tree 75 of 99\n",
      "building tree 76 of 99\n"
     ]
    },
    {
     "name": "stderr",
     "output_type": "stream",
     "text": [
      "[Parallel(n_jobs=-1)]: Done  69 tasks      | elapsed:   41.2s\n"
     ]
    },
    {
     "name": "stdout",
     "output_type": "stream",
     "text": [
      "building tree 77 of 99\n",
      "building tree 78 of 99\n",
      "building tree 79 of 99\n",
      "building tree 80 of 99\n",
      "building tree 81 of 99\n",
      "building tree 82 of 99\n",
      "building tree 83 of 99\n",
      "building tree 84 of 99\n",
      "building tree 85 of 99\n",
      "building tree 86 of 99\n",
      "building tree 87 of 99\n",
      "building tree 88 of 99\n",
      "building tree 89 of 99\n"
     ]
    },
    {
     "name": "stderr",
     "output_type": "stream",
     "text": [
      "[Parallel(n_jobs=-1)]: Done  82 tasks      | elapsed:   49.8s\n"
     ]
    },
    {
     "name": "stdout",
     "output_type": "stream",
     "text": [
      "building tree 90 of 99\n",
      "building tree 91 of 99\n",
      "building tree 92 of 99\n",
      "building tree 93 of 99\n",
      "building tree 94 of 99\n",
      "building tree 95 of 99\n",
      "building tree 96 of 99\n",
      "building tree 97 of 99\n",
      "building tree 98 of 99\n",
      "building tree 99 of 99\n"
     ]
    },
    {
     "name": "stderr",
     "output_type": "stream",
     "text": [
      "[Parallel(n_jobs=-1)]: Done  94 out of  99 | elapsed:   55.0s remaining:    2.9s\n",
      "[Parallel(n_jobs=-1)]: Done  99 out of  99 | elapsed:   57.4s finished\n",
      "[Parallel(n_jobs=8)]: Done   2 tasks      | elapsed:    0.1s\n",
      "[Parallel(n_jobs=8)]: Done   9 tasks      | elapsed:    0.1s\n",
      "[Parallel(n_jobs=8)]: Done  16 tasks      | elapsed:    0.1s\n",
      "[Parallel(n_jobs=8)]: Done  25 tasks      | elapsed:    0.2s\n",
      "[Parallel(n_jobs=8)]: Done  34 tasks      | elapsed:    0.3s\n",
      "[Parallel(n_jobs=8)]: Done  45 tasks      | elapsed:    0.3s\n",
      "[Parallel(n_jobs=8)]: Done  56 tasks      | elapsed:    0.4s\n",
      "[Parallel(n_jobs=8)]: Done  69 tasks      | elapsed:    0.5s\n",
      "[Parallel(n_jobs=8)]: Done  82 tasks      | elapsed:    0.6s\n",
      "[Parallel(n_jobs=8)]: Done  94 out of  99 | elapsed:    0.6s remaining:    0.0s\n",
      "[Parallel(n_jobs=8)]: Done  99 out of  99 | elapsed:    0.7s finished\n",
      "[Parallel(n_jobs=8)]: Done   2 tasks      | elapsed:    0.1s\n",
      "[Parallel(n_jobs=8)]: Done   9 tasks      | elapsed:    0.2s\n",
      "[Parallel(n_jobs=8)]: Done  16 tasks      | elapsed:    0.3s\n",
      "[Parallel(n_jobs=8)]: Done  25 tasks      | elapsed:    0.4s\n",
      "[Parallel(n_jobs=8)]: Done  34 tasks      | elapsed:    0.4s\n",
      "[Parallel(n_jobs=8)]: Done  45 tasks      | elapsed:    0.6s\n",
      "[Parallel(n_jobs=8)]: Done  56 tasks      | elapsed:    0.8s\n",
      "[Parallel(n_jobs=8)]: Done  69 tasks      | elapsed:    0.9s\n",
      "[Parallel(n_jobs=8)]: Done  82 tasks      | elapsed:    1.1s\n",
      "[Parallel(n_jobs=8)]: Done  94 out of  99 | elapsed:    1.3s remaining:    0.1s\n",
      "[Parallel(n_jobs=8)]: Done  99 out of  99 | elapsed:    1.3s finished\n",
      "/home/justin/anaconda3/lib/python3.6/site-packages/sklearn/model_selection/_validation.py:437: DataConversionWarning: A column-vector y was passed when a 1d array was expected. Please change the shape of y to (n_samples,), for example using ravel().\n",
      "  estimator.fit(X_train, y_train, **fit_params)\n"
     ]
    },
    {
     "name": "stdout",
     "output_type": "stream",
     "text": [
      "building tree 1 of 99building tree 3 of 99building tree 5 of 99building tree 4 of 99building tree 2 of 99building tree 6 of 99building tree 7 of 99building tree 8 of 99\n",
      "\n",
      "\n",
      "\n",
      "\n",
      "\n",
      "\n",
      "\n",
      "building tree 9 of 99\n"
     ]
    },
    {
     "name": "stderr",
     "output_type": "stream",
     "text": [
      "[Parallel(n_jobs=-1)]: Done   2 tasks      | elapsed:    4.4s\n"
     ]
    },
    {
     "name": "stdout",
     "output_type": "stream",
     "text": [
      "building tree 10 of 99\n",
      "building tree 11 of 99\n",
      "building tree 12 of 99\n",
      "building tree 13 of 99\n",
      "building tree 14 of 99\n",
      "building tree 15 of 99\n",
      "building tree 16 of 99\n"
     ]
    },
    {
     "name": "stderr",
     "output_type": "stream",
     "text": [
      "[Parallel(n_jobs=-1)]: Done   9 tasks      | elapsed:    8.4s\n"
     ]
    },
    {
     "name": "stdout",
     "output_type": "stream",
     "text": [
      "building tree 17 of 99\n",
      "building tree 18 of 99\n",
      "building tree 19 of 99\n",
      "building tree 21 of 99\n",
      "building tree 20 of 99\n",
      "building tree 22 of 99\n",
      "building tree 23 of 99\n"
     ]
    },
    {
     "name": "stderr",
     "output_type": "stream",
     "text": [
      "[Parallel(n_jobs=-1)]: Done  16 tasks      | elapsed:    9.9s\n"
     ]
    },
    {
     "name": "stdout",
     "output_type": "stream",
     "text": [
      "building tree 24 of 99\n",
      "building tree 25 of 99\n",
      "building tree 26 of 99\n",
      "building tree 27 of 99\n",
      "building tree 28 of 99\n",
      "building tree 29 of 99\n",
      "building tree 30 of 99\n",
      "building tree 31 of 99\n",
      "building tree 32 of 99\n"
     ]
    },
    {
     "name": "stderr",
     "output_type": "stream",
     "text": [
      "[Parallel(n_jobs=-1)]: Done  25 tasks      | elapsed:   16.7s\n"
     ]
    },
    {
     "name": "stdout",
     "output_type": "stream",
     "text": [
      "building tree 33 of 99\n",
      "building tree 34 of 99\n",
      "building tree 35 of 99\n",
      "building tree 36 of 99\n",
      "building tree 37 of 99\n",
      "building tree 38 of 99\n",
      "building tree 39 of 99\n",
      "building tree 40 of 99\n",
      "building tree 41 of 99\n"
     ]
    },
    {
     "name": "stderr",
     "output_type": "stream",
     "text": [
      "[Parallel(n_jobs=-1)]: Done  34 tasks      | elapsed:   21.8s\n"
     ]
    },
    {
     "name": "stdout",
     "output_type": "stream",
     "text": [
      "building tree 42 of 99\n",
      "building tree 43 of 99\n",
      "building tree 44 of 99\n",
      "building tree 45 of 99\n",
      "building tree 46 of 99\n",
      "building tree 47 of 99\n",
      "building tree 48 of 99\n",
      "building tree 49 of 99\n",
      "building tree 50 of 99\n",
      "building tree 51 of 99\n",
      "building tree 52 of 99\n",
      "building tree 53 of 99\n"
     ]
    },
    {
     "name": "stderr",
     "output_type": "stream",
     "text": [
      "[Parallel(n_jobs=-1)]: Done  45 tasks      | elapsed:   27.9s\n"
     ]
    },
    {
     "name": "stdout",
     "output_type": "stream",
     "text": [
      "building tree 54 of 99\n",
      "building tree 55 of 99\n",
      "building tree 56 of 99\n",
      "building tree 57 of 99\n",
      "building tree 58 of 99\n",
      "building tree 59 of 99\n",
      "building tree 60 of 99\n",
      "building tree 61 of 99\n",
      "building tree 62 of 99\n",
      "building tree 63 of 99\n"
     ]
    },
    {
     "name": "stderr",
     "output_type": "stream",
     "text": [
      "[Parallel(n_jobs=-1)]: Done  56 tasks      | elapsed:   34.0s\n"
     ]
    },
    {
     "name": "stdout",
     "output_type": "stream",
     "text": [
      "building tree 64 of 99\n",
      "building tree 65 of 99\n",
      "building tree 66 of 99\n",
      "building tree 67 of 99\n",
      "building tree 68 of 99\n",
      "building tree 69 of 99\n",
      "building tree 70 of 99\n",
      "building tree 71 of 99\n",
      "building tree 72 of 99\n",
      "building tree 73 of 99\n",
      "building tree 74 of 99\n",
      "building tree 75 of 99\n",
      "building tree 76 of 99\n",
      "building tree 77 of 99\n"
     ]
    },
    {
     "name": "stderr",
     "output_type": "stream",
     "text": [
      "[Parallel(n_jobs=-1)]: Done  69 tasks      | elapsed:   41.8s\n"
     ]
    },
    {
     "name": "stdout",
     "output_type": "stream",
     "text": [
      "building tree 78 of 99\n",
      "building tree 79 of 99\n",
      "building tree 80 of 99\n",
      "building tree 81 of 99\n",
      "building tree 82 of 99\n",
      "building tree 83 of 99\n",
      "building tree 84 of 99\n",
      "building tree 85 of 99\n",
      "building tree 86 of 99\n",
      "building tree 87 of 99\n",
      "building tree 88 of 99\n",
      "building tree 89 of 99\n"
     ]
    },
    {
     "name": "stderr",
     "output_type": "stream",
     "text": [
      "[Parallel(n_jobs=-1)]: Done  82 tasks      | elapsed:   50.2s\n"
     ]
    },
    {
     "name": "stdout",
     "output_type": "stream",
     "text": [
      "building tree 90 of 99\n",
      "building tree 91 of 99\n",
      "building tree 92 of 99\n",
      "building tree 93 of 99\n",
      "building tree 94 of 99\n",
      "building tree 95 of 99\n",
      "building tree 96 of 99\n",
      "building tree 97 of 99\n",
      "building tree 98 of 99\n",
      "building tree 99 of 99\n"
     ]
    },
    {
     "name": "stderr",
     "output_type": "stream",
     "text": [
      "[Parallel(n_jobs=-1)]: Done  94 out of  99 | elapsed:   56.2s remaining:    3.0s\n",
      "[Parallel(n_jobs=-1)]: Done  99 out of  99 | elapsed:   58.0s finished\n",
      "[Parallel(n_jobs=8)]: Done   2 tasks      | elapsed:    0.0s\n",
      "[Parallel(n_jobs=8)]: Done   9 tasks      | elapsed:    0.1s\n",
      "[Parallel(n_jobs=8)]: Done  16 tasks      | elapsed:    0.1s\n",
      "[Parallel(n_jobs=8)]: Done  25 tasks      | elapsed:    0.2s\n",
      "[Parallel(n_jobs=8)]: Done  34 tasks      | elapsed:    0.2s\n",
      "[Parallel(n_jobs=8)]: Done  45 tasks      | elapsed:    0.3s\n",
      "[Parallel(n_jobs=8)]: Done  56 tasks      | elapsed:    0.4s\n",
      "[Parallel(n_jobs=8)]: Done  69 tasks      | elapsed:    0.5s\n",
      "[Parallel(n_jobs=8)]: Done  82 tasks      | elapsed:    0.5s\n",
      "[Parallel(n_jobs=8)]: Done  94 out of  99 | elapsed:    0.6s remaining:    0.0s\n",
      "[Parallel(n_jobs=8)]: Done  99 out of  99 | elapsed:    0.6s finished\n",
      "[Parallel(n_jobs=8)]: Done   2 tasks      | elapsed:    0.1s\n",
      "[Parallel(n_jobs=8)]: Done   9 tasks      | elapsed:    0.2s\n",
      "[Parallel(n_jobs=8)]: Done  16 tasks      | elapsed:    0.3s\n",
      "[Parallel(n_jobs=8)]: Done  25 tasks      | elapsed:    0.4s\n",
      "[Parallel(n_jobs=8)]: Done  34 tasks      | elapsed:    0.5s\n",
      "[Parallel(n_jobs=8)]: Done  45 tasks      | elapsed:    0.7s\n",
      "[Parallel(n_jobs=8)]: Done  56 tasks      | elapsed:    0.8s\n",
      "[Parallel(n_jobs=8)]: Done  69 tasks      | elapsed:    1.0s\n",
      "[Parallel(n_jobs=8)]: Done  82 tasks      | elapsed:    1.1s\n",
      "[Parallel(n_jobs=8)]: Done  94 out of  99 | elapsed:    1.3s remaining:    0.1s\n",
      "[Parallel(n_jobs=8)]: Done  99 out of  99 | elapsed:    1.4s finished\n",
      "/home/justin/anaconda3/lib/python3.6/site-packages/sklearn/model_selection/_validation.py:437: DataConversionWarning: A column-vector y was passed when a 1d array was expected. Please change the shape of y to (n_samples,), for example using ravel().\n",
      "  estimator.fit(X_train, y_train, **fit_params)\n"
     ]
    },
    {
     "name": "stdout",
     "output_type": "stream",
     "text": [
      "building tree 2 of 185building tree 3 of 185building tree 5 of 185building tree 6 of 185building tree 7 of 185building tree 1 of 185building tree 8 of 185building tree 4 of 185\n",
      "\n",
      "\n",
      "\n",
      "\n",
      "\n",
      "\n",
      "\n",
      "building tree 9 of 185\n"
     ]
    },
    {
     "name": "stderr",
     "output_type": "stream",
     "text": [
      "[Parallel(n_jobs=-1)]: Done   2 tasks      | elapsed:   10.2s\n"
     ]
    },
    {
     "name": "stdout",
     "output_type": "stream",
     "text": [
      "building tree 10 of 185\n",
      "building tree 11 of 185\n",
      "building tree 13 of 185\n",
      "building tree 12 of 185\n",
      "building tree 14 of 185\n",
      "building tree 15 of 185\n",
      "building tree 16 of 185\n"
     ]
    },
    {
     "name": "stderr",
     "output_type": "stream",
     "text": [
      "[Parallel(n_jobs=-1)]: Done   9 tasks      | elapsed:   20.4s\n"
     ]
    },
    {
     "name": "stdout",
     "output_type": "stream",
     "text": [
      "building tree 17 of 185\n",
      "building tree 18 of 185\n",
      "building tree 19 of 185\n",
      "building tree 20 of 185\n",
      "building tree 21 of 185\n",
      "building tree 22 of 185\n",
      "building tree 23 of 185\n"
     ]
    },
    {
     "name": "stderr",
     "output_type": "stream",
     "text": [
      "[Parallel(n_jobs=-1)]: Done  16 tasks      | elapsed:   22.9s\n"
     ]
    },
    {
     "name": "stdout",
     "output_type": "stream",
     "text": [
      "building tree 24 of 185\n",
      "building tree 25 of 185\n",
      "building tree 26 of 185\n",
      "building tree 27 of 185\n",
      "building tree 28 of 185\n",
      "building tree 29 of 185\n",
      "building tree 30 of 185\n",
      "building tree 31 of 185\n",
      "building tree 32 of 185\n"
     ]
    },
    {
     "name": "stderr",
     "output_type": "stream",
     "text": [
      "[Parallel(n_jobs=-1)]: Done  25 tasks      | elapsed:   42.6s\n"
     ]
    },
    {
     "name": "stdout",
     "output_type": "stream",
     "text": [
      "building tree 33 of 185\n",
      "building tree 34 of 185\n",
      "building tree 35 of 185\n",
      "building tree 36 of 185\n",
      "building tree 37 of 185\n",
      "building tree 38 of 185\n",
      "building tree 39 of 185\n",
      "building tree 40 of 185\n",
      "building tree 41 of 185\n"
     ]
    },
    {
     "name": "stderr",
     "output_type": "stream",
     "text": [
      "[Parallel(n_jobs=-1)]: Done  34 tasks      | elapsed:   53.5s\n"
     ]
    },
    {
     "name": "stdout",
     "output_type": "stream",
     "text": [
      "building tree 42 of 185\n",
      "building tree 43 of 185\n",
      "building tree 44 of 185\n",
      "building tree 45 of 185\n",
      "building tree 46 of 185\n",
      "building tree 47 of 185\n",
      "building tree 48 of 185\n",
      "building tree 49 of 185\n",
      "building tree 50 of 185\n",
      "building tree 51 of 185\n",
      "building tree 52 of 185\n",
      "building tree 53 of 185\n",
      "building tree 54 of 185\n"
     ]
    },
    {
     "name": "stderr",
     "output_type": "stream",
     "text": [
      "[Parallel(n_jobs=-1)]: Done  45 tasks      | elapsed:  1.1min\n"
     ]
    },
    {
     "name": "stdout",
     "output_type": "stream",
     "text": [
      "building tree 55 of 185\n",
      "building tree 56 of 185\n",
      "building tree 57 of 185\n",
      "building tree 58 of 185\n",
      "building tree 59 of 185\n",
      "building tree 60 of 185\n",
      "building tree 61 of 185\n",
      "building tree 62 of 185\n",
      "building tree 63 of 185\n"
     ]
    },
    {
     "name": "stderr",
     "output_type": "stream",
     "text": [
      "[Parallel(n_jobs=-1)]: Done  56 tasks      | elapsed:  1.3min\n"
     ]
    },
    {
     "name": "stdout",
     "output_type": "stream",
     "text": [
      "building tree 64 of 185\n",
      "building tree 65 of 185\n",
      "building tree 66 of 185\n",
      "building tree 67 of 185\n",
      "building tree 68 of 185\n",
      "building tree 69 of 185\n",
      "building tree 70 of 185\n",
      "building tree 71 of 185\n",
      "building tree 72 of 185\n",
      "building tree 73 of 185\n",
      "building tree 74 of 185\n",
      "building tree 75 of 185\n",
      "building tree 76 of 185\n"
     ]
    },
    {
     "name": "stderr",
     "output_type": "stream",
     "text": [
      "[Parallel(n_jobs=-1)]: Done  69 tasks      | elapsed:  1.6min\n"
     ]
    },
    {
     "name": "stdout",
     "output_type": "stream",
     "text": [
      "building tree 77 of 185\n",
      "building tree 78 of 185\n",
      "building tree 79 of 185\n",
      "building tree 80 of 185\n",
      "building tree 81 of 185\n",
      "building tree 82 of 185\n",
      "building tree 83 of 185\n",
      "building tree 84 of 185\n",
      "building tree 85 of 185\n",
      "building tree 86 of 185\n",
      "building tree 87 of 185\n",
      "building tree 88 of 185\n",
      "building tree 89 of 185\n"
     ]
    },
    {
     "name": "stderr",
     "output_type": "stream",
     "text": [
      "[Parallel(n_jobs=-1)]: Done  82 tasks      | elapsed:  1.9min\n"
     ]
    },
    {
     "name": "stdout",
     "output_type": "stream",
     "text": [
      "building tree 90 of 185\n",
      "building tree 91 of 185\n",
      "building tree 92 of 185\n",
      "building tree 93 of 185\n",
      "building tree 94 of 185\n",
      "building tree 95 of 185\n",
      "building tree 96 of 185\n",
      "building tree 97 of 185\n",
      "building tree 98 of 185\n",
      "building tree 99 of 185\n",
      "building tree 100 of 185\n",
      "building tree 101 of 185\n",
      "building tree 102 of 185\n",
      "building tree 103 of 185\n",
      "building tree 104 of 185\n"
     ]
    },
    {
     "name": "stderr",
     "output_type": "stream",
     "text": [
      "[Parallel(n_jobs=-1)]: Done  97 tasks      | elapsed:  2.3min\n"
     ]
    },
    {
     "name": "stdout",
     "output_type": "stream",
     "text": [
      "building tree 105 of 185\n",
      "building tree 106 of 185\n",
      "building tree 107 of 185\n",
      "building tree 108 of 185\n",
      "building tree 109 of 185\n",
      "building tree 110 of 185\n",
      "building tree 111 of 185\n",
      "building tree 112 of 185\n",
      "building tree 113 of 185\n",
      "building tree 114 of 185\n",
      "building tree 115 of 185\n",
      "building tree 116 of 185\n",
      "building tree 117 of 185\n",
      "building tree 118 of 185\n",
      "building tree 119 of 185\n"
     ]
    },
    {
     "name": "stderr",
     "output_type": "stream",
     "text": [
      "[Parallel(n_jobs=-1)]: Done 112 tasks      | elapsed:  2.6min\n"
     ]
    },
    {
     "name": "stdout",
     "output_type": "stream",
     "text": [
      "building tree 120 of 185\n",
      "building tree 121 of 185\n",
      "building tree 122 of 185\n",
      "building tree 123 of 185\n",
      "building tree 124 of 185\n",
      "building tree 125 of 185\n",
      "building tree 126 of 185\n",
      "building tree 127 of 185\n",
      "building tree 128 of 185\n",
      "building tree 129 of 185\n",
      "building tree 130 of 185\n",
      "building tree 131 of 185\n",
      "building tree 132 of 185\n",
      "building tree 133 of 185\n",
      "building tree 134 of 185\n",
      "building tree 135 of 185\n",
      "building tree 136 of 185\n"
     ]
    },
    {
     "name": "stderr",
     "output_type": "stream",
     "text": [
      "[Parallel(n_jobs=-1)]: Done 129 tasks      | elapsed:  3.0min\n"
     ]
    },
    {
     "name": "stdout",
     "output_type": "stream",
     "text": [
      "building tree 137 of 185\n",
      "building tree 138 of 185\n",
      "building tree 139 of 185\n",
      "building tree 140 of 185\n",
      "building tree 141 of 185\n",
      "building tree 142 of 185\n",
      "building tree 143 of 185\n",
      "building tree 144 of 185\n",
      "building tree 145 of 185\n",
      "building tree 146 of 185\n",
      "building tree 147 of 185\n",
      "building tree 148 of 185\n",
      "building tree 149 of 185\n",
      "building tree 150 of 185\n",
      "building tree 151 of 185\n",
      "building tree 152 of 185\n",
      "building tree 153 of 185\n"
     ]
    },
    {
     "name": "stderr",
     "output_type": "stream",
     "text": [
      "[Parallel(n_jobs=-1)]: Done 146 tasks      | elapsed:  3.4min\n"
     ]
    },
    {
     "name": "stdout",
     "output_type": "stream",
     "text": [
      "building tree 154 of 185\n",
      "building tree 155 of 185\n",
      "building tree 156 of 185\n",
      "building tree 157 of 185\n",
      "building tree 158 of 185\n",
      "building tree 159 of 185\n",
      "building tree 160 of 185\n",
      "building tree 161 of 185\n",
      "building tree 162 of 185\n",
      "building tree 164 of 185\n",
      "building tree 163 of 185\n",
      "building tree 165 of 185\n",
      "building tree 166 of 185\n",
      "building tree 167 of 185\n",
      "building tree 168 of 185\n",
      "building tree 169 of 185\n",
      "building tree 170 of 185\n",
      "building tree 171 of 185\n",
      "building tree 172 of 185\n"
     ]
    },
    {
     "name": "stderr",
     "output_type": "stream",
     "text": [
      "[Parallel(n_jobs=-1)]: Done 165 tasks      | elapsed:  3.8min\n"
     ]
    },
    {
     "name": "stdout",
     "output_type": "stream",
     "text": [
      "building tree 173 of 185\n",
      "building tree 174 of 185\n",
      "building tree 175 of 185\n",
      "building tree 176 of 185\n",
      "building tree 177 of 185\n",
      "building tree 178 of 185\n",
      "building tree 179 of 185\n",
      "building tree 180 of 185\n",
      "building tree 181 of 185\n",
      "building tree 182 of 185\n",
      "building tree 183 of 185\n",
      "building tree 184 of 185\n",
      "building tree 185 of 185\n"
     ]
    },
    {
     "name": "stderr",
     "output_type": "stream",
     "text": [
      "[Parallel(n_jobs=-1)]: Done 185 out of 185 | elapsed:  4.2min finished\n",
      "[Parallel(n_jobs=8)]: Done   2 tasks      | elapsed:    0.1s\n",
      "[Parallel(n_jobs=8)]: Done   9 tasks      | elapsed:    0.1s\n",
      "[Parallel(n_jobs=8)]: Done  16 tasks      | elapsed:    0.2s\n",
      "[Parallel(n_jobs=8)]: Done  25 tasks      | elapsed:    0.3s\n",
      "[Parallel(n_jobs=8)]: Done  34 tasks      | elapsed:    0.3s\n",
      "[Parallel(n_jobs=8)]: Done  45 tasks      | elapsed:    0.4s\n",
      "[Parallel(n_jobs=8)]: Done  56 tasks      | elapsed:    0.5s\n",
      "[Parallel(n_jobs=8)]: Done  69 tasks      | elapsed:    0.7s\n",
      "[Parallel(n_jobs=8)]: Done  82 tasks      | elapsed:    0.8s\n",
      "[Parallel(n_jobs=8)]: Done  97 tasks      | elapsed:    0.9s\n",
      "[Parallel(n_jobs=8)]: Done 112 tasks      | elapsed:    1.0s\n",
      "[Parallel(n_jobs=8)]: Done 129 tasks      | elapsed:    1.2s\n",
      "[Parallel(n_jobs=8)]: Done 146 tasks      | elapsed:    1.3s\n",
      "[Parallel(n_jobs=8)]: Done 165 tasks      | elapsed:    1.4s\n",
      "[Parallel(n_jobs=8)]: Done 185 out of 185 | elapsed:    1.6s finished\n",
      "[Parallel(n_jobs=8)]: Done   2 tasks      | elapsed:    0.1s\n",
      "[Parallel(n_jobs=8)]: Done   9 tasks      | elapsed:    0.2s\n",
      "[Parallel(n_jobs=8)]: Done  16 tasks      | elapsed:    0.3s\n",
      "[Parallel(n_jobs=8)]: Done  25 tasks      | elapsed:    0.5s\n",
      "[Parallel(n_jobs=8)]: Done  34 tasks      | elapsed:    0.6s\n",
      "[Parallel(n_jobs=8)]: Done  45 tasks      | elapsed:    0.9s\n",
      "[Parallel(n_jobs=8)]: Done  56 tasks      | elapsed:    1.0s\n",
      "[Parallel(n_jobs=8)]: Done  69 tasks      | elapsed:    1.3s\n",
      "[Parallel(n_jobs=8)]: Done  82 tasks      | elapsed:    1.5s\n",
      "[Parallel(n_jobs=8)]: Done  97 tasks      | elapsed:    1.8s\n",
      "[Parallel(n_jobs=8)]: Done 112 tasks      | elapsed:    2.0s\n",
      "[Parallel(n_jobs=8)]: Done 129 tasks      | elapsed:    2.3s\n",
      "[Parallel(n_jobs=8)]: Done 146 tasks      | elapsed:    2.6s\n",
      "[Parallel(n_jobs=8)]: Done 165 tasks      | elapsed:    2.9s\n",
      "[Parallel(n_jobs=8)]: Done 185 out of 185 | elapsed:    3.2s finished\n",
      "/home/justin/anaconda3/lib/python3.6/site-packages/sklearn/model_selection/_validation.py:437: DataConversionWarning: A column-vector y was passed when a 1d array was expected. Please change the shape of y to (n_samples,), for example using ravel().\n",
      "  estimator.fit(X_train, y_train, **fit_params)\n"
     ]
    },
    {
     "name": "stdout",
     "output_type": "stream",
     "text": [
      "building tree 3 of 185building tree 4 of 185building tree 6 of 185building tree 1 of 185building tree 8 of 185building tree 2 of 185building tree 7 of 185building tree 5 of 185\n",
      "\n",
      "\n",
      "\n",
      "\n",
      "\n",
      "\n",
      "\n",
      "building tree 9 of 185\n",
      "building tree 10 of 185\n"
     ]
    },
    {
     "name": "stderr",
     "output_type": "stream",
     "text": [
      "[Parallel(n_jobs=-1)]: Done   2 tasks      | elapsed:    9.6s\n"
     ]
    },
    {
     "name": "stdout",
     "output_type": "stream",
     "text": [
      "building tree 11 of 185\n",
      "building tree 12 of 185\n",
      "building tree 13 of 185\n",
      "building tree 14 of 185\n",
      "building tree 15 of 185\n",
      "building tree 16 of 185\n"
     ]
    },
    {
     "name": "stderr",
     "output_type": "stream",
     "text": [
      "[Parallel(n_jobs=-1)]: Done   9 tasks      | elapsed:   19.6s\n"
     ]
    },
    {
     "name": "stdout",
     "output_type": "stream",
     "text": [
      "building tree 17 of 185\n",
      "building tree 18 of 185\n",
      "building tree 19 of 185\n",
      "building tree 20 of 185\n",
      "building tree 21 of 185\n",
      "building tree 22 of 185\n",
      "building tree 23 of 185\n"
     ]
    },
    {
     "name": "stderr",
     "output_type": "stream",
     "text": [
      "[Parallel(n_jobs=-1)]: Done  16 tasks      | elapsed:   22.8s\n"
     ]
    },
    {
     "name": "stdout",
     "output_type": "stream",
     "text": [
      "building tree 24 of 185\n",
      "building tree 25 of 185\n",
      "building tree 26 of 185\n",
      "building tree 27 of 185\n",
      "building tree 28 of 185\n",
      "building tree 29 of 185\n",
      "building tree 30 of 185\n",
      "building tree 31 of 185\n",
      "building tree 32 of 185\n"
     ]
    },
    {
     "name": "stderr",
     "output_type": "stream",
     "text": [
      "[Parallel(n_jobs=-1)]: Done  25 tasks      | elapsed:   39.7s\n"
     ]
    },
    {
     "name": "stdout",
     "output_type": "stream",
     "text": [
      "building tree 33 of 185\n",
      "building tree 34 of 185\n",
      "building tree 35 of 185\n",
      "building tree 36 of 185\n",
      "building tree 37 of 185\n",
      "building tree 38 of 185\n",
      "building tree 39 of 185\n",
      "building tree 40 of 185\n",
      "building tree 41 of 185\n"
     ]
    },
    {
     "name": "stderr",
     "output_type": "stream",
     "text": [
      "[Parallel(n_jobs=-1)]: Done  34 tasks      | elapsed:   50.2s\n"
     ]
    },
    {
     "name": "stdout",
     "output_type": "stream",
     "text": [
      "building tree 42 of 185\n",
      "building tree 43 of 185\n",
      "building tree 44 of 185\n",
      "building tree 45 of 185\n",
      "building tree 46 of 185\n",
      "building tree 47 of 185\n",
      "building tree 48 of 185\n",
      "building tree 49 of 185\n",
      "building tree 50 of 185\n",
      "building tree 51 of 185\n",
      "building tree 52 of 185\n",
      "building tree 53 of 185\n"
     ]
    },
    {
     "name": "stderr",
     "output_type": "stream",
     "text": [
      "[Parallel(n_jobs=-1)]: Done  45 tasks      | elapsed:  1.1min\n"
     ]
    },
    {
     "name": "stdout",
     "output_type": "stream",
     "text": [
      "building tree 54 of 185\n",
      "building tree 55 of 185\n",
      "building tree 56 of 185\n",
      "building tree 57 of 185\n",
      "building tree 58 of 185\n",
      "building tree 59 of 185\n",
      "building tree 60 of 185\n",
      "building tree 61 of 185\n",
      "building tree 62 of 185\n",
      "building tree 63 of 185\n"
     ]
    },
    {
     "name": "stderr",
     "output_type": "stream",
     "text": [
      "[Parallel(n_jobs=-1)]: Done  56 tasks      | elapsed:  1.3min\n"
     ]
    },
    {
     "name": "stdout",
     "output_type": "stream",
     "text": [
      "building tree 64 of 185\n",
      "building tree 65 of 185\n",
      "building tree 66 of 185\n",
      "building tree 67 of 185\n",
      "building tree 68 of 185\n",
      "building tree 69 of 185\n",
      "building tree 70 of 185\n",
      "building tree 71 of 185\n",
      "building tree 72 of 185\n",
      "building tree 73 of 185\n",
      "building tree 74 of 185\n",
      "building tree 75 of 185\n",
      "building tree 76 of 185\n"
     ]
    },
    {
     "name": "stderr",
     "output_type": "stream",
     "text": [
      "[Parallel(n_jobs=-1)]: Done  69 tasks      | elapsed:  1.6min\n"
     ]
    },
    {
     "name": "stdout",
     "output_type": "stream",
     "text": [
      "building tree 77 of 185\n",
      "building tree 78 of 185\n",
      "building tree 79 of 185\n",
      "building tree 80 of 185\n",
      "building tree 81 of 185\n",
      "building tree 82 of 185\n",
      "building tree 83 of 185\n",
      "building tree 84 of 185\n",
      "building tree 85 of 185\n",
      "building tree 86 of 185\n",
      "building tree 87 of 185\n",
      "building tree 88 of 185\n",
      "building tree 89 of 185\n"
     ]
    },
    {
     "name": "stderr",
     "output_type": "stream",
     "text": [
      "[Parallel(n_jobs=-1)]: Done  82 tasks      | elapsed:  1.9min\n"
     ]
    },
    {
     "name": "stdout",
     "output_type": "stream",
     "text": [
      "building tree 90 of 185\n",
      "building tree 91 of 185\n",
      "building tree 92 of 185\n",
      "building tree 93 of 185\n",
      "building tree 94 of 185\n",
      "building tree 95 of 185\n",
      "building tree 96 of 185\n",
      "building tree 97 of 185\n",
      "building tree 98 of 185\n",
      "building tree 99 of 185\n",
      "building tree 100 of 185\n",
      "building tree 101 of 185\n",
      "building tree 102 of 185\n",
      "building tree 103 of 185\n",
      "building tree 104 of 185\n"
     ]
    },
    {
     "name": "stderr",
     "output_type": "stream",
     "text": [
      "[Parallel(n_jobs=-1)]: Done  97 tasks      | elapsed:  2.2min\n"
     ]
    },
    {
     "name": "stdout",
     "output_type": "stream",
     "text": [
      "building tree 105 of 185\n",
      "building tree 106 of 185\n",
      "building tree 107 of 185\n",
      "building tree 108 of 185\n",
      "building tree 109 of 185\n",
      "building tree 110 of 185\n",
      "building tree 111 of 185\n",
      "building tree 112 of 185\n",
      "building tree 113 of 185\n",
      "building tree 114 of 185\n",
      "building tree 115 of 185\n",
      "building tree 116 of 185\n",
      "building tree 117 of 185\n",
      "building tree 118 of 185\n",
      "building tree 119 of 185\n"
     ]
    },
    {
     "name": "stderr",
     "output_type": "stream",
     "text": [
      "[Parallel(n_jobs=-1)]: Done 112 tasks      | elapsed:  2.5min\n"
     ]
    },
    {
     "name": "stdout",
     "output_type": "stream",
     "text": [
      "building tree 120 of 185\n",
      "building tree 121 of 185\n",
      "building tree 122 of 185\n",
      "building tree 123 of 185\n",
      "building tree 124 of 185\n",
      "building tree 125 of 185\n",
      "building tree 126 of 185\n",
      "building tree 127 of 185\n",
      "building tree 128 of 185\n",
      "building tree 129 of 185\n",
      "building tree 130 of 185\n",
      "building tree 131 of 185\n",
      "building tree 132 of 185\n",
      "building tree 133 of 185\n",
      "building tree 134 of 185\n",
      "building tree 135 of 185\n",
      "building tree 136 of 185\n"
     ]
    },
    {
     "name": "stderr",
     "output_type": "stream",
     "text": [
      "[Parallel(n_jobs=-1)]: Done 129 tasks      | elapsed:  2.9min\n"
     ]
    },
    {
     "name": "stdout",
     "output_type": "stream",
     "text": [
      "building tree 137 of 185\n",
      "building tree 138 of 185\n",
      "building tree 139 of 185\n",
      "building tree 140 of 185\n",
      "building tree 141 of 185\n",
      "building tree 142 of 185\n",
      "building tree 143 of 185\n",
      "building tree 144 of 185\n",
      "building tree 145 of 185\n",
      "building tree 146 of 185\n",
      "building tree 147 of 185\n",
      "building tree 148 of 185\n",
      "building tree 149 of 185\n",
      "building tree 150 of 185\n",
      "building tree 151 of 185\n",
      "building tree 152 of 185\n",
      "building tree 153 of 185\n"
     ]
    },
    {
     "name": "stderr",
     "output_type": "stream",
     "text": [
      "[Parallel(n_jobs=-1)]: Done 146 tasks      | elapsed:  3.3min\n"
     ]
    },
    {
     "name": "stdout",
     "output_type": "stream",
     "text": [
      "building tree 154 of 185\n",
      "building tree 155 of 185\n",
      "building tree 156 of 185\n",
      "building tree 157 of 185\n",
      "building tree 158 of 185\n",
      "building tree 159 of 185\n",
      "building tree 160 of 185\n",
      "building tree 161 of 185\n",
      "building tree 162 of 185\n",
      "building tree 163 of 185\n",
      "building tree 164 of 185\n",
      "building tree 165 of 185\n",
      "building tree 166 of 185\n",
      "building tree 167 of 185\n",
      "building tree 168 of 185\n",
      "building tree 169 of 185\n",
      "building tree 170 of 185\n",
      "building tree 171 of 185\n",
      "building tree 172 of 185\n"
     ]
    },
    {
     "name": "stderr",
     "output_type": "stream",
     "text": [
      "[Parallel(n_jobs=-1)]: Done 165 tasks      | elapsed:  3.7min\n"
     ]
    },
    {
     "name": "stdout",
     "output_type": "stream",
     "text": [
      "building tree 173 of 185\n",
      "building tree 174 of 185\n",
      "building tree 175 of 185\n",
      "building tree 176 of 185\n",
      "building tree 177 of 185\n",
      "building tree 178 of 185\n",
      "building tree 179 of 185\n",
      "building tree 180 of 185\n",
      "building tree 181 of 185\n",
      "building tree 182 of 185\n",
      "building tree 183 of 185\n",
      "building tree 184 of 185\n",
      "building tree 185 of 185\n"
     ]
    },
    {
     "name": "stderr",
     "output_type": "stream",
     "text": [
      "[Parallel(n_jobs=-1)]: Done 185 out of 185 | elapsed:  4.1min finished\n",
      "[Parallel(n_jobs=8)]: Done   2 tasks      | elapsed:    0.1s\n",
      "[Parallel(n_jobs=8)]: Done   9 tasks      | elapsed:    0.1s\n",
      "[Parallel(n_jobs=8)]: Done  16 tasks      | elapsed:    0.2s\n",
      "[Parallel(n_jobs=8)]: Done  25 tasks      | elapsed:    0.2s\n",
      "[Parallel(n_jobs=8)]: Done  34 tasks      | elapsed:    0.3s\n",
      "[Parallel(n_jobs=8)]: Done  45 tasks      | elapsed:    0.4s\n",
      "[Parallel(n_jobs=8)]: Done  56 tasks      | elapsed:    0.5s\n",
      "[Parallel(n_jobs=8)]: Done  69 tasks      | elapsed:    0.6s\n",
      "[Parallel(n_jobs=8)]: Done  82 tasks      | elapsed:    0.7s\n",
      "[Parallel(n_jobs=8)]: Done  97 tasks      | elapsed:    0.9s\n",
      "[Parallel(n_jobs=8)]: Done 112 tasks      | elapsed:    1.0s\n",
      "[Parallel(n_jobs=8)]: Done 129 tasks      | elapsed:    1.1s\n",
      "[Parallel(n_jobs=8)]: Done 146 tasks      | elapsed:    1.2s\n",
      "[Parallel(n_jobs=8)]: Done 165 tasks      | elapsed:    1.4s\n",
      "[Parallel(n_jobs=8)]: Done 185 out of 185 | elapsed:    1.6s finished\n",
      "[Parallel(n_jobs=8)]: Done   2 tasks      | elapsed:    0.1s\n",
      "[Parallel(n_jobs=8)]: Done   9 tasks      | elapsed:    0.2s\n",
      "[Parallel(n_jobs=8)]: Done  16 tasks      | elapsed:    0.3s\n",
      "[Parallel(n_jobs=8)]: Done  25 tasks      | elapsed:    0.5s\n",
      "[Parallel(n_jobs=8)]: Done  34 tasks      | elapsed:    0.6s\n",
      "[Parallel(n_jobs=8)]: Done  45 tasks      | elapsed:    0.8s\n",
      "[Parallel(n_jobs=8)]: Done  56 tasks      | elapsed:    1.0s\n",
      "[Parallel(n_jobs=8)]: Done  69 tasks      | elapsed:    1.2s\n",
      "[Parallel(n_jobs=8)]: Done  82 tasks      | elapsed:    1.4s\n",
      "[Parallel(n_jobs=8)]: Done  97 tasks      | elapsed:    1.7s\n",
      "[Parallel(n_jobs=8)]: Done 112 tasks      | elapsed:    2.0s\n",
      "[Parallel(n_jobs=8)]: Done 129 tasks      | elapsed:    2.3s\n",
      "[Parallel(n_jobs=8)]: Done 146 tasks      | elapsed:    2.5s\n",
      "[Parallel(n_jobs=8)]: Done 165 tasks      | elapsed:    2.9s\n",
      "[Parallel(n_jobs=8)]: Done 185 out of 185 | elapsed:    3.2s finished\n",
      "/home/justin/anaconda3/lib/python3.6/site-packages/sklearn/model_selection/_validation.py:437: DataConversionWarning: A column-vector y was passed when a 1d array was expected. Please change the shape of y to (n_samples,), for example using ravel().\n",
      "  estimator.fit(X_train, y_train, **fit_params)\n"
     ]
    },
    {
     "name": "stdout",
     "output_type": "stream",
     "text": [
      "building tree 3 of 185\n",
      "building tree 4 of 185building tree 5 of 185building tree 1 of 185building tree 6 of 185building tree 2 of 185building tree 8 of 185building tree 7 of 185\n",
      "\n",
      "\n",
      "\n",
      "\n",
      "\n",
      "\n",
      "building tree 9 of 185\n"
     ]
    },
    {
     "name": "stderr",
     "output_type": "stream",
     "text": [
      "[Parallel(n_jobs=-1)]: Done   2 tasks      | elapsed:    9.8s\n"
     ]
    },
    {
     "name": "stdout",
     "output_type": "stream",
     "text": [
      "building tree 10 of 185\n",
      "building tree 11 of 185\n",
      "building tree 12 of 185\n",
      "building tree 13 of 185\n",
      "building tree 14 of 185\n",
      "building tree 15 of 185\n",
      "building tree 16 of 185\n"
     ]
    },
    {
     "name": "stderr",
     "output_type": "stream",
     "text": [
      "[Parallel(n_jobs=-1)]: Done   9 tasks      | elapsed:   20.4s\n"
     ]
    },
    {
     "name": "stdout",
     "output_type": "stream",
     "text": [
      "building tree 17 of 185\n",
      "building tree 18 of 185\n",
      "building tree 19 of 185\n",
      "building tree 20 of 185\n",
      "building tree 21 of 185\n",
      "building tree 22 of 185\n",
      "building tree 23 of 185\n"
     ]
    },
    {
     "name": "stderr",
     "output_type": "stream",
     "text": [
      "[Parallel(n_jobs=-1)]: Done  16 tasks      | elapsed:   22.7s\n"
     ]
    },
    {
     "name": "stdout",
     "output_type": "stream",
     "text": [
      "building tree 24 of 185\n",
      "building tree 25 of 185\n",
      "building tree 26 of 185\n",
      "building tree 27 of 185\n",
      "building tree 28 of 185\n",
      "building tree 29 of 185\n",
      "building tree 30 of 185\n",
      "building tree 31 of 185\n",
      "building tree 32 of 185\n"
     ]
    },
    {
     "name": "stderr",
     "output_type": "stream",
     "text": [
      "[Parallel(n_jobs=-1)]: Done  25 tasks      | elapsed:   40.2s\n"
     ]
    },
    {
     "name": "stdout",
     "output_type": "stream",
     "text": [
      "building tree 33 of 185\n",
      "building tree 34 of 185\n",
      "building tree 35 of 185\n",
      "building tree 36 of 185\n",
      "building tree 37 of 185\n",
      "building tree 38 of 185\n",
      "building tree 39 of 185\n",
      "building tree 40 of 185\n",
      "building tree 41 of 185\n"
     ]
    },
    {
     "name": "stderr",
     "output_type": "stream",
     "text": [
      "[Parallel(n_jobs=-1)]: Done  34 tasks      | elapsed:   51.8s\n"
     ]
    },
    {
     "name": "stdout",
     "output_type": "stream",
     "text": [
      "building tree 42 of 185\n",
      "building tree 43 of 185\n",
      "building tree 44 of 185\n",
      "building tree 45 of 185\n",
      "building tree 46 of 185\n",
      "building tree 47 of 185\n",
      "building tree 48 of 185\n",
      "building tree 49 of 185\n",
      "building tree 50 of 185\n",
      "building tree 51 of 185\n",
      "building tree 52 of 185\n"
     ]
    },
    {
     "name": "stderr",
     "output_type": "stream",
     "text": [
      "[Parallel(n_jobs=-1)]: Done  45 tasks      | elapsed:  1.1min\n"
     ]
    },
    {
     "name": "stdout",
     "output_type": "stream",
     "text": [
      "building tree 53 of 185\n",
      "building tree 54 of 185\n",
      "building tree 55 of 185\n",
      "building tree 56 of 185\n",
      "building tree 57 of 185\n",
      "building tree 58 of 185\n",
      "building tree 59 of 185\n",
      "building tree 60 of 185\n",
      "building tree 61 of 185\n",
      "building tree 62 of 185\n",
      "building tree 63 of 185\n"
     ]
    },
    {
     "name": "stderr",
     "output_type": "stream",
     "text": [
      "[Parallel(n_jobs=-1)]: Done  56 tasks      | elapsed:  1.3min\n"
     ]
    },
    {
     "name": "stdout",
     "output_type": "stream",
     "text": [
      "building tree 64 of 185\n",
      "building tree 65 of 185\n",
      "building tree 66 of 185\n",
      "building tree 67 of 185\n",
      "building tree 68 of 185\n",
      "building tree 69 of 185\n",
      "building tree 70 of 185\n",
      "building tree 71 of 185\n",
      "building tree 72 of 185\n",
      "building tree 73 of 185\n",
      "building tree 74 of 185\n",
      "building tree 75 of 185\n",
      "building tree 76 of 185\n"
     ]
    },
    {
     "name": "stderr",
     "output_type": "stream",
     "text": [
      "[Parallel(n_jobs=-1)]: Done  69 tasks      | elapsed:  1.6min\n"
     ]
    },
    {
     "name": "stdout",
     "output_type": "stream",
     "text": [
      "building tree 77 of 185\n",
      "building tree 78 of 185\n",
      "building tree 79 of 185\n",
      "building tree 80 of 185\n",
      "building tree 81 of 185\n",
      "building tree 82 of 185\n",
      "building tree 83 of 185\n",
      "building tree 84 of 185\n",
      "building tree 85 of 185\n",
      "building tree 86 of 185\n",
      "building tree 87 of 185\n",
      "building tree 88 of 185\n",
      "building tree 89 of 185\n"
     ]
    },
    {
     "name": "stderr",
     "output_type": "stream",
     "text": [
      "[Parallel(n_jobs=-1)]: Done  82 tasks      | elapsed:  1.9min\n"
     ]
    },
    {
     "name": "stdout",
     "output_type": "stream",
     "text": [
      "building tree 90 of 185\n",
      "building tree 91 of 185\n",
      "building tree 92 of 185\n",
      "building tree 93 of 185\n",
      "building tree 94 of 185\n",
      "building tree 95 of 185\n",
      "building tree 96 of 185\n",
      "building tree 97 of 185\n",
      "building tree 98 of 185\n",
      "building tree 99 of 185\n",
      "building tree 100 of 185\n",
      "building tree 101 of 185\n",
      "building tree 102 of 185\n",
      "building tree 103 of 185\n",
      "building tree 104 of 185\n"
     ]
    },
    {
     "name": "stderr",
     "output_type": "stream",
     "text": [
      "[Parallel(n_jobs=-1)]: Done  97 tasks      | elapsed:  2.2min\n"
     ]
    },
    {
     "name": "stdout",
     "output_type": "stream",
     "text": [
      "building tree 105 of 185\n",
      "building tree 106 of 185\n",
      "building tree 107 of 185\n",
      "building tree 108 of 185\n",
      "building tree 109 of 185\n",
      "building tree 110 of 185\n",
      "building tree 111 of 185\n",
      "building tree 112 of 185\n",
      "building tree 113 of 185\n",
      "building tree 114 of 185\n",
      "building tree 115 of 185\n",
      "building tree 116 of 185\n",
      "building tree 117 of 185\n",
      "building tree 118 of 185\n",
      "building tree 119 of 185\n"
     ]
    },
    {
     "name": "stderr",
     "output_type": "stream",
     "text": [
      "[Parallel(n_jobs=-1)]: Done 112 tasks      | elapsed:  2.6min\n"
     ]
    },
    {
     "name": "stdout",
     "output_type": "stream",
     "text": [
      "building tree 120 of 185\n",
      "building tree 121 of 185\n",
      "building tree 122 of 185\n",
      "building tree 123 of 185\n",
      "building tree 124 of 185\n",
      "building tree 125 of 185\n",
      "building tree 126 of 185\n",
      "building tree 127 of 185\n",
      "building tree 128 of 185\n",
      "building tree 129 of 185\n",
      "building tree 130 of 185\n",
      "building tree 131 of 185\n",
      "building tree 132 of 185\n",
      "building tree 133 of 185\n",
      "building tree 134 of 185\n",
      "building tree 135 of 185\n",
      "building tree 136 of 185\n"
     ]
    },
    {
     "name": "stderr",
     "output_type": "stream",
     "text": [
      "[Parallel(n_jobs=-1)]: Done 129 tasks      | elapsed:  3.0min\n"
     ]
    },
    {
     "name": "stdout",
     "output_type": "stream",
     "text": [
      "building tree 137 of 185\n",
      "building tree 138 of 185\n",
      "building tree 139 of 185\n",
      "building tree 140 of 185\n",
      "building tree 141 of 185\n",
      "building tree 142 of 185\n",
      "building tree 143 of 185\n",
      "building tree 144 of 185\n",
      "building tree 145 of 185\n",
      "building tree 146 of 185\n",
      "building tree 147 of 185\n",
      "building tree 148 of 185\n",
      "building tree 149 of 185\n",
      "building tree 150 of 185\n",
      "building tree 151 of 185\n",
      "building tree 152 of 185\n",
      "building tree 153 of 185\n"
     ]
    },
    {
     "name": "stderr",
     "output_type": "stream",
     "text": [
      "[Parallel(n_jobs=-1)]: Done 146 tasks      | elapsed:  3.3min\n"
     ]
    },
    {
     "name": "stdout",
     "output_type": "stream",
     "text": [
      "building tree 154 of 185\n",
      "building tree 155 of 185\n",
      "building tree 156 of 185\n",
      "building tree 157 of 185\n",
      "building tree 158 of 185\n",
      "building tree 159 of 185\n",
      "building tree 160 of 185\n",
      "building tree 161 of 185\n",
      "building tree 162 of 185\n",
      "building tree 163 of 185\n",
      "building tree 164 of 185\n",
      "building tree 165 of 185\n",
      "building tree 166 of 185\n",
      "building tree 167 of 185\n",
      "building tree 168 of 185\n",
      "building tree 169 of 185\n",
      "building tree 170 of 185\n",
      "building tree 171 of 185\n",
      "building tree 172 of 185\n"
     ]
    },
    {
     "name": "stderr",
     "output_type": "stream",
     "text": [
      "[Parallel(n_jobs=-1)]: Done 165 tasks      | elapsed:  3.8min\n"
     ]
    },
    {
     "name": "stdout",
     "output_type": "stream",
     "text": [
      "building tree 173 of 185\n",
      "building tree 174 of 185\n",
      "building tree 175 of 185\n",
      "building tree 176 of 185\n",
      "building tree 177 of 185\n",
      "building tree 178 of 185\n",
      "building tree 179 of 185\n",
      "building tree 180 of 185\n",
      "building tree 181 of 185\n",
      "building tree 182 of 185\n",
      "building tree 183 of 185\n",
      "building tree 184 of 185\n",
      "building tree 185 of 185\n"
     ]
    },
    {
     "name": "stderr",
     "output_type": "stream",
     "text": [
      "[Parallel(n_jobs=-1)]: Done 185 out of 185 | elapsed:  4.2min finished\n",
      "[Parallel(n_jobs=8)]: Done   2 tasks      | elapsed:    0.1s\n",
      "[Parallel(n_jobs=8)]: Done   9 tasks      | elapsed:    0.1s\n",
      "[Parallel(n_jobs=8)]: Done  16 tasks      | elapsed:    0.2s\n",
      "[Parallel(n_jobs=8)]: Done  25 tasks      | elapsed:    0.2s\n",
      "[Parallel(n_jobs=8)]: Done  34 tasks      | elapsed:    0.3s\n",
      "[Parallel(n_jobs=8)]: Done  45 tasks      | elapsed:    0.4s\n",
      "[Parallel(n_jobs=8)]: Done  56 tasks      | elapsed:    0.5s\n",
      "[Parallel(n_jobs=8)]: Done  69 tasks      | elapsed:    0.6s\n",
      "[Parallel(n_jobs=8)]: Done  82 tasks      | elapsed:    0.7s\n",
      "[Parallel(n_jobs=8)]: Done  97 tasks      | elapsed:    0.9s\n",
      "[Parallel(n_jobs=8)]: Done 112 tasks      | elapsed:    1.0s\n",
      "[Parallel(n_jobs=8)]: Done 129 tasks      | elapsed:    1.2s\n",
      "[Parallel(n_jobs=8)]: Done 146 tasks      | elapsed:    1.3s\n",
      "[Parallel(n_jobs=8)]: Done 165 tasks      | elapsed:    1.5s\n",
      "[Parallel(n_jobs=8)]: Done 185 out of 185 | elapsed:    1.6s finished\n",
      "[Parallel(n_jobs=8)]: Done   2 tasks      | elapsed:    0.1s\n",
      "[Parallel(n_jobs=8)]: Done   9 tasks      | elapsed:    0.2s\n",
      "[Parallel(n_jobs=8)]: Done  16 tasks      | elapsed:    0.3s\n",
      "[Parallel(n_jobs=8)]: Done  25 tasks      | elapsed:    0.5s\n",
      "[Parallel(n_jobs=8)]: Done  34 tasks      | elapsed:    0.6s\n",
      "[Parallel(n_jobs=8)]: Done  45 tasks      | elapsed:    0.8s\n",
      "[Parallel(n_jobs=8)]: Done  56 tasks      | elapsed:    1.0s\n",
      "[Parallel(n_jobs=8)]: Done  69 tasks      | elapsed:    1.2s\n",
      "[Parallel(n_jobs=8)]: Done  82 tasks      | elapsed:    1.4s\n",
      "[Parallel(n_jobs=8)]: Done  97 tasks      | elapsed:    1.7s\n",
      "[Parallel(n_jobs=8)]: Done 112 tasks      | elapsed:    2.0s\n",
      "[Parallel(n_jobs=8)]: Done 129 tasks      | elapsed:    2.2s\n",
      "[Parallel(n_jobs=8)]: Done 146 tasks      | elapsed:    2.5s\n",
      "[Parallel(n_jobs=8)]: Done 165 tasks      | elapsed:    2.9s\n",
      "[Parallel(n_jobs=8)]: Done 185 out of 185 | elapsed:    3.2s finished\n",
      "/home/justin/anaconda3/lib/python3.6/site-packages/sklearn/model_selection/_validation.py:437: DataConversionWarning: A column-vector y was passed when a 1d array was expected. Please change the shape of y to (n_samples,), for example using ravel().\n",
      "  estimator.fit(X_train, y_train, **fit_params)\n"
     ]
    },
    {
     "name": "stdout",
     "output_type": "stream",
     "text": [
      "building tree 1 of 83building tree 2 of 83building tree 3 of 83building tree 5 of 83building tree 6 of 83building tree 4 of 83\n",
      "\n",
      "\n",
      "\n",
      "\n",
      "\n",
      "building tree 8 of 83building tree 7 of 83\n",
      "\n",
      "building tree 9 of 83\n"
     ]
    },
    {
     "name": "stderr",
     "output_type": "stream",
     "text": [
      "[Parallel(n_jobs=-1)]: Done   2 tasks      | elapsed:    5.9s\n"
     ]
    },
    {
     "name": "stdout",
     "output_type": "stream",
     "text": [
      "building tree 10 of 83\n",
      "building tree 11 of 83\n",
      "building tree 12 of 83\n",
      "building tree 13 of 83\n",
      "building tree 14 of 83\n",
      "building tree 15 of 83\n",
      "building tree 16 of 83\n"
     ]
    },
    {
     "name": "stderr",
     "output_type": "stream",
     "text": [
      "[Parallel(n_jobs=-1)]: Done   9 tasks      | elapsed:   11.5s\n"
     ]
    },
    {
     "name": "stdout",
     "output_type": "stream",
     "text": [
      "building tree 17 of 83\n",
      "building tree 18 of 83\n",
      "building tree 19 of 83\n",
      "building tree 20 of 83\n",
      "building tree 21 of 83\n",
      "building tree 22 of 83\n",
      "building tree 23 of 83\n",
      "building tree 24 of 83\n"
     ]
    },
    {
     "name": "stderr",
     "output_type": "stream",
     "text": [
      "[Parallel(n_jobs=-1)]: Done  16 tasks      | elapsed:   13.2s\n"
     ]
    },
    {
     "name": "stdout",
     "output_type": "stream",
     "text": [
      "building tree 25 of 83\n",
      "building tree 26 of 83\n",
      "building tree 27 of 83\n",
      "building tree 28 of 83\n",
      "building tree 29 of 83\n",
      "building tree 30 of 83\n",
      "building tree 31 of 83\n",
      "building tree 32 of 83\n"
     ]
    },
    {
     "name": "stderr",
     "output_type": "stream",
     "text": [
      "[Parallel(n_jobs=-1)]: Done  25 tasks      | elapsed:   23.8s\n"
     ]
    },
    {
     "name": "stdout",
     "output_type": "stream",
     "text": [
      "building tree 33 of 83\n",
      "building tree 34 of 83\n",
      "building tree 35 of 83\n",
      "building tree 36 of 83\n",
      "building tree 37 of 83\n",
      "building tree 38 of 83\n",
      "building tree 39 of 83\n",
      "building tree 40 of 83\n",
      "building tree 41 of 83\n"
     ]
    },
    {
     "name": "stderr",
     "output_type": "stream",
     "text": [
      "[Parallel(n_jobs=-1)]: Done  34 tasks      | elapsed:   29.6s\n"
     ]
    },
    {
     "name": "stdout",
     "output_type": "stream",
     "text": [
      "building tree 42 of 83\n",
      "building tree 43 of 83\n",
      "building tree 44 of 83\n",
      "building tree 45 of 83\n",
      "building tree 46 of 83\n",
      "building tree 47 of 83\n",
      "building tree 48 of 83\n",
      "building tree 49 of 83\n",
      "building tree 50 of 83\n",
      "building tree 51 of 83\n",
      "building tree 52 of 83\n",
      "building tree 53 of 83\n"
     ]
    },
    {
     "name": "stderr",
     "output_type": "stream",
     "text": [
      "[Parallel(n_jobs=-1)]: Done  45 tasks      | elapsed:   37.6s\n"
     ]
    },
    {
     "name": "stdout",
     "output_type": "stream",
     "text": [
      "building tree 54 of 83\n",
      "building tree 55 of 83\n",
      "building tree 56 of 83\n",
      "building tree 57 of 83\n",
      "building tree 58 of 83\n",
      "building tree 59 of 83\n",
      "building tree 60 of 83\n",
      "building tree 61 of 83\n",
      "building tree 62 of 83\n",
      "building tree 63 of 83\n"
     ]
    },
    {
     "name": "stderr",
     "output_type": "stream",
     "text": [
      "[Parallel(n_jobs=-1)]: Done  56 tasks      | elapsed:   46.0s\n"
     ]
    },
    {
     "name": "stdout",
     "output_type": "stream",
     "text": [
      "building tree 64 of 83\n",
      "building tree 65 of 83\n",
      "building tree 66 of 83\n",
      "building tree 67 of 83\n",
      "building tree 68 of 83\n",
      "building tree 69 of 83\n",
      "building tree 70 of 83\n",
      "building tree 71 of 83\n",
      "building tree 72 of 83\n",
      "building tree 73 of 83\n",
      "building tree 74 of 83\n",
      "building tree 75 of 83\n",
      "building tree 76 of 83\n",
      "building tree 77 of 83\n",
      "building tree 78 of 83\n",
      "building tree 79 of 83\n",
      "building tree 80 of 83\n",
      "building tree 81 of 83\n",
      "building tree 82 of 83\n",
      "building tree 83 of 83\n"
     ]
    },
    {
     "name": "stderr",
     "output_type": "stream",
     "text": [
      "[Parallel(n_jobs=-1)]: Done  77 out of  83 | elapsed:  1.0min remaining:    4.9s\n",
      "[Parallel(n_jobs=-1)]: Done  83 out of  83 | elapsed:  1.1min finished\n",
      "[Parallel(n_jobs=8)]: Done   2 tasks      | elapsed:    0.0s\n",
      "[Parallel(n_jobs=8)]: Done   9 tasks      | elapsed:    0.1s\n",
      "[Parallel(n_jobs=8)]: Done  16 tasks      | elapsed:    0.1s\n",
      "[Parallel(n_jobs=8)]: Done  25 tasks      | elapsed:    0.2s\n",
      "[Parallel(n_jobs=8)]: Done  34 tasks      | elapsed:    0.2s\n",
      "[Parallel(n_jobs=8)]: Done  45 tasks      | elapsed:    0.3s\n",
      "[Parallel(n_jobs=8)]: Done  56 tasks      | elapsed:    0.4s\n",
      "[Parallel(n_jobs=8)]: Done  77 out of  83 | elapsed:    0.5s remaining:    0.0s\n",
      "[Parallel(n_jobs=8)]: Done  83 out of  83 | elapsed:    0.5s finished\n",
      "[Parallel(n_jobs=8)]: Done   2 tasks      | elapsed:    0.1s\n",
      "[Parallel(n_jobs=8)]: Done   9 tasks      | elapsed:    0.2s\n",
      "[Parallel(n_jobs=8)]: Done  16 tasks      | elapsed:    0.3s\n",
      "[Parallel(n_jobs=8)]: Done  25 tasks      | elapsed:    0.4s\n",
      "[Parallel(n_jobs=8)]: Done  34 tasks      | elapsed:    0.5s\n",
      "[Parallel(n_jobs=8)]: Done  45 tasks      | elapsed:    0.6s\n",
      "[Parallel(n_jobs=8)]: Done  56 tasks      | elapsed:    0.7s\n",
      "[Parallel(n_jobs=8)]: Done  77 out of  83 | elapsed:    1.0s remaining:    0.1s\n",
      "[Parallel(n_jobs=8)]: Done  83 out of  83 | elapsed:    1.0s finished\n",
      "/home/justin/anaconda3/lib/python3.6/site-packages/sklearn/model_selection/_validation.py:437: DataConversionWarning: A column-vector y was passed when a 1d array was expected. Please change the shape of y to (n_samples,), for example using ravel().\n",
      "  estimator.fit(X_train, y_train, **fit_params)\n"
     ]
    },
    {
     "name": "stdout",
     "output_type": "stream",
     "text": [
      "building tree 2 of 83building tree 3 of 83building tree 5 of 83building tree 4 of 83building tree 6 of 83building tree 8 of 83building tree 1 of 83building tree 7 of 83\n",
      "\n",
      "\n",
      "\n",
      "\n",
      "\n",
      "\n",
      "\n",
      "building tree 9 of 83\n"
     ]
    },
    {
     "name": "stderr",
     "output_type": "stream",
     "text": [
      "[Parallel(n_jobs=-1)]: Done   2 tasks      | elapsed:    6.0s\n"
     ]
    },
    {
     "name": "stdout",
     "output_type": "stream",
     "text": [
      "building tree 10 of 83\n",
      "building tree 11 of 83\n",
      "building tree 12 of 83\n",
      "building tree 13 of 83\n",
      "building tree 14 of 83\n",
      "building tree 15 of 83\n",
      "building tree 16 of 83\n"
     ]
    },
    {
     "name": "stderr",
     "output_type": "stream",
     "text": [
      "[Parallel(n_jobs=-1)]: Done   9 tasks      | elapsed:   11.4s\n"
     ]
    },
    {
     "name": "stdout",
     "output_type": "stream",
     "text": [
      "building tree 17 of 83\n",
      "building tree 18 of 83\n",
      "building tree 19 of 83\n",
      "building tree 20 of 83\n",
      "building tree 21 of 83\n",
      "building tree 22 of 83\n",
      "building tree 23 of 83\n",
      "building tree 24 of 83\n"
     ]
    },
    {
     "name": "stderr",
     "output_type": "stream",
     "text": [
      "[Parallel(n_jobs=-1)]: Done  16 tasks      | elapsed:   12.9s\n"
     ]
    },
    {
     "name": "stdout",
     "output_type": "stream",
     "text": [
      "building tree 25 of 83\n",
      "building tree 26 of 83\n",
      "building tree 27 of 83\n",
      "building tree 28 of 83\n",
      "building tree 29 of 83\n",
      "building tree 30 of 83\n",
      "building tree 31 of 83\n",
      "building tree 32 of 83\n"
     ]
    },
    {
     "name": "stderr",
     "output_type": "stream",
     "text": [
      "[Parallel(n_jobs=-1)]: Done  25 tasks      | elapsed:   23.9s\n"
     ]
    },
    {
     "name": "stdout",
     "output_type": "stream",
     "text": [
      "building tree 33 of 83\n",
      "building tree 34 of 83\n",
      "building tree 35 of 83\n",
      "building tree 36 of 83\n",
      "building tree 37 of 83\n",
      "building tree 38 of 83\n",
      "building tree 39 of 83\n",
      "building tree 40 of 83\n",
      "building tree 41 of 83\n"
     ]
    },
    {
     "name": "stderr",
     "output_type": "stream",
     "text": [
      "[Parallel(n_jobs=-1)]: Done  34 tasks      | elapsed:   29.9s\n"
     ]
    },
    {
     "name": "stdout",
     "output_type": "stream",
     "text": [
      "building tree 42 of 83\n",
      "building tree 43 of 83\n",
      "building tree 44 of 83\n",
      "building tree 45 of 83\n",
      "building tree 46 of 83\n",
      "building tree 47 of 83\n",
      "building tree 48 of 83\n",
      "building tree 49 of 83\n",
      "building tree 50 of 83\n",
      "building tree 51 of 83\n",
      "building tree 52 of 83\n"
     ]
    },
    {
     "name": "stderr",
     "output_type": "stream",
     "text": [
      "[Parallel(n_jobs=-1)]: Done  45 tasks      | elapsed:   37.2s\n"
     ]
    },
    {
     "name": "stdout",
     "output_type": "stream",
     "text": [
      "building tree 53 of 83\n",
      "building tree 54 of 83\n",
      "building tree 55 of 83\n",
      "building tree 56 of 83\n",
      "building tree 57 of 83\n",
      "building tree 58 of 83\n",
      "building tree 59 of 83\n",
      "building tree 60 of 83\n",
      "building tree 61 of 83\n",
      "building tree 62 of 83\n",
      "building tree 63 of 83\n"
     ]
    },
    {
     "name": "stderr",
     "output_type": "stream",
     "text": [
      "[Parallel(n_jobs=-1)]: Done  56 tasks      | elapsed:   44.4s\n"
     ]
    },
    {
     "name": "stdout",
     "output_type": "stream",
     "text": [
      "building tree 64 of 83\n",
      "building tree 65 of 83\n",
      "building tree 66 of 83\n",
      "building tree 67 of 83\n",
      "building tree 68 of 83\n",
      "building tree 69 of 83\n",
      "building tree 70 of 83\n",
      "building tree 71 of 83\n",
      "building tree 72 of 83\n",
      "building tree 73 of 83\n",
      "building tree 74 of 83\n",
      "building tree 75 of 83\n",
      "building tree 76 of 83\n",
      "building tree 77 of 83\n",
      "building tree 78 of 83\n",
      "building tree 79 of 83\n",
      "building tree 80 of 83\n",
      "building tree 81 of 83\n",
      "building tree 82 of 83\n",
      "building tree 83 of 83\n"
     ]
    },
    {
     "name": "stderr",
     "output_type": "stream",
     "text": [
      "[Parallel(n_jobs=-1)]: Done  77 out of  83 | elapsed:  1.0min remaining:    4.8s\n",
      "[Parallel(n_jobs=-1)]: Done  83 out of  83 | elapsed:  1.1min finished\n",
      "[Parallel(n_jobs=8)]: Done   2 tasks      | elapsed:    0.0s\n",
      "[Parallel(n_jobs=8)]: Done   9 tasks      | elapsed:    0.1s\n",
      "[Parallel(n_jobs=8)]: Done  16 tasks      | elapsed:    0.1s\n",
      "[Parallel(n_jobs=8)]: Done  25 tasks      | elapsed:    0.2s\n",
      "[Parallel(n_jobs=8)]: Done  34 tasks      | elapsed:    0.2s\n",
      "[Parallel(n_jobs=8)]: Done  45 tasks      | elapsed:    0.3s\n",
      "[Parallel(n_jobs=8)]: Done  56 tasks      | elapsed:    0.4s\n",
      "[Parallel(n_jobs=8)]: Done  77 out of  83 | elapsed:    0.5s remaining:    0.0s\n",
      "[Parallel(n_jobs=8)]: Done  83 out of  83 | elapsed:    0.5s finished\n",
      "[Parallel(n_jobs=8)]: Done   2 tasks      | elapsed:    0.1s\n",
      "[Parallel(n_jobs=8)]: Done   9 tasks      | elapsed:    0.2s\n",
      "[Parallel(n_jobs=8)]: Done  16 tasks      | elapsed:    0.2s\n",
      "[Parallel(n_jobs=8)]: Done  25 tasks      | elapsed:    0.4s\n",
      "[Parallel(n_jobs=8)]: Done  34 tasks      | elapsed:    0.5s\n",
      "[Parallel(n_jobs=8)]: Done  45 tasks      | elapsed:    0.6s\n",
      "[Parallel(n_jobs=8)]: Done  56 tasks      | elapsed:    0.8s\n",
      "[Parallel(n_jobs=8)]: Done  77 out of  83 | elapsed:    1.0s remaining:    0.1s\n",
      "[Parallel(n_jobs=8)]: Done  83 out of  83 | elapsed:    1.1s finished\n",
      "/home/justin/anaconda3/lib/python3.6/site-packages/sklearn/model_selection/_validation.py:437: DataConversionWarning: A column-vector y was passed when a 1d array was expected. Please change the shape of y to (n_samples,), for example using ravel().\n",
      "  estimator.fit(X_train, y_train, **fit_params)\n"
     ]
    },
    {
     "name": "stdout",
     "output_type": "stream",
     "text": [
      "building tree 2 of 83building tree 1 of 83building tree 4 of 83building tree 6 of 83building tree 7 of 83building tree 8 of 83building tree 5 of 83building tree 3 of 83\n",
      "\n",
      "\n",
      "\n",
      "\n",
      "\n",
      "\n",
      "\n",
      "building tree 9 of 83\n"
     ]
    },
    {
     "name": "stderr",
     "output_type": "stream",
     "text": [
      "[Parallel(n_jobs=-1)]: Done   2 tasks      | elapsed:    5.8s\n"
     ]
    },
    {
     "name": "stdout",
     "output_type": "stream",
     "text": [
      "building tree 10 of 83\n",
      "building tree 11 of 83\n",
      "building tree 12 of 83\n",
      "building tree 13 of 83\n",
      "building tree 14 of 83\n",
      "building tree 15 of 83\n",
      "building tree 16 of 83\n"
     ]
    },
    {
     "name": "stderr",
     "output_type": "stream",
     "text": [
      "[Parallel(n_jobs=-1)]: Done   9 tasks      | elapsed:   11.6s\n"
     ]
    },
    {
     "name": "stdout",
     "output_type": "stream",
     "text": [
      "building tree 17 of 83\n",
      "building tree 18 of 83\n",
      "building tree 19 of 83\n",
      "building tree 20 of 83\n",
      "building tree 21 of 83\n",
      "building tree 22 of 83\n",
      "building tree 23 of 83\n"
     ]
    },
    {
     "name": "stderr",
     "output_type": "stream",
     "text": [
      "[Parallel(n_jobs=-1)]: Done  16 tasks      | elapsed:   13.4s\n"
     ]
    },
    {
     "name": "stdout",
     "output_type": "stream",
     "text": [
      "building tree 24 of 83\n",
      "building tree 25 of 83\n",
      "building tree 26 of 83\n",
      "building tree 27 of 83\n",
      "building tree 28 of 83\n",
      "building tree 29 of 83\n",
      "building tree 30 of 83\n",
      "building tree 31 of 83\n",
      "building tree 32 of 83\n"
     ]
    },
    {
     "name": "stderr",
     "output_type": "stream",
     "text": [
      "[Parallel(n_jobs=-1)]: Done  25 tasks      | elapsed:   23.7s\n"
     ]
    },
    {
     "name": "stdout",
     "output_type": "stream",
     "text": [
      "building tree 33 of 83\n",
      "building tree 34 of 83\n",
      "building tree 35 of 83\n",
      "building tree 36 of 83\n",
      "building tree 37 of 83\n",
      "building tree 38 of 83\n",
      "building tree 39 of 83\n",
      "building tree 40 of 83\n",
      "building tree 41 of 83\n"
     ]
    },
    {
     "name": "stderr",
     "output_type": "stream",
     "text": [
      "[Parallel(n_jobs=-1)]: Done  34 tasks      | elapsed:   30.3s\n"
     ]
    },
    {
     "name": "stdout",
     "output_type": "stream",
     "text": [
      "building tree 42 of 83\n",
      "building tree 43 of 83\n",
      "building tree 44 of 83\n",
      "building tree 45 of 83\n",
      "building tree 46 of 83\n",
      "building tree 47 of 83\n",
      "building tree 48 of 83\n",
      "building tree 49 of 83\n",
      "building tree 50 of 83\n",
      "building tree 51 of 83\n",
      "building tree 52 of 83\n"
     ]
    },
    {
     "name": "stderr",
     "output_type": "stream",
     "text": [
      "[Parallel(n_jobs=-1)]: Done  45 tasks      | elapsed:   37.8s\n"
     ]
    },
    {
     "name": "stdout",
     "output_type": "stream",
     "text": [
      "building tree 53 of 83\n",
      "building tree 54 of 83\n",
      "building tree 55 of 83\n",
      "building tree 56 of 83\n",
      "building tree 57 of 83\n",
      "building tree 58 of 83\n",
      "building tree 59 of 83\n",
      "building tree 60 of 83\n",
      "building tree 61 of 83\n",
      "building tree 62 of 83\n",
      "building tree 63 of 83\n"
     ]
    },
    {
     "name": "stderr",
     "output_type": "stream",
     "text": [
      "[Parallel(n_jobs=-1)]: Done  56 tasks      | elapsed:   45.6s\n"
     ]
    },
    {
     "name": "stdout",
     "output_type": "stream",
     "text": [
      "building tree 64 of 83\n",
      "building tree 65 of 83\n",
      "building tree 66 of 83\n",
      "building tree 67 of 83\n",
      "building tree 68 of 83\n",
      "building tree 69 of 83\n",
      "building tree 70 of 83\n",
      "building tree 71 of 83\n",
      "building tree 72 of 83\n",
      "building tree 73 of 83\n",
      "building tree 74 of 83\n",
      "building tree 75 of 83\n",
      "building tree 76 of 83\n",
      "building tree 77 of 83\n",
      "building tree 78 of 83\n",
      "building tree 79 of 83\n",
      "building tree 80 of 83\n",
      "building tree 81 of 83\n",
      "building tree 82 of 83\n",
      "building tree 83 of 83\n"
     ]
    },
    {
     "name": "stderr",
     "output_type": "stream",
     "text": [
      "[Parallel(n_jobs=-1)]: Done  77 out of  83 | elapsed:  1.0min remaining:    4.9s\n",
      "[Parallel(n_jobs=-1)]: Done  83 out of  83 | elapsed:  1.1min finished\n",
      "[Parallel(n_jobs=8)]: Done   2 tasks      | elapsed:    0.0s\n",
      "[Parallel(n_jobs=8)]: Done   9 tasks      | elapsed:    0.1s\n",
      "[Parallel(n_jobs=8)]: Done  16 tasks      | elapsed:    0.1s\n",
      "[Parallel(n_jobs=8)]: Done  25 tasks      | elapsed:    0.2s\n",
      "[Parallel(n_jobs=8)]: Done  34 tasks      | elapsed:    0.3s\n",
      "[Parallel(n_jobs=8)]: Done  45 tasks      | elapsed:    0.3s\n",
      "[Parallel(n_jobs=8)]: Done  56 tasks      | elapsed:    0.4s\n",
      "[Parallel(n_jobs=8)]: Done  77 out of  83 | elapsed:    0.5s remaining:    0.0s\n",
      "[Parallel(n_jobs=8)]: Done  83 out of  83 | elapsed:    0.5s finished\n",
      "[Parallel(n_jobs=8)]: Done   2 tasks      | elapsed:    0.1s\n",
      "[Parallel(n_jobs=8)]: Done   9 tasks      | elapsed:    0.2s\n",
      "[Parallel(n_jobs=8)]: Done  16 tasks      | elapsed:    0.3s\n",
      "[Parallel(n_jobs=8)]: Done  25 tasks      | elapsed:    0.4s\n",
      "[Parallel(n_jobs=8)]: Done  34 tasks      | elapsed:    0.5s\n",
      "[Parallel(n_jobs=8)]: Done  45 tasks      | elapsed:    0.7s\n",
      "[Parallel(n_jobs=8)]: Done  56 tasks      | elapsed:    0.8s\n",
      "[Parallel(n_jobs=8)]: Done  77 out of  83 | elapsed:    1.1s remaining:    0.1s\n",
      "[Parallel(n_jobs=8)]: Done  83 out of  83 | elapsed:    1.1s finished\n",
      "/home/justin/anaconda3/lib/python3.6/site-packages/sklearn/model_selection/_validation.py:437: DataConversionWarning: A column-vector y was passed when a 1d array was expected. Please change the shape of y to (n_samples,), for example using ravel().\n",
      "  estimator.fit(X_train, y_train, **fit_params)\n"
     ]
    },
    {
     "name": "stdout",
     "output_type": "stream",
     "text": [
      "building tree 2 of 120building tree 3 of 120building tree 4 of 120building tree 5 of 120building tree 6 of 120building tree 7 of 120building tree 8 of 120building tree 1 of 120\n",
      "\n",
      "\n",
      "\n",
      "\n",
      "\n",
      "\n",
      "\n",
      "building tree 9 of 120\n",
      "building tree 10 of 120\n",
      "building tree 11 of 120\n"
     ]
    },
    {
     "name": "stderr",
     "output_type": "stream",
     "text": [
      "[Parallel(n_jobs=-1)]: Done   2 tasks      | elapsed:    3.3s\n"
     ]
    },
    {
     "name": "stdout",
     "output_type": "stream",
     "text": [
      "building tree 12 of 120\n",
      "building tree 13 of 120\n",
      "building tree 14 of 120\n",
      "building tree 15 of 120\n",
      "building tree 16 of 120\n"
     ]
    },
    {
     "name": "stderr",
     "output_type": "stream",
     "text": [
      "[Parallel(n_jobs=-1)]: Done   9 tasks      | elapsed:    6.6s\n"
     ]
    },
    {
     "name": "stdout",
     "output_type": "stream",
     "text": [
      "building tree 17 of 120\n",
      "building tree 18 of 120\n",
      "building tree 19 of 120\n",
      "building tree 20 of 120\n",
      "building tree 21 of 120\n",
      "building tree 22 of 120\n",
      "building tree 23 of 120\n"
     ]
    },
    {
     "name": "stderr",
     "output_type": "stream",
     "text": [
      "[Parallel(n_jobs=-1)]: Done  16 tasks      | elapsed:    8.1s\n"
     ]
    },
    {
     "name": "stdout",
     "output_type": "stream",
     "text": [
      "building tree 24 of 120\n",
      "building tree 25 of 120\n",
      "building tree 26 of 120\n",
      "building tree 27 of 120\n",
      "building tree 28 of 120\n",
      "building tree 29 of 120\n",
      "building tree 30 of 120\n",
      "building tree 31 of 120\n",
      "building tree 32 of 120\n"
     ]
    },
    {
     "name": "stderr",
     "output_type": "stream",
     "text": [
      "[Parallel(n_jobs=-1)]: Done  25 tasks      | elapsed:   13.7s\n"
     ]
    },
    {
     "name": "stdout",
     "output_type": "stream",
     "text": [
      "building tree 33 of 120\n",
      "building tree 34 of 120\n",
      "building tree 35 of 120\n",
      "building tree 36 of 120\n",
      "building tree 37 of 120\n",
      "building tree 38 of 120\n",
      "building tree 39 of 120\n",
      "building tree 40 of 120\n",
      "building tree 41 of 120\n"
     ]
    },
    {
     "name": "stderr",
     "output_type": "stream",
     "text": [
      "[Parallel(n_jobs=-1)]: Done  34 tasks      | elapsed:   17.3s\n"
     ]
    },
    {
     "name": "stdout",
     "output_type": "stream",
     "text": [
      "building tree 42 of 120\n",
      "building tree 43 of 120\n",
      "building tree 44 of 120\n",
      "building tree 45 of 120\n",
      "building tree 46 of 120\n",
      "building tree 47 of 120\n",
      "building tree 48 of 120\n",
      "building tree 49 of 120\n",
      "building tree 50 of 120\n",
      "building tree 51 of 120\n",
      "building tree 52 of 120\n",
      "building tree 53 of 120\n"
     ]
    },
    {
     "name": "stderr",
     "output_type": "stream",
     "text": [
      "[Parallel(n_jobs=-1)]: Done  45 tasks      | elapsed:   21.5s\n"
     ]
    },
    {
     "name": "stdout",
     "output_type": "stream",
     "text": [
      "building tree 54 of 120\n",
      "building tree 55 of 120\n",
      "building tree 56 of 120\n",
      "building tree 57 of 120\n",
      "building tree 58 of 120\n",
      "building tree 59 of 120\n",
      "building tree 60 of 120\n",
      "building tree 61 of 120\n",
      "building tree 62 of 120\n",
      "building tree 63 of 120\n"
     ]
    },
    {
     "name": "stderr",
     "output_type": "stream",
     "text": [
      "[Parallel(n_jobs=-1)]: Done  56 tasks      | elapsed:   26.7s\n"
     ]
    },
    {
     "name": "stdout",
     "output_type": "stream",
     "text": [
      "building tree 64 of 120\n",
      "building tree 65 of 120\n",
      "building tree 66 of 120\n",
      "building tree 67 of 120\n",
      "building tree 68 of 120\n",
      "building tree 69 of 120\n",
      "building tree 70 of 120\n",
      "building tree 71 of 120\n",
      "building tree 72 of 120\n",
      "building tree 73 of 120\n",
      "building tree 74 of 120\n",
      "building tree 75 of 120\n",
      "building tree 76 of 120\n"
     ]
    },
    {
     "name": "stderr",
     "output_type": "stream",
     "text": [
      "[Parallel(n_jobs=-1)]: Done  69 tasks      | elapsed:   32.2s\n"
     ]
    },
    {
     "name": "stdout",
     "output_type": "stream",
     "text": [
      "building tree 77 of 120\n",
      "building tree 78 of 120\n",
      "building tree 79 of 120\n",
      "building tree 80 of 120\n",
      "building tree 81 of 120\n",
      "building tree 82 of 120\n",
      "building tree 83 of 120\n",
      "building tree 84 of 120\n",
      "building tree 85 of 120\n",
      "building tree 86 of 120\n",
      "building tree 87 of 120\n",
      "building tree 88 of 120\n",
      "building tree 89 of 120\n"
     ]
    },
    {
     "name": "stderr",
     "output_type": "stream",
     "text": [
      "[Parallel(n_jobs=-1)]: Done  82 tasks      | elapsed:   38.3s\n"
     ]
    },
    {
     "name": "stdout",
     "output_type": "stream",
     "text": [
      "building tree 90 of 120\n",
      "building tree 91 of 120\n",
      "building tree 92 of 120\n",
      "building tree 93 of 120\n",
      "building tree 94 of 120\n",
      "building tree 95 of 120\n",
      "building tree 96 of 120\n",
      "building tree 97 of 120\n",
      "building tree 98 of 120\n",
      "building tree 99 of 120\n",
      "building tree 100 of 120\n",
      "building tree 101 of 120\n",
      "building tree 102 of 120\n",
      "building tree 103 of 120\n",
      "building tree 104 of 120\n"
     ]
    },
    {
     "name": "stderr",
     "output_type": "stream",
     "text": [
      "[Parallel(n_jobs=-1)]: Done  97 tasks      | elapsed:   45.1s\n"
     ]
    },
    {
     "name": "stdout",
     "output_type": "stream",
     "text": [
      "building tree 105 of 120\n",
      "building tree 106 of 120\n",
      "building tree 107 of 120\n",
      "building tree 108 of 120\n",
      "building tree 109 of 120\n",
      "building tree 110 of 120\n",
      "building tree 111 of 120\n",
      "building tree 112 of 120\n",
      "building tree 113 of 120\n",
      "building tree 114 of 120\n",
      "building tree 115 of 120\n",
      "building tree 116 of 120\n",
      "building tree 117 of 120\n",
      "building tree 118 of 120\n",
      "building tree 119 of 120\n",
      "building tree 120 of 120\n"
     ]
    },
    {
     "name": "stderr",
     "output_type": "stream",
     "text": [
      "[Parallel(n_jobs=-1)]: Done 118 out of 120 | elapsed:   54.1s remaining:    0.9s\n",
      "[Parallel(n_jobs=-1)]: Done 120 out of 120 | elapsed:   54.6s finished\n",
      "[Parallel(n_jobs=8)]: Done   2 tasks      | elapsed:    0.0s\n",
      "[Parallel(n_jobs=8)]: Done   9 tasks      | elapsed:    0.1s\n",
      "[Parallel(n_jobs=8)]: Done  16 tasks      | elapsed:    0.1s\n",
      "[Parallel(n_jobs=8)]: Done  25 tasks      | elapsed:    0.1s\n",
      "[Parallel(n_jobs=8)]: Done  34 tasks      | elapsed:    0.2s\n",
      "[Parallel(n_jobs=8)]: Done  45 tasks      | elapsed:    0.2s\n",
      "[Parallel(n_jobs=8)]: Done  56 tasks      | elapsed:    0.3s\n",
      "[Parallel(n_jobs=8)]: Done  69 tasks      | elapsed:    0.3s\n",
      "[Parallel(n_jobs=8)]: Done  82 tasks      | elapsed:    0.4s\n",
      "[Parallel(n_jobs=8)]: Done  97 tasks      | elapsed:    0.5s\n",
      "[Parallel(n_jobs=8)]: Done 118 out of 120 | elapsed:    0.6s remaining:    0.0s\n",
      "[Parallel(n_jobs=8)]: Done 120 out of 120 | elapsed:    0.6s finished\n",
      "[Parallel(n_jobs=8)]: Done   2 tasks      | elapsed:    0.1s\n",
      "[Parallel(n_jobs=8)]: Done   9 tasks      | elapsed:    0.1s\n",
      "[Parallel(n_jobs=8)]: Done  16 tasks      | elapsed:    0.2s\n",
      "[Parallel(n_jobs=8)]: Done  25 tasks      | elapsed:    0.3s\n",
      "[Parallel(n_jobs=8)]: Done  34 tasks      | elapsed:    0.4s\n",
      "[Parallel(n_jobs=8)]: Done  45 tasks      | elapsed:    0.5s\n",
      "[Parallel(n_jobs=8)]: Done  56 tasks      | elapsed:    0.6s\n",
      "[Parallel(n_jobs=8)]: Done  69 tasks      | elapsed:    0.6s\n",
      "[Parallel(n_jobs=8)]: Done  82 tasks      | elapsed:    0.8s\n",
      "[Parallel(n_jobs=8)]: Done  97 tasks      | elapsed:    0.9s\n",
      "[Parallel(n_jobs=8)]: Done 118 out of 120 | elapsed:    1.1s remaining:    0.0s\n",
      "[Parallel(n_jobs=8)]: Done 120 out of 120 | elapsed:    1.1s finished\n",
      "/home/justin/anaconda3/lib/python3.6/site-packages/sklearn/model_selection/_validation.py:437: DataConversionWarning: A column-vector y was passed when a 1d array was expected. Please change the shape of y to (n_samples,), for example using ravel().\n",
      "  estimator.fit(X_train, y_train, **fit_params)\n"
     ]
    },
    {
     "name": "stdout",
     "output_type": "stream",
     "text": [
      "building tree 2 of 120building tree 1 of 120building tree 5 of 120building tree 4 of 120building tree 6 of 120building tree 7 of 120building tree 3 of 120building tree 8 of 120\n",
      "\n",
      "\n",
      "\n",
      "\n",
      "\n",
      "\n",
      "\n",
      "building tree 9 of 120\n",
      "building tree 10 of 120\n"
     ]
    },
    {
     "name": "stderr",
     "output_type": "stream",
     "text": [
      "[Parallel(n_jobs=-1)]: Done   2 tasks      | elapsed:    3.1s\n"
     ]
    },
    {
     "name": "stdout",
     "output_type": "stream",
     "text": [
      "building tree 11 of 120\n",
      "building tree 12 of 120\n",
      "building tree 13 of 120\n",
      "building tree 14 of 120\n",
      "building tree 15 of 120\n",
      "building tree 16 of 120\n"
     ]
    },
    {
     "name": "stderr",
     "output_type": "stream",
     "text": [
      "[Parallel(n_jobs=-1)]: Done   9 tasks      | elapsed:    6.3s\n"
     ]
    },
    {
     "name": "stdout",
     "output_type": "stream",
     "text": [
      "building tree 17 of 120\n",
      "building tree 18 of 120\n",
      "building tree 19 of 120\n",
      "building tree 20 of 120\n",
      "building tree 21 of 120\n",
      "building tree 22 of 120\n",
      "building tree 23 of 120\n",
      "building tree 24 of 120\n"
     ]
    },
    {
     "name": "stderr",
     "output_type": "stream",
     "text": [
      "[Parallel(n_jobs=-1)]: Done  16 tasks      | elapsed:    7.6s\n"
     ]
    },
    {
     "name": "stdout",
     "output_type": "stream",
     "text": [
      "building tree 25 of 120\n",
      "building tree 26 of 120\n",
      "building tree 27 of 120\n",
      "building tree 28 of 120\n",
      "building tree 29 of 120\n",
      "building tree 30 of 120\n",
      "building tree 31 of 120\n",
      "building tree 32 of 120\n"
     ]
    },
    {
     "name": "stderr",
     "output_type": "stream",
     "text": [
      "[Parallel(n_jobs=-1)]: Done  25 tasks      | elapsed:   12.7s\n"
     ]
    },
    {
     "name": "stdout",
     "output_type": "stream",
     "text": [
      "building tree 33 of 120\n",
      "building tree 34 of 120\n",
      "building tree 35 of 120\n",
      "building tree 36 of 120\n",
      "building tree 37 of 120\n",
      "building tree 38 of 120\n",
      "building tree 39 of 120\n",
      "building tree 40 of 120\n",
      "building tree 41 of 120\n"
     ]
    },
    {
     "name": "stderr",
     "output_type": "stream",
     "text": [
      "[Parallel(n_jobs=-1)]: Done  34 tasks      | elapsed:   16.2s\n"
     ]
    },
    {
     "name": "stdout",
     "output_type": "stream",
     "text": [
      "building tree 42 of 120\n",
      "building tree 43 of 120\n",
      "building tree 44 of 120\n",
      "building tree 45 of 120\n",
      "building tree 46 of 120\n",
      "building tree 47 of 120\n",
      "building tree 48 of 120\n",
      "building tree 49 of 120\n",
      "building tree 50 of 120\n",
      "building tree 51 of 120\n",
      "building tree 52 of 120\n"
     ]
    },
    {
     "name": "stderr",
     "output_type": "stream",
     "text": [
      "[Parallel(n_jobs=-1)]: Done  45 tasks      | elapsed:   21.5s\n"
     ]
    },
    {
     "name": "stdout",
     "output_type": "stream",
     "text": [
      "building tree 53 of 120\n",
      "building tree 54 of 120\n",
      "building tree 55 of 120\n",
      "building tree 56 of 120\n",
      "building tree 57 of 120\n",
      "building tree 58 of 120\n",
      "building tree 59 of 120\n",
      "building tree 60 of 120\n",
      "building tree 61 of 120\n",
      "building tree 62 of 120\n",
      "building tree 63 of 120\n"
     ]
    },
    {
     "name": "stderr",
     "output_type": "stream",
     "text": [
      "[Parallel(n_jobs=-1)]: Done  56 tasks      | elapsed:   26.1s\n"
     ]
    },
    {
     "name": "stdout",
     "output_type": "stream",
     "text": [
      "building tree 64 of 120\n",
      "building tree 65 of 120\n",
      "building tree 66 of 120\n",
      "building tree 67 of 120\n",
      "building tree 68 of 120\n",
      "building tree 69 of 120\n",
      "building tree 70 of 120\n",
      "building tree 71 of 120\n",
      "building tree 72 of 120\n",
      "building tree 73 of 120\n",
      "building tree 74 of 120\n",
      "building tree 75 of 120\n",
      "building tree 76 of 120\n"
     ]
    },
    {
     "name": "stderr",
     "output_type": "stream",
     "text": [
      "[Parallel(n_jobs=-1)]: Done  69 tasks      | elapsed:   32.4s\n"
     ]
    },
    {
     "name": "stdout",
     "output_type": "stream",
     "text": [
      "building tree 77 of 120\n",
      "building tree 78 of 120\n",
      "building tree 79 of 120\n",
      "building tree 80 of 120\n",
      "building tree 81 of 120\n",
      "building tree 82 of 120\n",
      "building tree 83 of 120\n",
      "building tree 84 of 120\n",
      "building tree 85 of 120\n",
      "building tree 86 of 120\n",
      "building tree 87 of 120\n",
      "building tree 88 of 120\n",
      "building tree 89 of 120\n"
     ]
    },
    {
     "name": "stderr",
     "output_type": "stream",
     "text": [
      "[Parallel(n_jobs=-1)]: Done  82 tasks      | elapsed:   38.2s\n"
     ]
    },
    {
     "name": "stdout",
     "output_type": "stream",
     "text": [
      "building tree 90 of 120\n",
      "building tree 91 of 120\n",
      "building tree 92 of 120\n",
      "building tree 93 of 120\n",
      "building tree 94 of 120\n",
      "building tree 95 of 120\n",
      "building tree 96 of 120\n",
      "building tree 97 of 120\n",
      "building tree 98 of 120\n",
      "building tree 99 of 120\n",
      "building tree 100 of 120\n",
      "building tree 101 of 120\n",
      "building tree 102 of 120\n",
      "building tree 103 of 120\n",
      "building tree 104 of 120\n",
      "building tree 105 of 120\n"
     ]
    },
    {
     "name": "stderr",
     "output_type": "stream",
     "text": [
      "[Parallel(n_jobs=-1)]: Done  97 tasks      | elapsed:   44.2s\n"
     ]
    },
    {
     "name": "stdout",
     "output_type": "stream",
     "text": [
      "building tree 106 of 120\n",
      "building tree 107 of 120\n",
      "building tree 108 of 120\n",
      "building tree 109 of 120\n",
      "building tree 110 of 120\n",
      "building tree 111 of 120\n",
      "building tree 112 of 120\n",
      "building tree 113 of 120\n",
      "building tree 114 of 120\n",
      "building tree 115 of 120\n",
      "building tree 116 of 120\n",
      "building tree 117 of 120\n",
      "building tree 118 of 120\n",
      "building tree 119 of 120\n",
      "building tree 120 of 120\n"
     ]
    },
    {
     "name": "stderr",
     "output_type": "stream",
     "text": [
      "[Parallel(n_jobs=-1)]: Done 118 out of 120 | elapsed:   53.3s remaining:    0.9s\n",
      "[Parallel(n_jobs=-1)]: Done 120 out of 120 | elapsed:   53.9s finished\n",
      "[Parallel(n_jobs=8)]: Done   2 tasks      | elapsed:    0.0s\n",
      "[Parallel(n_jobs=8)]: Done   9 tasks      | elapsed:    0.1s\n",
      "[Parallel(n_jobs=8)]: Done  16 tasks      | elapsed:    0.1s\n",
      "[Parallel(n_jobs=8)]: Done  25 tasks      | elapsed:    0.2s\n",
      "[Parallel(n_jobs=8)]: Done  34 tasks      | elapsed:    0.2s\n",
      "[Parallel(n_jobs=8)]: Done  45 tasks      | elapsed:    0.3s\n",
      "[Parallel(n_jobs=8)]: Done  56 tasks      | elapsed:    0.3s\n",
      "[Parallel(n_jobs=8)]: Done  69 tasks      | elapsed:    0.4s\n",
      "[Parallel(n_jobs=8)]: Done  82 tasks      | elapsed:    0.4s\n",
      "[Parallel(n_jobs=8)]: Done  97 tasks      | elapsed:    0.5s\n",
      "[Parallel(n_jobs=8)]: Done 118 out of 120 | elapsed:    0.6s remaining:    0.0s\n",
      "[Parallel(n_jobs=8)]: Done 120 out of 120 | elapsed:    0.6s finished\n",
      "[Parallel(n_jobs=8)]: Done   2 tasks      | elapsed:    0.1s\n",
      "[Parallel(n_jobs=8)]: Done   9 tasks      | elapsed:    0.1s\n",
      "[Parallel(n_jobs=8)]: Done  16 tasks      | elapsed:    0.2s\n",
      "[Parallel(n_jobs=8)]: Done  25 tasks      | elapsed:    0.2s\n",
      "[Parallel(n_jobs=8)]: Done  34 tasks      | elapsed:    0.3s\n",
      "[Parallel(n_jobs=8)]: Done  45 tasks      | elapsed:    0.4s\n",
      "[Parallel(n_jobs=8)]: Done  56 tasks      | elapsed:    0.5s\n",
      "[Parallel(n_jobs=8)]: Done  69 tasks      | elapsed:    0.6s\n",
      "[Parallel(n_jobs=8)]: Done  82 tasks      | elapsed:    0.7s\n",
      "[Parallel(n_jobs=8)]: Done  97 tasks      | elapsed:    0.9s\n",
      "[Parallel(n_jobs=8)]: Done 118 out of 120 | elapsed:    1.1s remaining:    0.0s\n",
      "[Parallel(n_jobs=8)]: Done 120 out of 120 | elapsed:    1.1s finished\n",
      "/home/justin/anaconda3/lib/python3.6/site-packages/sklearn/model_selection/_validation.py:437: DataConversionWarning: A column-vector y was passed when a 1d array was expected. Please change the shape of y to (n_samples,), for example using ravel().\n",
      "  estimator.fit(X_train, y_train, **fit_params)\n"
     ]
    },
    {
     "name": "stdout",
     "output_type": "stream",
     "text": [
      "building tree 3 of 120building tree 4 of 120building tree 5 of 120building tree 1 of 120building tree 6 of 120building tree 7 of 120building tree 2 of 120building tree 8 of 120\n",
      "\n",
      "\n",
      "\n",
      "\n",
      "\n",
      "\n",
      "\n",
      "building tree 9 of 120\n"
     ]
    },
    {
     "name": "stderr",
     "output_type": "stream",
     "text": [
      "[Parallel(n_jobs=-1)]: Done   2 tasks      | elapsed:    3.3s\n"
     ]
    },
    {
     "name": "stdout",
     "output_type": "stream",
     "text": [
      "building tree 10 of 120\n",
      "building tree 11 of 120\n",
      "building tree 12 of 120\n",
      "building tree 13 of 120\n",
      "building tree 14 of 120\n",
      "building tree 15 of 120\n",
      "building tree 16 of 120\n"
     ]
    },
    {
     "name": "stderr",
     "output_type": "stream",
     "text": [
      "[Parallel(n_jobs=-1)]: Done   9 tasks      | elapsed:    6.3s\n"
     ]
    },
    {
     "name": "stdout",
     "output_type": "stream",
     "text": [
      "building tree 17 of 120\n",
      "building tree 19 of 120\n",
      "building tree 18 of 120\n",
      "building tree 20 of 120\n",
      "building tree 21 of 120\n",
      "building tree 22 of 120\n",
      "building tree 23 of 120\n",
      "building tree 24 of 120\n"
     ]
    },
    {
     "name": "stderr",
     "output_type": "stream",
     "text": [
      "[Parallel(n_jobs=-1)]: Done  16 tasks      | elapsed:    7.7s\n"
     ]
    },
    {
     "name": "stdout",
     "output_type": "stream",
     "text": [
      "building tree 25 of 120\n",
      "building tree 26 of 120\n",
      "building tree 27 of 120\n",
      "building tree 28 of 120\n",
      "building tree 29 of 120\n",
      "building tree 30 of 120\n",
      "building tree 31 of 120\n",
      "building tree 32 of 120\n"
     ]
    },
    {
     "name": "stderr",
     "output_type": "stream",
     "text": [
      "[Parallel(n_jobs=-1)]: Done  25 tasks      | elapsed:   13.3s\n"
     ]
    },
    {
     "name": "stdout",
     "output_type": "stream",
     "text": [
      "building tree 33 of 120\n",
      "building tree 34 of 120\n",
      "building tree 35 of 120\n",
      "building tree 36 of 120\n",
      "building tree 37 of 120\n",
      "building tree 38 of 120\n",
      "building tree 39 of 120\n",
      "building tree 40 of 120\n",
      "building tree 41 of 120\n",
      "building tree 42 of 120\n"
     ]
    },
    {
     "name": "stderr",
     "output_type": "stream",
     "text": [
      "[Parallel(n_jobs=-1)]: Done  34 tasks      | elapsed:   17.3s\n"
     ]
    },
    {
     "name": "stdout",
     "output_type": "stream",
     "text": [
      "building tree 43 of 120\n",
      "building tree 44 of 120\n",
      "building tree 45 of 120\n",
      "building tree 46 of 120\n",
      "building tree 47 of 120\n",
      "building tree 48 of 120\n",
      "building tree 49 of 120\n",
      "building tree 50 of 120\n",
      "building tree 51 of 120\n",
      "building tree 52 of 120\n",
      "building tree 53 of 120\n"
     ]
    },
    {
     "name": "stderr",
     "output_type": "stream",
     "text": [
      "[Parallel(n_jobs=-1)]: Done  45 tasks      | elapsed:   22.0s\n"
     ]
    },
    {
     "name": "stdout",
     "output_type": "stream",
     "text": [
      "building tree 54 of 120\n",
      "building tree 55 of 120\n",
      "building tree 56 of 120\n",
      "building tree 57 of 120\n",
      "building tree 58 of 120\n",
      "building tree 59 of 120\n",
      "building tree 60 of 120\n",
      "building tree 61 of 120\n",
      "building tree 62 of 120\n",
      "building tree 63 of 120\n"
     ]
    },
    {
     "name": "stderr",
     "output_type": "stream",
     "text": [
      "[Parallel(n_jobs=-1)]: Done  56 tasks      | elapsed:   26.2s\n"
     ]
    },
    {
     "name": "stdout",
     "output_type": "stream",
     "text": [
      "building tree 64 of 120\n",
      "building tree 65 of 120\n",
      "building tree 66 of 120\n",
      "building tree 67 of 120\n",
      "building tree 68 of 120\n",
      "building tree 69 of 120\n",
      "building tree 70 of 120\n",
      "building tree 71 of 120\n",
      "building tree 72 of 120\n",
      "building tree 73 of 120\n",
      "building tree 74 of 120\n",
      "building tree 75 of 120\n",
      "building tree 76 of 120\n"
     ]
    },
    {
     "name": "stderr",
     "output_type": "stream",
     "text": [
      "[Parallel(n_jobs=-1)]: Done  69 tasks      | elapsed:   33.2s\n"
     ]
    },
    {
     "name": "stdout",
     "output_type": "stream",
     "text": [
      "building tree 77 of 120\n",
      "building tree 78 of 120\n",
      "building tree 79 of 120\n",
      "building tree 80 of 120\n",
      "building tree 81 of 120\n",
      "building tree 82 of 120\n",
      "building tree 83 of 120\n",
      "building tree 84 of 120\n",
      "building tree 85 of 120\n",
      "building tree 86 of 120\n",
      "building tree 87 of 120\n",
      "building tree 88 of 120\n",
      "building tree 89 of 120\n"
     ]
    },
    {
     "name": "stderr",
     "output_type": "stream",
     "text": [
      "[Parallel(n_jobs=-1)]: Done  82 tasks      | elapsed:   38.9s\n"
     ]
    },
    {
     "name": "stdout",
     "output_type": "stream",
     "text": [
      "building tree 90 of 120\n",
      "building tree 91 of 120\n",
      "building tree 92 of 120\n",
      "building tree 93 of 120\n",
      "building tree 94 of 120\n",
      "building tree 95 of 120\n",
      "building tree 96 of 120\n",
      "building tree 97 of 120\n",
      "building tree 98 of 120\n",
      "building tree 100 of 120\n",
      "building tree 99 of 120\n",
      "building tree 101 of 120\n",
      "building tree 102 of 120\n",
      "building tree 103 of 120\n",
      "building tree 104 of 120\n"
     ]
    },
    {
     "name": "stderr",
     "output_type": "stream",
     "text": [
      "[Parallel(n_jobs=-1)]: Done  97 tasks      | elapsed:   45.1s\n"
     ]
    },
    {
     "name": "stdout",
     "output_type": "stream",
     "text": [
      "building tree 105 of 120\n",
      "building tree 106 of 120\n",
      "building tree 107 of 120\n",
      "building tree 108 of 120\n",
      "building tree 109 of 120\n",
      "building tree 110 of 120\n",
      "building tree 111 of 120\n",
      "building tree 112 of 120\n",
      "building tree 113 of 120\n",
      "building tree 114 of 120\n",
      "building tree 115 of 120\n",
      "building tree 116 of 120\n",
      "building tree 118 of 120\n",
      "building tree 117 of 120\n",
      "building tree 119 of 120\n",
      "building tree 120 of 120\n"
     ]
    },
    {
     "name": "stderr",
     "output_type": "stream",
     "text": [
      "[Parallel(n_jobs=-1)]: Done 118 out of 120 | elapsed:   54.3s remaining:    0.9s\n",
      "[Parallel(n_jobs=-1)]: Done 120 out of 120 | elapsed:   54.5s finished\n",
      "[Parallel(n_jobs=8)]: Done   2 tasks      | elapsed:    0.0s\n",
      "[Parallel(n_jobs=8)]: Done   9 tasks      | elapsed:    0.1s\n",
      "[Parallel(n_jobs=8)]: Done  16 tasks      | elapsed:    0.1s\n",
      "[Parallel(n_jobs=8)]: Done  25 tasks      | elapsed:    0.1s\n",
      "[Parallel(n_jobs=8)]: Done  34 tasks      | elapsed:    0.2s\n",
      "[Parallel(n_jobs=8)]: Done  45 tasks      | elapsed:    0.2s\n",
      "[Parallel(n_jobs=8)]: Done  56 tasks      | elapsed:    0.3s\n",
      "[Parallel(n_jobs=8)]: Done  69 tasks      | elapsed:    0.3s\n",
      "[Parallel(n_jobs=8)]: Done  82 tasks      | elapsed:    0.4s\n",
      "[Parallel(n_jobs=8)]: Done  97 tasks      | elapsed:    0.5s\n",
      "[Parallel(n_jobs=8)]: Done 118 out of 120 | elapsed:    0.5s remaining:    0.0s\n",
      "[Parallel(n_jobs=8)]: Done 120 out of 120 | elapsed:    0.6s finished\n",
      "[Parallel(n_jobs=8)]: Done   2 tasks      | elapsed:    0.1s\n",
      "[Parallel(n_jobs=8)]: Done   9 tasks      | elapsed:    0.1s\n",
      "[Parallel(n_jobs=8)]: Done  16 tasks      | elapsed:    0.2s\n",
      "[Parallel(n_jobs=8)]: Done  25 tasks      | elapsed:    0.3s\n",
      "[Parallel(n_jobs=8)]: Done  34 tasks      | elapsed:    0.4s\n",
      "[Parallel(n_jobs=8)]: Done  45 tasks      | elapsed:    0.5s\n",
      "[Parallel(n_jobs=8)]: Done  56 tasks      | elapsed:    0.6s\n",
      "[Parallel(n_jobs=8)]: Done  69 tasks      | elapsed:    0.7s\n",
      "[Parallel(n_jobs=8)]: Done  82 tasks      | elapsed:    0.8s\n",
      "[Parallel(n_jobs=8)]: Done  97 tasks      | elapsed:    1.0s\n",
      "[Parallel(n_jobs=8)]: Done 118 out of 120 | elapsed:    1.2s remaining:    0.0s\n",
      "[Parallel(n_jobs=8)]: Done 120 out of 120 | elapsed:    1.2s finished\n",
      "/home/justin/anaconda3/lib/python3.6/site-packages/sklearn/model_selection/_validation.py:437: DataConversionWarning: A column-vector y was passed when a 1d array was expected. Please change the shape of y to (n_samples,), for example using ravel().\n",
      "  estimator.fit(X_train, y_train, **fit_params)\n"
     ]
    },
    {
     "name": "stdout",
     "output_type": "stream",
     "text": [
      "building tree 2 of 147building tree 8 of 147building tree 5 of 147building tree 3 of 147building tree 4 of 147building tree 6 of 147building tree 1 of 147building tree 7 of 147\n",
      "\n",
      "\n",
      "\n",
      "\n",
      "\n",
      "\n",
      "\n",
      "building tree 9 of 147\n",
      "building tree 10 of 147\n",
      "building tree 11 of 147\n"
     ]
    },
    {
     "name": "stderr",
     "output_type": "stream",
     "text": [
      "[Parallel(n_jobs=-1)]: Done   2 tasks      | elapsed:    4.5s\n"
     ]
    },
    {
     "name": "stdout",
     "output_type": "stream",
     "text": [
      "building tree 12 of 147\n",
      "building tree 13 of 147\n",
      "building tree 14 of 147\n",
      "building tree 15 of 147\n",
      "building tree 16 of 147\n"
     ]
    },
    {
     "name": "stderr",
     "output_type": "stream",
     "text": [
      "[Parallel(n_jobs=-1)]: Done   9 tasks      | elapsed:    8.8s\n"
     ]
    },
    {
     "name": "stdout",
     "output_type": "stream",
     "text": [
      "building tree 17 of 147\n",
      "building tree 18 of 147\n",
      "building tree 19 of 147\n",
      "building tree 20 of 147\n",
      "building tree 21 of 147\n",
      "building tree 22 of 147\n",
      "building tree 23 of 147\n"
     ]
    },
    {
     "name": "stderr",
     "output_type": "stream",
     "text": [
      "[Parallel(n_jobs=-1)]: Done  16 tasks      | elapsed:   10.5s\n"
     ]
    },
    {
     "name": "stdout",
     "output_type": "stream",
     "text": [
      "building tree 24 of 147\n",
      "building tree 25 of 147\n",
      "building tree 26 of 147\n",
      "building tree 27 of 147\n",
      "building tree 28 of 147\n",
      "building tree 29 of 147\n",
      "building tree 30 of 147\n",
      "building tree 31 of 147\n",
      "building tree 32 of 147\n"
     ]
    },
    {
     "name": "stderr",
     "output_type": "stream",
     "text": [
      "[Parallel(n_jobs=-1)]: Done  25 tasks      | elapsed:   17.6s\n"
     ]
    },
    {
     "name": "stdout",
     "output_type": "stream",
     "text": [
      "building tree 33 of 147\n",
      "building tree 34 of 147\n",
      "building tree 35 of 147\n",
      "building tree 36 of 147\n",
      "building tree 37 of 147\n",
      "building tree 38 of 147\n",
      "building tree 39 of 147\n",
      "building tree 40 of 147\n",
      "building tree 41 of 147\n"
     ]
    },
    {
     "name": "stderr",
     "output_type": "stream",
     "text": [
      "[Parallel(n_jobs=-1)]: Done  34 tasks      | elapsed:   23.6s\n"
     ]
    },
    {
     "name": "stdout",
     "output_type": "stream",
     "text": [
      "building tree 42 of 147\n",
      "building tree 43 of 147\n",
      "building tree 44 of 147\n",
      "building tree 45 of 147\n",
      "building tree 46 of 147\n",
      "building tree 47 of 147\n",
      "building tree 48 of 147\n",
      "building tree 49 of 147\n",
      "building tree 50 of 147\n",
      "building tree 51 of 147\n",
      "building tree 52 of 147\n"
     ]
    },
    {
     "name": "stderr",
     "output_type": "stream",
     "text": [
      "[Parallel(n_jobs=-1)]: Done  45 tasks      | elapsed:   29.3s\n"
     ]
    },
    {
     "name": "stdout",
     "output_type": "stream",
     "text": [
      "building tree 53 of 147\n",
      "building tree 54 of 147\n",
      "building tree 55 of 147\n",
      "building tree 56 of 147\n",
      "building tree 57 of 147\n",
      "building tree 58 of 147\n",
      "building tree 59 of 147\n",
      "building tree 60 of 147\n",
      "building tree 61 of 147\n",
      "building tree 62 of 147\n",
      "building tree 63 of 147\n"
     ]
    },
    {
     "name": "stderr",
     "output_type": "stream",
     "text": [
      "[Parallel(n_jobs=-1)]: Done  56 tasks      | elapsed:   35.2s\n"
     ]
    },
    {
     "name": "stdout",
     "output_type": "stream",
     "text": [
      "building tree 64 of 147\n",
      "building tree 65 of 147\n",
      "building tree 66 of 147\n",
      "building tree 67 of 147\n",
      "building tree 68 of 147\n",
      "building tree 69 of 147\n",
      "building tree 70 of 147\n",
      "building tree 71 of 147\n",
      "building tree 72 of 147\n",
      "building tree 73 of 147\n",
      "building tree 74 of 147\n",
      "building tree 75 of 147\n",
      "building tree 76 of 147\n",
      "building tree 77 of 147\n"
     ]
    },
    {
     "name": "stderr",
     "output_type": "stream",
     "text": [
      "[Parallel(n_jobs=-1)]: Done  69 tasks      | elapsed:   43.9s\n"
     ]
    },
    {
     "name": "stdout",
     "output_type": "stream",
     "text": [
      "building tree 78 of 147\n",
      "building tree 79 of 147\n",
      "building tree 80 of 147\n",
      "building tree 81 of 147\n",
      "building tree 82 of 147\n",
      "building tree 83 of 147\n",
      "building tree 84 of 147\n",
      "building tree 85 of 147\n",
      "building tree 86 of 147\n",
      "building tree 87 of 147\n",
      "building tree 88 of 147\n",
      "building tree 89 of 147\n"
     ]
    },
    {
     "name": "stderr",
     "output_type": "stream",
     "text": [
      "[Parallel(n_jobs=-1)]: Done  82 tasks      | elapsed:   52.2s\n"
     ]
    },
    {
     "name": "stdout",
     "output_type": "stream",
     "text": [
      "building tree 90 of 147\n",
      "building tree 91 of 147\n",
      "building tree 92 of 147\n",
      "building tree 93 of 147\n",
      "building tree 94 of 147\n",
      "building tree 95 of 147\n",
      "building tree 96 of 147\n",
      "building tree 97 of 147\n",
      "building tree 98 of 147\n",
      "building tree 99 of 147\n",
      "building tree 100 of 147\n",
      "building tree 101 of 147\n",
      "building tree 102 of 147\n",
      "building tree 103 of 147\n",
      "building tree 104 of 147\n"
     ]
    },
    {
     "name": "stderr",
     "output_type": "stream",
     "text": [
      "[Parallel(n_jobs=-1)]: Done  97 tasks      | elapsed:  1.0min\n"
     ]
    },
    {
     "name": "stdout",
     "output_type": "stream",
     "text": [
      "building tree 105 of 147\n",
      "building tree 106 of 147\n",
      "building tree 107 of 147\n",
      "building tree 108 of 147\n",
      "building tree 109 of 147\n",
      "building tree 110 of 147\n",
      "building tree 111 of 147\n",
      "building tree 112 of 147\n",
      "building tree 113 of 147\n",
      "building tree 114 of 147\n",
      "building tree 115 of 147\n",
      "building tree 116 of 147\n",
      "building tree 117 of 147\n",
      "building tree 118 of 147\n",
      "building tree 119 of 147\n",
      "building tree 120 of 147\n"
     ]
    },
    {
     "name": "stderr",
     "output_type": "stream",
     "text": [
      "[Parallel(n_jobs=-1)]: Done 112 tasks      | elapsed:  1.2min\n"
     ]
    },
    {
     "name": "stdout",
     "output_type": "stream",
     "text": [
      "building tree 121 of 147\n",
      "building tree 122 of 147\n",
      "building tree 123 of 147\n",
      "building tree 124 of 147\n",
      "building tree 126 of 147\n",
      "building tree 125 of 147\n",
      "building tree 127 of 147\n",
      "building tree 128 of 147\n",
      "building tree 129 of 147\n",
      "building tree 130 of 147\n",
      "building tree 131 of 147\n",
      "building tree 132 of 147\n",
      "building tree 133 of 147\n",
      "building tree 134 of 147\n",
      "building tree 135 of 147\n",
      "building tree 136 of 147\n"
     ]
    },
    {
     "name": "stderr",
     "output_type": "stream",
     "text": [
      "[Parallel(n_jobs=-1)]: Done 129 tasks      | elapsed:  1.3min\n"
     ]
    },
    {
     "name": "stdout",
     "output_type": "stream",
     "text": [
      "building tree 137 of 147\n",
      "building tree 138 of 147\n",
      "building tree 139 of 147\n",
      "building tree 140 of 147\n",
      "building tree 141 of 147\n",
      "building tree 142 of 147\n",
      "building tree 143 of 147\n",
      "building tree 144 of 147\n",
      "building tree 145 of 147\n",
      "building tree 146 of 147\n",
      "building tree 147 of 147\n"
     ]
    },
    {
     "name": "stderr",
     "output_type": "stream",
     "text": [
      "[Parallel(n_jobs=-1)]: Done 147 out of 147 | elapsed:  1.5min remaining:    0.0s\n",
      "[Parallel(n_jobs=-1)]: Done 147 out of 147 | elapsed:  1.5min finished\n",
      "[Parallel(n_jobs=8)]: Done   2 tasks      | elapsed:    0.0s\n",
      "[Parallel(n_jobs=8)]: Done   9 tasks      | elapsed:    0.1s\n",
      "[Parallel(n_jobs=8)]: Done  16 tasks      | elapsed:    0.1s\n",
      "[Parallel(n_jobs=8)]: Done  25 tasks      | elapsed:    0.2s\n",
      "[Parallel(n_jobs=8)]: Done  34 tasks      | elapsed:    0.2s\n",
      "[Parallel(n_jobs=8)]: Done  45 tasks      | elapsed:    0.2s\n",
      "[Parallel(n_jobs=8)]: Done  56 tasks      | elapsed:    0.3s\n",
      "[Parallel(n_jobs=8)]: Done  69 tasks      | elapsed:    0.4s\n",
      "[Parallel(n_jobs=8)]: Done  82 tasks      | elapsed:    0.4s\n",
      "[Parallel(n_jobs=8)]: Done  97 tasks      | elapsed:    0.5s\n",
      "[Parallel(n_jobs=8)]: Done 112 tasks      | elapsed:    0.6s\n",
      "[Parallel(n_jobs=8)]: Done 129 tasks      | elapsed:    0.6s\n",
      "[Parallel(n_jobs=8)]: Done 147 out of 147 | elapsed:    0.7s remaining:    0.0s\n",
      "[Parallel(n_jobs=8)]: Done 147 out of 147 | elapsed:    0.7s finished\n",
      "[Parallel(n_jobs=8)]: Done   2 tasks      | elapsed:    0.1s\n",
      "[Parallel(n_jobs=8)]: Done   9 tasks      | elapsed:    0.1s\n",
      "[Parallel(n_jobs=8)]: Done  16 tasks      | elapsed:    0.2s\n",
      "[Parallel(n_jobs=8)]: Done  25 tasks      | elapsed:    0.2s\n",
      "[Parallel(n_jobs=8)]: Done  34 tasks      | elapsed:    0.3s\n",
      "[Parallel(n_jobs=8)]: Done  45 tasks      | elapsed:    0.4s\n",
      "[Parallel(n_jobs=8)]: Done  56 tasks      | elapsed:    0.5s\n",
      "[Parallel(n_jobs=8)]: Done  69 tasks      | elapsed:    0.7s\n",
      "[Parallel(n_jobs=8)]: Done  82 tasks      | elapsed:    0.8s\n",
      "[Parallel(n_jobs=8)]: Done  97 tasks      | elapsed:    0.9s\n",
      "[Parallel(n_jobs=8)]: Done 112 tasks      | elapsed:    1.0s\n",
      "[Parallel(n_jobs=8)]: Done 129 tasks      | elapsed:    1.2s\n",
      "[Parallel(n_jobs=8)]: Done 147 out of 147 | elapsed:    1.3s remaining:    0.0s\n",
      "[Parallel(n_jobs=8)]: Done 147 out of 147 | elapsed:    1.3s finished\n",
      "/home/justin/anaconda3/lib/python3.6/site-packages/sklearn/model_selection/_validation.py:437: DataConversionWarning: A column-vector y was passed when a 1d array was expected. Please change the shape of y to (n_samples,), for example using ravel().\n",
      "  estimator.fit(X_train, y_train, **fit_params)\n"
     ]
    },
    {
     "name": "stdout",
     "output_type": "stream",
     "text": [
      "building tree 2 of 147building tree 1 of 147building tree 3 of 147building tree 4 of 147building tree 5 of 147\n",
      "building tree 6 of 147\n",
      "\n",
      "\n",
      "\n",
      "\n",
      "building tree 8 of 147building tree 7 of 147\n",
      "\n",
      "building tree 9 of 147\n"
     ]
    },
    {
     "name": "stderr",
     "output_type": "stream",
     "text": [
      "[Parallel(n_jobs=-1)]: Done   2 tasks      | elapsed:    4.4s\n"
     ]
    },
    {
     "name": "stdout",
     "output_type": "stream",
     "text": [
      "building tree 10 of 147\n",
      "building tree 11 of 147\n",
      "building tree 12 of 147\n",
      "building tree 13 of 147\n",
      "building tree 14 of 147\n",
      "building tree 15 of 147\n",
      "building tree 16 of 147\n"
     ]
    },
    {
     "name": "stderr",
     "output_type": "stream",
     "text": [
      "[Parallel(n_jobs=-1)]: Done   9 tasks      | elapsed:    8.6s\n"
     ]
    },
    {
     "name": "stdout",
     "output_type": "stream",
     "text": [
      "building tree 17 of 147\n",
      "building tree 18 of 147\n",
      "building tree 19 of 147\n",
      "building tree 20 of 147\n",
      "building tree 21 of 147\n",
      "building tree 22 of 147\n",
      "building tree 23 of 147\n"
     ]
    },
    {
     "name": "stderr",
     "output_type": "stream",
     "text": [
      "[Parallel(n_jobs=-1)]: Done  16 tasks      | elapsed:   11.0s\n"
     ]
    },
    {
     "name": "stdout",
     "output_type": "stream",
     "text": [
      "building tree 24 of 147\n",
      "building tree 25 of 147\n",
      "building tree 26 of 147\n",
      "building tree 27 of 147\n",
      "building tree 28 of 147\n",
      "building tree 29 of 147\n",
      "building tree 30 of 147\n",
      "building tree 31 of 147\n",
      "building tree 32 of 147\n"
     ]
    },
    {
     "name": "stderr",
     "output_type": "stream",
     "text": [
      "[Parallel(n_jobs=-1)]: Done  25 tasks      | elapsed:   18.4s\n"
     ]
    },
    {
     "name": "stdout",
     "output_type": "stream",
     "text": [
      "building tree 33 of 147\n",
      "building tree 34 of 147\n",
      "building tree 35 of 147\n",
      "building tree 36 of 147\n",
      "building tree 37 of 147\n",
      "building tree 38 of 147\n",
      "building tree 39 of 147\n",
      "building tree 40 of 147\n",
      "building tree 41 of 147\n"
     ]
    },
    {
     "name": "stderr",
     "output_type": "stream",
     "text": [
      "[Parallel(n_jobs=-1)]: Done  34 tasks      | elapsed:   23.5s\n"
     ]
    },
    {
     "name": "stdout",
     "output_type": "stream",
     "text": [
      "building tree 42 of 147\n",
      "building tree 43 of 147\n",
      "building tree 44 of 147\n",
      "building tree 45 of 147\n",
      "building tree 46 of 147\n",
      "building tree 47 of 147\n",
      "building tree 48 of 147\n",
      "building tree 49 of 147\n",
      "building tree 50 of 147\n",
      "building tree 51 of 147\n",
      "building tree 52 of 147\n"
     ]
    },
    {
     "name": "stderr",
     "output_type": "stream",
     "text": [
      "[Parallel(n_jobs=-1)]: Done  45 tasks      | elapsed:   28.8s\n"
     ]
    },
    {
     "name": "stdout",
     "output_type": "stream",
     "text": [
      "building tree 53 of 147\n",
      "building tree 54 of 147\n",
      "building tree 55 of 147\n",
      "building tree 56 of 147\n",
      "building tree 57 of 147\n",
      "building tree 58 of 147\n",
      "building tree 59 of 147\n",
      "building tree 60 of 147\n",
      "building tree 61 of 147\n",
      "building tree 62 of 147\n",
      "building tree 63 of 147\n"
     ]
    },
    {
     "name": "stderr",
     "output_type": "stream",
     "text": [
      "[Parallel(n_jobs=-1)]: Done  56 tasks      | elapsed:   34.9s\n"
     ]
    },
    {
     "name": "stdout",
     "output_type": "stream",
     "text": [
      "building tree 64 of 147\n",
      "building tree 65 of 147\n",
      "building tree 66 of 147\n",
      "building tree 67 of 147\n",
      "building tree 68 of 147\n",
      "building tree 69 of 147\n",
      "building tree 70 of 147\n",
      "building tree 71 of 147\n",
      "building tree 72 of 147\n",
      "building tree 73 of 147\n",
      "building tree 74 of 147\n",
      "building tree 75 of 147\n",
      "building tree 76 of 147\n"
     ]
    },
    {
     "name": "stderr",
     "output_type": "stream",
     "text": [
      "[Parallel(n_jobs=-1)]: Done  69 tasks      | elapsed:   43.4s\n"
     ]
    },
    {
     "name": "stdout",
     "output_type": "stream",
     "text": [
      "building tree 77 of 147\n",
      "building tree 78 of 147\n",
      "building tree 79 of 147\n",
      "building tree 80 of 147\n",
      "building tree 81 of 147\n",
      "building tree 82 of 147\n",
      "building tree 83 of 147\n",
      "building tree 84 of 147\n",
      "building tree 85 of 147\n",
      "building tree 86 of 147\n",
      "building tree 87 of 147\n",
      "building tree 88 of 147\n",
      "building tree 89 of 147\n"
     ]
    },
    {
     "name": "stderr",
     "output_type": "stream",
     "text": [
      "[Parallel(n_jobs=-1)]: Done  82 tasks      | elapsed:   51.5s\n"
     ]
    },
    {
     "name": "stdout",
     "output_type": "stream",
     "text": [
      "building tree 90 of 147\n",
      "building tree 91 of 147\n",
      "building tree 92 of 147\n",
      "building tree 93 of 147\n",
      "building tree 94 of 147\n",
      "building tree 95 of 147\n",
      "building tree 96 of 147\n",
      "building tree 97 of 147\n",
      "building tree 98 of 147\n",
      "building tree 99 of 147\n",
      "building tree 100 of 147\n",
      "building tree 101 of 147\n",
      "building tree 102 of 147\n",
      "building tree 103 of 147\n",
      "building tree 104 of 147\n"
     ]
    },
    {
     "name": "stderr",
     "output_type": "stream",
     "text": [
      "[Parallel(n_jobs=-1)]: Done  97 tasks      | elapsed:  1.0min\n"
     ]
    },
    {
     "name": "stdout",
     "output_type": "stream",
     "text": [
      "building tree 105 of 147\n",
      "building tree 106 of 147\n",
      "building tree 107 of 147\n",
      "building tree 108 of 147\n",
      "building tree 109 of 147\n",
      "building tree 110 of 147\n",
      "building tree 111 of 147\n",
      "building tree 112 of 147\n",
      "building tree 113 of 147\n",
      "building tree 114 of 147\n",
      "building tree 115 of 147\n",
      "building tree 116 of 147\n",
      "building tree 117 of 147\n",
      "building tree 118 of 147\n",
      "building tree 119 of 147\n",
      "building tree 120 of 147\n"
     ]
    },
    {
     "name": "stderr",
     "output_type": "stream",
     "text": [
      "[Parallel(n_jobs=-1)]: Done 112 tasks      | elapsed:  1.1min\n"
     ]
    },
    {
     "name": "stdout",
     "output_type": "stream",
     "text": [
      "building tree 121 of 147\n",
      "building tree 122 of 147\n",
      "building tree 123 of 147\n",
      "building tree 124 of 147\n",
      "building tree 125 of 147\n",
      "building tree 126 of 147\n",
      "building tree 127 of 147\n",
      "building tree 128 of 147\n",
      "building tree 129 of 147\n",
      "building tree 130 of 147\n",
      "building tree 131 of 147\n",
      "building tree 132 of 147\n",
      "building tree 133 of 147\n",
      "building tree 134 of 147\n",
      "building tree 135 of 147\n",
      "building tree 136 of 147\n"
     ]
    },
    {
     "name": "stderr",
     "output_type": "stream",
     "text": [
      "[Parallel(n_jobs=-1)]: Done 129 tasks      | elapsed:  1.3min\n"
     ]
    },
    {
     "name": "stdout",
     "output_type": "stream",
     "text": [
      "building tree 137 of 147\n",
      "building tree 138 of 147\n",
      "building tree 139 of 147\n",
      "building tree 140 of 147\n",
      "building tree 141 of 147\n",
      "building tree 142 of 147\n",
      "building tree 143 of 147\n",
      "building tree 144 of 147\n",
      "building tree 145 of 147\n",
      "building tree 146 of 147\n",
      "building tree 147 of 147\n"
     ]
    },
    {
     "name": "stderr",
     "output_type": "stream",
     "text": [
      "[Parallel(n_jobs=-1)]: Done 147 out of 147 | elapsed:  1.5min remaining:    0.0s\n",
      "[Parallel(n_jobs=-1)]: Done 147 out of 147 | elapsed:  1.5min finished\n",
      "[Parallel(n_jobs=8)]: Done   2 tasks      | elapsed:    0.0s\n",
      "[Parallel(n_jobs=8)]: Done   9 tasks      | elapsed:    0.1s\n",
      "[Parallel(n_jobs=8)]: Done  16 tasks      | elapsed:    0.1s\n",
      "[Parallel(n_jobs=8)]: Done  25 tasks      | elapsed:    0.1s\n",
      "[Parallel(n_jobs=8)]: Done  34 tasks      | elapsed:    0.2s\n",
      "[Parallel(n_jobs=8)]: Done  45 tasks      | elapsed:    0.2s\n",
      "[Parallel(n_jobs=8)]: Done  56 tasks      | elapsed:    0.2s\n",
      "[Parallel(n_jobs=8)]: Done  69 tasks      | elapsed:    0.3s\n",
      "[Parallel(n_jobs=8)]: Done  82 tasks      | elapsed:    0.3s\n",
      "[Parallel(n_jobs=8)]: Done  97 tasks      | elapsed:    0.4s\n",
      "[Parallel(n_jobs=8)]: Done 112 tasks      | elapsed:    0.5s\n",
      "[Parallel(n_jobs=8)]: Done 129 tasks      | elapsed:    0.5s\n",
      "[Parallel(n_jobs=8)]: Done 147 out of 147 | elapsed:    0.6s remaining:    0.0s\n",
      "[Parallel(n_jobs=8)]: Done 147 out of 147 | elapsed:    0.6s finished\n",
      "[Parallel(n_jobs=8)]: Done   2 tasks      | elapsed:    0.1s\n",
      "[Parallel(n_jobs=8)]: Done   9 tasks      | elapsed:    0.1s\n",
      "[Parallel(n_jobs=8)]: Done  16 tasks      | elapsed:    0.2s\n",
      "[Parallel(n_jobs=8)]: Done  25 tasks      | elapsed:    0.2s\n",
      "[Parallel(n_jobs=8)]: Done  34 tasks      | elapsed:    0.3s\n",
      "[Parallel(n_jobs=8)]: Done  45 tasks      | elapsed:    0.4s\n",
      "[Parallel(n_jobs=8)]: Done  56 tasks      | elapsed:    0.4s\n",
      "[Parallel(n_jobs=8)]: Done  69 tasks      | elapsed:    0.5s\n",
      "[Parallel(n_jobs=8)]: Done  82 tasks      | elapsed:    0.6s\n",
      "[Parallel(n_jobs=8)]: Done  97 tasks      | elapsed:    0.7s\n",
      "[Parallel(n_jobs=8)]: Done 112 tasks      | elapsed:    0.8s\n",
      "[Parallel(n_jobs=8)]: Done 129 tasks      | elapsed:    1.0s\n",
      "[Parallel(n_jobs=8)]: Done 147 out of 147 | elapsed:    1.1s remaining:    0.0s\n",
      "[Parallel(n_jobs=8)]: Done 147 out of 147 | elapsed:    1.1s finished\n",
      "/home/justin/anaconda3/lib/python3.6/site-packages/sklearn/model_selection/_validation.py:437: DataConversionWarning: A column-vector y was passed when a 1d array was expected. Please change the shape of y to (n_samples,), for example using ravel().\n",
      "  estimator.fit(X_train, y_train, **fit_params)\n"
     ]
    },
    {
     "name": "stdout",
     "output_type": "stream",
     "text": [
      "building tree 2 of 147building tree 1 of 147building tree 3 of 147building tree 5 of 147building tree 6 of 147building tree 4 of 147building tree 7 of 147\n",
      "\n",
      "\n",
      "\n",
      "\n",
      "\n",
      "\n",
      "building tree 8 of 147\n",
      "building tree 9 of 147\n",
      "building tree 10 of 147\n",
      "building tree 11 of 147\n"
     ]
    },
    {
     "name": "stderr",
     "output_type": "stream",
     "text": [
      "[Parallel(n_jobs=-1)]: Done   2 tasks      | elapsed:    3.9s\n"
     ]
    },
    {
     "name": "stdout",
     "output_type": "stream",
     "text": [
      "building tree 12 of 147\n",
      "building tree 13 of 147\n",
      "building tree 14 of 147\n",
      "building tree 15 of 147\n",
      "building tree 16 of 147\n"
     ]
    },
    {
     "name": "stderr",
     "output_type": "stream",
     "text": [
      "[Parallel(n_jobs=-1)]: Done   9 tasks      | elapsed:    8.2s\n"
     ]
    },
    {
     "name": "stdout",
     "output_type": "stream",
     "text": [
      "building tree 17 of 147\n",
      "building tree 18 of 147\n",
      "building tree 19 of 147\n",
      "building tree 20 of 147\n",
      "building tree 21 of 147\n",
      "building tree 22 of 147\n",
      "building tree 23 of 147\n"
     ]
    },
    {
     "name": "stderr",
     "output_type": "stream",
     "text": [
      "[Parallel(n_jobs=-1)]: Done  16 tasks      | elapsed:    9.1s\n"
     ]
    },
    {
     "name": "stdout",
     "output_type": "stream",
     "text": [
      "building tree 24 of 147\n",
      "building tree 25 of 147\n",
      "building tree 26 of 147\n",
      "building tree 27 of 147\n",
      "building tree 28 of 147\n",
      "building tree 29 of 147\n",
      "building tree 30 of 147\n",
      "building tree 31 of 147\n",
      "building tree 32 of 147\n"
     ]
    },
    {
     "name": "stderr",
     "output_type": "stream",
     "text": [
      "[Parallel(n_jobs=-1)]: Done  25 tasks      | elapsed:   16.4s\n"
     ]
    },
    {
     "name": "stdout",
     "output_type": "stream",
     "text": [
      "building tree 33 of 147\n",
      "building tree 34 of 147\n",
      "building tree 35 of 147\n",
      "building tree 36 of 147\n",
      "building tree 37 of 147\n",
      "building tree 38 of 147\n",
      "building tree 39 of 147\n",
      "building tree 40 of 147\n",
      "building tree 41 of 147\n",
      "building tree 42 of 147\n",
      "building tree 43 of 147\n"
     ]
    },
    {
     "name": "stderr",
     "output_type": "stream",
     "text": [
      "[Parallel(n_jobs=-1)]: Done  34 tasks      | elapsed:   20.9s\n"
     ]
    },
    {
     "name": "stdout",
     "output_type": "stream",
     "text": [
      "building tree 44 of 147\n",
      "building tree 45 of 147\n",
      "building tree 46 of 147\n",
      "building tree 47 of 147\n",
      "building tree 48 of 147\n",
      "building tree 49 of 147\n",
      "building tree 50 of 147\n",
      "building tree 51 of 147\n",
      "building tree 52 of 147\n"
     ]
    },
    {
     "name": "stderr",
     "output_type": "stream",
     "text": [
      "[Parallel(n_jobs=-1)]: Done  45 tasks      | elapsed:   25.7s\n"
     ]
    },
    {
     "name": "stdout",
     "output_type": "stream",
     "text": [
      "building tree 53 of 147\n",
      "building tree 54 of 147\n",
      "building tree 55 of 147\n",
      "building tree 56 of 147\n",
      "building tree 57 of 147\n",
      "building tree 58 of 147\n",
      "building tree 59 of 147\n",
      "building tree 60 of 147\n",
      "building tree 61 of 147\n",
      "building tree 62 of 147\n",
      "building tree 63 of 147\n"
     ]
    },
    {
     "name": "stderr",
     "output_type": "stream",
     "text": [
      "[Parallel(n_jobs=-1)]: Done  56 tasks      | elapsed:   31.1s\n"
     ]
    },
    {
     "name": "stdout",
     "output_type": "stream",
     "text": [
      "building tree 64 of 147\n",
      "building tree 65 of 147\n",
      "building tree 66 of 147\n",
      "building tree 67 of 147\n",
      "building tree 68 of 147\n",
      "building tree 69 of 147\n",
      "building tree 70 of 147\n",
      "building tree 71 of 147\n",
      "building tree 72 of 147\n",
      "building tree 73 of 147\n",
      "building tree 74 of 147\n",
      "building tree 75 of 147\n",
      "building tree 76 of 147\n"
     ]
    },
    {
     "name": "stderr",
     "output_type": "stream",
     "text": [
      "[Parallel(n_jobs=-1)]: Done  69 tasks      | elapsed:   38.7s\n"
     ]
    },
    {
     "name": "stdout",
     "output_type": "stream",
     "text": [
      "building tree 78 of 147\n",
      "building tree 77 of 147\n",
      "building tree 79 of 147\n",
      "building tree 80 of 147\n",
      "building tree 81 of 147\n",
      "building tree 82 of 147\n",
      "building tree 83 of 147\n",
      "building tree 84 of 147\n",
      "building tree 85 of 147\n",
      "building tree 86 of 147\n",
      "building tree 87 of 147\n",
      "building tree 88 of 147\n",
      "building tree 89 of 147\n"
     ]
    },
    {
     "name": "stderr",
     "output_type": "stream",
     "text": [
      "[Parallel(n_jobs=-1)]: Done  82 tasks      | elapsed:   46.2s\n"
     ]
    },
    {
     "name": "stdout",
     "output_type": "stream",
     "text": [
      "building tree 90 of 147\n",
      "building tree 91 of 147\n",
      "building tree 92 of 147\n",
      "building tree 93 of 147\n",
      "building tree 94 of 147\n",
      "building tree 95 of 147\n",
      "building tree 96 of 147\n",
      "building tree 97 of 147\n",
      "building tree 98 of 147\n",
      "building tree 99 of 147\n",
      "building tree 100 of 147\n",
      "building tree 101 of 147\n",
      "building tree 102 of 147\n",
      "building tree 103 of 147\n",
      "building tree 104 of 147\n"
     ]
    },
    {
     "name": "stderr",
     "output_type": "stream",
     "text": [
      "[Parallel(n_jobs=-1)]: Done  97 tasks      | elapsed:   54.6s\n"
     ]
    },
    {
     "name": "stdout",
     "output_type": "stream",
     "text": [
      "building tree 105 of 147\n",
      "building tree 106 of 147\n",
      "building tree 107 of 147\n",
      "building tree 108 of 147\n",
      "building tree 109 of 147\n",
      "building tree 110 of 147\n",
      "building tree 111 of 147\n",
      "building tree 112 of 147\n",
      "building tree 113 of 147\n",
      "building tree 114 of 147\n",
      "building tree 115 of 147\n",
      "building tree 116 of 147\n",
      "building tree 117 of 147\n",
      "building tree 118 of 147\n",
      "building tree 119 of 147\n"
     ]
    },
    {
     "name": "stderr",
     "output_type": "stream",
     "text": [
      "[Parallel(n_jobs=-1)]: Done 112 tasks      | elapsed:  1.0min\n"
     ]
    },
    {
     "name": "stdout",
     "output_type": "stream",
     "text": [
      "building tree 120 of 147\n",
      "building tree 121 of 147\n",
      "building tree 122 of 147\n",
      "building tree 123 of 147\n",
      "building tree 124 of 147\n",
      "building tree 125 of 147\n",
      "building tree 126 of 147\n",
      "building tree 127 of 147\n",
      "building tree 128 of 147\n",
      "building tree 129 of 147\n",
      "building tree 130 of 147\n",
      "building tree 131 of 147\n",
      "building tree 132 of 147\n",
      "building tree 133 of 147\n",
      "building tree 134 of 147\n",
      "building tree 135 of 147\n",
      "building tree 136 of 147\n",
      "building tree 137 of 147\n"
     ]
    },
    {
     "name": "stderr",
     "output_type": "stream",
     "text": [
      "[Parallel(n_jobs=-1)]: Done 129 tasks      | elapsed:  1.2min\n"
     ]
    },
    {
     "name": "stdout",
     "output_type": "stream",
     "text": [
      "building tree 138 of 147\n",
      "building tree 139 of 147\n",
      "building tree 140 of 147\n",
      "building tree 141 of 147\n",
      "building tree 142 of 147\n",
      "building tree 143 of 147\n",
      "building tree 144 of 147\n",
      "building tree 145 of 147\n",
      "building tree 146 of 147\n",
      "building tree 147 of 147\n"
     ]
    },
    {
     "name": "stderr",
     "output_type": "stream",
     "text": [
      "[Parallel(n_jobs=-1)]: Done 147 out of 147 | elapsed:  1.3min remaining:    0.0s\n",
      "[Parallel(n_jobs=-1)]: Done 147 out of 147 | elapsed:  1.3min finished\n",
      "[Parallel(n_jobs=8)]: Done   2 tasks      | elapsed:    0.0s\n",
      "[Parallel(n_jobs=8)]: Done   9 tasks      | elapsed:    0.1s\n",
      "[Parallel(n_jobs=8)]: Done  16 tasks      | elapsed:    0.1s\n",
      "[Parallel(n_jobs=8)]: Done  25 tasks      | elapsed:    0.1s\n",
      "[Parallel(n_jobs=8)]: Done  34 tasks      | elapsed:    0.2s\n",
      "[Parallel(n_jobs=8)]: Done  45 tasks      | elapsed:    0.2s\n",
      "[Parallel(n_jobs=8)]: Done  56 tasks      | elapsed:    0.2s\n",
      "[Parallel(n_jobs=8)]: Done  69 tasks      | elapsed:    0.3s\n",
      "[Parallel(n_jobs=8)]: Done  82 tasks      | elapsed:    0.3s\n",
      "[Parallel(n_jobs=8)]: Done  97 tasks      | elapsed:    0.4s\n",
      "[Parallel(n_jobs=8)]: Done 112 tasks      | elapsed:    0.4s\n",
      "[Parallel(n_jobs=8)]: Done 129 tasks      | elapsed:    0.5s\n",
      "[Parallel(n_jobs=8)]: Done 147 out of 147 | elapsed:    0.6s remaining:    0.0s\n",
      "[Parallel(n_jobs=8)]: Done 147 out of 147 | elapsed:    0.6s finished\n",
      "[Parallel(n_jobs=8)]: Done   2 tasks      | elapsed:    0.1s\n",
      "[Parallel(n_jobs=8)]: Done   9 tasks      | elapsed:    0.1s\n",
      "[Parallel(n_jobs=8)]: Done  16 tasks      | elapsed:    0.2s\n",
      "[Parallel(n_jobs=8)]: Done  25 tasks      | elapsed:    0.2s\n",
      "[Parallel(n_jobs=8)]: Done  34 tasks      | elapsed:    0.3s\n",
      "[Parallel(n_jobs=8)]: Done  45 tasks      | elapsed:    0.4s\n",
      "[Parallel(n_jobs=8)]: Done  56 tasks      | elapsed:    0.5s\n",
      "[Parallel(n_jobs=8)]: Done  69 tasks      | elapsed:    0.6s\n",
      "[Parallel(n_jobs=8)]: Done  82 tasks      | elapsed:    0.7s\n",
      "[Parallel(n_jobs=8)]: Done  97 tasks      | elapsed:    0.8s\n",
      "[Parallel(n_jobs=8)]: Done 112 tasks      | elapsed:    0.9s\n",
      "[Parallel(n_jobs=8)]: Done 129 tasks      | elapsed:    1.0s\n",
      "[Parallel(n_jobs=8)]: Done 147 out of 147 | elapsed:    1.1s remaining:    0.0s\n",
      "[Parallel(n_jobs=8)]: Done 147 out of 147 | elapsed:    1.1s finished\n",
      "/home/justin/anaconda3/lib/python3.6/site-packages/sklearn/model_selection/_validation.py:437: DataConversionWarning: A column-vector y was passed when a 1d array was expected. Please change the shape of y to (n_samples,), for example using ravel().\n",
      "  estimator.fit(X_train, y_train, **fit_params)\n"
     ]
    },
    {
     "name": "stdout",
     "output_type": "stream",
     "text": [
      "building tree 1 of 15\n",
      "building tree 2 of 15building tree 3 of 15building tree 4 of 15building tree 5 of 15building tree 7 of 15building tree 6 of 15\n",
      "\n",
      "\n",
      "\n",
      "\n",
      "\n",
      "building tree 8 of 15\n",
      "building tree 9 of 15\n"
     ]
    },
    {
     "name": "stderr",
     "output_type": "stream",
     "text": [
      "[Parallel(n_jobs=-1)]: Done   2 out of  15 | elapsed:   12.9s remaining:  1.4min\n",
      "[Parallel(n_jobs=-1)]: Done   4 out of  15 | elapsed:   13.0s remaining:   35.8s\n"
     ]
    },
    {
     "name": "stdout",
     "output_type": "stream",
     "text": [
      "building tree 10 of 15\n",
      "building tree 11 of 15\n",
      "building tree 12 of 15\n",
      "building tree 13 of 15\n",
      "building tree 14 of 15\n"
     ]
    },
    {
     "name": "stderr",
     "output_type": "stream",
     "text": [
      "[Parallel(n_jobs=-1)]: Done   6 out of  15 | elapsed:   13.3s remaining:   19.9s\n"
     ]
    },
    {
     "name": "stdout",
     "output_type": "stream",
     "text": [
      "building tree 15 of 15\n"
     ]
    },
    {
     "name": "stderr",
     "output_type": "stream",
     "text": [
      "[Parallel(n_jobs=-1)]: Done   8 out of  15 | elapsed:   14.3s remaining:   12.5s\n",
      "[Parallel(n_jobs=-1)]: Done  10 out of  15 | elapsed:   24.5s remaining:   12.2s\n",
      "[Parallel(n_jobs=-1)]: Done  12 out of  15 | elapsed:   24.6s remaining:    6.2s\n",
      "[Parallel(n_jobs=-1)]: Done  15 out of  15 | elapsed:   25.0s finished\n",
      "/home/justin/anaconda3/lib/python3.6/site-packages/sklearn/ensemble/forest.py:720: UserWarning: Some inputs do not have OOB scores. This probably means too few trees were used to compute any reliable oob estimates.\n",
      "  warn(\"Some inputs do not have OOB scores. \"\n",
      "[Parallel(n_jobs=8)]: Done   2 out of  15 | elapsed:    0.0s remaining:    0.2s\n",
      "[Parallel(n_jobs=8)]: Done   4 out of  15 | elapsed:    0.1s remaining:    0.2s\n",
      "[Parallel(n_jobs=8)]: Done   6 out of  15 | elapsed:    0.1s remaining:    0.1s\n",
      "[Parallel(n_jobs=8)]: Done   8 out of  15 | elapsed:    0.1s remaining:    0.0s\n",
      "[Parallel(n_jobs=8)]: Done  10 out of  15 | elapsed:    0.1s remaining:    0.0s\n",
      "[Parallel(n_jobs=8)]: Done  12 out of  15 | elapsed:    0.1s remaining:    0.0s\n",
      "[Parallel(n_jobs=8)]: Done  15 out of  15 | elapsed:    0.1s finished\n",
      "[Parallel(n_jobs=8)]: Done   2 out of  15 | elapsed:    0.1s remaining:    0.4s\n",
      "[Parallel(n_jobs=8)]: Done   4 out of  15 | elapsed:    0.1s remaining:    0.2s\n",
      "[Parallel(n_jobs=8)]: Done   6 out of  15 | elapsed:    0.1s remaining:    0.1s\n",
      "[Parallel(n_jobs=8)]: Done   8 out of  15 | elapsed:    0.1s remaining:    0.1s\n",
      "[Parallel(n_jobs=8)]: Done  10 out of  15 | elapsed:    0.1s remaining:    0.1s\n",
      "[Parallel(n_jobs=8)]: Done  12 out of  15 | elapsed:    0.1s remaining:    0.0s\n",
      "[Parallel(n_jobs=8)]: Done  15 out of  15 | elapsed:    0.1s finished\n",
      "/home/justin/anaconda3/lib/python3.6/site-packages/sklearn/model_selection/_validation.py:437: DataConversionWarning: A column-vector y was passed when a 1d array was expected. Please change the shape of y to (n_samples,), for example using ravel().\n",
      "  estimator.fit(X_train, y_train, **fit_params)\n"
     ]
    },
    {
     "name": "stdout",
     "output_type": "stream",
     "text": [
      "building tree 1 of 15building tree 4 of 15building tree 2 of 15building tree 3 of 15\n",
      "building tree 5 of 15building tree 7 of 15building tree 8 of 15building tree 6 of 15\n",
      "\n",
      "\n",
      "\n",
      "\n",
      "\n",
      "\n",
      "building tree 9 of 15\n",
      "building tree 10 of 15\n"
     ]
    },
    {
     "name": "stderr",
     "output_type": "stream",
     "text": [
      "[Parallel(n_jobs=-1)]: Done   2 out of  15 | elapsed:   12.0s remaining:  1.3min\n"
     ]
    },
    {
     "name": "stdout",
     "output_type": "stream",
     "text": [
      "building tree 11 of 15\n"
     ]
    },
    {
     "name": "stderr",
     "output_type": "stream",
     "text": [
      "[Parallel(n_jobs=-1)]: Done   4 out of  15 | elapsed:   12.4s remaining:   34.0s\n"
     ]
    },
    {
     "name": "stdout",
     "output_type": "stream",
     "text": [
      "building tree 12 of 15\n",
      "building tree 13 of 15\n"
     ]
    },
    {
     "name": "stderr",
     "output_type": "stream",
     "text": [
      "[Parallel(n_jobs=-1)]: Done   6 out of  15 | elapsed:   12.8s remaining:   19.1s\n"
     ]
    },
    {
     "name": "stdout",
     "output_type": "stream",
     "text": [
      "building tree 14 of 15\n",
      "building tree 15 of 15\n"
     ]
    },
    {
     "name": "stderr",
     "output_type": "stream",
     "text": [
      "[Parallel(n_jobs=-1)]: Done   8 out of  15 | elapsed:   13.4s remaining:   11.7s\n",
      "[Parallel(n_jobs=-1)]: Done  10 out of  15 | elapsed:   23.1s remaining:   11.5s\n",
      "[Parallel(n_jobs=-1)]: Done  12 out of  15 | elapsed:   23.5s remaining:    5.9s\n",
      "[Parallel(n_jobs=-1)]: Done  15 out of  15 | elapsed:   24.1s finished\n",
      "/home/justin/anaconda3/lib/python3.6/site-packages/sklearn/ensemble/forest.py:720: UserWarning: Some inputs do not have OOB scores. This probably means too few trees were used to compute any reliable oob estimates.\n",
      "  warn(\"Some inputs do not have OOB scores. \"\n",
      "[Parallel(n_jobs=8)]: Done   2 out of  15 | elapsed:    0.0s remaining:    0.2s\n",
      "[Parallel(n_jobs=8)]: Done   4 out of  15 | elapsed:    0.0s remaining:    0.1s\n",
      "[Parallel(n_jobs=8)]: Done   6 out of  15 | elapsed:    0.0s remaining:    0.1s\n",
      "[Parallel(n_jobs=8)]: Done   8 out of  15 | elapsed:    0.1s remaining:    0.0s\n",
      "[Parallel(n_jobs=8)]: Done  10 out of  15 | elapsed:    0.1s remaining:    0.0s\n",
      "[Parallel(n_jobs=8)]: Done  12 out of  15 | elapsed:    0.1s remaining:    0.0s\n",
      "[Parallel(n_jobs=8)]: Done  15 out of  15 | elapsed:    0.1s finished\n",
      "[Parallel(n_jobs=8)]: Done   2 out of  15 | elapsed:    0.1s remaining:    0.4s\n",
      "[Parallel(n_jobs=8)]: Done   4 out of  15 | elapsed:    0.1s remaining:    0.2s\n",
      "[Parallel(n_jobs=8)]: Done   6 out of  15 | elapsed:    0.1s remaining:    0.1s\n",
      "[Parallel(n_jobs=8)]: Done   8 out of  15 | elapsed:    0.1s remaining:    0.1s\n",
      "[Parallel(n_jobs=8)]: Done  10 out of  15 | elapsed:    0.1s remaining:    0.1s\n",
      "[Parallel(n_jobs=8)]: Done  12 out of  15 | elapsed:    0.1s remaining:    0.0s\n",
      "[Parallel(n_jobs=8)]: Done  15 out of  15 | elapsed:    0.1s finished\n",
      "/home/justin/anaconda3/lib/python3.6/site-packages/sklearn/model_selection/_validation.py:437: DataConversionWarning: A column-vector y was passed when a 1d array was expected. Please change the shape of y to (n_samples,), for example using ravel().\n",
      "  estimator.fit(X_train, y_train, **fit_params)\n"
     ]
    },
    {
     "name": "stdout",
     "output_type": "stream",
     "text": [
      "building tree 3 of 15building tree 4 of 15building tree 5 of 15building tree 6 of 15building tree 1 of 15building tree 7 of 15building tree 8 of 15building tree 2 of 15\n",
      "\n",
      "\n",
      "\n",
      "\n",
      "\n",
      "\n",
      "\n",
      "building tree 9 of 15\n",
      "building tree 10 of 15\n"
     ]
    },
    {
     "name": "stderr",
     "output_type": "stream",
     "text": [
      "[Parallel(n_jobs=-1)]: Done   2 out of  15 | elapsed:   12.5s remaining:  1.4min\n",
      "[Parallel(n_jobs=-1)]: Done   4 out of  15 | elapsed:   12.6s remaining:   34.8s\n"
     ]
    },
    {
     "name": "stdout",
     "output_type": "stream",
     "text": [
      "building tree 11 of 15\n",
      "building tree 12 of 15\n",
      "building tree 13 of 15\n",
      "building tree 14 of 15\n"
     ]
    },
    {
     "name": "stderr",
     "output_type": "stream",
     "text": [
      "[Parallel(n_jobs=-1)]: Done   6 out of  15 | elapsed:   12.9s remaining:   19.4s\n"
     ]
    },
    {
     "name": "stdout",
     "output_type": "stream",
     "text": [
      "building tree 15 of 15\n"
     ]
    },
    {
     "name": "stderr",
     "output_type": "stream",
     "text": [
      "[Parallel(n_jobs=-1)]: Done   8 out of  15 | elapsed:   13.5s remaining:   11.8s\n",
      "[Parallel(n_jobs=-1)]: Done  10 out of  15 | elapsed:   23.2s remaining:   11.6s\n",
      "[Parallel(n_jobs=-1)]: Done  12 out of  15 | elapsed:   24.0s remaining:    6.0s\n",
      "[Parallel(n_jobs=-1)]: Done  15 out of  15 | elapsed:   24.3s finished\n",
      "/home/justin/anaconda3/lib/python3.6/site-packages/sklearn/ensemble/forest.py:720: UserWarning: Some inputs do not have OOB scores. This probably means too few trees were used to compute any reliable oob estimates.\n",
      "  warn(\"Some inputs do not have OOB scores. \"\n",
      "[Parallel(n_jobs=8)]: Done   2 out of  15 | elapsed:    0.0s remaining:    0.2s\n",
      "[Parallel(n_jobs=8)]: Done   4 out of  15 | elapsed:    0.1s remaining:    0.1s\n",
      "[Parallel(n_jobs=8)]: Done   6 out of  15 | elapsed:    0.1s remaining:    0.1s\n",
      "[Parallel(n_jobs=8)]: Done   8 out of  15 | elapsed:    0.1s remaining:    0.0s\n",
      "[Parallel(n_jobs=8)]: Done  10 out of  15 | elapsed:    0.1s remaining:    0.0s\n",
      "[Parallel(n_jobs=8)]: Done  12 out of  15 | elapsed:    0.1s remaining:    0.0s\n",
      "[Parallel(n_jobs=8)]: Done  15 out of  15 | elapsed:    0.1s finished\n",
      "[Parallel(n_jobs=8)]: Done   2 out of  15 | elapsed:    0.1s remaining:    0.4s\n",
      "[Parallel(n_jobs=8)]: Done   4 out of  15 | elapsed:    0.1s remaining:    0.2s\n",
      "[Parallel(n_jobs=8)]: Done   6 out of  15 | elapsed:    0.1s remaining:    0.1s\n",
      "[Parallel(n_jobs=8)]: Done   8 out of  15 | elapsed:    0.1s remaining:    0.1s\n",
      "[Parallel(n_jobs=8)]: Done  10 out of  15 | elapsed:    0.1s remaining:    0.1s\n",
      "[Parallel(n_jobs=8)]: Done  12 out of  15 | elapsed:    0.1s remaining:    0.0s\n",
      "[Parallel(n_jobs=8)]: Done  15 out of  15 | elapsed:    0.2s finished\n",
      "/home/justin/anaconda3/lib/python3.6/site-packages/sklearn/model_selection/_validation.py:437: DataConversionWarning: A column-vector y was passed when a 1d array was expected. Please change the shape of y to (n_samples,), for example using ravel().\n",
      "  estimator.fit(X_train, y_train, **fit_params)\n"
     ]
    },
    {
     "name": "stdout",
     "output_type": "stream",
     "text": [
      "building tree 2 of 35building tree 1 of 35building tree 3 of 35building tree 5 of 35building tree 6 of 35building tree 7 of 35building tree 4 of 35\n",
      "\n",
      "\n",
      "\n",
      "\n",
      "\n",
      "\n",
      "building tree 8 of 35\n",
      "building tree 9 of 35\n",
      "building tree 10 of 35\n",
      "building tree 11 of 35\n"
     ]
    },
    {
     "name": "stderr",
     "output_type": "stream",
     "text": [
      "[Parallel(n_jobs=-1)]: Done   2 tasks      | elapsed:    9.5s\n"
     ]
    },
    {
     "name": "stdout",
     "output_type": "stream",
     "text": [
      "building tree 12 of 35\n",
      "building tree 13 of 35\n",
      "building tree 14 of 35\n",
      "building tree 15 of 35\n",
      "building tree 16 of 35\n"
     ]
    },
    {
     "name": "stderr",
     "output_type": "stream",
     "text": [
      "[Parallel(n_jobs=-1)]: Done   9 tasks      | elapsed:   18.9s\n"
     ]
    },
    {
     "name": "stdout",
     "output_type": "stream",
     "text": [
      "building tree 17 of 35\n",
      "building tree 18 of 35\n",
      "building tree 19 of 35\n",
      "building tree 20 of 35\n",
      "building tree 21 of 35\n",
      "building tree 22 of 35\n",
      "building tree 23 of 35\n",
      "building tree 24 of 35\n"
     ]
    },
    {
     "name": "stderr",
     "output_type": "stream",
     "text": [
      "[Parallel(n_jobs=-1)]: Done  16 tasks      | elapsed:   20.6s\n"
     ]
    },
    {
     "name": "stdout",
     "output_type": "stream",
     "text": [
      "building tree 25 of 35\n",
      "building tree 26 of 35\n",
      "building tree 27 of 35\n",
      "building tree 28 of 35\n",
      "building tree 29 of 35\n",
      "building tree 30 of 35\n",
      "building tree 31 of 35\n"
     ]
    },
    {
     "name": "stderr",
     "output_type": "stream",
     "text": [
      "[Parallel(n_jobs=-1)]: Done  24 out of  35 | elapsed:   31.5s remaining:   14.4s\n"
     ]
    },
    {
     "name": "stdout",
     "output_type": "stream",
     "text": [
      "building tree 32 of 35\n",
      "building tree 33 of 35\n",
      "building tree 34 of 35\n",
      "building tree 35 of 35\n"
     ]
    },
    {
     "name": "stderr",
     "output_type": "stream",
     "text": [
      "[Parallel(n_jobs=-1)]: Done  28 out of  35 | elapsed:   39.2s remaining:    9.8s\n",
      "[Parallel(n_jobs=-1)]: Done  32 out of  35 | elapsed:   40.9s remaining:    3.8s\n",
      "[Parallel(n_jobs=-1)]: Done  35 out of  35 | elapsed:   44.2s finished\n",
      "[Parallel(n_jobs=8)]: Done   2 tasks      | elapsed:    0.0s\n",
      "[Parallel(n_jobs=8)]: Done   9 tasks      | elapsed:    0.1s\n",
      "[Parallel(n_jobs=8)]: Done  16 tasks      | elapsed:    0.1s\n",
      "[Parallel(n_jobs=8)]: Done  24 out of  35 | elapsed:    0.1s remaining:    0.1s\n",
      "[Parallel(n_jobs=8)]: Done  28 out of  35 | elapsed:    0.1s remaining:    0.0s\n",
      "[Parallel(n_jobs=8)]: Done  32 out of  35 | elapsed:    0.1s remaining:    0.0s\n",
      "[Parallel(n_jobs=8)]: Done  35 out of  35 | elapsed:    0.1s finished\n",
      "[Parallel(n_jobs=8)]: Done   2 tasks      | elapsed:    0.1s\n",
      "[Parallel(n_jobs=8)]: Done   9 tasks      | elapsed:    0.1s\n",
      "[Parallel(n_jobs=8)]: Done  16 tasks      | elapsed:    0.1s\n",
      "[Parallel(n_jobs=8)]: Done  24 out of  35 | elapsed:    0.2s remaining:    0.1s\n",
      "[Parallel(n_jobs=8)]: Done  28 out of  35 | elapsed:    0.2s remaining:    0.1s\n",
      "[Parallel(n_jobs=8)]: Done  32 out of  35 | elapsed:    0.2s remaining:    0.0s\n",
      "[Parallel(n_jobs=8)]: Done  35 out of  35 | elapsed:    0.3s finished\n",
      "/home/justin/anaconda3/lib/python3.6/site-packages/sklearn/model_selection/_validation.py:437: DataConversionWarning: A column-vector y was passed when a 1d array was expected. Please change the shape of y to (n_samples,), for example using ravel().\n",
      "  estimator.fit(X_train, y_train, **fit_params)\n"
     ]
    },
    {
     "name": "stdout",
     "output_type": "stream",
     "text": [
      "building tree 3 of 35building tree 5 of 35building tree 6 of 35building tree 1 of 35building tree 7 of 35building tree 2 of 35building tree 8 of 35building tree 4 of 35\n",
      "\n",
      "\n",
      "\n",
      "\n",
      "\n",
      "\n",
      "\n",
      "building tree 9 of 35\n",
      "building tree 10 of 35\n",
      "building tree 11 of 35\n"
     ]
    },
    {
     "name": "stderr",
     "output_type": "stream",
     "text": [
      "[Parallel(n_jobs=-1)]: Done   2 tasks      | elapsed:    9.3s\n"
     ]
    },
    {
     "name": "stdout",
     "output_type": "stream",
     "text": [
      "building tree 12 of 35\n",
      "building tree 13 of 35\n",
      "building tree 14 of 35\n",
      "building tree 15 of 35\n",
      "building tree 16 of 35\n"
     ]
    },
    {
     "name": "stderr",
     "output_type": "stream",
     "text": [
      "[Parallel(n_jobs=-1)]: Done   9 tasks      | elapsed:   18.3s\n"
     ]
    },
    {
     "name": "stdout",
     "output_type": "stream",
     "text": [
      "building tree 17 of 35\n",
      "building tree 18 of 35\n",
      "building tree 19 of 35\n",
      "building tree 20 of 35\n",
      "building tree 21 of 35\n",
      "building tree 22 of 35\n",
      "building tree 23 of 35\n",
      "building tree 24 of 35\n"
     ]
    },
    {
     "name": "stderr",
     "output_type": "stream",
     "text": [
      "[Parallel(n_jobs=-1)]: Done  16 tasks      | elapsed:   20.5s\n"
     ]
    },
    {
     "name": "stdout",
     "output_type": "stream",
     "text": [
      "building tree 25 of 35\n",
      "building tree 26 of 35\n",
      "building tree 27 of 35\n",
      "building tree 28 of 35\n",
      "building tree 29 of 35\n",
      "building tree 30 of 35\n",
      "building tree 31 of 35\n",
      "building tree 32 of 35\n"
     ]
    },
    {
     "name": "stderr",
     "output_type": "stream",
     "text": [
      "[Parallel(n_jobs=-1)]: Done  24 out of  35 | elapsed:   30.3s remaining:   13.9s\n"
     ]
    },
    {
     "name": "stdout",
     "output_type": "stream",
     "text": [
      "building tree 33 of 35\n",
      "building tree 34 of 35\n",
      "building tree 35 of 35\n"
     ]
    },
    {
     "name": "stderr",
     "output_type": "stream",
     "text": [
      "[Parallel(n_jobs=-1)]: Done  28 out of  35 | elapsed:   38.1s remaining:    9.5s\n",
      "[Parallel(n_jobs=-1)]: Done  32 out of  35 | elapsed:   39.8s remaining:    3.7s\n",
      "[Parallel(n_jobs=-1)]: Done  35 out of  35 | elapsed:   43.5s finished\n",
      "[Parallel(n_jobs=8)]: Done   2 tasks      | elapsed:    0.0s\n",
      "[Parallel(n_jobs=8)]: Done   9 tasks      | elapsed:    0.1s\n",
      "[Parallel(n_jobs=8)]: Done  16 tasks      | elapsed:    0.1s\n",
      "[Parallel(n_jobs=8)]: Done  24 out of  35 | elapsed:    0.1s remaining:    0.1s\n",
      "[Parallel(n_jobs=8)]: Done  28 out of  35 | elapsed:    0.1s remaining:    0.0s\n",
      "[Parallel(n_jobs=8)]: Done  32 out of  35 | elapsed:    0.1s remaining:    0.0s\n",
      "[Parallel(n_jobs=8)]: Done  35 out of  35 | elapsed:    0.1s finished\n",
      "[Parallel(n_jobs=8)]: Done   2 tasks      | elapsed:    0.1s\n",
      "[Parallel(n_jobs=8)]: Done   9 tasks      | elapsed:    0.1s\n",
      "[Parallel(n_jobs=8)]: Done  16 tasks      | elapsed:    0.2s\n",
      "[Parallel(n_jobs=8)]: Done  24 out of  35 | elapsed:    0.2s remaining:    0.1s\n",
      "[Parallel(n_jobs=8)]: Done  28 out of  35 | elapsed:    0.2s remaining:    0.1s\n",
      "[Parallel(n_jobs=8)]: Done  32 out of  35 | elapsed:    0.3s remaining:    0.0s\n",
      "[Parallel(n_jobs=8)]: Done  35 out of  35 | elapsed:    0.3s finished\n",
      "/home/justin/anaconda3/lib/python3.6/site-packages/sklearn/model_selection/_validation.py:437: DataConversionWarning: A column-vector y was passed when a 1d array was expected. Please change the shape of y to (n_samples,), for example using ravel().\n",
      "  estimator.fit(X_train, y_train, **fit_params)\n"
     ]
    },
    {
     "name": "stdout",
     "output_type": "stream",
     "text": [
      "building tree 2 of 35building tree 1 of 35building tree 3 of 35building tree 4 of 35building tree 5 of 35building tree 6 of 35building tree 7 of 35building tree 8 of 35\n",
      "\n",
      "\n",
      "\n",
      "\n",
      "\n",
      "\n",
      "\n",
      "building tree 9 of 35\n",
      "building tree 10 of 35\n",
      "building tree 11 of 35\n"
     ]
    },
    {
     "name": "stderr",
     "output_type": "stream",
     "text": [
      "[Parallel(n_jobs=-1)]: Done   2 tasks      | elapsed:    9.5s\n"
     ]
    },
    {
     "name": "stdout",
     "output_type": "stream",
     "text": [
      "building tree 12 of 35\n",
      "building tree 13 of 35\n",
      "building tree 14 of 35\n",
      "building tree 15 of 35\n",
      "building tree 16 of 35\n"
     ]
    },
    {
     "name": "stderr",
     "output_type": "stream",
     "text": [
      "[Parallel(n_jobs=-1)]: Done   9 tasks      | elapsed:   18.9s\n"
     ]
    },
    {
     "name": "stdout",
     "output_type": "stream",
     "text": [
      "building tree 17 of 35\n",
      "building tree 18 of 35\n",
      "building tree 19 of 35\n",
      "building tree 20 of 35\n",
      "building tree 21 of 35\n",
      "building tree 22 of 35\n",
      "building tree 23 of 35\n"
     ]
    },
    {
     "name": "stderr",
     "output_type": "stream",
     "text": [
      "[Parallel(n_jobs=-1)]: Done  16 tasks      | elapsed:   21.0s\n"
     ]
    },
    {
     "name": "stdout",
     "output_type": "stream",
     "text": [
      "building tree 24 of 35\n",
      "building tree 25 of 35\n",
      "building tree 26 of 35\n",
      "building tree 27 of 35\n",
      "building tree 28 of 35\n",
      "building tree 29 of 35\n",
      "building tree 30 of 35\n",
      "building tree 31 of 35\n"
     ]
    },
    {
     "name": "stderr",
     "output_type": "stream",
     "text": [
      "[Parallel(n_jobs=-1)]: Done  24 out of  35 | elapsed:   31.4s remaining:   14.4s\n"
     ]
    },
    {
     "name": "stdout",
     "output_type": "stream",
     "text": [
      "building tree 32 of 35\n",
      "building tree 33 of 35\n",
      "building tree 34 of 35\n",
      "building tree 35 of 35\n"
     ]
    },
    {
     "name": "stderr",
     "output_type": "stream",
     "text": [
      "[Parallel(n_jobs=-1)]: Done  28 out of  35 | elapsed:   38.8s remaining:    9.7s\n",
      "[Parallel(n_jobs=-1)]: Done  32 out of  35 | elapsed:   40.6s remaining:    3.8s\n",
      "[Parallel(n_jobs=-1)]: Done  35 out of  35 | elapsed:   44.4s finished\n",
      "[Parallel(n_jobs=8)]: Done   2 tasks      | elapsed:    0.0s\n",
      "[Parallel(n_jobs=8)]: Done   9 tasks      | elapsed:    0.0s\n",
      "[Parallel(n_jobs=8)]: Done  16 tasks      | elapsed:    0.1s\n",
      "[Parallel(n_jobs=8)]: Done  24 out of  35 | elapsed:    0.1s remaining:    0.0s\n",
      "[Parallel(n_jobs=8)]: Done  28 out of  35 | elapsed:    0.1s remaining:    0.0s\n",
      "[Parallel(n_jobs=8)]: Done  32 out of  35 | elapsed:    0.1s remaining:    0.0s\n",
      "[Parallel(n_jobs=8)]: Done  35 out of  35 | elapsed:    0.1s finished\n",
      "[Parallel(n_jobs=8)]: Done   2 tasks      | elapsed:    0.0s\n",
      "[Parallel(n_jobs=8)]: Done   9 tasks      | elapsed:    0.1s\n",
      "[Parallel(n_jobs=8)]: Done  16 tasks      | elapsed:    0.1s\n",
      "[Parallel(n_jobs=8)]: Done  24 out of  35 | elapsed:    0.2s remaining:    0.1s\n",
      "[Parallel(n_jobs=8)]: Done  28 out of  35 | elapsed:    0.2s remaining:    0.1s\n",
      "[Parallel(n_jobs=8)]: Done  32 out of  35 | elapsed:    0.2s remaining:    0.0s\n",
      "[Parallel(n_jobs=8)]: Done  35 out of  35 | elapsed:    0.3s finished\n",
      "/home/justin/anaconda3/lib/python3.6/site-packages/sklearn/model_selection/_validation.py:437: DataConversionWarning: A column-vector y was passed when a 1d array was expected. Please change the shape of y to (n_samples,), for example using ravel().\n",
      "  estimator.fit(X_train, y_train, **fit_params)\n"
     ]
    },
    {
     "name": "stdout",
     "output_type": "stream",
     "text": [
      "building tree 1 of 144\n",
      "building tree 2 of 144building tree 3 of 144building tree 4 of 144building tree 6 of 144building tree 8 of 144building tree 7 of 144building tree 5 of 144\n",
      "\n",
      "\n",
      "\n",
      "\n",
      "\n",
      "\n",
      "building tree 9 of 144\n",
      "building tree 10 of 144\n"
     ]
    },
    {
     "name": "stderr",
     "output_type": "stream",
     "text": [
      "[Parallel(n_jobs=-1)]: Done   2 tasks      | elapsed:    0.6s\n"
     ]
    },
    {
     "name": "stdout",
     "output_type": "stream",
     "text": [
      "building tree 11 of 144\n",
      "building tree 12 of 144\n",
      "building tree 13 of 144\n",
      "building tree 14 of 144\n",
      "building tree 15 of 144\n",
      "building tree 16 of 144\n",
      "building tree 17 of 144\n"
     ]
    },
    {
     "name": "stderr",
     "output_type": "stream",
     "text": [
      "[Parallel(n_jobs=-1)]: Done   9 tasks      | elapsed:    1.0s\n"
     ]
    },
    {
     "name": "stdout",
     "output_type": "stream",
     "text": [
      "building tree 18 of 144\n",
      "building tree 19 of 144\n",
      "building tree 20 of 144\n",
      "building tree 21 of 144\n",
      "building tree 22 of 144\n",
      "building tree 23 of 144\n",
      "building tree 24 of 144\n"
     ]
    },
    {
     "name": "stderr",
     "output_type": "stream",
     "text": [
      "[Parallel(n_jobs=-1)]: Done  16 tasks      | elapsed:    1.5s\n"
     ]
    },
    {
     "name": "stdout",
     "output_type": "stream",
     "text": [
      "building tree 25 of 144\n",
      "building tree 26 of 144\n",
      "building tree 27 of 144\n",
      "building tree 28 of 144\n",
      "building tree 29 of 144\n",
      "building tree 30 of 144\n",
      "building tree 31 of 144\n",
      "building tree 32 of 144\n"
     ]
    },
    {
     "name": "stderr",
     "output_type": "stream",
     "text": [
      "[Parallel(n_jobs=-1)]: Done  25 tasks      | elapsed:    2.3s\n"
     ]
    },
    {
     "name": "stdout",
     "output_type": "stream",
     "text": [
      "building tree 33 of 144\n",
      "building tree 34 of 144\n",
      "building tree 35 of 144\n",
      "building tree 36 of 144\n",
      "building tree 37 of 144\n",
      "building tree 38 of 144\n",
      "building tree 39 of 144\n",
      "building tree 40 of 144\n",
      "building tree 41 of 144\n"
     ]
    },
    {
     "name": "stderr",
     "output_type": "stream",
     "text": [
      "[Parallel(n_jobs=-1)]: Done  34 tasks      | elapsed:    3.1s\n"
     ]
    },
    {
     "name": "stdout",
     "output_type": "stream",
     "text": [
      "building tree 42 of 144\n",
      "building tree 43 of 144\n",
      "building tree 44 of 144\n",
      "building tree 45 of 144\n",
      "building tree 46 of 144\n",
      "building tree 47 of 144\n",
      "building tree 48 of 144\n",
      "building tree 49 of 144\n",
      "building tree 50 of 144\n",
      "building tree 51 of 144\n",
      "building tree 52 of 144\n",
      "building tree 53 of 144\n",
      "building tree 54 of 144\n",
      "building tree 55 of 144\n",
      "building tree 56 of 144\n"
     ]
    },
    {
     "name": "stderr",
     "output_type": "stream",
     "text": [
      "[Parallel(n_jobs=-1)]: Done  45 tasks      | elapsed:    3.9s\n"
     ]
    },
    {
     "name": "stdout",
     "output_type": "stream",
     "text": [
      "building tree 57 of 144\n",
      "building tree 58 of 144\n",
      "building tree 59 of 144\n",
      "building tree 60 of 144\n",
      "building tree 61 of 144\n",
      "building tree 62 of 144\n",
      "building tree 63 of 144\n",
      "building tree 64 of 144\n"
     ]
    },
    {
     "name": "stderr",
     "output_type": "stream",
     "text": [
      "[Parallel(n_jobs=-1)]: Done  56 tasks      | elapsed:    4.8s\n"
     ]
    },
    {
     "name": "stdout",
     "output_type": "stream",
     "text": [
      "building tree 65 of 144\n",
      "building tree 66 of 144\n",
      "building tree 67 of 144\n",
      "building tree 68 of 144\n",
      "building tree 69 of 144\n",
      "building tree 70 of 144\n",
      "building tree 71 of 144\n",
      "building tree 72 of 144\n",
      "building tree 73 of 144\n",
      "building tree 74 of 144\n",
      "building tree 75 of 144\n",
      "building tree 76 of 144\n",
      "building tree 77 of 144\n",
      "building tree 78 of 144\n",
      "building tree 79 of 144\n",
      "building tree 80 of 144\n"
     ]
    },
    {
     "name": "stderr",
     "output_type": "stream",
     "text": [
      "[Parallel(n_jobs=-1)]: Done  69 tasks      | elapsed:    5.9s\n"
     ]
    },
    {
     "name": "stdout",
     "output_type": "stream",
     "text": [
      "building tree 81 of 144\n",
      "building tree 82 of 144\n",
      "building tree 83 of 144\n",
      "building tree 84 of 144\n",
      "building tree 85 of 144\n",
      "building tree 86 of 144\n",
      "building tree 87 of 144\n",
      "building tree 88 of 144\n",
      "building tree 89 of 144\n"
     ]
    },
    {
     "name": "stderr",
     "output_type": "stream",
     "text": [
      "[Parallel(n_jobs=-1)]: Done  82 tasks      | elapsed:    6.8s\n"
     ]
    },
    {
     "name": "stdout",
     "output_type": "stream",
     "text": [
      "building tree 90 of 144\n",
      "building tree 91 of 144\n",
      "building tree 92 of 144\n",
      "building tree 93 of 144\n",
      "building tree 94 of 144\n",
      "building tree 95 of 144\n",
      "building tree 96 of 144\n",
      "building tree 97 of 144\n",
      "building tree 98 of 144\n",
      "building tree 99 of 144\n",
      "building tree 100 of 144\n",
      "building tree 101 of 144\n",
      "building tree 102 of 144\n",
      "building tree 103 of 144\n",
      "building tree 104 of 144\n",
      "building tree 105 of 144\n",
      "building tree 106 of 144\n",
      "building tree 107 of 144\n"
     ]
    },
    {
     "name": "stderr",
     "output_type": "stream",
     "text": [
      "[Parallel(n_jobs=-1)]: Done  97 tasks      | elapsed:    8.1s\n"
     ]
    },
    {
     "name": "stdout",
     "output_type": "stream",
     "text": [
      "building tree 108 of 144\n",
      "building tree 109 of 144\n",
      "building tree 110 of 144\n",
      "building tree 111 of 144\n",
      "building tree 112 of 144\n",
      "building tree 113 of 144\n",
      "building tree 114 of 144\n",
      "building tree 115 of 144\n",
      "building tree 116 of 144\n",
      "building tree 117 of 144\n",
      "building tree 118 of 144\n",
      "building tree 119 of 144\n"
     ]
    },
    {
     "name": "stderr",
     "output_type": "stream",
     "text": [
      "[Parallel(n_jobs=-1)]: Done 112 tasks      | elapsed:    9.3s\n"
     ]
    },
    {
     "name": "stdout",
     "output_type": "stream",
     "text": [
      "building tree 120 of 144\n",
      "building tree 121 of 144\n",
      "building tree 122 of 144\n",
      "building tree 123 of 144\n",
      "building tree 124 of 144\n",
      "building tree 125 of 144\n",
      "building tree 126 of 144\n",
      "building tree 127 of 144\n",
      "building tree 128 of 144\n",
      "building tree 129 of 144\n",
      "building tree 130 of 144\n",
      "building tree 131 of 144\n",
      "building tree 132 of 144\n",
      "building tree 133 of 144\n",
      "building tree 134 of 144\n",
      "building tree 135 of 144\n",
      "building tree 136 of 144\n"
     ]
    },
    {
     "name": "stderr",
     "output_type": "stream",
     "text": [
      "[Parallel(n_jobs=-1)]: Done 129 tasks      | elapsed:   10.8s\n"
     ]
    },
    {
     "name": "stdout",
     "output_type": "stream",
     "text": [
      "building tree 137 of 144\n",
      "building tree 138 of 144\n",
      "building tree 139 of 144\n",
      "building tree 140 of 144\n",
      "building tree 141 of 144\n",
      "building tree 142 of 144\n",
      "building tree 143 of 144\n",
      "building tree 144 of 144\n"
     ]
    },
    {
     "name": "stderr",
     "output_type": "stream",
     "text": [
      "[Parallel(n_jobs=-1)]: Done 144 out of 144 | elapsed:   11.7s remaining:    0.0s\n",
      "[Parallel(n_jobs=-1)]: Done 144 out of 144 | elapsed:   11.7s finished\n",
      "[Parallel(n_jobs=8)]: Done   2 tasks      | elapsed:    0.1s\n",
      "[Parallel(n_jobs=8)]: Done   9 tasks      | elapsed:    0.1s\n",
      "[Parallel(n_jobs=8)]: Done  16 tasks      | elapsed:    0.2s\n",
      "[Parallel(n_jobs=8)]: Done  25 tasks      | elapsed:    0.2s\n",
      "[Parallel(n_jobs=8)]: Done  34 tasks      | elapsed:    0.3s\n",
      "[Parallel(n_jobs=8)]: Done  45 tasks      | elapsed:    0.4s\n",
      "[Parallel(n_jobs=8)]: Done  56 tasks      | elapsed:    0.4s\n",
      "[Parallel(n_jobs=8)]: Done  69 tasks      | elapsed:    0.5s\n",
      "[Parallel(n_jobs=8)]: Done  82 tasks      | elapsed:    0.6s\n",
      "[Parallel(n_jobs=8)]: Done  97 tasks      | elapsed:    0.7s\n",
      "[Parallel(n_jobs=8)]: Done 112 tasks      | elapsed:    0.8s\n",
      "[Parallel(n_jobs=8)]: Done 129 tasks      | elapsed:    0.9s\n",
      "[Parallel(n_jobs=8)]: Done 144 out of 144 | elapsed:    1.0s remaining:    0.0s\n",
      "[Parallel(n_jobs=8)]: Done 144 out of 144 | elapsed:    1.0s finished\n",
      "[Parallel(n_jobs=8)]: Done   2 tasks      | elapsed:    0.1s\n",
      "[Parallel(n_jobs=8)]: Done   9 tasks      | elapsed:    0.2s\n",
      "[Parallel(n_jobs=8)]: Done  16 tasks      | elapsed:    0.3s\n",
      "[Parallel(n_jobs=8)]: Done  25 tasks      | elapsed:    0.5s\n",
      "[Parallel(n_jobs=8)]: Done  34 tasks      | elapsed:    0.6s\n",
      "[Parallel(n_jobs=8)]: Done  45 tasks      | elapsed:    0.7s\n",
      "[Parallel(n_jobs=8)]: Done  56 tasks      | elapsed:    0.8s\n",
      "[Parallel(n_jobs=8)]: Done  69 tasks      | elapsed:    1.0s\n",
      "[Parallel(n_jobs=8)]: Done  82 tasks      | elapsed:    1.1s\n",
      "[Parallel(n_jobs=8)]: Done  97 tasks      | elapsed:    1.3s\n",
      "[Parallel(n_jobs=8)]: Done 112 tasks      | elapsed:    1.5s\n",
      "[Parallel(n_jobs=8)]: Done 129 tasks      | elapsed:    1.7s\n",
      "[Parallel(n_jobs=8)]: Done 144 out of 144 | elapsed:    1.9s remaining:    0.0s\n",
      "[Parallel(n_jobs=8)]: Done 144 out of 144 | elapsed:    1.9s finished\n",
      "/home/justin/anaconda3/lib/python3.6/site-packages/sklearn/model_selection/_validation.py:437: DataConversionWarning: A column-vector y was passed when a 1d array was expected. Please change the shape of y to (n_samples,), for example using ravel().\n",
      "  estimator.fit(X_train, y_train, **fit_params)\n"
     ]
    },
    {
     "name": "stdout",
     "output_type": "stream",
     "text": [
      "building tree 2 of 144building tree 1 of 144building tree 4 of 144building tree 5 of 144building tree 6 of 144building tree 3 of 144building tree 7 of 144building tree 8 of 144\n",
      "\n",
      "\n",
      "\n",
      "\n",
      "\n",
      "\n",
      "\n",
      "building tree 9 of 144\n",
      "building tree 10 of 144\n",
      "building tree 11 of 144\n",
      "building tree 12 of 144\n"
     ]
    },
    {
     "name": "stderr",
     "output_type": "stream",
     "text": [
      "[Parallel(n_jobs=-1)]: Done   2 tasks      | elapsed:    0.6s\n"
     ]
    },
    {
     "name": "stdout",
     "output_type": "stream",
     "text": [
      "building tree 13 of 144\n",
      "building tree 14 of 144\n",
      "building tree 15 of 144\n",
      "building tree 16 of 144\n"
     ]
    },
    {
     "name": "stderr",
     "output_type": "stream",
     "text": [
      "[Parallel(n_jobs=-1)]: Done   9 tasks      | elapsed:    1.1s\n"
     ]
    },
    {
     "name": "stdout",
     "output_type": "stream",
     "text": [
      "building tree 17 of 144\n",
      "building tree 18 of 144\n",
      "building tree 19 of 144\n",
      "building tree 20 of 144\n",
      "building tree 21 of 144\n",
      "building tree 22 of 144\n",
      "building tree 23 of 144\n",
      "building tree 24 of 144\n"
     ]
    },
    {
     "name": "stderr",
     "output_type": "stream",
     "text": [
      "[Parallel(n_jobs=-1)]: Done  16 tasks      | elapsed:    1.4s\n"
     ]
    },
    {
     "name": "stdout",
     "output_type": "stream",
     "text": [
      "building tree 25 of 144\n",
      "building tree 26 of 144\n",
      "building tree 27 of 144\n",
      "building tree 28 of 144\n",
      "building tree 29 of 144\n",
      "building tree 30 of 144\n",
      "building tree 31 of 144\n",
      "building tree 32 of 144\n"
     ]
    },
    {
     "name": "stderr",
     "output_type": "stream",
     "text": [
      "[Parallel(n_jobs=-1)]: Done  25 tasks      | elapsed:    2.5s\n"
     ]
    },
    {
     "name": "stdout",
     "output_type": "stream",
     "text": [
      "building tree 33 of 144\n",
      "building tree 34 of 144\n",
      "building tree 35 of 144\n",
      "building tree 36 of 144\n",
      "building tree 37 of 144\n",
      "building tree 38 of 144\n",
      "building tree 39 of 144\n",
      "building tree 40 of 144\n",
      "building tree 41 of 144\n",
      "building tree 42 of 144\n",
      "building tree 43 of 144\n",
      "building tree 44 of 144\n",
      "building tree 45 of 144\n",
      "building tree 46 of 144\n",
      "building tree 47 of 144\n"
     ]
    },
    {
     "name": "stderr",
     "output_type": "stream",
     "text": [
      "[Parallel(n_jobs=-1)]: Done  34 tasks      | elapsed:    3.2s\n"
     ]
    },
    {
     "name": "stdout",
     "output_type": "stream",
     "text": [
      "building tree 48 of 144\n",
      "building tree 49 of 144\n",
      "building tree 50 of 144\n",
      "building tree 51 of 144\n",
      "building tree 52 of 144\n",
      "building tree 53 of 144\n",
      "building tree 55 of 144building tree 54 of 144\n",
      "\n",
      "building tree 56 of 144\n"
     ]
    },
    {
     "name": "stderr",
     "output_type": "stream",
     "text": [
      "[Parallel(n_jobs=-1)]: Done  45 tasks      | elapsed:    4.0s\n"
     ]
    },
    {
     "name": "stdout",
     "output_type": "stream",
     "text": [
      "building tree 57 of 144\n",
      "building tree 58 of 144\n",
      "building tree 59 of 144\n",
      "building tree 60 of 144\n",
      "building tree 61 of 144\n",
      "building tree 62 of 144\n",
      "building tree 63 of 144\n",
      "building tree 64 of 144\n"
     ]
    },
    {
     "name": "stderr",
     "output_type": "stream",
     "text": [
      "[Parallel(n_jobs=-1)]: Done  56 tasks      | elapsed:    4.8s\n"
     ]
    },
    {
     "name": "stdout",
     "output_type": "stream",
     "text": [
      "building tree 65 of 144\n",
      "building tree 66 of 144\n",
      "building tree 67 of 144\n",
      "building tree 68 of 144\n",
      "building tree 69 of 144\n",
      "building tree 70 of 144\n",
      "building tree 71 of 144\n",
      "building tree 72 of 144\n",
      "building tree 73 of 144\n",
      "building tree 74 of 144\n",
      "building tree 75 of 144\n",
      "building tree 76 of 144\n",
      "building tree 77 of 144\n"
     ]
    },
    {
     "name": "stderr",
     "output_type": "stream",
     "text": [
      "[Parallel(n_jobs=-1)]: Done  69 tasks      | elapsed:    6.1s\n"
     ]
    },
    {
     "name": "stdout",
     "output_type": "stream",
     "text": [
      "building tree 78 of 144\n",
      "building tree 79 of 144\n",
      "building tree 80 of 144\n",
      "building tree 81 of 144\n",
      "building tree 82 of 144\n",
      "building tree 83 of 144\n",
      "building tree 84 of 144\n",
      "building tree 85 of 144\n",
      "building tree 86 of 144\n",
      "building tree 87 of 144\n",
      "building tree 88 of 144\n",
      "building tree 89 of 144\n"
     ]
    },
    {
     "name": "stderr",
     "output_type": "stream",
     "text": [
      "[Parallel(n_jobs=-1)]: Done  82 tasks      | elapsed:    7.1s\n"
     ]
    },
    {
     "name": "stdout",
     "output_type": "stream",
     "text": [
      "building tree 90 of 144\n",
      "building tree 91 of 144\n",
      "building tree 92 of 144\n",
      "building tree 93 of 144\n",
      "building tree 94 of 144\n",
      "building tree 95 of 144\n",
      "building tree 96 of 144\n",
      "building tree 97 of 144\n",
      "building tree 98 of 144\n",
      "building tree 99 of 144\n",
      "building tree 100 of 144\n",
      "building tree 101 of 144\n",
      "building tree 102 of 144\n",
      "building tree 103 of 144\n",
      "building tree 104 of 144\n",
      "building tree 105 of 144\n"
     ]
    },
    {
     "name": "stderr",
     "output_type": "stream",
     "text": [
      "[Parallel(n_jobs=-1)]: Done  97 tasks      | elapsed:    8.3s\n"
     ]
    },
    {
     "name": "stdout",
     "output_type": "stream",
     "text": [
      "building tree 106 of 144\n",
      "building tree 107 of 144\n",
      "building tree 108 of 144\n",
      "building tree 109 of 144\n",
      "building tree 110 of 144\n",
      "building tree 111 of 144\n",
      "building tree 112 of 144\n",
      "building tree 113 of 144\n",
      "building tree 114 of 144\n",
      "building tree 115 of 144\n",
      "building tree 116 of 144\n",
      "building tree 117 of 144\n",
      "building tree 118 of 144\n",
      "building tree 119 of 144\n",
      "building tree 120 of 144building tree 121 of 144\n",
      "\n",
      "building tree 122 of 144\n"
     ]
    },
    {
     "name": "stderr",
     "output_type": "stream",
     "text": [
      "[Parallel(n_jobs=-1)]: Done 112 tasks      | elapsed:    9.7s\n"
     ]
    },
    {
     "name": "stdout",
     "output_type": "stream",
     "text": [
      "building tree 123 of 144\n",
      "building tree 124 of 144\n",
      "building tree 125 of 144\n",
      "building tree 126 of 144\n",
      "building tree 127 of 144\n",
      "building tree 128 of 144\n",
      "building tree 129 of 144\n",
      "building tree 130 of 144\n",
      "building tree 131 of 144\n",
      "building tree 132 of 144\n",
      "building tree 133 of 144\n",
      "building tree 134 of 144\n",
      "building tree 135 of 144\n",
      "building tree 136 of 144\n",
      "building tree 137 of 144\n"
     ]
    },
    {
     "name": "stderr",
     "output_type": "stream",
     "text": [
      "[Parallel(n_jobs=-1)]: Done 129 tasks      | elapsed:   11.0s\n"
     ]
    },
    {
     "name": "stdout",
     "output_type": "stream",
     "text": [
      "building tree 138 of 144\n",
      "building tree 139 of 144\n",
      "building tree 140 of 144\n",
      "building tree 141 of 144\n",
      "building tree 142 of 144\n",
      "building tree 143 of 144\n",
      "building tree 144 of 144\n"
     ]
    },
    {
     "name": "stderr",
     "output_type": "stream",
     "text": [
      "[Parallel(n_jobs=-1)]: Done 144 out of 144 | elapsed:   12.0s remaining:    0.0s\n",
      "[Parallel(n_jobs=-1)]: Done 144 out of 144 | elapsed:   12.0s finished\n",
      "[Parallel(n_jobs=8)]: Done   2 tasks      | elapsed:    0.0s\n",
      "[Parallel(n_jobs=8)]: Done   9 tasks      | elapsed:    0.1s\n",
      "[Parallel(n_jobs=8)]: Done  16 tasks      | elapsed:    0.1s\n",
      "[Parallel(n_jobs=8)]: Done  25 tasks      | elapsed:    0.2s\n",
      "[Parallel(n_jobs=8)]: Done  34 tasks      | elapsed:    0.3s\n",
      "[Parallel(n_jobs=8)]: Done  45 tasks      | elapsed:    0.3s\n",
      "[Parallel(n_jobs=8)]: Done  56 tasks      | elapsed:    0.4s\n",
      "[Parallel(n_jobs=8)]: Done  69 tasks      | elapsed:    0.5s\n",
      "[Parallel(n_jobs=8)]: Done  82 tasks      | elapsed:    0.5s\n",
      "[Parallel(n_jobs=8)]: Done  97 tasks      | elapsed:    0.6s\n",
      "[Parallel(n_jobs=8)]: Done 112 tasks      | elapsed:    0.7s\n",
      "[Parallel(n_jobs=8)]: Done 129 tasks      | elapsed:    0.8s\n",
      "[Parallel(n_jobs=8)]: Done 144 out of 144 | elapsed:    0.9s remaining:    0.0s\n",
      "[Parallel(n_jobs=8)]: Done 144 out of 144 | elapsed:    0.9s finished\n",
      "[Parallel(n_jobs=8)]: Done   2 tasks      | elapsed:    0.1s\n",
      "[Parallel(n_jobs=8)]: Done   9 tasks      | elapsed:    0.2s\n",
      "[Parallel(n_jobs=8)]: Done  16 tasks      | elapsed:    0.3s\n",
      "[Parallel(n_jobs=8)]: Done  25 tasks      | elapsed:    0.4s\n",
      "[Parallel(n_jobs=8)]: Done  34 tasks      | elapsed:    0.5s\n",
      "[Parallel(n_jobs=8)]: Done  45 tasks      | elapsed:    0.7s\n",
      "[Parallel(n_jobs=8)]: Done  56 tasks      | elapsed:    0.8s\n",
      "[Parallel(n_jobs=8)]: Done  69 tasks      | elapsed:    1.0s\n",
      "[Parallel(n_jobs=8)]: Done  82 tasks      | elapsed:    1.2s\n",
      "[Parallel(n_jobs=8)]: Done  97 tasks      | elapsed:    1.3s\n",
      "[Parallel(n_jobs=8)]: Done 112 tasks      | elapsed:    1.5s\n",
      "[Parallel(n_jobs=8)]: Done 129 tasks      | elapsed:    1.7s\n",
      "[Parallel(n_jobs=8)]: Done 144 out of 144 | elapsed:    1.9s remaining:    0.0s\n",
      "[Parallel(n_jobs=8)]: Done 144 out of 144 | elapsed:    1.9s finished\n",
      "/home/justin/anaconda3/lib/python3.6/site-packages/sklearn/model_selection/_validation.py:437: DataConversionWarning: A column-vector y was passed when a 1d array was expected. Please change the shape of y to (n_samples,), for example using ravel().\n",
      "  estimator.fit(X_train, y_train, **fit_params)\n"
     ]
    },
    {
     "name": "stdout",
     "output_type": "stream",
     "text": [
      "building tree 2 of 144building tree 1 of 144building tree 4 of 144building tree 6 of 144building tree 7 of 144building tree 3 of 144building tree 8 of 144building tree 5 of 144\n",
      "\n",
      "\n",
      "\n",
      "\n",
      "\n",
      "\n",
      "\n"
     ]
    },
    {
     "name": "stderr",
     "output_type": "stream",
     "text": [
      "[Parallel(n_jobs=-1)]: Done   2 tasks      | elapsed:    0.6s\n"
     ]
    },
    {
     "name": "stdout",
     "output_type": "stream",
     "text": [
      "building tree 10 of 144building tree 9 of 144\n",
      "\n",
      "building tree 11 of 144\n",
      "building tree 12 of 144\n",
      "building tree 13 of 144\n",
      "building tree 14 of 144\n",
      "building tree 15 of 144\n",
      "building tree 16 of 144\n"
     ]
    },
    {
     "name": "stderr",
     "output_type": "stream",
     "text": [
      "[Parallel(n_jobs=-1)]: Done   9 tasks      | elapsed:    1.2s\n"
     ]
    },
    {
     "name": "stdout",
     "output_type": "stream",
     "text": [
      "building tree 17 of 144\n",
      "building tree 18 of 144\n",
      "building tree 19 of 144\n",
      "building tree 20 of 144\n",
      "building tree 21 of 144\n",
      "building tree 22 of 144\n",
      "building tree 23 of 144\n"
     ]
    },
    {
     "name": "stderr",
     "output_type": "stream",
     "text": [
      "[Parallel(n_jobs=-1)]: Done  16 tasks      | elapsed:    1.6s\n"
     ]
    },
    {
     "name": "stdout",
     "output_type": "stream",
     "text": [
      "building tree 24 of 144\n",
      "building tree 25 of 144\n",
      "building tree 26 of 144\n",
      "building tree 27 of 144\n",
      "building tree 28 of 144\n",
      "building tree 29 of 144\n",
      "building tree 30 of 144\n",
      "building tree 31 of 144\n",
      "building tree 32 of 144\n",
      "building tree 33 of 144\n"
     ]
    },
    {
     "name": "stderr",
     "output_type": "stream",
     "text": [
      "[Parallel(n_jobs=-1)]: Done  25 tasks      | elapsed:    2.5s\n"
     ]
    },
    {
     "name": "stdout",
     "output_type": "stream",
     "text": [
      "building tree 34 of 144\n",
      "building tree 35 of 144\n",
      "building tree 36 of 144\n",
      "building tree 37 of 144\n",
      "building tree 38 of 144\n",
      "building tree 39 of 144\n",
      "building tree 40 of 144\n",
      "building tree 41 of 144\n",
      "building tree 42 of 144\n"
     ]
    },
    {
     "name": "stderr",
     "output_type": "stream",
     "text": [
      "[Parallel(n_jobs=-1)]: Done  34 tasks      | elapsed:    3.3s\n"
     ]
    },
    {
     "name": "stdout",
     "output_type": "stream",
     "text": [
      "building tree 43 of 144\n",
      "building tree 44 of 144\n",
      "building tree 45 of 144\n",
      "building tree 46 of 144\n",
      "building tree 47 of 144\n",
      "building tree 48 of 144\n",
      "building tree 49 of 144\n",
      "building tree 50 of 144\n",
      "building tree 51 of 144\n",
      "building tree 52 of 144\n",
      "building tree 53 of 144\n"
     ]
    },
    {
     "name": "stderr",
     "output_type": "stream",
     "text": [
      "[Parallel(n_jobs=-1)]: Done  45 tasks      | elapsed:    4.1s\n"
     ]
    },
    {
     "name": "stdout",
     "output_type": "stream",
     "text": [
      "building tree 54 of 144\n",
      "building tree 55 of 144\n",
      "building tree 56 of 144\n",
      "building tree 57 of 144\n",
      "building tree 58 of 144\n",
      "building tree 59 of 144\n",
      "building tree 60 of 144\n",
      "building tree 61 of 144\n",
      "building tree 62 of 144\n",
      "building tree 63 of 144\n"
     ]
    },
    {
     "name": "stderr",
     "output_type": "stream",
     "text": [
      "[Parallel(n_jobs=-1)]: Done  56 tasks      | elapsed:    5.2s\n"
     ]
    },
    {
     "name": "stdout",
     "output_type": "stream",
     "text": [
      "building tree 64 of 144\n",
      "building tree 65 of 144\n",
      "building tree 66 of 144\n",
      "building tree 67 of 144\n",
      "building tree 68 of 144\n",
      "building tree 69 of 144\n",
      "building tree 70 of 144\n",
      "building tree 71 of 144\n",
      "building tree 72 of 144\n",
      "building tree 73 of 144\n",
      "building tree 74 of 144\n",
      "building tree 75 of 144\n",
      "building tree 76 of 144\n",
      "building tree 77 of 144\n",
      "building tree 78 of 144\n",
      "building tree 79 of 144\n"
     ]
    },
    {
     "name": "stderr",
     "output_type": "stream",
     "text": [
      "[Parallel(n_jobs=-1)]: Done  69 tasks      | elapsed:    6.2s\n"
     ]
    },
    {
     "name": "stdout",
     "output_type": "stream",
     "text": [
      "building tree 80 of 144\n",
      "building tree 81 of 144\n",
      "building tree 82 of 144\n",
      "building tree 83 of 144\n",
      "building tree 84 of 144\n",
      "building tree 85 of 144\n",
      "building tree 86 of 144\n",
      "building tree 87 of 144\n",
      "building tree 88 of 144\n",
      "building tree 89 of 144\n",
      "building tree 90 of 144\n",
      "building tree 91 of 144\n",
      "building tree 92 of 144\n"
     ]
    },
    {
     "name": "stderr",
     "output_type": "stream",
     "text": [
      "[Parallel(n_jobs=-1)]: Done  82 tasks      | elapsed:    7.2s\n"
     ]
    },
    {
     "name": "stdout",
     "output_type": "stream",
     "text": [
      "building tree 93 of 144\n",
      "building tree 94 of 144\n",
      "building tree 95 of 144\n",
      "building tree 96 of 144\n",
      "building tree 97 of 144\n",
      "building tree 98 of 144\n",
      "building tree 99 of 144\n",
      "building tree 100 of 144\n",
      "building tree 101 of 144\n",
      "building tree 102 of 144\n",
      "building tree 103 of 144\n",
      "building tree 104 of 144\n",
      "building tree 105 of 144\n",
      "building tree 106 of 144\n",
      "building tree 107 of 144\n"
     ]
    },
    {
     "name": "stderr",
     "output_type": "stream",
     "text": [
      "[Parallel(n_jobs=-1)]: Done  97 tasks      | elapsed:    8.6s\n"
     ]
    },
    {
     "name": "stdout",
     "output_type": "stream",
     "text": [
      "building tree 108 of 144\n",
      "building tree 109 of 144\n",
      "building tree 110 of 144\n",
      "building tree 111 of 144\n",
      "building tree 112 of 144\n",
      "building tree 113 of 144\n",
      "building tree 114 of 144\n",
      "building tree 115 of 144\n",
      "building tree 116 of 144\n",
      "building tree 117 of 144\n",
      "building tree 118 of 144\n",
      "building tree 119 of 144\n",
      "building tree 120 of 144\n"
     ]
    },
    {
     "name": "stderr",
     "output_type": "stream",
     "text": [
      "[Parallel(n_jobs=-1)]: Done 112 tasks      | elapsed:    9.7s\n"
     ]
    },
    {
     "name": "stdout",
     "output_type": "stream",
     "text": [
      "building tree 121 of 144\n",
      "building tree 122 of 144\n",
      "building tree 123 of 144\n",
      "building tree 124 of 144\n",
      "building tree 125 of 144\n",
      "building tree 126 of 144\n",
      "building tree 127 of 144\n",
      "building tree 128 of 144\n",
      "building tree 129 of 144\n",
      "building tree 130 of 144\n",
      "building tree 131 of 144\n",
      "building tree 132 of 144\n",
      "building tree 133 of 144\n",
      "building tree 134 of 144\n",
      "building tree 135 of 144\n",
      "building tree 136 of 144\n",
      "building tree 137 of 144\n",
      "building tree 138 of 144\n",
      "building tree 139 of 144\n"
     ]
    },
    {
     "name": "stderr",
     "output_type": "stream",
     "text": [
      "[Parallel(n_jobs=-1)]: Done 129 tasks      | elapsed:   11.1s\n"
     ]
    },
    {
     "name": "stdout",
     "output_type": "stream",
     "text": [
      "building tree 140 of 144\n",
      "building tree 141 of 144\n",
      "building tree 142 of 144\n",
      "building tree 143 of 144\n",
      "building tree 144 of 144\n"
     ]
    },
    {
     "name": "stderr",
     "output_type": "stream",
     "text": [
      "[Parallel(n_jobs=-1)]: Done 144 out of 144 | elapsed:   12.2s remaining:    0.0s\n",
      "[Parallel(n_jobs=-1)]: Done 144 out of 144 | elapsed:   12.2s finished\n",
      "[Parallel(n_jobs=8)]: Done   2 tasks      | elapsed:    0.1s\n",
      "[Parallel(n_jobs=8)]: Done   9 tasks      | elapsed:    0.1s\n",
      "[Parallel(n_jobs=8)]: Done  16 tasks      | elapsed:    0.2s\n",
      "[Parallel(n_jobs=8)]: Done  25 tasks      | elapsed:    0.2s\n",
      "[Parallel(n_jobs=8)]: Done  34 tasks      | elapsed:    0.3s\n",
      "[Parallel(n_jobs=8)]: Done  45 tasks      | elapsed:    0.3s\n",
      "[Parallel(n_jobs=8)]: Done  56 tasks      | elapsed:    0.4s\n",
      "[Parallel(n_jobs=8)]: Done  69 tasks      | elapsed:    0.5s\n",
      "[Parallel(n_jobs=8)]: Done  82 tasks      | elapsed:    0.6s\n",
      "[Parallel(n_jobs=8)]: Done  97 tasks      | elapsed:    0.7s\n",
      "[Parallel(n_jobs=8)]: Done 112 tasks      | elapsed:    0.7s\n",
      "[Parallel(n_jobs=8)]: Done 129 tasks      | elapsed:    0.9s\n",
      "[Parallel(n_jobs=8)]: Done 144 out of 144 | elapsed:    0.9s remaining:    0.0s\n",
      "[Parallel(n_jobs=8)]: Done 144 out of 144 | elapsed:    0.9s finished\n",
      "[Parallel(n_jobs=8)]: Done   2 tasks      | elapsed:    0.1s\n",
      "[Parallel(n_jobs=8)]: Done   9 tasks      | elapsed:    0.2s\n",
      "[Parallel(n_jobs=8)]: Done  16 tasks      | elapsed:    0.3s\n",
      "[Parallel(n_jobs=8)]: Done  25 tasks      | elapsed:    0.4s\n",
      "[Parallel(n_jobs=8)]: Done  34 tasks      | elapsed:    0.5s\n",
      "[Parallel(n_jobs=8)]: Done  45 tasks      | elapsed:    0.7s\n",
      "[Parallel(n_jobs=8)]: Done  56 tasks      | elapsed:    0.7s\n",
      "[Parallel(n_jobs=8)]: Done  69 tasks      | elapsed:    0.9s\n",
      "[Parallel(n_jobs=8)]: Done  82 tasks      | elapsed:    1.1s\n",
      "[Parallel(n_jobs=8)]: Done  97 tasks      | elapsed:    1.3s\n",
      "[Parallel(n_jobs=8)]: Done 112 tasks      | elapsed:    1.5s\n",
      "[Parallel(n_jobs=8)]: Done 129 tasks      | elapsed:    1.7s\n",
      "[Parallel(n_jobs=8)]: Done 144 out of 144 | elapsed:    1.9s remaining:    0.0s\n",
      "[Parallel(n_jobs=8)]: Done 144 out of 144 | elapsed:    1.9s finished\n",
      "/home/justin/anaconda3/lib/python3.6/site-packages/sklearn/model_selection/_validation.py:437: DataConversionWarning: A column-vector y was passed when a 1d array was expected. Please change the shape of y to (n_samples,), for example using ravel().\n",
      "  estimator.fit(X_train, y_train, **fit_params)\n"
     ]
    },
    {
     "name": "stdout",
     "output_type": "stream",
     "text": [
      "building tree 1 of 154building tree 3 of 154building tree 2 of 154building tree 4 of 154building tree 5 of 154\n",
      "building tree 7 of 154building tree 6 of 154building tree 8 of 154\n",
      "\n",
      "\n",
      "\n",
      "\n",
      "\n",
      "\n",
      "building tree 9 of 154\n",
      "building tree 10 of 154\n"
     ]
    },
    {
     "name": "stderr",
     "output_type": "stream",
     "text": [
      "[Parallel(n_jobs=-1)]: Done   2 tasks      | elapsed:    9.5s\n"
     ]
    },
    {
     "name": "stdout",
     "output_type": "stream",
     "text": [
      "building tree 11 of 154\n",
      "building tree 12 of 154\n",
      "building tree 13 of 154\n",
      "building tree 14 of 154\n",
      "building tree 15 of 154\n",
      "building tree 16 of 154\n"
     ]
    },
    {
     "name": "stderr",
     "output_type": "stream",
     "text": [
      "[Parallel(n_jobs=-1)]: Done   9 tasks      | elapsed:   18.8s\n"
     ]
    },
    {
     "name": "stdout",
     "output_type": "stream",
     "text": [
      "building tree 17 of 154\n",
      "building tree 18 of 154\n",
      "building tree 19 of 154\n",
      "building tree 20 of 154\n",
      "building tree 21 of 154\n",
      "building tree 22 of 154\n",
      "building tree 23 of 154\n"
     ]
    },
    {
     "name": "stderr",
     "output_type": "stream",
     "text": [
      "[Parallel(n_jobs=-1)]: Done  16 tasks      | elapsed:   21.2s\n"
     ]
    },
    {
     "name": "stdout",
     "output_type": "stream",
     "text": [
      "building tree 24 of 154\n",
      "building tree 25 of 154\n",
      "building tree 26 of 154\n",
      "building tree 27 of 154\n",
      "building tree 28 of 154\n",
      "building tree 29 of 154\n",
      "building tree 30 of 154\n",
      "building tree 31 of 154\n",
      "building tree 32 of 154\n"
     ]
    },
    {
     "name": "stderr",
     "output_type": "stream",
     "text": [
      "[Parallel(n_jobs=-1)]: Done  25 tasks      | elapsed:   37.6s\n"
     ]
    },
    {
     "name": "stdout",
     "output_type": "stream",
     "text": [
      "building tree 33 of 154\n",
      "building tree 34 of 154\n",
      "building tree 35 of 154\n",
      "building tree 36 of 154\n",
      "building tree 37 of 154\n",
      "building tree 38 of 154\n",
      "building tree 39 of 154\n",
      "building tree 40 of 154\n",
      "building tree 41 of 154\n"
     ]
    },
    {
     "name": "stderr",
     "output_type": "stream",
     "text": [
      "[Parallel(n_jobs=-1)]: Done  34 tasks      | elapsed:   48.6s\n"
     ]
    },
    {
     "name": "stdout",
     "output_type": "stream",
     "text": [
      "building tree 42 of 154\n",
      "building tree 43 of 154\n",
      "building tree 44 of 154\n",
      "building tree 45 of 154\n",
      "building tree 46 of 154\n",
      "building tree 47 of 154\n",
      "building tree 48 of 154\n",
      "building tree 49 of 154\n",
      "building tree 50 of 154\n",
      "building tree 51 of 154\n",
      "building tree 52 of 154\n"
     ]
    },
    {
     "name": "stderr",
     "output_type": "stream",
     "text": [
      "[Parallel(n_jobs=-1)]: Done  45 tasks      | elapsed:   59.1s\n"
     ]
    },
    {
     "name": "stdout",
     "output_type": "stream",
     "text": [
      "building tree 53 of 154\n",
      "building tree 54 of 154\n",
      "building tree 55 of 154\n",
      "building tree 56 of 154\n",
      "building tree 57 of 154\n",
      "building tree 58 of 154\n",
      "building tree 59 of 154\n",
      "building tree 60 of 154\n",
      "building tree 61 of 154\n",
      "building tree 62 of 154\n",
      "building tree 63 of 154\n"
     ]
    },
    {
     "name": "stderr",
     "output_type": "stream",
     "text": [
      "[Parallel(n_jobs=-1)]: Done  56 tasks      | elapsed:  1.2min\n"
     ]
    },
    {
     "name": "stdout",
     "output_type": "stream",
     "text": [
      "building tree 64 of 154\n",
      "building tree 65 of 154\n",
      "building tree 66 of 154\n",
      "building tree 67 of 154\n",
      "building tree 68 of 154\n",
      "building tree 69 of 154\n",
      "building tree 70 of 154\n",
      "building tree 71 of 154\n",
      "building tree 72 of 154\n",
      "building tree 73 of 154\n",
      "building tree 74 of 154\n",
      "building tree 75 of 154\n",
      "building tree 76 of 154\n"
     ]
    },
    {
     "name": "stderr",
     "output_type": "stream",
     "text": [
      "[Parallel(n_jobs=-1)]: Done  69 tasks      | elapsed:  1.5min\n"
     ]
    },
    {
     "name": "stdout",
     "output_type": "stream",
     "text": [
      "building tree 77 of 154\n",
      "building tree 78 of 154\n",
      "building tree 79 of 154\n",
      "building tree 80 of 154\n",
      "building tree 81 of 154\n",
      "building tree 82 of 154\n",
      "building tree 83 of 154\n",
      "building tree 84 of 154\n",
      "building tree 85 of 154\n",
      "building tree 86 of 154\n",
      "building tree 87 of 154\n",
      "building tree 88 of 154\n",
      "building tree 89 of 154\n",
      "building tree 90 of 154\n"
     ]
    },
    {
     "name": "stderr",
     "output_type": "stream",
     "text": [
      "[Parallel(n_jobs=-1)]: Done  82 tasks      | elapsed:  1.8min\n"
     ]
    },
    {
     "name": "stdout",
     "output_type": "stream",
     "text": [
      "building tree 91 of 154\n",
      "building tree 92 of 154\n",
      "building tree 93 of 154\n",
      "building tree 94 of 154\n",
      "building tree 95 of 154\n",
      "building tree 96 of 154\n",
      "building tree 97 of 154\n",
      "building tree 98 of 154\n",
      "building tree 99 of 154\n",
      "building tree 100 of 154\n",
      "building tree 101 of 154\n",
      "building tree 102 of 154\n",
      "building tree 103 of 154\n",
      "building tree 104 of 154\n"
     ]
    },
    {
     "name": "stderr",
     "output_type": "stream",
     "text": [
      "[Parallel(n_jobs=-1)]: Done  97 tasks      | elapsed:  2.1min\n"
     ]
    },
    {
     "name": "stdout",
     "output_type": "stream",
     "text": [
      "building tree 105 of 154\n",
      "building tree 106 of 154\n",
      "building tree 107 of 154\n",
      "building tree 108 of 154\n",
      "building tree 109 of 154\n",
      "building tree 110 of 154\n",
      "building tree 111 of 154\n",
      "building tree 112 of 154\n",
      "building tree 113 of 154\n",
      "building tree 114 of 154\n",
      "building tree 115 of 154\n",
      "building tree 116 of 154\n",
      "building tree 117 of 154\n",
      "building tree 118 of 154\n",
      "building tree 119 of 154\n"
     ]
    },
    {
     "name": "stderr",
     "output_type": "stream",
     "text": [
      "[Parallel(n_jobs=-1)]: Done 112 tasks      | elapsed:  2.4min\n"
     ]
    },
    {
     "name": "stdout",
     "output_type": "stream",
     "text": [
      "building tree 120 of 154\n",
      "building tree 121 of 154\n",
      "building tree 122 of 154\n",
      "building tree 123 of 154\n",
      "building tree 124 of 154\n",
      "building tree 125 of 154\n",
      "building tree 126 of 154\n",
      "building tree 127 of 154\n",
      "building tree 128 of 154\n",
      "building tree 129 of 154\n",
      "building tree 130 of 154\n",
      "building tree 131 of 154\n",
      "building tree 132 of 154\n",
      "building tree 133 of 154\n",
      "building tree 134 of 154\n",
      "building tree 135 of 154\n",
      "building tree 136 of 154\n"
     ]
    },
    {
     "name": "stderr",
     "output_type": "stream",
     "text": [
      "[Parallel(n_jobs=-1)]: Done 129 tasks      | elapsed:  2.7min\n"
     ]
    },
    {
     "name": "stdout",
     "output_type": "stream",
     "text": [
      "building tree 137 of 154\n",
      "building tree 138 of 154\n",
      "building tree 139 of 154\n",
      "building tree 140 of 154\n",
      "building tree 141 of 154\n",
      "building tree 142 of 154\n",
      "building tree 143 of 154\n",
      "building tree 144 of 154\n",
      "building tree 145 of 154\n",
      "building tree 146 of 154\n",
      "building tree 147 of 154\n",
      "building tree 148 of 154\n",
      "building tree 149 of 154\n",
      "building tree 150 of 154\n",
      "building tree 151 of 154\n",
      "building tree 152 of 154\n",
      "building tree 153 of 154\n",
      "building tree 154 of 154\n"
     ]
    },
    {
     "name": "stderr",
     "output_type": "stream",
     "text": [
      "[Parallel(n_jobs=-1)]: Done 154 out of 154 | elapsed:  3.2min finished\n",
      "[Parallel(n_jobs=8)]: Done   2 tasks      | elapsed:    0.0s\n",
      "[Parallel(n_jobs=8)]: Done   9 tasks      | elapsed:    0.1s\n",
      "[Parallel(n_jobs=8)]: Done  16 tasks      | elapsed:    0.1s\n",
      "[Parallel(n_jobs=8)]: Done  25 tasks      | elapsed:    0.1s\n",
      "[Parallel(n_jobs=8)]: Done  34 tasks      | elapsed:    0.1s\n",
      "[Parallel(n_jobs=8)]: Done  45 tasks      | elapsed:    0.2s\n",
      "[Parallel(n_jobs=8)]: Done  56 tasks      | elapsed:    0.2s\n",
      "[Parallel(n_jobs=8)]: Done  69 tasks      | elapsed:    0.3s\n",
      "[Parallel(n_jobs=8)]: Done  82 tasks      | elapsed:    0.3s\n",
      "[Parallel(n_jobs=8)]: Done  97 tasks      | elapsed:    0.3s\n",
      "[Parallel(n_jobs=8)]: Done 112 tasks      | elapsed:    0.4s\n",
      "[Parallel(n_jobs=8)]: Done 129 tasks      | elapsed:    0.4s\n",
      "[Parallel(n_jobs=8)]: Done 154 out of 154 | elapsed:    0.5s finished\n",
      "[Parallel(n_jobs=8)]: Done   2 tasks      | elapsed:    0.1s\n",
      "[Parallel(n_jobs=8)]: Done   9 tasks      | elapsed:    0.1s\n",
      "[Parallel(n_jobs=8)]: Done  16 tasks      | elapsed:    0.1s\n",
      "[Parallel(n_jobs=8)]: Done  25 tasks      | elapsed:    0.2s\n",
      "[Parallel(n_jobs=8)]: Done  34 tasks      | elapsed:    0.3s\n",
      "[Parallel(n_jobs=8)]: Done  45 tasks      | elapsed:    0.3s\n",
      "[Parallel(n_jobs=8)]: Done  56 tasks      | elapsed:    0.4s\n",
      "[Parallel(n_jobs=8)]: Done  69 tasks      | elapsed:    0.5s\n",
      "[Parallel(n_jobs=8)]: Done  82 tasks      | elapsed:    0.5s\n",
      "[Parallel(n_jobs=8)]: Done  97 tasks      | elapsed:    0.6s\n",
      "[Parallel(n_jobs=8)]: Done 112 tasks      | elapsed:    0.7s\n",
      "[Parallel(n_jobs=8)]: Done 129 tasks      | elapsed:    0.8s\n",
      "[Parallel(n_jobs=8)]: Done 154 out of 154 | elapsed:    0.9s finished\n",
      "/home/justin/anaconda3/lib/python3.6/site-packages/sklearn/model_selection/_validation.py:437: DataConversionWarning: A column-vector y was passed when a 1d array was expected. Please change the shape of y to (n_samples,), for example using ravel().\n",
      "  estimator.fit(X_train, y_train, **fit_params)\n"
     ]
    },
    {
     "name": "stdout",
     "output_type": "stream",
     "text": [
      "building tree 1 of 154building tree 3 of 154building tree 4 of 154building tree 2 of 154building tree 6 of 154building tree 7 of 154building tree 8 of 154building tree 5 of 154\n",
      "\n",
      "\n",
      "\n",
      "\n",
      "\n",
      "\n",
      "\n",
      "building tree 9 of 154\n",
      "building tree 10 of 154\n"
     ]
    },
    {
     "name": "stderr",
     "output_type": "stream",
     "text": [
      "[Parallel(n_jobs=-1)]: Done   2 tasks      | elapsed:    9.6s\n"
     ]
    },
    {
     "name": "stdout",
     "output_type": "stream",
     "text": [
      "building tree 11 of 154\n",
      "building tree 12 of 154\n",
      "building tree 13 of 154\n",
      "building tree 14 of 154\n",
      "building tree 15 of 154\n",
      "building tree 16 of 154\n"
     ]
    },
    {
     "name": "stderr",
     "output_type": "stream",
     "text": [
      "[Parallel(n_jobs=-1)]: Done   9 tasks      | elapsed:   18.7s\n"
     ]
    },
    {
     "name": "stdout",
     "output_type": "stream",
     "text": [
      "building tree 17 of 154\n",
      "building tree 18 of 154\n",
      "building tree 19 of 154\n",
      "building tree 20 of 154\n",
      "building tree 21 of 154\n",
      "building tree 22 of 154\n",
      "building tree 23 of 154\n"
     ]
    },
    {
     "name": "stderr",
     "output_type": "stream",
     "text": [
      "[Parallel(n_jobs=-1)]: Done  16 tasks      | elapsed:   20.2s\n"
     ]
    },
    {
     "name": "stdout",
     "output_type": "stream",
     "text": [
      "building tree 24 of 154\n",
      "building tree 25 of 154\n",
      "building tree 26 of 154\n",
      "building tree 27 of 154\n",
      "building tree 28 of 154\n",
      "building tree 29 of 154\n",
      "building tree 30 of 154\n",
      "building tree 31 of 154\n",
      "building tree 32 of 154\n"
     ]
    },
    {
     "name": "stderr",
     "output_type": "stream",
     "text": [
      "[Parallel(n_jobs=-1)]: Done  25 tasks      | elapsed:   37.6s\n"
     ]
    },
    {
     "name": "stdout",
     "output_type": "stream",
     "text": [
      "building tree 33 of 154\n",
      "building tree 34 of 154\n",
      "building tree 35 of 154\n",
      "building tree 37 of 154\n",
      "building tree 36 of 154\n",
      "building tree 38 of 154\n",
      "building tree 39 of 154\n",
      "building tree 40 of 154\n",
      "building tree 41 of 154\n"
     ]
    },
    {
     "name": "stderr",
     "output_type": "stream",
     "text": [
      "[Parallel(n_jobs=-1)]: Done  34 tasks      | elapsed:   47.7s\n"
     ]
    },
    {
     "name": "stdout",
     "output_type": "stream",
     "text": [
      "building tree 42 of 154\n",
      "building tree 43 of 154\n",
      "building tree 44 of 154\n",
      "building tree 45 of 154\n",
      "building tree 46 of 154\n",
      "building tree 47 of 154\n",
      "building tree 48 of 154\n",
      "building tree 49 of 154\n",
      "building tree 50 of 154\n",
      "building tree 51 of 154\n",
      "building tree 52 of 154\n",
      "building tree 53 of 154\n"
     ]
    },
    {
     "name": "stderr",
     "output_type": "stream",
     "text": [
      "[Parallel(n_jobs=-1)]: Done  45 tasks      | elapsed:   57.9s\n"
     ]
    },
    {
     "name": "stdout",
     "output_type": "stream",
     "text": [
      "building tree 54 of 154\n",
      "building tree 55 of 154\n",
      "building tree 56 of 154\n",
      "building tree 57 of 154\n",
      "building tree 58 of 154\n",
      "building tree 59 of 154\n",
      "building tree 60 of 154\n",
      "building tree 61 of 154\n",
      "building tree 62 of 154\n",
      "building tree 63 of 154\n",
      "building tree 64 of 154\n"
     ]
    },
    {
     "name": "stderr",
     "output_type": "stream",
     "text": [
      "[Parallel(n_jobs=-1)]: Done  56 tasks      | elapsed:  1.2min\n"
     ]
    },
    {
     "name": "stdout",
     "output_type": "stream",
     "text": [
      "building tree 65 of 154\n",
      "building tree 66 of 154\n",
      "building tree 67 of 154\n",
      "building tree 68 of 154\n",
      "building tree 69 of 154\n",
      "building tree 70 of 154\n",
      "building tree 71 of 154\n",
      "building tree 72 of 154\n",
      "building tree 73 of 154\n",
      "building tree 74 of 154\n",
      "building tree 75 of 154\n",
      "building tree 76 of 154\n"
     ]
    },
    {
     "name": "stderr",
     "output_type": "stream",
     "text": [
      "[Parallel(n_jobs=-1)]: Done  69 tasks      | elapsed:  1.4min\n"
     ]
    },
    {
     "name": "stdout",
     "output_type": "stream",
     "text": [
      "building tree 77 of 154\n",
      "building tree 78 of 154\n",
      "building tree 79 of 154\n",
      "building tree 80 of 154\n",
      "building tree 81 of 154\n",
      "building tree 82 of 154\n",
      "building tree 83 of 154\n",
      "building tree 84 of 154\n",
      "building tree 85 of 154\n",
      "building tree 86 of 154\n",
      "building tree 87 of 154\n",
      "building tree 88 of 154\n",
      "building tree 89 of 154\n"
     ]
    },
    {
     "name": "stderr",
     "output_type": "stream",
     "text": [
      "[Parallel(n_jobs=-1)]: Done  82 tasks      | elapsed:  1.7min\n"
     ]
    },
    {
     "name": "stdout",
     "output_type": "stream",
     "text": [
      "building tree 90 of 154\n",
      "building tree 91 of 154\n",
      "building tree 92 of 154\n",
      "building tree 93 of 154\n",
      "building tree 94 of 154\n",
      "building tree 95 of 154\n",
      "building tree 96 of 154\n",
      "building tree 97 of 154\n",
      "building tree 98 of 154\n",
      "building tree 99 of 154\n",
      "building tree 100 of 154\n",
      "building tree 101 of 154\n",
      "building tree 102 of 154\n",
      "building tree 103 of 154\n",
      "building tree 104 of 154\n"
     ]
    },
    {
     "name": "stderr",
     "output_type": "stream",
     "text": [
      "[Parallel(n_jobs=-1)]: Done  97 tasks      | elapsed:  2.0min\n"
     ]
    },
    {
     "name": "stdout",
     "output_type": "stream",
     "text": [
      "building tree 105 of 154\n",
      "building tree 106 of 154\n",
      "building tree 107 of 154\n",
      "building tree 108 of 154\n",
      "building tree 109 of 154\n",
      "building tree 110 of 154\n",
      "building tree 111 of 154\n",
      "building tree 112 of 154\n",
      "building tree 113 of 154\n",
      "building tree 114 of 154\n",
      "building tree 115 of 154\n",
      "building tree 116 of 154\n",
      "building tree 117 of 154\n",
      "building tree 118 of 154\n",
      "building tree 119 of 154\n"
     ]
    },
    {
     "name": "stderr",
     "output_type": "stream",
     "text": [
      "[Parallel(n_jobs=-1)]: Done 112 tasks      | elapsed:  2.3min\n"
     ]
    },
    {
     "name": "stdout",
     "output_type": "stream",
     "text": [
      "building tree 120 of 154\n",
      "building tree 121 of 154\n",
      "building tree 122 of 154\n",
      "building tree 123 of 154\n",
      "building tree 124 of 154\n",
      "building tree 125 of 154\n",
      "building tree 126 of 154\n",
      "building tree 127 of 154\n",
      "building tree 128 of 154\n",
      "building tree 129 of 154\n",
      "building tree 130 of 154\n",
      "building tree 131 of 154\n",
      "building tree 132 of 154\n",
      "building tree 133 of 154\n",
      "building tree 134 of 154\n",
      "building tree 135 of 154\n",
      "building tree 136 of 154\n"
     ]
    },
    {
     "name": "stderr",
     "output_type": "stream",
     "text": [
      "[Parallel(n_jobs=-1)]: Done 129 tasks      | elapsed:  2.7min\n"
     ]
    },
    {
     "name": "stdout",
     "output_type": "stream",
     "text": [
      "building tree 137 of 154\n",
      "building tree 138 of 154\n",
      "building tree 139 of 154\n",
      "building tree 140 of 154\n",
      "building tree 141 of 154\n",
      "building tree 142 of 154\n",
      "building tree 143 of 154\n",
      "building tree 144 of 154\n",
      "building tree 145 of 154\n",
      "building tree 146 of 154\n",
      "building tree 147 of 154\n",
      "building tree 148 of 154\n",
      "building tree 149 of 154\n",
      "building tree 150 of 154\n",
      "building tree 151 of 154\n",
      "building tree 152 of 154\n",
      "building tree 153 of 154\n",
      "building tree 154 of 154\n"
     ]
    },
    {
     "name": "stderr",
     "output_type": "stream",
     "text": [
      "[Parallel(n_jobs=-1)]: Done 154 out of 154 | elapsed:  3.1min finished\n",
      "[Parallel(n_jobs=8)]: Done   2 tasks      | elapsed:    0.0s\n",
      "[Parallel(n_jobs=8)]: Done   9 tasks      | elapsed:    0.0s\n",
      "[Parallel(n_jobs=8)]: Done  16 tasks      | elapsed:    0.1s\n",
      "[Parallel(n_jobs=8)]: Done  25 tasks      | elapsed:    0.1s\n",
      "[Parallel(n_jobs=8)]: Done  34 tasks      | elapsed:    0.1s\n",
      "[Parallel(n_jobs=8)]: Done  45 tasks      | elapsed:    0.2s\n",
      "[Parallel(n_jobs=8)]: Done  56 tasks      | elapsed:    0.2s\n",
      "[Parallel(n_jobs=8)]: Done  69 tasks      | elapsed:    0.2s\n",
      "[Parallel(n_jobs=8)]: Done  82 tasks      | elapsed:    0.3s\n",
      "[Parallel(n_jobs=8)]: Done  97 tasks      | elapsed:    0.3s\n",
      "[Parallel(n_jobs=8)]: Done 112 tasks      | elapsed:    0.4s\n",
      "[Parallel(n_jobs=8)]: Done 129 tasks      | elapsed:    0.4s\n",
      "[Parallel(n_jobs=8)]: Done 154 out of 154 | elapsed:    0.5s finished\n",
      "[Parallel(n_jobs=8)]: Done   2 tasks      | elapsed:    0.0s\n",
      "[Parallel(n_jobs=8)]: Done   9 tasks      | elapsed:    0.1s\n",
      "[Parallel(n_jobs=8)]: Done  16 tasks      | elapsed:    0.1s\n",
      "[Parallel(n_jobs=8)]: Done  25 tasks      | elapsed:    0.2s\n",
      "[Parallel(n_jobs=8)]: Done  34 tasks      | elapsed:    0.3s\n",
      "[Parallel(n_jobs=8)]: Done  45 tasks      | elapsed:    0.3s\n",
      "[Parallel(n_jobs=8)]: Done  56 tasks      | elapsed:    0.4s\n",
      "[Parallel(n_jobs=8)]: Done  69 tasks      | elapsed:    0.5s\n",
      "[Parallel(n_jobs=8)]: Done  82 tasks      | elapsed:    0.5s\n",
      "[Parallel(n_jobs=8)]: Done  97 tasks      | elapsed:    0.6s\n",
      "[Parallel(n_jobs=8)]: Done 112 tasks      | elapsed:    0.7s\n",
      "[Parallel(n_jobs=8)]: Done 129 tasks      | elapsed:    0.8s\n",
      "[Parallel(n_jobs=8)]: Done 154 out of 154 | elapsed:    0.9s finished\n",
      "/home/justin/anaconda3/lib/python3.6/site-packages/sklearn/model_selection/_validation.py:437: DataConversionWarning: A column-vector y was passed when a 1d array was expected. Please change the shape of y to (n_samples,), for example using ravel().\n",
      "  estimator.fit(X_train, y_train, **fit_params)\n"
     ]
    },
    {
     "name": "stdout",
     "output_type": "stream",
     "text": [
      "building tree 2 of 154building tree 1 of 154building tree 3 of 154building tree 4 of 154building tree 5 of 154building tree 7 of 154building tree 8 of 154building tree 6 of 154\n",
      "\n",
      "\n",
      "\n",
      "\n",
      "\n",
      "\n",
      "\n",
      "building tree 9 of 154\n"
     ]
    },
    {
     "name": "stderr",
     "output_type": "stream",
     "text": [
      "[Parallel(n_jobs=-1)]: Done   2 tasks      | elapsed:    9.5s\n"
     ]
    },
    {
     "name": "stdout",
     "output_type": "stream",
     "text": [
      "building tree 10 of 154\n",
      "building tree 11 of 154\n",
      "building tree 12 of 154\n",
      "building tree 13 of 154\n",
      "building tree 14 of 154\n",
      "building tree 15 of 154\n",
      "building tree 16 of 154\n"
     ]
    },
    {
     "name": "stderr",
     "output_type": "stream",
     "text": [
      "[Parallel(n_jobs=-1)]: Done   9 tasks      | elapsed:   18.8s\n"
     ]
    },
    {
     "name": "stdout",
     "output_type": "stream",
     "text": [
      "building tree 17 of 154\n",
      "building tree 18 of 154\n",
      "building tree 19 of 154\n",
      "building tree 20 of 154\n",
      "building tree 21 of 154\n",
      "building tree 22 of 154\n",
      "building tree 23 of 154\n",
      "building tree 24 of 154\n"
     ]
    },
    {
     "name": "stderr",
     "output_type": "stream",
     "text": [
      "[Parallel(n_jobs=-1)]: Done  16 tasks      | elapsed:   20.3s\n"
     ]
    },
    {
     "name": "stdout",
     "output_type": "stream",
     "text": [
      "building tree 25 of 154\n",
      "building tree 26 of 154\n",
      "building tree 27 of 154\n",
      "building tree 28 of 154\n",
      "building tree 29 of 154\n",
      "building tree 30 of 154\n",
      "building tree 31 of 154\n",
      "building tree 32 of 154\n"
     ]
    },
    {
     "name": "stderr",
     "output_type": "stream",
     "text": [
      "[Parallel(n_jobs=-1)]: Done  25 tasks      | elapsed:   38.3s\n"
     ]
    },
    {
     "name": "stdout",
     "output_type": "stream",
     "text": [
      "building tree 33 of 154\n",
      "building tree 34 of 154\n",
      "building tree 35 of 154\n",
      "building tree 36 of 154\n",
      "building tree 37 of 154\n",
      "building tree 38 of 154\n",
      "building tree 39 of 154\n",
      "building tree 40 of 154\n",
      "building tree 41 of 154\n"
     ]
    },
    {
     "name": "stderr",
     "output_type": "stream",
     "text": [
      "[Parallel(n_jobs=-1)]: Done  34 tasks      | elapsed:   48.8s\n"
     ]
    },
    {
     "name": "stdout",
     "output_type": "stream",
     "text": [
      "building tree 42 of 154\n",
      "building tree 43 of 154\n",
      "building tree 44 of 154\n",
      "building tree 45 of 154\n",
      "building tree 46 of 154\n",
      "building tree 47 of 154\n",
      "building tree 48 of 154\n",
      "building tree 49 of 154\n",
      "building tree 50 of 154\n",
      "building tree 51 of 154\n",
      "building tree 52 of 154\n",
      "building tree 53 of 154\n"
     ]
    },
    {
     "name": "stderr",
     "output_type": "stream",
     "text": [
      "[Parallel(n_jobs=-1)]: Done  45 tasks      | elapsed:   59.1s\n"
     ]
    },
    {
     "name": "stdout",
     "output_type": "stream",
     "text": [
      "building tree 54 of 154\n",
      "building tree 55 of 154\n",
      "building tree 56 of 154\n",
      "building tree 57 of 154\n",
      "building tree 58 of 154\n",
      "building tree 59 of 154\n",
      "building tree 60 of 154\n",
      "building tree 61 of 154\n",
      "building tree 62 of 154\n",
      "building tree 63 of 154\n"
     ]
    },
    {
     "name": "stderr",
     "output_type": "stream",
     "text": [
      "[Parallel(n_jobs=-1)]: Done  56 tasks      | elapsed:  1.2min\n"
     ]
    },
    {
     "name": "stdout",
     "output_type": "stream",
     "text": [
      "building tree 64 of 154\n",
      "building tree 65 of 154\n",
      "building tree 66 of 154\n",
      "building tree 67 of 154\n",
      "building tree 68 of 154\n",
      "building tree 69 of 154\n",
      "building tree 70 of 154\n",
      "building tree 71 of 154\n",
      "building tree 72 of 154\n",
      "building tree 73 of 154\n",
      "building tree 74 of 154\n",
      "building tree 75 of 154\n",
      "building tree 76 of 154\n"
     ]
    },
    {
     "name": "stderr",
     "output_type": "stream",
     "text": [
      "[Parallel(n_jobs=-1)]: Done  69 tasks      | elapsed:  1.5min\n"
     ]
    },
    {
     "name": "stdout",
     "output_type": "stream",
     "text": [
      "building tree 77 of 154\n",
      "building tree 78 of 154\n",
      "building tree 79 of 154\n",
      "building tree 80 of 154\n",
      "building tree 81 of 154\n",
      "building tree 82 of 154\n",
      "building tree 83 of 154\n",
      "building tree 84 of 154\n",
      "building tree 85 of 154\n",
      "building tree 86 of 154\n",
      "building tree 87 of 154\n",
      "building tree 88 of 154\n",
      "building tree 89 of 154\n"
     ]
    },
    {
     "name": "stderr",
     "output_type": "stream",
     "text": [
      "[Parallel(n_jobs=-1)]: Done  82 tasks      | elapsed:  1.8min\n"
     ]
    },
    {
     "name": "stdout",
     "output_type": "stream",
     "text": [
      "building tree 90 of 154\n",
      "building tree 91 of 154\n",
      "building tree 92 of 154\n",
      "building tree 93 of 154\n",
      "building tree 94 of 154\n",
      "building tree 95 of 154\n",
      "building tree 96 of 154\n",
      "building tree 97 of 154\n",
      "building tree 98 of 154\n",
      "building tree 99 of 154\n",
      "building tree 100 of 154\n",
      "building tree 101 of 154\n",
      "building tree 102 of 154\n",
      "building tree 103 of 154\n",
      "building tree 104 of 154\n"
     ]
    },
    {
     "name": "stderr",
     "output_type": "stream",
     "text": [
      "[Parallel(n_jobs=-1)]: Done  97 tasks      | elapsed:  2.1min\n"
     ]
    },
    {
     "name": "stdout",
     "output_type": "stream",
     "text": [
      "building tree 105 of 154\n",
      "building tree 106 of 154\n",
      "building tree 107 of 154\n",
      "building tree 108 of 154\n",
      "building tree 109 of 154\n",
      "building tree 110 of 154\n",
      "building tree 111 of 154\n",
      "building tree 112 of 154\n",
      "building tree 113 of 154\n",
      "building tree 114 of 154\n",
      "building tree 115 of 154\n",
      "building tree 116 of 154\n",
      "building tree 117 of 154\n",
      "building tree 118 of 154\n",
      "building tree 119 of 154\n"
     ]
    },
    {
     "name": "stderr",
     "output_type": "stream",
     "text": [
      "[Parallel(n_jobs=-1)]: Done 112 tasks      | elapsed:  2.4min\n"
     ]
    },
    {
     "name": "stdout",
     "output_type": "stream",
     "text": [
      "building tree 120 of 154\n",
      "building tree 121 of 154\n",
      "building tree 122 of 154\n",
      "building tree 123 of 154\n",
      "building tree 124 of 154\n",
      "building tree 125 of 154\n",
      "building tree 126 of 154\n",
      "building tree 127 of 154\n",
      "building tree 128 of 154\n",
      "building tree 129 of 154\n",
      "building tree 130 of 154\n",
      "building tree 131 of 154\n",
      "building tree 132 of 154\n",
      "building tree 133 of 154\n",
      "building tree 134 of 154\n",
      "building tree 135 of 154\n",
      "building tree 136 of 154\n"
     ]
    },
    {
     "name": "stderr",
     "output_type": "stream",
     "text": [
      "[Parallel(n_jobs=-1)]: Done 129 tasks      | elapsed:  2.7min\n"
     ]
    },
    {
     "name": "stdout",
     "output_type": "stream",
     "text": [
      "building tree 137 of 154\n",
      "building tree 138 of 154\n",
      "building tree 139 of 154\n",
      "building tree 140 of 154\n",
      "building tree 141 of 154\n",
      "building tree 142 of 154\n",
      "building tree 143 of 154\n",
      "building tree 144 of 154\n",
      "building tree 145 of 154\n",
      "building tree 146 of 154\n",
      "building tree 147 of 154\n",
      "building tree 148 of 154\n",
      "building tree 149 of 154\n",
      "building tree 150 of 154\n",
      "building tree 151 of 154\n",
      "building tree 152 of 154\n",
      "building tree 153 of 154\n",
      "building tree 154 of 154\n"
     ]
    },
    {
     "name": "stderr",
     "output_type": "stream",
     "text": [
      "[Parallel(n_jobs=-1)]: Done 154 out of 154 | elapsed:  3.2min finished\n",
      "[Parallel(n_jobs=8)]: Done   2 tasks      | elapsed:    0.0s\n",
      "[Parallel(n_jobs=8)]: Done   9 tasks      | elapsed:    0.0s\n",
      "[Parallel(n_jobs=8)]: Done  16 tasks      | elapsed:    0.1s\n",
      "[Parallel(n_jobs=8)]: Done  25 tasks      | elapsed:    0.1s\n",
      "[Parallel(n_jobs=8)]: Done  34 tasks      | elapsed:    0.1s\n",
      "[Parallel(n_jobs=8)]: Done  45 tasks      | elapsed:    0.2s\n",
      "[Parallel(n_jobs=8)]: Done  56 tasks      | elapsed:    0.2s\n",
      "[Parallel(n_jobs=8)]: Done  69 tasks      | elapsed:    0.2s\n",
      "[Parallel(n_jobs=8)]: Done  82 tasks      | elapsed:    0.3s\n",
      "[Parallel(n_jobs=8)]: Done  97 tasks      | elapsed:    0.3s\n",
      "[Parallel(n_jobs=8)]: Done 112 tasks      | elapsed:    0.4s\n",
      "[Parallel(n_jobs=8)]: Done 129 tasks      | elapsed:    0.4s\n",
      "[Parallel(n_jobs=8)]: Done 154 out of 154 | elapsed:    0.5s finished\n",
      "[Parallel(n_jobs=8)]: Done   2 tasks      | elapsed:    0.1s\n",
      "[Parallel(n_jobs=8)]: Done   9 tasks      | elapsed:    0.1s\n",
      "[Parallel(n_jobs=8)]: Done  16 tasks      | elapsed:    0.1s\n",
      "[Parallel(n_jobs=8)]: Done  25 tasks      | elapsed:    0.2s\n",
      "[Parallel(n_jobs=8)]: Done  34 tasks      | elapsed:    0.3s\n",
      "[Parallel(n_jobs=8)]: Done  45 tasks      | elapsed:    0.3s\n",
      "[Parallel(n_jobs=8)]: Done  56 tasks      | elapsed:    0.4s\n",
      "[Parallel(n_jobs=8)]: Done  69 tasks      | elapsed:    0.5s\n",
      "[Parallel(n_jobs=8)]: Done  82 tasks      | elapsed:    0.5s\n",
      "[Parallel(n_jobs=8)]: Done  97 tasks      | elapsed:    0.6s\n",
      "[Parallel(n_jobs=8)]: Done 112 tasks      | elapsed:    0.7s\n",
      "[Parallel(n_jobs=8)]: Done 129 tasks      | elapsed:    0.8s\n",
      "[Parallel(n_jobs=8)]: Done 154 out of 154 | elapsed:    0.9s finished\n",
      "/home/justin/anaconda3/lib/python3.6/site-packages/sklearn/model_selection/_validation.py:437: DataConversionWarning: A column-vector y was passed when a 1d array was expected. Please change the shape of y to (n_samples,), for example using ravel().\n",
      "  estimator.fit(X_train, y_train, **fit_params)\n"
     ]
    },
    {
     "name": "stdout",
     "output_type": "stream",
     "text": [
      "building tree 2 of 123building tree 3 of 123building tree 4 of 123building tree 5 of 123building tree 6 of 123building tree 7 of 123building tree 8 of 123building tree 1 of 123\n",
      "\n",
      "\n",
      "\n",
      "\n",
      "\n",
      "\n",
      "\n",
      "building tree 9 of 123\n",
      "building tree 10 of 123\n",
      "building tree 11 of 123\n",
      "building tree 12 of 123\n",
      "building tree 13 of 123\n"
     ]
    },
    {
     "name": "stderr",
     "output_type": "stream",
     "text": [
      "[Parallel(n_jobs=-1)]: Done   2 tasks      | elapsed:    0.5s\n"
     ]
    },
    {
     "name": "stdout",
     "output_type": "stream",
     "text": [
      "building tree 15 of 123building tree 14 of 123\n",
      "\n",
      "building tree 16 of 123\n"
     ]
    },
    {
     "name": "stderr",
     "output_type": "stream",
     "text": [
      "[Parallel(n_jobs=-1)]: Done   9 tasks      | elapsed:    0.9s\n"
     ]
    },
    {
     "name": "stdout",
     "output_type": "stream",
     "text": [
      "building tree 17 of 123\n",
      "building tree 18 of 123\n",
      "building tree 19 of 123\n",
      "building tree 20 of 123\n",
      "building tree 21 of 123\n",
      "building tree 22 of 123\n",
      "building tree 23 of 123\n"
     ]
    },
    {
     "name": "stderr",
     "output_type": "stream",
     "text": [
      "[Parallel(n_jobs=-1)]: Done  16 tasks      | elapsed:    1.4s\n"
     ]
    },
    {
     "name": "stdout",
     "output_type": "stream",
     "text": [
      "building tree 24 of 123\n",
      "building tree 25 of 123\n",
      "building tree 26 of 123\n",
      "building tree 27 of 123\n",
      "building tree 28 of 123\n",
      "building tree 29 of 123\n",
      "building tree 30 of 123\n",
      "building tree 31 of 123\n",
      "building tree 32 of 123\n"
     ]
    },
    {
     "name": "stderr",
     "output_type": "stream",
     "text": [
      "[Parallel(n_jobs=-1)]: Done  25 tasks      | elapsed:    2.0s\n"
     ]
    },
    {
     "name": "stdout",
     "output_type": "stream",
     "text": [
      "building tree 33 of 123\n",
      "building tree 34 of 123\n",
      "building tree 35 of 123\n",
      "building tree 36 of 123\n",
      "building tree 37 of 123\n",
      "building tree 38 of 123\n",
      "building tree 39 of 123\n",
      "building tree 40 of 123\n",
      "building tree 41 of 123\n",
      "building tree 42 of 123\n",
      "building tree 43 of 123\n"
     ]
    },
    {
     "name": "stderr",
     "output_type": "stream",
     "text": [
      "[Parallel(n_jobs=-1)]: Done  34 tasks      | elapsed:    2.6s\n"
     ]
    },
    {
     "name": "stdout",
     "output_type": "stream",
     "text": [
      "building tree 44 of 123\n",
      "building tree 45 of 123\n",
      "building tree 46 of 123\n",
      "building tree 47 of 123\n",
      "building tree 48 of 123\n",
      "building tree 49 of 123\n",
      "building tree 50 of 123\n",
      "building tree 51 of 123\n",
      "building tree 52 of 123\n"
     ]
    },
    {
     "name": "stderr",
     "output_type": "stream",
     "text": [
      "[Parallel(n_jobs=-1)]: Done  45 tasks      | elapsed:    3.5s\n"
     ]
    },
    {
     "name": "stdout",
     "output_type": "stream",
     "text": [
      "building tree 53 of 123\n",
      "building tree 54 of 123\n",
      "building tree 55 of 123\n",
      "building tree 56 of 123\n",
      "building tree 57 of 123\n",
      "building tree 58 of 123\n",
      "building tree 59 of 123\n",
      "building tree 60 of 123\n",
      "building tree 61 of 123\n",
      "building tree 62 of 123\n",
      "building tree 63 of 123\n",
      "building tree 64 of 123\n",
      "building tree 65 of 123\n",
      "building tree 66 of 123\n"
     ]
    },
    {
     "name": "stderr",
     "output_type": "stream",
     "text": [
      "[Parallel(n_jobs=-1)]: Done  56 tasks      | elapsed:    4.3s\n"
     ]
    },
    {
     "name": "stdout",
     "output_type": "stream",
     "text": [
      "building tree 67 of 123\n",
      "building tree 68 of 123\n",
      "building tree 69 of 123\n",
      "building tree 70 of 123\n",
      "building tree 71 of 123\n",
      "building tree 72 of 123\n",
      "building tree 73 of 123\n",
      "building tree 74 of 123\n",
      "building tree 75 of 123\n",
      "building tree 76 of 123\n",
      "building tree 77 of 123\n",
      "building tree 78 of 123\n"
     ]
    },
    {
     "name": "stderr",
     "output_type": "stream",
     "text": [
      "[Parallel(n_jobs=-1)]: Done  69 tasks      | elapsed:    5.2s\n"
     ]
    },
    {
     "name": "stdout",
     "output_type": "stream",
     "text": [
      "building tree 79 of 123\n",
      "building tree 80 of 123\n",
      "building tree 81 of 123building tree 82 of 123\n",
      "\n",
      "building tree 83 of 123\n",
      "building tree 84 of 123\n",
      "building tree 85 of 123\n",
      "building tree 86 of 123\n",
      "building tree 87 of 123\n",
      "building tree 88 of 123\n",
      "building tree 89 of 123\n",
      "building tree 90 of 123\n",
      "building tree 91 of 123\n"
     ]
    },
    {
     "name": "stderr",
     "output_type": "stream",
     "text": [
      "[Parallel(n_jobs=-1)]: Done  82 tasks      | elapsed:    6.1s\n"
     ]
    },
    {
     "name": "stdout",
     "output_type": "stream",
     "text": [
      "building tree 92 of 123\n",
      "building tree 93 of 123\n",
      "building tree 94 of 123\n",
      "building tree 95 of 123\n",
      "building tree 96 of 123\n",
      "building tree 97 of 123\n",
      "building tree 98 of 123\n",
      "building tree 99 of 123\n",
      "building tree 100 of 123\n",
      "building tree 101 of 123\n",
      "building tree 102 of 123\n",
      "building tree 103 of 123\n",
      "building tree 104 of 123\n",
      "building tree 105 of 123\n",
      "building tree 106 of 123\n",
      "building tree 107 of 123\n",
      "building tree 108 of 123\n"
     ]
    },
    {
     "name": "stderr",
     "output_type": "stream",
     "text": [
      "[Parallel(n_jobs=-1)]: Done  97 tasks      | elapsed:    7.2s\n"
     ]
    },
    {
     "name": "stdout",
     "output_type": "stream",
     "text": [
      "building tree 109 of 123\n",
      "building tree 110 of 123\n",
      "building tree 111 of 123\n",
      "building tree 112 of 123\n",
      "building tree 113 of 123\n",
      "building tree 114 of 123\n",
      "building tree 115 of 123\n",
      "building tree 116 of 123\n",
      "building tree 117 of 123\n",
      "building tree 118 of 123\n",
      "building tree 119 of 123\n",
      "building tree 120 of 123\n",
      "building tree 121 of 123\n",
      "building tree 122 of 123\n",
      "building tree 123 of 123\n"
     ]
    },
    {
     "name": "stderr",
     "output_type": "stream",
     "text": [
      "[Parallel(n_jobs=-1)]: Done 121 out of 123 | elapsed:    8.9s remaining:    0.1s\n",
      "[Parallel(n_jobs=-1)]: Done 123 out of 123 | elapsed:    8.9s finished\n",
      "[Parallel(n_jobs=8)]: Done   2 tasks      | elapsed:    0.0s\n",
      "[Parallel(n_jobs=8)]: Done   9 tasks      | elapsed:    0.1s\n",
      "[Parallel(n_jobs=8)]: Done  16 tasks      | elapsed:    0.1s\n",
      "[Parallel(n_jobs=8)]: Done  25 tasks      | elapsed:    0.2s\n",
      "[Parallel(n_jobs=8)]: Done  34 tasks      | elapsed:    0.2s\n",
      "[Parallel(n_jobs=8)]: Done  45 tasks      | elapsed:    0.3s\n",
      "[Parallel(n_jobs=8)]: Done  56 tasks      | elapsed:    0.3s\n",
      "[Parallel(n_jobs=8)]: Done  69 tasks      | elapsed:    0.4s\n",
      "[Parallel(n_jobs=8)]: Done  82 tasks      | elapsed:    0.5s\n",
      "[Parallel(n_jobs=8)]: Done  97 tasks      | elapsed:    0.5s\n",
      "[Parallel(n_jobs=8)]: Done 121 out of 123 | elapsed:    0.7s remaining:    0.0s\n",
      "[Parallel(n_jobs=8)]: Done 123 out of 123 | elapsed:    0.7s finished\n",
      "[Parallel(n_jobs=8)]: Done   2 tasks      | elapsed:    0.1s\n",
      "[Parallel(n_jobs=8)]: Done   9 tasks      | elapsed:    0.2s\n",
      "[Parallel(n_jobs=8)]: Done  16 tasks      | elapsed:    0.2s\n",
      "[Parallel(n_jobs=8)]: Done  25 tasks      | elapsed:    0.3s\n",
      "[Parallel(n_jobs=8)]: Done  34 tasks      | elapsed:    0.4s\n",
      "[Parallel(n_jobs=8)]: Done  45 tasks      | elapsed:    0.6s\n",
      "[Parallel(n_jobs=8)]: Done  56 tasks      | elapsed:    0.7s\n",
      "[Parallel(n_jobs=8)]: Done  69 tasks      | elapsed:    0.8s\n",
      "[Parallel(n_jobs=8)]: Done  82 tasks      | elapsed:    0.9s\n",
      "[Parallel(n_jobs=8)]: Done  97 tasks      | elapsed:    1.1s\n",
      "[Parallel(n_jobs=8)]: Done 121 out of 123 | elapsed:    1.3s remaining:    0.0s\n",
      "[Parallel(n_jobs=8)]: Done 123 out of 123 | elapsed:    1.3s finished\n",
      "/home/justin/anaconda3/lib/python3.6/site-packages/sklearn/model_selection/_validation.py:437: DataConversionWarning: A column-vector y was passed when a 1d array was expected. Please change the shape of y to (n_samples,), for example using ravel().\n",
      "  estimator.fit(X_train, y_train, **fit_params)\n"
     ]
    },
    {
     "name": "stdout",
     "output_type": "stream",
     "text": [
      "building tree 2 of 123\n",
      "building tree 3 of 123building tree 4 of 123building tree 1 of 123building tree 5 of 123building tree 6 of 123building tree 7 of 123building tree 8 of 123\n",
      "\n",
      "\n",
      "\n",
      "\n",
      "\n",
      "\n",
      "building tree 9 of 123\n",
      "building tree 10 of 123\n",
      "building tree 11 of 123\n",
      "building tree 12 of 123\n",
      "building tree 13 of 123\n",
      "building tree 14 of 123\n",
      "building tree 15 of 123\n"
     ]
    },
    {
     "name": "stderr",
     "output_type": "stream",
     "text": [
      "[Parallel(n_jobs=-1)]: Done   2 tasks      | elapsed:    0.6s\n"
     ]
    },
    {
     "name": "stdout",
     "output_type": "stream",
     "text": [
      "building tree 16 of 123\n"
     ]
    },
    {
     "name": "stderr",
     "output_type": "stream",
     "text": [
      "[Parallel(n_jobs=-1)]: Done   9 tasks      | elapsed:    1.1s\n"
     ]
    },
    {
     "name": "stdout",
     "output_type": "stream",
     "text": [
      "building tree 17 of 123\n",
      "building tree 18 of 123\n",
      "building tree 19 of 123\n",
      "building tree 20 of 123\n",
      "building tree 21 of 123\n",
      "building tree 22 of 123\n",
      "building tree 23 of 123\n",
      "building tree 24 of 123\n"
     ]
    },
    {
     "name": "stderr",
     "output_type": "stream",
     "text": [
      "[Parallel(n_jobs=-1)]: Done  16 tasks      | elapsed:    1.3s\n"
     ]
    },
    {
     "name": "stdout",
     "output_type": "stream",
     "text": [
      "building tree 25 of 123\n",
      "building tree 26 of 123\n",
      "building tree 27 of 123\n",
      "building tree 28 of 123\n",
      "building tree 29 of 123\n",
      "building tree 30 of 123\n",
      "building tree 31 of 123\n",
      "building tree 32 of 123\n"
     ]
    },
    {
     "name": "stderr",
     "output_type": "stream",
     "text": [
      "[Parallel(n_jobs=-1)]: Done  25 tasks      | elapsed:    2.2s\n"
     ]
    },
    {
     "name": "stdout",
     "output_type": "stream",
     "text": [
      "building tree 33 of 123\n",
      "building tree 34 of 123\n",
      "building tree 35 of 123\n",
      "building tree 36 of 123\n",
      "building tree 37 of 123\n",
      "building tree 39 of 123building tree 38 of 123\n",
      "\n",
      "building tree 40 of 123\n",
      "building tree 41 of 123\n",
      "building tree 42 of 123\n",
      "building tree 43 of 123\n",
      "building tree 44 of 123\n",
      "building tree 45 of 123\n"
     ]
    },
    {
     "name": "stderr",
     "output_type": "stream",
     "text": [
      "[Parallel(n_jobs=-1)]: Done  34 tasks      | elapsed:    2.8s\n"
     ]
    },
    {
     "name": "stdout",
     "output_type": "stream",
     "text": [
      "building tree 46 of 123\n",
      "building tree 47 of 123\n",
      "building tree 48 of 123\n",
      "building tree 49 of 123\n",
      "building tree 50 of 123\n",
      "building tree 51 of 123\n",
      "building tree 52 of 123\n",
      "building tree 53 of 123\n",
      "building tree 54 of 123\n"
     ]
    },
    {
     "name": "stderr",
     "output_type": "stream",
     "text": [
      "[Parallel(n_jobs=-1)]: Done  45 tasks      | elapsed:    3.6s\n"
     ]
    },
    {
     "name": "stdout",
     "output_type": "stream",
     "text": [
      "building tree 55 of 123\n",
      "building tree 56 of 123\n",
      "building tree 57 of 123\n",
      "building tree 58 of 123\n",
      "building tree 59 of 123\n",
      "building tree 60 of 123\n",
      "building tree 61 of 123\n",
      "building tree 62 of 123\n",
      "building tree 63 of 123\n"
     ]
    },
    {
     "name": "stderr",
     "output_type": "stream",
     "text": [
      "[Parallel(n_jobs=-1)]: Done  56 tasks      | elapsed:    4.5s\n"
     ]
    },
    {
     "name": "stdout",
     "output_type": "stream",
     "text": [
      "building tree 64 of 123\n",
      "building tree 65 of 123\n",
      "building tree 66 of 123\n",
      "building tree 67 of 123\n",
      "building tree 68 of 123\n",
      "building tree 69 of 123\n",
      "building tree 70 of 123\n",
      "building tree 71 of 123\n",
      "building tree 72 of 123\n",
      "building tree 73 of 123\n",
      "building tree 74 of 123\n",
      "building tree 75 of 123\n",
      "building tree 76 of 123\n",
      "building tree 77 of 123\n",
      "building tree 78 of 123\n"
     ]
    },
    {
     "name": "stderr",
     "output_type": "stream",
     "text": [
      "[Parallel(n_jobs=-1)]: Done  69 tasks      | elapsed:    5.4s\n"
     ]
    },
    {
     "name": "stdout",
     "output_type": "stream",
     "text": [
      "building tree 79 of 123\n",
      "building tree 80 of 123\n",
      "building tree 81 of 123\n",
      "building tree 82 of 123\n",
      "building tree 83 of 123\n",
      "building tree 84 of 123\n",
      "building tree 85 of 123\n",
      "building tree 86 of 123\n",
      "building tree 87 of 123\n",
      "building tree 88 of 123\n",
      "building tree 89 of 123\n",
      "building tree 90 of 123\n",
      "building tree 91 of 123\n",
      "building tree 92 of 123\n"
     ]
    },
    {
     "name": "stderr",
     "output_type": "stream",
     "text": [
      "[Parallel(n_jobs=-1)]: Done  82 tasks      | elapsed:    6.3s\n"
     ]
    },
    {
     "name": "stdout",
     "output_type": "stream",
     "text": [
      "building tree 93 of 123\n",
      "building tree 94 of 123\n",
      "building tree 95 of 123\n",
      "building tree 96 of 123\n",
      "building tree 97 of 123\n",
      "building tree 98 of 123\n",
      "building tree 99 of 123\n",
      "building tree 100 of 123\n",
      "building tree 101 of 123\n",
      "building tree 102 of 123\n",
      "building tree 103 of 123\n",
      "building tree 104 of 123\n"
     ]
    },
    {
     "name": "stderr",
     "output_type": "stream",
     "text": [
      "[Parallel(n_jobs=-1)]: Done  97 tasks      | elapsed:    7.4s\n"
     ]
    },
    {
     "name": "stdout",
     "output_type": "stream",
     "text": [
      "building tree 105 of 123\n",
      "building tree 106 of 123\n",
      "building tree 107 of 123\n",
      "building tree 108 of 123\n",
      "building tree 109 of 123\n",
      "building tree 110 of 123\n",
      "building tree 111 of 123\n",
      "building tree 112 of 123\n",
      "building tree 113 of 123\n",
      "building tree 114 of 123\n",
      "building tree 115 of 123\n",
      "building tree 116 of 123\n",
      "building tree 117 of 123\n",
      "building tree 118 of 123\n",
      "building tree 119 of 123\n",
      "building tree 120 of 123\n",
      "building tree 121 of 123\n",
      "building tree 122 of 123\n",
      "building tree 123 of 123\n"
     ]
    },
    {
     "name": "stderr",
     "output_type": "stream",
     "text": [
      "[Parallel(n_jobs=-1)]: Done 121 out of 123 | elapsed:    9.0s remaining:    0.1s\n",
      "[Parallel(n_jobs=-1)]: Done 123 out of 123 | elapsed:    9.1s finished\n",
      "[Parallel(n_jobs=8)]: Done   2 tasks      | elapsed:    0.0s\n",
      "[Parallel(n_jobs=8)]: Done   9 tasks      | elapsed:    0.1s\n",
      "[Parallel(n_jobs=8)]: Done  16 tasks      | elapsed:    0.1s\n",
      "[Parallel(n_jobs=8)]: Done  25 tasks      | elapsed:    0.2s\n",
      "[Parallel(n_jobs=8)]: Done  34 tasks      | elapsed:    0.2s\n",
      "[Parallel(n_jobs=8)]: Done  45 tasks      | elapsed:    0.3s\n",
      "[Parallel(n_jobs=8)]: Done  56 tasks      | elapsed:    0.3s\n",
      "[Parallel(n_jobs=8)]: Done  69 tasks      | elapsed:    0.4s\n",
      "[Parallel(n_jobs=8)]: Done  82 tasks      | elapsed:    0.5s\n",
      "[Parallel(n_jobs=8)]: Done  97 tasks      | elapsed:    0.6s\n",
      "[Parallel(n_jobs=8)]: Done 121 out of 123 | elapsed:    0.7s remaining:    0.0s\n",
      "[Parallel(n_jobs=8)]: Done 123 out of 123 | elapsed:    0.7s finished\n",
      "[Parallel(n_jobs=8)]: Done   2 tasks      | elapsed:    0.1s\n",
      "[Parallel(n_jobs=8)]: Done   9 tasks      | elapsed:    0.2s\n",
      "[Parallel(n_jobs=8)]: Done  16 tasks      | elapsed:    0.2s\n",
      "[Parallel(n_jobs=8)]: Done  25 tasks      | elapsed:    0.4s\n",
      "[Parallel(n_jobs=8)]: Done  34 tasks      | elapsed:    0.4s\n",
      "[Parallel(n_jobs=8)]: Done  45 tasks      | elapsed:    0.5s\n",
      "[Parallel(n_jobs=8)]: Done  56 tasks      | elapsed:    0.7s\n",
      "[Parallel(n_jobs=8)]: Done  69 tasks      | elapsed:    0.7s\n",
      "[Parallel(n_jobs=8)]: Done  82 tasks      | elapsed:    0.9s\n",
      "[Parallel(n_jobs=8)]: Done  97 tasks      | elapsed:    1.0s\n",
      "[Parallel(n_jobs=8)]: Done 121 out of 123 | elapsed:    1.2s remaining:    0.0s\n",
      "[Parallel(n_jobs=8)]: Done 123 out of 123 | elapsed:    1.2s finished\n",
      "/home/justin/anaconda3/lib/python3.6/site-packages/sklearn/model_selection/_validation.py:437: DataConversionWarning: A column-vector y was passed when a 1d array was expected. Please change the shape of y to (n_samples,), for example using ravel().\n",
      "  estimator.fit(X_train, y_train, **fit_params)\n"
     ]
    },
    {
     "name": "stdout",
     "output_type": "stream",
     "text": [
      "building tree 2 of 123building tree 3 of 123building tree 4 of 123building tree 5 of 123building tree 1 of 123building tree 6 of 123building tree 7 of 123building tree 8 of 123\n",
      "\n",
      "\n",
      "\n",
      "\n",
      "\n",
      "\n",
      "\n",
      "building tree 9 of 123\n",
      "building tree 11 of 123building tree 10 of 123\n",
      "\n",
      "building tree 12 of 123\n",
      "building tree 13 of 123\n",
      "building tree 14 of 123\n"
     ]
    },
    {
     "name": "stderr",
     "output_type": "stream",
     "text": [
      "[Parallel(n_jobs=-1)]: Done   2 tasks      | elapsed:    0.5s\n"
     ]
    },
    {
     "name": "stdout",
     "output_type": "stream",
     "text": [
      "building tree 15 of 123\n",
      "building tree 16 of 123\n"
     ]
    },
    {
     "name": "stderr",
     "output_type": "stream",
     "text": [
      "[Parallel(n_jobs=-1)]: Done   9 tasks      | elapsed:    1.1s\n"
     ]
    },
    {
     "name": "stdout",
     "output_type": "stream",
     "text": [
      "building tree 17 of 123\n",
      "building tree 18 of 123\n",
      "building tree 19 of 123\n",
      "building tree 20 of 123\n",
      "building tree 21 of 123\n",
      "building tree 22 of 123\n",
      "building tree 23 of 123\n"
     ]
    },
    {
     "name": "stderr",
     "output_type": "stream",
     "text": [
      "[Parallel(n_jobs=-1)]: Done  16 tasks      | elapsed:    1.4s\n"
     ]
    },
    {
     "name": "stdout",
     "output_type": "stream",
     "text": [
      "building tree 24 of 123\n",
      "building tree 25 of 123\n",
      "building tree 26 of 123\n",
      "building tree 27 of 123\n",
      "building tree 28 of 123\n",
      "building tree 29 of 123\n",
      "building tree 30 of 123\n",
      "building tree 31 of 123\n",
      "building tree 32 of 123\n"
     ]
    },
    {
     "name": "stderr",
     "output_type": "stream",
     "text": [
      "[Parallel(n_jobs=-1)]: Done  25 tasks      | elapsed:    2.2s\n"
     ]
    },
    {
     "name": "stdout",
     "output_type": "stream",
     "text": [
      "building tree 33 of 123\n",
      "building tree 34 of 123\n",
      "building tree 35 of 123\n",
      "building tree 36 of 123\n",
      "building tree 37 of 123\n",
      "building tree 38 of 123\n",
      "building tree 39 of 123\n",
      "building tree 40 of 123\n",
      "building tree 41 of 123\n",
      "building tree 42 of 123\n",
      "building tree 43 of 123\n",
      "building tree 44 of 123\n"
     ]
    },
    {
     "name": "stderr",
     "output_type": "stream",
     "text": [
      "[Parallel(n_jobs=-1)]: Done  34 tasks      | elapsed:    2.9s\n"
     ]
    },
    {
     "name": "stdout",
     "output_type": "stream",
     "text": [
      "building tree 45 of 123\n",
      "building tree 46 of 123\n",
      "building tree 47 of 123\n",
      "building tree 48 of 123\n",
      "building tree 49 of 123\n",
      "building tree 50 of 123\n",
      "building tree 51 of 123\n",
      "building tree 52 of 123\n",
      "building tree 53 of 123\n",
      "building tree 54 of 123\n"
     ]
    },
    {
     "name": "stderr",
     "output_type": "stream",
     "text": [
      "[Parallel(n_jobs=-1)]: Done  45 tasks      | elapsed:    3.6s\n"
     ]
    },
    {
     "name": "stdout",
     "output_type": "stream",
     "text": [
      "building tree 55 of 123\n",
      "building tree 56 of 123\n",
      "building tree 57 of 123\n",
      "building tree 58 of 123\n",
      "building tree 59 of 123\n",
      "building tree 60 of 123\n",
      "building tree 61 of 123\n",
      "building tree 62 of 123\n",
      "building tree 63 of 123\n",
      "building tree 64 of 123\n",
      "building tree 65 of 123\n",
      "building tree 66 of 123\n",
      "building tree 67 of 123\n",
      "building tree 68 of 123\n"
     ]
    },
    {
     "name": "stderr",
     "output_type": "stream",
     "text": [
      "[Parallel(n_jobs=-1)]: Done  56 tasks      | elapsed:    4.5s\n"
     ]
    },
    {
     "name": "stdout",
     "output_type": "stream",
     "text": [
      "building tree 69 of 123\n",
      "building tree 70 of 123\n",
      "building tree 71 of 123\n",
      "building tree 72 of 123\n",
      "building tree 73 of 123\n",
      "building tree 74 of 123\n",
      "building tree 75 of 123\n",
      "building tree 76 of 123\n"
     ]
    },
    {
     "name": "stderr",
     "output_type": "stream",
     "text": [
      "[Parallel(n_jobs=-1)]: Done  69 tasks      | elapsed:    5.4s\n"
     ]
    },
    {
     "name": "stdout",
     "output_type": "stream",
     "text": [
      "building tree 77 of 123\n",
      "building tree 78 of 123\n",
      "building tree 79 of 123\n",
      "building tree 80 of 123\n",
      "building tree 81 of 123\n",
      "building tree 82 of 123\n",
      "building tree 83 of 123\n",
      "building tree 84 of 123\n",
      "building tree 85 of 123\n",
      "building tree 86 of 123\n",
      "building tree 87 of 123\n",
      "building tree 88 of 123\n",
      "building tree 89 of 123\n",
      "building tree 90 of 123\n"
     ]
    },
    {
     "name": "stderr",
     "output_type": "stream",
     "text": [
      "[Parallel(n_jobs=-1)]: Done  82 tasks      | elapsed:    6.3s\n"
     ]
    },
    {
     "name": "stdout",
     "output_type": "stream",
     "text": [
      "building tree 91 of 123\n",
      "building tree 92 of 123\n",
      "building tree 93 of 123\n",
      "building tree 94 of 123\n",
      "building tree 95 of 123\n",
      "building tree 96 of 123\n",
      "building tree 97 of 123\n",
      "building tree 98 of 123\n",
      "building tree 99 of 123\n",
      "building tree 100 of 123\n",
      "building tree 101 of 123\n",
      "building tree 102 of 123\n",
      "building tree 103 of 123\n",
      "building tree 104 of 123\n",
      "building tree 105 of 123\n",
      "building tree 106 of 123\n",
      "building tree 107 of 123\n",
      "building tree 108 of 123\n"
     ]
    },
    {
     "name": "stderr",
     "output_type": "stream",
     "text": [
      "[Parallel(n_jobs=-1)]: Done  97 tasks      | elapsed:    7.5s\n"
     ]
    },
    {
     "name": "stdout",
     "output_type": "stream",
     "text": [
      "building tree 109 of 123\n",
      "building tree 110 of 123\n",
      "building tree 111 of 123\n",
      "building tree 112 of 123\n",
      "building tree 113 of 123\n",
      "building tree 114 of 123\n",
      "building tree 115 of 123\n",
      "building tree 116 of 123\n",
      "building tree 117 of 123\n",
      "building tree 118 of 123\n",
      "building tree 119 of 123\n",
      "building tree 120 of 123\n",
      "building tree 121 of 123\n",
      "building tree 122 of 123\n",
      "building tree 123 of 123\n"
     ]
    },
    {
     "name": "stderr",
     "output_type": "stream",
     "text": [
      "[Parallel(n_jobs=-1)]: Done 121 out of 123 | elapsed:    9.2s remaining:    0.2s\n",
      "[Parallel(n_jobs=-1)]: Done 123 out of 123 | elapsed:    9.2s finished\n",
      "[Parallel(n_jobs=8)]: Done   2 tasks      | elapsed:    0.0s\n",
      "[Parallel(n_jobs=8)]: Done   9 tasks      | elapsed:    0.1s\n",
      "[Parallel(n_jobs=8)]: Done  16 tasks      | elapsed:    0.1s\n",
      "[Parallel(n_jobs=8)]: Done  25 tasks      | elapsed:    0.2s\n",
      "[Parallel(n_jobs=8)]: Done  34 tasks      | elapsed:    0.2s\n",
      "[Parallel(n_jobs=8)]: Done  45 tasks      | elapsed:    0.3s\n",
      "[Parallel(n_jobs=8)]: Done  56 tasks      | elapsed:    0.4s\n",
      "[Parallel(n_jobs=8)]: Done  69 tasks      | elapsed:    0.4s\n",
      "[Parallel(n_jobs=8)]: Done  82 tasks      | elapsed:    0.5s\n",
      "[Parallel(n_jobs=8)]: Done  97 tasks      | elapsed:    0.6s\n",
      "[Parallel(n_jobs=8)]: Done 121 out of 123 | elapsed:    0.7s remaining:    0.0s\n",
      "[Parallel(n_jobs=8)]: Done 123 out of 123 | elapsed:    0.7s finished\n",
      "[Parallel(n_jobs=8)]: Done   2 tasks      | elapsed:    0.1s\n",
      "[Parallel(n_jobs=8)]: Done   9 tasks      | elapsed:    0.2s\n",
      "[Parallel(n_jobs=8)]: Done  16 tasks      | elapsed:    0.2s\n",
      "[Parallel(n_jobs=8)]: Done  25 tasks      | elapsed:    0.3s\n",
      "[Parallel(n_jobs=8)]: Done  34 tasks      | elapsed:    0.4s\n",
      "[Parallel(n_jobs=8)]: Done  45 tasks      | elapsed:    0.5s\n",
      "[Parallel(n_jobs=8)]: Done  56 tasks      | elapsed:    0.6s\n",
      "[Parallel(n_jobs=8)]: Done  69 tasks      | elapsed:    0.8s\n",
      "[Parallel(n_jobs=8)]: Done  82 tasks      | elapsed:    0.9s\n",
      "[Parallel(n_jobs=8)]: Done  97 tasks      | elapsed:    1.1s\n",
      "[Parallel(n_jobs=8)]: Done 121 out of 123 | elapsed:    1.3s remaining:    0.0s\n",
      "[Parallel(n_jobs=8)]: Done 123 out of 123 | elapsed:    1.3s finished\n",
      "/home/justin/anaconda3/lib/python3.6/site-packages/sklearn/model_selection/_search.py:725: DataConversionWarning: A column-vector y was passed when a 1d array was expected. Please change the shape of y to (n_samples,), for example using ravel().\n",
      "  self.best_estimator_.fit(X, y, **fit_params)\n"
     ]
    },
    {
     "name": "stdout",
     "output_type": "stream",
     "text": [
      "building tree 1 of 175building tree 2 of 175building tree 4 of 175building tree 5 of 175building tree 6 of 175building tree 3 of 175building tree 7 of 175building tree 8 of 175\n",
      "\n",
      "\n",
      "\n",
      "\n",
      "\n",
      "\n",
      "\n",
      "building tree 9 of 175\n",
      "building tree 10 of 175\n"
     ]
    },
    {
     "name": "stderr",
     "output_type": "stream",
     "text": [
      "[Parallel(n_jobs=-1)]: Done   2 tasks      | elapsed:   10.7s\n"
     ]
    },
    {
     "name": "stdout",
     "output_type": "stream",
     "text": [
      "building tree 11 of 175\n",
      "building tree 12 of 175\n",
      "building tree 13 of 175\n",
      "building tree 14 of 175\n",
      "building tree 15 of 175\n",
      "building tree 16 of 175\n"
     ]
    },
    {
     "name": "stderr",
     "output_type": "stream",
     "text": [
      "[Parallel(n_jobs=-1)]: Done   9 tasks      | elapsed:   21.3s\n"
     ]
    },
    {
     "name": "stdout",
     "output_type": "stream",
     "text": [
      "building tree 17 of 175\n",
      "building tree 18 of 175\n",
      "building tree 19 of 175\n",
      "building tree 20 of 175\n",
      "building tree 21 of 175\n",
      "building tree 22 of 175\n",
      "building tree 23 of 175\n"
     ]
    },
    {
     "name": "stderr",
     "output_type": "stream",
     "text": [
      "[Parallel(n_jobs=-1)]: Done  16 tasks      | elapsed:   22.8s\n"
     ]
    },
    {
     "name": "stdout",
     "output_type": "stream",
     "text": [
      "building tree 24 of 175\n",
      "building tree 25 of 175\n",
      "building tree 26 of 175\n",
      "building tree 27 of 175\n",
      "building tree 28 of 175\n",
      "building tree 29 of 175\n",
      "building tree 30 of 175\n",
      "building tree 31 of 175\n",
      "building tree 32 of 175\n"
     ]
    },
    {
     "name": "stderr",
     "output_type": "stream",
     "text": [
      "[Parallel(n_jobs=-1)]: Done  25 tasks      | elapsed:   43.5s\n"
     ]
    },
    {
     "name": "stdout",
     "output_type": "stream",
     "text": [
      "building tree 33 of 175\n",
      "building tree 34 of 175\n",
      "building tree 35 of 175\n",
      "building tree 36 of 175\n",
      "building tree 37 of 175\n",
      "building tree 38 of 175\n",
      "building tree 39 of 175\n",
      "building tree 40 of 175\n",
      "building tree 41 of 175\n"
     ]
    },
    {
     "name": "stderr",
     "output_type": "stream",
     "text": [
      "[Parallel(n_jobs=-1)]: Done  34 tasks      | elapsed:   54.5s\n"
     ]
    },
    {
     "name": "stdout",
     "output_type": "stream",
     "text": [
      "building tree 42 of 175\n",
      "building tree 43 of 175\n",
      "building tree 44 of 175\n",
      "building tree 45 of 175\n",
      "building tree 46 of 175\n",
      "building tree 47 of 175\n",
      "building tree 48 of 175\n",
      "building tree 49 of 175\n",
      "building tree 50 of 175\n",
      "building tree 51 of 175\n",
      "building tree 52 of 175\n",
      "building tree 53 of 175\n"
     ]
    },
    {
     "name": "stderr",
     "output_type": "stream",
     "text": [
      "[Parallel(n_jobs=-1)]: Done  45 tasks      | elapsed:  1.1min\n"
     ]
    },
    {
     "name": "stdout",
     "output_type": "stream",
     "text": [
      "building tree 54 of 175\n",
      "building tree 55 of 175\n",
      "building tree 56 of 175\n",
      "building tree 57 of 175\n",
      "building tree 58 of 175\n",
      "building tree 59 of 175\n",
      "building tree 60 of 175\n",
      "building tree 61 of 175\n",
      "building tree 62 of 175\n",
      "building tree 63 of 175\n",
      "building tree 64 of 175\n"
     ]
    },
    {
     "name": "stderr",
     "output_type": "stream",
     "text": [
      "[Parallel(n_jobs=-1)]: Done  56 tasks      | elapsed:  1.3min\n"
     ]
    },
    {
     "name": "stdout",
     "output_type": "stream",
     "text": [
      "building tree 65 of 175\n",
      "building tree 66 of 175\n",
      "building tree 67 of 175\n",
      "building tree 68 of 175\n",
      "building tree 69 of 175\n",
      "building tree 70 of 175\n",
      "building tree 71 of 175\n",
      "building tree 72 of 175\n",
      "building tree 73 of 175\n",
      "building tree 74 of 175\n",
      "building tree 75 of 175\n",
      "building tree 76 of 175\n"
     ]
    },
    {
     "name": "stderr",
     "output_type": "stream",
     "text": [
      "[Parallel(n_jobs=-1)]: Done  69 tasks      | elapsed:  1.7min\n"
     ]
    },
    {
     "name": "stdout",
     "output_type": "stream",
     "text": [
      "building tree 77 of 175\n",
      "building tree 78 of 175\n",
      "building tree 79 of 175\n",
      "building tree 80 of 175\n",
      "building tree 81 of 175\n",
      "building tree 82 of 175\n",
      "building tree 83 of 175\n",
      "building tree 84 of 175\n",
      "building tree 85 of 175\n",
      "building tree 86 of 175\n",
      "building tree 87 of 175\n",
      "building tree 88 of 175\n",
      "building tree 89 of 175\n"
     ]
    },
    {
     "name": "stderr",
     "output_type": "stream",
     "text": [
      "[Parallel(n_jobs=-1)]: Done  82 tasks      | elapsed:  2.0min\n"
     ]
    },
    {
     "name": "stdout",
     "output_type": "stream",
     "text": [
      "building tree 90 of 175\n",
      "building tree 91 of 175\n",
      "building tree 92 of 175\n",
      "building tree 93 of 175building tree 94 of 175\n",
      "\n",
      "building tree 95 of 175\n",
      "building tree 96 of 175\n",
      "building tree 97 of 175\n",
      "building tree 98 of 175\n",
      "building tree 99 of 175\n",
      "building tree 100 of 175\n",
      "building tree 101 of 175\n",
      "building tree 102 of 175\n",
      "building tree 103 of 175\n",
      "building tree 104 of 175\n"
     ]
    },
    {
     "name": "stderr",
     "output_type": "stream",
     "text": [
      "[Parallel(n_jobs=-1)]: Done  97 tasks      | elapsed:  2.4min\n"
     ]
    },
    {
     "name": "stdout",
     "output_type": "stream",
     "text": [
      "building tree 105 of 175\n",
      "building tree 106 of 175\n",
      "building tree 107 of 175\n",
      "building tree 108 of 175\n",
      "building tree 109 of 175\n",
      "building tree 110 of 175\n",
      "building tree 111 of 175\n",
      "building tree 112 of 175\n",
      "building tree 113 of 175\n",
      "building tree 114 of 175\n",
      "building tree 115 of 175\n",
      "building tree 116 of 175\n",
      "building tree 117 of 175\n",
      "building tree 118 of 175\n",
      "building tree 119 of 175\n"
     ]
    },
    {
     "name": "stderr",
     "output_type": "stream",
     "text": [
      "[Parallel(n_jobs=-1)]: Done 112 tasks      | elapsed:  2.6min\n"
     ]
    },
    {
     "name": "stdout",
     "output_type": "stream",
     "text": [
      "building tree 120 of 175\n",
      "building tree 121 of 175\n",
      "building tree 122 of 175\n",
      "building tree 123 of 175\n",
      "building tree 124 of 175\n",
      "building tree 125 of 175\n",
      "building tree 126 of 175\n",
      "building tree 127 of 175\n",
      "building tree 128 of 175\n",
      "building tree 129 of 175\n",
      "building tree 130 of 175\n",
      "building tree 131 of 175\n",
      "building tree 132 of 175\n",
      "building tree 133 of 175\n",
      "building tree 134 of 175\n",
      "building tree 135 of 175\n",
      "building tree 136 of 175\n"
     ]
    },
    {
     "name": "stderr",
     "output_type": "stream",
     "text": [
      "[Parallel(n_jobs=-1)]: Done 129 tasks      | elapsed:  3.1min\n"
     ]
    },
    {
     "name": "stdout",
     "output_type": "stream",
     "text": [
      "building tree 137 of 175\n",
      "building tree 138 of 175\n",
      "building tree 139 of 175\n",
      "building tree 140 of 175\n",
      "building tree 141 of 175\n",
      "building tree 142 of 175\n",
      "building tree 143 of 175\n",
      "building tree 144 of 175\n",
      "building tree 145 of 175\n",
      "building tree 146 of 175\n",
      "building tree 147 of 175\n",
      "building tree 148 of 175\n",
      "building tree 149 of 175\n",
      "building tree 150 of 175\n",
      "building tree 151 of 175\n",
      "building tree 152 of 175\n",
      "building tree 153 of 175\n"
     ]
    },
    {
     "name": "stderr",
     "output_type": "stream",
     "text": [
      "[Parallel(n_jobs=-1)]: Done 146 tasks      | elapsed:  3.5min\n"
     ]
    },
    {
     "name": "stdout",
     "output_type": "stream",
     "text": [
      "building tree 154 of 175\n",
      "building tree 155 of 175\n",
      "building tree 156 of 175\n",
      "building tree 157 of 175\n",
      "building tree 158 of 175\n",
      "building tree 159 of 175\n",
      "building tree 160 of 175\n",
      "building tree 161 of 175\n",
      "building tree 162 of 175\n",
      "building tree 163 of 175\n",
      "building tree 164 of 175\n",
      "building tree 165 of 175\n",
      "building tree 166 of 175\n",
      "building tree 167 of 175\n",
      "building tree 168 of 175\n",
      "building tree 169 of 175\n",
      "building tree 170 of 175\n",
      "building tree 171 of 175\n",
      "building tree 172 of 175\n",
      "building tree 173 of 175\n",
      "building tree 174 of 175\n",
      "building tree 175 of 175\n"
     ]
    },
    {
     "name": "stderr",
     "output_type": "stream",
     "text": [
      "[Parallel(n_jobs=-1)]: Done 175 out of 175 | elapsed:  4.0min finished\n"
     ]
    },
    {
     "name": "stdout",
     "output_type": "stream",
     "text": [
      "RandomizedSearchCV took 8055.53 seconds for 20 candidates parameter settings.\n"
     ]
    }
   ],
   "source": [
    "start = time.time()\n",
    "random_search.fit(standardized, eval_cols)\n",
    "print(\"RandomizedSearchCV took %.2f seconds for %d candidates\"\n",
    "      \" parameter settings.\" % ((time.time() - start), n_iter))"
   ]
  },
  {
   "cell_type": "code",
   "execution_count": 12,
   "metadata": {
    "ExecuteTime": {
     "end_time": "2017-11-01T08:13:27.484907Z",
     "start_time": "2017-11-01T08:13:27.480393Z"
    }
   },
   "outputs": [
    {
     "name": "stdout",
     "output_type": "stream",
     "text": [
      "Model with rank: 1\n",
      "Mean validation score: 0.078 (std: 0.001)\n",
      "Parameters: {'verbose': 10, 'oob_score': True, 'n_jobs': -1, 'n_estimators': 175, 'min_samples_split': 200, 'min_samples_leaf': 10, 'max_features': 70, 'criterion': 'mse', 'bootstrap': True}\n",
      "\n",
      "Model with rank: 2\n",
      "Mean validation score: 0.078 (std: 0.001)\n",
      "Parameters: {'verbose': 10, 'oob_score': True, 'n_jobs': -1, 'n_estimators': 185, 'min_samples_split': 200, 'min_samples_leaf': 10, 'max_features': 100, 'criterion': 'mse', 'bootstrap': True}\n",
      "\n",
      "Model with rank: 3\n",
      "Mean validation score: 0.077 (std: 0.002)\n",
      "Parameters: {'verbose': 10, 'oob_score': True, 'n_jobs': -1, 'n_estimators': 139, 'min_samples_split': 20, 'min_samples_leaf': 10, 'max_features': 100, 'criterion': 'mse', 'bootstrap': True}\n",
      "\n"
     ]
    }
   ],
   "source": [
    "report(random_search.cv_results_)\n",
    "# Model with rank: 1\n",
    "# Mean validation score: 0.078 (std: 0.001)\n",
    "# Parameters: {'verbose': 10, 'oob_score': True, 'n_jobs': -1, 'n_estimators': 175, 'min_samples_split': 200, 'min_samples_leaf': 10, 'max_features': 70, 'criterion': 'mse', 'bootstrap': True}\n",
    "\n",
    "# Model with rank: 2\n",
    "# Mean validation score: 0.078 (std: 0.001)\n",
    "# Parameters: {'verbose': 10, 'oob_score': True, 'n_jobs': -1, 'n_estimators': 185, 'min_samples_split': 200, 'min_samples_leaf': 10, 'max_features': 100, 'criterion': 'mse', 'bootstrap': True}\n",
    "\n",
    "# Model with rank: 3\n",
    "# Mean validation score: 0.077 (std: 0.002)\n",
    "# Parameters: {'verbose': 10, 'oob_score': True, 'n_jobs': -1, 'n_estimators': 139, 'min_samples_split': 20, 'min_samples_leaf': 10, 'max_features': 100, 'criterion': 'mse', 'bootstrap': True}"
   ]
  },
  {
   "cell_type": "markdown",
   "metadata": {},
   "source": [
    "# take best hyperparams from report"
   ]
  },
  {
   "cell_type": "code",
   "execution_count": 13,
   "metadata": {
    "ExecuteTime": {
     "end_time": "2017-11-01T09:03:17.773443Z",
     "start_time": "2017-11-01T08:58:13.641471Z"
    }
   },
   "outputs": [
    {
     "name": "stderr",
     "output_type": "stream",
     "text": [
      "/home/justin/anaconda3/lib/python3.6/site-packages/ipykernel_launcher.py:12: DataConversionWarning: A column-vector y was passed when a 1d array was expected. Please change the shape of y to (n_samples,), for example using ravel().\n",
      "  if sys.path[0] == '':\n"
     ]
    },
    {
     "data": {
      "text/plain": [
       "RandomForestRegressor(bootstrap=True, criterion='mse', max_depth=None,\n",
       "           max_features=70, max_leaf_nodes=None, min_impurity_decrease=0.0,\n",
       "           min_impurity_split=None, min_samples_leaf=10,\n",
       "           min_samples_split=200, min_weight_fraction_leaf=0.0,\n",
       "           n_estimators=175, n_jobs=-1, oob_score=True, random_state=0,\n",
       "           verbose=0, warm_start=False)"
      ]
     },
     "execution_count": 13,
     "metadata": {},
     "output_type": "execute_result"
    }
   ],
   "source": [
    "regr = RandomForestRegressor(\n",
    "    n_estimators=175,\n",
    "    random_state=0,\n",
    "    max_features=70,\n",
    "    min_samples_split=200,\n",
    "    min_samples_leaf=10,\n",
    "    n_jobs=-1,\n",
    "    oob_score=True,\n",
    "    bootstrap=True,\n",
    "    criterion='mse',\n",
    ")\n",
    "regr.fit(standardized, eval_cols)"
   ]
  },
  {
   "cell_type": "code",
   "execution_count": 14,
   "metadata": {
    "ExecuteTime": {
     "end_time": "2017-11-01T09:03:24.889535Z",
     "start_time": "2017-11-01T09:03:19.897652Z"
    }
   },
   "outputs": [
    {
     "data": {
      "text/plain": [
       "0.16625739432147157"
      ]
     },
     "execution_count": 14,
     "metadata": {},
     "output_type": "execute_result"
    }
   ],
   "source": [
    "regr.score(standardized, eval_cols)"
   ]
  },
  {
   "cell_type": "code",
   "execution_count": 15,
   "metadata": {
    "ExecuteTime": {
     "end_time": "2017-11-01T09:03:27.169246Z",
     "start_time": "2017-11-01T09:03:26.940525Z"
    }
   },
   "outputs": [
    {
     "data": {
      "text/plain": [
       "['model_dump/mean_stddev.pkl']"
      ]
     },
     "execution_count": 15,
     "metadata": {},
     "output_type": "execute_result"
    }
   ],
   "source": [
    "# dump the model\n",
    "joblib.dump(regr, 'model_dump/model_0.2.1.pkl')\n",
    "joblib.dump((mean_series, std_dev_series), 'model_dump/mean_stddev.pkl')"
   ]
  },
  {
   "cell_type": "code",
   "execution_count": null,
   "metadata": {
    "ExecuteTime": {
     "end_time": "2017-11-01T09:03:29.400858Z",
     "start_time": "2017-11-01T08:58:42.245Z"
    },
    "collapsed": true
   },
   "outputs": [],
   "source": [
    "now = time.strftime(\"%Y_%m_%d_%Hh_%Mm_%Ss\")\n",
    "# info to stick in detailed dataframe describing each model\n",
    "model_info = {'model_version': '0.2.1',\n",
    "              'target': 'npv_roi_10',\n",
    "              'weights': 'None',\n",
    "              'algo_model': 'RF_regr',\n",
    "              'hyperparams': \"bootstrap=True, criterion='mse', max_depth=None, max_features=70, max_leaf_nodes=None, min_impurity_decrease=0.0, min_impurity_split=None, min_samples_leaf=10, min_samples_split=200, min_weight_fraction_leaf=0.0, n_estimators=175, n_jobs=-1, oob_score=True, random_state=0, verbose=0, warm_start=False\",\n",
    "              'cost_func': 'sklearn default, which I think is mse',\n",
    "              'useful_notes': 'R2 score of .3830649 (regr.score())',\n",
    "              'date': now}\n",
    "\n",
    "model_info_df = pd.DataFrame(model_info, index = ['0.2.1'])"
   ]
  },
  {
   "cell_type": "code",
   "execution_count": null,
   "metadata": {
    "collapsed": true
   },
   "outputs": [],
   "source": [
    "\n",
    "store.open()\n",
    "store.append(\n",
    "            'model_info',\n",
    "            model_info_df,\n",
    "            data_columns=True,\n",
    "            index=True,\n",
    "            append=True,\n",
    ")\n",
    "store.close()"
   ]
  },
  {
   "cell_type": "markdown",
   "metadata": {},
   "source": [
    "# Examine performance on test set"
   ]
  },
  {
   "cell_type": "code",
   "execution_count": null,
   "metadata": {
    "collapsed": true
   },
   "outputs": [],
   "source": [
    "store.open()\n",
    "test = store['test_filtered_columns']\n",
    "train = store['train_filtered_columns']\n",
    "loan_npv_rois = store['loan_npv_rois']\n",
    "default_series = test['target_strict']\n",
    "results = store['results']\n",
    "store.close()"
   ]
  },
  {
   "cell_type": "code",
   "execution_count": null,
   "metadata": {
    "collapsed": true
   },
   "outputs": [],
   "source": [
    "train_X, train_y = data_prep.process_data_test(train)\n",
    "train_y = train_y['npv_roi_10'].values\n",
    "test_X, test_y = data_prep.process_data_test(test)\n",
    "test_y = test_y['npv_roi_10'].values\n",
    "regr = joblib.load('model_dump/model_0.2.1.pkl')\n",
    "regr_version = '0.2.1'\n",
    "test_yhat = regr.predict(test_X)\n",
    "train_yhat = regr.predict(train_X)"
   ]
  },
  {
   "cell_type": "code",
   "execution_count": null,
   "metadata": {
    "collapsed": true
   },
   "outputs": [],
   "source": [
    "test_mse = np.sum((test_yhat - test_y)**2)/len(test_y)\n",
    "train_mse = np.sum((train_yhat - train_y)**2)/len(train_y)"
   ]
  },
  {
   "cell_type": "code",
   "execution_count": null,
   "metadata": {
    "collapsed": true
   },
   "outputs": [],
   "source": [
    "test_mse"
   ]
  },
  {
   "cell_type": "code",
   "execution_count": null,
   "metadata": {
    "collapsed": true
   },
   "outputs": [],
   "source": [
    "train_mse"
   ]
  },
  {
   "cell_type": "code",
   "execution_count": null,
   "metadata": {
    "collapsed": true
   },
   "outputs": [],
   "source": [
    "def eval_models(trials, port_size, available_loans, regr, regr_version, test, loan_npv_rois,\n",
    "                default_series):\n",
    "    results = {}\n",
    "    pct_default = {}\n",
    "    test_copy = test.copy()\n",
    "    for trial in tqdm_notebook(np.arange(trials)):\n",
    "        loan_ids = np.random.choice(\n",
    "            test_copy.index.values, available_loans, replace=False)\n",
    "        loans_to_pick_from = test_copy.loc[loan_ids, :]\n",
    "        scores = regr.predict(loans_to_pick_from)\n",
    "        scores_series = pd.Series(dict(zip(loan_ids, scores)))\n",
    "        scores_series.sort_values(ascending=False, inplace=True)\n",
    "        picks = scores_series[:900].index.values\n",
    "        results[trial] = loan_npv_rois.loc[picks, :].mean().to_dict()\n",
    "        pct_default[trial] = (default_series.loc[picks].sum()) / port_size\n",
    "    pct_default_series = pd.Series(pct_default)\n",
    "    results_df = pd.DataFrame(results).T\n",
    "    results_df['pct_def'] = pct_default_series\n",
    "    return results_df"
   ]
  },
  {
   "cell_type": "code",
   "execution_count": null,
   "metadata": {
    "collapsed": true
   },
   "outputs": [],
   "source": [
    "# as per done with baseline models, say 3000 loans available\n",
    "# , pick 900 of them\n",
    "trials = 20000\n",
    "port_size = 900\n",
    "available_loans = 3000\n",
    "model_results = eval_models(trials, port_size, available_loans, regr, regr_version, test_X, loan_npv_rois, default_series)"
   ]
  },
  {
   "cell_type": "code",
   "execution_count": null,
   "metadata": {
    "collapsed": true
   },
   "outputs": [],
   "source": [
    "multi_index = []\n",
    "for col in model_results.columns.values:\n",
    "    multi_index.append((col,regr_version))"
   ]
  },
  {
   "cell_type": "code",
   "execution_count": null,
   "metadata": {
    "collapsed": true
   },
   "outputs": [],
   "source": [
    "append_results = model_results\n",
    "append_results.columns = pd.MultiIndex.from_tuples(multi_index, names = ['discount_rate', 'model'])"
   ]
  },
  {
   "cell_type": "code",
   "execution_count": null,
   "metadata": {
    "collapsed": true
   },
   "outputs": [],
   "source": [
    "try:\n",
    "    results = results.join(append_results)\n",
    "except ValueError:\n",
    "    results.loc[:, (slice(None), slice('0.2.1','0.2.1'))] = append_results\n",
    "results.sort_index(axis=1, inplace = True)"
   ]
  },
  {
   "cell_type": "code",
   "execution_count": null,
   "metadata": {
    "collapsed": true
   },
   "outputs": [],
   "source": [
    "store.open()\n",
    "store['results'] = results\n",
    "model_info = store['model_info']\n",
    "store.close()"
   ]
  },
  {
   "cell_type": "code",
   "execution_count": null,
   "metadata": {
    "collapsed": true
   },
   "outputs": [],
   "source": [
    "results.describe()"
   ]
  },
  {
   "cell_type": "code",
   "execution_count": null,
   "metadata": {
    "collapsed": true
   },
   "outputs": [],
   "source": [
    "model_info"
   ]
  },
  {
   "cell_type": "code",
   "execution_count": null,
   "metadata": {
    "collapsed": true
   },
   "outputs": [],
   "source": []
  }
 ],
 "metadata": {
  "kernelspec": {
   "display_name": "Python 3",
   "language": "python",
   "name": "python3"
  },
  "language_info": {
   "codemirror_mode": {
    "name": "ipython",
    "version": 3
   },
   "file_extension": ".py",
   "mimetype": "text/x-python",
   "name": "python",
   "nbconvert_exporter": "python",
   "pygments_lexer": "ipython3",
   "version": "3.6.3"
  },
  "notify_time": "30",
  "varInspector": {
   "cols": {
    "lenName": 16,
    "lenType": 16,
    "lenVar": 40
   },
   "kernels_config": {
    "python": {
     "delete_cmd_postfix": "",
     "delete_cmd_prefix": "del ",
     "library": "var_list.py",
     "varRefreshCmd": "print(var_dic_list())"
    },
    "r": {
     "delete_cmd_postfix": ") ",
     "delete_cmd_prefix": "rm(",
     "library": "var_list.r",
     "varRefreshCmd": "cat(var_dic_list()) "
    }
   },
   "types_to_exclude": [
    "module",
    "function",
    "builtin_function_or_method",
    "instance",
    "_Feature"
   ],
   "window_display": false
  }
 },
 "nbformat": 4,
 "nbformat_minor": 2
}
