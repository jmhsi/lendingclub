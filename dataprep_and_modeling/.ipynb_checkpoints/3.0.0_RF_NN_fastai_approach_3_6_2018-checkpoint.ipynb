{
 "cells": [
  {
   "cell_type": "code",
   "execution_count": 1,
   "metadata": {
    "ExecuteTime": {
     "end_time": "2018-03-17T13:09:10.071804Z",
     "start_time": "2018-03-17T13:09:09.803535Z"
    }
   },
   "outputs": [
    {
     "name": "stdout",
     "output_type": "stream",
     "text": [
      "The autoreload extension is already loaded. To reload it, use:\n",
      "  %reload_ext autoreload\n"
     ]
    }
   ],
   "source": [
    "%load_ext autoreload\n",
    "%autoreload 2\n",
    "\n",
    "%matplotlib inline\n",
    "%load_ext Cython\n",
    "pd.options.display.max_columns = 999"
   ]
  },
  {
   "cell_type": "code",
   "execution_count": 2,
   "metadata": {
    "ExecuteTime": {
     "end_time": "2018-03-17T13:09:11.219433Z",
     "start_time": "2018-03-17T13:09:10.488098Z"
    }
   },
   "outputs": [],
   "source": [
    "from fastai.imports import *\n",
    "from fastai.structured import *\n",
    "from fastai.column_data import *\n",
    "\n",
    "from sklearn.base import TransformerMixin, BaseEstimator\n",
    "from sklearn.metrics import mean_squared_error\n",
    "from pandas_summary import DataFrameSummary\n",
    "from sklearn.ensemble import RandomForestRegressor, RandomForestClassifier\n",
    "from IPython.display import display\n",
    "from tqdm import tqdm_notebook\n",
    "\n",
    "from sklearn import metrics\n",
    "\n",
    "import requests as requests\n",
    "import json as json\n",
    "import lendingclub.account_info as acc_info\n",
    "import re as re\n",
    "from sklearn.externals import joblib\n",
    "import lendingclub.dataprep_and_modeling.modeling_utils.data_prep_new as data_prep\n",
    "import lendingclub.investing.investing_utils as investing_utils\n",
    "import pandas as pd\n",
    "import numpy as np\n",
    "import math as math\n",
    "from  lendingclub.dataprep_and_modeling.model_dump.nn_1_0_0 import net_class\n",
    "import torch"
   ]
  },
  {
   "cell_type": "code",
   "execution_count": 3,
   "metadata": {
    "ExecuteTime": {
     "end_time": "2018-03-17T13:09:11.773450Z",
     "start_time": "2018-03-17T13:09:11.279080Z"
    }
   },
   "outputs": [],
   "source": [
    "def applyEndD(status, group, max_date):\n",
    "    # end_d to me means the date we can stop tracking things about the loan. Should be defunct\n",
    "    if status in ['Charged Off', 'Default']:\n",
    "        #split the group into two groups, one which has paid something, and other which has paid nothing\n",
    "        never_paid = group[group['last_pymnt_d'].isnull()]\n",
    "        has_paid = group[group['last_pymnt_d'].notnull()]\n",
    "\n",
    "        never_paid['end_d'] = never_paid['issue_d'] + pd.DateOffset(months=+5)\n",
    "        has_paid['end_d'] = has_paid['last_pymnt_d'] + pd.DateOffset(months=+5)\n",
    "\n",
    "        group.ix[never_paid.index.values, 'end_d'] = never_paid['end_d']\n",
    "        group.ix[has_paid.index.values, 'end_d'] = has_paid['end_d']\n",
    "        return group['end_d']\n",
    "    elif status == 'Fully Paid':\n",
    "        return group['last_pymnt_d']\n",
    "    else:\n",
    "        return pd.Series([max_date] * len(group), index=group.index.values)\n",
    "\n",
    "def add_dateparts(df):\n",
    "    '''Uses the fastai add_datepart to turn datetimes into numbers to process\n",
    "       does not do it for issue_d'''\n",
    "    date_cols = df.select_dtypes(['datetime64']).columns\n",
    "    for date_col in date_cols:\n",
    "        if date_col not in special_cols:\n",
    "            add_datepart(df, date_col, drop=True)\n",
    "    return [col for col in date_cols if col not in special_cols]\n",
    "\n",
    "def drop_cols_for_scaling(df):\n",
    "    '''Since some data fields were added later, some datasets when checking do not\n",
    "       have any varation. Drop those cols'''\n",
    "    drop_cols = []\n",
    "    for col in df.columns:\n",
    "        if (len(df[col].value_counts(dropna=False)) <= 1):# & (col != 'term'):\n",
    "            drop_cols.append(col)\n",
    "    df.drop(drop_cols, axis=1, inplace=True)\n",
    "    return drop_cols\n",
    "\n",
    "class StandardScalerJustin(TransformerMixin, BaseEstimator):\n",
    "    def __init__(self, copy=True, with_mean=True, with_std=True):\n",
    "        self.with_mean = with_mean\n",
    "        self.with_std = with_std\n",
    "        self.copy = copy\n",
    "    \n",
    "    def fit(self, X, y=None):\n",
    "        if type(X) == np.ndarray:\n",
    "            X = pd.Series(X.reshape(-1))\n",
    "        self.mean_ = X.dropna().mean()\n",
    "        self.var_ = X.dropna().var()\n",
    "        return self\n",
    "\n",
    "    def transform(self, X):\n",
    "        mean = self.mean_\n",
    "        std_dev = np.sqrt(self.var_)\n",
    "        if std_dev == 0:\n",
    "            return X\n",
    "        return (X-mean)/std_dev\n",
    "    \n",
    "def fit_scalers(df, mapper):\n",
    "    warnings.filterwarnings('ignore', category=sklearn.exceptions.DataConversionWarning)\n",
    "    if mapper is None:\n",
    "        map_f = [([n],StandardScalerJustin()) for n in df.columns if is_numeric_dtype(df[n])]\n",
    "        mapper = DataFrameMapper(map_f).fit(df)\n",
    "    return mapper    \n",
    "\n",
    "def proc_df_justin(df, y_fld, valid_test, skip_flds=None, do_scale=False, na_dict=None,\n",
    "            preproc_fn=None, max_n_cat=None, subset=None, mapper=None, train_cols_meds=None, cols=None):\n",
    "\n",
    "    \"\"\" proc_df takes a data frame df and splits off the response variable, and\n",
    "    changes the df into an entirely numeric dataframe.\n",
    "\n",
    "    Parameters:\n",
    "    -----------\n",
    "    df: The data frame you wish to process.\n",
    "\n",
    "    y_fld: The name of the response variable\n",
    "    \n",
    "    valid_test: boolean indicating if this is a df to match to train columns.\n",
    "\n",
    "    skip_flds: A list of fields that dropped from df.\n",
    "\n",
    "    do_scale: Standardizes each column in df,Takes Boolean Values(True,False)\n",
    "\n",
    "    na_dict: a dictionary of na columns to add. Na columns are also added if there\n",
    "        are any missing values.\n",
    "\n",
    "    preproc_fn: A function that gets applied to df.\n",
    "\n",
    "    max_n_cat: The maximum number of categories to break into dummy values, instead\n",
    "        of integer codes.\n",
    "\n",
    "    subset: Takes a random subset of size subset from df.\n",
    "\n",
    "    mapper: If do_scale is set as True, the mapper variable\n",
    "        calculates the values used for scaling of variables during training time(mean and standard deviation).\n",
    "        \n",
    "    train_cols_meds: dict where keys are columns from training and values are medians, use for values to fill an entire missing column (shouldn't be needed when used to actually pick loans, was needed for train/valid/test due to new fields being added over the timeframe and missing in certain datasets while existing in others)\n",
    "    \n",
    "    cols: Just to compare column order and ensure the variables are in the right order.\n",
    "\n",
    "    Returns:\n",
    "    --------\n",
    "    [x, y, nas, mapper(optional)]:\n",
    "\n",
    "        x: x is the transformed version of df. x will not have the response variable\n",
    "            and is entirely numeric.\n",
    "\n",
    "        y: y is the response variable\n",
    "\n",
    "        nas: returns a dictionary of which nas it created, and the associated median.\n",
    "\n",
    "        mapper: A DataFrameMapper which stores the mean and standard deviation of the corresponding continous\n",
    "        variables which is then used for scaling of during test-time.\"\"\"        \n",
    "    assert type(valid_test) == bool, print('must indiciate if this is test/valid set to match columns with train')\n",
    "    \n",
    "    if not skip_flds: skip_flds=[]\n",
    "    if subset: df = get_sample(df,subset)\n",
    "    df = df.copy()\n",
    "    if preproc_fn: preproc_fn(df)\n",
    "    y = df[y_fld].values\n",
    "    df.drop(skip_flds+[y_fld], axis=1, inplace=True)\n",
    "\n",
    "    # fit the scalers\n",
    "    if do_scale: mapper = fit_scalers(df, mapper)\n",
    "    if na_dict is None: na_dict = {}      \n",
    "    for n,c in df.items(): na_dict = fix_missing(df, c, n, na_dict)\n",
    "    df[mapper.transformed_names_] = mapper.transform(df)\n",
    "    embeddings=[]\n",
    "    for n,c in df.items():\n",
    "        numericalize(df, c, n, max_n_cat)\n",
    "        if not is_numeric_dtype(c):\n",
    "            embeddings.append(prep_embeddings(c, n))\n",
    "    df = pd.get_dummies(df, dummy_na=True)\n",
    "    # fix the nas\n",
    "    if valid_test:\n",
    "        for col, med in train_cols_meds.items():\n",
    "            try:\n",
    "                df[col].fillna(med, inplace=True)\n",
    "            except KeyError:\n",
    "                df[col] = med\n",
    "        df = df[cols]\n",
    "        \n",
    "    res = [df, y, na_dict, embeddings]\n",
    "    if not valid_test: res += [res[0].median(), res[0].columns]\n",
    "    if do_scale: res = res + [mapper]\n",
    "    return res\n",
    "\n",
    "def prep_embeddings(c, n):\n",
    "    # allocate in embeddings for a null\n",
    "    return (n, len(c.cat.categories)+1)\n",
    "\n",
    "def eval_models(trials, port_size, available_loans, regr_version, X_test, y_test,\n",
    "                default_series, yhat_test): #regr, \n",
    "    results = {}\n",
    "    pct_default = {}\n",
    "    test_copy = X_test.copy()\n",
    "    \n",
    "    default_series = default_series.loc[X_test.index]\n",
    "    yhats_ys_defs = pd.DataFrame([yhat_test, y_test, default_series.values]).T\n",
    "    yhats_ys_defs.rename(columns={0:'yhat', 1:'y', 2:'defaults'}, inplace=True)\n",
    "    for trial in tqdm_notebook(np.arange(trials)):\n",
    "        # of all test loans, grab a batch of n=available_loans\n",
    "        available_idx = np.random.choice(\n",
    "            np.arange(len(test_copy)), available_loans, replace=False)\n",
    "        available_loans_df = yhats_ys_defs.ix[available_idx,:]\n",
    "        available_loans_df.sort_values('yhat', inplace=True, ascending=False)\n",
    "        picks = available_loans_df[:port_size]\n",
    "        results[trial] = picks['y'].mean()\n",
    "        pct_default[trial] = picks['defaults'].sum()/port_size\n",
    "    pct_default_series = pd.Series(pct_default)\n",
    "    results_df = pd.DataFrame(pd.Series(results))\n",
    "    results_df['pct_def'] = pct_default_series\n",
    "    results_df.columns = pd.MultiIndex(levels=[[regr_version], [0.07, 'pct_def']],\n",
    "           labels=[[0, 0,], [0, 1,]],\n",
    "           names=['discount_rate', 'model'])\n",
    "    return results_df"
   ]
  },
  {
   "cell_type": "code",
   "execution_count": 4,
   "metadata": {
    "ExecuteTime": {
     "end_time": "2018-03-17T13:09:12.307067Z",
     "start_time": "2018-03-17T13:09:12.282338Z"
    }
   },
   "outputs": [],
   "source": [
    "%%cython\n",
    "cimport numpy as np\n",
    "import numpy as np\n",
    "\n",
    "cpdef rem_to_be_paid(double out_prncp,\n",
    "                     double install,\n",
    "                     double int_rate):\n",
    "    cdef double m_rate\n",
    "    cdef double to_be_paid\n",
    "    m_rate = int_rate/(100*12)\n",
    "    to_be_paid = 0.0\n",
    "    k = 0\n",
    "    while out_prncp > 0:\n",
    "        k += 1\n",
    "        out_prncp = (1+m_rate) * out_prncp\n",
    "        out_prncp -= install\n",
    "        to_be_paid += install\n",
    "        # the break was added to figure out what was wrong with infinite while; it was due to installment funded\n",
    "        # being INCORRECTLY REPORTED by lending club\n",
    "        if k >= 100:\n",
    "            print(to_be_paid)\n",
    "            break\n",
    "        if out_prncp < 0:\n",
    "            to_be_paid -= abs(out_prncp)\n",
    "    return to_be_paid\n",
    "\n",
    "cpdef np.ndarray[double] apply_rem_to_be_paid(np.ndarray col_out_prncp,\n",
    "                                              np.ndarray col_install,\n",
    "                                              np.ndarray col_int_rate):\n",
    "#     assert (col_out_prncp.dtype == np.float and col_install.dtype == np.float and col_int_rate.dtype == np.float), print(col_out_prncp.dtype, np.float32)\n",
    "    cdef Py_ssize_t i, n = len(col_out_prncp)\n",
    "    assert (len(col_out_prncp) == len(col_install) == n)\n",
    "    cdef np.ndarray[double] res = np.empty(n)\n",
    "    for i in xrange(n):\n",
    "        res[i] = rem_to_be_paid(col_out_prncp[i],\n",
    "                                col_install[i],\n",
    "                                col_int_rate[i])\n",
    "    return res"
   ]
  },
  {
   "cell_type": "code",
   "execution_count": 5,
   "metadata": {
    "ExecuteTime": {
     "end_time": "2018-03-17T13:09:16.276980Z",
     "start_time": "2018-03-17T13:09:16.217284Z"
    }
   },
   "outputs": [],
   "source": [
    "# setup of constants, dirs, stores.\n",
    "platform = 'lendingclub'\n",
    "lcpath = f'{datapath}{platform}/'\n",
    "RFpath = f'{lcpath}RF/'\n",
    "NNpath = f'{lcpath}NN/'\n",
    "storepath = f'{lcpath}{platform}.h5'\n",
    "token = acc_info.token\n",
    "inv_acc_id = acc_info.investor_id\n",
    "portfolio_id = acc_info.portfolio_id\n",
    "header = {\n",
    "    'Authorization': token,\n",
    "    'Content-Type': 'application/json',\n",
    "    'X-LC-LISTING-VERSION': '1.3'\n",
    "}\n",
    "os.makedirs(RFpath, exist_ok=True)\n",
    "os.makedirs(NNpath, exist_ok=True)\n",
    "store = pd.HDFStore(storepath)\n",
    "store.close()"
   ]
  },
  {
   "cell_type": "code",
   "execution_count": 6,
   "metadata": {
    "ExecuteTime": {
     "end_time": "2018-03-17T13:09:43.647825Z",
     "start_time": "2018-03-17T13:09:28.185745Z"
    }
   },
   "outputs": [],
   "source": [
    "store.open()\n",
    "raw_loan_info = store['loan_info_merged']\n",
    "ys = store['loan_npv_rois']\n",
    "model_results = store['model_results']\n",
    "store.close()\n",
    "# since everything will basically be id dependent, ensure that there are no dupe ids\n",
    "assert len(raw_loan_info[raw_loan_info.duplicated('id')]['id']) == 0"
   ]
  },
  {
   "cell_type": "markdown",
   "metadata": {},
   "source": [
    "# load in raw data, do minimal processing to segment into train/valid/test"
   ]
  },
  {
   "cell_type": "code",
   "execution_count": 7,
   "metadata": {
    "ExecuteTime": {
     "end_time": "2018-03-17T13:09:59.008957Z",
     "start_time": "2018-03-17T13:09:43.649624Z"
    }
   },
   "outputs": [],
   "source": [
    "store.open()\n",
    "raw_loan_info = store['loan_info_merged']\n",
    "ys = store['loan_npv_rois']\n",
    "model_results = store['model_results']\n",
    "store.close()\n",
    "# since everything will basically be id dependent, ensure that there are no dupe ids\n",
    "assert len(raw_loan_info[raw_loan_info.duplicated('id')]['id']) == 0"
   ]
  },
  {
   "cell_type": "code",
   "execution_count": 8,
   "metadata": {
    "ExecuteTime": {
     "end_time": "2018-03-17T13:10:19.751509Z",
     "start_time": "2018-03-17T13:09:59.010860Z"
    }
   },
   "outputs": [
    {
     "data": {
      "application/vnd.jupyter.widget-view+json": {
       "model_id": "0f16b166140e43d99252d05ce280f1c2",
       "version_major": 2,
       "version_minor": 0
      },
      "text/plain": [
       "A Jupyter Widget"
      ]
     },
     "metadata": {},
     "output_type": "display_data"
    },
    {
     "name": "stderr",
     "output_type": "stream",
     "text": [
      "/home/justin/anaconda3/lib/python3.6/site-packages/ipykernel_launcher.py:8: SettingWithCopyWarning: \n",
      "A value is trying to be set on a copy of a slice from a DataFrame.\n",
      "Try using .loc[row_indexer,col_indexer] = value instead\n",
      "\n",
      "See the caveats in the documentation: http://pandas.pydata.org/pandas-docs/stable/indexing.html#indexing-view-versus-copy\n",
      "  \n",
      "/home/justin/anaconda3/lib/python3.6/site-packages/ipykernel_launcher.py:9: SettingWithCopyWarning: \n",
      "A value is trying to be set on a copy of a slice from a DataFrame.\n",
      "Try using .loc[row_indexer,col_indexer] = value instead\n",
      "\n",
      "See the caveats in the documentation: http://pandas.pydata.org/pandas-docs/stable/indexing.html#indexing-view-versus-copy\n",
      "  if __name__ == '__main__':\n",
      "/home/justin/anaconda3/lib/python3.6/site-packages/ipykernel_launcher.py:11: DeprecationWarning: \n",
      ".ix is deprecated. Please use\n",
      ".loc for label based indexing or\n",
      ".iloc for positional indexing\n",
      "\n",
      "See the documentation here:\n",
      "http://pandas.pydata.org/pandas-docs/stable/indexing.html#ix-indexer-is-deprecated\n",
      "  # This is added back by InteractiveShellApp.init_path()\n",
      "/home/justin/anaconda3/lib/python3.6/site-packages/pandas/core/indexing.py:357: SettingWithCopyWarning: \n",
      "A value is trying to be set on a copy of a slice from a DataFrame.\n",
      "Try using .loc[row_indexer,col_indexer] = value instead\n",
      "\n",
      "See the caveats in the documentation: http://pandas.pydata.org/pandas-docs/stable/indexing.html#indexing-view-versus-copy\n",
      "  self.obj[key] = _infer_fill_value(value)\n",
      "/home/justin/anaconda3/lib/python3.6/site-packages/pandas/core/indexing.py:537: SettingWithCopyWarning: \n",
      "A value is trying to be set on a copy of a slice from a DataFrame.\n",
      "Try using .loc[row_indexer,col_indexer] = value instead\n",
      "\n",
      "See the caveats in the documentation: http://pandas.pydata.org/pandas-docs/stable/indexing.html#indexing-view-versus-copy\n",
      "  self.obj[item] = s\n"
     ]
    },
    {
     "name": "stdout",
     "output_type": "stream",
     "text": [
      "\n"
     ]
    }
   ],
   "source": [
    "# turn all date columns into pandas timestamp ________________________________\n",
    "month_dict = {\n",
    "    'jan': '1',\n",
    "    'feb': '2',\n",
    "    'mar': '3',\n",
    "    'apr': '4',\n",
    "    'may': '5',\n",
    "    'jun': '6',\n",
    "    'jul': '7',\n",
    "    'aug': '8',\n",
    "    'sep': '9',\n",
    "    'oct': '10',\n",
    "    'nov': '11',\n",
    "    'dec': '12'\n",
    "}\n",
    "date_cols = ['earliest_cr_line',\n",
    "             'sec_app_earliest_cr_line', 'issue_d', 'last_pymnt_d']\n",
    "\n",
    "for col in date_cols:\n",
    "    raw_loan_info[col] = raw_loan_info[col].str.lower()\n",
    "    raw_loan_info[col] = pd.to_datetime(\n",
    "        raw_loan_info[col].str[:3].str.lower().replace(month_dict) +\n",
    "        raw_loan_info[col].str[3:],\n",
    "        format='%m-%Y')\n",
    "\n",
    "# determining loan end_d _____________________________________________________\n",
    "# clean loan_status\n",
    "raw_loan_info['loan_status'] = raw_loan_info['loan_status'].apply(\n",
    "    lambda x: re.sub('Does not meet the credit policy. Status:', '', x))\n",
    "\n",
    "status_grouped = raw_loan_info.groupby('loan_status')\n",
    "max_date = raw_loan_info['last_pymnt_d'].max()\n",
    "end_d_series = pd.Series([])\n",
    "for status, group in tqdm_notebook(status_grouped):\n",
    "    end_d_series = end_d_series.append(\n",
    "        applyEndD(status, group, max_date), verify_integrity=True)\n",
    "\n",
    "raw_loan_info['end_d'] = end_d_series\n",
    "\n",
    "# maturity_time ______________________________________________________________\n",
    "raw_loan_info['months_paid'] = ((\n",
    "    max_date - raw_loan_info['issue_d']) / np.timedelta64(1, 'D') *\n",
    "    (12 / 365.25)).round()\n",
    "raw_loan_info['maturity_time'] = raw_loan_info['months_paid'] / \\\n",
    "    raw_loan_info['term']\n",
    "raw_loan_info['maturity_time'] = np.where(raw_loan_info['maturity_time'] >= 1, 1,\n",
    "                                          raw_loan_info['maturity_time'])\n",
    "\n",
    "# maturity paid ______________________________________________________________\n",
    "raw_loan_info['rem_to_be_paid'] = apply_rem_to_be_paid(\n",
    "    raw_loan_info['out_prncp'].values, raw_loan_info['installment'].values,\n",
    "    raw_loan_info['int_rate'].values)\n",
    "raw_loan_info['maturity_paid'] = raw_loan_info['total_pymnt'] / (\n",
    "    raw_loan_info['total_pymnt'] + raw_loan_info['rem_to_be_paid'])\n",
    "# mat_paid has nans because some charged_off loans have 0 rem_to_be_paid\n",
    "# which is inconsistent with the majority treatment. quick fix is fillna\n",
    "raw_loan_info['maturity_paid'] = raw_loan_info['maturity_paid'].fillna(0)\n",
    "\n",
    "# target_loose (defaulted/charged_off or not)\n",
    "raw_loan_info['target_loose'] = np.where(\n",
    "    raw_loan_info['loan_status'].isin(['Default', 'Charged Off']), 1, 0)\n",
    "\n",
    "# get index for all_train now, which are done and almost done loans\n",
    "done_statuses = ['Charged Off', 'Fully Paid', 'Default']\n",
    "all_train_index = raw_loan_info[(raw_loan_info['loan_status'].isin(done_statuses)) | (raw_loan_info['maturity_paid'] > .9)]['id']"
   ]
  },
  {
   "cell_type": "markdown",
   "metadata": {},
   "source": [
    "# See what fields I can get through API"
   ]
  },
  {
   "cell_type": "code",
   "execution_count": 9,
   "metadata": {
    "ExecuteTime": {
     "end_time": "2018-03-17T13:10:21.220270Z",
     "start_time": "2018-03-17T13:10:19.753311Z"
    }
   },
   "outputs": [],
   "source": [
    "api_loans, api_ids = investing_utils.get_loans_and_ids(header, exclude_already=True)\n",
    "api_columns = api_loans.columns\n",
    "find_matching_col_manually = []\n",
    "already_matching_api_csv = []\n",
    "for col in api_columns:\n",
    "    try:\n",
    "        raw_loan_info[col]\n",
    "        already_matching_api_csv.append(col)\n",
    "    except KeyError:\n",
    "        find_matching_col_manually.append(col)\n",
    "        \n",
    "api_to_loan_info_dict = {'acc_open_past_24_mths': 'acc_open_past_24mths',\n",
    "                         'addr_zip': 'zip_code', \n",
    "                         'delinq_2_yrs': 'delinq_2yrs',\n",
    "                         'i_l_util': 'il_util',\n",
    "                         'inq_last_6_mths': 'inq_last_6mths',\n",
    "                         'is_inc_v': 'verification_status',\n",
    "                         'is_inc_v_joint': 'verification_status_joint',\n",
    "                         'loan_amount': 'loan_amnt',\n",
    "                         'num_accts_ever_12_0_ppd':'num_accts_ever_120_pd',\n",
    "                         'num_tl_12_0dpd_2m':'num_tl_120dpd_2m',\n",
    "                         'sec_app_inq_last_6_mths':'sec_app_inq_last_6mths'}\n",
    "loan_info_to_api_dict = {v:k for k,v in api_to_loan_info_dict.items()}\n",
    "\n",
    "# rename loan_info columns to api names\n",
    "raw_loan_info.rename(columns=loan_info_to_api_dict, inplace=True)"
   ]
  },
  {
   "cell_type": "code",
   "execution_count": 10,
   "metadata": {
    "ExecuteTime": {
     "end_time": "2018-03-17T13:10:21.241711Z",
     "start_time": "2018-03-17T13:10:21.222274Z"
    }
   },
   "outputs": [],
   "source": [
    "set_api = set(api_columns)\n",
    "set_raw_loan_info = set(raw_loan_info.columns)\n",
    "overlapping_cols = list(set_api.intersection(set_raw_loan_info))\n",
    "overlapping_cols.sort()\n",
    "\n",
    "# notes: leaving id in since it is needed to keep track of loans,\n",
    "# api_loans installment differes from loan installment if loan wasn't fully funded so remake the col \"installment_funded\"\n",
    "# \n",
    "not_use_cols = ['member_id']\n",
    "use_cols = [col for col in overlapping_cols if col not in not_use_cols]\n",
    "special_cols = ['issue_d', 'maturity_time', 'maturity_paid', 'end_d', 'target_loose']"
   ]
  },
  {
   "cell_type": "code",
   "execution_count": 11,
   "metadata": {
    "ExecuteTime": {
     "end_time": "2018-03-17T13:10:21.511854Z",
     "start_time": "2018-03-17T13:10:21.243172Z"
    }
   },
   "outputs": [],
   "source": [
    "loan_info = raw_loan_info[use_cols + special_cols]\n",
    "api_loans_use = api_loans[use_cols]"
   ]
  },
  {
   "cell_type": "code",
   "execution_count": 12,
   "metadata": {
    "ExecuteTime": {
     "end_time": "2018-03-17T13:10:25.211252Z",
     "start_time": "2018-03-17T13:10:21.513562Z"
    }
   },
   "outputs": [
    {
     "name": "stderr",
     "output_type": "stream",
     "text": [
      "/home/justin/anaconda3/lib/python3.6/site-packages/pandas/core/generic.py:4619: SettingWithCopyWarning: \n",
      "A value is trying to be set on a copy of a slice from a DataFrame\n",
      "\n",
      "See the caveats in the documentation: http://pandas.pydata.org/pandas-docs/stable/indexing.html#indexing-view-versus-copy\n",
      "  self._update_inplace(new_data)\n",
      "/home/justin/anaconda3/lib/python3.6/site-packages/ipykernel_launcher.py:37: SettingWithCopyWarning: \n",
      "A value is trying to be set on a copy of a slice from a DataFrame.\n",
      "Try using .loc[row_indexer,col_indexer] = value instead\n",
      "\n",
      "See the caveats in the documentation: http://pandas.pydata.org/pandas-docs/stable/indexing.html#indexing-view-versus-copy\n",
      "/home/justin/anaconda3/lib/python3.6/site-packages/ipykernel_launcher.py:39: SettingWithCopyWarning: \n",
      "A value is trying to be set on a copy of a slice from a DataFrame.\n",
      "Try using .loc[row_indexer,col_indexer] = value instead\n",
      "\n",
      "See the caveats in the documentation: http://pandas.pydata.org/pandas-docs/stable/indexing.html#indexing-view-versus-copy\n",
      "/home/justin/anaconda3/lib/python3.6/site-packages/ipykernel_launcher.py:40: SettingWithCopyWarning: \n",
      "A value is trying to be set on a copy of a slice from a DataFrame\n",
      "\n",
      "See the caveats in the documentation: http://pandas.pydata.org/pandas-docs/stable/indexing.html#indexing-view-versus-copy\n",
      "/home/justin/anaconda3/lib/python3.6/site-packages/ipykernel_launcher.py:41: SettingWithCopyWarning: \n",
      "A value is trying to be set on a copy of a slice from a DataFrame.\n",
      "Try using .loc[row_indexer,col_indexer] = value instead\n",
      "\n",
      "See the caveats in the documentation: http://pandas.pydata.org/pandas-docs/stable/indexing.html#indexing-view-versus-copy\n"
     ]
    }
   ],
   "source": [
    "# change loan_info values to api_loan_use values\n",
    "application_type_dict = {'Joint App': 'JOINT',\n",
    "                         'Individual': 'INDIVIDUAL'}\n",
    "loan_info['application_type'].replace(application_type_dict, inplace=True)\n",
    "\n",
    "disbursement_method_dict = {'DirectPay': 'DIRECT_PAY',\n",
    "                         'Cash': 'CASH'}\n",
    "loan_info['disbursement_method'].replace(disbursement_method_dict, inplace=True)\n",
    "\n",
    "emp_length_dict = {'< 1 year':0,\n",
    "                   '1 year':12,\n",
    "                   '2 years':24,\n",
    "                   '3 years':36,\n",
    "                   '4 years':48,\n",
    "                   '5 years':60,\n",
    "                   '6 years':72,\n",
    "                   '7 years':84,\n",
    "                   '8 years':96,\n",
    "                   '9 years':108,\n",
    "                   '10+ years':120,}\n",
    "loan_info['emp_length'].replace(emp_length_dict, inplace=True)\n",
    "\n",
    "initial_list_status_dict = {'w': 'W',\n",
    "                         'f': 'F'}\n",
    "loan_info['initial_list_status'].replace(initial_list_status_dict, inplace=True)\n",
    "\n",
    "is_inc_v_dict = {'Not Verified': 'NOT_VERIFIED',\n",
    "                         'Verified': 'VERIFIED',\n",
    "                        'Source Verified': 'SOURCE_VERIFIED',}\n",
    "loan_info['is_inc_v'].replace(is_inc_v_dict, inplace=True)\n",
    "\n",
    "is_inc_v_joint_dict = {'Not Verified': 'NOT_VERIFIED',\n",
    "                         'Verified': 'VERIFIED',\n",
    "                        'Source Verified': 'SOURCE_VERIFIED',}\n",
    "loan_info['is_inc_v_joint'].replace(is_inc_v_joint_dict, inplace=True)\n",
    "\n",
    "loan_info['revol_util'] = loan_info['revol_util'] * 100\n",
    "\n",
    "loan_info['installment_old'] = loan_info['installment']\n",
    "loan_info.drop('installment_old', axis=1, inplace=True)\n",
    "loan_info['installment'] = np.pmt(loan_info['int_rate']/(100*12), loan_info['term'], -loan_info['loan_amount'])\n",
    "\n",
    "\n",
    "# things to map properly to numbers in api_loans\n",
    "things_to_map_in_api_loans = ['grade', 'home_ownership',]\n",
    "\n",
    "# remake installment on loan info to be as if it were in funding so based on loan amount\n",
    "# and not on actual funded amount"
   ]
  },
  {
   "cell_type": "code",
   "execution_count": 13,
   "metadata": {
    "ExecuteTime": {
     "end_time": "2018-03-17T13:10:30.552600Z",
     "start_time": "2018-03-17T13:10:25.213129Z"
    }
   },
   "outputs": [],
   "source": [
    "# Save this as loan_info_step_1\n",
    "loan_info.set_index('id', inplace=True)\n",
    "default_series = loan_info['target_loose']\n",
    "\n",
    "loan_info.to_hdf(store, key='loan_info_step1', format='table')\n",
    "default_series.to_hdf(store, key='default_series')"
   ]
  },
  {
   "cell_type": "markdown",
   "metadata": {},
   "source": [
    "# do the splitting on train/test/val"
   ]
  },
  {
   "cell_type": "code",
   "execution_count": 14,
   "metadata": {
    "ExecuteTime": {
     "end_time": "2018-03-17T13:10:30.721774Z",
     "start_time": "2018-03-17T13:10:30.554346Z"
    }
   },
   "outputs": [],
   "source": [
    "nearly_done = loan_info[(loan_info['maturity_paid'] > .9) & (loan_info['maturity_time'] > .9)]\n",
    "# take last quarter of nearly done as test/valid, take all loans with end_d before first month of last quarter to train on\n",
    "cutoff_issue_d = nearly_done['issue_d'].max() + pd.DateOffset(months=-3)\n",
    "test_valid = nearly_done[nearly_done['issue_d'] >= cutoff_issue_d].index\n",
    "train_index = nearly_done[nearly_done['end_d'] < cutoff_issue_d].index"
   ]
  },
  {
   "cell_type": "code",
   "execution_count": 15,
   "metadata": {
    "ExecuteTime": {
     "end_time": "2018-03-17T13:10:31.195464Z",
     "start_time": "2018-03-17T13:10:30.723395Z"
    }
   },
   "outputs": [],
   "source": [
    "test_index = np.random.choice(test_valid, int(len(test_valid)/2), replace=False)\n",
    "valid_index = [ids for ids in test_valid if ids not in test_index]\n",
    "assert len(set(test_index).intersection(set(valid_index))) == 0\n",
    "assert len(set(test_index).intersection(set(train_index))) == 0\n",
    "assert len(set(train_index).intersection(set(valid_index))) == 0"
   ]
  },
  {
   "cell_type": "code",
   "execution_count": 16,
   "metadata": {
    "ExecuteTime": {
     "end_time": "2018-03-17T13:10:31.234019Z",
     "start_time": "2018-03-17T13:10:31.197203Z"
    }
   },
   "outputs": [],
   "source": [
    "store.open()\n",
    "store['test_index'] = pd.Series(test_index)\n",
    "store['valid_index'] = pd.Series(valid_index)\n",
    "store['train_index'] = pd.Series(train_index)\n",
    "store['all_train_index'] = all_train_index\n",
    "store.close()"
   ]
  },
  {
   "cell_type": "markdown",
   "metadata": {},
   "source": [
    "# cut loan info to just columns for modeling, add dateparts"
   ]
  },
  {
   "cell_type": "code",
   "execution_count": 17,
   "metadata": {
    "ExecuteTime": {
     "end_time": "2018-03-17T13:10:31.861124Z",
     "start_time": "2018-03-17T13:10:31.235717Z"
    }
   },
   "outputs": [],
   "source": [
    "use_cols = [col for col in use_cols if col != 'id']\n",
    "loan_info = loan_info[use_cols]\n",
    "loan_info['y'] = ys"
   ]
  },
  {
   "cell_type": "code",
   "execution_count": 32,
   "metadata": {
    "ExecuteTime": {
     "end_time": "2018-03-17T13:25:20.098799Z",
     "start_time": "2018-03-17T13:25:18.229072Z"
    }
   },
   "outputs": [
    {
     "data": {
      "text/plain": [
       "(1646778, 127)"
      ]
     },
     "execution_count": 32,
     "metadata": {},
     "output_type": "execute_result"
    }
   ],
   "source": [
    "add_dateparts(loan_info)\n",
    "loan_info.shape"
   ]
  },
  {
   "cell_type": "code",
   "execution_count": 35,
   "metadata": {
    "ExecuteTime": {
     "end_time": "2018-03-17T13:25:33.612284Z",
     "start_time": "2018-03-17T13:25:33.584015Z"
    }
   },
   "outputs": [
    {
     "data": {
      "text/plain": [
       "(1646778, 127)"
      ]
     },
     "execution_count": 35,
     "metadata": {},
     "output_type": "execute_result"
    }
   ],
   "source": [
    "train_cats(loan_info)\n",
    "loan_info.shape"
   ]
  },
  {
   "cell_type": "code",
   "execution_count": 38,
   "metadata": {
    "ExecuteTime": {
     "end_time": "2018-03-17T13:29:21.534541Z",
     "start_time": "2018-03-17T13:29:21.482707Z"
    },
    "scrolled": true
   },
   "outputs": [],
   "source": [
    "# reorder grade and subgrade\n",
    "loan_info['grade'].cat.reorder_categories(sorted(loan_info['grade'].unique()), ordered=True, inplace=True)\n",
    "loan_info['sub_grade'].cat.reorder_categories(sorted(loan_info['sub_grade'].unique()), ordered=True, inplace=True)"
   ]
  },
  {
   "cell_type": "code",
   "execution_count": 40,
   "metadata": {
    "ExecuteTime": {
     "end_time": "2018-03-17T13:30:38.167424Z",
     "start_time": "2018-03-17T13:30:38.133240Z"
    }
   },
   "outputs": [],
   "source": [
    "# ensure the categories are right, save them so that api categories are encoded correctly\n",
    "col_cat_dict = {}\n",
    "for col in loan_info.select_dtypes(['category']).columns:\n",
    "    col_cat_dict[col] = loan_info[col].cat.categories"
   ]
  },
  {
   "cell_type": "code",
   "execution_count": 21,
   "metadata": {
    "ExecuteTime": {
     "end_time": "2018-03-15T03:49:57.494114Z",
     "start_time": "2018-03-15T03:49:53.686736Z"
    },
    "scrolled": true
   },
   "outputs": [],
   "source": [
    "train = loan_info.loc[train_index,:]\n",
    "valid = loan_info.loc[valid_index,:]\n",
    "test = loan_info.loc[test_index,:]\n",
    "all_train = loan_info.loc[all_train_index,:]\n",
    "\n",
    "drop_cols_for_scaling(train)\n",
    "drop_cols_for_scaling(valid)\n",
    "drop_cols_for_scaling(test)\n",
    "\n",
    "# train has more columns than valid, test. Fill with mode, sort columns to train.\n",
    "for col in train.columns:\n",
    "    if col not in valid.columns:\n",
    "        valid[col] = train[col].mode()\n",
    "    if col not in test.columns:\n",
    "        test[col] = train[col].mode()\n",
    "        \n",
    "valid = valid[train.columns]\n",
    "test = test[train.columns]\n",
    "assert train.shape[1] == test.shape[1] == valid.shape[1]\n",
    "\n",
    "store.open()\n",
    "train.to_hdf(store, key='train', format='table')\n",
    "test.to_hdf(store, key='test', format='table')\n",
    "valid.to_hdf(store, key='valid', format='table')\n",
    "all_train.to_hdf(store, key='all_train', format='table')\n",
    "store.close()"
   ]
  },
  {
   "cell_type": "code",
   "execution_count": 42,
   "metadata": {
    "ExecuteTime": {
     "end_time": "2018-03-17T19:18:02.593195Z",
     "start_time": "2018-03-17T19:18:02.469124Z"
    }
   },
   "outputs": [
    {
     "data": {
      "text/html": [
       "<div>\n",
       "<style scoped>\n",
       "    .dataframe tbody tr th:only-of-type {\n",
       "        vertical-align: middle;\n",
       "    }\n",
       "\n",
       "    .dataframe tbody tr th {\n",
       "        vertical-align: top;\n",
       "    }\n",
       "\n",
       "    .dataframe thead th {\n",
       "        text-align: right;\n",
       "    }\n",
       "</style>\n",
       "<table border=\"1\" class=\"dataframe\">\n",
       "  <thead>\n",
       "    <tr style=\"text-align: right;\">\n",
       "      <th></th>\n",
       "      <th>acc_now_delinq</th>\n",
       "      <th>acc_open_past_24_mths</th>\n",
       "      <th>addr_state</th>\n",
       "      <th>addr_zip</th>\n",
       "      <th>all_util</th>\n",
       "      <th>annual_inc</th>\n",
       "      <th>annual_inc_joint</th>\n",
       "      <th>application_type</th>\n",
       "      <th>avg_cur_bal</th>\n",
       "      <th>bc_open_to_buy</th>\n",
       "      <th>bc_util</th>\n",
       "      <th>chargeoff_within_12_mths</th>\n",
       "      <th>collections_12_mths_ex_med</th>\n",
       "      <th>delinq_2_yrs</th>\n",
       "      <th>delinq_amnt</th>\n",
       "      <th>disbursement_method</th>\n",
       "      <th>dti</th>\n",
       "      <th>dti_joint</th>\n",
       "      <th>emp_length</th>\n",
       "      <th>fico_range_high</th>\n",
       "      <th>fico_range_low</th>\n",
       "      <th>grade</th>\n",
       "      <th>home_ownership</th>\n",
       "      <th>i_l_util</th>\n",
       "      <th>initial_list_status</th>\n",
       "      <th>inq_fi</th>\n",
       "      <th>inq_last_12m</th>\n",
       "      <th>inq_last_6_mths</th>\n",
       "      <th>installment</th>\n",
       "      <th>int_rate</th>\n",
       "      <th>is_inc_v</th>\n",
       "      <th>is_inc_v_joint</th>\n",
       "      <th>loan_amount</th>\n",
       "      <th>max_bal_bc</th>\n",
       "      <th>mo_sin_old_il_acct</th>\n",
       "      <th>mo_sin_old_rev_tl_op</th>\n",
       "      <th>mo_sin_rcnt_rev_tl_op</th>\n",
       "      <th>mo_sin_rcnt_tl</th>\n",
       "      <th>mort_acc</th>\n",
       "      <th>mths_since_last_delinq</th>\n",
       "      <th>mths_since_last_major_derog</th>\n",
       "      <th>mths_since_last_record</th>\n",
       "      <th>mths_since_rcnt_il</th>\n",
       "      <th>mths_since_recent_bc</th>\n",
       "      <th>mths_since_recent_bc_dlq</th>\n",
       "      <th>mths_since_recent_inq</th>\n",
       "      <th>mths_since_recent_revol_delinq</th>\n",
       "      <th>num_accts_ever_12_0_ppd</th>\n",
       "      <th>num_actv_bc_tl</th>\n",
       "      <th>num_actv_rev_tl</th>\n",
       "      <th>num_bc_sats</th>\n",
       "      <th>num_bc_tl</th>\n",
       "      <th>num_il_tl</th>\n",
       "      <th>num_op_rev_tl</th>\n",
       "      <th>num_rev_accts</th>\n",
       "      <th>num_rev_tl_bal_gt_0</th>\n",
       "      <th>num_sats</th>\n",
       "      <th>num_tl_12_0dpd_2m</th>\n",
       "      <th>num_tl_30dpd</th>\n",
       "      <th>num_tl_90g_dpd_24m</th>\n",
       "      <th>num_tl_op_past_12m</th>\n",
       "      <th>open_acc</th>\n",
       "      <th>open_acc_6m</th>\n",
       "      <th>open_act_il</th>\n",
       "      <th>open_il_12m</th>\n",
       "      <th>open_il_24m</th>\n",
       "      <th>open_rv_12m</th>\n",
       "      <th>open_rv_24m</th>\n",
       "      <th>pct_tl_nvr_dlq</th>\n",
       "      <th>percent_bc_gt_75</th>\n",
       "      <th>pub_rec</th>\n",
       "      <th>pub_rec_bankruptcies</th>\n",
       "      <th>purpose</th>\n",
       "      <th>revol_bal</th>\n",
       "      <th>revol_bal_joint</th>\n",
       "      <th>revol_util</th>\n",
       "      <th>sec_app_chargeoff_within_12_mths</th>\n",
       "      <th>sec_app_collections_12_mths_ex_med</th>\n",
       "      <th>sec_app_fico_range_high</th>\n",
       "      <th>sec_app_fico_range_low</th>\n",
       "      <th>sec_app_inq_last_6_mths</th>\n",
       "      <th>sec_app_mort_acc</th>\n",
       "      <th>sec_app_mths_since_last_major_derog</th>\n",
       "      <th>sec_app_num_rev_accts</th>\n",
       "      <th>sec_app_open_acc</th>\n",
       "      <th>sec_app_open_act_il</th>\n",
       "      <th>sec_app_revol_util</th>\n",
       "      <th>sub_grade</th>\n",
       "      <th>tax_liens</th>\n",
       "      <th>term</th>\n",
       "      <th>tot_coll_amt</th>\n",
       "      <th>tot_cur_bal</th>\n",
       "      <th>tot_hi_cred_lim</th>\n",
       "      <th>total_acc</th>\n",
       "      <th>total_bal_ex_mort</th>\n",
       "      <th>total_bal_il</th>\n",
       "      <th>total_bc_limit</th>\n",
       "      <th>total_cu_tl</th>\n",
       "      <th>total_il_high_credit_limit</th>\n",
       "      <th>total_rev_hi_lim</th>\n",
       "      <th>y</th>\n",
       "      <th>earliest_cr_lineYear</th>\n",
       "      <th>earliest_cr_lineMonth</th>\n",
       "      <th>earliest_cr_lineWeek</th>\n",
       "      <th>earliest_cr_lineDay</th>\n",
       "      <th>earliest_cr_lineDayofweek</th>\n",
       "      <th>earliest_cr_lineDayofyear</th>\n",
       "      <th>earliest_cr_lineIs_month_end</th>\n",
       "      <th>earliest_cr_lineIs_month_start</th>\n",
       "      <th>earliest_cr_lineIs_quarter_end</th>\n",
       "      <th>earliest_cr_lineIs_quarter_start</th>\n",
       "      <th>earliest_cr_lineIs_year_end</th>\n",
       "      <th>earliest_cr_lineIs_year_start</th>\n",
       "      <th>earliest_cr_lineElapsed</th>\n",
       "      <th>sec_app_earliest_cr_lineYear</th>\n",
       "      <th>sec_app_earliest_cr_lineMonth</th>\n",
       "      <th>sec_app_earliest_cr_lineWeek</th>\n",
       "      <th>sec_app_earliest_cr_lineDay</th>\n",
       "      <th>sec_app_earliest_cr_lineDayofweek</th>\n",
       "      <th>sec_app_earliest_cr_lineDayofyear</th>\n",
       "      <th>sec_app_earliest_cr_lineIs_month_end</th>\n",
       "      <th>sec_app_earliest_cr_lineIs_month_start</th>\n",
       "      <th>sec_app_earliest_cr_lineIs_quarter_end</th>\n",
       "      <th>sec_app_earliest_cr_lineIs_quarter_start</th>\n",
       "      <th>sec_app_earliest_cr_lineIs_year_end</th>\n",
       "      <th>sec_app_earliest_cr_lineIs_year_start</th>\n",
       "      <th>sec_app_earliest_cr_lineElapsed</th>\n",
       "    </tr>\n",
       "    <tr>\n",
       "      <th>id</th>\n",
       "      <th></th>\n",
       "      <th></th>\n",
       "      <th></th>\n",
       "      <th></th>\n",
       "      <th></th>\n",
       "      <th></th>\n",
       "      <th></th>\n",
       "      <th></th>\n",
       "      <th></th>\n",
       "      <th></th>\n",
       "      <th></th>\n",
       "      <th></th>\n",
       "      <th></th>\n",
       "      <th></th>\n",
       "      <th></th>\n",
       "      <th></th>\n",
       "      <th></th>\n",
       "      <th></th>\n",
       "      <th></th>\n",
       "      <th></th>\n",
       "      <th></th>\n",
       "      <th></th>\n",
       "      <th></th>\n",
       "      <th></th>\n",
       "      <th></th>\n",
       "      <th></th>\n",
       "      <th></th>\n",
       "      <th></th>\n",
       "      <th></th>\n",
       "      <th></th>\n",
       "      <th></th>\n",
       "      <th></th>\n",
       "      <th></th>\n",
       "      <th></th>\n",
       "      <th></th>\n",
       "      <th></th>\n",
       "      <th></th>\n",
       "      <th></th>\n",
       "      <th></th>\n",
       "      <th></th>\n",
       "      <th></th>\n",
       "      <th></th>\n",
       "      <th></th>\n",
       "      <th></th>\n",
       "      <th></th>\n",
       "      <th></th>\n",
       "      <th></th>\n",
       "      <th></th>\n",
       "      <th></th>\n",
       "      <th></th>\n",
       "      <th></th>\n",
       "      <th></th>\n",
       "      <th></th>\n",
       "      <th></th>\n",
       "      <th></th>\n",
       "      <th></th>\n",
       "      <th></th>\n",
       "      <th></th>\n",
       "      <th></th>\n",
       "      <th></th>\n",
       "      <th></th>\n",
       "      <th></th>\n",
       "      <th></th>\n",
       "      <th></th>\n",
       "      <th></th>\n",
       "      <th></th>\n",
       "      <th></th>\n",
       "      <th></th>\n",
       "      <th></th>\n",
       "      <th></th>\n",
       "      <th></th>\n",
       "      <th></th>\n",
       "      <th></th>\n",
       "      <th></th>\n",
       "      <th></th>\n",
       "      <th></th>\n",
       "      <th></th>\n",
       "      <th></th>\n",
       "      <th></th>\n",
       "      <th></th>\n",
       "      <th></th>\n",
       "      <th></th>\n",
       "      <th></th>\n",
       "      <th></th>\n",
       "      <th></th>\n",
       "      <th></th>\n",
       "      <th></th>\n",
       "      <th></th>\n",
       "      <th></th>\n",
       "      <th></th>\n",
       "      <th></th>\n",
       "      <th></th>\n",
       "      <th></th>\n",
       "      <th></th>\n",
       "      <th></th>\n",
       "      <th></th>\n",
       "      <th></th>\n",
       "      <th></th>\n",
       "      <th></th>\n",
       "      <th></th>\n",
       "      <th></th>\n",
       "      <th></th>\n",
       "      <th></th>\n",
       "      <th></th>\n",
       "      <th></th>\n",
       "      <th></th>\n",
       "      <th></th>\n",
       "      <th></th>\n",
       "      <th></th>\n",
       "      <th></th>\n",
       "      <th></th>\n",
       "      <th></th>\n",
       "      <th></th>\n",
       "      <th></th>\n",
       "      <th></th>\n",
       "      <th></th>\n",
       "      <th></th>\n",
       "      <th></th>\n",
       "      <th></th>\n",
       "      <th></th>\n",
       "      <th></th>\n",
       "      <th></th>\n",
       "      <th></th>\n",
       "      <th></th>\n",
       "      <th></th>\n",
       "      <th></th>\n",
       "      <th></th>\n",
       "    </tr>\n",
       "  </thead>\n",
       "  <tbody>\n",
       "    <tr>\n",
       "      <th>36805548</th>\n",
       "      <td>0.0</td>\n",
       "      <td>7.0</td>\n",
       "      <td>CA</td>\n",
       "      <td>937xx</td>\n",
       "      <td>NaN</td>\n",
       "      <td>58000.0</td>\n",
       "      <td>NaN</td>\n",
       "      <td>INDIVIDUAL</td>\n",
       "      <td>9536.0</td>\n",
       "      <td>7599.0</td>\n",
       "      <td>41.500000</td>\n",
       "      <td>0.0</td>\n",
       "      <td>0.0</td>\n",
       "      <td>0.0</td>\n",
       "      <td>0.0</td>\n",
       "      <td>NaN</td>\n",
       "      <td>14.920000</td>\n",
       "      <td>NaN</td>\n",
       "      <td>96.0</td>\n",
       "      <td>714.0</td>\n",
       "      <td>710.0</td>\n",
       "      <td>A</td>\n",
       "      <td>MORTGAGE</td>\n",
       "      <td>NaN</td>\n",
       "      <td>W</td>\n",
       "      <td>NaN</td>\n",
       "      <td>NaN</td>\n",
       "      <td>2.0</td>\n",
       "      <td>321.072130</td>\n",
       "      <td>6.99</td>\n",
       "      <td>NOT_VERIFIED</td>\n",
       "      <td>NaN</td>\n",
       "      <td>10400.0</td>\n",
       "      <td>NaN</td>\n",
       "      <td>76.0</td>\n",
       "      <td>290.0</td>\n",
       "      <td>1.0</td>\n",
       "      <td>1.0</td>\n",
       "      <td>1.0</td>\n",
       "      <td>42.0</td>\n",
       "      <td>59.0</td>\n",
       "      <td>NaN</td>\n",
       "      <td>NaN</td>\n",
       "      <td>5.0</td>\n",
       "      <td>42.0</td>\n",
       "      <td>1.0</td>\n",
       "      <td>42.0</td>\n",
       "      <td>4.0</td>\n",
       "      <td>6.0</td>\n",
       "      <td>9.0</td>\n",
       "      <td>7.0</td>\n",
       "      <td>18.0</td>\n",
       "      <td>2.0</td>\n",
       "      <td>14.0</td>\n",
       "      <td>32.0</td>\n",
       "      <td>9.0</td>\n",
       "      <td>17.0</td>\n",
       "      <td>0.0</td>\n",
       "      <td>0.0</td>\n",
       "      <td>0.0</td>\n",
       "      <td>4.0</td>\n",
       "      <td>17.0</td>\n",
       "      <td>NaN</td>\n",
       "      <td>NaN</td>\n",
       "      <td>NaN</td>\n",
       "      <td>NaN</td>\n",
       "      <td>NaN</td>\n",
       "      <td>NaN</td>\n",
       "      <td>83.300003</td>\n",
       "      <td>14.3</td>\n",
       "      <td>0.0</td>\n",
       "      <td>0.0</td>\n",
       "      <td>credit_card</td>\n",
       "      <td>6133.0</td>\n",
       "      <td>NaN</td>\n",
       "      <td>31.600002</td>\n",
       "      <td>NaN</td>\n",
       "      <td>NaN</td>\n",
       "      <td>NaN</td>\n",
       "      <td>NaN</td>\n",
       "      <td>NaN</td>\n",
       "      <td>NaN</td>\n",
       "      <td>NaN</td>\n",
       "      <td>NaN</td>\n",
       "      <td>NaN</td>\n",
       "      <td>NaN</td>\n",
       "      <td>NaN</td>\n",
       "      <td>A3</td>\n",
       "      <td>0.0</td>\n",
       "      <td>36.0</td>\n",
       "      <td>0.0</td>\n",
       "      <td>162110.0</td>\n",
       "      <td>179407.0</td>\n",
       "      <td>36.0</td>\n",
       "      <td>15030.0</td>\n",
       "      <td>NaN</td>\n",
       "      <td>13000.0</td>\n",
       "      <td>NaN</td>\n",
       "      <td>11325.0</td>\n",
       "      <td>19400.0</td>\n",
       "      <td>-0.410322</td>\n",
       "      <td>1989.0</td>\n",
       "      <td>9.0</td>\n",
       "      <td>35.0</td>\n",
       "      <td>1.0</td>\n",
       "      <td>4.0</td>\n",
       "      <td>244.0</td>\n",
       "      <td>False</td>\n",
       "      <td>True</td>\n",
       "      <td>False</td>\n",
       "      <td>False</td>\n",
       "      <td>False</td>\n",
       "      <td>False</td>\n",
       "      <td>620611200</td>\n",
       "      <td>NaN</td>\n",
       "      <td>NaN</td>\n",
       "      <td>NaN</td>\n",
       "      <td>NaN</td>\n",
       "      <td>NaN</td>\n",
       "      <td>NaN</td>\n",
       "      <td>False</td>\n",
       "      <td>False</td>\n",
       "      <td>False</td>\n",
       "      <td>False</td>\n",
       "      <td>False</td>\n",
       "      <td>False</td>\n",
       "      <td>-9223372037</td>\n",
       "    </tr>\n",
       "    <tr>\n",
       "      <th>38098114</th>\n",
       "      <td>0.0</td>\n",
       "      <td>5.0</td>\n",
       "      <td>VA</td>\n",
       "      <td>235xx</td>\n",
       "      <td>NaN</td>\n",
       "      <td>78000.0</td>\n",
       "      <td>NaN</td>\n",
       "      <td>INDIVIDUAL</td>\n",
       "      <td>29828.0</td>\n",
       "      <td>9525.0</td>\n",
       "      <td>4.700000</td>\n",
       "      <td>0.0</td>\n",
       "      <td>0.0</td>\n",
       "      <td>0.0</td>\n",
       "      <td>0.0</td>\n",
       "      <td>NaN</td>\n",
       "      <td>12.030000</td>\n",
       "      <td>NaN</td>\n",
       "      <td>120.0</td>\n",
       "      <td>754.0</td>\n",
       "      <td>750.0</td>\n",
       "      <td>C</td>\n",
       "      <td>RENT</td>\n",
       "      <td>NaN</td>\n",
       "      <td>W</td>\n",
       "      <td>NaN</td>\n",
       "      <td>NaN</td>\n",
       "      <td>0.0</td>\n",
       "      <td>336.631520</td>\n",
       "      <td>12.39</td>\n",
       "      <td>SOURCE_VERIFIED</td>\n",
       "      <td>NaN</td>\n",
       "      <td>15000.0</td>\n",
       "      <td>NaN</td>\n",
       "      <td>103.0</td>\n",
       "      <td>244.0</td>\n",
       "      <td>1.0</td>\n",
       "      <td>1.0</td>\n",
       "      <td>0.0</td>\n",
       "      <td>NaN</td>\n",
       "      <td>NaN</td>\n",
       "      <td>NaN</td>\n",
       "      <td>NaN</td>\n",
       "      <td>47.0</td>\n",
       "      <td>NaN</td>\n",
       "      <td>NaN</td>\n",
       "      <td>NaN</td>\n",
       "      <td>0.0</td>\n",
       "      <td>1.0</td>\n",
       "      <td>4.0</td>\n",
       "      <td>1.0</td>\n",
       "      <td>2.0</td>\n",
       "      <td>8.0</td>\n",
       "      <td>5.0</td>\n",
       "      <td>9.0</td>\n",
       "      <td>4.0</td>\n",
       "      <td>6.0</td>\n",
       "      <td>0.0</td>\n",
       "      <td>0.0</td>\n",
       "      <td>0.0</td>\n",
       "      <td>4.0</td>\n",
       "      <td>6.0</td>\n",
       "      <td>NaN</td>\n",
       "      <td>NaN</td>\n",
       "      <td>NaN</td>\n",
       "      <td>NaN</td>\n",
       "      <td>NaN</td>\n",
       "      <td>NaN</td>\n",
       "      <td>100.000000</td>\n",
       "      <td>0.0</td>\n",
       "      <td>0.0</td>\n",
       "      <td>0.0</td>\n",
       "      <td>debt_consolidation</td>\n",
       "      <td>138008.0</td>\n",
       "      <td>NaN</td>\n",
       "      <td>29.000000</td>\n",
       "      <td>NaN</td>\n",
       "      <td>NaN</td>\n",
       "      <td>NaN</td>\n",
       "      <td>NaN</td>\n",
       "      <td>NaN</td>\n",
       "      <td>NaN</td>\n",
       "      <td>NaN</td>\n",
       "      <td>NaN</td>\n",
       "      <td>NaN</td>\n",
       "      <td>NaN</td>\n",
       "      <td>NaN</td>\n",
       "      <td>C1</td>\n",
       "      <td>0.0</td>\n",
       "      <td>60.0</td>\n",
       "      <td>0.0</td>\n",
       "      <td>149140.0</td>\n",
       "      <td>196500.0</td>\n",
       "      <td>17.0</td>\n",
       "      <td>149140.0</td>\n",
       "      <td>NaN</td>\n",
       "      <td>10000.0</td>\n",
       "      <td>NaN</td>\n",
       "      <td>12000.0</td>\n",
       "      <td>184500.0</td>\n",
       "      <td>0.068541</td>\n",
       "      <td>1994.0</td>\n",
       "      <td>8.0</td>\n",
       "      <td>31.0</td>\n",
       "      <td>1.0</td>\n",
       "      <td>0.0</td>\n",
       "      <td>213.0</td>\n",
       "      <td>False</td>\n",
       "      <td>True</td>\n",
       "      <td>False</td>\n",
       "      <td>False</td>\n",
       "      <td>False</td>\n",
       "      <td>False</td>\n",
       "      <td>775699200</td>\n",
       "      <td>NaN</td>\n",
       "      <td>NaN</td>\n",
       "      <td>NaN</td>\n",
       "      <td>NaN</td>\n",
       "      <td>NaN</td>\n",
       "      <td>NaN</td>\n",
       "      <td>False</td>\n",
       "      <td>False</td>\n",
       "      <td>False</td>\n",
       "      <td>False</td>\n",
       "      <td>False</td>\n",
       "      <td>False</td>\n",
       "      <td>-9223372037</td>\n",
       "    </tr>\n",
       "    <tr>\n",
       "      <th>37822187</th>\n",
       "      <td>0.0</td>\n",
       "      <td>8.0</td>\n",
       "      <td>NJ</td>\n",
       "      <td>077xx</td>\n",
       "      <td>NaN</td>\n",
       "      <td>69000.0</td>\n",
       "      <td>NaN</td>\n",
       "      <td>INDIVIDUAL</td>\n",
       "      <td>3214.0</td>\n",
       "      <td>6494.0</td>\n",
       "      <td>69.199997</td>\n",
       "      <td>0.0</td>\n",
       "      <td>0.0</td>\n",
       "      <td>0.0</td>\n",
       "      <td>0.0</td>\n",
       "      <td>NaN</td>\n",
       "      <td>25.809999</td>\n",
       "      <td>NaN</td>\n",
       "      <td>120.0</td>\n",
       "      <td>684.0</td>\n",
       "      <td>680.0</td>\n",
       "      <td>C</td>\n",
       "      <td>RENT</td>\n",
       "      <td>NaN</td>\n",
       "      <td>F</td>\n",
       "      <td>NaN</td>\n",
       "      <td>NaN</td>\n",
       "      <td>0.0</td>\n",
       "      <td>326.523071</td>\n",
       "      <td>13.66</td>\n",
       "      <td>SOURCE_VERIFIED</td>\n",
       "      <td>NaN</td>\n",
       "      <td>9600.0</td>\n",
       "      <td>NaN</td>\n",
       "      <td>183.0</td>\n",
       "      <td>265.0</td>\n",
       "      <td>23.0</td>\n",
       "      <td>3.0</td>\n",
       "      <td>0.0</td>\n",
       "      <td>NaN</td>\n",
       "      <td>NaN</td>\n",
       "      <td>NaN</td>\n",
       "      <td>NaN</td>\n",
       "      <td>24.0</td>\n",
       "      <td>NaN</td>\n",
       "      <td>17.0</td>\n",
       "      <td>NaN</td>\n",
       "      <td>0.0</td>\n",
       "      <td>4.0</td>\n",
       "      <td>7.0</td>\n",
       "      <td>5.0</td>\n",
       "      <td>16.0</td>\n",
       "      <td>17.0</td>\n",
       "      <td>8.0</td>\n",
       "      <td>26.0</td>\n",
       "      <td>7.0</td>\n",
       "      <td>12.0</td>\n",
       "      <td>0.0</td>\n",
       "      <td>0.0</td>\n",
       "      <td>0.0</td>\n",
       "      <td>3.0</td>\n",
       "      <td>12.0</td>\n",
       "      <td>NaN</td>\n",
       "      <td>NaN</td>\n",
       "      <td>NaN</td>\n",
       "      <td>NaN</td>\n",
       "      <td>NaN</td>\n",
       "      <td>NaN</td>\n",
       "      <td>100.000000</td>\n",
       "      <td>60.0</td>\n",
       "      <td>0.0</td>\n",
       "      <td>0.0</td>\n",
       "      <td>debt_consolidation</td>\n",
       "      <td>16388.0</td>\n",
       "      <td>NaN</td>\n",
       "      <td>59.399998</td>\n",
       "      <td>NaN</td>\n",
       "      <td>NaN</td>\n",
       "      <td>NaN</td>\n",
       "      <td>NaN</td>\n",
       "      <td>NaN</td>\n",
       "      <td>NaN</td>\n",
       "      <td>NaN</td>\n",
       "      <td>NaN</td>\n",
       "      <td>NaN</td>\n",
       "      <td>NaN</td>\n",
       "      <td>NaN</td>\n",
       "      <td>C3</td>\n",
       "      <td>0.0</td>\n",
       "      <td>36.0</td>\n",
       "      <td>0.0</td>\n",
       "      <td>38566.0</td>\n",
       "      <td>52490.0</td>\n",
       "      <td>44.0</td>\n",
       "      <td>38566.0</td>\n",
       "      <td>NaN</td>\n",
       "      <td>21100.0</td>\n",
       "      <td>NaN</td>\n",
       "      <td>24890.0</td>\n",
       "      <td>27600.0</td>\n",
       "      <td>0.023378</td>\n",
       "      <td>1992.0</td>\n",
       "      <td>11.0</td>\n",
       "      <td>44.0</td>\n",
       "      <td>1.0</td>\n",
       "      <td>6.0</td>\n",
       "      <td>306.0</td>\n",
       "      <td>False</td>\n",
       "      <td>True</td>\n",
       "      <td>False</td>\n",
       "      <td>False</td>\n",
       "      <td>False</td>\n",
       "      <td>False</td>\n",
       "      <td>720576000</td>\n",
       "      <td>NaN</td>\n",
       "      <td>NaN</td>\n",
       "      <td>NaN</td>\n",
       "      <td>NaN</td>\n",
       "      <td>NaN</td>\n",
       "      <td>NaN</td>\n",
       "      <td>False</td>\n",
       "      <td>False</td>\n",
       "      <td>False</td>\n",
       "      <td>False</td>\n",
       "      <td>False</td>\n",
       "      <td>False</td>\n",
       "      <td>-9223372037</td>\n",
       "    </tr>\n",
       "    <tr>\n",
       "      <th>37662224</th>\n",
       "      <td>0.0</td>\n",
       "      <td>6.0</td>\n",
       "      <td>AZ</td>\n",
       "      <td>850xx</td>\n",
       "      <td>NaN</td>\n",
       "      <td>50000.0</td>\n",
       "      <td>NaN</td>\n",
       "      <td>INDIVIDUAL</td>\n",
       "      <td>5857.0</td>\n",
       "      <td>332.0</td>\n",
       "      <td>93.199997</td>\n",
       "      <td>0.0</td>\n",
       "      <td>0.0</td>\n",
       "      <td>0.0</td>\n",
       "      <td>0.0</td>\n",
       "      <td>NaN</td>\n",
       "      <td>34.810001</td>\n",
       "      <td>NaN</td>\n",
       "      <td>0.0</td>\n",
       "      <td>689.0</td>\n",
       "      <td>685.0</td>\n",
       "      <td>C</td>\n",
       "      <td>RENT</td>\n",
       "      <td>NaN</td>\n",
       "      <td>F</td>\n",
       "      <td>NaN</td>\n",
       "      <td>NaN</td>\n",
       "      <td>1.0</td>\n",
       "      <td>260.198079</td>\n",
       "      <td>13.66</td>\n",
       "      <td>SOURCE_VERIFIED</td>\n",
       "      <td>NaN</td>\n",
       "      <td>7650.0</td>\n",
       "      <td>NaN</td>\n",
       "      <td>137.0</td>\n",
       "      <td>148.0</td>\n",
       "      <td>8.0</td>\n",
       "      <td>8.0</td>\n",
       "      <td>0.0</td>\n",
       "      <td>NaN</td>\n",
       "      <td>NaN</td>\n",
       "      <td>NaN</td>\n",
       "      <td>NaN</td>\n",
       "      <td>17.0</td>\n",
       "      <td>NaN</td>\n",
       "      <td>3.0</td>\n",
       "      <td>NaN</td>\n",
       "      <td>0.0</td>\n",
       "      <td>1.0</td>\n",
       "      <td>4.0</td>\n",
       "      <td>1.0</td>\n",
       "      <td>4.0</td>\n",
       "      <td>12.0</td>\n",
       "      <td>4.0</td>\n",
       "      <td>8.0</td>\n",
       "      <td>4.0</td>\n",
       "      <td>11.0</td>\n",
       "      <td>0.0</td>\n",
       "      <td>0.0</td>\n",
       "      <td>0.0</td>\n",
       "      <td>2.0</td>\n",
       "      <td>11.0</td>\n",
       "      <td>NaN</td>\n",
       "      <td>NaN</td>\n",
       "      <td>NaN</td>\n",
       "      <td>NaN</td>\n",
       "      <td>NaN</td>\n",
       "      <td>NaN</td>\n",
       "      <td>100.000000</td>\n",
       "      <td>100.0</td>\n",
       "      <td>0.0</td>\n",
       "      <td>0.0</td>\n",
       "      <td>debt_consolidation</td>\n",
       "      <td>16822.0</td>\n",
       "      <td>NaN</td>\n",
       "      <td>91.900002</td>\n",
       "      <td>NaN</td>\n",
       "      <td>NaN</td>\n",
       "      <td>NaN</td>\n",
       "      <td>NaN</td>\n",
       "      <td>NaN</td>\n",
       "      <td>NaN</td>\n",
       "      <td>NaN</td>\n",
       "      <td>NaN</td>\n",
       "      <td>NaN</td>\n",
       "      <td>NaN</td>\n",
       "      <td>NaN</td>\n",
       "      <td>C3</td>\n",
       "      <td>0.0</td>\n",
       "      <td>36.0</td>\n",
       "      <td>0.0</td>\n",
       "      <td>64426.0</td>\n",
       "      <td>82331.0</td>\n",
       "      <td>20.0</td>\n",
       "      <td>64426.0</td>\n",
       "      <td>NaN</td>\n",
       "      <td>4900.0</td>\n",
       "      <td>NaN</td>\n",
       "      <td>64031.0</td>\n",
       "      <td>18300.0</td>\n",
       "      <td>-0.737756</td>\n",
       "      <td>2002.0</td>\n",
       "      <td>8.0</td>\n",
       "      <td>31.0</td>\n",
       "      <td>1.0</td>\n",
       "      <td>3.0</td>\n",
       "      <td>213.0</td>\n",
       "      <td>False</td>\n",
       "      <td>True</td>\n",
       "      <td>False</td>\n",
       "      <td>False</td>\n",
       "      <td>False</td>\n",
       "      <td>False</td>\n",
       "      <td>1028160000</td>\n",
       "      <td>NaN</td>\n",
       "      <td>NaN</td>\n",
       "      <td>NaN</td>\n",
       "      <td>NaN</td>\n",
       "      <td>NaN</td>\n",
       "      <td>NaN</td>\n",
       "      <td>False</td>\n",
       "      <td>False</td>\n",
       "      <td>False</td>\n",
       "      <td>False</td>\n",
       "      <td>False</td>\n",
       "      <td>False</td>\n",
       "      <td>-9223372037</td>\n",
       "    </tr>\n",
       "    <tr>\n",
       "      <th>37842129</th>\n",
       "      <td>0.0</td>\n",
       "      <td>4.0</td>\n",
       "      <td>MO</td>\n",
       "      <td>658xx</td>\n",
       "      <td>NaN</td>\n",
       "      <td>63800.0</td>\n",
       "      <td>NaN</td>\n",
       "      <td>INDIVIDUAL</td>\n",
       "      <td>4232.0</td>\n",
       "      <td>324.0</td>\n",
       "      <td>97.800003</td>\n",
       "      <td>0.0</td>\n",
       "      <td>0.0</td>\n",
       "      <td>0.0</td>\n",
       "      <td>0.0</td>\n",
       "      <td>NaN</td>\n",
       "      <td>18.490000</td>\n",
       "      <td>NaN</td>\n",
       "      <td>72.0</td>\n",
       "      <td>689.0</td>\n",
       "      <td>685.0</td>\n",
       "      <td>D</td>\n",
       "      <td>RENT</td>\n",
       "      <td>NaN</td>\n",
       "      <td>W</td>\n",
       "      <td>NaN</td>\n",
       "      <td>NaN</td>\n",
       "      <td>0.0</td>\n",
       "      <td>516.358535</td>\n",
       "      <td>15.59</td>\n",
       "      <td>SOURCE_VERIFIED</td>\n",
       "      <td>NaN</td>\n",
       "      <td>21425.0</td>\n",
       "      <td>NaN</td>\n",
       "      <td>135.0</td>\n",
       "      <td>136.0</td>\n",
       "      <td>7.0</td>\n",
       "      <td>7.0</td>\n",
       "      <td>0.0</td>\n",
       "      <td>60.0</td>\n",
       "      <td>74.0</td>\n",
       "      <td>NaN</td>\n",
       "      <td>NaN</td>\n",
       "      <td>7.0</td>\n",
       "      <td>60.0</td>\n",
       "      <td>7.0</td>\n",
       "      <td>60.0</td>\n",
       "      <td>1.0</td>\n",
       "      <td>3.0</td>\n",
       "      <td>4.0</td>\n",
       "      <td>3.0</td>\n",
       "      <td>12.0</td>\n",
       "      <td>16.0</td>\n",
       "      <td>5.0</td>\n",
       "      <td>18.0</td>\n",
       "      <td>4.0</td>\n",
       "      <td>10.0</td>\n",
       "      <td>0.0</td>\n",
       "      <td>0.0</td>\n",
       "      <td>0.0</td>\n",
       "      <td>2.0</td>\n",
       "      <td>10.0</td>\n",
       "      <td>NaN</td>\n",
       "      <td>NaN</td>\n",
       "      <td>NaN</td>\n",
       "      <td>NaN</td>\n",
       "      <td>NaN</td>\n",
       "      <td>NaN</td>\n",
       "      <td>91.400002</td>\n",
       "      <td>100.0</td>\n",
       "      <td>0.0</td>\n",
       "      <td>0.0</td>\n",
       "      <td>credit_card</td>\n",
       "      <td>16374.0</td>\n",
       "      <td>NaN</td>\n",
       "      <td>76.200005</td>\n",
       "      <td>NaN</td>\n",
       "      <td>NaN</td>\n",
       "      <td>NaN</td>\n",
       "      <td>NaN</td>\n",
       "      <td>NaN</td>\n",
       "      <td>NaN</td>\n",
       "      <td>NaN</td>\n",
       "      <td>NaN</td>\n",
       "      <td>NaN</td>\n",
       "      <td>NaN</td>\n",
       "      <td>NaN</td>\n",
       "      <td>D1</td>\n",
       "      <td>0.0</td>\n",
       "      <td>60.0</td>\n",
       "      <td>0.0</td>\n",
       "      <td>42315.0</td>\n",
       "      <td>57073.0</td>\n",
       "      <td>35.0</td>\n",
       "      <td>42315.0</td>\n",
       "      <td>NaN</td>\n",
       "      <td>15000.0</td>\n",
       "      <td>NaN</td>\n",
       "      <td>35573.0</td>\n",
       "      <td>21500.0</td>\n",
       "      <td>0.102723</td>\n",
       "      <td>2003.0</td>\n",
       "      <td>8.0</td>\n",
       "      <td>31.0</td>\n",
       "      <td>1.0</td>\n",
       "      <td>4.0</td>\n",
       "      <td>213.0</td>\n",
       "      <td>False</td>\n",
       "      <td>True</td>\n",
       "      <td>False</td>\n",
       "      <td>False</td>\n",
       "      <td>False</td>\n",
       "      <td>False</td>\n",
       "      <td>1059696000</td>\n",
       "      <td>NaN</td>\n",
       "      <td>NaN</td>\n",
       "      <td>NaN</td>\n",
       "      <td>NaN</td>\n",
       "      <td>NaN</td>\n",
       "      <td>NaN</td>\n",
       "      <td>False</td>\n",
       "      <td>False</td>\n",
       "      <td>False</td>\n",
       "      <td>False</td>\n",
       "      <td>False</td>\n",
       "      <td>False</td>\n",
       "      <td>-9223372037</td>\n",
       "    </tr>\n",
       "  </tbody>\n",
       "</table>\n",
       "</div>"
      ],
      "text/plain": [
       "          acc_now_delinq  acc_open_past_24_mths addr_state addr_zip  all_util  \\\n",
       "id                                                                              \n",
       "36805548             0.0                    7.0         CA    937xx       NaN   \n",
       "38098114             0.0                    5.0         VA    235xx       NaN   \n",
       "37822187             0.0                    8.0         NJ    077xx       NaN   \n",
       "37662224             0.0                    6.0         AZ    850xx       NaN   \n",
       "37842129             0.0                    4.0         MO    658xx       NaN   \n",
       "\n",
       "          annual_inc  annual_inc_joint application_type  avg_cur_bal  \\\n",
       "id                                                                     \n",
       "36805548     58000.0               NaN       INDIVIDUAL       9536.0   \n",
       "38098114     78000.0               NaN       INDIVIDUAL      29828.0   \n",
       "37822187     69000.0               NaN       INDIVIDUAL       3214.0   \n",
       "37662224     50000.0               NaN       INDIVIDUAL       5857.0   \n",
       "37842129     63800.0               NaN       INDIVIDUAL       4232.0   \n",
       "\n",
       "          bc_open_to_buy    bc_util  chargeoff_within_12_mths  \\\n",
       "id                                                              \n",
       "36805548          7599.0  41.500000                       0.0   \n",
       "38098114          9525.0   4.700000                       0.0   \n",
       "37822187          6494.0  69.199997                       0.0   \n",
       "37662224           332.0  93.199997                       0.0   \n",
       "37842129           324.0  97.800003                       0.0   \n",
       "\n",
       "          collections_12_mths_ex_med  delinq_2_yrs  delinq_amnt  \\\n",
       "id                                                                \n",
       "36805548                         0.0           0.0          0.0   \n",
       "38098114                         0.0           0.0          0.0   \n",
       "37822187                         0.0           0.0          0.0   \n",
       "37662224                         0.0           0.0          0.0   \n",
       "37842129                         0.0           0.0          0.0   \n",
       "\n",
       "         disbursement_method        dti  dti_joint  emp_length  \\\n",
       "id                                                               \n",
       "36805548                 NaN  14.920000        NaN        96.0   \n",
       "38098114                 NaN  12.030000        NaN       120.0   \n",
       "37822187                 NaN  25.809999        NaN       120.0   \n",
       "37662224                 NaN  34.810001        NaN         0.0   \n",
       "37842129                 NaN  18.490000        NaN        72.0   \n",
       "\n",
       "          fico_range_high  fico_range_low grade home_ownership  i_l_util  \\\n",
       "id                                                                         \n",
       "36805548            714.0           710.0     A       MORTGAGE       NaN   \n",
       "38098114            754.0           750.0     C           RENT       NaN   \n",
       "37822187            684.0           680.0     C           RENT       NaN   \n",
       "37662224            689.0           685.0     C           RENT       NaN   \n",
       "37842129            689.0           685.0     D           RENT       NaN   \n",
       "\n",
       "         initial_list_status  inq_fi  inq_last_12m  inq_last_6_mths  \\\n",
       "id                                                                    \n",
       "36805548                   W     NaN           NaN              2.0   \n",
       "38098114                   W     NaN           NaN              0.0   \n",
       "37822187                   F     NaN           NaN              0.0   \n",
       "37662224                   F     NaN           NaN              1.0   \n",
       "37842129                   W     NaN           NaN              0.0   \n",
       "\n",
       "          installment  int_rate         is_inc_v is_inc_v_joint  loan_amount  \\\n",
       "id                                                                             \n",
       "36805548   321.072130      6.99     NOT_VERIFIED            NaN      10400.0   \n",
       "38098114   336.631520     12.39  SOURCE_VERIFIED            NaN      15000.0   \n",
       "37822187   326.523071     13.66  SOURCE_VERIFIED            NaN       9600.0   \n",
       "37662224   260.198079     13.66  SOURCE_VERIFIED            NaN       7650.0   \n",
       "37842129   516.358535     15.59  SOURCE_VERIFIED            NaN      21425.0   \n",
       "\n",
       "          max_bal_bc  mo_sin_old_il_acct  mo_sin_old_rev_tl_op  \\\n",
       "id                                                               \n",
       "36805548         NaN                76.0                 290.0   \n",
       "38098114         NaN               103.0                 244.0   \n",
       "37822187         NaN               183.0                 265.0   \n",
       "37662224         NaN               137.0                 148.0   \n",
       "37842129         NaN               135.0                 136.0   \n",
       "\n",
       "          mo_sin_rcnt_rev_tl_op  mo_sin_rcnt_tl  mort_acc  \\\n",
       "id                                                          \n",
       "36805548                    1.0             1.0       1.0   \n",
       "38098114                    1.0             1.0       0.0   \n",
       "37822187                   23.0             3.0       0.0   \n",
       "37662224                    8.0             8.0       0.0   \n",
       "37842129                    7.0             7.0       0.0   \n",
       "\n",
       "          mths_since_last_delinq  mths_since_last_major_derog  \\\n",
       "id                                                              \n",
       "36805548                    42.0                         59.0   \n",
       "38098114                     NaN                          NaN   \n",
       "37822187                     NaN                          NaN   \n",
       "37662224                     NaN                          NaN   \n",
       "37842129                    60.0                         74.0   \n",
       "\n",
       "          mths_since_last_record  mths_since_rcnt_il  mths_since_recent_bc  \\\n",
       "id                                                                           \n",
       "36805548                     NaN                 NaN                   5.0   \n",
       "38098114                     NaN                 NaN                  47.0   \n",
       "37822187                     NaN                 NaN                  24.0   \n",
       "37662224                     NaN                 NaN                  17.0   \n",
       "37842129                     NaN                 NaN                   7.0   \n",
       "\n",
       "          mths_since_recent_bc_dlq  mths_since_recent_inq  \\\n",
       "id                                                          \n",
       "36805548                      42.0                    1.0   \n",
       "38098114                       NaN                    NaN   \n",
       "37822187                       NaN                   17.0   \n",
       "37662224                       NaN                    3.0   \n",
       "37842129                      60.0                    7.0   \n",
       "\n",
       "          mths_since_recent_revol_delinq  num_accts_ever_12_0_ppd  \\\n",
       "id                                                                  \n",
       "36805548                            42.0                      4.0   \n",
       "38098114                             NaN                      0.0   \n",
       "37822187                             NaN                      0.0   \n",
       "37662224                             NaN                      0.0   \n",
       "37842129                            60.0                      1.0   \n",
       "\n",
       "          num_actv_bc_tl  num_actv_rev_tl  num_bc_sats  num_bc_tl  num_il_tl  \\\n",
       "id                                                                             \n",
       "36805548             6.0              9.0          7.0       18.0        2.0   \n",
       "38098114             1.0              4.0          1.0        2.0        8.0   \n",
       "37822187             4.0              7.0          5.0       16.0       17.0   \n",
       "37662224             1.0              4.0          1.0        4.0       12.0   \n",
       "37842129             3.0              4.0          3.0       12.0       16.0   \n",
       "\n",
       "          num_op_rev_tl  num_rev_accts  num_rev_tl_bal_gt_0  num_sats  \\\n",
       "id                                                                      \n",
       "36805548           14.0           32.0                  9.0      17.0   \n",
       "38098114            5.0            9.0                  4.0       6.0   \n",
       "37822187            8.0           26.0                  7.0      12.0   \n",
       "37662224            4.0            8.0                  4.0      11.0   \n",
       "37842129            5.0           18.0                  4.0      10.0   \n",
       "\n",
       "          num_tl_12_0dpd_2m  num_tl_30dpd  num_tl_90g_dpd_24m  \\\n",
       "id                                                              \n",
       "36805548                0.0           0.0                 0.0   \n",
       "38098114                0.0           0.0                 0.0   \n",
       "37822187                0.0           0.0                 0.0   \n",
       "37662224                0.0           0.0                 0.0   \n",
       "37842129                0.0           0.0                 0.0   \n",
       "\n",
       "          num_tl_op_past_12m  open_acc  open_acc_6m  open_act_il  open_il_12m  \\\n",
       "id                                                                              \n",
       "36805548                 4.0      17.0          NaN          NaN          NaN   \n",
       "38098114                 4.0       6.0          NaN          NaN          NaN   \n",
       "37822187                 3.0      12.0          NaN          NaN          NaN   \n",
       "37662224                 2.0      11.0          NaN          NaN          NaN   \n",
       "37842129                 2.0      10.0          NaN          NaN          NaN   \n",
       "\n",
       "          open_il_24m  open_rv_12m  open_rv_24m  pct_tl_nvr_dlq  \\\n",
       "id                                                                \n",
       "36805548          NaN          NaN          NaN       83.300003   \n",
       "38098114          NaN          NaN          NaN      100.000000   \n",
       "37822187          NaN          NaN          NaN      100.000000   \n",
       "37662224          NaN          NaN          NaN      100.000000   \n",
       "37842129          NaN          NaN          NaN       91.400002   \n",
       "\n",
       "          percent_bc_gt_75  pub_rec  pub_rec_bankruptcies             purpose  \\\n",
       "id                                                                              \n",
       "36805548              14.3      0.0                   0.0         credit_card   \n",
       "38098114               0.0      0.0                   0.0  debt_consolidation   \n",
       "37822187              60.0      0.0                   0.0  debt_consolidation   \n",
       "37662224             100.0      0.0                   0.0  debt_consolidation   \n",
       "37842129             100.0      0.0                   0.0         credit_card   \n",
       "\n",
       "          revol_bal  revol_bal_joint  revol_util  \\\n",
       "id                                                 \n",
       "36805548     6133.0              NaN   31.600002   \n",
       "38098114   138008.0              NaN   29.000000   \n",
       "37822187    16388.0              NaN   59.399998   \n",
       "37662224    16822.0              NaN   91.900002   \n",
       "37842129    16374.0              NaN   76.200005   \n",
       "\n",
       "          sec_app_chargeoff_within_12_mths  \\\n",
       "id                                           \n",
       "36805548                               NaN   \n",
       "38098114                               NaN   \n",
       "37822187                               NaN   \n",
       "37662224                               NaN   \n",
       "37842129                               NaN   \n",
       "\n",
       "          sec_app_collections_12_mths_ex_med  sec_app_fico_range_high  \\\n",
       "id                                                                      \n",
       "36805548                                 NaN                      NaN   \n",
       "38098114                                 NaN                      NaN   \n",
       "37822187                                 NaN                      NaN   \n",
       "37662224                                 NaN                      NaN   \n",
       "37842129                                 NaN                      NaN   \n",
       "\n",
       "          sec_app_fico_range_low  sec_app_inq_last_6_mths  sec_app_mort_acc  \\\n",
       "id                                                                            \n",
       "36805548                     NaN                      NaN               NaN   \n",
       "38098114                     NaN                      NaN               NaN   \n",
       "37822187                     NaN                      NaN               NaN   \n",
       "37662224                     NaN                      NaN               NaN   \n",
       "37842129                     NaN                      NaN               NaN   \n",
       "\n",
       "          sec_app_mths_since_last_major_derog  sec_app_num_rev_accts  \\\n",
       "id                                                                     \n",
       "36805548                                  NaN                    NaN   \n",
       "38098114                                  NaN                    NaN   \n",
       "37822187                                  NaN                    NaN   \n",
       "37662224                                  NaN                    NaN   \n",
       "37842129                                  NaN                    NaN   \n",
       "\n",
       "          sec_app_open_acc  sec_app_open_act_il  sec_app_revol_util sub_grade  \\\n",
       "id                                                                              \n",
       "36805548               NaN                  NaN                 NaN        A3   \n",
       "38098114               NaN                  NaN                 NaN        C1   \n",
       "37822187               NaN                  NaN                 NaN        C3   \n",
       "37662224               NaN                  NaN                 NaN        C3   \n",
       "37842129               NaN                  NaN                 NaN        D1   \n",
       "\n",
       "          tax_liens  term  tot_coll_amt  tot_cur_bal  tot_hi_cred_lim  \\\n",
       "id                                                                      \n",
       "36805548        0.0  36.0           0.0     162110.0         179407.0   \n",
       "38098114        0.0  60.0           0.0     149140.0         196500.0   \n",
       "37822187        0.0  36.0           0.0      38566.0          52490.0   \n",
       "37662224        0.0  36.0           0.0      64426.0          82331.0   \n",
       "37842129        0.0  60.0           0.0      42315.0          57073.0   \n",
       "\n",
       "          total_acc  total_bal_ex_mort  total_bal_il  total_bc_limit  \\\n",
       "id                                                                     \n",
       "36805548       36.0            15030.0           NaN         13000.0   \n",
       "38098114       17.0           149140.0           NaN         10000.0   \n",
       "37822187       44.0            38566.0           NaN         21100.0   \n",
       "37662224       20.0            64426.0           NaN          4900.0   \n",
       "37842129       35.0            42315.0           NaN         15000.0   \n",
       "\n",
       "          total_cu_tl  total_il_high_credit_limit  total_rev_hi_lim         y  \\\n",
       "id                                                                              \n",
       "36805548          NaN                     11325.0           19400.0 -0.410322   \n",
       "38098114          NaN                     12000.0          184500.0  0.068541   \n",
       "37822187          NaN                     24890.0           27600.0  0.023378   \n",
       "37662224          NaN                     64031.0           18300.0 -0.737756   \n",
       "37842129          NaN                     35573.0           21500.0  0.102723   \n",
       "\n",
       "          earliest_cr_lineYear  earliest_cr_lineMonth  earliest_cr_lineWeek  \\\n",
       "id                                                                            \n",
       "36805548                1989.0                    9.0                  35.0   \n",
       "38098114                1994.0                    8.0                  31.0   \n",
       "37822187                1992.0                   11.0                  44.0   \n",
       "37662224                2002.0                    8.0                  31.0   \n",
       "37842129                2003.0                    8.0                  31.0   \n",
       "\n",
       "          earliest_cr_lineDay  earliest_cr_lineDayofweek  \\\n",
       "id                                                         \n",
       "36805548                  1.0                        4.0   \n",
       "38098114                  1.0                        0.0   \n",
       "37822187                  1.0                        6.0   \n",
       "37662224                  1.0                        3.0   \n",
       "37842129                  1.0                        4.0   \n",
       "\n",
       "          earliest_cr_lineDayofyear  earliest_cr_lineIs_month_end  \\\n",
       "id                                                                  \n",
       "36805548                      244.0                         False   \n",
       "38098114                      213.0                         False   \n",
       "37822187                      306.0                         False   \n",
       "37662224                      213.0                         False   \n",
       "37842129                      213.0                         False   \n",
       "\n",
       "          earliest_cr_lineIs_month_start  earliest_cr_lineIs_quarter_end  \\\n",
       "id                                                                         \n",
       "36805548                            True                           False   \n",
       "38098114                            True                           False   \n",
       "37822187                            True                           False   \n",
       "37662224                            True                           False   \n",
       "37842129                            True                           False   \n",
       "\n",
       "          earliest_cr_lineIs_quarter_start  earliest_cr_lineIs_year_end  \\\n",
       "id                                                                        \n",
       "36805548                             False                        False   \n",
       "38098114                             False                        False   \n",
       "37822187                             False                        False   \n",
       "37662224                             False                        False   \n",
       "37842129                             False                        False   \n",
       "\n",
       "          earliest_cr_lineIs_year_start  earliest_cr_lineElapsed  \\\n",
       "id                                                                 \n",
       "36805548                          False                620611200   \n",
       "38098114                          False                775699200   \n",
       "37822187                          False                720576000   \n",
       "37662224                          False               1028160000   \n",
       "37842129                          False               1059696000   \n",
       "\n",
       "          sec_app_earliest_cr_lineYear  sec_app_earliest_cr_lineMonth  \\\n",
       "id                                                                      \n",
       "36805548                           NaN                            NaN   \n",
       "38098114                           NaN                            NaN   \n",
       "37822187                           NaN                            NaN   \n",
       "37662224                           NaN                            NaN   \n",
       "37842129                           NaN                            NaN   \n",
       "\n",
       "          sec_app_earliest_cr_lineWeek  sec_app_earliest_cr_lineDay  \\\n",
       "id                                                                    \n",
       "36805548                           NaN                          NaN   \n",
       "38098114                           NaN                          NaN   \n",
       "37822187                           NaN                          NaN   \n",
       "37662224                           NaN                          NaN   \n",
       "37842129                           NaN                          NaN   \n",
       "\n",
       "          sec_app_earliest_cr_lineDayofweek  \\\n",
       "id                                            \n",
       "36805548                                NaN   \n",
       "38098114                                NaN   \n",
       "37822187                                NaN   \n",
       "37662224                                NaN   \n",
       "37842129                                NaN   \n",
       "\n",
       "          sec_app_earliest_cr_lineDayofyear  \\\n",
       "id                                            \n",
       "36805548                                NaN   \n",
       "38098114                                NaN   \n",
       "37822187                                NaN   \n",
       "37662224                                NaN   \n",
       "37842129                                NaN   \n",
       "\n",
       "          sec_app_earliest_cr_lineIs_month_end  \\\n",
       "id                                               \n",
       "36805548                                 False   \n",
       "38098114                                 False   \n",
       "37822187                                 False   \n",
       "37662224                                 False   \n",
       "37842129                                 False   \n",
       "\n",
       "          sec_app_earliest_cr_lineIs_month_start  \\\n",
       "id                                                 \n",
       "36805548                                   False   \n",
       "38098114                                   False   \n",
       "37822187                                   False   \n",
       "37662224                                   False   \n",
       "37842129                                   False   \n",
       "\n",
       "          sec_app_earliest_cr_lineIs_quarter_end  \\\n",
       "id                                                 \n",
       "36805548                                   False   \n",
       "38098114                                   False   \n",
       "37822187                                   False   \n",
       "37662224                                   False   \n",
       "37842129                                   False   \n",
       "\n",
       "          sec_app_earliest_cr_lineIs_quarter_start  \\\n",
       "id                                                   \n",
       "36805548                                     False   \n",
       "38098114                                     False   \n",
       "37822187                                     False   \n",
       "37662224                                     False   \n",
       "37842129                                     False   \n",
       "\n",
       "          sec_app_earliest_cr_lineIs_year_end  \\\n",
       "id                                              \n",
       "36805548                                False   \n",
       "38098114                                False   \n",
       "37822187                                False   \n",
       "37662224                                False   \n",
       "37842129                                False   \n",
       "\n",
       "          sec_app_earliest_cr_lineIs_year_start  \\\n",
       "id                                                \n",
       "36805548                                  False   \n",
       "38098114                                  False   \n",
       "37822187                                  False   \n",
       "37662224                                  False   \n",
       "37842129                                  False   \n",
       "\n",
       "          sec_app_earliest_cr_lineElapsed  \n",
       "id                                         \n",
       "36805548                      -9223372037  \n",
       "38098114                      -9223372037  \n",
       "37822187                      -9223372037  \n",
       "37662224                      -9223372037  \n",
       "37842129                      -9223372037  "
      ]
     },
     "execution_count": 42,
     "metadata": {},
     "output_type": "execute_result"
    }
   ],
   "source": [
    "train.head()"
   ]
  },
  {
   "cell_type": "code",
   "execution_count": 45,
   "metadata": {
    "ExecuteTime": {
     "end_time": "2018-03-17T19:19:47.489938Z",
     "start_time": "2018-03-17T19:19:47.464307Z"
    }
   },
   "outputs": [
    {
     "data": {
      "text/plain": [
       "Index(['DIRECT_PAY', 'INDIVIDUAL', 'JOINT'], dtype='object')"
      ]
     },
     "execution_count": 45,
     "metadata": {},
     "output_type": "execute_result"
    }
   ],
   "source": [
    "train['application_type'].cat.categories"
   ]
  },
  {
   "cell_type": "code",
   "execution_count": 47,
   "metadata": {
    "ExecuteTime": {
     "end_time": "2018-03-17T19:21:35.269441Z",
     "start_time": "2018-03-17T19:21:35.242875Z"
    }
   },
   "outputs": [
    {
     "data": {
      "text/plain": [
       "(753098, 220)"
      ]
     },
     "execution_count": 47,
     "metadata": {},
     "output_type": "execute_result"
    }
   ],
   "source": [
    "X_train.shape"
   ]
  },
  {
   "cell_type": "code",
   "execution_count": 22,
   "metadata": {
    "ExecuteTime": {
     "end_time": "2018-03-15T03:50:02.138791Z",
     "start_time": "2018-03-15T03:49:57.496333Z"
    },
    "scrolled": true
   },
   "outputs": [],
   "source": [
    "# X_train, y_train, nas_train, mean_stdev_mapper = proc_df(train, 'y', do_scale=True)\n",
    "X_train, y_train, nas, embeddings, train_cols_meds, cols, mean_stdev_mapper = proc_df_justin(train, 'y', valid_test = False, do_scale=True)\n",
    "X_valid, y_valid, nas, _, mean_stdev_mapper = proc_df_justin(valid, 'y', valid_test = True, do_scale=True, na_dict=nas, mapper = mean_stdev_mapper, train_cols_meds=train_cols_meds, cols=cols)\n",
    "X_test, y_test, nas, _, mean_stdev_mapper = proc_df_justin(test, 'y', valid_test = True, do_scale=True, na_dict=nas, mapper = mean_stdev_mapper, train_cols_meds=train_cols_meds, cols=cols)"
   ]
  },
  {
   "cell_type": "code",
   "execution_count": 23,
   "metadata": {
    "ExecuteTime": {
     "end_time": "2018-03-15T03:50:02.157413Z",
     "start_time": "2018-03-15T03:50:02.140738Z"
    }
   },
   "outputs": [
    {
     "data": {
      "text/plain": [
       "[('addr_state', 52),\n",
       " ('addr_zip', 952),\n",
       " ('application_type', 4),\n",
       " ('disbursement_method', 3),\n",
       " ('grade', 8),\n",
       " ('home_ownership', 7),\n",
       " ('initial_list_status', 3),\n",
       " ('is_inc_v', 4),\n",
       " ('is_inc_v_joint', 4),\n",
       " ('purpose', 15),\n",
       " ('sub_grade', 36)]"
      ]
     },
     "execution_count": 23,
     "metadata": {},
     "output_type": "execute_result"
    }
   ],
   "source": [
    "embeddings"
   ]
  },
  {
   "cell_type": "code",
   "execution_count": 24,
   "metadata": {
    "ExecuteTime": {
     "end_time": "2018-03-15T03:50:02.695459Z",
     "start_time": "2018-03-15T03:50:02.158759Z"
    }
   },
   "outputs": [],
   "source": [
    "col = 'bc_util'\n",
    "assert X_train[train[col].isnull()][col].unique() == X_valid[valid[col].isnull()][col].unique()"
   ]
  },
  {
   "cell_type": "markdown",
   "metadata": {},
   "source": [
    "# saving all the dataframes"
   ]
  },
  {
   "cell_type": "code",
   "execution_count": 25,
   "metadata": {
    "ExecuteTime": {
     "end_time": "2018-03-15T03:50:03.101576Z",
     "start_time": "2018-03-15T03:50:02.697360Z"
    }
   },
   "outputs": [],
   "source": [
    "# for saving\n",
    "PATH_NN = f'{datapath}{platform}/NN/'\n",
    "PATH_RF = f'{datapath}{platform}/RF/'\n",
    "data_save_path = f'{datapath}{platform}/'\n",
    "X_train.to_pickle(data_save_path+'X_train.pkl')\n",
    "pd.Series(y_train).to_pickle(data_save_path+'y_train.pkl')\n",
    "X_valid.to_pickle(data_save_path+'X_valid.pkl')\n",
    "pd.Series(y_valid).to_pickle(data_save_path+'y_valid.pkl')\n",
    "X_test.to_pickle(data_save_path+'X_test.pkl')\n",
    "pd.Series(y_test).to_pickle(data_save_path+'y_test.pkl')"
   ]
  },
  {
   "cell_type": "markdown",
   "metadata": {},
   "source": [
    "# Random Forest (chosen with same hyperparams from randomsearch)"
   ]
  },
  {
   "cell_type": "code",
   "execution_count": null,
   "metadata": {},
   "outputs": [],
   "source": [
    "training_type = 'testing'\n",
    "PATH_NN = f'{datapath}{platform}/NN/'\n",
    "PATH_RF = f'{datapath}{platform}/RF/'\n",
    "data_save_path = f'{datapath}{platform}/'\n",
    "if training_type == 'testing':\n",
    "    X_train = pd.read_pickle(data_save_path+'X_train.pkl')\n",
    "    y_train = pd.read_pickle(data_save_path+'y_train.pkl')\n",
    "    X_valid = pd.read_pickle(data_save_path+'X_valid.pkl')\n",
    "    y_valid = pd.read_pickle(data_save_path+'y_valid.pkl')\n",
    "    X_test = pd.read_pickle(data_save_path+'X_test.pkl')\n",
    "    y_test = pd.read_pickle(data_save_path+'y_test.pkl')"
   ]
  },
  {
   "cell_type": "code",
   "execution_count": 27,
   "metadata": {
    "ExecuteTime": {
     "end_time": "2018-03-15T03:50:07.402792Z",
     "start_time": "2018-03-15T03:50:07.387114Z"
    }
   },
   "outputs": [],
   "source": [
    "set_rf_samples(20000)"
   ]
  },
  {
   "cell_type": "code",
   "execution_count": 28,
   "metadata": {
    "ExecuteTime": {
     "end_time": "2018-03-15T03:50:21.636116Z",
     "start_time": "2018-03-15T03:50:07.404273Z"
    }
   },
   "outputs": [
    {
     "data": {
      "text/plain": [
       "0.088493491192381923"
      ]
     },
     "execution_count": 28,
     "metadata": {},
     "output_type": "execute_result"
    }
   ],
   "source": [
    "RF = RandomForestRegressor(\n",
    "    n_estimators=154,\n",
    "    random_state=0,\n",
    "    max_features=min(X_train.shape[1],50),\n",
    "    min_samples_split=200,\n",
    "    min_samples_leaf=10,\n",
    "    n_jobs=-1,\n",
    "    oob_score=True,\n",
    "    bootstrap=True,\n",
    "    criterion='mse',\n",
    ")\n",
    "RF.fit(X_train,y_train)\n",
    "RF.score(X_train,y_train)"
   ]
  },
  {
   "cell_type": "code",
   "execution_count": 29,
   "metadata": {
    "ExecuteTime": {
     "end_time": "2018-03-15T03:50:21.656099Z",
     "start_time": "2018-03-15T03:50:21.637846Z"
    }
   },
   "outputs": [],
   "source": [
    "def print_score(m):\n",
    "    res = [mean_squared_error(m.predict(X_train), y_train), mean_squared_error(m.predict(X_valid), y_valid),\n",
    "                m.score(X_train, y_train), m.score(X_valid, y_valid)]\n",
    "    if hasattr(m, 'oob_score_'): res.append(m.oob_score_)\n",
    "    print(res)"
   ]
  },
  {
   "cell_type": "code",
   "execution_count": 30,
   "metadata": {
    "ExecuteTime": {
     "end_time": "2018-03-15T03:50:23.728382Z",
     "start_time": "2018-03-15T03:50:21.658004Z"
    }
   },
   "outputs": [
    {
     "name": "stdout",
     "output_type": "stream",
     "text": [
      "[0.063644100818135582, 0.051635573794506368, 0.088493491192381923, 0.020868897338647718, 0.058405161318308862]\n"
     ]
    }
   ],
   "source": [
    "if training_type == 'testing':\n",
    "    print_score(RF)"
   ]
  },
  {
   "cell_type": "code",
   "execution_count": 31,
   "metadata": {
    "ExecuteTime": {
     "end_time": "2018-03-15T03:50:23.954955Z",
     "start_time": "2018-03-15T03:50:23.730953Z"
    }
   },
   "outputs": [],
   "source": [
    "# evaling\n",
    "yhat_test_RF = RF.predict(X_test)"
   ]
  },
  {
   "cell_type": "code",
   "execution_count": 32,
   "metadata": {
    "ExecuteTime": {
     "end_time": "2018-03-15T03:50:59.054971Z",
     "start_time": "2018-03-15T03:50:23.957986Z"
    },
    "scrolled": false
   },
   "outputs": [
    {
     "data": {
      "application/vnd.jupyter.widget-view+json": {
       "model_id": "4e8b2f900cd24322a1dcf047f4c0101f",
       "version_major": 2,
       "version_minor": 0
      },
      "text/plain": [
       "A Jupyter Widget"
      ]
     },
     "metadata": {},
     "output_type": "display_data"
    },
    {
     "name": "stderr",
     "output_type": "stream",
     "text": [
      "/home/justin/anaconda3/lib/python3.6/site-packages/ipykernel_launcher.py:171: DeprecationWarning: \n",
      ".ix is deprecated. Please use\n",
      ".loc for label based indexing or\n",
      ".iloc for positional indexing\n",
      "\n",
      "See the documentation here:\n",
      "http://pandas.pydata.org/pandas-docs/stable/indexing.html#ix-indexer-is-deprecated\n"
     ]
    },
    {
     "name": "stdout",
     "output_type": "stream",
     "text": [
      "\n"
     ]
    }
   ],
   "source": [
    "regr_version_RF = '0.2.2'\n",
    "trials = 30000\n",
    "port_size = 150\n",
    "available_loans = 500\n",
    "results = eval_models(trials, port_size, available_loans, regr_version_RF, X_test=X_test, y_test=y_test, default_series=default_series, yhat_test=yhat_test_RF) #regr_std, "
   ]
  },
  {
   "cell_type": "code",
   "execution_count": 34,
   "metadata": {
    "ExecuteTime": {
     "end_time": "2018-03-15T03:56:33.354516Z",
     "start_time": "2018-03-15T03:56:33.278227Z"
    }
   },
   "outputs": [
    {
     "data": {
      "text/html": [
       "<div>\n",
       "<style scoped>\n",
       "    .dataframe tbody tr th:only-of-type {\n",
       "        vertical-align: middle;\n",
       "    }\n",
       "\n",
       "    .dataframe tbody tr th {\n",
       "        vertical-align: top;\n",
       "    }\n",
       "\n",
       "    .dataframe thead tr th {\n",
       "        text-align: left;\n",
       "    }\n",
       "</style>\n",
       "<table border=\"1\" class=\"dataframe\">\n",
       "  <thead>\n",
       "    <tr>\n",
       "      <th>discount_rate</th>\n",
       "      <th colspan=\"2\" halign=\"left\">baseline</th>\n",
       "      <th colspan=\"2\" halign=\"left\">A</th>\n",
       "      <th colspan=\"2\" halign=\"left\">0.2.2</th>\n",
       "    </tr>\n",
       "    <tr>\n",
       "      <th>model</th>\n",
       "      <th>0.07</th>\n",
       "      <th>pct_def</th>\n",
       "      <th>0.07</th>\n",
       "      <th>pct_def</th>\n",
       "      <th>0.07</th>\n",
       "      <th>pct_def</th>\n",
       "    </tr>\n",
       "  </thead>\n",
       "  <tbody>\n",
       "    <tr>\n",
       "      <th>count</th>\n",
       "      <td>30000.000000</td>\n",
       "      <td>30000.000000</td>\n",
       "      <td>30000.000000</td>\n",
       "      <td>30000.000000</td>\n",
       "      <td>30000.000000</td>\n",
       "      <td>30000.000000</td>\n",
       "    </tr>\n",
       "    <tr>\n",
       "      <th>mean</th>\n",
       "      <td>-0.056679</td>\n",
       "      <td>0.193342</td>\n",
       "      <td>-0.033183</td>\n",
       "      <td>0.073307</td>\n",
       "      <td>-0.026944</td>\n",
       "      <td>0.114903</td>\n",
       "    </tr>\n",
       "    <tr>\n",
       "      <th>std</th>\n",
       "      <td>0.018726</td>\n",
       "      <td>0.032075</td>\n",
       "      <td>0.011064</td>\n",
       "      <td>0.021000</td>\n",
       "      <td>0.013901</td>\n",
       "      <td>0.025692</td>\n",
       "    </tr>\n",
       "    <tr>\n",
       "      <th>min</th>\n",
       "      <td>-0.138537</td>\n",
       "      <td>0.080000</td>\n",
       "      <td>-0.083743</td>\n",
       "      <td>0.000000</td>\n",
       "      <td>-0.091100</td>\n",
       "      <td>0.026667</td>\n",
       "    </tr>\n",
       "    <tr>\n",
       "      <th>25%</th>\n",
       "      <td>-0.069253</td>\n",
       "      <td>0.173333</td>\n",
       "      <td>-0.040308</td>\n",
       "      <td>0.060000</td>\n",
       "      <td>-0.036045</td>\n",
       "      <td>0.100000</td>\n",
       "    </tr>\n",
       "    <tr>\n",
       "      <th>50%</th>\n",
       "      <td>-0.056113</td>\n",
       "      <td>0.193333</td>\n",
       "      <td>-0.032622</td>\n",
       "      <td>0.073333</td>\n",
       "      <td>-0.026377</td>\n",
       "      <td>0.113333</td>\n",
       "    </tr>\n",
       "    <tr>\n",
       "      <th>75%</th>\n",
       "      <td>-0.043736</td>\n",
       "      <td>0.213333</td>\n",
       "      <td>-0.025429</td>\n",
       "      <td>0.086667</td>\n",
       "      <td>-0.017215</td>\n",
       "      <td>0.133333</td>\n",
       "    </tr>\n",
       "    <tr>\n",
       "      <th>max</th>\n",
       "      <td>0.014205</td>\n",
       "      <td>0.333333</td>\n",
       "      <td>0.001738</td>\n",
       "      <td>0.166667</td>\n",
       "      <td>0.020718</td>\n",
       "      <td>0.226667</td>\n",
       "    </tr>\n",
       "  </tbody>\n",
       "</table>\n",
       "</div>"
      ],
      "text/plain": [
       "discount_rate      baseline                           A                \\\n",
       "model                  0.07       pct_def          0.07       pct_def   \n",
       "count          30000.000000  30000.000000  30000.000000  30000.000000   \n",
       "mean              -0.056679      0.193342     -0.033183      0.073307   \n",
       "std                0.018726      0.032075      0.011064      0.021000   \n",
       "min               -0.138537      0.080000     -0.083743      0.000000   \n",
       "25%               -0.069253      0.173333     -0.040308      0.060000   \n",
       "50%               -0.056113      0.193333     -0.032622      0.073333   \n",
       "75%               -0.043736      0.213333     -0.025429      0.086667   \n",
       "max                0.014205      0.333333      0.001738      0.166667   \n",
       "\n",
       "discount_rate         0.2.2                \n",
       "model                  0.07       pct_def  \n",
       "count          30000.000000  30000.000000  \n",
       "mean              -0.026944      0.114903  \n",
       "std                0.013901      0.025692  \n",
       "min               -0.091100      0.026667  \n",
       "25%               -0.036045      0.100000  \n",
       "50%               -0.026377      0.113333  \n",
       "75%               -0.017215      0.133333  \n",
       "max                0.020718      0.226667  "
      ]
     },
     "execution_count": 34,
     "metadata": {},
     "output_type": "execute_result"
    }
   ],
   "source": [
    "model_results[results.columns] = results\n",
    "model_results.to_hdf(store, key='model_results', format='table')\n",
    "model_results.describe()"
   ]
  },
  {
   "cell_type": "code",
   "execution_count": 35,
   "metadata": {
    "ExecuteTime": {
     "end_time": "2018-03-15T03:56:35.513780Z",
     "start_time": "2018-03-15T03:56:35.428803Z"
    }
   },
   "outputs": [
    {
     "data": {
      "text/plain": [
       "['/home/justin/all_data/lendingclub/RF/0.2.2_testing.pkl']"
      ]
     },
     "execution_count": 35,
     "metadata": {},
     "output_type": "execute_result"
    }
   ],
   "source": [
    "# saving the RF\n",
    "from sklearn.externals import joblib\n",
    "joblib.dump(RF, f'{PATH_RF}{regr_version_RF}_{training_type}.pkl') "
   ]
  },
  {
   "cell_type": "markdown",
   "metadata": {},
   "source": [
    "# NeuralNet with embeddings for categorical (fastai)"
   ]
  },
  {
   "cell_type": "code",
   "execution_count": 37,
   "metadata": {
    "ExecuteTime": {
     "end_time": "2018-03-15T03:56:45.289896Z",
     "start_time": "2018-03-15T03:56:45.195440Z"
    }
   },
   "outputs": [],
   "source": [
    "# for loading\n",
    "PATH = f'{datapath}{platform}/'\n",
    "data_save_path = f'{datapath}{platform}/'\n",
    "X_train = pd.read_pickle(data_save_path+'X_train.pkl')\n",
    "y_train = pd.read_pickle(data_save_path+'y_train.pkl')\n",
    "X_valid = pd.read_pickle(data_save_path+'X_valid.pkl')\n",
    "y_valid = pd.read_pickle(data_save_path+'y_valid.pkl')\n",
    "X_test = pd.read_pickle(data_save_path+'X_test.pkl')\n",
    "y_test = pd.read_pickle(data_save_path+'y_test.pkl')"
   ]
  },
  {
   "cell_type": "code",
   "execution_count": 38,
   "metadata": {
    "ExecuteTime": {
     "end_time": "2018-03-15T03:56:46.816506Z",
     "start_time": "2018-03-15T03:56:46.795662Z"
    }
   },
   "outputs": [],
   "source": [
    "training_type = 'testing'\n",
    "data_save_path = f'{datapath}{platform}/'\n",
    "PATH_NN = f'{datapath}{platform}/NN/'"
   ]
  },
  {
   "cell_type": "code",
   "execution_count": 39,
   "metadata": {
    "ExecuteTime": {
     "end_time": "2018-03-15T03:56:53.161062Z",
     "start_time": "2018-03-15T03:56:48.940338Z"
    }
   },
   "outputs": [],
   "source": [
    "if training_type == 'testing':\n",
    "    store.open()\n",
    "    train = store['train']\n",
    "    store.close()\n",
    "    X_train, y_train, nas, embeddings, train_cols_meds, cols, mean_stdev_mapper = proc_df_justin(train, 'y', valid_test = False, do_scale=True)\n",
    "    X_valid = pd.read_pickle(data_save_path+'X_valid.pkl')\n",
    "    y_valid = pd.read_pickle(data_save_path+'y_valid.pkl')\n",
    "    X_test = pd.read_pickle(data_save_path+'X_test.pkl')\n",
    "    y_test = pd.read_pickle(data_save_path+'y_test.pkl')\n",
    "    dl_df_train = X_train.append(X_valid)\n",
    "    val_idxs = np.arange(len(dl_df_train))[-len(X_valid):]\n",
    "    dl_ys_train = np.append(y_train,y_valid)"
   ]
  },
  {
   "cell_type": "code",
   "execution_count": 42,
   "metadata": {
    "ExecuteTime": {
     "end_time": "2018-03-15T03:56:57.570393Z",
     "start_time": "2018-03-15T03:56:57.546120Z"
    }
   },
   "outputs": [],
   "source": [
    "bs = 64 * 2**1\n",
    "cat_sz = embeddings\n",
    "emb_szs = [(c, min(50, (c+1)//2)) for _,c in cat_sz]\n",
    "cat_vars = [_[0] for _ in cat_sz]"
   ]
  },
  {
   "cell_type": "code",
   "execution_count": 43,
   "metadata": {
    "ExecuteTime": {
     "end_time": "2018-03-15T03:57:03.942754Z",
     "start_time": "2018-03-15T03:57:03.914250Z"
    }
   },
   "outputs": [],
   "source": [
    "def asym_loss(y_pred, targ):\n",
    "    '''asymmetric loss for training the NN.\n",
    "    Actual (-), pred (+) <- should have highest loss (x more negative, high loss)\n",
    "    Actual (-), pred (-) <- low loss (x near 0, low loss)\n",
    "    Actual (+), pred (+) <- low loss (x near 0, low loss)\n",
    "    Actual (+), pred (-) <- medium-ish loss (x more positive, medium loss)'''\n",
    "    x = targ-y_pred\n",
    "    return torch.mean(torch.exp(-x) + x - 1)"
   ]
  },
  {
   "cell_type": "code",
   "execution_count": 241,
   "metadata": {
    "ExecuteTime": {
     "end_time": "2018-03-15T10:35:52.453329Z",
     "start_time": "2018-03-15T10:35:52.228023Z"
    }
   },
   "outputs": [],
   "source": [
    "# set test_df to X_train when I want predictions of X_train\n",
    "md = ColumnarModelData.from_data_frame(PATH_NN, val_idxs, dl_df_train, dl_ys_train, cat_vars, bs, test_df=X_test)\n",
    "n_cont = len(dl_df_train.columns)-len(cat_vars)\n",
    "print(n_cont)\n",
    "nn = md.get_learner(emb_szs, n_cont, 0.05, 1, [1000,500,500,250,250], [0.2,0.2,.2,.15,.05])\n",
    "lr = 1e-3\n",
    "nn.crit = asym_loss"
   ]
  },
  {
   "cell_type": "code",
   "execution_count": 271,
   "metadata": {
    "ExecuteTime": {
     "end_time": "2018-03-15T11:06:15.471453Z",
     "start_time": "2018-03-15T11:06:06.642677Z"
    },
    "scrolled": true
   },
   "outputs": [
    {
     "data": {
      "application/vnd.jupyter.widget-view+json": {
       "model_id": "e23e9dc3247a4920a3acca3ce19e3bb2",
       "version_major": 2,
       "version_minor": 0
      },
      "text/plain": [
       "A Jupyter Widget"
      ]
     },
     "metadata": {},
     "output_type": "display_data"
    },
    {
     "name": "stdout",
     "output_type": "stream",
     "text": [
      " 43%|████▎     | 314/730 [00:08<00:09, 43.42it/s, loss=0.0537]\n",
      "                                                              \r"
     ]
    }
   ],
   "source": [
    "nn.lr_find()\n",
    "nn.sched.plot()"
   ]
  },
  {
   "cell_type": "code",
   "execution_count": 273,
   "metadata": {
    "ExecuteTime": {
     "end_time": "2018-03-15T11:11:45.450920Z",
     "start_time": "2018-03-15T11:06:17.098355Z"
    },
    "scrolled": false
   },
   "outputs": [
    {
     "data": {
      "application/vnd.jupyter.widget-view+json": {
       "model_id": "d11910b7864e48e291b1e35db4ef4027",
       "version_major": 2,
       "version_minor": 0
      },
      "text/plain": [
       "A Jupyter Widget"
      ]
     },
     "metadata": {},
     "output_type": "display_data"
    },
    {
     "name": "stdout",
     "output_type": "stream",
     "text": [
      "epoch      trn_loss   val_loss   asym_loss                    \n",
      "    0      0.044783   0.032055   0.032055  \n",
      "    1      0.044392   0.031472   0.031472                     \n",
      "    2      0.042796   0.031223   0.031223                     \n",
      "    3      0.040567   0.030363   0.030363                     \n",
      "    4      0.03921    0.030239   0.030239                     \n",
      "    5      0.039787   0.030013   0.030013                     \n",
      "    6      0.040993   0.029955   0.029955                     \n",
      "    7      0.043399   0.030025   0.030025                     \n",
      "    8      0.039536   0.029989   0.029989                     \n",
      "    9      0.039469   0.030016   0.030016                     \n",
      "    10     0.038552   0.029744   0.029744                     \n",
      "    11     0.038124   0.029737   0.029737                     \n",
      "    12     0.042667   0.029797   0.029797                     \n",
      "    13     0.037099   0.029845   0.029845                     \n",
      "    14     0.038734   0.029765   0.029765                     \n",
      "\n"
     ]
    },
    {
     "data": {
      "text/plain": [
       "[0.02976457, 0.029764572625585382]"
      ]
     },
     "execution_count": 273,
     "metadata": {},
     "output_type": "execute_result"
    }
   ],
   "source": [
    "lr = 1e-4\n",
    "nn.fit(lr, 5, cycle_len=3, metrics=[asym_loss])"
   ]
  },
  {
   "cell_type": "code",
   "execution_count": 274,
   "metadata": {
    "ExecuteTime": {
     "end_time": "2018-03-15T11:18:45.567763Z",
     "start_time": "2018-03-15T11:13:15.162574Z"
    }
   },
   "outputs": [
    {
     "data": {
      "application/vnd.jupyter.widget-view+json": {
       "model_id": "608f8dc85d204248a80ec43fb292fe09",
       "version_major": 2,
       "version_minor": 0
      },
      "text/plain": [
       "A Jupyter Widget"
      ]
     },
     "metadata": {},
     "output_type": "display_data"
    },
    {
     "name": "stdout",
     "output_type": "stream",
     "text": [
      "epoch      trn_loss   val_loss   asym_loss                    \n",
      "    0      0.038096   0.029693   0.029693  \n",
      "    1      0.037827   0.029693   0.029693                     \n",
      "    2      0.037401   0.029684   0.029684                     \n",
      "    3      0.038685   0.029664   0.029664                     \n",
      "    4      0.037715   0.029699   0.029699                     \n",
      "    5      0.038626   0.029701   0.029701                     \n",
      "    6      0.038508   0.029727   0.029727                     \n",
      "    7      0.037091   0.029743   0.029743                     \n",
      "    8      0.03702    0.029726   0.029726                     \n",
      "    9      0.038145   0.029685   0.029685                     \n",
      "    10     0.038787   0.029717   0.029717                     \n",
      "    11     0.03768    0.029697   0.029697                     \n",
      "    12     0.037952   0.029695   0.029695                     \n",
      "    13     0.037665   0.029719   0.029719                     \n",
      "    14     0.037554   0.02971    0.02971                      \n",
      "\n"
     ]
    },
    {
     "data": {
      "text/plain": [
       "[0.029709602, 0.029709601776714261]"
      ]
     },
     "execution_count": 274,
     "metadata": {},
     "output_type": "execute_result"
    }
   ],
   "source": [
    "lr = 1e-5\n",
    "nn.fit(lr, 5, cycle_len=3, metrics=[asym_loss])"
   ]
  },
  {
   "cell_type": "code",
   "execution_count": 275,
   "metadata": {
    "ExecuteTime": {
     "end_time": "2018-03-15T11:21:07.113402Z",
     "start_time": "2018-03-15T11:18:53.619643Z"
    }
   },
   "outputs": [
    {
     "data": {
      "application/vnd.jupyter.widget-view+json": {
       "model_id": "921f73ae9b1c450d9dd86af07ef67af9",
       "version_major": 2,
       "version_minor": 0
      },
      "text/plain": [
       "A Jupyter Widget"
      ]
     },
     "metadata": {},
     "output_type": "display_data"
    },
    {
     "name": "stdout",
     "output_type": "stream",
     "text": [
      "epoch      trn_loss   val_loss   asym_loss                    \n",
      "    0      0.03884    0.029713   0.029713  \n",
      "    1      0.03899    0.029711   0.029711                     \n",
      "    2      0.037032   0.02971    0.02971                      \n",
      "    3      0.03801    0.029701   0.029701                     \n",
      "    4      0.037812   0.029703   0.029703                     \n",
      "    5      0.03809    0.029704   0.029704                     \n",
      "\n"
     ]
    },
    {
     "data": {
      "text/plain": [
       "[0.029703779, 0.029703779732794412]"
      ]
     },
     "execution_count": 275,
     "metadata": {},
     "output_type": "execute_result"
    }
   ],
   "source": [
    "lr = 1e-6\n",
    "nn.fit(lr, 2, cycle_len=3, metrics=[asym_loss])"
   ]
  },
  {
   "cell_type": "code",
   "execution_count": 251,
   "metadata": {
    "ExecuteTime": {
     "end_time": "2018-03-15T10:43:58.108164Z",
     "start_time": "2018-03-15T10:43:58.083757Z"
    },
    "scrolled": true
   },
   "outputs": [],
   "source": [
    "# get to a trn_loss of about .038\n",
    "# from sklearn.metrics import mean_squared_error"
   ]
  },
  {
   "cell_type": "code",
   "execution_count": 276,
   "metadata": {
    "ExecuteTime": {
     "end_time": "2018-03-15T11:23:26.979349Z",
     "start_time": "2018-03-15T11:23:26.409675Z"
    }
   },
   "outputs": [],
   "source": [
    "# nn.data.test_ds = X_train\n",
    "# predicted_train_NN = nn.predict(is_test=False).reshape(-1)\n",
    "# nn.data.test_ds = X_test\n",
    "yhat_test_NN = nn.predict(is_test=True).reshape(-1)"
   ]
  },
  {
   "cell_type": "code",
   "execution_count": 277,
   "metadata": {
    "ExecuteTime": {
     "end_time": "2018-03-15T11:23:27.457247Z",
     "start_time": "2018-03-15T11:23:27.435512Z"
    }
   },
   "outputs": [],
   "source": [
    "# print('train: ', mean_squared_error(predicted_train_NN, y_train))\n",
    "# print('test: ', mean_squared_error(yhat_test_NN, y_test))"
   ]
  },
  {
   "cell_type": "code",
   "execution_count": 278,
   "metadata": {
    "ExecuteTime": {
     "end_time": "2018-03-15T11:24:03.033028Z",
     "start_time": "2018-03-15T11:23:27.834059Z"
    }
   },
   "outputs": [
    {
     "data": {
      "application/vnd.jupyter.widget-view+json": {
       "model_id": "2c55b52146e04a1097b872fa98d9fd07",
       "version_major": 2,
       "version_minor": 0
      },
      "text/plain": [
       "A Jupyter Widget"
      ]
     },
     "metadata": {},
     "output_type": "display_data"
    },
    {
     "name": "stderr",
     "output_type": "stream",
     "text": [
      "/home/justin/anaconda3/lib/python3.6/site-packages/ipykernel_launcher.py:171: DeprecationWarning: \n",
      ".ix is deprecated. Please use\n",
      ".loc for label based indexing or\n",
      ".iloc for positional indexing\n",
      "\n",
      "See the documentation here:\n",
      "http://pandas.pydata.org/pandas-docs/stable/indexing.html#ix-indexer-is-deprecated\n"
     ]
    },
    {
     "name": "stdout",
     "output_type": "stream",
     "text": [
      "\n"
     ]
    }
   ],
   "source": [
    "regr_version_NN = '1.0.1'\n",
    "trials = 30000\n",
    "port_size = 150\n",
    "available_loans = 500\n",
    "results = eval_models(trials, port_size, available_loans, regr_version_NN, X_test=X_test, y_test=y_test, default_series=default_series, yhat_test=yhat_test_NN) #regr_std, "
   ]
  },
  {
   "cell_type": "code",
   "execution_count": 279,
   "metadata": {
    "ExecuteTime": {
     "end_time": "2018-03-15T11:24:03.107463Z",
     "start_time": "2018-03-15T11:24:03.034305Z"
    }
   },
   "outputs": [
    {
     "data": {
      "text/html": [
       "<div>\n",
       "<style scoped>\n",
       "    .dataframe tbody tr th:only-of-type {\n",
       "        vertical-align: middle;\n",
       "    }\n",
       "\n",
       "    .dataframe tbody tr th {\n",
       "        vertical-align: top;\n",
       "    }\n",
       "\n",
       "    .dataframe thead tr th {\n",
       "        text-align: left;\n",
       "    }\n",
       "</style>\n",
       "<table border=\"1\" class=\"dataframe\">\n",
       "  <thead>\n",
       "    <tr>\n",
       "      <th>discount_rate</th>\n",
       "      <th colspan=\"2\" halign=\"left\">baseline</th>\n",
       "      <th colspan=\"2\" halign=\"left\">A</th>\n",
       "      <th colspan=\"2\" halign=\"left\">0.2.2</th>\n",
       "      <th colspan=\"2\" halign=\"left\">1.0.1</th>\n",
       "      <th colspan=\"2\" halign=\"left\">3.0.0</th>\n",
       "    </tr>\n",
       "    <tr>\n",
       "      <th>model</th>\n",
       "      <th>0.07</th>\n",
       "      <th>pct_def</th>\n",
       "      <th>0.07</th>\n",
       "      <th>pct_def</th>\n",
       "      <th>0.07</th>\n",
       "      <th>pct_def</th>\n",
       "      <th>0.07</th>\n",
       "      <th>pct_def</th>\n",
       "      <th>0.07</th>\n",
       "      <th>pct_def</th>\n",
       "    </tr>\n",
       "  </thead>\n",
       "  <tbody>\n",
       "    <tr>\n",
       "      <th>count</th>\n",
       "      <td>30000.000000</td>\n",
       "      <td>30000.000000</td>\n",
       "      <td>30000.000000</td>\n",
       "      <td>30000.000000</td>\n",
       "      <td>30000.000000</td>\n",
       "      <td>30000.000000</td>\n",
       "      <td>30000.000000</td>\n",
       "      <td>30000.000000</td>\n",
       "      <td>30000.000000</td>\n",
       "      <td>30000.000000</td>\n",
       "    </tr>\n",
       "    <tr>\n",
       "      <th>mean</th>\n",
       "      <td>-0.056679</td>\n",
       "      <td>0.193342</td>\n",
       "      <td>-0.033183</td>\n",
       "      <td>0.073307</td>\n",
       "      <td>-0.026944</td>\n",
       "      <td>0.114903</td>\n",
       "      <td>-0.027961</td>\n",
       "      <td>0.114948</td>\n",
       "      <td>-0.024504</td>\n",
       "      <td>0.103901</td>\n",
       "    </tr>\n",
       "    <tr>\n",
       "      <th>std</th>\n",
       "      <td>0.018726</td>\n",
       "      <td>0.032075</td>\n",
       "      <td>0.011064</td>\n",
       "      <td>0.021000</td>\n",
       "      <td>0.013901</td>\n",
       "      <td>0.025692</td>\n",
       "      <td>0.013593</td>\n",
       "      <td>0.025896</td>\n",
       "      <td>0.013157</td>\n",
       "      <td>0.024627</td>\n",
       "    </tr>\n",
       "    <tr>\n",
       "      <th>min</th>\n",
       "      <td>-0.138537</td>\n",
       "      <td>0.080000</td>\n",
       "      <td>-0.083743</td>\n",
       "      <td>0.000000</td>\n",
       "      <td>-0.091100</td>\n",
       "      <td>0.026667</td>\n",
       "      <td>-0.090482</td>\n",
       "      <td>0.026667</td>\n",
       "      <td>-0.092635</td>\n",
       "      <td>0.020000</td>\n",
       "    </tr>\n",
       "    <tr>\n",
       "      <th>25%</th>\n",
       "      <td>-0.069253</td>\n",
       "      <td>0.173333</td>\n",
       "      <td>-0.040308</td>\n",
       "      <td>0.060000</td>\n",
       "      <td>-0.036045</td>\n",
       "      <td>0.100000</td>\n",
       "      <td>-0.036909</td>\n",
       "      <td>0.100000</td>\n",
       "      <td>-0.033121</td>\n",
       "      <td>0.086667</td>\n",
       "    </tr>\n",
       "    <tr>\n",
       "      <th>50%</th>\n",
       "      <td>-0.056113</td>\n",
       "      <td>0.193333</td>\n",
       "      <td>-0.032622</td>\n",
       "      <td>0.073333</td>\n",
       "      <td>-0.026377</td>\n",
       "      <td>0.113333</td>\n",
       "      <td>-0.027437</td>\n",
       "      <td>0.113333</td>\n",
       "      <td>-0.023966</td>\n",
       "      <td>0.100000</td>\n",
       "    </tr>\n",
       "    <tr>\n",
       "      <th>75%</th>\n",
       "      <td>-0.043736</td>\n",
       "      <td>0.213333</td>\n",
       "      <td>-0.025429</td>\n",
       "      <td>0.086667</td>\n",
       "      <td>-0.017215</td>\n",
       "      <td>0.133333</td>\n",
       "      <td>-0.018442</td>\n",
       "      <td>0.133333</td>\n",
       "      <td>-0.015250</td>\n",
       "      <td>0.120000</td>\n",
       "    </tr>\n",
       "    <tr>\n",
       "      <th>max</th>\n",
       "      <td>0.014205</td>\n",
       "      <td>0.333333</td>\n",
       "      <td>0.001738</td>\n",
       "      <td>0.166667</td>\n",
       "      <td>0.020718</td>\n",
       "      <td>0.226667</td>\n",
       "      <td>0.016741</td>\n",
       "      <td>0.220000</td>\n",
       "      <td>0.022934</td>\n",
       "      <td>0.220000</td>\n",
       "    </tr>\n",
       "  </tbody>\n",
       "</table>\n",
       "</div>"
      ],
      "text/plain": [
       "discount_rate      baseline                           A                \\\n",
       "model                  0.07       pct_def          0.07       pct_def   \n",
       "count          30000.000000  30000.000000  30000.000000  30000.000000   \n",
       "mean              -0.056679      0.193342     -0.033183      0.073307   \n",
       "std                0.018726      0.032075      0.011064      0.021000   \n",
       "min               -0.138537      0.080000     -0.083743      0.000000   \n",
       "25%               -0.069253      0.173333     -0.040308      0.060000   \n",
       "50%               -0.056113      0.193333     -0.032622      0.073333   \n",
       "75%               -0.043736      0.213333     -0.025429      0.086667   \n",
       "max                0.014205      0.333333      0.001738      0.166667   \n",
       "\n",
       "discount_rate         0.2.2                       1.0.1                \\\n",
       "model                  0.07       pct_def          0.07       pct_def   \n",
       "count          30000.000000  30000.000000  30000.000000  30000.000000   \n",
       "mean              -0.026944      0.114903     -0.027961      0.114948   \n",
       "std                0.013901      0.025692      0.013593      0.025896   \n",
       "min               -0.091100      0.026667     -0.090482      0.026667   \n",
       "25%               -0.036045      0.100000     -0.036909      0.100000   \n",
       "50%               -0.026377      0.113333     -0.027437      0.113333   \n",
       "75%               -0.017215      0.133333     -0.018442      0.133333   \n",
       "max                0.020718      0.226667      0.016741      0.220000   \n",
       "\n",
       "discount_rate         3.0.0                \n",
       "model                  0.07       pct_def  \n",
       "count          30000.000000  30000.000000  \n",
       "mean              -0.024504      0.103901  \n",
       "std                0.013157      0.024627  \n",
       "min               -0.092635      0.020000  \n",
       "25%               -0.033121      0.086667  \n",
       "50%               -0.023966      0.100000  \n",
       "75%               -0.015250      0.120000  \n",
       "max                0.022934      0.220000  "
      ]
     },
     "execution_count": 279,
     "metadata": {},
     "output_type": "execute_result"
    }
   ],
   "source": [
    "model_results[results.columns] = results\n",
    "model_results.to_hdf(store, key='model_results', format='table')\n",
    "model_results.describe()"
   ]
  },
  {
   "cell_type": "code",
   "execution_count": 433,
   "metadata": {
    "ExecuteTime": {
     "end_time": "2018-03-13T20:52:41.350043Z",
     "start_time": "2018-03-13T20:52:41.317481Z"
    }
   },
   "outputs": [],
   "source": [
    "nn.save(f'{PATH_NN}{regr_version_NN}_{training_type}.pth')"
   ]
  },
  {
   "cell_type": "markdown",
   "metadata": {
    "heading_collapsed": true
   },
   "source": [
    "# simple avg of RF and NN"
   ]
  },
  {
   "cell_type": "code",
   "execution_count": 280,
   "metadata": {
    "ExecuteTime": {
     "end_time": "2018-03-15T11:25:26.679927Z",
     "start_time": "2018-03-15T11:24:51.580713Z"
    },
    "hidden": true
   },
   "outputs": [
    {
     "data": {
      "application/vnd.jupyter.widget-view+json": {
       "model_id": "3a6fb9e2aab44a6e8ddb8628ffde012a",
       "version_major": 2,
       "version_minor": 0
      },
      "text/plain": [
       "A Jupyter Widget"
      ]
     },
     "metadata": {},
     "output_type": "display_data"
    },
    {
     "name": "stderr",
     "output_type": "stream",
     "text": [
      "/home/justin/anaconda3/lib/python3.6/site-packages/ipykernel_launcher.py:171: DeprecationWarning: \n",
      ".ix is deprecated. Please use\n",
      ".loc for label based indexing or\n",
      ".iloc for positional indexing\n",
      "\n",
      "See the documentation here:\n",
      "http://pandas.pydata.org/pandas-docs/stable/indexing.html#ix-indexer-is-deprecated\n"
     ]
    },
    {
     "name": "stdout",
     "output_type": "stream",
     "text": [
      "\n"
     ]
    }
   ],
   "source": [
    "yhat_test = (yhat_test_NN+yhat_test_RF)/2\n",
    "regr_version = '3.0.0'\n",
    "trials = 30000\n",
    "port_size = 150\n",
    "available_loans = 500\n",
    "results = eval_models(trials, port_size, available_loans, regr_version, X_test=X_test, y_test=y_test, default_series=default_series, yhat_test=yhat_test) #regr_std, "
   ]
  },
  {
   "cell_type": "code",
   "execution_count": 282,
   "metadata": {
    "ExecuteTime": {
     "end_time": "2018-03-15T22:34:35.784697Z",
     "start_time": "2018-03-15T22:34:35.694583Z"
    },
    "hidden": true
   },
   "outputs": [
    {
     "data": {
      "text/html": [
       "<div>\n",
       "<style scoped>\n",
       "    .dataframe tbody tr th:only-of-type {\n",
       "        vertical-align: middle;\n",
       "    }\n",
       "\n",
       "    .dataframe tbody tr th {\n",
       "        vertical-align: top;\n",
       "    }\n",
       "\n",
       "    .dataframe thead tr th {\n",
       "        text-align: left;\n",
       "    }\n",
       "</style>\n",
       "<table border=\"1\" class=\"dataframe\">\n",
       "  <thead>\n",
       "    <tr>\n",
       "      <th>discount_rate</th>\n",
       "      <th colspan=\"2\" halign=\"left\">baseline</th>\n",
       "      <th colspan=\"2\" halign=\"left\">A</th>\n",
       "      <th colspan=\"2\" halign=\"left\">0.2.2</th>\n",
       "      <th colspan=\"2\" halign=\"left\">1.0.1</th>\n",
       "      <th colspan=\"2\" halign=\"left\">3.0.0</th>\n",
       "    </tr>\n",
       "    <tr>\n",
       "      <th>model</th>\n",
       "      <th>0.07</th>\n",
       "      <th>pct_def</th>\n",
       "      <th>0.07</th>\n",
       "      <th>pct_def</th>\n",
       "      <th>0.07</th>\n",
       "      <th>pct_def</th>\n",
       "      <th>0.07</th>\n",
       "      <th>pct_def</th>\n",
       "      <th>0.07</th>\n",
       "      <th>pct_def</th>\n",
       "    </tr>\n",
       "  </thead>\n",
       "  <tbody>\n",
       "    <tr>\n",
       "      <th>count</th>\n",
       "      <td>30000.000000</td>\n",
       "      <td>30000.000000</td>\n",
       "      <td>30000.000000</td>\n",
       "      <td>30000.000000</td>\n",
       "      <td>30000.000000</td>\n",
       "      <td>30000.000000</td>\n",
       "      <td>30000.000000</td>\n",
       "      <td>30000.000000</td>\n",
       "      <td>30000.000000</td>\n",
       "      <td>30000.000000</td>\n",
       "    </tr>\n",
       "    <tr>\n",
       "      <th>mean</th>\n",
       "      <td>-0.056679</td>\n",
       "      <td>0.193342</td>\n",
       "      <td>-0.033183</td>\n",
       "      <td>0.073307</td>\n",
       "      <td>-0.026944</td>\n",
       "      <td>0.114903</td>\n",
       "      <td>-0.027961</td>\n",
       "      <td>0.114948</td>\n",
       "      <td>-0.025479</td>\n",
       "      <td>0.108049</td>\n",
       "    </tr>\n",
       "    <tr>\n",
       "      <th>std</th>\n",
       "      <td>0.018726</td>\n",
       "      <td>0.032075</td>\n",
       "      <td>0.011064</td>\n",
       "      <td>0.021000</td>\n",
       "      <td>0.013901</td>\n",
       "      <td>0.025692</td>\n",
       "      <td>0.013593</td>\n",
       "      <td>0.025896</td>\n",
       "      <td>0.013229</td>\n",
       "      <td>0.025091</td>\n",
       "    </tr>\n",
       "    <tr>\n",
       "      <th>min</th>\n",
       "      <td>-0.138537</td>\n",
       "      <td>0.080000</td>\n",
       "      <td>-0.083743</td>\n",
       "      <td>0.000000</td>\n",
       "      <td>-0.091100</td>\n",
       "      <td>0.026667</td>\n",
       "      <td>-0.090482</td>\n",
       "      <td>0.026667</td>\n",
       "      <td>-0.095502</td>\n",
       "      <td>0.026667</td>\n",
       "    </tr>\n",
       "    <tr>\n",
       "      <th>25%</th>\n",
       "      <td>-0.069253</td>\n",
       "      <td>0.173333</td>\n",
       "      <td>-0.040308</td>\n",
       "      <td>0.060000</td>\n",
       "      <td>-0.036045</td>\n",
       "      <td>0.100000</td>\n",
       "      <td>-0.036909</td>\n",
       "      <td>0.100000</td>\n",
       "      <td>-0.034188</td>\n",
       "      <td>0.093333</td>\n",
       "    </tr>\n",
       "    <tr>\n",
       "      <th>50%</th>\n",
       "      <td>-0.056113</td>\n",
       "      <td>0.193333</td>\n",
       "      <td>-0.032622</td>\n",
       "      <td>0.073333</td>\n",
       "      <td>-0.026377</td>\n",
       "      <td>0.113333</td>\n",
       "      <td>-0.027437</td>\n",
       "      <td>0.113333</td>\n",
       "      <td>-0.024939</td>\n",
       "      <td>0.106667</td>\n",
       "    </tr>\n",
       "    <tr>\n",
       "      <th>75%</th>\n",
       "      <td>-0.043736</td>\n",
       "      <td>0.213333</td>\n",
       "      <td>-0.025429</td>\n",
       "      <td>0.086667</td>\n",
       "      <td>-0.017215</td>\n",
       "      <td>0.133333</td>\n",
       "      <td>-0.018442</td>\n",
       "      <td>0.133333</td>\n",
       "      <td>-0.016220</td>\n",
       "      <td>0.126667</td>\n",
       "    </tr>\n",
       "    <tr>\n",
       "      <th>max</th>\n",
       "      <td>0.014205</td>\n",
       "      <td>0.333333</td>\n",
       "      <td>0.001738</td>\n",
       "      <td>0.166667</td>\n",
       "      <td>0.020718</td>\n",
       "      <td>0.226667</td>\n",
       "      <td>0.016741</td>\n",
       "      <td>0.220000</td>\n",
       "      <td>0.017590</td>\n",
       "      <td>0.226667</td>\n",
       "    </tr>\n",
       "  </tbody>\n",
       "</table>\n",
       "</div>"
      ],
      "text/plain": [
       "discount_rate      baseline                           A                \\\n",
       "model                  0.07       pct_def          0.07       pct_def   \n",
       "count          30000.000000  30000.000000  30000.000000  30000.000000   \n",
       "mean              -0.056679      0.193342     -0.033183      0.073307   \n",
       "std                0.018726      0.032075      0.011064      0.021000   \n",
       "min               -0.138537      0.080000     -0.083743      0.000000   \n",
       "25%               -0.069253      0.173333     -0.040308      0.060000   \n",
       "50%               -0.056113      0.193333     -0.032622      0.073333   \n",
       "75%               -0.043736      0.213333     -0.025429      0.086667   \n",
       "max                0.014205      0.333333      0.001738      0.166667   \n",
       "\n",
       "discount_rate         0.2.2                       1.0.1                \\\n",
       "model                  0.07       pct_def          0.07       pct_def   \n",
       "count          30000.000000  30000.000000  30000.000000  30000.000000   \n",
       "mean              -0.026944      0.114903     -0.027961      0.114948   \n",
       "std                0.013901      0.025692      0.013593      0.025896   \n",
       "min               -0.091100      0.026667     -0.090482      0.026667   \n",
       "25%               -0.036045      0.100000     -0.036909      0.100000   \n",
       "50%               -0.026377      0.113333     -0.027437      0.113333   \n",
       "75%               -0.017215      0.133333     -0.018442      0.133333   \n",
       "max                0.020718      0.226667      0.016741      0.220000   \n",
       "\n",
       "discount_rate         3.0.0                \n",
       "model                  0.07       pct_def  \n",
       "count          30000.000000  30000.000000  \n",
       "mean              -0.025479      0.108049  \n",
       "std                0.013229      0.025091  \n",
       "min               -0.095502      0.026667  \n",
       "25%               -0.034188      0.093333  \n",
       "50%               -0.024939      0.106667  \n",
       "75%               -0.016220      0.126667  \n",
       "max                0.017590      0.226667  "
      ]
     },
     "execution_count": 282,
     "metadata": {},
     "output_type": "execute_result"
    }
   ],
   "source": [
    "model_results[results.columns] = results\n",
    "model_results.to_hdf(store, key='model_results', format='table')\n",
    "model_results.describe()"
   ]
  },
  {
   "cell_type": "markdown",
   "metadata": {},
   "source": [
    "# Full trainable trains"
   ]
  },
  {
   "cell_type": "code",
   "execution_count": 19,
   "metadata": {
    "ExecuteTime": {
     "end_time": "2018-03-17T13:10:56.284234Z",
     "start_time": "2018-03-17T13:10:56.257172Z"
    }
   },
   "outputs": [],
   "source": [
    "# for saving\n",
    "PATH_NN = f'{datapath}{platform}/NN/'\n",
    "PATH_RF = f'{datapath}{platform}/RF/'\n",
    "data_save_path = f'{datapath}{platform}/'"
   ]
  },
  {
   "cell_type": "code",
   "execution_count": 20,
   "metadata": {
    "ExecuteTime": {
     "end_time": "2018-03-17T13:12:06.854387Z",
     "start_time": "2018-03-17T13:10:56.670675Z"
    }
   },
   "outputs": [],
   "source": [
    "store.open()\n",
    "all_train = store['all_train']\n",
    "store.close()\n",
    "X_all_train, y_all_train, nas_all_train, embeddings_all_train, train_cols_meds_all_train, cols_all_train, mean_stdev_mapper_all_train = proc_df_justin(all_train, 'y', valid_test = False, do_scale=True)"
   ]
  },
  {
   "cell_type": "code",
   "execution_count": 296,
   "metadata": {
    "ExecuteTime": {
     "end_time": "2018-03-15T22:57:39.668890Z",
     "start_time": "2018-03-15T22:57:38.641408Z"
    }
   },
   "outputs": [],
   "source": [
    "X_all_train.to_pickle(data_save_path+'X_all_train.pkl')\n",
    "pd.Series(y_all_train).to_pickle(data_save_path+'y_all_train.pkl')"
   ]
  },
  {
   "cell_type": "markdown",
   "metadata": {
    "heading_collapsed": true
   },
   "source": [
    "## Random Forest"
   ]
  },
  {
   "cell_type": "code",
   "execution_count": 307,
   "metadata": {
    "ExecuteTime": {
     "end_time": "2018-03-15T23:15:11.370374Z",
     "start_time": "2018-03-15T23:13:26.932201Z"
    },
    "hidden": true
   },
   "outputs": [
    {
     "data": {
      "text/plain": [
       "0.078377579491665572"
      ]
     },
     "execution_count": 307,
     "metadata": {},
     "output_type": "execute_result"
    }
   ],
   "source": [
    "# random forest score should be around .08849\n",
    "set_rf_samples(20000)\n",
    "RF = RandomForestRegressor(\n",
    "    n_estimators=154,\n",
    "    random_state=0,\n",
    "    max_features=min(X_all_train.shape[1],50),\n",
    "    min_samples_split=200,\n",
    "    min_samples_leaf=10,\n",
    "    n_jobs=-1,\n",
    "    oob_score=True,\n",
    "    bootstrap=True,\n",
    "    criterion='mse',\n",
    ")\n",
    "RF.fit(X_all_train,y_all_train)\n",
    "RF.score(X_all_train,y_all_train)"
   ]
  },
  {
   "cell_type": "code",
   "execution_count": 308,
   "metadata": {
    "ExecuteTime": {
     "end_time": "2018-03-15T23:15:11.388907Z",
     "start_time": "2018-03-15T23:15:11.372098Z"
    },
    "hidden": true
   },
   "outputs": [],
   "source": [
    "regr_version_RF = '0.2.2'\n",
    "training_type = 'all'"
   ]
  },
  {
   "cell_type": "code",
   "execution_count": 309,
   "metadata": {
    "ExecuteTime": {
     "end_time": "2018-03-15T23:15:11.463978Z",
     "start_time": "2018-03-15T23:15:11.390368Z"
    },
    "hidden": true
   },
   "outputs": [
    {
     "data": {
      "text/plain": [
       "['/home/justin/all_data/lendingclub/RF/0.2.2_all.pkl']"
      ]
     },
     "execution_count": 309,
     "metadata": {},
     "output_type": "execute_result"
    }
   ],
   "source": [
    "# saving the RF\n",
    "from sklearn.externals import joblib\n",
    "joblib.dump(RF, f'{PATH_RF}{regr_version_RF}_{training_type}.pkl') "
   ]
  },
  {
   "cell_type": "markdown",
   "metadata": {
    "ExecuteTime": {
     "end_time": "2018-03-15T23:06:31.910863Z",
     "start_time": "2018-03-15T23:06:31.884367Z"
    }
   },
   "source": [
    "## NN"
   ]
  },
  {
   "cell_type": "code",
   "execution_count": 26,
   "metadata": {
    "ExecuteTime": {
     "end_time": "2018-03-17T13:14:13.259252Z",
     "start_time": "2018-03-17T13:14:13.231452Z"
    }
   },
   "outputs": [],
   "source": [
    "training_type = 'all'\n",
    "data_save_path = f'{datapath}{platform}/'\n",
    "PATH_NN = f'{datapath}{platform}/NN/'\n",
    "lcpath = f'{datapath}{platform}/'\n",
    "storepath = f'{lcpath}{platform}.h5'\n",
    "store = pd.HDFStore(storepath)\n",
    "store.close()"
   ]
  },
  {
   "cell_type": "code",
   "execution_count": 27,
   "metadata": {
    "ExecuteTime": {
     "end_time": "2018-03-17T13:14:13.667826Z",
     "start_time": "2018-03-17T13:14:13.640806Z"
    }
   },
   "outputs": [],
   "source": [
    "def asym_loss(y_pred, targ):\n",
    "    '''asymmetric loss for training the NN.\n",
    "    Actual (-), pred (+) <- should have highest loss (x more negative, high loss)\n",
    "    Actual (-), pred (-) <- low loss (x near 0, low loss)\n",
    "    Actual (+), pred (+) <- low loss (x near 0, low loss)\n",
    "    Actual (+), pred (-) <- medium-ish loss (x more positive, medium loss)'''\n",
    "    x = targ-y_pred\n",
    "    return torch.mean(torch.exp(-x) + x - 1)"
   ]
  },
  {
   "cell_type": "code",
   "execution_count": 28,
   "metadata": {
    "ExecuteTime": {
     "end_time": "2018-03-17T13:15:23.782078Z",
     "start_time": "2018-03-17T13:14:14.056636Z"
    }
   },
   "outputs": [],
   "source": [
    "if training_type == 'all':\n",
    "    store.open()\n",
    "    train = store['all_train']\n",
    "    store.close()\n",
    "    X_train, y_train, nas, embeddings, train_cols_meds, cols, mean_stdev_mapper = proc_df_justin(train, 'y', valid_test = False, do_scale=True)\n",
    "    dl_df_train = X_train\n",
    "    val_idxs = [0]\n",
    "    dl_ys_train = y_train"
   ]
  },
  {
   "cell_type": "code",
   "execution_count": 29,
   "metadata": {
    "ExecuteTime": {
     "end_time": "2018-03-17T13:15:23.800689Z",
     "start_time": "2018-03-17T13:15:23.783775Z"
    }
   },
   "outputs": [],
   "source": [
    "bs = 64 * 2**1\n",
    "cat_sz = embeddings\n",
    "emb_szs = [(c, min(50, (c+1)//2)) for _,c in cat_sz]\n",
    "cat_vars = [_[0] for _ in cat_sz]"
   ]
  },
  {
   "cell_type": "code",
   "execution_count": 51,
   "metadata": {
    "ExecuteTime": {
     "end_time": "2018-03-16T18:21:42.476595Z",
     "start_time": "2018-03-16T18:21:39.407753Z"
    }
   },
   "outputs": [
    {
     "name": "stdout",
     "output_type": "stream",
     "text": [
      "209\n"
     ]
    }
   ],
   "source": [
    "# set test_df to X_train when I want predictions of X_train\n",
    "md = ColumnarModelData.from_data_frame(PATH_NN, val_idxs, dl_df_train, dl_ys_train, cat_vars, bs, test_df=X_test)\n",
    "n_cont = len(dl_df_train.columns)-len(cat_vars)\n",
    "print(n_cont)\n",
    "nn = md.get_learner(emb_szs, n_cont, 0.05, 1, [1000,500,500,250,250], [0.2,0.2,.2,.15,.05])\n",
    "lr = 1e-3\n",
    "nn.crit = asym_loss"
   ]
  },
  {
   "cell_type": "code",
   "execution_count": 52,
   "metadata": {
    "ExecuteTime": {
     "end_time": "2018-03-16T18:22:38.380945Z",
     "start_time": "2018-03-16T18:21:42.478419Z"
    }
   },
   "outputs": [
    {
     "data": {
      "application/vnd.jupyter.widget-view+json": {
       "model_id": "c4362b9e6d5e4df6963cfb76d8170503",
       "version_major": 2,
       "version_minor": 0
      },
      "text/plain": [
       "A Jupyter Widget"
      ]
     },
     "metadata": {},
     "output_type": "display_data"
    },
    {
     "name": "stdout",
     "output_type": "stream",
     "text": [
      " 31%|███       | 1818/5884 [00:55<02:08, 31.58it/s, loss=0.0447]"
     ]
    },
    {
     "data": {
      "image/png": "[encoded data removed]",
      "text/plain": [
       "<matplotlib.figure.Figure at 0x7f2dd26c4f60>"
      ]
     },
     "metadata": {},
     "output_type": "display_data"
    }
   ],
   "source": [
    "nn.lr_find()\n",
    "nn.sched.plot()"
   ]
  },
  {
   "cell_type": "code",
   "execution_count": 53,
   "metadata": {
    "ExecuteTime": {
     "end_time": "2018-03-16T19:01:09.679530Z",
     "start_time": "2018-03-16T18:22:38.382571Z"
    }
   },
   "outputs": [
    {
     "data": {
      "application/vnd.jupyter.widget-view+json": {
       "model_id": "ca4746c2d08742a4b39b46b9b97a1eb0",
       "version_major": 2,
       "version_minor": 0
      },
      "text/plain": [
       "A Jupyter Widget"
      ]
     },
     "metadata": {},
     "output_type": "display_data"
    },
    {
     "name": "stdout",
     "output_type": "stream",
     "text": [
      "  1%|▏         | 79/5884 [00:04<04:17, 22.56it/s, loss=0.374]   \n",
      "epoch      trn_loss   val_loss   asym_loss                      \n",
      "    0      0.041247   0.087606   0.087606  \n",
      "    1      0.039442   0.08493    0.08493                        \n",
      "    2      0.039655   0.083813   0.083813                       \n",
      "    3      0.038198   0.080197   0.080197                       \n",
      "    4      0.039026   0.072755   0.072755                       \n",
      "    5      0.03796    0.073815   0.073815                       \n",
      "    6      0.038389   0.075683   0.075683                       \n",
      "    7      0.037271   0.075182   0.075182                       \n",
      "    8      0.037402   0.07162    0.07162                        \n",
      "    9      0.038008   0.07251    0.07251                        \n",
      "    10     0.036972   0.070514   0.070514                       \n",
      "    11     0.036332   0.070543   0.070543                       \n",
      "\n"
     ]
    },
    {
     "data": {
      "text/plain": [
       "[0.070543289, 0.070543289184570312]"
      ]
     },
     "execution_count": 53,
     "metadata": {},
     "output_type": "execute_result"
    }
   ],
   "source": [
    "# looking for a train loss of about .037-.038??\n",
    "lr = 1e-4\n",
    "nn.fit(lr, 4, cycle_len=3, metrics=[asym_loss])"
   ]
  },
  {
   "cell_type": "code",
   "execution_count": 54,
   "metadata": {
    "ExecuteTime": {
     "end_time": "2018-03-16T19:01:09.709995Z",
     "start_time": "2018-03-16T19:01:09.681488Z"
    }
   },
   "outputs": [],
   "source": [
    "nn.save(f'{PATH_NN}{regr_version_NN}_{training_type}.pth')"
   ]
  },
  {
   "cell_type": "code",
   "execution_count": 57,
   "metadata": {
    "ExecuteTime": {
     "end_time": "2018-03-16T19:01:35.103906Z",
     "start_time": "2018-03-16T19:01:35.074397Z"
    },
    "scrolled": true
   },
   "outputs": [
    {
     "data": {
      "text/plain": [
       "array([[-0.05682]], dtype=float32)"
      ]
     },
     "execution_count": 57,
     "metadata": {},
     "output_type": "execute_result"
    }
   ],
   "source": [
    "nn.predict(is_test=False)\n",
    "# array([[-0.05682]], dtype=float32)\n",
    "# verify on reload that I can get same answer"
   ]
  },
  {
   "cell_type": "markdown",
   "metadata": {},
   "source": [
    "# testing loading"
   ]
  },
  {
   "cell_type": "code",
   "execution_count": 41,
   "metadata": {
    "ExecuteTime": {
     "end_time": "2018-03-17T13:31:04.223973Z",
     "start_time": "2018-03-17T13:31:04.196813Z"
    }
   },
   "outputs": [],
   "source": [
    "for_proc_df_model_loading = (nas_all_train, embeddings_all_train, train_cols_meds_all_train, use_cols, cols_all_train, col_cat_dict, mean_stdev_mapper_all_train, X_all_train.head(), y_all_train[:5], cat_vars, emb_szs)\n",
    "with open(f'{data_save_path}/for_proc_df_model_loading.pkl', 'wb') as handle:\n",
    "    pickle.dump(for_proc_df_model_loading, handle, protocol=pickle.HIGHEST_PROTOCOL)"
   ]
  },
  {
   "cell_type": "markdown",
   "metadata": {},
   "source": [
    "## RF"
   ]
  },
  {
   "cell_type": "code",
   "execution_count": 75,
   "metadata": {
    "ExecuteTime": {
     "end_time": "2018-03-16T19:03:43.907074Z",
     "start_time": "2018-03-16T19:03:43.882262Z"
    }
   },
   "outputs": [],
   "source": [
    "regr_version_RF = '0.2.2'"
   ]
  },
  {
   "cell_type": "code",
   "execution_count": 76,
   "metadata": {
    "ExecuteTime": {
     "end_time": "2018-03-16T19:03:44.132746Z",
     "start_time": "2018-03-16T19:03:44.057869Z"
    }
   },
   "outputs": [],
   "source": [
    "RF = joblib.load(f'{PATH_RF}{regr_version_RF}_{training_type}.pkl') "
   ]
  },
  {
   "cell_type": "code",
   "execution_count": 79,
   "metadata": {
    "ExecuteTime": {
     "end_time": "2018-03-16T19:04:36.883324Z",
     "start_time": "2018-03-16T19:04:36.646505Z"
    }
   },
   "outputs": [
    {
     "data": {
      "text/plain": [
       "-0.23777431366922563"
      ]
     },
     "execution_count": 79,
     "metadata": {},
     "output_type": "execute_result"
    }
   ],
   "source": [
    "RF.predict(dl_df_train)\n",
    "RF.score(dl_df_train, dl_ys_train)"
   ]
  },
  {
   "cell_type": "markdown",
   "metadata": {},
   "source": [
    "## NN"
   ]
  },
  {
   "cell_type": "code",
   "execution_count": 91,
   "metadata": {
    "ExecuteTime": {
     "end_time": "2018-03-16T21:47:13.658048Z",
     "start_time": "2018-03-16T21:47:13.628784Z"
    }
   },
   "outputs": [],
   "source": [
    "with open(f'{data_save_path}/for_proc_df_model_loading.pkl', 'rb') as handle:\n",
    "    nas_all_train, embeddings_all_train, train_cols_meds_all_train, cols_all_train, mean_stdev_mapper_all_train, dl_df_train, dl_ys_train, cat_vars, emb_szs = pickle.load(handle)\n",
    "    \n",
    "val_idxs = [0]\n",
    "bs = 64\n",
    "X_test = None\n",
    "regr_version_NN = '1.0.1'\n",
    "training_type = 'all'"
   ]
  },
  {
   "cell_type": "code",
   "execution_count": 92,
   "metadata": {
    "ExecuteTime": {
     "end_time": "2018-03-16T21:47:13.950606Z",
     "start_time": "2018-03-16T21:47:13.821292Z"
    }
   },
   "outputs": [
    {
     "name": "stdout",
     "output_type": "stream",
     "text": [
      "209\n"
     ]
    }
   ],
   "source": [
    "md = ColumnarModelData.from_data_frame(PATH_NN, val_idxs, dl_df_train, dl_ys_train, cat_vars, bs, test_df=X_test)\n",
    "n_cont = len(dl_df_train.columns)-len(cat_vars)\n",
    "print(n_cont)\n",
    "nn = md.get_learner(emb_szs, n_cont, 0.05, 1, [1000,500,500,250,250], [0.2,0.2,.2,.15,.05])"
   ]
  },
  {
   "cell_type": "code",
   "execution_count": 102,
   "metadata": {
    "ExecuteTime": {
     "end_time": "2018-03-16T21:52:56.690449Z",
     "start_time": "2018-03-16T21:52:56.643565Z"
    }
   },
   "outputs": [
    {
     "data": {
      "text/html": [
       "<div>\n",
       "<style scoped>\n",
       "    .dataframe tbody tr th:only-of-type {\n",
       "        vertical-align: middle;\n",
       "    }\n",
       "\n",
       "    .dataframe tbody tr th {\n",
       "        vertical-align: top;\n",
       "    }\n",
       "\n",
       "    .dataframe thead th {\n",
       "        text-align: right;\n",
       "    }\n",
       "</style>\n",
       "<table border=\"1\" class=\"dataframe\">\n",
       "  <thead>\n",
       "    <tr style=\"text-align: right;\">\n",
       "      <th></th>\n",
       "      <th>acc_now_delinq</th>\n",
       "      <th>acc_open_past_24_mths</th>\n",
       "      <th>addr_state</th>\n",
       "      <th>addr_zip</th>\n",
       "      <th>all_util</th>\n",
       "      <th>annual_inc</th>\n",
       "      <th>annual_inc_joint</th>\n",
       "      <th>application_type</th>\n",
       "      <th>avg_cur_bal</th>\n",
       "      <th>bc_open_to_buy</th>\n",
       "      <th>...</th>\n",
       "      <th>earliest_cr_lineWeek_na</th>\n",
       "      <th>earliest_cr_lineDay_na</th>\n",
       "      <th>earliest_cr_lineDayofweek_na</th>\n",
       "      <th>earliest_cr_lineDayofyear_na</th>\n",
       "      <th>sec_app_earliest_cr_lineYear_na</th>\n",
       "      <th>sec_app_earliest_cr_lineMonth_na</th>\n",
       "      <th>sec_app_earliest_cr_lineWeek_na</th>\n",
       "      <th>sec_app_earliest_cr_lineDay_na</th>\n",
       "      <th>sec_app_earliest_cr_lineDayofweek_na</th>\n",
       "      <th>sec_app_earliest_cr_lineDayofyear_na</th>\n",
       "    </tr>\n",
       "    <tr>\n",
       "      <th>id</th>\n",
       "      <th></th>\n",
       "      <th></th>\n",
       "      <th></th>\n",
       "      <th></th>\n",
       "      <th></th>\n",
       "      <th></th>\n",
       "      <th></th>\n",
       "      <th></th>\n",
       "      <th></th>\n",
       "      <th></th>\n",
       "      <th></th>\n",
       "      <th></th>\n",
       "      <th></th>\n",
       "      <th></th>\n",
       "      <th></th>\n",
       "      <th></th>\n",
       "      <th></th>\n",
       "      <th></th>\n",
       "      <th></th>\n",
       "      <th></th>\n",
       "      <th></th>\n",
       "    </tr>\n",
       "  </thead>\n",
       "  <tbody>\n",
       "    <tr>\n",
       "      <th>36805548</th>\n",
       "      <td>-0.064072</td>\n",
       "      <td>0.738009</td>\n",
       "      <td>1</td>\n",
       "      <td>1</td>\n",
       "      <td>0.094443</td>\n",
       "      <td>-0.271991</td>\n",
       "      <td>-0.149522</td>\n",
       "      <td>2</td>\n",
       "      <td>-0.245948</td>\n",
       "      <td>-0.123736</td>\n",
       "      <td>...</td>\n",
       "      <td>False</td>\n",
       "      <td>False</td>\n",
       "      <td>False</td>\n",
       "      <td>False</td>\n",
       "      <td>True</td>\n",
       "      <td>True</td>\n",
       "      <td>True</td>\n",
       "      <td>True</td>\n",
       "      <td>True</td>\n",
       "      <td>True</td>\n",
       "    </tr>\n",
       "    <tr>\n",
       "      <th>38098114</th>\n",
       "      <td>-0.064072</td>\n",
       "      <td>0.099394</td>\n",
       "      <td>2</td>\n",
       "      <td>2</td>\n",
       "      <td>0.094443</td>\n",
       "      <td>0.047120</td>\n",
       "      <td>-0.149522</td>\n",
       "      <td>2</td>\n",
       "      <td>1.002750</td>\n",
       "      <td>0.008937</td>\n",
       "      <td>...</td>\n",
       "      <td>False</td>\n",
       "      <td>False</td>\n",
       "      <td>False</td>\n",
       "      <td>False</td>\n",
       "      <td>True</td>\n",
       "      <td>True</td>\n",
       "      <td>True</td>\n",
       "      <td>True</td>\n",
       "      <td>True</td>\n",
       "      <td>True</td>\n",
       "    </tr>\n",
       "    <tr>\n",
       "      <th>37822187</th>\n",
       "      <td>-0.064072</td>\n",
       "      <td>1.057316</td>\n",
       "      <td>3</td>\n",
       "      <td>3</td>\n",
       "      <td>0.094443</td>\n",
       "      <td>-0.096480</td>\n",
       "      <td>-0.149522</td>\n",
       "      <td>2</td>\n",
       "      <td>-0.634981</td>\n",
       "      <td>-0.199855</td>\n",
       "      <td>...</td>\n",
       "      <td>False</td>\n",
       "      <td>False</td>\n",
       "      <td>False</td>\n",
       "      <td>False</td>\n",
       "      <td>True</td>\n",
       "      <td>True</td>\n",
       "      <td>True</td>\n",
       "      <td>True</td>\n",
       "      <td>True</td>\n",
       "      <td>True</td>\n",
       "    </tr>\n",
       "    <tr>\n",
       "      <th>37662224</th>\n",
       "      <td>-0.064072</td>\n",
       "      <td>0.418701</td>\n",
       "      <td>4</td>\n",
       "      <td>4</td>\n",
       "      <td>0.094443</td>\n",
       "      <td>-0.399636</td>\n",
       "      <td>-0.149522</td>\n",
       "      <td>2</td>\n",
       "      <td>-0.472340</td>\n",
       "      <td>-0.624329</td>\n",
       "      <td>...</td>\n",
       "      <td>False</td>\n",
       "      <td>False</td>\n",
       "      <td>False</td>\n",
       "      <td>False</td>\n",
       "      <td>True</td>\n",
       "      <td>True</td>\n",
       "      <td>True</td>\n",
       "      <td>True</td>\n",
       "      <td>True</td>\n",
       "      <td>True</td>\n",
       "    </tr>\n",
       "    <tr>\n",
       "      <th>37842129</th>\n",
       "      <td>-0.064072</td>\n",
       "      <td>-0.219914</td>\n",
       "      <td>5</td>\n",
       "      <td>5</td>\n",
       "      <td>0.094443</td>\n",
       "      <td>-0.179449</td>\n",
       "      <td>-0.149522</td>\n",
       "      <td>2</td>\n",
       "      <td>-0.572337</td>\n",
       "      <td>-0.624880</td>\n",
       "      <td>...</td>\n",
       "      <td>False</td>\n",
       "      <td>False</td>\n",
       "      <td>False</td>\n",
       "      <td>False</td>\n",
       "      <td>True</td>\n",
       "      <td>True</td>\n",
       "      <td>True</td>\n",
       "      <td>True</td>\n",
       "      <td>True</td>\n",
       "      <td>True</td>\n",
       "    </tr>\n",
       "  </tbody>\n",
       "</table>\n",
       "<p>5 rows × 220 columns</p>\n",
       "</div>"
      ],
      "text/plain": [
       "          acc_now_delinq  acc_open_past_24_mths  addr_state  addr_zip  \\\n",
       "id                                                                      \n",
       "36805548       -0.064072               0.738009           1         1   \n",
       "38098114       -0.064072               0.099394           2         2   \n",
       "37822187       -0.064072               1.057316           3         3   \n",
       "37662224       -0.064072               0.418701           4         4   \n",
       "37842129       -0.064072              -0.219914           5         5   \n",
       "\n",
       "          all_util  annual_inc  annual_inc_joint  application_type  \\\n",
       "id                                                                   \n",
       "36805548  0.094443   -0.271991         -0.149522                 2   \n",
       "38098114  0.094443    0.047120         -0.149522                 2   \n",
       "37822187  0.094443   -0.096480         -0.149522                 2   \n",
       "37662224  0.094443   -0.399636         -0.149522                 2   \n",
       "37842129  0.094443   -0.179449         -0.149522                 2   \n",
       "\n",
       "          avg_cur_bal  bc_open_to_buy                  ...                   \\\n",
       "id                                                     ...                    \n",
       "36805548    -0.245948       -0.123736                  ...                    \n",
       "38098114     1.002750        0.008937                  ...                    \n",
       "37822187    -0.634981       -0.199855                  ...                    \n",
       "37662224    -0.472340       -0.624329                  ...                    \n",
       "37842129    -0.572337       -0.624880                  ...                    \n",
       "\n",
       "          earliest_cr_lineWeek_na  earliest_cr_lineDay_na  \\\n",
       "id                                                          \n",
       "36805548                    False                   False   \n",
       "38098114                    False                   False   \n",
       "37822187                    False                   False   \n",
       "37662224                    False                   False   \n",
       "37842129                    False                   False   \n",
       "\n",
       "          earliest_cr_lineDayofweek_na  earliest_cr_lineDayofyear_na  \\\n",
       "id                                                                     \n",
       "36805548                         False                         False   \n",
       "38098114                         False                         False   \n",
       "37822187                         False                         False   \n",
       "37662224                         False                         False   \n",
       "37842129                         False                         False   \n",
       "\n",
       "          sec_app_earliest_cr_lineYear_na  sec_app_earliest_cr_lineMonth_na  \\\n",
       "id                                                                            \n",
       "36805548                             True                              True   \n",
       "38098114                             True                              True   \n",
       "37822187                             True                              True   \n",
       "37662224                             True                              True   \n",
       "37842129                             True                              True   \n",
       "\n",
       "          sec_app_earliest_cr_lineWeek_na  sec_app_earliest_cr_lineDay_na  \\\n",
       "id                                                                          \n",
       "36805548                             True                            True   \n",
       "38098114                             True                            True   \n",
       "37822187                             True                            True   \n",
       "37662224                             True                            True   \n",
       "37842129                             True                            True   \n",
       "\n",
       "          sec_app_earliest_cr_lineDayofweek_na  \\\n",
       "id                                               \n",
       "36805548                                  True   \n",
       "38098114                                  True   \n",
       "37822187                                  True   \n",
       "37662224                                  True   \n",
       "37842129                                  True   \n",
       "\n",
       "          sec_app_earliest_cr_lineDayofyear_na  \n",
       "id                                              \n",
       "36805548                                  True  \n",
       "38098114                                  True  \n",
       "37822187                                  True  \n",
       "37662224                                  True  \n",
       "37842129                                  True  \n",
       "\n",
       "[5 rows x 220 columns]"
      ]
     },
     "execution_count": 102,
     "metadata": {},
     "output_type": "execute_result"
    }
   ],
   "source": [
    "dl_df_train"
   ]
  },
  {
   "cell_type": "code",
   "execution_count": 64,
   "metadata": {
    "ExecuteTime": {
     "end_time": "2018-03-16T19:01:43.368412Z",
     "start_time": "2018-03-16T19:01:43.337295Z"
    }
   },
   "outputs": [],
   "source": [
    "nn.load(f'{PATH_NN}{regr_version_NN}_{training_type}.pth')"
   ]
  },
  {
   "cell_type": "code",
   "execution_count": 67,
   "metadata": {
    "ExecuteTime": {
     "end_time": "2018-03-16T19:01:51.020055Z",
     "start_time": "2018-03-16T19:01:50.991608Z"
    }
   },
   "outputs": [
    {
     "data": {
      "text/plain": [
       "array([[-0.05682]], dtype=float32)"
      ]
     },
     "execution_count": 67,
     "metadata": {},
     "output_type": "execute_result"
    }
   ],
   "source": [
    "nn.predict(is_test=False)\n",
    "#array([[-0.05682]], dtype=float32)\n",
    "# verify on reload that I can get same answer"
   ]
  },
  {
   "cell_type": "code",
   "execution_count": null,
   "metadata": {},
   "outputs": [],
   "source": []
  }
 ],
 "metadata": {
  "kernelspec": {
   "display_name": "Python 3",
   "language": "python",
   "name": "python3"
  },
  "language_info": {
   "codemirror_mode": {
    "name": "ipython",
    "version": 3
   },
   "file_extension": ".py",
   "mimetype": "text/x-python",
   "name": "python",
   "nbconvert_exporter": "python",
   "pygments_lexer": "ipython3",
   "version": "3.6.3"
  },
  "notify_time": "5"
 },
 "nbformat": 4,
 "nbformat_minor": 2
}
