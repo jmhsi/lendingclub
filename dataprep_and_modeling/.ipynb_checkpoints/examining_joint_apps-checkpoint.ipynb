{
 "cells": [
  {
   "cell_type": "code",
   "execution_count": 1,
   "metadata": {
    "ExecuteTime": {
     "end_time": "2017-11-04T19:27:47.546617Z",
     "start_time": "2017-11-04T19:27:47.543258Z"
    },
    "collapsed": true
   },
   "outputs": [],
   "source": [
    "import dir_constants as dc"
   ]
  },
  {
   "cell_type": "code",
   "execution_count": 2,
   "metadata": {
    "ExecuteTime": {
     "end_time": "2017-11-04T19:27:54.558264Z",
     "start_time": "2017-11-04T19:27:48.086455Z"
    }
   },
   "outputs": [],
   "source": [
    "platform = 'lendingclub'\n",
    "\n",
    "store = pd.HDFStore(\n",
    "    dc.home_path+'/justin_tinkering/data_science/lendingclub/{0}_store.h5'.\n",
    "    format(platform),\n",
    "    append=True)\n",
    "loan_info = store['loan_info_clean']\n",
    "store.close()"
   ]
  },
  {
   "cell_type": "code",
   "execution_count": 10,
   "metadata": {
    "ExecuteTime": {
     "end_time": "2017-11-04T19:30:46.905656Z",
     "start_time": "2017-11-04T19:30:46.307181Z"
    }
   },
   "outputs": [],
   "source": [
    "done_loans = loan_info[loan_info['loan_status'].isin(['paid', 'charged_off', 'defaulted', 'late_120', 'late_30', 'grace_15'])]"
   ]
  },
  {
   "cell_type": "code",
   "execution_count": 11,
   "metadata": {
    "ExecuteTime": {
     "end_time": "2017-11-04T19:31:03.983465Z",
     "start_time": "2017-11-04T19:31:03.844197Z"
    }
   },
   "outputs": [
    {
     "data": {
      "text/plain": [
       "paid           0.748337\n",
       "charged_off    0.191905\n",
       "late_120       0.029090\n",
       "grace_15       0.023385\n",
       "late_30        0.007036\n",
       "defaulted      0.000247\n",
       "Name: loan_status, dtype: float64"
      ]
     },
     "execution_count": 11,
     "metadata": {},
     "output_type": "execute_result"
    }
   ],
   "source": [
    "done_loans['loan_status'].value_counts(dropna=False)/len(done_loans)"
   ]
  },
  {
   "cell_type": "code",
   "execution_count": 12,
   "metadata": {
    "ExecuteTime": {
     "end_time": "2017-11-04T19:31:08.198116Z",
     "start_time": "2017-11-04T19:31:08.022977Z"
    }
   },
   "outputs": [
    {
     "data": {
      "text/plain": [
       "paid           0.585921\n",
       "grace_15       0.145097\n",
       "charged_off    0.130649\n",
       "late_120       0.102674\n",
       "late_30        0.035045\n",
       "defaulted      0.000615\n",
       "Name: loan_status, dtype: float64"
      ]
     },
     "execution_count": 12,
     "metadata": {},
     "output_type": "execute_result"
    }
   ],
   "source": [
    "done_loans[done_loans['application_type'] == 'joint']['loan_status'].value_counts(dropna=False)/len(done_loans[done_loans['application_type'] == 'joint'])"
   ]
  },
  {
   "cell_type": "code",
   "execution_count": null,
   "metadata": {
    "collapsed": true
   },
   "outputs": [],
   "source": []
  }
 ],
 "metadata": {
  "kernelspec": {
   "display_name": "Python 3",
   "language": "python",
   "name": "python3"
  },
  "language_info": {
   "codemirror_mode": {
    "name": "ipython",
    "version": 3
   },
   "file_extension": ".py",
   "mimetype": "text/x-python",
   "name": "python",
   "nbconvert_exporter": "python",
   "pygments_lexer": "ipython3",
   "version": "3.6.3"
  },
  "varInspector": {
   "cols": {
    "lenName": 16,
    "lenType": 16,
    "lenVar": 40
   },
   "kernels_config": {
    "python": {
     "delete_cmd_postfix": "",
     "delete_cmd_prefix": "del ",
     "library": "var_list.py",
     "varRefreshCmd": "print(var_dic_list())"
    },
    "r": {
     "delete_cmd_postfix": ") ",
     "delete_cmd_prefix": "rm(",
     "library": "var_list.r",
     "varRefreshCmd": "cat(var_dic_list()) "
    }
   },
   "types_to_exclude": [
    "module",
    "function",
    "builtin_function_or_method",
    "instance",
    "_Feature"
   ],
   "window_display": false
  }
 },
 "nbformat": 4,
 "nbformat_minor": 2
}
