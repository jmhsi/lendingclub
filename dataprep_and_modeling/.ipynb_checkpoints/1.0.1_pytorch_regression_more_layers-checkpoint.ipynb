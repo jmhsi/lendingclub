{
 "cells": [
  {
   "cell_type": "markdown",
   "metadata": {},
   "source": [
    "# So 1.0.0 doesn't actually convincingly perform better than 0.2.1 (RF) so I'm seeing if more hidden layers changes anything"
   ]
  },
  {
   "cell_type": "code",
   "execution_count": 1,
   "metadata": {
    "ExecuteTime": {
     "end_time": "2017-11-01T22:36:54.865214Z",
     "start_time": "2017-11-01T22:36:54.353036Z"
    },
    "collapsed": true
   },
   "outputs": [],
   "source": [
    "import data_science.lendingclub.dataprep_and_modeling.modeling_utils.data_prep_new as data_prep\n",
    "import dir_constants as dc\n",
    "from sklearn.externals import joblib\n",
    "import torch\n",
    "import torch.nn as nn\n",
    "import torch.optim as optim\n",
    "from torch.autograd import Variable\n",
    "import torch.nn.functional as F\n",
    "from torch.utils.data import Dataset, DataLoader\n",
    "import time\n",
    "from sklearn.metrics import mean_squared_error\n",
    "from tqdm import tqdm_notebook\n",
    "import matplotlib.pyplot as plt\n",
    "%matplotlib inline"
   ]
  },
  {
   "cell_type": "code",
   "execution_count": 2,
   "metadata": {
    "ExecuteTime": {
     "end_time": "2017-11-01T22:36:55.041852Z",
     "start_time": "2017-11-01T22:36:55.031306Z"
    }
   },
   "outputs": [
    {
     "data": {
      "text/html": [
       "<script>\n",
       "code_show_err=false; \n",
       "function code_toggle_err() {\n",
       " if (code_show_err){\n",
       " $('div.output_stderr').hide();\n",
       " } else {\n",
       " $('div.output_stderr').show();\n",
       " }\n",
       " code_show_err = !code_show_err\n",
       "} \n",
       "$( document ).ready(code_toggle_err);\n",
       "</script>\n",
       "To toggle on/off output_stderr, click <a href=\"javascript:code_toggle_err()\">here</a>."
      ],
      "text/plain": [
       "<IPython.core.display.HTML object>"
      ]
     },
     "execution_count": 2,
     "metadata": {},
     "output_type": "execute_result"
    }
   ],
   "source": [
    "from IPython.display import HTML\n",
    "HTML('''<script>\n",
    "code_show_err=false; \n",
    "function code_toggle_err() {\n",
    " if (code_show_err){\n",
    " $('div.output_stderr').hide();\n",
    " } else {\n",
    " $('div.output_stderr').show();\n",
    " }\n",
    " code_show_err = !code_show_err\n",
    "} \n",
    "$( document ).ready(code_toggle_err);\n",
    "</script>\n",
    "To toggle on/off output_stderr, click <a href=\"javascript:code_toggle_err()\">here</a>.''')"
   ]
  },
  {
   "cell_type": "markdown",
   "metadata": {},
   "source": [
    "# DO NOT FORGET TO DROP ISSUE_D AFTER PREPPING"
   ]
  },
  {
   "cell_type": "code",
   "execution_count": 3,
   "metadata": {
    "ExecuteTime": {
     "end_time": "2017-11-01T22:36:56.141516Z",
     "start_time": "2017-11-01T22:36:56.074895Z"
    },
    "collapsed": true
   },
   "outputs": [],
   "source": [
    "platform = 'lendingclub'\n",
    "use_cuda = True\n",
    "dtype = torch.cuda.FloatTensor\n",
    "save_path = \"model_dump/nn_1_0_1/\"\n",
    "if not os.path.isdir(save_path):\n",
    "    os.mkdir(save_path)\n",
    "store = pd.HDFStore(\n",
    "    dc.home_path+'/justin_tinkering/data_science/lendingclub/{0}_store.h5'.\n",
    "    format(platform),\n",
    "    append=True)"
   ]
  },
  {
   "cell_type": "code",
   "execution_count": 4,
   "metadata": {
    "ExecuteTime": {
     "end_time": "2017-11-01T22:36:59.420129Z",
     "start_time": "2017-11-01T22:36:57.840746Z"
    },
    "collapsed": true
   },
   "outputs": [],
   "source": [
    "loan_info = store['train_filtered_columns']\n",
    "columns = loan_info.columns.values\n",
    "# checking dtypes to see which columns need one hotting, and which need null or not\n",
    "to_one_hot = []\n",
    "to_null_or_not = []\n",
    "do_nothing = []\n",
    "for col in columns:\n",
    "    if loan_info[col].dtypes == np.dtype('O'):\n",
    "#         print(col, loan_info[col].isnull().value_counts(dropna=False).to_dict())\n",
    "        to_one_hot.append(col)\n",
    "    elif len(loan_info[col].isnull().value_counts(dropna=False)) > 1:\n",
    "#         print(col, loan_info[col].isnull().value_counts(dropna=False).to_dict())\n",
    "        to_null_or_not.append(col)\n",
    "    else:\n",
    "#         print(col, loan_info[col].isnull().value_counts(dropna=False).to_dict())\n",
    "        do_nothing.append(col)"
   ]
  },
  {
   "cell_type": "markdown",
   "metadata": {},
   "source": [
    "# Until I figure out a good imputation method (e.g. bayes PCA), just drop columns with null still"
   ]
  },
  {
   "cell_type": "code",
   "execution_count": 5,
   "metadata": {
    "ExecuteTime": {
     "end_time": "2017-11-01T22:37:09.058503Z",
     "start_time": "2017-11-01T22:37:01.192970Z"
    },
    "collapsed": true
   },
   "outputs": [],
   "source": [
    "train_X, train_y, mean_series, std_dev_series = data_prep.process_data_train(\n",
    "    loan_info)"
   ]
  },
  {
   "cell_type": "code",
   "execution_count": 6,
   "metadata": {
    "ExecuteTime": {
     "end_time": "2017-11-01T05:59:41.808920Z",
     "start_time": "2017-11-01T05:59:41.784736Z"
    },
    "collapsed": true
   },
   "outputs": [],
   "source": [
    "class TrainDataset(Dataset):\n",
    "    def __init__(self, data, targets):\n",
    "        self.data = data\n",
    "        self.targets = targets\n",
    "        \n",
    "    def __len__(self):\n",
    "        return len(self.data)\n",
    "    \n",
    "    def __getitem__(self, idx):\n",
    "        return self.data[idx,:], self.targets[idx,:]\n",
    "    \n",
    "def get_loader(dataset, use_cuda, batch_size=6400, shuffle=True):\n",
    "    return DataLoader(dataset, batch_size=batch_size, shuffle=True, pin_memory=use_cuda) \n",
    "\n",
    "train_dataset = TrainDataset(train_X.values, train_y.values)\n",
    "train_loader = get_loader(train_dataset, use_cuda)"
   ]
  },
  {
   "cell_type": "markdown",
   "metadata": {},
   "source": [
    "# instantiate network"
   ]
  },
  {
   "cell_type": "code",
   "execution_count": 7,
   "metadata": {
    "ExecuteTime": {
     "end_time": "2017-11-01T05:59:55.669630Z",
     "start_time": "2017-11-01T05:59:55.650854Z"
    },
    "collapsed": true
   },
   "outputs": [],
   "source": [
    "# %%writefile model_dump/nn_1_0_0/net_class.py\n",
    "# import torch\n",
    "# import torch.nn as nn\n",
    "# import torch.nn.functional as F\n",
    "# from torch.autograd import Variable\n",
    "# import numpy as np\n",
    "\n",
    "# dtype = torch.FloatTensor\n",
    "\n",
    "# nn_input_dim = 223\n",
    "# hly1_n = 300\n",
    "# hly2_n = 400\n",
    "# hly3_n = 300\n",
    "# hly4_n = 100\n",
    "# nn_output_dim = 1\n",
    "\n",
    "# class Net(nn.Module):\n",
    "    \n",
    "#     def __init__(self):\n",
    "#         super(Net, self).__init__()\n",
    "#         self.hl1 = nn.Linear(nn_input_dim, hly1_n)\n",
    "#         self.hl2 = nn.Linear(hly1_n, hly2_n)\n",
    "#         self.hl3 = nn.Linear(hly2_n, hly3_n)\n",
    "#         self.hl4 = nn.Linear(hly3_n, hly4_n)\n",
    "#         self.out = nn.Linear(hly4_n, nn_output_dim)\n",
    "        \n",
    "#     def forward(self, x):\n",
    "#         x = F.leaky_relu(self.hl1(x))\n",
    "#         x = F.leaky_relu(self.hl2(x))\n",
    "#         x = F.leaky_relu(self.hl3(x))\n",
    "#         x = F.leaky_relu(self.hl4(x))\n",
    "#         x = self.out(x)\n",
    "#         return x\n",
    "    \n",
    "# def torch_version(df_inputs, net):\n",
    "#     input = Variable(torch.from_numpy(df_inputs.values)).type(dtype)\n",
    "#     return np.round(net(input).data.cpu().numpy(),5)    "
   ]
  },
  {
   "cell_type": "code",
   "execution_count": 8,
   "metadata": {
    "ExecuteTime": {
     "end_time": "2017-11-01T06:00:03.724872Z",
     "start_time": "2017-11-01T06:00:03.667203Z"
    },
    "collapsed": true
   },
   "outputs": [],
   "source": [
    "nn_input_dim = 223\n",
    "hly1_n = 300\n",
    "hly2_n = 400\n",
    "hly3_n = 300\n",
    "hly4_n = 100\n",
    "nn_output_dim = 1\n",
    "\n",
    "class Net(nn.Module):\n",
    "    \n",
    "    def __init__(self):\n",
    "        super(Net, self).__init__()\n",
    "        self.hl1 = nn.Linear(nn_input_dim, hly1_n)\n",
    "        self.hl2 = nn.Linear(hly1_n, hly2_n)\n",
    "        self.hl3 = nn.Linear(hly2_n, hly3_n)\n",
    "        self.hl4 = nn.Linear(hly3_n, hly4_n)\n",
    "        self.out = nn.Linear(hly4_n, nn_output_dim)\n",
    "        \n",
    "    def forward(self, x):\n",
    "        x = F.leaky_relu(self.hl1(x))\n",
    "        x = F.leaky_relu(self.hl2(x))\n",
    "        x = F.leaky_relu(self.hl3(x))\n",
    "        x = F.leaky_relu(self.hl4(x))\n",
    "        x = self.out(x)\n",
    "        return x\n",
    "    \n",
    "net = Net()"
   ]
  },
  {
   "cell_type": "code",
   "execution_count": 9,
   "metadata": {
    "ExecuteTime": {
     "end_time": "2017-11-01T06:00:11.682351Z",
     "start_time": "2017-11-01T06:00:11.671435Z"
    },
    "collapsed": true
   },
   "outputs": [],
   "source": [
    "params = list(net.parameters())\n",
    "criterion = nn.MSELoss()\n",
    "optimizer = optim.Adam(net.parameters(), lr=0.001, weight_decay=0.001)"
   ]
  },
  {
   "cell_type": "code",
   "execution_count": 10,
   "metadata": {
    "ExecuteTime": {
     "end_time": "2017-11-01T06:00:23.384646Z",
     "start_time": "2017-11-01T06:00:19.824026Z"
    },
    "collapsed": true
   },
   "outputs": [],
   "source": [
    "if use_cuda:\n",
    "    net.cuda()\n",
    "    criterion.cuda()"
   ]
  },
  {
   "cell_type": "code",
   "execution_count": 11,
   "metadata": {
    "ExecuteTime": {
     "end_time": "2017-11-01T07:49:42.735730Z",
     "start_time": "2017-11-01T06:00:31.579171Z"
    }
   },
   "outputs": [
    {
     "data": {
      "application/javascript": [
       "/* Put everything inside the global mpl namespace */\n",
       "window.mpl = {};\n",
       "\n",
       "\n",
       "mpl.get_websocket_type = function() {\n",
       "    if (typeof(WebSocket) !== 'undefined') {\n",
       "        return WebSocket;\n",
       "    } else if (typeof(MozWebSocket) !== 'undefined') {\n",
       "        return MozWebSocket;\n",
       "    } else {\n",
       "        alert('Your browser does not have WebSocket support.' +\n",
       "              'Please try Chrome, Safari or Firefox ≥ 6. ' +\n",
       "              'Firefox 4 and 5 are also supported but you ' +\n",
       "              'have to enable WebSockets in about:config.');\n",
       "    };\n",
       "}\n",
       "\n",
       "mpl.figure = function(figure_id, websocket, ondownload, parent_element) {\n",
       "    this.id = figure_id;\n",
       "\n",
       "    this.ws = websocket;\n",
       "\n",
       "    this.supports_binary = (this.ws.binaryType != undefined);\n",
       "\n",
       "    if (!this.supports_binary) {\n",
       "        var warnings = document.getElementById(\"mpl-warnings\");\n",
       "        if (warnings) {\n",
       "            warnings.style.display = 'block';\n",
       "            warnings.textContent = (\n",
       "                \"This browser does not support binary websocket messages. \" +\n",
       "                    \"Performance may be slow.\");\n",
       "        }\n",
       "    }\n",
       "\n",
       "    this.imageObj = new Image();\n",
       "\n",
       "    this.context = undefined;\n",
       "    this.message = undefined;\n",
       "    this.canvas = undefined;\n",
       "    this.rubberband_canvas = undefined;\n",
       "    this.rubberband_context = undefined;\n",
       "    this.format_dropdown = undefined;\n",
       "\n",
       "    this.image_mode = 'full';\n",
       "\n",
       "    this.root = $('<div/>');\n",
       "    this._root_extra_style(this.root)\n",
       "    this.root.attr('style', 'display: inline-block');\n",
       "\n",
       "    $(parent_element).append(this.root);\n",
       "\n",
       "    this._init_header(this);\n",
       "    this._init_canvas(this);\n",
       "    this._init_toolbar(this);\n",
       "\n",
       "    var fig = this;\n",
       "\n",
       "    this.waiting = false;\n",
       "\n",
       "    this.ws.onopen =  function () {\n",
       "            fig.send_message(\"supports_binary\", {value: fig.supports_binary});\n",
       "            fig.send_message(\"send_image_mode\", {});\n",
       "            if (mpl.ratio != 1) {\n",
       "                fig.send_message(\"set_dpi_ratio\", {'dpi_ratio': mpl.ratio});\n",
       "            }\n",
       "            fig.send_message(\"refresh\", {});\n",
       "        }\n",
       "\n",
       "    this.imageObj.onload = function() {\n",
       "            if (fig.image_mode == 'full') {\n",
       "                // Full images could contain transparency (where diff images\n",
       "                // almost always do), so we need to clear the canvas so that\n",
       "                // there is no ghosting.\n",
       "                fig.context.clearRect(0, 0, fig.canvas.width, fig.canvas.height);\n",
       "            }\n",
       "            fig.context.drawImage(fig.imageObj, 0, 0);\n",
       "        };\n",
       "\n",
       "    this.imageObj.onunload = function() {\n",
       "        this.ws.close();\n",
       "    }\n",
       "\n",
       "    this.ws.onmessage = this._make_on_message_function(this);\n",
       "\n",
       "    this.ondownload = ondownload;\n",
       "}\n",
       "\n",
       "mpl.figure.prototype._init_header = function() {\n",
       "    var titlebar = $(\n",
       "        '<div class=\"ui-dialog-titlebar ui-widget-header ui-corner-all ' +\n",
       "        'ui-helper-clearfix\"/>');\n",
       "    var titletext = $(\n",
       "        '<div class=\"ui-dialog-title\" style=\"width: 100%; ' +\n",
       "        'text-align: center; padding: 3px;\"/>');\n",
       "    titlebar.append(titletext)\n",
       "    this.root.append(titlebar);\n",
       "    this.header = titletext[0];\n",
       "}\n",
       "\n",
       "\n",
       "\n",
       "mpl.figure.prototype._canvas_extra_style = function(canvas_div) {\n",
       "\n",
       "}\n",
       "\n",
       "\n",
       "mpl.figure.prototype._root_extra_style = function(canvas_div) {\n",
       "\n",
       "}\n",
       "\n",
       "mpl.figure.prototype._init_canvas = function() {\n",
       "    var fig = this;\n",
       "\n",
       "    var canvas_div = $('<div/>');\n",
       "\n",
       "    canvas_div.attr('style', 'position: relative; clear: both; outline: 0');\n",
       "\n",
       "    function canvas_keyboard_event(event) {\n",
       "        return fig.key_event(event, event['data']);\n",
       "    }\n",
       "\n",
       "    canvas_div.keydown('key_press', canvas_keyboard_event);\n",
       "    canvas_div.keyup('key_release', canvas_keyboard_event);\n",
       "    this.canvas_div = canvas_div\n",
       "    this._canvas_extra_style(canvas_div)\n",
       "    this.root.append(canvas_div);\n",
       "\n",
       "    var canvas = $('<canvas/>');\n",
       "    canvas.addClass('mpl-canvas');\n",
       "    canvas.attr('style', \"left: 0; top: 0; z-index: 0; outline: 0\")\n",
       "\n",
       "    this.canvas = canvas[0];\n",
       "    this.context = canvas[0].getContext(\"2d\");\n",
       "\n",
       "    var backingStore = this.context.backingStorePixelRatio ||\n",
       "\tthis.context.webkitBackingStorePixelRatio ||\n",
       "\tthis.context.mozBackingStorePixelRatio ||\n",
       "\tthis.context.msBackingStorePixelRatio ||\n",
       "\tthis.context.oBackingStorePixelRatio ||\n",
       "\tthis.context.backingStorePixelRatio || 1;\n",
       "\n",
       "    mpl.ratio = (window.devicePixelRatio || 1) / backingStore;\n",
       "\n",
       "    var rubberband = $('<canvas/>');\n",
       "    rubberband.attr('style', \"position: absolute; left: 0; top: 0; z-index: 1;\")\n",
       "\n",
       "    var pass_mouse_events = true;\n",
       "\n",
       "    canvas_div.resizable({\n",
       "        start: function(event, ui) {\n",
       "            pass_mouse_events = false;\n",
       "        },\n",
       "        resize: function(event, ui) {\n",
       "            fig.request_resize(ui.size.width, ui.size.height);\n",
       "        },\n",
       "        stop: function(event, ui) {\n",
       "            pass_mouse_events = true;\n",
       "            fig.request_resize(ui.size.width, ui.size.height);\n",
       "        },\n",
       "    });\n",
       "\n",
       "    function mouse_event_fn(event) {\n",
       "        if (pass_mouse_events)\n",
       "            return fig.mouse_event(event, event['data']);\n",
       "    }\n",
       "\n",
       "    rubberband.mousedown('button_press', mouse_event_fn);\n",
       "    rubberband.mouseup('button_release', mouse_event_fn);\n",
       "    // Throttle sequential mouse events to 1 every 20ms.\n",
       "    rubberband.mousemove('motion_notify', mouse_event_fn);\n",
       "\n",
       "    rubberband.mouseenter('figure_enter', mouse_event_fn);\n",
       "    rubberband.mouseleave('figure_leave', mouse_event_fn);\n",
       "\n",
       "    canvas_div.on(\"wheel\", function (event) {\n",
       "        event = event.originalEvent;\n",
       "        event['data'] = 'scroll'\n",
       "        if (event.deltaY < 0) {\n",
       "            event.step = 1;\n",
       "        } else {\n",
       "            event.step = -1;\n",
       "        }\n",
       "        mouse_event_fn(event);\n",
       "    });\n",
       "\n",
       "    canvas_div.append(canvas);\n",
       "    canvas_div.append(rubberband);\n",
       "\n",
       "    this.rubberband = rubberband;\n",
       "    this.rubberband_canvas = rubberband[0];\n",
       "    this.rubberband_context = rubberband[0].getContext(\"2d\");\n",
       "    this.rubberband_context.strokeStyle = \"#000000\";\n",
       "\n",
       "    this._resize_canvas = function(width, height) {\n",
       "        // Keep the size of the canvas, canvas container, and rubber band\n",
       "        // canvas in synch.\n",
       "        canvas_div.css('width', width)\n",
       "        canvas_div.css('height', height)\n",
       "\n",
       "        canvas.attr('width', width * mpl.ratio);\n",
       "        canvas.attr('height', height * mpl.ratio);\n",
       "        canvas.attr('style', 'width: ' + width + 'px; height: ' + height + 'px;');\n",
       "\n",
       "        rubberband.attr('width', width);\n",
       "        rubberband.attr('height', height);\n",
       "    }\n",
       "\n",
       "    // Set the figure to an initial 600x600px, this will subsequently be updated\n",
       "    // upon first draw.\n",
       "    this._resize_canvas(600, 600);\n",
       "\n",
       "    // Disable right mouse context menu.\n",
       "    $(this.rubberband_canvas).bind(\"contextmenu\",function(e){\n",
       "        return false;\n",
       "    });\n",
       "\n",
       "    function set_focus () {\n",
       "        canvas.focus();\n",
       "        canvas_div.focus();\n",
       "    }\n",
       "\n",
       "    window.setTimeout(set_focus, 100);\n",
       "}\n",
       "\n",
       "mpl.figure.prototype._init_toolbar = function() {\n",
       "    var fig = this;\n",
       "\n",
       "    var nav_element = $('<div/>')\n",
       "    nav_element.attr('style', 'width: 100%');\n",
       "    this.root.append(nav_element);\n",
       "\n",
       "    // Define a callback function for later on.\n",
       "    function toolbar_event(event) {\n",
       "        return fig.toolbar_button_onclick(event['data']);\n",
       "    }\n",
       "    function toolbar_mouse_event(event) {\n",
       "        return fig.toolbar_button_onmouseover(event['data']);\n",
       "    }\n",
       "\n",
       "    for(var toolbar_ind in mpl.toolbar_items) {\n",
       "        var name = mpl.toolbar_items[toolbar_ind][0];\n",
       "        var tooltip = mpl.toolbar_items[toolbar_ind][1];\n",
       "        var image = mpl.toolbar_items[toolbar_ind][2];\n",
       "        var method_name = mpl.toolbar_items[toolbar_ind][3];\n",
       "\n",
       "        if (!name) {\n",
       "            // put a spacer in here.\n",
       "            continue;\n",
       "        }\n",
       "        var button = $('<button/>');\n",
       "        button.addClass('ui-button ui-widget ui-state-default ui-corner-all ' +\n",
       "                        'ui-button-icon-only');\n",
       "        button.attr('role', 'button');\n",
       "        button.attr('aria-disabled', 'false');\n",
       "        button.click(method_name, toolbar_event);\n",
       "        button.mouseover(tooltip, toolbar_mouse_event);\n",
       "\n",
       "        var icon_img = $('<span/>');\n",
       "        icon_img.addClass('ui-button-icon-primary ui-icon');\n",
       "        icon_img.addClass(image);\n",
       "        icon_img.addClass('ui-corner-all');\n",
       "\n",
       "        var tooltip_span = $('<span/>');\n",
       "        tooltip_span.addClass('ui-button-text');\n",
       "        tooltip_span.html(tooltip);\n",
       "\n",
       "        button.append(icon_img);\n",
       "        button.append(tooltip_span);\n",
       "\n",
       "        nav_element.append(button);\n",
       "    }\n",
       "\n",
       "    var fmt_picker_span = $('<span/>');\n",
       "\n",
       "    var fmt_picker = $('<select/>');\n",
       "    fmt_picker.addClass('mpl-toolbar-option ui-widget ui-widget-content');\n",
       "    fmt_picker_span.append(fmt_picker);\n",
       "    nav_element.append(fmt_picker_span);\n",
       "    this.format_dropdown = fmt_picker[0];\n",
       "\n",
       "    for (var ind in mpl.extensions) {\n",
       "        var fmt = mpl.extensions[ind];\n",
       "        var option = $(\n",
       "            '<option/>', {selected: fmt === mpl.default_extension}).html(fmt);\n",
       "        fmt_picker.append(option)\n",
       "    }\n",
       "\n",
       "    // Add hover states to the ui-buttons\n",
       "    $( \".ui-button\" ).hover(\n",
       "        function() { $(this).addClass(\"ui-state-hover\");},\n",
       "        function() { $(this).removeClass(\"ui-state-hover\");}\n",
       "    );\n",
       "\n",
       "    var status_bar = $('<span class=\"mpl-message\"/>');\n",
       "    nav_element.append(status_bar);\n",
       "    this.message = status_bar[0];\n",
       "}\n",
       "\n",
       "mpl.figure.prototype.request_resize = function(x_pixels, y_pixels) {\n",
       "    // Request matplotlib to resize the figure. Matplotlib will then trigger a resize in the client,\n",
       "    // which will in turn request a refresh of the image.\n",
       "    this.send_message('resize', {'width': x_pixels, 'height': y_pixels});\n",
       "}\n",
       "\n",
       "mpl.figure.prototype.send_message = function(type, properties) {\n",
       "    properties['type'] = type;\n",
       "    properties['figure_id'] = this.id;\n",
       "    this.ws.send(JSON.stringify(properties));\n",
       "}\n",
       "\n",
       "mpl.figure.prototype.send_draw_message = function() {\n",
       "    if (!this.waiting) {\n",
       "        this.waiting = true;\n",
       "        this.ws.send(JSON.stringify({type: \"draw\", figure_id: this.id}));\n",
       "    }\n",
       "}\n",
       "\n",
       "\n",
       "mpl.figure.prototype.handle_save = function(fig, msg) {\n",
       "    var format_dropdown = fig.format_dropdown;\n",
       "    var format = format_dropdown.options[format_dropdown.selectedIndex].value;\n",
       "    fig.ondownload(fig, format);\n",
       "}\n",
       "\n",
       "\n",
       "mpl.figure.prototype.handle_resize = function(fig, msg) {\n",
       "    var size = msg['size'];\n",
       "    if (size[0] != fig.canvas.width || size[1] != fig.canvas.height) {\n",
       "        fig._resize_canvas(size[0], size[1]);\n",
       "        fig.send_message(\"refresh\", {});\n",
       "    };\n",
       "}\n",
       "\n",
       "mpl.figure.prototype.handle_rubberband = function(fig, msg) {\n",
       "    var x0 = msg['x0'] / mpl.ratio;\n",
       "    var y0 = (fig.canvas.height - msg['y0']) / mpl.ratio;\n",
       "    var x1 = msg['x1'] / mpl.ratio;\n",
       "    var y1 = (fig.canvas.height - msg['y1']) / mpl.ratio;\n",
       "    x0 = Math.floor(x0) + 0.5;\n",
       "    y0 = Math.floor(y0) + 0.5;\n",
       "    x1 = Math.floor(x1) + 0.5;\n",
       "    y1 = Math.floor(y1) + 0.5;\n",
       "    var min_x = Math.min(x0, x1);\n",
       "    var min_y = Math.min(y0, y1);\n",
       "    var width = Math.abs(x1 - x0);\n",
       "    var height = Math.abs(y1 - y0);\n",
       "\n",
       "    fig.rubberband_context.clearRect(\n",
       "        0, 0, fig.canvas.width, fig.canvas.height);\n",
       "\n",
       "    fig.rubberband_context.strokeRect(min_x, min_y, width, height);\n",
       "}\n",
       "\n",
       "mpl.figure.prototype.handle_figure_label = function(fig, msg) {\n",
       "    // Updates the figure title.\n",
       "    fig.header.textContent = msg['label'];\n",
       "}\n",
       "\n",
       "mpl.figure.prototype.handle_cursor = function(fig, msg) {\n",
       "    var cursor = msg['cursor'];\n",
       "    switch(cursor)\n",
       "    {\n",
       "    case 0:\n",
       "        cursor = 'pointer';\n",
       "        break;\n",
       "    case 1:\n",
       "        cursor = 'default';\n",
       "        break;\n",
       "    case 2:\n",
       "        cursor = 'crosshair';\n",
       "        break;\n",
       "    case 3:\n",
       "        cursor = 'move';\n",
       "        break;\n",
       "    }\n",
       "    fig.rubberband_canvas.style.cursor = cursor;\n",
       "}\n",
       "\n",
       "mpl.figure.prototype.handle_message = function(fig, msg) {\n",
       "    fig.message.textContent = msg['message'];\n",
       "}\n",
       "\n",
       "mpl.figure.prototype.handle_draw = function(fig, msg) {\n",
       "    // Request the server to send over a new figure.\n",
       "    fig.send_draw_message();\n",
       "}\n",
       "\n",
       "mpl.figure.prototype.handle_image_mode = function(fig, msg) {\n",
       "    fig.image_mode = msg['mode'];\n",
       "}\n",
       "\n",
       "mpl.figure.prototype.updated_canvas_event = function() {\n",
       "    // Called whenever the canvas gets updated.\n",
       "    this.send_message(\"ack\", {});\n",
       "}\n",
       "\n",
       "// A function to construct a web socket function for onmessage handling.\n",
       "// Called in the figure constructor.\n",
       "mpl.figure.prototype._make_on_message_function = function(fig) {\n",
       "    return function socket_on_message(evt) {\n",
       "        if (evt.data instanceof Blob) {\n",
       "            /* FIXME: We get \"Resource interpreted as Image but\n",
       "             * transferred with MIME type text/plain:\" errors on\n",
       "             * Chrome.  But how to set the MIME type?  It doesn't seem\n",
       "             * to be part of the websocket stream */\n",
       "            evt.data.type = \"image/png\";\n",
       "\n",
       "            /* Free the memory for the previous frames */\n",
       "            if (fig.imageObj.src) {\n",
       "                (window.URL || window.webkitURL).revokeObjectURL(\n",
       "                    fig.imageObj.src);\n",
       "            }\n",
       "\n",
       "            fig.imageObj.src = (window.URL || window.webkitURL).createObjectURL(\n",
       "                evt.data);\n",
       "            fig.updated_canvas_event();\n",
       "            fig.waiting = false;\n",
       "            return;\n",
       "        }\n",
       "        else if (typeof evt.data === 'string' && evt.data.slice(0, 21) == \"data:image/png;base64\") {\n",
       "            fig.imageObj.src = evt.data;\n",
       "            fig.updated_canvas_event();\n",
       "            fig.waiting = false;\n",
       "            return;\n",
       "        }\n",
       "\n",
       "        var msg = JSON.parse(evt.data);\n",
       "        var msg_type = msg['type'];\n",
       "\n",
       "        // Call the  \"handle_{type}\" callback, which takes\n",
       "        // the figure and JSON message as its only arguments.\n",
       "        try {\n",
       "            var callback = fig[\"handle_\" + msg_type];\n",
       "        } catch (e) {\n",
       "            console.log(\"No handler for the '\" + msg_type + \"' message type: \", msg);\n",
       "            return;\n",
       "        }\n",
       "\n",
       "        if (callback) {\n",
       "            try {\n",
       "                // console.log(\"Handling '\" + msg_type + \"' message: \", msg);\n",
       "                callback(fig, msg);\n",
       "            } catch (e) {\n",
       "                console.log(\"Exception inside the 'handler_\" + msg_type + \"' callback:\", e, e.stack, msg);\n",
       "            }\n",
       "        }\n",
       "    };\n",
       "}\n",
       "\n",
       "// from http://stackoverflow.com/questions/1114465/getting-mouse-location-in-canvas\n",
       "mpl.findpos = function(e) {\n",
       "    //this section is from http://www.quirksmode.org/js/events_properties.html\n",
       "    var targ;\n",
       "    if (!e)\n",
       "        e = window.event;\n",
       "    if (e.target)\n",
       "        targ = e.target;\n",
       "    else if (e.srcElement)\n",
       "        targ = e.srcElement;\n",
       "    if (targ.nodeType == 3) // defeat Safari bug\n",
       "        targ = targ.parentNode;\n",
       "\n",
       "    // jQuery normalizes the pageX and pageY\n",
       "    // pageX,Y are the mouse positions relative to the document\n",
       "    // offset() returns the position of the element relative to the document\n",
       "    var x = e.pageX - $(targ).offset().left;\n",
       "    var y = e.pageY - $(targ).offset().top;\n",
       "\n",
       "    return {\"x\": x, \"y\": y};\n",
       "};\n",
       "\n",
       "/*\n",
       " * return a copy of an object with only non-object keys\n",
       " * we need this to avoid circular references\n",
       " * http://stackoverflow.com/a/24161582/3208463\n",
       " */\n",
       "function simpleKeys (original) {\n",
       "  return Object.keys(original).reduce(function (obj, key) {\n",
       "    if (typeof original[key] !== 'object')\n",
       "        obj[key] = original[key]\n",
       "    return obj;\n",
       "  }, {});\n",
       "}\n",
       "\n",
       "mpl.figure.prototype.mouse_event = function(event, name) {\n",
       "    var canvas_pos = mpl.findpos(event)\n",
       "\n",
       "    if (name === 'button_press')\n",
       "    {\n",
       "        this.canvas.focus();\n",
       "        this.canvas_div.focus();\n",
       "    }\n",
       "\n",
       "    var x = canvas_pos.x * mpl.ratio;\n",
       "    var y = canvas_pos.y * mpl.ratio;\n",
       "\n",
       "    this.send_message(name, {x: x, y: y, button: event.button,\n",
       "                             step: event.step,\n",
       "                             guiEvent: simpleKeys(event)});\n",
       "\n",
       "    /* This prevents the web browser from automatically changing to\n",
       "     * the text insertion cursor when the button is pressed.  We want\n",
       "     * to control all of the cursor setting manually through the\n",
       "     * 'cursor' event from matplotlib */\n",
       "    event.preventDefault();\n",
       "    return false;\n",
       "}\n",
       "\n",
       "mpl.figure.prototype._key_event_extra = function(event, name) {\n",
       "    // Handle any extra behaviour associated with a key event\n",
       "}\n",
       "\n",
       "mpl.figure.prototype.key_event = function(event, name) {\n",
       "\n",
       "    // Prevent repeat events\n",
       "    if (name == 'key_press')\n",
       "    {\n",
       "        if (event.which === this._key)\n",
       "            return;\n",
       "        else\n",
       "            this._key = event.which;\n",
       "    }\n",
       "    if (name == 'key_release')\n",
       "        this._key = null;\n",
       "\n",
       "    var value = '';\n",
       "    if (event.ctrlKey && event.which != 17)\n",
       "        value += \"ctrl+\";\n",
       "    if (event.altKey && event.which != 18)\n",
       "        value += \"alt+\";\n",
       "    if (event.shiftKey && event.which != 16)\n",
       "        value += \"shift+\";\n",
       "\n",
       "    value += 'k';\n",
       "    value += event.which.toString();\n",
       "\n",
       "    this._key_event_extra(event, name);\n",
       "\n",
       "    this.send_message(name, {key: value,\n",
       "                             guiEvent: simpleKeys(event)});\n",
       "    return false;\n",
       "}\n",
       "\n",
       "mpl.figure.prototype.toolbar_button_onclick = function(name) {\n",
       "    if (name == 'download') {\n",
       "        this.handle_save(this, null);\n",
       "    } else {\n",
       "        this.send_message(\"toolbar_button\", {name: name});\n",
       "    }\n",
       "};\n",
       "\n",
       "mpl.figure.prototype.toolbar_button_onmouseover = function(tooltip) {\n",
       "    this.message.textContent = tooltip;\n",
       "};\n",
       "mpl.toolbar_items = [[\"Home\", \"Reset original view\", \"fa fa-home icon-home\", \"home\"], [\"Back\", \"Back to  previous view\", \"fa fa-arrow-left icon-arrow-left\", \"back\"], [\"Forward\", \"Forward to next view\", \"fa fa-arrow-right icon-arrow-right\", \"forward\"], [\"\", \"\", \"\", \"\"], [\"Pan\", \"Pan axes with left mouse, zoom with right\", \"fa fa-arrows icon-move\", \"pan\"], [\"Zoom\", \"Zoom to rectangle\", \"fa fa-square-o icon-check-empty\", \"zoom\"], [\"\", \"\", \"\", \"\"], [\"Download\", \"Download plot\", \"fa fa-floppy-o icon-save\", \"download\"]];\n",
       "\n",
       "mpl.extensions = [\"eps\", \"jpeg\", \"pdf\", \"png\", \"ps\", \"raw\", \"svg\", \"tif\"];\n",
       "\n",
       "mpl.default_extension = \"png\";var comm_websocket_adapter = function(comm) {\n",
       "    // Create a \"websocket\"-like object which calls the given IPython comm\n",
       "    // object with the appropriate methods. Currently this is a non binary\n",
       "    // socket, so there is still some room for performance tuning.\n",
       "    var ws = {};\n",
       "\n",
       "    ws.close = function() {\n",
       "        comm.close()\n",
       "    };\n",
       "    ws.send = function(m) {\n",
       "        //console.log('sending', m);\n",
       "        comm.send(m);\n",
       "    };\n",
       "    // Register the callback with on_msg.\n",
       "    comm.on_msg(function(msg) {\n",
       "        //console.log('receiving', msg['content']['data'], msg);\n",
       "        // Pass the mpl event to the overriden (by mpl) onmessage function.\n",
       "        ws.onmessage(msg['content']['data'])\n",
       "    });\n",
       "    return ws;\n",
       "}\n",
       "\n",
       "mpl.mpl_figure_comm = function(comm, msg) {\n",
       "    // This is the function which gets called when the mpl process\n",
       "    // starts-up an IPython Comm through the \"matplotlib\" channel.\n",
       "\n",
       "    var id = msg.content.data.id;\n",
       "    // Get hold of the div created by the display call when the Comm\n",
       "    // socket was opened in Python.\n",
       "    var element = $(\"#\" + id);\n",
       "    var ws_proxy = comm_websocket_adapter(comm)\n",
       "\n",
       "    function ondownload(figure, format) {\n",
       "        window.open(figure.imageObj.src);\n",
       "    }\n",
       "\n",
       "    var fig = new mpl.figure(id, ws_proxy,\n",
       "                           ondownload,\n",
       "                           element.get(0));\n",
       "\n",
       "    // Call onopen now - mpl needs it, as it is assuming we've passed it a real\n",
       "    // web socket which is closed, not our websocket->open comm proxy.\n",
       "    ws_proxy.onopen();\n",
       "\n",
       "    fig.parent_element = element.get(0);\n",
       "    fig.cell_info = mpl.find_output_cell(\"<div id='\" + id + \"'></div>\");\n",
       "    if (!fig.cell_info) {\n",
       "        console.error(\"Failed to find cell for figure\", id, fig);\n",
       "        return;\n",
       "    }\n",
       "\n",
       "    var output_index = fig.cell_info[2]\n",
       "    var cell = fig.cell_info[0];\n",
       "\n",
       "};\n",
       "\n",
       "mpl.figure.prototype.handle_close = function(fig, msg) {\n",
       "    var width = fig.canvas.width/mpl.ratio\n",
       "    fig.root.unbind('remove')\n",
       "\n",
       "    // Update the output cell to use the data from the current canvas.\n",
       "    fig.push_to_output();\n",
       "    var dataURL = fig.canvas.toDataURL();\n",
       "    // Re-enable the keyboard manager in IPython - without this line, in FF,\n",
       "    // the notebook keyboard shortcuts fail.\n",
       "    IPython.keyboard_manager.enable()\n",
       "    $(fig.parent_element).html('<img src=\"' + dataURL + '\" width=\"' + width + '\">');\n",
       "    fig.close_ws(fig, msg);\n",
       "}\n",
       "\n",
       "mpl.figure.prototype.close_ws = function(fig, msg){\n",
       "    fig.send_message('closing', msg);\n",
       "    // fig.ws.close()\n",
       "}\n",
       "\n",
       "mpl.figure.prototype.push_to_output = function(remove_interactive) {\n",
       "    // Turn the data on the canvas into data in the output cell.\n",
       "    var width = this.canvas.width/mpl.ratio\n",
       "    var dataURL = this.canvas.toDataURL();\n",
       "    this.cell_info[1]['text/html'] = '<img src=\"' + dataURL + '\" width=\"' + width + '\">';\n",
       "}\n",
       "\n",
       "mpl.figure.prototype.updated_canvas_event = function() {\n",
       "    // Tell IPython that the notebook contents must change.\n",
       "    IPython.notebook.set_dirty(true);\n",
       "    this.send_message(\"ack\", {});\n",
       "    var fig = this;\n",
       "    // Wait a second, then push the new image to the DOM so\n",
       "    // that it is saved nicely (might be nice to debounce this).\n",
       "    setTimeout(function () { fig.push_to_output() }, 1000);\n",
       "}\n",
       "\n",
       "mpl.figure.prototype._init_toolbar = function() {\n",
       "    var fig = this;\n",
       "\n",
       "    var nav_element = $('<div/>')\n",
       "    nav_element.attr('style', 'width: 100%');\n",
       "    this.root.append(nav_element);\n",
       "\n",
       "    // Define a callback function for later on.\n",
       "    function toolbar_event(event) {\n",
       "        return fig.toolbar_button_onclick(event['data']);\n",
       "    }\n",
       "    function toolbar_mouse_event(event) {\n",
       "        return fig.toolbar_button_onmouseover(event['data']);\n",
       "    }\n",
       "\n",
       "    for(var toolbar_ind in mpl.toolbar_items){\n",
       "        var name = mpl.toolbar_items[toolbar_ind][0];\n",
       "        var tooltip = mpl.toolbar_items[toolbar_ind][1];\n",
       "        var image = mpl.toolbar_items[toolbar_ind][2];\n",
       "        var method_name = mpl.toolbar_items[toolbar_ind][3];\n",
       "\n",
       "        if (!name) { continue; };\n",
       "\n",
       "        var button = $('<button class=\"btn btn-default\" href=\"#\" title=\"' + name + '\"><i class=\"fa ' + image + ' fa-lg\"></i></button>');\n",
       "        button.click(method_name, toolbar_event);\n",
       "        button.mouseover(tooltip, toolbar_mouse_event);\n",
       "        nav_element.append(button);\n",
       "    }\n",
       "\n",
       "    // Add the status bar.\n",
       "    var status_bar = $('<span class=\"mpl-message\" style=\"text-align:right; float: right;\"/>');\n",
       "    nav_element.append(status_bar);\n",
       "    this.message = status_bar[0];\n",
       "\n",
       "    // Add the close button to the window.\n",
       "    var buttongrp = $('<div class=\"btn-group inline pull-right\"></div>');\n",
       "    var button = $('<button class=\"btn btn-mini btn-primary\" href=\"#\" title=\"Stop Interaction\"><i class=\"fa fa-power-off icon-remove icon-large\"></i></button>');\n",
       "    button.click(function (evt) { fig.handle_close(fig, {}); } );\n",
       "    button.mouseover('Stop Interaction', toolbar_mouse_event);\n",
       "    buttongrp.append(button);\n",
       "    var titlebar = this.root.find($('.ui-dialog-titlebar'));\n",
       "    titlebar.prepend(buttongrp);\n",
       "}\n",
       "\n",
       "mpl.figure.prototype._root_extra_style = function(el){\n",
       "    var fig = this\n",
       "    el.on(\"remove\", function(){\n",
       "\tfig.close_ws(fig, {});\n",
       "    });\n",
       "}\n",
       "\n",
       "mpl.figure.prototype._canvas_extra_style = function(el){\n",
       "    // this is important to make the div 'focusable\n",
       "    el.attr('tabindex', 0)\n",
       "    // reach out to IPython and tell the keyboard manager to turn it's self\n",
       "    // off when our div gets focus\n",
       "\n",
       "    // location in version 3\n",
       "    if (IPython.notebook.keyboard_manager) {\n",
       "        IPython.notebook.keyboard_manager.register_events(el);\n",
       "    }\n",
       "    else {\n",
       "        // location in version 2\n",
       "        IPython.keyboard_manager.register_events(el);\n",
       "    }\n",
       "\n",
       "}\n",
       "\n",
       "mpl.figure.prototype._key_event_extra = function(event, name) {\n",
       "    var manager = IPython.notebook.keyboard_manager;\n",
       "    if (!manager)\n",
       "        manager = IPython.keyboard_manager;\n",
       "\n",
       "    // Check for shift+enter\n",
       "    if (event.shiftKey && event.which == 13) {\n",
       "        this.canvas_div.blur();\n",
       "        // select the cell after this one\n",
       "        var index = IPython.notebook.find_cell_index(this.cell_info[0]);\n",
       "        IPython.notebook.select(index + 1);\n",
       "    }\n",
       "}\n",
       "\n",
       "mpl.figure.prototype.handle_save = function(fig, msg) {\n",
       "    fig.ondownload(fig, null);\n",
       "}\n",
       "\n",
       "\n",
       "mpl.find_output_cell = function(html_output) {\n",
       "    // Return the cell and output element which can be found *uniquely* in the notebook.\n",
       "    // Note - this is a bit hacky, but it is done because the \"notebook_saving.Notebook\"\n",
       "    // IPython event is triggered only after the cells have been serialised, which for\n",
       "    // our purposes (turning an active figure into a static one), is too late.\n",
       "    var cells = IPython.notebook.get_cells();\n",
       "    var ncells = cells.length;\n",
       "    for (var i=0; i<ncells; i++) {\n",
       "        var cell = cells[i];\n",
       "        if (cell.cell_type === 'code'){\n",
       "            for (var j=0; j<cell.output_area.outputs.length; j++) {\n",
       "                var data = cell.output_area.outputs[j];\n",
       "                if (data.data) {\n",
       "                    // IPython >= 3 moved mimebundle to data attribute of output\n",
       "                    data = data.data;\n",
       "                }\n",
       "                if (data['text/html'] == html_output) {\n",
       "                    return [cell, data, j];\n",
       "                }\n",
       "            }\n",
       "        }\n",
       "    }\n",
       "}\n",
       "\n",
       "// Register the function which deals with the matplotlib target/channel.\n",
       "// The kernel may be null if the page has been refreshed.\n",
       "if (IPython.notebook.kernel != null) {\n",
       "    IPython.notebook.kernel.comm_manager.register_target('matplotlib', mpl.mpl_figure_comm);\n",
       "}\n"
      ],
      "text/plain": [
       "<IPython.core.display.Javascript object>"
      ]
     },
     "metadata": {},
     "output_type": "display_data"
    },
    {
     "data": {
      "text/html": [
       "<img src=\"data:image/png;base64,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\" width=\"640\">"
      ],
      "text/plain": [
       "<IPython.core.display.HTML object>"
      ]
     },
     "metadata": {},
     "output_type": "display_data"
    }
   ],
   "source": [
    "n_epochs = 500\n",
    "epoch_list = []\n",
    "loss_list = []\n",
    "\n",
    "fig = plt.gcf()\n",
    "fig.show()\n",
    "fig.canvas.draw()\n",
    "\n",
    "for epoch in range(n_epochs):\n",
    "    running_loss = 0\n",
    "    for i, data in enumerate(train_loader):\n",
    "        inputs, targets = data\n",
    "        # wrap in Variable\n",
    "        inputs, targets = Variable(inputs.cuda()).type(dtype), Variable(targets.cuda()).type(dtype)\n",
    "\n",
    "        # in your training loop:\n",
    "        optimizer.zero_grad()   # zero the gradient buffers\n",
    "        \n",
    "        output = net(inputs)\n",
    "        loss = criterion(output, targets)\n",
    "        loss.backward()\n",
    "        optimizer.step()\n",
    "        running_loss += loss.data[0]\n",
    "    \n",
    "    try:\n",
    "        last_loss = loss_list[-1]\n",
    "    except:\n",
    "        last_loss = 9999999999999\n",
    "    if running_loss > (2*last_loss):\n",
    "        pass\n",
    "    else:\n",
    "        epoch_list.append(epoch)\n",
    "        loss_list.append(running_loss)\n",
    "    if epoch % 1 == 0:\n",
    "        plt.plot(epoch_list, loss_list)\n",
    "        plt.title(\"Epoch: {0}\".format(epoch))\n",
    "        fig.canvas.draw()\n",
    "    if (epoch >= 99) & ((epoch+1) % 20 == 0):\n",
    "        torch.save(net.state_dict(), save_path+'1.0.0_e{0}'.format(epoch+1))"
   ]
  },
  {
   "cell_type": "markdown",
   "metadata": {},
   "source": [
    "# get the weights and biases of the nn into np since at this size np is faster (correction, pytorch was faster)"
   ]
  },
  {
   "cell_type": "code",
   "execution_count": 12,
   "metadata": {
    "ExecuteTime": {
     "end_time": "2017-11-01T08:56:28.185996Z",
     "start_time": "2017-11-01T08:56:28.181433Z"
    },
    "collapsed": true
   },
   "outputs": [],
   "source": [
    "# np_hl1_weight = net.hl1.weight.data.numpy()\n",
    "# np_hl1_bias = net.hl1.bias.data.numpy()\n",
    "# np_hl2_weight = net.hl2.weight.data.numpy()\n",
    "# np_hl2_bias = net.hl2.bias.data.numpy()\n",
    "# np_out_weight = net.out.weight.data.numpy()\n",
    "# np_out_bias = net.out.bias.data.numpy()"
   ]
  },
  {
   "cell_type": "markdown",
   "metadata": {},
   "source": [
    "# check that they output the same and speedtest (pytorch was faster)"
   ]
  },
  {
   "cell_type": "code",
   "execution_count": 13,
   "metadata": {
    "ExecuteTime": {
     "end_time": "2017-11-01T08:56:32.100323Z",
     "start_time": "2017-11-01T08:56:32.091406Z"
    },
    "collapsed": true
   },
   "outputs": [],
   "source": [
    "# def np_version(df_inputs):\n",
    "#     np_hl1_z = df_inputs.dot(np_hl1_weight.T) + np_hl1_bias\n",
    "#     np_hl1_a = np.maximum(.01*np_hl1_z, np_hl1_z)\n",
    "#     np_hl2_z = np_hl1_a.dot(np_hl2_weight.T) + np_hl2_bias\n",
    "#     np_hl2_a = np.maximum(.01*np_hl2_z, np_hl2_z)\n",
    "#     np_out = np_hl2_a.dot(np_out_weight.T) + np_out_bias\n",
    "#     return np_out\n",
    "\n",
    "def torch_version(df_inputs, net):\n",
    "    input = Variable(torch.from_numpy(df_inputs.values)).type(dtype)\n",
    "    return np.round(net(input).data.cpu().numpy(),5)"
   ]
  },
  {
   "cell_type": "code",
   "execution_count": 14,
   "metadata": {
    "ExecuteTime": {
     "end_time": "2017-11-01T08:56:36.059642Z",
     "start_time": "2017-11-01T08:56:36.057613Z"
    },
    "collapsed": true
   },
   "outputs": [],
   "source": [
    "#%timeit np_version(standardized)"
   ]
  },
  {
   "cell_type": "code",
   "execution_count": 16,
   "metadata": {
    "ExecuteTime": {
     "end_time": "2017-11-01T08:56:51.562190Z",
     "start_time": "2017-11-01T08:56:48.213038Z"
    }
   },
   "outputs": [
    {
     "name": "stdout",
     "output_type": "stream",
     "text": [
      "407 ms ± 12.2 ms per loop (mean ± std. dev. of 7 runs, 1 loop each)\n"
     ]
    }
   ],
   "source": [
    "%timeit torch_version(train_X, net)"
   ]
  },
  {
   "cell_type": "markdown",
   "metadata": {},
   "source": [
    "# Examine performance on test set"
   ]
  },
  {
   "cell_type": "code",
   "execution_count": 17,
   "metadata": {
    "ExecuteTime": {
     "end_time": "2017-11-01T08:56:57.405846Z",
     "start_time": "2017-11-01T08:56:55.252162Z"
    },
    "collapsed": true
   },
   "outputs": [],
   "source": [
    "store.open()\n",
    "test = store['test_filtered_columns']\n",
    "train = store['train_filtered_columns']\n",
    "loan_npv_rois = store['loan_npv_rois']\n",
    "default_series = test['target_strict']\n",
    "results = store['results']\n",
    "store.close()"
   ]
  },
  {
   "cell_type": "code",
   "execution_count": 18,
   "metadata": {
    "ExecuteTime": {
     "end_time": "2017-11-01T08:57:07.718847Z",
     "start_time": "2017-11-01T08:57:01.112224Z"
    },
    "collapsed": true
   },
   "outputs": [],
   "source": [
    "train_X, train_y = data_prep.process_data_test(train)\n",
    "train_y = train_y['npv_roi_10'].values\n",
    "test_X, test_y = data_prep.process_data_test(test)\n",
    "test_y = test_y['npv_roi_10'].values\n",
    "# regr = joblib.load('model_dump/model_0.2.1.pkl')\n",
    "regr_version = '1.0.0'\n",
    "test_yhat = torch_version(test_X, net)\n",
    "train_yhat = torch_version(train_X, net)"
   ]
  },
  {
   "cell_type": "code",
   "execution_count": 19,
   "metadata": {
    "ExecuteTime": {
     "end_time": "2017-11-01T08:57:11.415239Z",
     "start_time": "2017-11-01T08:57:11.406075Z"
    },
    "collapsed": true
   },
   "outputs": [],
   "source": [
    "test_mse = mean_squared_error(test_yhat,test_y)\n",
    "train_mse = mean_squared_error(train_yhat,train_y)"
   ]
  },
  {
   "cell_type": "code",
   "execution_count": 20,
   "metadata": {
    "ExecuteTime": {
     "end_time": "2017-11-01T08:57:15.372805Z",
     "start_time": "2017-11-01T08:57:15.325030Z"
    },
    "collapsed": true
   },
   "outputs": [],
   "source": [
    "def eval_models_net(trials, port_size, available_loans, net, regr_version, test, loan_npv_rois,\n",
    "                default_series):\n",
    "    results = {}\n",
    "    pct_default = {}\n",
    "    test_copy = test.copy()\n",
    "    for trial in tqdm_notebook(np.arange(trials)):\n",
    "        loan_ids = np.random.choice(\n",
    "            test_copy.index.values, available_loans, replace=False)\n",
    "        loans_to_pick_from = test_copy.loc[loan_ids, :]\n",
    "        scores = torch_version(loans_to_pick_from, net)\n",
    "        scores_series = pd.Series(dict(zip(loan_ids, scores)))\n",
    "        scores_series.sort_values(ascending=False, inplace=True)\n",
    "        picks = scores_series[:900].index.values\n",
    "        results[trial] = loan_npv_rois.loc[picks, :].mean().to_dict()\n",
    "        pct_default[trial] = (default_series.loc[picks].sum()) / port_size\n",
    "    pct_default_series = pd.Series(pct_default)\n",
    "    results_df = pd.DataFrame(results).T\n",
    "    results_df['pct_def'] = pct_default_series\n",
    "    return results_df"
   ]
  },
  {
   "cell_type": "code",
   "execution_count": 21,
   "metadata": {
    "ExecuteTime": {
     "end_time": "2017-11-01T09:13:15.808903Z",
     "start_time": "2017-11-01T08:57:19.093291Z"
    }
   },
   "outputs": [
    {
     "data": {
      "application/vnd.jupyter.widget-view+json": {
       "model_id": "3e93692a3dc1478289e8e25a12257340",
       "version_major": 2,
       "version_minor": 0
      },
      "text/plain": [
       "A Jupyter Widget"
      ]
     },
     "metadata": {},
     "output_type": "display_data"
    },
    {
     "name": "stdout",
     "output_type": "stream",
     "text": [
      "\n"
     ]
    }
   ],
   "source": [
    "# as per done with baseline models, say 3000 loans available\n",
    "# , pick 900 of them\n",
    "trials = 20000\n",
    "port_size = 900\n",
    "available_loans = 3000\n",
    "model_results = eval_models_net(trials, port_size, available_loans, net, regr_version, test_X, loan_npv_rois, default_series)"
   ]
  },
  {
   "cell_type": "code",
   "execution_count": 22,
   "metadata": {
    "ExecuteTime": {
     "end_time": "2017-11-01T09:13:19.359428Z",
     "start_time": "2017-11-01T09:13:19.357211Z"
    },
    "collapsed": true
   },
   "outputs": [],
   "source": [
    "multi_index = []\n",
    "for col in model_results.columns.values:\n",
    "    multi_index.append((str(col),regr_version))\n",
    "append_results = model_results.copy()\n",
    "append_results.columns = pd.MultiIndex.from_tuples(multi_index, names = ['discount_rate', 'model'])    "
   ]
  },
  {
   "cell_type": "code",
   "execution_count": 24,
   "metadata": {
    "ExecuteTime": {
     "end_time": "2017-11-01T09:13:26.492588Z",
     "start_time": "2017-11-01T09:13:26.490161Z"
    },
    "collapsed": true
   },
   "outputs": [],
   "source": [
    "multi_index_results = []\n",
    "for col in results.columns.values:\n",
    "    multi_index_results.append((str(col[0]), col[1]))\n",
    "results.columns = pd.MultiIndex.from_tuples(multi_index_results, names = ['discount_rate', 'model'])    "
   ]
  },
  {
   "cell_type": "code",
   "execution_count": 26,
   "metadata": {
    "ExecuteTime": {
     "end_time": "2017-11-01T09:13:33.640319Z",
     "start_time": "2017-11-01T09:13:33.589215Z"
    },
    "collapsed": true
   },
   "outputs": [],
   "source": [
    "full_results = results.join(append_results)\n",
    "full_results.sort_index(axis=1, inplace=True)"
   ]
  },
  {
   "cell_type": "code",
   "execution_count": 28,
   "metadata": {
    "ExecuteTime": {
     "end_time": "2017-11-01T09:13:41.641907Z",
     "start_time": "2017-11-01T09:13:40.983026Z"
    }
   },
   "outputs": [
    {
     "data": {
      "text/html": [
       "<div>\n",
       "<style>\n",
       "    .dataframe thead tr:only-child th {\n",
       "        text-align: right;\n",
       "    }\n",
       "\n",
       "    .dataframe thead th {\n",
       "        text-align: left;\n",
       "    }\n",
       "\n",
       "    .dataframe tbody tr th {\n",
       "        vertical-align: top;\n",
       "    }\n",
       "</style>\n",
       "<table border=\"1\" class=\"dataframe\">\n",
       "  <thead>\n",
       "    <tr>\n",
       "      <th>discount_rate</th>\n",
       "      <th colspan=\"10\" halign=\"left\">0.05</th>\n",
       "      <th>...</th>\n",
       "      <th colspan=\"10\" halign=\"left\">pct_def</th>\n",
       "    </tr>\n",
       "    <tr>\n",
       "      <th>model</th>\n",
       "      <th>0.1.0</th>\n",
       "      <th>0.2.0</th>\n",
       "      <th>0.2.1</th>\n",
       "      <th>1.0.0</th>\n",
       "      <th>A</th>\n",
       "      <th>B</th>\n",
       "      <th>C</th>\n",
       "      <th>D</th>\n",
       "      <th>E</th>\n",
       "      <th>F</th>\n",
       "      <th>...</th>\n",
       "      <th>0.2.1</th>\n",
       "      <th>1.0.0</th>\n",
       "      <th>A</th>\n",
       "      <th>B</th>\n",
       "      <th>C</th>\n",
       "      <th>D</th>\n",
       "      <th>E</th>\n",
       "      <th>F</th>\n",
       "      <th>G</th>\n",
       "      <th>baseline</th>\n",
       "    </tr>\n",
       "  </thead>\n",
       "  <tbody>\n",
       "    <tr>\n",
       "      <th>count</th>\n",
       "      <td>20000.000000</td>\n",
       "      <td>20000.000000</td>\n",
       "      <td>20000.000000</td>\n",
       "      <td>20000.000000</td>\n",
       "      <td>20000.000000</td>\n",
       "      <td>20000.000000</td>\n",
       "      <td>20000.000000</td>\n",
       "      <td>20000.000000</td>\n",
       "      <td>20000.000000</td>\n",
       "      <td>20000.000000</td>\n",
       "      <td>...</td>\n",
       "      <td>20000.000000</td>\n",
       "      <td>20000.000000</td>\n",
       "      <td>20000.000000</td>\n",
       "      <td>20000.000000</td>\n",
       "      <td>20000.000000</td>\n",
       "      <td>20000.000000</td>\n",
       "      <td>20000.000000</td>\n",
       "      <td>20000.000000</td>\n",
       "      <td>20000.000000</td>\n",
       "      <td>20000.000000</td>\n",
       "    </tr>\n",
       "    <tr>\n",
       "      <th>mean</th>\n",
       "      <td>0.016549</td>\n",
       "      <td>0.029385</td>\n",
       "      <td>0.036553</td>\n",
       "      <td>0.039618</td>\n",
       "      <td>-0.017613</td>\n",
       "      <td>-0.016578</td>\n",
       "      <td>-0.054440</td>\n",
       "      <td>-0.077195</td>\n",
       "      <td>-0.127935</td>\n",
       "      <td>-0.151024</td>\n",
       "      <td>...</td>\n",
       "      <td>0.150301</td>\n",
       "      <td>0.136397</td>\n",
       "      <td>0.077550</td>\n",
       "      <td>0.147016</td>\n",
       "      <td>0.245868</td>\n",
       "      <td>0.323397</td>\n",
       "      <td>0.412263</td>\n",
       "      <td>0.466298</td>\n",
       "      <td>0.505860</td>\n",
       "      <td>0.224392</td>\n",
       "    </tr>\n",
       "    <tr>\n",
       "      <th>std</th>\n",
       "      <td>0.006255</td>\n",
       "      <td>0.006716</td>\n",
       "      <td>0.006856</td>\n",
       "      <td>0.006512</td>\n",
       "      <td>0.005413</td>\n",
       "      <td>0.007652</td>\n",
       "      <td>0.010059</td>\n",
       "      <td>0.011463</td>\n",
       "      <td>0.015734</td>\n",
       "      <td>0.027647</td>\n",
       "      <td>...</td>\n",
       "      <td>0.011764</td>\n",
       "      <td>0.011352</td>\n",
       "      <td>0.008750</td>\n",
       "      <td>0.011716</td>\n",
       "      <td>0.014238</td>\n",
       "      <td>0.015189</td>\n",
       "      <td>0.019076</td>\n",
       "      <td>0.031983</td>\n",
       "      <td>0.062399</td>\n",
       "      <td>0.013914</td>\n",
       "    </tr>\n",
       "    <tr>\n",
       "      <th>min</th>\n",
       "      <td>-0.013305</td>\n",
       "      <td>-0.000237</td>\n",
       "      <td>0.010137</td>\n",
       "      <td>0.012695</td>\n",
       "      <td>-0.040668</td>\n",
       "      <td>-0.051817</td>\n",
       "      <td>-0.094395</td>\n",
       "      <td>-0.127970</td>\n",
       "      <td>-0.194479</td>\n",
       "      <td>-0.258331</td>\n",
       "      <td>...</td>\n",
       "      <td>0.107778</td>\n",
       "      <td>0.094444</td>\n",
       "      <td>0.043333</td>\n",
       "      <td>0.103333</td>\n",
       "      <td>0.187778</td>\n",
       "      <td>0.262222</td>\n",
       "      <td>0.338211</td>\n",
       "      <td>0.340708</td>\n",
       "      <td>0.266667</td>\n",
       "      <td>0.173333</td>\n",
       "    </tr>\n",
       "    <tr>\n",
       "      <th>25%</th>\n",
       "      <td>0.012379</td>\n",
       "      <td>0.024946</td>\n",
       "      <td>0.031949</td>\n",
       "      <td>0.035281</td>\n",
       "      <td>-0.021212</td>\n",
       "      <td>-0.021723</td>\n",
       "      <td>-0.061223</td>\n",
       "      <td>-0.085046</td>\n",
       "      <td>-0.138476</td>\n",
       "      <td>-0.169609</td>\n",
       "      <td>...</td>\n",
       "      <td>0.142222</td>\n",
       "      <td>0.128889</td>\n",
       "      <td>0.071111</td>\n",
       "      <td>0.138889</td>\n",
       "      <td>0.236667</td>\n",
       "      <td>0.313333</td>\n",
       "      <td>0.400000</td>\n",
       "      <td>0.442478</td>\n",
       "      <td>0.466667</td>\n",
       "      <td>0.214444</td>\n",
       "    </tr>\n",
       "    <tr>\n",
       "      <th>50%</th>\n",
       "      <td>0.016605</td>\n",
       "      <td>0.029465</td>\n",
       "      <td>0.036679</td>\n",
       "      <td>0.039745</td>\n",
       "      <td>-0.017530</td>\n",
       "      <td>-0.016529</td>\n",
       "      <td>-0.054440</td>\n",
       "      <td>-0.077187</td>\n",
       "      <td>-0.127936</td>\n",
       "      <td>-0.150864</td>\n",
       "      <td>...</td>\n",
       "      <td>0.150000</td>\n",
       "      <td>0.136667</td>\n",
       "      <td>0.077778</td>\n",
       "      <td>0.146667</td>\n",
       "      <td>0.245556</td>\n",
       "      <td>0.323333</td>\n",
       "      <td>0.413008</td>\n",
       "      <td>0.464602</td>\n",
       "      <td>0.500000</td>\n",
       "      <td>0.224444</td>\n",
       "    </tr>\n",
       "    <tr>\n",
       "      <th>75%</th>\n",
       "      <td>0.020790</td>\n",
       "      <td>0.033923</td>\n",
       "      <td>0.041245</td>\n",
       "      <td>0.044032</td>\n",
       "      <td>-0.013927</td>\n",
       "      <td>-0.011411</td>\n",
       "      <td>-0.047614</td>\n",
       "      <td>-0.069438</td>\n",
       "      <td>-0.117300</td>\n",
       "      <td>-0.132045</td>\n",
       "      <td>...</td>\n",
       "      <td>0.157778</td>\n",
       "      <td>0.144444</td>\n",
       "      <td>0.083333</td>\n",
       "      <td>0.154444</td>\n",
       "      <td>0.255556</td>\n",
       "      <td>0.333333</td>\n",
       "      <td>0.424390</td>\n",
       "      <td>0.486726</td>\n",
       "      <td>0.550000</td>\n",
       "      <td>0.233333</td>\n",
       "    </tr>\n",
       "    <tr>\n",
       "      <th>max</th>\n",
       "      <td>0.038833</td>\n",
       "      <td>0.056551</td>\n",
       "      <td>0.061867</td>\n",
       "      <td>0.064411</td>\n",
       "      <td>0.002303</td>\n",
       "      <td>0.012748</td>\n",
       "      <td>-0.016699</td>\n",
       "      <td>-0.029709</td>\n",
       "      <td>-0.059445</td>\n",
       "      <td>-0.032486</td>\n",
       "      <td>...</td>\n",
       "      <td>0.195556</td>\n",
       "      <td>0.177778</td>\n",
       "      <td>0.115556</td>\n",
       "      <td>0.192222</td>\n",
       "      <td>0.305556</td>\n",
       "      <td>0.386667</td>\n",
       "      <td>0.484553</td>\n",
       "      <td>0.597345</td>\n",
       "      <td>0.750000</td>\n",
       "      <td>0.281111</td>\n",
       "    </tr>\n",
       "  </tbody>\n",
       "</table>\n",
       "<p>8 rows × 384 columns</p>\n",
       "</div>"
      ],
      "text/plain": [
       "discount_rate          0.05                                            \\\n",
       "model                 0.1.0         0.2.0         0.2.1         1.0.0   \n",
       "count          20000.000000  20000.000000  20000.000000  20000.000000   \n",
       "mean               0.016549      0.029385      0.036553      0.039618   \n",
       "std                0.006255      0.006716      0.006856      0.006512   \n",
       "min               -0.013305     -0.000237      0.010137      0.012695   \n",
       "25%                0.012379      0.024946      0.031949      0.035281   \n",
       "50%                0.016605      0.029465      0.036679      0.039745   \n",
       "75%                0.020790      0.033923      0.041245      0.044032   \n",
       "max                0.038833      0.056551      0.061867      0.064411   \n",
       "\n",
       "discount_rate                                                          \\\n",
       "model                     A             B             C             D   \n",
       "count          20000.000000  20000.000000  20000.000000  20000.000000   \n",
       "mean              -0.017613     -0.016578     -0.054440     -0.077195   \n",
       "std                0.005413      0.007652      0.010059      0.011463   \n",
       "min               -0.040668     -0.051817     -0.094395     -0.127970   \n",
       "25%               -0.021212     -0.021723     -0.061223     -0.085046   \n",
       "50%               -0.017530     -0.016529     -0.054440     -0.077187   \n",
       "75%               -0.013927     -0.011411     -0.047614     -0.069438   \n",
       "max                0.002303      0.012748     -0.016699     -0.029709   \n",
       "\n",
       "discount_rate                                  ...            pct_def  \\\n",
       "model                     E             F      ...              0.2.1   \n",
       "count          20000.000000  20000.000000      ...       20000.000000   \n",
       "mean              -0.127935     -0.151024      ...           0.150301   \n",
       "std                0.015734      0.027647      ...           0.011764   \n",
       "min               -0.194479     -0.258331      ...           0.107778   \n",
       "25%               -0.138476     -0.169609      ...           0.142222   \n",
       "50%               -0.127936     -0.150864      ...           0.150000   \n",
       "75%               -0.117300     -0.132045      ...           0.157778   \n",
       "max               -0.059445     -0.032486      ...           0.195556   \n",
       "\n",
       "discount_rate                                                          \\\n",
       "model                 1.0.0             A             B             C   \n",
       "count          20000.000000  20000.000000  20000.000000  20000.000000   \n",
       "mean               0.136397      0.077550      0.147016      0.245868   \n",
       "std                0.011352      0.008750      0.011716      0.014238   \n",
       "min                0.094444      0.043333      0.103333      0.187778   \n",
       "25%                0.128889      0.071111      0.138889      0.236667   \n",
       "50%                0.136667      0.077778      0.146667      0.245556   \n",
       "75%                0.144444      0.083333      0.154444      0.255556   \n",
       "max                0.177778      0.115556      0.192222      0.305556   \n",
       "\n",
       "discount_rate                                                          \\\n",
       "model                     D             E             F             G   \n",
       "count          20000.000000  20000.000000  20000.000000  20000.000000   \n",
       "mean               0.323397      0.412263      0.466298      0.505860   \n",
       "std                0.015189      0.019076      0.031983      0.062399   \n",
       "min                0.262222      0.338211      0.340708      0.266667   \n",
       "25%                0.313333      0.400000      0.442478      0.466667   \n",
       "50%                0.323333      0.413008      0.464602      0.500000   \n",
       "75%                0.333333      0.424390      0.486726      0.550000   \n",
       "max                0.386667      0.484553      0.597345      0.750000   \n",
       "\n",
       "discount_rate                \n",
       "model              baseline  \n",
       "count          20000.000000  \n",
       "mean               0.224392  \n",
       "std                0.013914  \n",
       "min                0.173333  \n",
       "25%                0.214444  \n",
       "50%                0.224444  \n",
       "75%                0.233333  \n",
       "max                0.281111  \n",
       "\n",
       "[8 rows x 384 columns]"
      ]
     },
     "execution_count": 28,
     "metadata": {},
     "output_type": "execute_result"
    }
   ],
   "source": [
    "full_results.describe()"
   ]
  },
  {
   "cell_type": "code",
   "execution_count": 30,
   "metadata": {
    "ExecuteTime": {
     "end_time": "2017-11-01T10:08:22.312527Z",
     "start_time": "2017-11-01T10:08:22.060526Z"
    },
    "collapsed": true
   },
   "outputs": [],
   "source": [
    "store.open()\n",
    "store['results'] = full_results\n",
    "model_info = store['model_info']\n",
    "store.close()"
   ]
  },
  {
   "cell_type": "markdown",
   "metadata": {},
   "source": [
    "# Making model info and saving it"
   ]
  },
  {
   "cell_type": "code",
   "execution_count": 31,
   "metadata": {
    "ExecuteTime": {
     "end_time": "2017-11-01T10:08:31.741391Z",
     "start_time": "2017-11-01T10:08:31.730160Z"
    }
   },
   "outputs": [
    {
     "data": {
      "text/plain": [
       "['model_dump/mean_stddev.pkl']"
      ]
     },
     "execution_count": 31,
     "metadata": {},
     "output_type": "execute_result"
    }
   ],
   "source": [
    "# dump the model\n",
    "# joblib.dump(regr, 'model_dump/model_0.2.1.pkl')\n",
    "joblib.dump((mean_series, std_dev_series), 'model_dump/mean_stddev.pkl')"
   ]
  },
  {
   "cell_type": "code",
   "execution_count": 32,
   "metadata": {
    "ExecuteTime": {
     "end_time": "2017-11-01T10:08:35.790764Z",
     "start_time": "2017-11-01T10:08:35.788049Z"
    }
   },
   "outputs": [
    {
     "data": {
      "text/plain": [
       "0.064464342538167185"
      ]
     },
     "execution_count": 32,
     "metadata": {},
     "output_type": "execute_result"
    }
   ],
   "source": [
    "test_mse"
   ]
  },
  {
   "cell_type": "code",
   "execution_count": 33,
   "metadata": {
    "ExecuteTime": {
     "end_time": "2017-11-01T10:08:39.514440Z",
     "start_time": "2017-11-01T10:08:39.511672Z"
    }
   },
   "outputs": [
    {
     "data": {
      "text/plain": [
       "0.063618071065420903"
      ]
     },
     "execution_count": 33,
     "metadata": {},
     "output_type": "execute_result"
    }
   ],
   "source": [
    "train_mse"
   ]
  },
  {
   "cell_type": "code",
   "execution_count": 34,
   "metadata": {
    "ExecuteTime": {
     "end_time": "2017-11-01T10:09:25.496350Z",
     "start_time": "2017-11-01T10:09:25.471251Z"
    },
    "collapsed": true
   },
   "outputs": [],
   "source": [
    "now = time.strftime(\"%Y_%m_%d_%Hh_%Mm_%Ss\")\n",
    "# info to stick in detailed dataframe describing each model\n",
    "model_info_dict = {'model_version': '1.0.0',\n",
    "              'target': 'npv_roi_10',\n",
    "              'weights': 'None',\n",
    "              'algo_model': 'feedforward NN',\n",
    "              'hyperparams': \"nn_input_dim = 223, hly1_n = 300, hly2_n = 400, hly3_n = 300, hly4_n = 100, nn_output_dim = 1, optimizer = optim.Adam(net.parameters(), lr=0.001, weight_decay=0.001)\",\n",
    "              'cost_func': 'criterion = nn.MSELoss(),',\n",
    "              'useful_notes': 'test_mse: 0.0644643, train_mse: 0.0636180, epoch_500',\n",
    "              'date': now}\n",
    "\n",
    "model_info_df = pd.DataFrame(model_info_dict, index = ['1.0.0'])"
   ]
  },
  {
   "cell_type": "code",
   "execution_count": 35,
   "metadata": {
    "ExecuteTime": {
     "end_time": "2017-11-01T10:09:29.603541Z",
     "start_time": "2017-11-01T10:09:29.597725Z"
    }
   },
   "outputs": [
    {
     "name": "stderr",
     "output_type": "stream",
     "text": [
      "/home/justin/anaconda3/lib/python3.6/site-packages/ipykernel_launcher.py:1: DeprecationWarning: \n",
      ".ix is deprecated. Please use\n",
      ".loc for label based indexing or\n",
      ".iloc for positional indexing\n",
      "\n",
      "See the documentation here:\n",
      "http://pandas.pydata.org/pandas-docs/stable/indexing.html#ix-indexer-is-deprecated\n",
      "  \"\"\"Entry point for launching an IPython kernel.\n"
     ]
    }
   ],
   "source": [
    "model_info.ix['1.0.0',:] = model_info_df.values"
   ]
  },
  {
   "cell_type": "code",
   "execution_count": 36,
   "metadata": {
    "ExecuteTime": {
     "end_time": "2017-11-01T10:09:33.554793Z",
     "start_time": "2017-11-01T10:09:33.552920Z"
    },
    "collapsed": true
   },
   "outputs": [],
   "source": [
    "model_info.sort_index(inplace=True)"
   ]
  },
  {
   "cell_type": "code",
   "execution_count": 37,
   "metadata": {
    "ExecuteTime": {
     "end_time": "2017-11-01T10:09:37.398157Z",
     "start_time": "2017-11-01T10:09:37.389112Z"
    }
   },
   "outputs": [
    {
     "data": {
      "text/html": [
       "<div>\n",
       "<style>\n",
       "    .dataframe thead tr:only-child th {\n",
       "        text-align: right;\n",
       "    }\n",
       "\n",
       "    .dataframe thead th {\n",
       "        text-align: left;\n",
       "    }\n",
       "\n",
       "    .dataframe tbody tr th {\n",
       "        vertical-align: top;\n",
       "    }\n",
       "</style>\n",
       "<table border=\"1\" class=\"dataframe\">\n",
       "  <thead>\n",
       "    <tr style=\"text-align: right;\">\n",
       "      <th></th>\n",
       "      <th>algo_model</th>\n",
       "      <th>cost_func</th>\n",
       "      <th>date</th>\n",
       "      <th>hyperparams</th>\n",
       "      <th>model_version</th>\n",
       "      <th>target</th>\n",
       "      <th>useful_notes</th>\n",
       "      <th>weights</th>\n",
       "    </tr>\n",
       "  </thead>\n",
       "  <tbody>\n",
       "    <tr>\n",
       "      <th>0.1.0</th>\n",
       "      <td>elastic_net</td>\n",
       "      <td>sklearn default, which I think is mse</td>\n",
       "      <td>2017_08_21_18h_49m_37s</td>\n",
       "      <td>alpha:.004, random_state: 0, max_iter: 1500</td>\n",
       "      <td>0.1.0</td>\n",
       "      <td>npv_roi_10</td>\n",
       "      <td>R2 score of .0604167 (regr.score())</td>\n",
       "      <td>None</td>\n",
       "    </tr>\n",
       "    <tr>\n",
       "      <th>0.2.0</th>\n",
       "      <td>RF_regr</td>\n",
       "      <td>sklearn default, which I think is mse</td>\n",
       "      <td>2017_08_21_01h_46m_49s</td>\n",
       "      <td>n_estimators=20,random_state=0,max_features=10...</td>\n",
       "      <td>0.2.0</td>\n",
       "      <td>npv_roi_10</td>\n",
       "      <td>R2 score of .199350 (regr.score())</td>\n",
       "      <td>None</td>\n",
       "    </tr>\n",
       "    <tr>\n",
       "      <th>0.2.1</th>\n",
       "      <td>RF_regr</td>\n",
       "      <td>sklearn default, which I think is mse</td>\n",
       "      <td>2017_08_21_16h_01m_37s</td>\n",
       "      <td>bootstrap=True, criterion='mse', max_depth=Non...</td>\n",
       "      <td>0.2.1</td>\n",
       "      <td>npv_roi_10</td>\n",
       "      <td>R2 score of .3830649 (regr.score())</td>\n",
       "      <td>None</td>\n",
       "    </tr>\n",
       "    <tr>\n",
       "      <th>1.0.0</th>\n",
       "      <td>feedforward NN</td>\n",
       "      <td>criterion = nn.MSELoss(),</td>\n",
       "      <td>2017_11_01_03h_09m_25s</td>\n",
       "      <td>nn_input_dim = 223, hly1_n = 300, hly2_n = 400...</td>\n",
       "      <td>1.0.0</td>\n",
       "      <td>npv_roi_10</td>\n",
       "      <td>test_mse: 0.0644643, train_mse: 0.0636180, epo...</td>\n",
       "      <td>None</td>\n",
       "    </tr>\n",
       "  </tbody>\n",
       "</table>\n",
       "</div>"
      ],
      "text/plain": [
       "           algo_model                              cost_func  \\\n",
       "0.1.0     elastic_net  sklearn default, which I think is mse   \n",
       "0.2.0         RF_regr  sklearn default, which I think is mse   \n",
       "0.2.1         RF_regr  sklearn default, which I think is mse   \n",
       "1.0.0  feedforward NN              criterion = nn.MSELoss(),   \n",
       "\n",
       "                         date  \\\n",
       "0.1.0  2017_08_21_18h_49m_37s   \n",
       "0.2.0  2017_08_21_01h_46m_49s   \n",
       "0.2.1  2017_08_21_16h_01m_37s   \n",
       "1.0.0  2017_11_01_03h_09m_25s   \n",
       "\n",
       "                                             hyperparams model_version  \\\n",
       "0.1.0        alpha:.004, random_state: 0, max_iter: 1500         0.1.0   \n",
       "0.2.0  n_estimators=20,random_state=0,max_features=10...         0.2.0   \n",
       "0.2.1  bootstrap=True, criterion='mse', max_depth=Non...         0.2.1   \n",
       "1.0.0  nn_input_dim = 223, hly1_n = 300, hly2_n = 400...         1.0.0   \n",
       "\n",
       "           target                                       useful_notes weights  \n",
       "0.1.0  npv_roi_10                R2 score of .0604167 (regr.score())    None  \n",
       "0.2.0  npv_roi_10                 R2 score of .199350 (regr.score())    None  \n",
       "0.2.1  npv_roi_10                R2 score of .3830649 (regr.score())    None  \n",
       "1.0.0  npv_roi_10  test_mse: 0.0644643, train_mse: 0.0636180, epo...    None  "
      ]
     },
     "execution_count": 37,
     "metadata": {},
     "output_type": "execute_result"
    }
   ],
   "source": [
    "model_info"
   ]
  },
  {
   "cell_type": "code",
   "execution_count": 38,
   "metadata": {
    "ExecuteTime": {
     "end_time": "2017-11-01T10:10:04.300656Z",
     "start_time": "2017-11-01T10:10:04.165902Z"
    },
    "collapsed": true
   },
   "outputs": [],
   "source": [
    "store.open()\n",
    "store.append(\n",
    "            'model_info',\n",
    "            model_info,\n",
    "            data_columns=True,\n",
    "            index=True,\n",
    "            append=False,\n",
    ")\n",
    "store.close()"
   ]
  },
  {
   "cell_type": "markdown",
   "metadata": {},
   "source": [
    "# Examine scores distributions"
   ]
  },
  {
   "cell_type": "code",
   "execution_count": 43,
   "metadata": {
    "ExecuteTime": {
     "end_time": "2017-11-01T10:18:09.932097Z",
     "start_time": "2017-11-01T10:18:09.928575Z"
    },
    "collapsed": true
   },
   "outputs": [],
   "source": [
    "train_preds = pd.Series(train_yhat.ravel())\n",
    "test_preds = pd.Series(test_yhat.ravel())"
   ]
  },
  {
   "cell_type": "code",
   "execution_count": 46,
   "metadata": {
    "ExecuteTime": {
     "end_time": "2017-11-01T10:18:41.807510Z",
     "start_time": "2017-11-01T10:18:41.583697Z"
    }
   },
   "outputs": [
    {
     "data": {
      "text/plain": [
       "<matplotlib.axes._subplots.AxesSubplot at 0x7fda2be78240>"
      ]
     },
     "execution_count": 46,
     "metadata": {},
     "output_type": "execute_result"
    },
    {
     "data": {
      "image/png": "[encoded data removed]",
      "text/plain": [
       "<matplotlib.figure.Figure at 0x7fda6dfa0978>"
      ]
     },
     "metadata": {},
     "output_type": "display_data"
    }
   ],
   "source": [
    "train_preds.hist(bins=50)"
   ]
  },
  {
   "cell_type": "code",
   "execution_count": 49,
   "metadata": {
    "ExecuteTime": {
     "end_time": "2017-11-01T10:20:03.590624Z",
     "start_time": "2017-11-01T10:20:03.302850Z"
    }
   },
   "outputs": [
    {
     "data": {
      "text/plain": [
       "<matplotlib.axes._subplots.AxesSubplot at 0x7fda33484668>"
      ]
     },
     "execution_count": 49,
     "metadata": {},
     "output_type": "execute_result"
    },
    {
     "data": {
      "image/png": "[encoded data removed]",
      "text/plain": [
       "<matplotlib.figure.Figure at 0x7fda3348b240>"
      ]
     },
     "metadata": {},
     "output_type": "display_data"
    }
   ],
   "source": [
    "test_preds.hist(bins=50)"
   ]
  },
  {
   "cell_type": "code",
   "execution_count": 47,
   "metadata": {
    "ExecuteTime": {
     "end_time": "2017-11-01T10:18:51.299694Z",
     "start_time": "2017-11-01T10:18:51.257206Z"
    }
   },
   "outputs": [
    {
     "data": {
      "text/plain": [
       "count    508520.000000\n",
       "mean         -0.088361\n",
       "std           0.077689\n",
       "min          -0.975060\n",
       "25%          -0.126440\n",
       "50%          -0.065020\n",
       "75%          -0.034330\n",
       "max           0.020830\n",
       "dtype: float64"
      ]
     },
     "execution_count": 47,
     "metadata": {},
     "output_type": "execute_result"
    }
   ],
   "source": [
    "train_preds.describe()"
   ]
  },
  {
   "cell_type": "code",
   "execution_count": 50,
   "metadata": {
    "ExecuteTime": {
     "end_time": "2017-11-01T10:20:16.464004Z",
     "start_time": "2017-11-01T10:20:16.440385Z"
    }
   },
   "outputs": [
    {
     "data": {
      "text/plain": [
       "count    145292.000000\n",
       "mean         -0.088416\n",
       "std           0.077969\n",
       "min          -0.734520\n",
       "25%          -0.127030\n",
       "50%          -0.065095\n",
       "75%          -0.034100\n",
       "max           0.020800\n",
       "dtype: float64"
      ]
     },
     "execution_count": 50,
     "metadata": {},
     "output_type": "execute_result"
    }
   ],
   "source": [
    "test_preds.describe()"
   ]
  },
  {
   "cell_type": "code",
   "execution_count": 48,
   "metadata": {
    "ExecuteTime": {
     "end_time": "2017-11-01T10:19:17.422701Z",
     "start_time": "2017-11-01T10:19:17.381115Z"
    },
    "scrolled": true
   },
   "outputs": [
    {
     "data": {
      "text/plain": [
       " 0.02013    1843\n",
       " 0.02014    1645\n",
       " 0.02012    1552\n",
       " 0.02011    1065\n",
       " 0.02015     848\n",
       " 0.02010     361\n",
       " 0.02016     352\n",
       " 0.02017     148\n",
       "-0.04639      71\n",
       "-0.03930      70\n",
       "-0.04515      69\n",
       " 0.02018      69\n",
       "-0.04263      69\n",
       "-0.03721      68\n",
       "-0.04354      68\n",
       "-0.04395      67\n",
       "-0.04467      67\n",
       "-0.04430      67\n",
       "-0.03800      66\n",
       "-0.03662      66\n",
       "-0.03481      66\n",
       "-0.03094      66\n",
       "-0.04296      66\n",
       "-0.04880      66\n",
       "-0.03950      65\n",
       "-0.04243      65\n",
       "-0.03403      65\n",
       "-0.03776      65\n",
       "-0.04616      64\n",
       "-0.04653      64\n",
       "            ... \n",
       "-0.32450       1\n",
       "-0.29351       1\n",
       "-0.32711       1\n",
       "-0.36972       1\n",
       "-0.54706       1\n",
       "-0.37808       1\n",
       "-0.32158       1\n",
       "-0.29355       1\n",
       "-0.32695       1\n",
       "-0.27339       1\n",
       "-0.36747       1\n",
       "-0.27331       1\n",
       "-0.34676       1\n",
       "-0.29361       1\n",
       "-0.36743       1\n",
       "-0.36738       1\n",
       "-0.36737       1\n",
       "-0.44342       1\n",
       "-0.36956       1\n",
       "-0.32697       1\n",
       "-0.54671       1\n",
       "-0.36727       1\n",
       "-0.37938       1\n",
       "-0.39224       1\n",
       "-0.32701       1\n",
       "-0.36719       1\n",
       "-0.43750       1\n",
       "-0.40008       1\n",
       "-0.36717       1\n",
       "-0.26823       1\n",
       "Length: 38250, dtype: int64"
      ]
     },
     "execution_count": 48,
     "metadata": {},
     "output_type": "execute_result"
    }
   ],
   "source": [
    "train_preds.value_counts()"
   ]
  },
  {
   "cell_type": "code",
   "execution_count": 51,
   "metadata": {
    "ExecuteTime": {
     "end_time": "2017-11-01T10:20:38.978113Z",
     "start_time": "2017-11-01T10:20:38.951483Z"
    },
    "scrolled": true
   },
   "outputs": [
    {
     "data": {
      "text/plain": [
       " 0.02013    515\n",
       " 0.02014    503\n",
       " 0.02012    455\n",
       " 0.02011    314\n",
       " 0.02015    242\n",
       " 0.02010    123\n",
       " 0.02016    108\n",
       " 0.02017     40\n",
       "-0.03614     26\n",
       "-0.03648     26\n",
       "-0.02488     25\n",
       "-0.02989     25\n",
       "-0.03517     24\n",
       "-0.05471     24\n",
       "-0.04124     24\n",
       "-0.03393     24\n",
       "-0.04067     24\n",
       "-0.05036     24\n",
       "-0.04737     23\n",
       "-0.04132     23\n",
       "-0.04747     23\n",
       "-0.03528     23\n",
       "-0.04324     23\n",
       "-0.04665     23\n",
       "-0.04625     23\n",
       "-0.03643     23\n",
       "-0.04704     23\n",
       "-0.03716     23\n",
       "-0.05540     23\n",
       "-0.03991     22\n",
       "           ... \n",
       "-0.30447      1\n",
       "-0.21763      1\n",
       "-0.30445      1\n",
       "-0.17593      1\n",
       "-0.30437      1\n",
       "-0.30435      1\n",
       "-0.30808      1\n",
       "-0.30483      1\n",
       "-0.34378      1\n",
       " 0.01240      1\n",
       "-0.30790      1\n",
       "-0.34204      1\n",
       "-0.21762      1\n",
       "-0.30515      1\n",
       "-0.30514      1\n",
       "-0.23076      1\n",
       " 0.01864      1\n",
       "-0.30509      1\n",
       "-0.15253      1\n",
       "-0.28778      1\n",
       "-0.30805      1\n",
       "-0.25266      1\n",
       "-0.30497      1\n",
       "-0.15623      1\n",
       "-0.17596      1\n",
       "-0.41024      1\n",
       "-0.30806      1\n",
       "-0.19843      1\n",
       " 0.00085      1\n",
       "-0.43571      1\n",
       "Length: 30535, dtype: int64"
      ]
     },
     "execution_count": 51,
     "metadata": {},
     "output_type": "execute_result"
    }
   ],
   "source": [
    "test_preds.value_counts()"
   ]
  },
  {
   "cell_type": "code",
   "execution_count": null,
   "metadata": {
    "collapsed": true
   },
   "outputs": [],
   "source": [
    "# try:\n",
    "#     results = results.join(append_results)\n",
    "# except ValueError:\n",
    "#     results.loc[:, (slice(None), slice('1.0.0','1.0.0'))] = append_results\n",
    "# results.sort_index(axis=1, inplace = True)"
   ]
  }
 ],
 "metadata": {
  "kernelspec": {
   "display_name": "Python 3",
   "language": "python",
   "name": "python3"
  },
  "language_info": {
   "codemirror_mode": {
    "name": "ipython",
    "version": 3
   },
   "file_extension": ".py",
   "mimetype": "text/x-python",
   "name": "python",
   "nbconvert_exporter": "python",
   "pygments_lexer": "ipython3",
   "version": "3.6.3"
  },
  "notify_time": "30",
  "varInspector": {
   "cols": {
    "lenName": 16,
    "lenType": 16,
    "lenVar": 40
   },
   "kernels_config": {
    "python": {
     "delete_cmd_postfix": "",
     "delete_cmd_prefix": "del ",
     "library": "var_list.py",
     "varRefreshCmd": "print(var_dic_list())"
    },
    "r": {
     "delete_cmd_postfix": ") ",
     "delete_cmd_prefix": "rm(",
     "library": "var_list.r",
     "varRefreshCmd": "cat(var_dic_list()) "
    }
   },
   "position": {
    "height": "711px",
    "left": "200px",
    "right": "440px",
    "top": "-12px",
    "width": "800px"
   },
   "types_to_exclude": [
    "module",
    "function",
    "builtin_function_or_method",
    "instance",
    "_Feature"
   ],
   "window_display": false
  }
 },
 "nbformat": 4,
 "nbformat_minor": 2
}
