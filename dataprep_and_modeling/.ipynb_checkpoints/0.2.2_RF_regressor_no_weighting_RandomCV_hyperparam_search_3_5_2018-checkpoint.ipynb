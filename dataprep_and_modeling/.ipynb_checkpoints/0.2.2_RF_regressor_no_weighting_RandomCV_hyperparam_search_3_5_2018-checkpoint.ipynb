{
 "cells": [
  {
   "cell_type": "code",
   "execution_count": 1,
   "metadata": {
    "ExecuteTime": {
     "end_time": "2018-03-05T23:31:58.589993Z",
     "start_time": "2018-03-05T23:31:58.575228Z"
    }
   },
   "outputs": [],
   "source": [
    "pd.options.display.max_columns=999"
   ]
  },
  {
   "cell_type": "code",
   "execution_count": 2,
   "metadata": {
    "ExecuteTime": {
     "end_time": "2018-03-05T23:31:59.224539Z",
     "start_time": "2018-03-05T23:31:58.976630Z"
    }
   },
   "outputs": [],
   "source": [
    "from sklearn.metrics import mean_squared_error\n",
    "import data_science.lendingclub.dataprep_and_modeling.modeling_utils.data_prep_new as data_prep\n",
    "import dir_constants as dc\n",
    "from sklearn.ensemble import RandomForestRegressor\n",
    "from sklearn.externals import joblib\n",
    "from sklearn.model_selection import RandomizedSearchCV\n",
    "import time\n",
    "from tqdm import tqdm_notebook"
   ]
  },
  {
   "cell_type": "markdown",
   "metadata": {},
   "source": [
    "# DO NOT FORGET TO DROP ISSUE_D AFTER PREPPING"
   ]
  },
  {
   "cell_type": "code",
   "execution_count": 37,
   "metadata": {
    "ExecuteTime": {
     "end_time": "2018-03-05T23:48:26.569863Z",
     "start_time": "2018-03-05T23:48:26.547734Z"
    }
   },
   "outputs": [],
   "source": [
    "platform = 'lendingclub'\n",
    "regr_version = '0.2.2'\n",
    "type_model = 'ctest'\n",
    "store = pd.HDFStore(f'{datapath}{platform}/{platform}.h5')"
   ]
  },
  {
   "cell_type": "code",
   "execution_count": 4,
   "metadata": {
    "ExecuteTime": {
     "end_time": "2018-03-05T23:32:02.853256Z",
     "start_time": "2018-03-05T23:32:02.748835Z"
    }
   },
   "outputs": [],
   "source": [
    "loan_info = store['ctrain']\n",
    "eval_cols = store['ctrain_roi']\n",
    "store.close()"
   ]
  },
  {
   "cell_type": "markdown",
   "metadata": {},
   "source": [
    "# Until I figure out a good imputation method (e.g. bayes PCA), just drop columns with null still"
   ]
  },
  {
   "cell_type": "code",
   "execution_count": 5,
   "metadata": {
    "ExecuteTime": {
     "end_time": "2018-03-05T23:32:17.244889Z",
     "start_time": "2018-03-05T23:32:06.130499Z"
    }
   },
   "outputs": [],
   "source": [
    "mean_series = loan_info.mean()\n",
    "std_dev_series = loan_info.std()"
   ]
  },
  {
   "cell_type": "code",
   "execution_count": 6,
   "metadata": {
    "ExecuteTime": {
     "end_time": "2018-03-05T23:32:17.258591Z",
     "start_time": "2018-03-05T23:32:17.246257Z"
    }
   },
   "outputs": [],
   "source": [
    "standardized = loan_info"
   ]
  },
  {
   "cell_type": "markdown",
   "metadata": {
    "heading_collapsed": true
   },
   "source": [
    "# random search RF hyperparams, and build with best one"
   ]
  },
  {
   "cell_type": "code",
   "execution_count": 16,
   "metadata": {
    "ExecuteTime": {
     "end_time": "2018-03-05T21:57:29.184976Z",
     "start_time": "2018-03-05T21:57:29.168992Z"
    },
    "hidden": true
   },
   "outputs": [],
   "source": [
    "regr = RandomForestRegressor()"
   ]
  },
  {
   "cell_type": "code",
   "execution_count": 17,
   "metadata": {
    "ExecuteTime": {
     "end_time": "2018-03-05T21:57:50.017517Z",
     "start_time": "2018-03-05T21:57:49.995366Z"
    },
    "hidden": true
   },
   "outputs": [],
   "source": [
    "def report(results, n_top=3):\n",
    "    for i in range(1, n_top + 1):\n",
    "        candidates = np.flatnonzero(results['rank_test_score'] == i)\n",
    "        for candidate in candidates:\n",
    "            print(\"Model with rank: {0}\".format(i))\n",
    "            print(\"Mean validation score: {0:.3f} (std: {1:.3f})\".format(\n",
    "                  results['mean_test_score'][candidate],\n",
    "                  results['std_test_score'][candidate]))\n",
    "            print(\"Parameters: {0}\".format(results['params'][candidate]))\n",
    "            print(\"\")"
   ]
  },
  {
   "cell_type": "code",
   "execution_count": 18,
   "metadata": {
    "ExecuteTime": {
     "end_time": "2018-03-05T21:57:50.711916Z",
     "start_time": "2018-03-05T21:57:50.689374Z"
    },
    "hidden": true
   },
   "outputs": [],
   "source": [
    "fit_params_dict = {'n_estimators': np.arange(1,201),\n",
    "                   'criterion': ['mse'],#, 'mae'\n",
    "                   'max_features': [3,10, 50, 70, 100, 150, 200],\n",
    "                   'min_samples_split': [20, 200, 2000],\n",
    "                   'min_samples_leaf': [10, 100, 1000],\n",
    "                   'bootstrap': [True],\n",
    "                   'oob_score': [True],\n",
    "                   'n_jobs': [-1],\n",
    "                   'verbose': [10]}"
   ]
  },
  {
   "cell_type": "code",
   "execution_count": 19,
   "metadata": {
    "ExecuteTime": {
     "end_time": "2018-03-05T21:57:52.523939Z",
     "start_time": "2018-03-05T21:57:52.502507Z"
    },
    "hidden": true
   },
   "outputs": [],
   "source": [
    "n_iter = 20\n",
    "random_search = RandomizedSearchCV(\n",
    "    regr, param_distributions=fit_params_dict, n_iter=n_iter)"
   ]
  },
  {
   "cell_type": "code",
   "execution_count": 20,
   "metadata": {
    "ExecuteTime": {
     "end_time": "2018-03-05T22:14:12.085247Z",
     "start_time": "2018-03-05T21:57:53.844220Z"
    },
    "hidden": true
   },
   "outputs": [
    {
     "name": "stderr",
     "output_type": "stream",
     "text": [
      "/home/justin/anaconda3/lib/python3.6/site-packages/sklearn/model_selection/_validation.py:458: DataConversionWarning: A column-vector y was passed when a 1d array was expected. Please change the shape of y to (n_samples,), for example using ravel().\n",
      "  estimator.fit(X_train, y_train, **fit_params)\n"
     ]
    },
    {
     "name": "stdout",
     "output_type": "stream",
     "text": [
      "building tree 2 of 131\n",
      "building tree 3 of 131building tree 4 of 131building tree 5 of 131building tree 7 of 131building tree 6 of 131building tree 1 of 131building tree 8 of 131\n",
      "\n",
      "\n",
      "\n",
      "\n",
      "\n",
      "\n",
      "building tree 9 of 131\n",
      "building tree 10 of 131\n",
      "building tree 11 of 131\n",
      "building tree 12 of 131\n",
      "building tree 13 of 131\n",
      "building tree 14 of 131\n",
      "building tree 15 of 131\n"
     ]
    },
    {
     "name": "stderr",
     "output_type": "stream",
     "text": [
      "[Parallel(n_jobs=-1)]: Done   2 tasks      | elapsed:    0.3s\n"
     ]
    },
    {
     "name": "stdout",
     "output_type": "stream",
     "text": [
      "building tree 16 of 131\n",
      "building tree 17 of 131\n",
      "building tree 18 of 131\n",
      "building tree 19 of 131\n",
      "building tree 20 of 131\n"
     ]
    },
    {
     "name": "stderr",
     "output_type": "stream",
     "text": [
      "[Parallel(n_jobs=-1)]: Done   9 tasks      | elapsed:    0.6s\n"
     ]
    },
    {
     "name": "stdout",
     "output_type": "stream",
     "text": [
      "building tree 21 of 131\n",
      "building tree 22 of 131\n",
      "building tree 23 of 131\n",
      "building tree 25 of 131building tree 24 of 131\n",
      "\n",
      "building tree 26 of 131\n"
     ]
    },
    {
     "name": "stderr",
     "output_type": "stream",
     "text": [
      "[Parallel(n_jobs=-1)]: Done  16 tasks      | elapsed:    0.9s\n"
     ]
    },
    {
     "name": "stdout",
     "output_type": "stream",
     "text": [
      "building tree 27 of 131\n",
      "building tree 28 of 131\n",
      "building tree 29 of 131\n",
      "building tree 30 of 131\n",
      "building tree 31 of 131\n",
      "building tree 32 of 131\n",
      "building tree 33 of 131\n",
      "building tree 34 of 131\n",
      "building tree 35 of 131\n"
     ]
    },
    {
     "name": "stderr",
     "output_type": "stream",
     "text": [
      "[Parallel(n_jobs=-1)]: Done  25 tasks      | elapsed:    1.4s\n"
     ]
    },
    {
     "name": "stdout",
     "output_type": "stream",
     "text": [
      "building tree 36 of 131building tree 37 of 131\n",
      "\n",
      "building tree 38 of 131\n",
      "building tree 39 of 131\n",
      "building tree 40 of 131\n",
      "building tree 41 of 131\n",
      "building tree 42 of 131\n",
      "building tree 43 of 131\n",
      "building tree 44 of 131\n",
      "building tree 45 of 131\n",
      "building tree 47 of 131\n",
      "building tree 46 of 131\n",
      "building tree 48 of 131\n"
     ]
    },
    {
     "name": "stderr",
     "output_type": "stream",
     "text": [
      "[Parallel(n_jobs=-1)]: Done  34 tasks      | elapsed:    1.7s\n"
     ]
    },
    {
     "name": "stdout",
     "output_type": "stream",
     "text": [
      "building tree 49 of 131\n",
      "building tree 50 of 131\n",
      "building tree 51 of 131\n",
      "building tree 52 of 131\n",
      "building tree 53 of 131building tree 54 of 131\n",
      "\n",
      "building tree 55 of 131\n",
      "building tree 56 of 131\n"
     ]
    },
    {
     "name": "stderr",
     "output_type": "stream",
     "text": [
      "[Parallel(n_jobs=-1)]: Done  45 tasks      | elapsed:    2.2s\n"
     ]
    },
    {
     "name": "stdout",
     "output_type": "stream",
     "text": [
      "building tree 57 of 131\n",
      "building tree 58 of 131\n",
      "building tree 59 of 131\n",
      "building tree 60 of 131\n",
      "building tree 61 of 131\n",
      "building tree 62 of 131\n",
      "building tree 63 of 131\n",
      "building tree 64 of 131\n",
      "building tree 65 of 131\n",
      "building tree 66 of 131\n"
     ]
    },
    {
     "name": "stderr",
     "output_type": "stream",
     "text": [
      "[Parallel(n_jobs=-1)]: Done  56 tasks      | elapsed:    2.6s\n"
     ]
    },
    {
     "name": "stdout",
     "output_type": "stream",
     "text": [
      "building tree 67 of 131\n",
      "building tree 68 of 131\n",
      "building tree 70 of 131building tree 69 of 131\n",
      "\n",
      "building tree 71 of 131\n",
      "building tree 72 of 131\n",
      "building tree 73 of 131\n",
      "building tree 74 of 131\n",
      "building tree 75 of 131\n",
      "building tree 76 of 131\n",
      "building tree 77 of 131\n",
      "building tree 78 of 131\n",
      "building tree 79 of 131\n"
     ]
    },
    {
     "name": "stderr",
     "output_type": "stream",
     "text": [
      "[Parallel(n_jobs=-1)]: Done  69 tasks      | elapsed:    3.3s\n"
     ]
    },
    {
     "name": "stdout",
     "output_type": "stream",
     "text": [
      "building tree 80 of 131\n",
      "building tree 81 of 131\n",
      "building tree 82 of 131\n",
      "building tree 83 of 131\n",
      "building tree 84 of 131\n",
      "building tree 85 of 131\n",
      "building tree 86 of 131\n",
      "building tree 87 of 131\n",
      "building tree 88 of 131\n",
      "building tree 89 of 131"
     ]
    },
    {
     "name": "stderr",
     "output_type": "stream",
     "text": [
      "[Parallel(n_jobs=-1)]: Done  82 tasks      | elapsed:    3.8s\n"
     ]
    },
    {
     "name": "stdout",
     "output_type": "stream",
     "text": [
      "\n",
      "building tree 90 of 131\n",
      "building tree 91 of 131\n",
      "building tree 92 of 131\n",
      "building tree 93 of 131\n",
      "building tree 94 of 131\n",
      "building tree 95 of 131\n",
      "building tree 96 of 131\n",
      "building tree 97 of 131\n",
      "building tree 98 of 131\n",
      "building tree 99 of 131\n",
      "building tree 100 of 131\n",
      "building tree 101 of 131\n",
      "building tree 102 of 131\n",
      "building tree 103 of 131\n",
      "building tree 104 of 131\n",
      "building tree 105 of 131\n"
     ]
    },
    {
     "name": "stderr",
     "output_type": "stream",
     "text": [
      "[Parallel(n_jobs=-1)]: Done  97 tasks      | elapsed:    4.5s\n"
     ]
    },
    {
     "name": "stdout",
     "output_type": "stream",
     "text": [
      "building tree 106 of 131\n",
      "building tree 107 of 131\n",
      "building tree 108 of 131\n",
      "building tree 109 of 131\n",
      "building tree 110 of 131\n",
      "building tree 111 of 131\n",
      "building tree 112 of 131\n",
      "building tree 113 of 131\n",
      "building tree 114 of 131\n",
      "building tree 115 of 131\n",
      "building tree 116 of 131\n",
      "building tree 117 of 131\n",
      "building tree 118 of 131\n",
      "building tree 119 of 131\n",
      "building tree 120 of 131\n",
      "building tree 121 of 131\n"
     ]
    },
    {
     "name": "stderr",
     "output_type": "stream",
     "text": [
      "[Parallel(n_jobs=-1)]: Done 112 tasks      | elapsed:    5.2s\n"
     ]
    },
    {
     "name": "stdout",
     "output_type": "stream",
     "text": [
      "building tree 122 of 131\n",
      "building tree 123 of 131\n",
      "building tree 124 of 131\n",
      "building tree 125 of 131\n",
      "building tree 126 of 131\n",
      "building tree 127 of 131\n",
      "building tree 128 of 131\n",
      "building tree 129 of 131\n",
      "building tree 130 of 131\n",
      "building tree 131 of 131\n"
     ]
    },
    {
     "name": "stderr",
     "output_type": "stream",
     "text": [
      "[Parallel(n_jobs=-1)]: Done 131 out of 131 | elapsed:    6.0s finished\n",
      "[Parallel(n_jobs=8)]: Done   2 tasks      | elapsed:    0.0s\n",
      "[Parallel(n_jobs=8)]: Done   9 tasks      | elapsed:    0.0s\n",
      "[Parallel(n_jobs=8)]: Done  16 tasks      | elapsed:    0.0s\n",
      "[Parallel(n_jobs=8)]: Done  25 tasks      | elapsed:    0.0s\n",
      "[Parallel(n_jobs=8)]: Done  34 tasks      | elapsed:    0.0s\n",
      "[Parallel(n_jobs=8)]: Done  45 tasks      | elapsed:    0.1s\n",
      "[Parallel(n_jobs=8)]: Done  56 tasks      | elapsed:    0.1s\n",
      "[Parallel(n_jobs=8)]: Done  69 tasks      | elapsed:    0.1s\n",
      "[Parallel(n_jobs=8)]: Done  82 tasks      | elapsed:    0.1s\n",
      "[Parallel(n_jobs=8)]: Done  97 tasks      | elapsed:    0.1s\n",
      "[Parallel(n_jobs=8)]: Done 112 tasks      | elapsed:    0.1s\n",
      "[Parallel(n_jobs=8)]: Done 131 out of 131 | elapsed:    0.2s finished\n",
      "[Parallel(n_jobs=8)]: Done   2 tasks      | elapsed:    0.0s\n",
      "[Parallel(n_jobs=8)]: Done   9 tasks      | elapsed:    0.0s\n",
      "[Parallel(n_jobs=8)]: Done  16 tasks      | elapsed:    0.0s\n",
      "[Parallel(n_jobs=8)]: Done  25 tasks      | elapsed:    0.1s\n",
      "[Parallel(n_jobs=8)]: Done  34 tasks      | elapsed:    0.1s\n",
      "[Parallel(n_jobs=8)]: Done  45 tasks      | elapsed:    0.1s\n",
      "[Parallel(n_jobs=8)]: Done  56 tasks      | elapsed:    0.1s\n",
      "[Parallel(n_jobs=8)]: Done  69 tasks      | elapsed:    0.1s\n",
      "[Parallel(n_jobs=8)]: Done  82 tasks      | elapsed:    0.2s\n",
      "[Parallel(n_jobs=8)]: Done  97 tasks      | elapsed:    0.2s\n",
      "[Parallel(n_jobs=8)]: Done 112 tasks      | elapsed:    0.2s\n",
      "[Parallel(n_jobs=8)]: Done 131 out of 131 | elapsed:    0.3s finished\n",
      "/home/justin/anaconda3/lib/python3.6/site-packages/sklearn/model_selection/_validation.py:458: DataConversionWarning: A column-vector y was passed when a 1d array was expected. Please change the shape of y to (n_samples,), for example using ravel().\n",
      "  estimator.fit(X_train, y_train, **fit_params)\n"
     ]
    },
    {
     "name": "stdout",
     "output_type": "stream",
     "text": [
      "building tree 2 of 131\n",
      "building tree 3 of 131building tree 1 of 131building tree 4 of 131building tree 6 of 131building tree 5 of 131building tree 8 of 131building tree 7 of 131\n",
      "\n",
      "\n",
      "\n",
      "\n",
      "\n",
      "\n",
      "building tree 9 of 131\n",
      "building tree 10 of 131\n",
      "building tree 11 of 131\n",
      "building tree 12 of 131\n",
      "building tree 13 of 131\n",
      "building tree 14 of 131\n"
     ]
    },
    {
     "name": "stderr",
     "output_type": "stream",
     "text": [
      "[Parallel(n_jobs=-1)]: Done   2 tasks      | elapsed:    0.4s\n"
     ]
    },
    {
     "name": "stdout",
     "output_type": "stream",
     "text": [
      "building tree 15 of 131\n",
      "building tree 16 of 131\n",
      "building tree 17 of 131\n"
     ]
    },
    {
     "name": "stderr",
     "output_type": "stream",
     "text": [
      "[Parallel(n_jobs=-1)]: Done   9 tasks      | elapsed:    0.8s\n"
     ]
    },
    {
     "name": "stdout",
     "output_type": "stream",
     "text": [
      "building tree 18 of 131\n",
      "building tree 19 of 131\n",
      "building tree 20 of 131\n",
      "building tree 21 of 131\n",
      "building tree 22 of 131\n",
      "building tree 23 of 131\n",
      "building tree 24 of 131\n",
      "building tree 25 of 131\n"
     ]
    },
    {
     "name": "stderr",
     "output_type": "stream",
     "text": [
      "[Parallel(n_jobs=-1)]: Done  16 tasks      | elapsed:    1.2s\n"
     ]
    },
    {
     "name": "stdout",
     "output_type": "stream",
     "text": [
      "building tree 26 of 131\n",
      "building tree 27 of 131\n",
      "building tree 28 of 131\n",
      "building tree 29 of 131\n",
      "building tree 30 of 131\n",
      "building tree 31 of 131\n",
      "building tree 32 of 131\n",
      "building tree 33 of 131\n",
      "building tree 34 of 131\n",
      "building tree 35 of 131\n"
     ]
    },
    {
     "name": "stderr",
     "output_type": "stream",
     "text": [
      "[Parallel(n_jobs=-1)]: Done  25 tasks      | elapsed:    1.8s\n"
     ]
    },
    {
     "name": "stdout",
     "output_type": "stream",
     "text": [
      "building tree 36 of 131\n",
      "building tree 37 of 131\n",
      "building tree 38 of 131\n",
      "building tree 39 of 131\n",
      "building tree 40 of 131\n",
      "building tree 41 of 131\n",
      "building tree 43 of 131\n",
      "building tree 42 of 131\n",
      "building tree 44 of 131\n",
      "building tree 45 of 131\n",
      "building tree 46 of 131\n"
     ]
    },
    {
     "name": "stderr",
     "output_type": "stream",
     "text": [
      "[Parallel(n_jobs=-1)]: Done  34 tasks      | elapsed:    2.5s\n"
     ]
    },
    {
     "name": "stdout",
     "output_type": "stream",
     "text": [
      "building tree 47 of 131\n",
      "building tree 48 of 131\n",
      "building tree 49 of 131\n",
      "building tree 50 of 131\n",
      "building tree 51 of 131\n",
      "building tree 52 of 131\n"
     ]
    },
    {
     "name": "stderr",
     "output_type": "stream",
     "text": [
      "[Parallel(n_jobs=-1)]: Done  45 tasks      | elapsed:    3.1s\n"
     ]
    },
    {
     "name": "stdout",
     "output_type": "stream",
     "text": [
      "building tree 53 of 131\n",
      "building tree 54 of 131\n",
      "building tree 55 of 131\n",
      "building tree 56 of 131\n",
      "building tree 57 of 131\n",
      "building tree 58 of 131\n",
      "building tree 59 of 131\n",
      "building tree 60 of 131\n",
      "building tree 61 of 131\n",
      "building tree 62 of 131\n",
      "building tree 63 of 131\n"
     ]
    },
    {
     "name": "stderr",
     "output_type": "stream",
     "text": [
      "[Parallel(n_jobs=-1)]: Done  56 tasks      | elapsed:    3.8s\n"
     ]
    },
    {
     "name": "stdout",
     "output_type": "stream",
     "text": [
      "building tree 64 of 131\n",
      "building tree 65 of 131\n",
      "building tree 66 of 131\n",
      "building tree 67 of 131\n",
      "building tree 68 of 131\n",
      "building tree 69 of 131\n",
      "building tree 70 of 131\n",
      "building tree 71 of 131\n",
      "building tree 72 of 131\n",
      "building tree 73 of 131\n",
      "building tree 74 of 131\n",
      "building tree 75 of 131\n",
      "building tree 76 of 131\n"
     ]
    },
    {
     "name": "stderr",
     "output_type": "stream",
     "text": [
      "[Parallel(n_jobs=-1)]: Done  69 tasks      | elapsed:    4.5s\n"
     ]
    },
    {
     "name": "stdout",
     "output_type": "stream",
     "text": [
      "building tree 77 of 131\n",
      "building tree 78 of 131\n",
      "building tree 79 of 131\n",
      "building tree 80 of 131\n",
      "building tree 81 of 131\n",
      "building tree 82 of 131\n",
      "building tree 83 of 131\n",
      "building tree 84 of 131\n",
      "building tree 85 of 131\n",
      "building tree 86 of 131\n",
      "building tree 87 of 131\n",
      "building tree 88 of 131\n",
      "building tree 89 of 131\n",
      "building tree 90 of 131\n",
      "building tree 91 of 131\n"
     ]
    },
    {
     "name": "stderr",
     "output_type": "stream",
     "text": [
      "[Parallel(n_jobs=-1)]: Done  82 tasks      | elapsed:    5.4s\n"
     ]
    },
    {
     "name": "stdout",
     "output_type": "stream",
     "text": [
      "building tree 92 of 131\n",
      "building tree 93 of 131\n",
      "building tree 94 of 131\n",
      "building tree 95 of 131\n",
      "building tree 96 of 131\n",
      "building tree 97 of 131\n",
      "building tree 98 of 131\n",
      "building tree 99 of 131\n",
      "building tree 100 of 131\n",
      "building tree 101 of 131\n",
      "building tree 102 of 131\n",
      "building tree 103 of 131\n",
      "building tree 104 of 131\n"
     ]
    },
    {
     "name": "stderr",
     "output_type": "stream",
     "text": [
      "[Parallel(n_jobs=-1)]: Done  97 tasks      | elapsed:    6.4s\n"
     ]
    },
    {
     "name": "stdout",
     "output_type": "stream",
     "text": [
      "building tree 105 of 131\n",
      "building tree 106 of 131\n",
      "building tree 107 of 131\n",
      "building tree 108 of 131\n",
      "building tree 109 of 131\n",
      "building tree 110 of 131\n",
      "building tree 111 of 131\n",
      "building tree 112 of 131\n",
      "building tree 113 of 131\n",
      "building tree 114 of 131\n",
      "building tree 116 of 131\n",
      "building tree 115 of 131\n",
      "building tree 117 of 131\n",
      "building tree 118 of 131\n",
      "building tree 119 of 131\n"
     ]
    },
    {
     "name": "stderr",
     "output_type": "stream",
     "text": [
      "[Parallel(n_jobs=-1)]: Done 112 tasks      | elapsed:    7.3s\n"
     ]
    },
    {
     "name": "stdout",
     "output_type": "stream",
     "text": [
      "building tree 120 of 131\n",
      "building tree 121 of 131\n",
      "building tree 122 of 131\n",
      "building tree 123 of 131\n",
      "building tree 124 of 131\n",
      "building tree 125 of 131\n",
      "building tree 126 of 131\n",
      "building tree 127 of 131\n",
      "building tree 128 of 131\n",
      "building tree 129 of 131\n",
      "building tree 130 of 131\n",
      "building tree 131 of 131\n"
     ]
    },
    {
     "name": "stderr",
     "output_type": "stream",
     "text": [
      "[Parallel(n_jobs=-1)]: Done 131 out of 131 | elapsed:    8.4s finished\n",
      "[Parallel(n_jobs=8)]: Done   2 tasks      | elapsed:    0.0s\n",
      "[Parallel(n_jobs=8)]: Done   9 tasks      | elapsed:    0.0s\n",
      "[Parallel(n_jobs=8)]: Done  16 tasks      | elapsed:    0.0s\n",
      "[Parallel(n_jobs=8)]: Done  25 tasks      | elapsed:    0.0s\n",
      "[Parallel(n_jobs=8)]: Done  34 tasks      | elapsed:    0.1s\n",
      "[Parallel(n_jobs=8)]: Done  45 tasks      | elapsed:    0.1s\n",
      "[Parallel(n_jobs=8)]: Done  56 tasks      | elapsed:    0.1s\n",
      "[Parallel(n_jobs=8)]: Done  69 tasks      | elapsed:    0.1s\n",
      "[Parallel(n_jobs=8)]: Done  82 tasks      | elapsed:    0.1s\n",
      "[Parallel(n_jobs=8)]: Done  97 tasks      | elapsed:    0.1s\n",
      "[Parallel(n_jobs=8)]: Done 112 tasks      | elapsed:    0.1s\n",
      "[Parallel(n_jobs=8)]: Done 131 out of 131 | elapsed:    0.2s finished\n",
      "[Parallel(n_jobs=8)]: Done   2 tasks      | elapsed:    0.0s\n",
      "[Parallel(n_jobs=8)]: Done   9 tasks      | elapsed:    0.0s\n",
      "[Parallel(n_jobs=8)]: Done  16 tasks      | elapsed:    0.0s\n",
      "[Parallel(n_jobs=8)]: Done  25 tasks      | elapsed:    0.1s\n",
      "[Parallel(n_jobs=8)]: Done  34 tasks      | elapsed:    0.1s\n",
      "[Parallel(n_jobs=8)]: Done  45 tasks      | elapsed:    0.1s\n",
      "[Parallel(n_jobs=8)]: Done  56 tasks      | elapsed:    0.1s\n",
      "[Parallel(n_jobs=8)]: Done  69 tasks      | elapsed:    0.1s\n",
      "[Parallel(n_jobs=8)]: Done  82 tasks      | elapsed:    0.2s\n",
      "[Parallel(n_jobs=8)]: Done  97 tasks      | elapsed:    0.2s\n",
      "[Parallel(n_jobs=8)]: Done 112 tasks      | elapsed:    0.3s\n",
      "[Parallel(n_jobs=8)]: Done 131 out of 131 | elapsed:    0.3s finished\n",
      "/home/justin/anaconda3/lib/python3.6/site-packages/sklearn/model_selection/_validation.py:458: DataConversionWarning: A column-vector y was passed when a 1d array was expected. Please change the shape of y to (n_samples,), for example using ravel().\n",
      "  estimator.fit(X_train, y_train, **fit_params)\n"
     ]
    },
    {
     "name": "stdout",
     "output_type": "stream",
     "text": [
      "building tree 3 of 131building tree 4 of 131building tree 6 of 131building tree 7 of 131building tree 2 of 131building tree 1 of 131\n",
      "building tree 5 of 131building tree 8 of 131\n",
      "\n",
      "\n",
      "\n",
      "\n",
      "\n",
      "\n",
      "building tree 9 of 131\n",
      "building tree 10 of 131\n",
      "building tree 11 of 131\n",
      "building tree 12 of 131\n",
      "building tree 13 of 131\n"
     ]
    },
    {
     "name": "stderr",
     "output_type": "stream",
     "text": [
      "[Parallel(n_jobs=-1)]: Done   2 tasks      | elapsed:    0.5s\n"
     ]
    },
    {
     "name": "stdout",
     "output_type": "stream",
     "text": [
      "building tree 14 of 131\n",
      "building tree 15 of 131\n",
      "building tree 16 of 131\n"
     ]
    },
    {
     "name": "stderr",
     "output_type": "stream",
     "text": [
      "[Parallel(n_jobs=-1)]: Done   9 tasks      | elapsed:    0.9s\n"
     ]
    },
    {
     "name": "stdout",
     "output_type": "stream",
     "text": [
      "building tree 17 of 131\n",
      "building tree 18 of 131\n",
      "building tree 19 of 131\n",
      "building tree 21 of 131\n",
      "building tree 20 of 131\n",
      "building tree 22 of 131\n",
      "building tree 23 of 131\n",
      "building tree 24 of 131\n"
     ]
    },
    {
     "name": "stderr",
     "output_type": "stream",
     "text": [
      "[Parallel(n_jobs=-1)]: Done  16 tasks      | elapsed:    1.3s\n"
     ]
    },
    {
     "name": "stdout",
     "output_type": "stream",
     "text": [
      "building tree 25 of 131\n",
      "building tree 26 of 131\n",
      "building tree 27 of 131\n",
      "building tree 28 of 131\n",
      "building tree 29 of 131\n",
      "building tree 30 of 131\n",
      "building tree 31 of 131\n",
      "building tree 32 of 131\n",
      "building tree 33 of 131\n",
      "building tree 34 of 131\n",
      "building tree 35 of 131\n"
     ]
    },
    {
     "name": "stderr",
     "output_type": "stream",
     "text": [
      "[Parallel(n_jobs=-1)]: Done  25 tasks      | elapsed:    2.1s\n"
     ]
    },
    {
     "name": "stdout",
     "output_type": "stream",
     "text": [
      "building tree 36 of 131\n",
      "building tree 37 of 131\n",
      "building tree 38 of 131\n",
      "building tree 39 of 131\n",
      "building tree 40 of 131\n",
      "building tree 41 of 131\n",
      "building tree 42 of 131\n",
      "building tree 43 of 131\n"
     ]
    },
    {
     "name": "stderr",
     "output_type": "stream",
     "text": [
      "[Parallel(n_jobs=-1)]: Done  34 tasks      | elapsed:    2.6s\n"
     ]
    },
    {
     "name": "stdout",
     "output_type": "stream",
     "text": [
      "building tree 44 of 131\n",
      "building tree 45 of 131\n",
      "building tree 46 of 131\n",
      "building tree 47 of 131\n",
      "building tree 48 of 131\n",
      "building tree 49 of 131\n",
      "building tree 50 of 131\n",
      "building tree 51 of 131\n",
      "building tree 52 of 131\n"
     ]
    },
    {
     "name": "stderr",
     "output_type": "stream",
     "text": [
      "[Parallel(n_jobs=-1)]: Done  45 tasks      | elapsed:    3.6s\n"
     ]
    },
    {
     "name": "stdout",
     "output_type": "stream",
     "text": [
      "building tree 53 of 131\n",
      "building tree 54 of 131\n",
      "building tree 55 of 131\n",
      "building tree 56 of 131\n",
      "building tree 57 of 131\n",
      "building tree 58 of 131\n",
      "building tree 59 of 131\n",
      "building tree 60 of 131\n",
      "building tree 61 of 131\n",
      "building tree 62 of 131\n",
      "building tree 63 of 131\n"
     ]
    },
    {
     "name": "stderr",
     "output_type": "stream",
     "text": [
      "[Parallel(n_jobs=-1)]: Done  56 tasks      | elapsed:    4.3s\n"
     ]
    },
    {
     "name": "stdout",
     "output_type": "stream",
     "text": [
      "building tree 64 of 131\n",
      "building tree 65 of 131\n",
      "building tree 66 of 131\n",
      "building tree 67 of 131\n",
      "building tree 68 of 131\n",
      "building tree 69 of 131\n",
      "building tree 70 of 131\n",
      "building tree 71 of 131\n",
      "building tree 72 of 131\n",
      "building tree 73 of 131\n",
      "building tree 74 of 131\n",
      "building tree 75 of 131\n",
      "building tree 76 of 131\n",
      "building tree 77 of 131\n"
     ]
    },
    {
     "name": "stderr",
     "output_type": "stream",
     "text": [
      "[Parallel(n_jobs=-1)]: Done  69 tasks      | elapsed:    5.2s\n"
     ]
    },
    {
     "name": "stdout",
     "output_type": "stream",
     "text": [
      "building tree 78 of 131\n",
      "building tree 79 of 131\n",
      "building tree 80 of 131\n",
      "building tree 81 of 131\n",
      "building tree 82 of 131\n",
      "building tree 83 of 131\n",
      "building tree 84 of 131\n",
      "building tree 85 of 131\n",
      "building tree 86 of 131\n",
      "building tree 87 of 131\n",
      "building tree 88 of 131\n",
      "building tree 89 of 131\n",
      "building tree 90 of 131\n"
     ]
    },
    {
     "name": "stderr",
     "output_type": "stream",
     "text": [
      "[Parallel(n_jobs=-1)]: Done  82 tasks      | elapsed:    6.2s\n"
     ]
    },
    {
     "name": "stdout",
     "output_type": "stream",
     "text": [
      "building tree 91 of 131\n",
      "building tree 92 of 131\n",
      "building tree 93 of 131\n",
      "building tree 94 of 131\n",
      "building tree 95 of 131\n",
      "building tree 96 of 131\n",
      "building tree 97 of 131\n",
      "building tree 98 of 131\n",
      "building tree 99 of 131\n",
      "building tree 100 of 131\n",
      "building tree 101 of 131\n",
      "building tree 102 of 131\n",
      "building tree 103 of 131\n",
      "building tree 104 of 131\n",
      "building tree 105 of 131\n"
     ]
    },
    {
     "name": "stderr",
     "output_type": "stream",
     "text": [
      "[Parallel(n_jobs=-1)]: Done  97 tasks      | elapsed:    7.2s\n"
     ]
    },
    {
     "name": "stdout",
     "output_type": "stream",
     "text": [
      "building tree 106 of 131\n",
      "building tree 107 of 131\n",
      "building tree 108 of 131\n",
      "building tree 109 of 131\n",
      "building tree 110 of 131\n",
      "building tree 111 of 131\n",
      "building tree 112 of 131\n",
      "building tree 113 of 131\n",
      "building tree 114 of 131\n",
      "building tree 115 of 131\n",
      "building tree 116 of 131\n",
      "building tree 117 of 131\n",
      "building tree 118 of 131\n",
      "building tree 119 of 131\n"
     ]
    },
    {
     "name": "stderr",
     "output_type": "stream",
     "text": [
      "[Parallel(n_jobs=-1)]: Done 112 tasks      | elapsed:    8.3s\n"
     ]
    },
    {
     "name": "stdout",
     "output_type": "stream",
     "text": [
      "building tree 120 of 131\n",
      "building tree 121 of 131\n",
      "building tree 122 of 131\n",
      "building tree 123 of 131\n",
      "building tree 124 of 131\n",
      "building tree 125 of 131\n",
      "building tree 126 of 131\n",
      "building tree 127 of 131\n",
      "building tree 128 of 131\n",
      "building tree 129 of 131\n",
      "building tree 130 of 131\n",
      "building tree 131 of 131\n"
     ]
    },
    {
     "name": "stderr",
     "output_type": "stream",
     "text": [
      "[Parallel(n_jobs=-1)]: Done 131 out of 131 | elapsed:    9.5s finished\n",
      "[Parallel(n_jobs=8)]: Done   2 tasks      | elapsed:    0.0s\n",
      "[Parallel(n_jobs=8)]: Done   9 tasks      | elapsed:    0.0s\n",
      "[Parallel(n_jobs=8)]: Done  16 tasks      | elapsed:    0.0s\n",
      "[Parallel(n_jobs=8)]: Done  25 tasks      | elapsed:    0.0s\n",
      "[Parallel(n_jobs=8)]: Done  34 tasks      | elapsed:    0.0s\n",
      "[Parallel(n_jobs=8)]: Done  45 tasks      | elapsed:    0.1s\n",
      "[Parallel(n_jobs=8)]: Done  56 tasks      | elapsed:    0.1s\n",
      "[Parallel(n_jobs=8)]: Done  69 tasks      | elapsed:    0.1s\n",
      "[Parallel(n_jobs=8)]: Done  82 tasks      | elapsed:    0.1s\n",
      "[Parallel(n_jobs=8)]: Done  97 tasks      | elapsed:    0.1s\n",
      "[Parallel(n_jobs=8)]: Done 112 tasks      | elapsed:    0.1s\n",
      "[Parallel(n_jobs=8)]: Done 131 out of 131 | elapsed:    0.2s finished\n",
      "[Parallel(n_jobs=8)]: Done   2 tasks      | elapsed:    0.0s\n",
      "[Parallel(n_jobs=8)]: Done   9 tasks      | elapsed:    0.0s\n",
      "[Parallel(n_jobs=8)]: Done  16 tasks      | elapsed:    0.1s\n",
      "[Parallel(n_jobs=8)]: Done  25 tasks      | elapsed:    0.1s\n",
      "[Parallel(n_jobs=8)]: Done  34 tasks      | elapsed:    0.1s\n",
      "[Parallel(n_jobs=8)]: Done  45 tasks      | elapsed:    0.1s\n",
      "[Parallel(n_jobs=8)]: Done  56 tasks      | elapsed:    0.1s\n",
      "[Parallel(n_jobs=8)]: Done  69 tasks      | elapsed:    0.2s\n",
      "[Parallel(n_jobs=8)]: Done  82 tasks      | elapsed:    0.2s\n",
      "[Parallel(n_jobs=8)]: Done  97 tasks      | elapsed:    0.2s\n",
      "[Parallel(n_jobs=8)]: Done 112 tasks      | elapsed:    0.3s\n",
      "[Parallel(n_jobs=8)]: Done 131 out of 131 | elapsed:    0.3s finished\n",
      "/home/justin/anaconda3/lib/python3.6/site-packages/sklearn/model_selection/_validation.py:458: DataConversionWarning: A column-vector y was passed when a 1d array was expected. Please change the shape of y to (n_samples,), for example using ravel().\n",
      "  estimator.fit(X_train, y_train, **fit_params)\n"
     ]
    },
    {
     "name": "stdout",
     "output_type": "stream",
     "text": [
      "building tree 1 of 186building tree 3 of 186building tree 2 of 186\n",
      "\n",
      "\n",
      "building tree 4 of 186building tree 6 of 186building tree 5 of 186building tree 7 of 186\n",
      "\n",
      "\n",
      "\n",
      "building tree 8 of 186\n",
      "building tree 9 of 186\n",
      "building tree 10 of 186\n",
      "building tree 11 of 186\n"
     ]
    },
    {
     "name": "stderr",
     "output_type": "stream",
     "text": [
      "[Parallel(n_jobs=-1)]: Done   2 tasks      | elapsed:    0.5s\n"
     ]
    },
    {
     "name": "stdout",
     "output_type": "stream",
     "text": [
      "building tree 12 of 186\n",
      "building tree 13 of 186\n",
      "building tree 14 of 186\n",
      "building tree 15 of 186\n",
      "building tree 16 of 186\n",
      "building tree 17 of 186\n"
     ]
    },
    {
     "name": "stderr",
     "output_type": "stream",
     "text": [
      "[Parallel(n_jobs=-1)]: Done   9 tasks      | elapsed:    1.0s\n"
     ]
    },
    {
     "name": "stdout",
     "output_type": "stream",
     "text": [
      "building tree 18 of 186\n",
      "building tree 19 of 186\n",
      "building tree 20 of 186\n",
      "building tree 21 of 186\n",
      "building tree 22 of 186\n",
      "building tree 23 of 186\n"
     ]
    },
    {
     "name": "stderr",
     "output_type": "stream",
     "text": [
      "[Parallel(n_jobs=-1)]: Done  16 tasks      | elapsed:    1.8s\n"
     ]
    },
    {
     "name": "stdout",
     "output_type": "stream",
     "text": [
      "building tree 24 of 186\n",
      "building tree 25 of 186\n",
      "building tree 26 of 186\n",
      "building tree 27 of 186\n",
      "building tree 28 of 186\n",
      "building tree 29 of 186\n",
      "building tree 30 of 186\n",
      "building tree 31 of 186\n",
      "building tree 32 of 186\n",
      "building tree 33 of 186\n",
      "building tree 34 of 186\n"
     ]
    },
    {
     "name": "stderr",
     "output_type": "stream",
     "text": [
      "[Parallel(n_jobs=-1)]: Done  25 tasks      | elapsed:    2.4s\n"
     ]
    },
    {
     "name": "stdout",
     "output_type": "stream",
     "text": [
      "building tree 35 of 186\n",
      "building tree 36 of 186\n",
      "building tree 37 of 186\n",
      "building tree 38 of 186\n",
      "building tree 39 of 186\n",
      "building tree 40 of 186\n",
      "building tree 41 of 186\n"
     ]
    },
    {
     "name": "stderr",
     "output_type": "stream",
     "text": [
      "[Parallel(n_jobs=-1)]: Done  34 tasks      | elapsed:    3.3s\n"
     ]
    },
    {
     "name": "stdout",
     "output_type": "stream",
     "text": [
      "building tree 42 of 186\n",
      "building tree 43 of 186\n",
      "building tree 44 of 186\n",
      "building tree 45 of 186\n",
      "building tree 46 of 186\n",
      "building tree 47 of 186\n",
      "building tree 48 of 186\n",
      "building tree 49 of 186\n",
      "building tree 50 of 186\n",
      "building tree 51 of 186\n",
      "building tree 52 of 186\n",
      "building tree 53 of 186\n"
     ]
    },
    {
     "name": "stderr",
     "output_type": "stream",
     "text": [
      "[Parallel(n_jobs=-1)]: Done  45 tasks      | elapsed:    4.3s\n"
     ]
    },
    {
     "name": "stdout",
     "output_type": "stream",
     "text": [
      "building tree 54 of 186\n",
      "building tree 55 of 186\n",
      "building tree 56 of 186\n",
      "building tree 57 of 186\n",
      "building tree 58 of 186\n",
      "building tree 59 of 186\n",
      "building tree 60 of 186\n",
      "building tree 61 of 186\n",
      "building tree 62 of 186\n",
      "building tree 63 of 186\n",
      "building tree 64 of 186\n"
     ]
    },
    {
     "name": "stderr",
     "output_type": "stream",
     "text": [
      "[Parallel(n_jobs=-1)]: Done  56 tasks      | elapsed:    5.3s\n"
     ]
    },
    {
     "name": "stdout",
     "output_type": "stream",
     "text": [
      "building tree 66 of 186\n",
      "building tree 65 of 186\n",
      "building tree 67 of 186\n",
      "building tree 68 of 186\n",
      "building tree 69 of 186\n",
      "building tree 70 of 186\n",
      "building tree 71 of 186\n",
      "building tree 72 of 186\n",
      "building tree 73 of 186\n",
      "building tree 74 of 186\n",
      "building tree 75 of 186\n",
      "building tree 76 of 186\n",
      "building tree 77 of 186\n"
     ]
    },
    {
     "name": "stderr",
     "output_type": "stream",
     "text": [
      "[Parallel(n_jobs=-1)]: Done  69 tasks      | elapsed:    6.6s\n"
     ]
    },
    {
     "name": "stdout",
     "output_type": "stream",
     "text": [
      "building tree 78 of 186\n",
      "building tree 79 of 186\n",
      "building tree 80 of 186\n",
      "building tree 81 of 186\n",
      "building tree 82 of 186\n",
      "building tree 83 of 186\n",
      "building tree 84 of 186\n",
      "building tree 85 of 186\n",
      "building tree 86 of 186\n",
      "building tree 87 of 186\n",
      "building tree 88 of 186\n",
      "building tree 89 of 186\n",
      "building tree 90 of 186\n"
     ]
    },
    {
     "name": "stderr",
     "output_type": "stream",
     "text": [
      "[Parallel(n_jobs=-1)]: Done  82 tasks      | elapsed:    7.6s\n"
     ]
    },
    {
     "name": "stdout",
     "output_type": "stream",
     "text": [
      "building tree 91 of 186\n",
      "building tree 92 of 186\n",
      "building tree 93 of 186\n",
      "building tree 95 of 186building tree 94 of 186\n",
      "\n",
      "building tree 96 of 186\n",
      "building tree 97 of 186\n",
      "building tree 98 of 186\n",
      "building tree 99 of 186\n",
      "building tree 100 of 186\n",
      "building tree 101 of 186\n",
      "building tree 102 of 186\n",
      "building tree 103 of 186\n",
      "building tree 104 of 186\n",
      "building tree 105 of 186\n"
     ]
    },
    {
     "name": "stderr",
     "output_type": "stream",
     "text": [
      "[Parallel(n_jobs=-1)]: Done  97 tasks      | elapsed:    8.9s\n"
     ]
    },
    {
     "name": "stdout",
     "output_type": "stream",
     "text": [
      "building tree 106 of 186\n",
      "building tree 107 of 186\n",
      "building tree 108 of 186\n",
      "building tree 109 of 186\n",
      "building tree 110 of 186\n",
      "building tree 112 of 186\n",
      "building tree 111 of 186\n",
      "building tree 113 of 186\n",
      "building tree 114 of 186\n",
      "building tree 115 of 186\n",
      "building tree 116 of 186\n",
      "building tree 117 of 186\n",
      "building tree 118 of 186\n",
      "building tree 119 of 186\n"
     ]
    },
    {
     "name": "stderr",
     "output_type": "stream",
     "text": [
      "[Parallel(n_jobs=-1)]: Done 112 tasks      | elapsed:   10.3s\n"
     ]
    },
    {
     "name": "stdout",
     "output_type": "stream",
     "text": [
      "building tree 120 of 186\n",
      "building tree 121 of 186\n",
      "building tree 122 of 186\n",
      "building tree 123 of 186\n",
      "building tree 124 of 186\n",
      "building tree 125 of 186\n",
      "building tree 126 of 186\n",
      "building tree 127 of 186\n",
      "building tree 128 of 186\n",
      "building tree 129 of 186\n",
      "building tree 130 of 186\n",
      "building tree 131 of 186\n",
      "building tree 132 of 186\n",
      "building tree 133 of 186\n",
      "building tree 134 of 186\n",
      "building tree 135 of 186\n",
      "building tree 136 of 186\n",
      "building tree 137 of 186\n"
     ]
    },
    {
     "name": "stderr",
     "output_type": "stream",
     "text": [
      "[Parallel(n_jobs=-1)]: Done 129 tasks      | elapsed:   11.6s\n"
     ]
    },
    {
     "name": "stdout",
     "output_type": "stream",
     "text": [
      "building tree 138 of 186\n",
      "building tree 139 of 186\n",
      "building tree 140 of 186\n",
      "building tree 141 of 186\n",
      "building tree 142 of 186\n",
      "building tree 143 of 186\n",
      "building tree 144 of 186\n",
      "building tree 145 of 186\n",
      "building tree 146 of 186\n",
      "building tree 147 of 186\n",
      "building tree 148 of 186\n",
      "building tree 149 of 186\n",
      "building tree 150 of 186\n",
      "building tree 151 of 186\n",
      "building tree 152 of 186\n",
      "building tree 153 of 186\n"
     ]
    },
    {
     "name": "stderr",
     "output_type": "stream",
     "text": [
      "[Parallel(n_jobs=-1)]: Done 146 tasks      | elapsed:   13.3s\n"
     ]
    },
    {
     "name": "stdout",
     "output_type": "stream",
     "text": [
      "building tree 154 of 186\n",
      "building tree 155 of 186\n",
      "building tree 156 of 186\n",
      "building tree 157 of 186\n",
      "building tree 158 of 186\n",
      "building tree 159 of 186\n",
      "building tree 160 of 186\n",
      "building tree 161 of 186\n",
      "building tree 162 of 186\n",
      "building tree 163 of 186\n",
      "building tree 164 of 186\n",
      "building tree 165 of 186\n",
      "building tree 166 of 186\n",
      "building tree 167 of 186\n",
      "building tree 168 of 186\n",
      "building tree 169 of 186\n",
      "building tree 170 of 186\n",
      "building tree 171 of 186\n",
      "building tree 172 of 186\n"
     ]
    },
    {
     "name": "stderr",
     "output_type": "stream",
     "text": [
      "[Parallel(n_jobs=-1)]: Done 165 tasks      | elapsed:   14.9s\n"
     ]
    },
    {
     "name": "stdout",
     "output_type": "stream",
     "text": [
      "building tree 173 of 186\n",
      "building tree 174 of 186\n",
      "building tree 175 of 186\n",
      "building tree 176 of 186\n",
      "building tree 177 of 186\n",
      "building tree 178 of 186\n",
      "building tree 179 of 186\n",
      "building tree 180 of 186\n",
      "building tree 181 of 186\n",
      "building tree 182 of 186\n",
      "building tree 183 of 186\n",
      "building tree 184 of 186\n",
      "building tree 185 of 186\n",
      "building tree 186 of 186\n"
     ]
    },
    {
     "name": "stderr",
     "output_type": "stream",
     "text": [
      "[Parallel(n_jobs=-1)]: Done 186 out of 186 | elapsed:   16.6s finished\n",
      "[Parallel(n_jobs=8)]: Done   2 tasks      | elapsed:    0.0s\n",
      "[Parallel(n_jobs=8)]: Done   9 tasks      | elapsed:    0.0s\n",
      "[Parallel(n_jobs=8)]: Done  16 tasks      | elapsed:    0.0s\n",
      "[Parallel(n_jobs=8)]: Done  25 tasks      | elapsed:    0.0s\n",
      "[Parallel(n_jobs=8)]: Done  34 tasks      | elapsed:    0.0s\n",
      "[Parallel(n_jobs=8)]: Done  45 tasks      | elapsed:    0.1s\n",
      "[Parallel(n_jobs=8)]: Done  56 tasks      | elapsed:    0.1s\n",
      "[Parallel(n_jobs=8)]: Done  69 tasks      | elapsed:    0.1s\n",
      "[Parallel(n_jobs=8)]: Done  82 tasks      | elapsed:    0.1s\n",
      "[Parallel(n_jobs=8)]: Done  97 tasks      | elapsed:    0.1s\n",
      "[Parallel(n_jobs=8)]: Done 112 tasks      | elapsed:    0.1s\n",
      "[Parallel(n_jobs=8)]: Done 129 tasks      | elapsed:    0.1s\n",
      "[Parallel(n_jobs=8)]: Done 146 tasks      | elapsed:    0.1s\n",
      "[Parallel(n_jobs=8)]: Done 165 tasks      | elapsed:    0.2s\n",
      "[Parallel(n_jobs=8)]: Done 186 out of 186 | elapsed:    0.2s finished\n",
      "[Parallel(n_jobs=8)]: Done   2 tasks      | elapsed:    0.0s\n",
      "[Parallel(n_jobs=8)]: Done   9 tasks      | elapsed:    0.0s\n",
      "[Parallel(n_jobs=8)]: Done  16 tasks      | elapsed:    0.0s\n",
      "[Parallel(n_jobs=8)]: Done  25 tasks      | elapsed:    0.1s\n",
      "[Parallel(n_jobs=8)]: Done  34 tasks      | elapsed:    0.1s\n",
      "[Parallel(n_jobs=8)]: Done  45 tasks      | elapsed:    0.1s\n",
      "[Parallel(n_jobs=8)]: Done  56 tasks      | elapsed:    0.1s\n",
      "[Parallel(n_jobs=8)]: Done  69 tasks      | elapsed:    0.1s\n",
      "[Parallel(n_jobs=8)]: Done  82 tasks      | elapsed:    0.2s\n",
      "[Parallel(n_jobs=8)]: Done  97 tasks      | elapsed:    0.2s\n",
      "[Parallel(n_jobs=8)]: Done 112 tasks      | elapsed:    0.2s\n",
      "[Parallel(n_jobs=8)]: Done 129 tasks      | elapsed:    0.3s\n",
      "[Parallel(n_jobs=8)]: Done 146 tasks      | elapsed:    0.3s\n",
      "[Parallel(n_jobs=8)]: Done 165 tasks      | elapsed:    0.3s\n",
      "[Parallel(n_jobs=8)]: Done 186 out of 186 | elapsed:    0.4s finished\n",
      "/home/justin/anaconda3/lib/python3.6/site-packages/sklearn/model_selection/_validation.py:458: DataConversionWarning: A column-vector y was passed when a 1d array was expected. Please change the shape of y to (n_samples,), for example using ravel().\n",
      "  estimator.fit(X_train, y_train, **fit_params)\n"
     ]
    },
    {
     "name": "stdout",
     "output_type": "stream",
     "text": [
      "building tree 4 of 186building tree 3 of 186building tree 2 of 186building tree 6 of 186building tree 5 of 186building tree 1 of 186building tree 7 of 186\n",
      "\n",
      "\n",
      "\n",
      "\n",
      "\n",
      "\n",
      "building tree 8 of 186\n",
      "building tree 9 of 186\n",
      "building tree 10 of 186\n"
     ]
    },
    {
     "name": "stderr",
     "output_type": "stream",
     "text": [
      "[Parallel(n_jobs=-1)]: Done   2 tasks      | elapsed:    0.8s\n"
     ]
    },
    {
     "name": "stdout",
     "output_type": "stream",
     "text": [
      "building tree 11 of 186\n",
      "building tree 12 of 186\n",
      "building tree 13 of 186\n",
      "building tree 14 of 186\n",
      "building tree 15 of 186\n",
      "building tree 16 of 186\n",
      "building tree 17 of 186\n"
     ]
    },
    {
     "name": "stderr",
     "output_type": "stream",
     "text": [
      "[Parallel(n_jobs=-1)]: Done   9 tasks      | elapsed:    1.3s\n"
     ]
    },
    {
     "name": "stdout",
     "output_type": "stream",
     "text": [
      "building tree 18 of 186\n",
      "building tree 19 of 186\n",
      "building tree 20 of 186\n",
      "building tree 21 of 186\n",
      "building tree 22 of 186\n",
      "building tree 23 of 186\n",
      "building tree 24 of 186\n"
     ]
    },
    {
     "name": "stderr",
     "output_type": "stream",
     "text": [
      "[Parallel(n_jobs=-1)]: Done  16 tasks      | elapsed:    2.2s\n"
     ]
    },
    {
     "name": "stdout",
     "output_type": "stream",
     "text": [
      "building tree 25 of 186\n",
      "building tree 26 of 186\n",
      "building tree 27 of 186\n",
      "building tree 28 of 186\n",
      "building tree 29 of 186\n",
      "building tree 30 of 186\n",
      "building tree 31 of 186\n",
      "building tree 32 of 186\n"
     ]
    },
    {
     "name": "stderr",
     "output_type": "stream",
     "text": [
      "[Parallel(n_jobs=-1)]: Done  25 tasks      | elapsed:    3.3s\n"
     ]
    },
    {
     "name": "stdout",
     "output_type": "stream",
     "text": [
      "building tree 33 of 186\n",
      "building tree 34 of 186\n",
      "building tree 35 of 186\n",
      "building tree 36 of 186\n",
      "building tree 37 of 186\n",
      "building tree 38 of 186\n",
      "building tree 39 of 186\n",
      "building tree 40 of 186\n",
      "building tree 41 of 186\n",
      "building tree 42 of 186\n"
     ]
    },
    {
     "name": "stderr",
     "output_type": "stream",
     "text": [
      "[Parallel(n_jobs=-1)]: Done  34 tasks      | elapsed:    4.4s\n"
     ]
    },
    {
     "name": "stdout",
     "output_type": "stream",
     "text": [
      "building tree 43 of 186\n",
      "building tree 44 of 186\n",
      "building tree 45 of 186\n",
      "building tree 46 of 186\n",
      "building tree 47 of 186\n",
      "building tree 48 of 186\n",
      "building tree 49 of 186\n",
      "building tree 50 of 186\n",
      "building tree 51 of 186\n",
      "building tree 52 of 186\n",
      "building tree 53 of 186\n"
     ]
    },
    {
     "name": "stderr",
     "output_type": "stream",
     "text": [
      "[Parallel(n_jobs=-1)]: Done  45 tasks      | elapsed:    5.6s\n"
     ]
    },
    {
     "name": "stdout",
     "output_type": "stream",
     "text": [
      "building tree 54 of 186\n",
      "building tree 55 of 186\n",
      "building tree 57 of 186\n",
      "building tree 56 of 186\n",
      "building tree 58 of 186\n",
      "building tree 59 of 186\n",
      "building tree 60 of 186\n",
      "building tree 61 of 186\n",
      "building tree 62 of 186\n",
      "building tree 63 of 186\n"
     ]
    },
    {
     "name": "stderr",
     "output_type": "stream",
     "text": [
      "[Parallel(n_jobs=-1)]: Done  56 tasks      | elapsed:    7.0s\n"
     ]
    },
    {
     "name": "stdout",
     "output_type": "stream",
     "text": [
      "building tree 64 of 186\n",
      "building tree 65 of 186\n",
      "building tree 66 of 186\n",
      "building tree 67 of 186\n",
      "building tree 68 of 186\n",
      "building tree 69 of 186\n",
      "building tree 70 of 186\n",
      "building tree 71 of 186\n",
      "building tree 72 of 186\n",
      "building tree 73 of 186\n",
      "building tree 74 of 186\n",
      "building tree 75 of 186\n",
      "building tree 76 of 186\n",
      "building tree 77 of 186\n"
     ]
    },
    {
     "name": "stderr",
     "output_type": "stream",
     "text": [
      "[Parallel(n_jobs=-1)]: Done  69 tasks      | elapsed:    8.5s\n"
     ]
    },
    {
     "name": "stdout",
     "output_type": "stream",
     "text": [
      "building tree 78 of 186\n",
      "building tree 79 of 186\n",
      "building tree 80 of 186\n",
      "building tree 81 of 186\n",
      "building tree 82 of 186\n",
      "building tree 83 of 186\n",
      "building tree 84 of 186\n",
      "building tree 85 of 186\n",
      "building tree 86 of 186\n",
      "building tree 87 of 186\n",
      "building tree 88 of 186\n",
      "building tree 89 of 186\n",
      "building tree 90 of 186\n"
     ]
    },
    {
     "name": "stderr",
     "output_type": "stream",
     "text": [
      "[Parallel(n_jobs=-1)]: Done  82 tasks      | elapsed:    9.9s\n"
     ]
    },
    {
     "name": "stdout",
     "output_type": "stream",
     "text": [
      "building tree 91 of 186\n",
      "building tree 92 of 186\n",
      "building tree 93 of 186\n",
      "building tree 94 of 186\n",
      "building tree 95 of 186\n",
      "building tree 96 of 186\n",
      "building tree 97 of 186\n",
      "building tree 98 of 186\n",
      "building tree 99 of 186\n",
      "building tree 100 of 186\n",
      "building tree 101 of 186\n",
      "building tree 102 of 186\n",
      "building tree 104 of 186\n",
      "building tree 103 of 186\n",
      "building tree 105 of 186\n"
     ]
    },
    {
     "name": "stderr",
     "output_type": "stream",
     "text": [
      "[Parallel(n_jobs=-1)]: Done  97 tasks      | elapsed:   11.7s\n"
     ]
    },
    {
     "name": "stdout",
     "output_type": "stream",
     "text": [
      "building tree 106 of 186\n",
      "building tree 107 of 186\n",
      "building tree 108 of 186\n",
      "building tree 109 of 186\n",
      "building tree 110 of 186\n",
      "building tree 111 of 186\n",
      "building tree 112 of 186\n",
      "building tree 113 of 186\n",
      "building tree 114 of 186\n",
      "building tree 115 of 186\n",
      "building tree 116 of 186\n",
      "building tree 117 of 186\n",
      "building tree 118 of 186\n",
      "building tree 119 of 186\n",
      "building tree 120 of 186\n"
     ]
    },
    {
     "name": "stderr",
     "output_type": "stream",
     "text": [
      "[Parallel(n_jobs=-1)]: Done 112 tasks      | elapsed:   13.6s\n"
     ]
    },
    {
     "name": "stdout",
     "output_type": "stream",
     "text": [
      "building tree 121 of 186\n",
      "building tree 122 of 186\n",
      "building tree 123 of 186\n",
      "building tree 124 of 186\n",
      "building tree 125 of 186\n",
      "building tree 126 of 186\n",
      "building tree 127 of 186\n",
      "building tree 128 of 186\n",
      "building tree 129 of 186\n",
      "building tree 130 of 186\n",
      "building tree 131 of 186\n",
      "building tree 132 of 186\n",
      "building tree 133 of 186\n",
      "building tree 134 of 186\n",
      "building tree 135 of 186\n",
      "building tree 136 of 186\n"
     ]
    },
    {
     "name": "stderr",
     "output_type": "stream",
     "text": [
      "[Parallel(n_jobs=-1)]: Done 129 tasks      | elapsed:   15.7s\n"
     ]
    },
    {
     "name": "stdout",
     "output_type": "stream",
     "text": [
      "building tree 137 of 186\n",
      "building tree 138 of 186\n",
      "building tree 139 of 186\n",
      "building tree 140 of 186\n",
      "building tree 141 of 186\n",
      "building tree 142 of 186\n",
      "building tree 143 of 186\n",
      "building tree 144 of 186\n",
      "building tree 145 of 186\n",
      "building tree 146 of 186\n",
      "building tree 147 of 186\n",
      "building tree 148 of 186\n",
      "building tree 149 of 186\n",
      "building tree 150 of 186\n",
      "building tree 151 of 186\n",
      "building tree 152 of 186\n",
      "building tree 153 of 186\n",
      "building tree 154 of 186\n",
      "building tree 155 of 186\n"
     ]
    },
    {
     "name": "stderr",
     "output_type": "stream",
     "text": [
      "[Parallel(n_jobs=-1)]: Done 146 tasks      | elapsed:   17.6s\n"
     ]
    },
    {
     "name": "stdout",
     "output_type": "stream",
     "text": [
      "building tree 156 of 186\n",
      "building tree 157 of 186\n",
      "building tree 158 of 186\n",
      "building tree 159 of 186\n",
      "building tree 160 of 186\n",
      "building tree 161 of 186\n",
      "building tree 162 of 186\n",
      "building tree 163 of 186\n",
      "building tree 164 of 186\n",
      "building tree 165 of 186\n",
      "building tree 166 of 186\n",
      "building tree 167 of 186\n",
      "building tree 168 of 186\n",
      "building tree 169 of 186\n",
      "building tree 170 of 186\n",
      "building tree 171 of 186\n",
      "building tree 172 of 186\n"
     ]
    },
    {
     "name": "stderr",
     "output_type": "stream",
     "text": [
      "[Parallel(n_jobs=-1)]: Done 165 tasks      | elapsed:   19.9s\n"
     ]
    },
    {
     "name": "stdout",
     "output_type": "stream",
     "text": [
      "building tree 173 of 186\n",
      "building tree 174 of 186\n",
      "building tree 175 of 186\n",
      "building tree 176 of 186\n",
      "building tree 177 of 186\n",
      "building tree 178 of 186building tree 179 of 186\n",
      "\n",
      "building tree 180 of 186\n",
      "building tree 181 of 186\n",
      "building tree 182 of 186\n",
      "building tree 183 of 186\n",
      "building tree 184 of 186\n",
      "building tree 185 of 186\n",
      "building tree 186 of 186\n"
     ]
    },
    {
     "name": "stderr",
     "output_type": "stream",
     "text": [
      "[Parallel(n_jobs=-1)]: Done 186 out of 186 | elapsed:   22.1s finished\n",
      "[Parallel(n_jobs=8)]: Done   2 tasks      | elapsed:    0.0s\n",
      "[Parallel(n_jobs=8)]: Done   9 tasks      | elapsed:    0.0s\n",
      "[Parallel(n_jobs=8)]: Done  16 tasks      | elapsed:    0.0s\n",
      "[Parallel(n_jobs=8)]: Done  25 tasks      | elapsed:    0.0s\n",
      "[Parallel(n_jobs=8)]: Done  34 tasks      | elapsed:    0.1s\n",
      "[Parallel(n_jobs=8)]: Done  45 tasks      | elapsed:    0.1s\n",
      "[Parallel(n_jobs=8)]: Done  56 tasks      | elapsed:    0.1s\n",
      "[Parallel(n_jobs=8)]: Done  69 tasks      | elapsed:    0.1s\n",
      "[Parallel(n_jobs=8)]: Done  82 tasks      | elapsed:    0.1s\n",
      "[Parallel(n_jobs=8)]: Done  97 tasks      | elapsed:    0.1s\n",
      "[Parallel(n_jobs=8)]: Done 112 tasks      | elapsed:    0.1s\n",
      "[Parallel(n_jobs=8)]: Done 129 tasks      | elapsed:    0.2s\n",
      "[Parallel(n_jobs=8)]: Done 146 tasks      | elapsed:    0.2s\n",
      "[Parallel(n_jobs=8)]: Done 165 tasks      | elapsed:    0.2s\n",
      "[Parallel(n_jobs=8)]: Done 186 out of 186 | elapsed:    0.2s finished\n",
      "[Parallel(n_jobs=8)]: Done   2 tasks      | elapsed:    0.0s\n",
      "[Parallel(n_jobs=8)]: Done   9 tasks      | elapsed:    0.0s\n",
      "[Parallel(n_jobs=8)]: Done  16 tasks      | elapsed:    0.1s\n",
      "[Parallel(n_jobs=8)]: Done  25 tasks      | elapsed:    0.1s\n",
      "[Parallel(n_jobs=8)]: Done  34 tasks      | elapsed:    0.1s\n",
      "[Parallel(n_jobs=8)]: Done  45 tasks      | elapsed:    0.1s\n",
      "[Parallel(n_jobs=8)]: Done  56 tasks      | elapsed:    0.1s\n",
      "[Parallel(n_jobs=8)]: Done  69 tasks      | elapsed:    0.2s\n",
      "[Parallel(n_jobs=8)]: Done  82 tasks      | elapsed:    0.2s\n",
      "[Parallel(n_jobs=8)]: Done  97 tasks      | elapsed:    0.2s\n",
      "[Parallel(n_jobs=8)]: Done 112 tasks      | elapsed:    0.3s\n",
      "[Parallel(n_jobs=8)]: Done 129 tasks      | elapsed:    0.3s\n",
      "[Parallel(n_jobs=8)]: Done 146 tasks      | elapsed:    0.3s\n",
      "[Parallel(n_jobs=8)]: Done 165 tasks      | elapsed:    0.4s\n",
      "[Parallel(n_jobs=8)]: Done 186 out of 186 | elapsed:    0.4s finished\n",
      "/home/justin/anaconda3/lib/python3.6/site-packages/sklearn/model_selection/_validation.py:458: DataConversionWarning: A column-vector y was passed when a 1d array was expected. Please change the shape of y to (n_samples,), for example using ravel().\n",
      "  estimator.fit(X_train, y_train, **fit_params)\n"
     ]
    },
    {
     "name": "stdout",
     "output_type": "stream",
     "text": [
      "building tree 2 of 186building tree 3 of 186building tree 4 of 186\n",
      "building tree 6 of 186building tree 5 of 186building tree 7 of 186\n",
      "\n",
      "building tree 1 of 186\n",
      "\n",
      "\n",
      "building tree 8 of 186\n",
      "\n",
      "building tree 9 of 186\n",
      "building tree 10 of 186\n",
      "building tree 11 of 186\n"
     ]
    },
    {
     "name": "stderr",
     "output_type": "stream",
     "text": [
      "[Parallel(n_jobs=-1)]: Done   2 tasks      | elapsed:    0.8s\n"
     ]
    },
    {
     "name": "stdout",
     "output_type": "stream",
     "text": [
      "building tree 12 of 186\n",
      "building tree 13 of 186\n",
      "building tree 14 of 186\n",
      "building tree 15 of 186\n",
      "building tree 16 of 186\n"
     ]
    },
    {
     "name": "stderr",
     "output_type": "stream",
     "text": [
      "[Parallel(n_jobs=-1)]: Done   9 tasks      | elapsed:    1.9s\n"
     ]
    },
    {
     "name": "stdout",
     "output_type": "stream",
     "text": [
      "building tree 17 of 186\n",
      "building tree 18 of 186\n",
      "building tree 19 of 186\n",
      "building tree 20 of 186\n",
      "building tree 21 of 186\n",
      "building tree 22 of 186\n",
      "building tree 23 of 186\n",
      "building tree 24 of 186\n"
     ]
    },
    {
     "name": "stderr",
     "output_type": "stream",
     "text": [
      "[Parallel(n_jobs=-1)]: Done  16 tasks      | elapsed:    2.9s\n"
     ]
    },
    {
     "name": "stdout",
     "output_type": "stream",
     "text": [
      "building tree 25 of 186\n",
      "building tree 26 of 186\n",
      "building tree 27 of 186\n",
      "building tree 28 of 186\n",
      "building tree 29 of 186\n",
      "building tree 30 of 186\n",
      "building tree 31 of 186\n",
      "building tree 32 of 186\n",
      "building tree 33 of 186\n",
      "building tree 34 of 186\n"
     ]
    },
    {
     "name": "stderr",
     "output_type": "stream",
     "text": [
      "[Parallel(n_jobs=-1)]: Done  25 tasks      | elapsed:    4.1s\n"
     ]
    },
    {
     "name": "stdout",
     "output_type": "stream",
     "text": [
      "building tree 35 of 186\n",
      "building tree 36 of 186\n",
      "building tree 37 of 186\n",
      "building tree 38 of 186\n",
      "building tree 39 of 186\n",
      "building tree 40 of 186\n",
      "building tree 41 of 186\n"
     ]
    },
    {
     "name": "stderr",
     "output_type": "stream",
     "text": [
      "[Parallel(n_jobs=-1)]: Done  34 tasks      | elapsed:    5.4s\n"
     ]
    },
    {
     "name": "stdout",
     "output_type": "stream",
     "text": [
      "building tree 42 of 186\n",
      "building tree 43 of 186\n",
      "building tree 44 of 186\n",
      "building tree 45 of 186\n",
      "building tree 46 of 186\n",
      "building tree 47 of 186\n",
      "building tree 48 of 186\n",
      "building tree 49 of 186\n",
      "building tree 50 of 186\n",
      "building tree 51 of 186\n",
      "building tree 52 of 186\n",
      "building tree 53 of 186\n"
     ]
    },
    {
     "name": "stderr",
     "output_type": "stream",
     "text": [
      "[Parallel(n_jobs=-1)]: Done  45 tasks      | elapsed:    6.7s\n"
     ]
    },
    {
     "name": "stdout",
     "output_type": "stream",
     "text": [
      "building tree 54 of 186\n",
      "building tree 55 of 186\n",
      "building tree 56 of 186\n",
      "building tree 57 of 186\n",
      "building tree 58 of 186\n",
      "building tree 59 of 186\n",
      "building tree 60 of 186\n",
      "building tree 61 of 186\n",
      "building tree 62 of 186\n",
      "building tree 63 of 186\n"
     ]
    },
    {
     "name": "stderr",
     "output_type": "stream",
     "text": [
      "[Parallel(n_jobs=-1)]: Done  56 tasks      | elapsed:    8.1s\n"
     ]
    },
    {
     "name": "stdout",
     "output_type": "stream",
     "text": [
      "building tree 64 of 186\n",
      "building tree 65 of 186\n",
      "building tree 66 of 186\n",
      "building tree 67 of 186\n",
      "building tree 68 of 186\n",
      "building tree 69 of 186\n",
      "building tree 70 of 186\n",
      "building tree 71 of 186\n",
      "building tree 72 of 186\n",
      "building tree 73 of 186\n",
      "building tree 74 of 186\n",
      "building tree 75 of 186\n",
      "building tree 76 of 186\n",
      "building tree 77 of 186\n",
      "building tree 78 of 186\n",
      "building tree 79 of 186\n",
      "building tree 80 of 186\n"
     ]
    },
    {
     "name": "stderr",
     "output_type": "stream",
     "text": [
      "[Parallel(n_jobs=-1)]: Done  69 tasks      | elapsed:   10.2s\n"
     ]
    },
    {
     "name": "stdout",
     "output_type": "stream",
     "text": [
      "building tree 81 of 186\n",
      "building tree 82 of 186\n",
      "building tree 83 of 186\n",
      "building tree 84 of 186\n",
      "building tree 85 of 186\n",
      "building tree 86 of 186\n",
      "building tree 87 of 186\n",
      "building tree 88 of 186\n",
      "building tree 89 of 186\n"
     ]
    },
    {
     "name": "stderr",
     "output_type": "stream",
     "text": [
      "[Parallel(n_jobs=-1)]: Done  82 tasks      | elapsed:   11.8s\n"
     ]
    },
    {
     "name": "stdout",
     "output_type": "stream",
     "text": [
      "building tree 90 of 186\n",
      "building tree 91 of 186\n",
      "building tree 92 of 186\n",
      "building tree 93 of 186\n",
      "building tree 94 of 186\n",
      "building tree 95 of 186\n",
      "building tree 96 of 186\n",
      "building tree 97 of 186\n",
      "building tree 98 of 186\n",
      "building tree 99 of 186\n",
      "building tree 100 of 186\n",
      "building tree 101 of 186\n",
      "building tree 102 of 186\n",
      "building tree 103 of 186\n",
      "building tree 104 of 186\n",
      "building tree 105 of 186\n"
     ]
    },
    {
     "name": "stderr",
     "output_type": "stream",
     "text": [
      "[Parallel(n_jobs=-1)]: Done  97 tasks      | elapsed:   13.9s\n"
     ]
    },
    {
     "name": "stdout",
     "output_type": "stream",
     "text": [
      "building tree 106 of 186\n",
      "building tree 107 of 186\n",
      "building tree 108 of 186\n",
      "building tree 109 of 186\n",
      "building tree 110 of 186\n",
      "building tree 111 of 186\n",
      "building tree 112 of 186\n",
      "building tree 113 of 186\n",
      "building tree 114 of 186\n",
      "building tree 115 of 186\n",
      "building tree 116 of 186\n",
      "building tree 117 of 186\n",
      "building tree 118 of 186\n",
      "building tree 119 of 186\n"
     ]
    },
    {
     "name": "stderr",
     "output_type": "stream",
     "text": [
      "[Parallel(n_jobs=-1)]: Done 112 tasks      | elapsed:   16.0s\n"
     ]
    },
    {
     "name": "stdout",
     "output_type": "stream",
     "text": [
      "building tree 120 of 186\n",
      "building tree 121 of 186\n",
      "building tree 122 of 186\n",
      "building tree 123 of 186\n",
      "building tree 124 of 186\n",
      "building tree 125 of 186\n",
      "building tree 126 of 186\n",
      "building tree 127 of 186\n",
      "building tree 128 of 186\n",
      "building tree 129 of 186\n",
      "building tree 130 of 186\n",
      "building tree 131 of 186\n",
      "building tree 132 of 186\n",
      "building tree 133 of 186\n",
      "building tree 134 of 186\n",
      "building tree 135 of 186\n",
      "building tree 136 of 186\n"
     ]
    },
    {
     "name": "stderr",
     "output_type": "stream",
     "text": [
      "[Parallel(n_jobs=-1)]: Done 129 tasks      | elapsed:   18.5s\n"
     ]
    },
    {
     "name": "stdout",
     "output_type": "stream",
     "text": [
      "building tree 137 of 186\n",
      "building tree 138 of 186\n",
      "building tree 139 of 186\n",
      "building tree 140 of 186\n",
      "building tree 141 of 186\n",
      "building tree 142 of 186\n",
      "building tree 143 of 186\n",
      "building tree 144 of 186\n",
      "building tree 145 of 186\n",
      "building tree 146 of 186\n",
      "building tree 147 of 186\n",
      "building tree 148 of 186\n",
      "building tree 149 of 186\n",
      "building tree 150 of 186\n",
      "building tree 151 of 186\n",
      "building tree 152 of 186\n",
      "building tree 153 of 186\n"
     ]
    },
    {
     "name": "stderr",
     "output_type": "stream",
     "text": [
      "[Parallel(n_jobs=-1)]: Done 146 tasks      | elapsed:   20.8s\n"
     ]
    },
    {
     "name": "stdout",
     "output_type": "stream",
     "text": [
      "building tree 154 of 186\n",
      "building tree 155 of 186\n",
      "building tree 156 of 186\n",
      "building tree 157 of 186\n",
      "building tree 158 of 186\n",
      "building tree 159 of 186\n",
      "building tree 160 of 186\n",
      "building tree 161 of 186\n",
      "building tree 162 of 186\n",
      "building tree 163 of 186\n",
      "building tree 164 of 186\n",
      "building tree 165 of 186\n",
      "building tree 166 of 186\n",
      "building tree 167 of 186\n",
      "building tree 168 of 186\n",
      "building tree 169 of 186\n",
      "building tree 170 of 186\n",
      "building tree 171 of 186\n",
      "building tree 172 of 186\n",
      "building tree 173 of 186\n"
     ]
    },
    {
     "name": "stderr",
     "output_type": "stream",
     "text": [
      "[Parallel(n_jobs=-1)]: Done 165 tasks      | elapsed:   23.1s\n"
     ]
    },
    {
     "name": "stdout",
     "output_type": "stream",
     "text": [
      "building tree 174 of 186\n",
      "building tree 175 of 186\n",
      "building tree 176 of 186\n",
      "building tree 177 of 186\n",
      "building tree 179 of 186\n",
      "building tree 178 of 186\n",
      "building tree 180 of 186\n",
      "building tree 181 of 186\n",
      "building tree 182 of 186\n",
      "building tree 183 of 186\n",
      "building tree 184 of 186\n",
      "building tree 185 of 186\n",
      "building tree 186 of 186\n"
     ]
    },
    {
     "name": "stderr",
     "output_type": "stream",
     "text": [
      "[Parallel(n_jobs=-1)]: Done 186 out of 186 | elapsed:   25.8s finished\n",
      "[Parallel(n_jobs=8)]: Done   2 tasks      | elapsed:    0.0s\n",
      "[Parallel(n_jobs=8)]: Done   9 tasks      | elapsed:    0.0s\n",
      "[Parallel(n_jobs=8)]: Done  16 tasks      | elapsed:    0.0s\n",
      "[Parallel(n_jobs=8)]: Done  25 tasks      | elapsed:    0.0s\n",
      "[Parallel(n_jobs=8)]: Done  34 tasks      | elapsed:    0.0s\n",
      "[Parallel(n_jobs=8)]: Done  45 tasks      | elapsed:    0.1s\n",
      "[Parallel(n_jobs=8)]: Done  56 tasks      | elapsed:    0.1s\n",
      "[Parallel(n_jobs=8)]: Done  69 tasks      | elapsed:    0.1s\n",
      "[Parallel(n_jobs=8)]: Done  82 tasks      | elapsed:    0.1s\n",
      "[Parallel(n_jobs=8)]: Done  97 tasks      | elapsed:    0.1s\n",
      "[Parallel(n_jobs=8)]: Done 112 tasks      | elapsed:    0.1s\n",
      "[Parallel(n_jobs=8)]: Done 129 tasks      | elapsed:    0.2s\n",
      "[Parallel(n_jobs=8)]: Done 146 tasks      | elapsed:    0.2s\n",
      "[Parallel(n_jobs=8)]: Done 165 tasks      | elapsed:    0.2s\n",
      "[Parallel(n_jobs=8)]: Done 186 out of 186 | elapsed:    0.2s finished\n",
      "[Parallel(n_jobs=8)]: Done   2 tasks      | elapsed:    0.0s\n",
      "[Parallel(n_jobs=8)]: Done   9 tasks      | elapsed:    0.0s\n",
      "[Parallel(n_jobs=8)]: Done  16 tasks      | elapsed:    0.0s\n",
      "[Parallel(n_jobs=8)]: Done  25 tasks      | elapsed:    0.1s\n",
      "[Parallel(n_jobs=8)]: Done  34 tasks      | elapsed:    0.1s\n",
      "[Parallel(n_jobs=8)]: Done  45 tasks      | elapsed:    0.1s\n",
      "[Parallel(n_jobs=8)]: Done  56 tasks      | elapsed:    0.1s\n",
      "[Parallel(n_jobs=8)]: Done  69 tasks      | elapsed:    0.2s\n",
      "[Parallel(n_jobs=8)]: Done  82 tasks      | elapsed:    0.2s\n",
      "[Parallel(n_jobs=8)]: Done  97 tasks      | elapsed:    0.2s\n",
      "[Parallel(n_jobs=8)]: Done 112 tasks      | elapsed:    0.3s\n",
      "[Parallel(n_jobs=8)]: Done 129 tasks      | elapsed:    0.3s\n",
      "[Parallel(n_jobs=8)]: Done 146 tasks      | elapsed:    0.3s\n",
      "[Parallel(n_jobs=8)]: Done 165 tasks      | elapsed:    0.4s\n",
      "[Parallel(n_jobs=8)]: Done 186 out of 186 | elapsed:    0.4s finished\n",
      "/home/justin/anaconda3/lib/python3.6/site-packages/sklearn/model_selection/_validation.py:458: DataConversionWarning: A column-vector y was passed when a 1d array was expected. Please change the shape of y to (n_samples,), for example using ravel().\n",
      "  estimator.fit(X_train, y_train, **fit_params)\n"
     ]
    },
    {
     "name": "stdout",
     "output_type": "stream",
     "text": [
      "building tree 1 of 81building tree 3 of 81building tree 4 of 81\n",
      "building tree 5 of 81building tree 7 of 81building tree 2 of 81building tree 6 of 81building tree 8 of 81\n",
      "\n",
      "\n",
      "\n",
      "\n",
      "\n",
      "\n",
      "building tree 9 of 81\n",
      "building tree 10 of 81\n"
     ]
    },
    {
     "name": "stderr",
     "output_type": "stream",
     "text": [
      "[Parallel(n_jobs=-1)]: Done   2 tasks      | elapsed:    1.0s\n"
     ]
    },
    {
     "name": "stdout",
     "output_type": "stream",
     "text": [
      "building tree 11 of 81\n",
      "building tree 12 of 81\n",
      "building tree 13 of 81\n",
      "building tree 14 of 81\n",
      "building tree 15 of 81\n",
      "building tree 16 of 81\n"
     ]
    },
    {
     "name": "stderr",
     "output_type": "stream",
     "text": [
      "[Parallel(n_jobs=-1)]: Done   9 tasks      | elapsed:    2.0s\n"
     ]
    },
    {
     "name": "stdout",
     "output_type": "stream",
     "text": [
      "building tree 17 of 81\n",
      "building tree 18 of 81\n",
      "building tree 19 of 81\n",
      "building tree 20 of 81\n",
      "building tree 22 of 81building tree 21 of 81\n",
      "\n",
      "building tree 23 of 81\n",
      "building tree 24 of 81\n"
     ]
    },
    {
     "name": "stderr",
     "output_type": "stream",
     "text": [
      "[Parallel(n_jobs=-1)]: Done  16 tasks      | elapsed:    2.9s\n"
     ]
    },
    {
     "name": "stdout",
     "output_type": "stream",
     "text": [
      "building tree 25 of 81\n",
      "building tree 26 of 81\n",
      "building tree 27 of 81\n",
      "building tree 28 of 81\n",
      "building tree 29 of 81\n",
      "building tree 30 of 81\n",
      "building tree 31 of 81\n",
      "building tree 32 of 81\n",
      "building tree 33 of 81\n"
     ]
    },
    {
     "name": "stderr",
     "output_type": "stream",
     "text": [
      "[Parallel(n_jobs=-1)]: Done  25 tasks      | elapsed:    4.4s\n"
     ]
    },
    {
     "name": "stdout",
     "output_type": "stream",
     "text": [
      "building tree 34 of 81\n",
      "building tree 35 of 81\n",
      "building tree 36 of 81\n",
      "building tree 37 of 81\n",
      "building tree 38 of 81\n",
      "building tree 39 of 81\n",
      "building tree 40 of 81\n",
      "building tree 41 of 81\n"
     ]
    },
    {
     "name": "stderr",
     "output_type": "stream",
     "text": [
      "[Parallel(n_jobs=-1)]: Done  34 tasks      | elapsed:    5.9s\n"
     ]
    },
    {
     "name": "stdout",
     "output_type": "stream",
     "text": [
      "building tree 42 of 81\n",
      "building tree 43 of 81\n",
      "building tree 44 of 81\n",
      "building tree 45 of 81\n",
      "building tree 46 of 81\n",
      "building tree 47 of 81\n",
      "building tree 48 of 81\n",
      "building tree 49 of 81\n",
      "building tree 50 of 81\n",
      "building tree 51 of 81\n",
      "building tree 52 of 81\n"
     ]
    },
    {
     "name": "stderr",
     "output_type": "stream",
     "text": [
      "[Parallel(n_jobs=-1)]: Done  45 tasks      | elapsed:    7.6s\n"
     ]
    },
    {
     "name": "stdout",
     "output_type": "stream",
     "text": [
      "building tree 53 of 81\n",
      "building tree 54 of 81\n",
      "building tree 55 of 81\n",
      "building tree 56 of 81\n",
      "building tree 57 of 81\n",
      "building tree 58 of 81\n",
      "building tree 59 of 81\n",
      "building tree 60 of 81\n",
      "building tree 61 of 81\n",
      "building tree 62 of 81\n",
      "building tree 63 of 81\n"
     ]
    },
    {
     "name": "stderr",
     "output_type": "stream",
     "text": [
      "[Parallel(n_jobs=-1)]: Done  56 tasks      | elapsed:    9.4s\n"
     ]
    },
    {
     "name": "stdout",
     "output_type": "stream",
     "text": [
      "building tree 64 of 81\n",
      "building tree 65 of 81\n",
      "building tree 66 of 81\n",
      "building tree 67 of 81\n",
      "building tree 68 of 81\n",
      "building tree 69 of 81\n",
      "building tree 70 of 81\n",
      "building tree 71 of 81\n",
      "building tree 72 of 81\n",
      "building tree 73 of 81\n",
      "building tree 74 of 81\n",
      "building tree 75 of 81\n",
      "building tree 76 of 81\n",
      "building tree 77 of 81\n",
      "building tree 78 of 81\n",
      "building tree 79 of 81\n",
      "building tree 80 of 81\n",
      "building tree 81 of 81\n"
     ]
    },
    {
     "name": "stderr",
     "output_type": "stream",
     "text": [
      "[Parallel(n_jobs=-1)]: Done  75 out of  81 | elapsed:   12.7s remaining:    1.0s\n",
      "[Parallel(n_jobs=-1)]: Done  81 out of  81 | elapsed:   13.2s finished\n",
      "[Parallel(n_jobs=8)]: Done   2 tasks      | elapsed:    0.0s\n",
      "[Parallel(n_jobs=8)]: Done   9 tasks      | elapsed:    0.0s\n",
      "[Parallel(n_jobs=8)]: Done  16 tasks      | elapsed:    0.0s\n",
      "[Parallel(n_jobs=8)]: Done  25 tasks      | elapsed:    0.0s\n",
      "[Parallel(n_jobs=8)]: Done  34 tasks      | elapsed:    0.0s\n",
      "[Parallel(n_jobs=8)]: Done  45 tasks      | elapsed:    0.1s\n",
      "[Parallel(n_jobs=8)]: Done  56 tasks      | elapsed:    0.1s\n",
      "[Parallel(n_jobs=8)]: Done  75 out of  81 | elapsed:    0.1s remaining:    0.0s\n",
      "[Parallel(n_jobs=8)]: Done  81 out of  81 | elapsed:    0.1s finished\n",
      "[Parallel(n_jobs=8)]: Done   2 tasks      | elapsed:    0.0s\n",
      "[Parallel(n_jobs=8)]: Done   9 tasks      | elapsed:    0.0s\n",
      "[Parallel(n_jobs=8)]: Done  16 tasks      | elapsed:    0.1s\n",
      "[Parallel(n_jobs=8)]: Done  25 tasks      | elapsed:    0.1s\n",
      "[Parallel(n_jobs=8)]: Done  34 tasks      | elapsed:    0.1s\n",
      "[Parallel(n_jobs=8)]: Done  45 tasks      | elapsed:    0.1s\n",
      "[Parallel(n_jobs=8)]: Done  56 tasks      | elapsed:    0.1s\n",
      "[Parallel(n_jobs=8)]: Done  75 out of  81 | elapsed:    0.2s remaining:    0.0s\n",
      "[Parallel(n_jobs=8)]: Done  81 out of  81 | elapsed:    0.2s finished\n",
      "/home/justin/anaconda3/lib/python3.6/site-packages/sklearn/model_selection/_validation.py:458: DataConversionWarning: A column-vector y was passed when a 1d array was expected. Please change the shape of y to (n_samples,), for example using ravel().\n",
      "  estimator.fit(X_train, y_train, **fit_params)\n"
     ]
    },
    {
     "name": "stdout",
     "output_type": "stream",
     "text": [
      "building tree 3 of 81building tree 4 of 81building tree 1 of 81building tree 2 of 81building tree 5 of 81building tree 6 of 81building tree 7 of 81\n",
      "building tree 8 of 81\n",
      "\n",
      "\n",
      "\n",
      "\n",
      "\n",
      "\n",
      "building tree 9 of 81\n"
     ]
    },
    {
     "name": "stderr",
     "output_type": "stream",
     "text": [
      "[Parallel(n_jobs=-1)]: Done   2 tasks      | elapsed:    1.6s\n"
     ]
    },
    {
     "name": "stdout",
     "output_type": "stream",
     "text": [
      "building tree 10 of 81\n",
      "building tree 11 of 81\n",
      "building tree 12 of 81\n",
      "building tree 13 of 81\n",
      "building tree 14 of 81\n",
      "building tree 15 of 81\n",
      "building tree 16 of 81\n"
     ]
    },
    {
     "name": "stderr",
     "output_type": "stream",
     "text": [
      "[Parallel(n_jobs=-1)]: Done   9 tasks      | elapsed:    2.9s\n"
     ]
    },
    {
     "name": "stdout",
     "output_type": "stream",
     "text": [
      "building tree 17 of 81\n",
      "building tree 18 of 81\n",
      "building tree 19 of 81\n",
      "building tree 20 of 81\n",
      "building tree 21 of 81\n",
      "building tree 22 of 81\n",
      "building tree 23 of 81\n"
     ]
    },
    {
     "name": "stderr",
     "output_type": "stream",
     "text": [
      "[Parallel(n_jobs=-1)]: Done  16 tasks      | elapsed:    4.4s\n"
     ]
    },
    {
     "name": "stdout",
     "output_type": "stream",
     "text": [
      "building tree 24 of 81\n",
      "building tree 25 of 81\n",
      "building tree 26 of 81\n",
      "building tree 27 of 81\n",
      "building tree 28 of 81\n",
      "building tree 29 of 81\n",
      "building tree 30 of 81\n",
      "building tree 31 of 81\n",
      "building tree 32 of 81\n",
      "building tree 33 of 81\n",
      "building tree 34 of 81\n",
      "building tree 35 of 81\n"
     ]
    },
    {
     "name": "stderr",
     "output_type": "stream",
     "text": [
      "[Parallel(n_jobs=-1)]: Done  25 tasks      | elapsed:    6.8s\n"
     ]
    },
    {
     "name": "stdout",
     "output_type": "stream",
     "text": [
      "building tree 36 of 81\n",
      "building tree 37 of 81\n",
      "building tree 38 of 81\n",
      "building tree 39 of 81\n",
      "building tree 40 of 81\n",
      "building tree 41 of 81\n"
     ]
    },
    {
     "name": "stderr",
     "output_type": "stream",
     "text": [
      "[Parallel(n_jobs=-1)]: Done  34 tasks      | elapsed:    8.9s\n"
     ]
    },
    {
     "name": "stdout",
     "output_type": "stream",
     "text": [
      "building tree 42 of 81\n",
      "building tree 43 of 81\n",
      "building tree 44 of 81\n",
      "building tree 45 of 81\n",
      "building tree 46 of 81\n",
      "building tree 47 of 81\n",
      "building tree 48 of 81\n",
      "building tree 49 of 81\n",
      "building tree 50 of 81\n",
      "building tree 51 of 81\n",
      "building tree 52 of 81\n"
     ]
    },
    {
     "name": "stderr",
     "output_type": "stream",
     "text": [
      "[Parallel(n_jobs=-1)]: Done  45 tasks      | elapsed:   11.5s\n"
     ]
    },
    {
     "name": "stdout",
     "output_type": "stream",
     "text": [
      "building tree 53 of 81\n",
      "building tree 54 of 81\n",
      "building tree 55 of 81\n",
      "building tree 56 of 81\n",
      "building tree 57 of 81\n",
      "building tree 58 of 81\n",
      "building tree 59 of 81\n",
      "building tree 60 of 81\n",
      "building tree 61 of 81\n",
      "building tree 62 of 81\n",
      "building tree 63 of 81\n"
     ]
    },
    {
     "name": "stderr",
     "output_type": "stream",
     "text": [
      "[Parallel(n_jobs=-1)]: Done  56 tasks      | elapsed:   13.9s\n"
     ]
    },
    {
     "name": "stdout",
     "output_type": "stream",
     "text": [
      "building tree 64 of 81\n",
      "building tree 65 of 81\n",
      "building tree 66 of 81\n",
      "building tree 67 of 81\n",
      "building tree 68 of 81\n",
      "building tree 69 of 81\n",
      "building tree 70 of 81\n",
      "building tree 71 of 81\n",
      "building tree 72 of 81\n",
      "building tree 73 of 81\n",
      "building tree 74 of 81\n",
      "building tree 75 of 81\n",
      "building tree 76 of 81\n",
      "building tree 77 of 81\n",
      "building tree 78 of 81\n",
      "building tree 79 of 81\n",
      "building tree 80 of 81\n",
      "building tree 81 of 81\n"
     ]
    },
    {
     "name": "stderr",
     "output_type": "stream",
     "text": [
      "[Parallel(n_jobs=-1)]: Done  75 out of  81 | elapsed:   18.2s remaining:    1.5s\n",
      "[Parallel(n_jobs=-1)]: Done  81 out of  81 | elapsed:   19.2s finished\n",
      "[Parallel(n_jobs=8)]: Done   2 tasks      | elapsed:    0.0s\n",
      "[Parallel(n_jobs=8)]: Done   9 tasks      | elapsed:    0.0s\n",
      "[Parallel(n_jobs=8)]: Done  16 tasks      | elapsed:    0.0s\n",
      "[Parallel(n_jobs=8)]: Done  25 tasks      | elapsed:    0.1s\n",
      "[Parallel(n_jobs=8)]: Done  34 tasks      | elapsed:    0.1s\n",
      "[Parallel(n_jobs=8)]: Done  45 tasks      | elapsed:    0.1s\n",
      "[Parallel(n_jobs=8)]: Done  56 tasks      | elapsed:    0.1s\n",
      "[Parallel(n_jobs=8)]: Done  75 out of  81 | elapsed:    0.1s remaining:    0.0s\n",
      "[Parallel(n_jobs=8)]: Done  81 out of  81 | elapsed:    0.1s finished\n",
      "[Parallel(n_jobs=8)]: Done   2 tasks      | elapsed:    0.0s\n",
      "[Parallel(n_jobs=8)]: Done   9 tasks      | elapsed:    0.0s\n",
      "[Parallel(n_jobs=8)]: Done  16 tasks      | elapsed:    0.1s\n",
      "[Parallel(n_jobs=8)]: Done  25 tasks      | elapsed:    0.1s\n",
      "[Parallel(n_jobs=8)]: Done  34 tasks      | elapsed:    0.1s\n",
      "[Parallel(n_jobs=8)]: Done  45 tasks      | elapsed:    0.1s\n",
      "[Parallel(n_jobs=8)]: Done  56 tasks      | elapsed:    0.2s\n",
      "[Parallel(n_jobs=8)]: Done  75 out of  81 | elapsed:    0.2s remaining:    0.0s\n",
      "[Parallel(n_jobs=8)]: Done  81 out of  81 | elapsed:    0.2s finished\n",
      "/home/justin/anaconda3/lib/python3.6/site-packages/sklearn/model_selection/_validation.py:458: DataConversionWarning: A column-vector y was passed when a 1d array was expected. Please change the shape of y to (n_samples,), for example using ravel().\n",
      "  estimator.fit(X_train, y_train, **fit_params)\n"
     ]
    },
    {
     "name": "stdout",
     "output_type": "stream",
     "text": [
      "building tree 1 of 81building tree 3 of 81building tree 5 of 81building tree 4 of 81building tree 2 of 81building tree 7 of 81building tree 6 of 81building tree 8 of 81\n",
      "\n",
      "\n",
      "\n",
      "\n",
      "\n",
      "\n",
      "\n",
      "building tree 9 of 81\n",
      "building tree 10 of 81\n",
      "building tree 11 of 81\n",
      "building tree 12 of 81\n",
      "building tree 13 of 81\n"
     ]
    },
    {
     "name": "stderr",
     "output_type": "stream",
     "text": [
      "[Parallel(n_jobs=-1)]: Done   2 tasks      | elapsed:    2.0s\n"
     ]
    },
    {
     "name": "stdout",
     "output_type": "stream",
     "text": [
      "building tree 14 of 81\n",
      "building tree 15 of 81\n",
      "building tree 16 of 81\n"
     ]
    },
    {
     "name": "stderr",
     "output_type": "stream",
     "text": [
      "[Parallel(n_jobs=-1)]: Done   9 tasks      | elapsed:    3.7s\n"
     ]
    },
    {
     "name": "stdout",
     "output_type": "stream",
     "text": [
      "building tree 17 of 81\n",
      "building tree 18 of 81\n",
      "building tree 19 of 81\n",
      "building tree 20 of 81\n",
      "building tree 21 of 81\n",
      "building tree 22 of 81\n",
      "building tree 23 of 81\n"
     ]
    },
    {
     "name": "stderr",
     "output_type": "stream",
     "text": [
      "[Parallel(n_jobs=-1)]: Done  16 tasks      | elapsed:    5.1s\n"
     ]
    },
    {
     "name": "stdout",
     "output_type": "stream",
     "text": [
      "building tree 24 of 81\n",
      "building tree 25 of 81\n",
      "building tree 26 of 81\n",
      "building tree 27 of 81\n",
      "building tree 28 of 81\n",
      "building tree 29 of 81\n",
      "building tree 30 of 81\n",
      "building tree 31 of 81\n",
      "building tree 32 of 81\n",
      "building tree 33 of 81\n"
     ]
    },
    {
     "name": "stderr",
     "output_type": "stream",
     "text": [
      "[Parallel(n_jobs=-1)]: Done  25 tasks      | elapsed:    7.8s\n"
     ]
    },
    {
     "name": "stdout",
     "output_type": "stream",
     "text": [
      "building tree 34 of 81\n",
      "building tree 35 of 81\n",
      "building tree 36 of 81\n",
      "building tree 37 of 81\n",
      "building tree 38 of 81\n",
      "building tree 39 of 81\n",
      "building tree 40 of 81\n",
      "building tree 41 of 81\n"
     ]
    },
    {
     "name": "stderr",
     "output_type": "stream",
     "text": [
      "[Parallel(n_jobs=-1)]: Done  34 tasks      | elapsed:   10.9s\n"
     ]
    },
    {
     "name": "stdout",
     "output_type": "stream",
     "text": [
      "building tree 42 of 81\n",
      "building tree 43 of 81\n",
      "building tree 44 of 81\n",
      "building tree 45 of 81\n",
      "building tree 46 of 81\n",
      "building tree 47 of 81\n",
      "building tree 48 of 81\n",
      "building tree 49 of 81\n",
      "building tree 50 of 81\n",
      "building tree 51 of 81\n",
      "building tree 52 of 81\n",
      "building tree 53 of 81\n",
      "building tree 54 of 81\n"
     ]
    },
    {
     "name": "stderr",
     "output_type": "stream",
     "text": [
      "[Parallel(n_jobs=-1)]: Done  45 tasks      | elapsed:   13.4s\n"
     ]
    },
    {
     "name": "stdout",
     "output_type": "stream",
     "text": [
      "building tree 55 of 81\n",
      "building tree 56 of 81\n",
      "building tree 57 of 81\n",
      "building tree 58 of 81\n",
      "building tree 59 of 81\n",
      "building tree 60 of 81\n",
      "building tree 61 of 81\n",
      "building tree 62 of 81\n",
      "building tree 63 of 81\n",
      "building tree 64 of 81\n"
     ]
    },
    {
     "name": "stderr",
     "output_type": "stream",
     "text": [
      "[Parallel(n_jobs=-1)]: Done  56 tasks      | elapsed:   16.2s\n"
     ]
    },
    {
     "name": "stdout",
     "output_type": "stream",
     "text": [
      "building tree 65 of 81\n",
      "building tree 66 of 81\n",
      "building tree 67 of 81\n",
      "building tree 68 of 81\n",
      "building tree 69 of 81\n",
      "building tree 70 of 81\n",
      "building tree 71 of 81\n",
      "building tree 72 of 81\n",
      "building tree 73 of 81\n",
      "building tree 74 of 81\n",
      "building tree 75 of 81\n",
      "building tree 76 of 81\n",
      "building tree 77 of 81\n",
      "building tree 78 of 81\n",
      "building tree 79 of 81\n",
      "building tree 80 of 81\n",
      "building tree 81 of 81\n"
     ]
    },
    {
     "name": "stderr",
     "output_type": "stream",
     "text": [
      "[Parallel(n_jobs=-1)]: Done  75 out of  81 | elapsed:   21.4s remaining:    1.7s\n",
      "[Parallel(n_jobs=-1)]: Done  81 out of  81 | elapsed:   22.6s finished\n",
      "[Parallel(n_jobs=8)]: Done   2 tasks      | elapsed:    0.0s\n",
      "[Parallel(n_jobs=8)]: Done   9 tasks      | elapsed:    0.0s\n",
      "[Parallel(n_jobs=8)]: Done  16 tasks      | elapsed:    0.0s\n",
      "[Parallel(n_jobs=8)]: Done  25 tasks      | elapsed:    0.0s\n",
      "[Parallel(n_jobs=8)]: Done  34 tasks      | elapsed:    0.1s\n",
      "[Parallel(n_jobs=8)]: Done  45 tasks      | elapsed:    0.1s\n",
      "[Parallel(n_jobs=8)]: Done  56 tasks      | elapsed:    0.1s\n",
      "[Parallel(n_jobs=8)]: Done  75 out of  81 | elapsed:    0.1s remaining:    0.0s\n",
      "[Parallel(n_jobs=8)]: Done  81 out of  81 | elapsed:    0.1s finished\n",
      "[Parallel(n_jobs=8)]: Done   2 tasks      | elapsed:    0.0s\n",
      "[Parallel(n_jobs=8)]: Done   9 tasks      | elapsed:    0.0s\n",
      "[Parallel(n_jobs=8)]: Done  16 tasks      | elapsed:    0.1s\n",
      "[Parallel(n_jobs=8)]: Done  25 tasks      | elapsed:    0.1s\n",
      "[Parallel(n_jobs=8)]: Done  34 tasks      | elapsed:    0.1s\n",
      "[Parallel(n_jobs=8)]: Done  45 tasks      | elapsed:    0.2s\n",
      "[Parallel(n_jobs=8)]: Done  56 tasks      | elapsed:    0.2s\n",
      "[Parallel(n_jobs=8)]: Done  75 out of  81 | elapsed:    0.2s remaining:    0.0s\n",
      "[Parallel(n_jobs=8)]: Done  81 out of  81 | elapsed:    0.3s finished\n",
      "/home/justin/anaconda3/lib/python3.6/site-packages/sklearn/model_selection/_validation.py:458: DataConversionWarning: A column-vector y was passed when a 1d array was expected. Please change the shape of y to (n_samples,), for example using ravel().\n",
      "  estimator.fit(X_train, y_train, **fit_params)\n"
     ]
    },
    {
     "name": "stdout",
     "output_type": "stream",
     "text": [
      "building tree 2 of 109\n",
      "building tree 3 of 109building tree 4 of 109building tree 1 of 109building tree 6 of 109building tree 7 of 109building tree 5 of 109building tree 8 of 109\n",
      "\n",
      "\n",
      "\n",
      "\n",
      "\n",
      "\n",
      "building tree 9 of 109\n",
      "building tree 10 of 109\n",
      "building tree 11 of 109\n",
      "building tree 12 of 109\n"
     ]
    },
    {
     "name": "stderr",
     "output_type": "stream",
     "text": [
      "[Parallel(n_jobs=-1)]: Done   2 tasks      | elapsed:    0.6s\n"
     ]
    },
    {
     "name": "stdout",
     "output_type": "stream",
     "text": [
      "building tree 13 of 109\n",
      "building tree 14 of 109\n",
      "building tree 15 of 109\n",
      "building tree 16 of 109\n",
      "building tree 17 of 109\n",
      "building tree 18 of 109\n"
     ]
    },
    {
     "name": "stderr",
     "output_type": "stream",
     "text": [
      "[Parallel(n_jobs=-1)]: Done   9 tasks      | elapsed:    1.1s\n"
     ]
    },
    {
     "name": "stdout",
     "output_type": "stream",
     "text": [
      "building tree 19 of 109\n",
      "building tree 20 of 109\n",
      "building tree 21 of 109\n",
      "building tree 22 of 109\n",
      "building tree 23 of 109\n",
      "building tree 24 of 109\n"
     ]
    },
    {
     "name": "stderr",
     "output_type": "stream",
     "text": [
      "[Parallel(n_jobs=-1)]: Done  16 tasks      | elapsed:    1.7s\n"
     ]
    },
    {
     "name": "stdout",
     "output_type": "stream",
     "text": [
      "building tree 25 of 109\n",
      "building tree 26 of 109\n",
      "building tree 27 of 109\n",
      "building tree 28 of 109\n",
      "building tree 29 of 109\n",
      "building tree 30 of 109\n",
      "building tree 31 of 109\n",
      "building tree 32 of 109\n",
      "building tree 33 of 109\n"
     ]
    },
    {
     "name": "stderr",
     "output_type": "stream",
     "text": [
      "[Parallel(n_jobs=-1)]: Done  25 tasks      | elapsed:    2.6s\n"
     ]
    },
    {
     "name": "stdout",
     "output_type": "stream",
     "text": [
      "building tree 34 of 109\n",
      "building tree 35 of 109\n",
      "building tree 36 of 109\n",
      "building tree 37 of 109\n",
      "building tree 38 of 109\n",
      "building tree 39 of 109\n",
      "building tree 40 of 109\n",
      "building tree 41 of 109\n",
      "building tree 42 of 109\n"
     ]
    },
    {
     "name": "stderr",
     "output_type": "stream",
     "text": [
      "[Parallel(n_jobs=-1)]: Done  34 tasks      | elapsed:    3.4s\n"
     ]
    },
    {
     "name": "stdout",
     "output_type": "stream",
     "text": [
      "building tree 43 of 109\n",
      "building tree 44 of 109\n",
      "building tree 45 of 109\n",
      "building tree 46 of 109\n",
      "building tree 47 of 109\n",
      "building tree 48 of 109\n",
      "building tree 49 of 109\n",
      "building tree 50 of 109\n",
      "building tree 51 of 109\n",
      "building tree 52 of 109\n",
      "building tree 53 of 109\n",
      "building tree 54 of 109\n"
     ]
    },
    {
     "name": "stderr",
     "output_type": "stream",
     "text": [
      "[Parallel(n_jobs=-1)]: Done  45 tasks      | elapsed:    4.3s\n"
     ]
    },
    {
     "name": "stdout",
     "output_type": "stream",
     "text": [
      "building tree 55 of 109\n",
      "building tree 56 of 109\n",
      "building tree 57 of 109\n",
      "building tree 58 of 109\n",
      "building tree 59 of 109\n",
      "building tree 60 of 109\n",
      "building tree 61 of 109\n",
      "building tree 62 of 109\n",
      "building tree 63 of 109\n",
      "building tree 64 of 109\n",
      "building tree 65 of 109\n",
      "building tree 66 of 109\n"
     ]
    },
    {
     "name": "stderr",
     "output_type": "stream",
     "text": [
      "[Parallel(n_jobs=-1)]: Done  56 tasks      | elapsed:    5.5s\n"
     ]
    },
    {
     "name": "stdout",
     "output_type": "stream",
     "text": [
      "building tree 67 of 109\n",
      "building tree 68 of 109\n",
      "building tree 69 of 109\n",
      "building tree 70 of 109\n",
      "building tree 71 of 109\n",
      "building tree 72 of 109\n",
      "building tree 73 of 109\n",
      "building tree 74 of 109\n",
      "building tree 75 of 109\n",
      "building tree 76 of 109\n",
      "building tree 77 of 109\n",
      "building tree 78 of 109\n"
     ]
    },
    {
     "name": "stderr",
     "output_type": "stream",
     "text": [
      "[Parallel(n_jobs=-1)]: Done  69 tasks      | elapsed:    6.5s\n"
     ]
    },
    {
     "name": "stdout",
     "output_type": "stream",
     "text": [
      "building tree 79 of 109\n",
      "building tree 80 of 109\n",
      "building tree 81 of 109\n",
      "building tree 82 of 109\n",
      "building tree 83 of 109\n",
      "building tree 84 of 109\n",
      "building tree 85 of 109\n",
      "building tree 86 of 109\n",
      "building tree 87 of 109\n",
      "building tree 88 of 109\n",
      "building tree 89 of 109\n",
      "building tree 90 of 109\n",
      "building tree 91 of 109\n",
      "building tree 92 of 109\n"
     ]
    },
    {
     "name": "stderr",
     "output_type": "stream",
     "text": [
      "[Parallel(n_jobs=-1)]: Done  82 tasks      | elapsed:    7.7s\n"
     ]
    },
    {
     "name": "stdout",
     "output_type": "stream",
     "text": [
      "building tree 93 of 109\n",
      "building tree 94 of 109\n",
      "building tree 95 of 109\n",
      "building tree 96 of 109\n",
      "building tree 97 of 109\n",
      "building tree 98 of 109\n",
      "building tree 99 of 109\n",
      "building tree 100 of 109\n",
      "building tree 101 of 109\n",
      "building tree 102 of 109\n",
      "building tree 103 of 109\n",
      "building tree 104 of 109\n",
      "building tree 105 of 109\n",
      "building tree 106 of 109\n",
      "building tree 107 of 109\n",
      "building tree 108 of 109\n",
      "building tree 109 of 109\n"
     ]
    },
    {
     "name": "stderr",
     "output_type": "stream",
     "text": [
      "[Parallel(n_jobs=-1)]: Done 105 out of 109 | elapsed:    9.6s remaining:    0.4s\n",
      "[Parallel(n_jobs=-1)]: Done 109 out of 109 | elapsed:   10.0s finished\n",
      "[Parallel(n_jobs=8)]: Done   2 tasks      | elapsed:    0.0s\n",
      "[Parallel(n_jobs=8)]: Done   9 tasks      | elapsed:    0.0s\n",
      "[Parallel(n_jobs=8)]: Done  16 tasks      | elapsed:    0.0s\n",
      "[Parallel(n_jobs=8)]: Done  25 tasks      | elapsed:    0.0s\n",
      "[Parallel(n_jobs=8)]: Done  34 tasks      | elapsed:    0.0s\n",
      "[Parallel(n_jobs=8)]: Done  45 tasks      | elapsed:    0.0s\n",
      "[Parallel(n_jobs=8)]: Done  56 tasks      | elapsed:    0.0s\n",
      "[Parallel(n_jobs=8)]: Done  69 tasks      | elapsed:    0.0s\n",
      "[Parallel(n_jobs=8)]: Done  82 tasks      | elapsed:    0.0s\n",
      "[Parallel(n_jobs=8)]: Done 105 out of 109 | elapsed:    0.1s remaining:    0.0s\n",
      "[Parallel(n_jobs=8)]: Done 109 out of 109 | elapsed:    0.1s finished\n",
      "[Parallel(n_jobs=8)]: Done   2 tasks      | elapsed:    0.0s\n",
      "[Parallel(n_jobs=8)]: Done   9 tasks      | elapsed:    0.0s\n",
      "[Parallel(n_jobs=8)]: Done  16 tasks      | elapsed:    0.0s\n",
      "[Parallel(n_jobs=8)]: Done  25 tasks      | elapsed:    0.0s\n",
      "[Parallel(n_jobs=8)]: Done  34 tasks      | elapsed:    0.0s\n",
      "[Parallel(n_jobs=8)]: Done  45 tasks      | elapsed:    0.0s\n",
      "[Parallel(n_jobs=8)]: Done  56 tasks      | elapsed:    0.1s\n",
      "[Parallel(n_jobs=8)]: Done  69 tasks      | elapsed:    0.1s\n",
      "[Parallel(n_jobs=8)]: Done  82 tasks      | elapsed:    0.1s\n",
      "[Parallel(n_jobs=8)]: Done 105 out of 109 | elapsed:    0.1s remaining:    0.0s\n",
      "[Parallel(n_jobs=8)]: Done 109 out of 109 | elapsed:    0.1s finished\n",
      "/home/justin/anaconda3/lib/python3.6/site-packages/sklearn/model_selection/_validation.py:458: DataConversionWarning: A column-vector y was passed when a 1d array was expected. Please change the shape of y to (n_samples,), for example using ravel().\n",
      "  estimator.fit(X_train, y_train, **fit_params)\n"
     ]
    },
    {
     "name": "stdout",
     "output_type": "stream",
     "text": [
      "building tree 2 of 109building tree 5 of 109building tree 4 of 109building tree 6 of 109building tree 3 of 109building tree 8 of 109building tree 7 of 109\n",
      "\n",
      "\n",
      "\n",
      "\n",
      "building tree 1 of 109\n",
      "\n",
      "\n",
      "building tree 9 of 109\n",
      "building tree 10 of 109\n",
      "building tree 11 of 109\n",
      "building tree 12 of 109\n",
      "building tree 13 of 109\n"
     ]
    },
    {
     "name": "stderr",
     "output_type": "stream",
     "text": [
      "[Parallel(n_jobs=-1)]: Done   2 tasks      | elapsed:    0.9s\n"
     ]
    },
    {
     "name": "stdout",
     "output_type": "stream",
     "text": [
      "building tree 14 of 109\n",
      "building tree 15 of 109\n",
      "building tree 16 of 109\n"
     ]
    },
    {
     "name": "stderr",
     "output_type": "stream",
     "text": [
      "[Parallel(n_jobs=-1)]: Done   9 tasks      | elapsed:    1.7s\n"
     ]
    },
    {
     "name": "stdout",
     "output_type": "stream",
     "text": [
      "building tree 17 of 109\n",
      "building tree 18 of 109\n",
      "building tree 19 of 109\n",
      "building tree 20 of 109\n",
      "building tree 21 of 109\n",
      "building tree 22 of 109\n",
      "building tree 23 of 109\n",
      "building tree 24 of 109\n",
      "building tree 25 of 109\n"
     ]
    },
    {
     "name": "stderr",
     "output_type": "stream",
     "text": [
      "[Parallel(n_jobs=-1)]: Done  16 tasks      | elapsed:    2.6s\n"
     ]
    },
    {
     "name": "stdout",
     "output_type": "stream",
     "text": [
      "building tree 26 of 109\n",
      "building tree 27 of 109\n",
      "building tree 28 of 109\n",
      "building tree 29 of 109\n",
      "building tree 30 of 109\n",
      "building tree 31 of 109\n",
      "building tree 32 of 109\n",
      "building tree 33 of 109\n"
     ]
    },
    {
     "name": "stderr",
     "output_type": "stream",
     "text": [
      "[Parallel(n_jobs=-1)]: Done  25 tasks      | elapsed:    3.7s\n"
     ]
    },
    {
     "name": "stdout",
     "output_type": "stream",
     "text": [
      "building tree 34 of 109\n",
      "building tree 35 of 109\n",
      "building tree 36 of 109\n",
      "building tree 37 of 109\n",
      "building tree 38 of 109\n",
      "building tree 39 of 109\n",
      "building tree 40 of 109\n",
      "building tree 41 of 109\n"
     ]
    },
    {
     "name": "stderr",
     "output_type": "stream",
     "text": [
      "[Parallel(n_jobs=-1)]: Done  34 tasks      | elapsed:    5.0s\n"
     ]
    },
    {
     "name": "stdout",
     "output_type": "stream",
     "text": [
      "building tree 42 of 109\n",
      "building tree 43 of 109\n",
      "building tree 44 of 109\n",
      "building tree 45 of 109\n",
      "building tree 46 of 109\n",
      "building tree 47 of 109\n",
      "building tree 48 of 109\n",
      "building tree 49 of 109\n",
      "building tree 50 of 109\n",
      "building tree 51 of 109\n",
      "building tree 52 of 109\n"
     ]
    },
    {
     "name": "stderr",
     "output_type": "stream",
     "text": [
      "[Parallel(n_jobs=-1)]: Done  45 tasks      | elapsed:    6.6s\n"
     ]
    },
    {
     "name": "stdout",
     "output_type": "stream",
     "text": [
      "building tree 53 of 109\n",
      "building tree 54 of 109\n",
      "building tree 55 of 109\n",
      "building tree 56 of 109\n",
      "building tree 57 of 109\n",
      "building tree 58 of 109\n",
      "building tree 59 of 109\n",
      "building tree 60 of 109\n",
      "building tree 61 of 109\n",
      "building tree 62 of 109\n",
      "building tree 63 of 109\n"
     ]
    },
    {
     "name": "stderr",
     "output_type": "stream",
     "text": [
      "[Parallel(n_jobs=-1)]: Done  56 tasks      | elapsed:    7.8s\n"
     ]
    },
    {
     "name": "stdout",
     "output_type": "stream",
     "text": [
      "building tree 64 of 109\n",
      "building tree 65 of 109\n",
      "building tree 66 of 109\n",
      "building tree 67 of 109\n",
      "building tree 68 of 109\n",
      "building tree 69 of 109\n",
      "building tree 70 of 109\n",
      "building tree 71 of 109\n",
      "building tree 72 of 109\n",
      "building tree 73 of 109\n",
      "building tree 74 of 109\n",
      "building tree 75 of 109\n",
      "building tree 76 of 109\n"
     ]
    },
    {
     "name": "stderr",
     "output_type": "stream",
     "text": [
      "[Parallel(n_jobs=-1)]: Done  69 tasks      | elapsed:    9.7s\n"
     ]
    },
    {
     "name": "stdout",
     "output_type": "stream",
     "text": [
      "building tree 77 of 109\n",
      "building tree 78 of 109\n",
      "building tree 79 of 109\n",
      "building tree 80 of 109\n",
      "building tree 81 of 109\n",
      "building tree 82 of 109\n",
      "building tree 83 of 109\n",
      "building tree 84 of 109\n",
      "building tree 85 of 109\n",
      "building tree 87 of 109\n",
      "building tree 86 of 109\n",
      "building tree 88 of 109\n",
      "building tree 89 of 109\n",
      "building tree 90 of 109\n"
     ]
    },
    {
     "name": "stderr",
     "output_type": "stream",
     "text": [
      "[Parallel(n_jobs=-1)]: Done  82 tasks      | elapsed:   11.1s\n"
     ]
    },
    {
     "name": "stdout",
     "output_type": "stream",
     "text": [
      "building tree 91 of 109\n",
      "building tree 92 of 109\n",
      "building tree 93 of 109\n",
      "building tree 94 of 109\n",
      "building tree 95 of 109\n",
      "building tree 96 of 109\n",
      "building tree 97 of 109\n",
      "building tree 98 of 109\n",
      "building tree 99 of 109\n",
      "building tree 100 of 109\n",
      "building tree 101 of 109\n",
      "building tree 102 of 109\n",
      "building tree 103 of 109\n",
      "building tree 104 of 109\n",
      "building tree 105 of 109\n",
      "building tree 106 of 109\n",
      "building tree 107 of 109\n",
      "building tree 108 of 109\n",
      "building tree 109 of 109\n"
     ]
    },
    {
     "name": "stderr",
     "output_type": "stream",
     "text": [
      "[Parallel(n_jobs=-1)]: Done 105 out of 109 | elapsed:   14.3s remaining:    0.5s\n",
      "[Parallel(n_jobs=-1)]: Done 109 out of 109 | elapsed:   14.5s finished\n",
      "[Parallel(n_jobs=8)]: Done   2 tasks      | elapsed:    0.0s\n",
      "[Parallel(n_jobs=8)]: Done   9 tasks      | elapsed:    0.0s\n",
      "[Parallel(n_jobs=8)]: Done  16 tasks      | elapsed:    0.0s\n",
      "[Parallel(n_jobs=8)]: Done  25 tasks      | elapsed:    0.0s\n",
      "[Parallel(n_jobs=8)]: Done  34 tasks      | elapsed:    0.0s\n",
      "[Parallel(n_jobs=8)]: Done  45 tasks      | elapsed:    0.0s\n",
      "[Parallel(n_jobs=8)]: Done  56 tasks      | elapsed:    0.0s\n",
      "[Parallel(n_jobs=8)]: Done  69 tasks      | elapsed:    0.0s\n",
      "[Parallel(n_jobs=8)]: Done  82 tasks      | elapsed:    0.1s\n",
      "[Parallel(n_jobs=8)]: Done 105 out of 109 | elapsed:    0.1s remaining:    0.0s\n",
      "[Parallel(n_jobs=8)]: Done 109 out of 109 | elapsed:    0.1s finished\n",
      "[Parallel(n_jobs=8)]: Done   2 tasks      | elapsed:    0.0s\n",
      "[Parallel(n_jobs=8)]: Done   9 tasks      | elapsed:    0.0s\n",
      "[Parallel(n_jobs=8)]: Done  16 tasks      | elapsed:    0.0s\n",
      "[Parallel(n_jobs=8)]: Done  25 tasks      | elapsed:    0.0s\n",
      "[Parallel(n_jobs=8)]: Done  34 tasks      | elapsed:    0.0s\n",
      "[Parallel(n_jobs=8)]: Done  45 tasks      | elapsed:    0.1s\n",
      "[Parallel(n_jobs=8)]: Done  56 tasks      | elapsed:    0.1s\n",
      "[Parallel(n_jobs=8)]: Done  69 tasks      | elapsed:    0.1s\n",
      "[Parallel(n_jobs=8)]: Done  82 tasks      | elapsed:    0.1s\n",
      "[Parallel(n_jobs=8)]: Done 105 out of 109 | elapsed:    0.1s remaining:    0.0s\n",
      "[Parallel(n_jobs=8)]: Done 109 out of 109 | elapsed:    0.1s finished\n",
      "/home/justin/anaconda3/lib/python3.6/site-packages/sklearn/model_selection/_validation.py:458: DataConversionWarning: A column-vector y was passed when a 1d array was expected. Please change the shape of y to (n_samples,), for example using ravel().\n",
      "  estimator.fit(X_train, y_train, **fit_params)\n"
     ]
    },
    {
     "name": "stdout",
     "output_type": "stream",
     "text": [
      "building tree 2 of 109building tree 3 of 109building tree 4 of 109\n",
      "building tree 5 of 109building tree 1 of 109building tree 6 of 109building tree 7 of 109\n",
      "\n",
      "\n",
      "\n",
      "\n",
      "\n",
      "building tree 8 of 109\n",
      "building tree 9 of 109\n",
      "building tree 10 of 109\n"
     ]
    },
    {
     "name": "stderr",
     "output_type": "stream",
     "text": [
      "[Parallel(n_jobs=-1)]: Done   2 tasks      | elapsed:    0.9s\n"
     ]
    },
    {
     "name": "stdout",
     "output_type": "stream",
     "text": [
      "building tree 11 of 109\n",
      "building tree 12 of 109\n",
      "building tree 13 of 109\n",
      "building tree 14 of 109\n",
      "building tree 15 of 109\n",
      "building tree 16 of 109\n"
     ]
    },
    {
     "name": "stderr",
     "output_type": "stream",
     "text": [
      "[Parallel(n_jobs=-1)]: Done   9 tasks      | elapsed:    1.8s\n"
     ]
    },
    {
     "name": "stdout",
     "output_type": "stream",
     "text": [
      "building tree 17 of 109\n",
      "building tree 18 of 109\n",
      "building tree 19 of 109\n",
      "building tree 20 of 109\n",
      "building tree 22 of 109\n",
      "building tree 21 of 109\n",
      "building tree 23 of 109\n",
      "building tree 24 of 109\n",
      "building tree 25 of 109\n"
     ]
    },
    {
     "name": "stderr",
     "output_type": "stream",
     "text": [
      "[Parallel(n_jobs=-1)]: Done  16 tasks      | elapsed:    2.6s\n"
     ]
    },
    {
     "name": "stdout",
     "output_type": "stream",
     "text": [
      "building tree 26 of 109\n",
      "building tree 27 of 109\n",
      "building tree 28 of 109\n",
      "building tree 29 of 109\n",
      "building tree 30 of 109\n",
      "building tree 31 of 109\n",
      "building tree 32 of 109\n",
      "building tree 33 of 109\n"
     ]
    },
    {
     "name": "stderr",
     "output_type": "stream",
     "text": [
      "[Parallel(n_jobs=-1)]: Done  25 tasks      | elapsed:    4.0s\n"
     ]
    },
    {
     "name": "stdout",
     "output_type": "stream",
     "text": [
      "building tree 34 of 109\n",
      "building tree 35 of 109\n",
      "building tree 36 of 109\n",
      "building tree 37 of 109\n",
      "building tree 38 of 109\n",
      "building tree 39 of 109\n",
      "building tree 40 of 109\n",
      "building tree 41 of 109\n"
     ]
    },
    {
     "name": "stderr",
     "output_type": "stream",
     "text": [
      "[Parallel(n_jobs=-1)]: Done  34 tasks      | elapsed:    5.4s\n"
     ]
    },
    {
     "name": "stdout",
     "output_type": "stream",
     "text": [
      "building tree 42 of 109\n",
      "building tree 43 of 109\n",
      "building tree 44 of 109\n",
      "building tree 45 of 109\n",
      "building tree 46 of 109\n",
      "building tree 47 of 109\n",
      "building tree 48 of 109\n",
      "building tree 49 of 109\n",
      "building tree 50 of 109\n",
      "building tree 51 of 109\n",
      "building tree 52 of 109\n",
      "building tree 53 of 109\n",
      "building tree 54 of 109\n",
      "building tree 55 of 109\n"
     ]
    },
    {
     "name": "stderr",
     "output_type": "stream",
     "text": [
      "[Parallel(n_jobs=-1)]: Done  45 tasks      | elapsed:    7.0s\n"
     ]
    },
    {
     "name": "stdout",
     "output_type": "stream",
     "text": [
      "building tree 56 of 109\n",
      "building tree 57 of 109\n",
      "building tree 58 of 109\n",
      "building tree 59 of 109\n",
      "building tree 60 of 109\n",
      "building tree 61 of 109\n",
      "building tree 62 of 109\n",
      "building tree 63 of 109\n",
      "building tree 64 of 109\n"
     ]
    },
    {
     "name": "stderr",
     "output_type": "stream",
     "text": [
      "[Parallel(n_jobs=-1)]: Done  56 tasks      | elapsed:    8.3s\n"
     ]
    },
    {
     "name": "stdout",
     "output_type": "stream",
     "text": [
      "building tree 65 of 109\n",
      "building tree 66 of 109\n",
      "building tree 67 of 109\n",
      "building tree 68 of 109\n",
      "building tree 69 of 109\n",
      "building tree 70 of 109\n",
      "building tree 71 of 109\n",
      "building tree 72 of 109\n",
      "building tree 73 of 109\n",
      "building tree 74 of 109\n",
      "building tree 75 of 109\n",
      "building tree 76 of 109\n"
     ]
    },
    {
     "name": "stderr",
     "output_type": "stream",
     "text": [
      "[Parallel(n_jobs=-1)]: Done  69 tasks      | elapsed:   10.4s\n"
     ]
    },
    {
     "name": "stdout",
     "output_type": "stream",
     "text": [
      "building tree 77 of 109\n",
      "building tree 78 of 109\n",
      "building tree 79 of 109\n",
      "building tree 80 of 109\n",
      "building tree 81 of 109\n",
      "building tree 82 of 109\n",
      "building tree 83 of 109\n",
      "building tree 84 of 109\n",
      "building tree 85 of 109\n",
      "building tree 86 of 109\n",
      "building tree 87 of 109\n",
      "building tree 88 of 109\n",
      "building tree 89 of 109\n",
      "building tree 90 of 109\n"
     ]
    },
    {
     "name": "stderr",
     "output_type": "stream",
     "text": [
      "[Parallel(n_jobs=-1)]: Done  82 tasks      | elapsed:   12.2s\n"
     ]
    },
    {
     "name": "stdout",
     "output_type": "stream",
     "text": [
      "building tree 91 of 109\n",
      "building tree 92 of 109\n",
      "building tree 93 of 109\n",
      "building tree 94 of 109\n",
      "building tree 95 of 109\n",
      "building tree 96 of 109\n",
      "building tree 97 of 109\n",
      "building tree 98 of 109\n",
      "building tree 99 of 109\n",
      "building tree 100 of 109\n",
      "building tree 101 of 109\n",
      "building tree 102 of 109\n",
      "building tree 103 of 109\n",
      "building tree 104 of 109\n",
      "building tree 105 of 109\n",
      "building tree 106 of 109\n",
      "building tree 107 of 109\n",
      "building tree 108 of 109\n",
      "building tree 109 of 109\n"
     ]
    },
    {
     "name": "stderr",
     "output_type": "stream",
     "text": [
      "[Parallel(n_jobs=-1)]: Done 105 out of 109 | elapsed:   15.5s remaining:    0.6s\n",
      "[Parallel(n_jobs=-1)]: Done 109 out of 109 | elapsed:   15.7s finished\n",
      "[Parallel(n_jobs=8)]: Done   2 tasks      | elapsed:    0.0s\n",
      "[Parallel(n_jobs=8)]: Done   9 tasks      | elapsed:    0.0s\n",
      "[Parallel(n_jobs=8)]: Done  16 tasks      | elapsed:    0.0s\n",
      "[Parallel(n_jobs=8)]: Done  25 tasks      | elapsed:    0.0s\n",
      "[Parallel(n_jobs=8)]: Done  34 tasks      | elapsed:    0.0s\n",
      "[Parallel(n_jobs=8)]: Done  45 tasks      | elapsed:    0.0s\n",
      "[Parallel(n_jobs=8)]: Done  56 tasks      | elapsed:    0.0s\n",
      "[Parallel(n_jobs=8)]: Done  69 tasks      | elapsed:    0.0s\n",
      "[Parallel(n_jobs=8)]: Done  82 tasks      | elapsed:    0.1s\n",
      "[Parallel(n_jobs=8)]: Done 105 out of 109 | elapsed:    0.1s remaining:    0.0s\n",
      "[Parallel(n_jobs=8)]: Done 109 out of 109 | elapsed:    0.1s finished\n",
      "[Parallel(n_jobs=8)]: Done   2 tasks      | elapsed:    0.0s\n",
      "[Parallel(n_jobs=8)]: Done   9 tasks      | elapsed:    0.0s\n",
      "[Parallel(n_jobs=8)]: Done  16 tasks      | elapsed:    0.0s\n",
      "[Parallel(n_jobs=8)]: Done  25 tasks      | elapsed:    0.0s\n",
      "[Parallel(n_jobs=8)]: Done  34 tasks      | elapsed:    0.0s\n",
      "[Parallel(n_jobs=8)]: Done  45 tasks      | elapsed:    0.0s\n",
      "[Parallel(n_jobs=8)]: Done  56 tasks      | elapsed:    0.1s\n",
      "[Parallel(n_jobs=8)]: Done  69 tasks      | elapsed:    0.1s\n",
      "[Parallel(n_jobs=8)]: Done  82 tasks      | elapsed:    0.1s\n",
      "[Parallel(n_jobs=8)]: Done 105 out of 109 | elapsed:    0.1s remaining:    0.0s\n",
      "[Parallel(n_jobs=8)]: Done 109 out of 109 | elapsed:    0.1s finished\n",
      "/home/justin/anaconda3/lib/python3.6/site-packages/sklearn/model_selection/_validation.py:458: DataConversionWarning: A column-vector y was passed when a 1d array was expected. Please change the shape of y to (n_samples,), for example using ravel().\n",
      "  estimator.fit(X_train, y_train, **fit_params)\n",
      "[Parallel(n_jobs=-1)]: Done   2 tasks      | elapsed:    0.0s\n",
      "[Parallel(n_jobs=-1)]: Done   9 tasks      | elapsed:    0.0s\n",
      "[Parallel(n_jobs=-1)]: Done  16 tasks      | elapsed:    0.0s\n",
      "[Parallel(n_jobs=-1)]: Done  25 tasks      | elapsed:    0.1s\n",
      "[Parallel(n_jobs=-1)]: Done  34 tasks      | elapsed:    0.1s\n",
      "[Parallel(n_jobs=-1)]: Done  45 tasks      | elapsed:    0.1s\n",
      "[Parallel(n_jobs=-1)]: Done  56 tasks      | elapsed:    0.1s\n"
     ]
    },
    {
     "name": "stdout",
     "output_type": "stream",
     "text": [
      "building tree 3 of 77\n",
      "building tree 4 of 77building tree 5 of 77building tree 6 of 77building tree 2 of 77building tree 7 of 77building tree 1 of 77building tree 8 of 77\n",
      "\n",
      "\n",
      "\n",
      "\n",
      "\n",
      "\n",
      "building tree 9 of 77\n",
      "building tree 11 of 77building tree 10 of 77\n",
      "building tree 12 of 77building tree 13 of 77\n",
      "\n",
      "\n",
      "building tree 14 of 77\n",
      "building tree 15 of 77\n",
      "building tree 16 of 77building tree 17 of 77\n",
      "building tree 18 of 77\n",
      "\n",
      "building tree 19 of 77building tree 20 of 77\n",
      "building tree 21 of 77building tree 22 of 77\n",
      "\n",
      "\n",
      "building tree 23 of 77building tree 24 of 77\n",
      "building tree 25 of 77\n",
      "building tree 26 of 77\n",
      "\n",
      "building tree 27 of 77\n",
      "building tree 28 of 77building tree 29 of 77\n",
      "building tree 30 of 77\n",
      "building tree 31 of 77\n",
      "\n",
      "building tree 32 of 77\n",
      "building tree 33 of 77\n",
      "building tree 34 of 77\n",
      "building tree 35 of 77building tree 37 of 77building tree 36 of 77\n",
      "\n",
      "\n",
      "building tree 38 of 77\n",
      "building tree 40 of 77\n",
      "building tree 39 of 77\n",
      "building tree 42 of 77\n",
      "building tree 43 of 77\n",
      "building tree 44 of 77building tree 45 of 77\n",
      "\n",
      "building tree 41 of 77building tree 48 of 77\n",
      "\n",
      "building tree 46 of 77building tree 47 of 77\n",
      "building tree 50 of 77\n",
      "building tree 49 of 77building tree 51 of 77\n",
      "building tree 52 of 77\n",
      "\n",
      "\n",
      "building tree 54 of 77\n",
      "building tree 53 of 77building tree 55 of 77\n",
      "building tree 56 of 77\n",
      "\n",
      "building tree 57 of 77\n",
      "building tree 59 of 77building tree 60 of 77\n",
      "building tree 61 of 77\n",
      "building tree 58 of 77\n",
      "building tree 62 of 77\n",
      "\n",
      "building tree 63 of 77building tree 64 of 77\n",
      "building tree 65 of 77\n",
      "\n",
      "building tree 66 of 77\n",
      "building tree 67 of 77building tree 68 of 77\n",
      "\n",
      "building tree 69 of 77\n",
      "building tree 70 of 77\n",
      "building tree 71 of 77\n",
      "building tree 72 of 77\n",
      "building tree 74 of 77\n",
      "building tree 75 of 77building tree 73 of 77\n",
      "building tree 76 of 77\n",
      "building tree 77 of 77\n",
      "\n"
     ]
    },
    {
     "name": "stderr",
     "output_type": "stream",
     "text": [
      "[Parallel(n_jobs=-1)]: Done  70 out of  77 | elapsed:    0.2s remaining:    0.0s\n",
      "[Parallel(n_jobs=-1)]: Done  77 out of  77 | elapsed:    0.2s finished\n",
      "[Parallel(n_jobs=8)]: Done   2 tasks      | elapsed:    0.0s\n",
      "[Parallel(n_jobs=8)]: Done   9 tasks      | elapsed:    0.0s\n",
      "[Parallel(n_jobs=8)]: Done  16 tasks      | elapsed:    0.0s\n",
      "[Parallel(n_jobs=8)]: Done  25 tasks      | elapsed:    0.0s\n",
      "[Parallel(n_jobs=8)]: Done  34 tasks      | elapsed:    0.0s\n",
      "[Parallel(n_jobs=8)]: Done  45 tasks      | elapsed:    0.0s\n",
      "[Parallel(n_jobs=8)]: Done  56 tasks      | elapsed:    0.0s\n",
      "[Parallel(n_jobs=8)]: Done  70 out of  77 | elapsed:    0.0s remaining:    0.0s\n",
      "[Parallel(n_jobs=8)]: Done  77 out of  77 | elapsed:    0.0s finished\n",
      "[Parallel(n_jobs=8)]: Done   2 tasks      | elapsed:    0.0s\n",
      "[Parallel(n_jobs=8)]: Done   9 tasks      | elapsed:    0.0s\n",
      "[Parallel(n_jobs=8)]: Done  16 tasks      | elapsed:    0.0s\n",
      "[Parallel(n_jobs=8)]: Done  25 tasks      | elapsed:    0.0s\n",
      "[Parallel(n_jobs=8)]: Done  34 tasks      | elapsed:    0.0s\n",
      "[Parallel(n_jobs=8)]: Done  45 tasks      | elapsed:    0.0s\n",
      "[Parallel(n_jobs=8)]: Done  56 tasks      | elapsed:    0.0s\n",
      "[Parallel(n_jobs=8)]: Done  70 out of  77 | elapsed:    0.0s remaining:    0.0s\n",
      "[Parallel(n_jobs=8)]: Done  77 out of  77 | elapsed:    0.0s finished\n",
      "/home/justin/anaconda3/lib/python3.6/site-packages/sklearn/model_selection/_validation.py:458: DataConversionWarning: A column-vector y was passed when a 1d array was expected. Please change the shape of y to (n_samples,), for example using ravel().\n",
      "  estimator.fit(X_train, y_train, **fit_params)\n",
      "[Parallel(n_jobs=-1)]: Done   2 tasks      | elapsed:    0.1s\n",
      "[Parallel(n_jobs=-1)]: Done   9 tasks      | elapsed:    0.1s\n",
      "[Parallel(n_jobs=-1)]: Done  16 tasks      | elapsed:    0.1s\n"
     ]
    },
    {
     "name": "stdout",
     "output_type": "stream",
     "text": [
      "building tree 1 of 77\n",
      "building tree 2 of 77building tree 3 of 77building tree 4 of 77building tree 5 of 77building tree 6 of 77building tree 7 of 77building tree 8 of 77\n",
      "\n",
      "\n",
      "\n",
      "\n",
      "\n",
      "\n",
      "building tree 9 of 77\n",
      "building tree 10 of 77\n",
      "building tree 11 of 77\n",
      "building tree 12 of 77\n",
      "building tree 13 of 77\n",
      "building tree 14 of 77\n",
      "building tree 15 of 77\n",
      "building tree 16 of 77\n",
      "building tree 17 of 77building tree 18 of 77\n",
      "\n",
      "building tree 19 of 77building tree 20 of 77\n",
      "building tree 21 of 77\n",
      "\n",
      "building tree 22 of 77\n",
      "building tree 23 of 77building tree 25 of 77building tree 24 of 77building tree 26 of 77\n",
      "\n",
      "\n",
      "building tree 27 of 77\n",
      "building tree 28 of 77\n",
      "\n",
      "building tree 30 of 77building tree 29 of 77\n",
      "\n",
      "building tree 31 of 77\n",
      "building tree 32 of 77\n",
      "building tree 33 of 77\n",
      "building tree 35 of 77\n",
      "building tree 36 of 77\n",
      "building tree 37 of 77building tree 34 of 77\n",
      "\n",
      "building tree 38 of 77building tree 39 of 77\n",
      "building tree 42 of 77\n",
      "building tree 40 of 77\n",
      "\n",
      "building tree 43 of 77building tree 41 of 77\n",
      "\n",
      "building tree 44 of 77building tree 45 of 77\n",
      "building tree 46 of 77\n",
      "\n",
      "building tree 49 of 77\n",
      "building tree 47 of 77building tree 50 of 77\n",
      "building tree 48 of 77\n",
      "\n",
      "building tree 52 of 77building tree 51 of 77\n",
      "building tree 53 of 77\n",
      "building tree 54 of 77\n",
      "building tree 55 of 77\n",
      "building tree 56 of 77\n",
      "\n",
      "building tree 57 of 77building tree 59 of 77\n",
      "\n",
      "building tree 58 of 77\n",
      "building tree 60 of 77\n",
      "building tree 61 of 77\n",
      "building tree 62 of 77\n",
      "building tree 63 of 77building tree 64 of 77\n",
      "\n",
      "building tree 65 of 77\n",
      "building tree 66 of 77\n",
      "building tree 67 of 77\n",
      "building tree 68 of 77\n",
      "building tree 70 of 77\n",
      "building tree 72 of 77\n",
      "building tree 71 of 77"
     ]
    },
    {
     "name": "stderr",
     "output_type": "stream",
     "text": [
      "[Parallel(n_jobs=-1)]: Done  25 tasks      | elapsed:    0.2s\n",
      "[Parallel(n_jobs=-1)]: Done  34 tasks      | elapsed:    0.2s\n",
      "[Parallel(n_jobs=-1)]: Done  45 tasks      | elapsed:    0.2s\n",
      "[Parallel(n_jobs=-1)]: Done  56 tasks      | elapsed:    0.3s\n",
      "[Parallel(n_jobs=-1)]: Done  70 out of  77 | elapsed:    0.3s remaining:    0.0s\n",
      "[Parallel(n_jobs=-1)]: Done  77 out of  77 | elapsed:    0.3s finished\n"
     ]
    },
    {
     "name": "stdout",
     "output_type": "stream",
     "text": [
      "building tree 69 of 77\n",
      "\n",
      "building tree 73 of 77\n",
      "building tree 74 of 77\n",
      "building tree 75 of 77building tree 76 of 77\n",
      "\n",
      "building tree 77 of 77\n"
     ]
    },
    {
     "name": "stderr",
     "output_type": "stream",
     "text": [
      "[Parallel(n_jobs=8)]: Done   2 tasks      | elapsed:    0.0s\n",
      "[Parallel(n_jobs=8)]: Done   9 tasks      | elapsed:    0.0s\n",
      "[Parallel(n_jobs=8)]: Done  16 tasks      | elapsed:    0.0s\n",
      "[Parallel(n_jobs=8)]: Done  25 tasks      | elapsed:    0.0s\n",
      "[Parallel(n_jobs=8)]: Done  34 tasks      | elapsed:    0.0s\n",
      "[Parallel(n_jobs=8)]: Done  45 tasks      | elapsed:    0.0s\n",
      "[Parallel(n_jobs=8)]: Done  56 tasks      | elapsed:    0.0s\n",
      "[Parallel(n_jobs=8)]: Done  70 out of  77 | elapsed:    0.0s remaining:    0.0s\n",
      "[Parallel(n_jobs=8)]: Done  77 out of  77 | elapsed:    0.0s finished\n",
      "[Parallel(n_jobs=8)]: Done   2 tasks      | elapsed:    0.0s\n",
      "[Parallel(n_jobs=8)]: Done   9 tasks      | elapsed:    0.0s\n",
      "[Parallel(n_jobs=8)]: Done  16 tasks      | elapsed:    0.0s\n",
      "[Parallel(n_jobs=8)]: Done  25 tasks      | elapsed:    0.0s\n",
      "[Parallel(n_jobs=8)]: Done  34 tasks      | elapsed:    0.0s\n",
      "[Parallel(n_jobs=8)]: Done  45 tasks      | elapsed:    0.0s\n",
      "[Parallel(n_jobs=8)]: Done  56 tasks      | elapsed:    0.0s\n",
      "[Parallel(n_jobs=8)]: Done  70 out of  77 | elapsed:    0.1s remaining:    0.0s\n",
      "[Parallel(n_jobs=8)]: Done  77 out of  77 | elapsed:    0.1s finished\n",
      "/home/justin/anaconda3/lib/python3.6/site-packages/sklearn/model_selection/_validation.py:458: DataConversionWarning: A column-vector y was passed when a 1d array was expected. Please change the shape of y to (n_samples,), for example using ravel().\n",
      "  estimator.fit(X_train, y_train, **fit_params)\n",
      "[Parallel(n_jobs=-1)]: Done   2 tasks      | elapsed:    0.0s\n",
      "[Parallel(n_jobs=-1)]: Done   9 tasks      | elapsed:    0.0s\n",
      "[Parallel(n_jobs=-1)]: Done  16 tasks      | elapsed:    0.1s\n",
      "[Parallel(n_jobs=-1)]: Done  25 tasks      | elapsed:    0.1s\n",
      "[Parallel(n_jobs=-1)]: Done  34 tasks      | elapsed:    0.2s\n"
     ]
    },
    {
     "name": "stdout",
     "output_type": "stream",
     "text": [
      "building tree 1 of 77\n",
      "building tree 2 of 77building tree 4 of 77building tree 3 of 77building tree 5 of 77building tree 6 of 77building tree 7 of 77building tree 8 of 77\n",
      "\n",
      "\n",
      "\n",
      "\n",
      "\n",
      "building tree 10 of 77\n",
      "\n",
      "building tree 9 of 77\n",
      "building tree 11 of 77\n",
      "building tree 12 of 77\n",
      "building tree 13 of 77\n",
      "building tree 14 of 77\n",
      "building tree 15 of 77\n",
      "building tree 16 of 77\n",
      "building tree 18 of 77building tree 19 of 77\n",
      "\n",
      "building tree 20 of 77\n",
      "building tree 21 of 77\n",
      "building tree 17 of 77\n",
      "building tree 22 of 77building tree 23 of 77\n",
      "\n",
      "building tree 26 of 77\n",
      "building tree 27 of 77building tree 28 of 77\n",
      "building tree 24 of 77\n",
      "\n",
      "building tree 25 of 77\n",
      "building tree 30 of 77\n",
      "building tree 31 of 77\n",
      "building tree 29 of 77building tree 32 of 77\n",
      "building tree 33 of 77\n",
      "\n",
      "building tree 34 of 77\n",
      "building tree 35 of 77\n",
      "building tree 36 of 77\n",
      "building tree 38 of 77\n",
      "building tree 37 of 77\n",
      "building tree 40 of 77\n",
      "building tree 39 of 77\n",
      "building tree 41 of 77building tree 42 of 77building tree 43 of 77\n",
      "\n",
      "\n",
      "building tree 44 of 77\n",
      "building tree 45 of 77\n",
      "building tree 46 of 77\n",
      "building tree 47 of 77\n",
      "building tree 48 of 77\n",
      "building tree 49 of 77\n",
      "building tree 51 of 77\n",
      "building tree 50 of 77\n",
      "building tree 53 of 77building tree 54 of 77\n",
      "building tree 52 of 77"
     ]
    },
    {
     "name": "stderr",
     "output_type": "stream",
     "text": [
      "[Parallel(n_jobs=-1)]: Done  45 tasks      | elapsed:    0.2s\n",
      "[Parallel(n_jobs=-1)]: Done  56 tasks      | elapsed:    0.2s\n",
      "[Parallel(n_jobs=-1)]: Done  70 out of  77 | elapsed:    0.3s remaining:    0.0s\n",
      "[Parallel(n_jobs=-1)]: Done  77 out of  77 | elapsed:    0.3s finished\n"
     ]
    },
    {
     "name": "stdout",
     "output_type": "stream",
     "text": [
      "\n",
      "building tree 55 of 77building tree 56 of 77\n",
      "\n",
      "\n",
      "building tree 58 of 77\n",
      "building tree 59 of 77\n",
      "building tree 57 of 77building tree 60 of 77\n",
      "\n",
      "building tree 62 of 77\n",
      "building tree 63 of 77building tree 61 of 77\n",
      "building tree 64 of 77building tree 65 of 77\n",
      "\n",
      "building tree 66 of 77\n",
      "\n",
      "building tree 68 of 77\n",
      "building tree 67 of 77building tree 69 of 77\n",
      "\n",
      "building tree 70 of 77building tree 71 of 77\n",
      "\n",
      "building tree 72 of 77\n",
      "building tree 73 of 77\n",
      "building tree 74 of 77\n",
      "building tree 75 of 77\n",
      "building tree 76 of 77\n",
      "building tree 77 of 77\n"
     ]
    },
    {
     "name": "stderr",
     "output_type": "stream",
     "text": [
      "[Parallel(n_jobs=8)]: Done   2 tasks      | elapsed:    0.0s\n",
      "[Parallel(n_jobs=8)]: Done   9 tasks      | elapsed:    0.0s\n",
      "[Parallel(n_jobs=8)]: Done  16 tasks      | elapsed:    0.0s\n",
      "[Parallel(n_jobs=8)]: Done  25 tasks      | elapsed:    0.0s\n",
      "[Parallel(n_jobs=8)]: Done  34 tasks      | elapsed:    0.0s\n",
      "[Parallel(n_jobs=8)]: Done  45 tasks      | elapsed:    0.0s\n",
      "[Parallel(n_jobs=8)]: Done  56 tasks      | elapsed:    0.0s\n",
      "[Parallel(n_jobs=8)]: Done  70 out of  77 | elapsed:    0.0s remaining:    0.0s\n",
      "[Parallel(n_jobs=8)]: Done  77 out of  77 | elapsed:    0.0s finished\n",
      "[Parallel(n_jobs=8)]: Done   2 tasks      | elapsed:    0.0s\n",
      "[Parallel(n_jobs=8)]: Done   9 tasks      | elapsed:    0.0s\n",
      "[Parallel(n_jobs=8)]: Done  16 tasks      | elapsed:    0.0s\n",
      "[Parallel(n_jobs=8)]: Done  25 tasks      | elapsed:    0.0s\n",
      "[Parallel(n_jobs=8)]: Done  34 tasks      | elapsed:    0.0s\n",
      "[Parallel(n_jobs=8)]: Done  45 tasks      | elapsed:    0.0s\n",
      "[Parallel(n_jobs=8)]: Done  56 tasks      | elapsed:    0.1s\n",
      "[Parallel(n_jobs=8)]: Done  70 out of  77 | elapsed:    0.1s remaining:    0.0s\n",
      "[Parallel(n_jobs=8)]: Done  77 out of  77 | elapsed:    0.1s finished\n",
      "/home/justin/anaconda3/lib/python3.6/site-packages/sklearn/model_selection/_validation.py:458: DataConversionWarning: A column-vector y was passed when a 1d array was expected. Please change the shape of y to (n_samples,), for example using ravel().\n",
      "  estimator.fit(X_train, y_train, **fit_params)\n"
     ]
    },
    {
     "name": "stdout",
     "output_type": "stream",
     "text": [
      "building tree 3 of 159\n",
      "building tree 1 of 159building tree 5 of 159building tree 6 of 159building tree 2 of 159building tree 7 of 159building tree 4 of 159\n",
      "\n",
      "\n",
      "\n",
      "\n",
      "\n",
      "building tree 8 of 159\n",
      "building tree 9 of 159\n",
      "building tree 10 of 159\n",
      "building tree 11 of 159\n"
     ]
    },
    {
     "name": "stderr",
     "output_type": "stream",
     "text": [
      "[Parallel(n_jobs=-1)]: Done   2 tasks      | elapsed:    0.8s\n"
     ]
    },
    {
     "name": "stdout",
     "output_type": "stream",
     "text": [
      "building tree 12 of 159\n",
      "building tree 13 of 159\n",
      "building tree 14 of 159\n",
      "building tree 15 of 159\n",
      "building tree 16 of 159\n",
      "building tree 17 of 159\n",
      "building tree 18 of 159\n",
      "building tree 19 of 159\n"
     ]
    },
    {
     "name": "stderr",
     "output_type": "stream",
     "text": [
      "[Parallel(n_jobs=-1)]: Done   9 tasks      | elapsed:    1.6s\n"
     ]
    },
    {
     "name": "stdout",
     "output_type": "stream",
     "text": [
      "building tree 20 of 159\n",
      "building tree 21 of 159\n",
      "building tree 22 of 159\n",
      "building tree 23 of 159\n",
      "building tree 24 of 159\n",
      "building tree 25 of 159\n"
     ]
    },
    {
     "name": "stderr",
     "output_type": "stream",
     "text": [
      "[Parallel(n_jobs=-1)]: Done  16 tasks      | elapsed:    2.5s\n"
     ]
    },
    {
     "name": "stdout",
     "output_type": "stream",
     "text": [
      "building tree 26 of 159\n",
      "building tree 27 of 159\n",
      "building tree 28 of 159\n",
      "building tree 29 of 159\n",
      "building tree 30 of 159\n",
      "building tree 31 of 159\n",
      "building tree 32 of 159\n",
      "building tree 33 of 159\n",
      "building tree 34 of 159\n",
      "building tree 35 of 159\n",
      "building tree 36 of 159\n"
     ]
    },
    {
     "name": "stderr",
     "output_type": "stream",
     "text": [
      "[Parallel(n_jobs=-1)]: Done  25 tasks      | elapsed:    3.7s\n"
     ]
    },
    {
     "name": "stdout",
     "output_type": "stream",
     "text": [
      "building tree 37 of 159\n",
      "building tree 38 of 159\n",
      "building tree 39 of 159\n",
      "building tree 40 of 159\n",
      "building tree 41 of 159\n",
      "building tree 42 of 159\n"
     ]
    },
    {
     "name": "stderr",
     "output_type": "stream",
     "text": [
      "[Parallel(n_jobs=-1)]: Done  34 tasks      | elapsed:    4.7s\n"
     ]
    },
    {
     "name": "stdout",
     "output_type": "stream",
     "text": [
      "building tree 43 of 159\n",
      "building tree 44 of 159\n",
      "building tree 45 of 159\n",
      "building tree 46 of 159\n",
      "building tree 47 of 159\n",
      "building tree 48 of 159\n",
      "building tree 49 of 159\n",
      "building tree 50 of 159\n",
      "building tree 51 of 159\n",
      "building tree 52 of 159\n",
      "building tree 53 of 159\n",
      "building tree 54 of 159\n"
     ]
    },
    {
     "name": "stderr",
     "output_type": "stream",
     "text": [
      "[Parallel(n_jobs=-1)]: Done  45 tasks      | elapsed:    6.0s\n"
     ]
    },
    {
     "name": "stdout",
     "output_type": "stream",
     "text": [
      "building tree 55 of 159\n",
      "building tree 56 of 159\n",
      "building tree 57 of 159\n",
      "building tree 58 of 159\n",
      "building tree 59 of 159\n",
      "building tree 60 of 159\n",
      "building tree 61 of 159\n",
      "building tree 62 of 159\n",
      "building tree 63 of 159\n"
     ]
    },
    {
     "name": "stderr",
     "output_type": "stream",
     "text": [
      "[Parallel(n_jobs=-1)]: Done  56 tasks      | elapsed:    7.5s\n"
     ]
    },
    {
     "name": "stdout",
     "output_type": "stream",
     "text": [
      "building tree 64 of 159\n",
      "building tree 65 of 159\n",
      "building tree 66 of 159\n",
      "building tree 67 of 159\n",
      "building tree 68 of 159\n",
      "building tree 69 of 159\n",
      "building tree 70 of 159\n",
      "building tree 71 of 159\n",
      "building tree 72 of 159\n",
      "building tree 73 of 159\n",
      "building tree 74 of 159\n",
      "building tree 75 of 159\n",
      "building tree 76 of 159\n"
     ]
    },
    {
     "name": "stderr",
     "output_type": "stream",
     "text": [
      "[Parallel(n_jobs=-1)]: Done  69 tasks      | elapsed:    8.8s\n"
     ]
    },
    {
     "name": "stdout",
     "output_type": "stream",
     "text": [
      "building tree 77 of 159\n",
      "building tree 78 of 159\n",
      "building tree 79 of 159\n",
      "building tree 80 of 159\n",
      "building tree 81 of 159\n",
      "building tree 82 of 159\n",
      "building tree 83 of 159\n",
      "building tree 84 of 159\n",
      "building tree 85 of 159\n",
      "building tree 86 of 159\n",
      "building tree 87 of 159\n",
      "building tree 88 of 159\n",
      "building tree 89 of 159\n",
      "building tree 90 of 159\n",
      "building tree 91 of 159\n"
     ]
    },
    {
     "name": "stderr",
     "output_type": "stream",
     "text": [
      "[Parallel(n_jobs=-1)]: Done  82 tasks      | elapsed:   10.6s\n"
     ]
    },
    {
     "name": "stdout",
     "output_type": "stream",
     "text": [
      "building tree 92 of 159\n",
      "building tree 93 of 159\n",
      "building tree 94 of 159\n",
      "building tree 95 of 159\n",
      "building tree 96 of 159\n",
      "building tree 97 of 159\n",
      "building tree 98 of 159\n",
      "building tree 99 of 159\n",
      "building tree 100 of 159\n",
      "building tree 101 of 159\n",
      "building tree 102 of 159\n",
      "building tree 103 of 159\n",
      "building tree 104 of 159\n"
     ]
    },
    {
     "name": "stderr",
     "output_type": "stream",
     "text": [
      "[Parallel(n_jobs=-1)]: Done  97 tasks      | elapsed:   12.4s\n"
     ]
    },
    {
     "name": "stdout",
     "output_type": "stream",
     "text": [
      "building tree 105 of 159\n",
      "building tree 106 of 159\n",
      "building tree 107 of 159\n",
      "building tree 108 of 159\n",
      "building tree 109 of 159\n",
      "building tree 110 of 159\n",
      "building tree 111 of 159\n",
      "building tree 112 of 159\n",
      "building tree 113 of 159\n",
      "building tree 114 of 159\n",
      "building tree 115 of 159\n",
      "building tree 116 of 159\n",
      "building tree 117 of 159\n",
      "building tree 118 of 159\n",
      "building tree 119 of 159\n",
      "building tree 120 of 159\n"
     ]
    },
    {
     "name": "stderr",
     "output_type": "stream",
     "text": [
      "[Parallel(n_jobs=-1)]: Done 112 tasks      | elapsed:   14.2s\n"
     ]
    },
    {
     "name": "stdout",
     "output_type": "stream",
     "text": [
      "building tree 121 of 159\n",
      "building tree 122 of 159\n",
      "building tree 123 of 159\n",
      "building tree 124 of 159\n",
      "building tree 125 of 159\n",
      "building tree 126 of 159\n",
      "building tree 127 of 159\n",
      "building tree 128 of 159\n",
      "building tree 129 of 159building tree 130 of 159\n",
      "\n",
      "building tree 131 of 159\n",
      "building tree 132 of 159\n",
      "building tree 133 of 159\n",
      "building tree 134 of 159\n",
      "building tree 135 of 159\n",
      "building tree 136 of 159\n",
      "building tree 137 of 159\n",
      "building tree 138 of 159\n",
      "building tree 139 of 159\n"
     ]
    },
    {
     "name": "stderr",
     "output_type": "stream",
     "text": [
      "[Parallel(n_jobs=-1)]: Done 129 tasks      | elapsed:   16.4s\n"
     ]
    },
    {
     "name": "stdout",
     "output_type": "stream",
     "text": [
      "building tree 140 of 159\n",
      "building tree 141 of 159\n",
      "building tree 142 of 159\n",
      "building tree 143 of 159\n",
      "building tree 144 of 159\n",
      "building tree 145 of 159\n",
      "building tree 146 of 159\n",
      "building tree 147 of 159\n",
      "building tree 148 of 159\n",
      "building tree 149 of 159\n",
      "building tree 150 of 159\n",
      "building tree 151 of 159\n",
      "building tree 152 of 159\n",
      "building tree 153 of 159\n",
      "building tree 154 of 159\n",
      "building tree 155 of 159\n",
      "building tree 156 of 159\n",
      "building tree 157 of 159\n",
      "building tree 158 of 159\n",
      "building tree 159 of 159\n"
     ]
    },
    {
     "name": "stderr",
     "output_type": "stream",
     "text": [
      "[Parallel(n_jobs=-1)]: Done 159 out of 159 | elapsed:   20.0s finished\n",
      "[Parallel(n_jobs=8)]: Done   2 tasks      | elapsed:    0.0s\n",
      "[Parallel(n_jobs=8)]: Done   9 tasks      | elapsed:    0.0s\n",
      "[Parallel(n_jobs=8)]: Done  16 tasks      | elapsed:    0.0s\n",
      "[Parallel(n_jobs=8)]: Done  25 tasks      | elapsed:    0.0s\n",
      "[Parallel(n_jobs=8)]: Done  34 tasks      | elapsed:    0.0s\n",
      "[Parallel(n_jobs=8)]: Done  45 tasks      | elapsed:    0.1s\n",
      "[Parallel(n_jobs=8)]: Done  56 tasks      | elapsed:    0.1s\n",
      "[Parallel(n_jobs=8)]: Done  69 tasks      | elapsed:    0.1s\n",
      "[Parallel(n_jobs=8)]: Done  82 tasks      | elapsed:    0.1s\n",
      "[Parallel(n_jobs=8)]: Done  97 tasks      | elapsed:    0.1s\n",
      "[Parallel(n_jobs=8)]: Done 112 tasks      | elapsed:    0.1s\n",
      "[Parallel(n_jobs=8)]: Done 129 tasks      | elapsed:    0.1s\n",
      "[Parallel(n_jobs=8)]: Done 159 out of 159 | elapsed:    0.2s finished\n",
      "[Parallel(n_jobs=8)]: Done   2 tasks      | elapsed:    0.0s\n",
      "[Parallel(n_jobs=8)]: Done   9 tasks      | elapsed:    0.0s\n",
      "[Parallel(n_jobs=8)]: Done  16 tasks      | elapsed:    0.0s\n",
      "[Parallel(n_jobs=8)]: Done  25 tasks      | elapsed:    0.1s\n",
      "[Parallel(n_jobs=8)]: Done  34 tasks      | elapsed:    0.1s\n",
      "[Parallel(n_jobs=8)]: Done  45 tasks      | elapsed:    0.1s\n",
      "[Parallel(n_jobs=8)]: Done  56 tasks      | elapsed:    0.1s\n",
      "[Parallel(n_jobs=8)]: Done  69 tasks      | elapsed:    0.2s\n",
      "[Parallel(n_jobs=8)]: Done  82 tasks      | elapsed:    0.2s\n",
      "[Parallel(n_jobs=8)]: Done  97 tasks      | elapsed:    0.2s\n",
      "[Parallel(n_jobs=8)]: Done 112 tasks      | elapsed:    0.2s\n",
      "[Parallel(n_jobs=8)]: Done 129 tasks      | elapsed:    0.3s\n",
      "[Parallel(n_jobs=8)]: Done 159 out of 159 | elapsed:    0.3s finished\n",
      "/home/justin/anaconda3/lib/python3.6/site-packages/sklearn/model_selection/_validation.py:458: DataConversionWarning: A column-vector y was passed when a 1d array was expected. Please change the shape of y to (n_samples,), for example using ravel().\n",
      "  estimator.fit(X_train, y_train, **fit_params)\n"
     ]
    },
    {
     "name": "stdout",
     "output_type": "stream",
     "text": [
      "building tree 4 of 159\n",
      "building tree 5 of 159building tree 6 of 159building tree 7 of 159building tree 8 of 159building tree 1 of 159building tree 2 of 159building tree 3 of 159\n",
      "\n",
      "\n",
      "\n",
      "\n",
      "\n",
      "\n",
      "building tree 9 of 159\n",
      "building tree 10 of 159\n",
      "building tree 11 of 159\n"
     ]
    },
    {
     "name": "stderr",
     "output_type": "stream",
     "text": [
      "[Parallel(n_jobs=-1)]: Done   2 tasks      | elapsed:    1.1s\n"
     ]
    },
    {
     "name": "stdout",
     "output_type": "stream",
     "text": [
      "building tree 12 of 159\n",
      "building tree 13 of 159\n",
      "building tree 14 of 159\n",
      "building tree 15 of 159\n",
      "building tree 16 of 159\n"
     ]
    },
    {
     "name": "stderr",
     "output_type": "stream",
     "text": [
      "[Parallel(n_jobs=-1)]: Done   9 tasks      | elapsed:    2.1s\n"
     ]
    },
    {
     "name": "stdout",
     "output_type": "stream",
     "text": [
      "building tree 17 of 159\n",
      "building tree 18 of 159\n",
      "building tree 19 of 159\n",
      "building tree 20 of 159\n",
      "building tree 21 of 159\n",
      "building tree 22 of 159\n",
      "building tree 23 of 159\n"
     ]
    },
    {
     "name": "stderr",
     "output_type": "stream",
     "text": [
      "[Parallel(n_jobs=-1)]: Done  16 tasks      | elapsed:    3.2s\n"
     ]
    },
    {
     "name": "stdout",
     "output_type": "stream",
     "text": [
      "building tree 24 of 159\n",
      "building tree 25 of 159\n",
      "building tree 26 of 159\n",
      "building tree 27 of 159\n",
      "building tree 28 of 159\n",
      "building tree 29 of 159\n",
      "building tree 30 of 159\n",
      "building tree 31 of 159\n",
      "building tree 32 of 159\n"
     ]
    },
    {
     "name": "stderr",
     "output_type": "stream",
     "text": [
      "[Parallel(n_jobs=-1)]: Done  25 tasks      | elapsed:    5.1s\n"
     ]
    },
    {
     "name": "stdout",
     "output_type": "stream",
     "text": [
      "building tree 33 of 159\n",
      "building tree 34 of 159\n",
      "building tree 35 of 159\n",
      "building tree 36 of 159\n",
      "building tree 37 of 159\n",
      "building tree 38 of 159\n",
      "building tree 39 of 159\n",
      "building tree 40 of 159\n",
      "building tree 41 of 159\n"
     ]
    },
    {
     "name": "stderr",
     "output_type": "stream",
     "text": [
      "[Parallel(n_jobs=-1)]: Done  34 tasks      | elapsed:    6.7s\n"
     ]
    },
    {
     "name": "stdout",
     "output_type": "stream",
     "text": [
      "building tree 42 of 159\n",
      "building tree 43 of 159\n",
      "building tree 44 of 159\n",
      "building tree 45 of 159\n",
      "building tree 46 of 159\n",
      "building tree 47 of 159\n",
      "building tree 48 of 159\n",
      "building tree 49 of 159\n",
      "building tree 50 of 159\n",
      "building tree 51 of 159\n",
      "building tree 52 of 159\n"
     ]
    },
    {
     "name": "stderr",
     "output_type": "stream",
     "text": [
      "[Parallel(n_jobs=-1)]: Done  45 tasks      | elapsed:    8.4s\n"
     ]
    },
    {
     "name": "stdout",
     "output_type": "stream",
     "text": [
      "building tree 53 of 159\n",
      "building tree 54 of 159\n",
      "building tree 55 of 159\n",
      "building tree 56 of 159\n",
      "building tree 57 of 159\n",
      "building tree 58 of 159\n",
      "building tree 59 of 159\n",
      "building tree 60 of 159\n",
      "building tree 61 of 159\n",
      "building tree 62 of 159\n",
      "building tree 63 of 159\n"
     ]
    },
    {
     "name": "stderr",
     "output_type": "stream",
     "text": [
      "[Parallel(n_jobs=-1)]: Done  56 tasks      | elapsed:   10.6s\n"
     ]
    },
    {
     "name": "stdout",
     "output_type": "stream",
     "text": [
      "building tree 64 of 159\n",
      "building tree 65 of 159\n",
      "building tree 66 of 159\n",
      "building tree 67 of 159\n",
      "building tree 68 of 159\n",
      "building tree 69 of 159\n",
      "building tree 70 of 159\n",
      "building tree 71 of 159\n",
      "building tree 72 of 159\n",
      "building tree 73 of 159\n",
      "building tree 74 of 159\n",
      "building tree 75 of 159\n",
      "building tree 76 of 159\n"
     ]
    },
    {
     "name": "stderr",
     "output_type": "stream",
     "text": [
      "[Parallel(n_jobs=-1)]: Done  69 tasks      | elapsed:   12.8s\n"
     ]
    },
    {
     "name": "stdout",
     "output_type": "stream",
     "text": [
      "building tree 77 of 159\n",
      "building tree 78 of 159\n",
      "building tree 79 of 159\n",
      "building tree 80 of 159\n",
      "building tree 81 of 159\n",
      "building tree 82 of 159\n",
      "building tree 83 of 159\n",
      "building tree 84 of 159\n",
      "building tree 85 of 159\n",
      "building tree 86 of 159\n",
      "building tree 87 of 159\n",
      "building tree 88 of 159\n",
      "building tree 89 of 159\n"
     ]
    },
    {
     "name": "stderr",
     "output_type": "stream",
     "text": [
      "[Parallel(n_jobs=-1)]: Done  82 tasks      | elapsed:   14.8s\n"
     ]
    },
    {
     "name": "stdout",
     "output_type": "stream",
     "text": [
      "building tree 90 of 159\n",
      "building tree 91 of 159\n",
      "building tree 92 of 159\n",
      "building tree 93 of 159\n",
      "building tree 94 of 159\n",
      "building tree 95 of 159\n",
      "building tree 96 of 159\n",
      "building tree 97 of 159\n",
      "building tree 98 of 159\n",
      "building tree 99 of 159\n",
      "building tree 100 of 159\n",
      "building tree 101 of 159\n",
      "building tree 102 of 159\n",
      "building tree 103 of 159\n",
      "building tree 104 of 159\n"
     ]
    },
    {
     "name": "stderr",
     "output_type": "stream",
     "text": [
      "[Parallel(n_jobs=-1)]: Done  97 tasks      | elapsed:   17.6s\n"
     ]
    },
    {
     "name": "stdout",
     "output_type": "stream",
     "text": [
      "building tree 105 of 159\n",
      "building tree 106 of 159\n",
      "building tree 107 of 159\n",
      "building tree 108 of 159\n",
      "building tree 109 of 159\n",
      "building tree 110 of 159\n",
      "building tree 111 of 159\n",
      "building tree 112 of 159\n",
      "building tree 113 of 159\n",
      "building tree 114 of 159\n",
      "building tree 115 of 159\n",
      "building tree 116 of 159\n",
      "building tree 117 of 159\n",
      "building tree 118 of 159\n",
      "building tree 119 of 159\n",
      "building tree 120 of 159\n"
     ]
    },
    {
     "name": "stderr",
     "output_type": "stream",
     "text": [
      "[Parallel(n_jobs=-1)]: Done 112 tasks      | elapsed:   20.2s\n"
     ]
    },
    {
     "name": "stdout",
     "output_type": "stream",
     "text": [
      "building tree 121 of 159\n",
      "building tree 122 of 159\n",
      "building tree 123 of 159\n",
      "building tree 124 of 159\n",
      "building tree 125 of 159\n",
      "building tree 126 of 159\n",
      "building tree 127 of 159\n",
      "building tree 128 of 159\n",
      "building tree 129 of 159\n",
      "building tree 130 of 159\n",
      "building tree 131 of 159\n",
      "building tree 132 of 159\n",
      "building tree 133 of 159\n",
      "building tree 134 of 159\n",
      "building tree 135 of 159\n",
      "building tree 136 of 159\n"
     ]
    },
    {
     "name": "stderr",
     "output_type": "stream",
     "text": [
      "[Parallel(n_jobs=-1)]: Done 129 tasks      | elapsed:   23.5s\n"
     ]
    },
    {
     "name": "stdout",
     "output_type": "stream",
     "text": [
      "building tree 137 of 159\n",
      "building tree 138 of 159\n",
      "building tree 139 of 159\n",
      "building tree 140 of 159\n",
      "building tree 141 of 159\n",
      "building tree 142 of 159\n",
      "building tree 143 of 159\n",
      "building tree 144 of 159\n",
      "building tree 145 of 159\n",
      "building tree 146 of 159\n",
      "building tree 147 of 159\n",
      "building tree 148 of 159\n",
      "building tree 149 of 159\n",
      "building tree 150 of 159\n",
      "building tree 151 of 159\n",
      "building tree 152 of 159\n",
      "building tree 153 of 159\n",
      "building tree 154 of 159\n",
      "building tree 155 of 159\n",
      "building tree 156 of 159\n",
      "building tree 157 of 159\n",
      "building tree 158 of 159\n",
      "building tree 159 of 159\n"
     ]
    },
    {
     "name": "stderr",
     "output_type": "stream",
     "text": [
      "[Parallel(n_jobs=-1)]: Done 159 out of 159 | elapsed:   27.9s finished\n",
      "[Parallel(n_jobs=8)]: Done   2 tasks      | elapsed:    0.0s\n",
      "[Parallel(n_jobs=8)]: Done   9 tasks      | elapsed:    0.0s\n",
      "[Parallel(n_jobs=8)]: Done  16 tasks      | elapsed:    0.0s\n",
      "[Parallel(n_jobs=8)]: Done  25 tasks      | elapsed:    0.0s\n",
      "[Parallel(n_jobs=8)]: Done  34 tasks      | elapsed:    0.0s\n",
      "[Parallel(n_jobs=8)]: Done  45 tasks      | elapsed:    0.0s\n",
      "[Parallel(n_jobs=8)]: Done  56 tasks      | elapsed:    0.1s\n",
      "[Parallel(n_jobs=8)]: Done  69 tasks      | elapsed:    0.1s\n",
      "[Parallel(n_jobs=8)]: Done  82 tasks      | elapsed:    0.1s\n",
      "[Parallel(n_jobs=8)]: Done  97 tasks      | elapsed:    0.1s\n",
      "[Parallel(n_jobs=8)]: Done 112 tasks      | elapsed:    0.1s\n",
      "[Parallel(n_jobs=8)]: Done 129 tasks      | elapsed:    0.1s\n",
      "[Parallel(n_jobs=8)]: Done 159 out of 159 | elapsed:    0.1s finished\n",
      "[Parallel(n_jobs=8)]: Done   2 tasks      | elapsed:    0.0s\n",
      "[Parallel(n_jobs=8)]: Done   9 tasks      | elapsed:    0.0s\n",
      "[Parallel(n_jobs=8)]: Done  16 tasks      | elapsed:    0.0s\n",
      "[Parallel(n_jobs=8)]: Done  25 tasks      | elapsed:    0.1s\n",
      "[Parallel(n_jobs=8)]: Done  34 tasks      | elapsed:    0.1s\n",
      "[Parallel(n_jobs=8)]: Done  45 tasks      | elapsed:    0.1s\n",
      "[Parallel(n_jobs=8)]: Done  56 tasks      | elapsed:    0.1s\n",
      "[Parallel(n_jobs=8)]: Done  69 tasks      | elapsed:    0.1s\n",
      "[Parallel(n_jobs=8)]: Done  82 tasks      | elapsed:    0.2s\n",
      "[Parallel(n_jobs=8)]: Done  97 tasks      | elapsed:    0.2s\n",
      "[Parallel(n_jobs=8)]: Done 112 tasks      | elapsed:    0.2s\n",
      "[Parallel(n_jobs=8)]: Done 129 tasks      | elapsed:    0.2s\n",
      "[Parallel(n_jobs=8)]: Done 159 out of 159 | elapsed:    0.3s finished\n",
      "/home/justin/anaconda3/lib/python3.6/site-packages/sklearn/model_selection/_validation.py:458: DataConversionWarning: A column-vector y was passed when a 1d array was expected. Please change the shape of y to (n_samples,), for example using ravel().\n",
      "  estimator.fit(X_train, y_train, **fit_params)\n"
     ]
    },
    {
     "name": "stdout",
     "output_type": "stream",
     "text": [
      "building tree 1 of 159\n",
      "building tree 2 of 159building tree 4 of 159building tree 5 of 159building tree 6 of 159building tree 8 of 159building tree 3 of 159building tree 7 of 159\n",
      "\n",
      "\n",
      "\n",
      "\n",
      "\n",
      "\n",
      "building tree 9 of 159\n",
      "building tree 10 of 159\n",
      "building tree 11 of 159\n",
      "building tree 12 of 159\n",
      "building tree 13 of 159\n"
     ]
    },
    {
     "name": "stderr",
     "output_type": "stream",
     "text": [
      "[Parallel(n_jobs=-1)]: Done   2 tasks      | elapsed:    1.2s\n"
     ]
    },
    {
     "name": "stdout",
     "output_type": "stream",
     "text": [
      "building tree 14 of 159\n",
      "building tree 15 of 159\n",
      "building tree 16 of 159\n"
     ]
    },
    {
     "name": "stderr",
     "output_type": "stream",
     "text": [
      "[Parallel(n_jobs=-1)]: Done   9 tasks      | elapsed:    2.6s\n"
     ]
    },
    {
     "name": "stdout",
     "output_type": "stream",
     "text": [
      "building tree 17 of 159\n",
      "building tree 18 of 159\n",
      "building tree 19 of 159\n",
      "building tree 20 of 159\n",
      "building tree 21 of 159\n",
      "building tree 22 of 159\n",
      "building tree 23 of 159\n"
     ]
    },
    {
     "name": "stderr",
     "output_type": "stream",
     "text": [
      "[Parallel(n_jobs=-1)]: Done  16 tasks      | elapsed:    3.4s\n"
     ]
    },
    {
     "name": "stdout",
     "output_type": "stream",
     "text": [
      "building tree 24 of 159\n",
      "building tree 25 of 159\n",
      "building tree 26 of 159\n",
      "building tree 27 of 159\n",
      "building tree 28 of 159\n",
      "building tree 29 of 159\n",
      "building tree 30 of 159\n",
      "building tree 31 of 159\n",
      "building tree 32 of 159\n"
     ]
    },
    {
     "name": "stderr",
     "output_type": "stream",
     "text": [
      "[Parallel(n_jobs=-1)]: Done  25 tasks      | elapsed:    5.3s\n"
     ]
    },
    {
     "name": "stdout",
     "output_type": "stream",
     "text": [
      "building tree 33 of 159\n",
      "building tree 34 of 159\n",
      "building tree 35 of 159\n",
      "building tree 36 of 159\n",
      "building tree 37 of 159\n",
      "building tree 39 of 159building tree 38 of 159\n",
      "\n",
      "building tree 40 of 159\n",
      "building tree 41 of 159\n",
      "building tree 42 of 159\n"
     ]
    },
    {
     "name": "stderr",
     "output_type": "stream",
     "text": [
      "[Parallel(n_jobs=-1)]: Done  34 tasks      | elapsed:    6.8s\n"
     ]
    },
    {
     "name": "stdout",
     "output_type": "stream",
     "text": [
      "building tree 43 of 159\n",
      "building tree 44 of 159\n",
      "building tree 45 of 159\n",
      "building tree 46 of 159\n",
      "building tree 47 of 159\n",
      "building tree 48 of 159\n",
      "building tree 49 of 159\n",
      "building tree 50 of 159\n",
      "building tree 51 of 159\n",
      "building tree 52 of 159\n",
      "building tree 53 of 159\n"
     ]
    },
    {
     "name": "stderr",
     "output_type": "stream",
     "text": [
      "[Parallel(n_jobs=-1)]: Done  45 tasks      | elapsed:    8.9s\n"
     ]
    },
    {
     "name": "stdout",
     "output_type": "stream",
     "text": [
      "building tree 54 of 159\n",
      "building tree 55 of 159\n",
      "building tree 56 of 159\n",
      "building tree 57 of 159\n",
      "building tree 58 of 159\n",
      "building tree 59 of 159\n",
      "building tree 60 of 159\n",
      "building tree 61 of 159\n",
      "building tree 62 of 159\n",
      "building tree 63 of 159\n",
      "building tree 64 of 159\n",
      "building tree 65 of 159\n",
      "building tree 66 of 159\n",
      "building tree 67 of 159\n"
     ]
    },
    {
     "name": "stderr",
     "output_type": "stream",
     "text": [
      "[Parallel(n_jobs=-1)]: Done  56 tasks      | elapsed:   10.8s\n"
     ]
    },
    {
     "name": "stdout",
     "output_type": "stream",
     "text": [
      "building tree 68 of 159\n",
      "building tree 69 of 159\n",
      "building tree 70 of 159\n",
      "building tree 71 of 159\n",
      "building tree 72 of 159\n",
      "building tree 73 of 159\n",
      "building tree 74 of 159\n",
      "building tree 75 of 159\n",
      "building tree 76 of 159\n"
     ]
    },
    {
     "name": "stderr",
     "output_type": "stream",
     "text": [
      "[Parallel(n_jobs=-1)]: Done  69 tasks      | elapsed:   13.3s\n"
     ]
    },
    {
     "name": "stdout",
     "output_type": "stream",
     "text": [
      "building tree 77 of 159\n",
      "building tree 78 of 159\n",
      "building tree 79 of 159\n",
      "building tree 80 of 159\n",
      "building tree 81 of 159\n",
      "building tree 82 of 159\n",
      "building tree 83 of 159\n",
      "building tree 84 of 159\n",
      "building tree 85 of 159\n",
      "building tree 86 of 159\n",
      "building tree 87 of 159\n",
      "building tree 88 of 159\n",
      "building tree 89 of 159\n"
     ]
    },
    {
     "name": "stderr",
     "output_type": "stream",
     "text": [
      "[Parallel(n_jobs=-1)]: Done  82 tasks      | elapsed:   15.7s\n"
     ]
    },
    {
     "name": "stdout",
     "output_type": "stream",
     "text": [
      "building tree 90 of 159\n",
      "building tree 91 of 159\n",
      "building tree 92 of 159\n",
      "building tree 93 of 159\n",
      "building tree 94 of 159\n",
      "building tree 95 of 159\n",
      "building tree 97 of 159\n",
      "building tree 96 of 159\n",
      "building tree 98 of 159\n",
      "building tree 99 of 159\n",
      "building tree 100 of 159\n",
      "building tree 101 of 159\n",
      "building tree 102 of 159\n",
      "building tree 103 of 159\n",
      "building tree 104 of 159\n",
      "building tree 105 of 159\n",
      "building tree 106 of 159\n"
     ]
    },
    {
     "name": "stderr",
     "output_type": "stream",
     "text": [
      "[Parallel(n_jobs=-1)]: Done  97 tasks      | elapsed:   18.2s\n"
     ]
    },
    {
     "name": "stdout",
     "output_type": "stream",
     "text": [
      "building tree 107 of 159\n",
      "building tree 108 of 159\n",
      "building tree 109 of 159\n",
      "building tree 110 of 159\n",
      "building tree 111 of 159\n",
      "building tree 112 of 159\n",
      "building tree 113 of 159\n",
      "building tree 114 of 159\n",
      "building tree 115 of 159\n",
      "building tree 116 of 159\n",
      "building tree 117 of 159\n",
      "building tree 118 of 159\n",
      "building tree 119 of 159\n"
     ]
    },
    {
     "name": "stderr",
     "output_type": "stream",
     "text": [
      "[Parallel(n_jobs=-1)]: Done 112 tasks      | elapsed:   21.2s\n"
     ]
    },
    {
     "name": "stdout",
     "output_type": "stream",
     "text": [
      "building tree 120 of 159\n",
      "building tree 121 of 159\n",
      "building tree 122 of 159\n",
      "building tree 123 of 159\n",
      "building tree 124 of 159\n",
      "building tree 125 of 159\n",
      "building tree 126 of 159\n",
      "building tree 127 of 159\n",
      "building tree 128 of 159\n",
      "building tree 129 of 159\n",
      "building tree 130 of 159\n",
      "building tree 131 of 159\n",
      "building tree 132 of 159\n",
      "building tree 133 of 159\n",
      "building tree 134 of 159\n",
      "building tree 135 of 159\n",
      "building tree 136 of 159\n",
      "building tree 137 of 159\n"
     ]
    },
    {
     "name": "stderr",
     "output_type": "stream",
     "text": [
      "[Parallel(n_jobs=-1)]: Done 129 tasks      | elapsed:   23.9s\n"
     ]
    },
    {
     "name": "stdout",
     "output_type": "stream",
     "text": [
      "building tree 138 of 159\n",
      "building tree 139 of 159\n",
      "building tree 140 of 159\n",
      "building tree 141 of 159\n",
      "building tree 142 of 159\n",
      "building tree 143 of 159\n",
      "building tree 144 of 159\n",
      "building tree 145 of 159\n",
      "building tree 146 of 159\n",
      "building tree 147 of 159\n",
      "building tree 148 of 159\n",
      "building tree 149 of 159\n",
      "building tree 150 of 159\n",
      "building tree 151 of 159\n",
      "building tree 152 of 159\n",
      "building tree 153 of 159\n",
      "building tree 154 of 159\n",
      "building tree 155 of 159\n",
      "building tree 156 of 159\n",
      "building tree 157 of 159\n",
      "building tree 158 of 159\n",
      "building tree 159 of 159\n"
     ]
    },
    {
     "name": "stderr",
     "output_type": "stream",
     "text": [
      "[Parallel(n_jobs=-1)]: Done 159 out of 159 | elapsed:   29.1s finished\n",
      "[Parallel(n_jobs=8)]: Done   2 tasks      | elapsed:    0.0s\n",
      "[Parallel(n_jobs=8)]: Done   9 tasks      | elapsed:    0.0s\n",
      "[Parallel(n_jobs=8)]: Done  16 tasks      | elapsed:    0.0s\n",
      "[Parallel(n_jobs=8)]: Done  25 tasks      | elapsed:    0.0s\n",
      "[Parallel(n_jobs=8)]: Done  34 tasks      | elapsed:    0.0s\n",
      "[Parallel(n_jobs=8)]: Done  45 tasks      | elapsed:    0.1s\n",
      "[Parallel(n_jobs=8)]: Done  56 tasks      | elapsed:    0.1s\n",
      "[Parallel(n_jobs=8)]: Done  69 tasks      | elapsed:    0.1s\n",
      "[Parallel(n_jobs=8)]: Done  82 tasks      | elapsed:    0.1s\n",
      "[Parallel(n_jobs=8)]: Done  97 tasks      | elapsed:    0.1s\n",
      "[Parallel(n_jobs=8)]: Done 112 tasks      | elapsed:    0.1s\n",
      "[Parallel(n_jobs=8)]: Done 129 tasks      | elapsed:    0.1s\n",
      "[Parallel(n_jobs=8)]: Done 159 out of 159 | elapsed:    0.2s finished\n",
      "[Parallel(n_jobs=8)]: Done   2 tasks      | elapsed:    0.0s\n",
      "[Parallel(n_jobs=8)]: Done   9 tasks      | elapsed:    0.0s\n",
      "[Parallel(n_jobs=8)]: Done  16 tasks      | elapsed:    0.0s\n",
      "[Parallel(n_jobs=8)]: Done  25 tasks      | elapsed:    0.1s\n",
      "[Parallel(n_jobs=8)]: Done  34 tasks      | elapsed:    0.1s\n",
      "[Parallel(n_jobs=8)]: Done  45 tasks      | elapsed:    0.1s\n",
      "[Parallel(n_jobs=8)]: Done  56 tasks      | elapsed:    0.1s\n",
      "[Parallel(n_jobs=8)]: Done  69 tasks      | elapsed:    0.2s\n",
      "[Parallel(n_jobs=8)]: Done  82 tasks      | elapsed:    0.2s\n",
      "[Parallel(n_jobs=8)]: Done  97 tasks      | elapsed:    0.2s\n",
      "[Parallel(n_jobs=8)]: Done 112 tasks      | elapsed:    0.2s\n",
      "[Parallel(n_jobs=8)]: Done 129 tasks      | elapsed:    0.3s\n",
      "[Parallel(n_jobs=8)]: Done 159 out of 159 | elapsed:    0.3s finished\n",
      "/home/justin/anaconda3/lib/python3.6/site-packages/sklearn/model_selection/_validation.py:458: DataConversionWarning: A column-vector y was passed when a 1d array was expected. Please change the shape of y to (n_samples,), for example using ravel().\n",
      "  estimator.fit(X_train, y_train, **fit_params)\n"
     ]
    },
    {
     "name": "stdout",
     "output_type": "stream",
     "text": [
      "building tree 1 of 11building tree 2 of 11building tree 3 of 11building tree 4 of 11building tree 5 of 11building tree 6 of 11building tree 7 of 11building tree 8 of 11\n",
      "\n",
      "\n",
      "\n",
      "\n",
      "\n",
      "\n",
      "\n",
      "building tree 9 of 11\n",
      "building tree 10 of 11\n",
      "building tree 11 of 11\n"
     ]
    },
    {
     "name": "stderr",
     "output_type": "stream",
     "text": [
      "[Parallel(n_jobs=-1)]: Done   2 out of  11 | elapsed:    0.4s remaining:    1.8s\n",
      "[Parallel(n_jobs=-1)]: Done   4 out of  11 | elapsed:    0.5s remaining:    0.8s\n",
      "[Parallel(n_jobs=-1)]: Done   6 out of  11 | elapsed:    0.6s remaining:    0.5s\n",
      "[Parallel(n_jobs=-1)]: Done   8 out of  11 | elapsed:    0.6s remaining:    0.2s\n",
      "[Parallel(n_jobs=-1)]: Done  11 out of  11 | elapsed:    0.8s finished\n",
      "/home/justin/anaconda3/lib/python3.6/site-packages/sklearn/ensemble/forest.py:724: UserWarning: Some inputs do not have OOB scores. This probably means too few trees were used to compute any reliable oob estimates.\n",
      "  warn(\"Some inputs do not have OOB scores. \"\n",
      "[Parallel(n_jobs=8)]: Done   2 out of  11 | elapsed:    0.0s remaining:    0.0s\n",
      "[Parallel(n_jobs=8)]: Done   4 out of  11 | elapsed:    0.0s remaining:    0.0s\n",
      "[Parallel(n_jobs=8)]: Done   6 out of  11 | elapsed:    0.0s remaining:    0.0s\n",
      "[Parallel(n_jobs=8)]: Done   8 out of  11 | elapsed:    0.0s remaining:    0.0s\n",
      "[Parallel(n_jobs=8)]: Done  11 out of  11 | elapsed:    0.0s finished\n",
      "[Parallel(n_jobs=8)]: Done   2 out of  11 | elapsed:    0.0s remaining:    0.0s\n",
      "[Parallel(n_jobs=8)]: Done   4 out of  11 | elapsed:    0.0s remaining:    0.0s\n",
      "[Parallel(n_jobs=8)]: Done   6 out of  11 | elapsed:    0.0s remaining:    0.0s\n",
      "[Parallel(n_jobs=8)]: Done   8 out of  11 | elapsed:    0.0s remaining:    0.0s\n",
      "[Parallel(n_jobs=8)]: Done  11 out of  11 | elapsed:    0.0s finished\n",
      "/home/justin/anaconda3/lib/python3.6/site-packages/sklearn/model_selection/_validation.py:458: DataConversionWarning: A column-vector y was passed when a 1d array was expected. Please change the shape of y to (n_samples,), for example using ravel().\n",
      "  estimator.fit(X_train, y_train, **fit_params)\n"
     ]
    },
    {
     "name": "stdout",
     "output_type": "stream",
     "text": [
      "building tree 1 of 11building tree 5 of 11building tree 2 of 11building tree 3 of 11building tree 6 of 11building tree 4 of 11building tree 7 of 11building tree 8 of 11\n",
      "\n",
      "\n",
      "\n",
      "\n",
      "\n",
      "\n",
      "\n",
      "building tree 9 of 11\n",
      "building tree 10 of 11\n",
      "building tree 11 of 11\n"
     ]
    },
    {
     "name": "stderr",
     "output_type": "stream",
     "text": [
      "[Parallel(n_jobs=-1)]: Done   2 out of  11 | elapsed:    0.6s remaining:    2.6s\n",
      "[Parallel(n_jobs=-1)]: Done   4 out of  11 | elapsed:    0.7s remaining:    1.2s\n",
      "[Parallel(n_jobs=-1)]: Done   6 out of  11 | elapsed:    0.8s remaining:    0.7s\n",
      "[Parallel(n_jobs=-1)]: Done   8 out of  11 | elapsed:    0.9s remaining:    0.3s\n",
      "[Parallel(n_jobs=-1)]: Done  11 out of  11 | elapsed:    1.1s finished\n",
      "/home/justin/anaconda3/lib/python3.6/site-packages/sklearn/ensemble/forest.py:724: UserWarning: Some inputs do not have OOB scores. This probably means too few trees were used to compute any reliable oob estimates.\n",
      "  warn(\"Some inputs do not have OOB scores. \"\n",
      "[Parallel(n_jobs=8)]: Done   2 out of  11 | elapsed:    0.0s remaining:    0.0s\n",
      "[Parallel(n_jobs=8)]: Done   4 out of  11 | elapsed:    0.0s remaining:    0.0s\n",
      "[Parallel(n_jobs=8)]: Done   6 out of  11 | elapsed:    0.0s remaining:    0.0s\n",
      "[Parallel(n_jobs=8)]: Done   8 out of  11 | elapsed:    0.0s remaining:    0.0s\n",
      "[Parallel(n_jobs=8)]: Done  11 out of  11 | elapsed:    0.0s finished\n",
      "[Parallel(n_jobs=8)]: Done   2 out of  11 | elapsed:    0.0s remaining:    0.0s\n",
      "[Parallel(n_jobs=8)]: Done   4 out of  11 | elapsed:    0.0s remaining:    0.0s\n",
      "[Parallel(n_jobs=8)]: Done   6 out of  11 | elapsed:    0.0s remaining:    0.0s\n",
      "[Parallel(n_jobs=8)]: Done   8 out of  11 | elapsed:    0.0s remaining:    0.0s\n",
      "[Parallel(n_jobs=8)]: Done  11 out of  11 | elapsed:    0.0s finished\n",
      "/home/justin/anaconda3/lib/python3.6/site-packages/sklearn/model_selection/_validation.py:458: DataConversionWarning: A column-vector y was passed when a 1d array was expected. Please change the shape of y to (n_samples,), for example using ravel().\n",
      "  estimator.fit(X_train, y_train, **fit_params)\n"
     ]
    },
    {
     "name": "stdout",
     "output_type": "stream",
     "text": [
      "building tree 1 of 11\n",
      "building tree 2 of 11\n",
      "building tree 4 of 11\n",
      "building tree 5 of 11\n",
      "building tree 7 of 11building tree 3 of 11\n",
      "\n",
      "building tree 8 of 11\n",
      "building tree 6 of 11\n",
      "building tree 9 of 11\n",
      "building tree 10 of 11\n",
      "building tree 11 of 11\n"
     ]
    },
    {
     "name": "stderr",
     "output_type": "stream",
     "text": [
      "[Parallel(n_jobs=-1)]: Done   2 out of  11 | elapsed:    0.7s remaining:    3.1s\n",
      "[Parallel(n_jobs=-1)]: Done   4 out of  11 | elapsed:    0.7s remaining:    1.3s\n",
      "[Parallel(n_jobs=-1)]: Done   6 out of  11 | elapsed:    0.8s remaining:    0.7s\n",
      "[Parallel(n_jobs=-1)]: Done   8 out of  11 | elapsed:    1.0s remaining:    0.4s\n",
      "[Parallel(n_jobs=-1)]: Done  11 out of  11 | elapsed:    1.2s finished\n",
      "/home/justin/anaconda3/lib/python3.6/site-packages/sklearn/ensemble/forest.py:724: UserWarning: Some inputs do not have OOB scores. This probably means too few trees were used to compute any reliable oob estimates.\n",
      "  warn(\"Some inputs do not have OOB scores. \"\n",
      "[Parallel(n_jobs=8)]: Done   2 out of  11 | elapsed:    0.0s remaining:    0.0s\n",
      "[Parallel(n_jobs=8)]: Done   4 out of  11 | elapsed:    0.0s remaining:    0.0s\n",
      "[Parallel(n_jobs=8)]: Done   6 out of  11 | elapsed:    0.0s remaining:    0.0s\n",
      "[Parallel(n_jobs=8)]: Done   8 out of  11 | elapsed:    0.0s remaining:    0.0s\n",
      "[Parallel(n_jobs=8)]: Done  11 out of  11 | elapsed:    0.0s finished\n",
      "[Parallel(n_jobs=8)]: Done   2 out of  11 | elapsed:    0.0s remaining:    0.0s\n",
      "[Parallel(n_jobs=8)]: Done   4 out of  11 | elapsed:    0.0s remaining:    0.0s\n",
      "[Parallel(n_jobs=8)]: Done   6 out of  11 | elapsed:    0.0s remaining:    0.0s\n",
      "[Parallel(n_jobs=8)]: Done   8 out of  11 | elapsed:    0.0s remaining:    0.0s\n",
      "[Parallel(n_jobs=8)]: Done  11 out of  11 | elapsed:    0.0s finished\n",
      "/home/justin/anaconda3/lib/python3.6/site-packages/sklearn/model_selection/_validation.py:458: DataConversionWarning: A column-vector y was passed when a 1d array was expected. Please change the shape of y to (n_samples,), for example using ravel().\n",
      "  estimator.fit(X_train, y_train, **fit_params)\n"
     ]
    },
    {
     "name": "stdout",
     "output_type": "stream",
     "text": [
      "building tree 2 of 19\n",
      "building tree 3 of 19building tree 5 of 19building tree 6 of 19building tree 4 of 19building tree 1 of 19building tree 7 of 19building tree 8 of 19\n",
      "\n",
      "\n",
      "\n",
      "\n",
      "\n",
      "\n",
      "building tree 9 of 19\n",
      "building tree 10 of 19\n",
      "building tree 11 of 19\n",
      "building tree 12 of 19\n",
      "building tree 14 of 19\n",
      "building tree 13 of 19\n"
     ]
    },
    {
     "name": "stderr",
     "output_type": "stream",
     "text": [
      "[Parallel(n_jobs=-1)]: Done   2 tasks      | elapsed:    0.3s\n",
      "[Parallel(n_jobs=-1)]: Done   6 out of  19 | elapsed:    0.3s remaining:    0.7s\n"
     ]
    },
    {
     "name": "stdout",
     "output_type": "stream",
     "text": [
      "building tree 15 of 19\n",
      "building tree 16 of 19\n",
      "building tree 17 of 19\n",
      "building tree 18 of 19\n",
      "building tree 19 of 19\n"
     ]
    },
    {
     "name": "stderr",
     "output_type": "stream",
     "text": [
      "[Parallel(n_jobs=-1)]: Done   8 out of  19 | elapsed:    0.5s remaining:    0.7s\n",
      "[Parallel(n_jobs=-1)]: Done  10 out of  19 | elapsed:    0.6s remaining:    0.6s\n",
      "[Parallel(n_jobs=-1)]: Done  12 out of  19 | elapsed:    0.7s remaining:    0.4s\n",
      "[Parallel(n_jobs=-1)]: Done  14 out of  19 | elapsed:    0.7s remaining:    0.3s\n",
      "[Parallel(n_jobs=-1)]: Done  16 out of  19 | elapsed:    0.9s remaining:    0.2s\n",
      "[Parallel(n_jobs=-1)]: Done  19 out of  19 | elapsed:    0.9s finished\n",
      "/home/justin/anaconda3/lib/python3.6/site-packages/sklearn/ensemble/forest.py:724: UserWarning: Some inputs do not have OOB scores. This probably means too few trees were used to compute any reliable oob estimates.\n",
      "  warn(\"Some inputs do not have OOB scores. \"\n",
      "[Parallel(n_jobs=8)]: Done   2 tasks      | elapsed:    0.0s\n",
      "[Parallel(n_jobs=8)]: Done   6 out of  19 | elapsed:    0.0s remaining:    0.0s\n",
      "[Parallel(n_jobs=8)]: Done   8 out of  19 | elapsed:    0.0s remaining:    0.0s\n",
      "[Parallel(n_jobs=8)]: Done  10 out of  19 | elapsed:    0.0s remaining:    0.0s\n",
      "[Parallel(n_jobs=8)]: Done  12 out of  19 | elapsed:    0.0s remaining:    0.0s\n",
      "[Parallel(n_jobs=8)]: Done  14 out of  19 | elapsed:    0.0s remaining:    0.0s\n",
      "[Parallel(n_jobs=8)]: Done  16 out of  19 | elapsed:    0.0s remaining:    0.0s\n",
      "[Parallel(n_jobs=8)]: Done  19 out of  19 | elapsed:    0.0s finished\n",
      "[Parallel(n_jobs=8)]: Done   2 tasks      | elapsed:    0.0s\n",
      "[Parallel(n_jobs=8)]: Done   6 out of  19 | elapsed:    0.0s remaining:    0.0s\n",
      "[Parallel(n_jobs=8)]: Done   8 out of  19 | elapsed:    0.0s remaining:    0.0s\n",
      "[Parallel(n_jobs=8)]: Done  10 out of  19 | elapsed:    0.0s remaining:    0.0s\n",
      "[Parallel(n_jobs=8)]: Done  12 out of  19 | elapsed:    0.0s remaining:    0.0s\n",
      "[Parallel(n_jobs=8)]: Done  14 out of  19 | elapsed:    0.0s remaining:    0.0s\n",
      "[Parallel(n_jobs=8)]: Done  16 out of  19 | elapsed:    0.0s remaining:    0.0s\n",
      "[Parallel(n_jobs=8)]: Done  19 out of  19 | elapsed:    0.0s finished\n",
      "/home/justin/anaconda3/lib/python3.6/site-packages/sklearn/model_selection/_validation.py:458: DataConversionWarning: A column-vector y was passed when a 1d array was expected. Please change the shape of y to (n_samples,), for example using ravel().\n",
      "  estimator.fit(X_train, y_train, **fit_params)\n"
     ]
    },
    {
     "name": "stdout",
     "output_type": "stream",
     "text": [
      "building tree 4 of 19building tree 2 of 19building tree 5 of 19building tree 6 of 19building tree 7 of 19building tree 1 of 19building tree 3 of 19building tree 8 of 19\n",
      "\n",
      "\n",
      "\n",
      "\n",
      "\n",
      "\n",
      "\n",
      "building tree 9 of 19\n",
      "building tree 10 of 19\n",
      "building tree 11 of 19\n",
      "building tree 12 of 19\n",
      "building tree 13 of 19\n",
      "building tree 14 of 19\n"
     ]
    },
    {
     "name": "stderr",
     "output_type": "stream",
     "text": [
      "[Parallel(n_jobs=-1)]: Done   2 tasks      | elapsed:    0.4s\n",
      "[Parallel(n_jobs=-1)]: Done   6 out of  19 | elapsed:    0.6s remaining:    1.2s\n"
     ]
    },
    {
     "name": "stdout",
     "output_type": "stream",
     "text": [
      "building tree 15 of 19\n",
      "building tree 16 of 19\n",
      "building tree 17 of 19\n"
     ]
    },
    {
     "name": "stderr",
     "output_type": "stream",
     "text": [
      "[Parallel(n_jobs=-1)]: Done   8 out of  19 | elapsed:    0.7s remaining:    0.9s\n",
      "[Parallel(n_jobs=-1)]: Done  10 out of  19 | elapsed:    0.8s remaining:    0.7s\n"
     ]
    },
    {
     "name": "stdout",
     "output_type": "stream",
     "text": [
      "building tree 18 of 19\n",
      "building tree 19 of 19\n"
     ]
    },
    {
     "name": "stderr",
     "output_type": "stream",
     "text": [
      "[Parallel(n_jobs=-1)]: Done  12 out of  19 | elapsed:    0.9s remaining:    0.5s\n",
      "[Parallel(n_jobs=-1)]: Done  14 out of  19 | elapsed:    1.1s remaining:    0.4s\n",
      "[Parallel(n_jobs=-1)]: Done  16 out of  19 | elapsed:    1.1s remaining:    0.2s\n",
      "[Parallel(n_jobs=-1)]: Done  19 out of  19 | elapsed:    1.2s finished\n",
      "/home/justin/anaconda3/lib/python3.6/site-packages/sklearn/ensemble/forest.py:724: UserWarning: Some inputs do not have OOB scores. This probably means too few trees were used to compute any reliable oob estimates.\n",
      "  warn(\"Some inputs do not have OOB scores. \"\n",
      "[Parallel(n_jobs=8)]: Done   2 tasks      | elapsed:    0.0s\n",
      "[Parallel(n_jobs=8)]: Done   6 out of  19 | elapsed:    0.0s remaining:    0.0s\n",
      "[Parallel(n_jobs=8)]: Done   8 out of  19 | elapsed:    0.0s remaining:    0.0s\n",
      "[Parallel(n_jobs=8)]: Done  10 out of  19 | elapsed:    0.0s remaining:    0.0s\n",
      "[Parallel(n_jobs=8)]: Done  12 out of  19 | elapsed:    0.0s remaining:    0.0s\n",
      "[Parallel(n_jobs=8)]: Done  14 out of  19 | elapsed:    0.0s remaining:    0.0s\n",
      "[Parallel(n_jobs=8)]: Done  16 out of  19 | elapsed:    0.0s remaining:    0.0s\n",
      "[Parallel(n_jobs=8)]: Done  19 out of  19 | elapsed:    0.0s finished\n",
      "[Parallel(n_jobs=8)]: Done   2 tasks      | elapsed:    0.0s\n",
      "[Parallel(n_jobs=8)]: Done   6 out of  19 | elapsed:    0.0s remaining:    0.0s\n",
      "[Parallel(n_jobs=8)]: Done   8 out of  19 | elapsed:    0.0s remaining:    0.0s\n",
      "[Parallel(n_jobs=8)]: Done  10 out of  19 | elapsed:    0.0s remaining:    0.0s\n",
      "[Parallel(n_jobs=8)]: Done  12 out of  19 | elapsed:    0.0s remaining:    0.0s\n",
      "[Parallel(n_jobs=8)]: Done  14 out of  19 | elapsed:    0.0s remaining:    0.0s\n",
      "[Parallel(n_jobs=8)]: Done  16 out of  19 | elapsed:    0.0s remaining:    0.0s\n",
      "[Parallel(n_jobs=8)]: Done  19 out of  19 | elapsed:    0.0s finished\n",
      "/home/justin/anaconda3/lib/python3.6/site-packages/sklearn/model_selection/_validation.py:458: DataConversionWarning: A column-vector y was passed when a 1d array was expected. Please change the shape of y to (n_samples,), for example using ravel().\n",
      "  estimator.fit(X_train, y_train, **fit_params)\n"
     ]
    },
    {
     "name": "stdout",
     "output_type": "stream",
     "text": [
      "building tree 2 of 19building tree 3 of 19building tree 6 of 19building tree 7 of 19building tree 8 of 19building tree 4 of 19building tree 1 of 19building tree 5 of 19\n",
      "\n",
      "\n",
      "\n",
      "\n",
      "\n",
      "\n",
      "\n",
      "building tree 9 of 19\n",
      "building tree 10 of 19\n",
      "building tree 11 of 19\n",
      "building tree 12 of 19\n",
      "building tree 13 of 19\n",
      "building tree 14 of 19\n"
     ]
    },
    {
     "name": "stderr",
     "output_type": "stream",
     "text": [
      "[Parallel(n_jobs=-1)]: Done   2 tasks      | elapsed:    0.5s\n",
      "[Parallel(n_jobs=-1)]: Done   6 out of  19 | elapsed:    0.6s remaining:    1.3s\n"
     ]
    },
    {
     "name": "stdout",
     "output_type": "stream",
     "text": [
      "building tree 15 of 19\n",
      "building tree 16 of 19\n",
      "building tree 17 of 19\n"
     ]
    },
    {
     "name": "stderr",
     "output_type": "stream",
     "text": [
      "[Parallel(n_jobs=-1)]: Done   8 out of  19 | elapsed:    0.8s remaining:    1.1s\n",
      "[Parallel(n_jobs=-1)]: Done  10 out of  19 | elapsed:    1.0s remaining:    0.9s\n"
     ]
    },
    {
     "name": "stdout",
     "output_type": "stream",
     "text": [
      "building tree 18 of 19\n",
      "building tree 19 of 19\n"
     ]
    },
    {
     "name": "stderr",
     "output_type": "stream",
     "text": [
      "[Parallel(n_jobs=-1)]: Done  12 out of  19 | elapsed:    1.0s remaining:    0.6s\n",
      "[Parallel(n_jobs=-1)]: Done  14 out of  19 | elapsed:    1.1s remaining:    0.4s\n",
      "[Parallel(n_jobs=-1)]: Done  16 out of  19 | elapsed:    1.2s remaining:    0.2s\n",
      "[Parallel(n_jobs=-1)]: Done  19 out of  19 | elapsed:    1.4s finished\n",
      "/home/justin/anaconda3/lib/python3.6/site-packages/sklearn/ensemble/forest.py:724: UserWarning: Some inputs do not have OOB scores. This probably means too few trees were used to compute any reliable oob estimates.\n",
      "  warn(\"Some inputs do not have OOB scores. \"\n",
      "[Parallel(n_jobs=8)]: Done   2 tasks      | elapsed:    0.0s\n",
      "[Parallel(n_jobs=8)]: Done   6 out of  19 | elapsed:    0.0s remaining:    0.0s\n",
      "[Parallel(n_jobs=8)]: Done   8 out of  19 | elapsed:    0.0s remaining:    0.0s\n",
      "[Parallel(n_jobs=8)]: Done  10 out of  19 | elapsed:    0.0s remaining:    0.0s\n",
      "[Parallel(n_jobs=8)]: Done  12 out of  19 | elapsed:    0.0s remaining:    0.0s\n",
      "[Parallel(n_jobs=8)]: Done  14 out of  19 | elapsed:    0.0s remaining:    0.0s\n",
      "[Parallel(n_jobs=8)]: Done  16 out of  19 | elapsed:    0.0s remaining:    0.0s\n",
      "[Parallel(n_jobs=8)]: Done  19 out of  19 | elapsed:    0.0s finished\n",
      "[Parallel(n_jobs=8)]: Done   2 tasks      | elapsed:    0.0s\n",
      "[Parallel(n_jobs=8)]: Done   6 out of  19 | elapsed:    0.0s remaining:    0.0s\n",
      "[Parallel(n_jobs=8)]: Done   8 out of  19 | elapsed:    0.0s remaining:    0.0s\n",
      "[Parallel(n_jobs=8)]: Done  10 out of  19 | elapsed:    0.0s remaining:    0.0s\n",
      "[Parallel(n_jobs=8)]: Done  12 out of  19 | elapsed:    0.0s remaining:    0.0s\n",
      "[Parallel(n_jobs=8)]: Done  14 out of  19 | elapsed:    0.0s remaining:    0.0s\n",
      "[Parallel(n_jobs=8)]: Done  16 out of  19 | elapsed:    0.0s remaining:    0.0s\n",
      "[Parallel(n_jobs=8)]: Done  19 out of  19 | elapsed:    0.0s finished\n",
      "/home/justin/anaconda3/lib/python3.6/site-packages/sklearn/model_selection/_validation.py:458: DataConversionWarning: A column-vector y was passed when a 1d array was expected. Please change the shape of y to (n_samples,), for example using ravel().\n",
      "  estimator.fit(X_train, y_train, **fit_params)\n"
     ]
    },
    {
     "name": "stdout",
     "output_type": "stream",
     "text": [
      "building tree 2 of 10building tree 4 of 10\n",
      "building tree 3 of 10building tree 6 of 10building tree 7 of 10building tree 8 of 10building tree 1 of 10\n",
      "\n",
      "\n",
      "\n",
      "\n",
      "\n",
      "building tree 5 of 10\n",
      "building tree 9 of 10\n",
      "building tree 10 of 10\n"
     ]
    },
    {
     "name": "stderr",
     "output_type": "stream",
     "text": [
      "[Parallel(n_jobs=-1)]: Done   3 out of  10 | elapsed:    0.5s remaining:    1.2s\n",
      "[Parallel(n_jobs=-1)]: Done   5 out of  10 | elapsed:    0.5s remaining:    0.5s\n",
      "[Parallel(n_jobs=-1)]: Done   7 out of  10 | elapsed:    0.6s remaining:    0.3s\n",
      "[Parallel(n_jobs=-1)]: Done  10 out of  10 | elapsed:    0.8s finished\n",
      "/home/justin/anaconda3/lib/python3.6/site-packages/sklearn/ensemble/forest.py:724: UserWarning: Some inputs do not have OOB scores. This probably means too few trees were used to compute any reliable oob estimates.\n",
      "  warn(\"Some inputs do not have OOB scores. \"\n",
      "[Parallel(n_jobs=8)]: Done   3 out of  10 | elapsed:    0.0s remaining:    0.0s\n",
      "[Parallel(n_jobs=8)]: Done   5 out of  10 | elapsed:    0.0s remaining:    0.0s\n",
      "[Parallel(n_jobs=8)]: Done   7 out of  10 | elapsed:    0.0s remaining:    0.0s\n",
      "[Parallel(n_jobs=8)]: Done  10 out of  10 | elapsed:    0.0s finished\n",
      "[Parallel(n_jobs=8)]: Done   3 out of  10 | elapsed:    0.0s remaining:    0.0s\n",
      "[Parallel(n_jobs=8)]: Done   5 out of  10 | elapsed:    0.0s remaining:    0.0s\n",
      "[Parallel(n_jobs=8)]: Done   7 out of  10 | elapsed:    0.0s remaining:    0.0s\n",
      "[Parallel(n_jobs=8)]: Done  10 out of  10 | elapsed:    0.0s finished\n",
      "/home/justin/anaconda3/lib/python3.6/site-packages/sklearn/model_selection/_validation.py:458: DataConversionWarning: A column-vector y was passed when a 1d array was expected. Please change the shape of y to (n_samples,), for example using ravel().\n",
      "  estimator.fit(X_train, y_train, **fit_params)\n"
     ]
    },
    {
     "name": "stdout",
     "output_type": "stream",
     "text": [
      "building tree 3 of 10building tree 5 of 10building tree 7 of 10building tree 1 of 10building tree 2 of 10building tree 4 of 10building tree 6 of 10\n",
      "building tree 8 of 10\n",
      "\n",
      "\n",
      "\n",
      "\n",
      "\n",
      "\n",
      "building tree 9 of 10\n",
      "building tree 10 of 10\n"
     ]
    },
    {
     "name": "stderr",
     "output_type": "stream",
     "text": [
      "[Parallel(n_jobs=-1)]: Done   3 out of  10 | elapsed:    0.6s remaining:    1.4s\n",
      "[Parallel(n_jobs=-1)]: Done   5 out of  10 | elapsed:    0.6s remaining:    0.6s\n",
      "[Parallel(n_jobs=-1)]: Done   7 out of  10 | elapsed:    0.7s remaining:    0.3s\n",
      "[Parallel(n_jobs=-1)]: Done  10 out of  10 | elapsed:    1.1s finished\n",
      "/home/justin/anaconda3/lib/python3.6/site-packages/sklearn/ensemble/forest.py:724: UserWarning: Some inputs do not have OOB scores. This probably means too few trees were used to compute any reliable oob estimates.\n",
      "  warn(\"Some inputs do not have OOB scores. \"\n",
      "[Parallel(n_jobs=8)]: Done   3 out of  10 | elapsed:    0.0s remaining:    0.0s\n",
      "[Parallel(n_jobs=8)]: Done   5 out of  10 | elapsed:    0.0s remaining:    0.0s\n",
      "[Parallel(n_jobs=8)]: Done   7 out of  10 | elapsed:    0.0s remaining:    0.0s\n",
      "[Parallel(n_jobs=8)]: Done  10 out of  10 | elapsed:    0.0s finished\n",
      "[Parallel(n_jobs=8)]: Done   3 out of  10 | elapsed:    0.0s remaining:    0.0s\n",
      "[Parallel(n_jobs=8)]: Done   5 out of  10 | elapsed:    0.0s remaining:    0.0s\n",
      "[Parallel(n_jobs=8)]: Done   7 out of  10 | elapsed:    0.0s remaining:    0.0s\n",
      "[Parallel(n_jobs=8)]: Done  10 out of  10 | elapsed:    0.0s finished\n",
      "/home/justin/anaconda3/lib/python3.6/site-packages/sklearn/model_selection/_validation.py:458: DataConversionWarning: A column-vector y was passed when a 1d array was expected. Please change the shape of y to (n_samples,), for example using ravel().\n",
      "  estimator.fit(X_train, y_train, **fit_params)\n"
     ]
    },
    {
     "name": "stdout",
     "output_type": "stream",
     "text": [
      "building tree 2 of 10\n",
      "building tree 3 of 10building tree 4 of 10building tree 1 of 10building tree 6 of 10building tree 8 of 10building tree 5 of 10building tree 7 of 10\n",
      "\n",
      "\n",
      "\n",
      "\n",
      "\n",
      "\n",
      "building tree 9 of 10\n",
      "building tree 10 of 10\n"
     ]
    },
    {
     "name": "stderr",
     "output_type": "stream",
     "text": [
      "[Parallel(n_jobs=-1)]: Done   3 out of  10 | elapsed:    0.7s remaining:    1.7s\n",
      "[Parallel(n_jobs=-1)]: Done   5 out of  10 | elapsed:    0.8s remaining:    0.8s\n",
      "[Parallel(n_jobs=-1)]: Done   7 out of  10 | elapsed:    0.8s remaining:    0.4s\n",
      "[Parallel(n_jobs=-1)]: Done  10 out of  10 | elapsed:    1.2s finished\n",
      "/home/justin/anaconda3/lib/python3.6/site-packages/sklearn/ensemble/forest.py:724: UserWarning: Some inputs do not have OOB scores. This probably means too few trees were used to compute any reliable oob estimates.\n",
      "  warn(\"Some inputs do not have OOB scores. \"\n",
      "[Parallel(n_jobs=8)]: Done   3 out of  10 | elapsed:    0.0s remaining:    0.0s\n",
      "[Parallel(n_jobs=8)]: Done   5 out of  10 | elapsed:    0.0s remaining:    0.0s\n",
      "[Parallel(n_jobs=8)]: Done   7 out of  10 | elapsed:    0.0s remaining:    0.0s\n",
      "[Parallel(n_jobs=8)]: Done  10 out of  10 | elapsed:    0.0s finished\n",
      "[Parallel(n_jobs=8)]: Done   3 out of  10 | elapsed:    0.0s remaining:    0.0s\n",
      "[Parallel(n_jobs=8)]: Done   5 out of  10 | elapsed:    0.0s remaining:    0.0s\n",
      "[Parallel(n_jobs=8)]: Done   7 out of  10 | elapsed:    0.0s remaining:    0.0s\n",
      "[Parallel(n_jobs=8)]: Done  10 out of  10 | elapsed:    0.0s finished\n",
      "/home/justin/anaconda3/lib/python3.6/site-packages/sklearn/model_selection/_validation.py:458: DataConversionWarning: A column-vector y was passed when a 1d array was expected. Please change the shape of y to (n_samples,), for example using ravel().\n",
      "  estimator.fit(X_train, y_train, **fit_params)\n"
     ]
    },
    {
     "name": "stdout",
     "output_type": "stream",
     "text": [
      "building tree 2 of 40\n",
      "building tree 3 of 40building tree 4 of 40building tree 6 of 40building tree 1 of 40building tree 5 of 40building tree 7 of 40building tree 8 of 40\n",
      "\n",
      "\n",
      "\n",
      "\n",
      "\n",
      "\n",
      "building tree 9 of 40\n",
      "building tree 10 of 40\n",
      "building tree 11 of 40\n",
      "building tree 12 of 40\n"
     ]
    },
    {
     "name": "stderr",
     "output_type": "stream",
     "text": [
      "[Parallel(n_jobs=-1)]: Done   2 tasks      | elapsed:    0.7s\n"
     ]
    },
    {
     "name": "stdout",
     "output_type": "stream",
     "text": [
      "building tree 14 of 40\n",
      "building tree 13 of 40\n",
      "building tree 15 of 40\n",
      "building tree 16 of 40\n",
      "building tree 17 of 40\n"
     ]
    },
    {
     "name": "stderr",
     "output_type": "stream",
     "text": [
      "[Parallel(n_jobs=-1)]: Done   9 tasks      | elapsed:    1.3s\n"
     ]
    },
    {
     "name": "stdout",
     "output_type": "stream",
     "text": [
      "building tree 18 of 40\n",
      "building tree 19 of 40\n",
      "building tree 20 of 40\n",
      "building tree 21 of 40\n",
      "building tree 22 of 40\n",
      "building tree 23 of 40\n"
     ]
    },
    {
     "name": "stderr",
     "output_type": "stream",
     "text": [
      "[Parallel(n_jobs=-1)]: Done  16 tasks      | elapsed:    2.0s\n"
     ]
    },
    {
     "name": "stdout",
     "output_type": "stream",
     "text": [
      "building tree 24 of 40\n",
      "building tree 25 of 40\n",
      "building tree 26 of 40\n",
      "building tree 27 of 40\n",
      "building tree 28 of 40\n",
      "building tree 29 of 40\n",
      "building tree 30 of 40\n",
      "building tree 31 of 40\n",
      "building tree 32 of 40\n"
     ]
    },
    {
     "name": "stderr",
     "output_type": "stream",
     "text": [
      "[Parallel(n_jobs=-1)]: Done  25 tasks      | elapsed:    3.0s\n"
     ]
    },
    {
     "name": "stdout",
     "output_type": "stream",
     "text": [
      "building tree 33 of 40\n",
      "building tree 34 of 40\n",
      "building tree 35 of 40\n",
      "building tree 36 of 40\n",
      "building tree 37 of 40\n",
      "building tree 38 of 40\n",
      "building tree 39 of 40"
     ]
    },
    {
     "name": "stderr",
     "output_type": "stream",
     "text": [
      "[Parallel(n_jobs=-1)]: Done  30 out of  40 | elapsed:    3.3s remaining:    1.1s\n"
     ]
    },
    {
     "name": "stdout",
     "output_type": "stream",
     "text": [
      "\n",
      "building tree 40 of 40\n"
     ]
    },
    {
     "name": "stderr",
     "output_type": "stream",
     "text": [
      "[Parallel(n_jobs=-1)]: Done  35 out of  40 | elapsed:    3.9s remaining:    0.6s\n",
      "[Parallel(n_jobs=-1)]: Done  40 out of  40 | elapsed:    4.2s remaining:    0.0s\n",
      "[Parallel(n_jobs=-1)]: Done  40 out of  40 | elapsed:    4.2s finished\n",
      "[Parallel(n_jobs=8)]: Done   2 tasks      | elapsed:    0.0s\n",
      "[Parallel(n_jobs=8)]: Done   9 tasks      | elapsed:    0.0s\n",
      "[Parallel(n_jobs=8)]: Done  16 tasks      | elapsed:    0.0s\n",
      "[Parallel(n_jobs=8)]: Done  25 tasks      | elapsed:    0.0s\n",
      "[Parallel(n_jobs=8)]: Done  30 out of  40 | elapsed:    0.0s remaining:    0.0s\n",
      "[Parallel(n_jobs=8)]: Done  35 out of  40 | elapsed:    0.0s remaining:    0.0s\n",
      "[Parallel(n_jobs=8)]: Done  40 out of  40 | elapsed:    0.1s remaining:    0.0s\n",
      "[Parallel(n_jobs=8)]: Done  40 out of  40 | elapsed:    0.1s finished\n",
      "[Parallel(n_jobs=8)]: Done   2 tasks      | elapsed:    0.0s\n",
      "[Parallel(n_jobs=8)]: Done   9 tasks      | elapsed:    0.0s\n",
      "[Parallel(n_jobs=8)]: Done  16 tasks      | elapsed:    0.0s\n",
      "[Parallel(n_jobs=8)]: Done  25 tasks      | elapsed:    0.1s\n",
      "[Parallel(n_jobs=8)]: Done  30 out of  40 | elapsed:    0.1s remaining:    0.0s\n",
      "[Parallel(n_jobs=8)]: Done  35 out of  40 | elapsed:    0.1s remaining:    0.0s\n",
      "[Parallel(n_jobs=8)]: Done  40 out of  40 | elapsed:    0.1s remaining:    0.0s\n",
      "[Parallel(n_jobs=8)]: Done  40 out of  40 | elapsed:    0.1s finished\n",
      "/home/justin/anaconda3/lib/python3.6/site-packages/sklearn/model_selection/_validation.py:458: DataConversionWarning: A column-vector y was passed when a 1d array was expected. Please change the shape of y to (n_samples,), for example using ravel().\n",
      "  estimator.fit(X_train, y_train, **fit_params)\n"
     ]
    },
    {
     "name": "stdout",
     "output_type": "stream",
     "text": [
      "building tree 3 of 40building tree 4 of 40building tree 2 of 40building tree 1 of 40building tree 5 of 40building tree 7 of 40building tree 8 of 40building tree 6 of 40\n",
      "\n",
      "\n",
      "\n",
      "\n",
      "\n",
      "\n",
      "\n",
      "building tree 9 of 40\n",
      "building tree 10 of 40\n",
      "building tree 11 of 40\n",
      "building tree 12 of 40\n"
     ]
    },
    {
     "name": "stderr",
     "output_type": "stream",
     "text": [
      "[Parallel(n_jobs=-1)]: Done   2 tasks      | elapsed:    0.9s\n"
     ]
    },
    {
     "name": "stdout",
     "output_type": "stream",
     "text": [
      "building tree 13 of 40\n",
      "building tree 14 of 40\n",
      "building tree 15 of 40\n",
      "building tree 16 of 40\n"
     ]
    },
    {
     "name": "stderr",
     "output_type": "stream",
     "text": [
      "[Parallel(n_jobs=-1)]: Done   9 tasks      | elapsed:    2.0s\n"
     ]
    },
    {
     "name": "stdout",
     "output_type": "stream",
     "text": [
      "building tree 17 of 40\n",
      "building tree 18 of 40\n",
      "building tree 19 of 40\n",
      "building tree 20 of 40\n",
      "building tree 21 of 40\n",
      "building tree 22 of 40\n",
      "building tree 23 of 40\n"
     ]
    },
    {
     "name": "stderr",
     "output_type": "stream",
     "text": [
      "[Parallel(n_jobs=-1)]: Done  16 tasks      | elapsed:    2.6s\n"
     ]
    },
    {
     "name": "stdout",
     "output_type": "stream",
     "text": [
      "building tree 24 of 40\n",
      "building tree 25 of 40\n",
      "building tree 26 of 40\n",
      "building tree 27 of 40\n",
      "building tree 28 of 40\n",
      "building tree 29 of 40\n",
      "building tree 30 of 40\n",
      "building tree 31 of 40\n",
      "building tree 32 of 40\n"
     ]
    },
    {
     "name": "stderr",
     "output_type": "stream",
     "text": [
      "[Parallel(n_jobs=-1)]: Done  25 tasks      | elapsed:    4.0s\n"
     ]
    },
    {
     "name": "stdout",
     "output_type": "stream",
     "text": [
      "building tree 33 of 40\n",
      "building tree 34 of 40\n",
      "building tree 35 of 40\n",
      "building tree 36 of 40\n",
      "building tree 37 of 40\n"
     ]
    },
    {
     "name": "stderr",
     "output_type": "stream",
     "text": [
      "[Parallel(n_jobs=-1)]: Done  30 out of  40 | elapsed:    4.5s remaining:    1.5s\n"
     ]
    },
    {
     "name": "stdout",
     "output_type": "stream",
     "text": [
      "building tree 38 of 40\n",
      "building tree 39 of 40\n",
      "building tree 40 of 40\n"
     ]
    },
    {
     "name": "stderr",
     "output_type": "stream",
     "text": [
      "[Parallel(n_jobs=-1)]: Done  35 out of  40 | elapsed:    5.4s remaining:    0.8s\n",
      "[Parallel(n_jobs=-1)]: Done  40 out of  40 | elapsed:    5.6s remaining:    0.0s\n",
      "[Parallel(n_jobs=-1)]: Done  40 out of  40 | elapsed:    5.6s finished\n",
      "[Parallel(n_jobs=8)]: Done   2 tasks      | elapsed:    0.0s\n",
      "[Parallel(n_jobs=8)]: Done   9 tasks      | elapsed:    0.0s\n",
      "[Parallel(n_jobs=8)]: Done  16 tasks      | elapsed:    0.0s\n",
      "[Parallel(n_jobs=8)]: Done  25 tasks      | elapsed:    0.0s\n",
      "[Parallel(n_jobs=8)]: Done  30 out of  40 | elapsed:    0.0s remaining:    0.0s\n",
      "[Parallel(n_jobs=8)]: Done  35 out of  40 | elapsed:    0.0s remaining:    0.0s\n",
      "[Parallel(n_jobs=8)]: Done  40 out of  40 | elapsed:    0.0s remaining:    0.0s\n",
      "[Parallel(n_jobs=8)]: Done  40 out of  40 | elapsed:    0.0s finished\n",
      "[Parallel(n_jobs=8)]: Done   2 tasks      | elapsed:    0.0s\n",
      "[Parallel(n_jobs=8)]: Done   9 tasks      | elapsed:    0.0s\n",
      "[Parallel(n_jobs=8)]: Done  16 tasks      | elapsed:    0.0s\n",
      "[Parallel(n_jobs=8)]: Done  25 tasks      | elapsed:    0.1s\n",
      "[Parallel(n_jobs=8)]: Done  30 out of  40 | elapsed:    0.1s remaining:    0.0s\n",
      "[Parallel(n_jobs=8)]: Done  35 out of  40 | elapsed:    0.1s remaining:    0.0s\n",
      "[Parallel(n_jobs=8)]: Done  40 out of  40 | elapsed:    0.1s remaining:    0.0s\n",
      "[Parallel(n_jobs=8)]: Done  40 out of  40 | elapsed:    0.1s finished\n",
      "/home/justin/anaconda3/lib/python3.6/site-packages/sklearn/model_selection/_validation.py:458: DataConversionWarning: A column-vector y was passed when a 1d array was expected. Please change the shape of y to (n_samples,), for example using ravel().\n",
      "  estimator.fit(X_train, y_train, **fit_params)\n"
     ]
    },
    {
     "name": "stdout",
     "output_type": "stream",
     "text": [
      "building tree 1 of 40\n",
      "building tree 4 of 40building tree 5 of 40building tree 3 of 40building tree 6 of 40building tree 7 of 40building tree 2 of 40building tree 8 of 40\n",
      "\n",
      "\n",
      "\n",
      "\n",
      "\n",
      "\n",
      "building tree 9 of 40\n",
      "building tree 10 of 40\n",
      "building tree 11 of 40\n",
      "building tree 12 of 40\n",
      "building tree 13 of 40\n"
     ]
    },
    {
     "name": "stderr",
     "output_type": "stream",
     "text": [
      "[Parallel(n_jobs=-1)]: Done   2 tasks      | elapsed:    1.1s\n"
     ]
    },
    {
     "name": "stdout",
     "output_type": "stream",
     "text": [
      "building tree 14 of 40\n",
      "building tree 15 of 40\n",
      "building tree 16 of 40\n"
     ]
    },
    {
     "name": "stderr",
     "output_type": "stream",
     "text": [
      "[Parallel(n_jobs=-1)]: Done   9 tasks      | elapsed:    2.4s\n"
     ]
    },
    {
     "name": "stdout",
     "output_type": "stream",
     "text": [
      "building tree 17 of 40building tree 18 of 40\n",
      "\n",
      "building tree 19 of 40\n",
      "building tree 20 of 40\n",
      "building tree 21 of 40\n",
      "building tree 22 of 40\n",
      "building tree 23 of 40\n"
     ]
    },
    {
     "name": "stderr",
     "output_type": "stream",
     "text": [
      "[Parallel(n_jobs=-1)]: Done  16 tasks      | elapsed:    3.1s\n"
     ]
    },
    {
     "name": "stdout",
     "output_type": "stream",
     "text": [
      "building tree 24 of 40\n",
      "building tree 25 of 40\n",
      "building tree 26 of 40\n",
      "building tree 27 of 40\n",
      "building tree 28 of 40\n",
      "building tree 29 of 40\n",
      "building tree 30 of 40\n",
      "building tree 31 of 40\n",
      "building tree 32 of 40\n"
     ]
    },
    {
     "name": "stderr",
     "output_type": "stream",
     "text": [
      "[Parallel(n_jobs=-1)]: Done  25 tasks      | elapsed:    4.8s\n"
     ]
    },
    {
     "name": "stdout",
     "output_type": "stream",
     "text": [
      "building tree 33 of 40\n",
      "building tree 34 of 40\n",
      "building tree 35 of 40\n",
      "building tree 36 of 40\n",
      "building tree 37 of 40\n",
      "building tree 38 of 40\n",
      "building tree 39 of 40\n",
      "building tree 40 of 40\n"
     ]
    },
    {
     "name": "stderr",
     "output_type": "stream",
     "text": [
      "[Parallel(n_jobs=-1)]: Done  30 out of  40 | elapsed:    5.5s remaining:    1.8s\n",
      "[Parallel(n_jobs=-1)]: Done  35 out of  40 | elapsed:    6.5s remaining:    0.9s\n",
      "[Parallel(n_jobs=-1)]: Done  40 out of  40 | elapsed:    6.9s remaining:    0.0s\n",
      "[Parallel(n_jobs=-1)]: Done  40 out of  40 | elapsed:    6.9s finished\n",
      "[Parallel(n_jobs=8)]: Done   2 tasks      | elapsed:    0.0s\n",
      "[Parallel(n_jobs=8)]: Done   9 tasks      | elapsed:    0.0s\n",
      "[Parallel(n_jobs=8)]: Done  16 tasks      | elapsed:    0.0s\n",
      "[Parallel(n_jobs=8)]: Done  25 tasks      | elapsed:    0.0s\n",
      "[Parallel(n_jobs=8)]: Done  30 out of  40 | elapsed:    0.0s remaining:    0.0s\n",
      "[Parallel(n_jobs=8)]: Done  35 out of  40 | elapsed:    0.0s remaining:    0.0s\n",
      "[Parallel(n_jobs=8)]: Done  40 out of  40 | elapsed:    0.1s remaining:    0.0s\n",
      "[Parallel(n_jobs=8)]: Done  40 out of  40 | elapsed:    0.1s finished\n",
      "[Parallel(n_jobs=8)]: Done   2 tasks      | elapsed:    0.0s\n",
      "[Parallel(n_jobs=8)]: Done   9 tasks      | elapsed:    0.0s\n",
      "[Parallel(n_jobs=8)]: Done  16 tasks      | elapsed:    0.0s\n",
      "[Parallel(n_jobs=8)]: Done  25 tasks      | elapsed:    0.1s\n",
      "[Parallel(n_jobs=8)]: Done  30 out of  40 | elapsed:    0.1s remaining:    0.0s\n",
      "[Parallel(n_jobs=8)]: Done  35 out of  40 | elapsed:    0.1s remaining:    0.0s\n",
      "[Parallel(n_jobs=8)]: Done  40 out of  40 | elapsed:    0.1s remaining:    0.0s\n",
      "[Parallel(n_jobs=8)]: Done  40 out of  40 | elapsed:    0.1s finished\n",
      "/home/justin/anaconda3/lib/python3.6/site-packages/sklearn/model_selection/_validation.py:458: DataConversionWarning: A column-vector y was passed when a 1d array was expected. Please change the shape of y to (n_samples,), for example using ravel().\n",
      "  estimator.fit(X_train, y_train, **fit_params)\n",
      "[Parallel(n_jobs=-1)]: Done   2 tasks      | elapsed:    0.0s\n",
      "[Parallel(n_jobs=-1)]: Done   9 tasks      | elapsed:    0.1s\n"
     ]
    },
    {
     "name": "stdout",
     "output_type": "stream",
     "text": [
      "building tree 2 of 89building tree 1 of 89building tree 4 of 89building tree 5 of 89building tree 3 of 89building tree 6 of 89\n",
      "building tree 7 of 89building tree 8 of 89\n",
      "\n",
      "\n",
      "\n",
      "\n",
      "\n",
      "\n",
      "building tree 9 of 89\n",
      "building tree 11 of 89\n",
      "building tree 10 of 89\n",
      "building tree 12 of 89\n",
      "building tree 13 of 89\n",
      "building tree 14 of 89\n",
      "building tree 15 of 89\n",
      "building tree 16 of 89\n",
      "building tree 17 of 89\n",
      "building tree 18 of 89\n",
      "building tree 19 of 89\n",
      "building tree 20 of 89\n",
      "building tree 21 of 89\n",
      "building tree 22 of 89\n",
      "building tree 23 of 89\n",
      "building tree 24 of 89\n",
      "building tree 25 of 89\n",
      "building tree 26 of 89\n",
      "building tree 27 of 89\n",
      "building tree 28 of 89\n",
      "building tree 29 of 89\n",
      "building tree 30 of 89\n",
      "building tree 31 of 89\n",
      "building tree 33 of 89\n",
      "building tree 32 of 89building tree 34 of 89\n"
     ]
    },
    {
     "name": "stderr",
     "output_type": "stream",
     "text": [
      "[Parallel(n_jobs=-1)]: Done  16 tasks      | elapsed:    0.1s\n",
      "[Parallel(n_jobs=-1)]: Done  25 tasks      | elapsed:    0.2s\n",
      "[Parallel(n_jobs=-1)]: Done  34 tasks      | elapsed:    0.3s\n",
      "[Parallel(n_jobs=-1)]: Done  45 tasks      | elapsed:    0.3s\n"
     ]
    },
    {
     "name": "stdout",
     "output_type": "stream",
     "text": [
      "building tree 35 of 89\n",
      "building tree 36 of 89\n",
      "\n",
      "building tree 37 of 89\n",
      "building tree 38 of 89\n",
      "building tree 39 of 89building tree 40 of 89\n",
      "\n",
      "building tree 41 of 89\n",
      "building tree 42 of 89\n",
      "building tree 43 of 89\n",
      "building tree 44 of 89\n",
      "building tree 45 of 89\n",
      "building tree 46 of 89\n",
      "building tree 47 of 89\n",
      "building tree 48 of 89\n",
      "building tree 49 of 89\n",
      "building tree 50 of 89\n",
      "building tree 51 of 89\n",
      "building tree 52 of 89\n",
      "building tree 54 of 89\n",
      "building tree 53 of 89\n",
      "building tree 56 of 89\n",
      "building tree 57 of 89\n",
      "building tree 58 of 89\n",
      "building tree 59 of 89\n",
      "building tree 55 of 89\n",
      "building tree 60 of 89\n",
      "building tree 63 of 89building tree 62 of 89\n",
      "building tree 64 of 89\n",
      "building tree 65 of 89\n",
      "building tree 61 of 89\n",
      "building tree 66 of 89\n",
      "\n"
     ]
    },
    {
     "name": "stderr",
     "output_type": "stream",
     "text": [
      "[Parallel(n_jobs=-1)]: Done  56 tasks      | elapsed:    0.4s\n",
      "[Parallel(n_jobs=-1)]: Done  69 tasks      | elapsed:    0.5s\n",
      "[Parallel(n_jobs=-1)]: Done  83 out of  89 | elapsed:    0.6s remaining:    0.0s\n"
     ]
    },
    {
     "name": "stdout",
     "output_type": "stream",
     "text": [
      "building tree 67 of 89\n",
      "building tree 68 of 89\n",
      "building tree 70 of 89\n",
      "building tree 71 of 89\n",
      "building tree 69 of 89\n",
      "building tree 73 of 89\n",
      "building tree 74 of 89building tree 72 of 89\n",
      "\n",
      "building tree 75 of 89\n",
      "building tree 76 of 89\n",
      "building tree 77 of 89\n",
      "building tree 79 of 89building tree 78 of 89\n",
      "\n",
      "building tree 80 of 89\n",
      "building tree 81 of 89\n",
      "building tree 83 of 89building tree 84 of 89\n",
      "\n",
      "building tree 82 of 89building tree 85 of 89\n",
      "\n",
      "building tree 86 of 89\n",
      "building tree 87 of 89\n",
      "building tree 88 of 89\n",
      "building tree 89 of 89\n"
     ]
    },
    {
     "name": "stderr",
     "output_type": "stream",
     "text": [
      "[Parallel(n_jobs=-1)]: Done  89 out of  89 | elapsed:    0.6s finished\n",
      "[Parallel(n_jobs=8)]: Done   2 tasks      | elapsed:    0.0s\n",
      "[Parallel(n_jobs=8)]: Done   9 tasks      | elapsed:    0.0s\n",
      "[Parallel(n_jobs=8)]: Done  16 tasks      | elapsed:    0.0s\n",
      "[Parallel(n_jobs=8)]: Done  25 tasks      | elapsed:    0.0s\n",
      "[Parallel(n_jobs=8)]: Done  34 tasks      | elapsed:    0.0s\n",
      "[Parallel(n_jobs=8)]: Done  45 tasks      | elapsed:    0.0s\n",
      "[Parallel(n_jobs=8)]: Done  56 tasks      | elapsed:    0.0s\n",
      "[Parallel(n_jobs=8)]: Done  69 tasks      | elapsed:    0.0s\n",
      "[Parallel(n_jobs=8)]: Done  83 out of  89 | elapsed:    0.0s remaining:    0.0s\n",
      "[Parallel(n_jobs=8)]: Done  89 out of  89 | elapsed:    0.0s finished\n",
      "[Parallel(n_jobs=8)]: Done   2 tasks      | elapsed:    0.0s\n",
      "[Parallel(n_jobs=8)]: Done   9 tasks      | elapsed:    0.0s\n",
      "[Parallel(n_jobs=8)]: Done  16 tasks      | elapsed:    0.0s\n",
      "[Parallel(n_jobs=8)]: Done  25 tasks      | elapsed:    0.0s\n",
      "[Parallel(n_jobs=8)]: Done  34 tasks      | elapsed:    0.0s\n",
      "[Parallel(n_jobs=8)]: Done  45 tasks      | elapsed:    0.0s\n",
      "[Parallel(n_jobs=8)]: Done  56 tasks      | elapsed:    0.0s\n",
      "[Parallel(n_jobs=8)]: Done  69 tasks      | elapsed:    0.1s\n",
      "[Parallel(n_jobs=8)]: Done  83 out of  89 | elapsed:    0.1s remaining:    0.0s\n",
      "[Parallel(n_jobs=8)]: Done  89 out of  89 | elapsed:    0.1s finished\n",
      "/home/justin/anaconda3/lib/python3.6/site-packages/sklearn/model_selection/_validation.py:458: DataConversionWarning: A column-vector y was passed when a 1d array was expected. Please change the shape of y to (n_samples,), for example using ravel().\n",
      "  estimator.fit(X_train, y_train, **fit_params)\n",
      "[Parallel(n_jobs=-1)]: Done   2 tasks      | elapsed:    0.0s\n",
      "[Parallel(n_jobs=-1)]: Done   9 tasks      | elapsed:    0.1s\n"
     ]
    },
    {
     "name": "stdout",
     "output_type": "stream",
     "text": [
      "building tree 3 of 89building tree 5 of 89building tree 6 of 89building tree 7 of 89building tree 1 of 89building tree 4 of 89\n",
      "building tree 2 of 89building tree 8 of 89\n",
      "\n",
      "\n",
      "\n",
      "\n",
      "\n",
      "\n",
      "building tree 9 of 89\n",
      "building tree 11 of 89\n",
      "building tree 10 of 89\n",
      "building tree 13 of 89\n",
      "building tree 12 of 89\n",
      "building tree 15 of 89\n",
      "building tree 14 of 89\n",
      "building tree 16 of 89\n",
      "building tree 17 of 89\n",
      "building tree 18 of 89\n",
      "building tree 19 of 89building tree 20 of 89\n",
      "\n",
      "building tree 22 of 89\n",
      "building tree 23 of 89\n",
      "building tree 24 of 89\n",
      "building tree 21 of 89\n",
      "building tree 25 of 89\n",
      "building tree 26 of 89\n",
      "building tree 27 of 89\n",
      "building tree 28 of 89\n",
      "building tree 29 of 89\n",
      "building tree 30 of 89building tree 31 of 89\n",
      "building tree 32 of 89\n",
      "\n",
      "building tree 33 of 89"
     ]
    },
    {
     "name": "stderr",
     "output_type": "stream",
     "text": [
      "[Parallel(n_jobs=-1)]: Done  16 tasks      | elapsed:    0.1s\n",
      "[Parallel(n_jobs=-1)]: Done  25 tasks      | elapsed:    0.2s\n",
      "[Parallel(n_jobs=-1)]: Done  34 tasks      | elapsed:    0.2s\n",
      "[Parallel(n_jobs=-1)]: Done  45 tasks      | elapsed:    0.3s\n"
     ]
    },
    {
     "name": "stdout",
     "output_type": "stream",
     "text": [
      "\n",
      "building tree 34 of 89\n",
      "building tree 35 of 89\n",
      "building tree 36 of 89\n",
      "building tree 37 of 89\n",
      "building tree 38 of 89\n",
      "building tree 39 of 89\n",
      "building tree 40 of 89\n",
      "building tree 41 of 89\n",
      "building tree 43 of 89\n",
      "building tree 44 of 89\n",
      "building tree 42 of 89building tree 45 of 89\n",
      "\n",
      "building tree 46 of 89\n",
      "building tree 47 of 89building tree 48 of 89\n",
      "building tree 49 of 89\n",
      "\n",
      "building tree 50 of 89\n",
      "building tree 51 of 89\n",
      "building tree 52 of 89\n",
      "building tree 53 of 89\n",
      "building tree 54 of 89\n",
      "building tree 55 of 89\n",
      "building tree 56 of 89\n",
      "building tree 57 of 89building tree 58 of 89\n",
      "\n",
      "building tree 59 of 89\n",
      "building tree 60 of 89\n",
      "building tree 61 of 89\n",
      "building tree 62 of 89\n",
      "building tree 63 of 89\n"
     ]
    },
    {
     "name": "stderr",
     "output_type": "stream",
     "text": [
      "[Parallel(n_jobs=-1)]: Done  56 tasks      | elapsed:    0.4s\n",
      "[Parallel(n_jobs=-1)]: Done  69 tasks      | elapsed:    0.5s\n",
      "[Parallel(n_jobs=-1)]: Done  83 out of  89 | elapsed:    0.6s remaining:    0.0s\n"
     ]
    },
    {
     "name": "stdout",
     "output_type": "stream",
     "text": [
      "building tree 64 of 89\n",
      "building tree 65 of 89\n",
      "building tree 66 of 89\n",
      "building tree 67 of 89\n",
      "building tree 68 of 89\n",
      "building tree 69 of 89\n",
      "building tree 70 of 89\n",
      "building tree 71 of 89\n",
      "building tree 72 of 89\n",
      "building tree 73 of 89\n",
      "building tree 75 of 89\n",
      "building tree 74 of 89\n",
      "building tree 76 of 89\n",
      "building tree 78 of 89\n",
      "building tree 77 of 89\n",
      "building tree 79 of 89\n",
      "building tree 80 of 89\n",
      "building tree 81 of 89\n",
      "building tree 82 of 89\n",
      "building tree 83 of 89\n",
      "building tree 84 of 89\n",
      "building tree 85 of 89\n",
      "building tree 87 of 89\n",
      "building tree 86 of 89\n",
      "building tree 88 of 89\n",
      "building tree 89 of 89\n"
     ]
    },
    {
     "name": "stderr",
     "output_type": "stream",
     "text": [
      "[Parallel(n_jobs=-1)]: Done  89 out of  89 | elapsed:    0.6s finished\n",
      "[Parallel(n_jobs=8)]: Done   2 tasks      | elapsed:    0.0s\n",
      "[Parallel(n_jobs=8)]: Done   9 tasks      | elapsed:    0.0s\n",
      "[Parallel(n_jobs=8)]: Done  16 tasks      | elapsed:    0.0s\n",
      "[Parallel(n_jobs=8)]: Done  25 tasks      | elapsed:    0.0s\n",
      "[Parallel(n_jobs=8)]: Done  34 tasks      | elapsed:    0.0s\n",
      "[Parallel(n_jobs=8)]: Done  45 tasks      | elapsed:    0.0s\n",
      "[Parallel(n_jobs=8)]: Done  56 tasks      | elapsed:    0.0s\n",
      "[Parallel(n_jobs=8)]: Done  69 tasks      | elapsed:    0.0s\n",
      "[Parallel(n_jobs=8)]: Done  83 out of  89 | elapsed:    0.0s remaining:    0.0s\n",
      "[Parallel(n_jobs=8)]: Done  89 out of  89 | elapsed:    0.0s finished\n",
      "[Parallel(n_jobs=8)]: Done   2 tasks      | elapsed:    0.0s\n",
      "[Parallel(n_jobs=8)]: Done   9 tasks      | elapsed:    0.0s\n",
      "[Parallel(n_jobs=8)]: Done  16 tasks      | elapsed:    0.0s\n",
      "[Parallel(n_jobs=8)]: Done  25 tasks      | elapsed:    0.0s\n",
      "[Parallel(n_jobs=8)]: Done  34 tasks      | elapsed:    0.0s\n",
      "[Parallel(n_jobs=8)]: Done  45 tasks      | elapsed:    0.0s\n",
      "[Parallel(n_jobs=8)]: Done  56 tasks      | elapsed:    0.0s\n",
      "[Parallel(n_jobs=8)]: Done  69 tasks      | elapsed:    0.1s\n",
      "[Parallel(n_jobs=8)]: Done  83 out of  89 | elapsed:    0.1s remaining:    0.0s\n",
      "[Parallel(n_jobs=8)]: Done  89 out of  89 | elapsed:    0.1s finished\n",
      "/home/justin/anaconda3/lib/python3.6/site-packages/sklearn/model_selection/_validation.py:458: DataConversionWarning: A column-vector y was passed when a 1d array was expected. Please change the shape of y to (n_samples,), for example using ravel().\n",
      "  estimator.fit(X_train, y_train, **fit_params)\n",
      "[Parallel(n_jobs=-1)]: Done   2 tasks      | elapsed:    0.1s\n",
      "[Parallel(n_jobs=-1)]: Done   9 tasks      | elapsed:    0.1s\n"
     ]
    },
    {
     "name": "stdout",
     "output_type": "stream",
     "text": [
      "building tree 2 of 89building tree 1 of 89building tree 3 of 89building tree 4 of 89building tree 6 of 89building tree 5 of 89building tree 7 of 89building tree 8 of 89\n",
      "\n",
      "\n",
      "\n",
      "\n",
      "\n",
      "\n",
      "\n",
      "building tree 9 of 89\n",
      "building tree 10 of 89\n",
      "building tree 12 of 89\n",
      "building tree 11 of 89building tree 13 of 89\n",
      "building tree 14 of 89\n",
      "building tree 15 of 89\n",
      "\n",
      "building tree 16 of 89\n",
      "building tree 17 of 89\n",
      "building tree 18 of 89\n",
      "building tree 19 of 89\n",
      "building tree 21 of 89\n",
      "building tree 22 of 89\n",
      "building tree 20 of 89\n",
      "building tree 23 of 89\n",
      "building tree 24 of 89\n",
      "building tree 26 of 89\n",
      "building tree 27 of 89\n",
      "building tree 25 of 89\n",
      "building tree 28 of 89"
     ]
    },
    {
     "name": "stderr",
     "output_type": "stream",
     "text": [
      "[Parallel(n_jobs=-1)]: Done  16 tasks      | elapsed:    0.2s\n",
      "[Parallel(n_jobs=-1)]: Done  25 tasks      | elapsed:    0.2s\n",
      "[Parallel(n_jobs=-1)]: Done  34 tasks      | elapsed:    0.3s\n"
     ]
    },
    {
     "name": "stdout",
     "output_type": "stream",
     "text": [
      "building tree 29 of 89\n",
      "\n",
      "building tree 30 of 89\n",
      "building tree 31 of 89\n",
      "building tree 32 of 89\n",
      "building tree 33 of 89\n",
      "building tree 34 of 89\n",
      "building tree 35 of 89\n",
      "building tree 36 of 89\n",
      "building tree 37 of 89\n",
      "building tree 38 of 89\n",
      "building tree 39 of 89\n",
      "building tree 40 of 89\n",
      "building tree 41 of 89\n",
      "building tree 42 of 89\n",
      "building tree 43 of 89\n",
      "building tree 44 of 89\n",
      "building tree 45 of 89\n",
      "building tree 46 of 89\n",
      "building tree 47 of 89\n",
      "building tree 48 of 89\n",
      "building tree 49 of 89\n",
      "building tree 50 of 89\n",
      "building tree 52 of 89"
     ]
    },
    {
     "name": "stderr",
     "output_type": "stream",
     "text": [
      "[Parallel(n_jobs=-1)]: Done  45 tasks      | elapsed:    0.4s\n",
      "[Parallel(n_jobs=-1)]: Done  56 tasks      | elapsed:    0.5s\n"
     ]
    },
    {
     "name": "stdout",
     "output_type": "stream",
     "text": [
      "\n",
      "building tree 53 of 89\n",
      "building tree 54 of 89\n",
      "building tree 51 of 89\n",
      "building tree 55 of 89\n",
      "building tree 56 of 89\n",
      "building tree 57 of 89\n",
      "building tree 58 of 89\n",
      "building tree 59 of 89\n",
      "building tree 60 of 89\n",
      "building tree 61 of 89\n",
      "building tree 62 of 89\n",
      "building tree 63 of 89\n",
      "building tree 64 of 89\n",
      "building tree 65 of 89\n",
      "building tree 66 of 89\n",
      "building tree 69 of 89\n",
      "building tree 70 of 89building tree 67 of 89building tree 68 of 89\n",
      "\n",
      "\n",
      "building tree 71 of 89\n",
      "building tree 72 of 89\n",
      "building tree 73 of 89\n",
      "building tree 74 of 89\n",
      "building tree 75 of 89\n",
      "building tree 76 of 89\n",
      "building tree 77 of 89building tree 78 of 89\n",
      "\n",
      "building tree 79 of 89\n",
      "building tree 80 of 89\n",
      "building tree 81 of 89\n",
      "building tree 82 of 89\n",
      "building tree 83 of 89\n",
      "building tree 84 of 89\n",
      "building tree 85 of 89\n",
      "building tree 86 of 89\n",
      "building tree 87 of 89\n",
      "building tree 88 of 89\n",
      "building tree 89 of 89\n"
     ]
    },
    {
     "name": "stderr",
     "output_type": "stream",
     "text": [
      "[Parallel(n_jobs=-1)]: Done  69 tasks      | elapsed:    0.7s\n",
      "[Parallel(n_jobs=-1)]: Done  83 out of  89 | elapsed:    0.8s remaining:    0.1s\n",
      "[Parallel(n_jobs=-1)]: Done  89 out of  89 | elapsed:    0.8s finished\n",
      "[Parallel(n_jobs=8)]: Done   2 tasks      | elapsed:    0.0s\n",
      "[Parallel(n_jobs=8)]: Done   9 tasks      | elapsed:    0.0s\n",
      "[Parallel(n_jobs=8)]: Done  16 tasks      | elapsed:    0.0s\n",
      "[Parallel(n_jobs=8)]: Done  25 tasks      | elapsed:    0.0s\n",
      "[Parallel(n_jobs=8)]: Done  34 tasks      | elapsed:    0.0s\n",
      "[Parallel(n_jobs=8)]: Done  45 tasks      | elapsed:    0.0s\n",
      "[Parallel(n_jobs=8)]: Done  56 tasks      | elapsed:    0.0s\n",
      "[Parallel(n_jobs=8)]: Done  69 tasks      | elapsed:    0.0s\n",
      "[Parallel(n_jobs=8)]: Done  83 out of  89 | elapsed:    0.0s remaining:    0.0s\n",
      "[Parallel(n_jobs=8)]: Done  89 out of  89 | elapsed:    0.0s finished\n",
      "[Parallel(n_jobs=8)]: Done   2 tasks      | elapsed:    0.0s\n",
      "[Parallel(n_jobs=8)]: Done   9 tasks      | elapsed:    0.0s\n",
      "[Parallel(n_jobs=8)]: Done  16 tasks      | elapsed:    0.0s\n",
      "[Parallel(n_jobs=8)]: Done  25 tasks      | elapsed:    0.0s\n",
      "[Parallel(n_jobs=8)]: Done  34 tasks      | elapsed:    0.0s\n",
      "[Parallel(n_jobs=8)]: Done  45 tasks      | elapsed:    0.1s\n",
      "[Parallel(n_jobs=8)]: Done  56 tasks      | elapsed:    0.1s\n",
      "[Parallel(n_jobs=8)]: Done  69 tasks      | elapsed:    0.1s\n",
      "[Parallel(n_jobs=8)]: Done  83 out of  89 | elapsed:    0.1s remaining:    0.0s\n",
      "[Parallel(n_jobs=8)]: Done  89 out of  89 | elapsed:    0.1s finished\n",
      "/home/justin/anaconda3/lib/python3.6/site-packages/sklearn/model_selection/_validation.py:458: DataConversionWarning: A column-vector y was passed when a 1d array was expected. Please change the shape of y to (n_samples,), for example using ravel().\n",
      "  estimator.fit(X_train, y_train, **fit_params)\n"
     ]
    },
    {
     "name": "stdout",
     "output_type": "stream",
     "text": [
      "building tree 2 of 151building tree 3 of 151building tree 4 of 151\n",
      "building tree 5 of 151building tree 6 of 151building tree 1 of 151building tree 7 of 151building tree 8 of 151\n",
      "\n",
      "\n",
      "\n",
      "\n",
      "\n",
      "\n",
      "building tree 9 of 151\n",
      "building tree 10 of 151\n",
      "building tree 11 of 151\n",
      "building tree 12 of 151\n",
      "building tree 13 of 151\n",
      "building tree 14 of 151\n",
      "building tree 15 of 151\n",
      "building tree 16 of 151\n"
     ]
    },
    {
     "name": "stderr",
     "output_type": "stream",
     "text": [
      "[Parallel(n_jobs=-1)]: Done   2 tasks      | elapsed:    0.3s\n",
      "[Parallel(n_jobs=-1)]: Done   9 tasks      | elapsed:    0.7s\n"
     ]
    },
    {
     "name": "stdout",
     "output_type": "stream",
     "text": [
      "building tree 17 of 151\n",
      "building tree 18 of 151\n",
      "building tree 19 of 151\n",
      "building tree 20 of 151\n",
      "building tree 22 of 151building tree 21 of 151\n",
      "\n",
      "building tree 23 of 151\n"
     ]
    },
    {
     "name": "stderr",
     "output_type": "stream",
     "text": [
      "[Parallel(n_jobs=-1)]: Done  16 tasks      | elapsed:    0.9s\n"
     ]
    },
    {
     "name": "stdout",
     "output_type": "stream",
     "text": [
      "building tree 24 of 151\n",
      "building tree 25 of 151\n",
      "building tree 26 of 151\n",
      "building tree 27 of 151\n",
      "building tree 28 of 151\n",
      "building tree 30 of 151\n",
      "building tree 29 of 151\n",
      "building tree 31 of 151\n",
      "building tree 32 of 151\n",
      "building tree 33 of 151\n"
     ]
    },
    {
     "name": "stderr",
     "output_type": "stream",
     "text": [
      "[Parallel(n_jobs=-1)]: Done  25 tasks      | elapsed:    1.3s\n"
     ]
    },
    {
     "name": "stdout",
     "output_type": "stream",
     "text": [
      "building tree 34 of 151\n",
      "building tree 35 of 151\n",
      "building tree 36 of 151\n",
      "building tree 37 of 151\n",
      "building tree 38 of 151\n",
      "building tree 39 of 151\n",
      "building tree 40 of 151\n",
      "building tree 41 of 151\n",
      "building tree 42 of 151\n"
     ]
    },
    {
     "name": "stderr",
     "output_type": "stream",
     "text": [
      "[Parallel(n_jobs=-1)]: Done  34 tasks      | elapsed:    1.7s\n"
     ]
    },
    {
     "name": "stdout",
     "output_type": "stream",
     "text": [
      "building tree 43 of 151\n",
      "building tree 44 of 151\n",
      "building tree 45 of 151\n",
      "building tree 46 of 151\n",
      "building tree 47 of 151\n",
      "building tree 48 of 151\n",
      "building tree 49 of 151\n",
      "building tree 50 of 151\n",
      "building tree 51 of 151\n",
      "building tree 52 of 151\n",
      "building tree 53 of 151\n",
      "building tree 54 of 151\n"
     ]
    },
    {
     "name": "stderr",
     "output_type": "stream",
     "text": [
      "[Parallel(n_jobs=-1)]: Done  45 tasks      | elapsed:    2.2s\n"
     ]
    },
    {
     "name": "stdout",
     "output_type": "stream",
     "text": [
      "building tree 55 of 151\n",
      "building tree 56 of 151\n",
      "building tree 57 of 151\n",
      "building tree 58 of 151\n",
      "building tree 59 of 151\n",
      "building tree 60 of 151\n",
      "building tree 61 of 151\n",
      "building tree 62 of 151\n",
      "building tree 63 of 151\n",
      "building tree 64 of 151\n"
     ]
    },
    {
     "name": "stderr",
     "output_type": "stream",
     "text": [
      "[Parallel(n_jobs=-1)]: Done  56 tasks      | elapsed:    2.7s\n"
     ]
    },
    {
     "name": "stdout",
     "output_type": "stream",
     "text": [
      "building tree 65 of 151\n",
      "building tree 66 of 151\n",
      "building tree 67 of 151\n",
      "building tree 68 of 151\n",
      "building tree 69 of 151\n",
      "building tree 70 of 151\n",
      "building tree 71 of 151\n",
      "building tree 72 of 151\n",
      "building tree 73 of 151\n",
      "building tree 74 of 151\n",
      "building tree 75 of 151\n",
      "building tree 76 of 151\n",
      "building tree 77 of 151\n",
      "building tree 78 of 151\n"
     ]
    },
    {
     "name": "stderr",
     "output_type": "stream",
     "text": [
      "[Parallel(n_jobs=-1)]: Done  69 tasks      | elapsed:    3.2s\n"
     ]
    },
    {
     "name": "stdout",
     "output_type": "stream",
     "text": [
      "building tree 79 of 151\n",
      "building tree 80 of 151\n",
      "building tree 81 of 151\n",
      "building tree 82 of 151\n",
      "building tree 83 of 151\n",
      "building tree 84 of 151\n",
      "building tree 85 of 151\n",
      "building tree 86 of 151\n",
      "building tree 87 of 151\n",
      "building tree 88 of 151\n",
      "building tree 89 of 151\n"
     ]
    },
    {
     "name": "stderr",
     "output_type": "stream",
     "text": [
      "[Parallel(n_jobs=-1)]: Done  82 tasks      | elapsed:    3.8s\n"
     ]
    },
    {
     "name": "stdout",
     "output_type": "stream",
     "text": [
      "building tree 90 of 151\n",
      "building tree 91 of 151\n",
      "building tree 92 of 151\n",
      "building tree 93 of 151\n",
      "building tree 94 of 151\n",
      "building tree 95 of 151\n",
      "building tree 96 of 151\n",
      "building tree 97 of 151\n",
      "building tree 98 of 151\n",
      "building tree 99 of 151\n",
      "building tree 100 of 151\n",
      "building tree 101 of 151\n",
      "building tree 102 of 151\n",
      "building tree 103 of 151\n",
      "building tree 104 of 151\n",
      "building tree 105 of 151\n",
      "building tree 106 of 151\n",
      "building tree 107 of 151\n"
     ]
    },
    {
     "name": "stderr",
     "output_type": "stream",
     "text": [
      "[Parallel(n_jobs=-1)]: Done  97 tasks      | elapsed:    4.4s\n"
     ]
    },
    {
     "name": "stdout",
     "output_type": "stream",
     "text": [
      "building tree 108 of 151\n",
      "building tree 109 of 151\n",
      "building tree 110 of 151\n",
      "building tree 111 of 151\n",
      "building tree 112 of 151\n",
      "building tree 113 of 151\n",
      "building tree 114 of 151\n",
      "building tree 115 of 151\n",
      "building tree 116 of 151\n",
      "building tree 117 of 151\n",
      "building tree 118 of 151\n",
      "building tree 119 of 151\n"
     ]
    },
    {
     "name": "stderr",
     "output_type": "stream",
     "text": [
      "[Parallel(n_jobs=-1)]: Done 112 tasks      | elapsed:    5.1s\n"
     ]
    },
    {
     "name": "stdout",
     "output_type": "stream",
     "text": [
      "building tree 120 of 151\n",
      "building tree 121 of 151\n",
      "building tree 122 of 151\n",
      "building tree 123 of 151\n",
      "building tree 124 of 151\n",
      "building tree 125 of 151\n",
      "building tree 126 of 151\n",
      "building tree 127 of 151\n",
      "building tree 128 of 151\n",
      "building tree 129 of 151\n",
      "building tree 130 of 151\n",
      "building tree 131 of 151\n",
      "building tree 132 of 151\n",
      "building tree 133 of 151\n",
      "building tree 134 of 151\n",
      "building tree 135 of 151\n",
      "building tree 136 of 151\n",
      "building tree 137 of 151\n",
      "building tree 138 of 151\n",
      "building tree 139 of 151\n",
      "building tree 140 of 151\n",
      "building tree 141 of 151\n"
     ]
    },
    {
     "name": "stderr",
     "output_type": "stream",
     "text": [
      "[Parallel(n_jobs=-1)]: Done 129 tasks      | elapsed:    5.8s\n"
     ]
    },
    {
     "name": "stdout",
     "output_type": "stream",
     "text": [
      "building tree 142 of 151\n",
      "building tree 143 of 151\n",
      "building tree 144 of 151\n",
      "building tree 145 of 151\n",
      "building tree 146 of 151\n",
      "building tree 147 of 151\n",
      "building tree 148 of 151\n",
      "building tree 149 of 151\n",
      "building tree 150 of 151\n",
      "building tree 151 of 151\n"
     ]
    },
    {
     "name": "stderr",
     "output_type": "stream",
     "text": [
      "[Parallel(n_jobs=-1)]: Done 151 out of 151 | elapsed:    6.7s finished\n",
      "[Parallel(n_jobs=8)]: Done   2 tasks      | elapsed:    0.0s\n",
      "[Parallel(n_jobs=8)]: Done   9 tasks      | elapsed:    0.0s\n",
      "[Parallel(n_jobs=8)]: Done  16 tasks      | elapsed:    0.0s\n",
      "[Parallel(n_jobs=8)]: Done  25 tasks      | elapsed:    0.0s\n",
      "[Parallel(n_jobs=8)]: Done  34 tasks      | elapsed:    0.0s\n",
      "[Parallel(n_jobs=8)]: Done  45 tasks      | elapsed:    0.0s\n",
      "[Parallel(n_jobs=8)]: Done  56 tasks      | elapsed:    0.1s\n",
      "[Parallel(n_jobs=8)]: Done  69 tasks      | elapsed:    0.1s\n",
      "[Parallel(n_jobs=8)]: Done  82 tasks      | elapsed:    0.1s\n",
      "[Parallel(n_jobs=8)]: Done  97 tasks      | elapsed:    0.1s\n",
      "[Parallel(n_jobs=8)]: Done 112 tasks      | elapsed:    0.1s\n",
      "[Parallel(n_jobs=8)]: Done 129 tasks      | elapsed:    0.1s\n",
      "[Parallel(n_jobs=8)]: Done 151 out of 151 | elapsed:    0.1s finished\n",
      "[Parallel(n_jobs=8)]: Done   2 tasks      | elapsed:    0.0s\n",
      "[Parallel(n_jobs=8)]: Done   9 tasks      | elapsed:    0.0s\n",
      "[Parallel(n_jobs=8)]: Done  16 tasks      | elapsed:    0.0s\n",
      "[Parallel(n_jobs=8)]: Done  25 tasks      | elapsed:    0.1s\n",
      "[Parallel(n_jobs=8)]: Done  34 tasks      | elapsed:    0.1s\n",
      "[Parallel(n_jobs=8)]: Done  45 tasks      | elapsed:    0.1s\n",
      "[Parallel(n_jobs=8)]: Done  56 tasks      | elapsed:    0.1s\n",
      "[Parallel(n_jobs=8)]: Done  69 tasks      | elapsed:    0.1s\n",
      "[Parallel(n_jobs=8)]: Done  82 tasks      | elapsed:    0.1s\n",
      "[Parallel(n_jobs=8)]: Done  97 tasks      | elapsed:    0.2s\n",
      "[Parallel(n_jobs=8)]: Done 112 tasks      | elapsed:    0.2s\n",
      "[Parallel(n_jobs=8)]: Done 129 tasks      | elapsed:    0.2s\n",
      "[Parallel(n_jobs=8)]: Done 151 out of 151 | elapsed:    0.3s finished\n",
      "/home/justin/anaconda3/lib/python3.6/site-packages/sklearn/model_selection/_validation.py:458: DataConversionWarning: A column-vector y was passed when a 1d array was expected. Please change the shape of y to (n_samples,), for example using ravel().\n",
      "  estimator.fit(X_train, y_train, **fit_params)\n"
     ]
    },
    {
     "name": "stdout",
     "output_type": "stream",
     "text": [
      "building tree 2 of 151\n",
      "building tree 3 of 151building tree 4 of 151building tree 5 of 151building tree 7 of 151building tree 8 of 151building tree 6 of 151building tree 1 of 151\n",
      "\n",
      "\n",
      "\n",
      "\n",
      "\n",
      "\n",
      "building tree 9 of 151\n",
      "building tree 10 of 151\n",
      "building tree 11 of 151\n",
      "building tree 12 of 151\n",
      "building tree 13 of 151\n",
      "building tree 14 of 151\n",
      "building tree 15 of 151\n",
      "building tree 16 of 151\n"
     ]
    },
    {
     "name": "stderr",
     "output_type": "stream",
     "text": [
      "[Parallel(n_jobs=-1)]: Done   2 tasks      | elapsed:    0.4s\n",
      "[Parallel(n_jobs=-1)]: Done   9 tasks      | elapsed:    0.7s\n"
     ]
    },
    {
     "name": "stdout",
     "output_type": "stream",
     "text": [
      "building tree 17 of 151\n",
      "building tree 18 of 151\n",
      "building tree 19 of 151\n",
      "building tree 20 of 151\n",
      "building tree 21 of 151\n",
      "building tree 22 of 151\n",
      "building tree 23 of 151\n",
      "building tree 24 of 151\n",
      "building tree 25 of 151\n"
     ]
    },
    {
     "name": "stderr",
     "output_type": "stream",
     "text": [
      "[Parallel(n_jobs=-1)]: Done  16 tasks      | elapsed:    1.1s\n"
     ]
    },
    {
     "name": "stdout",
     "output_type": "stream",
     "text": [
      "building tree 26 of 151\n",
      "building tree 27 of 151\n",
      "building tree 28 of 151\n",
      "building tree 30 of 151\n",
      "building tree 29 of 151\n",
      "building tree 31 of 151\n",
      "building tree 32 of 151\n",
      "building tree 33 of 151\n",
      "building tree 34 of 151\n",
      "building tree 35 of 151\n",
      "building tree 36 of 151\n"
     ]
    },
    {
     "name": "stderr",
     "output_type": "stream",
     "text": [
      "[Parallel(n_jobs=-1)]: Done  25 tasks      | elapsed:    1.5s\n"
     ]
    },
    {
     "name": "stdout",
     "output_type": "stream",
     "text": [
      "building tree 37 of 151\n",
      "building tree 38 of 151\n",
      "building tree 39 of 151\n",
      "building tree 40 of 151\n",
      "building tree 41 of 151\n",
      "building tree 42 of 151\n"
     ]
    },
    {
     "name": "stderr",
     "output_type": "stream",
     "text": [
      "[Parallel(n_jobs=-1)]: Done  34 tasks      | elapsed:    2.0s\n"
     ]
    },
    {
     "name": "stdout",
     "output_type": "stream",
     "text": [
      "building tree 43 of 151\n",
      "building tree 44 of 151\n",
      "building tree 45 of 151\n",
      "building tree 46 of 151\n",
      "building tree 47 of 151\n",
      "building tree 48 of 151\n",
      "building tree 49 of 151\n",
      "building tree 50 of 151\n",
      "building tree 51 of 151\n",
      "building tree 52 of 151\n",
      "building tree 53 of 151\n",
      "building tree 54 of 151\n",
      "building tree 55 of 151\n",
      "building tree 56 of 151\n"
     ]
    },
    {
     "name": "stderr",
     "output_type": "stream",
     "text": [
      "[Parallel(n_jobs=-1)]: Done  45 tasks      | elapsed:    2.7s\n"
     ]
    },
    {
     "name": "stdout",
     "output_type": "stream",
     "text": [
      "building tree 57 of 151\n",
      "building tree 58 of 151\n",
      "building tree 59 of 151\n",
      "building tree 60 of 151\n",
      "building tree 61 of 151\n",
      "building tree 62 of 151\n",
      "building tree 64 of 151\n",
      "building tree 63 of 151\n",
      "building tree 65 of 151\n"
     ]
    },
    {
     "name": "stderr",
     "output_type": "stream",
     "text": [
      "[Parallel(n_jobs=-1)]: Done  56 tasks      | elapsed:    3.2s\n"
     ]
    },
    {
     "name": "stdout",
     "output_type": "stream",
     "text": [
      "building tree 66 of 151\n",
      "building tree 67 of 151\n",
      "building tree 68 of 151\n",
      "building tree 69 of 151\n",
      "building tree 70 of 151\n",
      "building tree 71 of 151\n",
      "building tree 72 of 151\n",
      "building tree 73 of 151\n",
      "building tree 74 of 151\n",
      "building tree 75 of 151\n",
      "building tree 76 of 151\n",
      "building tree 77 of 151\n"
     ]
    },
    {
     "name": "stderr",
     "output_type": "stream",
     "text": [
      "[Parallel(n_jobs=-1)]: Done  69 tasks      | elapsed:    4.0s\n"
     ]
    },
    {
     "name": "stdout",
     "output_type": "stream",
     "text": [
      "building tree 78 of 151\n",
      "building tree 79 of 151\n",
      "building tree 80 of 151\n",
      "building tree 81 of 151\n",
      "building tree 82 of 151\n",
      "building tree 83 of 151\n",
      "building tree 84 of 151\n",
      "building tree 85 of 151\n",
      "building tree 86 of 151\n",
      "building tree 87 of 151\n",
      "building tree 88 of 151\n",
      "building tree 89 of 151\n",
      "building tree 90 of 151\n",
      "building tree 91 of 151\n"
     ]
    },
    {
     "name": "stderr",
     "output_type": "stream",
     "text": [
      "[Parallel(n_jobs=-1)]: Done  82 tasks      | elapsed:    4.6s\n"
     ]
    },
    {
     "name": "stdout",
     "output_type": "stream",
     "text": [
      "building tree 92 of 151\n",
      "building tree 93 of 151\n",
      "building tree 94 of 151\n",
      "building tree 95 of 151\n",
      "building tree 96 of 151\n",
      "building tree 97 of 151\n",
      "building tree 98 of 151\n",
      "building tree 99 of 151\n",
      "building tree 100 of 151\n",
      "building tree 101 of 151\n",
      "building tree 102 of 151\n",
      "building tree 103 of 151\n",
      "building tree 104 of 151\n"
     ]
    },
    {
     "name": "stderr",
     "output_type": "stream",
     "text": [
      "[Parallel(n_jobs=-1)]: Done  97 tasks      | elapsed:    5.5s\n"
     ]
    },
    {
     "name": "stdout",
     "output_type": "stream",
     "text": [
      "building tree 105 of 151\n",
      "building tree 106 of 151\n",
      "building tree 107 of 151\n",
      "building tree 108 of 151\n",
      "building tree 109 of 151\n",
      "building tree 110 of 151\n",
      "building tree 111 of 151\n",
      "building tree 112 of 151\n",
      "building tree 113 of 151\n",
      "building tree 114 of 151\n",
      "building tree 115 of 151\n",
      "building tree 116 of 151\n",
      "building tree 117 of 151\n",
      "building tree 118 of 151\n",
      "building tree 119 of 151\n",
      "building tree 120 of 151\n",
      "building tree 121 of 151\n",
      "building tree 122 of 151\n"
     ]
    },
    {
     "name": "stderr",
     "output_type": "stream",
     "text": [
      "[Parallel(n_jobs=-1)]: Done 112 tasks      | elapsed:    6.2s\n"
     ]
    },
    {
     "name": "stdout",
     "output_type": "stream",
     "text": [
      "building tree 123 of 151\n",
      "building tree 124 of 151\n",
      "building tree 125 of 151\n",
      "building tree 126 of 151\n",
      "building tree 127 of 151\n",
      "building tree 128 of 151\n",
      "building tree 129 of 151\n",
      "building tree 130 of 151\n",
      "building tree 131 of 151\n",
      "building tree 132 of 151\n",
      "building tree 133 of 151\n",
      "building tree 134 of 151\n",
      "building tree 135 of 151\n",
      "building tree 136 of 151\n",
      "building tree 137 of 151\n",
      "building tree 138 of 151\n",
      "building tree 139 of 151\n"
     ]
    },
    {
     "name": "stderr",
     "output_type": "stream",
     "text": [
      "[Parallel(n_jobs=-1)]: Done 129 tasks      | elapsed:    7.0s\n"
     ]
    },
    {
     "name": "stdout",
     "output_type": "stream",
     "text": [
      "building tree 140 of 151\n",
      "building tree 141 of 151\n",
      "building tree 143 of 151\n",
      "building tree 142 of 151\n",
      "building tree 144 of 151\n",
      "building tree 145 of 151\n",
      "building tree 146 of 151\n",
      "building tree 147 of 151\n",
      "building tree 148 of 151\n",
      "building tree 149 of 151\n",
      "building tree 150 of 151\n",
      "building tree 151 of 151\n"
     ]
    },
    {
     "name": "stderr",
     "output_type": "stream",
     "text": [
      "[Parallel(n_jobs=-1)]: Done 151 out of 151 | elapsed:    8.2s finished\n",
      "[Parallel(n_jobs=8)]: Done   2 tasks      | elapsed:    0.0s\n",
      "[Parallel(n_jobs=8)]: Done   9 tasks      | elapsed:    0.0s\n",
      "[Parallel(n_jobs=8)]: Done  16 tasks      | elapsed:    0.0s\n",
      "[Parallel(n_jobs=8)]: Done  25 tasks      | elapsed:    0.0s\n",
      "[Parallel(n_jobs=8)]: Done  34 tasks      | elapsed:    0.0s\n",
      "[Parallel(n_jobs=8)]: Done  45 tasks      | elapsed:    0.1s\n",
      "[Parallel(n_jobs=8)]: Done  56 tasks      | elapsed:    0.1s\n",
      "[Parallel(n_jobs=8)]: Done  69 tasks      | elapsed:    0.1s\n",
      "[Parallel(n_jobs=8)]: Done  82 tasks      | elapsed:    0.1s\n",
      "[Parallel(n_jobs=8)]: Done  97 tasks      | elapsed:    0.1s\n",
      "[Parallel(n_jobs=8)]: Done 112 tasks      | elapsed:    0.1s\n",
      "[Parallel(n_jobs=8)]: Done 129 tasks      | elapsed:    0.1s\n",
      "[Parallel(n_jobs=8)]: Done 151 out of 151 | elapsed:    0.1s finished\n",
      "[Parallel(n_jobs=8)]: Done   2 tasks      | elapsed:    0.0s\n",
      "[Parallel(n_jobs=8)]: Done   9 tasks      | elapsed:    0.0s\n",
      "[Parallel(n_jobs=8)]: Done  16 tasks      | elapsed:    0.0s\n",
      "[Parallel(n_jobs=8)]: Done  25 tasks      | elapsed:    0.1s\n",
      "[Parallel(n_jobs=8)]: Done  34 tasks      | elapsed:    0.1s\n",
      "[Parallel(n_jobs=8)]: Done  45 tasks      | elapsed:    0.1s\n",
      "[Parallel(n_jobs=8)]: Done  56 tasks      | elapsed:    0.1s\n",
      "[Parallel(n_jobs=8)]: Done  69 tasks      | elapsed:    0.1s\n",
      "[Parallel(n_jobs=8)]: Done  82 tasks      | elapsed:    0.2s\n",
      "[Parallel(n_jobs=8)]: Done  97 tasks      | elapsed:    0.2s\n",
      "[Parallel(n_jobs=8)]: Done 112 tasks      | elapsed:    0.2s\n",
      "[Parallel(n_jobs=8)]: Done 129 tasks      | elapsed:    0.2s\n",
      "[Parallel(n_jobs=8)]: Done 151 out of 151 | elapsed:    0.3s finished\n",
      "/home/justin/anaconda3/lib/python3.6/site-packages/sklearn/model_selection/_validation.py:458: DataConversionWarning: A column-vector y was passed when a 1d array was expected. Please change the shape of y to (n_samples,), for example using ravel().\n",
      "  estimator.fit(X_train, y_train, **fit_params)\n"
     ]
    },
    {
     "name": "stdout",
     "output_type": "stream",
     "text": [
      "building tree 2 of 151building tree 3 of 151\n",
      "building tree 7 of 151building tree 5 of 151building tree 6 of 151building tree 1 of 151building tree 8 of 151building tree 4 of 151\n",
      "\n",
      "\n",
      "\n",
      "\n",
      "\n",
      "\n",
      "building tree 9 of 151\n",
      "building tree 10 of 151\n",
      "building tree 11 of 151\n",
      "building tree 12 of 151\n",
      "building tree 13 of 151\n",
      "building tree 14 of 151\n",
      "building tree 15 of 151\n"
     ]
    },
    {
     "name": "stderr",
     "output_type": "stream",
     "text": [
      "[Parallel(n_jobs=-1)]: Done   2 tasks      | elapsed:    0.5s\n"
     ]
    },
    {
     "name": "stdout",
     "output_type": "stream",
     "text": [
      "building tree 16 of 151\n",
      "building tree 17 of 151\n",
      "building tree 18 of 151\n"
     ]
    },
    {
     "name": "stderr",
     "output_type": "stream",
     "text": [
      "[Parallel(n_jobs=-1)]: Done   9 tasks      | elapsed:    0.8s\n"
     ]
    },
    {
     "name": "stdout",
     "output_type": "stream",
     "text": [
      "building tree 19 of 151\n",
      "building tree 20 of 151\n",
      "building tree 21 of 151\n",
      "building tree 22 of 151\n",
      "building tree 23 of 151\n",
      "building tree 25 of 151\n",
      "building tree 26 of 151\n",
      "building tree 24 of 151\n"
     ]
    },
    {
     "name": "stderr",
     "output_type": "stream",
     "text": [
      "[Parallel(n_jobs=-1)]: Done  16 tasks      | elapsed:    1.4s\n"
     ]
    },
    {
     "name": "stdout",
     "output_type": "stream",
     "text": [
      "building tree 27 of 151\n",
      "building tree 28 of 151\n",
      "building tree 29 of 151\n",
      "building tree 30 of 151\n",
      "building tree 31 of 151\n",
      "building tree 32 of 151\n",
      "building tree 33 of 151\n"
     ]
    },
    {
     "name": "stderr",
     "output_type": "stream",
     "text": [
      "[Parallel(n_jobs=-1)]: Done  25 tasks      | elapsed:    1.9s\n"
     ]
    },
    {
     "name": "stdout",
     "output_type": "stream",
     "text": [
      "building tree 34 of 151\n",
      "building tree 35 of 151\n",
      "building tree 36 of 151\n",
      "building tree 37 of 151\n",
      "building tree 38 of 151\n",
      "building tree 39 of 151\n",
      "building tree 40 of 151\n",
      "building tree 41 of 151\n",
      "building tree 42 of 151\n",
      "building tree 43 of 151\n",
      "building tree 44 of 151\n",
      "building tree 45 of 151\n"
     ]
    },
    {
     "name": "stderr",
     "output_type": "stream",
     "text": [
      "[Parallel(n_jobs=-1)]: Done  34 tasks      | elapsed:    2.5s\n"
     ]
    },
    {
     "name": "stdout",
     "output_type": "stream",
     "text": [
      "building tree 46 of 151\n",
      "building tree 47 of 151\n",
      "building tree 48 of 151\n",
      "building tree 49 of 151\n",
      "building tree 50 of 151\n",
      "building tree 51 of 151\n",
      "building tree 52 of 151\n",
      "building tree 53 of 151\n",
      "building tree 54 of 151\n",
      "building tree 55 of 151\n",
      "building tree 56 of 151\n"
     ]
    },
    {
     "name": "stderr",
     "output_type": "stream",
     "text": [
      "[Parallel(n_jobs=-1)]: Done  45 tasks      | elapsed:    3.3s\n"
     ]
    },
    {
     "name": "stdout",
     "output_type": "stream",
     "text": [
      "building tree 57 of 151\n",
      "building tree 58 of 151\n",
      "building tree 59 of 151\n",
      "building tree 60 of 151\n",
      "building tree 61 of 151\n",
      "building tree 62 of 151\n",
      "building tree 63 of 151\n",
      "building tree 64 of 151\n"
     ]
    },
    {
     "name": "stderr",
     "output_type": "stream",
     "text": [
      "[Parallel(n_jobs=-1)]: Done  56 tasks      | elapsed:    3.9s\n"
     ]
    },
    {
     "name": "stdout",
     "output_type": "stream",
     "text": [
      "building tree 65 of 151\n",
      "building tree 66 of 151\n",
      "building tree 67 of 151\n",
      "building tree 68 of 151\n",
      "building tree 69 of 151\n",
      "building tree 70 of 151\n",
      "building tree 71 of 151\n",
      "building tree 72 of 151\n",
      "building tree 73 of 151\n",
      "building tree 74 of 151\n",
      "building tree 75 of 151\n",
      "building tree 76 of 151\n",
      "building tree 77 of 151\n",
      "building tree 78 of 151\n"
     ]
    },
    {
     "name": "stderr",
     "output_type": "stream",
     "text": [
      "[Parallel(n_jobs=-1)]: Done  69 tasks      | elapsed:    4.7s\n"
     ]
    },
    {
     "name": "stdout",
     "output_type": "stream",
     "text": [
      "building tree 79 of 151\n",
      "building tree 80 of 151\n",
      "building tree 81 of 151\n",
      "building tree 82 of 151\n",
      "building tree 83 of 151\n",
      "building tree 84 of 151\n",
      "building tree 85 of 151\n",
      "building tree 86 of 151\n",
      "building tree 87 of 151\n",
      "building tree 88 of 151\n",
      "building tree 89 of 151\n",
      "building tree 90 of 151\n",
      "building tree 91 of 151\n",
      "building tree 92 of 151\n",
      "building tree 93 of 151\n",
      "building tree 94 of 151\n"
     ]
    },
    {
     "name": "stderr",
     "output_type": "stream",
     "text": [
      "[Parallel(n_jobs=-1)]: Done  82 tasks      | elapsed:    5.6s\n"
     ]
    },
    {
     "name": "stdout",
     "output_type": "stream",
     "text": [
      "building tree 95 of 151\n",
      "building tree 96 of 151\n",
      "building tree 97 of 151\n",
      "building tree 98 of 151\n",
      "building tree 99 of 151\n",
      "building tree 100 of 151\n",
      "building tree 101 of 151\n",
      "building tree 102 of 151\n",
      "building tree 103 of 151\n",
      "building tree 104 of 151\n",
      "building tree 105 of 151\n"
     ]
    },
    {
     "name": "stderr",
     "output_type": "stream",
     "text": [
      "[Parallel(n_jobs=-1)]: Done  97 tasks      | elapsed:    6.6s\n"
     ]
    },
    {
     "name": "stdout",
     "output_type": "stream",
     "text": [
      "building tree 106 of 151\n",
      "building tree 107 of 151\n",
      "building tree 108 of 151\n",
      "building tree 109 of 151\n",
      "building tree 110 of 151\n",
      "building tree 111 of 151\n",
      "building tree 112 of 151\n",
      "building tree 113 of 151\n",
      "building tree 114 of 151\n",
      "building tree 115 of 151\n",
      "building tree 116 of 151\n",
      "building tree 117 of 151\n",
      "building tree 118 of 151\n",
      "building tree 119 of 151\n"
     ]
    },
    {
     "name": "stderr",
     "output_type": "stream",
     "text": [
      "[Parallel(n_jobs=-1)]: Done 112 tasks      | elapsed:    7.6s\n"
     ]
    },
    {
     "name": "stdout",
     "output_type": "stream",
     "text": [
      "building tree 120 of 151\n",
      "building tree 121 of 151\n",
      "building tree 122 of 151\n",
      "building tree 123 of 151\n",
      "building tree 124 of 151\n",
      "building tree 125 of 151\n",
      "building tree 126 of 151\n",
      "building tree 127 of 151\n",
      "building tree 128 of 151\n",
      "building tree 129 of 151\n",
      "building tree 130 of 151\n",
      "building tree 131 of 151\n",
      "building tree 132 of 151\n",
      "building tree 133 of 151\n",
      "building tree 134 of 151\n",
      "building tree 135 of 151\n",
      "building tree 136 of 151\n",
      "building tree 137 of 151\n"
     ]
    },
    {
     "name": "stderr",
     "output_type": "stream",
     "text": [
      "[Parallel(n_jobs=-1)]: Done 129 tasks      | elapsed:    8.6s\n"
     ]
    },
    {
     "name": "stdout",
     "output_type": "stream",
     "text": [
      "building tree 138 of 151\n",
      "building tree 139 of 151\n",
      "building tree 140 of 151\n",
      "building tree 141 of 151\n",
      "building tree 142 of 151\n",
      "building tree 143 of 151\n",
      "building tree 144 of 151\n",
      "building tree 145 of 151\n",
      "building tree 146 of 151\n",
      "building tree 147 of 151\n",
      "building tree 148 of 151\n",
      "building tree 149 of 151\n",
      "building tree 150 of 151\n",
      "building tree 151 of 151\n"
     ]
    },
    {
     "name": "stderr",
     "output_type": "stream",
     "text": [
      "[Parallel(n_jobs=-1)]: Done 151 out of 151 | elapsed:    9.9s finished\n",
      "[Parallel(n_jobs=8)]: Done   2 tasks      | elapsed:    0.0s\n",
      "[Parallel(n_jobs=8)]: Done   9 tasks      | elapsed:    0.0s\n",
      "[Parallel(n_jobs=8)]: Done  16 tasks      | elapsed:    0.0s\n",
      "[Parallel(n_jobs=8)]: Done  25 tasks      | elapsed:    0.0s\n",
      "[Parallel(n_jobs=8)]: Done  34 tasks      | elapsed:    0.0s\n",
      "[Parallel(n_jobs=8)]: Done  45 tasks      | elapsed:    0.1s\n",
      "[Parallel(n_jobs=8)]: Done  56 tasks      | elapsed:    0.1s\n",
      "[Parallel(n_jobs=8)]: Done  69 tasks      | elapsed:    0.1s\n",
      "[Parallel(n_jobs=8)]: Done  82 tasks      | elapsed:    0.1s\n",
      "[Parallel(n_jobs=8)]: Done  97 tasks      | elapsed:    0.1s\n",
      "[Parallel(n_jobs=8)]: Done 112 tasks      | elapsed:    0.1s\n",
      "[Parallel(n_jobs=8)]: Done 129 tasks      | elapsed:    0.1s\n",
      "[Parallel(n_jobs=8)]: Done 151 out of 151 | elapsed:    0.2s finished\n",
      "[Parallel(n_jobs=8)]: Done   2 tasks      | elapsed:    0.0s\n",
      "[Parallel(n_jobs=8)]: Done   9 tasks      | elapsed:    0.0s\n",
      "[Parallel(n_jobs=8)]: Done  16 tasks      | elapsed:    0.0s\n",
      "[Parallel(n_jobs=8)]: Done  25 tasks      | elapsed:    0.1s\n",
      "[Parallel(n_jobs=8)]: Done  34 tasks      | elapsed:    0.1s\n",
      "[Parallel(n_jobs=8)]: Done  45 tasks      | elapsed:    0.1s\n",
      "[Parallel(n_jobs=8)]: Done  56 tasks      | elapsed:    0.1s\n",
      "[Parallel(n_jobs=8)]: Done  69 tasks      | elapsed:    0.1s\n",
      "[Parallel(n_jobs=8)]: Done  82 tasks      | elapsed:    0.2s\n",
      "[Parallel(n_jobs=8)]: Done  97 tasks      | elapsed:    0.2s\n",
      "[Parallel(n_jobs=8)]: Done 112 tasks      | elapsed:    0.2s\n",
      "[Parallel(n_jobs=8)]: Done 129 tasks      | elapsed:    0.3s\n",
      "[Parallel(n_jobs=8)]: Done 151 out of 151 | elapsed:    0.3s finished\n",
      "/home/justin/anaconda3/lib/python3.6/site-packages/sklearn/model_selection/_validation.py:458: DataConversionWarning: A column-vector y was passed when a 1d array was expected. Please change the shape of y to (n_samples,), for example using ravel().\n",
      "  estimator.fit(X_train, y_train, **fit_params)\n"
     ]
    },
    {
     "name": "stdout",
     "output_type": "stream",
     "text": [
      "building tree 4 of 173building tree 1 of 173building tree 3 of 173building tree 5 of 173building tree 6 of 173building tree 2 of 173building tree 7 of 173building tree 8 of 173\n",
      "\n",
      "\n",
      "\n",
      "\n",
      "\n",
      "\n",
      "\n",
      "building tree 9 of 173\n",
      "building tree 10 of 173\n",
      "building tree 11 of 173\n",
      "building tree 12 of 173\n",
      "building tree 13 of 173\n"
     ]
    },
    {
     "name": "stderr",
     "output_type": "stream",
     "text": [
      "[Parallel(n_jobs=-1)]: Done   2 tasks      | elapsed:    0.5s\n"
     ]
    },
    {
     "name": "stdout",
     "output_type": "stream",
     "text": [
      "building tree 14 of 173\n",
      "building tree 15 of 173\n",
      "building tree 16 of 173\n"
     ]
    },
    {
     "name": "stderr",
     "output_type": "stream",
     "text": [
      "[Parallel(n_jobs=-1)]: Done   9 tasks      | elapsed:    1.0s\n"
     ]
    },
    {
     "name": "stdout",
     "output_type": "stream",
     "text": [
      "building tree 17 of 173\n",
      "building tree 18 of 173\n",
      "building tree 19 of 173\n",
      "building tree 20 of 173\n",
      "building tree 21 of 173\n",
      "building tree 22 of 173\n",
      "building tree 23 of 173\n",
      "building tree 24 of 173\n"
     ]
    },
    {
     "name": "stderr",
     "output_type": "stream",
     "text": [
      "[Parallel(n_jobs=-1)]: Done  16 tasks      | elapsed:    1.4s\n"
     ]
    },
    {
     "name": "stdout",
     "output_type": "stream",
     "text": [
      "building tree 25 of 173\n",
      "building tree 26 of 173\n",
      "building tree 27 of 173\n",
      "building tree 28 of 173\n",
      "building tree 29 of 173\n",
      "building tree 30 of 173\n",
      "building tree 31 of 173\n",
      "building tree 32 of 173\n",
      "building tree 33 of 173\n"
     ]
    },
    {
     "name": "stderr",
     "output_type": "stream",
     "text": [
      "[Parallel(n_jobs=-1)]: Done  25 tasks      | elapsed:    2.1s\n"
     ]
    },
    {
     "name": "stdout",
     "output_type": "stream",
     "text": [
      "building tree 34 of 173\n",
      "building tree 35 of 173\n",
      "building tree 36 of 173\n",
      "building tree 37 of 173\n",
      "building tree 38 of 173\n",
      "building tree 39 of 173\n",
      "building tree 40 of 173\n",
      "building tree 41 of 173\n",
      "building tree 42 of 173\n",
      "building tree 43 of 173\n"
     ]
    },
    {
     "name": "stderr",
     "output_type": "stream",
     "text": [
      "[Parallel(n_jobs=-1)]: Done  34 tasks      | elapsed:    2.8s\n"
     ]
    },
    {
     "name": "stdout",
     "output_type": "stream",
     "text": [
      "building tree 44 of 173\n",
      "building tree 45 of 173\n",
      "building tree 46 of 173\n",
      "building tree 47 of 173\n",
      "building tree 48 of 173\n",
      "building tree 49 of 173\n",
      "building tree 50 of 173\n",
      "building tree 52 of 173\n",
      "building tree 51 of 173\n",
      "building tree 53 of 173\n"
     ]
    },
    {
     "name": "stderr",
     "output_type": "stream",
     "text": [
      "[Parallel(n_jobs=-1)]: Done  45 tasks      | elapsed:    3.7s\n"
     ]
    },
    {
     "name": "stdout",
     "output_type": "stream",
     "text": [
      "building tree 54 of 173\n",
      "building tree 55 of 173\n",
      "building tree 56 of 173\n",
      "building tree 57 of 173\n",
      "building tree 58 of 173\n",
      "building tree 59 of 173\n",
      "building tree 60 of 173\n",
      "building tree 61 of 173\n",
      "building tree 62 of 173\n",
      "building tree 63 of 173\n"
     ]
    },
    {
     "name": "stderr",
     "output_type": "stream",
     "text": [
      "[Parallel(n_jobs=-1)]: Done  56 tasks      | elapsed:    4.6s\n"
     ]
    },
    {
     "name": "stdout",
     "output_type": "stream",
     "text": [
      "building tree 64 of 173\n",
      "building tree 65 of 173\n",
      "building tree 66 of 173\n",
      "building tree 67 of 173\n",
      "building tree 68 of 173\n",
      "building tree 69 of 173\n",
      "building tree 70 of 173\n",
      "building tree 71 of 173\n",
      "building tree 72 of 173\n",
      "building tree 73 of 173\n",
      "building tree 74 of 173\n",
      "building tree 75 of 173\n",
      "building tree 76 of 173\n",
      "building tree 77 of 173\n",
      "building tree 78 of 173\n",
      "building tree 79 of 173\n"
     ]
    },
    {
     "name": "stderr",
     "output_type": "stream",
     "text": [
      "[Parallel(n_jobs=-1)]: Done  69 tasks      | elapsed:    5.4s\n"
     ]
    },
    {
     "name": "stdout",
     "output_type": "stream",
     "text": [
      "building tree 80 of 173\n",
      "building tree 81 of 173\n",
      "building tree 82 of 173\n",
      "building tree 83 of 173\n",
      "building tree 84 of 173\n",
      "building tree 85 of 173\n",
      "building tree 86 of 173\n",
      "building tree 87 of 173\n",
      "building tree 88 of 173\n",
      "building tree 89 of 173\n"
     ]
    },
    {
     "name": "stderr",
     "output_type": "stream",
     "text": [
      "[Parallel(n_jobs=-1)]: Done  82 tasks      | elapsed:    6.5s\n"
     ]
    },
    {
     "name": "stdout",
     "output_type": "stream",
     "text": [
      "building tree 91 of 173building tree 90 of 173\n",
      "\n",
      "building tree 92 of 173\n",
      "building tree 93 of 173\n",
      "building tree 94 of 173\n",
      "building tree 95 of 173\n",
      "building tree 96 of 173\n",
      "building tree 97 of 173\n",
      "building tree 98 of 173\n",
      "building tree 99 of 173\n",
      "building tree 100 of 173\n",
      "building tree 101 of 173\n",
      "building tree 102 of 173\n",
      "building tree 103 of 173\n",
      "building tree 104 of 173\n",
      "building tree 105 of 173\n",
      "building tree 106 of 173\n",
      "building tree 107 of 173\n",
      "building tree 108 of 173\n"
     ]
    },
    {
     "name": "stderr",
     "output_type": "stream",
     "text": [
      "[Parallel(n_jobs=-1)]: Done  97 tasks      | elapsed:    7.6s\n"
     ]
    },
    {
     "name": "stdout",
     "output_type": "stream",
     "text": [
      "building tree 109 of 173\n",
      "building tree 110 of 173\n",
      "building tree 111 of 173\n",
      "building tree 112 of 173\n",
      "building tree 113 of 173\n",
      "building tree 114 of 173\n",
      "building tree 115 of 173\n",
      "building tree 116 of 173\n",
      "building tree 117 of 173\n",
      "building tree 118 of 173\n",
      "building tree 119 of 173\n"
     ]
    },
    {
     "name": "stderr",
     "output_type": "stream",
     "text": [
      "[Parallel(n_jobs=-1)]: Done 112 tasks      | elapsed:    8.7s\n"
     ]
    },
    {
     "name": "stdout",
     "output_type": "stream",
     "text": [
      "building tree 120 of 173\n",
      "building tree 121 of 173\n",
      "building tree 122 of 173\n",
      "building tree 123 of 173\n",
      "building tree 124 of 173\n",
      "building tree 125 of 173\n",
      "building tree 126 of 173\n",
      "building tree 127 of 173\n",
      "building tree 128 of 173\n",
      "building tree 129 of 173\n",
      "building tree 130 of 173\n",
      "building tree 131 of 173\n",
      "building tree 132 of 173\n",
      "building tree 133 of 173\n",
      "building tree 134 of 173\n",
      "building tree 135 of 173\n",
      "building tree 136 of 173\n",
      "building tree 137 of 173\n",
      "building tree 138 of 173\n",
      "building tree 139 of 173\n",
      "building tree 140 of 173\n"
     ]
    },
    {
     "name": "stderr",
     "output_type": "stream",
     "text": [
      "[Parallel(n_jobs=-1)]: Done 129 tasks      | elapsed:   10.0s\n"
     ]
    },
    {
     "name": "stdout",
     "output_type": "stream",
     "text": [
      "building tree 141 of 173\n",
      "building tree 142 of 173\n",
      "building tree 143 of 173\n",
      "building tree 144 of 173\n",
      "building tree 145 of 173\n",
      "building tree 146 of 173\n",
      "building tree 148 of 173\n",
      "building tree 147 of 173\n",
      "building tree 149 of 173\n",
      "building tree 150 of 173\n",
      "building tree 151 of 173\n",
      "building tree 152 of 173\n",
      "building tree 153 of 173\n",
      "building tree 154 of 173\n",
      "building tree 155 of 173\n"
     ]
    },
    {
     "name": "stderr",
     "output_type": "stream",
     "text": [
      "[Parallel(n_jobs=-1)]: Done 146 tasks      | elapsed:   11.4s\n"
     ]
    },
    {
     "name": "stdout",
     "output_type": "stream",
     "text": [
      "building tree 156 of 173\n",
      "building tree 157 of 173\n",
      "building tree 158 of 173\n",
      "building tree 159 of 173\n",
      "building tree 160 of 173\n",
      "building tree 161 of 173\n",
      "building tree 162 of 173\n",
      "building tree 163 of 173\n",
      "building tree 164 of 173\n",
      "building tree 165 of 173\n",
      "building tree 166 of 173\n",
      "building tree 167 of 173\n",
      "building tree 168 of 173\n",
      "building tree 169 of 173\n",
      "building tree 170 of 173\n",
      "building tree 171 of 173\n",
      "building tree 172 of 173\n",
      "building tree 173 of 173\n"
     ]
    },
    {
     "name": "stderr",
     "output_type": "stream",
     "text": [
      "[Parallel(n_jobs=-1)]: Done 173 out of 173 | elapsed:   13.2s finished\n",
      "[Parallel(n_jobs=8)]: Done   2 tasks      | elapsed:    0.0s\n",
      "[Parallel(n_jobs=8)]: Done   9 tasks      | elapsed:    0.0s\n",
      "[Parallel(n_jobs=8)]: Done  16 tasks      | elapsed:    0.0s\n",
      "[Parallel(n_jobs=8)]: Done  25 tasks      | elapsed:    0.0s\n",
      "[Parallel(n_jobs=8)]: Done  34 tasks      | elapsed:    0.0s\n",
      "[Parallel(n_jobs=8)]: Done  45 tasks      | elapsed:    0.0s\n",
      "[Parallel(n_jobs=8)]: Done  56 tasks      | elapsed:    0.0s\n",
      "[Parallel(n_jobs=8)]: Done  69 tasks      | elapsed:    0.0s\n",
      "[Parallel(n_jobs=8)]: Done  82 tasks      | elapsed:    0.0s\n",
      "[Parallel(n_jobs=8)]: Done  97 tasks      | elapsed:    0.0s\n",
      "[Parallel(n_jobs=8)]: Done 112 tasks      | elapsed:    0.1s\n",
      "[Parallel(n_jobs=8)]: Done 129 tasks      | elapsed:    0.1s\n",
      "[Parallel(n_jobs=8)]: Done 146 tasks      | elapsed:    0.1s\n",
      "[Parallel(n_jobs=8)]: Done 173 out of 173 | elapsed:    0.1s finished\n",
      "[Parallel(n_jobs=8)]: Done   2 tasks      | elapsed:    0.0s\n",
      "[Parallel(n_jobs=8)]: Done   9 tasks      | elapsed:    0.0s\n",
      "[Parallel(n_jobs=8)]: Done  16 tasks      | elapsed:    0.0s\n",
      "[Parallel(n_jobs=8)]: Done  25 tasks      | elapsed:    0.0s\n",
      "[Parallel(n_jobs=8)]: Done  34 tasks      | elapsed:    0.0s\n",
      "[Parallel(n_jobs=8)]: Done  45 tasks      | elapsed:    0.1s\n",
      "[Parallel(n_jobs=8)]: Done  56 tasks      | elapsed:    0.1s\n",
      "[Parallel(n_jobs=8)]: Done  69 tasks      | elapsed:    0.1s\n",
      "[Parallel(n_jobs=8)]: Done  82 tasks      | elapsed:    0.1s\n",
      "[Parallel(n_jobs=8)]: Done  97 tasks      | elapsed:    0.1s\n",
      "[Parallel(n_jobs=8)]: Done 112 tasks      | elapsed:    0.1s\n",
      "[Parallel(n_jobs=8)]: Done 129 tasks      | elapsed:    0.1s\n",
      "[Parallel(n_jobs=8)]: Done 146 tasks      | elapsed:    0.1s\n",
      "[Parallel(n_jobs=8)]: Done 173 out of 173 | elapsed:    0.2s finished\n",
      "/home/justin/anaconda3/lib/python3.6/site-packages/sklearn/model_selection/_validation.py:458: DataConversionWarning: A column-vector y was passed when a 1d array was expected. Please change the shape of y to (n_samples,), for example using ravel().\n",
      "  estimator.fit(X_train, y_train, **fit_params)\n"
     ]
    },
    {
     "name": "stdout",
     "output_type": "stream",
     "text": [
      "building tree 3 of 173building tree 2 of 173building tree 4 of 173building tree 5 of 173building tree 7 of 173building tree 1 of 173building tree 6 of 173building tree 8 of 173\n",
      "\n",
      "\n",
      "\n",
      "\n",
      "\n",
      "\n",
      "\n",
      "building tree 9 of 173\n",
      "building tree 10 of 173\n"
     ]
    },
    {
     "name": "stderr",
     "output_type": "stream",
     "text": [
      "[Parallel(n_jobs=-1)]: Done   2 tasks      | elapsed:    0.8s\n"
     ]
    },
    {
     "name": "stdout",
     "output_type": "stream",
     "text": [
      "building tree 11 of 173\n",
      "building tree 12 of 173\n",
      "building tree 13 of 173\n",
      "building tree 14 of 173\n",
      "building tree 15 of 173\n",
      "building tree 16 of 173\n",
      "building tree 17 of 173\n"
     ]
    },
    {
     "name": "stderr",
     "output_type": "stream",
     "text": [
      "[Parallel(n_jobs=-1)]: Done   9 tasks      | elapsed:    1.4s\n"
     ]
    },
    {
     "name": "stdout",
     "output_type": "stream",
     "text": [
      "building tree 18 of 173\n",
      "building tree 19 of 173\n",
      "building tree 20 of 173\n",
      "building tree 21 of 173\n",
      "building tree 22 of 173\n",
      "building tree 23 of 173\n",
      "building tree 24 of 173\n"
     ]
    },
    {
     "name": "stderr",
     "output_type": "stream",
     "text": [
      "[Parallel(n_jobs=-1)]: Done  16 tasks      | elapsed:    2.0s\n"
     ]
    },
    {
     "name": "stdout",
     "output_type": "stream",
     "text": [
      "building tree 25 of 173\n",
      "building tree 26 of 173\n",
      "building tree 27 of 173\n",
      "building tree 28 of 173\n",
      "building tree 29 of 173\n",
      "building tree 30 of 173\n",
      "building tree 31 of 173\n",
      "building tree 32 of 173\n"
     ]
    },
    {
     "name": "stderr",
     "output_type": "stream",
     "text": [
      "[Parallel(n_jobs=-1)]: Done  25 tasks      | elapsed:    3.0s\n"
     ]
    },
    {
     "name": "stdout",
     "output_type": "stream",
     "text": [
      "building tree 33 of 173\n",
      "building tree 34 of 173\n",
      "building tree 35 of 173\n",
      "building tree 36 of 173\n",
      "building tree 37 of 173\n",
      "building tree 38 of 173\n",
      "building tree 39 of 173\n",
      "building tree 40 of 173\n",
      "building tree 41 of 173\n",
      "building tree 42 of 173\n"
     ]
    },
    {
     "name": "stderr",
     "output_type": "stream",
     "text": [
      "[Parallel(n_jobs=-1)]: Done  34 tasks      | elapsed:    3.9s\n"
     ]
    },
    {
     "name": "stdout",
     "output_type": "stream",
     "text": [
      "building tree 43 of 173\n",
      "building tree 44 of 173\n",
      "building tree 45 of 173\n",
      "building tree 46 of 173\n",
      "building tree 47 of 173\n",
      "building tree 48 of 173\n",
      "building tree 49 of 173\n",
      "building tree 50 of 173\n",
      "building tree 51 of 173\n",
      "building tree 52 of 173\n",
      "building tree 53 of 173\n",
      "building tree 54 of 173\n"
     ]
    },
    {
     "name": "stderr",
     "output_type": "stream",
     "text": [
      "[Parallel(n_jobs=-1)]: Done  45 tasks      | elapsed:    5.2s\n"
     ]
    },
    {
     "name": "stdout",
     "output_type": "stream",
     "text": [
      "building tree 55 of 173\n",
      "building tree 56 of 173\n",
      "building tree 57 of 173\n",
      "building tree 58 of 173\n",
      "building tree 59 of 173\n",
      "building tree 60 of 173\n",
      "building tree 61 of 173\n",
      "building tree 62 of 173\n",
      "building tree 63 of 173\n"
     ]
    },
    {
     "name": "stderr",
     "output_type": "stream",
     "text": [
      "[Parallel(n_jobs=-1)]: Done  56 tasks      | elapsed:    6.4s\n"
     ]
    },
    {
     "name": "stdout",
     "output_type": "stream",
     "text": [
      "building tree 64 of 173\n",
      "building tree 65 of 173\n",
      "building tree 66 of 173\n",
      "building tree 67 of 173\n",
      "building tree 68 of 173\n",
      "building tree 69 of 173\n",
      "building tree 70 of 173\n",
      "building tree 71 of 173\n",
      "building tree 72 of 173\n",
      "building tree 73 of 173\n",
      "building tree 74 of 173\n",
      "building tree 75 of 173\n",
      "building tree 76 of 173\n",
      "building tree 77 of 173\n"
     ]
    },
    {
     "name": "stderr",
     "output_type": "stream",
     "text": [
      "[Parallel(n_jobs=-1)]: Done  69 tasks      | elapsed:    7.6s\n"
     ]
    },
    {
     "name": "stdout",
     "output_type": "stream",
     "text": [
      "building tree 78 of 173\n",
      "building tree 79 of 173\n",
      "building tree 80 of 173\n",
      "building tree 81 of 173\n",
      "building tree 82 of 173\n",
      "building tree 83 of 173\n",
      "building tree 84 of 173\n",
      "building tree 85 of 173\n",
      "building tree 86 of 173\n",
      "building tree 87 of 173\n",
      "building tree 88 of 173\n",
      "building tree 89 of 173\n",
      "building tree 90 of 173\n",
      "building tree 91 of 173\n",
      "building tree 92 of 173\n",
      "building tree 93 of 173\n"
     ]
    },
    {
     "name": "stderr",
     "output_type": "stream",
     "text": [
      "[Parallel(n_jobs=-1)]: Done  82 tasks      | elapsed:    9.2s\n"
     ]
    },
    {
     "name": "stdout",
     "output_type": "stream",
     "text": [
      "building tree 94 of 173\n",
      "building tree 95 of 173\n",
      "building tree 96 of 173\n",
      "building tree 97 of 173\n",
      "building tree 98 of 173\n",
      "building tree 99 of 173\n",
      "building tree 100 of 173\n",
      "building tree 101 of 173\n",
      "building tree 102 of 173\n",
      "building tree 103 of 173\n",
      "building tree 104 of 173\n",
      "building tree 105 of 173\n"
     ]
    },
    {
     "name": "stderr",
     "output_type": "stream",
     "text": [
      "[Parallel(n_jobs=-1)]: Done  97 tasks      | elapsed:   10.8s\n"
     ]
    },
    {
     "name": "stdout",
     "output_type": "stream",
     "text": [
      "building tree 106 of 173\n",
      "building tree 107 of 173\n",
      "building tree 108 of 173\n",
      "building tree 109 of 173\n",
      "building tree 110 of 173\n",
      "building tree 111 of 173\n",
      "building tree 112 of 173\n",
      "building tree 113 of 173\n",
      "building tree 114 of 173\n",
      "building tree 115 of 173\n",
      "building tree 116 of 173\n",
      "building tree 117 of 173\n",
      "building tree 118 of 173\n",
      "building tree 119 of 173\n"
     ]
    },
    {
     "name": "stderr",
     "output_type": "stream",
     "text": [
      "[Parallel(n_jobs=-1)]: Done 112 tasks      | elapsed:   12.5s\n"
     ]
    },
    {
     "name": "stdout",
     "output_type": "stream",
     "text": [
      "building tree 120 of 173\n",
      "building tree 121 of 173\n",
      "building tree 122 of 173\n",
      "building tree 123 of 173\n",
      "building tree 124 of 173\n",
      "building tree 125 of 173\n",
      "building tree 126 of 173\n",
      "building tree 127 of 173\n",
      "building tree 128 of 173\n",
      "building tree 129 of 173\n",
      "building tree 130 of 173\n",
      "building tree 131 of 173\n",
      "building tree 132 of 173\n",
      "building tree 133 of 173\n",
      "building tree 134 of 173\n",
      "building tree 135 of 173\n",
      "building tree 136 of 173\n"
     ]
    },
    {
     "name": "stderr",
     "output_type": "stream",
     "text": [
      "[Parallel(n_jobs=-1)]: Done 129 tasks      | elapsed:   14.2s\n"
     ]
    },
    {
     "name": "stdout",
     "output_type": "stream",
     "text": [
      "building tree 137 of 173\n",
      "building tree 138 of 173\n",
      "building tree 139 of 173\n",
      "building tree 140 of 173\n",
      "building tree 141 of 173\n",
      "building tree 142 of 173\n",
      "building tree 143 of 173\n",
      "building tree 144 of 173\n",
      "building tree 145 of 173\n",
      "building tree 146 of 173\n",
      "building tree 147 of 173\n",
      "building tree 148 of 173\n",
      "building tree 149 of 173\n",
      "building tree 150 of 173\n",
      "building tree 151 of 173\n",
      "building tree 152 of 173\n",
      "building tree 153 of 173\n"
     ]
    },
    {
     "name": "stderr",
     "output_type": "stream",
     "text": [
      "[Parallel(n_jobs=-1)]: Done 146 tasks      | elapsed:   16.0s\n"
     ]
    },
    {
     "name": "stdout",
     "output_type": "stream",
     "text": [
      "building tree 154 of 173\n",
      "building tree 155 of 173\n",
      "building tree 156 of 173\n",
      "building tree 157 of 173\n",
      "building tree 158 of 173\n",
      "building tree 159 of 173\n",
      "building tree 160 of 173\n",
      "building tree 161 of 173\n",
      "building tree 162 of 173\n",
      "building tree 163 of 173\n",
      "building tree 164 of 173\n",
      "building tree 165 of 173\n",
      "building tree 166 of 173\n",
      "building tree 167 of 173\n",
      "building tree 168 of 173\n",
      "building tree 169 of 173\n",
      "building tree 170 of 173\n",
      "building tree 171 of 173\n",
      "building tree 172 of 173\n",
      "building tree 173 of 173\n"
     ]
    },
    {
     "name": "stderr",
     "output_type": "stream",
     "text": [
      "[Parallel(n_jobs=-1)]: Done 173 out of 173 | elapsed:   18.7s finished\n",
      "[Parallel(n_jobs=8)]: Done   2 tasks      | elapsed:    0.0s\n",
      "[Parallel(n_jobs=8)]: Done   9 tasks      | elapsed:    0.0s\n",
      "[Parallel(n_jobs=8)]: Done  16 tasks      | elapsed:    0.0s\n",
      "[Parallel(n_jobs=8)]: Done  25 tasks      | elapsed:    0.0s\n",
      "[Parallel(n_jobs=8)]: Done  34 tasks      | elapsed:    0.0s\n",
      "[Parallel(n_jobs=8)]: Done  45 tasks      | elapsed:    0.0s\n",
      "[Parallel(n_jobs=8)]: Done  56 tasks      | elapsed:    0.0s\n",
      "[Parallel(n_jobs=8)]: Done  69 tasks      | elapsed:    0.0s\n",
      "[Parallel(n_jobs=8)]: Done  82 tasks      | elapsed:    0.1s\n",
      "[Parallel(n_jobs=8)]: Done  97 tasks      | elapsed:    0.1s\n",
      "[Parallel(n_jobs=8)]: Done 112 tasks      | elapsed:    0.1s\n",
      "[Parallel(n_jobs=8)]: Done 129 tasks      | elapsed:    0.1s\n",
      "[Parallel(n_jobs=8)]: Done 146 tasks      | elapsed:    0.1s\n",
      "[Parallel(n_jobs=8)]: Done 173 out of 173 | elapsed:    0.1s finished\n",
      "[Parallel(n_jobs=8)]: Done   2 tasks      | elapsed:    0.0s\n",
      "[Parallel(n_jobs=8)]: Done   9 tasks      | elapsed:    0.0s\n",
      "[Parallel(n_jobs=8)]: Done  16 tasks      | elapsed:    0.0s\n",
      "[Parallel(n_jobs=8)]: Done  25 tasks      | elapsed:    0.0s\n",
      "[Parallel(n_jobs=8)]: Done  34 tasks      | elapsed:    0.0s\n",
      "[Parallel(n_jobs=8)]: Done  45 tasks      | elapsed:    0.1s\n",
      "[Parallel(n_jobs=8)]: Done  56 tasks      | elapsed:    0.1s\n",
      "[Parallel(n_jobs=8)]: Done  69 tasks      | elapsed:    0.1s\n",
      "[Parallel(n_jobs=8)]: Done  82 tasks      | elapsed:    0.1s\n",
      "[Parallel(n_jobs=8)]: Done  97 tasks      | elapsed:    0.1s\n",
      "[Parallel(n_jobs=8)]: Done 112 tasks      | elapsed:    0.1s\n",
      "[Parallel(n_jobs=8)]: Done 129 tasks      | elapsed:    0.1s\n",
      "[Parallel(n_jobs=8)]: Done 146 tasks      | elapsed:    0.2s\n",
      "[Parallel(n_jobs=8)]: Done 173 out of 173 | elapsed:    0.2s finished\n",
      "/home/justin/anaconda3/lib/python3.6/site-packages/sklearn/model_selection/_validation.py:458: DataConversionWarning: A column-vector y was passed when a 1d array was expected. Please change the shape of y to (n_samples,), for example using ravel().\n",
      "  estimator.fit(X_train, y_train, **fit_params)\n"
     ]
    },
    {
     "name": "stdout",
     "output_type": "stream",
     "text": [
      "building tree 3 of 173building tree 4 of 173building tree 6 of 173building tree 7 of 173\n",
      "building tree 2 of 173building tree 1 of 173building tree 8 of 173building tree 5 of 173\n",
      "\n",
      "\n",
      "\n",
      "\n",
      "\n",
      "\n",
      "building tree 9 of 173\n",
      "building tree 10 of 173\n",
      "building tree 11 of 173\n",
      "building tree 12 of 173\n"
     ]
    },
    {
     "name": "stderr",
     "output_type": "stream",
     "text": [
      "[Parallel(n_jobs=-1)]: Done   2 tasks      | elapsed:    0.8s\n"
     ]
    },
    {
     "name": "stdout",
     "output_type": "stream",
     "text": [
      "building tree 13 of 173\n",
      "building tree 14 of 173\n",
      "building tree 15 of 173\n",
      "building tree 16 of 173\n"
     ]
    },
    {
     "name": "stderr",
     "output_type": "stream",
     "text": [
      "[Parallel(n_jobs=-1)]: Done   9 tasks      | elapsed:    1.6s\n"
     ]
    },
    {
     "name": "stdout",
     "output_type": "stream",
     "text": [
      "building tree 17 of 173\n",
      "building tree 18 of 173\n",
      "building tree 19 of 173\n",
      "building tree 20 of 173\n",
      "building tree 21 of 173\n",
      "building tree 22 of 173\n",
      "building tree 23 of 173\n",
      "building tree 24 of 173\n"
     ]
    },
    {
     "name": "stderr",
     "output_type": "stream",
     "text": [
      "[Parallel(n_jobs=-1)]: Done  16 tasks      | elapsed:    2.2s\n"
     ]
    },
    {
     "name": "stdout",
     "output_type": "stream",
     "text": [
      "building tree 25 of 173\n",
      "building tree 26 of 173\n",
      "building tree 27 of 173\n",
      "building tree 28 of 173\n",
      "building tree 29 of 173\n",
      "building tree 30 of 173\n",
      "building tree 31 of 173\n",
      "building tree 32 of 173\n",
      "building tree 33 of 173\n"
     ]
    },
    {
     "name": "stderr",
     "output_type": "stream",
     "text": [
      "[Parallel(n_jobs=-1)]: Done  25 tasks      | elapsed:    3.5s\n"
     ]
    },
    {
     "name": "stdout",
     "output_type": "stream",
     "text": [
      "building tree 34 of 173\n",
      "building tree 35 of 173\n",
      "building tree 36 of 173\n",
      "building tree 37 of 173\n",
      "building tree 38 of 173\n",
      "building tree 39 of 173\n",
      "building tree 40 of 173\n",
      "building tree 41 of 173\n",
      "building tree 42 of 173\n",
      "building tree 43 of 173\n"
     ]
    },
    {
     "name": "stderr",
     "output_type": "stream",
     "text": [
      "[Parallel(n_jobs=-1)]: Done  34 tasks      | elapsed:    4.5s\n"
     ]
    },
    {
     "name": "stdout",
     "output_type": "stream",
     "text": [
      "building tree 44 of 173\n",
      "building tree 45 of 173\n",
      "building tree 46 of 173\n",
      "building tree 47 of 173\n",
      "building tree 48 of 173\n",
      "building tree 49 of 173\n",
      "building tree 50 of 173\n",
      "building tree 51 of 173\n",
      "building tree 52 of 173\n"
     ]
    },
    {
     "name": "stderr",
     "output_type": "stream",
     "text": [
      "[Parallel(n_jobs=-1)]: Done  45 tasks      | elapsed:    6.0s\n"
     ]
    },
    {
     "name": "stdout",
     "output_type": "stream",
     "text": [
      "building tree 53 of 173\n",
      "building tree 54 of 173\n",
      "building tree 55 of 173\n",
      "building tree 56 of 173\n",
      "building tree 57 of 173\n",
      "building tree 58 of 173\n",
      "building tree 59 of 173\n",
      "building tree 60 of 173\n",
      "building tree 61 of 173\n",
      "building tree 62 of 173\n",
      "building tree 63 of 173\n"
     ]
    },
    {
     "name": "stderr",
     "output_type": "stream",
     "text": [
      "[Parallel(n_jobs=-1)]: Done  56 tasks      | elapsed:    7.4s\n"
     ]
    },
    {
     "name": "stdout",
     "output_type": "stream",
     "text": [
      "building tree 64 of 173\n",
      "building tree 65 of 173\n",
      "building tree 66 of 173\n",
      "building tree 67 of 173\n",
      "building tree 68 of 173\n",
      "building tree 69 of 173\n",
      "building tree 70 of 173\n",
      "building tree 71 of 173\n",
      "building tree 72 of 173\n",
      "building tree 73 of 173\n",
      "building tree 74 of 173\n",
      "building tree 75 of 173\n",
      "building tree 76 of 173\n",
      "building tree 77 of 173\n",
      "building tree 78 of 173\n"
     ]
    },
    {
     "name": "stderr",
     "output_type": "stream",
     "text": [
      "[Parallel(n_jobs=-1)]: Done  69 tasks      | elapsed:    9.0s\n"
     ]
    },
    {
     "name": "stdout",
     "output_type": "stream",
     "text": [
      "building tree 79 of 173\n",
      "building tree 80 of 173\n",
      "building tree 81 of 173\n",
      "building tree 82 of 173\n",
      "building tree 83 of 173\n",
      "building tree 84 of 173\n",
      "building tree 85 of 173\n",
      "building tree 86 of 173\n",
      "building tree 87 of 173\n",
      "building tree 88 of 173\n",
      "building tree 89 of 173\n"
     ]
    },
    {
     "name": "stderr",
     "output_type": "stream",
     "text": [
      "[Parallel(n_jobs=-1)]: Done  82 tasks      | elapsed:   10.7s\n"
     ]
    },
    {
     "name": "stdout",
     "output_type": "stream",
     "text": [
      "building tree 90 of 173\n",
      "building tree 91 of 173\n",
      "building tree 92 of 173\n",
      "building tree 93 of 173\n",
      "building tree 94 of 173\n",
      "building tree 95 of 173\n",
      "building tree 96 of 173\n",
      "building tree 97 of 173\n",
      "building tree 98 of 173\n",
      "building tree 99 of 173\n",
      "building tree 100 of 173\n",
      "building tree 101 of 173\n",
      "building tree 102 of 173\n",
      "building tree 103 of 173\n",
      "building tree 104 of 173\n",
      "building tree 105 of 173\n",
      "building tree 106 of 173\n"
     ]
    },
    {
     "name": "stderr",
     "output_type": "stream",
     "text": [
      "[Parallel(n_jobs=-1)]: Done  97 tasks      | elapsed:   12.5s\n"
     ]
    },
    {
     "name": "stdout",
     "output_type": "stream",
     "text": [
      "building tree 107 of 173\n",
      "building tree 108 of 173\n",
      "building tree 109 of 173\n",
      "building tree 110 of 173\n",
      "building tree 111 of 173\n",
      "building tree 112 of 173\n",
      "building tree 113 of 173\n",
      "building tree 114 of 173\n",
      "building tree 115 of 173\n",
      "building tree 116 of 173\n",
      "building tree 117 of 173\n",
      "building tree 118 of 173\n",
      "building tree 119 of 173\n",
      "building tree 120 of 173\n"
     ]
    },
    {
     "name": "stderr",
     "output_type": "stream",
     "text": [
      "[Parallel(n_jobs=-1)]: Done 112 tasks      | elapsed:   14.2s\n"
     ]
    },
    {
     "name": "stdout",
     "output_type": "stream",
     "text": [
      "building tree 121 of 173\n",
      "building tree 122 of 173\n",
      "building tree 123 of 173\n",
      "building tree 124 of 173\n",
      "building tree 125 of 173\n",
      "building tree 126 of 173\n",
      "building tree 127 of 173\n",
      "building tree 128 of 173\n",
      "building tree 129 of 173\n",
      "building tree 130 of 173\n",
      "building tree 131 of 173\n",
      "building tree 132 of 173\n",
      "building tree 133 of 173\n",
      "building tree 134 of 173\n",
      "building tree 135 of 173\n",
      "building tree 136 of 173\n",
      "building tree 137 of 173\n"
     ]
    },
    {
     "name": "stderr",
     "output_type": "stream",
     "text": [
      "[Parallel(n_jobs=-1)]: Done 129 tasks      | elapsed:   16.4s\n"
     ]
    },
    {
     "name": "stdout",
     "output_type": "stream",
     "text": [
      "building tree 138 of 173\n",
      "building tree 139 of 173\n",
      "building tree 140 of 173\n",
      "building tree 141 of 173\n",
      "building tree 142 of 173\n",
      "building tree 143 of 173\n",
      "building tree 144 of 173\n",
      "building tree 145 of 173\n",
      "building tree 146 of 173\n",
      "building tree 147 of 173\n",
      "building tree 148 of 173\n",
      "building tree 149 of 173\n",
      "building tree 150 of 173\n",
      "building tree 151 of 173\n",
      "building tree 152 of 173\n",
      "building tree 153 of 173\n"
     ]
    },
    {
     "name": "stderr",
     "output_type": "stream",
     "text": [
      "[Parallel(n_jobs=-1)]: Done 146 tasks      | elapsed:   18.5s\n"
     ]
    },
    {
     "name": "stdout",
     "output_type": "stream",
     "text": [
      "building tree 154 of 173\n",
      "building tree 155 of 173\n",
      "building tree 156 of 173\n",
      "building tree 157 of 173\n",
      "building tree 158 of 173\n",
      "building tree 159 of 173\n",
      "building tree 160 of 173\n",
      "building tree 161 of 173\n",
      "building tree 162 of 173\n",
      "building tree 163 of 173\n",
      "building tree 164 of 173\n",
      "building tree 165 of 173\n",
      "building tree 166 of 173\n",
      "building tree 167 of 173\n",
      "building tree 168 of 173\n",
      "building tree 169 of 173\n",
      "building tree 170 of 173\n",
      "building tree 171 of 173\n",
      "building tree 172 of 173\n",
      "building tree 173 of 173\n"
     ]
    },
    {
     "name": "stderr",
     "output_type": "stream",
     "text": [
      "[Parallel(n_jobs=-1)]: Done 173 out of 173 | elapsed:   21.7s finished\n",
      "[Parallel(n_jobs=8)]: Done   2 tasks      | elapsed:    0.0s\n",
      "[Parallel(n_jobs=8)]: Done   9 tasks      | elapsed:    0.0s\n",
      "[Parallel(n_jobs=8)]: Done  16 tasks      | elapsed:    0.0s\n",
      "[Parallel(n_jobs=8)]: Done  25 tasks      | elapsed:    0.0s\n",
      "[Parallel(n_jobs=8)]: Done  34 tasks      | elapsed:    0.0s\n",
      "[Parallel(n_jobs=8)]: Done  45 tasks      | elapsed:    0.0s\n",
      "[Parallel(n_jobs=8)]: Done  56 tasks      | elapsed:    0.0s\n",
      "[Parallel(n_jobs=8)]: Done  69 tasks      | elapsed:    0.0s\n",
      "[Parallel(n_jobs=8)]: Done  82 tasks      | elapsed:    0.1s\n",
      "[Parallel(n_jobs=8)]: Done  97 tasks      | elapsed:    0.1s\n",
      "[Parallel(n_jobs=8)]: Done 112 tasks      | elapsed:    0.1s\n",
      "[Parallel(n_jobs=8)]: Done 129 tasks      | elapsed:    0.1s\n",
      "[Parallel(n_jobs=8)]: Done 146 tasks      | elapsed:    0.1s\n",
      "[Parallel(n_jobs=8)]: Done 173 out of 173 | elapsed:    0.1s finished\n",
      "[Parallel(n_jobs=8)]: Done   2 tasks      | elapsed:    0.0s\n",
      "[Parallel(n_jobs=8)]: Done   9 tasks      | elapsed:    0.0s\n",
      "[Parallel(n_jobs=8)]: Done  16 tasks      | elapsed:    0.0s\n",
      "[Parallel(n_jobs=8)]: Done  25 tasks      | elapsed:    0.0s\n",
      "[Parallel(n_jobs=8)]: Done  34 tasks      | elapsed:    0.0s\n",
      "[Parallel(n_jobs=8)]: Done  45 tasks      | elapsed:    0.1s\n",
      "[Parallel(n_jobs=8)]: Done  56 tasks      | elapsed:    0.1s\n",
      "[Parallel(n_jobs=8)]: Done  69 tasks      | elapsed:    0.1s\n",
      "[Parallel(n_jobs=8)]: Done  82 tasks      | elapsed:    0.1s\n",
      "[Parallel(n_jobs=8)]: Done  97 tasks      | elapsed:    0.1s\n",
      "[Parallel(n_jobs=8)]: Done 112 tasks      | elapsed:    0.1s\n",
      "[Parallel(n_jobs=8)]: Done 129 tasks      | elapsed:    0.2s\n",
      "[Parallel(n_jobs=8)]: Done 146 tasks      | elapsed:    0.2s\n",
      "[Parallel(n_jobs=8)]: Done 173 out of 173 | elapsed:    0.2s finished\n",
      "/home/justin/anaconda3/lib/python3.6/site-packages/sklearn/model_selection/_validation.py:458: DataConversionWarning: A column-vector y was passed when a 1d array was expected. Please change the shape of y to (n_samples,), for example using ravel().\n",
      "  estimator.fit(X_train, y_train, **fit_params)\n",
      "[Parallel(n_jobs=-1)]: Done   2 tasks      | elapsed:    0.0s\n",
      "[Parallel(n_jobs=-1)]: Done   9 tasks      | elapsed:    0.1s\n",
      "[Parallel(n_jobs=-1)]: Done  16 tasks      | elapsed:    0.1s\n"
     ]
    },
    {
     "name": "stdout",
     "output_type": "stream",
     "text": [
      "building tree 3 of 122\n",
      "building tree 4 of 122building tree 5 of 122building tree 6 of 122building tree 7 of 122building tree 1 of 122building tree 8 of 122building tree 2 of 122\n",
      "\n",
      "\n",
      "\n",
      "\n",
      "\n",
      "\n",
      "building tree 10 of 122\n",
      "building tree 9 of 122building tree 11 of 122\n",
      "building tree 12 of 122\n",
      "\n",
      "building tree 13 of 122\n",
      "building tree 14 of 122\n",
      "building tree 16 of 122building tree 15 of 122\n",
      "\n",
      "building tree 17 of 122\n",
      "building tree 18 of 122\n",
      "building tree 19 of 122\n",
      "building tree 20 of 122\n",
      "building tree 21 of 122building tree 22 of 122\n",
      "\n",
      "building tree 23 of 122\n",
      "building tree 24 of 122\n",
      "building tree 25 of 122\n",
      "building tree 27 of 122\n",
      "building tree 28 of 122building tree 26 of 122\n",
      "\n",
      "building tree 29 of 122\n",
      "building tree 30 of 122\n",
      "building tree 31 of 122\n",
      "building tree 32 of 122\n",
      "building tree 34 of 122\n",
      "building tree 33 of 122building tree 35 of 122\n",
      "\n",
      "building tree 36 of 122\n",
      "building tree 37 of 122\n",
      "building tree 38 of 122\n"
     ]
    },
    {
     "name": "stderr",
     "output_type": "stream",
     "text": [
      "[Parallel(n_jobs=-1)]: Done  25 tasks      | elapsed:    0.2s\n",
      "[Parallel(n_jobs=-1)]: Done  34 tasks      | elapsed:    0.2s\n",
      "[Parallel(n_jobs=-1)]: Done  45 tasks      | elapsed:    0.3s\n",
      "[Parallel(n_jobs=-1)]: Done  56 tasks      | elapsed:    0.4s\n"
     ]
    },
    {
     "name": "stdout",
     "output_type": "stream",
     "text": [
      "building tree 39 of 122\n",
      "building tree 40 of 122\n",
      "building tree 42 of 122\n",
      "building tree 41 of 122\n",
      "building tree 44 of 122\n",
      "building tree 43 of 122building tree 45 of 122\n",
      "building tree 46 of 122\n",
      "\n",
      "building tree 47 of 122\n",
      "building tree 48 of 122\n",
      "building tree 49 of 122\n",
      "building tree 50 of 122\n",
      "building tree 51 of 122\n",
      "building tree 52 of 122\n",
      "building tree 53 of 122\n",
      "building tree 54 of 122\n",
      "building tree 55 of 122\n",
      "building tree 56 of 122building tree 57 of 122\n",
      "building tree 58 of 122\n",
      "\n",
      "building tree 59 of 122\n",
      "building tree 60 of 122\n",
      "building tree 61 of 122\n",
      "building tree 62 of 122\n",
      "building tree 63 of 122\n",
      "building tree 64 of 122\n",
      "building tree 65 of 122\n",
      "building tree 66 of 122\n",
      "building tree 68 of 122\n",
      "building tree 69 of 122\n",
      "building tree 70 of 122\n",
      "building tree 71 of 122building tree 67 of 122\n",
      "\n",
      "building tree 72 of 122\n",
      "building tree 73 of 122\n",
      "building tree 74 of 122\n",
      "building tree 75 of 122\n",
      "building tree 76 of 122\n",
      "building tree 77 of 122\n",
      "building tree 78 of 122\n",
      "building tree 80 of 122\n",
      "building tree 81 of 122\n",
      "building tree 79 of 122\n",
      "building tree 84 of 122building tree 83 of 122\n",
      "building tree 82 of 122building tree 85 of 122\n",
      "\n",
      "\n",
      "building tree 87 of 122building tree 86 of 122\n",
      "building tree 88 of 122\n",
      "\n",
      "building tree 89 of 122\n",
      "building tree 90 of 122\n",
      "building tree 91 of 122\n",
      "building tree 92 of 122\n",
      "building tree 94 of 122\n",
      "building tree 95 of 122\n",
      "building tree 96 of 122\n",
      "building tree 93 of 122\n",
      "building tree 97 of 122\n",
      "building tree 98 of 122\n",
      "building tree 100 of 122\n",
      "building tree 99 of 122\n",
      "building tree 101 of 122\n",
      "building tree 102 of 122\n",
      "building tree 103 of 122\n",
      "building tree 104 of 122\n",
      "building tree 106 of 122\n",
      "building tree 107 of 122"
     ]
    },
    {
     "name": "stderr",
     "output_type": "stream",
     "text": [
      "[Parallel(n_jobs=-1)]: Done  69 tasks      | elapsed:    0.4s\n",
      "[Parallel(n_jobs=-1)]: Done  82 tasks      | elapsed:    0.5s\n",
      "[Parallel(n_jobs=-1)]: Done  97 tasks      | elapsed:    0.6s\n"
     ]
    },
    {
     "name": "stdout",
     "output_type": "stream",
     "text": [
      "\n",
      "building tree 105 of 122building tree 108 of 122\n",
      "\n",
      "building tree 109 of 122\n",
      "building tree 110 of 122\n",
      "building tree 111 of 122\n",
      "building tree 112 of 122\n",
      "building tree 113 of 122\n",
      "building tree 114 of 122\n",
      "building tree 115 of 122\n",
      "building tree 116 of 122building tree 117 of 122\n",
      "building tree 118 of 122\n",
      "\n",
      "building tree 119 of 122\n",
      "building tree 120 of 122\n",
      "building tree 121 of 122\n",
      "building tree 122 of 122\n"
     ]
    },
    {
     "name": "stderr",
     "output_type": "stream",
     "text": [
      "[Parallel(n_jobs=-1)]: Done 120 out of 122 | elapsed:    0.7s remaining:    0.0s\n",
      "[Parallel(n_jobs=-1)]: Done 122 out of 122 | elapsed:    0.8s finished\n",
      "[Parallel(n_jobs=8)]: Done   2 tasks      | elapsed:    0.0s\n",
      "[Parallel(n_jobs=8)]: Done   9 tasks      | elapsed:    0.0s\n",
      "[Parallel(n_jobs=8)]: Done  16 tasks      | elapsed:    0.0s\n",
      "[Parallel(n_jobs=8)]: Done  25 tasks      | elapsed:    0.0s\n",
      "[Parallel(n_jobs=8)]: Done  34 tasks      | elapsed:    0.0s\n",
      "[Parallel(n_jobs=8)]: Done  45 tasks      | elapsed:    0.0s\n",
      "[Parallel(n_jobs=8)]: Done  56 tasks      | elapsed:    0.0s\n",
      "[Parallel(n_jobs=8)]: Done  69 tasks      | elapsed:    0.0s\n",
      "[Parallel(n_jobs=8)]: Done  82 tasks      | elapsed:    0.0s\n",
      "[Parallel(n_jobs=8)]: Done  97 tasks      | elapsed:    0.0s\n",
      "[Parallel(n_jobs=8)]: Done 120 out of 122 | elapsed:    0.0s remaining:    0.0s\n",
      "[Parallel(n_jobs=8)]: Done 122 out of 122 | elapsed:    0.0s finished\n",
      "[Parallel(n_jobs=8)]: Done   2 tasks      | elapsed:    0.0s\n",
      "[Parallel(n_jobs=8)]: Done   9 tasks      | elapsed:    0.0s\n",
      "[Parallel(n_jobs=8)]: Done  16 tasks      | elapsed:    0.0s\n",
      "[Parallel(n_jobs=8)]: Done  25 tasks      | elapsed:    0.0s\n",
      "[Parallel(n_jobs=8)]: Done  34 tasks      | elapsed:    0.0s\n",
      "[Parallel(n_jobs=8)]: Done  45 tasks      | elapsed:    0.0s\n",
      "[Parallel(n_jobs=8)]: Done  56 tasks      | elapsed:    0.0s\n",
      "[Parallel(n_jobs=8)]: Done  69 tasks      | elapsed:    0.1s\n",
      "[Parallel(n_jobs=8)]: Done  82 tasks      | elapsed:    0.1s\n",
      "[Parallel(n_jobs=8)]: Done  97 tasks      | elapsed:    0.1s\n",
      "[Parallel(n_jobs=8)]: Done 120 out of 122 | elapsed:    0.1s remaining:    0.0s\n",
      "[Parallel(n_jobs=8)]: Done 122 out of 122 | elapsed:    0.1s finished\n",
      "/home/justin/anaconda3/lib/python3.6/site-packages/sklearn/model_selection/_validation.py:458: DataConversionWarning: A column-vector y was passed when a 1d array was expected. Please change the shape of y to (n_samples,), for example using ravel().\n",
      "  estimator.fit(X_train, y_train, **fit_params)\n",
      "[Parallel(n_jobs=-1)]: Done   2 tasks      | elapsed:    0.0s\n",
      "[Parallel(n_jobs=-1)]: Done   9 tasks      | elapsed:    0.1s\n"
     ]
    },
    {
     "name": "stdout",
     "output_type": "stream",
     "text": [
      "building tree 3 of 122building tree 4 of 122building tree 6 of 122building tree 5 of 122building tree 7 of 122\n",
      "building tree 8 of 122\n",
      "\n",
      "\n",
      "\n",
      "\n",
      "building tree 1 of 122building tree 2 of 122\n",
      "\n",
      "building tree 10 of 122\n",
      "building tree 11 of 122\n",
      "building tree 9 of 122\n",
      "building tree 12 of 122\n",
      "building tree 13 of 122\n",
      "building tree 15 of 122\n",
      "building tree 16 of 122\n",
      "building tree 17 of 122building tree 18 of 122\n",
      "building tree 14 of 122\n",
      "\n",
      "building tree 19 of 122\n",
      "building tree 20 of 122building tree 21 of 122\n",
      "building tree 22 of 122\n",
      "\n",
      "building tree 23 of 122\n",
      "building tree 25 of 122\n",
      "building tree 27 of 122\n",
      "building tree 28 of 122building tree 24 of 122\n",
      "\n",
      "building tree 29 of 122\n",
      "building tree 30 of 122building tree 26 of 122\n",
      "\n",
      "building tree 31 of 122\n",
      "building tree 32 of 122\n",
      "building tree 33 of 122\n",
      "building tree 34 of 122"
     ]
    },
    {
     "name": "stderr",
     "output_type": "stream",
     "text": [
      "[Parallel(n_jobs=-1)]: Done  16 tasks      | elapsed:    0.2s\n",
      "[Parallel(n_jobs=-1)]: Done  25 tasks      | elapsed:    0.2s\n",
      "[Parallel(n_jobs=-1)]: Done  34 tasks      | elapsed:    0.3s\n",
      "[Parallel(n_jobs=-1)]: Done  45 tasks      | elapsed:    0.3s\n"
     ]
    },
    {
     "name": "stdout",
     "output_type": "stream",
     "text": [
      "\n",
      "building tree 35 of 122\n",
      "building tree 36 of 122building tree 37 of 122\n",
      "\n",
      "building tree 38 of 122\n",
      "building tree 40 of 122\n",
      "building tree 39 of 122\n",
      "building tree 41 of 122building tree 42 of 122\n",
      "building tree 43 of 122\n",
      "building tree 44 of 122\n",
      "\n",
      "building tree 45 of 122\n",
      "building tree 46 of 122\n",
      "building tree 47 of 122\n",
      "building tree 49 of 122\n",
      "building tree 48 of 122building tree 50 of 122building tree 51 of 122\n",
      "\n",
      "building tree 52 of 122\n",
      "building tree 53 of 122\n",
      "\n",
      "building tree 54 of 122\n",
      "building tree 55 of 122\n",
      "building tree 56 of 122building tree 57 of 122\n",
      "\n",
      "building tree 58 of 122\n",
      "building tree 59 of 122\n",
      "building tree 60 of 122\n",
      "building tree 62 of 122\n",
      "building tree 61 of 122building tree 63 of 122\n",
      "\n",
      "building tree 65 of 122\n",
      "building tree 67 of 122\n",
      "building tree 66 of 122building tree 68 of 122building tree 64 of 122\n",
      "\n",
      "\n",
      "building tree 69 of 122\n",
      "building tree 70 of 122building tree 71 of 122\n",
      "building tree 72 of 122\n",
      "building tree 73 of 122\n",
      "\n",
      "building tree 74 of 122\n",
      "building tree 75 of 122\n",
      "building tree 76 of 122\n",
      "building tree 77 of 122\n",
      "building tree 78 of 122\n",
      "building tree 79 of 122\n",
      "building tree 81 of 122\n",
      "building tree 82 of 122\n",
      "building tree 80 of 122\n",
      "building tree 83 of 122\n",
      "building tree 84 of 122\n",
      "building tree 85 of 122\n",
      "building tree 86 of 122\n",
      "building tree 87 of 122\n",
      "building tree 88 of 122building tree 89 of 122\n",
      "building tree 90 of 122\n",
      "\n",
      "building tree 91 of 122\n"
     ]
    },
    {
     "name": "stderr",
     "output_type": "stream",
     "text": [
      "[Parallel(n_jobs=-1)]: Done  56 tasks      | elapsed:    0.4s\n",
      "[Parallel(n_jobs=-1)]: Done  69 tasks      | elapsed:    0.5s\n",
      "[Parallel(n_jobs=-1)]: Done  82 tasks      | elapsed:    0.6s\n"
     ]
    },
    {
     "name": "stdout",
     "output_type": "stream",
     "text": [
      "building tree 92 of 122\n",
      "building tree 93 of 122\n",
      "building tree 94 of 122\n",
      "building tree 95 of 122\n",
      "building tree 96 of 122\n",
      "building tree 97 of 122\n",
      "building tree 98 of 122building tree 99 of 122\n",
      "\n",
      "building tree 101 of 122\n",
      "building tree 100 of 122\n",
      "building tree 102 of 122\n",
      "building tree 104 of 122\n",
      "building tree 103 of 122building tree 105 of 122\n",
      "\n",
      "building tree 106 of 122\n",
      "building tree 107 of 122\n",
      "building tree 108 of 122\n",
      "building tree 109 of 122\n",
      "building tree 110 of 122\n",
      "building tree 111 of 122\n",
      "building tree 112 of 122\n",
      "building tree 113 of 122\n",
      "building tree 114 of 122\n",
      "building tree 115 of 122\n",
      "building tree 117 of 122\n",
      "building tree 116 of 122building tree 118 of 122\n",
      "\n",
      "building tree 119 of 122\n",
      "building tree 120 of 122\n",
      "building tree 121 of 122building tree 122 of 122\n",
      "\n"
     ]
    },
    {
     "name": "stderr",
     "output_type": "stream",
     "text": [
      "[Parallel(n_jobs=-1)]: Done  97 tasks      | elapsed:    0.7s\n",
      "[Parallel(n_jobs=-1)]: Done 120 out of 122 | elapsed:    0.9s remaining:    0.0s\n",
      "[Parallel(n_jobs=-1)]: Done 122 out of 122 | elapsed:    0.9s finished\n",
      "[Parallel(n_jobs=8)]: Done   2 tasks      | elapsed:    0.0s\n",
      "[Parallel(n_jobs=8)]: Done   9 tasks      | elapsed:    0.0s\n",
      "[Parallel(n_jobs=8)]: Done  16 tasks      | elapsed:    0.0s\n",
      "[Parallel(n_jobs=8)]: Done  25 tasks      | elapsed:    0.0s\n",
      "[Parallel(n_jobs=8)]: Done  34 tasks      | elapsed:    0.0s\n",
      "[Parallel(n_jobs=8)]: Done  45 tasks      | elapsed:    0.0s\n",
      "[Parallel(n_jobs=8)]: Done  56 tasks      | elapsed:    0.0s\n",
      "[Parallel(n_jobs=8)]: Done  69 tasks      | elapsed:    0.0s\n",
      "[Parallel(n_jobs=8)]: Done  82 tasks      | elapsed:    0.0s\n",
      "[Parallel(n_jobs=8)]: Done  97 tasks      | elapsed:    0.0s\n",
      "[Parallel(n_jobs=8)]: Done 120 out of 122 | elapsed:    0.1s remaining:    0.0s\n",
      "[Parallel(n_jobs=8)]: Done 122 out of 122 | elapsed:    0.1s finished\n",
      "[Parallel(n_jobs=8)]: Done   2 tasks      | elapsed:    0.0s\n",
      "[Parallel(n_jobs=8)]: Done   9 tasks      | elapsed:    0.0s\n",
      "[Parallel(n_jobs=8)]: Done  16 tasks      | elapsed:    0.0s\n",
      "[Parallel(n_jobs=8)]: Done  25 tasks      | elapsed:    0.0s\n",
      "[Parallel(n_jobs=8)]: Done  34 tasks      | elapsed:    0.0s\n",
      "[Parallel(n_jobs=8)]: Done  45 tasks      | elapsed:    0.0s\n",
      "[Parallel(n_jobs=8)]: Done  56 tasks      | elapsed:    0.0s\n",
      "[Parallel(n_jobs=8)]: Done  69 tasks      | elapsed:    0.1s\n",
      "[Parallel(n_jobs=8)]: Done  82 tasks      | elapsed:    0.1s\n",
      "[Parallel(n_jobs=8)]: Done  97 tasks      | elapsed:    0.1s\n",
      "[Parallel(n_jobs=8)]: Done 120 out of 122 | elapsed:    0.1s remaining:    0.0s\n",
      "[Parallel(n_jobs=8)]: Done 122 out of 122 | elapsed:    0.1s finished\n",
      "/home/justin/anaconda3/lib/python3.6/site-packages/sklearn/model_selection/_validation.py:458: DataConversionWarning: A column-vector y was passed when a 1d array was expected. Please change the shape of y to (n_samples,), for example using ravel().\n",
      "  estimator.fit(X_train, y_train, **fit_params)\n",
      "[Parallel(n_jobs=-1)]: Done   2 tasks      | elapsed:    0.1s\n",
      "[Parallel(n_jobs=-1)]: Done   9 tasks      | elapsed:    0.1s\n"
     ]
    },
    {
     "name": "stdout",
     "output_type": "stream",
     "text": [
      "building tree 1 of 122building tree 2 of 122building tree 3 of 122building tree 4 of 122building tree 6 of 122building tree 7 of 122building tree 8 of 122building tree 5 of 122\n",
      "\n",
      "\n",
      "\n",
      "\n",
      "\n",
      "\n",
      "\n",
      "building tree 9 of 122\n",
      "building tree 10 of 122\n",
      "building tree 12 of 122\n",
      "building tree 11 of 122\n",
      "building tree 13 of 122\n",
      "building tree 14 of 122\n",
      "building tree 15 of 122\n",
      "building tree 16 of 122\n",
      "building tree 17 of 122\n",
      "building tree 18 of 122\n",
      "building tree 19 of 122\n",
      "building tree 20 of 122\n",
      "building tree 21 of 122\n",
      "building tree 22 of 122\n",
      "building tree 23 of 122\n",
      "building tree 25 of 122building tree 27 of 122\n",
      "\n",
      "building tree 26 of 122\n",
      "building tree 28 of 122\n",
      "building tree 24 of 122\n",
      "building tree 29 of 122\n"
     ]
    },
    {
     "name": "stderr",
     "output_type": "stream",
     "text": [
      "[Parallel(n_jobs=-1)]: Done  16 tasks      | elapsed:    0.2s\n",
      "[Parallel(n_jobs=-1)]: Done  25 tasks      | elapsed:    0.2s\n",
      "[Parallel(n_jobs=-1)]: Done  34 tasks      | elapsed:    0.3s\n"
     ]
    },
    {
     "name": "stdout",
     "output_type": "stream",
     "text": [
      "building tree 30 of 122\n",
      "building tree 31 of 122\n",
      "building tree 33 of 122building tree 32 of 122\n",
      "\n",
      "building tree 34 of 122\n",
      "building tree 35 of 122\n",
      "building tree 36 of 122\n",
      "building tree 37 of 122\n",
      "building tree 38 of 122\n",
      "building tree 39 of 122building tree 40 of 122\n",
      "building tree 41 of 122\n",
      "\n",
      "building tree 42 of 122\n",
      "building tree 43 of 122\n",
      "building tree 44 of 122building tree 45 of 122\n",
      "building tree 46 of 122\n",
      "building tree 47 of 122\n",
      "building tree 48 of 122\n",
      "building tree 49 of 122\n",
      "\n",
      "building tree 50 of 122\n",
      "building tree 51 of 122\n",
      "building tree 52 of 122\n",
      "building tree 54 of 122\n",
      "building tree 55 of 122\n",
      "building tree 56 of 122\n",
      "building tree 57 of 122building tree 53 of 122\n",
      "\n",
      "building tree 58 of 122\n",
      "building tree 60 of 122\n",
      "building tree 59 of 122\n",
      "building tree 61 of 122\n",
      "building tree 62 of 122\n",
      "building tree 63 of 122\n",
      "building tree 64 of 122\n",
      "building tree 65 of 122\n",
      "building tree 66 of 122\n",
      "building tree 67 of 122\n",
      "building tree 68 of 122\n",
      "building tree 69 of 122\n",
      "building tree 71 of 122\n",
      "building tree 72 of 122\n",
      "building tree 73 of 122building tree 70 of 122\n",
      "\n"
     ]
    },
    {
     "name": "stderr",
     "output_type": "stream",
     "text": [
      "[Parallel(n_jobs=-1)]: Done  45 tasks      | elapsed:    0.4s\n",
      "[Parallel(n_jobs=-1)]: Done  56 tasks      | elapsed:    0.5s\n"
     ]
    },
    {
     "name": "stdout",
     "output_type": "stream",
     "text": [
      "building tree 74 of 122\n",
      "building tree 75 of 122\n",
      "building tree 76 of 122\n",
      "building tree 77 of 122\n",
      "building tree 78 of 122\n",
      "building tree 79 of 122\n",
      "building tree 80 of 122\n",
      "building tree 81 of 122\n",
      "building tree 83 of 122building tree 82 of 122\n",
      "\n",
      "building tree 84 of 122\n",
      "building tree 85 of 122\n",
      "building tree 86 of 122\n",
      "building tree 87 of 122building tree 88 of 122\n",
      "building tree 89 of 122\n",
      "\n",
      "building tree 91 of 122\n",
      "building tree 90 of 122\n",
      "building tree 93 of 122building tree 92 of 122\n",
      "building tree 94 of 122\n",
      "building tree 95 of 122\n",
      "\n"
     ]
    },
    {
     "name": "stderr",
     "output_type": "stream",
     "text": [
      "[Parallel(n_jobs=-1)]: Done  69 tasks      | elapsed:    0.6s\n",
      "[Parallel(n_jobs=-1)]: Done  82 tasks      | elapsed:    0.8s\n"
     ]
    },
    {
     "name": "stdout",
     "output_type": "stream",
     "text": [
      "building tree 97 of 122\n",
      "building tree 98 of 122\n",
      "building tree 96 of 122\n",
      "building tree 99 of 122\n",
      "building tree 100 of 122\n",
      "building tree 101 of 122\n",
      "building tree 102 of 122\n",
      "building tree 103 of 122\n",
      "building tree 105 of 122\n",
      "building tree 104 of 122\n",
      "building tree 106 of 122building tree 107 of 122\n",
      "\n",
      "building tree 108 of 122\n",
      "building tree 109 of 122\n",
      "building tree 110 of 122\n",
      "building tree 111 of 122\n",
      "building tree 112 of 122\n",
      "building tree 113 of 122\n",
      "building tree 114 of 122\n",
      "building tree 115 of 122\n",
      "building tree 116 of 122\n",
      "building tree 117 of 122\n"
     ]
    },
    {
     "name": "stderr",
     "output_type": "stream",
     "text": [
      "[Parallel(n_jobs=-1)]: Done  97 tasks      | elapsed:    0.9s\n",
      "[Parallel(n_jobs=-1)]: Done 120 out of 122 | elapsed:    1.1s remaining:    0.0s\n"
     ]
    },
    {
     "name": "stdout",
     "output_type": "stream",
     "text": [
      "building tree 118 of 122building tree 119 of 122\n",
      "\n",
      "building tree 120 of 122\n",
      "building tree 121 of 122\n",
      "building tree 122 of 122\n"
     ]
    },
    {
     "name": "stderr",
     "output_type": "stream",
     "text": [
      "[Parallel(n_jobs=-1)]: Done 122 out of 122 | elapsed:    1.1s finished\n",
      "[Parallel(n_jobs=8)]: Done   2 tasks      | elapsed:    0.0s\n",
      "[Parallel(n_jobs=8)]: Done   9 tasks      | elapsed:    0.0s\n",
      "[Parallel(n_jobs=8)]: Done  16 tasks      | elapsed:    0.0s\n",
      "[Parallel(n_jobs=8)]: Done  25 tasks      | elapsed:    0.0s\n",
      "[Parallel(n_jobs=8)]: Done  34 tasks      | elapsed:    0.0s\n",
      "[Parallel(n_jobs=8)]: Done  45 tasks      | elapsed:    0.0s\n",
      "[Parallel(n_jobs=8)]: Done  56 tasks      | elapsed:    0.0s\n",
      "[Parallel(n_jobs=8)]: Done  69 tasks      | elapsed:    0.0s\n",
      "[Parallel(n_jobs=8)]: Done  82 tasks      | elapsed:    0.0s\n",
      "[Parallel(n_jobs=8)]: Done  97 tasks      | elapsed:    0.0s\n",
      "[Parallel(n_jobs=8)]: Done 120 out of 122 | elapsed:    0.1s remaining:    0.0s\n",
      "[Parallel(n_jobs=8)]: Done 122 out of 122 | elapsed:    0.1s finished\n",
      "[Parallel(n_jobs=8)]: Done   2 tasks      | elapsed:    0.0s\n",
      "[Parallel(n_jobs=8)]: Done   9 tasks      | elapsed:    0.0s\n",
      "[Parallel(n_jobs=8)]: Done  16 tasks      | elapsed:    0.0s\n",
      "[Parallel(n_jobs=8)]: Done  25 tasks      | elapsed:    0.0s\n",
      "[Parallel(n_jobs=8)]: Done  34 tasks      | elapsed:    0.0s\n",
      "[Parallel(n_jobs=8)]: Done  45 tasks      | elapsed:    0.0s\n",
      "[Parallel(n_jobs=8)]: Done  56 tasks      | elapsed:    0.1s\n",
      "[Parallel(n_jobs=8)]: Done  69 tasks      | elapsed:    0.1s\n",
      "[Parallel(n_jobs=8)]: Done  82 tasks      | elapsed:    0.1s\n",
      "[Parallel(n_jobs=8)]: Done  97 tasks      | elapsed:    0.1s\n",
      "[Parallel(n_jobs=8)]: Done 120 out of 122 | elapsed:    0.1s remaining:    0.0s\n",
      "[Parallel(n_jobs=8)]: Done 122 out of 122 | elapsed:    0.1s finished\n",
      "/home/justin/anaconda3/lib/python3.6/site-packages/sklearn/model_selection/_validation.py:458: DataConversionWarning: A column-vector y was passed when a 1d array was expected. Please change the shape of y to (n_samples,), for example using ravel().\n",
      "  estimator.fit(X_train, y_train, **fit_params)\n",
      "[Parallel(n_jobs=-1)]: Done   2 tasks      | elapsed:    0.0s\n",
      "[Parallel(n_jobs=-1)]: Done   9 tasks      | elapsed:    0.0s\n",
      "[Parallel(n_jobs=-1)]: Done  16 tasks      | elapsed:    0.0s\n",
      "[Parallel(n_jobs=-1)]: Done  25 tasks      | elapsed:    0.1s\n",
      "[Parallel(n_jobs=-1)]: Done  34 tasks      | elapsed:    0.1s\n",
      "[Parallel(n_jobs=-1)]: Done  45 tasks      | elapsed:    0.1s\n",
      "[Parallel(n_jobs=-1)]: Done  56 tasks      | elapsed:    0.1s\n",
      "[Parallel(n_jobs=-1)]: Done  69 tasks      | elapsed:    0.1s\n"
     ]
    },
    {
     "name": "stdout",
     "output_type": "stream",
     "text": [
      "building tree 1 of 88building tree 4 of 88building tree 3 of 88building tree 2 of 88building tree 6 of 88building tree 5 of 88building tree 7 of 88\n",
      "\n",
      "\n",
      "\n",
      "\n",
      "\n",
      "\n",
      "building tree 9 of 88\n",
      "building tree 8 of 88\n",
      "building tree 10 of 88\n",
      "building tree 11 of 88\n",
      "building tree 12 of 88building tree 13 of 88\n",
      "building tree 14 of 88building tree 15 of 88\n",
      "\n",
      "\n",
      "building tree 16 of 88\n",
      "building tree 17 of 88\n",
      "building tree 20 of 88\n",
      "building tree 18 of 88\n",
      "building tree 19 of 88building tree 21 of 88\n",
      "\n",
      "building tree 22 of 88\n",
      "building tree 23 of 88\n",
      "building tree 25 of 88\n",
      "building tree 24 of 88\n",
      "building tree 27 of 88\n",
      "building tree 28 of 88\n",
      "building tree 26 of 88\n",
      "building tree 29 of 88\n",
      "building tree 30 of 88building tree 31 of 88\n",
      "building tree 32 of 88building tree 33 of 88\n",
      "building tree 35 of 88building tree 34 of 88\n",
      "\n",
      "\n",
      "\n",
      "building tree 36 of 88\n",
      "building tree 37 of 88building tree 39 of 88\n",
      "\n",
      "building tree 40 of 88\n",
      "building tree 38 of 88building tree 41 of 88\n",
      "\n",
      "building tree 42 of 88building tree 43 of 88building tree 44 of 88\n",
      "\n",
      "building tree 45 of 88\n",
      "\n",
      "building tree 46 of 88building tree 47 of 88\n",
      "\n",
      "building tree 48 of 88\n",
      "building tree 49 of 88building tree 50 of 88\n",
      "\n",
      "building tree 51 of 88\n",
      "building tree 52 of 88building tree 53 of 88\n",
      "\n",
      "building tree 54 of 88\n",
      "building tree 55 of 88\n",
      "building tree 56 of 88\n",
      "building tree 57 of 88\n",
      "building tree 58 of 88building tree 59 of 88\n",
      "\n",
      "building tree 60 of 88building tree 61 of 88\n",
      "\n",
      "building tree 62 of 88\n",
      "building tree 64 of 88building tree 65 of 88building tree 63 of 88\n",
      "\n",
      "\n",
      "building tree 66 of 88\n",
      "building tree 67 of 88\n",
      "building tree 68 of 88\n",
      "building tree 69 of 88\n",
      "building tree 70 of 88\n",
      "building tree 72 of 88\n",
      "building tree 73 of 88\n",
      "building tree 74 of 88\n",
      "building tree 75 of 88\n",
      "building tree 76 of 88building tree 71 of 88\n",
      "\n",
      "building tree 77 of 88building tree 78 of 88\n",
      "building tree 79 of 88\n",
      "\n",
      "building tree 80 of 88\n",
      "building tree 81 of 88\n",
      "building tree 82 of 88building tree 83 of 88building tree 84 of 88\n",
      "building tree 85 of 88\n",
      "\n",
      "building tree 86 of 88\n",
      "\n",
      "building tree 87 of 88\n",
      "building tree 88 of 88\n"
     ]
    },
    {
     "name": "stderr",
     "output_type": "stream",
     "text": [
      "[Parallel(n_jobs=-1)]: Done  82 out of  88 | elapsed:    0.2s remaining:    0.0s\n",
      "[Parallel(n_jobs=-1)]: Done  88 out of  88 | elapsed:    0.2s finished\n",
      "[Parallel(n_jobs=8)]: Done   2 tasks      | elapsed:    0.0s\n",
      "[Parallel(n_jobs=8)]: Done   9 tasks      | elapsed:    0.0s\n",
      "[Parallel(n_jobs=8)]: Done  16 tasks      | elapsed:    0.0s\n",
      "[Parallel(n_jobs=8)]: Done  25 tasks      | elapsed:    0.0s\n",
      "[Parallel(n_jobs=8)]: Done  34 tasks      | elapsed:    0.0s\n",
      "[Parallel(n_jobs=8)]: Done  45 tasks      | elapsed:    0.0s\n",
      "[Parallel(n_jobs=8)]: Done  56 tasks      | elapsed:    0.0s\n",
      "[Parallel(n_jobs=8)]: Done  69 tasks      | elapsed:    0.0s\n",
      "[Parallel(n_jobs=8)]: Done  82 out of  88 | elapsed:    0.0s remaining:    0.0s\n",
      "[Parallel(n_jobs=8)]: Done  88 out of  88 | elapsed:    0.0s finished\n",
      "[Parallel(n_jobs=8)]: Done   2 tasks      | elapsed:    0.0s\n",
      "[Parallel(n_jobs=8)]: Done   9 tasks      | elapsed:    0.0s\n",
      "[Parallel(n_jobs=8)]: Done  16 tasks      | elapsed:    0.0s\n",
      "[Parallel(n_jobs=8)]: Done  25 tasks      | elapsed:    0.0s\n",
      "[Parallel(n_jobs=8)]: Done  34 tasks      | elapsed:    0.0s\n",
      "[Parallel(n_jobs=8)]: Done  45 tasks      | elapsed:    0.0s\n",
      "[Parallel(n_jobs=8)]: Done  56 tasks      | elapsed:    0.0s\n",
      "[Parallel(n_jobs=8)]: Done  69 tasks      | elapsed:    0.0s\n",
      "[Parallel(n_jobs=8)]: Done  82 out of  88 | elapsed:    0.0s remaining:    0.0s\n",
      "[Parallel(n_jobs=8)]: Done  88 out of  88 | elapsed:    0.0s finished\n",
      "/home/justin/anaconda3/lib/python3.6/site-packages/sklearn/model_selection/_validation.py:458: DataConversionWarning: A column-vector y was passed when a 1d array was expected. Please change the shape of y to (n_samples,), for example using ravel().\n",
      "  estimator.fit(X_train, y_train, **fit_params)\n",
      "[Parallel(n_jobs=-1)]: Done   2 tasks      | elapsed:    0.0s\n",
      "[Parallel(n_jobs=-1)]: Done   9 tasks      | elapsed:    0.0s\n",
      "[Parallel(n_jobs=-1)]: Done  16 tasks      | elapsed:    0.1s\n",
      "[Parallel(n_jobs=-1)]: Done  25 tasks      | elapsed:    0.1s\n",
      "[Parallel(n_jobs=-1)]: Done  34 tasks      | elapsed:    0.1s\n",
      "[Parallel(n_jobs=-1)]: Done  45 tasks      | elapsed:    0.1s\n",
      "[Parallel(n_jobs=-1)]: Done  56 tasks      | elapsed:    0.1s\n"
     ]
    },
    {
     "name": "stdout",
     "output_type": "stream",
     "text": [
      "building tree 2 of 88building tree 3 of 88building tree 1 of 88building tree 5 of 88building tree 6 of 88building tree 4 of 88building tree 7 of 88building tree 8 of 88\n",
      "\n",
      "\n",
      "\n",
      "\n",
      "\n",
      "\n",
      "\n",
      "building tree 9 of 88\n",
      "building tree 10 of 88\n",
      "building tree 11 of 88building tree 12 of 88\n",
      "\n",
      "building tree 13 of 88\n",
      "building tree 14 of 88\n",
      "building tree 15 of 88\n",
      "building tree 16 of 88building tree 17 of 88\n",
      "building tree 18 of 88\n",
      "building tree 19 of 88building tree 20 of 88\n",
      "\n",
      "\n",
      "building tree 22 of 88\n",
      "building tree 23 of 88\n",
      "building tree 21 of 88building tree 24 of 88\n",
      "building tree 26 of 88\n",
      "building tree 25 of 88building tree 27 of 88building tree 28 of 88\n",
      "\n",
      "\n",
      "building tree 29 of 88\n",
      "building tree 30 of 88\n",
      "\n",
      "building tree 31 of 88\n",
      "building tree 32 of 88\n",
      "building tree 33 of 88\n",
      "building tree 34 of 88\n",
      "building tree 35 of 88building tree 36 of 88building tree 37 of 88\n",
      "\n",
      "\n",
      "building tree 38 of 88\n",
      "building tree 39 of 88\n",
      "building tree 40 of 88\n",
      "building tree 41 of 88\n",
      "building tree 42 of 88\n",
      "building tree 43 of 88building tree 44 of 88\n",
      "\n",
      "building tree 45 of 88\n",
      "building tree 46 of 88building tree 47 of 88\n",
      "building tree 48 of 88\n",
      "building tree 49 of 88\n",
      "building tree 50 of 88\n",
      "\n",
      "building tree 51 of 88\n",
      "building tree 52 of 88\n",
      "building tree 53 of 88\n",
      "building tree 54 of 88\n",
      "building tree 55 of 88\n",
      "building tree 56 of 88\n",
      "building tree 60 of 88building tree 57 of 88building tree 58 of 88building tree 59 of 88building tree 61 of 88\n",
      "\n",
      "\n",
      "\n",
      "\n",
      "building tree 62 of 88\n",
      "building tree 63 of 88building tree 64 of 88\n",
      "\n",
      "building tree 65 of 88\n",
      "building tree 66 of 88building tree 67 of 88\n",
      "\n",
      "building tree 68 of 88\n",
      "building tree 69 of 88\n",
      "building tree 70 of 88building tree 71 of 88\n",
      "\n",
      "building tree 72 of 88building tree 73 of 88\n",
      "\n",
      "building tree 74 of 88\n",
      "building tree 75 of 88\n",
      "building tree 76 of 88\n",
      "building tree 77 of 88building tree 79 of 88\n",
      "building tree 78 of 88\n",
      "\n",
      "building tree 80 of 88\n",
      "building tree 81 of 88\n",
      "building tree 82 of 88building tree 83 of 88\n",
      "building tree 84 of 88\n",
      "building tree 85 of 88\n",
      "\n",
      "building tree 86 of 88\n",
      "building tree 87 of 88\n",
      "building tree 88 of 88\n"
     ]
    },
    {
     "name": "stderr",
     "output_type": "stream",
     "text": [
      "[Parallel(n_jobs=-1)]: Done  69 tasks      | elapsed:    0.2s\n",
      "[Parallel(n_jobs=-1)]: Done  82 out of  88 | elapsed:    0.2s remaining:    0.0s\n",
      "[Parallel(n_jobs=-1)]: Done  88 out of  88 | elapsed:    0.2s finished\n",
      "[Parallel(n_jobs=8)]: Done   2 tasks      | elapsed:    0.0s\n",
      "[Parallel(n_jobs=8)]: Done   9 tasks      | elapsed:    0.0s\n",
      "[Parallel(n_jobs=8)]: Done  16 tasks      | elapsed:    0.0s\n",
      "[Parallel(n_jobs=8)]: Done  25 tasks      | elapsed:    0.0s\n",
      "[Parallel(n_jobs=8)]: Done  34 tasks      | elapsed:    0.0s\n",
      "[Parallel(n_jobs=8)]: Done  45 tasks      | elapsed:    0.0s\n",
      "[Parallel(n_jobs=8)]: Done  56 tasks      | elapsed:    0.0s\n",
      "[Parallel(n_jobs=8)]: Done  69 tasks      | elapsed:    0.0s\n",
      "[Parallel(n_jobs=8)]: Done  82 out of  88 | elapsed:    0.0s remaining:    0.0s\n",
      "[Parallel(n_jobs=8)]: Done  88 out of  88 | elapsed:    0.0s finished\n",
      "[Parallel(n_jobs=8)]: Done   2 tasks      | elapsed:    0.0s\n",
      "[Parallel(n_jobs=8)]: Done   9 tasks      | elapsed:    0.0s\n",
      "[Parallel(n_jobs=8)]: Done  16 tasks      | elapsed:    0.0s\n",
      "[Parallel(n_jobs=8)]: Done  25 tasks      | elapsed:    0.0s\n",
      "[Parallel(n_jobs=8)]: Done  34 tasks      | elapsed:    0.0s\n",
      "[Parallel(n_jobs=8)]: Done  45 tasks      | elapsed:    0.0s\n",
      "[Parallel(n_jobs=8)]: Done  56 tasks      | elapsed:    0.0s\n",
      "[Parallel(n_jobs=8)]: Done  69 tasks      | elapsed:    0.0s\n",
      "[Parallel(n_jobs=8)]: Done  82 out of  88 | elapsed:    0.0s remaining:    0.0s\n",
      "[Parallel(n_jobs=8)]: Done  88 out of  88 | elapsed:    0.0s finished\n",
      "/home/justin/anaconda3/lib/python3.6/site-packages/sklearn/model_selection/_validation.py:458: DataConversionWarning: A column-vector y was passed when a 1d array was expected. Please change the shape of y to (n_samples,), for example using ravel().\n",
      "  estimator.fit(X_train, y_train, **fit_params)\n",
      "[Parallel(n_jobs=-1)]: Done   2 tasks      | elapsed:    0.0s\n",
      "[Parallel(n_jobs=-1)]: Done   9 tasks      | elapsed:    0.0s\n",
      "[Parallel(n_jobs=-1)]: Done  16 tasks      | elapsed:    0.1s\n",
      "[Parallel(n_jobs=-1)]: Done  25 tasks      | elapsed:    0.1s\n",
      "[Parallel(n_jobs=-1)]: Done  34 tasks      | elapsed:    0.1s\n"
     ]
    },
    {
     "name": "stdout",
     "output_type": "stream",
     "text": [
      "building tree 3 of 88building tree 7 of 88building tree 4 of 88building tree 5 of 88building tree 6 of 88building tree 8 of 88\n",
      "building tree 1 of 88building tree 2 of 88\n",
      "\n",
      "\n",
      "\n",
      "\n",
      "\n",
      "\n",
      "building tree 10 of 88building tree 9 of 88\n",
      "building tree 11 of 88\n",
      "\n",
      "building tree 12 of 88\n",
      "building tree 13 of 88\n",
      "building tree 14 of 88\n",
      "building tree 15 of 88building tree 16 of 88\n",
      "\n",
      "building tree 17 of 88\n",
      "building tree 18 of 88building tree 19 of 88\n",
      "building tree 20 of 88\n",
      "\n",
      "building tree 21 of 88\n",
      "building tree 22 of 88building tree 23 of 88\n",
      "\n",
      "building tree 24 of 88\n",
      "building tree 25 of 88\n",
      "building tree 26 of 88\n",
      "building tree 27 of 88\n",
      "building tree 28 of 88\n",
      "building tree 29 of 88\n",
      "building tree 30 of 88\n",
      "building tree 31 of 88building tree 32 of 88\n",
      "\n",
      "building tree 34 of 88\n",
      "building tree 35 of 88building tree 33 of 88\n",
      "\n",
      "building tree 36 of 88\n",
      "building tree 37 of 88\n",
      "building tree 38 of 88\n",
      "building tree 39 of 88\n",
      "building tree 40 of 88\n",
      "building tree 41 of 88\n",
      "building tree 42 of 88\n",
      "building tree 43 of 88\n",
      "building tree 44 of 88\n",
      "building tree 45 of 88building tree 46 of 88\n",
      "\n",
      "building tree 47 of 88\n",
      "building tree 48 of 88\n",
      "building tree 50 of 88\n",
      "building tree 49 of 88\n",
      "building tree 51 of 88building tree 52 of 88\n",
      "\n",
      "building tree 53 of 88\n",
      "building tree 54 of 88\n",
      "building tree 55 of 88\n",
      "building tree 56 of 88\n",
      "building tree 57 of 88\n",
      "building tree 58 of 88\n",
      "building tree 59 of 88\n",
      "building tree 61 of 88\n",
      "building tree 60 of 88building tree 62 of 88\n",
      "building tree 63 of 88"
     ]
    },
    {
     "name": "stderr",
     "output_type": "stream",
     "text": [
      "[Parallel(n_jobs=-1)]: Done  45 tasks      | elapsed:    0.2s\n",
      "[Parallel(n_jobs=-1)]: Done  56 tasks      | elapsed:    0.2s\n",
      "[Parallel(n_jobs=-1)]: Done  69 tasks      | elapsed:    0.3s\n",
      "[Parallel(n_jobs=-1)]: Done  82 out of  88 | elapsed:    0.3s remaining:    0.0s\n",
      "[Parallel(n_jobs=-1)]: Done  88 out of  88 | elapsed:    0.3s finished\n"
     ]
    },
    {
     "name": "stdout",
     "output_type": "stream",
     "text": [
      "\n",
      "\n",
      "building tree 64 of 88\n",
      "building tree 65 of 88\n",
      "building tree 66 of 88\n",
      "building tree 67 of 88\n",
      "building tree 68 of 88\n",
      "building tree 69 of 88\n",
      "building tree 71 of 88\n",
      "building tree 72 of 88\n",
      "building tree 70 of 88\n",
      "building tree 73 of 88building tree 74 of 88\n",
      "\n",
      "building tree 75 of 88\n",
      "building tree 76 of 88\n",
      "building tree 77 of 88building tree 78 of 88\n",
      "\n",
      "building tree 79 of 88\n",
      "building tree 81 of 88\n",
      "building tree 82 of 88\n",
      "building tree 83 of 88building tree 80 of 88\n",
      "building tree 84 of 88\n",
      "building tree 85 of 88\n",
      "building tree 86 of 88\n",
      "\n",
      "building tree 87 of 88\n",
      "building tree 88 of 88\n"
     ]
    },
    {
     "name": "stderr",
     "output_type": "stream",
     "text": [
      "[Parallel(n_jobs=8)]: Done   2 tasks      | elapsed:    0.0s\n",
      "[Parallel(n_jobs=8)]: Done   9 tasks      | elapsed:    0.0s\n",
      "[Parallel(n_jobs=8)]: Done  16 tasks      | elapsed:    0.0s\n",
      "[Parallel(n_jobs=8)]: Done  25 tasks      | elapsed:    0.0s\n",
      "[Parallel(n_jobs=8)]: Done  34 tasks      | elapsed:    0.0s\n",
      "[Parallel(n_jobs=8)]: Done  45 tasks      | elapsed:    0.0s\n",
      "[Parallel(n_jobs=8)]: Done  56 tasks      | elapsed:    0.0s\n",
      "[Parallel(n_jobs=8)]: Done  69 tasks      | elapsed:    0.0s\n",
      "[Parallel(n_jobs=8)]: Done  82 out of  88 | elapsed:    0.0s remaining:    0.0s\n",
      "[Parallel(n_jobs=8)]: Done  88 out of  88 | elapsed:    0.0s finished\n",
      "[Parallel(n_jobs=8)]: Done   2 tasks      | elapsed:    0.0s\n",
      "[Parallel(n_jobs=8)]: Done   9 tasks      | elapsed:    0.0s\n",
      "[Parallel(n_jobs=8)]: Done  16 tasks      | elapsed:    0.0s\n",
      "[Parallel(n_jobs=8)]: Done  25 tasks      | elapsed:    0.0s\n",
      "[Parallel(n_jobs=8)]: Done  34 tasks      | elapsed:    0.0s\n",
      "[Parallel(n_jobs=8)]: Done  45 tasks      | elapsed:    0.0s\n",
      "[Parallel(n_jobs=8)]: Done  56 tasks      | elapsed:    0.0s\n",
      "[Parallel(n_jobs=8)]: Done  69 tasks      | elapsed:    0.1s\n",
      "[Parallel(n_jobs=8)]: Done  82 out of  88 | elapsed:    0.1s remaining:    0.0s\n",
      "[Parallel(n_jobs=8)]: Done  88 out of  88 | elapsed:    0.1s finished\n",
      "/home/justin/anaconda3/lib/python3.6/site-packages/sklearn/model_selection/_validation.py:458: DataConversionWarning: A column-vector y was passed when a 1d array was expected. Please change the shape of y to (n_samples,), for example using ravel().\n",
      "  estimator.fit(X_train, y_train, **fit_params)\n"
     ]
    },
    {
     "name": "stdout",
     "output_type": "stream",
     "text": [
      "building tree 1 of 48building tree 2 of 48building tree 3 of 48building tree 4 of 48building tree 7 of 48building tree 6 of 48building tree 5 of 48\n",
      "building tree 8 of 48\n",
      "\n",
      "\n",
      "\n",
      "\n",
      "\n",
      "\n",
      "building tree 9 of 48\n",
      "building tree 10 of 48\n",
      "building tree 11 of 48\n",
      "building tree 12 of 48\n"
     ]
    },
    {
     "name": "stderr",
     "output_type": "stream",
     "text": [
      "[Parallel(n_jobs=-1)]: Done   2 tasks      | elapsed:    0.7s\n"
     ]
    },
    {
     "name": "stdout",
     "output_type": "stream",
     "text": [
      "building tree 13 of 48\n",
      "building tree 14 of 48\n",
      "building tree 15 of 48\n",
      "building tree 16 of 48\n",
      "building tree 17 of 48\n"
     ]
    },
    {
     "name": "stderr",
     "output_type": "stream",
     "text": [
      "[Parallel(n_jobs=-1)]: Done   9 tasks      | elapsed:    1.6s\n"
     ]
    },
    {
     "name": "stdout",
     "output_type": "stream",
     "text": [
      "building tree 18 of 48\n",
      "building tree 19 of 48\n",
      "building tree 20 of 48\n",
      "building tree 21 of 48\n",
      "building tree 22 of 48\n",
      "building tree 23 of 48\n"
     ]
    },
    {
     "name": "stderr",
     "output_type": "stream",
     "text": [
      "[Parallel(n_jobs=-1)]: Done  16 tasks      | elapsed:    2.4s\n"
     ]
    },
    {
     "name": "stdout",
     "output_type": "stream",
     "text": [
      "building tree 24 of 48\n",
      "building tree 25 of 48\n",
      "building tree 26 of 48\n",
      "building tree 27 of 48\n",
      "building tree 28 of 48\n",
      "building tree 29 of 48\n",
      "building tree 30 of 48\n",
      "building tree 31 of 48\n",
      "building tree 32 of 48\n"
     ]
    },
    {
     "name": "stderr",
     "output_type": "stream",
     "text": [
      "[Parallel(n_jobs=-1)]: Done  25 tasks      | elapsed:    3.2s\n"
     ]
    },
    {
     "name": "stdout",
     "output_type": "stream",
     "text": [
      "building tree 33 of 48\n",
      "building tree 34 of 48\n",
      "building tree 35 of 48\n",
      "building tree 36 of 48\n",
      "building tree 37 of 48\n",
      "building tree 38 of 48\n",
      "building tree 39 of 48\n",
      "building tree 40 of 48\n",
      "building tree 41 of 48\n",
      "building tree 42 of 48\n",
      "building tree 43 of 48\n",
      "building tree 44 of 48\n",
      "building tree 45 of 48\n"
     ]
    },
    {
     "name": "stderr",
     "output_type": "stream",
     "text": [
      "[Parallel(n_jobs=-1)]: Done  38 out of  48 | elapsed:    4.6s remaining:    1.2s\n"
     ]
    },
    {
     "name": "stdout",
     "output_type": "stream",
     "text": [
      "building tree 46 of 48\n",
      "building tree 47 of 48\n",
      "building tree 48 of 48\n"
     ]
    },
    {
     "name": "stderr",
     "output_type": "stream",
     "text": [
      "[Parallel(n_jobs=-1)]: Done  43 out of  48 | elapsed:    5.2s remaining:    0.6s\n",
      "[Parallel(n_jobs=-1)]: Done  48 out of  48 | elapsed:    5.6s remaining:    0.0s\n",
      "[Parallel(n_jobs=-1)]: Done  48 out of  48 | elapsed:    5.6s finished\n",
      "[Parallel(n_jobs=8)]: Done   2 tasks      | elapsed:    0.0s\n",
      "[Parallel(n_jobs=8)]: Done   9 tasks      | elapsed:    0.0s\n",
      "[Parallel(n_jobs=8)]: Done  16 tasks      | elapsed:    0.0s\n",
      "[Parallel(n_jobs=8)]: Done  25 tasks      | elapsed:    0.0s\n",
      "[Parallel(n_jobs=8)]: Done  38 out of  48 | elapsed:    0.0s remaining:    0.0s\n",
      "[Parallel(n_jobs=8)]: Done  43 out of  48 | elapsed:    0.0s remaining:    0.0s\n",
      "[Parallel(n_jobs=8)]: Done  48 out of  48 | elapsed:    0.0s remaining:    0.0s\n",
      "[Parallel(n_jobs=8)]: Done  48 out of  48 | elapsed:    0.0s finished\n",
      "[Parallel(n_jobs=8)]: Done   2 tasks      | elapsed:    0.0s\n",
      "[Parallel(n_jobs=8)]: Done   9 tasks      | elapsed:    0.0s\n",
      "[Parallel(n_jobs=8)]: Done  16 tasks      | elapsed:    0.0s\n",
      "[Parallel(n_jobs=8)]: Done  25 tasks      | elapsed:    0.1s\n",
      "[Parallel(n_jobs=8)]: Done  38 out of  48 | elapsed:    0.1s remaining:    0.0s\n",
      "[Parallel(n_jobs=8)]: Done  43 out of  48 | elapsed:    0.1s remaining:    0.0s\n",
      "[Parallel(n_jobs=8)]: Done  48 out of  48 | elapsed:    0.1s remaining:    0.0s\n",
      "[Parallel(n_jobs=8)]: Done  48 out of  48 | elapsed:    0.1s finished\n",
      "/home/justin/anaconda3/lib/python3.6/site-packages/sklearn/model_selection/_validation.py:458: DataConversionWarning: A column-vector y was passed when a 1d array was expected. Please change the shape of y to (n_samples,), for example using ravel().\n",
      "  estimator.fit(X_train, y_train, **fit_params)\n"
     ]
    },
    {
     "name": "stdout",
     "output_type": "stream",
     "text": [
      "building tree 3 of 48building tree 4 of 48building tree 5 of 48\n",
      "building tree 6 of 48building tree 8 of 48building tree 1 of 48building tree 2 of 48building tree 7 of 48\n",
      "\n",
      "\n",
      "\n",
      "\n",
      "\n",
      "\n",
      "building tree 9 of 48\n",
      "building tree 10 of 48\n",
      "building tree 11 of 48\n",
      "building tree 12 of 48\n"
     ]
    },
    {
     "name": "stderr",
     "output_type": "stream",
     "text": [
      "[Parallel(n_jobs=-1)]: Done   2 tasks      | elapsed:    1.0s\n"
     ]
    },
    {
     "name": "stdout",
     "output_type": "stream",
     "text": [
      "building tree 13 of 48\n",
      "building tree 14 of 48\n",
      "building tree 15 of 48\n",
      "building tree 16 of 48\n"
     ]
    },
    {
     "name": "stderr",
     "output_type": "stream",
     "text": [
      "[Parallel(n_jobs=-1)]: Done   9 tasks      | elapsed:    2.1s\n"
     ]
    },
    {
     "name": "stdout",
     "output_type": "stream",
     "text": [
      "building tree 17 of 48\n",
      "building tree 18 of 48\n",
      "building tree 19 of 48\n",
      "building tree 20 of 48\n",
      "building tree 21 of 48\n",
      "building tree 22 of 48\n",
      "building tree 23 of 48\n",
      "building tree 24 of 48\n"
     ]
    },
    {
     "name": "stderr",
     "output_type": "stream",
     "text": [
      "[Parallel(n_jobs=-1)]: Done  16 tasks      | elapsed:    3.1s\n"
     ]
    },
    {
     "name": "stdout",
     "output_type": "stream",
     "text": [
      "building tree 25 of 48\n",
      "building tree 26 of 48\n",
      "building tree 27 of 48\n",
      "building tree 28 of 48\n",
      "building tree 29 of 48\n",
      "building tree 30 of 48\n",
      "building tree 31 of 48\n",
      "building tree 32 of 48\n",
      "building tree 33 of 48\n"
     ]
    },
    {
     "name": "stderr",
     "output_type": "stream",
     "text": [
      "[Parallel(n_jobs=-1)]: Done  25 tasks      | elapsed:    4.4s\n"
     ]
    },
    {
     "name": "stdout",
     "output_type": "stream",
     "text": [
      "building tree 34 of 48\n",
      "building tree 35 of 48\n",
      "building tree 36 of 48\n",
      "building tree 37 of 48\n",
      "building tree 38 of 48\n",
      "building tree 39 of 48\n",
      "building tree 40 of 48\n",
      "building tree 41 of 48\n",
      "building tree 42 of 48\n",
      "building tree 43 of 48\n",
      "building tree 44 of 48\n",
      "building tree 45 of 48\n",
      "building tree 46 of 48\n"
     ]
    },
    {
     "name": "stderr",
     "output_type": "stream",
     "text": [
      "[Parallel(n_jobs=-1)]: Done  38 out of  48 | elapsed:    6.6s remaining:    1.7s\n"
     ]
    },
    {
     "name": "stdout",
     "output_type": "stream",
     "text": [
      "building tree 47 of 48\n",
      "building tree 48 of 48\n"
     ]
    },
    {
     "name": "stderr",
     "output_type": "stream",
     "text": [
      "[Parallel(n_jobs=-1)]: Done  43 out of  48 | elapsed:    7.3s remaining:    0.8s\n",
      "[Parallel(n_jobs=-1)]: Done  48 out of  48 | elapsed:    7.7s remaining:    0.0s\n",
      "[Parallel(n_jobs=-1)]: Done  48 out of  48 | elapsed:    7.7s finished\n",
      "[Parallel(n_jobs=8)]: Done   2 tasks      | elapsed:    0.0s\n",
      "[Parallel(n_jobs=8)]: Done   9 tasks      | elapsed:    0.0s\n",
      "[Parallel(n_jobs=8)]: Done  16 tasks      | elapsed:    0.0s\n",
      "[Parallel(n_jobs=8)]: Done  25 tasks      | elapsed:    0.0s\n",
      "[Parallel(n_jobs=8)]: Done  38 out of  48 | elapsed:    0.0s remaining:    0.0s\n",
      "[Parallel(n_jobs=8)]: Done  43 out of  48 | elapsed:    0.0s remaining:    0.0s\n",
      "[Parallel(n_jobs=8)]: Done  48 out of  48 | elapsed:    0.0s remaining:    0.0s\n",
      "[Parallel(n_jobs=8)]: Done  48 out of  48 | elapsed:    0.0s finished\n",
      "[Parallel(n_jobs=8)]: Done   2 tasks      | elapsed:    0.0s\n",
      "[Parallel(n_jobs=8)]: Done   9 tasks      | elapsed:    0.0s\n",
      "[Parallel(n_jobs=8)]: Done  16 tasks      | elapsed:    0.1s\n",
      "[Parallel(n_jobs=8)]: Done  25 tasks      | elapsed:    0.1s\n",
      "[Parallel(n_jobs=8)]: Done  38 out of  48 | elapsed:    0.1s remaining:    0.0s\n",
      "[Parallel(n_jobs=8)]: Done  43 out of  48 | elapsed:    0.1s remaining:    0.0s\n",
      "[Parallel(n_jobs=8)]: Done  48 out of  48 | elapsed:    0.1s remaining:    0.0s\n",
      "[Parallel(n_jobs=8)]: Done  48 out of  48 | elapsed:    0.1s finished\n",
      "/home/justin/anaconda3/lib/python3.6/site-packages/sklearn/model_selection/_validation.py:458: DataConversionWarning: A column-vector y was passed when a 1d array was expected. Please change the shape of y to (n_samples,), for example using ravel().\n",
      "  estimator.fit(X_train, y_train, **fit_params)\n"
     ]
    },
    {
     "name": "stdout",
     "output_type": "stream",
     "text": [
      "building tree 2 of 48building tree 4 of 48building tree 3 of 48building tree 5 of 48\n",
      "building tree 7 of 48building tree 6 of 48building tree 8 of 48building tree 1 of 48\n",
      "\n",
      "\n",
      "\n",
      "\n",
      "\n",
      "\n",
      "building tree 9 of 48\n",
      "building tree 10 of 48\n",
      "building tree 11 of 48\n",
      "building tree 12 of 48\n"
     ]
    },
    {
     "name": "stderr",
     "output_type": "stream",
     "text": [
      "[Parallel(n_jobs=-1)]: Done   2 tasks      | elapsed:    1.3s\n"
     ]
    },
    {
     "name": "stdout",
     "output_type": "stream",
     "text": [
      "building tree 13 of 48\n",
      "building tree 14 of 48\n",
      "building tree 15 of 48\n",
      "building tree 16 of 48\n"
     ]
    },
    {
     "name": "stderr",
     "output_type": "stream",
     "text": [
      "[Parallel(n_jobs=-1)]: Done   9 tasks      | elapsed:    2.4s\n"
     ]
    },
    {
     "name": "stdout",
     "output_type": "stream",
     "text": [
      "building tree 17 of 48\n",
      "building tree 18 of 48\n",
      "building tree 19 of 48\n",
      "building tree 20 of 48\n",
      "building tree 21 of 48\n",
      "building tree 22 of 48\n",
      "building tree 23 of 48\n"
     ]
    },
    {
     "name": "stderr",
     "output_type": "stream",
     "text": [
      "[Parallel(n_jobs=-1)]: Done  16 tasks      | elapsed:    3.5s\n"
     ]
    },
    {
     "name": "stdout",
     "output_type": "stream",
     "text": [
      "building tree 24 of 48\n",
      "building tree 25 of 48\n",
      "building tree 26 of 48\n",
      "building tree 27 of 48\n",
      "building tree 28 of 48\n",
      "building tree 29 of 48\n",
      "building tree 30 of 48\n",
      "building tree 31 of 48\n",
      "building tree 32 of 48\n"
     ]
    },
    {
     "name": "stderr",
     "output_type": "stream",
     "text": [
      "[Parallel(n_jobs=-1)]: Done  25 tasks      | elapsed:    5.2s\n"
     ]
    },
    {
     "name": "stdout",
     "output_type": "stream",
     "text": [
      "building tree 33 of 48\n",
      "building tree 34 of 48\n",
      "building tree 35 of 48\n",
      "building tree 36 of 48\n",
      "building tree 37 of 48\n",
      "building tree 39 of 48\n",
      "building tree 38 of 48\n",
      "building tree 40 of 48\n",
      "building tree 41 of 48\n",
      "building tree 42 of 48\n",
      "building tree 43 of 48\n",
      "building tree 44 of 48\n",
      "building tree 45 of 48\n",
      "building tree 46 of 48\n"
     ]
    },
    {
     "name": "stderr",
     "output_type": "stream",
     "text": [
      "[Parallel(n_jobs=-1)]: Done  38 out of  48 | elapsed:    7.8s remaining:    2.1s\n"
     ]
    },
    {
     "name": "stdout",
     "output_type": "stream",
     "text": [
      "building tree 47 of 48\n",
      "building tree 48 of 48\n"
     ]
    },
    {
     "name": "stderr",
     "output_type": "stream",
     "text": [
      "[Parallel(n_jobs=-1)]: Done  43 out of  48 | elapsed:    8.4s remaining:    1.0s\n",
      "[Parallel(n_jobs=-1)]: Done  48 out of  48 | elapsed:    9.1s remaining:    0.0s\n",
      "[Parallel(n_jobs=-1)]: Done  48 out of  48 | elapsed:    9.1s finished\n",
      "[Parallel(n_jobs=8)]: Done   2 tasks      | elapsed:    0.0s\n",
      "[Parallel(n_jobs=8)]: Done   9 tasks      | elapsed:    0.0s\n",
      "[Parallel(n_jobs=8)]: Done  16 tasks      | elapsed:    0.0s\n",
      "[Parallel(n_jobs=8)]: Done  25 tasks      | elapsed:    0.0s\n",
      "[Parallel(n_jobs=8)]: Done  38 out of  48 | elapsed:    0.0s remaining:    0.0s\n",
      "[Parallel(n_jobs=8)]: Done  43 out of  48 | elapsed:    0.0s remaining:    0.0s\n",
      "[Parallel(n_jobs=8)]: Done  48 out of  48 | elapsed:    0.1s remaining:    0.0s\n",
      "[Parallel(n_jobs=8)]: Done  48 out of  48 | elapsed:    0.1s finished\n",
      "[Parallel(n_jobs=8)]: Done   2 tasks      | elapsed:    0.0s\n",
      "[Parallel(n_jobs=8)]: Done   9 tasks      | elapsed:    0.0s\n",
      "[Parallel(n_jobs=8)]: Done  16 tasks      | elapsed:    0.0s\n",
      "[Parallel(n_jobs=8)]: Done  25 tasks      | elapsed:    0.1s\n",
      "[Parallel(n_jobs=8)]: Done  38 out of  48 | elapsed:    0.1s remaining:    0.0s\n",
      "[Parallel(n_jobs=8)]: Done  43 out of  48 | elapsed:    0.1s remaining:    0.0s\n",
      "[Parallel(n_jobs=8)]: Done  48 out of  48 | elapsed:    0.1s remaining:    0.0s\n",
      "[Parallel(n_jobs=8)]: Done  48 out of  48 | elapsed:    0.1s finished\n",
      "/home/justin/anaconda3/lib/python3.6/site-packages/sklearn/model_selection/_validation.py:458: DataConversionWarning: A column-vector y was passed when a 1d array was expected. Please change the shape of y to (n_samples,), for example using ravel().\n",
      "  estimator.fit(X_train, y_train, **fit_params)\n",
      "[Parallel(n_jobs=-1)]: Done   2 tasks      | elapsed:    0.0s\n",
      "[Parallel(n_jobs=-1)]: Done   9 tasks      | elapsed:    0.1s\n",
      "[Parallel(n_jobs=-1)]: Done  16 tasks      | elapsed:    0.1s\n"
     ]
    },
    {
     "name": "stdout",
     "output_type": "stream",
     "text": [
      "building tree 2 of 94building tree 1 of 94building tree 3 of 94building tree 4 of 94building tree 5 of 94building tree 7 of 94building tree 6 of 94building tree 8 of 94\n",
      "\n",
      "\n",
      "\n",
      "\n",
      "\n",
      "\n",
      "\n",
      "building tree 9 of 94\n",
      "building tree 10 of 94\n",
      "building tree 11 of 94\n",
      "building tree 13 of 94building tree 12 of 94\n",
      "building tree 14 of 94\n",
      "\n",
      "building tree 15 of 94\n",
      "building tree 16 of 94\n",
      "building tree 18 of 94\n",
      "building tree 17 of 94building tree 19 of 94\n",
      "\n",
      "building tree 20 of 94\n",
      "building tree 21 of 94\n",
      "building tree 22 of 94\n",
      "building tree 23 of 94\n",
      "building tree 24 of 94building tree 25 of 94\n",
      "building tree 26 of 94\n",
      "\n",
      "building tree 27 of 94\n",
      "building tree 28 of 94\n",
      "building tree 29 of 94\n",
      "building tree 30 of 94building tree 31 of 94\n",
      "\n",
      "building tree 32 of 94building tree 33 of 94\n",
      "\n",
      "building tree 34 of 94\n",
      "building tree 35 of 94\n",
      "building tree 36 of 94\n",
      "building tree 37 of 94\n"
     ]
    },
    {
     "name": "stderr",
     "output_type": "stream",
     "text": [
      "[Parallel(n_jobs=-1)]: Done  25 tasks      | elapsed:    0.2s\n",
      "[Parallel(n_jobs=-1)]: Done  34 tasks      | elapsed:    0.2s\n",
      "[Parallel(n_jobs=-1)]: Done  45 tasks      | elapsed:    0.3s\n",
      "[Parallel(n_jobs=-1)]: Done  56 tasks      | elapsed:    0.3s\n"
     ]
    },
    {
     "name": "stdout",
     "output_type": "stream",
     "text": [
      "building tree 38 of 94building tree 39 of 94\n",
      "\n",
      "building tree 41 of 94\n",
      "building tree 40 of 94\n",
      "building tree 42 of 94\n",
      "building tree 43 of 94\n",
      "building tree 44 of 94\n",
      "building tree 45 of 94\n",
      "building tree 46 of 94\n",
      "building tree 47 of 94building tree 49 of 94\n",
      "\n",
      "building tree 50 of 94building tree 48 of 94building tree 51 of 94\n",
      "\n",
      "\n",
      "building tree 52 of 94\n",
      "building tree 54 of 94\n",
      "building tree 53 of 94\n",
      "building tree 55 of 94\n",
      "building tree 57 of 94\n",
      "building tree 58 of 94\n",
      "building tree 56 of 94\n",
      "building tree 59 of 94\n",
      "building tree 60 of 94\n",
      "building tree 61 of 94building tree 62 of 94\n",
      "building tree 63 of 94\n",
      "\n",
      "building tree 65 of 94\n",
      "building tree 66 of 94\n",
      "building tree 67 of 94\n",
      "building tree 64 of 94\n",
      "building tree 68 of 94\n",
      "building tree 70 of 94building tree 69 of 94\n",
      "\n",
      "building tree 71 of 94\n",
      "building tree 72 of 94\n",
      "building tree 73 of 94\n",
      "building tree 74 of 94\n",
      "building tree 75 of 94\n",
      "building tree 76 of 94\n",
      "building tree 78 of 94\n",
      "building tree 79 of 94\n",
      "building tree 77 of 94\n",
      "building tree 80 of 94\n",
      "building tree 81 of 94\n",
      "building tree 82 of 94\n",
      "building tree 83 of 94\n",
      "building tree 84 of 94\n",
      "building tree 85 of 94\n",
      "building tree 86 of 94\n",
      "building tree 88 of 94\n",
      "building tree 87 of 94building tree 89 of 94\n",
      "\n",
      "building tree 90 of 94\n",
      "building tree 91 of 94\n",
      "building tree 92 of 94\n",
      "building tree 93 of 94\n",
      "building tree 94 of 94\n"
     ]
    },
    {
     "name": "stderr",
     "output_type": "stream",
     "text": [
      "[Parallel(n_jobs=-1)]: Done  69 tasks      | elapsed:    0.4s\n",
      "[Parallel(n_jobs=-1)]: Done  89 out of  94 | elapsed:    0.6s remaining:    0.0s\n",
      "[Parallel(n_jobs=-1)]: Done  94 out of  94 | elapsed:    0.6s finished\n",
      "[Parallel(n_jobs=8)]: Done   2 tasks      | elapsed:    0.0s\n",
      "[Parallel(n_jobs=8)]: Done   9 tasks      | elapsed:    0.0s\n",
      "[Parallel(n_jobs=8)]: Done  16 tasks      | elapsed:    0.0s\n",
      "[Parallel(n_jobs=8)]: Done  25 tasks      | elapsed:    0.0s\n",
      "[Parallel(n_jobs=8)]: Done  34 tasks      | elapsed:    0.0s\n",
      "[Parallel(n_jobs=8)]: Done  45 tasks      | elapsed:    0.0s\n",
      "[Parallel(n_jobs=8)]: Done  56 tasks      | elapsed:    0.0s\n",
      "[Parallel(n_jobs=8)]: Done  69 tasks      | elapsed:    0.0s\n",
      "[Parallel(n_jobs=8)]: Done  89 out of  94 | elapsed:    0.0s remaining:    0.0s\n",
      "[Parallel(n_jobs=8)]: Done  94 out of  94 | elapsed:    0.0s finished\n",
      "[Parallel(n_jobs=8)]: Done   2 tasks      | elapsed:    0.0s\n",
      "[Parallel(n_jobs=8)]: Done   9 tasks      | elapsed:    0.0s\n",
      "[Parallel(n_jobs=8)]: Done  16 tasks      | elapsed:    0.0s\n",
      "[Parallel(n_jobs=8)]: Done  25 tasks      | elapsed:    0.0s\n",
      "[Parallel(n_jobs=8)]: Done  34 tasks      | elapsed:    0.0s\n",
      "[Parallel(n_jobs=8)]: Done  45 tasks      | elapsed:    0.0s\n",
      "[Parallel(n_jobs=8)]: Done  56 tasks      | elapsed:    0.0s\n",
      "[Parallel(n_jobs=8)]: Done  69 tasks      | elapsed:    0.1s\n",
      "[Parallel(n_jobs=8)]: Done  89 out of  94 | elapsed:    0.1s remaining:    0.0s\n",
      "[Parallel(n_jobs=8)]: Done  94 out of  94 | elapsed:    0.1s finished\n",
      "/home/justin/anaconda3/lib/python3.6/site-packages/sklearn/model_selection/_validation.py:458: DataConversionWarning: A column-vector y was passed when a 1d array was expected. Please change the shape of y to (n_samples,), for example using ravel().\n",
      "  estimator.fit(X_train, y_train, **fit_params)\n",
      "[Parallel(n_jobs=-1)]: Done   2 tasks      | elapsed:    0.0s\n",
      "[Parallel(n_jobs=-1)]: Done   9 tasks      | elapsed:    0.1s\n",
      "[Parallel(n_jobs=-1)]: Done  16 tasks      | elapsed:    0.1s\n"
     ]
    },
    {
     "name": "stdout",
     "output_type": "stream",
     "text": [
      "building tree 3 of 94building tree 5 of 94\n",
      "building tree 1 of 94building tree 6 of 94building tree 4 of 94building tree 7 of 94building tree 8 of 94building tree 2 of 94\n",
      "\n",
      "\n",
      "\n",
      "\n",
      "\n",
      "\n",
      "building tree 9 of 94\n",
      "building tree 10 of 94\n",
      "building tree 11 of 94\n",
      "building tree 12 of 94\n",
      "building tree 13 of 94\n",
      "building tree 14 of 94\n",
      "building tree 15 of 94\n",
      "building tree 16 of 94\n",
      "building tree 18 of 94building tree 17 of 94\n",
      "\n",
      "building tree 19 of 94\n",
      "building tree 20 of 94\n",
      "building tree 21 of 94\n",
      "building tree 22 of 94\n",
      "building tree 23 of 94\n",
      "building tree 24 of 94\n",
      "building tree 26 of 94\n",
      "building tree 27 of 94\n",
      "building tree 25 of 94\n",
      "building tree 29 of 94\n",
      "building tree 31 of 94\n",
      "building tree 28 of 94\n",
      "building tree 30 of 94\n",
      "building tree 32 of 94\n"
     ]
    },
    {
     "name": "stderr",
     "output_type": "stream",
     "text": [
      "[Parallel(n_jobs=-1)]: Done  25 tasks      | elapsed:    0.2s\n",
      "[Parallel(n_jobs=-1)]: Done  34 tasks      | elapsed:    0.3s\n",
      "[Parallel(n_jobs=-1)]: Done  45 tasks      | elapsed:    0.3s\n"
     ]
    },
    {
     "name": "stdout",
     "output_type": "stream",
     "text": [
      "building tree 33 of 94\n",
      "building tree 34 of 94\n",
      "building tree 35 of 94\n",
      "building tree 37 of 94\n",
      "building tree 36 of 94\n",
      "building tree 39 of 94\n",
      "building tree 38 of 94\n",
      "building tree 40 of 94\n",
      "building tree 41 of 94\n",
      "building tree 42 of 94\n",
      "building tree 43 of 94\n",
      "building tree 44 of 94\n",
      "building tree 45 of 94\n",
      "building tree 46 of 94\n",
      "building tree 47 of 94\n",
      "building tree 48 of 94\n",
      "building tree 49 of 94\n",
      "building tree 50 of 94\n",
      "building tree 51 of 94\n",
      "building tree 52 of 94\n",
      "building tree 53 of 94building tree 54 of 94\n",
      "building tree 55 of 94\n",
      "\n",
      "building tree 57 of 94\n",
      "building tree 56 of 94building tree 58 of 94\n",
      "\n",
      "building tree 59 of 94building tree 60 of 94\n",
      "building tree 61 of 94\n",
      "building tree 62 of 94\n",
      "\n"
     ]
    },
    {
     "name": "stderr",
     "output_type": "stream",
     "text": [
      "[Parallel(n_jobs=-1)]: Done  56 tasks      | elapsed:    0.4s\n",
      "[Parallel(n_jobs=-1)]: Done  69 tasks      | elapsed:    0.5s\n"
     ]
    },
    {
     "name": "stdout",
     "output_type": "stream",
     "text": [
      "building tree 64 of 94\n",
      "building tree 63 of 94\n",
      "building tree 65 of 94\n",
      "building tree 66 of 94\n",
      "building tree 67 of 94building tree 68 of 94\n",
      "\n",
      "building tree 69 of 94\n",
      "building tree 70 of 94building tree 71 of 94\n",
      "building tree 72 of 94\n",
      "building tree 73 of 94\n",
      "\n",
      "building tree 74 of 94building tree 75 of 94\n",
      "building tree 76 of 94\n",
      "\n",
      "building tree 77 of 94\n",
      "building tree 78 of 94\n",
      "building tree 79 of 94\n",
      "building tree 80 of 94building tree 81 of 94\n",
      "building tree 82 of 94\n",
      "\n",
      "building tree 84 of 94\n",
      "building tree 83 of 94\n",
      "building tree 85 of 94\n",
      "building tree 86 of 94\n",
      "building tree 87 of 94\n",
      "building tree 90 of 94building tree 88 of 94\n",
      "\n",
      "building tree 91 of 94\n",
      "building tree 92 of 94\n",
      "building tree 93 of 94\n",
      "building tree 89 of 94\n",
      "building tree 94 of 94\n"
     ]
    },
    {
     "name": "stderr",
     "output_type": "stream",
     "text": [
      "[Parallel(n_jobs=-1)]: Done  89 out of  94 | elapsed:    0.6s remaining:    0.0s\n",
      "[Parallel(n_jobs=-1)]: Done  94 out of  94 | elapsed:    0.7s finished\n",
      "[Parallel(n_jobs=8)]: Done   2 tasks      | elapsed:    0.0s\n",
      "[Parallel(n_jobs=8)]: Done   9 tasks      | elapsed:    0.0s\n",
      "[Parallel(n_jobs=8)]: Done  16 tasks      | elapsed:    0.0s\n",
      "[Parallel(n_jobs=8)]: Done  25 tasks      | elapsed:    0.0s\n",
      "[Parallel(n_jobs=8)]: Done  34 tasks      | elapsed:    0.0s\n",
      "[Parallel(n_jobs=8)]: Done  45 tasks      | elapsed:    0.0s\n",
      "[Parallel(n_jobs=8)]: Done  56 tasks      | elapsed:    0.0s\n",
      "[Parallel(n_jobs=8)]: Done  69 tasks      | elapsed:    0.0s\n",
      "[Parallel(n_jobs=8)]: Done  89 out of  94 | elapsed:    0.0s remaining:    0.0s\n",
      "[Parallel(n_jobs=8)]: Done  94 out of  94 | elapsed:    0.0s finished\n",
      "[Parallel(n_jobs=8)]: Done   2 tasks      | elapsed:    0.0s\n",
      "[Parallel(n_jobs=8)]: Done   9 tasks      | elapsed:    0.0s\n",
      "[Parallel(n_jobs=8)]: Done  16 tasks      | elapsed:    0.0s\n",
      "[Parallel(n_jobs=8)]: Done  25 tasks      | elapsed:    0.0s\n",
      "[Parallel(n_jobs=8)]: Done  34 tasks      | elapsed:    0.0s\n",
      "[Parallel(n_jobs=8)]: Done  45 tasks      | elapsed:    0.0s\n",
      "[Parallel(n_jobs=8)]: Done  56 tasks      | elapsed:    0.0s\n",
      "[Parallel(n_jobs=8)]: Done  69 tasks      | elapsed:    0.1s\n",
      "[Parallel(n_jobs=8)]: Done  89 out of  94 | elapsed:    0.1s remaining:    0.0s\n",
      "[Parallel(n_jobs=8)]: Done  94 out of  94 | elapsed:    0.1s finished\n",
      "/home/justin/anaconda3/lib/python3.6/site-packages/sklearn/model_selection/_validation.py:458: DataConversionWarning: A column-vector y was passed when a 1d array was expected. Please change the shape of y to (n_samples,), for example using ravel().\n",
      "  estimator.fit(X_train, y_train, **fit_params)\n",
      "[Parallel(n_jobs=-1)]: Done   2 tasks      | elapsed:    0.1s\n",
      "[Parallel(n_jobs=-1)]: Done   9 tasks      | elapsed:    0.1s\n"
     ]
    },
    {
     "name": "stdout",
     "output_type": "stream",
     "text": [
      "building tree 2 of 94\n",
      "building tree 5 of 94building tree 6 of 94building tree 3 of 94building tree 4 of 94building tree 7 of 94building tree 8 of 94building tree 1 of 94\n",
      "\n",
      "\n",
      "\n",
      "\n",
      "\n",
      "\n",
      "building tree 9 of 94\n",
      "building tree 10 of 94\n",
      "building tree 11 of 94\n",
      "building tree 12 of 94\n",
      "building tree 13 of 94\n",
      "building tree 14 of 94\n",
      "building tree 15 of 94\n",
      "building tree 16 of 94\n",
      "building tree 17 of 94\n",
      "building tree 18 of 94\n",
      "building tree 19 of 94\n",
      "building tree 20 of 94\n",
      "building tree 21 of 94\n",
      "building tree 22 of 94\n",
      "building tree 23 of 94building tree 24 of 94\n",
      "\n",
      "building tree 25 of 94\n",
      "building tree 26 of 94\n",
      "building tree 27 of 94\n"
     ]
    },
    {
     "name": "stderr",
     "output_type": "stream",
     "text": [
      "[Parallel(n_jobs=-1)]: Done  16 tasks      | elapsed:    0.2s\n",
      "[Parallel(n_jobs=-1)]: Done  25 tasks      | elapsed:    0.3s\n",
      "[Parallel(n_jobs=-1)]: Done  34 tasks      | elapsed:    0.3s\n"
     ]
    },
    {
     "name": "stdout",
     "output_type": "stream",
     "text": [
      "building tree 28 of 94\n",
      "building tree 29 of 94\n",
      "building tree 31 of 94\n",
      "building tree 30 of 94\n",
      "building tree 32 of 94\n",
      "building tree 33 of 94\n",
      "building tree 34 of 94\n",
      "building tree 35 of 94\n",
      "building tree 36 of 94\n",
      "building tree 37 of 94\n",
      "building tree 38 of 94\n",
      "building tree 40 of 94building tree 39 of 94building tree 41 of 94\n",
      "building tree 42 of 94\n",
      "\n",
      "\n",
      "building tree 43 of 94\n",
      "building tree 45 of 94\n",
      "building tree 44 of 94\n",
      "building tree 46 of 94\n",
      "building tree 47 of 94\n",
      "building tree 48 of 94\n",
      "building tree 49 of 94building tree 50 of 94\n",
      "\n",
      "building tree 52 of 94\n",
      "building tree 51 of 94\n",
      "building tree 53 of 94\n",
      "building tree 54 of 94\n",
      "building tree 55 of 94\n",
      "building tree 56 of 94\n",
      "building tree 57 of 94\n",
      "building tree 58 of 94\n",
      "building tree 59 of 94\n",
      "building tree 61 of 94\n",
      "building tree 60 of 94building tree 62 of 94\n",
      "\n",
      "building tree 63 of 94\n",
      "building tree 64 of 94\n",
      "building tree 65 of 94\n",
      "building tree 66 of 94\n",
      "building tree 67 of 94\n",
      "building tree 68 of 94\n",
      "building tree 69 of 94\n",
      "building tree 70 of 94\n",
      "building tree 71 of 94\n",
      "building tree 72 of 94"
     ]
    },
    {
     "name": "stderr",
     "output_type": "stream",
     "text": [
      "[Parallel(n_jobs=-1)]: Done  45 tasks      | elapsed:    0.4s\n",
      "[Parallel(n_jobs=-1)]: Done  56 tasks      | elapsed:    0.5s\n"
     ]
    },
    {
     "name": "stdout",
     "output_type": "stream",
     "text": [
      "building tree 73 of 94\n",
      "building tree 74 of 94\n",
      "building tree 75 of 94\n",
      "building tree 76 of 94\n",
      "building tree 77 of 94\n",
      "building tree 78 of 94\n",
      "\n",
      "building tree 79 of 94\n",
      "building tree 80 of 94\n",
      "building tree 81 of 94\n",
      "building tree 82 of 94\n",
      "building tree 83 of 94\n",
      "building tree 84 of 94\n",
      "building tree 85 of 94\n",
      "building tree 86 of 94\n",
      "building tree 87 of 94\n",
      "building tree 88 of 94\n",
      "building tree 89 of 94\n",
      "building tree 90 of 94\n",
      "building tree 91 of 94\n",
      "building tree 93 of 94\n",
      "building tree 92 of 94building tree 94 of 94\n",
      "\n"
     ]
    },
    {
     "name": "stderr",
     "output_type": "stream",
     "text": [
      "[Parallel(n_jobs=-1)]: Done  69 tasks      | elapsed:    0.7s\n",
      "[Parallel(n_jobs=-1)]: Done  89 out of  94 | elapsed:    0.8s remaining:    0.0s\n",
      "[Parallel(n_jobs=-1)]: Done  94 out of  94 | elapsed:    0.9s finished\n",
      "[Parallel(n_jobs=8)]: Done   2 tasks      | elapsed:    0.0s\n",
      "[Parallel(n_jobs=8)]: Done   9 tasks      | elapsed:    0.0s\n",
      "[Parallel(n_jobs=8)]: Done  16 tasks      | elapsed:    0.0s\n",
      "[Parallel(n_jobs=8)]: Done  25 tasks      | elapsed:    0.0s\n",
      "[Parallel(n_jobs=8)]: Done  34 tasks      | elapsed:    0.0s\n",
      "[Parallel(n_jobs=8)]: Done  45 tasks      | elapsed:    0.0s\n",
      "[Parallel(n_jobs=8)]: Done  56 tasks      | elapsed:    0.0s\n",
      "[Parallel(n_jobs=8)]: Done  69 tasks      | elapsed:    0.0s\n",
      "[Parallel(n_jobs=8)]: Done  89 out of  94 | elapsed:    0.0s remaining:    0.0s\n",
      "[Parallel(n_jobs=8)]: Done  94 out of  94 | elapsed:    0.0s finished\n",
      "[Parallel(n_jobs=8)]: Done   2 tasks      | elapsed:    0.0s\n",
      "[Parallel(n_jobs=8)]: Done   9 tasks      | elapsed:    0.0s\n",
      "[Parallel(n_jobs=8)]: Done  16 tasks      | elapsed:    0.0s\n",
      "[Parallel(n_jobs=8)]: Done  25 tasks      | elapsed:    0.0s\n",
      "[Parallel(n_jobs=8)]: Done  34 tasks      | elapsed:    0.0s\n",
      "[Parallel(n_jobs=8)]: Done  45 tasks      | elapsed:    0.1s\n",
      "[Parallel(n_jobs=8)]: Done  56 tasks      | elapsed:    0.1s\n",
      "[Parallel(n_jobs=8)]: Done  69 tasks      | elapsed:    0.1s\n",
      "[Parallel(n_jobs=8)]: Done  89 out of  94 | elapsed:    0.1s remaining:    0.0s\n",
      "[Parallel(n_jobs=8)]: Done  94 out of  94 | elapsed:    0.1s finished\n",
      "/home/justin/anaconda3/lib/python3.6/site-packages/sklearn/model_selection/_validation.py:458: DataConversionWarning: A column-vector y was passed when a 1d array was expected. Please change the shape of y to (n_samples,), for example using ravel().\n",
      "  estimator.fit(X_train, y_train, **fit_params)\n"
     ]
    },
    {
     "name": "stdout",
     "output_type": "stream",
     "text": [
      "building tree 1 of 93building tree 3 of 93building tree 4 of 93building tree 5 of 93building tree 2 of 93building tree 6 of 93\n",
      "building tree 7 of 93building tree 8 of 93\n",
      "\n",
      "\n",
      "\n",
      "\n",
      "\n",
      "\n",
      "building tree 9 of 93\n",
      "building tree 10 of 93\n",
      "building tree 11 of 93\n",
      "building tree 12 of 93\n",
      "building tree 13 of 93\n"
     ]
    },
    {
     "name": "stderr",
     "output_type": "stream",
     "text": [
      "[Parallel(n_jobs=-1)]: Done   2 tasks      | elapsed:    1.8s\n"
     ]
    },
    {
     "name": "stdout",
     "output_type": "stream",
     "text": [
      "building tree 14 of 93\n",
      "building tree 15 of 93\n",
      "building tree 16 of 93\n"
     ]
    },
    {
     "name": "stderr",
     "output_type": "stream",
     "text": [
      "[Parallel(n_jobs=-1)]: Done   9 tasks      | elapsed:    3.3s\n"
     ]
    },
    {
     "name": "stdout",
     "output_type": "stream",
     "text": [
      "building tree 17 of 93\n",
      "building tree 18 of 93\n",
      "building tree 19 of 93\n",
      "building tree 20 of 93\n",
      "building tree 21 of 93\n",
      "building tree 22 of 93\n",
      "building tree 23 of 93\n",
      "building tree 24 of 93\n"
     ]
    },
    {
     "name": "stderr",
     "output_type": "stream",
     "text": [
      "[Parallel(n_jobs=-1)]: Done  16 tasks      | elapsed:    4.1s\n"
     ]
    },
    {
     "name": "stdout",
     "output_type": "stream",
     "text": [
      "building tree 25 of 93\n",
      "building tree 26 of 93\n",
      "building tree 27 of 93\n",
      "building tree 28 of 93\n",
      "building tree 29 of 93\n",
      "building tree 30 of 93\n",
      "building tree 31 of 93\n",
      "building tree 32 of 93\n"
     ]
    },
    {
     "name": "stderr",
     "output_type": "stream",
     "text": [
      "[Parallel(n_jobs=-1)]: Done  25 tasks      | elapsed:    6.8s\n"
     ]
    },
    {
     "name": "stdout",
     "output_type": "stream",
     "text": [
      "building tree 33 of 93\n",
      "building tree 34 of 93\n",
      "building tree 35 of 93\n",
      "building tree 36 of 93\n",
      "building tree 37 of 93\n",
      "building tree 38 of 93\n",
      "building tree 39 of 93\n",
      "building tree 40 of 93\n",
      "building tree 41 of 93building tree 42 of 93\n",
      "\n",
      "building tree 43 of 93\n"
     ]
    },
    {
     "name": "stderr",
     "output_type": "stream",
     "text": [
      "[Parallel(n_jobs=-1)]: Done  34 tasks      | elapsed:    8.9s\n"
     ]
    },
    {
     "name": "stdout",
     "output_type": "stream",
     "text": [
      "building tree 44 of 93\n",
      "building tree 45 of 93\n",
      "building tree 46 of 93\n",
      "building tree 47 of 93\n",
      "building tree 48 of 93\n",
      "building tree 49 of 93\n",
      "building tree 50 of 93\n",
      "building tree 51 of 93\n",
      "building tree 52 of 93\n"
     ]
    },
    {
     "name": "stderr",
     "output_type": "stream",
     "text": [
      "[Parallel(n_jobs=-1)]: Done  45 tasks      | elapsed:   11.4s\n"
     ]
    },
    {
     "name": "stdout",
     "output_type": "stream",
     "text": [
      "building tree 53 of 93\n",
      "building tree 54 of 93\n",
      "building tree 55 of 93\n",
      "building tree 56 of 93\n",
      "building tree 57 of 93\n",
      "building tree 58 of 93\n",
      "building tree 59 of 93\n",
      "building tree 60 of 93\n",
      "building tree 61 of 93\n",
      "building tree 62 of 93\n",
      "building tree 63 of 93\n"
     ]
    },
    {
     "name": "stderr",
     "output_type": "stream",
     "text": [
      "[Parallel(n_jobs=-1)]: Done  56 tasks      | elapsed:   14.3s\n"
     ]
    },
    {
     "name": "stdout",
     "output_type": "stream",
     "text": [
      "building tree 64 of 93\n",
      "building tree 65 of 93\n",
      "building tree 66 of 93\n",
      "building tree 67 of 93\n",
      "building tree 68 of 93\n",
      "building tree 69 of 93\n",
      "building tree 70 of 93\n",
      "building tree 71 of 93\n",
      "building tree 72 of 93\n",
      "building tree 73 of 93\n",
      "building tree 74 of 93\n",
      "building tree 75 of 93\n",
      "building tree 76 of 93\n"
     ]
    },
    {
     "name": "stderr",
     "output_type": "stream",
     "text": [
      "[Parallel(n_jobs=-1)]: Done  69 tasks      | elapsed:   16.9s\n"
     ]
    },
    {
     "name": "stdout",
     "output_type": "stream",
     "text": [
      "building tree 77 of 93\n",
      "building tree 78 of 93\n",
      "building tree 79 of 93\n",
      "building tree 80 of 93\n",
      "building tree 81 of 93\n",
      "building tree 82 of 93\n",
      "building tree 83 of 93\n",
      "building tree 84 of 93\n",
      "building tree 85 of 93\n",
      "building tree 86 of 93\n",
      "building tree 87 of 93\n",
      "building tree 88 of 93\n",
      "building tree 89 of 93\n",
      "building tree 90 of 93\n",
      "building tree 91 of 93\n",
      "building tree 92 of 93\n",
      "building tree 93 of 93\n"
     ]
    },
    {
     "name": "stderr",
     "output_type": "stream",
     "text": [
      "[Parallel(n_jobs=-1)]: Done  88 out of  93 | elapsed:   21.6s remaining:    1.2s\n",
      "[Parallel(n_jobs=-1)]: Done  93 out of  93 | elapsed:   22.7s finished\n",
      "[Parallel(n_jobs=8)]: Done   2 tasks      | elapsed:    0.0s\n",
      "[Parallel(n_jobs=8)]: Done   9 tasks      | elapsed:    0.0s\n",
      "[Parallel(n_jobs=8)]: Done  16 tasks      | elapsed:    0.0s\n",
      "[Parallel(n_jobs=8)]: Done  25 tasks      | elapsed:    0.0s\n",
      "[Parallel(n_jobs=8)]: Done  34 tasks      | elapsed:    0.1s\n",
      "[Parallel(n_jobs=8)]: Done  45 tasks      | elapsed:    0.1s\n",
      "[Parallel(n_jobs=8)]: Done  56 tasks      | elapsed:    0.1s\n",
      "[Parallel(n_jobs=8)]: Done  69 tasks      | elapsed:    0.1s\n",
      "[Parallel(n_jobs=8)]: Done  88 out of  93 | elapsed:    0.1s remaining:    0.0s\n",
      "[Parallel(n_jobs=8)]: Done  93 out of  93 | elapsed:    0.1s finished\n",
      "[Parallel(n_jobs=8)]: Done   2 tasks      | elapsed:    0.0s\n",
      "[Parallel(n_jobs=8)]: Done   9 tasks      | elapsed:    0.0s\n",
      "[Parallel(n_jobs=8)]: Done  16 tasks      | elapsed:    0.1s\n",
      "[Parallel(n_jobs=8)]: Done  25 tasks      | elapsed:    0.1s\n",
      "[Parallel(n_jobs=8)]: Done  34 tasks      | elapsed:    0.1s\n",
      "[Parallel(n_jobs=8)]: Done  45 tasks      | elapsed:    0.1s\n",
      "[Parallel(n_jobs=8)]: Done  56 tasks      | elapsed:    0.2s\n",
      "[Parallel(n_jobs=8)]: Done  69 tasks      | elapsed:    0.2s\n",
      "[Parallel(n_jobs=8)]: Done  88 out of  93 | elapsed:    0.2s remaining:    0.0s\n",
      "[Parallel(n_jobs=8)]: Done  93 out of  93 | elapsed:    0.3s finished\n",
      "/home/justin/anaconda3/lib/python3.6/site-packages/sklearn/model_selection/_validation.py:458: DataConversionWarning: A column-vector y was passed when a 1d array was expected. Please change the shape of y to (n_samples,), for example using ravel().\n",
      "  estimator.fit(X_train, y_train, **fit_params)\n"
     ]
    },
    {
     "name": "stdout",
     "output_type": "stream",
     "text": [
      "building tree 1 of 93\n",
      "building tree 2 of 93building tree 3 of 93building tree 4 of 93building tree 5 of 93building tree 6 of 93building tree 7 of 93building tree 8 of 93\n",
      "\n",
      "\n",
      "\n",
      "\n",
      "\n",
      "\n",
      "building tree 9 of 93\n",
      "building tree 10 of 93\n"
     ]
    },
    {
     "name": "stderr",
     "output_type": "stream",
     "text": [
      "[Parallel(n_jobs=-1)]: Done   2 tasks      | elapsed:    2.5s\n"
     ]
    },
    {
     "name": "stdout",
     "output_type": "stream",
     "text": [
      "building tree 11 of 93\n",
      "building tree 12 of 93\n",
      "building tree 13 of 93\n",
      "building tree 14 of 93\n",
      "building tree 15 of 93\n",
      "building tree 16 of 93\n"
     ]
    },
    {
     "name": "stderr",
     "output_type": "stream",
     "text": [
      "[Parallel(n_jobs=-1)]: Done   9 tasks      | elapsed:    4.9s\n"
     ]
    },
    {
     "name": "stdout",
     "output_type": "stream",
     "text": [
      "building tree 17 of 93\n",
      "building tree 18 of 93\n",
      "building tree 19 of 93\n",
      "building tree 20 of 93\n",
      "building tree 21 of 93\n",
      "building tree 22 of 93\n",
      "building tree 23 of 93\n",
      "building tree 24 of 93\n"
     ]
    },
    {
     "name": "stderr",
     "output_type": "stream",
     "text": [
      "[Parallel(n_jobs=-1)]: Done  16 tasks      | elapsed:    5.8s\n"
     ]
    },
    {
     "name": "stdout",
     "output_type": "stream",
     "text": [
      "building tree 25 of 93\n",
      "building tree 26 of 93\n",
      "building tree 27 of 93\n",
      "building tree 28 of 93\n",
      "building tree 29 of 93\n",
      "building tree 30 of 93\n",
      "building tree 31 of 93\n",
      "building tree 32 of 93\n"
     ]
    },
    {
     "name": "stderr",
     "output_type": "stream",
     "text": [
      "[Parallel(n_jobs=-1)]: Done  25 tasks      | elapsed:   10.0s\n"
     ]
    },
    {
     "name": "stdout",
     "output_type": "stream",
     "text": [
      "building tree 33 of 93\n",
      "building tree 34 of 93\n",
      "building tree 35 of 93\n",
      "building tree 36 of 93\n",
      "building tree 37 of 93\n",
      "building tree 38 of 93\n",
      "building tree 39 of 93\n",
      "building tree 40 of 93\n",
      "building tree 41 of 93\n"
     ]
    },
    {
     "name": "stderr",
     "output_type": "stream",
     "text": [
      "[Parallel(n_jobs=-1)]: Done  34 tasks      | elapsed:   12.9s\n"
     ]
    },
    {
     "name": "stdout",
     "output_type": "stream",
     "text": [
      "building tree 42 of 93\n",
      "building tree 43 of 93\n",
      "building tree 44 of 93\n",
      "building tree 45 of 93\n",
      "building tree 46 of 93\n",
      "building tree 47 of 93\n",
      "building tree 48 of 93\n",
      "building tree 49 of 93\n",
      "building tree 50 of 93\n",
      "building tree 51 of 93\n",
      "building tree 52 of 93\n",
      "building tree 53 of 93\n"
     ]
    },
    {
     "name": "stderr",
     "output_type": "stream",
     "text": [
      "[Parallel(n_jobs=-1)]: Done  45 tasks      | elapsed:   15.7s\n"
     ]
    },
    {
     "name": "stdout",
     "output_type": "stream",
     "text": [
      "building tree 54 of 93\n",
      "building tree 55 of 93\n",
      "building tree 56 of 93\n",
      "building tree 57 of 93\n",
      "building tree 58 of 93\n",
      "building tree 59 of 93\n",
      "building tree 60 of 93\n",
      "building tree 61 of 93\n",
      "building tree 62 of 93\n",
      "building tree 63 of 93\n"
     ]
    },
    {
     "name": "stderr",
     "output_type": "stream",
     "text": [
      "[Parallel(n_jobs=-1)]: Done  56 tasks      | elapsed:   19.9s\n"
     ]
    },
    {
     "name": "stdout",
     "output_type": "stream",
     "text": [
      "building tree 64 of 93\n",
      "building tree 65 of 93\n",
      "building tree 66 of 93\n",
      "building tree 67 of 93\n",
      "building tree 68 of 93\n",
      "building tree 69 of 93\n",
      "building tree 70 of 93\n",
      "building tree 71 of 93\n",
      "building tree 72 of 93\n",
      "building tree 73 of 93\n",
      "building tree 74 of 93\n",
      "building tree 75 of 93\n",
      "building tree 76 of 93\n"
     ]
    },
    {
     "name": "stderr",
     "output_type": "stream",
     "text": [
      "[Parallel(n_jobs=-1)]: Done  69 tasks      | elapsed:   23.9s\n"
     ]
    },
    {
     "name": "stdout",
     "output_type": "stream",
     "text": [
      "building tree 77 of 93\n",
      "building tree 78 of 93\n",
      "building tree 79 of 93\n",
      "building tree 80 of 93\n",
      "building tree 81 of 93\n",
      "building tree 82 of 93\n",
      "building tree 83 of 93\n",
      "building tree 84 of 93\n",
      "building tree 85 of 93\n",
      "building tree 86 of 93\n",
      "building tree 87 of 93\n",
      "building tree 88 of 93\n",
      "building tree 89 of 93\n",
      "building tree 90 of 93\n",
      "building tree 91 of 93\n",
      "building tree 92 of 93\n",
      "building tree 93 of 93\n"
     ]
    },
    {
     "name": "stderr",
     "output_type": "stream",
     "text": [
      "[Parallel(n_jobs=-1)]: Done  88 out of  93 | elapsed:   30.2s remaining:    1.7s\n",
      "[Parallel(n_jobs=-1)]: Done  93 out of  93 | elapsed:   31.3s finished\n",
      "[Parallel(n_jobs=8)]: Done   2 tasks      | elapsed:    0.0s\n",
      "[Parallel(n_jobs=8)]: Done   9 tasks      | elapsed:    0.0s\n",
      "[Parallel(n_jobs=8)]: Done  16 tasks      | elapsed:    0.0s\n",
      "[Parallel(n_jobs=8)]: Done  25 tasks      | elapsed:    0.0s\n",
      "[Parallel(n_jobs=8)]: Done  34 tasks      | elapsed:    0.1s\n",
      "[Parallel(n_jobs=8)]: Done  45 tasks      | elapsed:    0.1s\n",
      "[Parallel(n_jobs=8)]: Done  56 tasks      | elapsed:    0.1s\n",
      "[Parallel(n_jobs=8)]: Done  69 tasks      | elapsed:    0.1s\n",
      "[Parallel(n_jobs=8)]: Done  88 out of  93 | elapsed:    0.1s remaining:    0.0s\n",
      "[Parallel(n_jobs=8)]: Done  93 out of  93 | elapsed:    0.1s finished\n",
      "[Parallel(n_jobs=8)]: Done   2 tasks      | elapsed:    0.0s\n",
      "[Parallel(n_jobs=8)]: Done   9 tasks      | elapsed:    0.0s\n",
      "[Parallel(n_jobs=8)]: Done  16 tasks      | elapsed:    0.1s\n",
      "[Parallel(n_jobs=8)]: Done  25 tasks      | elapsed:    0.1s\n",
      "[Parallel(n_jobs=8)]: Done  34 tasks      | elapsed:    0.1s\n",
      "[Parallel(n_jobs=8)]: Done  45 tasks      | elapsed:    0.1s\n",
      "[Parallel(n_jobs=8)]: Done  56 tasks      | elapsed:    0.2s\n",
      "[Parallel(n_jobs=8)]: Done  69 tasks      | elapsed:    0.2s\n",
      "[Parallel(n_jobs=8)]: Done  88 out of  93 | elapsed:    0.3s remaining:    0.0s\n",
      "[Parallel(n_jobs=8)]: Done  93 out of  93 | elapsed:    0.3s finished\n",
      "/home/justin/anaconda3/lib/python3.6/site-packages/sklearn/model_selection/_validation.py:458: DataConversionWarning: A column-vector y was passed when a 1d array was expected. Please change the shape of y to (n_samples,), for example using ravel().\n",
      "  estimator.fit(X_train, y_train, **fit_params)\n"
     ]
    },
    {
     "name": "stdout",
     "output_type": "stream",
     "text": [
      "building tree 1 of 93building tree 2 of 93building tree 4 of 93building tree 5 of 93building tree 3 of 93building tree 6 of 93building tree 7 of 93building tree 8 of 93\n",
      "\n",
      "\n",
      "\n",
      "\n",
      "\n",
      "\n",
      "\n",
      "building tree 9 of 93\n",
      "building tree 10 of 93\n"
     ]
    },
    {
     "name": "stderr",
     "output_type": "stream",
     "text": [
      "[Parallel(n_jobs=-1)]: Done   2 tasks      | elapsed:    2.8s\n"
     ]
    },
    {
     "name": "stdout",
     "output_type": "stream",
     "text": [
      "building tree 11 of 93\n",
      "building tree 12 of 93\n",
      "building tree 13 of 93\n",
      "building tree 14 of 93\n",
      "building tree 15 of 93\n",
      "building tree 16 of 93\n"
     ]
    },
    {
     "name": "stderr",
     "output_type": "stream",
     "text": [
      "[Parallel(n_jobs=-1)]: Done   9 tasks      | elapsed:    5.9s\n"
     ]
    },
    {
     "name": "stdout",
     "output_type": "stream",
     "text": [
      "building tree 17 of 93\n",
      "building tree 18 of 93\n",
      "building tree 19 of 93\n",
      "building tree 20 of 93\n",
      "building tree 21 of 93\n",
      "building tree 22 of 93\n",
      "building tree 23 of 93\n"
     ]
    },
    {
     "name": "stderr",
     "output_type": "stream",
     "text": [
      "[Parallel(n_jobs=-1)]: Done  16 tasks      | elapsed:    6.8s\n"
     ]
    },
    {
     "name": "stdout",
     "output_type": "stream",
     "text": [
      "building tree 24 of 93\n",
      "building tree 25 of 93\n",
      "building tree 26 of 93\n",
      "building tree 27 of 93\n",
      "building tree 28 of 93\n",
      "building tree 29 of 93\n",
      "building tree 30 of 93\n",
      "building tree 31 of 93\n",
      "building tree 32 of 93\n"
     ]
    },
    {
     "name": "stderr",
     "output_type": "stream",
     "text": [
      "[Parallel(n_jobs=-1)]: Done  25 tasks      | elapsed:   11.7s\n"
     ]
    },
    {
     "name": "stdout",
     "output_type": "stream",
     "text": [
      "building tree 33 of 93\n",
      "building tree 34 of 93\n",
      "building tree 35 of 93\n",
      "building tree 36 of 93\n",
      "building tree 37 of 93\n",
      "building tree 38 of 93\n",
      "building tree 39 of 93\n",
      "building tree 40 of 93\n",
      "building tree 41 of 93\n"
     ]
    },
    {
     "name": "stderr",
     "output_type": "stream",
     "text": [
      "[Parallel(n_jobs=-1)]: Done  34 tasks      | elapsed:   15.2s\n"
     ]
    },
    {
     "name": "stdout",
     "output_type": "stream",
     "text": [
      "building tree 42 of 93\n",
      "building tree 43 of 93\n",
      "building tree 44 of 93\n",
      "building tree 45 of 93\n",
      "building tree 46 of 93\n",
      "building tree 47 of 93\n",
      "building tree 48 of 93\n",
      "building tree 49 of 93\n",
      "building tree 50 of 93\n",
      "building tree 51 of 93\n",
      "building tree 52 of 93\n"
     ]
    },
    {
     "name": "stderr",
     "output_type": "stream",
     "text": [
      "[Parallel(n_jobs=-1)]: Done  45 tasks      | elapsed:   19.0s\n"
     ]
    },
    {
     "name": "stdout",
     "output_type": "stream",
     "text": [
      "building tree 53 of 93\n",
      "building tree 54 of 93\n",
      "building tree 55 of 93\n",
      "building tree 56 of 93\n",
      "building tree 57 of 93\n",
      "building tree 58 of 93\n",
      "building tree 59 of 93\n",
      "building tree 60 of 93\n",
      "building tree 61 of 93\n",
      "building tree 62 of 93\n",
      "building tree 63 of 93\n"
     ]
    },
    {
     "name": "stderr",
     "output_type": "stream",
     "text": [
      "[Parallel(n_jobs=-1)]: Done  56 tasks      | elapsed:   23.4s\n"
     ]
    },
    {
     "name": "stdout",
     "output_type": "stream",
     "text": [
      "building tree 64 of 93\n",
      "building tree 65 of 93\n",
      "building tree 66 of 93\n",
      "building tree 67 of 93\n",
      "building tree 68 of 93\n",
      "building tree 69 of 93\n",
      "building tree 70 of 93\n",
      "building tree 71 of 93\n",
      "building tree 72 of 93\n",
      "building tree 73 of 93\n",
      "building tree 74 of 93\n",
      "building tree 75 of 93\n",
      "building tree 76 of 93\n"
     ]
    },
    {
     "name": "stderr",
     "output_type": "stream",
     "text": [
      "[Parallel(n_jobs=-1)]: Done  69 tasks      | elapsed:   28.3s\n"
     ]
    },
    {
     "name": "stdout",
     "output_type": "stream",
     "text": [
      "building tree 77 of 93\n",
      "building tree 78 of 93\n",
      "building tree 79 of 93\n",
      "building tree 80 of 93\n",
      "building tree 81 of 93\n",
      "building tree 82 of 93\n",
      "building tree 83 of 93\n",
      "building tree 84 of 93\n",
      "building tree 85 of 93\n",
      "building tree 86 of 93\n",
      "building tree 87 of 93\n",
      "building tree 88 of 93\n",
      "building tree 89 of 93\n",
      "building tree 90 of 93\n",
      "building tree 91 of 93\n",
      "building tree 92 of 93\n",
      "building tree 93 of 93\n"
     ]
    },
    {
     "name": "stderr",
     "output_type": "stream",
     "text": [
      "[Parallel(n_jobs=-1)]: Done  88 out of  93 | elapsed:   35.1s remaining:    2.0s\n",
      "[Parallel(n_jobs=-1)]: Done  93 out of  93 | elapsed:   37.2s finished\n",
      "[Parallel(n_jobs=8)]: Done   2 tasks      | elapsed:    0.0s\n",
      "[Parallel(n_jobs=8)]: Done   9 tasks      | elapsed:    0.0s\n",
      "[Parallel(n_jobs=8)]: Done  16 tasks      | elapsed:    0.0s\n",
      "[Parallel(n_jobs=8)]: Done  25 tasks      | elapsed:    0.0s\n",
      "[Parallel(n_jobs=8)]: Done  34 tasks      | elapsed:    0.1s\n",
      "[Parallel(n_jobs=8)]: Done  45 tasks      | elapsed:    0.1s\n",
      "[Parallel(n_jobs=8)]: Done  56 tasks      | elapsed:    0.1s\n",
      "[Parallel(n_jobs=8)]: Done  69 tasks      | elapsed:    0.1s\n",
      "[Parallel(n_jobs=8)]: Done  88 out of  93 | elapsed:    0.2s remaining:    0.0s\n",
      "[Parallel(n_jobs=8)]: Done  93 out of  93 | elapsed:    0.2s finished\n",
      "[Parallel(n_jobs=8)]: Done   2 tasks      | elapsed:    0.0s\n",
      "[Parallel(n_jobs=8)]: Done   9 tasks      | elapsed:    0.0s\n",
      "[Parallel(n_jobs=8)]: Done  16 tasks      | elapsed:    0.1s\n",
      "[Parallel(n_jobs=8)]: Done  25 tasks      | elapsed:    0.1s\n",
      "[Parallel(n_jobs=8)]: Done  34 tasks      | elapsed:    0.1s\n",
      "[Parallel(n_jobs=8)]: Done  45 tasks      | elapsed:    0.1s\n",
      "[Parallel(n_jobs=8)]: Done  56 tasks      | elapsed:    0.2s\n",
      "[Parallel(n_jobs=8)]: Done  69 tasks      | elapsed:    0.2s\n",
      "[Parallel(n_jobs=8)]: Done  88 out of  93 | elapsed:    0.3s remaining:    0.0s\n",
      "[Parallel(n_jobs=8)]: Done  93 out of  93 | elapsed:    0.3s finished\n",
      "/home/justin/anaconda3/lib/python3.6/site-packages/sklearn/model_selection/_validation.py:458: DataConversionWarning: A column-vector y was passed when a 1d array was expected. Please change the shape of y to (n_samples,), for example using ravel().\n",
      "  estimator.fit(X_train, y_train, **fit_params)\n"
     ]
    },
    {
     "name": "stdout",
     "output_type": "stream",
     "text": [
      "building tree 3 of 23building tree 5 of 23building tree 7 of 23building tree 4 of 23building tree 2 of 23building tree 1 of 23\n",
      "building tree 8 of 23building tree 6 of 23\n",
      "\n",
      "\n",
      "\n",
      "\n",
      "\n",
      "\n",
      "building tree 9 of 23\n",
      "building tree 10 of 23\n",
      "building tree 11 of 23\n",
      "building tree 12 of 23\n",
      "building tree 13 of 23\n",
      "building tree 14 of 23\n"
     ]
    },
    {
     "name": "stderr",
     "output_type": "stream",
     "text": [
      "[Parallel(n_jobs=-1)]: Done   2 tasks      | elapsed:    0.5s\n"
     ]
    },
    {
     "name": "stdout",
     "output_type": "stream",
     "text": [
      "building tree 15 of 23\n",
      "building tree 16 of 23\n",
      "building tree 17 of 23\n",
      "building tree 18 of 23\n",
      "building tree 19 of 23\n",
      "building tree 20 of 23\n"
     ]
    },
    {
     "name": "stderr",
     "output_type": "stream",
     "text": [
      "[Parallel(n_jobs=-1)]: Done  11 out of  23 | elapsed:    1.2s remaining:    1.3s\n"
     ]
    },
    {
     "name": "stdout",
     "output_type": "stream",
     "text": [
      "building tree 21 of 23\n",
      "building tree 22 of 23\n"
     ]
    },
    {
     "name": "stderr",
     "output_type": "stream",
     "text": [
      "[Parallel(n_jobs=-1)]: Done  14 out of  23 | elapsed:    1.4s remaining:    0.9s\n"
     ]
    },
    {
     "name": "stdout",
     "output_type": "stream",
     "text": [
      "building tree 23 of 23\n"
     ]
    },
    {
     "name": "stderr",
     "output_type": "stream",
     "text": [
      "[Parallel(n_jobs=-1)]: Done  17 out of  23 | elapsed:    1.8s remaining:    0.6s\n",
      "[Parallel(n_jobs=-1)]: Done  20 out of  23 | elapsed:    1.8s remaining:    0.3s\n",
      "[Parallel(n_jobs=-1)]: Done  23 out of  23 | elapsed:    2.1s remaining:    0.0s\n",
      "[Parallel(n_jobs=-1)]: Done  23 out of  23 | elapsed:    2.1s finished\n",
      "/home/justin/anaconda3/lib/python3.6/site-packages/sklearn/ensemble/forest.py:724: UserWarning: Some inputs do not have OOB scores. This probably means too few trees were used to compute any reliable oob estimates.\n",
      "  warn(\"Some inputs do not have OOB scores. \"\n",
      "[Parallel(n_jobs=8)]: Done   2 tasks      | elapsed:    0.0s\n",
      "[Parallel(n_jobs=8)]: Done  11 out of  23 | elapsed:    0.0s remaining:    0.0s\n",
      "[Parallel(n_jobs=8)]: Done  14 out of  23 | elapsed:    0.0s remaining:    0.0s\n",
      "[Parallel(n_jobs=8)]: Done  17 out of  23 | elapsed:    0.0s remaining:    0.0s\n",
      "[Parallel(n_jobs=8)]: Done  20 out of  23 | elapsed:    0.0s remaining:    0.0s\n",
      "[Parallel(n_jobs=8)]: Done  23 out of  23 | elapsed:    0.0s remaining:    0.0s\n",
      "[Parallel(n_jobs=8)]: Done  23 out of  23 | elapsed:    0.0s finished\n",
      "[Parallel(n_jobs=8)]: Done   2 tasks      | elapsed:    0.0s\n",
      "[Parallel(n_jobs=8)]: Done  11 out of  23 | elapsed:    0.0s remaining:    0.0s\n",
      "[Parallel(n_jobs=8)]: Done  14 out of  23 | elapsed:    0.0s remaining:    0.0s\n",
      "[Parallel(n_jobs=8)]: Done  17 out of  23 | elapsed:    0.0s remaining:    0.0s\n",
      "[Parallel(n_jobs=8)]: Done  20 out of  23 | elapsed:    0.0s remaining:    0.0s\n",
      "[Parallel(n_jobs=8)]: Done  23 out of  23 | elapsed:    0.0s remaining:    0.0s\n",
      "[Parallel(n_jobs=8)]: Done  23 out of  23 | elapsed:    0.0s finished\n",
      "/home/justin/anaconda3/lib/python3.6/site-packages/sklearn/model_selection/_validation.py:458: DataConversionWarning: A column-vector y was passed when a 1d array was expected. Please change the shape of y to (n_samples,), for example using ravel().\n",
      "  estimator.fit(X_train, y_train, **fit_params)\n"
     ]
    },
    {
     "name": "stdout",
     "output_type": "stream",
     "text": [
      "building tree 1 of 23building tree 2 of 23\n",
      "\n",
      "building tree 3 of 23building tree 4 of 23\n",
      "building tree 7 of 23building tree 8 of 23\n",
      "building tree 5 of 23\n",
      "\n",
      "\n",
      "building tree 6 of 23\n",
      "building tree 9 of 23\n",
      "building tree 10 of 23\n",
      "building tree 11 of 23\n"
     ]
    },
    {
     "name": "stderr",
     "output_type": "stream",
     "text": [
      "[Parallel(n_jobs=-1)]: Done   2 tasks      | elapsed:    0.9s\n"
     ]
    },
    {
     "name": "stdout",
     "output_type": "stream",
     "text": [
      "building tree 12 of 23\n",
      "building tree 13 of 23\n",
      "building tree 14 of 23\n",
      "building tree 15 of 23\n",
      "building tree 16 of 23\n",
      "building tree 17 of 23\n",
      "building tree 18 of 23\n",
      "building tree 19 of 23\n"
     ]
    },
    {
     "name": "stderr",
     "output_type": "stream",
     "text": [
      "[Parallel(n_jobs=-1)]: Done  11 out of  23 | elapsed:    1.9s remaining:    2.1s\n"
     ]
    },
    {
     "name": "stdout",
     "output_type": "stream",
     "text": [
      "building tree 20 of 23\n",
      "building tree 21 of 23\n",
      "building tree 22 of 23\n"
     ]
    },
    {
     "name": "stderr",
     "output_type": "stream",
     "text": [
      "[Parallel(n_jobs=-1)]: Done  14 out of  23 | elapsed:    2.1s remaining:    1.4s\n"
     ]
    },
    {
     "name": "stdout",
     "output_type": "stream",
     "text": [
      "building tree 23 of 23\n"
     ]
    },
    {
     "name": "stderr",
     "output_type": "stream",
     "text": [
      "[Parallel(n_jobs=-1)]: Done  17 out of  23 | elapsed:    2.6s remaining:    0.9s\n",
      "[Parallel(n_jobs=-1)]: Done  20 out of  23 | elapsed:    3.0s remaining:    0.4s\n",
      "[Parallel(n_jobs=-1)]: Done  23 out of  23 | elapsed:    3.1s remaining:    0.0s\n",
      "[Parallel(n_jobs=-1)]: Done  23 out of  23 | elapsed:    3.1s finished\n",
      "/home/justin/anaconda3/lib/python3.6/site-packages/sklearn/ensemble/forest.py:724: UserWarning: Some inputs do not have OOB scores. This probably means too few trees were used to compute any reliable oob estimates.\n",
      "  warn(\"Some inputs do not have OOB scores. \"\n",
      "[Parallel(n_jobs=8)]: Done   2 tasks      | elapsed:    0.0s\n",
      "[Parallel(n_jobs=8)]: Done  11 out of  23 | elapsed:    0.0s remaining:    0.0s\n",
      "[Parallel(n_jobs=8)]: Done  14 out of  23 | elapsed:    0.0s remaining:    0.0s\n",
      "[Parallel(n_jobs=8)]: Done  17 out of  23 | elapsed:    0.0s remaining:    0.0s\n",
      "[Parallel(n_jobs=8)]: Done  20 out of  23 | elapsed:    0.0s remaining:    0.0s\n",
      "[Parallel(n_jobs=8)]: Done  23 out of  23 | elapsed:    0.0s finished\n",
      "[Parallel(n_jobs=8)]: Done  23 out of  23 | elapsed:    0.0s remaining:    0.0s\n",
      "[Parallel(n_jobs=8)]: Done   2 tasks      | elapsed:    0.0s\n",
      "[Parallel(n_jobs=8)]: Done  11 out of  23 | elapsed:    0.0s remaining:    0.0s\n",
      "[Parallel(n_jobs=8)]: Done  14 out of  23 | elapsed:    0.0s remaining:    0.0s\n",
      "[Parallel(n_jobs=8)]: Done  17 out of  23 | elapsed:    0.0s remaining:    0.0s\n",
      "[Parallel(n_jobs=8)]: Done  20 out of  23 | elapsed:    0.0s remaining:    0.0s\n",
      "[Parallel(n_jobs=8)]: Done  23 out of  23 | elapsed:    0.0s remaining:    0.0s\n",
      "[Parallel(n_jobs=8)]: Done  23 out of  23 | elapsed:    0.0s finished\n",
      "/home/justin/anaconda3/lib/python3.6/site-packages/sklearn/model_selection/_validation.py:458: DataConversionWarning: A column-vector y was passed when a 1d array was expected. Please change the shape of y to (n_samples,), for example using ravel().\n",
      "  estimator.fit(X_train, y_train, **fit_params)\n"
     ]
    },
    {
     "name": "stdout",
     "output_type": "stream",
     "text": [
      "building tree 3 of 23building tree 4 of 23building tree 6 of 23building tree 7 of 23building tree 1 of 23\n",
      "building tree 8 of 23building tree 5 of 23building tree 2 of 23\n",
      "\n",
      "\n",
      "\n",
      "\n",
      "\n",
      "\n",
      "building tree 9 of 23\n",
      "building tree 10 of 23\n",
      "building tree 11 of 23\n"
     ]
    },
    {
     "name": "stderr",
     "output_type": "stream",
     "text": [
      "[Parallel(n_jobs=-1)]: Done   2 tasks      | elapsed:    1.0s\n"
     ]
    },
    {
     "name": "stdout",
     "output_type": "stream",
     "text": [
      "building tree 12 of 23\n",
      "building tree 13 of 23\n",
      "building tree 14 of 23\n",
      "building tree 15 of 23\n",
      "building tree 16 of 23\n",
      "building tree 17 of 23\n",
      "building tree 18 of 23\n",
      "building tree 19 of 23\n"
     ]
    },
    {
     "name": "stderr",
     "output_type": "stream",
     "text": [
      "[Parallel(n_jobs=-1)]: Done  11 out of  23 | elapsed:    2.0s remaining:    2.2s\n"
     ]
    },
    {
     "name": "stdout",
     "output_type": "stream",
     "text": [
      "building tree 20 of 23\n",
      "building tree 21 of 23\n",
      "building tree 22 of 23\n"
     ]
    },
    {
     "name": "stderr",
     "output_type": "stream",
     "text": [
      "[Parallel(n_jobs=-1)]: Done  14 out of  23 | elapsed:    2.4s remaining:    1.6s\n"
     ]
    },
    {
     "name": "stdout",
     "output_type": "stream",
     "text": [
      "building tree 23 of 23\n"
     ]
    },
    {
     "name": "stderr",
     "output_type": "stream",
     "text": [
      "[Parallel(n_jobs=-1)]: Done  17 out of  23 | elapsed:    2.9s remaining:    1.0s\n",
      "[Parallel(n_jobs=-1)]: Done  20 out of  23 | elapsed:    3.1s remaining:    0.5s\n",
      "[Parallel(n_jobs=-1)]: Done  23 out of  23 | elapsed:    3.5s remaining:    0.0s\n",
      "[Parallel(n_jobs=-1)]: Done  23 out of  23 | elapsed:    3.5s finished\n",
      "/home/justin/anaconda3/lib/python3.6/site-packages/sklearn/ensemble/forest.py:724: UserWarning: Some inputs do not have OOB scores. This probably means too few trees were used to compute any reliable oob estimates.\n",
      "  warn(\"Some inputs do not have OOB scores. \"\n",
      "[Parallel(n_jobs=8)]: Done   2 tasks      | elapsed:    0.0s\n",
      "[Parallel(n_jobs=8)]: Done  11 out of  23 | elapsed:    0.0s remaining:    0.0s\n",
      "[Parallel(n_jobs=8)]: Done  14 out of  23 | elapsed:    0.0s remaining:    0.0s\n",
      "[Parallel(n_jobs=8)]: Done  17 out of  23 | elapsed:    0.0s remaining:    0.0s\n",
      "[Parallel(n_jobs=8)]: Done  20 out of  23 | elapsed:    0.0s remaining:    0.0s\n",
      "[Parallel(n_jobs=8)]: Done  23 out of  23 | elapsed:    0.0s remaining:    0.0s\n",
      "[Parallel(n_jobs=8)]: Done  23 out of  23 | elapsed:    0.0s finished\n",
      "[Parallel(n_jobs=8)]: Done   2 tasks      | elapsed:    0.0s\n",
      "[Parallel(n_jobs=8)]: Done  11 out of  23 | elapsed:    0.0s remaining:    0.0s\n",
      "[Parallel(n_jobs=8)]: Done  14 out of  23 | elapsed:    0.0s remaining:    0.0s\n",
      "[Parallel(n_jobs=8)]: Done  17 out of  23 | elapsed:    0.0s remaining:    0.0s\n",
      "[Parallel(n_jobs=8)]: Done  20 out of  23 | elapsed:    0.0s remaining:    0.0s\n",
      "[Parallel(n_jobs=8)]: Done  23 out of  23 | elapsed:    0.0s remaining:    0.0s\n",
      "[Parallel(n_jobs=8)]: Done  23 out of  23 | elapsed:    0.0s finished\n",
      "/home/justin/anaconda3/lib/python3.6/site-packages/sklearn/model_selection/_validation.py:458: DataConversionWarning: A column-vector y was passed when a 1d array was expected. Please change the shape of y to (n_samples,), for example using ravel().\n",
      "  estimator.fit(X_train, y_train, **fit_params)\n",
      "[Parallel(n_jobs=-1)]: Done   2 tasks      | elapsed:    0.0s\n",
      "[Parallel(n_jobs=-1)]: Done   9 tasks      | elapsed:    0.1s\n",
      "[Parallel(n_jobs=-1)]: Done  16 tasks      | elapsed:    0.1s\n"
     ]
    },
    {
     "name": "stdout",
     "output_type": "stream",
     "text": [
      "building tree 2 of 55building tree 5 of 55building tree 4 of 55building tree 6 of 55building tree 3 of 55building tree 7 of 55building tree 1 of 55building tree 8 of 55\n",
      "\n",
      "\n",
      "\n",
      "\n",
      "\n",
      "\n",
      "\n",
      "building tree 9 of 55\n",
      "building tree 10 of 55\n",
      "building tree 11 of 55\n",
      "building tree 12 of 55\n",
      "building tree 13 of 55\n",
      "building tree 14 of 55building tree 15 of 55\n",
      "\n",
      "building tree 16 of 55\n",
      "building tree 17 of 55\n",
      "building tree 18 of 55\n",
      "building tree 19 of 55\n",
      "building tree 20 of 55\n",
      "building tree 21 of 55\n",
      "building tree 22 of 55\n",
      "building tree 23 of 55\n",
      "building tree 24 of 55\n",
      "building tree 25 of 55building tree 26 of 55\n",
      "\n",
      "building tree 27 of 55\n",
      "building tree 28 of 55building tree 29 of 55\n",
      "\n",
      "building tree 31 of 55\n",
      "building tree 30 of 55\n"
     ]
    },
    {
     "name": "stderr",
     "output_type": "stream",
     "text": [
      "[Parallel(n_jobs=-1)]: Done  25 tasks      | elapsed:    0.2s\n",
      "[Parallel(n_jobs=-1)]: Done  34 tasks      | elapsed:    0.3s\n",
      "[Parallel(n_jobs=-1)]: Done  46 out of  55 | elapsed:    0.4s remaining:    0.1s\n",
      "[Parallel(n_jobs=-1)]: Done  52 out of  55 | elapsed:    0.4s remaining:    0.0s\n"
     ]
    },
    {
     "name": "stdout",
     "output_type": "stream",
     "text": [
      "building tree 32 of 55\n",
      "building tree 33 of 55\n",
      "building tree 35 of 55building tree 34 of 55\n",
      "\n",
      "building tree 36 of 55\n",
      "building tree 37 of 55\n",
      "building tree 38 of 55\n",
      "building tree 39 of 55\n",
      "building tree 40 of 55\n",
      "building tree 41 of 55\n",
      "building tree 42 of 55\n",
      "building tree 43 of 55\n",
      "building tree 44 of 55building tree 46 of 55\n",
      "building tree 45 of 55\n",
      "building tree 47 of 55\n",
      "building tree 48 of 55\n",
      "\n",
      "building tree 50 of 55\n",
      "building tree 49 of 55\n",
      "building tree 52 of 55\n",
      "building tree 51 of 55building tree 53 of 55\n",
      "\n",
      "building tree 54 of 55building tree 55 of 55\n",
      "\n"
     ]
    },
    {
     "name": "stderr",
     "output_type": "stream",
     "text": [
      "[Parallel(n_jobs=-1)]: Done  55 out of  55 | elapsed:    0.4s finished\n",
      "[Parallel(n_jobs=8)]: Done   2 tasks      | elapsed:    0.0s\n",
      "[Parallel(n_jobs=8)]: Done   9 tasks      | elapsed:    0.0s\n",
      "[Parallel(n_jobs=8)]: Done  16 tasks      | elapsed:    0.0s\n",
      "[Parallel(n_jobs=8)]: Done  25 tasks      | elapsed:    0.0s\n",
      "[Parallel(n_jobs=8)]: Done  34 tasks      | elapsed:    0.0s\n",
      "[Parallel(n_jobs=8)]: Done  46 out of  55 | elapsed:    0.0s remaining:    0.0s\n",
      "[Parallel(n_jobs=8)]: Done  52 out of  55 | elapsed:    0.0s remaining:    0.0s\n",
      "[Parallel(n_jobs=8)]: Done  55 out of  55 | elapsed:    0.1s finished\n",
      "[Parallel(n_jobs=8)]: Done   2 tasks      | elapsed:    0.0s\n",
      "[Parallel(n_jobs=8)]: Done   9 tasks      | elapsed:    0.0s\n",
      "[Parallel(n_jobs=8)]: Done  16 tasks      | elapsed:    0.0s\n",
      "[Parallel(n_jobs=8)]: Done  25 tasks      | elapsed:    0.0s\n",
      "[Parallel(n_jobs=8)]: Done  34 tasks      | elapsed:    0.1s\n",
      "[Parallel(n_jobs=8)]: Done  46 out of  55 | elapsed:    0.1s remaining:    0.0s\n",
      "[Parallel(n_jobs=8)]: Done  52 out of  55 | elapsed:    0.1s remaining:    0.0s\n",
      "[Parallel(n_jobs=8)]: Done  55 out of  55 | elapsed:    0.1s finished\n",
      "/home/justin/anaconda3/lib/python3.6/site-packages/sklearn/model_selection/_validation.py:458: DataConversionWarning: A column-vector y was passed when a 1d array was expected. Please change the shape of y to (n_samples,), for example using ravel().\n",
      "  estimator.fit(X_train, y_train, **fit_params)\n",
      "[Parallel(n_jobs=-1)]: Done   2 tasks      | elapsed:    0.0s\n",
      "[Parallel(n_jobs=-1)]: Done   9 tasks      | elapsed:    0.1s\n",
      "[Parallel(n_jobs=-1)]: Done  16 tasks      | elapsed:    0.1s\n"
     ]
    },
    {
     "name": "stdout",
     "output_type": "stream",
     "text": [
      "building tree 1 of 55building tree 4 of 55building tree 5 of 55building tree 2 of 55building tree 6 of 55building tree 3 of 55building tree 8 of 55building tree 7 of 55\n",
      "\n",
      "\n",
      "\n",
      "\n",
      "\n",
      "\n",
      "\n",
      "building tree 9 of 55\n",
      "building tree 10 of 55\n",
      "building tree 11 of 55\n",
      "building tree 12 of 55building tree 13 of 55\n",
      "\n",
      "building tree 14 of 55\n",
      "building tree 16 of 55\n",
      "building tree 17 of 55\n",
      "building tree 15 of 55\n",
      "building tree 18 of 55\n",
      "building tree 19 of 55\n",
      "building tree 20 of 55\n",
      "building tree 21 of 55\n",
      "building tree 22 of 55\n",
      "building tree 23 of 55\n",
      "building tree 24 of 55building tree 26 of 55\n",
      "\n",
      "building tree 27 of 55\n",
      "building tree 28 of 55\n",
      "building tree 25 of 55\n",
      "building tree 29 of 55\n",
      "building tree 30 of 55building tree 31 of 55\n",
      "\n",
      "building tree 32 of 55\n"
     ]
    },
    {
     "name": "stderr",
     "output_type": "stream",
     "text": [
      "[Parallel(n_jobs=-1)]: Done  25 tasks      | elapsed:    0.2s\n",
      "[Parallel(n_jobs=-1)]: Done  34 tasks      | elapsed:    0.3s\n",
      "[Parallel(n_jobs=-1)]: Done  46 out of  55 | elapsed:    0.4s remaining:    0.1s\n"
     ]
    },
    {
     "name": "stdout",
     "output_type": "stream",
     "text": [
      "building tree 33 of 55\n",
      "building tree 35 of 55\n",
      "building tree 34 of 55\n",
      "building tree 36 of 55\n",
      "building tree 37 of 55\n",
      "building tree 38 of 55\n",
      "building tree 39 of 55\n",
      "building tree 41 of 55\n",
      "building tree 40 of 55\n",
      "building tree 43 of 55building tree 42 of 55\n",
      "\n",
      "building tree 44 of 55building tree 45 of 55\n",
      "building tree 46 of 55\n",
      "\n",
      "building tree 48 of 55\n",
      "building tree 47 of 55\n",
      "building tree 49 of 55\n",
      "building tree 50 of 55building tree 51 of 55\n",
      "\n",
      "building tree 52 of 55\n",
      "building tree 53 of 55\n",
      "building tree 54 of 55\n",
      "building tree 55 of 55\n"
     ]
    },
    {
     "name": "stderr",
     "output_type": "stream",
     "text": [
      "[Parallel(n_jobs=-1)]: Done  52 out of  55 | elapsed:    0.4s remaining:    0.0s\n",
      "[Parallel(n_jobs=-1)]: Done  55 out of  55 | elapsed:    0.4s finished\n",
      "[Parallel(n_jobs=8)]: Done   2 tasks      | elapsed:    0.0s\n",
      "[Parallel(n_jobs=8)]: Done   9 tasks      | elapsed:    0.0s\n",
      "[Parallel(n_jobs=8)]: Done  16 tasks      | elapsed:    0.0s\n",
      "[Parallel(n_jobs=8)]: Done  25 tasks      | elapsed:    0.0s\n",
      "[Parallel(n_jobs=8)]: Done  34 tasks      | elapsed:    0.0s\n",
      "[Parallel(n_jobs=8)]: Done  46 out of  55 | elapsed:    0.0s remaining:    0.0s\n",
      "[Parallel(n_jobs=8)]: Done  52 out of  55 | elapsed:    0.0s remaining:    0.0s\n",
      "[Parallel(n_jobs=8)]: Done  55 out of  55 | elapsed:    0.0s finished\n",
      "[Parallel(n_jobs=8)]: Done   2 tasks      | elapsed:    0.0s\n",
      "[Parallel(n_jobs=8)]: Done   9 tasks      | elapsed:    0.0s\n",
      "[Parallel(n_jobs=8)]: Done  16 tasks      | elapsed:    0.0s\n",
      "[Parallel(n_jobs=8)]: Done  25 tasks      | elapsed:    0.1s\n",
      "[Parallel(n_jobs=8)]: Done  34 tasks      | elapsed:    0.1s\n",
      "[Parallel(n_jobs=8)]: Done  46 out of  55 | elapsed:    0.1s remaining:    0.0s\n",
      "[Parallel(n_jobs=8)]: Done  52 out of  55 | elapsed:    0.1s remaining:    0.0s\n",
      "[Parallel(n_jobs=8)]: Done  55 out of  55 | elapsed:    0.1s finished\n",
      "/home/justin/anaconda3/lib/python3.6/site-packages/sklearn/model_selection/_validation.py:458: DataConversionWarning: A column-vector y was passed when a 1d array was expected. Please change the shape of y to (n_samples,), for example using ravel().\n",
      "  estimator.fit(X_train, y_train, **fit_params)\n",
      "[Parallel(n_jobs=-1)]: Done   2 tasks      | elapsed:    0.0s\n",
      "[Parallel(n_jobs=-1)]: Done   9 tasks      | elapsed:    0.1s\n",
      "[Parallel(n_jobs=-1)]: Done  16 tasks      | elapsed:    0.1s\n"
     ]
    },
    {
     "name": "stdout",
     "output_type": "stream",
     "text": [
      "building tree 2 of 55building tree 3 of 55building tree 1 of 55building tree 6 of 55building tree 7 of 55building tree 8 of 55building tree 4 of 55\n",
      "\n",
      "\n",
      "\n",
      "\n",
      "building tree 5 of 55\n",
      "\n",
      "\n",
      "building tree 9 of 55\n",
      "building tree 10 of 55\n",
      "building tree 11 of 55\n",
      "building tree 12 of 55\n",
      "building tree 13 of 55\n",
      "building tree 14 of 55\n",
      "building tree 15 of 55\n",
      "building tree 16 of 55\n",
      "building tree 17 of 55building tree 18 of 55\n",
      "\n",
      "building tree 19 of 55\n",
      "building tree 20 of 55\n",
      "building tree 22 of 55\n",
      "building tree 21 of 55\n",
      "building tree 23 of 55building tree 24 of 55\n",
      "\n",
      "building tree 25 of 55\n",
      "building tree 26 of 55\n",
      "building tree 27 of 55\n",
      "building tree 28 of 55building tree 29 of 55\n",
      "\n",
      "building tree 30 of 55\n",
      "building tree 31 of 55\n",
      "building tree 32 of 55\n",
      "building tree 33 of 55\n",
      "building tree 34 of 55\n",
      "building tree 35 of 55\n",
      "building tree 36 of 55\n",
      "building tree 37 of 55\n",
      "building tree 38 of 55\n",
      "building tree 39 of 55\n",
      "building tree 40 of 55\n",
      "building tree 43 of 55building tree 41 of 55\n",
      "building tree 44 of 55\n",
      "building tree 42 of 55\n",
      "\n",
      "building tree 45 of 55building tree 46 of 55\n",
      "building tree 47 of 55\n",
      "\n",
      "building tree 48 of 55\n",
      "building tree 49 of 55\n",
      "building tree 50 of 55\n",
      "building tree 51 of 55\n",
      "building tree 52 of 55\n",
      "building tree 53 of 55\n",
      "building tree 54 of 55\n",
      "building tree 55 of 55\n"
     ]
    },
    {
     "name": "stderr",
     "output_type": "stream",
     "text": [
      "[Parallel(n_jobs=-1)]: Done  25 tasks      | elapsed:    0.2s\n",
      "[Parallel(n_jobs=-1)]: Done  34 tasks      | elapsed:    0.3s\n",
      "[Parallel(n_jobs=-1)]: Done  46 out of  55 | elapsed:    0.4s remaining:    0.1s\n",
      "[Parallel(n_jobs=-1)]: Done  52 out of  55 | elapsed:    0.4s remaining:    0.0s\n",
      "[Parallel(n_jobs=-1)]: Done  55 out of  55 | elapsed:    0.4s finished\n",
      "[Parallel(n_jobs=8)]: Done   2 tasks      | elapsed:    0.0s\n",
      "[Parallel(n_jobs=8)]: Done   9 tasks      | elapsed:    0.0s\n",
      "[Parallel(n_jobs=8)]: Done  16 tasks      | elapsed:    0.0s\n",
      "[Parallel(n_jobs=8)]: Done  25 tasks      | elapsed:    0.0s\n",
      "[Parallel(n_jobs=8)]: Done  34 tasks      | elapsed:    0.0s\n",
      "[Parallel(n_jobs=8)]: Done  46 out of  55 | elapsed:    0.0s remaining:    0.0s\n",
      "[Parallel(n_jobs=8)]: Done  52 out of  55 | elapsed:    0.0s remaining:    0.0s\n",
      "[Parallel(n_jobs=8)]: Done  55 out of  55 | elapsed:    0.0s finished\n",
      "[Parallel(n_jobs=8)]: Done   2 tasks      | elapsed:    0.0s\n",
      "[Parallel(n_jobs=8)]: Done   9 tasks      | elapsed:    0.0s\n",
      "[Parallel(n_jobs=8)]: Done  16 tasks      | elapsed:    0.0s\n",
      "[Parallel(n_jobs=8)]: Done  25 tasks      | elapsed:    0.1s\n",
      "[Parallel(n_jobs=8)]: Done  34 tasks      | elapsed:    0.1s\n",
      "[Parallel(n_jobs=8)]: Done  46 out of  55 | elapsed:    0.1s remaining:    0.0s\n",
      "[Parallel(n_jobs=8)]: Done  52 out of  55 | elapsed:    0.1s remaining:    0.0s\n",
      "[Parallel(n_jobs=8)]: Done  55 out of  55 | elapsed:    0.1s finished\n",
      "/home/justin/anaconda3/lib/python3.6/site-packages/sklearn/model_selection/_search.py:739: DataConversionWarning: A column-vector y was passed when a 1d array was expected. Please change the shape of y to (n_samples,), for example using ravel().\n",
      "  self.best_estimator_.fit(X, y, **fit_params)\n"
     ]
    },
    {
     "name": "stdout",
     "output_type": "stream",
     "text": [
      "building tree 4 of 81\n",
      "building tree 5 of 81building tree 1 of 81building tree 3 of 81building tree 6 of 81building tree 7 of 81building tree 2 of 81building tree 8 of 81\n",
      "\n",
      "\n",
      "\n",
      "\n",
      "\n",
      "\n",
      "building tree 9 of 81\n",
      "building tree 10 of 81\n",
      "building tree 11 of 81\n",
      "building tree 12 of 81\n"
     ]
    },
    {
     "name": "stderr",
     "output_type": "stream",
     "text": [
      "[Parallel(n_jobs=-1)]: Done   2 tasks      | elapsed:    2.1s\n"
     ]
    },
    {
     "name": "stdout",
     "output_type": "stream",
     "text": [
      "building tree 13 of 81\n",
      "building tree 14 of 81\n",
      "building tree 15 of 81\n",
      "building tree 16 of 81\n"
     ]
    },
    {
     "name": "stderr",
     "output_type": "stream",
     "text": [
      "[Parallel(n_jobs=-1)]: Done   9 tasks      | elapsed:    4.3s\n"
     ]
    },
    {
     "name": "stdout",
     "output_type": "stream",
     "text": [
      "building tree 17 of 81\n",
      "building tree 18 of 81\n",
      "building tree 19 of 81\n",
      "building tree 20 of 81\n",
      "building tree 21 of 81\n",
      "building tree 22 of 81\n",
      "building tree 23 of 81\n"
     ]
    },
    {
     "name": "stderr",
     "output_type": "stream",
     "text": [
      "[Parallel(n_jobs=-1)]: Done  16 tasks      | elapsed:    6.2s\n"
     ]
    },
    {
     "name": "stdout",
     "output_type": "stream",
     "text": [
      "building tree 24 of 81\n",
      "building tree 25 of 81\n",
      "building tree 26 of 81\n",
      "building tree 27 of 81\n",
      "building tree 28 of 81\n",
      "building tree 29 of 81\n",
      "building tree 30 of 81\n",
      "building tree 31 of 81\n",
      "building tree 32 of 81\n",
      "building tree 33 of 81\n"
     ]
    },
    {
     "name": "stderr",
     "output_type": "stream",
     "text": [
      "[Parallel(n_jobs=-1)]: Done  25 tasks      | elapsed:    8.7s\n"
     ]
    },
    {
     "name": "stdout",
     "output_type": "stream",
     "text": [
      "building tree 34 of 81\n",
      "building tree 35 of 81\n",
      "building tree 36 of 81\n",
      "building tree 37 of 81\n",
      "building tree 38 of 81\n",
      "building tree 39 of 81\n",
      "building tree 40 of 81\n",
      "building tree 41 of 81\n"
     ]
    },
    {
     "name": "stderr",
     "output_type": "stream",
     "text": [
      "[Parallel(n_jobs=-1)]: Done  34 tasks      | elapsed:   11.6s\n"
     ]
    },
    {
     "name": "stdout",
     "output_type": "stream",
     "text": [
      "building tree 42 of 81\n",
      "building tree 43 of 81\n",
      "building tree 44 of 81\n",
      "building tree 45 of 81\n",
      "building tree 46 of 81\n",
      "building tree 47 of 81\n",
      "building tree 48 of 81\n",
      "building tree 49 of 81\n",
      "building tree 50 of 81\n",
      "building tree 51 of 81\n",
      "building tree 52 of 81\n",
      "building tree 53 of 81\n"
     ]
    },
    {
     "name": "stderr",
     "output_type": "stream",
     "text": [
      "[Parallel(n_jobs=-1)]: Done  45 tasks      | elapsed:   15.6s\n"
     ]
    },
    {
     "name": "stdout",
     "output_type": "stream",
     "text": [
      "building tree 54 of 81\n",
      "building tree 55 of 81\n",
      "building tree 56 of 81\n",
      "building tree 57 of 81\n",
      "building tree 58 of 81\n",
      "building tree 59 of 81\n",
      "building tree 60 of 81\n",
      "building tree 61 of 81\n",
      "building tree 62 of 81\n",
      "building tree 63 of 81\n"
     ]
    },
    {
     "name": "stderr",
     "output_type": "stream",
     "text": [
      "[Parallel(n_jobs=-1)]: Done  56 tasks      | elapsed:   18.9s\n"
     ]
    },
    {
     "name": "stdout",
     "output_type": "stream",
     "text": [
      "building tree 64 of 81\n",
      "building tree 65 of 81\n",
      "building tree 66 of 81\n",
      "building tree 67 of 81\n",
      "building tree 68 of 81\n",
      "building tree 69 of 81\n",
      "building tree 70 of 81\n",
      "building tree 71 of 81\n",
      "building tree 72 of 81\n",
      "building tree 73 of 81\n",
      "building tree 74 of 81\n",
      "building tree 75 of 81\n",
      "building tree 76 of 81\n",
      "building tree 77 of 81\n",
      "building tree 78 of 81\n",
      "building tree 79 of 81\n",
      "building tree 80 of 81\n",
      "building tree 81 of 81\n"
     ]
    },
    {
     "name": "stderr",
     "output_type": "stream",
     "text": [
      "[Parallel(n_jobs=-1)]: Done  75 out of  81 | elapsed:   25.1s remaining:    2.0s\n",
      "[Parallel(n_jobs=-1)]: Done  81 out of  81 | elapsed:   26.5s finished\n"
     ]
    },
    {
     "name": "stdout",
     "output_type": "stream",
     "text": [
      "RandomizedSearchCV took 978.23 seconds for 20 candidates parameter settings.\n"
     ]
    }
   ],
   "source": [
    "start = time.time()\n",
    "random_search.fit(standardized, eval_cols)\n",
    "print(\"RandomizedSearchCV took %.2f seconds for %d candidates\"\n",
    "      \" parameter settings.\" % ((time.time() - start), n_iter))"
   ]
  },
  {
   "cell_type": "code",
   "execution_count": 21,
   "metadata": {
    "ExecuteTime": {
     "end_time": "2018-03-05T22:14:12.101269Z",
     "start_time": "2018-03-05T22:14:12.086832Z"
    },
    "hidden": true
   },
   "outputs": [
    {
     "name": "stdout",
     "output_type": "stream",
     "text": [
      "Model with rank: 1\n",
      "Mean validation score: 0.026 (std: 0.010)\n",
      "Parameters: {'verbose': 10, 'oob_score': True, 'n_jobs': -1, 'n_estimators': 81, 'min_samples_split': 200, 'min_samples_leaf': 10, 'max_features': 150, 'criterion': 'mse', 'bootstrap': True}\n",
      "\n",
      "Model with rank: 2\n",
      "Mean validation score: 0.025 (std: 0.014)\n",
      "Parameters: {'verbose': 10, 'oob_score': True, 'n_jobs': -1, 'n_estimators': 159, 'min_samples_split': 20, 'min_samples_leaf': 100, 'max_features': 150, 'criterion': 'mse', 'bootstrap': True}\n",
      "\n",
      "Model with rank: 3\n",
      "Mean validation score: 0.025 (std: 0.014)\n",
      "Parameters: {'verbose': 10, 'oob_score': True, 'n_jobs': -1, 'n_estimators': 186, 'min_samples_split': 200, 'min_samples_leaf': 100, 'max_features': 100, 'criterion': 'mse', 'bootstrap': True}\n",
      "\n"
     ]
    }
   ],
   "source": [
    "report(random_search.cv_results_)\n",
    "# Model with rank: 1\n",
    "# Mean validation score: 0.026 (std: 0.010)\n",
    "# Parameters: {'verbose': 10, 'oob_score': True, 'n_jobs': -1, 'n_estimators': 81, 'min_samples_split': 200, 'min_samples_leaf': 10, 'max_features': 150, 'criterion': 'mse', 'bootstrap': True}\n",
    "\n",
    "# Model with rank: 2\n",
    "# Mean validation score: 0.025 (std: 0.014)\n",
    "# Parameters: {'verbose': 10, 'oob_score': True, 'n_jobs': -1, 'n_estimators': 159, 'min_samples_split': 20, 'min_samples_leaf': 100, 'max_features': 150, 'criterion': 'mse', 'bootstrap': True}\n",
    "\n",
    "# Model with rank: 3\n",
    "# Mean validation score: 0.025 (std: 0.014)\n",
    "# Parameters: {'verbose': 10, 'oob_score': True, 'n_jobs': -1, 'n_estimators': 186, 'min_samples_split': 200, 'min_samples_leaf': 100, 'max_features': 100, 'criterion': 'mse', 'bootstrap': True}"
   ]
  },
  {
   "cell_type": "markdown",
   "metadata": {},
   "source": [
    "# take best hyperparams from report"
   ]
  },
  {
   "cell_type": "code",
   "execution_count": 7,
   "metadata": {
    "ExecuteTime": {
     "end_time": "2018-03-05T23:32:58.289836Z",
     "start_time": "2018-03-05T23:32:25.340339Z"
    }
   },
   "outputs": [
    {
     "name": "stderr",
     "output_type": "stream",
     "text": [
      "/home/justin/anaconda3/lib/python3.6/site-packages/ipykernel_launcher.py:12: DataConversionWarning: A column-vector y was passed when a 1d array was expected. Please change the shape of y to (n_samples,), for example using ravel().\n",
      "  if sys.path[0] == '':\n"
     ]
    },
    {
     "data": {
      "text/plain": [
       "RandomForestRegressor(bootstrap=True, criterion='mse', max_depth=None,\n",
       "           max_features=150, max_leaf_nodes=None,\n",
       "           min_impurity_decrease=0.0, min_impurity_split=None,\n",
       "           min_samples_leaf=10, min_samples_split=200,\n",
       "           min_weight_fraction_leaf=0.0, n_estimators=81, n_jobs=-1,\n",
       "           oob_score=True, random_state=0, verbose=0, warm_start=False)"
      ]
     },
     "execution_count": 7,
     "metadata": {},
     "output_type": "execute_result"
    }
   ],
   "source": [
    "regr = RandomForestRegressor(\n",
    "    n_estimators=81,\n",
    "    random_state=0,\n",
    "    max_features=150,\n",
    "    min_samples_split=200,\n",
    "    min_samples_leaf=10,\n",
    "    n_jobs=-1,\n",
    "    oob_score=True,\n",
    "    bootstrap=True,\n",
    "    criterion='mse',\n",
    ")\n",
    "regr.fit(standardized, eval_cols)"
   ]
  },
  {
   "cell_type": "code",
   "execution_count": 8,
   "metadata": {
    "ExecuteTime": {
     "end_time": "2018-03-05T23:33:02.067872Z",
     "start_time": "2018-03-05T23:32:58.291398Z"
    }
   },
   "outputs": [
    {
     "data": {
      "text/plain": [
       "0.16670470956819328"
      ]
     },
     "execution_count": 8,
     "metadata": {},
     "output_type": "execute_result"
    }
   ],
   "source": [
    "regr.score(standardized, eval_cols)"
   ]
  },
  {
   "cell_type": "code",
   "execution_count": 38,
   "metadata": {
    "ExecuteTime": {
     "end_time": "2018-03-05T23:48:29.911077Z",
     "start_time": "2018-03-05T23:48:29.861614Z"
    }
   },
   "outputs": [
    {
     "data": {
      "text/plain": [
       "['/home/justin/all_data/lendingclub/model_dump/0.2.2_ctest.pkl']"
      ]
     },
     "execution_count": 38,
     "metadata": {},
     "output_type": "execute_result"
    }
   ],
   "source": [
    "# dump the model\n",
    "joblib.dump(regr, f'{datapath}{platform}/model_dump/{regr_version}_{type_model}.pkl')\n",
    "# joblib.dump((mean_series, std_dev_series), 'model_dump/mean_stddev.pkl')"
   ]
  },
  {
   "cell_type": "code",
   "execution_count": null,
   "metadata": {},
   "outputs": [],
   "source": []
  },
  {
   "cell_type": "code",
   "execution_count": 14,
   "metadata": {
    "ExecuteTime": {
     "end_time": "2018-03-05T23:39:10.066101Z",
     "start_time": "2018-03-05T23:39:10.042940Z"
    }
   },
   "outputs": [],
   "source": [
    "now = time.strftime(\"%Y_%m_%d_%Hh_%Mm_%Ss\")\n",
    "# info to stick in detailed dataframe describing each model\n",
    "model_info = {'model_version': regr_version,\n",
    "              'target': 'npv_roi_7',\n",
    "              'weights': 'None',\n",
    "              'algo_model': 'RF_regr',\n",
    "              'hyperparams': \"bootstrap=True, criterion='mse', max_depth=None, max_features=150, max_leaf_nodes=None, min_impurity_decrease=0.0, min_impurity_split=None, min_samples_leaf=10, min_samples_split=200, min_weight_fraction_leaf=0.0, n_estimators=81, n_jobs=-1, oob_score=True, random_state=0, verbose=0, warm_start=False\",\n",
    "              'cost_func': 'sklearn default, which I think is mse',\n",
    "              'useful_notes': 'R2 score of 0.1667047 (regr.score())',\n",
    "              'date': now}\n",
    "\n",
    "model_info_df = pd.DataFrame(model_info, index = [regr_version])"
   ]
  },
  {
   "cell_type": "code",
   "execution_count": 16,
   "metadata": {
    "ExecuteTime": {
     "end_time": "2018-03-05T23:39:59.551232Z",
     "start_time": "2018-03-05T23:39:59.526113Z"
    }
   },
   "outputs": [],
   "source": [
    "store.open()\n",
    "store['model_info'] = model_info_df\n",
    "store.close()"
   ]
  },
  {
   "cell_type": "code",
   "execution_count": 17,
   "metadata": {
    "ExecuteTime": {
     "end_time": "2018-03-05T23:40:03.253243Z",
     "start_time": "2018-03-05T23:40:03.235216Z"
    }
   },
   "outputs": [],
   "source": [
    "# store.open()\n",
    "# model_info = store['model_info']\n",
    "# model_info.ix[regr_version,:] = model_info_df.values\n",
    "# model_info.sort_index(inplace=True)\n",
    "# store.append(\n",
    "#             'model_info',\n",
    "#             model_info_df,\n",
    "#             data_columns=True,\n",
    "#             index=True,\n",
    "#             append=False,\n",
    "# )\n",
    "# store.close()"
   ]
  },
  {
   "cell_type": "markdown",
   "metadata": {},
   "source": [
    "# Examine performance on test set"
   ]
  },
  {
   "cell_type": "code",
   "execution_count": 18,
   "metadata": {
    "ExecuteTime": {
     "end_time": "2018-03-05T23:40:21.630645Z",
     "start_time": "2018-03-05T23:40:21.436318Z"
    }
   },
   "outputs": [],
   "source": [
    "store.open()\n",
    "test = store['ctest']\n",
    "train = store['ctrain']\n",
    "loan_npv_rois = store['loan_npv_rois']\n",
    "default_series = store['issue_d_id_mats']['target_loose']\n",
    "results = store['results']\n",
    "store.close()"
   ]
  },
  {
   "cell_type": "code",
   "execution_count": 24,
   "metadata": {
    "ExecuteTime": {
     "end_time": "2018-03-05T23:41:35.988458Z",
     "start_time": "2018-03-05T23:41:31.604443Z"
    }
   },
   "outputs": [],
   "source": [
    "# train_X, train_y = data_prep.process_data_test(train)\n",
    "# train_y = train_y['npv_roi_10'].values\n",
    "# test_X, test_y = data_prep.process_data_test(test)\n",
    "# test_y = test_y['npv_roi_10'].values\n",
    "# regr = joblib.load('model_dump/model_0.2.1.pkl')\n",
    "regr_version = '0.2.2'\n",
    "test_yhat = regr.predict(test)\n",
    "train_yhat = regr.predict(train)"
   ]
  },
  {
   "cell_type": "code",
   "execution_count": 25,
   "metadata": {
    "ExecuteTime": {
     "end_time": "2018-03-05T23:41:36.180550Z",
     "start_time": "2018-03-05T23:41:35.990198Z"
    }
   },
   "outputs": [],
   "source": [
    "test_mse = mean_squared_error(test_yhat, loan_npv_rois.loc[test.index].values)\n",
    "train_mse = mean_squared_error(train_yhat, loan_npv_rois.loc[train.index].values)\n",
    "\n",
    "# np.sum((test_yhat - loan_npv_rois.loc[test.index].values)**2)/len(loan_npv_rois.loc[test.index].values)\n",
    "# train_mse = np.sum((train_yhat - loan_npv_rois.loc[train.index].values)**2)/len(loan_npv_rois.loc[train.index].values)"
   ]
  },
  {
   "cell_type": "code",
   "execution_count": 26,
   "metadata": {
    "ExecuteTime": {
     "end_time": "2018-03-05T23:41:40.507254Z",
     "start_time": "2018-03-05T23:41:40.486805Z"
    }
   },
   "outputs": [],
   "source": [
    "test_yhat_series = pd.Series(test_yhat, index = test.index)"
   ]
  },
  {
   "cell_type": "code",
   "execution_count": 28,
   "metadata": {
    "ExecuteTime": {
     "end_time": "2018-03-05T23:42:53.263729Z",
     "start_time": "2018-03-05T23:42:53.228215Z"
    }
   },
   "outputs": [],
   "source": [
    "def eval_models(trials, port_size, available_loans, regr, regr_version, test, loan_npv_rois,\n",
    "                default_series,test_yhat_series):\n",
    "    results = {}\n",
    "    pct_default = {}\n",
    "    test_copy = test.copy()\n",
    "    for trial in tqdm_notebook(np.arange(trials)):\n",
    "        loan_ids = np.random.choice(\n",
    "            test_copy.index.values, available_loans, replace=False)\n",
    "        loans_to_pick_from = test_copy.loc[loan_ids, :]\n",
    "        scores = test_yhat_series.loc[loan_ids].values\n",
    "        scores_series = pd.Series(dict(zip(loan_ids, scores)))\n",
    "        scores_series.sort_values(ascending=False, inplace=True)\n",
    "        picks = scores_series[:port_size].index.values\n",
    "        results[trial] = loan_npv_rois.loc[picks, :].mean().to_dict()\n",
    "        pct_default[trial] = (default_series.loc[picks].sum()) / port_size\n",
    "    pct_default_series = pd.Series(pct_default)\n",
    "    results_df = pd.DataFrame(results).T\n",
    "    results_df['pct_def'] = pct_default_series\n",
    "    return results_df"
   ]
  },
  {
   "cell_type": "code",
   "execution_count": 29,
   "metadata": {
    "ExecuteTime": {
     "end_time": "2018-03-05T23:43:44.502909Z",
     "start_time": "2018-03-05T23:42:53.703921Z"
    }
   },
   "outputs": [
    {
     "data": {
      "application/vnd.jupyter.widget-view+json": {
       "model_id": "b8b361f7e7854adbb72383c08d11032f",
       "version_major": 2,
       "version_minor": 0
      },
      "text/plain": [
       "A Jupyter Widget"
      ]
     },
     "metadata": {},
     "output_type": "display_data"
    },
    {
     "name": "stdout",
     "output_type": "stream",
     "text": [
      "\n"
     ]
    }
   ],
   "source": [
    "# as per done with baseline models, say 3000 loans available\n",
    "# , pick 900 of them\n",
    "trials = 10000\n",
    "port_size = 150\n",
    "available_loans = 500\n",
    "model_results = eval_models(trials, port_size, available_loans, regr, regr_version, test=test, loan_npv_rois=loan_npv_rois, default_series=default_series, test_yhat_series=test_yhat_series)"
   ]
  },
  {
   "cell_type": "code",
   "execution_count": 30,
   "metadata": {
    "ExecuteTime": {
     "end_time": "2018-03-05T23:44:21.506989Z",
     "start_time": "2018-03-05T23:44:21.490512Z"
    }
   },
   "outputs": [],
   "source": [
    "multi_index = []\n",
    "for col in model_results.columns.values:\n",
    "    multi_index.append((str(col),regr_version))\n",
    "append_results = model_results.copy()\n",
    "append_results.columns = pd.MultiIndex.from_tuples(multi_index, names = ['discount_rate', 'model'])    "
   ]
  },
  {
   "cell_type": "code",
   "execution_count": 31,
   "metadata": {
    "ExecuteTime": {
     "end_time": "2018-03-05T23:44:24.457305Z",
     "start_time": "2018-03-05T23:44:24.439102Z"
    }
   },
   "outputs": [],
   "source": [
    "multi_index_results = []\n",
    "for col in results.columns.values:\n",
    "    multi_index_results.append((str(col[0]), col[1]))\n",
    "results.columns = pd.MultiIndex.from_tuples(multi_index_results, names = ['discount_rate', 'model'])    "
   ]
  },
  {
   "cell_type": "code",
   "execution_count": 32,
   "metadata": {
    "ExecuteTime": {
     "end_time": "2018-03-05T23:44:25.430038Z",
     "start_time": "2018-03-05T23:44:25.412169Z"
    }
   },
   "outputs": [],
   "source": [
    "try:\n",
    "    results = results.join(append_results)\n",
    "except ValueError:\n",
    "    results.loc[:, (slice(None), slice(regr_version,regr_version))] = append_results\n",
    "# results.sort_index(axis=1, inplace = True)"
   ]
  },
  {
   "cell_type": "code",
   "execution_count": 34,
   "metadata": {
    "ExecuteTime": {
     "end_time": "2018-03-05T23:44:55.773439Z",
     "start_time": "2018-03-05T23:44:55.731601Z"
    }
   },
   "outputs": [
    {
     "data": {
      "text/html": [
       "<div>\n",
       "<style scoped>\n",
       "    .dataframe tbody tr th:only-of-type {\n",
       "        vertical-align: middle;\n",
       "    }\n",
       "\n",
       "    .dataframe tbody tr th {\n",
       "        vertical-align: top;\n",
       "    }\n",
       "\n",
       "    .dataframe thead tr th {\n",
       "        text-align: left;\n",
       "    }\n",
       "</style>\n",
       "<table border=\"1\" class=\"dataframe\">\n",
       "  <thead>\n",
       "    <tr>\n",
       "      <th>discount_rate</th>\n",
       "      <th>0</th>\n",
       "      <th>pct_def</th>\n",
       "      <th>0</th>\n",
       "      <th>pct_def</th>\n",
       "      <th>0.07</th>\n",
       "      <th>pct_def</th>\n",
       "    </tr>\n",
       "    <tr>\n",
       "      <th>model</th>\n",
       "      <th>baseline</th>\n",
       "      <th>baseline</th>\n",
       "      <th>1.00001</th>\n",
       "      <th>1.00001</th>\n",
       "      <th>0.2.2</th>\n",
       "      <th>0.2.2</th>\n",
       "    </tr>\n",
       "  </thead>\n",
       "  <tbody>\n",
       "    <tr>\n",
       "      <th>count</th>\n",
       "      <td>10000.000000</td>\n",
       "      <td>10000.000000</td>\n",
       "      <td>10000.000000</td>\n",
       "      <td>10000.000000</td>\n",
       "      <td>10000.000000</td>\n",
       "      <td>10000.000000</td>\n",
       "    </tr>\n",
       "    <tr>\n",
       "      <th>mean</th>\n",
       "      <td>-0.058549</td>\n",
       "      <td>0.195173</td>\n",
       "      <td>-0.034881</td>\n",
       "      <td>0.076623</td>\n",
       "      <td>-0.026258</td>\n",
       "      <td>0.114611</td>\n",
       "    </tr>\n",
       "    <tr>\n",
       "      <th>std</th>\n",
       "      <td>0.018744</td>\n",
       "      <td>0.032335</td>\n",
       "      <td>0.011309</td>\n",
       "      <td>0.021518</td>\n",
       "      <td>0.014199</td>\n",
       "      <td>0.025864</td>\n",
       "    </tr>\n",
       "    <tr>\n",
       "      <th>min</th>\n",
       "      <td>-0.130554</td>\n",
       "      <td>0.086667</td>\n",
       "      <td>-0.081370</td>\n",
       "      <td>0.013333</td>\n",
       "      <td>-0.082969</td>\n",
       "      <td>0.033333</td>\n",
       "    </tr>\n",
       "    <tr>\n",
       "      <th>25%</th>\n",
       "      <td>-0.070969</td>\n",
       "      <td>0.173333</td>\n",
       "      <td>-0.041958</td>\n",
       "      <td>0.060000</td>\n",
       "      <td>-0.035534</td>\n",
       "      <td>0.093333</td>\n",
       "    </tr>\n",
       "    <tr>\n",
       "      <th>50%</th>\n",
       "      <td>-0.058170</td>\n",
       "      <td>0.193333</td>\n",
       "      <td>-0.034067</td>\n",
       "      <td>0.073333</td>\n",
       "      <td>-0.025897</td>\n",
       "      <td>0.113333</td>\n",
       "    </tr>\n",
       "    <tr>\n",
       "      <th>75%</th>\n",
       "      <td>-0.045645</td>\n",
       "      <td>0.220000</td>\n",
       "      <td>-0.027018</td>\n",
       "      <td>0.093333</td>\n",
       "      <td>-0.016437</td>\n",
       "      <td>0.133333</td>\n",
       "    </tr>\n",
       "    <tr>\n",
       "      <th>max</th>\n",
       "      <td>0.001090</td>\n",
       "      <td>0.313333</td>\n",
       "      <td>-0.001550</td>\n",
       "      <td>0.173333</td>\n",
       "      <td>0.018021</td>\n",
       "      <td>0.213333</td>\n",
       "    </tr>\n",
       "  </tbody>\n",
       "</table>\n",
       "</div>"
      ],
      "text/plain": [
       "discount_rate             0       pct_def             0       pct_def  \\\n",
       "model              baseline      baseline       1.00001       1.00001   \n",
       "count          10000.000000  10000.000000  10000.000000  10000.000000   \n",
       "mean              -0.058549      0.195173     -0.034881      0.076623   \n",
       "std                0.018744      0.032335      0.011309      0.021518   \n",
       "min               -0.130554      0.086667     -0.081370      0.013333   \n",
       "25%               -0.070969      0.173333     -0.041958      0.060000   \n",
       "50%               -0.058170      0.193333     -0.034067      0.073333   \n",
       "75%               -0.045645      0.220000     -0.027018      0.093333   \n",
       "max                0.001090      0.313333     -0.001550      0.173333   \n",
       "\n",
       "discount_rate          0.07       pct_def  \n",
       "model                 0.2.2         0.2.2  \n",
       "count          10000.000000  10000.000000  \n",
       "mean              -0.026258      0.114611  \n",
       "std                0.014199      0.025864  \n",
       "min               -0.082969      0.033333  \n",
       "25%               -0.035534      0.093333  \n",
       "50%               -0.025897      0.113333  \n",
       "75%               -0.016437      0.133333  \n",
       "max                0.018021      0.213333  "
      ]
     },
     "execution_count": 34,
     "metadata": {},
     "output_type": "execute_result"
    }
   ],
   "source": [
    "results.describe()"
   ]
  },
  {
   "cell_type": "code",
   "execution_count": 35,
   "metadata": {
    "ExecuteTime": {
     "end_time": "2018-03-05T23:46:38.275152Z",
     "start_time": "2018-03-05T23:46:38.231122Z"
    }
   },
   "outputs": [
    {
     "name": "stderr",
     "output_type": "stream",
     "text": [
      "/home/justin/anaconda3/lib/python3.6/site-packages/pandas/io/pytables.py:486: PerformanceWarning: \n",
      "your performance may suffer as PyTables will pickle object types that it cannot\n",
      "map directly to c-types [inferred_type->mixed,key->axis0_level1] [items->None]\n",
      "\n",
      "  self.put(key, value)\n",
      "/home/justin/anaconda3/lib/python3.6/site-packages/pandas/io/pytables.py:486: PerformanceWarning: \n",
      "your performance may suffer as PyTables will pickle object types that it cannot\n",
      "map directly to c-types [inferred_type->mixed,key->block0_items_level1] [items->None]\n",
      "\n",
      "  self.put(key, value)\n"
     ]
    }
   ],
   "source": [
    "store.open()\n",
    "store['results'] = results\n",
    "store.close()"
   ]
  },
  {
   "cell_type": "code",
   "execution_count": null,
   "metadata": {},
   "outputs": [],
   "source": []
  }
 ],
 "metadata": {
  "kernelspec": {
   "display_name": "Python 3",
   "language": "python",
   "name": "python3"
  },
  "language_info": {
   "codemirror_mode": {
    "name": "ipython",
    "version": 3
   },
   "file_extension": ".py",
   "mimetype": "text/x-python",
   "name": "python",
   "nbconvert_exporter": "python",
   "pygments_lexer": "ipython3",
   "version": "3.6.3"
  },
  "notify_time": "30",
  "varInspector": {
   "cols": {
    "lenName": 16,
    "lenType": 16,
    "lenVar": 40
   },
   "kernels_config": {
    "python": {
     "delete_cmd_postfix": "",
     "delete_cmd_prefix": "del ",
     "library": "var_list.py",
     "varRefreshCmd": "print(var_dic_list())"
    },
    "r": {
     "delete_cmd_postfix": ") ",
     "delete_cmd_prefix": "rm(",
     "library": "var_list.r",
     "varRefreshCmd": "cat(var_dic_list()) "
    }
   },
   "types_to_exclude": [
    "module",
    "function",
    "builtin_function_or_method",
    "instance",
    "_Feature"
   ],
   "window_display": false
  }
 },
 "nbformat": 4,
 "nbformat_minor": 2
}
