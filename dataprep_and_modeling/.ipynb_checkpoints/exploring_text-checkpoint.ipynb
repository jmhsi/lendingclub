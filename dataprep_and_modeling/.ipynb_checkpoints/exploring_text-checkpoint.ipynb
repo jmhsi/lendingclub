{
 "cells": [
  {
   "cell_type": "markdown",
   "metadata": {},
   "source": [
    "# Seeing what's in the descriptions on loan applications and if I can get anything useful from them"
   ]
  },
  {
   "cell_type": "markdown",
   "metadata": {},
   "source": [
    "# Lending Club appeared to stop having text added to borrower descriptions. Not investigating futher"
   ]
  },
  {
   "cell_type": "code",
   "execution_count": 2,
   "metadata": {
    "ExecuteTime": {
     "end_time": "2017-12-07T09:03:54.403021Z",
     "start_time": "2017-12-07T09:03:53.696729Z"
    }
   },
   "outputs": [],
   "source": [
    "import data_science.lendingclub.dataprep_and_modeling.modeling_utils.data_prep_new as data_prep\n",
    "import dir_constants as dc\n",
    "from sklearn.externals import joblib\n",
    "import torch\n",
    "import torch.nn as nn\n",
    "import torch.optim as optim\n",
    "from torch.autograd import Variable\n",
    "import torch.nn.functional as F\n",
    "from torch.utils.data import Dataset, DataLoader\n",
    "import time\n",
    "from sklearn.metrics import mean_squared_error\n",
    "from tqdm import tqdm_notebook\n",
    "import matplotlib.pyplot as plt\n",
    "from  lendingclub.dataprep_and_modeling.model_dump.nn_1_0_1 import net_class\n",
    "import torch\n",
    "%matplotlib inline\n",
    "pd.options.display.max_columns = 999"
   ]
  },
  {
   "cell_type": "code",
   "execution_count": 3,
   "metadata": {
    "ExecuteTime": {
     "end_time": "2017-12-07T09:03:54.491371Z",
     "start_time": "2017-12-07T09:03:54.430875Z"
    }
   },
   "outputs": [],
   "source": [
    "platform = 'lendingclub'\n",
    "nn_path = '/home/justin/justin_tinkering/data_science/lendingclub/dataprep_and_modeling/model_dump/nn_1_0_1/1.0.1_e600'\n",
    "rf_path = '/home/justin/justin_tinkering/data_science/lendingclub/dataprep_and_modeling/model_dump/model_0.2.1.pkl'\n",
    "regr_version = '2.0.0'\n",
    "\n",
    "store = pd.HDFStore(\n",
    "    dc.home_path+'/justin_tinkering/data_science/lendingclub/{0}_store.h5'.\n",
    "    format(platform),\n",
    "    append=True)"
   ]
  },
  {
   "cell_type": "code",
   "execution_count": 62,
   "metadata": {
    "ExecuteTime": {
     "end_time": "2017-12-07T09:29:31.190117Z",
     "start_time": "2017-12-07T09:29:22.011201Z"
    }
   },
   "outputs": [],
   "source": [
    "loan_info = store['loan_info_merged']\n",
    "loan_info_clean = store['loan_info_clean']"
   ]
  },
  {
   "cell_type": "code",
   "execution_count": 51,
   "metadata": {
    "ExecuteTime": {
     "end_time": "2017-12-07T09:25:53.743362Z",
     "start_time": "2017-12-07T09:25:53.472068Z"
    }
   },
   "outputs": [],
   "source": [
    "loan_info['desc'].replace([' ','.','i'], np.nan, inplace=True)"
   ]
  },
  {
   "cell_type": "code",
   "execution_count": 53,
   "metadata": {
    "ExecuteTime": {
     "end_time": "2017-12-07T09:26:02.847052Z",
     "start_time": "2017-12-07T09:26:02.621690Z"
    }
   },
   "outputs": [],
   "source": [
    "examine = loan_info[~pd.isnull(loan_info.desc)]"
   ]
  },
  {
   "cell_type": "code",
   "execution_count": 65,
   "metadata": {
    "ExecuteTime": {
     "end_time": "2017-12-07T09:29:52.355837Z",
     "start_time": "2017-12-07T09:29:52.236421Z"
    },
    "scrolled": true
   },
   "outputs": [
    {
     "data": {
      "text/plain": [
       "Timestamp('2016-10-01 00:00:00')"
      ]
     },
     "execution_count": 65,
     "metadata": {},
     "output_type": "execute_result"
    }
   ],
   "source": [
    "loan_info_clean.ix[examine.index,'issue_d'].max()"
   ]
  },
  {
   "cell_type": "markdown",
   "metadata": {},
   "source": [
    "# Clean up \"Borrower Added On\""
   ]
  },
  {
   "cell_type": "code",
   "execution_count": 55,
   "metadata": {
    "ExecuteTime": {
     "end_time": "2017-12-07T09:26:41.300857Z",
     "start_time": "2017-12-07T09:26:41.200180Z"
    },
    "scrolled": true
   },
   "outputs": [
    {
     "name": "stderr",
     "output_type": "stream",
     "text": [
      "/home/justin/anaconda3/lib/python3.6/site-packages/ipykernel_launcher.py:1: DeprecationWarning: \n",
      ".ix is deprecated. Please use\n",
      ".loc for label based indexing or\n",
      ".iloc for positional indexing\n",
      "\n",
      "See the documentation here:\n",
      "http://pandas.pydata.org/pandas-docs/stable/indexing.html#ix-indexer-is-deprecated\n",
      "  \"\"\"Entry point for launching an IPython kernel.\n"
     ]
    }
   ],
   "source": [
    "examine_2 = examine.ix[examine.desc.str.contains('Borrower added', regex=False), 'desc']"
   ]
  },
  {
   "cell_type": "code",
   "execution_count": 56,
   "metadata": {
    "ExecuteTime": {
     "end_time": "2017-12-07T09:26:43.459085Z",
     "start_time": "2017-12-07T09:26:43.405857Z"
    }
   },
   "outputs": [
    {
     "data": {
      "text/plain": [
       "id\n",
       "13028146      Borrower added on 03/18/14 > My front drivew...\n",
       "13038117      Borrower added on 03/18/14 > Debt consolidat...\n",
       "13007837      Borrower added on 03/18/14 > The loan is to ...\n",
       "13038161      Borrower added on 03/18/14 > Family of 5 try...\n",
       "13048153      Borrower added on 03/18/14 > Consolidating d...\n",
       "13028236      Borrower added on 03/18/14 > I have six cred...\n",
       "13018123      Borrower added on 03/18/14 > I want to conso...\n",
       "12988070      Borrower added on 03/18/14 > to pay medical ...\n",
       "13048141      Borrower added on 03/18/14 > i have two loan...\n",
       "13028191      Borrower added on 03/18/14 > Consolidating d...\n",
       "13028106      Borrower added on 03/18/14 > To pay off bill...\n",
       "12998240      Borrower added on 03/18/14 > This loan is to...\n",
       "13048105      Borrower added on 03/18/14 > To pay off all ...\n",
       "13026919      Borrower added on 03/18/14 > I would like to...\n",
       "13038094      Borrower added on 03/18/14 > Am trying to pa...\n",
       "13038210      Borrower added on 03/18/14 > To pay off high...\n",
       "13028101      Borrower added on 03/18/14 > consolidate mos...\n",
       "13018129      Borrower added on 03/18/14 > Consolidate cre...\n",
       "13007450      Borrower added on 03/18/14 > Pay off high in...\n",
       "13008108      Borrower added on 03/18/14 > payoff some cre...\n",
       "13016916      Borrower added on 03/18/14 > Pay down credit...\n",
       "13038150      Borrower added on 03/18/14 > Consolidate cre...\n",
       "13038219      Borrower added on 03/18/14 > I am trying to ...\n",
       "13048101      Borrower added on 03/18/14 > Kitchen and fro...\n",
       "13038233      Borrower added on 03/18/14 > Consolidate bil...\n",
       "13028244      Borrower added on 03/18/14 > Vehicle repairs...\n",
       "13007680      Borrower added on 03/18/14 > Looking to cons...\n",
       "12957751      Borrower added on 03/18/14 > Just need to co...\n",
       "12967653      Borrower added on 03/18/14 > I have 4845 in ...\n",
       "12918117      Borrower added on 03/18/14 > To consolidate ...\n",
       "                                  ...                        \n",
       "474791        Borrower added on 01/09/10 > I am a CPA by p...\n",
       "473792        Borrower added on 01/09/10 > I have a full-t...\n",
       "475481        Borrower added on 01/09/10 > I have taken a ...\n",
       "470669        Borrower added on 01/07/10 > Please help me!...\n",
       "475055        Borrower added on 01/07/10 > Hello all, I am...\n",
       "474940        Borrower added on 01/07/10 > I have some sma...\n",
       "474916        Borrower added on 01/07/10 > I have requeste...\n",
       "474548        Borrower added on 01/07/10 > Thank you for t...\n",
       "474768        Borrower added on 01/07/10 > First time home...\n",
       "474703        Borrower added on 01/06/10 > I have a stable...\n",
       "474595        Borrower added on 01/06/10 > loan for first ...\n",
       "474480        Borrower added on 01/06/10 > I want to use t...\n",
       "474305        Borrower added on 01/05/10 > Credit cards we...\n",
       "473689        Borrower added on 01/02/10 > Buy a New Harle...\n",
       "473210        Borrower added on 12/30/09 > This loan is to...\n",
       "473192        Borrower added on 12/30/09 > *THIS IS A RELI...\n",
       "469264        Borrower added on 12/30/09 > Revolving credi...\n",
       "472988        Borrower added on 12/29/09 > I just recently...\n",
       "471535        Borrower added on 12/29/09 > Debt consolidat...\n",
       "472762        Borrower added on 12/28/09 > I look forward ...\n",
       "465321        Borrower added on 12/28/09 > These funds wil...\n",
       "472039        Borrower added on 12/25/09 > I own 4 houses ...\n",
       "471321        Borrower added on 12/23/09 > This loan is to...\n",
       "471016        Borrower added on 12/22/09 > Looking for a s...\n",
       "470095        Borrower added on 12/20/09 > I've just marri...\n",
       "467686        Borrower added on 12/18/09 > Looking to cons...\n",
       "469605        Borrower added on 12/17/09 > I want to conso...\n",
       "469411        591973 added on 12/16/09 > Loan will be paid...\n",
       "468864        Borrower added on 12/17/09 > I plan to use t...\n",
       "468995        591134 added on 12/14/09 > for my debt<br/> ...\n",
       "Name: desc, Length: 117408, dtype: object"
      ]
     },
     "execution_count": 56,
     "metadata": {},
     "output_type": "execute_result"
    }
   ],
   "source": [
    "examine_2"
   ]
  },
  {
   "cell_type": "code",
   "execution_count": 39,
   "metadata": {
    "ExecuteTime": {
     "end_time": "2017-12-07T09:20:38.451060Z",
     "start_time": "2017-12-07T09:20:38.393055Z"
    }
   },
   "outputs": [],
   "source": [
    "examine.str.contains?"
   ]
  },
  {
   "cell_type": "code",
   "execution_count": 38,
   "metadata": {
    "ExecuteTime": {
     "end_time": "2017-12-07T09:20:11.468029Z",
     "start_time": "2017-12-07T09:20:11.462224Z"
    }
   },
   "outputs": [
    {
     "data": {
      "text/plain": [
       "'Looking to borrow to purchase a used boat we are interested in'"
      ]
     },
     "execution_count": 38,
     "metadata": {},
     "output_type": "execute_result"
    }
   ],
   "source": [
    "examine.loc['384151']"
   ]
  },
  {
   "cell_type": "code",
   "execution_count": null,
   "metadata": {},
   "outputs": [],
   "source": []
  }
 ],
 "metadata": {
  "kernelspec": {
   "display_name": "Python 3",
   "language": "python",
   "name": "python3"
  },
  "varInspector": {
   "cols": {
    "lenName": 16,
    "lenType": 16,
    "lenVar": 40
   },
   "kernels_config": {
    "python": {
     "delete_cmd_postfix": "",
     "delete_cmd_prefix": "del ",
     "library": "var_list.py",
     "varRefreshCmd": "print(var_dic_list())"
    },
    "r": {
     "delete_cmd_postfix": ") ",
     "delete_cmd_prefix": "rm(",
     "library": "var_list.r",
     "varRefreshCmd": "cat(var_dic_list()) "
    }
   },
   "types_to_exclude": [
    "module",
    "function",
    "builtin_function_or_method",
    "instance",
    "_Feature"
   ],
   "window_display": false
  }
 },
 "nbformat": 4,
 "nbformat_minor": 2
}
