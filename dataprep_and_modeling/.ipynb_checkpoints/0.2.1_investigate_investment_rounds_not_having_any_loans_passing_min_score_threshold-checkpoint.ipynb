{
 "cells": [
  {
   "cell_type": "markdown",
   "metadata": {},
   "source": [
    "# So I chose a min_score from the other jupyter notebook, but when I look at the max scores of investment rounds, the highest scores are always 1-1.5% below the score cutoff threshold. My theory is that perhaps at the highest score percentile, the model is picking B grade loans that back then had a higher interest rate. In this notebook I will look at the distribution of issuance dates within each percentile"
   ]
  },
  {
   "cell_type": "code",
   "execution_count": null,
   "metadata": {},
   "outputs": [],
   "source": [
    "import modeling_utils.data_prep as data_prep\n",
    "from sklearn.externals import joblib\n",
    "import time"
   ]
  },
  {
   "cell_type": "code",
   "execution_count": null,
   "metadata": {},
   "outputs": [],
   "source": [
    "platform = 'lendingclub'\n",
    "\n",
    "store = pd.HDFStore(\n",
    "    '/Users/justinhsi/justin_tinkering/data_science/lendingclub/{0}_store.h5'.\n",
    "    format(platform),\n",
    "    append=True)"
   ]
  },
  {
   "cell_type": "markdown",
   "metadata": {},
   "source": [
    "# Pull in loans and do monte carlo over the batches again"
   ]
  },
  {
   "cell_type": "code",
   "execution_count": null,
   "metadata": {},
   "outputs": [],
   "source": [
    "store.open()\n",
    "test = store['test_filtered_columns']\n",
    "loan_npv_rois = store['loan_npv_rois']\n",
    "default_series = test['target_strict']\n",
    "store.close()"
   ]
  },
  {
   "cell_type": "markdown",
   "metadata": {},
   "source": [
    "# Add scores and npv_roi_5 to test set"
   ]
  },
  {
   "cell_type": "code",
   "execution_count": null,
   "metadata": {},
   "outputs": [],
   "source": [
    "test_X, test_y = data_prep.process_data_test(test)\n",
    "test_y = test_y['npv_roi_10'].values\n",
    "regr = joblib.load('model_dump/model_0.2.1.pkl')\n",
    "regr_version = '0.2.1'\n",
    "test_yhat = regr.predict(test_X)\n",
    "test['0.2.1_scores'] = test_yhat\n",
    "test['npv_roi_5'] = loan_npv_rois[.05]"
   ]
  },
  {
   "cell_type": "markdown",
   "metadata": {},
   "source": [
    "# find what is a good percentile to cutoff at, and what the distribution for scores is at that percentile"
   ]
  },
  {
   "cell_type": "code",
   "execution_count": null,
   "metadata": {},
   "outputs": [],
   "source": [
    "good_percentiles = np.arange(71,101,1)\n",
    "good_percentiles = good_percentiles[::-1]"
   ]
  },
  {
   "cell_type": "code",
   "execution_count": null,
   "metadata": {},
   "outputs": [],
   "source": [
    "def find_min_score_models(trials, available_loans, test, percentiles):\n",
    "    # looks at loans that scored in top 30%, computes avg npv_roi_5 in each of those\n",
    "    # top percentiles\n",
    "    results = {}\n",
    "    results_scores = {}\n",
    "    results_percentile_id = {}\n",
    "    pct_default = {}\n",
    "    test_copy = test.copy()\n",
    "    for trial in tqdm_notebook(np.arange(trials)):\n",
    "        loan_ids = np.random.choice(\n",
    "            test_copy.index.values, available_loans, replace=False)\n",
    "        loans_to_pick_from = test_copy.loc[loan_ids, :]\n",
    "        loans_to_pick_from.sort_values('0.2.1_scores', ascending=False, inplace = True)\n",
    "        chunksize = int(len(loans_to_pick_from)/100)\n",
    "        results_dict = {}\n",
    "        results_scores_dict = {}\n",
    "        results_percentile_id_dict = {}\n",
    "        for k,perc in enumerate(percentiles):\n",
    "            subset = loans_to_pick_from[k*chunksize:(k+1)*chunksize]\n",
    "            results_dict[perc] = subset['npv_roi_5'].mean()\n",
    "            results_scores_dict[perc] = subset['0.2.1_scores'].mean()\n",
    "            results_percentile_id_dict[perc] = subset.index.values\n",
    "\n",
    "        results[trial] = pd.Series(results_dict)\n",
    "        results_scores[trial] = pd.Series(results_scores_dict)\n",
    "        results_percentile_id[trial] = pd.Series(results_percentile_id_dict)\n",
    "\n",
    "    return results_percentile_id#pd.DataFrame.from_dict(results).T, pd.DataFrame.from_dict(results_scores).T"
   ]
  },
  {
   "cell_type": "code",
   "execution_count": null,
   "metadata": {},
   "outputs": [],
   "source": [
    "# assume there's 200 loans per batch\n",
    "trials = 20000\n",
    "available_loans = 200\n",
    "results, results_scores = find_min_score_models(trials, available_loans, test, good_percentiles)"
   ]
  },
  {
   "cell_type": "code",
   "execution_count": null,
   "metadata": {},
   "outputs": [],
   "source": [
    "summaries = results.describe()\n",
    "summaries_scores = results_scores.describe()"
   ]
  },
  {
   "cell_type": "code",
   "execution_count": null,
   "metadata": {},
   "outputs": [],
   "source": [
    "plt.figure(figsize=(12,9))\n",
    "plt.plot(summaries.columns.values, summaries.loc['mean',:], 'o', label='mean')\n",
    "plt.plot(summaries.columns.values, summaries.loc['25%',:], 'ro', label='25%')\n",
    "# plt.plot(summaries.columns.values, summaries.loc['50%',:], '-.')\n",
    "plt.plot(summaries.columns.values, summaries.loc['75%',:], 'ko', label='75%')\n",
    "plt.title('return per percentile over batches')\n",
    "plt.legend(loc='best')\n",
    "plt.xlabel('percentile of 0.2.1_score')\n",
    "plt.ylabel('npv_roi_5')\n",
    "plt.show()"
   ]
  },
  {
   "cell_type": "code",
   "execution_count": null,
   "metadata": {},
   "outputs": [],
   "source": [
    "summaries_scores"
   ]
  },
  {
   "cell_type": "code",
   "execution_count": null,
   "metadata": {},
   "outputs": [],
   "source": [
    "# lets take one sided 99% cofidence interval at score is greater than mean -3 std_dev at 90th percentile"
   ]
  },
  {
   "cell_type": "code",
   "execution_count": null,
   "metadata": {},
   "outputs": [],
   "source": [
    "cutoff = summaries_scores.loc['mean', 90] - 3*summaries_scores.loc['std', 90]"
   ]
  },
  {
   "cell_type": "markdown",
   "metadata": {},
   "source": [
    "# Say I wanted the 75pctile of the 80th percentile (-0.36289), what grade distribution of loans are those?"
   ]
  },
  {
   "cell_type": "code",
   "execution_count": null,
   "metadata": {},
   "outputs": [],
   "source": [
    "picks = test[test['0.2.1_scores'] >= cutoff]"
   ]
  },
  {
   "cell_type": "code",
   "execution_count": null,
   "metadata": {},
   "outputs": [],
   "source": [
    "# grade distribution of picks\n",
    "picks['grade'].value_counts(dropna=False)/len(picks)"
   ]
  },
  {
   "cell_type": "code",
   "execution_count": null,
   "metadata": {},
   "outputs": [],
   "source": [
    "# compared to grade distribution of all test loans\n",
    "test['grade'].value_counts(dropna=False)/len(test)"
   ]
  },
  {
   "cell_type": "code",
   "execution_count": null,
   "metadata": {},
   "outputs": [],
   "source": [
    "cutoff"
   ]
  },
  {
   "cell_type": "code",
   "execution_count": null,
   "metadata": {},
   "outputs": [],
   "source": []
  }
 ],
 "metadata": {
  "kernelspec": {
   "display_name": "Python 2",
   "language": "python",
   "name": "python2"
  },
  "language_info": {
   "codemirror_mode": {
    "name": "ipython",
    "version": 2
   },
   "file_extension": ".py",
   "mimetype": "text/x-python",
   "name": "python",
   "nbconvert_exporter": "python",
   "pygments_lexer": "ipython2",
   "version": "2.7.13"
  },
  "notify_time": "30"
 },
 "nbformat": 4,
 "nbformat_minor": 2
}
