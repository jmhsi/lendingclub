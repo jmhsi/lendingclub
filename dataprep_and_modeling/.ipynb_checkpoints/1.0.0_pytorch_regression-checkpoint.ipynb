{
 "cells": [
  {
   "cell_type": "code",
   "execution_count": 1,
   "metadata": {
    "ExecuteTime": {
     "end_time": "2017-10-27T19:28:02.919752Z",
     "start_time": "2017-10-27T19:28:02.453590Z"
    },
    "collapsed": true,
    "scrolled": true
   },
   "outputs": [],
   "source": [
    "import data_science.lendingclub.dataprep_and_modeling.modeling_utils.data_prep_new as data_prep\n",
    "import dir_constants as dir_con\n",
    "from sklearn.externals import joblib\n",
    "import torch\n",
    "import torch.nn as nn\n",
    "import torch.optim as optim\n",
    "from torch.autograd import Variable\n",
    "import torch.nn.functional as F\n",
    "from torch.utils.data import Dataset, DataLoader\n",
    "import time\n",
    "from sklearn.metrics import mean_squared_error\n",
    "from tqdm import tqdm_notebook\n",
    "import matplotlib.pyplot as plt\n",
    "%matplotlib notebook"
   ]
  },
  {
   "cell_type": "code",
   "execution_count": null,
   "metadata": {
    "collapsed": true
   },
   "outputs": [],
   "source": [
    "from IPython.display import HTML\n",
    "HTML('''<script>\n",
    "code_show_err=false; \n",
    "function code_toggle_err() {\n",
    " if (code_show_err){\n",
    " $('div.output_stderr').hide();\n",
    " } else {\n",
    " $('div.output_stderr').show();\n",
    " }\n",
    " code_show_err = !code_show_err\n",
    "} \n",
    "$( document ).ready(code_toggle_err);\n",
    "</script>\n",
    "To toggle on/off output_stderr, click <a href=\"javascript:code_toggle_err()\">here</a>.''')"
   ]
  },
  {
   "cell_type": "markdown",
   "metadata": {},
   "source": [
    "# DO NOT FORGET TO DROP ISSUE_D AFTER PREPPING"
   ]
  },
  {
   "cell_type": "code",
   "execution_count": 2,
   "metadata": {
    "ExecuteTime": {
     "end_time": "2017-10-27T19:28:04.961986Z",
     "start_time": "2017-10-27T19:28:04.896008Z"
    },
    "collapsed": true
   },
   "outputs": [],
   "source": [
    "platform = 'lendingclub'\n",
    "home = dir_con.home_path\n",
    "use_cuda = True\n",
    "dtype = torch.cuda.FloatTensor\n",
    "save_path = \"model_dump/nn_1_0_0/\"\n",
    "\n",
    "store = pd.HDFStore(\n",
    "    home+'/justin_tinkering/data_science/lendingclub/{0}_store.h5'.\n",
    "    format(platform),\n",
    "    append=True)"
   ]
  },
  {
   "cell_type": "code",
   "execution_count": 3,
   "metadata": {
    "ExecuteTime": {
     "end_time": "2017-10-27T19:28:24.476252Z",
     "start_time": "2017-10-27T19:28:23.272825Z"
    },
    "collapsed": true
   },
   "outputs": [],
   "source": [
    "loan_info = store['train_filtered_columns']\n",
    "columns = loan_info.columns.values\n",
    "# checking dtypes to see which columns need one hotting, and which need null or not\n",
    "to_one_hot = []\n",
    "to_null_or_not = []\n",
    "do_nothing = []\n",
    "for col in columns:\n",
    "    if loan_info[col].dtypes == np.dtype('O'):\n",
    "#         print(col, loan_info[col].isnull().value_counts(dropna=False).to_dict())\n",
    "        to_one_hot.append(col)\n",
    "    elif len(loan_info[col].isnull().value_counts(dropna=False)) > 1:\n",
    "#         print(col, loan_info[col].isnull().value_counts(dropna=False).to_dict())\n",
    "        to_null_or_not.append(col)\n",
    "    else:\n",
    "#         print(col, loan_info[col].isnull().value_counts(dropna=False).to_dict())\n",
    "        do_nothing.append(col)"
   ]
  },
  {
   "cell_type": "markdown",
   "metadata": {},
   "source": [
    "# Until I figure out a good imputation method (e.g. bayes PCA), just drop columns with null still"
   ]
  },
  {
   "cell_type": "code",
   "execution_count": 4,
   "metadata": {
    "ExecuteTime": {
     "end_time": "2017-10-27T19:28:49.247010Z",
     "start_time": "2017-10-27T19:28:46.251229Z"
    }
   },
   "outputs": [],
   "source": [
    "train_X, train_y, mean_series, std_dev_series = data_prep.process_data_train(\n",
    "    loan_info)"
   ]
  },
  {
   "cell_type": "code",
   "execution_count": 5,
   "metadata": {
    "ExecuteTime": {
     "end_time": "2017-10-27T19:29:11.035871Z",
     "start_time": "2017-10-27T19:29:11.025004Z"
    }
   },
   "outputs": [],
   "source": [
    "class TrainDataset(Dataset):\n",
    "    def __init__(self, data, targets):\n",
    "        self.data = data\n",
    "        self.targets = targets\n",
    "        \n",
    "    def __len__(self):\n",
    "        return len(self.data)\n",
    "    \n",
    "    def __getitem__(self, idx):\n",
    "        return self.data[idx,:], self.targets[idx,:]\n",
    "    \n",
    "def get_loader(dataset, use_cuda, batch_size=6400, shuffle=True):\n",
    "    return DataLoader(dataset, batch_size=batch_size, shuffle=True, pin_memory=use_cuda) \n",
    "\n",
    "train_dataset = TrainDataset(train_X.values, train_y.values)\n",
    "train_loader = get_loader(train_dataset, use_cuda)"
   ]
  },
  {
   "cell_type": "markdown",
   "metadata": {},
   "source": [
    "# instantiate network"
   ]
  },
  {
   "cell_type": "code",
   "execution_count": 52,
   "metadata": {
    "ExecuteTime": {
     "end_time": "2017-10-29T03:42:11.608692Z",
     "start_time": "2017-10-29T03:42:11.601667Z"
    }
   },
   "outputs": [
    {
     "name": "stdout",
     "output_type": "stream",
     "text": [
      "Overwriting model_dump/nn_1_0_0/net_class.py\n"
     ]
    }
   ],
   "source": [
    "%%writefile model_dump/nn_1_0_0/net_class.py\n",
    "import torch\n",
    "import torch.nn as nn\n",
    "import torch.nn.functional as F\n",
    "from torch.autograd import Variable\n",
    "import numpy as np\n",
    "\n",
    "dtype = torch.cuda.FloatTensor\n",
    "\n",
    "nn_input_dim = 223\n",
    "hly1_n = 300\n",
    "hly2_n = 400\n",
    "hly3_n = 300\n",
    "hly4_n = 100\n",
    "nn_output_dim = 1\n",
    "\n",
    "class Net(nn.Module):\n",
    "    \n",
    "    def __init__(self):\n",
    "        super(Net, self).__init__()\n",
    "        self.hl1 = nn.Linear(nn_input_dim, hly1_n)\n",
    "        self.hl2 = nn.Linear(hly1_n, hly2_n)\n",
    "        self.hl3 = nn.Linear(hly2_n, hly3_n)\n",
    "        self.hl4 = nn.Linear(hly3_n, hly4_n)\n",
    "        self.out = nn.Linear(hly4_n, nn_output_dim)\n",
    "        \n",
    "    def forward(self, x):\n",
    "        x = F.leaky_relu(self.hl1(x))\n",
    "        x = F.leaky_relu(self.hl2(x))\n",
    "        x = F.leaky_relu(self.hl3(x))\n",
    "        x = F.leaky_relu(self.hl4(x))\n",
    "        x = self.out(x)\n",
    "        return x\n",
    "    \n",
    "def torch_version(df_inputs, net):\n",
    "    input = Variable(torch.from_numpy(df_inputs.values)).type(dtype)\n",
    "    return np.round(net(input).data.cpu().numpy(),5)    "
   ]
  },
  {
   "cell_type": "code",
   "execution_count": 6,
   "metadata": {
    "ExecuteTime": {
     "end_time": "2017-10-27T19:29:32.796464Z",
     "start_time": "2017-10-27T19:29:32.774485Z"
    },
    "collapsed": true
   },
   "outputs": [],
   "source": [
    "nn_input_dim = 223\n",
    "hly1_n = 300\n",
    "hly2_n = 400\n",
    "hly3_n = 300\n",
    "hly4_n = 100\n",
    "nn_output_dim = 1\n",
    "\n",
    "class Net(nn.Module):\n",
    "    \n",
    "    def __init__(self):\n",
    "        super(Net, self).__init__()\n",
    "        self.hl1 = nn.Linear(nn_input_dim, hly1_n)\n",
    "        self.hl2 = nn.Linear(hly1_n, hly2_n)\n",
    "        self.hl3 = nn.Linear(hly2_n, hly3_n)\n",
    "        self.hl4 = nn.Linear(hly3_n, hly4_n)\n",
    "        self.out = nn.Linear(hly4_n, nn_output_dim)\n",
    "        \n",
    "    def forward(self, x):\n",
    "        x = F.leaky_relu(self.hl1(x))\n",
    "        x = F.leaky_relu(self.hl2(x))\n",
    "        x = F.leaky_relu(self.hl3(x))\n",
    "        x = F.leaky_relu(self.hl4(x))\n",
    "        x = self.out(x)\n",
    "        return x\n",
    "    \n",
    "net = Net()"
   ]
  },
  {
   "cell_type": "code",
   "execution_count": 7,
   "metadata": {
    "ExecuteTime": {
     "end_time": "2017-10-27T19:29:54.606057Z",
     "start_time": "2017-10-27T19:29:54.602698Z"
    }
   },
   "outputs": [],
   "source": [
    "params = list(net.parameters())\n",
    "criterion = nn.MSELoss()\n",
    "optimizer = optim.Adam(net.parameters(), lr=0.001, weight_decay=0.001)"
   ]
  },
  {
   "cell_type": "code",
   "execution_count": 8,
   "metadata": {
    "ExecuteTime": {
     "end_time": "2017-10-27T19:30:18.888821Z",
     "start_time": "2017-10-27T19:30:17.343921Z"
    },
    "collapsed": true
   },
   "outputs": [],
   "source": [
    "if use_cuda:\n",
    "    net.cuda()\n",
    "    criterion.cuda()"
   ]
  },
  {
   "cell_type": "code",
   "execution_count": 10,
   "metadata": {
    "ExecuteTime": {
     "end_time": "2017-10-27T20:16:32.767030Z",
     "start_time": "2017-10-27T19:31:04.029770Z"
    },
    "scrolled": true
   },
   "outputs": [
    {
     "data": {
      "application/javascript": [
       "/* Put everything inside the global mpl namespace */\n",
       "window.mpl = {};\n",
       "\n",
       "\n",
       "mpl.get_websocket_type = function() {\n",
       "    if (typeof(WebSocket) !== 'undefined') {\n",
       "        return WebSocket;\n",
       "    } else if (typeof(MozWebSocket) !== 'undefined') {\n",
       "        return MozWebSocket;\n",
       "    } else {\n",
       "        alert('Your browser does not have WebSocket support.' +\n",
       "              'Please try Chrome, Safari or Firefox ≥ 6. ' +\n",
       "              'Firefox 4 and 5 are also supported but you ' +\n",
       "              'have to enable WebSockets in about:config.');\n",
       "    };\n",
       "}\n",
       "\n",
       "mpl.figure = function(figure_id, websocket, ondownload, parent_element) {\n",
       "    this.id = figure_id;\n",
       "\n",
       "    this.ws = websocket;\n",
       "\n",
       "    this.supports_binary = (this.ws.binaryType != undefined);\n",
       "\n",
       "    if (!this.supports_binary) {\n",
       "        var warnings = document.getElementById(\"mpl-warnings\");\n",
       "        if (warnings) {\n",
       "            warnings.style.display = 'block';\n",
       "            warnings.textContent = (\n",
       "                \"This browser does not support binary websocket messages. \" +\n",
       "                    \"Performance may be slow.\");\n",
       "        }\n",
       "    }\n",
       "\n",
       "    this.imageObj = new Image();\n",
       "\n",
       "    this.context = undefined;\n",
       "    this.message = undefined;\n",
       "    this.canvas = undefined;\n",
       "    this.rubberband_canvas = undefined;\n",
       "    this.rubberband_context = undefined;\n",
       "    this.format_dropdown = undefined;\n",
       "\n",
       "    this.image_mode = 'full';\n",
       "\n",
       "    this.root = $('<div/>');\n",
       "    this._root_extra_style(this.root)\n",
       "    this.root.attr('style', 'display: inline-block');\n",
       "\n",
       "    $(parent_element).append(this.root);\n",
       "\n",
       "    this._init_header(this);\n",
       "    this._init_canvas(this);\n",
       "    this._init_toolbar(this);\n",
       "\n",
       "    var fig = this;\n",
       "\n",
       "    this.waiting = false;\n",
       "\n",
       "    this.ws.onopen =  function () {\n",
       "            fig.send_message(\"supports_binary\", {value: fig.supports_binary});\n",
       "            fig.send_message(\"send_image_mode\", {});\n",
       "            if (mpl.ratio != 1) {\n",
       "                fig.send_message(\"set_dpi_ratio\", {'dpi_ratio': mpl.ratio});\n",
       "            }\n",
       "            fig.send_message(\"refresh\", {});\n",
       "        }\n",
       "\n",
       "    this.imageObj.onload = function() {\n",
       "            if (fig.image_mode == 'full') {\n",
       "                // Full images could contain transparency (where diff images\n",
       "                // almost always do), so we need to clear the canvas so that\n",
       "                // there is no ghosting.\n",
       "                fig.context.clearRect(0, 0, fig.canvas.width, fig.canvas.height);\n",
       "            }\n",
       "            fig.context.drawImage(fig.imageObj, 0, 0);\n",
       "        };\n",
       "\n",
       "    this.imageObj.onunload = function() {\n",
       "        this.ws.close();\n",
       "    }\n",
       "\n",
       "    this.ws.onmessage = this._make_on_message_function(this);\n",
       "\n",
       "    this.ondownload = ondownload;\n",
       "}\n",
       "\n",
       "mpl.figure.prototype._init_header = function() {\n",
       "    var titlebar = $(\n",
       "        '<div class=\"ui-dialog-titlebar ui-widget-header ui-corner-all ' +\n",
       "        'ui-helper-clearfix\"/>');\n",
       "    var titletext = $(\n",
       "        '<div class=\"ui-dialog-title\" style=\"width: 100%; ' +\n",
       "        'text-align: center; padding: 3px;\"/>');\n",
       "    titlebar.append(titletext)\n",
       "    this.root.append(titlebar);\n",
       "    this.header = titletext[0];\n",
       "}\n",
       "\n",
       "\n",
       "\n",
       "mpl.figure.prototype._canvas_extra_style = function(canvas_div) {\n",
       "\n",
       "}\n",
       "\n",
       "\n",
       "mpl.figure.prototype._root_extra_style = function(canvas_div) {\n",
       "\n",
       "}\n",
       "\n",
       "mpl.figure.prototype._init_canvas = function() {\n",
       "    var fig = this;\n",
       "\n",
       "    var canvas_div = $('<div/>');\n",
       "\n",
       "    canvas_div.attr('style', 'position: relative; clear: both; outline: 0');\n",
       "\n",
       "    function canvas_keyboard_event(event) {\n",
       "        return fig.key_event(event, event['data']);\n",
       "    }\n",
       "\n",
       "    canvas_div.keydown('key_press', canvas_keyboard_event);\n",
       "    canvas_div.keyup('key_release', canvas_keyboard_event);\n",
       "    this.canvas_div = canvas_div\n",
       "    this._canvas_extra_style(canvas_div)\n",
       "    this.root.append(canvas_div);\n",
       "\n",
       "    var canvas = $('<canvas/>');\n",
       "    canvas.addClass('mpl-canvas');\n",
       "    canvas.attr('style', \"left: 0; top: 0; z-index: 0; outline: 0\")\n",
       "\n",
       "    this.canvas = canvas[0];\n",
       "    this.context = canvas[0].getContext(\"2d\");\n",
       "\n",
       "    var backingStore = this.context.backingStorePixelRatio ||\n",
       "\tthis.context.webkitBackingStorePixelRatio ||\n",
       "\tthis.context.mozBackingStorePixelRatio ||\n",
       "\tthis.context.msBackingStorePixelRatio ||\n",
       "\tthis.context.oBackingStorePixelRatio ||\n",
       "\tthis.context.backingStorePixelRatio || 1;\n",
       "\n",
       "    mpl.ratio = (window.devicePixelRatio || 1) / backingStore;\n",
       "\n",
       "    var rubberband = $('<canvas/>');\n",
       "    rubberband.attr('style', \"position: absolute; left: 0; top: 0; z-index: 1;\")\n",
       "\n",
       "    var pass_mouse_events = true;\n",
       "\n",
       "    canvas_div.resizable({\n",
       "        start: function(event, ui) {\n",
       "            pass_mouse_events = false;\n",
       "        },\n",
       "        resize: function(event, ui) {\n",
       "            fig.request_resize(ui.size.width, ui.size.height);\n",
       "        },\n",
       "        stop: function(event, ui) {\n",
       "            pass_mouse_events = true;\n",
       "            fig.request_resize(ui.size.width, ui.size.height);\n",
       "        },\n",
       "    });\n",
       "\n",
       "    function mouse_event_fn(event) {\n",
       "        if (pass_mouse_events)\n",
       "            return fig.mouse_event(event, event['data']);\n",
       "    }\n",
       "\n",
       "    rubberband.mousedown('button_press', mouse_event_fn);\n",
       "    rubberband.mouseup('button_release', mouse_event_fn);\n",
       "    // Throttle sequential mouse events to 1 every 20ms.\n",
       "    rubberband.mousemove('motion_notify', mouse_event_fn);\n",
       "\n",
       "    rubberband.mouseenter('figure_enter', mouse_event_fn);\n",
       "    rubberband.mouseleave('figure_leave', mouse_event_fn);\n",
       "\n",
       "    canvas_div.on(\"wheel\", function (event) {\n",
       "        event = event.originalEvent;\n",
       "        event['data'] = 'scroll'\n",
       "        if (event.deltaY < 0) {\n",
       "            event.step = 1;\n",
       "        } else {\n",
       "            event.step = -1;\n",
       "        }\n",
       "        mouse_event_fn(event);\n",
       "    });\n",
       "\n",
       "    canvas_div.append(canvas);\n",
       "    canvas_div.append(rubberband);\n",
       "\n",
       "    this.rubberband = rubberband;\n",
       "    this.rubberband_canvas = rubberband[0];\n",
       "    this.rubberband_context = rubberband[0].getContext(\"2d\");\n",
       "    this.rubberband_context.strokeStyle = \"#000000\";\n",
       "\n",
       "    this._resize_canvas = function(width, height) {\n",
       "        // Keep the size of the canvas, canvas container, and rubber band\n",
       "        // canvas in synch.\n",
       "        canvas_div.css('width', width)\n",
       "        canvas_div.css('height', height)\n",
       "\n",
       "        canvas.attr('width', width * mpl.ratio);\n",
       "        canvas.attr('height', height * mpl.ratio);\n",
       "        canvas.attr('style', 'width: ' + width + 'px; height: ' + height + 'px;');\n",
       "\n",
       "        rubberband.attr('width', width);\n",
       "        rubberband.attr('height', height);\n",
       "    }\n",
       "\n",
       "    // Set the figure to an initial 600x600px, this will subsequently be updated\n",
       "    // upon first draw.\n",
       "    this._resize_canvas(600, 600);\n",
       "\n",
       "    // Disable right mouse context menu.\n",
       "    $(this.rubberband_canvas).bind(\"contextmenu\",function(e){\n",
       "        return false;\n",
       "    });\n",
       "\n",
       "    function set_focus () {\n",
       "        canvas.focus();\n",
       "        canvas_div.focus();\n",
       "    }\n",
       "\n",
       "    window.setTimeout(set_focus, 100);\n",
       "}\n",
       "\n",
       "mpl.figure.prototype._init_toolbar = function() {\n",
       "    var fig = this;\n",
       "\n",
       "    var nav_element = $('<div/>')\n",
       "    nav_element.attr('style', 'width: 100%');\n",
       "    this.root.append(nav_element);\n",
       "\n",
       "    // Define a callback function for later on.\n",
       "    function toolbar_event(event) {\n",
       "        return fig.toolbar_button_onclick(event['data']);\n",
       "    }\n",
       "    function toolbar_mouse_event(event) {\n",
       "        return fig.toolbar_button_onmouseover(event['data']);\n",
       "    }\n",
       "\n",
       "    for(var toolbar_ind in mpl.toolbar_items) {\n",
       "        var name = mpl.toolbar_items[toolbar_ind][0];\n",
       "        var tooltip = mpl.toolbar_items[toolbar_ind][1];\n",
       "        var image = mpl.toolbar_items[toolbar_ind][2];\n",
       "        var method_name = mpl.toolbar_items[toolbar_ind][3];\n",
       "\n",
       "        if (!name) {\n",
       "            // put a spacer in here.\n",
       "            continue;\n",
       "        }\n",
       "        var button = $('<button/>');\n",
       "        button.addClass('ui-button ui-widget ui-state-default ui-corner-all ' +\n",
       "                        'ui-button-icon-only');\n",
       "        button.attr('role', 'button');\n",
       "        button.attr('aria-disabled', 'false');\n",
       "        button.click(method_name, toolbar_event);\n",
       "        button.mouseover(tooltip, toolbar_mouse_event);\n",
       "\n",
       "        var icon_img = $('<span/>');\n",
       "        icon_img.addClass('ui-button-icon-primary ui-icon');\n",
       "        icon_img.addClass(image);\n",
       "        icon_img.addClass('ui-corner-all');\n",
       "\n",
       "        var tooltip_span = $('<span/>');\n",
       "        tooltip_span.addClass('ui-button-text');\n",
       "        tooltip_span.html(tooltip);\n",
       "\n",
       "        button.append(icon_img);\n",
       "        button.append(tooltip_span);\n",
       "\n",
       "        nav_element.append(button);\n",
       "    }\n",
       "\n",
       "    var fmt_picker_span = $('<span/>');\n",
       "\n",
       "    var fmt_picker = $('<select/>');\n",
       "    fmt_picker.addClass('mpl-toolbar-option ui-widget ui-widget-content');\n",
       "    fmt_picker_span.append(fmt_picker);\n",
       "    nav_element.append(fmt_picker_span);\n",
       "    this.format_dropdown = fmt_picker[0];\n",
       "\n",
       "    for (var ind in mpl.extensions) {\n",
       "        var fmt = mpl.extensions[ind];\n",
       "        var option = $(\n",
       "            '<option/>', {selected: fmt === mpl.default_extension}).html(fmt);\n",
       "        fmt_picker.append(option)\n",
       "    }\n",
       "\n",
       "    // Add hover states to the ui-buttons\n",
       "    $( \".ui-button\" ).hover(\n",
       "        function() { $(this).addClass(\"ui-state-hover\");},\n",
       "        function() { $(this).removeClass(\"ui-state-hover\");}\n",
       "    );\n",
       "\n",
       "    var status_bar = $('<span class=\"mpl-message\"/>');\n",
       "    nav_element.append(status_bar);\n",
       "    this.message = status_bar[0];\n",
       "}\n",
       "\n",
       "mpl.figure.prototype.request_resize = function(x_pixels, y_pixels) {\n",
       "    // Request matplotlib to resize the figure. Matplotlib will then trigger a resize in the client,\n",
       "    // which will in turn request a refresh of the image.\n",
       "    this.send_message('resize', {'width': x_pixels, 'height': y_pixels});\n",
       "}\n",
       "\n",
       "mpl.figure.prototype.send_message = function(type, properties) {\n",
       "    properties['type'] = type;\n",
       "    properties['figure_id'] = this.id;\n",
       "    this.ws.send(JSON.stringify(properties));\n",
       "}\n",
       "\n",
       "mpl.figure.prototype.send_draw_message = function() {\n",
       "    if (!this.waiting) {\n",
       "        this.waiting = true;\n",
       "        this.ws.send(JSON.stringify({type: \"draw\", figure_id: this.id}));\n",
       "    }\n",
       "}\n",
       "\n",
       "\n",
       "mpl.figure.prototype.handle_save = function(fig, msg) {\n",
       "    var format_dropdown = fig.format_dropdown;\n",
       "    var format = format_dropdown.options[format_dropdown.selectedIndex].value;\n",
       "    fig.ondownload(fig, format);\n",
       "}\n",
       "\n",
       "\n",
       "mpl.figure.prototype.handle_resize = function(fig, msg) {\n",
       "    var size = msg['size'];\n",
       "    if (size[0] != fig.canvas.width || size[1] != fig.canvas.height) {\n",
       "        fig._resize_canvas(size[0], size[1]);\n",
       "        fig.send_message(\"refresh\", {});\n",
       "    };\n",
       "}\n",
       "\n",
       "mpl.figure.prototype.handle_rubberband = function(fig, msg) {\n",
       "    var x0 = msg['x0'] / mpl.ratio;\n",
       "    var y0 = (fig.canvas.height - msg['y0']) / mpl.ratio;\n",
       "    var x1 = msg['x1'] / mpl.ratio;\n",
       "    var y1 = (fig.canvas.height - msg['y1']) / mpl.ratio;\n",
       "    x0 = Math.floor(x0) + 0.5;\n",
       "    y0 = Math.floor(y0) + 0.5;\n",
       "    x1 = Math.floor(x1) + 0.5;\n",
       "    y1 = Math.floor(y1) + 0.5;\n",
       "    var min_x = Math.min(x0, x1);\n",
       "    var min_y = Math.min(y0, y1);\n",
       "    var width = Math.abs(x1 - x0);\n",
       "    var height = Math.abs(y1 - y0);\n",
       "\n",
       "    fig.rubberband_context.clearRect(\n",
       "        0, 0, fig.canvas.width, fig.canvas.height);\n",
       "\n",
       "    fig.rubberband_context.strokeRect(min_x, min_y, width, height);\n",
       "}\n",
       "\n",
       "mpl.figure.prototype.handle_figure_label = function(fig, msg) {\n",
       "    // Updates the figure title.\n",
       "    fig.header.textContent = msg['label'];\n",
       "}\n",
       "\n",
       "mpl.figure.prototype.handle_cursor = function(fig, msg) {\n",
       "    var cursor = msg['cursor'];\n",
       "    switch(cursor)\n",
       "    {\n",
       "    case 0:\n",
       "        cursor = 'pointer';\n",
       "        break;\n",
       "    case 1:\n",
       "        cursor = 'default';\n",
       "        break;\n",
       "    case 2:\n",
       "        cursor = 'crosshair';\n",
       "        break;\n",
       "    case 3:\n",
       "        cursor = 'move';\n",
       "        break;\n",
       "    }\n",
       "    fig.rubberband_canvas.style.cursor = cursor;\n",
       "}\n",
       "\n",
       "mpl.figure.prototype.handle_message = function(fig, msg) {\n",
       "    fig.message.textContent = msg['message'];\n",
       "}\n",
       "\n",
       "mpl.figure.prototype.handle_draw = function(fig, msg) {\n",
       "    // Request the server to send over a new figure.\n",
       "    fig.send_draw_message();\n",
       "}\n",
       "\n",
       "mpl.figure.prototype.handle_image_mode = function(fig, msg) {\n",
       "    fig.image_mode = msg['mode'];\n",
       "}\n",
       "\n",
       "mpl.figure.prototype.updated_canvas_event = function() {\n",
       "    // Called whenever the canvas gets updated.\n",
       "    this.send_message(\"ack\", {});\n",
       "}\n",
       "\n",
       "// A function to construct a web socket function for onmessage handling.\n",
       "// Called in the figure constructor.\n",
       "mpl.figure.prototype._make_on_message_function = function(fig) {\n",
       "    return function socket_on_message(evt) {\n",
       "        if (evt.data instanceof Blob) {\n",
       "            /* FIXME: We get \"Resource interpreted as Image but\n",
       "             * transferred with MIME type text/plain:\" errors on\n",
       "             * Chrome.  But how to set the MIME type?  It doesn't seem\n",
       "             * to be part of the websocket stream */\n",
       "            evt.data.type = \"image/png\";\n",
       "\n",
       "            /* Free the memory for the previous frames */\n",
       "            if (fig.imageObj.src) {\n",
       "                (window.URL || window.webkitURL).revokeObjectURL(\n",
       "                    fig.imageObj.src);\n",
       "            }\n",
       "\n",
       "            fig.imageObj.src = (window.URL || window.webkitURL).createObjectURL(\n",
       "                evt.data);\n",
       "            fig.updated_canvas_event();\n",
       "            fig.waiting = false;\n",
       "            return;\n",
       "        }\n",
       "        else if (typeof evt.data === 'string' && evt.data.slice(0, 21) == \"data:image/png;base64\") {\n",
       "            fig.imageObj.src = evt.data;\n",
       "            fig.updated_canvas_event();\n",
       "            fig.waiting = false;\n",
       "            return;\n",
       "        }\n",
       "\n",
       "        var msg = JSON.parse(evt.data);\n",
       "        var msg_type = msg['type'];\n",
       "\n",
       "        // Call the  \"handle_{type}\" callback, which takes\n",
       "        // the figure and JSON message as its only arguments.\n",
       "        try {\n",
       "            var callback = fig[\"handle_\" + msg_type];\n",
       "        } catch (e) {\n",
       "            console.log(\"No handler for the '\" + msg_type + \"' message type: \", msg);\n",
       "            return;\n",
       "        }\n",
       "\n",
       "        if (callback) {\n",
       "            try {\n",
       "                // console.log(\"Handling '\" + msg_type + \"' message: \", msg);\n",
       "                callback(fig, msg);\n",
       "            } catch (e) {\n",
       "                console.log(\"Exception inside the 'handler_\" + msg_type + \"' callback:\", e, e.stack, msg);\n",
       "            }\n",
       "        }\n",
       "    };\n",
       "}\n",
       "\n",
       "// from http://stackoverflow.com/questions/1114465/getting-mouse-location-in-canvas\n",
       "mpl.findpos = function(e) {\n",
       "    //this section is from http://www.quirksmode.org/js/events_properties.html\n",
       "    var targ;\n",
       "    if (!e)\n",
       "        e = window.event;\n",
       "    if (e.target)\n",
       "        targ = e.target;\n",
       "    else if (e.srcElement)\n",
       "        targ = e.srcElement;\n",
       "    if (targ.nodeType == 3) // defeat Safari bug\n",
       "        targ = targ.parentNode;\n",
       "\n",
       "    // jQuery normalizes the pageX and pageY\n",
       "    // pageX,Y are the mouse positions relative to the document\n",
       "    // offset() returns the position of the element relative to the document\n",
       "    var x = e.pageX - $(targ).offset().left;\n",
       "    var y = e.pageY - $(targ).offset().top;\n",
       "\n",
       "    return {\"x\": x, \"y\": y};\n",
       "};\n",
       "\n",
       "/*\n",
       " * return a copy of an object with only non-object keys\n",
       " * we need this to avoid circular references\n",
       " * http://stackoverflow.com/a/24161582/3208463\n",
       " */\n",
       "function simpleKeys (original) {\n",
       "  return Object.keys(original).reduce(function (obj, key) {\n",
       "    if (typeof original[key] !== 'object')\n",
       "        obj[key] = original[key]\n",
       "    return obj;\n",
       "  }, {});\n",
       "}\n",
       "\n",
       "mpl.figure.prototype.mouse_event = function(event, name) {\n",
       "    var canvas_pos = mpl.findpos(event)\n",
       "\n",
       "    if (name === 'button_press')\n",
       "    {\n",
       "        this.canvas.focus();\n",
       "        this.canvas_div.focus();\n",
       "    }\n",
       "\n",
       "    var x = canvas_pos.x * mpl.ratio;\n",
       "    var y = canvas_pos.y * mpl.ratio;\n",
       "\n",
       "    this.send_message(name, {x: x, y: y, button: event.button,\n",
       "                             step: event.step,\n",
       "                             guiEvent: simpleKeys(event)});\n",
       "\n",
       "    /* This prevents the web browser from automatically changing to\n",
       "     * the text insertion cursor when the button is pressed.  We want\n",
       "     * to control all of the cursor setting manually through the\n",
       "     * 'cursor' event from matplotlib */\n",
       "    event.preventDefault();\n",
       "    return false;\n",
       "}\n",
       "\n",
       "mpl.figure.prototype._key_event_extra = function(event, name) {\n",
       "    // Handle any extra behaviour associated with a key event\n",
       "}\n",
       "\n",
       "mpl.figure.prototype.key_event = function(event, name) {\n",
       "\n",
       "    // Prevent repeat events\n",
       "    if (name == 'key_press')\n",
       "    {\n",
       "        if (event.which === this._key)\n",
       "            return;\n",
       "        else\n",
       "            this._key = event.which;\n",
       "    }\n",
       "    if (name == 'key_release')\n",
       "        this._key = null;\n",
       "\n",
       "    var value = '';\n",
       "    if (event.ctrlKey && event.which != 17)\n",
       "        value += \"ctrl+\";\n",
       "    if (event.altKey && event.which != 18)\n",
       "        value += \"alt+\";\n",
       "    if (event.shiftKey && event.which != 16)\n",
       "        value += \"shift+\";\n",
       "\n",
       "    value += 'k';\n",
       "    value += event.which.toString();\n",
       "\n",
       "    this._key_event_extra(event, name);\n",
       "\n",
       "    this.send_message(name, {key: value,\n",
       "                             guiEvent: simpleKeys(event)});\n",
       "    return false;\n",
       "}\n",
       "\n",
       "mpl.figure.prototype.toolbar_button_onclick = function(name) {\n",
       "    if (name == 'download') {\n",
       "        this.handle_save(this, null);\n",
       "    } else {\n",
       "        this.send_message(\"toolbar_button\", {name: name});\n",
       "    }\n",
       "};\n",
       "\n",
       "mpl.figure.prototype.toolbar_button_onmouseover = function(tooltip) {\n",
       "    this.message.textContent = tooltip;\n",
       "};\n",
       "mpl.toolbar_items = [[\"Home\", \"Reset original view\", \"fa fa-home icon-home\", \"home\"], [\"Back\", \"Back to  previous view\", \"fa fa-arrow-left icon-arrow-left\", \"back\"], [\"Forward\", \"Forward to next view\", \"fa fa-arrow-right icon-arrow-right\", \"forward\"], [\"\", \"\", \"\", \"\"], [\"Pan\", \"Pan axes with left mouse, zoom with right\", \"fa fa-arrows icon-move\", \"pan\"], [\"Zoom\", \"Zoom to rectangle\", \"fa fa-square-o icon-check-empty\", \"zoom\"], [\"\", \"\", \"\", \"\"], [\"Download\", \"Download plot\", \"fa fa-floppy-o icon-save\", \"download\"]];\n",
       "\n",
       "mpl.extensions = [\"eps\", \"jpeg\", \"pdf\", \"png\", \"ps\", \"raw\", \"svg\", \"tif\"];\n",
       "\n",
       "mpl.default_extension = \"png\";var comm_websocket_adapter = function(comm) {\n",
       "    // Create a \"websocket\"-like object which calls the given IPython comm\n",
       "    // object with the appropriate methods. Currently this is a non binary\n",
       "    // socket, so there is still some room for performance tuning.\n",
       "    var ws = {};\n",
       "\n",
       "    ws.close = function() {\n",
       "        comm.close()\n",
       "    };\n",
       "    ws.send = function(m) {\n",
       "        //console.log('sending', m);\n",
       "        comm.send(m);\n",
       "    };\n",
       "    // Register the callback with on_msg.\n",
       "    comm.on_msg(function(msg) {\n",
       "        //console.log('receiving', msg['content']['data'], msg);\n",
       "        // Pass the mpl event to the overriden (by mpl) onmessage function.\n",
       "        ws.onmessage(msg['content']['data'])\n",
       "    });\n",
       "    return ws;\n",
       "}\n",
       "\n",
       "mpl.mpl_figure_comm = function(comm, msg) {\n",
       "    // This is the function which gets called when the mpl process\n",
       "    // starts-up an IPython Comm through the \"matplotlib\" channel.\n",
       "\n",
       "    var id = msg.content.data.id;\n",
       "    // Get hold of the div created by the display call when the Comm\n",
       "    // socket was opened in Python.\n",
       "    var element = $(\"#\" + id);\n",
       "    var ws_proxy = comm_websocket_adapter(comm)\n",
       "\n",
       "    function ondownload(figure, format) {\n",
       "        window.open(figure.imageObj.src);\n",
       "    }\n",
       "\n",
       "    var fig = new mpl.figure(id, ws_proxy,\n",
       "                           ondownload,\n",
       "                           element.get(0));\n",
       "\n",
       "    // Call onopen now - mpl needs it, as it is assuming we've passed it a real\n",
       "    // web socket which is closed, not our websocket->open comm proxy.\n",
       "    ws_proxy.onopen();\n",
       "\n",
       "    fig.parent_element = element.get(0);\n",
       "    fig.cell_info = mpl.find_output_cell(\"<div id='\" + id + \"'></div>\");\n",
       "    if (!fig.cell_info) {\n",
       "        console.error(\"Failed to find cell for figure\", id, fig);\n",
       "        return;\n",
       "    }\n",
       "\n",
       "    var output_index = fig.cell_info[2]\n",
       "    var cell = fig.cell_info[0];\n",
       "\n",
       "};\n",
       "\n",
       "mpl.figure.prototype.handle_close = function(fig, msg) {\n",
       "    var width = fig.canvas.width/mpl.ratio\n",
       "    fig.root.unbind('remove')\n",
       "\n",
       "    // Update the output cell to use the data from the current canvas.\n",
       "    fig.push_to_output();\n",
       "    var dataURL = fig.canvas.toDataURL();\n",
       "    // Re-enable the keyboard manager in IPython - without this line, in FF,\n",
       "    // the notebook keyboard shortcuts fail.\n",
       "    IPython.keyboard_manager.enable()\n",
       "    $(fig.parent_element).html('<img src=\"' + dataURL + '\" width=\"' + width + '\">');\n",
       "    fig.close_ws(fig, msg);\n",
       "}\n",
       "\n",
       "mpl.figure.prototype.close_ws = function(fig, msg){\n",
       "    fig.send_message('closing', msg);\n",
       "    // fig.ws.close()\n",
       "}\n",
       "\n",
       "mpl.figure.prototype.push_to_output = function(remove_interactive) {\n",
       "    // Turn the data on the canvas into data in the output cell.\n",
       "    var width = this.canvas.width/mpl.ratio\n",
       "    var dataURL = this.canvas.toDataURL();\n",
       "    this.cell_info[1]['text/html'] = '<img src=\"' + dataURL + '\" width=\"' + width + '\">';\n",
       "}\n",
       "\n",
       "mpl.figure.prototype.updated_canvas_event = function() {\n",
       "    // Tell IPython that the notebook contents must change.\n",
       "    IPython.notebook.set_dirty(true);\n",
       "    this.send_message(\"ack\", {});\n",
       "    var fig = this;\n",
       "    // Wait a second, then push the new image to the DOM so\n",
       "    // that it is saved nicely (might be nice to debounce this).\n",
       "    setTimeout(function () { fig.push_to_output() }, 1000);\n",
       "}\n",
       "\n",
       "mpl.figure.prototype._init_toolbar = function() {\n",
       "    var fig = this;\n",
       "\n",
       "    var nav_element = $('<div/>')\n",
       "    nav_element.attr('style', 'width: 100%');\n",
       "    this.root.append(nav_element);\n",
       "\n",
       "    // Define a callback function for later on.\n",
       "    function toolbar_event(event) {\n",
       "        return fig.toolbar_button_onclick(event['data']);\n",
       "    }\n",
       "    function toolbar_mouse_event(event) {\n",
       "        return fig.toolbar_button_onmouseover(event['data']);\n",
       "    }\n",
       "\n",
       "    for(var toolbar_ind in mpl.toolbar_items){\n",
       "        var name = mpl.toolbar_items[toolbar_ind][0];\n",
       "        var tooltip = mpl.toolbar_items[toolbar_ind][1];\n",
       "        var image = mpl.toolbar_items[toolbar_ind][2];\n",
       "        var method_name = mpl.toolbar_items[toolbar_ind][3];\n",
       "\n",
       "        if (!name) { continue; };\n",
       "\n",
       "        var button = $('<button class=\"btn btn-default\" href=\"#\" title=\"' + name + '\"><i class=\"fa ' + image + ' fa-lg\"></i></button>');\n",
       "        button.click(method_name, toolbar_event);\n",
       "        button.mouseover(tooltip, toolbar_mouse_event);\n",
       "        nav_element.append(button);\n",
       "    }\n",
       "\n",
       "    // Add the status bar.\n",
       "    var status_bar = $('<span class=\"mpl-message\" style=\"text-align:right; float: right;\"/>');\n",
       "    nav_element.append(status_bar);\n",
       "    this.message = status_bar[0];\n",
       "\n",
       "    // Add the close button to the window.\n",
       "    var buttongrp = $('<div class=\"btn-group inline pull-right\"></div>');\n",
       "    var button = $('<button class=\"btn btn-mini btn-primary\" href=\"#\" title=\"Stop Interaction\"><i class=\"fa fa-power-off icon-remove icon-large\"></i></button>');\n",
       "    button.click(function (evt) { fig.handle_close(fig, {}); } );\n",
       "    button.mouseover('Stop Interaction', toolbar_mouse_event);\n",
       "    buttongrp.append(button);\n",
       "    var titlebar = this.root.find($('.ui-dialog-titlebar'));\n",
       "    titlebar.prepend(buttongrp);\n",
       "}\n",
       "\n",
       "mpl.figure.prototype._root_extra_style = function(el){\n",
       "    var fig = this\n",
       "    el.on(\"remove\", function(){\n",
       "\tfig.close_ws(fig, {});\n",
       "    });\n",
       "}\n",
       "\n",
       "mpl.figure.prototype._canvas_extra_style = function(el){\n",
       "    // this is important to make the div 'focusable\n",
       "    el.attr('tabindex', 0)\n",
       "    // reach out to IPython and tell the keyboard manager to turn it's self\n",
       "    // off when our div gets focus\n",
       "\n",
       "    // location in version 3\n",
       "    if (IPython.notebook.keyboard_manager) {\n",
       "        IPython.notebook.keyboard_manager.register_events(el);\n",
       "    }\n",
       "    else {\n",
       "        // location in version 2\n",
       "        IPython.keyboard_manager.register_events(el);\n",
       "    }\n",
       "\n",
       "}\n",
       "\n",
       "mpl.figure.prototype._key_event_extra = function(event, name) {\n",
       "    var manager = IPython.notebook.keyboard_manager;\n",
       "    if (!manager)\n",
       "        manager = IPython.keyboard_manager;\n",
       "\n",
       "    // Check for shift+enter\n",
       "    if (event.shiftKey && event.which == 13) {\n",
       "        this.canvas_div.blur();\n",
       "        // select the cell after this one\n",
       "        var index = IPython.notebook.find_cell_index(this.cell_info[0]);\n",
       "        IPython.notebook.select(index + 1);\n",
       "    }\n",
       "}\n",
       "\n",
       "mpl.figure.prototype.handle_save = function(fig, msg) {\n",
       "    fig.ondownload(fig, null);\n",
       "}\n",
       "\n",
       "\n",
       "mpl.find_output_cell = function(html_output) {\n",
       "    // Return the cell and output element which can be found *uniquely* in the notebook.\n",
       "    // Note - this is a bit hacky, but it is done because the \"notebook_saving.Notebook\"\n",
       "    // IPython event is triggered only after the cells have been serialised, which for\n",
       "    // our purposes (turning an active figure into a static one), is too late.\n",
       "    var cells = IPython.notebook.get_cells();\n",
       "    var ncells = cells.length;\n",
       "    for (var i=0; i<ncells; i++) {\n",
       "        var cell = cells[i];\n",
       "        if (cell.cell_type === 'code'){\n",
       "            for (var j=0; j<cell.output_area.outputs.length; j++) {\n",
       "                var data = cell.output_area.outputs[j];\n",
       "                if (data.data) {\n",
       "                    // IPython >= 3 moved mimebundle to data attribute of output\n",
       "                    data = data.data;\n",
       "                }\n",
       "                if (data['text/html'] == html_output) {\n",
       "                    return [cell, data, j];\n",
       "                }\n",
       "            }\n",
       "        }\n",
       "    }\n",
       "}\n",
       "\n",
       "// Register the function which deals with the matplotlib target/channel.\n",
       "// The kernel may be null if the page has been refreshed.\n",
       "if (IPython.notebook.kernel != null) {\n",
       "    IPython.notebook.kernel.comm_manager.register_target('matplotlib', mpl.mpl_figure_comm);\n",
       "}\n"
      ],
      "text/plain": [
       "<IPython.core.display.Javascript object>"
      ]
     },
     "metadata": {},
     "output_type": "display_data"
    },
    {
     "data": {
      "text/html": [
       "<img src=\"data:image/png;base64,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\" width=\"640\">"
      ],
      "text/plain": [
       "<IPython.core.display.HTML object>"
      ]
     },
     "metadata": {},
     "output_type": "display_data"
    },
    {
     "name": "stderr",
     "output_type": "stream",
     "text": [
      "/home/justin/anaconda3/lib/python3.6/site-packages/torch/serialization.py:147: UserWarning: Couldn't retrieve source code for container of type Net. It won't be checked for correctness upon loading.\n",
      "  \"type \" + obj.__name__ + \". It won't be checked \"\n"
     ]
    }
   ],
   "source": [
    "n_epochs = 500\n",
    "epoch_list = []\n",
    "loss_list = []\n",
    "\n",
    "fig = plt.gcf()\n",
    "fig.show()\n",
    "fig.canvas.draw()\n",
    "\n",
    "for epoch in range(n_epochs):\n",
    "    running_loss = 0\n",
    "    for i, data in enumerate(train_loader):\n",
    "        inputs, targets = data\n",
    "        # wrap in Variable\n",
    "        inputs, targets = Variable(inputs.cuda()).type(dtype), Variable(targets.cuda()).type(dtype)\n",
    "\n",
    "        # in your training loop:\n",
    "        optimizer.zero_grad()   # zero the gradient buffers\n",
    "        \n",
    "        output = net(inputs)\n",
    "        loss = criterion(output, targets)\n",
    "        loss.backward()\n",
    "        optimizer.step()\n",
    "        running_loss += loss.data[0]\n",
    "    \n",
    "    try:\n",
    "        last_loss = loss_list[-1]\n",
    "    except:\n",
    "        last_loss = 9999999999999\n",
    "    if running_loss > (2*last_loss):\n",
    "        pass\n",
    "    else:\n",
    "        epoch_list.append(epoch)\n",
    "        loss_list.append(running_loss)\n",
    "    if epoch % 1 == 0:\n",
    "        plt.plot(epoch_list, loss_list)\n",
    "        plt.title(\"Epoch: {0}\".format(epoch))\n",
    "        fig.canvas.draw()\n",
    "    if (epoch >= 99) & ((epoch+1) % 20 == 0):\n",
    "        torch.save(net.state_dict(), save_path+'1.0.0_e{0}'.format(epoch+1))"
   ]
  },
  {
   "cell_type": "markdown",
   "metadata": {},
   "source": [
    "# get the weights and biases of the nn into np since at this size np is faster"
   ]
  },
  {
   "cell_type": "code",
   "execution_count": 8,
   "metadata": {
    "ExecuteTime": {
     "end_time": "2017-10-26T01:51:32.100878Z",
     "start_time": "2017-10-26T01:51:32.098059Z"
    },
    "collapsed": true
   },
   "outputs": [],
   "source": [
    "# np_hl1_weight = net.hl1.weight.data.numpy()\n",
    "# np_hl1_bias = net.hl1.bias.data.numpy()\n",
    "# np_hl2_weight = net.hl2.weight.data.numpy()\n",
    "# np_hl2_bias = net.hl2.bias.data.numpy()\n",
    "# np_out_weight = net.out.weight.data.numpy()\n",
    "# np_out_bias = net.out.bias.data.numpy()"
   ]
  },
  {
   "cell_type": "markdown",
   "metadata": {},
   "source": [
    "# check that they output the same and speedtest (pytorch was faster)"
   ]
  },
  {
   "cell_type": "code",
   "execution_count": 11,
   "metadata": {
    "ExecuteTime": {
     "end_time": "2017-10-27T21:15:59.751035Z",
     "start_time": "2017-10-27T21:15:59.743169Z"
    },
    "collapsed": true
   },
   "outputs": [],
   "source": [
    "# def np_version(df_inputs):\n",
    "#     np_hl1_z = df_inputs.dot(np_hl1_weight.T) + np_hl1_bias\n",
    "#     np_hl1_a = np.maximum(.01*np_hl1_z, np_hl1_z)\n",
    "#     np_hl2_z = np_hl1_a.dot(np_hl2_weight.T) + np_hl2_bias\n",
    "#     np_hl2_a = np.maximum(.01*np_hl2_z, np_hl2_z)\n",
    "#     np_out = np_hl2_a.dot(np_out_weight.T) + np_out_bias\n",
    "#     return np_out\n",
    "\n",
    "def torch_version(df_inputs, net):\n",
    "    input = Variable(torch.from_numpy(df_inputs.values)).type(dtype)\n",
    "    return np.round(net(input).data.cpu().numpy(),5)"
   ]
  },
  {
   "cell_type": "code",
   "execution_count": 90,
   "metadata": {
    "ExecuteTime": {
     "end_time": "2017-10-26T01:44:51.224859Z",
     "start_time": "2017-10-26T01:44:15.565487Z"
    }
   },
   "outputs": [
    {
     "name": "stdout",
     "output_type": "stream",
     "text": [
      "4.44 s ± 12.5 ms per loop (mean ± std. dev. of 7 runs, 1 loop each)\n"
     ]
    }
   ],
   "source": [
    "#%timeit np_version(standardized)"
   ]
  },
  {
   "cell_type": "code",
   "execution_count": 94,
   "metadata": {
    "ExecuteTime": {
     "end_time": "2017-10-26T01:45:53.135781Z",
     "start_time": "2017-10-26T01:45:30.830936Z"
    }
   },
   "outputs": [
    {
     "name": "stdout",
     "output_type": "stream",
     "text": [
      "2.78 s ± 28.9 ms per loop (mean ± std. dev. of 7 runs, 1 loop each)\n"
     ]
    }
   ],
   "source": [
    "%timeit torch_version(standardized, net)"
   ]
  },
  {
   "cell_type": "markdown",
   "metadata": {},
   "source": [
    "# Examine performance on test set"
   ]
  },
  {
   "cell_type": "code",
   "execution_count": 12,
   "metadata": {
    "ExecuteTime": {
     "end_time": "2017-10-27T21:16:24.163461Z",
     "start_time": "2017-10-27T21:16:22.621590Z"
    },
    "collapsed": true
   },
   "outputs": [],
   "source": [
    "store.open()\n",
    "test = store['test_filtered_columns']\n",
    "train = store['train_filtered_columns']\n",
    "loan_npv_rois = store['loan_npv_rois']\n",
    "default_series = test['target_strict']\n",
    "results = store['results']\n",
    "store.close()"
   ]
  },
  {
   "cell_type": "code",
   "execution_count": 13,
   "metadata": {
    "ExecuteTime": {
     "end_time": "2017-10-27T21:16:46.260665Z",
     "start_time": "2017-10-27T21:16:42.204035Z"
    }
   },
   "outputs": [],
   "source": [
    "train_X, train_y = data_prep.process_data_test(train)\n",
    "train_y = train_y['npv_roi_10'].values\n",
    "test_X, test_y = data_prep.process_data_test(test)\n",
    "test_y = test_y['npv_roi_10'].values\n",
    "# regr = joblib.load('model_dump/model_0.2.1.pkl')\n",
    "regr_version = '1.0.0'\n",
    "test_yhat = torch_version(test_X, net)\n",
    "train_yhat = torch_version(train_X, net)"
   ]
  },
  {
   "cell_type": "code",
   "execution_count": 14,
   "metadata": {
    "ExecuteTime": {
     "end_time": "2017-10-27T21:17:04.455441Z",
     "start_time": "2017-10-27T21:17:04.450941Z"
    },
    "collapsed": true
   },
   "outputs": [],
   "source": [
    "test_mse = mean_squared_error(test_yhat,test_y)\n",
    "train_mse = mean_squared_error(train_yhat,train_y)"
   ]
  },
  {
   "cell_type": "code",
   "execution_count": 17,
   "metadata": {
    "ExecuteTime": {
     "end_time": "2017-10-27T21:17:59.615422Z",
     "start_time": "2017-10-27T21:17:59.600037Z"
    },
    "collapsed": true
   },
   "outputs": [],
   "source": [
    "def eval_models_net(trials, port_size, available_loans, net, regr_version, test, loan_npv_rois,\n",
    "                default_series):\n",
    "    results = {}\n",
    "    pct_default = {}\n",
    "    test_copy = test.copy()\n",
    "    for trial in tqdm_notebook(np.arange(trials)):\n",
    "        loan_ids = np.random.choice(\n",
    "            test_copy.index.values, available_loans, replace=False)\n",
    "        loans_to_pick_from = test_copy.loc[loan_ids, :]\n",
    "        scores = torch_version(loans_to_pick_from, net)\n",
    "        scores_series = pd.Series(dict(zip(loan_ids, scores)))\n",
    "        scores_series.sort_values(ascending=False, inplace=True)\n",
    "        picks = scores_series[:900].index.values\n",
    "        results[trial] = loan_npv_rois.loc[picks, :].mean().to_dict()\n",
    "        pct_default[trial] = (default_series.loc[picks].sum()) / port_size\n",
    "    pct_default_series = pd.Series(pct_default)\n",
    "    results_df = pd.DataFrame(results).T\n",
    "    results_df['pct_def'] = pct_default_series\n",
    "    return results_df"
   ]
  },
  {
   "cell_type": "code",
   "execution_count": 18,
   "metadata": {
    "ExecuteTime": {
     "end_time": "2017-10-27T21:31:13.601010Z",
     "start_time": "2017-10-27T21:18:17.900272Z"
    }
   },
   "outputs": [
    {
     "data": {
      "application/vnd.jupyter.widget-view+json": {
       "model_id": "27e2edf4c9a947c8832feba0329f90f8",
       "version_major": 2,
       "version_minor": 0
      },
      "text/plain": [
       "A Jupyter Widget"
      ]
     },
     "metadata": {},
     "output_type": "display_data"
    },
    {
     "name": "stdout",
     "output_type": "stream",
     "text": [
      "\n"
     ]
    }
   ],
   "source": [
    "# as per done with baseline models, say 3000 loans available\n",
    "# , pick 900 of them\n",
    "trials = 20000\n",
    "port_size = 900\n",
    "available_loans = 3000\n",
    "model_results = eval_models_net(trials, port_size, available_loans, net, regr_version, test_X, loan_npv_rois, default_series)"
   ]
  },
  {
   "cell_type": "code",
   "execution_count": 19,
   "metadata": {
    "ExecuteTime": {
     "end_time": "2017-10-27T21:31:32.447023Z",
     "start_time": "2017-10-27T21:31:32.444644Z"
    },
    "collapsed": true
   },
   "outputs": [],
   "source": [
    "multi_index = []\n",
    "for col in model_results.columns.values:\n",
    "    multi_index.append((str(col),regr_version))"
   ]
  },
  {
   "cell_type": "code",
   "execution_count": 20,
   "metadata": {
    "ExecuteTime": {
     "end_time": "2017-10-27T21:31:51.319258Z",
     "start_time": "2017-10-27T21:31:51.312605Z"
    },
    "scrolled": true
   },
   "outputs": [],
   "source": [
    "append_results = model_results.copy()\n",
    "append_results.columns = pd.MultiIndex.from_tuples(multi_index, names = ['discount_rate', 'model'])"
   ]
  },
  {
   "cell_type": "code",
   "execution_count": 21,
   "metadata": {
    "ExecuteTime": {
     "end_time": "2017-10-27T21:32:10.353555Z",
     "start_time": "2017-10-27T21:32:10.349970Z"
    }
   },
   "outputs": [],
   "source": [
    "multi_index_results = []\n",
    "for col in results.columns.values:\n",
    "    multi_index_results.append((str(col[0]), col[1]))"
   ]
  },
  {
   "cell_type": "code",
   "execution_count": 22,
   "metadata": {
    "ExecuteTime": {
     "end_time": "2017-10-27T21:32:29.397949Z",
     "start_time": "2017-10-27T21:32:29.393941Z"
    }
   },
   "outputs": [],
   "source": [
    "results.columns = pd.MultiIndex.from_tuples(multi_index_results, names = ['discount_rate', 'model'])"
   ]
  },
  {
   "cell_type": "code",
   "execution_count": 23,
   "metadata": {
    "ExecuteTime": {
     "end_time": "2017-10-27T21:32:48.595537Z",
     "start_time": "2017-10-27T21:32:48.562808Z"
    },
    "collapsed": true
   },
   "outputs": [],
   "source": [
    "full_results = results.join(append_results)"
   ]
  },
  {
   "cell_type": "code",
   "execution_count": 24,
   "metadata": {
    "ExecuteTime": {
     "end_time": "2017-10-27T21:33:08.251357Z",
     "start_time": "2017-10-27T21:33:08.209747Z"
    },
    "collapsed": true
   },
   "outputs": [],
   "source": [
    "full_results.sort_index(axis=1, inplace=True)"
   ]
  },
  {
   "cell_type": "code",
   "execution_count": 25,
   "metadata": {
    "ExecuteTime": {
     "end_time": "2017-10-27T21:33:28.754536Z",
     "start_time": "2017-10-27T21:33:28.017463Z"
    }
   },
   "outputs": [
    {
     "data": {
      "text/html": [
       "<div>\n",
       "<style>\n",
       "    .dataframe thead tr:only-child th {\n",
       "        text-align: right;\n",
       "    }\n",
       "\n",
       "    .dataframe thead th {\n",
       "        text-align: left;\n",
       "    }\n",
       "\n",
       "    .dataframe tbody tr th {\n",
       "        vertical-align: top;\n",
       "    }\n",
       "</style>\n",
       "<table border=\"1\" class=\"dataframe\">\n",
       "  <thead>\n",
       "    <tr>\n",
       "      <th>discount_rate</th>\n",
       "      <th colspan=\"10\" halign=\"left\">0.05</th>\n",
       "      <th>...</th>\n",
       "      <th colspan=\"10\" halign=\"left\">pct_def</th>\n",
       "    </tr>\n",
       "    <tr>\n",
       "      <th>model</th>\n",
       "      <th>0.1.0</th>\n",
       "      <th>0.2.0</th>\n",
       "      <th>0.2.1</th>\n",
       "      <th>1.0.0</th>\n",
       "      <th>A</th>\n",
       "      <th>B</th>\n",
       "      <th>C</th>\n",
       "      <th>D</th>\n",
       "      <th>E</th>\n",
       "      <th>F</th>\n",
       "      <th>...</th>\n",
       "      <th>0.2.1</th>\n",
       "      <th>1.0.0</th>\n",
       "      <th>A</th>\n",
       "      <th>B</th>\n",
       "      <th>C</th>\n",
       "      <th>D</th>\n",
       "      <th>E</th>\n",
       "      <th>F</th>\n",
       "      <th>G</th>\n",
       "      <th>baseline</th>\n",
       "    </tr>\n",
       "  </thead>\n",
       "  <tbody>\n",
       "    <tr>\n",
       "      <th>count</th>\n",
       "      <td>20000.000000</td>\n",
       "      <td>20000.000000</td>\n",
       "      <td>20000.000000</td>\n",
       "      <td>20000.000000</td>\n",
       "      <td>20000.000000</td>\n",
       "      <td>20000.000000</td>\n",
       "      <td>20000.000000</td>\n",
       "      <td>20000.000000</td>\n",
       "      <td>20000.000000</td>\n",
       "      <td>20000.000000</td>\n",
       "      <td>...</td>\n",
       "      <td>20000.000000</td>\n",
       "      <td>20000.000000</td>\n",
       "      <td>20000.000000</td>\n",
       "      <td>20000.000000</td>\n",
       "      <td>20000.000000</td>\n",
       "      <td>20000.000000</td>\n",
       "      <td>20000.000000</td>\n",
       "      <td>20000.000000</td>\n",
       "      <td>20000.000000</td>\n",
       "      <td>20000.000000</td>\n",
       "    </tr>\n",
       "    <tr>\n",
       "      <th>mean</th>\n",
       "      <td>0.016549</td>\n",
       "      <td>0.029385</td>\n",
       "      <td>0.036553</td>\n",
       "      <td>0.042065</td>\n",
       "      <td>-0.017613</td>\n",
       "      <td>-0.016578</td>\n",
       "      <td>-0.054440</td>\n",
       "      <td>-0.077195</td>\n",
       "      <td>-0.127935</td>\n",
       "      <td>-0.151024</td>\n",
       "      <td>...</td>\n",
       "      <td>0.150301</td>\n",
       "      <td>0.151187</td>\n",
       "      <td>0.077550</td>\n",
       "      <td>0.147016</td>\n",
       "      <td>0.245868</td>\n",
       "      <td>0.323397</td>\n",
       "      <td>0.412263</td>\n",
       "      <td>0.466298</td>\n",
       "      <td>0.505860</td>\n",
       "      <td>0.224392</td>\n",
       "    </tr>\n",
       "    <tr>\n",
       "      <th>std</th>\n",
       "      <td>0.006255</td>\n",
       "      <td>0.006716</td>\n",
       "      <td>0.006856</td>\n",
       "      <td>0.006863</td>\n",
       "      <td>0.005413</td>\n",
       "      <td>0.007652</td>\n",
       "      <td>0.010059</td>\n",
       "      <td>0.011463</td>\n",
       "      <td>0.015734</td>\n",
       "      <td>0.027647</td>\n",
       "      <td>...</td>\n",
       "      <td>0.011764</td>\n",
       "      <td>0.011929</td>\n",
       "      <td>0.008750</td>\n",
       "      <td>0.011716</td>\n",
       "      <td>0.014238</td>\n",
       "      <td>0.015189</td>\n",
       "      <td>0.019076</td>\n",
       "      <td>0.031983</td>\n",
       "      <td>0.062399</td>\n",
       "      <td>0.013914</td>\n",
       "    </tr>\n",
       "    <tr>\n",
       "      <th>min</th>\n",
       "      <td>-0.013305</td>\n",
       "      <td>-0.000237</td>\n",
       "      <td>0.010137</td>\n",
       "      <td>0.011338</td>\n",
       "      <td>-0.040668</td>\n",
       "      <td>-0.051817</td>\n",
       "      <td>-0.094395</td>\n",
       "      <td>-0.127970</td>\n",
       "      <td>-0.194479</td>\n",
       "      <td>-0.258331</td>\n",
       "      <td>...</td>\n",
       "      <td>0.107778</td>\n",
       "      <td>0.106667</td>\n",
       "      <td>0.043333</td>\n",
       "      <td>0.103333</td>\n",
       "      <td>0.187778</td>\n",
       "      <td>0.262222</td>\n",
       "      <td>0.338211</td>\n",
       "      <td>0.340708</td>\n",
       "      <td>0.266667</td>\n",
       "      <td>0.173333</td>\n",
       "    </tr>\n",
       "    <tr>\n",
       "      <th>25%</th>\n",
       "      <td>0.012379</td>\n",
       "      <td>0.024946</td>\n",
       "      <td>0.031949</td>\n",
       "      <td>0.037518</td>\n",
       "      <td>-0.021212</td>\n",
       "      <td>-0.021723</td>\n",
       "      <td>-0.061223</td>\n",
       "      <td>-0.085046</td>\n",
       "      <td>-0.138476</td>\n",
       "      <td>-0.169609</td>\n",
       "      <td>...</td>\n",
       "      <td>0.142222</td>\n",
       "      <td>0.143333</td>\n",
       "      <td>0.071111</td>\n",
       "      <td>0.138889</td>\n",
       "      <td>0.236667</td>\n",
       "      <td>0.313333</td>\n",
       "      <td>0.400000</td>\n",
       "      <td>0.442478</td>\n",
       "      <td>0.466667</td>\n",
       "      <td>0.214444</td>\n",
       "    </tr>\n",
       "    <tr>\n",
       "      <th>50%</th>\n",
       "      <td>0.016605</td>\n",
       "      <td>0.029465</td>\n",
       "      <td>0.036679</td>\n",
       "      <td>0.042156</td>\n",
       "      <td>-0.017530</td>\n",
       "      <td>-0.016529</td>\n",
       "      <td>-0.054440</td>\n",
       "      <td>-0.077187</td>\n",
       "      <td>-0.127936</td>\n",
       "      <td>-0.150864</td>\n",
       "      <td>...</td>\n",
       "      <td>0.150000</td>\n",
       "      <td>0.151111</td>\n",
       "      <td>0.077778</td>\n",
       "      <td>0.146667</td>\n",
       "      <td>0.245556</td>\n",
       "      <td>0.323333</td>\n",
       "      <td>0.413008</td>\n",
       "      <td>0.464602</td>\n",
       "      <td>0.500000</td>\n",
       "      <td>0.224444</td>\n",
       "    </tr>\n",
       "    <tr>\n",
       "      <th>75%</th>\n",
       "      <td>0.020790</td>\n",
       "      <td>0.033923</td>\n",
       "      <td>0.041245</td>\n",
       "      <td>0.046673</td>\n",
       "      <td>-0.013927</td>\n",
       "      <td>-0.011411</td>\n",
       "      <td>-0.047614</td>\n",
       "      <td>-0.069438</td>\n",
       "      <td>-0.117300</td>\n",
       "      <td>-0.132045</td>\n",
       "      <td>...</td>\n",
       "      <td>0.157778</td>\n",
       "      <td>0.158889</td>\n",
       "      <td>0.083333</td>\n",
       "      <td>0.154444</td>\n",
       "      <td>0.255556</td>\n",
       "      <td>0.333333</td>\n",
       "      <td>0.424390</td>\n",
       "      <td>0.486726</td>\n",
       "      <td>0.550000</td>\n",
       "      <td>0.233333</td>\n",
       "    </tr>\n",
       "    <tr>\n",
       "      <th>max</th>\n",
       "      <td>0.038833</td>\n",
       "      <td>0.056551</td>\n",
       "      <td>0.061867</td>\n",
       "      <td>0.066992</td>\n",
       "      <td>0.002303</td>\n",
       "      <td>0.012748</td>\n",
       "      <td>-0.016699</td>\n",
       "      <td>-0.029709</td>\n",
       "      <td>-0.059445</td>\n",
       "      <td>-0.032486</td>\n",
       "      <td>...</td>\n",
       "      <td>0.195556</td>\n",
       "      <td>0.202222</td>\n",
       "      <td>0.115556</td>\n",
       "      <td>0.192222</td>\n",
       "      <td>0.305556</td>\n",
       "      <td>0.386667</td>\n",
       "      <td>0.484553</td>\n",
       "      <td>0.597345</td>\n",
       "      <td>0.750000</td>\n",
       "      <td>0.281111</td>\n",
       "    </tr>\n",
       "  </tbody>\n",
       "</table>\n",
       "<p>8 rows × 384 columns</p>\n",
       "</div>"
      ],
      "text/plain": [
       "discount_rate          0.05                                            \\\n",
       "model                 0.1.0         0.2.0         0.2.1         1.0.0   \n",
       "count          20000.000000  20000.000000  20000.000000  20000.000000   \n",
       "mean               0.016549      0.029385      0.036553      0.042065   \n",
       "std                0.006255      0.006716      0.006856      0.006863   \n",
       "min               -0.013305     -0.000237      0.010137      0.011338   \n",
       "25%                0.012379      0.024946      0.031949      0.037518   \n",
       "50%                0.016605      0.029465      0.036679      0.042156   \n",
       "75%                0.020790      0.033923      0.041245      0.046673   \n",
       "max                0.038833      0.056551      0.061867      0.066992   \n",
       "\n",
       "discount_rate                                                          \\\n",
       "model                     A             B             C             D   \n",
       "count          20000.000000  20000.000000  20000.000000  20000.000000   \n",
       "mean              -0.017613     -0.016578     -0.054440     -0.077195   \n",
       "std                0.005413      0.007652      0.010059      0.011463   \n",
       "min               -0.040668     -0.051817     -0.094395     -0.127970   \n",
       "25%               -0.021212     -0.021723     -0.061223     -0.085046   \n",
       "50%               -0.017530     -0.016529     -0.054440     -0.077187   \n",
       "75%               -0.013927     -0.011411     -0.047614     -0.069438   \n",
       "max                0.002303      0.012748     -0.016699     -0.029709   \n",
       "\n",
       "discount_rate                                  ...            pct_def  \\\n",
       "model                     E             F      ...              0.2.1   \n",
       "count          20000.000000  20000.000000      ...       20000.000000   \n",
       "mean              -0.127935     -0.151024      ...           0.150301   \n",
       "std                0.015734      0.027647      ...           0.011764   \n",
       "min               -0.194479     -0.258331      ...           0.107778   \n",
       "25%               -0.138476     -0.169609      ...           0.142222   \n",
       "50%               -0.127936     -0.150864      ...           0.150000   \n",
       "75%               -0.117300     -0.132045      ...           0.157778   \n",
       "max               -0.059445     -0.032486      ...           0.195556   \n",
       "\n",
       "discount_rate                                                          \\\n",
       "model                 1.0.0             A             B             C   \n",
       "count          20000.000000  20000.000000  20000.000000  20000.000000   \n",
       "mean               0.151187      0.077550      0.147016      0.245868   \n",
       "std                0.011929      0.008750      0.011716      0.014238   \n",
       "min                0.106667      0.043333      0.103333      0.187778   \n",
       "25%                0.143333      0.071111      0.138889      0.236667   \n",
       "50%                0.151111      0.077778      0.146667      0.245556   \n",
       "75%                0.158889      0.083333      0.154444      0.255556   \n",
       "max                0.202222      0.115556      0.192222      0.305556   \n",
       "\n",
       "discount_rate                                                          \\\n",
       "model                     D             E             F             G   \n",
       "count          20000.000000  20000.000000  20000.000000  20000.000000   \n",
       "mean               0.323397      0.412263      0.466298      0.505860   \n",
       "std                0.015189      0.019076      0.031983      0.062399   \n",
       "min                0.262222      0.338211      0.340708      0.266667   \n",
       "25%                0.313333      0.400000      0.442478      0.466667   \n",
       "50%                0.323333      0.413008      0.464602      0.500000   \n",
       "75%                0.333333      0.424390      0.486726      0.550000   \n",
       "max                0.386667      0.484553      0.597345      0.750000   \n",
       "\n",
       "discount_rate                \n",
       "model              baseline  \n",
       "count          20000.000000  \n",
       "mean               0.224392  \n",
       "std                0.013914  \n",
       "min                0.173333  \n",
       "25%                0.214444  \n",
       "50%                0.224444  \n",
       "75%                0.233333  \n",
       "max                0.281111  \n",
       "\n",
       "[8 rows x 384 columns]"
      ]
     },
     "execution_count": 25,
     "metadata": {},
     "output_type": "execute_result"
    }
   ],
   "source": [
    "full_results.describe()"
   ]
  },
  {
   "cell_type": "code",
   "execution_count": 36,
   "metadata": {
    "ExecuteTime": {
     "end_time": "2017-10-27T21:51:58.986730Z",
     "start_time": "2017-10-27T21:51:58.859711Z"
    }
   },
   "outputs": [],
   "source": [
    "store.open()\n",
    "store['results'] = results\n",
    "model_info = store['model_info']\n",
    "store.close()"
   ]
  },
  {
   "cell_type": "markdown",
   "metadata": {},
   "source": [
    "# Making model info and saving it"
   ]
  },
  {
   "cell_type": "code",
   "execution_count": 27,
   "metadata": {
    "ExecuteTime": {
     "end_time": "2017-10-27T21:36:21.784968Z",
     "start_time": "2017-10-27T21:36:21.780695Z"
    }
   },
   "outputs": [
    {
     "data": {
      "text/plain": [
       "['model_dump/mean_stddev.pkl']"
      ]
     },
     "execution_count": 27,
     "metadata": {},
     "output_type": "execute_result"
    }
   ],
   "source": [
    "# dump the model\n",
    "# joblib.dump(regr, 'model_dump/model_0.2.1.pkl')\n",
    "joblib.dump((mean_series, std_dev_series), 'model_dump/mean_stddev.pkl')"
   ]
  },
  {
   "cell_type": "code",
   "execution_count": 28,
   "metadata": {
    "ExecuteTime": {
     "end_time": "2017-10-27T21:36:41.438415Z",
     "start_time": "2017-10-27T21:36:41.436047Z"
    }
   },
   "outputs": [
    {
     "data": {
      "text/plain": [
       "0.067932031726750816"
      ]
     },
     "execution_count": 28,
     "metadata": {},
     "output_type": "execute_result"
    }
   ],
   "source": [
    "test_mse"
   ]
  },
  {
   "cell_type": "code",
   "execution_count": 29,
   "metadata": {
    "ExecuteTime": {
     "end_time": "2017-10-27T21:37:01.123444Z",
     "start_time": "2017-10-27T21:37:01.120399Z"
    }
   },
   "outputs": [
    {
     "data": {
      "text/plain": [
       "0.066403270916424853"
      ]
     },
     "execution_count": 29,
     "metadata": {},
     "output_type": "execute_result"
    }
   ],
   "source": [
    "train_mse"
   ]
  },
  {
   "cell_type": "code",
   "execution_count": 31,
   "metadata": {
    "ExecuteTime": {
     "end_time": "2017-10-27T21:50:02.188014Z",
     "start_time": "2017-10-27T21:50:02.183673Z"
    }
   },
   "outputs": [],
   "source": [
    "now = time.strftime(\"%Y_%m_%d_%Hh_%Mm_%Ss\")\n",
    "# info to stick in detailed dataframe describing each model\n",
    "model_info_dict = {'model_version': '1.0.0',\n",
    "              'target': 'npv_roi_10',\n",
    "              'weights': 'None',\n",
    "              'algo_model': 'feedforward NN',\n",
    "              'hyperparams': \"nn_input_dim = 223, hly1_n = 300, hly2_n = 400, hly3_n = 300, hly4_n = 100, nn_output_dim = 1, optimizer = optim.Adam(net.parameters(), lr=0.001, weight_decay=0.001)\",\n",
    "              'cost_func': 'criterion = nn.MSELoss(),',\n",
    "              'useful_notes': 'test_mse: 0.067932, train_mse: 0.066403, epoch_500',\n",
    "              'date': now}\n",
    "\n",
    "model_info_df = pd.DataFrame(model_info_dict, index = ['1.0.0'])"
   ]
  },
  {
   "cell_type": "code",
   "execution_count": 40,
   "metadata": {
    "ExecuteTime": {
     "end_time": "2017-10-27T21:53:14.929057Z",
     "start_time": "2017-10-27T21:53:14.924407Z"
    }
   },
   "outputs": [],
   "source": [
    "model_info.ix['1.0.0',:] = model_info_df.values"
   ]
  },
  {
   "cell_type": "code",
   "execution_count": 41,
   "metadata": {
    "ExecuteTime": {
     "end_time": "2017-10-27T21:53:35.365352Z",
     "start_time": "2017-10-27T21:53:35.363050Z"
    }
   },
   "outputs": [],
   "source": [
    "model_info.sort_index(inplace=True)"
   ]
  },
  {
   "cell_type": "code",
   "execution_count": 42,
   "metadata": {
    "ExecuteTime": {
     "end_time": "2017-10-27T21:53:55.541405Z",
     "start_time": "2017-10-27T21:53:55.532432Z"
    }
   },
   "outputs": [
    {
     "data": {
      "text/html": [
       "<div>\n",
       "<style>\n",
       "    .dataframe thead tr:only-child th {\n",
       "        text-align: right;\n",
       "    }\n",
       "\n",
       "    .dataframe thead th {\n",
       "        text-align: left;\n",
       "    }\n",
       "\n",
       "    .dataframe tbody tr th {\n",
       "        vertical-align: top;\n",
       "    }\n",
       "</style>\n",
       "<table border=\"1\" class=\"dataframe\">\n",
       "  <thead>\n",
       "    <tr style=\"text-align: right;\">\n",
       "      <th></th>\n",
       "      <th>algo_model</th>\n",
       "      <th>cost_func</th>\n",
       "      <th>date</th>\n",
       "      <th>hyperparams</th>\n",
       "      <th>model_version</th>\n",
       "      <th>target</th>\n",
       "      <th>useful_notes</th>\n",
       "      <th>weights</th>\n",
       "    </tr>\n",
       "  </thead>\n",
       "  <tbody>\n",
       "    <tr>\n",
       "      <th>0.1.0</th>\n",
       "      <td>elastic_net</td>\n",
       "      <td>sklearn default, which I think is mse</td>\n",
       "      <td>2017_08_21_18h_49m_37s</td>\n",
       "      <td>alpha:.004, random_state: 0, max_iter: 1500</td>\n",
       "      <td>0.1.0</td>\n",
       "      <td>npv_roi_10</td>\n",
       "      <td>R2 score of .0604167 (regr.score())</td>\n",
       "      <td>None</td>\n",
       "    </tr>\n",
       "    <tr>\n",
       "      <th>0.2.0</th>\n",
       "      <td>RF_regr</td>\n",
       "      <td>sklearn default, which I think is mse</td>\n",
       "      <td>2017_08_21_01h_46m_49s</td>\n",
       "      <td>n_estimators=20,random_state=0,max_features=10...</td>\n",
       "      <td>0.2.0</td>\n",
       "      <td>npv_roi_10</td>\n",
       "      <td>R2 score of .199350 (regr.score())</td>\n",
       "      <td>None</td>\n",
       "    </tr>\n",
       "    <tr>\n",
       "      <th>0.2.1</th>\n",
       "      <td>RF_regr</td>\n",
       "      <td>sklearn default, which I think is mse</td>\n",
       "      <td>2017_08_21_16h_01m_37s</td>\n",
       "      <td>bootstrap=True, criterion='mse', max_depth=Non...</td>\n",
       "      <td>0.2.1</td>\n",
       "      <td>npv_roi_10</td>\n",
       "      <td>R2 score of .3830649 (regr.score())</td>\n",
       "      <td>None</td>\n",
       "    </tr>\n",
       "    <tr>\n",
       "      <th>1.0.0</th>\n",
       "      <td>feedforward NN</td>\n",
       "      <td>criterion = nn.MSELoss(),</td>\n",
       "      <td>2017_10_27_14h_50m_02s</td>\n",
       "      <td>nn_input_dim = 223, hly1_n = 300, hly2_n = 400...</td>\n",
       "      <td>1.0.0</td>\n",
       "      <td>npv_roi_10</td>\n",
       "      <td>test_mse: 0.067932, train_mse: 0.066403, epoch...</td>\n",
       "      <td>None</td>\n",
       "    </tr>\n",
       "  </tbody>\n",
       "</table>\n",
       "</div>"
      ],
      "text/plain": [
       "           algo_model                              cost_func  \\\n",
       "0.1.0     elastic_net  sklearn default, which I think is mse   \n",
       "0.2.0         RF_regr  sklearn default, which I think is mse   \n",
       "0.2.1         RF_regr  sklearn default, which I think is mse   \n",
       "1.0.0  feedforward NN              criterion = nn.MSELoss(),   \n",
       "\n",
       "                         date  \\\n",
       "0.1.0  2017_08_21_18h_49m_37s   \n",
       "0.2.0  2017_08_21_01h_46m_49s   \n",
       "0.2.1  2017_08_21_16h_01m_37s   \n",
       "1.0.0  2017_10_27_14h_50m_02s   \n",
       "\n",
       "                                             hyperparams model_version  \\\n",
       "0.1.0        alpha:.004, random_state: 0, max_iter: 1500         0.1.0   \n",
       "0.2.0  n_estimators=20,random_state=0,max_features=10...         0.2.0   \n",
       "0.2.1  bootstrap=True, criterion='mse', max_depth=Non...         0.2.1   \n",
       "1.0.0  nn_input_dim = 223, hly1_n = 300, hly2_n = 400...         1.0.0   \n",
       "\n",
       "           target                                       useful_notes weights  \n",
       "0.1.0  npv_roi_10                R2 score of .0604167 (regr.score())    None  \n",
       "0.2.0  npv_roi_10                 R2 score of .199350 (regr.score())    None  \n",
       "0.2.1  npv_roi_10                R2 score of .3830649 (regr.score())    None  \n",
       "1.0.0  npv_roi_10  test_mse: 0.067932, train_mse: 0.066403, epoch...    None  "
      ]
     },
     "execution_count": 42,
     "metadata": {},
     "output_type": "execute_result"
    }
   ],
   "source": [
    "model_info"
   ]
  },
  {
   "cell_type": "code",
   "execution_count": 43,
   "metadata": {
    "ExecuteTime": {
     "end_time": "2017-10-27T21:54:43.903242Z",
     "start_time": "2017-10-27T21:54:43.899882Z"
    },
    "collapsed": true
   },
   "outputs": [],
   "source": [
    "# check if this cell should be run. Temp quick fix"
   ]
  },
  {
   "cell_type": "code",
   "execution_count": 44,
   "metadata": {
    "ExecuteTime": {
     "end_time": "2017-10-27T21:55:04.136807Z",
     "start_time": "2017-10-27T21:55:04.075533Z"
    },
    "collapsed": true
   },
   "outputs": [],
   "source": [
    "store.open()\n",
    "store.append(\n",
    "            'model_info',\n",
    "            model_info,\n",
    "            data_columns=True,\n",
    "            index=True,\n",
    "            append=False,\n",
    ")\n",
    "store.close()"
   ]
  },
  {
   "cell_type": "code",
   "execution_count": null,
   "metadata": {
    "collapsed": true
   },
   "outputs": [],
   "source": [
    "# try:\n",
    "#     results = results.join(append_results)\n",
    "# except ValueError:\n",
    "#     results.loc[:, (slice(None), slice('1.0.0','1.0.0'))] = append_results\n",
    "# results.sort_index(axis=1, inplace = True)"
   ]
  }
 ],
 "metadata": {
  "kernelspec": {
   "display_name": "Python 3",
   "language": "python",
   "name": "python3"
  },
  "language_info": {
   "codemirror_mode": {
    "name": "ipython",
    "version": 3
   },
   "file_extension": ".py",
   "mimetype": "text/x-python",
   "name": "python",
   "nbconvert_exporter": "python",
   "pygments_lexer": "ipython3",
   "version": "3.6.3"
  },
  "notify_time": "30",
  "varInspector": {
   "cols": {
    "lenName": 16,
    "lenType": 16,
    "lenVar": 40
   },
   "kernels_config": {
    "python": {
     "delete_cmd_postfix": "",
     "delete_cmd_prefix": "del ",
     "library": "var_list.py",
     "varRefreshCmd": "print(var_dic_list())"
    },
    "r": {
     "delete_cmd_postfix": ") ",
     "delete_cmd_prefix": "rm(",
     "library": "var_list.r",
     "varRefreshCmd": "cat(var_dic_list()) "
    }
   },
   "position": {
    "height": "711px",
    "left": "200px",
    "right": "440px",
    "top": "-12px",
    "width": "800px"
   },
   "types_to_exclude": [
    "module",
    "function",
    "builtin_function_or_method",
    "instance",
    "_Feature"
   ],
   "window_display": false
  }
 },
 "nbformat": 4,
 "nbformat_minor": 2
}
