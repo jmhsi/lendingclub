{
 "cells": [
  {
   "cell_type": "code",
   "execution_count": 1,
   "metadata": {
    "ExecuteTime": {
     "end_time": "2017-11-01T03:56:24.777575Z",
     "start_time": "2017-11-01T03:56:24.770079Z"
    },
    "collapsed": true
   },
   "outputs": [],
   "source": [
    "import dir_constants as dc\n",
    "from tqdm import tqdm_notebook"
   ]
  },
  {
   "cell_type": "code",
   "execution_count": 2,
   "metadata": {
    "ExecuteTime": {
     "end_time": "2017-11-01T03:56:25.442072Z",
     "start_time": "2017-11-01T03:56:25.387442Z"
    },
    "collapsed": true
   },
   "outputs": [],
   "source": [
    "platform = 'lendingclub'\n",
    "\n",
    "store = pd.HDFStore(\n",
    "    dc.home_path+'/justin_tinkering/data_science/lendingclub/{0}_store.h5'.\n",
    "    format(platform),\n",
    "    append=True)"
   ]
  },
  {
   "cell_type": "code",
   "execution_count": 3,
   "metadata": {
    "ExecuteTime": {
     "end_time": "2017-11-01T03:56:29.002177Z",
     "start_time": "2017-11-01T03:56:28.670695Z"
    },
    "collapsed": true
   },
   "outputs": [],
   "source": [
    "# some setups for code block below\n",
    "pmt_hist_ids = store['pmt_hist_ids'].astype(int)\n",
    "max_id = pmt_hist_ids.max()\n",
    "chunksize = 800\n",
    "n_chunks = len(pmt_hist_ids)//chunksize + 1\n",
    "\n",
    "interesting_cols_over_time = [\n",
    "    'outs_princp_beg',\n",
    "    'all_cash_to_inv',\n",
    "    'date',\n",
    "    'fico_last',\n",
    "    'm_on_books',\n",
    "    'status_period_end',\n",
    "    'loan_id',\n",
    "    'loan_id_num',\n",
    "]\n",
    "\n",
    "disc_rates = np.arange(.05,.36,.01)"
   ]
  },
  {
   "cell_type": "code",
   "execution_count": 4,
   "metadata": {
    "ExecuteTime": {
     "end_time": "2017-11-01T04:15:31.259568Z",
     "start_time": "2017-11-01T03:56:32.021609Z"
    }
   },
   "outputs": [
    {
     "data": {
      "application/vnd.jupyter.widget-view+json": {
       "model_id": "9927b1676ba74d5bac96ccf1e9ee74c3",
       "version_major": 2,
       "version_minor": 0
      },
      "text/plain": [
       "A Jupyter Widget"
      ]
     },
     "metadata": {},
     "output_type": "display_data"
    },
    {
     "name": "stdout",
     "output_type": "stream",
     "text": [
      "\n"
     ]
    }
   ],
   "source": [
    "printed_cols = set()\n",
    "npv_roi_holder = {}\n",
    "for n in tqdm_notebook(np.arange(n_chunks)):\n",
    "    if n == 0:\n",
    "        left_bound = 0\n",
    "    else:\n",
    "        left_bound = pmt_hist_ids[n*chunksize]\n",
    "    if n == (n_chunks - 1):\n",
    "        right_bound = max_id\n",
    "    else:\n",
    "        right_bound = pmt_hist_ids[(n+1)*chunksize]\n",
    "    \n",
    "    chunk = pd.read_hdf(\n",
    "        store,\n",
    "        'pmt_hist_intermediary_2',\n",
    "        where='(loan_id_num > left_bound) & (loan_id_num <= right_bound)',\n",
    "        columns = interesting_cols_over_time)\n",
    "    \n",
    "    id_grouped = chunk.groupby('loan_id')\n",
    "    for ids, group in id_grouped:\n",
    "        npv_roi_dict = {}\n",
    "        funded = group.iat[0,0]\n",
    "        cfs = [-funded] + group['all_cash_to_inv'].tolist()\n",
    "        for rate in disc_rates:\n",
    "            npv_roi_dict[rate] = np.npv(rate/12, cfs)/funded\n",
    "        npv_roi_holder[ids] = npv_roi_dict"
   ]
  },
  {
   "cell_type": "code",
   "execution_count": 5,
   "metadata": {
    "ExecuteTime": {
     "end_time": "2017-11-01T04:19:33.165171Z",
     "start_time": "2017-11-01T04:18:33.977950Z"
    },
    "collapsed": true
   },
   "outputs": [],
   "source": [
    "npv_roi_df = pd.DataFrame(npv_roi_holder).T\n",
    "npv_roi_df.columns = npv_roi_df.columns.values.round(2)"
   ]
  },
  {
   "cell_type": "code",
   "execution_count": 7,
   "metadata": {
    "ExecuteTime": {
     "end_time": "2017-11-01T04:26:06.340625Z",
     "start_time": "2017-11-01T04:26:05.080149Z"
    },
    "collapsed": true
   },
   "outputs": [],
   "source": [
    "store['loan_npv_rois'] = npv_roi_df\n",
    "store.close()"
   ]
  },
  {
   "cell_type": "code",
   "execution_count": null,
   "metadata": {
    "collapsed": true
   },
   "outputs": [],
   "source": []
  },
  {
   "cell_type": "code",
   "execution_count": null,
   "metadata": {
    "collapsed": true
   },
   "outputs": [],
   "source": []
  }
 ],
 "metadata": {
  "kernelspec": {
   "display_name": "Python 3",
   "language": "python",
   "name": "python3"
  },
  "notify_time": "5",
  "varInspector": {
   "cols": {
    "lenName": 16,
    "lenType": 16,
    "lenVar": 40
   },
   "kernels_config": {
    "python": {
     "delete_cmd_postfix": "",
     "delete_cmd_prefix": "del ",
     "library": "var_list.py",
     "varRefreshCmd": "print(var_dic_list())"
    },
    "r": {
     "delete_cmd_postfix": ") ",
     "delete_cmd_prefix": "rm(",
     "library": "var_list.r",
     "varRefreshCmd": "cat(var_dic_list()) "
    }
   },
   "types_to_exclude": [
    "module",
    "function",
    "builtin_function_or_method",
    "instance",
    "_Feature"
   ],
   "window_display": false
  }
 },
 "nbformat": 4,
 "nbformat_minor": 2
}
