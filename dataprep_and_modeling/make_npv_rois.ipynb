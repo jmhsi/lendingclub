{
 "cells": [
  {
   "cell_type": "code",
   "execution_count": 12,
   "metadata": {
    "ExecuteTime": {
     "end_time": "2018-03-01T22:23:03.516909Z",
     "start_time": "2018-03-01T22:23:03.502659Z"
    }
   },
   "outputs": [],
   "source": [
    "import dir_constants as dc\n",
    "from tqdm import tqdm_notebook\n",
    "import time"
   ]
  },
  {
   "cell_type": "code",
   "execution_count": 2,
   "metadata": {
    "ExecuteTime": {
     "end_time": "2018-03-01T22:12:56.863904Z",
     "start_time": "2018-03-01T22:12:23.266824Z"
    }
   },
   "outputs": [],
   "source": [
    "platform = 'lendingclub'\n",
    "\n",
    "store = pd.HDFStore('/home/justin/lendingclub.h5',append=True)\n",
    "pmt_hist = store['pmt_hist_ready']\n",
    "store.close()"
   ]
  },
  {
   "cell_type": "code",
   "execution_count": 4,
   "metadata": {
    "ExecuteTime": {
     "end_time": "2018-03-01T22:13:25.457510Z",
     "start_time": "2018-03-01T22:13:25.193913Z"
    }
   },
   "outputs": [],
   "source": [
    "# some setups for code block below\n",
    "pmt_hist_ids = pmt_hist['loan_id'].astype(int)\n",
    "max_id = pmt_hist_ids.max()\n",
    "chunksize = 800\n",
    "n_chunks = len(pmt_hist_ids)//chunksize + 1\n",
    "\n",
    "interesting_cols_over_time = [\n",
    "    'outs_princp_beg',\n",
    "    'all_cash_to_inv',\n",
    "    'date',\n",
    "    'fico_last',\n",
    "    'm_on_books',\n",
    "    'status_period_end',\n",
    "    'loan_id',\n",
    "]\n",
    "\n",
    "disc_rates = [.07]#np.arange(.05,.36,.01)"
   ]
  },
  {
   "cell_type": "code",
   "execution_count": 5,
   "metadata": {
    "ExecuteTime": {
     "end_time": "2018-03-01T22:13:26.170271Z",
     "start_time": "2018-03-01T22:13:25.767249Z"
    }
   },
   "outputs": [],
   "source": [
    "pmt_hist = pmt_hist[interesting_cols_over_time]"
   ]
  },
  {
   "cell_type": "code",
   "execution_count": 22,
   "metadata": {
    "ExecuteTime": {
     "end_time": "2018-03-01T22:35:55.234108Z",
     "start_time": "2018-03-01T22:25:12.392222Z"
    },
    "scrolled": true
   },
   "outputs": [
    {
     "name": "stdout",
     "output_type": "stream",
     "text": [
      "2.9654183387756348\n",
      "6.845083475112915\n",
      "10.59197449684143\n",
      "14.356499195098877\n",
      "18.50809907913208\n",
      "22.300944328308105\n",
      "26.18256950378418\n",
      "30.081371068954468\n",
      "33.90814161300659\n",
      "37.76029324531555\n",
      "41.733572483062744\n",
      "45.57996368408203\n",
      "49.35684394836426\n",
      "53.345433950424194\n",
      "57.22968530654907\n",
      "61.170145750045776\n",
      "65.02333569526672\n",
      "68.85399961471558\n",
      "72.69620275497437\n",
      "76.64130711555481\n",
      "80.58393478393555\n",
      "84.44846153259277\n",
      "88.3788571357727\n",
      "92.18458414077759\n",
      "95.96855545043945\n",
      "99.83124351501465\n",
      "103.81852769851685\n",
      "107.69868755340576\n",
      "111.68504166603088\n",
      "115.50619983673096\n",
      "119.37564206123352\n",
      "123.22204947471619\n",
      "127.01842188835144\n",
      "130.99366068840027\n",
      "134.94616985321045\n",
      "138.81997060775757\n",
      "142.79558753967285\n",
      "146.59764695167542\n",
      "150.49200201034546\n",
      "154.32513785362244\n",
      "158.36717915534973\n",
      "162.29710817337036\n",
      "166.1970031261444\n",
      "170.0865762233734\n",
      "173.930504322052\n",
      "177.97809505462646\n",
      "181.9148395061493\n",
      "185.7598729133606\n",
      "189.59403467178345\n",
      "193.36831402778625\n",
      "197.18681144714355\n",
      "201.05986547470093\n",
      "205.00990843772888\n",
      "208.82778692245483\n",
      "212.7555375099182\n",
      "216.71695518493652\n",
      "220.61038637161255\n",
      "224.44413113594055\n",
      "228.39678692817688\n",
      "232.23037385940552\n",
      "236.10042881965637\n",
      "240.0277168750763\n",
      "243.8758203983307\n",
      "247.89718627929688\n",
      "251.79647588729858\n",
      "255.6959512233734\n",
      "259.5407671928406\n",
      "263.4261682033539\n",
      "267.2803738117218\n",
      "271.3415946960449\n",
      "275.2214217185974\n",
      "278.9748589992523\n",
      "282.8261168003082\n",
      "286.69720578193665\n",
      "290.7089202404022\n",
      "294.6320779323578\n",
      "298.47429370880127\n",
      "302.40341091156006\n",
      "306.3295397758484\n",
      "310.2229018211365\n",
      "314.0833523273468\n",
      "317.911559343338\n",
      "321.88911390304565\n",
      "325.7624876499176\n",
      "329.5538411140442\n",
      "333.47749876976013\n",
      "337.35836029052734\n",
      "341.2856180667877\n",
      "345.2957832813263\n",
      "349.0975797176361\n",
      "352.99030470848083\n",
      "356.809463262558\n",
      "360.654128074646\n",
      "364.69625639915466\n",
      "368.7060797214508\n",
      "372.4733657836914\n",
      "376.3417384624481\n",
      "380.3002812862396\n",
      "384.29257893562317\n",
      "388.3199989795685\n",
      "392.24415493011475\n",
      "396.0882225036621\n",
      "400.01370215415955\n",
      "403.99917674064636\n",
      "407.8391227722168\n",
      "411.75005626678467\n",
      "415.53994393348694\n",
      "419.39553117752075\n",
      "423.1894881725311\n",
      "427.0894260406494\n",
      "430.9236717224121\n",
      "434.86416244506836\n",
      "438.7104630470276\n",
      "442.57867908477783\n",
      "446.42330980300903\n",
      "450.384015083313\n",
      "454.26600098609924\n",
      "458.1147050857544\n",
      "461.91555762290955\n",
      "465.6683053970337\n",
      "469.5121808052063\n",
      "473.32196855545044\n",
      "477.23608660697937\n",
      "481.0423831939697\n",
      "484.91730213165283\n",
      "488.631751537323\n",
      "492.54061460494995\n",
      "496.5396158695221\n",
      "500.9354131221771\n",
      "504.7577974796295\n",
      "508.62043046951294\n",
      "512.488611459732\n",
      "516.2957046031952\n",
      "520.1855847835541\n",
      "524.2716805934906\n",
      "528.0715215206146\n",
      "531.8546283245087\n",
      "535.6560537815094\n",
      "539.6010150909424\n",
      "543.526691198349\n",
      "547.5668790340424\n",
      "551.3658397197723\n",
      "555.2657580375671\n",
      "559.0784058570862\n",
      "562.9029176235199\n",
      "566.7568228244781\n",
      "570.6552307605743\n",
      "574.5883293151855\n",
      "578.4488620758057\n",
      "582.1807999610901\n",
      "585.9990544319153\n",
      "589.8741202354431\n",
      "593.7869808673859\n",
      "597.5569899082184\n",
      "601.4431719779968\n",
      "605.1890013217926\n",
      "609.0695405006409\n",
      "613.0058217048645\n",
      "616.7535560131073\n",
      "620.5999522209167\n",
      "624.5128796100616\n",
      "628.309369802475\n",
      "632.1738607883453\n",
      "636.2661697864532\n",
      "640.1327641010284\n"
     ]
    }
   ],
   "source": [
    "id_grouped = pmt_hist.groupby('loan_id')\n",
    "start_time = time.time()\n",
    "npv_roi_holder = {}\n",
    "k = 0\n",
    "for ids, group in id_grouped:\n",
    "    npv_roi_dict = {}\n",
    "    funded = group.iat[0,0]\n",
    "    cfs = [-funded] + group['all_cash_to_inv'].tolist()\n",
    "    for rate in disc_rates:\n",
    "        npv_roi_dict[rate] = np.npv(rate/12, cfs)/funded\n",
    "    npv_roi_holder[ids] = npv_roi_dict\n",
    "    if k % 10000 == 1:\n",
    "        elapsed_time = time.time() - start_time\n",
    "        print(elapsed_time)\n",
    "    k += 1"
   ]
  },
  {
   "cell_type": "code",
   "execution_count": 23,
   "metadata": {
    "ExecuteTime": {
     "end_time": "2018-03-01T22:37:13.758722Z",
     "start_time": "2018-03-01T22:36:28.184384Z"
    }
   },
   "outputs": [],
   "source": [
    "npv_roi_df = pd.DataFrame(npv_roi_holder).T\n",
    "npv_roi_df.columns = npv_roi_df.columns.values.round(2)"
   ]
  },
  {
   "cell_type": "code",
   "execution_count": 24,
   "metadata": {
    "ExecuteTime": {
     "end_time": "2018-03-01T22:37:13.769941Z",
     "start_time": "2018-03-01T22:37:13.760088Z"
    }
   },
   "outputs": [
    {
     "data": {
      "text/plain": [
       "(1646778, 1)"
      ]
     },
     "execution_count": 24,
     "metadata": {},
     "output_type": "execute_result"
    }
   ],
   "source": [
    "npv_roi_df.shape"
   ]
  },
  {
   "cell_type": "code",
   "execution_count": 27,
   "metadata": {
    "ExecuteTime": {
     "end_time": "2018-03-01T22:37:53.122379Z",
     "start_time": "2018-03-01T22:37:53.080212Z"
    }
   },
   "outputs": [],
   "source": [
    "store.open()\n",
    "store['loan_npv_rois'] = npv_roi_df\n",
    "store.close()"
   ]
  },
  {
   "cell_type": "code",
   "execution_count": null,
   "metadata": {},
   "outputs": [],
   "source": []
  }
 ],
 "metadata": {
  "kernelspec": {
   "display_name": "Python 3",
   "language": "python",
   "name": "python3"
  },
  "language_info": {
   "codemirror_mode": {
    "name": "ipython",
    "version": 3
   },
   "file_extension": ".py",
   "mimetype": "text/x-python",
   "name": "python",
   "nbconvert_exporter": "python",
   "pygments_lexer": "ipython3",
   "version": "3.6.3"
  },
  "notify_time": "5",
  "varInspector": {
   "cols": {
    "lenName": 16,
    "lenType": 16,
    "lenVar": 40
   },
   "kernels_config": {
    "python": {
     "delete_cmd_postfix": "",
     "delete_cmd_prefix": "del ",
     "library": "var_list.py",
     "varRefreshCmd": "print(var_dic_list())"
    },
    "r": {
     "delete_cmd_postfix": ") ",
     "delete_cmd_prefix": "rm(",
     "library": "var_list.r",
     "varRefreshCmd": "cat(var_dic_list()) "
    }
   },
   "types_to_exclude": [
    "module",
    "function",
    "builtin_function_or_method",
    "instance",
    "_Feature"
   ],
   "window_display": false
  }
 },
 "nbformat": 4,
 "nbformat_minor": 2
}
