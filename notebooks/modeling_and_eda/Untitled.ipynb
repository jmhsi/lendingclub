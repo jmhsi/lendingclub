{
 "cells": [
  {
   "cell_type": "code",
   "execution_count": null,
   "metadata": {},
   "outputs": [],
   "source": [
    "import math\n",
    "from catboost import Pool, CatBoostClassifier\n",
    "\n",
    "class LoglossObjective(object):\n",
    "    def calc_ders_range(self, approxes, targets, weights):\n",
    "        # approxes, targets, weights are indexed containers of floats (containers with only __len__ and __getitem__ defined).\n",
    "        # weights parameter can be None.\n",
    "        # Returns list of pairs (der1, der2)\n",
    "        assert len(approxes) == len(targets)\n",
    "        if weights is not None:\n",
    "            assert len(weights) == len(approxes)\n",
    "\n",
    "        exponents = []\n",
    "        for index in xrange(len(approxes)):\n",
    "            exponents.append(math.exp(approxes[index]))\n",
    "\n",
    "        result = []\n",
    "        for index in xrange(len(targets)):\n",
    "            p = exponents[index] / (1 + exponents[index])\n",
    "            der1 = (1 - p) if targets[index] > 0.0 else -p\n",
    "            der2 = -p * (1 - p)\n",
    "\n",
    "            if weights is not None:\n",
    "                der1 *= weights[index]\n",
    "                der2 *= weights[index]\n",
    "\n",
    "            result.append((der1, der2))\n",
    "\n",
    "        return result\n",
    "\n",
    "TRAIN_FILE = '../data/adult/train_small'\n",
    "TEST_FILE = '../data/adult/test_small'\n",
    "CD_FILE = '../data/adult/train.cd'\n",
    "# Load data from files to Pool\n",
    "train_pool = Pool(TRAIN_FILE, column_description=CD_FILE)\n",
    "test_pool = Pool(TEST_FILE, column_description=CD_FILE)\n",
    "# Initialize CatBoostClassifier with custom `loss_function`\n",
    "model = CatBoostClassifier(partition_random_seed=0, loss_function=LoglossObjective(), eval_metric=\"Logloss\")\n",
    "# Fit model\n",
    "model.fit(train_pool)\n",
    "# Only prediction_type='RawFormulVal' allowed with custom `loss_function`\n",
    "preds_raw = model.predict(test_pool, prediction_type='RawFormulaVal') "
   ]
  }
 ],
 "metadata": {
  "kernelspec": {
   "display_name": "Python 3",
   "language": "python",
   "name": "python3"
  },
  "language_info": {
   "codemirror_mode": {
    "name": "ipython",
    "version": 3
   },
   "file_extension": ".py",
   "mimetype": "text/x-python",
   "name": "python",
   "nbconvert_exporter": "python",
   "pygments_lexer": "ipython3",
   "version": "3.6.3"
  }
 },
 "nbformat": 4,
 "nbformat_minor": 2
}
