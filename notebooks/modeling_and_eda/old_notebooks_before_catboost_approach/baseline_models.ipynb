{
 "cells": [
  {
   "cell_type": "code",
   "execution_count": null,
   "metadata": {
    "code_folding": []
   },
   "outputs": [],
   "source": [
    "Old stuff\n",
    "platform = 'lendingclub'\n",
    "\n",
    "store = pd.HDFStore(\n",
    "    '/Users/justinhsi/justin_tinkering/data_science/lendingclub/{0}_store.h5'.\n",
    "    format(platform),\n",
    "    append=True)\n",
    "\n",
    "test = store['test_filtered_columns']\n",
    "loan_npv_rois = store['loan_npv_rois']\n",
    "default_series = test['target_strict']"
   ]
  },
  {
   "cell_type": "code",
   "execution_count": null,
   "metadata": {},
   "outputs": [],
   "source": [
    "def basic_models(trials, port_size, available_loans, grade, test,\n",
    "                 loan_npv_rois, default_series):\n",
    "    results = {}\n",
    "    pct_default = {}\n",
    "    if grade:\n",
    "        test = test[test['grade'] == grade]\n",
    "    for trial in tqdm_notebook(np.arange(trials)):\n",
    "        loans_to_pick_from = np.random.choice(\n",
    "            test.index.values, available_loans, replace=False)\n",
    "        picks = np.random.choice(loans_to_pick_from, port_size, replace=False)\n",
    "        results[trial] = loan_npv_rois.loc[picks, :].mean().to_dict()\n",
    "        pct_default[trial] = (default_series.loc[picks].sum()) / port_size\n",
    "    pct_default_series = pd.Series(pct_default)\n",
    "    results_df = pd.DataFrame(results).T\n",
    "    results_df['pct_def'] = pct_default_series\n",
    "#     if not grade:\n",
    "#         results_df = results_df.add_prefix('baseline_')\n",
    "#     else:\n",
    "#         results_df = results_df.add_prefix(grade + '_')\n",
    "    if not grade:\n",
    "        grade = 'baseline'\n",
    "    results_df.columns = zip(results_df.columns.values,[grade]*len(results_df.columns.values))\n",
    "    return results_df"
   ]
  },
  {
   "cell_type": "code",
   "execution_count": null,
   "metadata": {},
   "outputs": [],
   "source": [
    "grades = [None]\n",
    "grades.extend(test.grade.unique().tolist())\n",
    "grades.sort()\n",
    "grade_counts = test.grade.value_counts(dropna=False)"
   ]
  },
  {
   "cell_type": "code",
   "execution_count": null,
   "metadata": {},
   "outputs": [],
   "source": [
    "trials = 20000\n",
    "available_loans = 3000\n",
    "grades_available_loans = [\n",
    "    int(min(grade_counts[grade] * .2, available_loans))\n",
    "    if grade else available_loans for grade in grades\n",
    "]\n",
    "grades_port_size = [int(.3*n_loans) for n_loans in grades_available_loans]\n",
    "grade_batch_loans = dict(zip(grades, zip(grades_available_loans,grades_port_size)))"
   ]
  },
  {
   "cell_type": "code",
   "execution_count": null,
   "metadata": {},
   "outputs": [],
   "source": [
    "grade_batch_loans"
   ]
  },
  {
   "cell_type": "code",
   "execution_count": null,
   "metadata": {},
   "outputs": [],
   "source": [
    "grades_port_size"
   ]
  },
  {
   "cell_type": "code",
   "execution_count": null,
   "metadata": {},
   "outputs": [],
   "source": [
    "results_dict = {}\n",
    "for grade in tqdm_notebook(grades):\n",
    "    results_dict[grade] = basic_models(trials, grade_batch_loans[grade][1],\n",
    "                                       grade_batch_loans[grade][0], grade,\n",
    "                                       test, loan_npv_rois, default_series)"
   ]
  },
  {
   "cell_type": "code",
   "execution_count": null,
   "metadata": {},
   "outputs": [],
   "source": [
    "result = pd.concat(results_dict.values(), axis=1)\n",
    "result.columns = pd.MultiIndex.from_tuples(\n",
    "    result.columns.values, names=['discount_rate', 'model'])\n",
    "result.sort_index(axis=1, inplace = True)"
   ]
  },
  {
   "cell_type": "code",
   "execution_count": null,
   "metadata": {},
   "outputs": [],
   "source": [
    "result.describe()"
   ]
  },
  {
   "cell_type": "code",
   "execution_count": null,
   "metadata": {},
   "outputs": [],
   "source": [
    "store.open()\n",
    "store['results'] = result\n",
    "store.close()"
   ]
  },
  {
   "cell_type": "code",
   "execution_count": null,
   "metadata": {},
   "outputs": [],
   "source": []
  }
 ],
 "metadata": {
  "kernelspec": {
   "display_name": "Python 3",
   "language": "python",
   "name": "python3"
  },
  "language_info": {
   "codemirror_mode": {
    "name": "ipython",
    "version": 3
   },
   "file_extension": ".py",
   "mimetype": "text/x-python",
   "name": "python",
   "nbconvert_exporter": "python",
   "pygments_lexer": "ipython3",
   "version": "3.6.7"
  }
 },
 "nbformat": 4,
 "nbformat_minor": 2
}
