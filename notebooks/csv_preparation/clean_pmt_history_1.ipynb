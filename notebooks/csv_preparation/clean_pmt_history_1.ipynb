{
 "cells": [
  {
   "cell_type": "markdown",
   "metadata": {},
   "source": [
    "# Script version"
   ]
  },
  {
   "cell_type": "code",
   "execution_count": 2,
   "metadata": {
    "ExecuteTime": {
     "end_time": "2019-06-14T18:04:34.008257Z",
     "start_time": "2019-06-14T18:04:33.992195Z"
    }
   },
   "outputs": [],
   "source": [
    "from tqdm import tqdm"
   ]
  },
  {
   "cell_type": "code",
   "execution_count": 13,
   "metadata": {
    "ExecuteTime": {
     "end_time": "2019-06-14T18:14:25.950811Z",
     "start_time": "2019-06-14T18:14:25.932488Z"
    }
   },
   "outputs": [],
   "source": [
    "csv_path = os.path.join(os.path.expanduser('~'), 'projects', 'lendingclub', 'data', 'csvs', 'latest_csvs')"
   ]
  },
  {
   "cell_type": "code",
   "execution_count": 28,
   "metadata": {
    "ExecuteTime": {
     "end_time": "2019-06-14T19:15:54.813202Z",
     "start_time": "2019-06-14T19:15:54.795519Z"
    }
   },
   "outputs": [],
   "source": [
    "# for now its always been one csv. Will have to revisit if they break it out to multiple\n",
    "pmt_hist_fnames = [f for f in os.listdir(csv_path) if 'PMTHIST' in f]\n",
    "pmt_hist_path = os.path.join(csv_path, pmt_hist_fnames[0])"
   ]
  },
  {
   "cell_type": "code",
   "execution_count": 30,
   "metadata": {
    "ExecuteTime": {
     "end_time": "2019-06-14T19:17:43.040344Z",
     "start_time": "2019-06-14T19:17:43.017921Z"
    }
   },
   "outputs": [
    {
     "ename": "PermissionError",
     "evalue": "[Errno 1] Operation not permitted: '/home/justin/projects/lendingclub/data/csvs/latest_csvs/PMTHIST_ALL_201905.csv'",
     "output_type": "error",
     "traceback": [
      "\u001b[0;31m---------------------------------------------------------------------------\u001b[0m",
      "\u001b[0;31mPermissionError\u001b[0m                           Traceback (most recent call last)",
      "\u001b[0;32m<ipython-input-30-4e7061d81b89>\u001b[0m in \u001b[0;36m<module>\u001b[0;34m\u001b[0m\n\u001b[0;32m----> 1\u001b[0;31m \u001b[0mos\u001b[0m\u001b[0;34m.\u001b[0m\u001b[0mchmod\u001b[0m\u001b[0;34m(\u001b[0m\u001b[0mpmt_hist_path\u001b[0m\u001b[0;34m,\u001b[0m \u001b[0;36m644\u001b[0m\u001b[0;34m)\u001b[0m\u001b[0;34m\u001b[0m\u001b[0;34m\u001b[0m\u001b[0m\n\u001b[0m",
      "\u001b[0;31mPermissionError\u001b[0m: [Errno 1] Operation not permitted: '/home/justin/projects/lendingclub/data/csvs/latest_csvs/PMTHIST_ALL_201905.csv'"
     ]
    }
   ],
   "source": [
    "os.chmod(pmt_hist_path, 644)"
   ]
  },
  {
   "cell_type": "code",
   "execution_count": 27,
   "metadata": {
    "ExecuteTime": {
     "end_time": "2019-06-14T18:59:21.908616Z",
     "start_time": "2019-06-14T18:59:21.886499Z"
    }
   },
   "outputs": [
    {
     "ename": "PermissionError",
     "evalue": "[Errno 13] Permission denied: '/home/justin/projects/lendingclub/data/csvs/latest_csvs/PMTHIST_ALL_201905.csv'",
     "output_type": "error",
     "traceback": [
      "\u001b[0;31m---------------------------------------------------------------------------\u001b[0m",
      "\u001b[0;31mPermissionError\u001b[0m                           Traceback (most recent call last)",
      "\u001b[0;32m<ipython-input-27-c9467f9e7d77>\u001b[0m in \u001b[0;36m<module>\u001b[0;34m\u001b[0m\n\u001b[0;32m----> 1\u001b[0;31m \u001b[0mopen\u001b[0m\u001b[0;34m(\u001b[0m\u001b[0mos\u001b[0m\u001b[0;34m.\u001b[0m\u001b[0mpath\u001b[0m\u001b[0;34m.\u001b[0m\u001b[0mjoin\u001b[0m\u001b[0;34m(\u001b[0m\u001b[0mcsv_path\u001b[0m\u001b[0;34m,\u001b[0m \u001b[0mpmt_hist_fnames\u001b[0m\u001b[0;34m[\u001b[0m\u001b[0;36m0\u001b[0m\u001b[0;34m]\u001b[0m\u001b[0;34m)\u001b[0m\u001b[0;34m)\u001b[0m\u001b[0;34m\u001b[0m\u001b[0;34m\u001b[0m\u001b[0m\n\u001b[0m",
      "\u001b[0;31mPermissionError\u001b[0m: [Errno 13] Permission denied: '/home/justin/projects/lendingclub/data/csvs/latest_csvs/PMTHIST_ALL_201905.csv'"
     ]
    }
   ],
   "source": [
    "open(os.path.join(csv_path, pmt_hist_fnames[0]))"
   ]
  },
  {
   "cell_type": "code",
   "execution_count": 25,
   "metadata": {
    "ExecuteTime": {
     "end_time": "2019-06-14T18:52:28.542757Z",
     "start_time": "2019-06-14T18:52:28.517739Z"
    },
    "scrolled": true
   },
   "outputs": [
    {
     "ename": "PermissionError",
     "evalue": "[Errno 13] Permission denied: '/home/justin/projects/lendingclub/data/csvs/latest_csvs/PMTHIST_ALL_201905.csv'",
     "output_type": "error",
     "traceback": [
      "\u001b[0;31m---------------------------------------------------------------------------\u001b[0m",
      "\u001b[0;31mPermissionError\u001b[0m                           Traceback (most recent call last)",
      "\u001b[0;32m<ipython-input-25-f9d3dde464ce>\u001b[0m in \u001b[0;36m<module>\u001b[0;34m\u001b[0m\n\u001b[0;32m----> 1\u001b[0;31m \u001b[0mpmt_hist\u001b[0m \u001b[0;34m=\u001b[0m \u001b[0mpd\u001b[0m\u001b[0;34m.\u001b[0m\u001b[0mread_csv\u001b[0m\u001b[0;34m(\u001b[0m\u001b[0mos\u001b[0m\u001b[0;34m.\u001b[0m\u001b[0mpath\u001b[0m\u001b[0;34m.\u001b[0m\u001b[0mjoin\u001b[0m\u001b[0;34m(\u001b[0m\u001b[0mcsv_path\u001b[0m\u001b[0;34m,\u001b[0m \u001b[0mpmt_hist_fnames\u001b[0m\u001b[0;34m[\u001b[0m\u001b[0;36m0\u001b[0m\u001b[0;34m]\u001b[0m\u001b[0;34m)\u001b[0m\u001b[0;34m,\u001b[0m \u001b[0mnrows\u001b[0m\u001b[0;34m=\u001b[0m\u001b[0;36m100\u001b[0m\u001b[0;34m,\u001b[0m \u001b[0mengine\u001b[0m\u001b[0;34m=\u001b[0m\u001b[0;34m'python'\u001b[0m\u001b[0;34m)\u001b[0m\u001b[0;34m\u001b[0m\u001b[0;34m\u001b[0m\u001b[0m\n\u001b[0m",
      "\u001b[0;32m~/anaconda3/lib/python3.6/site-packages/pandas/io/parsers.py\u001b[0m in \u001b[0;36mparser_f\u001b[0;34m(filepath_or_buffer, sep, delimiter, header, names, index_col, usecols, squeeze, prefix, mangle_dupe_cols, dtype, engine, converters, true_values, false_values, skipinitialspace, skiprows, skipfooter, nrows, na_values, keep_default_na, na_filter, verbose, skip_blank_lines, parse_dates, infer_datetime_format, keep_date_col, date_parser, dayfirst, iterator, chunksize, compression, thousands, decimal, lineterminator, quotechar, quoting, doublequote, escapechar, comment, encoding, dialect, tupleize_cols, error_bad_lines, warn_bad_lines, delim_whitespace, low_memory, memory_map, float_precision)\u001b[0m\n\u001b[1;32m    700\u001b[0m                     skip_blank_lines=skip_blank_lines)\n\u001b[1;32m    701\u001b[0m \u001b[0;34m\u001b[0m\u001b[0m\n\u001b[0;32m--> 702\u001b[0;31m         \u001b[0;32mreturn\u001b[0m \u001b[0m_read\u001b[0m\u001b[0;34m(\u001b[0m\u001b[0mfilepath_or_buffer\u001b[0m\u001b[0;34m,\u001b[0m \u001b[0mkwds\u001b[0m\u001b[0;34m)\u001b[0m\u001b[0;34m\u001b[0m\u001b[0;34m\u001b[0m\u001b[0m\n\u001b[0m\u001b[1;32m    703\u001b[0m \u001b[0;34m\u001b[0m\u001b[0m\n\u001b[1;32m    704\u001b[0m     \u001b[0mparser_f\u001b[0m\u001b[0;34m.\u001b[0m\u001b[0m__name__\u001b[0m \u001b[0;34m=\u001b[0m \u001b[0mname\u001b[0m\u001b[0;34m\u001b[0m\u001b[0;34m\u001b[0m\u001b[0m\n",
      "\u001b[0;32m~/anaconda3/lib/python3.6/site-packages/pandas/io/parsers.py\u001b[0m in \u001b[0;36m_read\u001b[0;34m(filepath_or_buffer, kwds)\u001b[0m\n\u001b[1;32m    427\u001b[0m \u001b[0;34m\u001b[0m\u001b[0m\n\u001b[1;32m    428\u001b[0m     \u001b[0;31m# Create the parser.\u001b[0m\u001b[0;34m\u001b[0m\u001b[0;34m\u001b[0m\u001b[0;34m\u001b[0m\u001b[0m\n\u001b[0;32m--> 429\u001b[0;31m     \u001b[0mparser\u001b[0m \u001b[0;34m=\u001b[0m \u001b[0mTextFileReader\u001b[0m\u001b[0;34m(\u001b[0m\u001b[0mfilepath_or_buffer\u001b[0m\u001b[0;34m,\u001b[0m \u001b[0;34m**\u001b[0m\u001b[0mkwds\u001b[0m\u001b[0;34m)\u001b[0m\u001b[0;34m\u001b[0m\u001b[0;34m\u001b[0m\u001b[0m\n\u001b[0m\u001b[1;32m    430\u001b[0m \u001b[0;34m\u001b[0m\u001b[0m\n\u001b[1;32m    431\u001b[0m     \u001b[0;32mif\u001b[0m \u001b[0mchunksize\u001b[0m \u001b[0;32mor\u001b[0m \u001b[0miterator\u001b[0m\u001b[0;34m:\u001b[0m\u001b[0;34m\u001b[0m\u001b[0;34m\u001b[0m\u001b[0m\n",
      "\u001b[0;32m~/anaconda3/lib/python3.6/site-packages/pandas/io/parsers.py\u001b[0m in \u001b[0;36m__init__\u001b[0;34m(self, f, engine, **kwds)\u001b[0m\n\u001b[1;32m    893\u001b[0m             \u001b[0mself\u001b[0m\u001b[0;34m.\u001b[0m\u001b[0moptions\u001b[0m\u001b[0;34m[\u001b[0m\u001b[0;34m'has_index_names'\u001b[0m\u001b[0;34m]\u001b[0m \u001b[0;34m=\u001b[0m \u001b[0mkwds\u001b[0m\u001b[0;34m[\u001b[0m\u001b[0;34m'has_index_names'\u001b[0m\u001b[0;34m]\u001b[0m\u001b[0;34m\u001b[0m\u001b[0;34m\u001b[0m\u001b[0m\n\u001b[1;32m    894\u001b[0m \u001b[0;34m\u001b[0m\u001b[0m\n\u001b[0;32m--> 895\u001b[0;31m         \u001b[0mself\u001b[0m\u001b[0;34m.\u001b[0m\u001b[0m_make_engine\u001b[0m\u001b[0;34m(\u001b[0m\u001b[0mself\u001b[0m\u001b[0;34m.\u001b[0m\u001b[0mengine\u001b[0m\u001b[0;34m)\u001b[0m\u001b[0;34m\u001b[0m\u001b[0;34m\u001b[0m\u001b[0m\n\u001b[0m\u001b[1;32m    896\u001b[0m \u001b[0;34m\u001b[0m\u001b[0m\n\u001b[1;32m    897\u001b[0m     \u001b[0;32mdef\u001b[0m \u001b[0mclose\u001b[0m\u001b[0;34m(\u001b[0m\u001b[0mself\u001b[0m\u001b[0;34m)\u001b[0m\u001b[0;34m:\u001b[0m\u001b[0;34m\u001b[0m\u001b[0;34m\u001b[0m\u001b[0m\n",
      "\u001b[0;32m~/anaconda3/lib/python3.6/site-packages/pandas/io/parsers.py\u001b[0m in \u001b[0;36m_make_engine\u001b[0;34m(self, engine)\u001b[0m\n\u001b[1;32m   1130\u001b[0m                                  ' \"c\", \"python\", or' ' \"python-fwf\")'.format(\n\u001b[1;32m   1131\u001b[0m                                      engine=engine))\n\u001b[0;32m-> 1132\u001b[0;31m             \u001b[0mself\u001b[0m\u001b[0;34m.\u001b[0m\u001b[0m_engine\u001b[0m \u001b[0;34m=\u001b[0m \u001b[0mklass\u001b[0m\u001b[0;34m(\u001b[0m\u001b[0mself\u001b[0m\u001b[0;34m.\u001b[0m\u001b[0mf\u001b[0m\u001b[0;34m,\u001b[0m \u001b[0;34m**\u001b[0m\u001b[0mself\u001b[0m\u001b[0;34m.\u001b[0m\u001b[0moptions\u001b[0m\u001b[0;34m)\u001b[0m\u001b[0;34m\u001b[0m\u001b[0;34m\u001b[0m\u001b[0m\n\u001b[0m\u001b[1;32m   1133\u001b[0m \u001b[0;34m\u001b[0m\u001b[0m\n\u001b[1;32m   1134\u001b[0m     \u001b[0;32mdef\u001b[0m \u001b[0m_failover_to_python\u001b[0m\u001b[0;34m(\u001b[0m\u001b[0mself\u001b[0m\u001b[0;34m)\u001b[0m\u001b[0;34m:\u001b[0m\u001b[0;34m\u001b[0m\u001b[0;34m\u001b[0m\u001b[0m\n",
      "\u001b[0;32m~/anaconda3/lib/python3.6/site-packages/pandas/io/parsers.py\u001b[0m in \u001b[0;36m__init__\u001b[0;34m(self, f, **kwds)\u001b[0m\n\u001b[1;32m   2223\u001b[0m         f, handles = _get_handle(f, mode, encoding=self.encoding,\n\u001b[1;32m   2224\u001b[0m                                  \u001b[0mcompression\u001b[0m\u001b[0;34m=\u001b[0m\u001b[0mself\u001b[0m\u001b[0;34m.\u001b[0m\u001b[0mcompression\u001b[0m\u001b[0;34m,\u001b[0m\u001b[0;34m\u001b[0m\u001b[0;34m\u001b[0m\u001b[0m\n\u001b[0;32m-> 2225\u001b[0;31m                                  memory_map=self.memory_map)\n\u001b[0m\u001b[1;32m   2226\u001b[0m         \u001b[0mself\u001b[0m\u001b[0;34m.\u001b[0m\u001b[0mhandles\u001b[0m\u001b[0;34m.\u001b[0m\u001b[0mextend\u001b[0m\u001b[0;34m(\u001b[0m\u001b[0mhandles\u001b[0m\u001b[0;34m)\u001b[0m\u001b[0;34m\u001b[0m\u001b[0;34m\u001b[0m\u001b[0m\n\u001b[1;32m   2227\u001b[0m \u001b[0;34m\u001b[0m\u001b[0m\n",
      "\u001b[0;32m~/anaconda3/lib/python3.6/site-packages/pandas/io/common.py\u001b[0m in \u001b[0;36m_get_handle\u001b[0;34m(path_or_buf, mode, encoding, compression, memory_map, is_text)\u001b[0m\n\u001b[1;32m    425\u001b[0m         \u001b[0;32melif\u001b[0m \u001b[0mis_text\u001b[0m\u001b[0;34m:\u001b[0m\u001b[0;34m\u001b[0m\u001b[0;34m\u001b[0m\u001b[0m\n\u001b[1;32m    426\u001b[0m             \u001b[0;31m# Python 3 and no explicit encoding\u001b[0m\u001b[0;34m\u001b[0m\u001b[0;34m\u001b[0m\u001b[0;34m\u001b[0m\u001b[0m\n\u001b[0;32m--> 427\u001b[0;31m             \u001b[0mf\u001b[0m \u001b[0;34m=\u001b[0m \u001b[0mopen\u001b[0m\u001b[0;34m(\u001b[0m\u001b[0mpath_or_buf\u001b[0m\u001b[0;34m,\u001b[0m \u001b[0mmode\u001b[0m\u001b[0;34m,\u001b[0m \u001b[0merrors\u001b[0m\u001b[0;34m=\u001b[0m\u001b[0;34m'replace'\u001b[0m\u001b[0;34m,\u001b[0m \u001b[0mnewline\u001b[0m\u001b[0;34m=\u001b[0m\u001b[0;34m\"\"\u001b[0m\u001b[0;34m)\u001b[0m\u001b[0;34m\u001b[0m\u001b[0;34m\u001b[0m\u001b[0m\n\u001b[0m\u001b[1;32m    428\u001b[0m         \u001b[0;32melse\u001b[0m\u001b[0;34m:\u001b[0m\u001b[0;34m\u001b[0m\u001b[0;34m\u001b[0m\u001b[0m\n\u001b[1;32m    429\u001b[0m             \u001b[0;31m# Python 3 and binary mode\u001b[0m\u001b[0;34m\u001b[0m\u001b[0;34m\u001b[0m\u001b[0;34m\u001b[0m\u001b[0m\n",
      "\u001b[0;31mPermissionError\u001b[0m: [Errno 13] Permission denied: '/home/justin/projects/lendingclub/data/csvs/latest_csvs/PMTHIST_ALL_201905.csv'"
     ]
    }
   ],
   "source": [
    "pmt_hist = pd.read_csv(os.path.join(csv_path, pmt_hist_fnames[0]), nrows=100, engine='python')"
   ]
  },
  {
   "cell_type": "code",
   "execution_count": 24,
   "metadata": {
    "ExecuteTime": {
     "end_time": "2019-06-14T18:50:52.365508Z",
     "start_time": "2019-06-14T18:50:52.345723Z"
    }
   },
   "outputs": [
    {
     "data": {
      "text/plain": [
       "'/home/justin/projects/lendingclub/data/csvs/latest_csvs/PMTHIST_ALL_201905.csv'"
      ]
     },
     "execution_count": 24,
     "metadata": {},
     "output_type": "execute_result"
    }
   ],
   "source": [
    "os.path.join(csv_path, pmt_hist_fnames[0])"
   ]
  },
  {
   "cell_type": "code",
   "execution_count": 20,
   "metadata": {
    "ExecuteTime": {
     "end_time": "2019-06-14T18:49:22.764337Z",
     "start_time": "2019-06-14T18:49:22.677632Z"
    }
   },
   "outputs": [
    {
     "ename": "OSError",
     "evalue": "Initializing from file failed",
     "output_type": "error",
     "traceback": [
      "\u001b[0;31m---------------------------------------------------------------------------\u001b[0m",
      "\u001b[0;31mOSError\u001b[0m                                   Traceback (most recent call last)",
      "\u001b[0;32m<ipython-input-20-f075fdbceeff>\u001b[0m in \u001b[0;36m<module>\u001b[0;34m\u001b[0m\n\u001b[0;32m----> 1\u001b[0;31m \u001b[0mpmt_hist\u001b[0m \u001b[0;34m=\u001b[0m \u001b[0mpd\u001b[0m\u001b[0;34m.\u001b[0m\u001b[0mread_csv\u001b[0m\u001b[0;34m(\u001b[0m\u001b[0mos\u001b[0m\u001b[0;34m.\u001b[0m\u001b[0mpath\u001b[0m\u001b[0;34m.\u001b[0m\u001b[0mjoin\u001b[0m\u001b[0;34m(\u001b[0m\u001b[0mcsv_path\u001b[0m\u001b[0;34m,\u001b[0m \u001b[0mpmt_hist_fnames\u001b[0m\u001b[0;34m[\u001b[0m\u001b[0;36m0\u001b[0m\u001b[0;34m]\u001b[0m\u001b[0;34m)\u001b[0m\u001b[0;34m,\u001b[0m \u001b[0mlow_memory\u001b[0m\u001b[0;34m=\u001b[0m\u001b[0;32mFalse\u001b[0m\u001b[0;34m)\u001b[0m\u001b[0;34m\u001b[0m\u001b[0;34m\u001b[0m\u001b[0m\n\u001b[0m\u001b[1;32m      2\u001b[0m \u001b[0mprint\u001b[0m\u001b[0;34m(\u001b[0m\u001b[0;34m\"{:,}\"\u001b[0m\u001b[0;34m.\u001b[0m\u001b[0mformat\u001b[0m\u001b[0;34m(\u001b[0m\u001b[0mlen\u001b[0m\u001b[0;34m(\u001b[0m\u001b[0mpmt_hist\u001b[0m\u001b[0;34m)\u001b[0m\u001b[0;34m)\u001b[0m \u001b[0;34m+\u001b[0m \u001b[0;34m\" rows of pmt_hist loaded\"\u001b[0m\u001b[0;34m)\u001b[0m\u001b[0;34m\u001b[0m\u001b[0;34m\u001b[0m\u001b[0m\n",
      "\u001b[0;32m~/anaconda3/lib/python3.6/site-packages/pandas/io/parsers.py\u001b[0m in \u001b[0;36mparser_f\u001b[0;34m(filepath_or_buffer, sep, delimiter, header, names, index_col, usecols, squeeze, prefix, mangle_dupe_cols, dtype, engine, converters, true_values, false_values, skipinitialspace, skiprows, skipfooter, nrows, na_values, keep_default_na, na_filter, verbose, skip_blank_lines, parse_dates, infer_datetime_format, keep_date_col, date_parser, dayfirst, iterator, chunksize, compression, thousands, decimal, lineterminator, quotechar, quoting, doublequote, escapechar, comment, encoding, dialect, tupleize_cols, error_bad_lines, warn_bad_lines, delim_whitespace, low_memory, memory_map, float_precision)\u001b[0m\n\u001b[1;32m    700\u001b[0m                     skip_blank_lines=skip_blank_lines)\n\u001b[1;32m    701\u001b[0m \u001b[0;34m\u001b[0m\u001b[0m\n\u001b[0;32m--> 702\u001b[0;31m         \u001b[0;32mreturn\u001b[0m \u001b[0m_read\u001b[0m\u001b[0;34m(\u001b[0m\u001b[0mfilepath_or_buffer\u001b[0m\u001b[0;34m,\u001b[0m \u001b[0mkwds\u001b[0m\u001b[0;34m)\u001b[0m\u001b[0;34m\u001b[0m\u001b[0;34m\u001b[0m\u001b[0m\n\u001b[0m\u001b[1;32m    703\u001b[0m \u001b[0;34m\u001b[0m\u001b[0m\n\u001b[1;32m    704\u001b[0m     \u001b[0mparser_f\u001b[0m\u001b[0;34m.\u001b[0m\u001b[0m__name__\u001b[0m \u001b[0;34m=\u001b[0m \u001b[0mname\u001b[0m\u001b[0;34m\u001b[0m\u001b[0;34m\u001b[0m\u001b[0m\n",
      "\u001b[0;32m~/anaconda3/lib/python3.6/site-packages/pandas/io/parsers.py\u001b[0m in \u001b[0;36m_read\u001b[0;34m(filepath_or_buffer, kwds)\u001b[0m\n\u001b[1;32m    427\u001b[0m \u001b[0;34m\u001b[0m\u001b[0m\n\u001b[1;32m    428\u001b[0m     \u001b[0;31m# Create the parser.\u001b[0m\u001b[0;34m\u001b[0m\u001b[0;34m\u001b[0m\u001b[0;34m\u001b[0m\u001b[0m\n\u001b[0;32m--> 429\u001b[0;31m     \u001b[0mparser\u001b[0m \u001b[0;34m=\u001b[0m \u001b[0mTextFileReader\u001b[0m\u001b[0;34m(\u001b[0m\u001b[0mfilepath_or_buffer\u001b[0m\u001b[0;34m,\u001b[0m \u001b[0;34m**\u001b[0m\u001b[0mkwds\u001b[0m\u001b[0;34m)\u001b[0m\u001b[0;34m\u001b[0m\u001b[0;34m\u001b[0m\u001b[0m\n\u001b[0m\u001b[1;32m    430\u001b[0m \u001b[0;34m\u001b[0m\u001b[0m\n\u001b[1;32m    431\u001b[0m     \u001b[0;32mif\u001b[0m \u001b[0mchunksize\u001b[0m \u001b[0;32mor\u001b[0m \u001b[0miterator\u001b[0m\u001b[0;34m:\u001b[0m\u001b[0;34m\u001b[0m\u001b[0;34m\u001b[0m\u001b[0m\n",
      "\u001b[0;32m~/anaconda3/lib/python3.6/site-packages/pandas/io/parsers.py\u001b[0m in \u001b[0;36m__init__\u001b[0;34m(self, f, engine, **kwds)\u001b[0m\n\u001b[1;32m    893\u001b[0m             \u001b[0mself\u001b[0m\u001b[0;34m.\u001b[0m\u001b[0moptions\u001b[0m\u001b[0;34m[\u001b[0m\u001b[0;34m'has_index_names'\u001b[0m\u001b[0;34m]\u001b[0m \u001b[0;34m=\u001b[0m \u001b[0mkwds\u001b[0m\u001b[0;34m[\u001b[0m\u001b[0;34m'has_index_names'\u001b[0m\u001b[0;34m]\u001b[0m\u001b[0;34m\u001b[0m\u001b[0;34m\u001b[0m\u001b[0m\n\u001b[1;32m    894\u001b[0m \u001b[0;34m\u001b[0m\u001b[0m\n\u001b[0;32m--> 895\u001b[0;31m         \u001b[0mself\u001b[0m\u001b[0;34m.\u001b[0m\u001b[0m_make_engine\u001b[0m\u001b[0;34m(\u001b[0m\u001b[0mself\u001b[0m\u001b[0;34m.\u001b[0m\u001b[0mengine\u001b[0m\u001b[0;34m)\u001b[0m\u001b[0;34m\u001b[0m\u001b[0;34m\u001b[0m\u001b[0m\n\u001b[0m\u001b[1;32m    896\u001b[0m \u001b[0;34m\u001b[0m\u001b[0m\n\u001b[1;32m    897\u001b[0m     \u001b[0;32mdef\u001b[0m \u001b[0mclose\u001b[0m\u001b[0;34m(\u001b[0m\u001b[0mself\u001b[0m\u001b[0;34m)\u001b[0m\u001b[0;34m:\u001b[0m\u001b[0;34m\u001b[0m\u001b[0;34m\u001b[0m\u001b[0m\n",
      "\u001b[0;32m~/anaconda3/lib/python3.6/site-packages/pandas/io/parsers.py\u001b[0m in \u001b[0;36m_make_engine\u001b[0;34m(self, engine)\u001b[0m\n\u001b[1;32m   1120\u001b[0m     \u001b[0;32mdef\u001b[0m \u001b[0m_make_engine\u001b[0m\u001b[0;34m(\u001b[0m\u001b[0mself\u001b[0m\u001b[0;34m,\u001b[0m \u001b[0mengine\u001b[0m\u001b[0;34m=\u001b[0m\u001b[0;34m'c'\u001b[0m\u001b[0;34m)\u001b[0m\u001b[0;34m:\u001b[0m\u001b[0;34m\u001b[0m\u001b[0;34m\u001b[0m\u001b[0m\n\u001b[1;32m   1121\u001b[0m         \u001b[0;32mif\u001b[0m \u001b[0mengine\u001b[0m \u001b[0;34m==\u001b[0m \u001b[0;34m'c'\u001b[0m\u001b[0;34m:\u001b[0m\u001b[0;34m\u001b[0m\u001b[0;34m\u001b[0m\u001b[0m\n\u001b[0;32m-> 1122\u001b[0;31m             \u001b[0mself\u001b[0m\u001b[0;34m.\u001b[0m\u001b[0m_engine\u001b[0m \u001b[0;34m=\u001b[0m \u001b[0mCParserWrapper\u001b[0m\u001b[0;34m(\u001b[0m\u001b[0mself\u001b[0m\u001b[0;34m.\u001b[0m\u001b[0mf\u001b[0m\u001b[0;34m,\u001b[0m \u001b[0;34m**\u001b[0m\u001b[0mself\u001b[0m\u001b[0;34m.\u001b[0m\u001b[0moptions\u001b[0m\u001b[0;34m)\u001b[0m\u001b[0;34m\u001b[0m\u001b[0;34m\u001b[0m\u001b[0m\n\u001b[0m\u001b[1;32m   1123\u001b[0m         \u001b[0;32melse\u001b[0m\u001b[0;34m:\u001b[0m\u001b[0;34m\u001b[0m\u001b[0;34m\u001b[0m\u001b[0m\n\u001b[1;32m   1124\u001b[0m             \u001b[0;32mif\u001b[0m \u001b[0mengine\u001b[0m \u001b[0;34m==\u001b[0m \u001b[0;34m'python'\u001b[0m\u001b[0;34m:\u001b[0m\u001b[0;34m\u001b[0m\u001b[0;34m\u001b[0m\u001b[0m\n",
      "\u001b[0;32m~/anaconda3/lib/python3.6/site-packages/pandas/io/parsers.py\u001b[0m in \u001b[0;36m__init__\u001b[0;34m(self, src, **kwds)\u001b[0m\n\u001b[1;32m   1851\u001b[0m         \u001b[0mkwds\u001b[0m\u001b[0;34m[\u001b[0m\u001b[0;34m'usecols'\u001b[0m\u001b[0;34m]\u001b[0m \u001b[0;34m=\u001b[0m \u001b[0mself\u001b[0m\u001b[0;34m.\u001b[0m\u001b[0musecols\u001b[0m\u001b[0;34m\u001b[0m\u001b[0;34m\u001b[0m\u001b[0m\n\u001b[1;32m   1852\u001b[0m \u001b[0;34m\u001b[0m\u001b[0m\n\u001b[0;32m-> 1853\u001b[0;31m         \u001b[0mself\u001b[0m\u001b[0;34m.\u001b[0m\u001b[0m_reader\u001b[0m \u001b[0;34m=\u001b[0m \u001b[0mparsers\u001b[0m\u001b[0;34m.\u001b[0m\u001b[0mTextReader\u001b[0m\u001b[0;34m(\u001b[0m\u001b[0msrc\u001b[0m\u001b[0;34m,\u001b[0m \u001b[0;34m**\u001b[0m\u001b[0mkwds\u001b[0m\u001b[0;34m)\u001b[0m\u001b[0;34m\u001b[0m\u001b[0;34m\u001b[0m\u001b[0m\n\u001b[0m\u001b[1;32m   1854\u001b[0m         \u001b[0mself\u001b[0m\u001b[0;34m.\u001b[0m\u001b[0munnamed_cols\u001b[0m \u001b[0;34m=\u001b[0m \u001b[0mself\u001b[0m\u001b[0;34m.\u001b[0m\u001b[0m_reader\u001b[0m\u001b[0;34m.\u001b[0m\u001b[0munnamed_cols\u001b[0m\u001b[0;34m\u001b[0m\u001b[0;34m\u001b[0m\u001b[0m\n\u001b[1;32m   1855\u001b[0m \u001b[0;34m\u001b[0m\u001b[0m\n",
      "\u001b[0;32mpandas/_libs/parsers.pyx\u001b[0m in \u001b[0;36mpandas._libs.parsers.TextReader.__cinit__\u001b[0;34m()\u001b[0m\n",
      "\u001b[0;32mpandas/_libs/parsers.pyx\u001b[0m in \u001b[0;36mpandas._libs.parsers.TextReader._setup_parser_source\u001b[0;34m()\u001b[0m\n",
      "\u001b[0;31mOSError\u001b[0m: Initializing from file failed"
     ]
    }
   ],
   "source": [
    "pmt_hist = pd.read_csv(os.path.join(csv_path, pmt_hist_fnames[0]))\n",
    "print(\"{:,}\".format(len(pmt_hist)) + \" rows of pmt_hist loaded\")"
   ]
  },
  {
   "cell_type": "code",
   "execution_count": null,
   "metadata": {},
   "outputs": [],
   "source": [
    "\n",
    "\n",
    "# Set loan ids as strings _____________________________________________________\n",
    "pmt_hist['LOAN_ID'] = pmt_hist['LOAN_ID'].astype(int)\n",
    "print('payment history for', len(pmt_hist['LOAN_ID'].unique()), 'different loan ids')\n",
    "\n",
    "# Round values to 3 decimal places ____________________________________________\n",
    "pmt_hist = pmt_hist.round(3)\n",
    "\n",
    "# renaming columns ____________________________________________________________\n",
    "rename_col_dict = {\n",
    "    'LOAN_ID': 'loan_id',\n",
    "    'PBAL_BEG_PERIOD': 'outs_princp_beg',\n",
    "    'PRNCP_PAID': 'princp_paid',\n",
    "    'INT_PAID': 'int_paid',\n",
    "    'FEE_PAID': 'fee_paid',\n",
    "    'DUE_AMT': 'amt_due',\n",
    "    'RECEIVED_AMT': 'amt_paid',\n",
    "    'RECEIVED_D': 'pmt_date',\n",
    "    'PERIOD_END_LSTAT': 'status_period_end',\n",
    "    'MONTH': 'date',\n",
    "    'PBAL_END_PERIOD': 'outs_princp_end',\n",
    "    'MOB': 'm_on_books',\n",
    "    'CO': 'charged_off_this_month',\n",
    "    'COAMT': 'charged_off_amt',\n",
    "    'InterestRate': 'int_rate',\n",
    "    'IssuedDate': 'issue_d',\n",
    "    'MONTHLYCONTRACTAMT': 'monthly_pmt',\n",
    "    'dti': 'dti',\n",
    "    'State': 'addr_state',\n",
    "    'HomeOwnership': 'home_ownership',\n",
    "    'MonthlyIncome': 'm_income',\n",
    "    'EarliestCREDITLine': 'first_credit_line',\n",
    "    'OpenCREDITLines': 'open_credit_lines',\n",
    "    'TotalCREDITLines': 'total_credit_lines',\n",
    "    'RevolvingCREDITBalance': 'revol_credit_bal',\n",
    "    'RevolvingLineUtilization': 'revol_line_util',\n",
    "    'Inquiries6M': 'inq_6m',\n",
    "    'DQ2yrs': 'dq_24m',\n",
    "    'MonthsSinceDQ': 'm_since_dq',\n",
    "    'PublicRec': 'public_recs',\n",
    "    'MonthsSinceLastRec': 'm_since_rec',\n",
    "    'EmploymentLength': 'emp_len',\n",
    "    'currentpolicy': 'current_policy',\n",
    "    'grade': 'grade',\n",
    "    'term': 'term',\n",
    "    'APPL_FICO_BAND': 'fico_apply',\n",
    "    'Last_FICO_BAND': 'fico_last',\n",
    "    'VINTAGE': 'vintage',\n",
    "    'PCO_RECOVERY': 'recovs',\n",
    "    'PCO_COLLECTION_FEE': 'recov_fees',\n",
    "}\n",
    "\n",
    "pmt_hist.rename(columns=rename_col_dict, inplace=True)"
   ]
  },
  {
   "cell_type": "markdown",
   "metadata": {},
   "source": [
    "# Working"
   ]
  },
  {
   "cell_type": "markdown",
   "metadata": {},
   "source": [
    "## Part  1 of cleaning lending club payment history"
   ]
  },
  {
   "cell_type": "code",
   "execution_count": 1,
   "metadata": {
    "ExecuteTime": {
     "end_time": "2019-06-14T18:03:05.310689Z",
     "start_time": "2019-06-14T18:03:05.289186Z"
    }
   },
   "outputs": [],
   "source": [
    "import dir_constants as dc\n",
    "from tqdm import tqdm_notebook"
   ]
  },
  {
   "cell_type": "code",
   "execution_count": 8,
   "metadata": {
    "ExecuteTime": {
     "end_time": "2019-06-14T18:12:52.056249Z",
     "start_time": "2019-06-14T18:12:52.036311Z"
    }
   },
   "outputs": [],
   "source": [
    "csv_path = os.path.join(os.path.expanduser('~'), 'projects', 'lendingclub', 'data', 'csvs', 'lastest_csvs')"
   ]
  },
  {
   "cell_type": "code",
   "execution_count": 9,
   "metadata": {
    "ExecuteTime": {
     "end_time": "2019-06-14T18:12:56.634439Z",
     "start_time": "2019-06-14T18:12:56.615246Z"
    }
   },
   "outputs": [
    {
     "data": {
      "text/plain": [
       "'/home/justin/projects/lendingclub/data/csvs/lastest_csvs'"
      ]
     },
     "execution_count": 9,
     "metadata": {},
     "output_type": "execute_result"
    }
   ],
   "source": [
    "csv_path"
   ]
  },
  {
   "cell_type": "code",
   "execution_count": 3,
   "metadata": {
    "ExecuteTime": {
     "end_time": "2018-08-23T21:09:02.930825Z",
     "start_time": "2018-08-23T21:06:05.795853Z"
    }
   },
   "outputs": [
    {
     "name": "stdout",
     "output_type": "stream",
     "text": [
      "37,327,674 rows of pmt_hist loaded\n",
      "payment history for 2003523 different loan ids\n"
     ]
    }
   ],
   "source": [
    "# Set some constants __________________________________________________________\n",
    "platform = 'lendingclub'\n",
    "\n",
    "# Set data_path _______________________________________________________________\n",
    "data_path = dc.home_path + '/rsync_dl_rig/unzipped_lc_csvs/'\n",
    "\n",
    "# Load in pmt_hist_file _______________________________________________________\n",
    "files = os.listdir(data_path)\n",
    "# loan_hist_filename = [file_ for file_ in files if file_.startswith('PMTHIST')][0]\n",
    "# pmt_hist = pd.read_csv(data_path + '{0}'.format(loan_hist_filename), low_memory=False)\n",
    "pmt_hist = pd.read_csv(PATH, low_memory=False)\n",
    "print(\"{:,}\".format(len(pmt_hist)) + \" rows of pmt_hist loaded\")\n",
    "\n",
    "# Set loan ids as strings _____________________________________________________\n",
    "pmt_hist['LOAN_ID'] = pmt_hist['LOAN_ID'].astype(int)\n",
    "print('payment history for', len(pmt_hist['LOAN_ID'].unique()), 'different loan ids')\n",
    "\n",
    "# Round values to 3 decimal places ____________________________________________\n",
    "pmt_hist = pmt_hist.round(3)\n",
    "\n",
    "# renaming columns ____________________________________________________________\n",
    "rename_col_dict = {\n",
    "    'LOAN_ID': 'loan_id',\n",
    "    'PBAL_BEG_PERIOD': 'outs_princp_beg',\n",
    "    'PRNCP_PAID': 'princp_paid',\n",
    "    'INT_PAID': 'int_paid',\n",
    "    'FEE_PAID': 'fee_paid',\n",
    "    'DUE_AMT': 'amt_due',\n",
    "    'RECEIVED_AMT': 'amt_paid',\n",
    "    'RECEIVED_D': 'pmt_date',\n",
    "    'PERIOD_END_LSTAT': 'status_period_end',\n",
    "    'MONTH': 'date',\n",
    "    'PBAL_END_PERIOD': 'outs_princp_end',\n",
    "    'MOB': 'm_on_books',\n",
    "    'CO': 'charged_off_this_month',\n",
    "    'COAMT': 'charged_off_amt',\n",
    "    'InterestRate': 'int_rate',\n",
    "    'IssuedDate': 'issue_d',\n",
    "    'MONTHLYCONTRACTAMT': 'monthly_pmt',\n",
    "    'dti': 'dti',\n",
    "    'State': 'addr_state',\n",
    "    'HomeOwnership': 'home_ownership',\n",
    "    'MonthlyIncome': 'm_income',\n",
    "    'EarliestCREDITLine': 'first_credit_line',\n",
    "    'OpenCREDITLines': 'open_credit_lines',\n",
    "    'TotalCREDITLines': 'total_credit_lines',\n",
    "    'RevolvingCREDITBalance': 'revol_credit_bal',\n",
    "    'RevolvingLineUtilization': 'revol_line_util',\n",
    "    'Inquiries6M': 'inq_6m',\n",
    "    'DQ2yrs': 'dq_24m',\n",
    "    'MonthsSinceDQ': 'm_since_dq',\n",
    "    'PublicRec': 'public_recs',\n",
    "    'MonthsSinceLastRec': 'm_since_rec',\n",
    "    'EmploymentLength': 'emp_len',\n",
    "    'currentpolicy': 'current_policy',\n",
    "    'grade': 'grade',\n",
    "    'term': 'term',\n",
    "    'APPL_FICO_BAND': 'fico_apply',\n",
    "    'Last_FICO_BAND': 'fico_last',\n",
    "    'VINTAGE': 'vintage',\n",
    "    'PCO_RECOVERY': 'recovs',\n",
    "    'PCO_COLLECTION_FEE': 'recov_fees',\n",
    "}\n",
    "\n",
    "pmt_hist.rename(columns=rename_col_dict, inplace=True)"
   ]
  },
  {
   "cell_type": "markdown",
   "metadata": {},
   "source": [
    "# try and reduces memory"
   ]
  },
  {
   "cell_type": "code",
   "execution_count": 4,
   "metadata": {
    "ExecuteTime": {
     "end_time": "2018-08-23T21:09:02.951672Z",
     "start_time": "2018-08-23T21:09:02.932456Z"
    }
   },
   "outputs": [],
   "source": [
    "import j_utils.munging"
   ]
  },
  {
   "cell_type": "code",
   "execution_count": 5,
   "metadata": {
    "ExecuteTime": {
     "end_time": "2018-08-23T21:10:00.327854Z",
     "start_time": "2018-08-23T21:09:02.953191Z"
    },
    "scrolled": true
   },
   "outputs": [
    {
     "name": "stderr",
     "output_type": "stream",
     "text": [
      "100%|██████████| 26/26 [00:13<00:00,  1.87it/s]\n"
     ]
    },
    {
     "name": "stdout",
     "output_type": "stream",
     "text": [
      "changed dtypes of 26 cols\n",
      "<class 'pandas.core.frame.DataFrame'>\n",
      "RangeIndex: 37327674 entries, 0 to 37327673\n",
      "Data columns (total 40 columns):\n",
      "pmt_date                  object\n",
      "status_period_end         object\n",
      "date                      object\n",
      "issue_d                   object\n",
      "addr_state                object\n",
      "home_ownership            object\n",
      "first_credit_line         object\n",
      "inq_6m                    object\n",
      "public_recs               object\n",
      "emp_len                   object\n",
      "grade                     object\n",
      "fico_apply                object\n",
      "fico_last                 object\n",
      "vintage                   object\n",
      "amt_due                   float32\n",
      "amt_paid                  float32\n",
      "charged_off_amt           float32\n",
      "charged_off_this_month    int8\n",
      "current_policy            int8\n",
      "dq_24m                    float32\n",
      "dti                       float32\n",
      "fee_paid                  float32\n",
      "int_paid                  float32\n",
      "int_rate                  float32\n",
      "loan_id                   int32\n",
      "m_income                  float32\n",
      "m_on_books                int8\n",
      "m_since_dq                float32\n",
      "m_since_rec               float32\n",
      "monthly_pmt               float32\n",
      "open_credit_lines         float32\n",
      "outs_princp_beg           float32\n",
      "outs_princp_end           float32\n",
      "princp_paid               float32\n",
      "recov_fees                float32\n",
      "recovs                    float32\n",
      "revol_credit_bal          int32\n",
      "revol_line_util           float32\n",
      "term                      int8\n",
      "total_credit_lines        float32\n",
      "dtypes: float32(20), int32(2), int8(4), object(14)\n",
      "memory usage: 34.2 GB\n"
     ]
    }
   ],
   "source": [
    "changed_cols, pmt_hist = j_utils.munging.compress_memory(pmt_hist)\n",
    "pmt_hist.info(memory_usage='deep')"
   ]
  },
  {
   "cell_type": "code",
   "execution_count": 6,
   "metadata": {
    "ExecuteTime": {
     "end_time": "2018-08-23T21:10:01.330885Z",
     "start_time": "2018-08-23T21:10:00.329488Z"
    }
   },
   "outputs": [
    {
     "data": {
      "text/plain": [
       "263"
      ]
     },
     "execution_count": 6,
     "metadata": {},
     "output_type": "execute_result"
    }
   ],
   "source": [
    "gc.collect()"
   ]
  },
  {
   "cell_type": "markdown",
   "metadata": {},
   "source": [
    "# Parsing and Cleaning"
   ]
  },
  {
   "cell_type": "code",
   "execution_count": 7,
   "metadata": {
    "ExecuteTime": {
     "end_time": "2018-08-23T21:18:55.283433Z",
     "start_time": "2018-08-23T21:10:05.355478Z"
    }
   },
   "outputs": [
    {
     "name": "stderr",
     "output_type": "stream",
     "text": [
      "/home/justin/anaconda3/lib/python3.6/site-packages/ipykernel_launcher.py:98: DeprecationWarning: \n",
      ".ix is deprecated. Please use\n",
      ".loc for label based indexing or\n",
      ".iloc for positional indexing\n",
      "\n",
      "See the documentation here:\n",
      "http://pandas.pydata.org/pandas-docs/stable/indexing.html#ix-indexer-is-deprecated\n"
     ]
    }
   ],
   "source": [
    "# There are 5 columns dealing with money: princp_paid, int_paid, fee_paid,\n",
    "# recovs, and recovs_fee. princp_paid + int_paid + fee_paid is sometimes short\n",
    "# of amt_paid. Be conservative and rewrite amt_paid to be sum of said 3.\n",
    "# Also make all_cash_to_inv = amt_paid + recovs - recov_fees\n",
    "# Fee paid is always positive, and by inspection it is money borrower pays out\n",
    "pmt_hist[\n",
    "    'amt_paid'] = pmt_hist['princp_paid'] + pmt_hist['int_paid'] + pmt_hist['fee_paid']\n",
    "pmt_hist['recovs'].fillna(0, inplace=True)\n",
    "pmt_hist['recov_fees'].fillna(0, inplace=True)\n",
    "pmt_hist[\n",
    "    'all_cash_to_inv'] = pmt_hist['amt_paid'] + pmt_hist['recovs'] - pmt_hist['recov_fees']\n",
    "\n",
    "# turn all date columns into pandas timestamp _________________________________\n",
    "month_dict = {\n",
    "    'jan': '1-',\n",
    "    'feb': '2-',\n",
    "    'mar': '3-',\n",
    "    'apr': '4-',\n",
    "    'may': '5-',\n",
    "    'jun': '6-',\n",
    "    'jul': '7-',\n",
    "    'aug': '8-',\n",
    "    'sep': '9-',\n",
    "    'oct': '10-',\n",
    "    'nov': '11-',\n",
    "    'dec': '12-'\n",
    "}\n",
    "\n",
    "# pmt_date ____________________________________________________________________\n",
    "pmt_hist['pmt_date'] = pd.to_datetime(\n",
    "    pmt_hist['pmt_date'].str[:3].str.lower().replace(month_dict) +\n",
    "    pmt_hist['pmt_date'].str[3:],\n",
    "    format='%m-%Y')\n",
    "\n",
    "# date ________________________________________________________________________\n",
    "pmt_hist['date'] = pd.to_datetime(\n",
    "    pmt_hist['date'].str[:3].str.lower().replace(month_dict) +\n",
    "    pmt_hist['date'].str[3:],\n",
    "    format='%m-%Y')\n",
    "\n",
    "# issue_d _____________________________________________________________________\n",
    "pmt_hist['issue_d'] = pd.to_datetime(\n",
    "    pmt_hist['issue_d'].str[:3].str.lower().replace(month_dict) +\n",
    "    pmt_hist['issue_d'].str[3:],\n",
    "    format='%m-%Y')\n",
    "\n",
    "# first_credit_line ____________________________________________________________\n",
    "pmt_hist['first_credit_line'] = pd.to_datetime(\n",
    "    pmt_hist['first_credit_line'].str[:3].str.lower().replace(month_dict) +\n",
    "    pmt_hist['first_credit_line'].str[3:],\n",
    "    format='%m-%Y')\n",
    "\n",
    "# status_period_end ____________________________________________________________\n",
    "status_fix = {\n",
    "    'Current': 'current',\n",
    "    'Late (31-120 days)': 'late_120',\n",
    "    'Fully Paid': 'paid',\n",
    "    'Charged Off': 'charged_off',\n",
    "    'Default': 'defaulted',\n",
    "    'Late (16-30 days)': 'late_30',\n",
    "    'In Grace Period': 'grace_15',\n",
    "    'Issued': 'current'\n",
    "}\n",
    "pmt_hist['status_period_end'] = pmt_hist['status_period_end'].replace(\n",
    "    status_fix)\n",
    "\n",
    "# home_ownership _______________________________________________________________\n",
    "home_ownership_fix = {\n",
    "    'admin_us': 'other',\n",
    "    'mortgage': 'mortgage',\n",
    "    'rent': 'rent',\n",
    "    'own': 'own',\n",
    "    'other': 'other',\n",
    "    'none': 'none',\n",
    "    'any': 'none'\n",
    "}\n",
    "pmt_hist['home_ownership'] = pmt_hist['home_ownership'].str.lower().replace(\n",
    "    home_ownership_fix)\n",
    "\n",
    "# public_recs __________________________________________________________________\n",
    "records_fix = {\n",
    "    '*': 1\n",
    "}  #leave nan as nan, but * had at least 1 from m_since_record\n",
    "pmt_hist['public_recs'] = pmt_hist['public_recs'].replace(records_fix).astype(\n",
    "    float)\n",
    "\n",
    "# fico_apply __________________________________________________________________\n",
    "fico_apply_fix = {'850': '850-850'}\n",
    "pmt_hist['fico_apply'] = pmt_hist['fico_apply'].replace(fico_apply_fix)\n",
    "pmt_hist['fico_apply'] = (pmt_hist['fico_apply'].str[:3].astype(int) +\n",
    "                          pmt_hist['fico_apply'].str[4:].astype(int)) / 2\n",
    "pmt_hist['fico_apply'] = pmt_hist['fico_apply'].astype(int)\n",
    "\n",
    "# fico_last ___________________________________________________________________\n",
    "fico_last_fix = {'845-HIGH': '845-849', 'LOW-499': '495-499'}\n",
    "pmt_hist['fico_last'] = pmt_hist['fico_last'].replace(fico_last_fix)\n",
    "pmt_hist.ix[pmt_hist['fico_last'] != 'MISSING', 'fico_last'] = (\n",
    "    pmt_hist.ix[pmt_hist['fico_last'] != 'MISSING', 'fico_last'].str[:3]\n",
    "    .astype(int) + pmt_hist.ix[pmt_hist['fico_last'] != 'MISSING',\n",
    "                               'fico_last'].str[4:].astype(int)) / 2\n",
    "pmt_hist.ix[pmt_hist['fico_last'] == 'MISSING', 'fico_last'] = pmt_hist.ix[\n",
    "    pmt_hist['fico_last'] == 'MISSING', 'fico_apply']\n",
    "pmt_hist['fico_last'] = pmt_hist['fico_last'].astype(int)\n",
    "\n",
    "# revol_credit_bal ____________________________________________________________\n",
    "pmt_hist['revol_credit_bal'] = pmt_hist['revol_credit_bal'].astype(\n",
    "    float)\n",
    "\n",
    "# fix on a few bad rows where I think there is a mistaken amt_paid ____________\n",
    "pmt_hist.ix[(pmt_hist['pmt_date'].isnull() & pmt_hist['amt_paid'] > 0),\n",
    "            'amt_paid'] = 0\n",
    "\n",
    "# There is a problem with the inquiries 6m column. Some are nan values and some\n",
    "# are marked '*' with no explanation. inq6m should be in loan info so dropping\n",
    "pmt_hist.drop('inq_6m', axis=1, inplace=True)\n",
    "\n",
    "# add a column which is numerical of loan_id for later reading from hdfstore\n",
    "pmt_hist['loan_id_num'] = pmt_hist['loan_id'].astype('int')"
   ]
  },
  {
   "cell_type": "code",
   "execution_count": 10,
   "metadata": {
    "ExecuteTime": {
     "end_time": "2018-08-23T21:19:19.198269Z",
     "start_time": "2018-08-23T21:18:55.649694Z"
    }
   },
   "outputs": [],
   "source": [
    "# save as feather format\n",
    "PATH = '/home/justin/all_data/lendingclub/'\n",
    "pmt_hist.to_feather(f'{PATH}pmt_hist_c1.fth')"
   ]
  },
  {
   "cell_type": "markdown",
   "metadata": {},
   "source": [
    "# Store part 1 of cleaning"
   ]
  },
  {
   "cell_type": "code",
   "execution_count": 11,
   "metadata": {
    "ExecuteTime": {
     "end_time": "2018-08-24T20:30:46.160809Z",
     "start_time": "2018-08-24T20:30:46.135274Z"
    }
   },
   "outputs": [],
   "source": [
    "# # store pmt_history in hdfstore _______________________________________________\n",
    "# store = pd.HDFStore(\n",
    "#     dc.home_path+'/justin_tinkering/data_science/lendingclub/{0}_store.h5'.\n",
    "#     format(platform),\n",
    "#     append=True)\n",
    "\n",
    "# # Create min_itemsize_dict for allocating size when storing ___________________\n",
    "# min_itemsize_dict = {}\n",
    "# for col in pmt_hist.columns:\n",
    "#     if pmt_hist[col].dtype == np.object:\n",
    "#         print(col, pmt_hist[col].str.len().max())\n",
    "#         if col in ['State', 'VINTAGE', 'grade']:\n",
    "#             pass\n",
    "#         else:\n",
    "#             min_itemsize_dict[col] = 15\n",
    "\n",
    "# total_len = len(pmt_hist)\n",
    "# chunk_size = 120000 # 120k rows at a time\n",
    "# chunks = np.ceil(total_len/chunk_size)\n",
    "# df_chunks = np.array_split(pmt_hist, chunks)\n",
    "\n",
    "     \n",
    "# k = 0\n",
    "# for chunk in tqdm_notebook(df_chunks):\n",
    "#     if k == 0:\n",
    "#         store.append(\n",
    "#             'pmt_hist_intermediary_1',\n",
    "#             chunk,\n",
    "#             data_columns=True,\n",
    "#             index=True,\n",
    "#             append=False,\n",
    "#             min_itemsize=min_itemsize_dict)\n",
    "#         k += 1\n",
    "#     else:\n",
    "#         store.append(\n",
    "#             'pmt_hist_intermediary_1',\n",
    "#             chunk,\n",
    "#             data_columns=True,\n",
    "#             index=True,\n",
    "#             append=True)            \n",
    "        \n",
    "# # store pmt_hist ids        \n",
    "# pmt_hist_ids = pd.Series(pmt_hist['loan_id'].unique())\n",
    "# pmt_hist_ids.to_hdf(store, 'pmt_hist_ids', mode='w')        \n",
    "# print(store.keys())\n",
    "# print(store)        \n",
    "# store.close()"
   ]
  },
  {
   "cell_type": "markdown",
   "metadata": {},
   "source": [
    "# Below was investigating to base my choices above on"
   ]
  },
  {
   "cell_type": "code",
   "execution_count": null,
   "metadata": {},
   "outputs": [],
   "source": [
    "# pmt_hist['unaccounted_rec_pmt_money'] = pmt_hist['amt_paid'] - (\n",
    "#     pmt_hist['princp_paid'] + pmt_hist['int_paid'] + pmt_hist['fee_paid'])\n",
    "\n",
    "# # Don't care about differences less than a cent _______________________________\n",
    "# pmt_hist['unaccounted_rec_pmt_money'] = np.where(\n",
    "#     pmt_hist['unaccounted_rec_pmt_money'] < 0.01, 0,\n",
    "#     pmt_hist['unaccounted_rec_pmt_money'])\n",
    "\n",
    "# # These should probably be Received_amt 0 because there is no received_d\n",
    "# pmt_hist[(pmt_hist['unaccounted_rec_pmt_money'] > 0) & (pmt_hist['PERIOD_END_LSTAT'] != 'Fully Paid')]"
   ]
  }
 ],
 "metadata": {
  "anaconda-cloud": {},
  "kernelspec": {
   "display_name": "Python 3",
   "language": "python",
   "name": "python3"
  },
  "language_info": {
   "codemirror_mode": {
    "name": "ipython",
    "version": 3
   },
   "file_extension": ".py",
   "mimetype": "text/x-python",
   "name": "python",
   "nbconvert_exporter": "python",
   "pygments_lexer": "ipython3",
   "version": "3.6.7"
  },
  "notify_time": "5",
  "varInspector": {
   "cols": {
    "lenName": 16,
    "lenType": 16,
    "lenVar": 40
   },
   "kernels_config": {
    "python": {
     "delete_cmd_postfix": "",
     "delete_cmd_prefix": "del ",
     "library": "var_list.py",
     "varRefreshCmd": "print(var_dic_list())"
    },
    "r": {
     "delete_cmd_postfix": ") ",
     "delete_cmd_prefix": "rm(",
     "library": "var_list.r",
     "varRefreshCmd": "cat(var_dic_list()) "
    }
   },
   "types_to_exclude": [
    "module",
    "function",
    "builtin_function_or_method",
    "instance",
    "_Feature"
   ],
   "window_display": false
  }
 },
 "nbformat": 4,
 "nbformat_minor": 1
}
