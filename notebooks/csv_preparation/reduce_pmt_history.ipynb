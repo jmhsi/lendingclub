{
 "cells": [
  {
   "cell_type": "code",
   "execution_count": 9,
   "metadata": {
    "ExecuteTime": {
     "end_time": "2019-06-15T00:25:50.173754Z",
     "start_time": "2019-06-15T00:25:50.128477Z"
    }
   },
   "outputs": [
    {
     "name": "stdout",
     "output_type": "stream",
     "text": [
      "Writing ../../scripts/csv_preparation/reduce_pmt_history\n"
     ]
    }
   ],
   "source": [
    "%%writefile ../../scripts/csv_preparation/reduce_pmt_history\n",
    "from tqdm import tqdm\n",
    "\n",
    "csv_path = os.path.join(os.path.expanduser('~'), 'projects', 'lendingclub', 'data', 'csvs', 'latest_csvs')\n",
    "# for now its always been one csv. Will have to revisit if they break it out to multiple\n",
    "pmt_hist_fnames = [f for f in os.listdir(csv_path) if 'PMTHIST' in f]\n",
    "pmt_hist_path = os.path.join(csv_path, pmt_hist_fnames[0])\n",
    "pmt_hist = pd.read_csv(pmt_hist_path, low_memory=False)\n",
    "print(\"{:,}\".format(len(pmt_hist)) + \" rows of pmt_hist loaded\")\n",
    "\n",
    "# compress memory\n",
    "sys.path.append(os.path.join(os.path.expanduser('~'), 'projects'))\n",
    "import j_utils.munging as mg\n",
    "changed_type_cols, pmt_hist = mg.reduce_memory(pmt_hist)\n",
    "\n",
    "# save\n",
    "dpath = os.path.join(os.path.expanduser('~'), 'projects', 'lendingclub', 'data')\n",
    "pmt_hist.to_feather(os.path.join(dpath, 'raw_pmt_hist_1.fth'))"
   ]
  },
  {
   "cell_type": "code",
   "execution_count": null,
   "metadata": {},
   "outputs": [],
   "source": []
  }
 ],
 "metadata": {
  "kernelspec": {
   "display_name": "Python [conda env:root] *",
   "language": "python",
   "name": "conda-root-py"
  },
  "language_info": {
   "codemirror_mode": {
    "name": "ipython",
    "version": 3
   },
   "file_extension": ".py",
   "mimetype": "text/x-python",
   "name": "python",
   "nbconvert_exporter": "python",
   "pygments_lexer": "ipython3",
   "version": "3.6.7"
  }
 },
 "nbformat": 4,
 "nbformat_minor": 2
}
