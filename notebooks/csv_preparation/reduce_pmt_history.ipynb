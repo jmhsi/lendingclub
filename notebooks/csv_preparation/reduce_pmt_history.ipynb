{
 "cells": [
  {
   "cell_type": "code",
   "execution_count": 12,
   "metadata": {
    "ExecuteTime": {
     "end_time": "2019-06-15T22:55:38.033850Z",
     "start_time": "2019-06-15T22:39:05.872929Z"
    }
   },
   "outputs": [
    {
     "name": "stdout",
     "output_type": "stream",
     "text": [
      "46,325,630 rows of pmt_hist loaded\n",
      "trying to change columns to smaller dtypes when possible\n",
      "original dataframe is 48607.7229013443 MB or 47.46847939584404 GB\n"
     ]
    },
    {
     "name": "stderr",
     "output_type": "stream",
     "text": [
      "100%|██████████| 26/26 [00:17<00:00,  1.43it/s]\n"
     ]
    },
    {
     "name": "stdout",
     "output_type": "stream",
     "text": [
      "changed dtypes of 26 cols\n",
      "reduced dataframe is 43482.89353275299 MB or 42.46376321557909 GB\n"
     ]
    }
   ],
   "source": [
    "# %%writefile ../../scripts/csv_preparation/reduce_pmt_history.py\n",
    "from tqdm import tqdm\n",
    "import os\n",
    "import sys\n",
    "import pandas as pd\n",
    "\n",
    "csv_path = os.path.join(os.path.expanduser('~'), 'projects', 'lendingclub', 'data', 'csvs', 'latest_csvs')\n",
    "# for now its always been one csv. Will have to revisit if they break it out to multiple\n",
    "pmt_hist_fnames = [f for f in os.listdir(csv_path) if 'PMTHIST' in f]\n",
    "pmt_hist_path = os.path.join(csv_path, pmt_hist_fnames[0])\n",
    "pmt_hist = pd.read_csv(pmt_hist_path, low_memory=False)\n",
    "print(\"{:,}\".format(len(pmt_hist)) + \" rows of pmt_hist loaded\")\n",
    "\n",
    "# compress memory\n",
    "sys.path.append(os.path.join(os.path.expanduser('~'), 'projects'))\n",
    "import j_utils.munging as mg\n",
    "changed_type_cols, pmt_hist = mg.reduce_memory(pmt_hist)\n",
    "\n",
    "# save\n",
    "dpath = os.path.join(os.path.expanduser('~'), 'projects', 'lendingclub', 'data')\n",
    "pmt_hist.to_feather(os.path.join(dpath, 'raw_pmt_hist_1.fth'))"
   ]
  },
  {
   "cell_type": "code",
   "execution_count": 15,
   "metadata": {
    "ExecuteTime": {
     "end_time": "2019-06-15T23:19:10.117129Z",
     "start_time": "2019-06-15T23:19:10.105477Z"
    }
   },
   "outputs": [],
   "source": [
    "import stat\n",
    "st = os.stat(os.path.join(dpath, 'raw_pmt_hist_1.fth'))"
   ]
  },
  {
   "cell_type": "code",
   "execution_count": 16,
   "metadata": {
    "ExecuteTime": {
     "end_time": "2019-06-15T23:20:36.157985Z",
     "start_time": "2019-06-15T23:19:13.457481Z"
    }
   },
   "outputs": [
    {
     "data": {
      "text/plain": [
       "33188"
      ]
     },
     "execution_count": 16,
     "metadata": {},
     "output_type": "execute_result"
    }
   ],
   "source": [
    "mode = st.st_mode"
   ]
  },
  {
   "cell_type": "code",
   "execution_count": 20,
   "metadata": {
    "ExecuteTime": {
     "end_time": "2019-06-15T23:32:23.872288Z",
     "start_time": "2019-06-15T23:32:23.851201Z"
    }
   },
   "outputs": [
    {
     "data": {
      "text/plain": [
       "False"
      ]
     },
     "execution_count": 20,
     "metadata": {},
     "output_type": "execute_result"
    }
   ],
   "source": [
    "bool(mode & stat.S_IWGRP)"
   ]
  },
  {
   "cell_type": "code",
   "execution_count": 21,
   "metadata": {
    "ExecuteTime": {
     "end_time": "2019-06-15T23:37:49.663975Z",
     "start_time": "2019-06-15T23:37:49.643845Z"
    }
   },
   "outputs": [
    {
     "data": {
      "text/plain": [
       "32"
      ]
     },
     "execution_count": 21,
     "metadata": {},
     "output_type": "execute_result"
    }
   ],
   "source": [
    "mode & stat.S_IRWXG"
   ]
  },
  {
   "cell_type": "code",
   "execution_count": null,
   "metadata": {},
   "outputs": [],
   "source": []
  }
 ],
 "metadata": {
  "kernelspec": {
   "display_name": "Python [conda env:root] *",
   "language": "python",
   "name": "conda-root-py"
  },
  "language_info": {
   "codemirror_mode": {
    "name": "ipython",
    "version": 3
   },
   "file_extension": ".py",
   "mimetype": "text/x-python",
   "name": "python",
   "nbconvert_exporter": "python",
   "pygments_lexer": "ipython3",
   "version": "3.6.7"
  }
 },
 "nbformat": 4,
 "nbformat_minor": 2
}
