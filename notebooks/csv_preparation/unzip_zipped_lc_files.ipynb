{
 "cells": [
  {
   "cell_type": "code",
   "execution_count": 1,
   "metadata": {
    "ExecuteTime": {
     "end_time": "2019-09-29T00:28:05.245259Z",
     "start_time": "2019-09-29T00:28:05.226806Z"
    }
   },
   "outputs": [],
   "source": [
    "%load_ext autoreload\n",
    "%autoreload 2"
   ]
  },
  {
   "cell_type": "code",
   "execution_count": 17,
   "metadata": {
    "ExecuteTime": {
     "end_time": "2019-10-01T05:32:08.017666Z",
     "start_time": "2019-10-01T05:32:08.001740Z"
    }
   },
   "outputs": [
    {
     "name": "stdout",
     "output_type": "stream",
     "text": [
      "Overwriting ../../lendingclub/csv_preparation/02_unzip_csvs.py\n"
     ]
    }
   ],
   "source": [
    "%%writefile ../../lendingclub/csv_preparation/02_unzip_csvs.py\n",
    "'''\n",
    "for unzipping the newly downloaded csvs\n",
    "'''\n",
    "# %load ../../lendingclub/csv_preparation/02_unzip_csvs.py\n",
    "import logging\n",
    "import pathlib\n",
    "import subprocess\n",
    "from lendingclub import config\n",
    "# sys.path.append(os.path.join(os.path.expanduser('~'), 'projects'))\n",
    "# sys.path.append(os.path.join(os.path.expanduser('~'), 'projects', 'lendingclub'))\n",
    "# import lendingclub.scripts.csv_dl_archiving.download_prep as dp\n",
    "\n",
    "latest_csvs = config.wrk_csv_dir\n",
    "# if os.path.exists(latest_csvs):\n",
    "#     shutil.rmtree(latest_csvs)\n",
    "# os.makedirs(latest_csvs)\n",
    "zip_files = pathlib.Path(config.raw_dl_dir).rglob(\"*.zip\")\n",
    "\n",
    "while True:\n",
    "    try:\n",
    "        path = next(zip_files)\n",
    "    except StopIteration:\n",
    "        print('all zip files have been unzipped')\n",
    "        break  # no more files\n",
    "    except PermissionError:\n",
    "        logging.exception(\"permission error\")\n",
    "    else:\n",
    "        extract_dir = pathlib.Path(latest_csvs)\n",
    "        subprocess.call(['unzip', '-o', path, '-d', extract_dir])\n",
    "# for root, dirs, files in os.walk(latest_csvs):\n",
    "#     for d in dirs:\n",
    "#         os.chmod(os.path.join(root, d), 0o777)\n",
    "#     for f in files:\n",
    "#         os.chmod(os.path.join(root, f), 0o777)\n"
   ]
  },
  {
   "cell_type": "code",
   "execution_count": 11,
   "metadata": {
    "ExecuteTime": {
     "end_time": "2019-09-29T00:29:27.264462Z",
     "start_time": "2019-09-29T00:29:27.246125Z"
    }
   },
   "outputs": [
    {
     "name": "stdout",
     "output_type": "stream",
     "text": [
      "/home/justin/projects/lendingclub/data/csvs/raw_zipped_csvs/LoanStats_securev1_2017Q2.csv.zip\n",
      "/home/justin/projects/lendingclub/data/csvs/raw_zipped_csvs/LoanStats_securev1_2018Q2.csv.zip\n",
      "/home/justin/projects/lendingclub/data/csvs/raw_zipped_csvs/LoanStats3d_securev1.csv.zip\n",
      "/home/justin/projects/lendingclub/data/csvs/raw_zipped_csvs/LoanStats_securev1_2017Q4.csv.zip\n",
      "/home/justin/projects/lendingclub/data/csvs/raw_zipped_csvs/LoanStats_securev1_2018Q4.csv.zip\n",
      "/home/justin/projects/lendingclub/data/csvs/raw_zipped_csvs/LoanStats_securev1_2016Q2.csv.zip\n",
      "/home/justin/projects/lendingclub/data/csvs/raw_zipped_csvs/LoanStats_securev1_2016Q1.csv.zip\n",
      "/home/justin/projects/lendingclub/data/csvs/raw_zipped_csvs/LoanStats_securev1_2018Q1.csv.zip\n",
      "/home/justin/projects/lendingclub/data/csvs/raw_zipped_csvs/LoanStats_securev1_2016Q4.csv.zip\n"
     ]
    },
    {
     "ename": "StopIteration",
     "evalue": "",
     "output_type": "error",
     "traceback": [
      "\u001b[0;31m---------------------------------------------------------------------------\u001b[0m",
      "\u001b[0;31mStopIteration\u001b[0m                             Traceback (most recent call last)",
      "\u001b[0;32m<ipython-input-11-1b4468134a16>\u001b[0m in \u001b[0;36m<module>\u001b[0;34m\u001b[0m\n\u001b[1;32m      1\u001b[0m \u001b[0mzip_files\u001b[0m \u001b[0;34m=\u001b[0m \u001b[0mpathlib\u001b[0m\u001b[0;34m.\u001b[0m\u001b[0mPath\u001b[0m\u001b[0;34m(\u001b[0m\u001b[0mconfig\u001b[0m\u001b[0;34m.\u001b[0m\u001b[0mraw_dl_dir\u001b[0m\u001b[0;34m)\u001b[0m\u001b[0;34m.\u001b[0m\u001b[0mrglob\u001b[0m\u001b[0;34m(\u001b[0m\u001b[0;34m\"*.zip\"\u001b[0m\u001b[0;34m)\u001b[0m\u001b[0;34m\u001b[0m\u001b[0;34m\u001b[0m\u001b[0m\n\u001b[1;32m      2\u001b[0m \u001b[0;32mfor\u001b[0m \u001b[0mf\u001b[0m \u001b[0;32min\u001b[0m \u001b[0mzip_files\u001b[0m\u001b[0;34m:\u001b[0m\u001b[0;34m\u001b[0m\u001b[0;34m\u001b[0m\u001b[0m\n\u001b[0;32m----> 3\u001b[0;31m     \u001b[0mpath\u001b[0m \u001b[0;34m=\u001b[0m \u001b[0mnext\u001b[0m\u001b[0;34m(\u001b[0m\u001b[0mzip_files\u001b[0m\u001b[0;34m)\u001b[0m\u001b[0;34m\u001b[0m\u001b[0;34m\u001b[0m\u001b[0m\n\u001b[0m\u001b[1;32m      4\u001b[0m     \u001b[0mprint\u001b[0m\u001b[0;34m(\u001b[0m\u001b[0mpath\u001b[0m\u001b[0;34m)\u001b[0m\u001b[0;34m\u001b[0m\u001b[0;34m\u001b[0m\u001b[0m\n",
      "\u001b[0;31mStopIteration\u001b[0m: "
     ]
    }
   ],
   "source": [
    "zip_files = pathlib.Path(config.raw_dl_dir).rglob(\"*.zip\")\n",
    "for f in zip_files:\n",
    "    path = next(zip_files)\n",
    "    print(path)"
   ]
  },
  {
   "cell_type": "code",
   "execution_count": 15,
   "metadata": {
    "ExecuteTime": {
     "end_time": "2019-09-28T23:31:26.092906Z",
     "start_time": "2019-09-28T23:31:26.077702Z"
    }
   },
   "outputs": [],
   "source": [
    "os.makedirs??"
   ]
  },
  {
   "cell_type": "code",
   "execution_count": 13,
   "metadata": {
    "ExecuteTime": {
     "end_time": "2019-09-28T22:42:46.189386Z",
     "start_time": "2019-09-28T22:42:46.183951Z"
    }
   },
   "outputs": [
    {
     "data": {
      "text/plain": [
       "'/home/justin/projects/lendingclub/data/csvs/archived_csvs/csvs_09_28_11h_45m_43s_2019'"
      ]
     },
     "execution_count": 13,
     "metadata": {},
     "output_type": "execute_result"
    }
   ],
   "source": [
    "csv_path"
   ]
  },
  {
   "cell_type": "code",
   "execution_count": 11,
   "metadata": {
    "ExecuteTime": {
     "end_time": "2019-09-28T22:42:42.156274Z",
     "start_time": "2019-09-28T22:42:42.151743Z"
    }
   },
   "outputs": [],
   "source": [
    "for path in zip_files:\n",
    "    print(path)"
   ]
  },
  {
   "cell_type": "code",
   "execution_count": 7,
   "metadata": {
    "ExecuteTime": {
     "end_time": "2019-09-28T22:42:09.477036Z",
     "start_time": "2019-09-28T22:42:09.356102Z"
    }
   },
   "outputs": [
    {
     "name": "stdout",
     "output_type": "stream",
     "text": [
      "\u001b[0m\u001b[01;32mclean_loan_info.ipynb\u001b[0m*      dev_clean_pmt_history_1.ipynb\r\n",
      "\u001b[01;32mclean_pmt_history_1.ipynb\u001b[0m*  \u001b[01;32mmerge_loan_info.ipynb\u001b[0m*\r\n",
      "\u001b[01;32mclean_pmt_history_2.ipynb\u001b[0m*  \u001b[01;32munzip_zipped_lc_files.ipynb\u001b[0m*\r\n",
      "\u001b[01;32mclean_pmt_history_3.ipynb\u001b[0m*\r\n"
     ]
    }
   ],
   "source": [
    "ls"
   ]
  },
  {
   "cell_type": "code",
   "execution_count": 8,
   "metadata": {
    "ExecuteTime": {
     "end_time": "2019-09-28T22:42:11.481704Z",
     "start_time": "2019-09-28T22:42:11.466656Z"
    }
   },
   "outputs": [
    {
     "data": {
      "text/plain": [
       "'/home/justin/projects/lendingclub/notebooks/csv_preparation'"
      ]
     },
     "execution_count": 8,
     "metadata": {},
     "output_type": "execute_result"
    }
   ],
   "source": [
    "pwd"
   ]
  },
  {
   "cell_type": "markdown",
   "metadata": {},
   "source": [
    "# Old"
   ]
  },
  {
   "cell_type": "code",
   "execution_count": 7,
   "metadata": {
    "ExecuteTime": {
     "end_time": "2019-06-14T19:47:24.097869Z",
     "start_time": "2019-06-14T19:47:24.078549Z"
    },
    "scrolled": true
   },
   "outputs": [
    {
     "name": "stdout",
     "output_type": "stream",
     "text": [
      "Overwriting ../../scripts/csv_preparation/unzip_csvs.py\n"
     ]
    }
   ],
   "source": [
    "%%writefile ../../scripts/csv_preparation/unzip_csvs.py\n",
    "import os\n",
    "import sys\n",
    "import logging\n",
    "import pathlib\n",
    "import shutil\n",
    "import subprocess\n",
    "sys.path.append(os.path.join(os.path.expanduser('~'), 'projects'))\n",
    "sys.path.append(os.path.join(os.path.expanduser('~'), 'projects', 'lendingclub'))\n",
    "import lendingclub.scripts.csv_dl_archiving.download_prep as dp\n",
    "\n",
    "dpath = os.path.join(os.path.expanduser('~'), 'projects/lendingclub/data/csvs')\n",
    "latest_csvs = os.path.join(dpath, 'latest_csvs')\n",
    "if os.path.exists(latest_csvs):\n",
    "    shutil.rmtree(latest_csvs)\n",
    "os.makedirs(latest_csvs)\n",
    "csv_path = dp.get_sorted_creationtime_dirs(os.path.join(dpath, 'archived_csvs'))[-1][1] # get last, path portion of tuple\n",
    "zip_files = pathlib.Path(csv_path).rglob(\"*.zip\")\n",
    "\n",
    "while True:\n",
    "    try:\n",
    "        path = next(zip_files)\n",
    "    except StopIteration:\n",
    "        print('all zip files have been unzipped')\n",
    "        break  # no more files\n",
    "    except PermissionError:\n",
    "        logging.exception(\"permission error\")\n",
    "    else:\n",
    "        extract_dir = pathlib.Path(latest_csvs)\n",
    "        subprocess.call(['unzip', '-o', path, '-d', extract_dir])\n",
    "        \n",
    "for root, dirs, files in os.walk(latest_csvs):\n",
    "    for d in dirs:\n",
    "        os.chmod(os.path.join(root, d), 0o777)\n",
    "    for f in files:\n",
    "        os.chmod(os.path.join(root, f), 0o777)"
   ]
  },
  {
   "cell_type": "code",
   "execution_count": 4,
   "metadata": {
    "ExecuteTime": {
     "end_time": "2019-06-14T19:46:19.140114Z",
     "start_time": "2019-06-14T19:46:19.122528Z"
    }
   },
   "outputs": [],
   "source": [
    "dpath = os.path.join(os.path.expanduser('~'), 'projects/lendingclub/data/csvs')\n",
    "latest_csvs = os.path.join(dpath, 'latest_csvs')"
   ]
  },
  {
   "cell_type": "code",
   "execution_count": 6,
   "metadata": {
    "ExecuteTime": {
     "end_time": "2019-06-14T19:46:34.005116Z",
     "start_time": "2019-06-14T19:46:33.927469Z"
    }
   },
   "outputs": [
    {
     "ename": "PermissionError",
     "evalue": "[Errno 13] Permission denied: '/home/justin/projects/lendingclub/data/csvs/latest_csvs/LoanStats_securev1_2017Q4.csv'",
     "output_type": "error",
     "traceback": [
      "\u001b[0;31m---------------------------------------------------------------------------\u001b[0m",
      "\u001b[0;31mPermissionError\u001b[0m                           Traceback (most recent call last)",
      "\u001b[0;32m<ipython-input-6-4dbfa2f4fa17>\u001b[0m in \u001b[0;36m<module>\u001b[0;34m\u001b[0m\n\u001b[1;32m      3\u001b[0m         \u001b[0mos\u001b[0m\u001b[0;34m.\u001b[0m\u001b[0mchmod\u001b[0m\u001b[0;34m(\u001b[0m\u001b[0mos\u001b[0m\u001b[0;34m.\u001b[0m\u001b[0mpath\u001b[0m\u001b[0;34m.\u001b[0m\u001b[0mjoin\u001b[0m\u001b[0;34m(\u001b[0m\u001b[0mroot\u001b[0m\u001b[0;34m,\u001b[0m \u001b[0md\u001b[0m\u001b[0;34m)\u001b[0m\u001b[0;34m,\u001b[0m \u001b[0;36m0o777\u001b[0m\u001b[0;34m)\u001b[0m\u001b[0;34m\u001b[0m\u001b[0;34m\u001b[0m\u001b[0m\n\u001b[1;32m      4\u001b[0m     \u001b[0;32mfor\u001b[0m \u001b[0mf\u001b[0m \u001b[0;32min\u001b[0m \u001b[0mfiles\u001b[0m\u001b[0;34m:\u001b[0m\u001b[0;34m\u001b[0m\u001b[0;34m\u001b[0m\u001b[0m\n\u001b[0;32m----> 5\u001b[0;31m         \u001b[0mos\u001b[0m\u001b[0;34m.\u001b[0m\u001b[0mchmod\u001b[0m\u001b[0;34m(\u001b[0m\u001b[0mos\u001b[0m\u001b[0;34m.\u001b[0m\u001b[0mpath\u001b[0m\u001b[0;34m.\u001b[0m\u001b[0mjoin\u001b[0m\u001b[0;34m(\u001b[0m\u001b[0mroot\u001b[0m\u001b[0;34m,\u001b[0m \u001b[0mf\u001b[0m\u001b[0;34m)\u001b[0m\u001b[0;34m,\u001b[0m \u001b[0;36m0o777\u001b[0m\u001b[0;34m)\u001b[0m\u001b[0;34m\u001b[0m\u001b[0;34m\u001b[0m\u001b[0m\n\u001b[0m",
      "\u001b[0;31mPermissionError\u001b[0m: [Errno 13] Permission denied: '/home/justin/projects/lendingclub/data/csvs/latest_csvs/LoanStats_securev1_2017Q4.csv'"
     ]
    }
   ],
   "source": [
    "for root, dirs, files in os.walk(latest_csvs):\n",
    "    for d in dirs:\n",
    "        os.chmod(os.path.join(root, d), 0o777)\n",
    "    for f in files:\n",
    "        os.chmod(os.path.join(root, f), 0o777)"
   ]
  },
  {
   "cell_type": "code",
   "execution_count": 9,
   "metadata": {
    "ExecuteTime": {
     "end_time": "2019-06-11T19:48:32.356471Z",
     "start_time": "2019-06-11T19:48:32.335837Z"
    }
   },
   "outputs": [
    {
     "data": {
      "text/plain": [
       "[(1560223963,\n",
       "  '/home/justin/projects/lendingclub/data/csvs/archived_csvs/csvs_06_10_20h_06m_29s_2019')]"
      ]
     },
     "execution_count": 9,
     "metadata": {},
     "output_type": "execute_result"
    }
   ],
   "source": [
    "csv_path"
   ]
  },
  {
   "cell_type": "code",
   "execution_count": 37,
   "metadata": {
    "ExecuteTime": {
     "end_time": "2019-06-11T19:39:58.385200Z",
     "start_time": "2019-06-11T19:39:58.246620Z"
    }
   },
   "outputs": [
    {
     "name": "stdout",
     "output_type": "stream",
     "text": [
      "download_and_check_csvs.py  __init__.py   test_mkdirs.py\r\n",
      "download_prep.py            \u001b[0m\u001b[01;34m__pycache__\u001b[0m/\r\n"
     ]
    }
   ],
   "source": [
    "ls ../../scripts/csv_dl_archiving"
   ]
  },
  {
   "cell_type": "code",
   "execution_count": 30,
   "metadata": {
    "ExecuteTime": {
     "end_time": "2019-06-11T05:02:44.184023Z",
     "start_time": "2019-06-11T05:02:44.166464Z"
    }
   },
   "outputs": [],
   "source": [
    "import inspect"
   ]
  },
  {
   "cell_type": "code",
   "execution_count": 33,
   "metadata": {
    "ExecuteTime": {
     "end_time": "2019-06-11T05:03:22.889619Z",
     "start_time": "2019-06-11T05:03:22.868749Z"
    }
   },
   "outputs": [
    {
     "data": {
      "text/plain": [
       "(['def get_sorted_creationtime_dirs(ppath):\\n',\n",
       "  '    csv_folders = [os.path.join(ppath, fn) for fn in os.listdir(\\n',\n",
       "  \"        ppath) if fn not in ['archived_csvs', 'working_csvs']]\\n\",\n",
       "  '    csv_folders = [(os.stat(path), path) for path in csv_folders]\\n',\n",
       "  '    csv_folders = [(stat[ST_CTIME], path)\\n',\n",
       "  '                   for stat, path in csv_folders if S_ISDIR(stat[ST_MODE])]\\n',\n",
       "  '    return sorted(csv_folders)\\n'],\n",
       " 206)"
      ]
     },
     "execution_count": 33,
     "metadata": {},
     "output_type": "execute_result"
    }
   ],
   "source": [
    "inspect.getsourcelines(dp.get_sorted_creationtime_dirs)"
   ]
  },
  {
   "cell_type": "code",
   "execution_count": 23,
   "metadata": {
    "ExecuteTime": {
     "end_time": "2019-06-11T04:43:30.065541Z",
     "start_time": "2019-06-11T04:43:29.933803Z"
    }
   },
   "outputs": [
    {
     "name": "stdout",
     "output_type": "stream",
     "text": [
      "\u001b[0m\u001b[01;34mcsvs_06_10_20h_06m_29s_2019\u001b[0m/\r\n"
     ]
    }
   ],
   "source": [
    "ls {dpath}/archived_csvs"
   ]
  },
  {
   "cell_type": "code",
   "execution_count": 29,
   "metadata": {
    "ExecuteTime": {
     "end_time": "2019-06-11T04:44:46.948496Z",
     "start_time": "2019-06-11T04:44:46.928351Z"
    }
   },
   "outputs": [
    {
     "data": {
      "text/plain": [
       "[(1560223963,\n",
       "  '/home/justin/projects/lendingclub/data/csvs/archived_csvs/csvs_06_10_20h_06m_29s_2019')]"
      ]
     },
     "execution_count": 29,
     "metadata": {},
     "output_type": "execute_result"
    }
   ],
   "source": [
    "dp.get_sorted_creationtime_dirs(dpath+'/archived_csvs')"
   ]
  },
  {
   "cell_type": "code",
   "execution_count": null,
   "metadata": {},
   "outputs": [],
   "source": []
  }
 ],
 "metadata": {
  "kernelspec": {
   "display_name": "Python [conda env:lendingclub]",
   "language": "python",
   "name": "conda-env-lendingclub-py"
  },
  "language_info": {
   "codemirror_mode": {
    "name": "ipython",
    "version": 3
   },
   "file_extension": ".py",
   "mimetype": "text/x-python",
   "name": "python",
   "nbconvert_exporter": "python",
   "pygments_lexer": "ipython3",
   "version": "3.7.4"
  },
  "notify_time": "5",
  "varInspector": {
   "cols": {
    "lenName": 16,
    "lenType": 16,
    "lenVar": 40
   },
   "kernels_config": {
    "python": {
     "delete_cmd_postfix": "",
     "delete_cmd_prefix": "del ",
     "library": "var_list.py",
     "varRefreshCmd": "print(var_dic_list())"
    },
    "r": {
     "delete_cmd_postfix": ") ",
     "delete_cmd_prefix": "rm(",
     "library": "var_list.r",
     "varRefreshCmd": "cat(var_dic_list()) "
    }
   },
   "types_to_exclude": [
    "module",
    "function",
    "builtin_function_or_method",
    "instance",
    "_Feature"
   ],
   "window_display": false
  }
 },
 "nbformat": 4,
 "nbformat_minor": 2
}
