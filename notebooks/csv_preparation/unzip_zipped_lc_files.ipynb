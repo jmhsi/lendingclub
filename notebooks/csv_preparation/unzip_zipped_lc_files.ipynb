{
 "cells": [
  {
   "cell_type": "code",
   "execution_count": 21,
   "metadata": {
    "ExecuteTime": {
     "end_time": "2019-06-11T04:42:51.951780Z",
     "start_time": "2019-06-11T04:42:51.900683Z"
    }
   },
   "outputs": [],
   "source": [
    "# %%writefile ../../scripts/csv_preparation/unzip_csvs.py\n",
    "import os\n",
    "import logging\n",
    "import pathlib\n",
    "import shutil\n",
    "import subprocess\n",
    "sys.path.append(os.path.abspath('../../..'))\n",
    "import lendingclub.scripts.csv_dl_archiving.download_prep as dp\n",
    "\n",
    "dpath = '/home/justin/projects/lendingclub/data/csvs'\n",
    "working_csvs = os.path.join(dpath, 'latest_csvs')\n",
    "if os.path.exists(working_csvs):\n",
    "    shutil.rmtree(working_csvs)\n",
    "os.makedirs(working_csvs)\n",
    "csv_path = dp.get_sorted_creationtime_dirs(dpath)[-1][1]\n",
    "zip_files = pathlib.Path(csv_path).rglob(\"*.zip\")\n",
    "\n",
    "while True:\n",
    "    try:\n",
    "        path = next(zip_files)\n",
    "    except StopIteration:\n",
    "        print('all zip files have been unzipped')\n",
    "        break  # no more files\n",
    "    except PermissionError:\n",
    "        logging.exception(\"permission error\")\n",
    "    else:\n",
    "        extract_dir = pathlib.Path(working_csvs)\n",
    "        subprocess.call(['unzip', '-o', path, '-d', extract_dir])"
   ]
  },
  {
   "cell_type": "code",
   "execution_count": 30,
   "metadata": {
    "ExecuteTime": {
     "end_time": "2019-06-11T05:02:44.184023Z",
     "start_time": "2019-06-11T05:02:44.166464Z"
    }
   },
   "outputs": [],
   "source": [
    "import inspect"
   ]
  },
  {
   "cell_type": "code",
   "execution_count": 33,
   "metadata": {
    "ExecuteTime": {
     "end_time": "2019-06-11T05:03:22.889619Z",
     "start_time": "2019-06-11T05:03:22.868749Z"
    }
   },
   "outputs": [
    {
     "data": {
      "text/plain": [
       "(['def get_sorted_creationtime_dirs(ppath):\\n',\n",
       "  '    csv_folders = [os.path.join(ppath, fn) for fn in os.listdir(\\n',\n",
       "  \"        ppath) if fn not in ['archived_csvs', 'working_csvs']]\\n\",\n",
       "  '    csv_folders = [(os.stat(path), path) for path in csv_folders]\\n',\n",
       "  '    csv_folders = [(stat[ST_CTIME], path)\\n',\n",
       "  '                   for stat, path in csv_folders if S_ISDIR(stat[ST_MODE])]\\n',\n",
       "  '    return sorted(csv_folders)\\n'],\n",
       " 206)"
      ]
     },
     "execution_count": 33,
     "metadata": {},
     "output_type": "execute_result"
    }
   ],
   "source": [
    "inspect.getsourcelines(dp.get_sorted_creationtime_dirs)"
   ]
  },
  {
   "cell_type": "code",
   "execution_count": 23,
   "metadata": {
    "ExecuteTime": {
     "end_time": "2019-06-11T04:43:30.065541Z",
     "start_time": "2019-06-11T04:43:29.933803Z"
    }
   },
   "outputs": [
    {
     "name": "stdout",
     "output_type": "stream",
     "text": [
      "\u001b[0m\u001b[01;34mcsvs_06_10_20h_06m_29s_2019\u001b[0m/\r\n"
     ]
    }
   ],
   "source": [
    "ls {dpath}/archived_csvs"
   ]
  },
  {
   "cell_type": "code",
   "execution_count": 29,
   "metadata": {
    "ExecuteTime": {
     "end_time": "2019-06-11T04:44:46.948496Z",
     "start_time": "2019-06-11T04:44:46.928351Z"
    }
   },
   "outputs": [
    {
     "data": {
      "text/plain": [
       "[(1560223963,\n",
       "  '/home/justin/projects/lendingclub/data/csvs/archived_csvs/csvs_06_10_20h_06m_29s_2019')]"
      ]
     },
     "execution_count": 29,
     "metadata": {},
     "output_type": "execute_result"
    }
   ],
   "source": [
    "dp.get_sorted_creationtime_dirs(dpath+'/archived_csvs')"
   ]
  },
  {
   "cell_type": "code",
   "execution_count": null,
   "metadata": {},
   "outputs": [],
   "source": []
  }
 ],
 "metadata": {
  "kernelspec": {
   "display_name": "Python 3",
   "language": "python",
   "name": "python3"
  },
  "language_info": {
   "codemirror_mode": {
    "name": "ipython",
    "version": 3
   },
   "file_extension": ".py",
   "mimetype": "text/x-python",
   "name": "python",
   "nbconvert_exporter": "python",
   "pygments_lexer": "ipython3",
   "version": "3.6.7"
  },
  "varInspector": {
   "cols": {
    "lenName": 16,
    "lenType": 16,
    "lenVar": 40
   },
   "kernels_config": {
    "python": {
     "delete_cmd_postfix": "",
     "delete_cmd_prefix": "del ",
     "library": "var_list.py",
     "varRefreshCmd": "print(var_dic_list())"
    },
    "r": {
     "delete_cmd_postfix": ") ",
     "delete_cmd_prefix": "rm(",
     "library": "var_list.r",
     "varRefreshCmd": "cat(var_dic_list()) "
    }
   },
   "types_to_exclude": [
    "module",
    "function",
    "builtin_function_or_method",
    "instance",
    "_Feature"
   ],
   "window_display": false
  }
 },
 "nbformat": 4,
 "nbformat_minor": 2
}
