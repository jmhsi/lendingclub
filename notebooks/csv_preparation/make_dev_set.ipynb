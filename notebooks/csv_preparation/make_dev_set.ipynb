{
 "cells": [
  {
   "cell_type": "code",
   "execution_count": 1,
   "metadata": {
    "ExecuteTime": {
     "end_time": "2019-10-18T18:29:29.373244Z",
     "start_time": "2019-10-18T18:29:25.413840Z"
    }
   },
   "outputs": [],
   "source": [
    "import sys\n",
    "import os\n",
    "import pandas as pd\n",
    "from pandas.api.types import is_string_dtype\n",
    "import math\n",
    "import re\n",
    "from tqdm import tqdm_notebook, tqdm\n",
    "import j_utils.munging as mg\n",
    "from lendingclub import config\n",
    "\n",
    "rli = pd.read_feather(os.path.join(config.data_dir, 'raw_loan_info.fth'))\n",
    "# Mangle grade and subgrade to make them useless since their meaning\n",
    "# has changed so much over the years (As of 10/4/2019) LC doesn't\n",
    "# have E,F,G grades\n",
    "rli['grade'] = 0\n",
    "# take a random sample of 100000 loans to work with\n",
    "rli = rli.sample(5000, random_state=42)\n",
    "dev_ids = rli['id']"
   ]
  },
  {
   "cell_type": "code",
   "execution_count": 2,
   "metadata": {
    "ExecuteTime": {
     "end_time": "2019-10-18T18:29:29.394421Z",
     "start_time": "2019-10-18T18:29:29.376564Z"
    }
   },
   "outputs": [
    {
     "name": "stdout",
     "output_type": "stream",
     "text": [
      "2019-06-01 00:00:00\n"
     ]
    }
   ],
   "source": [
    "for g, group in rli.groupby('grade'):\n",
    "    print(pd.to_datetime(group['issue_d']).max())"
   ]
  },
  {
   "cell_type": "code",
   "execution_count": 3,
   "metadata": {
    "ExecuteTime": {
     "end_time": "2019-10-18T18:29:29.397629Z",
     "start_time": "2019-10-18T18:29:29.395842Z"
    }
   },
   "outputs": [],
   "source": [
    "# print(dev_ids.to_list())"
   ]
  },
  {
   "cell_type": "code",
   "execution_count": 4,
   "metadata": {
    "ExecuteTime": {
     "end_time": "2019-10-18T18:29:29.401910Z",
     "start_time": "2019-10-18T18:29:29.398938Z"
    }
   },
   "outputs": [],
   "source": [
    "import pickle\n",
    "\n",
    "with open(os.path.join(config.data_dir,'dev_ids.pkl'), 'wb') as f:\n",
    "    pickle.dump(dev_ids.to_list(), f)"
   ]
  },
  {
   "cell_type": "code",
   "execution_count": null,
   "metadata": {},
   "outputs": [],
   "source": []
  }
 ],
 "metadata": {
  "kernelspec": {
   "display_name": "Python [conda env:lendingclub]",
   "language": "python",
   "name": "conda-env-lendingclub-py"
  },
  "language_info": {
   "codemirror_mode": {
    "name": "ipython",
    "version": 3
   },
   "file_extension": ".py",
   "mimetype": "text/x-python",
   "name": "python",
   "nbconvert_exporter": "python",
   "pygments_lexer": "ipython3",
   "version": "3.7.4"
  }
 },
 "nbformat": 4,
 "nbformat_minor": 2
}
