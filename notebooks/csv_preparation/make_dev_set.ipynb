{
 "cells": [
  {
   "cell_type": "code",
   "execution_count": 1,
   "metadata": {
    "ExecuteTime": {
     "end_time": "2019-10-20T00:17:31.153922Z",
     "start_time": "2019-10-20T00:17:28.381553Z"
    }
   },
   "outputs": [],
   "source": [
    "import sys\n",
    "import os\n",
    "import pandas as pd\n",
    "from pandas.api.types import is_string_dtype\n",
    "import math\n",
    "import re\n",
    "from tqdm import tqdm_notebook, tqdm\n",
    "import j_utils.munging as mg\n",
    "from lendingclub import config\n",
    "\n",
    "rli = pd.read_feather(os.path.join(config.data_dir, 'raw_loan_info.fth'))\n",
    "# Lendingclub still has internal grades through G\n",
    "# take a random sample of 100000 loans to work with\n",
    "# rli = rli.sample(5000, random_state=42)\n",
    "dev_ids = rli['id']"
   ]
  },
  {
   "cell_type": "code",
   "execution_count": 2,
   "metadata": {
    "ExecuteTime": {
     "end_time": "2019-10-20T00:17:33.044223Z",
     "start_time": "2019-10-20T00:17:33.040084Z"
    }
   },
   "outputs": [],
   "source": [
    "# for g, group in rli.groupby('grade'):\n",
    "#     print(pd.to_datetime(group['issue_d']).max())"
   ]
  },
  {
   "cell_type": "code",
   "execution_count": 3,
   "metadata": {
    "ExecuteTime": {
     "end_time": "2019-10-20T00:17:33.651250Z",
     "start_time": "2019-10-20T00:17:33.647160Z"
    }
   },
   "outputs": [],
   "source": [
    "# print(dev_ids.to_list())"
   ]
  },
  {
   "cell_type": "code",
   "execution_count": 4,
   "metadata": {
    "ExecuteTime": {
     "end_time": "2019-10-20T00:17:36.445521Z",
     "start_time": "2019-10-20T00:17:36.282075Z"
    }
   },
   "outputs": [],
   "source": [
    "import pickle\n",
    "\n",
    "with open(os.path.join(config.data_dir,'dev_ids.pkl'), 'wb') as f:\n",
    "    pickle.dump(dev_ids.to_list(), f)"
   ]
  },
  {
   "cell_type": "code",
   "execution_count": null,
   "metadata": {},
   "outputs": [],
   "source": []
  }
 ],
 "metadata": {
  "kernelspec": {
   "display_name": "Python [conda env:lendingclub]",
   "language": "python",
   "name": "conda-env-lendingclub-py"
  },
  "language_info": {
   "codemirror_mode": {
    "name": "ipython",
    "version": 3
   },
   "file_extension": ".py",
   "mimetype": "text/x-python",
   "name": "python",
   "nbconvert_exporter": "python",
   "pygments_lexer": "ipython3",
   "version": "3.7.4"
  }
 },
 "nbformat": 4,
 "nbformat_minor": 2
}
