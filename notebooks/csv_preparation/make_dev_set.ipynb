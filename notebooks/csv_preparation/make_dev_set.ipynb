{
 "cells": [
  {
   "cell_type": "code",
   "execution_count": 2,
   "metadata": {
    "ExecuteTime": {
     "end_time": "2019-09-29T01:24:50.918297Z",
     "start_time": "2019-09-29T01:24:50.911031Z"
    }
   },
   "outputs": [],
   "source": [
    "import sys\n",
    "import os\n",
    "import pandas as pd\n",
    "from pandas.api.types import is_string_dtype\n",
    "import math\n",
    "import re\n",
    "from tqdm import tqdm_notebook, tqdm\n",
    "import j_utils.munging as mg\n",
    "from lendingclub import config"
   ]
  },
  {
   "cell_type": "code",
   "execution_count": 5,
   "metadata": {
    "ExecuteTime": {
     "end_time": "2019-09-29T01:25:15.303259Z",
     "start_time": "2019-09-29T01:25:15.179552Z"
    }
   },
   "outputs": [
    {
     "name": "stdout",
     "output_type": "stream",
     "text": [
      "LoanStats3a_securev1.csv       LoanStats_securev1_2017Q3.csv\r\n",
      "LoanStats3b_securev1.csv       LoanStats_securev1_2017Q4.csv\r\n",
      "LoanStats3c_securev1.csv       LoanStats_securev1_2018Q1.csv\r\n",
      "LoanStats3d_securev1.csv       LoanStats_securev1_2018Q2.csv\r\n",
      "LoanStats_securev1_2016Q1.csv  LoanStats_securev1_2018Q3.csv\r\n",
      "LoanStats_securev1_2016Q2.csv  LoanStats_securev1_2018Q4.csv\r\n",
      "LoanStats_securev1_2016Q3.csv  LoanStats_securev1_2019Q1.csv\r\n",
      "LoanStats_securev1_2016Q4.csv  LoanStats_securev1_2019Q2.csv\r\n",
      "LoanStats_securev1_2017Q1.csv  PMTHIST_ALL_201909.csv\r\n",
      "LoanStats_securev1_2017Q2.csv\r\n"
     ]
    }
   ],
   "source": [
    "ls {config.wrk_csv_dir}"
   ]
  },
  {
   "cell_type": "code",
   "execution_count": null,
   "metadata": {},
   "outputs": [],
   "source": []
  }
 ],
 "metadata": {
  "kernelspec": {
   "display_name": "Python [conda env:lendingclub]",
   "language": "python",
   "name": "conda-env-lendingclub-py"
  },
  "language_info": {
   "codemirror_mode": {
    "name": "ipython",
    "version": 3
   },
   "file_extension": ".py",
   "mimetype": "text/x-python",
   "name": "python",
   "nbconvert_exporter": "python",
   "pygments_lexer": "ipython3",
   "version": "3.7.4"
  }
 },
 "nbformat": 4,
 "nbformat_minor": 2
}
