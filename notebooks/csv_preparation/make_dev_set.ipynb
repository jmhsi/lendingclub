{
 "cells": [
  {
   "cell_type": "code",
   "execution_count": 13,
   "metadata": {
    "ExecuteTime": {
     "end_time": "2019-10-24T02:28:00.221025Z",
     "start_time": "2019-10-24T02:27:57.536072Z"
    }
   },
   "outputs": [],
   "source": [
    "import sys\n",
    "import os\n",
    "import pandas as pd\n",
    "from pandas.api.types import is_string_dtype\n",
    "import math\n",
    "import re\n",
    "from tqdm import tqdm_notebook, tqdm\n",
    "import j_utils.munging as mg\n",
    "from lendingclub import config\n",
    "\n",
    "rli = pd.read_feather(os.path.join(config.data_dir, 'raw_loan_info.fth'))\n",
    "# Lendingclub still has internal grades through G\n",
    "# take a random sample of 100000 loans to work with\n",
    "rli = rli.sample(5000, random_state=42)\n",
    "dev_ids = rli['id']"
   ]
  },
  {
   "cell_type": "code",
   "execution_count": 14,
   "metadata": {
    "ExecuteTime": {
     "end_time": "2019-10-24T02:28:00.224552Z",
     "start_time": "2019-10-24T02:28:00.222940Z"
    }
   },
   "outputs": [],
   "source": [
    "# for g, group in rli.groupby('grade'):\n",
    "#     print(pd.to_datetime(group['issue_d']).max())"
   ]
  },
  {
   "cell_type": "code",
   "execution_count": 15,
   "metadata": {
    "ExecuteTime": {
     "end_time": "2019-10-24T02:28:00.228757Z",
     "start_time": "2019-10-24T02:28:00.226055Z"
    }
   },
   "outputs": [],
   "source": [
    "# print(dev_ids.to_list())"
   ]
  },
  {
   "cell_type": "code",
   "execution_count": 16,
   "metadata": {
    "ExecuteTime": {
     "end_time": "2019-10-24T02:28:00.233076Z",
     "start_time": "2019-10-24T02:28:00.230073Z"
    }
   },
   "outputs": [],
   "source": [
    "import pickle\n",
    "\n",
    "with open(os.path.join(config.data_dir,'dev_ids.pkl'), 'wb') as f:\n",
    "    pickle.dump(dev_ids.to_list(), f)"
   ]
  },
  {
   "cell_type": "code",
   "execution_count": null,
   "metadata": {},
   "outputs": [],
   "source": []
  }
 ],
 "metadata": {
  "kernelspec": {
   "display_name": "Python [conda env:lendingclub]",
   "language": "python",
   "name": "conda-env-lendingclub-py"
  },
  "language_info": {
   "codemirror_mode": {
    "name": "ipython",
    "version": 3
   },
   "file_extension": ".py",
   "mimetype": "text/x-python",
   "name": "python",
   "nbconvert_exporter": "python",
   "pygments_lexer": "ipython3",
   "version": "3.7.4"
  }
 },
 "nbformat": 4,
 "nbformat_minor": 2
}
