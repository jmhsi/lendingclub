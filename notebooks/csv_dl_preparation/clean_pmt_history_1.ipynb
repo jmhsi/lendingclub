{
 "cells": [
  {
   "cell_type": "markdown",
   "metadata": {},
   "source": [
    "# Author: Justin Hsi\n",
    "## Part  1 of cleaning lending club payment history"
   ]
  },
  {
   "cell_type": "code",
   "execution_count": 1,
   "metadata": {
    "ExecuteTime": {
     "end_time": "2018-08-23T21:06:05.048878Z",
     "start_time": "2018-08-23T21:06:05.015672Z"
    }
   },
   "outputs": [],
   "source": [
    "import dir_constants as dc\n",
    "from tqdm import tqdm_notebook"
   ]
  },
  {
   "cell_type": "code",
   "execution_count": 2,
   "metadata": {
    "ExecuteTime": {
     "end_time": "2018-08-23T21:06:05.427941Z",
     "start_time": "2018-08-23T21:06:05.413076Z"
    }
   },
   "outputs": [],
   "source": [
    "PATH = '/home/justin/rsync_dl_rig/unzipped_lc_csvs/PMTHIST_ALL_201808.csv'"
   ]
  },
  {
   "cell_type": "code",
   "execution_count": 3,
   "metadata": {
    "ExecuteTime": {
     "end_time": "2018-08-23T21:09:02.930825Z",
     "start_time": "2018-08-23T21:06:05.795853Z"
    }
   },
   "outputs": [
    {
     "name": "stdout",
     "output_type": "stream",
     "text": [
      "37,327,674 rows of pmt_hist loaded\n",
      "payment history for 2003523 different loan ids\n"
     ]
    }
   ],
   "source": [
    "# Set some constants __________________________________________________________\n",
    "platform = 'lendingclub'\n",
    "\n",
    "# Set data_path _______________________________________________________________\n",
    "data_path = dc.home_path + '/rsync_dl_rig/unzipped_lc_csvs/'\n",
    "\n",
    "# Load in pmt_hist_file _______________________________________________________\n",
    "files = os.listdir(data_path)\n",
    "# loan_hist_filename = [file_ for file_ in files if file_.startswith('PMTHIST')][0]\n",
    "# pmt_hist = pd.read_csv(data_path + '{0}'.format(loan_hist_filename), low_memory=False)\n",
    "pmt_hist = pd.read_csv(PATH, low_memory=False)\n",
    "print(\"{:,}\".format(len(pmt_hist)) + \" rows of pmt_hist loaded\")\n",
    "\n",
    "# Set loan ids as strings _____________________________________________________\n",
    "pmt_hist['LOAN_ID'] = pmt_hist['LOAN_ID'].astype(int)\n",
    "print('payment history for', len(pmt_hist['LOAN_ID'].unique()), 'different loan ids')\n",
    "\n",
    "# Round values to 3 decimal places ____________________________________________\n",
    "pmt_hist = pmt_hist.round(3)\n",
    "\n",
    "# renaming columns ____________________________________________________________\n",
    "rename_col_dict = {\n",
    "    'LOAN_ID': 'loan_id',\n",
    "    'PBAL_BEG_PERIOD': 'outs_princp_beg',\n",
    "    'PRNCP_PAID': 'princp_paid',\n",
    "    'INT_PAID': 'int_paid',\n",
    "    'FEE_PAID': 'fee_paid',\n",
    "    'DUE_AMT': 'amt_due',\n",
    "    'RECEIVED_AMT': 'amt_paid',\n",
    "    'RECEIVED_D': 'pmt_date',\n",
    "    'PERIOD_END_LSTAT': 'status_period_end',\n",
    "    'MONTH': 'date',\n",
    "    'PBAL_END_PERIOD': 'outs_princp_end',\n",
    "    'MOB': 'm_on_books',\n",
    "    'CO': 'charged_off_this_month',\n",
    "    'COAMT': 'charged_off_amt',\n",
    "    'InterestRate': 'int_rate',\n",
    "    'IssuedDate': 'issue_d',\n",
    "    'MONTHLYCONTRACTAMT': 'monthly_pmt',\n",
    "    'dti': 'dti',\n",
    "    'State': 'addr_state',\n",
    "    'HomeOwnership': 'home_ownership',\n",
    "    'MonthlyIncome': 'm_income',\n",
    "    'EarliestCREDITLine': 'first_credit_line',\n",
    "    'OpenCREDITLines': 'open_credit_lines',\n",
    "    'TotalCREDITLines': 'total_credit_lines',\n",
    "    'RevolvingCREDITBalance': 'revol_credit_bal',\n",
    "    'RevolvingLineUtilization': 'revol_line_util',\n",
    "    'Inquiries6M': 'inq_6m',\n",
    "    'DQ2yrs': 'dq_24m',\n",
    "    'MonthsSinceDQ': 'm_since_dq',\n",
    "    'PublicRec': 'public_recs',\n",
    "    'MonthsSinceLastRec': 'm_since_rec',\n",
    "    'EmploymentLength': 'emp_len',\n",
    "    'currentpolicy': 'current_policy',\n",
    "    'grade': 'grade',\n",
    "    'term': 'term',\n",
    "    'APPL_FICO_BAND': 'fico_apply',\n",
    "    'Last_FICO_BAND': 'fico_last',\n",
    "    'VINTAGE': 'vintage',\n",
    "    'PCO_RECOVERY': 'recovs',\n",
    "    'PCO_COLLECTION_FEE': 'recov_fees',\n",
    "}\n",
    "\n",
    "pmt_hist.rename(columns=rename_col_dict, inplace=True)"
   ]
  },
  {
   "cell_type": "markdown",
   "metadata": {},
   "source": [
    "# try and reduces memory"
   ]
  },
  {
   "cell_type": "code",
   "execution_count": 4,
   "metadata": {
    "ExecuteTime": {
     "end_time": "2018-08-23T21:09:02.951672Z",
     "start_time": "2018-08-23T21:09:02.932456Z"
    }
   },
   "outputs": [],
   "source": [
    "import j_utils.munging"
   ]
  },
  {
   "cell_type": "code",
   "execution_count": 5,
   "metadata": {
    "ExecuteTime": {
     "end_time": "2018-08-23T21:10:00.327854Z",
     "start_time": "2018-08-23T21:09:02.953191Z"
    },
    "scrolled": true
   },
   "outputs": [
    {
     "name": "stderr",
     "output_type": "stream",
     "text": [
      "100%|██████████| 26/26 [00:13<00:00,  1.87it/s]\n"
     ]
    },
    {
     "name": "stdout",
     "output_type": "stream",
     "text": [
      "changed dtypes of 26 cols\n",
      "<class 'pandas.core.frame.DataFrame'>\n",
      "RangeIndex: 37327674 entries, 0 to 37327673\n",
      "Data columns (total 40 columns):\n",
      "pmt_date                  object\n",
      "status_period_end         object\n",
      "date                      object\n",
      "issue_d                   object\n",
      "addr_state                object\n",
      "home_ownership            object\n",
      "first_credit_line         object\n",
      "inq_6m                    object\n",
      "public_recs               object\n",
      "emp_len                   object\n",
      "grade                     object\n",
      "fico_apply                object\n",
      "fico_last                 object\n",
      "vintage                   object\n",
      "amt_due                   float32\n",
      "amt_paid                  float32\n",
      "charged_off_amt           float32\n",
      "charged_off_this_month    int8\n",
      "current_policy            int8\n",
      "dq_24m                    float32\n",
      "dti                       float32\n",
      "fee_paid                  float32\n",
      "int_paid                  float32\n",
      "int_rate                  float32\n",
      "loan_id                   int32\n",
      "m_income                  float32\n",
      "m_on_books                int8\n",
      "m_since_dq                float32\n",
      "m_since_rec               float32\n",
      "monthly_pmt               float32\n",
      "open_credit_lines         float32\n",
      "outs_princp_beg           float32\n",
      "outs_princp_end           float32\n",
      "princp_paid               float32\n",
      "recov_fees                float32\n",
      "recovs                    float32\n",
      "revol_credit_bal          int32\n",
      "revol_line_util           float32\n",
      "term                      int8\n",
      "total_credit_lines        float32\n",
      "dtypes: float32(20), int32(2), int8(4), object(14)\n",
      "memory usage: 34.2 GB\n"
     ]
    }
   ],
   "source": [
    "changed_cols, pmt_hist = j_utils.munging.compress_memory(pmt_hist)\n",
    "pmt_hist.info(memory_usage='deep')"
   ]
  },
  {
   "cell_type": "code",
   "execution_count": 6,
   "metadata": {
    "ExecuteTime": {
     "end_time": "2018-08-23T21:10:01.330885Z",
     "start_time": "2018-08-23T21:10:00.329488Z"
    }
   },
   "outputs": [
    {
     "data": {
      "text/plain": [
       "263"
      ]
     },
     "execution_count": 6,
     "metadata": {},
     "output_type": "execute_result"
    }
   ],
   "source": [
    "gc.collect()"
   ]
  },
  {
   "cell_type": "markdown",
   "metadata": {},
   "source": [
    "# Parsing and Cleaning"
   ]
  },
  {
   "cell_type": "code",
   "execution_count": 7,
   "metadata": {
    "ExecuteTime": {
     "end_time": "2018-08-23T21:18:55.283433Z",
     "start_time": "2018-08-23T21:10:05.355478Z"
    }
   },
   "outputs": [
    {
     "name": "stderr",
     "output_type": "stream",
     "text": [
      "/home/justin/anaconda3/lib/python3.6/site-packages/ipykernel_launcher.py:98: DeprecationWarning: \n",
      ".ix is deprecated. Please use\n",
      ".loc for label based indexing or\n",
      ".iloc for positional indexing\n",
      "\n",
      "See the documentation here:\n",
      "http://pandas.pydata.org/pandas-docs/stable/indexing.html#ix-indexer-is-deprecated\n"
     ]
    }
   ],
   "source": [
    "# There are 5 columns dealing with money: princp_paid, int_paid, fee_paid,\n",
    "# recovs, and recovs_fee. princp_paid + int_paid + fee_paid is sometimes short\n",
    "# of amt_paid. Be conservative and rewrite amt_paid to be sum of said 3.\n",
    "# Also make all_cash_to_inv = amt_paid + recovs - recov_fees\n",
    "# Fee paid is always positive, and by inspection it is money borrower pays out\n",
    "pmt_hist[\n",
    "    'amt_paid'] = pmt_hist['princp_paid'] + pmt_hist['int_paid'] + pmt_hist['fee_paid']\n",
    "pmt_hist['recovs'].fillna(0, inplace=True)\n",
    "pmt_hist['recov_fees'].fillna(0, inplace=True)\n",
    "pmt_hist[\n",
    "    'all_cash_to_inv'] = pmt_hist['amt_paid'] + pmt_hist['recovs'] - pmt_hist['recov_fees']\n",
    "\n",
    "# turn all date columns into pandas timestamp _________________________________\n",
    "month_dict = {\n",
    "    'jan': '1-',\n",
    "    'feb': '2-',\n",
    "    'mar': '3-',\n",
    "    'apr': '4-',\n",
    "    'may': '5-',\n",
    "    'jun': '6-',\n",
    "    'jul': '7-',\n",
    "    'aug': '8-',\n",
    "    'sep': '9-',\n",
    "    'oct': '10-',\n",
    "    'nov': '11-',\n",
    "    'dec': '12-'\n",
    "}\n",
    "\n",
    "# pmt_date ____________________________________________________________________\n",
    "pmt_hist['pmt_date'] = pd.to_datetime(\n",
    "    pmt_hist['pmt_date'].str[:3].str.lower().replace(month_dict) +\n",
    "    pmt_hist['pmt_date'].str[3:],\n",
    "    format='%m-%Y')\n",
    "\n",
    "# date ________________________________________________________________________\n",
    "pmt_hist['date'] = pd.to_datetime(\n",
    "    pmt_hist['date'].str[:3].str.lower().replace(month_dict) +\n",
    "    pmt_hist['date'].str[3:],\n",
    "    format='%m-%Y')\n",
    "\n",
    "# issue_d _____________________________________________________________________\n",
    "pmt_hist['issue_d'] = pd.to_datetime(\n",
    "    pmt_hist['issue_d'].str[:3].str.lower().replace(month_dict) +\n",
    "    pmt_hist['issue_d'].str[3:],\n",
    "    format='%m-%Y')\n",
    "\n",
    "# first_credit_line ____________________________________________________________\n",
    "pmt_hist['first_credit_line'] = pd.to_datetime(\n",
    "    pmt_hist['first_credit_line'].str[:3].str.lower().replace(month_dict) +\n",
    "    pmt_hist['first_credit_line'].str[3:],\n",
    "    format='%m-%Y')\n",
    "\n",
    "# status_period_end ____________________________________________________________\n",
    "status_fix = {\n",
    "    'Current': 'current',\n",
    "    'Late (31-120 days)': 'late_120',\n",
    "    'Fully Paid': 'paid',\n",
    "    'Charged Off': 'charged_off',\n",
    "    'Default': 'defaulted',\n",
    "    'Late (16-30 days)': 'late_30',\n",
    "    'In Grace Period': 'grace_15',\n",
    "    'Issued': 'current'\n",
    "}\n",
    "pmt_hist['status_period_end'] = pmt_hist['status_period_end'].replace(\n",
    "    status_fix)\n",
    "\n",
    "# home_ownership _______________________________________________________________\n",
    "home_ownership_fix = {\n",
    "    'admin_us': 'other',\n",
    "    'mortgage': 'mortgage',\n",
    "    'rent': 'rent',\n",
    "    'own': 'own',\n",
    "    'other': 'other',\n",
    "    'none': 'none',\n",
    "    'any': 'none'\n",
    "}\n",
    "pmt_hist['home_ownership'] = pmt_hist['home_ownership'].str.lower().replace(\n",
    "    home_ownership_fix)\n",
    "\n",
    "# public_recs __________________________________________________________________\n",
    "records_fix = {\n",
    "    '*': 1\n",
    "}  #leave nan as nan, but * had at least 1 from m_since_record\n",
    "pmt_hist['public_recs'] = pmt_hist['public_recs'].replace(records_fix).astype(\n",
    "    float)\n",
    "\n",
    "# fico_apply __________________________________________________________________\n",
    "fico_apply_fix = {'850': '850-850'}\n",
    "pmt_hist['fico_apply'] = pmt_hist['fico_apply'].replace(fico_apply_fix)\n",
    "pmt_hist['fico_apply'] = (pmt_hist['fico_apply'].str[:3].astype(int) +\n",
    "                          pmt_hist['fico_apply'].str[4:].astype(int)) / 2\n",
    "pmt_hist['fico_apply'] = pmt_hist['fico_apply'].astype(int)\n",
    "\n",
    "# fico_last ___________________________________________________________________\n",
    "fico_last_fix = {'845-HIGH': '845-849', 'LOW-499': '495-499'}\n",
    "pmt_hist['fico_last'] = pmt_hist['fico_last'].replace(fico_last_fix)\n",
    "pmt_hist.ix[pmt_hist['fico_last'] != 'MISSING', 'fico_last'] = (\n",
    "    pmt_hist.ix[pmt_hist['fico_last'] != 'MISSING', 'fico_last'].str[:3]\n",
    "    .astype(int) + pmt_hist.ix[pmt_hist['fico_last'] != 'MISSING',\n",
    "                               'fico_last'].str[4:].astype(int)) / 2\n",
    "pmt_hist.ix[pmt_hist['fico_last'] == 'MISSING', 'fico_last'] = pmt_hist.ix[\n",
    "    pmt_hist['fico_last'] == 'MISSING', 'fico_apply']\n",
    "pmt_hist['fico_last'] = pmt_hist['fico_last'].astype(int)\n",
    "\n",
    "# revol_credit_bal ____________________________________________________________\n",
    "pmt_hist['revol_credit_bal'] = pmt_hist['revol_credit_bal'].astype(\n",
    "    float)\n",
    "\n",
    "# fix on a few bad rows where I think there is a mistaken amt_paid ____________\n",
    "pmt_hist.ix[(pmt_hist['pmt_date'].isnull() & pmt_hist['amt_paid'] > 0),\n",
    "            'amt_paid'] = 0\n",
    "\n",
    "# There is a problem with the inquiries 6m column. Some are nan values and some\n",
    "# are marked '*' with no explanation. inq6m should be in loan info so dropping\n",
    "pmt_hist.drop('inq_6m', axis=1, inplace=True)\n",
    "\n",
    "# add a column which is numerical of loan_id for later reading from hdfstore\n",
    "pmt_hist['loan_id_num'] = pmt_hist['loan_id'].astype('int')"
   ]
  },
  {
   "cell_type": "code",
   "execution_count": 10,
   "metadata": {
    "ExecuteTime": {
     "end_time": "2018-08-23T21:19:19.198269Z",
     "start_time": "2018-08-23T21:18:55.649694Z"
    }
   },
   "outputs": [],
   "source": [
    "# save as feather format\n",
    "PATH = '/home/justin/all_data/lendingclub/'\n",
    "pmt_hist.to_feather(f'{PATH}pmt_hist_c1.fth')"
   ]
  },
  {
   "cell_type": "markdown",
   "metadata": {},
   "source": [
    "# Store part 1 of cleaning"
   ]
  },
  {
   "cell_type": "code",
   "execution_count": 11,
   "metadata": {
    "ExecuteTime": {
     "end_time": "2018-08-24T20:30:46.160809Z",
     "start_time": "2018-08-24T20:30:46.135274Z"
    }
   },
   "outputs": [],
   "source": [
    "# # store pmt_history in hdfstore _______________________________________________\n",
    "# store = pd.HDFStore(\n",
    "#     dc.home_path+'/justin_tinkering/data_science/lendingclub/{0}_store.h5'.\n",
    "#     format(platform),\n",
    "#     append=True)\n",
    "\n",
    "# # Create min_itemsize_dict for allocating size when storing ___________________\n",
    "# min_itemsize_dict = {}\n",
    "# for col in pmt_hist.columns:\n",
    "#     if pmt_hist[col].dtype == np.object:\n",
    "#         print(col, pmt_hist[col].str.len().max())\n",
    "#         if col in ['State', 'VINTAGE', 'grade']:\n",
    "#             pass\n",
    "#         else:\n",
    "#             min_itemsize_dict[col] = 15\n",
    "\n",
    "# total_len = len(pmt_hist)\n",
    "# chunk_size = 120000 # 120k rows at a time\n",
    "# chunks = np.ceil(total_len/chunk_size)\n",
    "# df_chunks = np.array_split(pmt_hist, chunks)\n",
    "\n",
    "     \n",
    "# k = 0\n",
    "# for chunk in tqdm_notebook(df_chunks):\n",
    "#     if k == 0:\n",
    "#         store.append(\n",
    "#             'pmt_hist_intermediary_1',\n",
    "#             chunk,\n",
    "#             data_columns=True,\n",
    "#             index=True,\n",
    "#             append=False,\n",
    "#             min_itemsize=min_itemsize_dict)\n",
    "#         k += 1\n",
    "#     else:\n",
    "#         store.append(\n",
    "#             'pmt_hist_intermediary_1',\n",
    "#             chunk,\n",
    "#             data_columns=True,\n",
    "#             index=True,\n",
    "#             append=True)            \n",
    "        \n",
    "# # store pmt_hist ids        \n",
    "# pmt_hist_ids = pd.Series(pmt_hist['loan_id'].unique())\n",
    "# pmt_hist_ids.to_hdf(store, 'pmt_hist_ids', mode='w')        \n",
    "# print(store.keys())\n",
    "# print(store)        \n",
    "# store.close()"
   ]
  },
  {
   "cell_type": "markdown",
   "metadata": {},
   "source": [
    "# Below was investigating to base my choices above on"
   ]
  },
  {
   "cell_type": "code",
   "execution_count": null,
   "metadata": {},
   "outputs": [],
   "source": [
    "# pmt_hist['unaccounted_rec_pmt_money'] = pmt_hist['amt_paid'] - (\n",
    "#     pmt_hist['princp_paid'] + pmt_hist['int_paid'] + pmt_hist['fee_paid'])\n",
    "\n",
    "# # Don't care about differences less than a cent _______________________________\n",
    "# pmt_hist['unaccounted_rec_pmt_money'] = np.where(\n",
    "#     pmt_hist['unaccounted_rec_pmt_money'] < 0.01, 0,\n",
    "#     pmt_hist['unaccounted_rec_pmt_money'])\n",
    "\n",
    "# # These should probably be Received_amt 0 because there is no received_d\n",
    "# pmt_hist[(pmt_hist['unaccounted_rec_pmt_money'] > 0) & (pmt_hist['PERIOD_END_LSTAT'] != 'Fully Paid')]"
   ]
  }
 ],
 "metadata": {
  "anaconda-cloud": {},
  "kernelspec": {
   "display_name": "Python 3",
   "language": "python",
   "name": "python3"
  },
  "language_info": {
   "codemirror_mode": {
    "name": "ipython",
    "version": 3
   },
   "file_extension": ".py",
   "mimetype": "text/x-python",
   "name": "python",
   "nbconvert_exporter": "python",
   "pygments_lexer": "ipython3",
   "version": "3.6.3"
  },
  "notify_time": "5",
  "varInspector": {
   "cols": {
    "lenName": 16,
    "lenType": 16,
    "lenVar": 40
   },
   "kernels_config": {
    "python": {
     "delete_cmd_postfix": "",
     "delete_cmd_prefix": "del ",
     "library": "var_list.py",
     "varRefreshCmd": "print(var_dic_list())"
    },
    "r": {
     "delete_cmd_postfix": ") ",
     "delete_cmd_prefix": "rm(",
     "library": "var_list.r",
     "varRefreshCmd": "cat(var_dic_list()) "
    }
   },
   "types_to_exclude": [
    "module",
    "function",
    "builtin_function_or_method",
    "instance",
    "_Feature"
   ],
   "window_display": false
  }
 },
 "nbformat": 4,
 "nbformat_minor": 1
}
