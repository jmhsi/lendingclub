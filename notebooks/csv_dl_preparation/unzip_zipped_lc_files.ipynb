{
 "cells": [
  {
   "cell_type": "code",
   "execution_count": 35,
   "metadata": {
    "ExecuteTime": {
     "end_time": "2018-10-05T08:38:56.742480Z",
     "start_time": "2018-10-05T08:38:56.725495Z"
    }
   },
   "outputs": [
    {
     "name": "stdout",
     "output_type": "stream",
     "text": [
      "Overwriting unzip_csvs.py\n"
     ]
    }
   ],
   "source": [
    "%%writefile unzip_csvs.py\n",
    "import os\n",
    "import logging\n",
    "import pathlib\n",
    "import shutil\n",
    "import subprocess\n",
    "import lendingclub.csv_dl_preparation.download_prep as dp\n",
    "\n",
    "dpath = '/home/justin/all_data/lendingclub/csvs'\n",
    "working_csvs = os.path.join(dpath, 'working_csvs')\n",
    "if os.path.exists(working_csvs):\n",
    "    shutil.rmtree(working_csvs)\n",
    "os.makedirs(working_csvs)\n",
    "csv_path = dp.get_sorted_creationtime_dirs(dpath)[-1][1]\n",
    "zip_files = pathlib.Path(csv_path).rglob(\"*.zip\")\n",
    "\n",
    "while True:\n",
    "    try:\n",
    "        path = next(zip_files)\n",
    "    except StopIteration:\n",
    "        print('all zip files have been unzipped')\n",
    "        break  # no more files\n",
    "    except PermissionError:\n",
    "        logging.exception(\"permission error\")\n",
    "    else:\n",
    "        extract_dir = pathlib.Path(working_csvs)\n",
    "        subprocess.call(['unzip', '-o', path, '-d', extract_dir])"
   ]
  },
  {
   "cell_type": "code",
   "execution_count": 36,
   "metadata": {
    "ExecuteTime": {
     "end_time": "2018-10-05T08:39:13.563337Z",
     "start_time": "2018-10-05T08:39:13.425413Z"
    }
   },
   "outputs": [
    {
     "name": "stdout",
     "output_type": "stream",
     "text": [
      "LoanStats3a_securev1.csv       LoanStats_securev1_2017Q1.csv\r\n",
      "LoanStats3b_securev1.csv       LoanStats_securev1_2017Q2.csv\r\n",
      "LoanStats3c_securev1.csv       LoanStats_securev1_2017Q3.csv\r\n",
      "LoanStats3d_securev1.csv       LoanStats_securev1_2017Q4.csv\r\n",
      "LoanStats_securev1_2016Q1.csv  LoanStats_securev1_2018Q1.csv\r\n",
      "LoanStats_securev1_2016Q2.csv  LoanStats_securev1_2018Q2.csv\r\n",
      "LoanStats_securev1_2016Q3.csv  PMTHIST_ALL_201809.csv\r\n",
      "LoanStats_securev1_2016Q4.csv\r\n"
     ]
    }
   ],
   "source": [
    "ls {working_csvs}"
   ]
  },
  {
   "cell_type": "code",
   "execution_count": null,
   "metadata": {},
   "outputs": [],
   "source": []
  }
 ],
 "metadata": {
  "kernelspec": {
   "display_name": "Python 3",
   "language": "python",
   "name": "python3"
  },
  "language_info": {
   "codemirror_mode": {
    "name": "ipython",
    "version": 3
   },
   "file_extension": ".py",
   "mimetype": "text/x-python",
   "name": "python",
   "nbconvert_exporter": "python",
   "pygments_lexer": "ipython3",
   "version": "3.6.3"
  },
  "varInspector": {
   "cols": {
    "lenName": 16,
    "lenType": 16,
    "lenVar": 40
   },
   "kernels_config": {
    "python": {
     "delete_cmd_postfix": "",
     "delete_cmd_prefix": "del ",
     "library": "var_list.py",
     "varRefreshCmd": "print(var_dic_list())"
    },
    "r": {
     "delete_cmd_postfix": ") ",
     "delete_cmd_prefix": "rm(",
     "library": "var_list.r",
     "varRefreshCmd": "cat(var_dic_list()) "
    }
   },
   "types_to_exclude": [
    "module",
    "function",
    "builtin_function_or_method",
    "instance",
    "_Feature"
   ],
   "window_display": false
  }
 },
 "nbformat": 4,
 "nbformat_minor": 2
}
