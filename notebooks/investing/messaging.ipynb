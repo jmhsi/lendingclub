{
 "cells": [
  {
   "cell_type": "code",
   "execution_count": null,
   "metadata": {
    "ExecuteTime": {
     "end_time": "2018-02-12T20:50:45.191984Z",
     "start_time": "2018-02-12T20:50:45.187025Z"
    }
   },
   "outputs": [],
   "source": [
    "# %load /home/justin/invest_round.sh\n",
    "#! /bin/bash\n",
    "# echo $PATH 2>&1 | mail -s pre_source ruwenus@gmail.com\n",
    "source justin_tinkering/justin_tinker/bin/activate\n",
    "export PATH=\"/home/justin/bin:/home/justin/.local/bin:/usr/local/cuda-8.0/bin:/home/justin/anaconda3/bin:/usr/local/sbin:/usr/local/bin:/usr/sbin:/usr/bin:/sbin:/bin:/usr/games:/usr/local/games:/snap/bin$ \"\n",
    "#export PATH=\"${PATH}:/home/justin/justin_tinkering/data_science/\"\n",
    "# echo $PATH 2>&1 | mail -s post_source ruwenus@gmail.com\n",
    "#export PYTHONPATH=\"${PYTHONPATH}:/home/justin/anaconda3/bin/python/\"\n",
    "#export PYTHONPATH=\"${PYTHONPATH}:/home/justin/anaconda3/lib/python3.6/site-packages/\"\n",
    "export PYTHONPATH=\"${PYTHONPATH}:/home/justin/justin_tinkering/data_science/\"\n",
    "# python -c \"import sys; print '\\n'.join(sys.path)\" 2>&1 | mail -s python_post_SOURCE ruwenus@gmail.com\n",
    "\n",
    "# virtualenv is now active, which means your PATH has been modified.\n",
    "# Don't try to run python from /usr/bin/python, just run \"python\" and\n",
    "# let the PATH figure out which version to run (based on what your\n",
    "# virtualenv has configured).\n",
    "\n",
    "python ~/justin_tinkering/data_science/lendingclub/investing/invest_script.py 2>&1 | mail -s `date +\"%Y/%m/%d-%H:%M:%S\"`_investment_round ruwenus@gmail.com\n",
    "#sleep 1s\n",
    "#python ~/justin_tinkering/data_science/lendingclub/counting_loans_batches/count_loans.py 2>&1 | mail -s `date +\"%Y/%m/%d-%H:%M:%S\"`loan_count_after_invest_round ruwenus@gmail.com\n",
    "\n",
    "sleep 5s\n",
    "\n",
    "python ~/justin_tinkering/data_science/lendingclub/investing/invest_script_instant.py 2>&1 | mail -s `date +\"%Y/%m/%d-%H:%M:%S\"`_investment_round ruwenus@gmail.com\n",
    "#sleep 1s\n",
    "#python ~/justin_tinkering/data_science/lendingclub/counting_loans_batches/count_loans.py 2>&1 | mail -s `date +\"%Y/%m/%d-%H:%M:%S\"`loan_count_after_invest_round ruwenus@gmail.com\n"
   ]
  },
  {
   "cell_type": "code",
   "execution_count": 9,
   "metadata": {
    "ExecuteTime": {
     "end_time": "2018-02-12T20:51:33.687585Z",
     "start_time": "2018-02-12T20:51:33.570754Z"
    }
   },
   "outputs": [],
   "source": [
    "!export PATH=\"/home/justin/bin:/home/justin/.local/bin:/usr/local/cuda-8.0/bin:/home/justin/anaconda3/bin:/usr/local/sbin:/usr/local/bin:/usr/sbin:/usr/bin:/sbin:/bin:/usr/games:/usr/local/games:/snap/bin$ \""
   ]
  },
  {
   "cell_type": "code",
   "execution_count": 10,
   "metadata": {
    "ExecuteTime": {
     "end_time": "2018-02-12T20:51:34.489990Z",
     "start_time": "2018-02-12T20:51:34.372481Z"
    }
   },
   "outputs": [],
   "source": [
    "!export PYTHONPATH=\"${PYTHONPATH}:/home/justin/justin_tinkering/data_science/\""
   ]
  },
  {
   "cell_type": "code",
   "execution_count": 11,
   "metadata": {
    "ExecuteTime": {
     "end_time": "2018-02-12T20:51:35.502343Z",
     "start_time": "2018-02-12T20:51:35.183797Z"
    }
   },
   "outputs": [
    {
     "name": "stdout",
     "output_type": "stream",
     "text": [
      "From DL Server, instant invest\n",
      "Traceback (most recent call last):\n",
      "  File \"invest_script_instant.py\", line 6, in <module>\n",
      "    import lendingclub.account_info as acc_info\n",
      "ModuleNotFoundError: No module named 'lendingclub'\n"
     ]
    }
   ],
   "source": [
    "!python invest_script_instant.py"
   ]
  },
  {
   "cell_type": "code",
   "execution_count": null,
   "metadata": {
    "ExecuteTime": {
     "end_time": "2018-08-18T00:02:23.849950Z",
     "start_time": "2018-08-18T00:02:23.831450Z"
    }
   },
   "outputs": [],
   "source": [
    "# %load /home/justin/ethermine_alert/pa_ethermine_alert.py\n",
    "#!/usr/bin/env python\n",
    "#\n",
    "# Written by /u/ExploitZero. Constructive feedback is always welcome. Feel free to modify this script for your own needs.\n",
    "#\n",
    "# Purpose:\n",
    "#\n",
    "#    Monitor Ethermine to determine whether your rigs are active and performing as expected.\n",
    "#\n",
    "# Usage:\n",
    "#\n",
    "#    Run this script from a Linux system that is NOT one of your rigs.\n",
    "#\n",
    "#    1) Create a new Gmail account with a username and password you do not use for other websites.\n",
    "#    2) Copy this script into your preferred directory. Ensure that it is executable by issuing the 'chmod a+x ethermine_alert.py' command.\n",
    "#    3) Use a text editor (e.g., nano) to replace all items in USER DEFINED VARIABLES section with your rig's wallet address, your new gmail credentials, and the email to SMS addresses you'd like to receive the alerts.\n",
    "#    4) Issue the 'crontab -e' command and append '*/5 * * * * python /full/path/to/ethermine_alert.py' to the file (for a check every 5 minutes).\n",
    "#\n",
    "#    If you would like to run a test to make sure the script is working, modify the 'my_total_hashrate_threshold' variable to a number absurdly high for your workers, then issue the './ethermine_alert.py' command\n",
    "#\n",
    "# Feeling generous?\n",
    "#\n",
    "#     ETH:0x09439AD892a676a814aEA49aF2e0e8ee3106F11B\n",
    "#     BTC:14y78wmeJJhgZR9w1q468zvbmqFaWGKsku\n",
    "#\n",
    "\n",
    "##########################\n",
    "# USER DEFINED VARIABLES #\n",
    "##########################\n",
    "\n",
    "my_wallet_address = '0x176b4936219893955fFc3dc2f5E28ecA2354751e'\n",
    "my_gmail_account = 'justin.hsi.mine.alert@gmail.com'\n",
    "my_gmail_password = 'abcdef8868'\n",
    "my_recipients = ['ruwenus@gmail.com','zurenh@yahoo.com', 'jzhsi@yahoo.com']\n",
    "my_total_hashrate_threshold = 180\n",
    "my_worker_hashrate_threshold = 180\n",
    "\n",
    "########\n",
    "# Main #\n",
    "########\n",
    "\n",
    "import urllib.request as urllib2\n",
    "import json\n",
    "import smtplib\n",
    "\n",
    "issue = False\n",
    "message = 'There may be an issue with one of your rigs.\\n\\n'\n",
    "\n",
    "json_output = json.load(urllib2.urlopen(urllib2.Request('https://ethermine.org/api/miner_new/'+ my_wallet_address, headers={'User-Agent' : 'Magic Browser'})))\n",
    "for majorkey, subdict in json_output.items():\n",
    "    if majorkey == 'workers':\n",
    "        worker_names = subdict\n",
    "    if majorkey == 'hashRate':\n",
    "        total_hashrate = subdict\n",
    "\n",
    "if float(total_hashrate.split(\" \")[0]) < my_total_hashrate_threshold:\n",
    "    issue = True\n",
    "    message += 'Current effective hashrate is %s, which is below the threshold set at %s MH/s.\\n\\n' % (total_hashrate, my_total_hashrate_threshold)\n",
    "\n",
    "for key, subdict in worker_names.items():\n",
    "    worker_name = subdict\n",
    "    for key, value in worker_name.items():\n",
    "        if key == 'worker':\n",
    "            message += \"%s:%s\\n\" % (key,value)\n",
    "        if key == 'hashrate':\n",
    "            message += \"    %s:%s\\n\" % (key,value)\n",
    "            if float(value.split(\" \")[0]) < my_worker_hashrate_threshold:\n",
    "                issue = True\n",
    "                message += 'Hashrate is below the threshold set at %s MH/s.\\n\\n' % (my_worker_hashrate_threshold)\n",
    "\n",
    "def send_emails():\n",
    "    subject = 'Rig Issue'\n",
    "    smtpserver = smtplib.SMTP('smtp.gmail.com',587)\n",
    "    smtpserver.ehlo()\n",
    "    smtpserver.starttls()\n",
    "    smtpserver.ehlo()\n",
    "    smtpserver.login(my_gmail_account, my_gmail_password)\n",
    "    msg = \"\"\"From: %s\\nTo: %s\\nSubject: %s\\n\\n%s\"\"\" % (my_gmail_account, my_recipients, subject, message)\n",
    "    smtpserver.sendmail(my_gmail_account, my_recipients, msg)\n",
    "    smtpserver.close()\n",
    "\n",
    "if issue == True:\n",
    "    send_emails()\n",
    "else:\n",
    "    pass\n"
   ]
  },
  {
   "cell_type": "code",
   "execution_count": null,
   "metadata": {},
   "outputs": [],
   "source": []
  }
 ],
 "metadata": {
  "kernelspec": {
   "display_name": "Python 3",
   "language": "python",
   "name": "python3"
  },
  "language_info": {
   "codemirror_mode": {
    "name": "ipython",
    "version": 3
   },
   "file_extension": ".py",
   "mimetype": "text/x-python",
   "name": "python",
   "nbconvert_exporter": "python",
   "pygments_lexer": "ipython3",
   "version": "3.6.5"
  },
  "varInspector": {
   "cols": {
    "lenName": 16,
    "lenType": 16,
    "lenVar": 40
   },
   "kernels_config": {
    "python": {
     "delete_cmd_postfix": "",
     "delete_cmd_prefix": "del ",
     "library": "var_list.py",
     "varRefreshCmd": "print(var_dic_list())"
    },
    "r": {
     "delete_cmd_postfix": ") ",
     "delete_cmd_prefix": "rm(",
     "library": "var_list.r",
     "varRefreshCmd": "cat(var_dic_list()) "
    }
   },
   "types_to_exclude": [
    "module",
    "function",
    "builtin_function_or_method",
    "instance",
    "_Feature"
   ],
   "window_display": false
  }
 },
 "nbformat": 4,
 "nbformat_minor": 2
}
