{
 "cells": [
  {
   "cell_type": "code",
   "execution_count": 119,
   "metadata": {
    "ExecuteTime": {
     "end_time": "2020-01-03T18:53:46.578453Z",
     "start_time": "2020-01-03T18:53:46.571355Z"
    },
    "code_folding": [
     56,
     60,
     64,
     71,
     77
    ]
   },
   "outputs": [
    {
     "name": "stdout",
     "output_type": "stream",
     "text": [
      "Overwriting ../../lendingclub/app/app.py\n"
     ]
    }
   ],
   "source": [
    "%%writefile ../../lendingclub/app/app.py\n",
    "import os\n",
    "import pandas as pd\n",
    "from sqlalchemy import create_engine\n",
    "import dash\n",
    "import dash_core_components as dcc\n",
    "import dash_html_components as html\n",
    "import dash_table\n",
    "import plotly.graph_objects as go\n",
    "import plotly.express as px\n",
    "from dash.dependencies import Input, Output\n",
    "\n",
    "\n",
    "from lendingclub import config\n",
    "\n",
    "external_stylesheets = ['https://codepen.io/chriddyp/pen/bWLwgP.css']\n",
    "\n",
    "\n",
    "# load api_loans df and historical scores df\n",
    "disk_engine = create_engine(f'sqlite:///{config.lc_api_db}')\n",
    "df = pd.read_sql('lc_api_loans',\n",
    "                 con=disk_engine,\n",
    "                 parse_dates=[\n",
    "                     'accept_d', 'exp_d', 'list_d', 'credit_pull_d',\n",
    "                     'review_status_d', 'ils_exp_d', 'last_seen_list_d'\n",
    "                 ])\n",
    "hist_df = pd.read_feather(\n",
    "    os.path.join(config.data_dir, 'all_eval_loan_info_scored.fth'))\n",
    "\n",
    "# setup some constants for use in app\n",
    "rounds = sorted(df['list_d'].dt.hour.unique())\n",
    "min_date = df['list_d'].min().date()\n",
    "max_date = df['list_d'].max().date()\n",
    "print(min_date, max_date)\n",
    "\n",
    "app = dash.Dash(__name__, external_stylesheets=external_stylesheets)\n",
    "\n",
    "app.layout = html.Div([\n",
    "    html.H3('API loans'),\n",
    "    html.Div([\n",
    "        dcc.DatePickerRange(id='api-loans-date-picker-range',\n",
    "                            start_date=max_date,\n",
    "                            end_date=max_date,\n",
    "                            min_date_allowed=min_date,\n",
    "                            # for some reason I couldn't select max date\n",
    "                            max_date_allowed=max_date + pd.DateOffset(days=1),),\n",
    "        html.Div(id='api-loans-date-picker-range-info')\n",
    "    ]),\n",
    "    html.Div([\n",
    "        dcc.Dropdown(id='api-loans-round-dropdown',\n",
    "                 options=[{'label':i, 'value': i} for i in rounds],\n",
    "                 multi=True,\n",
    "                 value=rounds),\n",
    "        html.Div(id='api-loans-round-dropdown-info')\n",
    "    ]),    \n",
    "    dcc.Graph(id='api-loans-graph', ),\n",
    "    dash_table.DataTable(\n",
    "        id='api-table',\n",
    "        columns=[{\n",
    "            \"name\": i,\n",
    "            \"id\": i\n",
    "        } for i in df.columns],\n",
    "        fixed_columns={\n",
    "            'headers': True,\n",
    "            'data': 1\n",
    "        },\n",
    "        fixed_rows={\n",
    "            'headers': True,\n",
    "            'data': 0\n",
    "        },\n",
    "        style_table={\n",
    "            'maxHeight': '250px',\n",
    "            'maxWidth': '900px',\n",
    "            'overflowY': 'scroll',\n",
    "            'overflowX': 'scroll'\n",
    "        },\n",
    "        style_cell={'width': '150px'},\n",
    "        style_data_conditional=[{\n",
    "            'if': {\n",
    "                'row_index': 'odd'\n",
    "            },\n",
    "            'backgroundColor': 'rgb(248, 248, 248)'\n",
    "        }],\n",
    "        style_header={\n",
    "            'backgroundColor': 'rgb(230, 230, 230)',\n",
    "            'fontWeight': 'bold',\n",
    "            'border': '1px solid pink',\n",
    "        },\n",
    "        style_data={},\n",
    "    ),\n",
    "    html.H3('CSV loans'),\n",
    "\n",
    "])\n",
    "\n",
    "##### CALLBACKS #####\n",
    "@app.callback(\n",
    "    Output('api-table', 'data'), \n",
    "    [Input('api-loans-date-picker-range', 'start_date'),\n",
    "     Input('api-loans-date-picker-range', 'end_date'),\n",
    "     Input('api-loans-round-dropdown', 'value'),]\n",
    ")\n",
    "def update_api_table(start_date, end_date, listing_sess):\n",
    "    sub_df = df.query('list_d >= @start_date and list_d <= @end_date and list_d_hour in @listing_sess')\n",
    "    return sub_df.to_dict('records')\n",
    "\n",
    "@app.callback(\n",
    "    Output('api-loans-date-picker-range-info', 'children'),\n",
    "    [Input('api-loans-date-picker-range', 'start_date'),\n",
    "     Input('api-loans-date-picker-range', 'end_date'),]\n",
    ")\n",
    "def update_api_loans_date_picker_range_info(start_date, end_date):\n",
    "    return f'Dates selected from {start_date} to {end_date}'\n",
    "\n",
    "@app.callback(\n",
    "    Output('api-loans-round-dropdown-info', 'children'),\n",
    "    [Input('api-loans-round-dropdown', 'value'),]\n",
    ")\n",
    "def update_api_loans_round_dropdown_info(value):\n",
    "    '''\n",
    "    So far, haven't been able to find how to sort multi-select dropdown.\n",
    "    '''\n",
    "    return f'Selected daily loan release rounds {\", \".join([str(i) for i in sorted(value)])}'\n",
    "\n",
    "@app.callback(\n",
    "    Output('api-loans-graph', 'figure'), \n",
    "    [Input('api-loans-date-picker-range', 'start_date'),\n",
    "     Input('api-loans-date-picker-range', 'end_date'),\n",
    "     Input('api-loans-round-dropdown', 'value'),]\n",
    ")\n",
    "def update_api_loans_graph(start_date, end_date, listing_sess):\n",
    "    sub_df = df.query('list_d >= @start_date and list_d <= @end_date and list_d_hour in @listing_sess')\n",
    "    fig = px.histogram(sub_df, x='catboost_comb_20', nbins=100, histnorm='probability density', color='sub_grade', marginal='rug')\n",
    "    return fig\n",
    "\n",
    "\n",
    "if __name__ == '__main__':\n",
    "    app.run_server(debug=True)"
   ]
  },
  {
   "cell_type": "code",
   "execution_count": 115,
   "metadata": {
    "ExecuteTime": {
     "end_time": "2020-01-03T08:35:29.206117Z",
     "start_time": "2020-01-03T08:35:29.202739Z"
    }
   },
   "outputs": [],
   "source": [
    "import datetime"
   ]
  },
  {
   "cell_type": "code",
   "execution_count": 108,
   "metadata": {
    "ExecuteTime": {
     "end_time": "2020-01-03T08:33:52.834506Z",
     "start_time": "2020-01-03T08:33:52.829444Z"
    }
   },
   "outputs": [
    {
     "data": {
      "text/plain": [
       "datetime.date(2020, 1, 1)"
      ]
     },
     "execution_count": 108,
     "metadata": {},
     "output_type": "execute_result"
    }
   ],
   "source": [
    "max_date = df['list_d'].max().date()\n",
    "max_date"
   ]
  },
  {
   "cell_type": "code",
   "execution_count": 117,
   "metadata": {
    "ExecuteTime": {
     "end_time": "2020-01-03T08:35:36.141624Z",
     "start_time": "2020-01-03T08:35:36.135460Z"
    }
   },
   "outputs": [
    {
     "data": {
      "text/plain": [
       "Timestamp('2020-02-01 00:00:00')"
      ]
     },
     "execution_count": 117,
     "metadata": {},
     "output_type": "execute_result"
    }
   ],
   "source": [
    "datetime.date(2020,1,31)+ pd.DateOffset(days=1)"
   ]
  },
  {
   "cell_type": "code",
   "execution_count": 112,
   "metadata": {
    "ExecuteTime": {
     "end_time": "2020-01-03T08:34:50.894127Z",
     "start_time": "2020-01-03T08:34:50.889554Z"
    }
   },
   "outputs": [
    {
     "data": {
      "text/plain": [
       "Timestamp('2020-01-02 00:00:00')"
      ]
     },
     "execution_count": 112,
     "metadata": {},
     "output_type": "execute_result"
    }
   ],
   "source": [
    "max_date + pd.DateOffset(days=1)"
   ]
  },
  {
   "cell_type": "code",
   "execution_count": 105,
   "metadata": {
    "ExecuteTime": {
     "end_time": "2020-01-03T08:11:01.737772Z",
     "start_time": "2020-01-03T08:11:01.703608Z"
    }
   },
   "outputs": [],
   "source": [
    "dcc.DatePickerRange??"
   ]
  },
  {
   "cell_type": "code",
   "execution_count": 61,
   "metadata": {
    "ExecuteTime": {
     "end_time": "2020-01-02T01:42:25.522501Z",
     "start_time": "2020-01-02T01:42:25.516471Z"
    }
   },
   "outputs": [],
   "source": [
    "rounds = sorted(df['list_d'].dt.hour.unique())"
   ]
  },
  {
   "cell_type": "code",
   "execution_count": 98,
   "metadata": {
    "ExecuteTime": {
     "end_time": "2020-01-03T05:15:01.744028Z",
     "start_time": "2020-01-03T05:15:01.736735Z"
    }
   },
   "outputs": [],
   "source": [
    "start_date = '2019-12-29'\n",
    "end_date = '2020-12-30'\n",
    "sub_df = df.query('list_d >= @start_date and list_d <= @end_date and ')"
   ]
  },
  {
   "cell_type": "code",
   "execution_count": 99,
   "metadata": {
    "ExecuteTime": {
     "end_time": "2020-01-03T05:15:02.047387Z",
     "start_time": "2020-01-03T05:15:01.994353Z"
    }
   },
   "outputs": [
    {
     "data": {
      "text/html": [
       "<div>\n",
       "<style scoped>\n",
       "    .dataframe tbody tr th:only-of-type {\n",
       "        vertical-align: middle;\n",
       "    }\n",
       "\n",
       "    .dataframe tbody tr th {\n",
       "        vertical-align: top;\n",
       "    }\n",
       "\n",
       "    .dataframe thead th {\n",
       "        text-align: right;\n",
       "    }\n",
       "</style>\n",
       "<table border=\"1\" class=\"dataframe\">\n",
       "  <thead>\n",
       "    <tr style=\"text-align: right;\">\n",
       "      <th></th>\n",
       "      <th>id</th>\n",
       "      <th>member_id</th>\n",
       "      <th>loan_amount</th>\n",
       "      <th>funded_amount</th>\n",
       "      <th>term</th>\n",
       "      <th>int_rate</th>\n",
       "      <th>exp_default_rate</th>\n",
       "      <th>service_fee_rate</th>\n",
       "      <th>installment</th>\n",
       "      <th>grade</th>\n",
       "      <th>...</th>\n",
       "      <th>list_d_year</th>\n",
       "      <th>list_d_month</th>\n",
       "      <th>list_d_day</th>\n",
       "      <th>list_d_week</th>\n",
       "      <th>list_d_hour</th>\n",
       "      <th>last_seen_list_d_year</th>\n",
       "      <th>last_seen_list_d_month</th>\n",
       "      <th>last_seen_list_d_day</th>\n",
       "      <th>last_seen_list_d_week</th>\n",
       "      <th>last_seen_list_d_hour</th>\n",
       "    </tr>\n",
       "  </thead>\n",
       "  <tbody>\n",
       "    <tr>\n",
       "      <th>0</th>\n",
       "      <td>162593951</td>\n",
       "      <td>204027031</td>\n",
       "      <td>8800.0</td>\n",
       "      <td>7225.0</td>\n",
       "      <td>36</td>\n",
       "      <td>18.620001</td>\n",
       "      <td>12.86</td>\n",
       "      <td>1.52</td>\n",
       "      <td>320.89</td>\n",
       "      <td>D</td>\n",
       "      <td>...</td>\n",
       "      <td>2019</td>\n",
       "      <td>12</td>\n",
       "      <td>29</td>\n",
       "      <td>52</td>\n",
       "      <td>14</td>\n",
       "      <td>2020</td>\n",
       "      <td>1</td>\n",
       "      <td>1</td>\n",
       "      <td>1</td>\n",
       "      <td>1</td>\n",
       "    </tr>\n",
       "    <tr>\n",
       "      <th>1</th>\n",
       "      <td>162641707</td>\n",
       "      <td>204068568</td>\n",
       "      <td>32000.0</td>\n",
       "      <td>10675.0</td>\n",
       "      <td>36</td>\n",
       "      <td>8.810000</td>\n",
       "      <td>2.63</td>\n",
       "      <td>0.88</td>\n",
       "      <td>1014.77</td>\n",
       "      <td>A</td>\n",
       "      <td>...</td>\n",
       "      <td>2019</td>\n",
       "      <td>12</td>\n",
       "      <td>29</td>\n",
       "      <td>52</td>\n",
       "      <td>14</td>\n",
       "      <td>2020</td>\n",
       "      <td>1</td>\n",
       "      <td>1</td>\n",
       "      <td>1</td>\n",
       "      <td>14</td>\n",
       "    </tr>\n",
       "    <tr>\n",
       "      <th>2</th>\n",
       "      <td>162647001</td>\n",
       "      <td>204073762</td>\n",
       "      <td>16000.0</td>\n",
       "      <td>9800.0</td>\n",
       "      <td>36</td>\n",
       "      <td>20.549999</td>\n",
       "      <td>12.86</td>\n",
       "      <td>1.52</td>\n",
       "      <td>599.12</td>\n",
       "      <td>D</td>\n",
       "      <td>...</td>\n",
       "      <td>2019</td>\n",
       "      <td>12</td>\n",
       "      <td>30</td>\n",
       "      <td>1</td>\n",
       "      <td>18</td>\n",
       "      <td>2020</td>\n",
       "      <td>1</td>\n",
       "      <td>1</td>\n",
       "      <td>1</td>\n",
       "      <td>14</td>\n",
       "    </tr>\n",
       "    <tr>\n",
       "      <th>3</th>\n",
       "      <td>162741008</td>\n",
       "      <td>204188195</td>\n",
       "      <td>10000.0</td>\n",
       "      <td>9225.0</td>\n",
       "      <td>36</td>\n",
       "      <td>15.240000</td>\n",
       "      <td>7.96</td>\n",
       "      <td>1.23</td>\n",
       "      <td>347.83</td>\n",
       "      <td>C</td>\n",
       "      <td>...</td>\n",
       "      <td>2019</td>\n",
       "      <td>12</td>\n",
       "      <td>30</td>\n",
       "      <td>1</td>\n",
       "      <td>10</td>\n",
       "      <td>2020</td>\n",
       "      <td>1</td>\n",
       "      <td>1</td>\n",
       "      <td>1</td>\n",
       "      <td>1</td>\n",
       "    </tr>\n",
       "    <tr>\n",
       "      <th>6</th>\n",
       "      <td>162889971</td>\n",
       "      <td>204475871</td>\n",
       "      <td>20000.0</td>\n",
       "      <td>0.0</td>\n",
       "      <td>36</td>\n",
       "      <td>8.810000</td>\n",
       "      <td>2.63</td>\n",
       "      <td>0.88</td>\n",
       "      <td>634.23</td>\n",
       "      <td>A</td>\n",
       "      <td>...</td>\n",
       "      <td>2019</td>\n",
       "      <td>12</td>\n",
       "      <td>30</td>\n",
       "      <td>1</td>\n",
       "      <td>18</td>\n",
       "      <td>2020</td>\n",
       "      <td>1</td>\n",
       "      <td>1</td>\n",
       "      <td>1</td>\n",
       "      <td>1</td>\n",
       "    </tr>\n",
       "    <tr>\n",
       "      <th>...</th>\n",
       "      <td>...</td>\n",
       "      <td>...</td>\n",
       "      <td>...</td>\n",
       "      <td>...</td>\n",
       "      <td>...</td>\n",
       "      <td>...</td>\n",
       "      <td>...</td>\n",
       "      <td>...</td>\n",
       "      <td>...</td>\n",
       "      <td>...</td>\n",
       "      <td>...</td>\n",
       "      <td>...</td>\n",
       "      <td>...</td>\n",
       "      <td>...</td>\n",
       "      <td>...</td>\n",
       "      <td>...</td>\n",
       "      <td>...</td>\n",
       "      <td>...</td>\n",
       "      <td>...</td>\n",
       "      <td>...</td>\n",
       "      <td>...</td>\n",
       "    </tr>\n",
       "    <tr>\n",
       "      <th>131</th>\n",
       "      <td>164226584</td>\n",
       "      <td>207083973</td>\n",
       "      <td>35000.0</td>\n",
       "      <td>4925.0</td>\n",
       "      <td>36</td>\n",
       "      <td>14.300000</td>\n",
       "      <td>7.96</td>\n",
       "      <td>1.23</td>\n",
       "      <td>1201.33</td>\n",
       "      <td>C</td>\n",
       "      <td>...</td>\n",
       "      <td>2020</td>\n",
       "      <td>1</td>\n",
       "      <td>1</td>\n",
       "      <td>1</td>\n",
       "      <td>10</td>\n",
       "      <td>2020</td>\n",
       "      <td>1</td>\n",
       "      <td>1</td>\n",
       "      <td>1</td>\n",
       "      <td>14</td>\n",
       "    </tr>\n",
       "    <tr>\n",
       "      <th>132</th>\n",
       "      <td>164232075</td>\n",
       "      <td>207089506</td>\n",
       "      <td>15000.0</td>\n",
       "      <td>2650.0</td>\n",
       "      <td>36</td>\n",
       "      <td>12.400000</td>\n",
       "      <td>5.36</td>\n",
       "      <td>1.05</td>\n",
       "      <td>501.09</td>\n",
       "      <td>B</td>\n",
       "      <td>...</td>\n",
       "      <td>2020</td>\n",
       "      <td>1</td>\n",
       "      <td>1</td>\n",
       "      <td>1</td>\n",
       "      <td>14</td>\n",
       "      <td>2020</td>\n",
       "      <td>1</td>\n",
       "      <td>1</td>\n",
       "      <td>1</td>\n",
       "      <td>14</td>\n",
       "    </tr>\n",
       "    <tr>\n",
       "      <th>133</th>\n",
       "      <td>164233705</td>\n",
       "      <td>207092146</td>\n",
       "      <td>8000.0</td>\n",
       "      <td>4550.0</td>\n",
       "      <td>36</td>\n",
       "      <td>25.650000</td>\n",
       "      <td>12.86</td>\n",
       "      <td>1.52</td>\n",
       "      <td>320.84</td>\n",
       "      <td>D</td>\n",
       "      <td>...</td>\n",
       "      <td>2020</td>\n",
       "      <td>1</td>\n",
       "      <td>1</td>\n",
       "      <td>1</td>\n",
       "      <td>14</td>\n",
       "      <td>2020</td>\n",
       "      <td>1</td>\n",
       "      <td>1</td>\n",
       "      <td>1</td>\n",
       "      <td>14</td>\n",
       "    </tr>\n",
       "    <tr>\n",
       "      <th>134</th>\n",
       "      <td>164235291</td>\n",
       "      <td>207083742</td>\n",
       "      <td>4475.0</td>\n",
       "      <td>0.0</td>\n",
       "      <td>36</td>\n",
       "      <td>25.650000</td>\n",
       "      <td>12.86</td>\n",
       "      <td>1.52</td>\n",
       "      <td>179.47</td>\n",
       "      <td>D</td>\n",
       "      <td>...</td>\n",
       "      <td>2020</td>\n",
       "      <td>1</td>\n",
       "      <td>1</td>\n",
       "      <td>1</td>\n",
       "      <td>14</td>\n",
       "      <td>2020</td>\n",
       "      <td>1</td>\n",
       "      <td>1</td>\n",
       "      <td>1</td>\n",
       "      <td>13</td>\n",
       "    </tr>\n",
       "    <tr>\n",
       "      <th>135</th>\n",
       "      <td>164235336</td>\n",
       "      <td>207083791</td>\n",
       "      <td>7575.0</td>\n",
       "      <td>5025.0</td>\n",
       "      <td>36</td>\n",
       "      <td>7.560000</td>\n",
       "      <td>2.63</td>\n",
       "      <td>0.88</td>\n",
       "      <td>235.84</td>\n",
       "      <td>A</td>\n",
       "      <td>...</td>\n",
       "      <td>2020</td>\n",
       "      <td>1</td>\n",
       "      <td>1</td>\n",
       "      <td>1</td>\n",
       "      <td>14</td>\n",
       "      <td>2020</td>\n",
       "      <td>1</td>\n",
       "      <td>1</td>\n",
       "      <td>1</td>\n",
       "      <td>14</td>\n",
       "    </tr>\n",
       "  </tbody>\n",
       "</table>\n",
       "<p>88 rows × 134 columns</p>\n",
       "</div>"
      ],
      "text/plain": [
       "            id  member_id  loan_amount  funded_amount  term   int_rate  \\\n",
       "0    162593951  204027031       8800.0         7225.0    36  18.620001   \n",
       "1    162641707  204068568      32000.0        10675.0    36   8.810000   \n",
       "2    162647001  204073762      16000.0         9800.0    36  20.549999   \n",
       "3    162741008  204188195      10000.0         9225.0    36  15.240000   \n",
       "6    162889971  204475871      20000.0            0.0    36   8.810000   \n",
       "..         ...        ...          ...            ...   ...        ...   \n",
       "131  164226584  207083973      35000.0         4925.0    36  14.300000   \n",
       "132  164232075  207089506      15000.0         2650.0    36  12.400000   \n",
       "133  164233705  207092146       8000.0         4550.0    36  25.650000   \n",
       "134  164235291  207083742       4475.0            0.0    36  25.650000   \n",
       "135  164235336  207083791       7575.0         5025.0    36   7.560000   \n",
       "\n",
       "     exp_default_rate  service_fee_rate  installment grade  ... list_d_year  \\\n",
       "0               12.86              1.52       320.89     D  ...        2019   \n",
       "1                2.63              0.88      1014.77     A  ...        2019   \n",
       "2               12.86              1.52       599.12     D  ...        2019   \n",
       "3                7.96              1.23       347.83     C  ...        2019   \n",
       "6                2.63              0.88       634.23     A  ...        2019   \n",
       "..                ...               ...          ...   ...  ...         ...   \n",
       "131              7.96              1.23      1201.33     C  ...        2020   \n",
       "132              5.36              1.05       501.09     B  ...        2020   \n",
       "133             12.86              1.52       320.84     D  ...        2020   \n",
       "134             12.86              1.52       179.47     D  ...        2020   \n",
       "135              2.63              0.88       235.84     A  ...        2020   \n",
       "\n",
       "    list_d_month list_d_day  list_d_week list_d_hour last_seen_list_d_year  \\\n",
       "0             12         29           52          14                  2020   \n",
       "1             12         29           52          14                  2020   \n",
       "2             12         30            1          18                  2020   \n",
       "3             12         30            1          10                  2020   \n",
       "6             12         30            1          18                  2020   \n",
       "..           ...        ...          ...         ...                   ...   \n",
       "131            1          1            1          10                  2020   \n",
       "132            1          1            1          14                  2020   \n",
       "133            1          1            1          14                  2020   \n",
       "134            1          1            1          14                  2020   \n",
       "135            1          1            1          14                  2020   \n",
       "\n",
       "    last_seen_list_d_month last_seen_list_d_day last_seen_list_d_week  \\\n",
       "0                        1                    1                     1   \n",
       "1                        1                    1                     1   \n",
       "2                        1                    1                     1   \n",
       "3                        1                    1                     1   \n",
       "6                        1                    1                     1   \n",
       "..                     ...                  ...                   ...   \n",
       "131                      1                    1                     1   \n",
       "132                      1                    1                     1   \n",
       "133                      1                    1                     1   \n",
       "134                      1                    1                     1   \n",
       "135                      1                    1                     1   \n",
       "\n",
       "    last_seen_list_d_hour  \n",
       "0                       1  \n",
       "1                      14  \n",
       "2                      14  \n",
       "3                       1  \n",
       "6                       1  \n",
       "..                    ...  \n",
       "131                    14  \n",
       "132                    14  \n",
       "133                    14  \n",
       "134                    13  \n",
       "135                    14  \n",
       "\n",
       "[88 rows x 134 columns]"
      ]
     },
     "execution_count": 99,
     "metadata": {},
     "output_type": "execute_result"
    }
   ],
   "source": [
    "sub_df"
   ]
  },
  {
   "cell_type": "code",
   "execution_count": 66,
   "metadata": {
    "ExecuteTime": {
     "end_time": "2020-01-02T01:43:04.055199Z",
     "start_time": "2020-01-02T01:43:04.049646Z"
    }
   },
   "outputs": [
    {
     "data": {
      "text/plain": [
       "[6, 10, 14, 18]"
      ]
     },
     "execution_count": 66,
     "metadata": {},
     "output_type": "execute_result"
    }
   ],
   "source": [
    "rounds"
   ]
  },
  {
   "cell_type": "code",
   "execution_count": 72,
   "metadata": {
    "ExecuteTime": {
     "end_time": "2020-01-03T01:33:43.419860Z",
     "start_time": "2020-01-03T01:33:43.396363Z"
    }
   },
   "outputs": [],
   "source": [
    "dcc.Graph??"
   ]
  },
  {
   "cell_type": "code",
   "execution_count": 56,
   "metadata": {
    "ExecuteTime": {
     "end_time": "2020-01-02T01:32:45.207757Z",
     "start_time": "2020-01-02T01:32:45.200708Z"
    }
   },
   "outputs": [
    {
     "data": {
      "text/plain": [
       "datetime.date(2020, 1, 1)"
      ]
     },
     "execution_count": 56,
     "metadata": {},
     "output_type": "execute_result"
    }
   ],
   "source": [
    "df['list_d'].max().date()"
   ]
  },
  {
   "cell_type": "code",
   "execution_count": 31,
   "metadata": {
    "ExecuteTime": {
     "end_time": "2020-01-02T00:56:03.321106Z",
     "start_time": "2020-01-02T00:56:03.303095Z"
    }
   },
   "outputs": [],
   "source": [
    "pd.read_sql??"
   ]
  }
 ],
 "metadata": {
  "kernelspec": {
   "display_name": "Python [conda env:lendingclub]",
   "language": "python",
   "name": "conda-env-lendingclub-py"
  },
  "language_info": {
   "codemirror_mode": {
    "name": "ipython",
    "version": 3
   },
   "file_extension": ".py",
   "mimetype": "text/x-python",
   "name": "python",
   "nbconvert_exporter": "python",
   "pygments_lexer": "ipython3",
   "version": "3.7.4"
  }
 },
 "nbformat": 4,
 "nbformat_minor": 2
}
