{
 "cells": [
  {
   "cell_type": "code",
   "execution_count": 1,
   "metadata": {
    "ExecuteTime": {
     "end_time": "2019-12-25T04:04:32.279044Z",
     "start_time": "2019-12-25T04:04:32.263154Z"
    }
   },
   "outputs": [],
   "source": [
    "%load_ext autoreload\n",
    "%autoreload 2"
   ]
  },
  {
   "cell_type": "code",
   "execution_count": 2,
   "metadata": {
    "ExecuteTime": {
     "end_time": "2019-12-25T04:04:33.529894Z",
     "start_time": "2019-12-25T04:04:32.688325Z"
    }
   },
   "outputs": [],
   "source": [
    "import os\n",
    "import pickle\n",
    "import numpy as np\n",
    "import pandas as pd\n",
    "import matplotlib.pyplot as plt\n",
    "from lendingclub import config\n",
    "from lendingclub.modeling import portfolio_simulating as ps\n",
    "import seaborn as sns\n",
    "\n",
    "pd.set_option('max_columns', 999)\n",
    "np.set_printoptions(formatter={'float': lambda x: \"{0:0.3f}\".format(x)})\n",
    "\n",
    "ppath = config.prj_dir\n",
    "dpath = config.data_dir"
   ]
  },
  {
   "cell_type": "code",
   "execution_count": 3,
   "metadata": {
    "ExecuteTime": {
     "end_time": "2019-12-25T04:04:34.326929Z",
     "start_time": "2019-12-25T04:04:33.531400Z"
    }
   },
   "outputs": [
    {
     "name": "stdout",
     "output_type": "stream",
     "text": [
      "(2507335, 48) (2507335, 90)\n"
     ]
    }
   ],
   "source": [
    "all_scores = pd.read_feather(os.path.join(config.data_dir, 'eval_loan_info_scored.fth'))\n",
    "base_loan_info = pd.read_feather(os.path.join(config.data_dir, 'base_loan_info.fth'))\n",
    "with open(os.path.join(config.data_dir, 'train_test_ids.pkl'), 'rb') as f:\n",
    "    train_test_ids = pickle.load(f)\n",
    "print(all_scores.shape, base_loan_info.shape)\n",
    "\n",
    "# TURN INT_RATE TO DECIMAL AND ROUND AT 4TH\n",
    "all_scores['int_rate'] = all_scores['int_rate']/100\n",
    "all_scores['int_rate'] = all_scores['int_rate'].round(4)"
   ]
  },
  {
   "cell_type": "markdown",
   "metadata": {},
   "source": [
    "# USE TEST IDS TO GENERATE DISTRIBUTIONS OF END_M"
   ]
  },
  {
   "cell_type": "code",
   "execution_count": 4,
   "metadata": {
    "ExecuteTime": {
     "end_time": "2019-12-25T04:04:34.672487Z",
     "start_time": "2019-12-25T04:04:34.329018Z"
    }
   },
   "outputs": [
    {
     "name": "stderr",
     "output_type": "stream",
     "text": [
      "/home/justin/anaconda3/envs/lendingclub/lib/python3.7/site-packages/ipykernel_launcher.py:4: SettingWithCopyWarning: \n",
      "A value is trying to be set on a copy of a slice from a DataFrame.\n",
      "Try using .loc[row_indexer,col_indexer] = value instead\n",
      "\n",
      "See the caveats in the documentation: http://pandas.pydata.org/pandas-docs/stable/user_guide/indexing.html#returning-a-view-versus-a-copy\n",
      "  after removing the cwd from sys.path.\n",
      "/home/justin/anaconda3/envs/lendingclub/lib/python3.7/site-packages/ipykernel_launcher.py:5: SettingWithCopyWarning: \n",
      "A value is trying to be set on a copy of a slice from a DataFrame.\n",
      "Try using .loc[row_indexer,col_indexer] = value instead\n",
      "\n",
      "See the caveats in the documentation: http://pandas.pydata.org/pandas-docs/stable/user_guide/indexing.html#returning-a-view-versus-a-copy\n",
      "  \"\"\"\n"
     ]
    }
   ],
   "source": [
    "# examine the distribution of high maturity time loans for which months they default and prepay\n",
    "test_id = train_test_ids['test'] # <- test ids\n",
    "ddone_loans = all_scores.query('id in @test_id and maturity_time >= .95 and loan_status in [\"defaulted\", \"charged_off\", \"paid\"]')\n",
    "ddone_loans['months_recorded'] = ((ddone_loans['end_d'] - ddone_loans['issue_d'])/np.timedelta64(1, 'M')).round()\n",
    "ddone_loans['pct_term'] = ddone_loans['months_recorded']/ddone_loans['term']\n",
    "def_statuses = ['charged_off', 'defaulted']\n",
    "def_loans = ddone_loans.query('loan_status in @def_statuses')\n",
    "paid_loans = ddone_loans.query('loan_status not in @def_statuses')"
   ]
  },
  {
   "cell_type": "code",
   "execution_count": 5,
   "metadata": {
    "ExecuteTime": {
     "end_time": "2019-12-25T04:04:34.937805Z",
     "start_time": "2019-12-25T04:04:34.674164Z"
    }
   },
   "outputs": [
    {
     "data": {
      "text/plain": [
       "<matplotlib.axes._subplots.AxesSubplot at 0x7fac6c0e5590>"
      ]
     },
     "execution_count": 5,
     "metadata": {},
     "output_type": "execute_result"
    },
    {
     "data": {
      "image/png": "[encoded data removed]",
      "text/plain": [
       "<Figure size 432x288 with 1 Axes>"
      ]
     },
     "metadata": {
      "needs_background": "light"
     },
     "output_type": "display_data"
    }
   ],
   "source": [
    "# check how long loans pay for if defaulting or paying for 36 term loans\n",
    "query = 'term == 36 and months_recorded <= 40 and maturity_time >= .95'\n",
    "def_probs = (def_loans.query(query)['months_recorded'].value_counts(dropna=False)/len(def_loans.query(query))).to_dict()\n",
    "def_m, def_prob = zip(*def_probs.items())\n",
    "ddef_loans = def_loans.query(query)\n",
    "ddef_loans['months_recorded'].hist(bins=36)"
   ]
  },
  {
   "cell_type": "code",
   "execution_count": 6,
   "metadata": {
    "ExecuteTime": {
     "end_time": "2019-12-25T04:04:35.257254Z",
     "start_time": "2019-12-25T04:04:34.939240Z"
    }
   },
   "outputs": [
    {
     "data": {
      "text/plain": [
       "<matplotlib.axes._subplots.AxesSubplot at 0x7fac67f5e510>"
      ]
     },
     "execution_count": 6,
     "metadata": {},
     "output_type": "execute_result"
    },
    {
     "data": {
      "image/png": "[encoded data removed]",
      "text/plain": [
       "<Figure size 432x288 with 1 Axes>"
      ]
     },
     "metadata": {
      "needs_background": "light"
     },
     "output_type": "display_data"
    }
   ],
   "source": [
    "query = 'term == 36 and months_recorded <= 36 and months_recorded >= 1 and maturity_time >= .95'\n",
    "paid_probs = (paid_loans.query(query)['months_recorded'].value_counts(dropna=False)/len(paid_loans.query(query))).to_dict()\n",
    "paid_m, paid_prob = zip(*paid_probs.items())\n",
    "dpaid_loans = paid_loans.query(query)\n",
    "dpaid_loans['months_recorded'].hist(bins=36)"
   ]
  },
  {
   "cell_type": "markdown",
   "metadata": {},
   "source": [
    "# is there any correlation between the int_rate/grade of a defaulting/paying loan and when its end_m is? Do loans of different int_rate have different distributions?"
   ]
  },
  {
   "cell_type": "code",
   "execution_count": 7,
   "metadata": {
    "ExecuteTime": {
     "end_time": "2019-12-25T04:04:35.890935Z",
     "start_time": "2019-12-25T04:04:35.816250Z"
    }
   },
   "outputs": [
    {
     "name": "stdout",
     "output_type": "stream",
     "text": [
      "(98958, 48) (15974, 48) (82984, 48)\n"
     ]
    }
   ],
   "source": [
    "term_grade_df = ddone_loans.set_index(['term','grade'])\n",
    "def_term_grade_df = term_grade_df.query('loan_status in [\"defaulted\", \"charged_off\"]')\n",
    "paid_term_grade_df = term_grade_df.query('loan_status not in [\"defaulted\", \"charged_off\"]')\n",
    "print(term_grade_df.shape, def_term_grade_df.shape, paid_term_grade_df.shape)"
   ]
  },
  {
   "cell_type": "code",
   "execution_count": 173,
   "metadata": {
    "ExecuteTime": {
     "end_time": "2019-12-26T18:22:54.293598Z",
     "start_time": "2019-12-26T18:22:54.270348Z"
    }
   },
   "outputs": [],
   "source": [
    "def plot_by_group(df, term, group_cols, target_col, size=(6,5), hist_alpha=.25):\n",
    "    fig, ax = plt.subplots(figsize=size)\n",
    "    df.loc[term,:].groupby(group_cols)[target_col].plot(kind='kde', alpha=1, ax=ax, bw_method=.3)\n",
    "    df.loc[term,:].groupby(group_cols)[target_col].plot(kind='hist', alpha=hist_alpha, density=True, ax=ax)\n",
    "    ax.legend()\n",
    "    plt.show()"
   ]
  },
  {
   "cell_type": "code",
   "execution_count": 174,
   "metadata": {
    "ExecuteTime": {
     "end_time": "2019-12-26T18:22:55.522658Z",
     "start_time": "2019-12-26T18:22:54.766953Z"
    }
   },
   "outputs": [
    {
     "data": {
      "image/png": "[encoded data removed]",
      "text/plain": [
       "<Figure size 720x360 with 1 Axes>"
      ]
     },
     "metadata": {
      "needs_background": "light"
     },
     "output_type": "display_data"
    }
   ],
   "source": [
    "plot_by_group(def_term_grade_df, 36, 'grade', 'months_recorded', hist_alpha=.1, size=(10,5))"
   ]
  },
  {
   "cell_type": "code",
   "execution_count": 175,
   "metadata": {
    "ExecuteTime": {
     "end_time": "2019-12-26T18:22:56.060036Z",
     "start_time": "2019-12-26T18:22:55.525641Z"
    }
   },
   "outputs": [
    {
     "data": {
      "image/png": "[encoded data removed]",
      "text/plain": [
       "<Figure size 720x360 with 1 Axes>"
      ]
     },
     "metadata": {
      "needs_background": "light"
     },
     "output_type": "display_data"
    }
   ],
   "source": [
    "plot_by_group(def_term_grade_df, 60, 'grade', 'months_recorded', hist_alpha=.1, size=(10,5))"
   ]
  },
  {
   "cell_type": "code",
   "execution_count": 176,
   "metadata": {
    "ExecuteTime": {
     "end_time": "2019-12-26T18:22:57.382752Z",
     "start_time": "2019-12-26T18:22:56.061834Z"
    }
   },
   "outputs": [
    {
     "data": {
      "image/png": "[encoded data removed]",
      "text/plain": [
       "<Figure size 720x360 with 1 Axes>"
      ]
     },
     "metadata": {
      "needs_background": "light"
     },
     "output_type": "display_data"
    }
   ],
   "source": [
    "plot_by_group(paid_term_grade_df, 36, 'grade', 'months_recorded', hist_alpha=.1, size=(10,5))"
   ]
  },
  {
   "cell_type": "code",
   "execution_count": 177,
   "metadata": {
    "ExecuteTime": {
     "end_time": "2019-12-26T18:22:58.049009Z",
     "start_time": "2019-12-26T18:22:57.384117Z"
    }
   },
   "outputs": [
    {
     "data": {
      "image/png": "[encoded data removed]",
      "text/plain": [
       "<Figure size 720x360 with 1 Axes>"
      ]
     },
     "metadata": {
      "needs_background": "light"
     },
     "output_type": "display_data"
    }
   ],
   "source": [
    "plot_by_group(paid_term_grade_df, 60, 'grade', 'months_recorded', hist_alpha=.1, size=(10,5))"
   ]
  },
  {
   "cell_type": "markdown",
   "metadata": {},
   "source": [
    "# depending on grade, the distributions of when the loan ends differs. Need to index by term, def/paid, grade"
   ]
  },
  {
   "cell_type": "code",
   "execution_count": 13,
   "metadata": {
    "ExecuteTime": {
     "end_time": "2019-12-25T04:04:40.000409Z",
     "start_time": "2019-12-25T04:04:39.979518Z"
    },
    "scrolled": true
   },
   "outputs": [
    {
     "name": "stderr",
     "output_type": "stream",
     "text": [
      "/home/justin/anaconda3/envs/lendingclub/lib/python3.7/site-packages/pandas/core/generic.py:6786: SettingWithCopyWarning: \n",
      "A value is trying to be set on a copy of a slice from a DataFrame\n",
      "\n",
      "See the caveats in the documentation: http://pandas.pydata.org/pandas-docs/stable/user_guide/indexing.html#returning-a-view-versus-a-copy\n",
      "  self._update_inplace(new_data)\n"
     ]
    },
    {
     "data": {
      "text/plain": [
       "array(['paid', 'charged_off'], dtype=object)"
      ]
     },
     "execution_count": 13,
     "metadata": {},
     "output_type": "execute_result"
    }
   ],
   "source": [
    "# for purposes here, rename defaulted to charged_off\n",
    "ddone_loans.loan_status.replace({'defaulted':'charged_off'}, inplace=True)\n",
    "ddone_loans.loan_status.unique()"
   ]
  },
  {
   "cell_type": "code",
   "execution_count": 14,
   "metadata": {
    "ExecuteTime": {
     "end_time": "2019-12-25T04:04:40.417455Z",
     "start_time": "2019-12-25T04:04:40.086170Z"
    }
   },
   "outputs": [],
   "source": [
    "end_d_by_term_stat_grade = {}\n",
    "for term in ddone_loans.term.unique():\n",
    "    for status in ddone_loans.loan_status.unique():\n",
    "        for grade in ddone_loans.grade.unique():\n",
    "            query = 'term == @term and loan_status == @status and grade == @grade'\n",
    "            loans = ddone_loans.query(query)\n",
    "            loans = loans.query('months_recorded <= {0}'.format(term + 5))\n",
    "            ms, probs = zip(*loans.months_recorded.value_counts(normalize=True).to_dict().items())\n",
    "            end_d_by_term_stat_grade[(term,status,grade)] = (ms, probs)"
   ]
  },
  {
   "cell_type": "code",
   "execution_count": 15,
   "metadata": {
    "ExecuteTime": {
     "end_time": "2019-12-25T04:04:40.869948Z",
     "start_time": "2019-12-25T04:04:40.847868Z"
    }
   },
   "outputs": [],
   "source": [
    "with open(os.path.join(config.data_dir, 'end_d_by_term_stat_grade.pkl'), 'wb') as f:\n",
    "    pickle.dump(end_d_by_term_stat_grade, f)"
   ]
  },
  {
   "cell_type": "markdown",
   "metadata": {},
   "source": [
    "# precompute the ppmt array for use in portfolio simulating"
   ]
  },
  {
   "cell_type": "code",
   "execution_count": 160,
   "metadata": {
    "ExecuteTime": {
     "end_time": "2019-12-25T06:17:33.450879Z",
     "start_time": "2019-12-25T06:17:33.165818Z"
    },
    "scrolled": true
   },
   "outputs": [],
   "source": [
    "# use rate rounded to 4th decimal\n",
    "ppmt_by_term_rate = {}\n",
    "for term in all_scores.term.unique():\n",
    "    for rate in all_scores.int_rate.unique():\n",
    "        rate = round(rate,4)\n",
    "        ppmt_by_term_rate[(term, str(rate))] = np.ppmt(rate/12, np.arange(term)+1, term, -1)"
   ]
  },
  {
   "cell_type": "code",
   "execution_count": 161,
   "metadata": {
    "ExecuteTime": {
     "end_time": "2019-12-25T06:17:34.636118Z",
     "start_time": "2019-12-25T06:17:34.540676Z"
    }
   },
   "outputs": [
    {
     "data": {
      "text/plain": [
       "array([0.023, 0.023, 0.023, 0.023, 0.024, 0.024, 0.024, 0.024, 0.025,\n",
       "       0.025, 0.025, 0.026, 0.026, 0.026, 0.027, 0.027, 0.027, 0.027,\n",
       "       0.028, 0.028, 0.028, 0.029, 0.029, 0.029, 0.030, 0.030, 0.030,\n",
       "       0.031, 0.031, 0.031, 0.032, 0.032, 0.033, 0.033, 0.033, 0.034])"
      ]
     },
     "execution_count": 161,
     "metadata": {},
     "output_type": "execute_result"
    }
   ],
   "source": [
    "rate = all_scores['int_rate'].sample(1).values[0]\n",
    "ppmt_by_term_rate[36, str(rate)]"
   ]
  },
  {
   "cell_type": "code",
   "execution_count": 162,
   "metadata": {
    "ExecuteTime": {
     "end_time": "2019-12-25T06:17:35.282265Z",
     "start_time": "2019-12-25T06:17:35.252549Z"
    }
   },
   "outputs": [],
   "source": [
    "with open(os.path.join(config.data_dir, 'ppmt_by_term_rate.pkl'), 'wb') as f:\n",
    "    pickle.dump(ppmt_by_term_rate, f)"
   ]
  },
  {
   "cell_type": "markdown",
   "metadata": {},
   "source": [
    "# testing portfolio_simulating module"
   ]
  },
  {
   "cell_type": "code",
   "execution_count": 93,
   "metadata": {
    "ExecuteTime": {
     "end_time": "2019-12-25T06:00:39.558875Z",
     "start_time": "2019-12-25T06:00:39.534048Z"
    },
    "scrolled": true
   },
   "outputs": [
    {
     "data": {
      "text/plain": [
       "array([0.000, 0.000, 0.000, -1.000, 0.032, 0.032, 0.032, 0.032, 0.032,\n",
       "       0.032, 0.032, 0.032, 0.032, 0.032, 0.032, 0.032, 0.032, 0.032,\n",
       "       0.032, 0.032, 0.032, 0.032, 0.032, 0.032, 0.032, 0.032, 0.032,\n",
       "       0.032, 0.032, 0.032, 0.032, 0.032, 0.032, 0.032, 0.032, 0.000,\n",
       "       0.000, 0.000, 0.000, 0.000])"
      ]
     },
     "execution_count": 93,
     "metadata": {},
     "output_type": "execute_result"
    }
   ],
   "source": [
    "l_type = 'charged_off' #'paid'\n",
    "funded = -1\n",
    "rate = .0999\n",
    "term = 36\n",
    "month = 3\n",
    "cfs = np.array([0.] * 40)\n",
    "rem_prncp_array = ppmt_by_term_rate[term, str(round(rate,4))]\n",
    "pmt = np.pmt(rate/12, term, funded)\n",
    "end_m = 36 # np.random.choice(np.arange(5,41))\n",
    "ps.make_loan_array(l_type, funded, pmt, month, cfs, rem_prncp_array, end_m = end_m)"
   ]
  },
  {
   "cell_type": "code",
   "execution_count": 71,
   "metadata": {
    "ExecuteTime": {
     "end_time": "2019-12-25T05:25:46.917090Z",
     "start_time": "2019-12-25T05:25:46.894693Z"
    }
   },
   "outputs": [
    {
     "data": {
      "text/plain": [
       "array([0.024, 0.024, 0.024, 0.025, 0.025])"
      ]
     },
     "execution_count": 71,
     "metadata": {},
     "output_type": "execute_result"
    }
   ],
   "source": [
    "np.ppmt(rate/12, np.arange(36)+1, term, -1)[:end_m]"
   ]
  },
  {
   "cell_type": "code",
   "execution_count": 90,
   "metadata": {
    "ExecuteTime": {
     "end_time": "2019-12-25T05:55:18.671561Z",
     "start_time": "2019-12-25T05:55:18.646515Z"
    }
   },
   "outputs": [
    {
     "data": {
      "text/plain": [
       "0.03226249245484471"
      ]
     },
     "execution_count": 90,
     "metadata": {},
     "output_type": "execute_result"
    }
   ],
   "source": [
    "1 - np.ppmt(rate/12, np.arange(36)+1, term, -1)[:end_m].sum() + pmt"
   ]
  },
  {
   "cell_type": "code",
   "execution_count": 158,
   "metadata": {
    "ExecuteTime": {
     "end_time": "2019-12-25T06:14:53.747728Z",
     "start_time": "2019-12-25T06:14:53.608288Z"
    },
    "scrolled": false
   },
   "outputs": [
    {
     "data": {
      "text/plain": [
       "(array([-200.000, 8.303, -0.738, 7.447, 2.199, 7.433, -0.508, 6.685, 2.291,\n",
       "        8.402, 2.531, 10.582, -2.158, 8.652, 3.156, 10.440, -0.043, 11.643,\n",
       "        -2.859, 9.564, 0.127, 7.305, 1.573, 7.914, -0.051, 9.252, 0.426,\n",
       "        9.127, -0.256, 6.922, 1.839, 5.593, 3.343, 6.121, 0.537, 6.367,\n",
       "        -0.211, 5.634, -1.486, 5.485, -1.555, 3.774, 1.849, 3.073, 0.676,\n",
       "        3.131, -0.291, 2.832, 2.112, 4.210, 0.163, 3.689, -0.687, 4.018,\n",
       "        -1.447, 1.868, 1.049, 2.843, -0.307, 2.350, -0.437, 1.525, 0.943,\n",
       "        1.297, 0.975, 1.274, 0.241, 1.274, 0.756, 1.490, 0.849, 2.097,\n",
       "        -0.846, 1.053, -0.001, 1.445, 0.558, 1.201, -0.226, 1.696, 0.901,\n",
       "        0.716, 0.898, -0.157, 0.667, 0.665, 0.158, 0.515, 0.515, -0.520,\n",
       "        0.676, 0.380, -0.620, 1.033, -0.622, 0.411, 0.543, 0.377, -0.623,\n",
       "        0.344, 0.344, 0.344, -0.344, 0.311, 0.311, 0.311, 0.311, -0.683,\n",
       "        0.289, 0.289, 0.289, 0.289, -0.711, 0.924, 0.291, -0.577, 0.647,\n",
       "        0.231, 0.231, -0.769, 0.266, 0.387, 0.235, 0.201, 0.201, 0.201,\n",
       "        0.711, 0.169, 0.136, 0.136, 0.136, 0.136, 0.136, 0.136, 0.136,\n",
       "        0.136, 0.618, 0.100, 0.100, 0.067, 0.067, 0.067, 0.067, 0.067,\n",
       "        0.067, 0.067, 0.067, 0.067, 0.067, 0.035, 0.035, 0.035, 0.035,\n",
       "        0.035, 0.035, 0.035, 0.035, 0.000, 0.000, 0.000, 0.000, 0.000,\n",
       "        0.000, 0.000, 0.000, 0.000, 0.000, 0.000, 0.000, 0.000, 0.000,\n",
       "        0.000, 0.000, 0.000, 0.000, 0.000, 0.000, 0.000, 0.000, 0.000,\n",
       "        0.000, 0.000, 0.000, 0.000, 0.000, 0.000, 0.000, 0.000, 0.000,\n",
       "        0.000, 0.000, 0.000, 0.000, 0.000, 0.000, 0.000]),\n",
       " 32.90846917330177,\n",
       " 0.06036492665262827)"
      ]
     },
     "execution_count": 158,
     "metadata": {},
     "output_type": "execute_result"
    }
   ],
   "source": [
    "ps.sim_portfolio(end_d_by_term_stat_grade, ddone_loans, ppmt_by_term_rate, n_inv_loans=200, funded=funded, ) #wait_for_cont=True, verbose=True"
   ]
  },
  {
   "cell_type": "markdown",
   "metadata": {
    "heading_collapsed": true
   },
   "source": [
    "# Old writing module below"
   ]
  },
  {
   "cell_type": "code",
   "execution_count": 16,
   "metadata": {
    "ExecuteTime": {
     "end_time": "2019-12-04T02:35:09.049229Z",
     "start_time": "2019-12-04T02:35:09.045219Z"
    },
    "hidden": true
   },
   "outputs": [],
   "source": [
    "# Let's model some portfolios"
   ]
  },
  {
   "cell_type": "code",
   "execution_count": 17,
   "metadata": {
    "ExecuteTime": {
     "end_time": "2019-12-04T02:35:09.731003Z",
     "start_time": "2019-12-04T02:35:09.710658Z"
    },
    "hidden": true
   },
   "outputs": [
    {
     "data": {
      "text/html": [
       "<div>\n",
       "<style scoped>\n",
       "    .dataframe tbody tr th:only-of-type {\n",
       "        vertical-align: middle;\n",
       "    }\n",
       "\n",
       "    .dataframe tbody tr th {\n",
       "        vertical-align: top;\n",
       "    }\n",
       "\n",
       "    .dataframe thead th {\n",
       "        text-align: right;\n",
       "    }\n",
       "</style>\n",
       "<table border=\"1\" class=\"dataframe\">\n",
       "  <thead>\n",
       "    <tr style=\"text-align: right;\">\n",
       "      <th></th>\n",
       "      <th>loan_status</th>\n",
       "      <th>grade</th>\n",
       "      <th>term</th>\n",
       "      <th>int_rate</th>\n",
       "    </tr>\n",
       "  </thead>\n",
       "  <tbody>\n",
       "    <tr>\n",
       "      <th>1101260</th>\n",
       "      <td>paid</td>\n",
       "      <td>B</td>\n",
       "      <td>36</td>\n",
       "      <td>0.0839</td>\n",
       "    </tr>\n",
       "    <tr>\n",
       "      <th>1116657</th>\n",
       "      <td>paid</td>\n",
       "      <td>B</td>\n",
       "      <td>36</td>\n",
       "      <td>0.1149</td>\n",
       "    </tr>\n",
       "    <tr>\n",
       "      <th>493620</th>\n",
       "      <td>paid</td>\n",
       "      <td>B</td>\n",
       "      <td>36</td>\n",
       "      <td>0.0867</td>\n",
       "    </tr>\n",
       "    <tr>\n",
       "      <th>840234</th>\n",
       "      <td>paid</td>\n",
       "      <td>C</td>\n",
       "      <td>36</td>\n",
       "      <td>0.1367</td>\n",
       "    </tr>\n",
       "    <tr>\n",
       "      <th>268185</th>\n",
       "      <td>paid</td>\n",
       "      <td>C</td>\n",
       "      <td>36</td>\n",
       "      <td>0.1464</td>\n",
       "    </tr>\n",
       "    <tr>\n",
       "      <th>194520</th>\n",
       "      <td>paid</td>\n",
       "      <td>B</td>\n",
       "      <td>36</td>\n",
       "      <td>0.1099</td>\n",
       "    </tr>\n",
       "    <tr>\n",
       "      <th>792521</th>\n",
       "      <td>paid</td>\n",
       "      <td>A</td>\n",
       "      <td>36</td>\n",
       "      <td>0.0789</td>\n",
       "    </tr>\n",
       "  </tbody>\n",
       "</table>\n",
       "</div>"
      ],
      "text/plain": [
       "        loan_status grade  term  int_rate\n",
       "1101260        paid     B    36    0.0839\n",
       "1116657        paid     B    36    0.1149\n",
       "493620         paid     B    36    0.0867\n",
       "840234         paid     C    36    0.1367\n",
       "268185         paid     C    36    0.1464\n",
       "194520         paid     B    36    0.1099\n",
       "792521         paid     A    36    0.0789"
      ]
     },
     "execution_count": 17,
     "metadata": {},
     "output_type": "execute_result"
    }
   ],
   "source": [
    "sel_loans = ddone_loans.sample(7)\n",
    "sel_loans[['loan_status', 'grade', 'term', 'int_rate']]"
   ]
  },
  {
   "cell_type": "code",
   "execution_count": 81,
   "metadata": {
    "ExecuteTime": {
     "end_time": "2019-12-25T02:04:33.530623Z",
     "start_time": "2019-12-25T02:04:33.505467Z"
    },
    "code_folding": [],
    "hidden": true
   },
   "outputs": [],
   "source": [
    "# %%writefile ../../lendingclub/modeling/portfolio_simulating.py\n",
    "import numpy as np\n",
    "from numba import jit\n",
    "\n",
    "@jit\n",
    "def make_loan_array(l_type, funded, pmt, rate, term, month, cfs, rem_princp_array, theoretic = False, end_m = None):\n",
    "    '''\n",
    "    it takes 5 months to go from nonpaying to charged_off (90 days late, 120 default, 150 charged off)\n",
    "    3 l_types:\n",
    "    A) default immediately, take 5 months\n",
    "    B) Fully Prepay between 6-12 months. \n",
    "    C) Fully Prepay/pay between 24-36 months\n",
    "    month: what month the loan was invested in (starts at 0 aka 0 indexed)\n",
    "    end_m is what month the loan willl end relative to month.\n",
    "    '''\n",
    "    if theoretic:\n",
    "        add_m = np.random.choice(np.arange(-3,4))\n",
    "        if l_type == 'A':\n",
    "            add_cfs = np.zeros(1)\n",
    "        else:\n",
    "            if l_type == 'B':\n",
    "                n_m = 9+add_m+1\n",
    "                print(n_m)\n",
    "            elif l_type == 'C':\n",
    "                n_m = 33+add_m+1\n",
    "            per = np.arange(n_m) + 1\n",
    "            add_cfs = np.tile(pmt, (n_m+1))\n",
    "            rem_princp = (1 - np.ppmt(rate, per, term, funded, 0).sum()).round(2)\n",
    "            add_cfs[-1] += rem_princp\n",
    "        add_cfs[0] = funded\n",
    "        cfs[month:month+len(add_cfs)] += add_cfs\n",
    "        return cfs\n",
    "    else:\n",
    "        assert end_m is not None, \"Pass the months on books/months recorded as end_m\"\n",
    "        # Only 2 l_types 'A' default and 'B' (pre)paid, use end_m\n",
    "        if l_type == 'charged_off':\n",
    "            n_m = end_m\n",
    "            add_cfs = np.array([pmt] * int(n_m - 4))\n",
    "        elif l_type == 'paid':\n",
    "            n_m = end_m\n",
    "            per = np.arange(n_m) + 1\n",
    "            add_cfs = np.array([pmt] * int(n_m+1))\n",
    "            rem_princp = round(funded - rem_princp_array[:end_m].sum(), 2)\n",
    "            add_cfs[-1] += rem_princp\n",
    "        else:\n",
    "            print('unrecognized loan type')\n",
    "        add_cfs[0] = funded\n",
    "        cfs[month:month+len(add_cfs)] += add_cfs\n",
    "        return cfs\n",
    "\n",
    "# @jit\n",
    "def sim_portfolio(end_d_by_term_stat_grade, sel_loans, ppmt_by_term_rate, n_months=120, n_inv_loans=2000, cfs=None, funded=-1,\n",
    "                random_state=None, verbose=False, longest_winddown = 76, wait_for_cont=False):\n",
    "    '''\n",
    "    Simulate a portfolio for INVESTING for n_months. Actual portfolio winddown\n",
    "    may take up to 36 months from last investment date\n",
    "    funded is the loan amount that will be used (e.g. -1 is one dollar funded to loan)\n",
    "    Args:\n",
    "        end_d_by_term_stat_grade: dict pickled from 11_portfolio_simulating.ipynb \\\n",
    "        keys are (term, l_stat, grade) and value = tuple(end_m, probability)\n",
    "        sel_loans: loans that you can possibly invest in. Samples from this for (term,l_stat, grade)\n",
    "        funded: should be negative\n",
    "    '''\n",
    "    # limit it to relevant columns\n",
    "    sel_loans=sel_loans[['loan_status', 'grade', 'term', 'int_rate']]\n",
    "    \n",
    "    cfs=np.zeros(n_months + longest_winddown) if cfs is None else cfs\n",
    "    end_i = 0\n",
    "    for month in range(n_months):\n",
    "        # end_i keeps track of when you have enough money to reinvest\n",
    "        if month == end_i:\n",
    "            if verbose:\n",
    "                print('month is {0} *************************'.format(month))\n",
    "            # iterate over loans and construct the cfs array\n",
    "            n_inv_loans = int(np.floor(n_inv_loans))\n",
    "            starting_money = abs(n_inv_loans*funded)\n",
    "            loans = sel_loans.sample(n=n_inv_loans, replace=True, random_state=random_state).to_dict('records')\n",
    "            li_tups = [((l['term'], l['loan_status'], l['grade']), l['int_rate']) for l in loans]\n",
    "            for l in li_tups:\n",
    "                # pick the end_m\n",
    "                key, rate = l\n",
    "                ms, probs = end_d_by_term_stat_grade[key]\n",
    "                end_m = np.random.choice(ms, replace=True, p=probs)\n",
    "                # key is term, stat, grade\n",
    "                term, stat, grade = key\n",
    "                pmt = np.pmt(rate/12, term, funded, 0)\n",
    "                cfs = make_loan_array(stat, funded, pmt, rate/12, term, month, cfs, ppmt_by_term_rate[term, round(rate,5)], theoretic=False, end_m=end_m)\n",
    "                if verbose:\n",
    "                    print('picking a loan with term: {0}, status: {1}, grade: {2}, and rate: {3}'.format(*key, rate))\n",
    "                    print('loan life is {0} ending in month {1}'.format(end_m, end_m+month))\n",
    "                    if wait_for_cont:\n",
    "                        pass\n",
    "#                         import ipdb; ipdb.set_trace()\n",
    "            if verbose:\n",
    "                print('invested in {0} loans this month'.format(n_inv_loans))\n",
    "                print('current cfs: {0}'.format(cfs))\n",
    "                print('current IRR: {0}'.format(np.irr(cfs)*12))\n",
    "                print('current unadjusted net money: {0}'.format(np.sum(cfs)))\n",
    "            # calculate which month can reinvest next in\n",
    "            leftover_money = starting_money - (n_inv_loans * abs(funded))\n",
    "            assert leftover_money >= 0, 'somehow negative leftover money'\n",
    "            end_i = month+1\n",
    "            while (leftover_money < abs(funded)) and (end_i < len(cfs)):\n",
    "                leftover_money += cfs[end_i]\n",
    "                end_i += 1\n",
    "            n_inv_loans = abs(leftover_money/funded)\n",
    "    # returns the cfs, the net money made, and the annualized irr\n",
    "    return cfs, np.sum(cfs), np.irr(cfs)*12"
   ]
  },
  {
   "cell_type": "code",
   "execution_count": 82,
   "metadata": {
    "ExecuteTime": {
     "end_time": "2019-12-25T02:04:34.489838Z",
     "start_time": "2019-12-25T02:04:34.485163Z"
    },
    "hidden": true
   },
   "outputs": [],
   "source": [
    "from numba import jit\n",
    "import numpy as np"
   ]
  },
  {
   "cell_type": "code",
   "execution_count": 83,
   "metadata": {
    "ExecuteTime": {
     "end_time": "2019-12-25T02:04:34.762345Z",
     "start_time": "2019-12-25T02:04:34.757542Z"
    },
    "hidden": true
   },
   "outputs": [],
   "source": [
    "# @jit(nopython=True)\n",
    "# def make_loan_array(l_type, funded, pmt, rate, term, month, cfs, rem_princp_array, theoretic = False, end_m = None):\n",
    "#     '''\n",
    "#     it takes 5 months to go from nonpaying to charged_off (90 days late, 120 default, 150 charged off)\n",
    "#     3 l_types:\n",
    "#     A) default immediately, take 5 months\n",
    "#     B) Fully Prepay between 6-12 months. \n",
    "#     C) Fully Prepay/pay between 24-36 months\n",
    "#     month: what month the loan was invested in (starts at 0 aka 0 indexed)\n",
    "#     end_m is what month the loan willl end relative to month.\n",
    "#     '''\n",
    "#     assert end_m is not None, \"Pass the months on books/months recorded as end_m\"\n",
    "#     # Only 2 l_types 'A' default and 'B' (pre)paid, use end_m\n",
    "#     if l_type == 'charged_off':\n",
    "#         n_m = end_m\n",
    "#         add_cfs = np.array([pmt] * int(n_m - 4))\n",
    "#     elif l_type == 'paid':\n",
    "#         n_m = end_m\n",
    "#         per = np.arange(n_m) + 1\n",
    "#         add_cfs = np.array([pmt] * int(n_m+1))\n",
    "#         rem_princp = round(funded - rem_princp_array[:end_m].sum(), 2)\n",
    "#         add_cfs[-1] += rem_princp\n",
    "#     else:\n",
    "#         print('unrecognized loan type')\n",
    "#     add_cfs[0] = funded\n",
    "#     cfs[month:month+len(add_cfs)] += add_cfs\n",
    "#     return cfs"
   ]
  },
  {
   "cell_type": "code",
   "execution_count": 84,
   "metadata": {
    "ExecuteTime": {
     "end_time": "2019-12-25T02:04:36.509375Z",
     "start_time": "2019-12-25T02:04:35.564192Z"
    },
    "hidden": true,
    "scrolled": true
   },
   "outputs": [
    {
     "name": "stderr",
     "output_type": "stream",
     "text": [
      "<ipython-input-81-6bac02cf9e9d>:5: NumbaWarning: \u001b[1m\n",
      "Compilation is falling back to object mode WITH looplifting enabled because Function \"make_loan_array\" failed type inference due to: \u001b[1m\u001b[1mUse of unsupported NumPy function 'numpy.tile' or unsupported use of the function.\n",
      "\u001b[1m\n",
      "File \"<ipython-input-81-6bac02cf9e9d>\", line 27:\u001b[0m\n",
      "\u001b[1mdef make_loan_array(l_type, funded, pmt, rate, term, month, cfs, rem_princp_array, theoretic = False, end_m = None):\n",
      "    <source elided>\n",
      "            per = np.arange(n_m) + 1\n",
      "\u001b[1m            add_cfs = np.tile(pmt, (n_m+1))\n",
      "\u001b[0m            \u001b[1m^\u001b[0m\u001b[0m\n",
      "\u001b[0m\n",
      "\u001b[0m\u001b[1m[1] During: typing of get attribute at <ipython-input-81-6bac02cf9e9d> (27)\u001b[0m\n",
      "\u001b[1m\n",
      "File \"<ipython-input-81-6bac02cf9e9d>\", line 27:\u001b[0m\n",
      "\u001b[1mdef make_loan_array(l_type, funded, pmt, rate, term, month, cfs, rem_princp_array, theoretic = False, end_m = None):\n",
      "    <source elided>\n",
      "            per = np.arange(n_m) + 1\n",
      "\u001b[1m            add_cfs = np.tile(pmt, (n_m+1))\n",
      "\u001b[0m            \u001b[1m^\u001b[0m\u001b[0m\n",
      "\u001b[0m\n",
      "  @jit\n",
      "/home/justin/anaconda3/envs/lendingclub/lib/python3.7/site-packages/numba/object_mode_passes.py:178: NumbaWarning: \u001b[1mFunction \"make_loan_array\" was compiled in object mode without forceobj=True.\n",
      "\u001b[1m\n",
      "File \"<ipython-input-81-6bac02cf9e9d>\", line 6:\u001b[0m\n",
      "\u001b[1m@jit\n",
      "\u001b[1mdef make_loan_array(l_type, funded, pmt, rate, term, month, cfs, rem_princp_array, theoretic = False, end_m = None):\n",
      "\u001b[0m\u001b[1m^\u001b[0m\u001b[0m\n",
      "\u001b[0m\n",
      "  state.func_ir.loc))\n",
      "/home/justin/anaconda3/envs/lendingclub/lib/python3.7/site-packages/numba/object_mode_passes.py:187: NumbaDeprecationWarning: \u001b[1m\n",
      "Fall-back from the nopython compilation path to the object mode compilation path has been detected, this is deprecated behaviour.\n",
      "\n",
      "For more information visit http://numba.pydata.org/numba-doc/latest/reference/deprecation.html#deprecation-of-object-mode-fall-back-behaviour-when-using-jit\n",
      "\u001b[1m\n",
      "File \"<ipython-input-81-6bac02cf9e9d>\", line 6:\u001b[0m\n",
      "\u001b[1m@jit\n",
      "\u001b[1mdef make_loan_array(l_type, funded, pmt, rate, term, month, cfs, rem_princp_array, theoretic = False, end_m = None):\n",
      "\u001b[0m\u001b[1m^\u001b[0m\u001b[0m\n",
      "\u001b[0m\n",
      "  warnings.warn(errors.NumbaDeprecationWarning(msg, state.func_ir.loc))\n"
     ]
    },
    {
     "data": {
      "text/plain": [
       "array([0.000, 0.000, 0.000, -1.000, 0.032, 0.032, 0.032, 0.032, 0.032,\n",
       "       0.032, 0.032, 0.032, 0.032, -1.018, 0.000, 0.000, 0.000, 0.000,\n",
       "       0.000, 0.000, 0.000, 0.000, 0.000, 0.000, 0.000, 0.000, 0.000,\n",
       "       0.000, 0.000, 0.000, 0.000, 0.000, 0.000, 0.000, 0.000, 0.000,\n",
       "       0.000, 0.000, 0.000, 0.000, 0.000, 0.000, 0.000, 0.000, 0.000,\n",
       "       0.000, 0.000, 0.000, 0.000, 0.000, 0.000, 0.000, 0.000, 0.000,\n",
       "       0.000, 0.000, 0.000, 0.000, 0.000, 0.000, 0.000, 0.000, 0.000,\n",
       "       0.000, 0.000, 0.000, 0.000])"
      ]
     },
     "execution_count": 84,
     "metadata": {},
     "output_type": "execute_result"
    }
   ],
   "source": [
    "n_months = 30\n",
    "funded = -1\n",
    "rate = .0999\n",
    "term = 36\n",
    "month = 3\n",
    "cfs=np.zeros(n_months + 37)\n",
    "pmt = np.pmt(rate/12, term, funded)\n",
    "ppmt_by_term_rate[term, round(rate, 5)]\n",
    "make_loan_array('paid', funded, pmt, rate, term, month, cfs, ppmt_by_term_rate[term, round(rate, 5)], end_m = 10)"
   ]
  },
  {
   "cell_type": "code",
   "execution_count": 85,
   "metadata": {
    "ExecuteTime": {
     "end_time": "2019-12-25T02:04:37.260800Z",
     "start_time": "2019-12-25T02:04:36.511019Z"
    },
    "hidden": true,
    "scrolled": false
   },
   "outputs": [
    {
     "name": "stderr",
     "output_type": "stream",
     "text": [
      "<ipython-input-81-6bac02cf9e9d>:5: NumbaWarning: \u001b[1m\n",
      "Compilation is falling back to object mode WITH looplifting enabled because Function \"make_loan_array\" failed type inference due to: \u001b[1m\u001b[1m\u001b[1mCannot unify array(int64, 1d, C) and array(float64, 1d, C) for '$94.4', defined at <ipython-input-81-6bac02cf9e9d> (26)\n",
      "\u001b[1m\n",
      "File \"<ipython-input-81-6bac02cf9e9d>\", line 26:\u001b[0m\n",
      "\u001b[1mdef make_loan_array(l_type, funded, pmt, rate, term, month, cfs, rem_princp_array, theoretic = False, end_m = None):\n",
      "    <source elided>\n",
      "                n_m = 33+add_m+1\n",
      "\u001b[1m            per = np.arange(n_m) + 1\n",
      "\u001b[0m            \u001b[1m^\u001b[0m\u001b[0m\n",
      "\u001b[0m\n",
      "\u001b[0m\u001b[1m[1] During: resolving callee type: Function(<built-in function arange>)\u001b[0m\n",
      "\u001b[0m\u001b[1m[2] During: typing of call at <ipython-input-81-6bac02cf9e9d> (26)\n",
      "\u001b[0m\n",
      "\u001b[1m\n",
      "File \"<ipython-input-81-6bac02cf9e9d>\", line 26:\u001b[0m\n",
      "\u001b[1mdef make_loan_array(l_type, funded, pmt, rate, term, month, cfs, rem_princp_array, theoretic = False, end_m = None):\n",
      "    <source elided>\n",
      "                n_m = 33+add_m+1\n",
      "\u001b[1m            per = np.arange(n_m) + 1\n",
      "\u001b[0m            \u001b[1m^\u001b[0m\u001b[0m\n",
      "\u001b[0m\n",
      "  @jit\n"
     ]
    },
    {
     "name": "stdout",
     "output_type": "stream",
     "text": [
      "month is 0 *************************\n",
      "picking a loan with term: 36, status: charged_off, grade: B, and rate: 0.11140000075101852\n",
      "loan life is 27.0 ending in month 27.0\n"
     ]
    },
    {
     "name": "stderr",
     "output_type": "stream",
     "text": [
      "/home/justin/anaconda3/envs/lendingclub/lib/python3.7/site-packages/numba/object_mode_passes.py:178: NumbaWarning: \u001b[1mFunction \"make_loan_array\" was compiled in object mode without forceobj=True.\n",
      "\u001b[1m\n",
      "File \"<ipython-input-81-6bac02cf9e9d>\", line 6:\u001b[0m\n",
      "\u001b[1m@jit\n",
      "\u001b[1mdef make_loan_array(l_type, funded, pmt, rate, term, month, cfs, rem_princp_array, theoretic = False, end_m = None):\n",
      "\u001b[0m\u001b[1m^\u001b[0m\u001b[0m\n",
      "\u001b[0m\n",
      "  state.func_ir.loc))\n",
      "/home/justin/anaconda3/envs/lendingclub/lib/python3.7/site-packages/numba/object_mode_passes.py:187: NumbaDeprecationWarning: \u001b[1m\n",
      "Fall-back from the nopython compilation path to the object mode compilation path has been detected, this is deprecated behaviour.\n",
      "\n",
      "For more information visit http://numba.pydata.org/numba-doc/latest/reference/deprecation.html#deprecation-of-object-mode-fall-back-behaviour-when-using-jit\n",
      "\u001b[1m\n",
      "File \"<ipython-input-81-6bac02cf9e9d>\", line 6:\u001b[0m\n",
      "\u001b[1m@jit\n",
      "\u001b[1mdef make_loan_array(l_type, funded, pmt, rate, term, month, cfs, rem_princp_array, theoretic = False, end_m = None):\n",
      "\u001b[0m\u001b[1m^\u001b[0m\u001b[0m\n",
      "\u001b[0m\n",
      "  warnings.warn(errors.NumbaDeprecationWarning(msg, state.func_ir.loc))\n"
     ]
    },
    {
     "ename": "TypeError",
     "evalue": "slice indices must be integers or None or have an __index__ method",
     "output_type": "error",
     "traceback": [
      "\u001b[0;31m---------------------------------------------------------------------------\u001b[0m",
      "\u001b[0;31mTypeError\u001b[0m                                 Traceback (most recent call last)",
      "\u001b[0;32m<ipython-input-85-dc7c0a5eaf64>\u001b[0m in \u001b[0;36m<module>\u001b[0;34m\u001b[0m\n\u001b[0;32m----> 1\u001b[0;31m \u001b[0msim_portfolio\u001b[0m\u001b[0;34m(\u001b[0m\u001b[0mend_d_by_term_stat_grade\u001b[0m\u001b[0;34m,\u001b[0m \u001b[0mddone_loans\u001b[0m\u001b[0;34m,\u001b[0m \u001b[0mppmt_by_term_rate\u001b[0m\u001b[0;34m,\u001b[0m \u001b[0mn_inv_loans\u001b[0m\u001b[0;34m=\u001b[0m\u001b[0;36m2\u001b[0m\u001b[0;34m,\u001b[0m \u001b[0mverbose\u001b[0m\u001b[0;34m=\u001b[0m\u001b[0;32mTrue\u001b[0m\u001b[0;34m,\u001b[0m \u001b[0mwait_for_cont\u001b[0m\u001b[0;34m=\u001b[0m\u001b[0;32mFalse\u001b[0m\u001b[0;34m,\u001b[0m \u001b[0mn_months\u001b[0m\u001b[0;34m=\u001b[0m\u001b[0;36m120\u001b[0m\u001b[0;34m)\u001b[0m\u001b[0;34m\u001b[0m\u001b[0;34m\u001b[0m\u001b[0m\n\u001b[0m",
      "\u001b[0;32m<ipython-input-81-6bac02cf9e9d>\u001b[0m in \u001b[0;36msim_portfolio\u001b[0;34m(end_d_by_term_stat_grade, sel_loans, ppmt_by_term_rate, n_months, n_inv_loans, cfs, funded, random_state, verbose, longest_winddown, wait_for_cont)\u001b[0m\n\u001b[1;32m     85\u001b[0m                 \u001b[0mterm\u001b[0m\u001b[0;34m,\u001b[0m \u001b[0mstat\u001b[0m\u001b[0;34m,\u001b[0m \u001b[0mgrade\u001b[0m \u001b[0;34m=\u001b[0m \u001b[0mkey\u001b[0m\u001b[0;34m\u001b[0m\u001b[0;34m\u001b[0m\u001b[0m\n\u001b[1;32m     86\u001b[0m                 \u001b[0mpmt\u001b[0m \u001b[0;34m=\u001b[0m \u001b[0mnp\u001b[0m\u001b[0;34m.\u001b[0m\u001b[0mpmt\u001b[0m\u001b[0;34m(\u001b[0m\u001b[0mrate\u001b[0m\u001b[0;34m/\u001b[0m\u001b[0;36m12\u001b[0m\u001b[0;34m,\u001b[0m \u001b[0mterm\u001b[0m\u001b[0;34m,\u001b[0m \u001b[0mfunded\u001b[0m\u001b[0;34m,\u001b[0m \u001b[0;36m0\u001b[0m\u001b[0;34m)\u001b[0m\u001b[0;34m\u001b[0m\u001b[0;34m\u001b[0m\u001b[0m\n\u001b[0;32m---> 87\u001b[0;31m                 \u001b[0mcfs\u001b[0m \u001b[0;34m=\u001b[0m \u001b[0mmake_loan_array\u001b[0m\u001b[0;34m(\u001b[0m\u001b[0mstat\u001b[0m\u001b[0;34m,\u001b[0m \u001b[0mfunded\u001b[0m\u001b[0;34m,\u001b[0m \u001b[0mpmt\u001b[0m\u001b[0;34m,\u001b[0m \u001b[0mrate\u001b[0m\u001b[0;34m/\u001b[0m\u001b[0;36m12\u001b[0m\u001b[0;34m,\u001b[0m \u001b[0mterm\u001b[0m\u001b[0;34m,\u001b[0m \u001b[0mmonth\u001b[0m\u001b[0;34m,\u001b[0m \u001b[0mcfs\u001b[0m\u001b[0;34m,\u001b[0m \u001b[0mppmt_by_term_rate\u001b[0m\u001b[0;34m[\u001b[0m\u001b[0mterm\u001b[0m\u001b[0;34m,\u001b[0m \u001b[0mround\u001b[0m\u001b[0;34m(\u001b[0m\u001b[0mrate\u001b[0m\u001b[0;34m,\u001b[0m\u001b[0;36m5\u001b[0m\u001b[0;34m)\u001b[0m\u001b[0;34m]\u001b[0m\u001b[0;34m,\u001b[0m \u001b[0mtheoretic\u001b[0m\u001b[0;34m=\u001b[0m\u001b[0;32mFalse\u001b[0m\u001b[0;34m,\u001b[0m \u001b[0mend_m\u001b[0m\u001b[0;34m=\u001b[0m\u001b[0mend_m\u001b[0m\u001b[0;34m)\u001b[0m\u001b[0;34m\u001b[0m\u001b[0;34m\u001b[0m\u001b[0m\n\u001b[0m\u001b[1;32m     88\u001b[0m                 \u001b[0;32mif\u001b[0m \u001b[0mverbose\u001b[0m\u001b[0;34m:\u001b[0m\u001b[0;34m\u001b[0m\u001b[0;34m\u001b[0m\u001b[0m\n\u001b[1;32m     89\u001b[0m                     \u001b[0mprint\u001b[0m\u001b[0;34m(\u001b[0m\u001b[0;34m'picking a loan with term: {0}, status: {1}, grade: {2}, and rate: {3}'\u001b[0m\u001b[0;34m.\u001b[0m\u001b[0mformat\u001b[0m\u001b[0;34m(\u001b[0m\u001b[0;34m*\u001b[0m\u001b[0mkey\u001b[0m\u001b[0;34m,\u001b[0m \u001b[0mrate\u001b[0m\u001b[0;34m)\u001b[0m\u001b[0;34m)\u001b[0m\u001b[0;34m\u001b[0m\u001b[0;34m\u001b[0m\u001b[0m\n",
      "\u001b[0;31mTypeError\u001b[0m: slice indices must be integers or None or have an __index__ method"
     ]
    }
   ],
   "source": [
    "sim_portfolio(end_d_by_term_stat_grade, ddone_loans, ppmt_by_term_rate, n_inv_loans=2, verbose=True, wait_for_cont=False, n_months=120)"
   ]
  },
  {
   "cell_type": "code",
   "execution_count": 86,
   "metadata": {
    "ExecuteTime": {
     "end_time": "2019-12-25T02:11:29.662080Z",
     "start_time": "2019-12-25T02:05:02.353983Z"
    },
    "hidden": true
   },
   "outputs": [
    {
     "name": "stdout",
     "output_type": "stream",
     "text": [
      "> \u001b[0;32m<ipython-input-81-6bac02cf9e9d>\u001b[0m(87)\u001b[0;36msim_portfolio\u001b[0;34m()\u001b[0m\n",
      "\u001b[0;32m     85 \u001b[0;31m                \u001b[0mterm\u001b[0m\u001b[0;34m,\u001b[0m \u001b[0mstat\u001b[0m\u001b[0;34m,\u001b[0m \u001b[0mgrade\u001b[0m \u001b[0;34m=\u001b[0m \u001b[0mkey\u001b[0m\u001b[0;34m\u001b[0m\u001b[0;34m\u001b[0m\u001b[0m\n",
      "\u001b[0m\u001b[0;32m     86 \u001b[0;31m                \u001b[0mpmt\u001b[0m \u001b[0;34m=\u001b[0m \u001b[0mnp\u001b[0m\u001b[0;34m.\u001b[0m\u001b[0mpmt\u001b[0m\u001b[0;34m(\u001b[0m\u001b[0mrate\u001b[0m\u001b[0;34m/\u001b[0m\u001b[0;36m12\u001b[0m\u001b[0;34m,\u001b[0m \u001b[0mterm\u001b[0m\u001b[0;34m,\u001b[0m \u001b[0mfunded\u001b[0m\u001b[0;34m,\u001b[0m \u001b[0;36m0\u001b[0m\u001b[0;34m)\u001b[0m\u001b[0;34m\u001b[0m\u001b[0;34m\u001b[0m\u001b[0m\n",
      "\u001b[0m\u001b[0;32m---> 87 \u001b[0;31m                \u001b[0mcfs\u001b[0m \u001b[0;34m=\u001b[0m \u001b[0mmake_loan_array\u001b[0m\u001b[0;34m(\u001b[0m\u001b[0mstat\u001b[0m\u001b[0;34m,\u001b[0m \u001b[0mfunded\u001b[0m\u001b[0;34m,\u001b[0m \u001b[0mpmt\u001b[0m\u001b[0;34m,\u001b[0m \u001b[0mrate\u001b[0m\u001b[0;34m/\u001b[0m\u001b[0;36m12\u001b[0m\u001b[0;34m,\u001b[0m \u001b[0mterm\u001b[0m\u001b[0;34m,\u001b[0m \u001b[0mmonth\u001b[0m\u001b[0;34m,\u001b[0m \u001b[0mcfs\u001b[0m\u001b[0;34m,\u001b[0m \u001b[0mppmt_by_term_rate\u001b[0m\u001b[0;34m[\u001b[0m\u001b[0mterm\u001b[0m\u001b[0;34m,\u001b[0m \u001b[0mround\u001b[0m\u001b[0;34m(\u001b[0m\u001b[0mrate\u001b[0m\u001b[0;34m,\u001b[0m\u001b[0;36m5\u001b[0m\u001b[0;34m)\u001b[0m\u001b[0;34m]\u001b[0m\u001b[0;34m,\u001b[0m \u001b[0mtheoretic\u001b[0m\u001b[0;34m=\u001b[0m\u001b[0;32mFalse\u001b[0m\u001b[0;34m,\u001b[0m \u001b[0mend_m\u001b[0m\u001b[0;34m=\u001b[0m\u001b[0mend_m\u001b[0m\u001b[0;34m)\u001b[0m\u001b[0;34m\u001b[0m\u001b[0;34m\u001b[0m\u001b[0m\n",
      "\u001b[0m\u001b[0;32m     88 \u001b[0;31m                \u001b[0;32mif\u001b[0m \u001b[0mverbose\u001b[0m\u001b[0;34m:\u001b[0m\u001b[0;34m\u001b[0m\u001b[0;34m\u001b[0m\u001b[0m\n",
      "\u001b[0m\u001b[0;32m     89 \u001b[0;31m                    \u001b[0mprint\u001b[0m\u001b[0;34m(\u001b[0m\u001b[0;34m'picking a loan with term: {0}, status: {1}, grade: {2}, and rate: {3}'\u001b[0m\u001b[0;34m.\u001b[0m\u001b[0mformat\u001b[0m\u001b[0;34m(\u001b[0m\u001b[0;34m*\u001b[0m\u001b[0mkey\u001b[0m\u001b[0;34m,\u001b[0m \u001b[0mrate\u001b[0m\u001b[0;34m)\u001b[0m\u001b[0;34m)\u001b[0m\u001b[0;34m\u001b[0m\u001b[0;34m\u001b[0m\u001b[0m\n",
      "\u001b[0m\n",
      "ipdb> dir()\n",
      "['cfs', 'end_d_by_term_stat_grade', 'end_i', 'end_m', 'funded', 'grade', 'key', 'l', 'li_tups', 'loans', 'longest_winddown', 'month', 'ms', 'n_inv_loans', 'n_months', 'pmt', 'ppmt_by_term_rate', 'probs', 'random_state', 'rate', 'sel_loans', 'starting_money', 'stat', 'term', 'verbose', 'wait_for_cont']\n",
      "ipdb> ppmt_by_term_rate[term, round(rate,5)]\n",
      "array([0.001, 0.001, 0.002, 0.002, 0.002, 0.002, 0.003, 0.003, 0.004,\n",
      "       0.004, 0.005, 0.005, 0.006, 0.007, 0.008, 0.009, 0.010, 0.012,\n",
      "       0.013, 0.015, 0.017, 0.020, 0.023, 0.026, 0.029, 0.033, 0.038,\n",
      "       0.043, 0.050, 0.056, 0.064, 0.073, 0.084, 0.095, 0.109, 0.124])\n",
      "ipdb> q\n"
     ]
    }
   ],
   "source": [
    "%debug"
   ]
  },
  {
   "cell_type": "code",
   "execution_count": null,
   "metadata": {
    "hidden": true
   },
   "outputs": [],
   "source": []
  },
  {
   "cell_type": "code",
   "execution_count": 103,
   "metadata": {
    "ExecuteTime": {
     "end_time": "2019-12-03T23:39:31.472905Z",
     "start_time": "2019-12-03T23:39:18.019699Z"
    },
    "hidden": true
   },
   "outputs": [
    {
     "name": "stdout",
     "output_type": "stream",
     "text": [
      "> \u001b[0;32m<ipython-input-100-5e4c8b91dd5f>\u001b[0m(83)\u001b[0;36msim_portfolio2\u001b[0;34m()\u001b[0m\n",
      "\u001b[0;32m     81 \u001b[0;31m                \u001b[0mcfs\u001b[0m \u001b[0;34m=\u001b[0m \u001b[0mmake_loan_array\u001b[0m\u001b[0;34m(\u001b[0m\u001b[0mstat\u001b[0m\u001b[0;34m,\u001b[0m \u001b[0mfunded\u001b[0m\u001b[0;34m,\u001b[0m \u001b[0mpmt\u001b[0m\u001b[0;34m,\u001b[0m \u001b[0mrate\u001b[0m\u001b[0;34m,\u001b[0m \u001b[0mterm\u001b[0m\u001b[0;34m,\u001b[0m \u001b[0mmonth\u001b[0m\u001b[0;34m,\u001b[0m \u001b[0mcfs\u001b[0m\u001b[0;34m,\u001b[0m \u001b[0mtheoretic\u001b[0m\u001b[0;34m=\u001b[0m\u001b[0;32mFalse\u001b[0m\u001b[0;34m,\u001b[0m \u001b[0mend_m\u001b[0m\u001b[0;34m=\u001b[0m\u001b[0mend_m\u001b[0m\u001b[0;34m)\u001b[0m\u001b[0;34m\u001b[0m\u001b[0;34m\u001b[0m\u001b[0m\n",
      "\u001b[0m\u001b[0;32m     82 \u001b[0;31m            \u001b[0;31m# calculate which month can reinvest next in\u001b[0m\u001b[0;34m\u001b[0m\u001b[0;34m\u001b[0m\u001b[0;34m\u001b[0m\u001b[0m\n",
      "\u001b[0m\u001b[0;32m---> 83 \u001b[0;31m            \u001b[0mleftover_money\u001b[0m \u001b[0;34m=\u001b[0m \u001b[0mn_inv_loans\u001b[0m \u001b[0;34m%\u001b[0m \u001b[0;34m(\u001b[0m\u001b[0ml\u001b[0m\u001b[0;34m+\u001b[0m\u001b[0;36m1\u001b[0m\u001b[0;34m)\u001b[0m\u001b[0;34m\u001b[0m\u001b[0;34m\u001b[0m\u001b[0m\n",
      "\u001b[0m\u001b[0;32m     84 \u001b[0;31m            \u001b[0mend_i\u001b[0m \u001b[0;34m=\u001b[0m \u001b[0mmonth\u001b[0m\u001b[0;34m+\u001b[0m\u001b[0;36m1\u001b[0m\u001b[0;34m\u001b[0m\u001b[0;34m\u001b[0m\u001b[0m\n",
      "\u001b[0m\u001b[0;32m     85 \u001b[0;31m            \u001b[0;32mwhile\u001b[0m \u001b[0mleftover_money\u001b[0m \u001b[0;34m<\u001b[0m \u001b[0mabs\u001b[0m\u001b[0;34m(\u001b[0m\u001b[0mfunded\u001b[0m\u001b[0;34m)\u001b[0m\u001b[0;34m:\u001b[0m\u001b[0;34m\u001b[0m\u001b[0;34m\u001b[0m\u001b[0m\n",
      "\u001b[0m\n",
      "ipdb> l\n",
      "\u001b[1;32m     78 \u001b[0m                \u001b[0;31m# key is term, stat, grade\u001b[0m\u001b[0;34m\u001b[0m\u001b[0;34m\u001b[0m\u001b[0;34m\u001b[0m\u001b[0m\n",
      "\u001b[1;32m     79 \u001b[0m                \u001b[0mterm\u001b[0m\u001b[0;34m,\u001b[0m \u001b[0mstat\u001b[0m\u001b[0;34m,\u001b[0m \u001b[0mgrade\u001b[0m \u001b[0;34m=\u001b[0m \u001b[0mkey\u001b[0m\u001b[0;34m\u001b[0m\u001b[0;34m\u001b[0m\u001b[0m\n",
      "\u001b[1;32m     80 \u001b[0m                \u001b[0mpmt\u001b[0m \u001b[0;34m=\u001b[0m \u001b[0mnp\u001b[0m\u001b[0;34m.\u001b[0m\u001b[0mpmt\u001b[0m\u001b[0;34m(\u001b[0m\u001b[0mrate\u001b[0m\u001b[0;34m,\u001b[0m \u001b[0mterm\u001b[0m\u001b[0;34m,\u001b[0m \u001b[0mfunded\u001b[0m\u001b[0;34m,\u001b[0m \u001b[0;36m0\u001b[0m\u001b[0;34m)\u001b[0m\u001b[0;34m\u001b[0m\u001b[0;34m\u001b[0m\u001b[0m\n",
      "\u001b[1;32m     81 \u001b[0m                \u001b[0mcfs\u001b[0m \u001b[0;34m=\u001b[0m \u001b[0mmake_loan_array\u001b[0m\u001b[0;34m(\u001b[0m\u001b[0mstat\u001b[0m\u001b[0;34m,\u001b[0m \u001b[0mfunded\u001b[0m\u001b[0;34m,\u001b[0m \u001b[0mpmt\u001b[0m\u001b[0;34m,\u001b[0m \u001b[0mrate\u001b[0m\u001b[0;34m,\u001b[0m \u001b[0mterm\u001b[0m\u001b[0;34m,\u001b[0m \u001b[0mmonth\u001b[0m\u001b[0;34m,\u001b[0m \u001b[0mcfs\u001b[0m\u001b[0;34m,\u001b[0m \u001b[0mtheoretic\u001b[0m\u001b[0;34m=\u001b[0m\u001b[0;32mFalse\u001b[0m\u001b[0;34m,\u001b[0m \u001b[0mend_m\u001b[0m\u001b[0;34m=\u001b[0m\u001b[0mend_m\u001b[0m\u001b[0;34m)\u001b[0m\u001b[0;34m\u001b[0m\u001b[0;34m\u001b[0m\u001b[0m\n",
      "\u001b[1;32m     82 \u001b[0m            \u001b[0;31m# calculate which month can reinvest next in\u001b[0m\u001b[0;34m\u001b[0m\u001b[0;34m\u001b[0m\u001b[0;34m\u001b[0m\u001b[0m\n",
      "\u001b[0;32m---> 83 \u001b[0;31m            \u001b[0mleftover_money\u001b[0m \u001b[0;34m=\u001b[0m \u001b[0mn_inv_loans\u001b[0m \u001b[0;34m%\u001b[0m \u001b[0;34m(\u001b[0m\u001b[0ml\u001b[0m\u001b[0;34m+\u001b[0m\u001b[0;36m1\u001b[0m\u001b[0;34m)\u001b[0m\u001b[0;34m\u001b[0m\u001b[0;34m\u001b[0m\u001b[0m\n",
      "\u001b[0m\u001b[1;32m     84 \u001b[0m            \u001b[0mend_i\u001b[0m \u001b[0;34m=\u001b[0m \u001b[0mmonth\u001b[0m\u001b[0;34m+\u001b[0m\u001b[0;36m1\u001b[0m\u001b[0;34m\u001b[0m\u001b[0;34m\u001b[0m\u001b[0m\n",
      "\u001b[1;32m     85 \u001b[0m            \u001b[0;32mwhile\u001b[0m \u001b[0mleftover_money\u001b[0m \u001b[0;34m<\u001b[0m \u001b[0mabs\u001b[0m\u001b[0;34m(\u001b[0m\u001b[0mfunded\u001b[0m\u001b[0;34m)\u001b[0m\u001b[0;34m:\u001b[0m\u001b[0;34m\u001b[0m\u001b[0;34m\u001b[0m\u001b[0m\n",
      "\u001b[1;32m     86 \u001b[0m                \u001b[0mleftover_money\u001b[0m \u001b[0;34m+=\u001b[0m \u001b[0mcfs\u001b[0m\u001b[0;34m[\u001b[0m\u001b[0mend_i\u001b[0m\u001b[0;34m]\u001b[0m\u001b[0;34m\u001b[0m\u001b[0;34m\u001b[0m\u001b[0m\n",
      "\u001b[1;32m     87 \u001b[0m                \u001b[0mend_i\u001b[0m \u001b[0;34m+=\u001b[0m \u001b[0;36m1\u001b[0m\u001b[0;34m\u001b[0m\u001b[0;34m\u001b[0m\u001b[0m\n",
      "\u001b[1;32m     88 \u001b[0m            \u001b[0mn_inv_loans\u001b[0m \u001b[0;34m=\u001b[0m \u001b[0mleftover_money\u001b[0m\u001b[0;34m\u001b[0m\u001b[0;34m\u001b[0m\u001b[0m\n",
      "\n",
      "ipdb> q\n"
     ]
    }
   ],
   "source": [
    "%debug"
   ]
  },
  {
   "cell_type": "code",
   "execution_count": 74,
   "metadata": {
    "ExecuteTime": {
     "end_time": "2019-12-03T04:28:21.145839Z",
     "start_time": "2019-12-03T04:28:21.140601Z"
    },
    "hidden": true
   },
   "outputs": [],
   "source": [
    "def sim_portfolio(n_months=120, starting_loans=2000, cfs=None, funded=-1,\n",
    "                  rate = .07/12, term = 36, theoretic = False, def_vs_pay_prob=[.15, .85], ms_prob_tup = None):\n",
    "    '''\n",
    "    Simulate a portfolio for INVESTING for n_months. Actual portfolio winddown\n",
    "    may take up to 36 months longer\n",
    "    funded is the loan amount that will be used (e.g. -1 is one dollar funded to loan)\n",
    "    '''\n",
    "\n",
    "    if not theoretic:\n",
    "        ms, probs = ms_prob_tup\n",
    "    \n",
    "    cfs=np.zeros(n_months + 37) if cfs is None else cfs\n",
    "    pmt = np.pmt(rate, term, funded, 0)\n",
    "    end_i = 0\n",
    "    for month in range(n_months):\n",
    "        if month == end_i:\n",
    "            for l in range(int(np.floor(starting_loans))):\n",
    "                if theoretic:\n",
    "                    l_type = np.random.choice(['A','B','C'], replace=True, p=[.1,.55,.35])\n",
    "                    cfs = make_loan_array(l_type, funded, pmt, rate, term, month, cfs)\n",
    "                else:\n",
    "                    l_type = np.random.choice(['charged_off','paid'], replace=True, p=def_vs_pay_prob)\n",
    "                    if l_type == 'charged_off':\n",
    "                        end_m = np.random.choice(def_m, replace=True, p=def_prob)\n",
    "                    elif l_type == 'paid':\n",
    "                        end_m = np.random.choice(paid_m, replace=True, p=paid_prob)\n",
    "                    cfs = make_loan_array(l_type, funded, pmt, rate, term, month, cfs, theoretic=False, end_m=end_m)\n",
    "            # calculate which month can reinvest next in\n",
    "            leftover_money = starting_loans % (l+1)\n",
    "            end_i = month+1\n",
    "            while leftover_money < abs(funded):\n",
    "                leftover_money += cfs[end_i]\n",
    "                end_i += 1\n",
    "            starting_loans = leftover_money\n",
    "    # returns the cfs, the net money made, and the annualized irr\n",
    "    return cfs, np.sum(cfs), np.irr(cfs)*12\n",
    "\n"
   ]
  },
  {
   "cell_type": "code",
   "execution_count": 104,
   "metadata": {
    "ExecuteTime": {
     "end_time": "2019-12-03T23:40:57.209188Z",
     "start_time": "2019-12-03T23:40:57.202850Z"
    },
    "hidden": true
   },
   "outputs": [
    {
     "data": {
      "text/plain": [
       "7"
      ]
     },
     "execution_count": 104,
     "metadata": {},
     "output_type": "execute_result"
    }
   ],
   "source": [
    "20 % 13"
   ]
  },
  {
   "cell_type": "code",
   "execution_count": 9,
   "metadata": {
    "ExecuteTime": {
     "end_time": "2019-11-24T03:53:59.447315Z",
     "start_time": "2019-11-24T03:53:59.442064Z"
    },
    "hidden": true,
    "scrolled": true
   },
   "outputs": [],
   "source": [
    "# n_months=120\n",
    "# month=0\n",
    "# starting_money = 2000\n",
    "# # m_start_loans= 10\n",
    "# cfs = np.zeros(n_months + 37)\n",
    "# funded = -1\n",
    "# rate = .07/12\n",
    "# term = 36\n",
    "# pmt = np.pmt(rate, term, funded, 0)\n",
    "# loan_types = ['A','B','C']\n",
    "# p=[.05,.7,.25]\n",
    "# end_i = 0\n",
    "# theoretic = False\n",
    "# for month in range(n_months):\n",
    "#     # sample your loan_types\n",
    "#     if month == end_i:\n",
    "# #         print('Month {0}'.format(end_i))\n",
    "#         for l in range(int(np.floor(starting_money))):\n",
    "#             if theoretic:\n",
    "#                 l_type = np.random.choice(['A','B','C'], replace=True, p=[.1,.55,.35])\n",
    "#                 cfs = make_loan_array(l_type, funded, pmt, rate, term, month, n_months, cfs)\n",
    "#             else:\n",
    "#                 l_type = np.random.choice(['A','B'], replace=True, p=[.15, .85])\n",
    "#                 if l_type == 'A':\n",
    "#                     end_m = np.random.choice(def_m, replace=True, p=def_prob)\n",
    "#                 elif l_type == 'B':\n",
    "#                     end_m = np.random.choice(paid_m, replace=True, p=paid_prob)\n",
    "# #                 print(l_type, end_m)\n",
    "#                 cfs = make_loan_array(l_type, funded, pmt, rate, term, month, n_months, cfs, theoretic=False, end_m=end_m)\n",
    "#         # calculate which month can reinvest next in\n",
    "# #         print('invest in {0} loans'.format(l+1))\n",
    "# #         print(cfs)\n",
    "#         leftover_money = starting_money % (l+1)\n",
    "# #         print(leftover_money, starting_money)\n",
    "#         end_i = month+1\n",
    "#         while leftover_money < abs(funded):\n",
    "#             leftover_money += cfs[end_i]\n",
    "#             end_i += 1\n",
    "#         starting_money = leftover_money\n",
    "# #         print(starting_money)\n",
    "# #     import ipdb; ipdb.set_trace()"
   ]
  },
  {
   "cell_type": "code",
   "execution_count": null,
   "metadata": {
    "hidden": true
   },
   "outputs": [],
   "source": [
    "#     #2019-11-23 18:19:03 added these probability of def/pay loan ending in which month\n",
    "#     def_m = (19.0, 20.0, 17.0, 23.0, 13.0, 16.0, 18.0, 15.0, 14.0, 21.0, 22.0, 24.0, 12.0, 25.0, 11.0, 26.0, 27.0, 28.0, 10.0, 30.0, 29.0, 31.0, 9.0, 33.0, 32.0, 34.0, 35.0, 36.0, 8.0, 7.0, 37.0, 38.0, 39.0, 6.0, 40.0, 5.0)\n",
    "#     def_prob = (0.04215276249174554, 0.04171252476337222, 0.04105216817081224, 0.040721989874532245, 0.03962139555359894, 0.039181157825225625, 0.03896103896103896, 0.0387409200968523, 0.037860444640105656, 0.036429672022892365, 0.03543913713405239, 0.035108958837772396, 0.03499889940567907, 0.033678186220559105, 0.03345806735637244, 0.031587057010785825, 0.030706581554039183, 0.029826106097292537, 0.028285274047985913, 0.02806515518379925, 0.02784503631961259, 0.026194144838212634, 0.02443319392471935, 0.023992956196346026, 0.02201188641866608, 0.02168170812238609, 0.020360994937266123, 0.017609509134932862, 0.017499449702839533, 0.01694915254237288, 0.016178736517719568, 0.014417785604226283, 0.010455646048866387, 0.009134932863746423, 0.009134932863746423, 0.004512436715826546)\n",
    "#     paid_m = (36.0, 35.0, 34.0, 23.0, 33.0, 29.0, 32.0, 20.0, 19.0, 22.0, 24.0, 25.0, 21.0, 17.0, 28.0, 31.0, 13.0, 14.0, 18.0, 30.0, 27.0, 16.0, 15.0, 26.0, 12.0, 11.0, 8.0, 10.0, 9.0, 7.0, 6.0, 5.0, 1.0, 4.0, 3.0, 2.0)\n",
    "#     paid_prob = (0.2824742268041237, 0.039646539027982326, 0.025508100147275406, 0.02411389297987236, 0.023524791359842905, 0.02346588119783996, 0.02323024054982818, 0.022876779577810504, 0.022778595974472262, 0.022739322533136964, 0.02268041237113402, 0.022523318605792833, 0.022484045164457536, 0.02242513500245459, 0.02242513500245459, 0.02232695139911635, 0.02228767795778105, 0.021678939617083948, 0.021521845851742757, 0.02150220913107511, 0.02124693176239568, 0.02124693176239568, 0.02059891998036328, 0.020500736377025038, 0.02020618556701031, 0.019695630829651447, 0.01885125184094256, 0.018654884634266077, 0.018046146293568974, 0.01616102110947472, 0.015434462444771722, 0.013294059891998037, 0.012135493372606774, 0.01180166912125675, 0.00997545409916544, 0.009936180657830142)"
   ]
  },
  {
   "cell_type": "markdown",
   "metadata": {},
   "source": [
    "# To Delete"
   ]
  },
  {
   "cell_type": "code",
   "execution_count": null,
   "metadata": {},
   "outputs": [],
   "source": [
    "# def make_loan_array(l_type, funded, pmt, rate, term, month, n_months, cfs, theortic = False):\n",
    "#     '''\n",
    "#     3 l_types:\n",
    "#     A) default immediately, take 5 months\n",
    "#     B) Fully Prepay between 6-12 months. \n",
    "#     C) Fully Prepay/pay between 24-36 months\n",
    "#     month: what month the loan was invested in (starts at 0)\n",
    "#     '''\n",
    "#     if theoretic:\n",
    "#         add_m = np.random.choice(np.arange(-3,4))\n",
    "#         if l_type == 'A':\n",
    "#             add_cfs = np.zeros(1)\n",
    "#         else:\n",
    "#             if l_type == 'B':\n",
    "#                 n_m = 9+add_m+1\n",
    "#             elif l_type == 'C':\n",
    "#                 n_m = 33+add_m+1\n",
    "\n",
    "        \n",
    "# # __________________        \n",
    "#     if l_type == 'A':\n",
    "#         add_cfs = np.zeros(1)\n",
    "#     else:\n",
    "#         if l_type == 'B':\n",
    "#             n_m = 9+add_m+1\n",
    "#         elif l_type == 'C':\n",
    "#             n_m = 33+add_m+1\n",
    "#         per = np.arange(n_m) + 1\n",
    "#         add_cfs = np.tile(pmt, (n_m+1))\n",
    "#         rem_princp = (1 - np.ppmt(rate, per, term, funded, 0).sum()).round(2)\n",
    "#         add_cfs[-1] += rem_princp\n",
    "#     add_cfs[0] = funded\n",
    "#     cfs[month:month+len(add_cfs)] += add_cfs\n",
    "#     return cfs"
   ]
  }
 ],
 "metadata": {
  "kernelspec": {
   "display_name": "Python [conda env:lendingclub]",
   "language": "python",
   "name": "conda-env-lendingclub-py"
  },
  "language_info": {
   "codemirror_mode": {
    "name": "ipython",
    "version": 3
   },
   "file_extension": ".py",
   "mimetype": "text/x-python",
   "name": "python",
   "nbconvert_exporter": "python",
   "pygments_lexer": "ipython3",
   "version": "3.7.4"
  }
 },
 "nbformat": 4,
 "nbformat_minor": 2
}
