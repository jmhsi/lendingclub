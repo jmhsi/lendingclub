{
 "cells": [
  {
   "cell_type": "code",
   "execution_count": 1,
   "metadata": {
    "ExecuteTime": {
     "end_time": "2019-12-04T02:34:56.172732Z",
     "start_time": "2019-12-04T02:34:55.594562Z"
    }
   },
   "outputs": [],
   "source": [
    "import os\n",
    "import pickle\n",
    "import numpy as np\n",
    "import pandas as pd\n",
    "import matplotlib.pyplot as plt\n",
    "from lendingclub import config\n",
    "import seaborn as sns\n",
    "\n",
    "pd.set_option('max_columns', 999)\n",
    "np.set_printoptions(formatter={'float': lambda x: \"{0:0.3f}\".format(x)})\n",
    "\n",
    "ppath = config.prj_dir\n",
    "dpath = config.data_dir"
   ]
  },
  {
   "cell_type": "code",
   "execution_count": 2,
   "metadata": {
    "ExecuteTime": {
     "end_time": "2019-12-04T02:34:56.974377Z",
     "start_time": "2019-12-04T02:34:56.174129Z"
    }
   },
   "outputs": [
    {
     "name": "stdout",
     "output_type": "stream",
     "text": [
      "(2507335, 48) (2507335, 90)\n"
     ]
    }
   ],
   "source": [
    "all_scores = pd.read_feather(os.path.join(config.data_dir, 'eval_loan_info_scored.fth'))\n",
    "base_loan_info = pd.read_feather(os.path.join(config.data_dir, 'base_loan_info.fth'))\n",
    "with open(os.path.join(config.data_dir, 'train_test_ids.pkl'), 'rb') as f:\n",
    "    train_test_ids = pickle.load(f)\n",
    "print(all_scores.shape, base_loan_info.shape)"
   ]
  },
  {
   "cell_type": "markdown",
   "metadata": {},
   "source": [
    "# USE TEST IDS TO GENERATE DISTRIBUTIONS OF END_M"
   ]
  },
  {
   "cell_type": "code",
   "execution_count": 3,
   "metadata": {
    "ExecuteTime": {
     "end_time": "2019-12-04T02:34:57.305105Z",
     "start_time": "2019-12-04T02:34:56.979479Z"
    }
   },
   "outputs": [
    {
     "name": "stderr",
     "output_type": "stream",
     "text": [
      "/home/justin/anaconda3/envs/lendingclub/lib/python3.7/site-packages/ipykernel_launcher.py:4: SettingWithCopyWarning: \n",
      "A value is trying to be set on a copy of a slice from a DataFrame.\n",
      "Try using .loc[row_indexer,col_indexer] = value instead\n",
      "\n",
      "See the caveats in the documentation: http://pandas.pydata.org/pandas-docs/stable/user_guide/indexing.html#returning-a-view-versus-a-copy\n",
      "  after removing the cwd from sys.path.\n",
      "/home/justin/anaconda3/envs/lendingclub/lib/python3.7/site-packages/ipykernel_launcher.py:5: SettingWithCopyWarning: \n",
      "A value is trying to be set on a copy of a slice from a DataFrame.\n",
      "Try using .loc[row_indexer,col_indexer] = value instead\n",
      "\n",
      "See the caveats in the documentation: http://pandas.pydata.org/pandas-docs/stable/user_guide/indexing.html#returning-a-view-versus-a-copy\n",
      "  \"\"\"\n"
     ]
    }
   ],
   "source": [
    "# examine the distribution of high maturity time loans for which months they default and prepay\n",
    "test_id = train_test_ids['test'] # <- test ids\n",
    "ddone_loans = all_scores.query('id in @test_id and maturity_time >= .95 and loan_status in [\"defaulted\", \"charged_off\", \"paid\"]')\n",
    "ddone_loans['months_recorded'] = ((ddone_loans['end_d'] - ddone_loans['issue_d'])/np.timedelta64(1, 'M')).round()\n",
    "ddone_loans['pct_term'] = ddone_loans['months_recorded']/ddone_loans['term']\n",
    "def_statuses = ['charged_off', 'defaulted']\n",
    "def_loans = ddone_loans.query('loan_status in @def_statuses')\n",
    "paid_loans = ddone_loans.query('loan_status not in @def_statuses')"
   ]
  },
  {
   "cell_type": "code",
   "execution_count": 4,
   "metadata": {
    "ExecuteTime": {
     "end_time": "2019-12-04T02:34:57.544250Z",
     "start_time": "2019-12-04T02:34:57.306780Z"
    }
   },
   "outputs": [
    {
     "data": {
      "text/plain": [
       "<matplotlib.axes._subplots.AxesSubplot at 0x7fce2e688390>"
      ]
     },
     "execution_count": 4,
     "metadata": {},
     "output_type": "execute_result"
    },
    {
     "data": {
      "image/png": "[encoded data removed]",
      "text/plain": [
       "<Figure size 432x288 with 1 Axes>"
      ]
     },
     "metadata": {
      "needs_background": "light"
     },
     "output_type": "display_data"
    }
   ],
   "source": [
    "# check how long loans pay for if defaulting or paying for 36 term loans\n",
    "query = 'term == 36 and months_recorded <= 40 and maturity_time >= .95'\n",
    "def_probs = (def_loans.query(query)['months_recorded'].value_counts(dropna=False)/len(def_loans.query(query))).to_dict()\n",
    "def_m, def_prob = zip(*def_probs.items())\n",
    "ddef_loans = def_loans.query(query)\n",
    "ddef_loans['months_recorded'].hist(bins=36)"
   ]
  },
  {
   "cell_type": "code",
   "execution_count": 5,
   "metadata": {
    "ExecuteTime": {
     "end_time": "2019-12-04T02:34:57.785566Z",
     "start_time": "2019-12-04T02:34:57.545734Z"
    }
   },
   "outputs": [
    {
     "data": {
      "text/plain": [
       "<matplotlib.axes._subplots.AxesSubplot at 0x7fce9029e590>"
      ]
     },
     "execution_count": 5,
     "metadata": {},
     "output_type": "execute_result"
    },
    {
     "data": {
      "image/png": "[encoded data removed]",
      "text/plain": [
       "<Figure size 432x288 with 1 Axes>"
      ]
     },
     "metadata": {
      "needs_background": "light"
     },
     "output_type": "display_data"
    }
   ],
   "source": [
    "query = 'term == 36 and months_recorded <= 36 and months_recorded >= 1 and maturity_time >= .95'\n",
    "paid_probs = (paid_loans.query(query)['months_recorded'].value_counts(dropna=False)/len(paid_loans.query(query))).to_dict()\n",
    "paid_m, paid_prob = zip(*paid_probs.items())\n",
    "dpaid_loans = paid_loans.query(query)\n",
    "dpaid_loans['months_recorded'].hist(bins=36)"
   ]
  },
  {
   "cell_type": "markdown",
   "metadata": {},
   "source": [
    "# is there any correlation between the int_rate/grade of a defaulting/paying loan and when its end_m is? Do loans of different int_rate have different distributions?"
   ]
  },
  {
   "cell_type": "code",
   "execution_count": 6,
   "metadata": {
    "ExecuteTime": {
     "end_time": "2019-12-04T02:34:58.333592Z",
     "start_time": "2019-12-04T02:34:58.271969Z"
    }
   },
   "outputs": [
    {
     "name": "stdout",
     "output_type": "stream",
     "text": [
      "(98842, 48) (15927, 48) (82915, 48)\n"
     ]
    }
   ],
   "source": [
    "term_grade_df = ddone_loans.set_index(['term','grade'])\n",
    "def_term_grade_df = term_grade_df.query('loan_status in [\"defaulted\", \"charged_off\"]')\n",
    "paid_term_grade_df = term_grade_df.query('loan_status not in [\"defaulted\", \"charged_off\"]')\n",
    "print(term_grade_df.shape, def_term_grade_df.shape, paid_term_grade_df.shape)"
   ]
  },
  {
   "cell_type": "code",
   "execution_count": 7,
   "metadata": {
    "ExecuteTime": {
     "end_time": "2019-12-04T02:34:58.540575Z",
     "start_time": "2019-12-04T02:34:58.531537Z"
    }
   },
   "outputs": [],
   "source": [
    "def plot_by_group(df, term, group_cols, target_col, size=(6,5), hist_alpha=.25):\n",
    "    fig, ax = plt.subplots(figsize=size)\n",
    "    df.loc[term,:].groupby(group_cols)[target_col].plot(kind='kde', alpha=1, ax=ax,)\n",
    "    df.loc[term,:].groupby(group_cols)[target_col].plot(kind='hist', alpha=hist_alpha, density=True, ax=ax)\n",
    "    ax.legend()\n",
    "    plt.show()"
   ]
  },
  {
   "cell_type": "code",
   "execution_count": 8,
   "metadata": {
    "ExecuteTime": {
     "end_time": "2019-12-04T02:34:59.630328Z",
     "start_time": "2019-12-04T02:34:58.877788Z"
    }
   },
   "outputs": [
    {
     "data": {
      "image/png": "[encoded data removed]",
      "text/plain": [
       "<Figure size 720x360 with 1 Axes>"
      ]
     },
     "metadata": {
      "needs_background": "light"
     },
     "output_type": "display_data"
    }
   ],
   "source": [
    "plot_by_group(def_term_grade_df, 36, 'grade', 'months_recorded', hist_alpha=.1, size=(10,5))"
   ]
  },
  {
   "cell_type": "code",
   "execution_count": 9,
   "metadata": {
    "ExecuteTime": {
     "end_time": "2019-12-04T02:35:00.151520Z",
     "start_time": "2019-12-04T02:34:59.631917Z"
    }
   },
   "outputs": [
    {
     "data": {
      "image/png": "[encoded data removed]",
      "text/plain": [
       "<Figure size 720x360 with 1 Axes>"
      ]
     },
     "metadata": {
      "needs_background": "light"
     },
     "output_type": "display_data"
    }
   ],
   "source": [
    "plot_by_group(def_term_grade_df, 60, 'grade', 'months_recorded', hist_alpha=.1, size=(10,5))"
   ]
  },
  {
   "cell_type": "code",
   "execution_count": 10,
   "metadata": {
    "ExecuteTime": {
     "end_time": "2019-12-04T02:35:01.430967Z",
     "start_time": "2019-12-04T02:35:00.153415Z"
    }
   },
   "outputs": [
    {
     "data": {
      "image/png": "[encoded data removed]",
      "text/plain": [
       "<Figure size 720x360 with 1 Axes>"
      ]
     },
     "metadata": {
      "needs_background": "light"
     },
     "output_type": "display_data"
    }
   ],
   "source": [
    "plot_by_group(paid_term_grade_df, 36, 'grade', 'months_recorded', hist_alpha=.1, size=(10,5))"
   ]
  },
  {
   "cell_type": "code",
   "execution_count": 11,
   "metadata": {
    "ExecuteTime": {
     "end_time": "2019-12-04T02:35:02.164323Z",
     "start_time": "2019-12-04T02:35:01.432603Z"
    }
   },
   "outputs": [
    {
     "data": {
      "image/png": "[encoded data removed]",
      "text/plain": [
       "<Figure size 720x360 with 1 Axes>"
      ]
     },
     "metadata": {
      "needs_background": "light"
     },
     "output_type": "display_data"
    }
   ],
   "source": [
    "plot_by_group(paid_term_grade_df, 60, 'grade', 'months_recorded', hist_alpha=.1, size=(10,5))"
   ]
  },
  {
   "cell_type": "markdown",
   "metadata": {},
   "source": [
    "# depending on grade, the distributions of when the loan ends differs. Need to index by term, def/paid, grade"
   ]
  },
  {
   "cell_type": "code",
   "execution_count": 12,
   "metadata": {
    "ExecuteTime": {
     "end_time": "2019-12-04T02:35:02.176818Z",
     "start_time": "2019-12-04T02:35:02.165715Z"
    }
   },
   "outputs": [
    {
     "name": "stderr",
     "output_type": "stream",
     "text": [
      "/home/justin/anaconda3/envs/lendingclub/lib/python3.7/site-packages/pandas/core/generic.py:6786: SettingWithCopyWarning: \n",
      "A value is trying to be set on a copy of a slice from a DataFrame\n",
      "\n",
      "See the caveats in the documentation: http://pandas.pydata.org/pandas-docs/stable/user_guide/indexing.html#returning-a-view-versus-a-copy\n",
      "  self._update_inplace(new_data)\n"
     ]
    },
    {
     "data": {
      "text/plain": [
       "array(['paid', 'charged_off'], dtype=object)"
      ]
     },
     "execution_count": 12,
     "metadata": {},
     "output_type": "execute_result"
    }
   ],
   "source": [
    "# for purposes here, rename defaulted to charged_off\n",
    "ddone_loans.loan_status.replace({'defaulted':'charged_off'}, inplace=True)\n",
    "ddone_loans.loan_status.unique()"
   ]
  },
  {
   "cell_type": "code",
   "execution_count": 36,
   "metadata": {
    "ExecuteTime": {
     "end_time": "2019-12-04T23:51:32.406849Z",
     "start_time": "2019-12-04T23:51:32.064688Z"
    }
   },
   "outputs": [],
   "source": [
    "end_d_by_term_stat_grade = {}\n",
    "for term in ddone_loans.term.unique():\n",
    "    for status in ddone_loans.loan_status.unique():\n",
    "        for grade in ddone_loans.grade.unique():\n",
    "            query = 'term == @term and loan_status == @status and grade == @grade'\n",
    "            loans = ddone_loans.query(query)\n",
    "            loans = loans.query('months_recorded <= {0}'.format(term + 5))\n",
    "            ms, probs = zip(*loans.months_recorded.value_counts(normalize=True).to_dict().items())\n",
    "            end_d_by_term_stat_grade[(term,status,grade)] = (ms, probs)"
   ]
  },
  {
   "cell_type": "code",
   "execution_count": 38,
   "metadata": {
    "ExecuteTime": {
     "end_time": "2019-12-04T23:51:41.937593Z",
     "start_time": "2019-12-04T23:51:41.931175Z"
    }
   },
   "outputs": [
    {
     "data": {
      "text/plain": [
       "'/home/justin/projects/lendingclub'"
      ]
     },
     "execution_count": 38,
     "metadata": {},
     "output_type": "execute_result"
    }
   ],
   "source": [
    "config.prj_dir"
   ]
  },
  {
   "cell_type": "code",
   "execution_count": 39,
   "metadata": {
    "ExecuteTime": {
     "end_time": "2019-12-04T23:51:42.400989Z",
     "start_time": "2019-12-04T23:51:42.393940Z"
    }
   },
   "outputs": [],
   "source": [
    "with open(os.path.join(config.data_dir, 'end_d_by_term_stat_grade.pkl'), 'wb') as f:\n",
    "    pickle.dump(end_d_by_term_stat_grade, f)"
   ]
  },
  {
   "cell_type": "markdown",
   "metadata": {},
   "source": [
    "# writing module below"
   ]
  },
  {
   "cell_type": "code",
   "execution_count": 16,
   "metadata": {
    "ExecuteTime": {
     "end_time": "2019-12-04T02:35:09.049229Z",
     "start_time": "2019-12-04T02:35:09.045219Z"
    }
   },
   "outputs": [],
   "source": [
    "# Let's model some portfolios"
   ]
  },
  {
   "cell_type": "code",
   "execution_count": 17,
   "metadata": {
    "ExecuteTime": {
     "end_time": "2019-12-04T02:35:09.731003Z",
     "start_time": "2019-12-04T02:35:09.710658Z"
    }
   },
   "outputs": [
    {
     "data": {
      "text/html": [
       "<div>\n",
       "<style scoped>\n",
       "    .dataframe tbody tr th:only-of-type {\n",
       "        vertical-align: middle;\n",
       "    }\n",
       "\n",
       "    .dataframe tbody tr th {\n",
       "        vertical-align: top;\n",
       "    }\n",
       "\n",
       "    .dataframe thead th {\n",
       "        text-align: right;\n",
       "    }\n",
       "</style>\n",
       "<table border=\"1\" class=\"dataframe\">\n",
       "  <thead>\n",
       "    <tr style=\"text-align: right;\">\n",
       "      <th></th>\n",
       "      <th>loan_status</th>\n",
       "      <th>grade</th>\n",
       "      <th>term</th>\n",
       "      <th>int_rate</th>\n",
       "    </tr>\n",
       "  </thead>\n",
       "  <tbody>\n",
       "    <tr>\n",
       "      <th>1101260</th>\n",
       "      <td>paid</td>\n",
       "      <td>B</td>\n",
       "      <td>36</td>\n",
       "      <td>0.0839</td>\n",
       "    </tr>\n",
       "    <tr>\n",
       "      <th>1116657</th>\n",
       "      <td>paid</td>\n",
       "      <td>B</td>\n",
       "      <td>36</td>\n",
       "      <td>0.1149</td>\n",
       "    </tr>\n",
       "    <tr>\n",
       "      <th>493620</th>\n",
       "      <td>paid</td>\n",
       "      <td>B</td>\n",
       "      <td>36</td>\n",
       "      <td>0.0867</td>\n",
       "    </tr>\n",
       "    <tr>\n",
       "      <th>840234</th>\n",
       "      <td>paid</td>\n",
       "      <td>C</td>\n",
       "      <td>36</td>\n",
       "      <td>0.1367</td>\n",
       "    </tr>\n",
       "    <tr>\n",
       "      <th>268185</th>\n",
       "      <td>paid</td>\n",
       "      <td>C</td>\n",
       "      <td>36</td>\n",
       "      <td>0.1464</td>\n",
       "    </tr>\n",
       "    <tr>\n",
       "      <th>194520</th>\n",
       "      <td>paid</td>\n",
       "      <td>B</td>\n",
       "      <td>36</td>\n",
       "      <td>0.1099</td>\n",
       "    </tr>\n",
       "    <tr>\n",
       "      <th>792521</th>\n",
       "      <td>paid</td>\n",
       "      <td>A</td>\n",
       "      <td>36</td>\n",
       "      <td>0.0789</td>\n",
       "    </tr>\n",
       "  </tbody>\n",
       "</table>\n",
       "</div>"
      ],
      "text/plain": [
       "        loan_status grade  term  int_rate\n",
       "1101260        paid     B    36    0.0839\n",
       "1116657        paid     B    36    0.1149\n",
       "493620         paid     B    36    0.0867\n",
       "840234         paid     C    36    0.1367\n",
       "268185         paid     C    36    0.1464\n",
       "194520         paid     B    36    0.1099\n",
       "792521         paid     A    36    0.0789"
      ]
     },
     "execution_count": 17,
     "metadata": {},
     "output_type": "execute_result"
    }
   ],
   "source": [
    "sel_loans = ddone_loans.sample(7)\n",
    "sel_loans[['loan_status', 'grade', 'term', 'int_rate']]"
   ]
  },
  {
   "cell_type": "code",
   "execution_count": 43,
   "metadata": {
    "ExecuteTime": {
     "end_time": "2019-12-05T17:42:18.383340Z",
     "start_time": "2019-12-05T17:42:18.374209Z"
    },
    "code_folding": [
     3
    ]
   },
   "outputs": [
    {
     "name": "stdout",
     "output_type": "stream",
     "text": [
      "Overwriting ../../lendingclub/modeling/portfolio_simulating.py\n"
     ]
    }
   ],
   "source": [
    "%%writefile ../../lendingclub/modeling/portfolio_simulating.py\n",
    "import numpy as np\n",
    "\n",
    "def make_loan_array(l_type, funded, pmt, rate, term, month, cfs, theoretic = False, end_m = None):\n",
    "    '''\n",
    "    it takes 5 months to go from nonpaying to charged_off (90 days late, 120 default, 150 charged off)\n",
    "    3 l_types:\n",
    "    A) default immediately, take 5 months\n",
    "    B) Fully Prepay between 6-12 months. \n",
    "    C) Fully Prepay/pay between 24-36 months\n",
    "    month: what month the loan was invested in (starts at 0 aka 0 indexed)\n",
    "    end_m is what month the loan willl end relative to month.\n",
    "    '''\n",
    "    if theoretic:\n",
    "        add_m = np.random.choice(np.arange(-3,4))\n",
    "        if l_type == 'A':\n",
    "            add_cfs = np.zeros(1)\n",
    "        else:\n",
    "            if l_type == 'B':\n",
    "                n_m = 9+add_m+1\n",
    "                print(n_m)\n",
    "            elif l_type == 'C':\n",
    "                n_m = 33+add_m+1\n",
    "            per = np.arange(n_m) + 1\n",
    "            add_cfs = np.tile(pmt, (n_m+1))\n",
    "            rem_princp = (1 - np.ppmt(rate, per, term, funded, 0).sum()).round(2)\n",
    "            add_cfs[-1] += rem_princp\n",
    "        add_cfs[0] = funded\n",
    "        cfs[month:month+len(add_cfs)] += add_cfs\n",
    "        return cfs\n",
    "    else:\n",
    "        assert end_m is not None, \"Pass the months on books/months recorded as end_m\"\n",
    "        # Only 2 l_types 'A' default and 'B' (pre)paid, use end_m\n",
    "        if l_type == 'charged_off':\n",
    "            n_m = end_m\n",
    "            add_cfs = np.tile(pmt, int(n_m - (4)))\n",
    "        elif l_type == 'paid':\n",
    "            n_m = end_m\n",
    "            per = np.arange(n_m) + 1\n",
    "            add_cfs = np.tile(pmt, (int(n_m+1)))\n",
    "            rem_princp = (1 - np.ppmt(rate, per, term, funded, 0).sum()).round(2)\n",
    "            add_cfs[-1] += rem_princp\n",
    "        else:\n",
    "            print('unrecognized loan type')\n",
    "        add_cfs[0] = funded\n",
    "        cfs[month:month+len(add_cfs)] += add_cfs\n",
    "        return cfs\n",
    "\n",
    "\n",
    "def sim_portfolio(end_d_by_term_stat_grade, sel_loans, n_months=120, n_inv_loans=2000, cfs=None, funded=-1,\n",
    "                random_state=42, verbose=False, longest_winddown = 76, wait_for_cont=False):\n",
    "    '''\n",
    "    Simulate a portfolio for INVESTING for n_months. Actual portfolio winddown\n",
    "    may take up to 36 months from last investment date\n",
    "    funded is the loan amount that will be used (e.g. -1 is one dollar funded to loan)\n",
    "    Args:\n",
    "        end_d_by_term_stat_grade: dict pickled from 11_portfolio_simulating.ipynb \\\n",
    "        keys are (term, l_stat, grade) and value = tuple(end_m, probability)\n",
    "        sel_loans: loans that you can possibly invest in. Samples from this for (term,l_stat, grade)\n",
    "        funded: should be negative\n",
    "    '''\n",
    "    # limit it to relevant columns\n",
    "    sel_loans=sel_loans[['loan_status', 'grade', 'term', 'int_rate']]\n",
    "    \n",
    "    cfs=np.zeros(n_months + longest_winddown) if cfs is None else cfs\n",
    "    end_i = 0\n",
    "    for month in range(n_months):\n",
    "        # end_i keeps track of when you have enough money to reinvest\n",
    "        if month == end_i:\n",
    "            if verbose:\n",
    "                print('month is {0} *************************'.format(month))\n",
    "            # iterate over loans and construct the cfs array\n",
    "            n_inv_loans = int(np.floor(n_inv_loans))\n",
    "            starting_money = abs(n_inv_loans*funded)\n",
    "            loans = sel_loans.sample(n=n_inv_loans, replace=True, random_state=random_state).to_dict('records')\n",
    "            li_tups = [((l['term'], l['loan_status'], l['grade']), l['int_rate']) for l in loans]\n",
    "            for l in li_tups:\n",
    "                # pick the end_m\n",
    "                key, rate = l\n",
    "                ms, probs = end_d_by_term_stat_grade[key]\n",
    "                end_m = np.random.choice(ms, replace=True, p=probs)\n",
    "                # key is term, stat, grade\n",
    "                term, stat, grade = key\n",
    "                pmt = np.pmt(rate/12, term, funded, 0)\n",
    "                cfs = make_loan_array(stat, funded, pmt, rate/12, term, month, cfs, theoretic=False, end_m=end_m)\n",
    "                if verbose:\n",
    "                    print('picking a loan with term: {0}, status: {1}, grade: {2}, and rate: {3}'.format(*key, rate))\n",
    "                    print('loan life is {0} ending in month {1}'.format(end_m, end_m+month))\n",
    "                    if wait_for_cont:\n",
    "                        import ipdb; ipdb.set_trace()\n",
    "            if verbose:\n",
    "                print('invested in {0} loans this month'.format(n_inv_loans))\n",
    "                print('current cfs: {0}'.format(cfs))\n",
    "                print('current IRR: {0}'.format(np.irr(cfs)*12))\n",
    "                print('current unadjusted net money: {0}'.format(np.sum(cfs)))\n",
    "            # calculate which month can reinvest next in\n",
    "            leftover_money = starting_money - (n_inv_loans * abs(funded))\n",
    "            assert leftover_money >= 0, 'somehow negative leftover money'\n",
    "            end_i = month+1\n",
    "            while (leftover_money < abs(funded)) and (end_i < len(cfs)):\n",
    "                leftover_money += cfs[end_i]\n",
    "                end_i += 1\n",
    "            n_inv_loans = abs(leftover_money/funded)\n",
    "    # returns the cfs, the net money made, and the annualized irr\n",
    "    return cfs, np.sum(cfs), np.irr(cfs)*12"
   ]
  },
  {
   "cell_type": "code",
   "execution_count": 19,
   "metadata": {
    "ExecuteTime": {
     "end_time": "2019-12-04T02:35:11.996373Z",
     "start_time": "2019-12-04T02:35:11.985003Z"
    },
    "scrolled": true
   },
   "outputs": [
    {
     "data": {
      "text/plain": [
       "array([0.000, 0.000, 0.000, -1.000, 0.031, 0.031, 0.031, 0.031, 0.031,\n",
       "       0.031, 0.031, 0.031, 0.031, 0.771, 0.000, 0.000, 0.000, 0.000,\n",
       "       0.000, 0.000, 0.000, 0.000, 0.000, 0.000, 0.000, 0.000, 0.000,\n",
       "       0.000, 0.000, 0.000, 0.000, 0.000, 0.000, 0.000, 0.000, 0.000,\n",
       "       0.000, 0.000, 0.000, 0.000, 0.000, 0.000, 0.000, 0.000, 0.000,\n",
       "       0.000, 0.000, 0.000, 0.000, 0.000, 0.000, 0.000, 0.000, 0.000,\n",
       "       0.000, 0.000, 0.000, 0.000, 0.000, 0.000, 0.000, 0.000, 0.000,\n",
       "       0.000, 0.000, 0.000, 0.000])"
      ]
     },
     "execution_count": 19,
     "metadata": {},
     "output_type": "execute_result"
    }
   ],
   "source": [
    "n_months = 30\n",
    "month = 3\n",
    "cfs=np.zeros(n_months + 37)\n",
    "funded = -1\n",
    "rate = .07/12\n",
    "term = 36\n",
    "theoretic = False\n",
    "pmt = np.pmt(rate, term, funded)\n",
    "make_loan_array('paid', funded, pmt, rate, term, month, cfs, end_m = 10, theoretic=theoretic)"
   ]
  },
  {
   "cell_type": "code",
   "execution_count": 20,
   "metadata": {
    "ExecuteTime": {
     "end_time": "2019-12-04T02:35:12.499487Z",
     "start_time": "2019-12-04T02:35:12.491508Z"
    }
   },
   "outputs": [
    {
     "data": {
      "text/plain": [
       "1101260    paid\n",
       "1116657    paid\n",
       "493620     paid\n",
       "840234     paid\n",
       "268185     paid\n",
       "194520     paid\n",
       "792521     paid\n",
       "Name: loan_status, dtype: object"
      ]
     },
     "execution_count": 20,
     "metadata": {},
     "output_type": "execute_result"
    }
   ],
   "source": [
    "sel_loans['loan_status']"
   ]
  },
  {
   "cell_type": "code",
   "execution_count": 25,
   "metadata": {
    "ExecuteTime": {
     "end_time": "2019-12-04T02:50:12.460448Z",
     "start_time": "2019-12-04T02:50:12.403891Z"
    },
    "scrolled": true
   },
   "outputs": [
    {
     "data": {
      "text/html": [
       "<div>\n",
       "<style scoped>\n",
       "    .dataframe tbody tr th:only-of-type {\n",
       "        vertical-align: middle;\n",
       "    }\n",
       "\n",
       "    .dataframe tbody tr th {\n",
       "        vertical-align: top;\n",
       "    }\n",
       "\n",
       "    .dataframe thead th {\n",
       "        text-align: right;\n",
       "    }\n",
       "</style>\n",
       "<table border=\"1\" class=\"dataframe\">\n",
       "  <thead>\n",
       "    <tr style=\"text-align: right;\">\n",
       "      <th></th>\n",
       "      <th>end_d</th>\n",
       "      <th>issue_d</th>\n",
       "      <th>maturity_paid</th>\n",
       "      <th>maturity_time</th>\n",
       "      <th>maturity_time_stat_adj</th>\n",
       "      <th>maturity_paid_stat_adj</th>\n",
       "      <th>rem_to_be_paid</th>\n",
       "      <th>roi_simple</th>\n",
       "      <th>target_loose</th>\n",
       "      <th>target_strict</th>\n",
       "      <th>loan_status</th>\n",
       "      <th>id</th>\n",
       "      <th>grade</th>\n",
       "      <th>sub_grade</th>\n",
       "      <th>term</th>\n",
       "      <th>int_rate</th>\n",
       "      <th>0.05</th>\n",
       "      <th>0.06</th>\n",
       "      <th>0.07</th>\n",
       "      <th>0.08</th>\n",
       "      <th>0.09</th>\n",
       "      <th>0.1</th>\n",
       "      <th>0.11</th>\n",
       "      <th>0.12</th>\n",
       "      <th>0.13</th>\n",
       "      <th>0.14</th>\n",
       "      <th>0.15</th>\n",
       "      <th>0.16</th>\n",
       "      <th>0.17</th>\n",
       "      <th>0.18</th>\n",
       "      <th>0.19</th>\n",
       "      <th>0.2</th>\n",
       "      <th>0.21</th>\n",
       "      <th>0.22</th>\n",
       "      <th>0.23</th>\n",
       "      <th>0.24</th>\n",
       "      <th>0.25</th>\n",
       "      <th>0.26</th>\n",
       "      <th>0.27</th>\n",
       "      <th>0.28</th>\n",
       "      <th>0.29</th>\n",
       "      <th>0.3</th>\n",
       "      <th>0.31</th>\n",
       "      <th>0.32</th>\n",
       "      <th>0.33</th>\n",
       "      <th>0.34</th>\n",
       "      <th>0.35</th>\n",
       "      <th>catboost_both_score</th>\n",
       "      <th>months_recorded</th>\n",
       "      <th>pct_term</th>\n",
       "    </tr>\n",
       "  </thead>\n",
       "  <tbody>\n",
       "    <tr>\n",
       "      <th>8</th>\n",
       "      <td>2013-03-01</td>\n",
       "      <td>2010-03-01</td>\n",
       "      <td>1.000000</td>\n",
       "      <td>1.000000</td>\n",
       "      <td>1.0</td>\n",
       "      <td>1.0</td>\n",
       "      <td>0.000000</td>\n",
       "      <td>1.214850</td>\n",
       "      <td>0</td>\n",
       "      <td>0</td>\n",
       "      <td>paid</td>\n",
       "      <td>57245</td>\n",
       "      <td>C</td>\n",
       "      <td>C2</td>\n",
       "      <td>36</td>\n",
       "      <td>0.1311</td>\n",
       "      <td>0.127692</td>\n",
       "      <td>0.110950</td>\n",
       "      <td>0.094550</td>\n",
       "      <td>0.078486</td>\n",
       "      <td>0.062750</td>\n",
       "      <td>0.047333</td>\n",
       "      <td>0.032228</td>\n",
       "      <td>0.017427</td>\n",
       "      <td>0.002924</td>\n",
       "      <td>-0.011288</td>\n",
       "      <td>-0.025216</td>\n",
       "      <td>-0.038868</td>\n",
       "      <td>-0.052248</td>\n",
       "      <td>-0.065365</td>\n",
       "      <td>-0.078222</td>\n",
       "      <td>-0.090828</td>\n",
       "      <td>-0.103187</td>\n",
       "      <td>-0.115305</td>\n",
       "      <td>-0.127188</td>\n",
       "      <td>-0.138841</td>\n",
       "      <td>-0.150269</td>\n",
       "      <td>-0.161477</td>\n",
       "      <td>-0.172471</td>\n",
       "      <td>-0.183255</td>\n",
       "      <td>-0.193834</td>\n",
       "      <td>-0.204213</td>\n",
       "      <td>-0.214395</td>\n",
       "      <td>-0.224386</td>\n",
       "      <td>-0.234190</td>\n",
       "      <td>-0.243811</td>\n",
       "      <td>-0.253253</td>\n",
       "      <td>-999.000000</td>\n",
       "      <td>36.0</td>\n",
       "      <td>1.000000</td>\n",
       "    </tr>\n",
       "    <tr>\n",
       "      <th>13</th>\n",
       "      <td>2012-03-01</td>\n",
       "      <td>2010-02-01</td>\n",
       "      <td>1.000000</td>\n",
       "      <td>1.000000</td>\n",
       "      <td>1.0</td>\n",
       "      <td>1.0</td>\n",
       "      <td>0.000000</td>\n",
       "      <td>1.112901</td>\n",
       "      <td>0</td>\n",
       "      <td>0</td>\n",
       "      <td>paid</td>\n",
       "      <td>61390</td>\n",
       "      <td>A</td>\n",
       "      <td>A5</td>\n",
       "      <td>36</td>\n",
       "      <td>0.0788</td>\n",
       "      <td>0.039417</td>\n",
       "      <td>0.025492</td>\n",
       "      <td>0.011811</td>\n",
       "      <td>-0.001630</td>\n",
       "      <td>-0.014835</td>\n",
       "      <td>-0.027810</td>\n",
       "      <td>-0.040558</td>\n",
       "      <td>-0.053085</td>\n",
       "      <td>-0.065394</td>\n",
       "      <td>-0.077490</td>\n",
       "      <td>-0.089377</td>\n",
       "      <td>-0.101059</td>\n",
       "      <td>-0.112540</td>\n",
       "      <td>-0.123824</td>\n",
       "      <td>-0.134915</td>\n",
       "      <td>-0.145817</td>\n",
       "      <td>-0.156533</td>\n",
       "      <td>-0.167067</td>\n",
       "      <td>-0.177422</td>\n",
       "      <td>-0.187602</td>\n",
       "      <td>-0.197611</td>\n",
       "      <td>-0.207451</td>\n",
       "      <td>-0.217125</td>\n",
       "      <td>-0.226638</td>\n",
       "      <td>-0.235992</td>\n",
       "      <td>-0.245189</td>\n",
       "      <td>-0.254234</td>\n",
       "      <td>-0.263129</td>\n",
       "      <td>-0.271876</td>\n",
       "      <td>-0.280480</td>\n",
       "      <td>-0.288941</td>\n",
       "      <td>-0.005872</td>\n",
       "      <td>25.0</td>\n",
       "      <td>0.694444</td>\n",
       "    </tr>\n",
       "    <tr>\n",
       "      <th>14</th>\n",
       "      <td>2013-03-01</td>\n",
       "      <td>2010-02-01</td>\n",
       "      <td>0.943687</td>\n",
       "      <td>1.000000</td>\n",
       "      <td>1.0</td>\n",
       "      <td>1.0</td>\n",
       "      <td>386.407623</td>\n",
       "      <td>1.156309</td>\n",
       "      <td>1</td>\n",
       "      <td>1</td>\n",
       "      <td>charged_off</td>\n",
       "      <td>61419</td>\n",
       "      <td>D</td>\n",
       "      <td>D2</td>\n",
       "      <td>36</td>\n",
       "      <td>0.1496</td>\n",
       "      <td>0.087672</td>\n",
       "      <td>0.073931</td>\n",
       "      <td>0.060432</td>\n",
       "      <td>0.047171</td>\n",
       "      <td>0.034143</td>\n",
       "      <td>0.021343</td>\n",
       "      <td>0.008766</td>\n",
       "      <td>-0.003592</td>\n",
       "      <td>-0.015736</td>\n",
       "      <td>-0.027670</td>\n",
       "      <td>-0.039399</td>\n",
       "      <td>-0.050927</td>\n",
       "      <td>-0.062257</td>\n",
       "      <td>-0.073395</td>\n",
       "      <td>-0.084343</td>\n",
       "      <td>-0.095105</td>\n",
       "      <td>-0.105686</td>\n",
       "      <td>-0.116089</td>\n",
       "      <td>-0.126317</td>\n",
       "      <td>-0.136374</td>\n",
       "      <td>-0.146264</td>\n",
       "      <td>-0.155990</td>\n",
       "      <td>-0.165554</td>\n",
       "      <td>-0.174961</td>\n",
       "      <td>-0.184213</td>\n",
       "      <td>-0.193313</td>\n",
       "      <td>-0.202265</td>\n",
       "      <td>-0.211071</td>\n",
       "      <td>-0.219734</td>\n",
       "      <td>-0.228257</td>\n",
       "      <td>-0.236642</td>\n",
       "      <td>-999.000000</td>\n",
       "      <td>37.0</td>\n",
       "      <td>1.027778</td>\n",
       "    </tr>\n",
       "    <tr>\n",
       "      <th>1446</th>\n",
       "      <td>2014-03-01</td>\n",
       "      <td>2011-05-01</td>\n",
       "      <td>1.000000</td>\n",
       "      <td>1.000000</td>\n",
       "      <td>1.0</td>\n",
       "      <td>1.0</td>\n",
       "      <td>0.000000</td>\n",
       "      <td>1.118505</td>\n",
       "      <td>0</td>\n",
       "      <td>0</td>\n",
       "      <td>paid</td>\n",
       "      <td>296737</td>\n",
       "      <td>A</td>\n",
       "      <td>A4</td>\n",
       "      <td>36</td>\n",
       "      <td>0.0749</td>\n",
       "      <td>0.041534</td>\n",
       "      <td>0.026176</td>\n",
       "      <td>0.011129</td>\n",
       "      <td>-0.003616</td>\n",
       "      <td>-0.018063</td>\n",
       "      <td>-0.032222</td>\n",
       "      <td>-0.046097</td>\n",
       "      <td>-0.059696</td>\n",
       "      <td>-0.073026</td>\n",
       "      <td>-0.086092</td>\n",
       "      <td>-0.098900</td>\n",
       "      <td>-0.111456</td>\n",
       "      <td>-0.123766</td>\n",
       "      <td>-0.135836</td>\n",
       "      <td>-0.147671</td>\n",
       "      <td>-0.159277</td>\n",
       "      <td>-0.170658</td>\n",
       "      <td>-0.181819</td>\n",
       "      <td>-0.192767</td>\n",
       "      <td>-0.203505</td>\n",
       "      <td>-0.214038</td>\n",
       "      <td>-0.224370</td>\n",
       "      <td>-0.234507</td>\n",
       "      <td>-0.244453</td>\n",
       "      <td>-0.254211</td>\n",
       "      <td>-0.263786</td>\n",
       "      <td>-0.273182</td>\n",
       "      <td>-0.282403</td>\n",
       "      <td>-0.291453</td>\n",
       "      <td>-0.300336</td>\n",
       "      <td>-0.309055</td>\n",
       "      <td>-0.007671</td>\n",
       "      <td>34.0</td>\n",
       "      <td>0.944444</td>\n",
       "    </tr>\n",
       "    <tr>\n",
       "      <th>1894</th>\n",
       "      <td>2013-08-01</td>\n",
       "      <td>2010-07-01</td>\n",
       "      <td>1.000000</td>\n",
       "      <td>1.000000</td>\n",
       "      <td>1.0</td>\n",
       "      <td>1.0</td>\n",
       "      <td>0.000000</td>\n",
       "      <td>1.180725</td>\n",
       "      <td>0</td>\n",
       "      <td>0</td>\n",
       "      <td>paid</td>\n",
       "      <td>348340</td>\n",
       "      <td>B</td>\n",
       "      <td>B3</td>\n",
       "      <td>36</td>\n",
       "      <td>0.1112</td>\n",
       "      <td>0.097948</td>\n",
       "      <td>0.081616</td>\n",
       "      <td>0.065620</td>\n",
       "      <td>0.049951</td>\n",
       "      <td>0.034602</td>\n",
       "      <td>0.019565</td>\n",
       "      <td>0.004834</td>\n",
       "      <td>-0.009601</td>\n",
       "      <td>-0.023744</td>\n",
       "      <td>-0.037604</td>\n",
       "      <td>-0.051186</td>\n",
       "      <td>-0.064498</td>\n",
       "      <td>-0.077545</td>\n",
       "      <td>-0.090334</td>\n",
       "      <td>-0.102870</td>\n",
       "      <td>-0.115160</td>\n",
       "      <td>-0.127209</td>\n",
       "      <td>-0.139023</td>\n",
       "      <td>-0.150608</td>\n",
       "      <td>-0.161967</td>\n",
       "      <td>-0.173107</td>\n",
       "      <td>-0.184033</td>\n",
       "      <td>-0.194749</td>\n",
       "      <td>-0.205260</td>\n",
       "      <td>-0.215571</td>\n",
       "      <td>-0.225687</td>\n",
       "      <td>-0.235611</td>\n",
       "      <td>-0.245348</td>\n",
       "      <td>-0.254903</td>\n",
       "      <td>-0.264279</td>\n",
       "      <td>-0.273480</td>\n",
       "      <td>0.007962</td>\n",
       "      <td>37.0</td>\n",
       "      <td>1.027778</td>\n",
       "    </tr>\n",
       "    <tr>\n",
       "      <th>...</th>\n",
       "      <td>...</td>\n",
       "      <td>...</td>\n",
       "      <td>...</td>\n",
       "      <td>...</td>\n",
       "      <td>...</td>\n",
       "      <td>...</td>\n",
       "      <td>...</td>\n",
       "      <td>...</td>\n",
       "      <td>...</td>\n",
       "      <td>...</td>\n",
       "      <td>...</td>\n",
       "      <td>...</td>\n",
       "      <td>...</td>\n",
       "      <td>...</td>\n",
       "      <td>...</td>\n",
       "      <td>...</td>\n",
       "      <td>...</td>\n",
       "      <td>...</td>\n",
       "      <td>...</td>\n",
       "      <td>...</td>\n",
       "      <td>...</td>\n",
       "      <td>...</td>\n",
       "      <td>...</td>\n",
       "      <td>...</td>\n",
       "      <td>...</td>\n",
       "      <td>...</td>\n",
       "      <td>...</td>\n",
       "      <td>...</td>\n",
       "      <td>...</td>\n",
       "      <td>...</td>\n",
       "      <td>...</td>\n",
       "      <td>...</td>\n",
       "      <td>...</td>\n",
       "      <td>...</td>\n",
       "      <td>...</td>\n",
       "      <td>...</td>\n",
       "      <td>...</td>\n",
       "      <td>...</td>\n",
       "      <td>...</td>\n",
       "      <td>...</td>\n",
       "      <td>...</td>\n",
       "      <td>...</td>\n",
       "      <td>...</td>\n",
       "      <td>...</td>\n",
       "      <td>...</td>\n",
       "      <td>...</td>\n",
       "      <td>...</td>\n",
       "      <td>...</td>\n",
       "      <td>...</td>\n",
       "      <td>...</td>\n",
       "    </tr>\n",
       "    <tr>\n",
       "      <th>1260461</th>\n",
       "      <td>2017-02-01</td>\n",
       "      <td>2016-10-01</td>\n",
       "      <td>1.000000</td>\n",
       "      <td>0.972222</td>\n",
       "      <td>1.0</td>\n",
       "      <td>1.0</td>\n",
       "      <td>0.000000</td>\n",
       "      <td>1.039197</td>\n",
       "      <td>0</td>\n",
       "      <td>0</td>\n",
       "      <td>paid</td>\n",
       "      <td>92429713</td>\n",
       "      <td>C</td>\n",
       "      <td>C3</td>\n",
       "      <td>36</td>\n",
       "      <td>0.1399</td>\n",
       "      <td>0.027507</td>\n",
       "      <td>0.025038</td>\n",
       "      <td>0.022577</td>\n",
       "      <td>0.020123</td>\n",
       "      <td>0.017678</td>\n",
       "      <td>0.015241</td>\n",
       "      <td>0.012811</td>\n",
       "      <td>0.010390</td>\n",
       "      <td>0.007976</td>\n",
       "      <td>0.005571</td>\n",
       "      <td>0.003173</td>\n",
       "      <td>0.000783</td>\n",
       "      <td>-0.001600</td>\n",
       "      <td>-0.003974</td>\n",
       "      <td>-0.006341</td>\n",
       "      <td>-0.008700</td>\n",
       "      <td>-0.011052</td>\n",
       "      <td>-0.013396</td>\n",
       "      <td>-0.015732</td>\n",
       "      <td>-0.018061</td>\n",
       "      <td>-0.020382</td>\n",
       "      <td>-0.022696</td>\n",
       "      <td>-0.025003</td>\n",
       "      <td>-0.027302</td>\n",
       "      <td>-0.029593</td>\n",
       "      <td>-0.031878</td>\n",
       "      <td>-0.034155</td>\n",
       "      <td>-0.036424</td>\n",
       "      <td>-0.038687</td>\n",
       "      <td>-0.040942</td>\n",
       "      <td>-0.043190</td>\n",
       "      <td>-999.000000</td>\n",
       "      <td>4.0</td>\n",
       "      <td>0.111111</td>\n",
       "    </tr>\n",
       "    <tr>\n",
       "      <th>1260822</th>\n",
       "      <td>2017-01-01</td>\n",
       "      <td>2016-10-01</td>\n",
       "      <td>1.000000</td>\n",
       "      <td>0.972222</td>\n",
       "      <td>1.0</td>\n",
       "      <td>1.0</td>\n",
       "      <td>0.000000</td>\n",
       "      <td>1.014950</td>\n",
       "      <td>0</td>\n",
       "      <td>0</td>\n",
       "      <td>paid</td>\n",
       "      <td>92450059</td>\n",
       "      <td>A</td>\n",
       "      <td>A2</td>\n",
       "      <td>36</td>\n",
       "      <td>0.0699</td>\n",
       "      <td>0.007070</td>\n",
       "      <td>0.005428</td>\n",
       "      <td>0.003791</td>\n",
       "      <td>0.002157</td>\n",
       "      <td>0.000528</td>\n",
       "      <td>-0.001098</td>\n",
       "      <td>-0.002719</td>\n",
       "      <td>-0.004336</td>\n",
       "      <td>-0.005950</td>\n",
       "      <td>-0.007559</td>\n",
       "      <td>-0.009165</td>\n",
       "      <td>-0.010766</td>\n",
       "      <td>-0.012364</td>\n",
       "      <td>-0.013958</td>\n",
       "      <td>-0.015548</td>\n",
       "      <td>-0.017133</td>\n",
       "      <td>-0.018716</td>\n",
       "      <td>-0.020294</td>\n",
       "      <td>-0.021868</td>\n",
       "      <td>-0.023439</td>\n",
       "      <td>-0.025005</td>\n",
       "      <td>-0.026568</td>\n",
       "      <td>-0.028127</td>\n",
       "      <td>-0.029683</td>\n",
       "      <td>-0.031234</td>\n",
       "      <td>-0.032782</td>\n",
       "      <td>-0.034326</td>\n",
       "      <td>-0.035866</td>\n",
       "      <td>-0.037403</td>\n",
       "      <td>-0.038936</td>\n",
       "      <td>-0.040465</td>\n",
       "      <td>-0.011454</td>\n",
       "      <td>3.0</td>\n",
       "      <td>0.083333</td>\n",
       "    </tr>\n",
       "    <tr>\n",
       "      <th>1261166</th>\n",
       "      <td>2018-08-01</td>\n",
       "      <td>2016-10-01</td>\n",
       "      <td>0.481291</td>\n",
       "      <td>0.972222</td>\n",
       "      <td>1.0</td>\n",
       "      <td>1.0</td>\n",
       "      <td>2599.627197</td>\n",
       "      <td>0.603025</td>\n",
       "      <td>1</td>\n",
       "      <td>1</td>\n",
       "      <td>charged_off</td>\n",
       "      <td>92469492</td>\n",
       "      <td>B</td>\n",
       "      <td>B2</td>\n",
       "      <td>36</td>\n",
       "      <td>0.1049</td>\n",
       "      <td>-0.434784</td>\n",
       "      <td>-0.439338</td>\n",
       "      <td>-0.443839</td>\n",
       "      <td>-0.448287</td>\n",
       "      <td>-0.452683</td>\n",
       "      <td>-0.457028</td>\n",
       "      <td>-0.461322</td>\n",
       "      <td>-0.465567</td>\n",
       "      <td>-0.469762</td>\n",
       "      <td>-0.473908</td>\n",
       "      <td>-0.478007</td>\n",
       "      <td>-0.482059</td>\n",
       "      <td>-0.486064</td>\n",
       "      <td>-0.490023</td>\n",
       "      <td>-0.493937</td>\n",
       "      <td>-0.497807</td>\n",
       "      <td>-0.501633</td>\n",
       "      <td>-0.505415</td>\n",
       "      <td>-0.509155</td>\n",
       "      <td>-0.512852</td>\n",
       "      <td>-0.516508</td>\n",
       "      <td>-0.520123</td>\n",
       "      <td>-0.523698</td>\n",
       "      <td>-0.527233</td>\n",
       "      <td>-0.530728</td>\n",
       "      <td>-0.534185</td>\n",
       "      <td>-0.537603</td>\n",
       "      <td>-0.540984</td>\n",
       "      <td>-0.544327</td>\n",
       "      <td>-0.547634</td>\n",
       "      <td>-0.550905</td>\n",
       "      <td>-999.000000</td>\n",
       "      <td>22.0</td>\n",
       "      <td>0.611111</td>\n",
       "    </tr>\n",
       "    <tr>\n",
       "      <th>1262483</th>\n",
       "      <td>2017-04-01</td>\n",
       "      <td>2016-10-01</td>\n",
       "      <td>1.000000</td>\n",
       "      <td>0.972222</td>\n",
       "      <td>1.0</td>\n",
       "      <td>1.0</td>\n",
       "      <td>0.000000</td>\n",
       "      <td>1.058659</td>\n",
       "      <td>0</td>\n",
       "      <td>0</td>\n",
       "      <td>paid</td>\n",
       "      <td>92533491</td>\n",
       "      <td>C</td>\n",
       "      <td>C1</td>\n",
       "      <td>36</td>\n",
       "      <td>0.1274</td>\n",
       "      <td>0.038946</td>\n",
       "      <td>0.034922</td>\n",
       "      <td>0.030916</td>\n",
       "      <td>0.026930</td>\n",
       "      <td>0.022964</td>\n",
       "      <td>0.019016</td>\n",
       "      <td>0.015088</td>\n",
       "      <td>0.011178</td>\n",
       "      <td>0.007288</td>\n",
       "      <td>0.003416</td>\n",
       "      <td>-0.000437</td>\n",
       "      <td>-0.004272</td>\n",
       "      <td>-0.008088</td>\n",
       "      <td>-0.011886</td>\n",
       "      <td>-0.015666</td>\n",
       "      <td>-0.019427</td>\n",
       "      <td>-0.023171</td>\n",
       "      <td>-0.026896</td>\n",
       "      <td>-0.030604</td>\n",
       "      <td>-0.034294</td>\n",
       "      <td>-0.037967</td>\n",
       "      <td>-0.041621</td>\n",
       "      <td>-0.045259</td>\n",
       "      <td>-0.048879</td>\n",
       "      <td>-0.052482</td>\n",
       "      <td>-0.056068</td>\n",
       "      <td>-0.059637</td>\n",
       "      <td>-0.063188</td>\n",
       "      <td>-0.066723</td>\n",
       "      <td>-0.070242</td>\n",
       "      <td>-0.073743</td>\n",
       "      <td>-999.000000</td>\n",
       "      <td>6.0</td>\n",
       "      <td>0.166667</td>\n",
       "    </tr>\n",
       "    <tr>\n",
       "      <th>1262638</th>\n",
       "      <td>2018-02-01</td>\n",
       "      <td>2016-10-01</td>\n",
       "      <td>1.000000</td>\n",
       "      <td>0.972222</td>\n",
       "      <td>1.0</td>\n",
       "      <td>1.0</td>\n",
       "      <td>0.000000</td>\n",
       "      <td>1.123641</td>\n",
       "      <td>0</td>\n",
       "      <td>0</td>\n",
       "      <td>paid</td>\n",
       "      <td>92536284</td>\n",
       "      <td>B</td>\n",
       "      <td>B5</td>\n",
       "      <td>36</td>\n",
       "      <td>0.1149</td>\n",
       "      <td>0.070101</td>\n",
       "      <td>0.059654</td>\n",
       "      <td>0.049333</td>\n",
       "      <td>0.039135</td>\n",
       "      <td>0.029059</td>\n",
       "      <td>0.019105</td>\n",
       "      <td>0.009269</td>\n",
       "      <td>-0.000450</td>\n",
       "      <td>-0.010052</td>\n",
       "      <td>-0.019540</td>\n",
       "      <td>-0.028916</td>\n",
       "      <td>-0.038180</td>\n",
       "      <td>-0.047334</td>\n",
       "      <td>-0.056380</td>\n",
       "      <td>-0.065319</td>\n",
       "      <td>-0.074152</td>\n",
       "      <td>-0.082881</td>\n",
       "      <td>-0.091508</td>\n",
       "      <td>-0.100033</td>\n",
       "      <td>-0.108457</td>\n",
       "      <td>-0.116783</td>\n",
       "      <td>-0.125011</td>\n",
       "      <td>-0.133143</td>\n",
       "      <td>-0.141180</td>\n",
       "      <td>-0.149124</td>\n",
       "      <td>-0.156974</td>\n",
       "      <td>-0.164734</td>\n",
       "      <td>-0.172403</td>\n",
       "      <td>-0.179983</td>\n",
       "      <td>-0.187475</td>\n",
       "      <td>-0.194881</td>\n",
       "      <td>-0.001954</td>\n",
       "      <td>16.0</td>\n",
       "      <td>0.444444</td>\n",
       "    </tr>\n",
       "  </tbody>\n",
       "</table>\n",
       "<p>98842 rows × 50 columns</p>\n",
       "</div>"
      ],
      "text/plain": [
       "             end_d    issue_d  maturity_paid  maturity_time  \\\n",
       "8       2013-03-01 2010-03-01       1.000000       1.000000   \n",
       "13      2012-03-01 2010-02-01       1.000000       1.000000   \n",
       "14      2013-03-01 2010-02-01       0.943687       1.000000   \n",
       "1446    2014-03-01 2011-05-01       1.000000       1.000000   \n",
       "1894    2013-08-01 2010-07-01       1.000000       1.000000   \n",
       "...            ...        ...            ...            ...   \n",
       "1260461 2017-02-01 2016-10-01       1.000000       0.972222   \n",
       "1260822 2017-01-01 2016-10-01       1.000000       0.972222   \n",
       "1261166 2018-08-01 2016-10-01       0.481291       0.972222   \n",
       "1262483 2017-04-01 2016-10-01       1.000000       0.972222   \n",
       "1262638 2018-02-01 2016-10-01       1.000000       0.972222   \n",
       "\n",
       "         maturity_time_stat_adj  maturity_paid_stat_adj  rem_to_be_paid  \\\n",
       "8                           1.0                     1.0        0.000000   \n",
       "13                          1.0                     1.0        0.000000   \n",
       "14                          1.0                     1.0      386.407623   \n",
       "1446                        1.0                     1.0        0.000000   \n",
       "1894                        1.0                     1.0        0.000000   \n",
       "...                         ...                     ...             ...   \n",
       "1260461                     1.0                     1.0        0.000000   \n",
       "1260822                     1.0                     1.0        0.000000   \n",
       "1261166                     1.0                     1.0     2599.627197   \n",
       "1262483                     1.0                     1.0        0.000000   \n",
       "1262638                     1.0                     1.0        0.000000   \n",
       "\n",
       "         roi_simple  target_loose  target_strict  loan_status        id grade  \\\n",
       "8          1.214850             0              0         paid     57245     C   \n",
       "13         1.112901             0              0         paid     61390     A   \n",
       "14         1.156309             1              1  charged_off     61419     D   \n",
       "1446       1.118505             0              0         paid    296737     A   \n",
       "1894       1.180725             0              0         paid    348340     B   \n",
       "...             ...           ...            ...          ...       ...   ...   \n",
       "1260461    1.039197             0              0         paid  92429713     C   \n",
       "1260822    1.014950             0              0         paid  92450059     A   \n",
       "1261166    0.603025             1              1  charged_off  92469492     B   \n",
       "1262483    1.058659             0              0         paid  92533491     C   \n",
       "1262638    1.123641             0              0         paid  92536284     B   \n",
       "\n",
       "        sub_grade  term  int_rate      0.05      0.06      0.07      0.08  \\\n",
       "8              C2    36    0.1311  0.127692  0.110950  0.094550  0.078486   \n",
       "13             A5    36    0.0788  0.039417  0.025492  0.011811 -0.001630   \n",
       "14             D2    36    0.1496  0.087672  0.073931  0.060432  0.047171   \n",
       "1446           A4    36    0.0749  0.041534  0.026176  0.011129 -0.003616   \n",
       "1894           B3    36    0.1112  0.097948  0.081616  0.065620  0.049951   \n",
       "...           ...   ...       ...       ...       ...       ...       ...   \n",
       "1260461        C3    36    0.1399  0.027507  0.025038  0.022577  0.020123   \n",
       "1260822        A2    36    0.0699  0.007070  0.005428  0.003791  0.002157   \n",
       "1261166        B2    36    0.1049 -0.434784 -0.439338 -0.443839 -0.448287   \n",
       "1262483        C1    36    0.1274  0.038946  0.034922  0.030916  0.026930   \n",
       "1262638        B5    36    0.1149  0.070101  0.059654  0.049333  0.039135   \n",
       "\n",
       "             0.09       0.1      0.11      0.12      0.13      0.14      0.15  \\\n",
       "8        0.062750  0.047333  0.032228  0.017427  0.002924 -0.011288 -0.025216   \n",
       "13      -0.014835 -0.027810 -0.040558 -0.053085 -0.065394 -0.077490 -0.089377   \n",
       "14       0.034143  0.021343  0.008766 -0.003592 -0.015736 -0.027670 -0.039399   \n",
       "1446    -0.018063 -0.032222 -0.046097 -0.059696 -0.073026 -0.086092 -0.098900   \n",
       "1894     0.034602  0.019565  0.004834 -0.009601 -0.023744 -0.037604 -0.051186   \n",
       "...           ...       ...       ...       ...       ...       ...       ...   \n",
       "1260461  0.017678  0.015241  0.012811  0.010390  0.007976  0.005571  0.003173   \n",
       "1260822  0.000528 -0.001098 -0.002719 -0.004336 -0.005950 -0.007559 -0.009165   \n",
       "1261166 -0.452683 -0.457028 -0.461322 -0.465567 -0.469762 -0.473908 -0.478007   \n",
       "1262483  0.022964  0.019016  0.015088  0.011178  0.007288  0.003416 -0.000437   \n",
       "1262638  0.029059  0.019105  0.009269 -0.000450 -0.010052 -0.019540 -0.028916   \n",
       "\n",
       "             0.16      0.17      0.18      0.19       0.2      0.21      0.22  \\\n",
       "8       -0.038868 -0.052248 -0.065365 -0.078222 -0.090828 -0.103187 -0.115305   \n",
       "13      -0.101059 -0.112540 -0.123824 -0.134915 -0.145817 -0.156533 -0.167067   \n",
       "14      -0.050927 -0.062257 -0.073395 -0.084343 -0.095105 -0.105686 -0.116089   \n",
       "1446    -0.111456 -0.123766 -0.135836 -0.147671 -0.159277 -0.170658 -0.181819   \n",
       "1894    -0.064498 -0.077545 -0.090334 -0.102870 -0.115160 -0.127209 -0.139023   \n",
       "...           ...       ...       ...       ...       ...       ...       ...   \n",
       "1260461  0.000783 -0.001600 -0.003974 -0.006341 -0.008700 -0.011052 -0.013396   \n",
       "1260822 -0.010766 -0.012364 -0.013958 -0.015548 -0.017133 -0.018716 -0.020294   \n",
       "1261166 -0.482059 -0.486064 -0.490023 -0.493937 -0.497807 -0.501633 -0.505415   \n",
       "1262483 -0.004272 -0.008088 -0.011886 -0.015666 -0.019427 -0.023171 -0.026896   \n",
       "1262638 -0.038180 -0.047334 -0.056380 -0.065319 -0.074152 -0.082881 -0.091508   \n",
       "\n",
       "             0.23      0.24      0.25      0.26      0.27      0.28      0.29  \\\n",
       "8       -0.127188 -0.138841 -0.150269 -0.161477 -0.172471 -0.183255 -0.193834   \n",
       "13      -0.177422 -0.187602 -0.197611 -0.207451 -0.217125 -0.226638 -0.235992   \n",
       "14      -0.126317 -0.136374 -0.146264 -0.155990 -0.165554 -0.174961 -0.184213   \n",
       "1446    -0.192767 -0.203505 -0.214038 -0.224370 -0.234507 -0.244453 -0.254211   \n",
       "1894    -0.150608 -0.161967 -0.173107 -0.184033 -0.194749 -0.205260 -0.215571   \n",
       "...           ...       ...       ...       ...       ...       ...       ...   \n",
       "1260461 -0.015732 -0.018061 -0.020382 -0.022696 -0.025003 -0.027302 -0.029593   \n",
       "1260822 -0.021868 -0.023439 -0.025005 -0.026568 -0.028127 -0.029683 -0.031234   \n",
       "1261166 -0.509155 -0.512852 -0.516508 -0.520123 -0.523698 -0.527233 -0.530728   \n",
       "1262483 -0.030604 -0.034294 -0.037967 -0.041621 -0.045259 -0.048879 -0.052482   \n",
       "1262638 -0.100033 -0.108457 -0.116783 -0.125011 -0.133143 -0.141180 -0.149124   \n",
       "\n",
       "              0.3      0.31      0.32      0.33      0.34      0.35  \\\n",
       "8       -0.204213 -0.214395 -0.224386 -0.234190 -0.243811 -0.253253   \n",
       "13      -0.245189 -0.254234 -0.263129 -0.271876 -0.280480 -0.288941   \n",
       "14      -0.193313 -0.202265 -0.211071 -0.219734 -0.228257 -0.236642   \n",
       "1446    -0.263786 -0.273182 -0.282403 -0.291453 -0.300336 -0.309055   \n",
       "1894    -0.225687 -0.235611 -0.245348 -0.254903 -0.264279 -0.273480   \n",
       "...           ...       ...       ...       ...       ...       ...   \n",
       "1260461 -0.031878 -0.034155 -0.036424 -0.038687 -0.040942 -0.043190   \n",
       "1260822 -0.032782 -0.034326 -0.035866 -0.037403 -0.038936 -0.040465   \n",
       "1261166 -0.534185 -0.537603 -0.540984 -0.544327 -0.547634 -0.550905   \n",
       "1262483 -0.056068 -0.059637 -0.063188 -0.066723 -0.070242 -0.073743   \n",
       "1262638 -0.156974 -0.164734 -0.172403 -0.179983 -0.187475 -0.194881   \n",
       "\n",
       "         catboost_both_score  months_recorded  pct_term  \n",
       "8                -999.000000             36.0  1.000000  \n",
       "13                 -0.005872             25.0  0.694444  \n",
       "14               -999.000000             37.0  1.027778  \n",
       "1446               -0.007671             34.0  0.944444  \n",
       "1894                0.007962             37.0  1.027778  \n",
       "...                      ...              ...       ...  \n",
       "1260461          -999.000000              4.0  0.111111  \n",
       "1260822            -0.011454              3.0  0.083333  \n",
       "1261166          -999.000000             22.0  0.611111  \n",
       "1262483          -999.000000              6.0  0.166667  \n",
       "1262638            -0.001954             16.0  0.444444  \n",
       "\n",
       "[98842 rows x 50 columns]"
      ]
     },
     "execution_count": 25,
     "metadata": {},
     "output_type": "execute_result"
    }
   ],
   "source": [
    "ddone_loans"
   ]
  },
  {
   "cell_type": "code",
   "execution_count": 28,
   "metadata": {
    "ExecuteTime": {
     "end_time": "2019-12-04T03:21:24.694427Z",
     "start_time": "2019-12-04T03:21:24.685397Z"
    }
   },
   "outputs": [
    {
     "data": {
      "text/plain": [
       "0.05000000000000038"
      ]
     },
     "execution_count": 28,
     "metadata": {},
     "output_type": "execute_result"
    }
   ],
   "source": [
    "sum([0.054, 0.054, 0.054, 0.054, 0.054, 0.054, 0.054, 0.054, 0.054, 0.054, 0.054,\n",
    " 0.054, 0.054, 0.054, 0.054, 0.054, 0.031, 0.031, 0.031, 0.031, 0.031,]) - .969"
   ]
  },
  {
   "cell_type": "code",
   "execution_count": 32,
   "metadata": {
    "ExecuteTime": {
     "end_time": "2019-12-04T03:23:23.162065Z",
     "start_time": "2019-12-04T03:23:23.046246Z"
    },
    "scrolled": false
   },
   "outputs": [
    {
     "name": "stdout",
     "output_type": "stream",
     "text": [
      "month is 0 *************************\n",
      "picking a loan with term: 36, status: paid, grade: A, and rate: 0.07620000094175339\n",
      "loan life is 20.0 ending in month 20.0\n",
      "picking a loan with term: 60, status: charged_off, grade: C, and rate: 0.13979999721050262\n",
      "loan life is 11.0 ending in month 11.0\n",
      "invested in 2 loans this month\n",
      "current cfs: [-2.000 0.054 0.054 0.054 0.054 0.054 0.054 0.031 0.031 0.031 0.031 0.031\n",
      " 0.031 0.031 0.031 0.031 0.031 0.031 0.031 0.031 0.501 0.000 0.000 0.000\n",
      " 0.000 0.000 0.000 0.000 0.000 0.000 0.000 0.000 0.000 0.000 0.000 0.000\n",
      " 0.000 0.000 0.000 0.000 0.000 0.000 0.000 0.000 0.000 0.000 0.000 0.000\n",
      " 0.000 0.000 0.000 0.000 0.000 0.000 0.000 0.000 0.000 0.000 0.000 0.000\n",
      " 0.000 0.000 0.000 0.000 0.000 0.000 0.000 0.000 0.000 0.000 0.000 0.000\n",
      " 0.000 0.000 0.000 0.000 0.000 0.000 0.000 0.000 0.000 0.000 0.000 0.000\n",
      " 0.000 0.000 0.000 0.000 0.000 0.000 0.000 0.000 0.000 0.000 0.000 0.000\n",
      " 0.000 0.000 0.000 0.000 0.000 0.000 0.000 0.000 0.000 0.000 0.000 0.000\n",
      " 0.000 0.000 0.000 0.000 0.000 0.000 0.000 0.000 0.000 0.000 0.000 0.000\n",
      " 0.000 0.000 0.000 0.000 0.000 0.000 0.000 0.000 0.000 0.000 0.000 0.000\n",
      " 0.000 0.000 0.000 0.000 0.000 0.000 0.000 0.000 0.000 0.000 0.000 0.000\n",
      " 0.000 0.000 0.000 0.000 0.000 0.000 0.000 0.000 0.000 0.000 0.000 0.000\n",
      " 0.000 0.000 0.000 0.000 0.000 0.000 0.000 0.000 0.000 0.000 0.000 0.000\n",
      " 0.000 0.000 0.000 0.000 0.000 0.000 0.000 0.000 0.000 0.000 0.000 0.000\n",
      " 0.000]\n",
      "current IRR: -0.4038728645623033\n",
      "current unadjusted net money: -0.7672254997503133\n",
      "month is 21 *************************\n",
      "picking a loan with term: 36, status: paid, grade: A, and rate: 0.07620000094175339\n",
      "loan life is 23.0 ending in month 44.0\n",
      "invested in 1 loans this month\n",
      "current cfs: [-2.000 0.054 0.054 0.054 0.054 0.054 0.054 0.031 0.031 0.031 0.031 0.031\n",
      " 0.031 0.031 0.031 0.031 0.031 0.031 0.031 0.031 0.501 -1.000 0.031 0.031\n",
      " 0.031 0.031 0.031 0.031 0.031 0.031 0.031 0.031 0.031 0.031 0.031 0.031\n",
      " 0.031 0.031 0.031 0.031 0.031 0.031 0.031 0.031 0.421 0.000 0.000 0.000\n",
      " 0.000 0.000 0.000 0.000 0.000 0.000 0.000 0.000 0.000 0.000 0.000 0.000\n",
      " 0.000 0.000 0.000 0.000 0.000 0.000 0.000 0.000 0.000 0.000 0.000 0.000\n",
      " 0.000 0.000 0.000 0.000 0.000 0.000 0.000 0.000 0.000 0.000 0.000 0.000\n",
      " 0.000 0.000 0.000 0.000 0.000 0.000 0.000 0.000 0.000 0.000 0.000 0.000\n",
      " 0.000 0.000 0.000 0.000 0.000 0.000 0.000 0.000 0.000 0.000 0.000 0.000\n",
      " 0.000 0.000 0.000 0.000 0.000 0.000 0.000 0.000 0.000 0.000 0.000 0.000\n",
      " 0.000 0.000 0.000 0.000 0.000 0.000 0.000 0.000 0.000 0.000 0.000 0.000\n",
      " 0.000 0.000 0.000 0.000 0.000 0.000 0.000 0.000 0.000 0.000 0.000 0.000\n",
      " 0.000 0.000 0.000 0.000 0.000 0.000 0.000 0.000 0.000 0.000 0.000 0.000\n",
      " 0.000 0.000 0.000 0.000 0.000 0.000 0.000 0.000 0.000 0.000 0.000 0.000\n",
      " 0.000 0.000 0.000 0.000 0.000 0.000 0.000 0.000 0.000 0.000 0.000 0.000\n",
      " 0.000]\n",
      "current IRR: -0.16388857057498551\n",
      "current unadjusted net money: -0.6605142189592673\n",
      "month is 45 *************************\n",
      "picking a loan with term: 36, status: paid, grade: A, and rate: 0.07620000094175339\n",
      "loan life is 36.0 ending in month 81.0\n",
      "invested in 1 loans this month\n",
      "current cfs: [-2.000 0.054 0.054 0.054 0.054 0.054 0.054 0.031 0.031 0.031 0.031 0.031\n",
      " 0.031 0.031 0.031 0.031 0.031 0.031 0.031 0.031 0.501 -1.000 0.031 0.031\n",
      " 0.031 0.031 0.031 0.031 0.031 0.031 0.031 0.031 0.031 0.031 0.031 0.031\n",
      " 0.031 0.031 0.031 0.031 0.031 0.031 0.031 0.031 0.421 -1.000 0.031 0.031\n",
      " 0.031 0.031 0.031 0.031 0.031 0.031 0.031 0.031 0.031 0.031 0.031 0.031\n",
      " 0.031 0.031 0.031 0.031 0.031 0.031 0.031 0.031 0.031 0.031 0.031 0.031\n",
      " 0.031 0.031 0.031 0.031 0.031 0.031 0.031 0.031 0.031 0.031 0.000 0.000\n",
      " 0.000 0.000 0.000 0.000 0.000 0.000 0.000 0.000 0.000 0.000 0.000 0.000\n",
      " 0.000 0.000 0.000 0.000 0.000 0.000 0.000 0.000 0.000 0.000 0.000 0.000\n",
      " 0.000 0.000 0.000 0.000 0.000 0.000 0.000 0.000 0.000 0.000 0.000 0.000\n",
      " 0.000 0.000 0.000 0.000 0.000 0.000 0.000 0.000 0.000 0.000 0.000 0.000\n",
      " 0.000 0.000 0.000 0.000 0.000 0.000 0.000 0.000 0.000 0.000 0.000 0.000\n",
      " 0.000 0.000 0.000 0.000 0.000 0.000 0.000 0.000 0.000 0.000 0.000 0.000\n",
      " 0.000 0.000 0.000 0.000 0.000 0.000 0.000 0.000 0.000 0.000 0.000 0.000\n",
      " 0.000 0.000 0.000 0.000 0.000 0.000 0.000 0.000 0.000 0.000 0.000 0.000\n",
      " 0.000]\n",
      "current IRR: -0.0818538015920578\n",
      "current unadjusted net money: -0.5387052577211071\n",
      "month is 79 *************************\n",
      "picking a loan with term: 36, status: paid, grade: A, and rate: 0.07620000094175339\n",
      "loan life is 8.0 ending in month 87.0\n",
      "invested in 1 loans this month\n",
      "current cfs: [-2.000 0.054 0.054 0.054 0.054 0.054 0.054 0.031 0.031 0.031 0.031 0.031\n",
      " 0.031 0.031 0.031 0.031 0.031 0.031 0.031 0.031 0.501 -1.000 0.031 0.031\n",
      " 0.031 0.031 0.031 0.031 0.031 0.031 0.031 0.031 0.031 0.031 0.031 0.031\n",
      " 0.031 0.031 0.031 0.031 0.031 0.031 0.031 0.031 0.421 -1.000 0.031 0.031\n",
      " 0.031 0.031 0.031 0.031 0.031 0.031 0.031 0.031 0.031 0.031 0.031 0.031\n",
      " 0.031 0.031 0.031 0.031 0.031 0.031 0.031 0.031 0.031 0.031 0.031 0.031\n",
      " 0.031 0.031 0.031 0.031 0.031 0.031 0.031 -0.969 0.062 0.062 0.031 0.031\n",
      " 0.031 0.031 0.031 0.831 0.000 0.000 0.000 0.000 0.000 0.000 0.000 0.000\n",
      " 0.000 0.000 0.000 0.000 0.000 0.000 0.000 0.000 0.000 0.000 0.000 0.000\n",
      " 0.000 0.000 0.000 0.000 0.000 0.000 0.000 0.000 0.000 0.000 0.000 0.000\n",
      " 0.000 0.000 0.000 0.000 0.000 0.000 0.000 0.000 0.000 0.000 0.000 0.000\n",
      " 0.000 0.000 0.000 0.000 0.000 0.000 0.000 0.000 0.000 0.000 0.000 0.000\n",
      " 0.000 0.000 0.000 0.000 0.000 0.000 0.000 0.000 0.000 0.000 0.000 0.000\n",
      " 0.000 0.000 0.000 0.000 0.000 0.000 0.000 0.000 0.000 0.000 0.000 0.000\n",
      " 0.000 0.000 0.000 0.000 0.000 0.000 0.000 0.000 0.000 0.000 0.000 0.000\n",
      " 0.000]\n",
      "current IRR: -0.06415121122039258\n",
      "current unadjusted net money: -0.48941437744596084\n",
      "month is 88 *************************\n",
      "picking a loan with term: 36, status: paid, grade: A, and rate: 0.07620000094175339\n",
      "loan life is 22.0 ending in month 110.0\n",
      "invested in 1 loans this month\n",
      "current cfs: [-2.000 0.054 0.054 0.054 0.054 0.054 0.054 0.031 0.031 0.031 0.031 0.031\n",
      " 0.031 0.031 0.031 0.031 0.031 0.031 0.031 0.031 0.501 -1.000 0.031 0.031\n",
      " 0.031 0.031 0.031 0.031 0.031 0.031 0.031 0.031 0.031 0.031 0.031 0.031\n",
      " 0.031 0.031 0.031 0.031 0.031 0.031 0.031 0.031 0.421 -1.000 0.031 0.031\n",
      " 0.031 0.031 0.031 0.031 0.031 0.031 0.031 0.031 0.031 0.031 0.031 0.031\n",
      " 0.031 0.031 0.031 0.031 0.031 0.031 0.031 0.031 0.031 0.031 0.031 0.031\n",
      " 0.031 0.031 0.031 0.031 0.031 0.031 0.031 -0.969 0.062 0.062 0.031 0.031\n",
      " 0.031 0.031 0.031 0.831 -1.000 0.031 0.031 0.031 0.031 0.031 0.031 0.031\n",
      " 0.031 0.031 0.031 0.031 0.031 0.031 0.031 0.031 0.031 0.031 0.031 0.031\n",
      " 0.031 0.031 0.451 0.000 0.000 0.000 0.000 0.000 0.000 0.000 0.000 0.000\n",
      " 0.000 0.000 0.000 0.000 0.000 0.000 0.000 0.000 0.000 0.000 0.000 0.000\n",
      " 0.000 0.000 0.000 0.000 0.000 0.000 0.000 0.000 0.000 0.000 0.000 0.000\n",
      " 0.000 0.000 0.000 0.000 0.000 0.000 0.000 0.000 0.000 0.000 0.000 0.000\n",
      " 0.000 0.000 0.000 0.000 0.000 0.000 0.000 0.000 0.000 0.000 0.000 0.000\n",
      " 0.000 0.000 0.000 0.000 0.000 0.000 0.000 0.000 0.000 0.000 0.000 0.000\n",
      " 0.000]\n",
      "current IRR: -0.03894607195226296\n",
      "current unadjusted net money: -0.38386445668930824\n",
      "month is 111 *************************\n",
      "picking a loan with term: 36, status: paid, grade: A, and rate: 0.07620000094175339\n",
      "loan life is 29.0 ending in month 140.0\n",
      "invested in 1 loans this month\n",
      "current cfs: [-2.000 0.054 0.054 0.054 0.054 0.054 0.054 0.031 0.031 0.031 0.031 0.031\n",
      " 0.031 0.031 0.031 0.031 0.031 0.031 0.031 0.031 0.501 -1.000 0.031 0.031\n",
      " 0.031 0.031 0.031 0.031 0.031 0.031 0.031 0.031 0.031 0.031 0.031 0.031\n",
      " 0.031 0.031 0.031 0.031 0.031 0.031 0.031 0.031 0.421 -1.000 0.031 0.031\n",
      " 0.031 0.031 0.031 0.031 0.031 0.031 0.031 0.031 0.031 0.031 0.031 0.031\n",
      " 0.031 0.031 0.031 0.031 0.031 0.031 0.031 0.031 0.031 0.031 0.031 0.031\n",
      " 0.031 0.031 0.031 0.031 0.031 0.031 0.031 -0.969 0.062 0.062 0.031 0.031\n",
      " 0.031 0.031 0.031 0.831 -1.000 0.031 0.031 0.031 0.031 0.031 0.031 0.031\n",
      " 0.031 0.031 0.031 0.031 0.031 0.031 0.031 0.031 0.031 0.031 0.031 0.031\n",
      " 0.031 0.031 0.451 -1.000 0.031 0.031 0.031 0.031 0.031 0.031 0.031 0.031\n",
      " 0.031 0.031 0.031 0.031 0.031 0.031 0.031 0.031 0.031 0.031 0.031 0.031\n",
      " 0.031 0.031 0.031 0.031 0.031 0.031 0.031 0.031 0.241 0.000 0.000 0.000\n",
      " 0.000 0.000 0.000 0.000 0.000 0.000 0.000 0.000 0.000 0.000 0.000 0.000\n",
      " 0.000 0.000 0.000 0.000 0.000 0.000 0.000 0.000 0.000 0.000 0.000 0.000\n",
      " 0.000 0.000 0.000 0.000 0.000 0.000 0.000 0.000 0.000 0.000 0.000 0.000\n",
      " 0.000]\n",
      "current IRR: -0.02184297635247434\n",
      "current unadjusted net money: -0.27018501569190256\n"
     ]
    },
    {
     "data": {
      "text/plain": [
       "(array([-2.000, 0.054, 0.054, 0.054, 0.054, 0.054, 0.054, 0.031, 0.031,\n",
       "        0.031, 0.031, 0.031, 0.031, 0.031, 0.031, 0.031, 0.031, 0.031,\n",
       "        0.031, 0.031, 0.501, -1.000, 0.031, 0.031, 0.031, 0.031, 0.031,\n",
       "        0.031, 0.031, 0.031, 0.031, 0.031, 0.031, 0.031, 0.031, 0.031,\n",
       "        0.031, 0.031, 0.031, 0.031, 0.031, 0.031, 0.031, 0.031, 0.421,\n",
       "        -1.000, 0.031, 0.031, 0.031, 0.031, 0.031, 0.031, 0.031, 0.031,\n",
       "        0.031, 0.031, 0.031, 0.031, 0.031, 0.031, 0.031, 0.031, 0.031,\n",
       "        0.031, 0.031, 0.031, 0.031, 0.031, 0.031, 0.031, 0.031, 0.031,\n",
       "        0.031, 0.031, 0.031, 0.031, 0.031, 0.031, 0.031, -0.969, 0.062,\n",
       "        0.062, 0.031, 0.031, 0.031, 0.031, 0.031, 0.831, -1.000, 0.031,\n",
       "        0.031, 0.031, 0.031, 0.031, 0.031, 0.031, 0.031, 0.031, 0.031,\n",
       "        0.031, 0.031, 0.031, 0.031, 0.031, 0.031, 0.031, 0.031, 0.031,\n",
       "        0.031, 0.031, 0.451, -1.000, 0.031, 0.031, 0.031, 0.031, 0.031,\n",
       "        0.031, 0.031, 0.031, 0.031, 0.031, 0.031, 0.031, 0.031, 0.031,\n",
       "        0.031, 0.031, 0.031, 0.031, 0.031, 0.031, 0.031, 0.031, 0.031,\n",
       "        0.031, 0.031, 0.031, 0.031, 0.031, 0.241, 0.000, 0.000, 0.000,\n",
       "        0.000, 0.000, 0.000, 0.000, 0.000, 0.000, 0.000, 0.000, 0.000,\n",
       "        0.000, 0.000, 0.000, 0.000, 0.000, 0.000, 0.000, 0.000, 0.000,\n",
       "        0.000, 0.000, 0.000, 0.000, 0.000, 0.000, 0.000, 0.000, 0.000,\n",
       "        0.000, 0.000, 0.000, 0.000, 0.000, 0.000, 0.000, 0.000, 0.000,\n",
       "        0.000]), -0.27018501569190256, -0.02184297635247434)"
      ]
     },
     "execution_count": 32,
     "metadata": {},
     "output_type": "execute_result"
    }
   ],
   "source": [
    "sim_portfolio(end_d_by_term_stat_grade, ddone_loans, n_inv_loans=2, verbose=True, wait_for_cont=False, n_months=120)"
   ]
  },
  {
   "cell_type": "code",
   "execution_count": 168,
   "metadata": {
    "ExecuteTime": {
     "end_time": "2019-12-04T01:34:40.147552Z",
     "start_time": "2019-12-04T01:33:23.287033Z"
    }
   },
   "outputs": [
    {
     "name": "stdout",
     "output_type": "stream",
     "text": [
      "> \u001b[0;32m<ipython-input-164-2982e4bd7c03>\u001b[0m(99)\u001b[0;36msim_portfolio2\u001b[0;34m()\u001b[0m\n",
      "\u001b[0;32m     97 \u001b[0;31m            \u001b[0mend_i\u001b[0m \u001b[0;34m=\u001b[0m \u001b[0mmonth\u001b[0m\u001b[0;34m+\u001b[0m\u001b[0;36m1\u001b[0m\u001b[0;34m\u001b[0m\u001b[0;34m\u001b[0m\u001b[0m\n",
      "\u001b[0m\u001b[0;32m     98 \u001b[0;31m            \u001b[0;32mwhile\u001b[0m \u001b[0mleftover_money\u001b[0m \u001b[0;34m<\u001b[0m \u001b[0mabs\u001b[0m\u001b[0;34m(\u001b[0m\u001b[0mfunded\u001b[0m\u001b[0;34m)\u001b[0m\u001b[0;34m:\u001b[0m\u001b[0;34m\u001b[0m\u001b[0;34m\u001b[0m\u001b[0m\n",
      "\u001b[0m\u001b[0;32m---> 99 \u001b[0;31m                \u001b[0mleftover_money\u001b[0m \u001b[0;34m+=\u001b[0m \u001b[0mcfs\u001b[0m\u001b[0;34m[\u001b[0m\u001b[0mend_i\u001b[0m\u001b[0;34m]\u001b[0m\u001b[0;34m\u001b[0m\u001b[0;34m\u001b[0m\u001b[0m\n",
      "\u001b[0m\u001b[0;32m    100 \u001b[0;31m                \u001b[0mend_i\u001b[0m \u001b[0;34m+=\u001b[0m \u001b[0;36m1\u001b[0m\u001b[0;34m\u001b[0m\u001b[0;34m\u001b[0m\u001b[0m\n",
      "\u001b[0m\u001b[0;32m    101 \u001b[0;31m            \u001b[0mn_inv_loans\u001b[0m \u001b[0;34m=\u001b[0m \u001b[0mabs\u001b[0m\u001b[0;34m(\u001b[0m\u001b[0mleftover_money\u001b[0m\u001b[0;34m/\u001b[0m\u001b[0mfunded\u001b[0m\u001b[0;34m)\u001b[0m\u001b[0;34m\u001b[0m\u001b[0;34m\u001b[0m\u001b[0m\n",
      "\u001b[0m\n",
      "ipdb> len(cfs)\n",
      "71\n",
      "ipdb> cfs[71]\n",
      "*** IndexError: index 71 is out of bounds for axis 0 with size 71\n",
      "ipdb> end_i\n",
      "71\n",
      "ipdb> cfs\n",
      "array([-2.000, 0.077, 0.077, 0.077, 0.077, 0.041, 0.041, 0.041, 0.000,\n",
      "       0.000, 0.000, 0.000, 0.000, 0.000, 0.000, 0.000, 0.000, 0.000,\n",
      "       0.000, 0.000, 0.000, 0.000, 0.000, 0.000, 0.000, 0.000, 0.000,\n",
      "       0.000, 0.000, 0.000, 0.000, 0.000, 0.000, 0.000, 0.000, 0.000,\n",
      "       0.000, 0.000, 0.000, 0.000, 0.000, 0.000, 0.000, 0.000, 0.000,\n",
      "       0.000, 0.000, 0.000, 0.000, 0.000, 0.000, 0.000, 0.000, 0.000,\n",
      "       0.000, 0.000, 0.000, 0.000, 0.000, 0.000, 0.000, 0.000, 0.000,\n",
      "       0.000, 0.000, 0.000, 0.000, 0.000, 0.000, 0.000, 0.000])\n",
      "ipdb> leftover_money\n",
      "0.43205367544666273\n",
      "ipdb> q\n"
     ]
    }
   ],
   "source": [
    "%debugq\n"
   ]
  },
  {
   "cell_type": "code",
   "execution_count": 119,
   "metadata": {
    "ExecuteTime": {
     "end_time": "2019-12-03T23:54:44.750458Z",
     "start_time": "2019-12-03T23:53:26.751430Z"
    }
   },
   "outputs": [
    {
     "name": "stdout",
     "output_type": "stream",
     "text": [
      "> \u001b[0;32m<ipython-input-109-8c6cacf34829>\u001b[0m(46)\u001b[0;36mmake_loan_array\u001b[0;34m()\u001b[0m\n",
      "\u001b[0;32m     44 \u001b[0;31m            \u001b[0mprint\u001b[0m\u001b[0;34m(\u001b[0m\u001b[0;34m'unrecognized loan type'\u001b[0m\u001b[0;34m)\u001b[0m\u001b[0;34m\u001b[0m\u001b[0;34m\u001b[0m\u001b[0m\n",
      "\u001b[0m\u001b[0;32m     45 \u001b[0;31m        \u001b[0madd_cfs\u001b[0m\u001b[0;34m[\u001b[0m\u001b[0;36m0\u001b[0m\u001b[0;34m]\u001b[0m \u001b[0;34m=\u001b[0m \u001b[0mfunded\u001b[0m\u001b[0;34m\u001b[0m\u001b[0;34m\u001b[0m\u001b[0m\n",
      "\u001b[0m\u001b[0;32m---> 46 \u001b[0;31m        \u001b[0mcfs\u001b[0m\u001b[0;34m[\u001b[0m\u001b[0mmonth\u001b[0m\u001b[0;34m:\u001b[0m\u001b[0mmonth\u001b[0m\u001b[0;34m+\u001b[0m\u001b[0mlen\u001b[0m\u001b[0;34m(\u001b[0m\u001b[0madd_cfs\u001b[0m\u001b[0;34m)\u001b[0m\u001b[0;34m]\u001b[0m \u001b[0;34m+=\u001b[0m \u001b[0madd_cfs\u001b[0m\u001b[0;34m\u001b[0m\u001b[0;34m\u001b[0m\u001b[0m\n",
      "\u001b[0m\u001b[0;32m     47 \u001b[0;31m        \u001b[0;32mreturn\u001b[0m \u001b[0mcfs\u001b[0m\u001b[0;34m\u001b[0m\u001b[0;34m\u001b[0m\u001b[0m\n",
      "\u001b[0m\u001b[0;32m     48 \u001b[0;31m\u001b[0;34m\u001b[0m\u001b[0m\n",
      "\u001b[0m\n",
      "ipdb> dir()\n",
      "['add_cfs', 'cfs', 'end_m', 'funded', 'l_type', 'month', 'n_m', 'per', 'pmt', 'rate', 'rem_princp', 'term', 'theoretic']\n",
      "ipdb> l_type\n",
      "'paid'\n",
      "ipdb> len(add_cfs)\n",
      "61\n",
      "ipdb> len(cfs[month:month+len(add_cfs)])\n",
      "60\n",
      "ipdb> month\n",
      "97\n",
      "ipdb> q\n"
     ]
    }
   ],
   "source": [
    "%debug"
   ]
  },
  {
   "cell_type": "code",
   "execution_count": null,
   "metadata": {},
   "outputs": [],
   "source": []
  },
  {
   "cell_type": "code",
   "execution_count": 103,
   "metadata": {
    "ExecuteTime": {
     "end_time": "2019-12-03T23:39:31.472905Z",
     "start_time": "2019-12-03T23:39:18.019699Z"
    }
   },
   "outputs": [
    {
     "name": "stdout",
     "output_type": "stream",
     "text": [
      "> \u001b[0;32m<ipython-input-100-5e4c8b91dd5f>\u001b[0m(83)\u001b[0;36msim_portfolio2\u001b[0;34m()\u001b[0m\n",
      "\u001b[0;32m     81 \u001b[0;31m                \u001b[0mcfs\u001b[0m \u001b[0;34m=\u001b[0m \u001b[0mmake_loan_array\u001b[0m\u001b[0;34m(\u001b[0m\u001b[0mstat\u001b[0m\u001b[0;34m,\u001b[0m \u001b[0mfunded\u001b[0m\u001b[0;34m,\u001b[0m \u001b[0mpmt\u001b[0m\u001b[0;34m,\u001b[0m \u001b[0mrate\u001b[0m\u001b[0;34m,\u001b[0m \u001b[0mterm\u001b[0m\u001b[0;34m,\u001b[0m \u001b[0mmonth\u001b[0m\u001b[0;34m,\u001b[0m \u001b[0mcfs\u001b[0m\u001b[0;34m,\u001b[0m \u001b[0mtheoretic\u001b[0m\u001b[0;34m=\u001b[0m\u001b[0;32mFalse\u001b[0m\u001b[0;34m,\u001b[0m \u001b[0mend_m\u001b[0m\u001b[0;34m=\u001b[0m\u001b[0mend_m\u001b[0m\u001b[0;34m)\u001b[0m\u001b[0;34m\u001b[0m\u001b[0;34m\u001b[0m\u001b[0m\n",
      "\u001b[0m\u001b[0;32m     82 \u001b[0;31m            \u001b[0;31m# calculate which month can reinvest next in\u001b[0m\u001b[0;34m\u001b[0m\u001b[0;34m\u001b[0m\u001b[0;34m\u001b[0m\u001b[0m\n",
      "\u001b[0m\u001b[0;32m---> 83 \u001b[0;31m            \u001b[0mleftover_money\u001b[0m \u001b[0;34m=\u001b[0m \u001b[0mn_inv_loans\u001b[0m \u001b[0;34m%\u001b[0m \u001b[0;34m(\u001b[0m\u001b[0ml\u001b[0m\u001b[0;34m+\u001b[0m\u001b[0;36m1\u001b[0m\u001b[0;34m)\u001b[0m\u001b[0;34m\u001b[0m\u001b[0;34m\u001b[0m\u001b[0m\n",
      "\u001b[0m\u001b[0;32m     84 \u001b[0;31m            \u001b[0mend_i\u001b[0m \u001b[0;34m=\u001b[0m \u001b[0mmonth\u001b[0m\u001b[0;34m+\u001b[0m\u001b[0;36m1\u001b[0m\u001b[0;34m\u001b[0m\u001b[0;34m\u001b[0m\u001b[0m\n",
      "\u001b[0m\u001b[0;32m     85 \u001b[0;31m            \u001b[0;32mwhile\u001b[0m \u001b[0mleftover_money\u001b[0m \u001b[0;34m<\u001b[0m \u001b[0mabs\u001b[0m\u001b[0;34m(\u001b[0m\u001b[0mfunded\u001b[0m\u001b[0;34m)\u001b[0m\u001b[0;34m:\u001b[0m\u001b[0;34m\u001b[0m\u001b[0;34m\u001b[0m\u001b[0m\n",
      "\u001b[0m\n",
      "ipdb> l\n",
      "\u001b[1;32m     78 \u001b[0m                \u001b[0;31m# key is term, stat, grade\u001b[0m\u001b[0;34m\u001b[0m\u001b[0;34m\u001b[0m\u001b[0;34m\u001b[0m\u001b[0m\n",
      "\u001b[1;32m     79 \u001b[0m                \u001b[0mterm\u001b[0m\u001b[0;34m,\u001b[0m \u001b[0mstat\u001b[0m\u001b[0;34m,\u001b[0m \u001b[0mgrade\u001b[0m \u001b[0;34m=\u001b[0m \u001b[0mkey\u001b[0m\u001b[0;34m\u001b[0m\u001b[0;34m\u001b[0m\u001b[0m\n",
      "\u001b[1;32m     80 \u001b[0m                \u001b[0mpmt\u001b[0m \u001b[0;34m=\u001b[0m \u001b[0mnp\u001b[0m\u001b[0;34m.\u001b[0m\u001b[0mpmt\u001b[0m\u001b[0;34m(\u001b[0m\u001b[0mrate\u001b[0m\u001b[0;34m,\u001b[0m \u001b[0mterm\u001b[0m\u001b[0;34m,\u001b[0m \u001b[0mfunded\u001b[0m\u001b[0;34m,\u001b[0m \u001b[0;36m0\u001b[0m\u001b[0;34m)\u001b[0m\u001b[0;34m\u001b[0m\u001b[0;34m\u001b[0m\u001b[0m\n",
      "\u001b[1;32m     81 \u001b[0m                \u001b[0mcfs\u001b[0m \u001b[0;34m=\u001b[0m \u001b[0mmake_loan_array\u001b[0m\u001b[0;34m(\u001b[0m\u001b[0mstat\u001b[0m\u001b[0;34m,\u001b[0m \u001b[0mfunded\u001b[0m\u001b[0;34m,\u001b[0m \u001b[0mpmt\u001b[0m\u001b[0;34m,\u001b[0m \u001b[0mrate\u001b[0m\u001b[0;34m,\u001b[0m \u001b[0mterm\u001b[0m\u001b[0;34m,\u001b[0m \u001b[0mmonth\u001b[0m\u001b[0;34m,\u001b[0m \u001b[0mcfs\u001b[0m\u001b[0;34m,\u001b[0m \u001b[0mtheoretic\u001b[0m\u001b[0;34m=\u001b[0m\u001b[0;32mFalse\u001b[0m\u001b[0;34m,\u001b[0m \u001b[0mend_m\u001b[0m\u001b[0;34m=\u001b[0m\u001b[0mend_m\u001b[0m\u001b[0;34m)\u001b[0m\u001b[0;34m\u001b[0m\u001b[0;34m\u001b[0m\u001b[0m\n",
      "\u001b[1;32m     82 \u001b[0m            \u001b[0;31m# calculate which month can reinvest next in\u001b[0m\u001b[0;34m\u001b[0m\u001b[0;34m\u001b[0m\u001b[0;34m\u001b[0m\u001b[0m\n",
      "\u001b[0;32m---> 83 \u001b[0;31m            \u001b[0mleftover_money\u001b[0m \u001b[0;34m=\u001b[0m \u001b[0mn_inv_loans\u001b[0m \u001b[0;34m%\u001b[0m \u001b[0;34m(\u001b[0m\u001b[0ml\u001b[0m\u001b[0;34m+\u001b[0m\u001b[0;36m1\u001b[0m\u001b[0;34m)\u001b[0m\u001b[0;34m\u001b[0m\u001b[0;34m\u001b[0m\u001b[0m\n",
      "\u001b[0m\u001b[1;32m     84 \u001b[0m            \u001b[0mend_i\u001b[0m \u001b[0;34m=\u001b[0m \u001b[0mmonth\u001b[0m\u001b[0;34m+\u001b[0m\u001b[0;36m1\u001b[0m\u001b[0;34m\u001b[0m\u001b[0;34m\u001b[0m\u001b[0m\n",
      "\u001b[1;32m     85 \u001b[0m            \u001b[0;32mwhile\u001b[0m \u001b[0mleftover_money\u001b[0m \u001b[0;34m<\u001b[0m \u001b[0mabs\u001b[0m\u001b[0;34m(\u001b[0m\u001b[0mfunded\u001b[0m\u001b[0;34m)\u001b[0m\u001b[0;34m:\u001b[0m\u001b[0;34m\u001b[0m\u001b[0;34m\u001b[0m\u001b[0m\n",
      "\u001b[1;32m     86 \u001b[0m                \u001b[0mleftover_money\u001b[0m \u001b[0;34m+=\u001b[0m \u001b[0mcfs\u001b[0m\u001b[0;34m[\u001b[0m\u001b[0mend_i\u001b[0m\u001b[0;34m]\u001b[0m\u001b[0;34m\u001b[0m\u001b[0;34m\u001b[0m\u001b[0m\n",
      "\u001b[1;32m     87 \u001b[0m                \u001b[0mend_i\u001b[0m \u001b[0;34m+=\u001b[0m \u001b[0;36m1\u001b[0m\u001b[0;34m\u001b[0m\u001b[0;34m\u001b[0m\u001b[0m\n",
      "\u001b[1;32m     88 \u001b[0m            \u001b[0mn_inv_loans\u001b[0m \u001b[0;34m=\u001b[0m \u001b[0mleftover_money\u001b[0m\u001b[0;34m\u001b[0m\u001b[0;34m\u001b[0m\u001b[0m\n",
      "\n",
      "ipdb> q\n"
     ]
    }
   ],
   "source": [
    "%debug"
   ]
  },
  {
   "cell_type": "code",
   "execution_count": 74,
   "metadata": {
    "ExecuteTime": {
     "end_time": "2019-12-03T04:28:21.145839Z",
     "start_time": "2019-12-03T04:28:21.140601Z"
    }
   },
   "outputs": [],
   "source": [
    "def sim_portfolio(n_months=120, starting_loans=2000, cfs=None, funded=-1,\n",
    "                  rate = .07/12, term = 36, theoretic = False, def_vs_pay_prob=[.15, .85], ms_prob_tup = None):\n",
    "    '''\n",
    "    Simulate a portfolio for INVESTING for n_months. Actual portfolio winddown\n",
    "    may take up to 36 months longer\n",
    "    funded is the loan amount that will be used (e.g. -1 is one dollar funded to loan)\n",
    "    '''\n",
    "\n",
    "    if not theoretic:\n",
    "        ms, probs = ms_prob_tup\n",
    "    \n",
    "    cfs=np.zeros(n_months + 37) if cfs is None else cfs\n",
    "    pmt = np.pmt(rate, term, funded, 0)\n",
    "    end_i = 0\n",
    "    for month in range(n_months):\n",
    "        if month == end_i:\n",
    "            for l in range(int(np.floor(starting_loans))):\n",
    "                if theoretic:\n",
    "                    l_type = np.random.choice(['A','B','C'], replace=True, p=[.1,.55,.35])\n",
    "                    cfs = make_loan_array(l_type, funded, pmt, rate, term, month, cfs)\n",
    "                else:\n",
    "                    l_type = np.random.choice(['charged_off','paid'], replace=True, p=def_vs_pay_prob)\n",
    "                    if l_type == 'charged_off':\n",
    "                        end_m = np.random.choice(def_m, replace=True, p=def_prob)\n",
    "                    elif l_type == 'paid':\n",
    "                        end_m = np.random.choice(paid_m, replace=True, p=paid_prob)\n",
    "                    cfs = make_loan_array(l_type, funded, pmt, rate, term, month, cfs, theoretic=False, end_m=end_m)\n",
    "            # calculate which month can reinvest next in\n",
    "            leftover_money = starting_loans % (l+1)\n",
    "            end_i = month+1\n",
    "            while leftover_money < abs(funded):\n",
    "                leftover_money += cfs[end_i]\n",
    "                end_i += 1\n",
    "            starting_loans = leftover_money\n",
    "    # returns the cfs, the net money made, and the annualized irr\n",
    "    return cfs, np.sum(cfs), np.irr(cfs)*12\n",
    "\n"
   ]
  },
  {
   "cell_type": "code",
   "execution_count": 104,
   "metadata": {
    "ExecuteTime": {
     "end_time": "2019-12-03T23:40:57.209188Z",
     "start_time": "2019-12-03T23:40:57.202850Z"
    }
   },
   "outputs": [
    {
     "data": {
      "text/plain": [
       "7"
      ]
     },
     "execution_count": 104,
     "metadata": {},
     "output_type": "execute_result"
    }
   ],
   "source": [
    "20 % 13"
   ]
  },
  {
   "cell_type": "code",
   "execution_count": 9,
   "metadata": {
    "ExecuteTime": {
     "end_time": "2019-11-24T03:53:59.447315Z",
     "start_time": "2019-11-24T03:53:59.442064Z"
    },
    "scrolled": true
   },
   "outputs": [],
   "source": [
    "# n_months=120\n",
    "# month=0\n",
    "# starting_money = 2000\n",
    "# # m_start_loans= 10\n",
    "# cfs = np.zeros(n_months + 37)\n",
    "# funded = -1\n",
    "# rate = .07/12\n",
    "# term = 36\n",
    "# pmt = np.pmt(rate, term, funded, 0)\n",
    "# loan_types = ['A','B','C']\n",
    "# p=[.05,.7,.25]\n",
    "# end_i = 0\n",
    "# theoretic = False\n",
    "# for month in range(n_months):\n",
    "#     # sample your loan_types\n",
    "#     if month == end_i:\n",
    "# #         print('Month {0}'.format(end_i))\n",
    "#         for l in range(int(np.floor(starting_money))):\n",
    "#             if theoretic:\n",
    "#                 l_type = np.random.choice(['A','B','C'], replace=True, p=[.1,.55,.35])\n",
    "#                 cfs = make_loan_array(l_type, funded, pmt, rate, term, month, n_months, cfs)\n",
    "#             else:\n",
    "#                 l_type = np.random.choice(['A','B'], replace=True, p=[.15, .85])\n",
    "#                 if l_type == 'A':\n",
    "#                     end_m = np.random.choice(def_m, replace=True, p=def_prob)\n",
    "#                 elif l_type == 'B':\n",
    "#                     end_m = np.random.choice(paid_m, replace=True, p=paid_prob)\n",
    "# #                 print(l_type, end_m)\n",
    "#                 cfs = make_loan_array(l_type, funded, pmt, rate, term, month, n_months, cfs, theoretic=False, end_m=end_m)\n",
    "#         # calculate which month can reinvest next in\n",
    "# #         print('invest in {0} loans'.format(l+1))\n",
    "# #         print(cfs)\n",
    "#         leftover_money = starting_money % (l+1)\n",
    "# #         print(leftover_money, starting_money)\n",
    "#         end_i = month+1\n",
    "#         while leftover_money < abs(funded):\n",
    "#             leftover_money += cfs[end_i]\n",
    "#             end_i += 1\n",
    "#         starting_money = leftover_money\n",
    "# #         print(starting_money)\n",
    "# #     import ipdb; ipdb.set_trace()"
   ]
  },
  {
   "cell_type": "code",
   "execution_count": null,
   "metadata": {},
   "outputs": [],
   "source": [
    "#     #2019-11-23 18:19:03 added these probability of def/pay loan ending in which month\n",
    "#     def_m = (19.0, 20.0, 17.0, 23.0, 13.0, 16.0, 18.0, 15.0, 14.0, 21.0, 22.0, 24.0, 12.0, 25.0, 11.0, 26.0, 27.0, 28.0, 10.0, 30.0, 29.0, 31.0, 9.0, 33.0, 32.0, 34.0, 35.0, 36.0, 8.0, 7.0, 37.0, 38.0, 39.0, 6.0, 40.0, 5.0)\n",
    "#     def_prob = (0.04215276249174554, 0.04171252476337222, 0.04105216817081224, 0.040721989874532245, 0.03962139555359894, 0.039181157825225625, 0.03896103896103896, 0.0387409200968523, 0.037860444640105656, 0.036429672022892365, 0.03543913713405239, 0.035108958837772396, 0.03499889940567907, 0.033678186220559105, 0.03345806735637244, 0.031587057010785825, 0.030706581554039183, 0.029826106097292537, 0.028285274047985913, 0.02806515518379925, 0.02784503631961259, 0.026194144838212634, 0.02443319392471935, 0.023992956196346026, 0.02201188641866608, 0.02168170812238609, 0.020360994937266123, 0.017609509134932862, 0.017499449702839533, 0.01694915254237288, 0.016178736517719568, 0.014417785604226283, 0.010455646048866387, 0.009134932863746423, 0.009134932863746423, 0.004512436715826546)\n",
    "#     paid_m = (36.0, 35.0, 34.0, 23.0, 33.0, 29.0, 32.0, 20.0, 19.0, 22.0, 24.0, 25.0, 21.0, 17.0, 28.0, 31.0, 13.0, 14.0, 18.0, 30.0, 27.0, 16.0, 15.0, 26.0, 12.0, 11.0, 8.0, 10.0, 9.0, 7.0, 6.0, 5.0, 1.0, 4.0, 3.0, 2.0)\n",
    "#     paid_prob = (0.2824742268041237, 0.039646539027982326, 0.025508100147275406, 0.02411389297987236, 0.023524791359842905, 0.02346588119783996, 0.02323024054982818, 0.022876779577810504, 0.022778595974472262, 0.022739322533136964, 0.02268041237113402, 0.022523318605792833, 0.022484045164457536, 0.02242513500245459, 0.02242513500245459, 0.02232695139911635, 0.02228767795778105, 0.021678939617083948, 0.021521845851742757, 0.02150220913107511, 0.02124693176239568, 0.02124693176239568, 0.02059891998036328, 0.020500736377025038, 0.02020618556701031, 0.019695630829651447, 0.01885125184094256, 0.018654884634266077, 0.018046146293568974, 0.01616102110947472, 0.015434462444771722, 0.013294059891998037, 0.012135493372606774, 0.01180166912125675, 0.00997545409916544, 0.009936180657830142)"
   ]
  },
  {
   "cell_type": "markdown",
   "metadata": {},
   "source": [
    "# To Delete"
   ]
  },
  {
   "cell_type": "code",
   "execution_count": null,
   "metadata": {},
   "outputs": [],
   "source": [
    "# def make_loan_array(l_type, funded, pmt, rate, term, month, n_months, cfs, theortic = False):\n",
    "#     '''\n",
    "#     3 l_types:\n",
    "#     A) default immediately, take 5 months\n",
    "#     B) Fully Prepay between 6-12 months. \n",
    "#     C) Fully Prepay/pay between 24-36 months\n",
    "#     month: what month the loan was invested in (starts at 0)\n",
    "#     '''\n",
    "#     if theoretic:\n",
    "#         add_m = np.random.choice(np.arange(-3,4))\n",
    "#         if l_type == 'A':\n",
    "#             add_cfs = np.zeros(1)\n",
    "#         else:\n",
    "#             if l_type == 'B':\n",
    "#                 n_m = 9+add_m+1\n",
    "#             elif l_type == 'C':\n",
    "#                 n_m = 33+add_m+1\n",
    "\n",
    "        \n",
    "# # __________________        \n",
    "#     if l_type == 'A':\n",
    "#         add_cfs = np.zeros(1)\n",
    "#     else:\n",
    "#         if l_type == 'B':\n",
    "#             n_m = 9+add_m+1\n",
    "#         elif l_type == 'C':\n",
    "#             n_m = 33+add_m+1\n",
    "#         per = np.arange(n_m) + 1\n",
    "#         add_cfs = np.tile(pmt, (n_m+1))\n",
    "#         rem_princp = (1 - np.ppmt(rate, per, term, funded, 0).sum()).round(2)\n",
    "#         add_cfs[-1] += rem_princp\n",
    "#     add_cfs[0] = funded\n",
    "#     cfs[month:month+len(add_cfs)] += add_cfs\n",
    "#     return cfs"
   ]
  }
 ],
 "metadata": {
  "kernelspec": {
   "display_name": "Python [conda env:lendingclub]",
   "language": "python",
   "name": "conda-env-lendingclub-py"
  },
  "language_info": {
   "codemirror_mode": {
    "name": "ipython",
    "version": 3
   },
   "file_extension": ".py",
   "mimetype": "text/x-python",
   "name": "python",
   "nbconvert_exporter": "python",
   "pygments_lexer": "ipython3",
   "version": "3.7.4"
  }
 },
 "nbformat": 4,
 "nbformat_minor": 2
}
