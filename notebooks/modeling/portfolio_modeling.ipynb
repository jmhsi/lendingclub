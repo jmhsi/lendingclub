{
 "cells": [
  {
   "cell_type": "code",
   "execution_count": 1,
   "metadata": {
    "ExecuteTime": {
     "end_time": "2019-11-24T03:53:44.504594Z",
     "start_time": "2019-11-24T03:53:44.130727Z"
    }
   },
   "outputs": [],
   "source": [
    "import os\n",
    "import pickle\n",
    "import numpy as np\n",
    "import pandas as pd\n",
    "import matplotlib.pyplot as plt\n",
    "from lendingclub import config\n",
    "\n",
    "pd.set_option('max_columns', 999)\n",
    "np.set_printoptions(formatter={'float': lambda x: \"{0:0.3f}\".format(x)})\n",
    "\n",
    "ppath = config.prj_dir\n",
    "dpath = config.data_dir"
   ]
  },
  {
   "cell_type": "code",
   "execution_count": 2,
   "metadata": {
    "ExecuteTime": {
     "end_time": "2019-11-24T03:53:45.277337Z",
     "start_time": "2019-11-24T03:53:44.506177Z"
    }
   },
   "outputs": [
    {
     "name": "stdout",
     "output_type": "stream",
     "text": [
      "(2507335, 46) (2507335, 90)\n"
     ]
    }
   ],
   "source": [
    "all_scores = pd.read_feather(os.path.join(config.data_dir, 'eval_loan_info_scored.fth'))\n",
    "base_loan_info = pd.read_feather(os.path.join(config.data_dir, 'base_loan_info.fth'))\n",
    "with open(os.path.join(config.data_dir, 'train_test_ids.pkl'), 'rb') as f:\n",
    "    train_test_ids = pickle.load(f)\n",
    "print(all_scores.shape, base_loan_info.shape)"
   ]
  },
  {
   "cell_type": "markdown",
   "metadata": {},
   "source": [
    "# USE TEST IDS TO GENERATE DISTRIBUTIONS OF END_M"
   ]
  },
  {
   "cell_type": "code",
   "execution_count": 19,
   "metadata": {
    "ExecuteTime": {
     "end_time": "2019-11-25T04:49:23.675022Z",
     "start_time": "2019-11-25T04:49:23.488826Z"
    }
   },
   "outputs": [
    {
     "name": "stderr",
     "output_type": "stream",
     "text": [
      "/home/justin/anaconda3/envs/lendingclub/lib/python3.7/site-packages/ipykernel_launcher.py:4: SettingWithCopyWarning: \n",
      "A value is trying to be set on a copy of a slice from a DataFrame.\n",
      "Try using .loc[row_indexer,col_indexer] = value instead\n",
      "\n",
      "See the caveats in the documentation: http://pandas.pydata.org/pandas-docs/stable/user_guide/indexing.html#returning-a-view-versus-a-copy\n",
      "  after removing the cwd from sys.path.\n"
     ]
    }
   ],
   "source": [
    "# examine the distribution of high maturity time loans for which months they default and prepay\n",
    "test_id = train_test_ids['test'] # <- test ids\n",
    "done_loans = all_scores.query('id in @test_id and maturity_time >= .95')\n",
    "done_loans['months_recorded'] = ((done_loans['end_d'] - done_loans['issue_d'])/np.timedelta64(1, 'M')).round()\n",
    "def_statuses = ['charged_off', 'defaulted']\n",
    "def_loans = done_loans.query('loan_status in @def_statuses')\n",
    "paid_loans = done_loans.query('loan_status not in @def_statuses')"
   ]
  },
  {
   "cell_type": "code",
   "execution_count": 20,
   "metadata": {
    "ExecuteTime": {
     "end_time": "2019-11-25T04:49:25.938061Z",
     "start_time": "2019-11-25T04:49:25.640434Z"
    }
   },
   "outputs": [
    {
     "data": {
      "text/plain": [
       "<matplotlib.axes._subplots.AxesSubplot at 0x7fad546fa3d0>"
      ]
     },
     "execution_count": 20,
     "metadata": {},
     "output_type": "execute_result"
    },
    {
     "data": {
      "image/png": "[encoded data removed]",
      "text/plain": [
       "<Figure size 432x288 with 1 Axes>"
      ]
     },
     "metadata": {
      "needs_background": "light"
     },
     "output_type": "display_data"
    }
   ],
   "source": [
    "# check how long loans pay for if defaulting or paying for 36 term loans\n",
    "query = 'term == 36 and months_recorded <= 40 and maturity_time >= .95'\n",
    "def_probs = (def_loans.query(query)['months_recorded'].value_counts(dropna=False)/len(def_loans.query(query))).to_dict()\n",
    "def_m, def_prob = zip(*def_probs.items())\n",
    "def_loans.query(query)['months_recorded'].hist(bins=36)"
   ]
  },
  {
   "cell_type": "code",
   "execution_count": 21,
   "metadata": {
    "ExecuteTime": {
     "end_time": "2019-11-25T04:49:28.608540Z",
     "start_time": "2019-11-25T04:49:28.357106Z"
    }
   },
   "outputs": [
    {
     "data": {
      "text/plain": [
       "<matplotlib.axes._subplots.AxesSubplot at 0x7fad3dc18090>"
      ]
     },
     "execution_count": 21,
     "metadata": {},
     "output_type": "execute_result"
    },
    {
     "data": {
      "image/png": "[encoded data removed]",
      "text/plain": [
       "<Figure size 432x288 with 1 Axes>"
      ]
     },
     "metadata": {
      "needs_background": "light"
     },
     "output_type": "display_data"
    }
   ],
   "source": [
    "query = 'term == 36 and months_recorded <= 36 and months_recorded >= 1 and maturity_time >= .95'\n",
    "paid_probs = (paid_loans.query(query)['months_recorded'].value_counts(dropna=False)/len(paid_loans.query(query))).to_dict()\n",
    "paid_m, paid_prob = zip(*paid_probs.items())\n",
    "paid_loans.query(query)['months_recorded'].hist(bins=36)"
   ]
  },
  {
   "cell_type": "code",
   "execution_count": 27,
   "metadata": {
    "ExecuteTime": {
     "end_time": "2019-11-25T04:51:21.850355Z",
     "start_time": "2019-11-25T04:51:21.844520Z"
    }
   },
   "outputs": [
    {
     "name": "stdout",
     "output_type": "stream",
     "text": [
      "(19.0, 20.0, 17.0, 23.0, 13.0, 16.0, 18.0, 15.0, 14.0, 21.0, 22.0, 24.0, 12.0, 25.0, 11.0, 26.0, 27.0, 28.0, 10.0, 30.0, 29.0, 31.0, 9.0, 33.0, 32.0, 34.0, 35.0, 36.0, 8.0, 7.0, 37.0, 38.0, 39.0, 6.0, 40.0, 5.0)\n"
     ]
    }
   ],
   "source": [
    "print(def_m)"
   ]
  },
  {
   "cell_type": "code",
   "execution_count": 28,
   "metadata": {
    "ExecuteTime": {
     "end_time": "2019-11-25T04:51:28.346431Z",
     "start_time": "2019-11-25T04:51:28.340609Z"
    }
   },
   "outputs": [
    {
     "name": "stdout",
     "output_type": "stream",
     "text": [
      "(0.04215276249174554, 0.04171252476337222, 0.04105216817081224, 0.040721989874532245, 0.03962139555359894, 0.039181157825225625, 0.03896103896103896, 0.0387409200968523, 0.037860444640105656, 0.036429672022892365, 0.03543913713405239, 0.035108958837772396, 0.03499889940567907, 0.033678186220559105, 0.03345806735637244, 0.031587057010785825, 0.030706581554039183, 0.029826106097292537, 0.028285274047985913, 0.02806515518379925, 0.02784503631961259, 0.026194144838212634, 0.02443319392471935, 0.023992956196346026, 0.02201188641866608, 0.02168170812238609, 0.020360994937266123, 0.017609509134932862, 0.017499449702839533, 0.01694915254237288, 0.016178736517719568, 0.014417785604226283, 0.010455646048866387, 0.009134932863746423, 0.009134932863746423, 0.004512436715826546)\n"
     ]
    }
   ],
   "source": [
    "print(def_prob)"
   ]
  },
  {
   "cell_type": "code",
   "execution_count": 29,
   "metadata": {
    "ExecuteTime": {
     "end_time": "2019-11-25T04:51:31.987128Z",
     "start_time": "2019-11-25T04:51:31.981422Z"
    }
   },
   "outputs": [
    {
     "name": "stdout",
     "output_type": "stream",
     "text": [
      "(36.0, 35.0, 34.0, 23.0, 33.0, 29.0, 32.0, 20.0, 19.0, 22.0, 24.0, 25.0, 21.0, 17.0, 28.0, 31.0, 13.0, 14.0, 18.0, 30.0, 27.0, 16.0, 15.0, 26.0, 12.0, 11.0, 8.0, 10.0, 9.0, 7.0, 6.0, 5.0, 1.0, 4.0, 3.0, 2.0)\n"
     ]
    }
   ],
   "source": [
    "print(paid_m)"
   ]
  },
  {
   "cell_type": "code",
   "execution_count": 30,
   "metadata": {
    "ExecuteTime": {
     "end_time": "2019-11-25T04:51:36.331698Z",
     "start_time": "2019-11-25T04:51:36.326029Z"
    }
   },
   "outputs": [
    {
     "name": "stdout",
     "output_type": "stream",
     "text": [
      "(0.2824742268041237, 0.039646539027982326, 0.025508100147275406, 0.02411389297987236, 0.023524791359842905, 0.02346588119783996, 0.02323024054982818, 0.022876779577810504, 0.022778595974472262, 0.022739322533136964, 0.02268041237113402, 0.022523318605792833, 0.022484045164457536, 0.02242513500245459, 0.02242513500245459, 0.02232695139911635, 0.02228767795778105, 0.021678939617083948, 0.021521845851742757, 0.02150220913107511, 0.02124693176239568, 0.02124693176239568, 0.02059891998036328, 0.020500736377025038, 0.02020618556701031, 0.019695630829651447, 0.01885125184094256, 0.018654884634266077, 0.018046146293568974, 0.01616102110947472, 0.015434462444771722, 0.013294059891998037, 0.012135493372606774, 0.01180166912125675, 0.00997545409916544, 0.009936180657830142)\n"
     ]
    }
   ],
   "source": [
    "print(paid_prob)"
   ]
  },
  {
   "cell_type": "code",
   "execution_count": 22,
   "metadata": {
    "ExecuteTime": {
     "end_time": "2019-11-25T04:49:31.659412Z",
     "start_time": "2019-11-25T04:49:31.655517Z"
    }
   },
   "outputs": [],
   "source": [
    "# Let's model some portfolios"
   ]
  },
  {
   "cell_type": "code",
   "execution_count": 31,
   "metadata": {
    "ExecuteTime": {
     "end_time": "2019-11-25T04:52:21.750263Z",
     "start_time": "2019-11-25T04:52:21.739475Z"
    },
    "code_folding": []
   },
   "outputs": [
    {
     "name": "stdout",
     "output_type": "stream",
     "text": [
      "Overwriting ../../lendingclub/modeling/portfolio_simulating.py\n"
     ]
    }
   ],
   "source": [
    "%%writefile ../../lendingclub/modeling/portfolio_simulating.py\n",
    "import numpy as np\n",
    "\n",
    "def make_loan_array(l_type, funded, pmt, rate, term, month, n_months, cfs, theoretic = False, end_m = None):\n",
    "    '''\n",
    "    3 l_types:\n",
    "    A) default immediately, take 5 months\n",
    "    B) Fully Prepay between 6-12 months. \n",
    "    C) Fully Prepay/pay between 24-36 months\n",
    "    month: what month the loan was invested in (starts at 0)\n",
    "    '''\n",
    "    if theoretic:\n",
    "        add_m = np.random.choice(np.arange(-3,4))\n",
    "        if l_type == 'A':\n",
    "            add_cfs = np.zeros(1)\n",
    "        else:\n",
    "            if l_type == 'B':\n",
    "                n_m = 9+add_m+1\n",
    "                print(n_m)\n",
    "            elif l_type == 'C':\n",
    "                n_m = 33+add_m+1\n",
    "            per = np.arange(n_m) + 1\n",
    "            add_cfs = np.tile(pmt, (n_m+1))\n",
    "            rem_princp = (1 - np.ppmt(rate, per, term, funded, 0).sum()).round(2)\n",
    "            add_cfs[-1] += rem_princp\n",
    "        add_cfs[0] = funded\n",
    "        cfs[month:month+len(add_cfs)] += add_cfs\n",
    "        return cfs\n",
    "    else:\n",
    "        # Only 2 l_types 'A' default and 'B' (pre)paid, use end_m\n",
    "        if l_type == 'A':\n",
    "            n_m = end_m\n",
    "            add_cfs = np.tile(pmt, int(n_m - (4)))\n",
    "        if l_type == 'B':\n",
    "            n_m = end_m\n",
    "            per = np.arange(n_m) + 1\n",
    "            add_cfs = np.tile(pmt, (int(n_m+1)))\n",
    "            rem_princp = (1 - np.ppmt(rate, per, term, funded, 0).sum()).round(2)\n",
    "            add_cfs[-1] += rem_princp\n",
    "        add_cfs[0] = funded\n",
    "        cfs[month:month+len(add_cfs)] += add_cfs\n",
    "        return cfs\n",
    "\n",
    "def sim_portfolio(n_months=120, starting_loans=2000, cfs=None, funded=-1,\n",
    "                  rate = .07/12, term = 36, theoretic = False, def_vs_pay_prob=[.15, .85]):\n",
    "    '''\n",
    "    Simulate a portfolio for INVESTING for n_months. Actual portfolio winddown\n",
    "    may take up to 36 months longer\n",
    "    funded is the loan amount that will be used (e.g. -1 is one dollar funded to loan)\n",
    "    '''\n",
    "    #2019-11-23 18:19:03 added these probability of def/pay loan ending in which month\n",
    "    def_m = (19.0, 20.0, 17.0, 23.0, 13.0, 16.0, 18.0, 15.0, 14.0, 21.0, 22.0, 24.0, 12.0, 25.0, 11.0, 26.0, 27.0, 28.0, 10.0, 30.0, 29.0, 31.0, 9.0, 33.0, 32.0, 34.0, 35.0, 36.0, 8.0, 7.0, 37.0, 38.0, 39.0, 6.0, 40.0, 5.0)\n",
    "    def_prob = (0.04215276249174554, 0.04171252476337222, 0.04105216817081224, 0.040721989874532245, 0.03962139555359894, 0.039181157825225625, 0.03896103896103896, 0.0387409200968523, 0.037860444640105656, 0.036429672022892365, 0.03543913713405239, 0.035108958837772396, 0.03499889940567907, 0.033678186220559105, 0.03345806735637244, 0.031587057010785825, 0.030706581554039183, 0.029826106097292537, 0.028285274047985913, 0.02806515518379925, 0.02784503631961259, 0.026194144838212634, 0.02443319392471935, 0.023992956196346026, 0.02201188641866608, 0.02168170812238609, 0.020360994937266123, 0.017609509134932862, 0.017499449702839533, 0.01694915254237288, 0.016178736517719568, 0.014417785604226283, 0.010455646048866387, 0.009134932863746423, 0.009134932863746423, 0.004512436715826546)\n",
    "    paid_m = (36.0, 35.0, 34.0, 23.0, 33.0, 29.0, 32.0, 20.0, 19.0, 22.0, 24.0, 25.0, 21.0, 17.0, 28.0, 31.0, 13.0, 14.0, 18.0, 30.0, 27.0, 16.0, 15.0, 26.0, 12.0, 11.0, 8.0, 10.0, 9.0, 7.0, 6.0, 5.0, 1.0, 4.0, 3.0, 2.0)\n",
    "    paid_prob = (0.2824742268041237, 0.039646539027982326, 0.025508100147275406, 0.02411389297987236, 0.023524791359842905, 0.02346588119783996, 0.02323024054982818, 0.022876779577810504, 0.022778595974472262, 0.022739322533136964, 0.02268041237113402, 0.022523318605792833, 0.022484045164457536, 0.02242513500245459, 0.02242513500245459, 0.02232695139911635, 0.02228767795778105, 0.021678939617083948, 0.021521845851742757, 0.02150220913107511, 0.02124693176239568, 0.02124693176239568, 0.02059891998036328, 0.020500736377025038, 0.02020618556701031, 0.019695630829651447, 0.01885125184094256, 0.018654884634266077, 0.018046146293568974, 0.01616102110947472, 0.015434462444771722, 0.013294059891998037, 0.012135493372606774, 0.01180166912125675, 0.00997545409916544, 0.009936180657830142)\n",
    "    \n",
    "    cfs=np.zeros(n_months + 37) if cfs is None else cfs\n",
    "    pmt = np.pmt(rate, term, funded, 0)\n",
    "    end_i = 0\n",
    "    for month in range(n_months):\n",
    "        if month == end_i:\n",
    "            for l in range(int(np.floor(starting_loans))):\n",
    "                if theoretic:\n",
    "                    l_type = np.random.choice(['A','B','C'], replace=True, p=[.1,.55,.35])\n",
    "                    cfs = make_loan_array(l_type, funded, pmt, rate, term, month, n_months, cfs)\n",
    "                else:\n",
    "                    l_type = np.random.choice(['A','B'], replace=True, p=def_vs_pay_prob)\n",
    "                    if l_type == 'A':\n",
    "                        end_m = np.random.choice(def_m, replace=True, p=def_prob)\n",
    "                    elif l_type == 'B':\n",
    "                        end_m = np.random.choice(paid_m, replace=True, p=paid_prob)\n",
    "                    cfs = make_loan_array(l_type, funded, pmt, rate, term, month, n_months, cfs, theoretic=False, end_m=end_m)\n",
    "            # calculate which month can reinvest next in\n",
    "            leftover_money = starting_loans % (l+1)\n",
    "            end_i = month+1\n",
    "            while leftover_money < abs(funded):\n",
    "                leftover_money += cfs[end_i]\n",
    "                end_i += 1\n",
    "            starting_loans = leftover_money\n",
    "    # returns the cfs, the net money made, and the annualized irr\n",
    "    return cfs, np.sum(cfs), np.irr(cfs)*12"
   ]
  },
  {
   "cell_type": "code",
   "execution_count": 9,
   "metadata": {
    "ExecuteTime": {
     "end_time": "2019-11-24T03:53:59.447315Z",
     "start_time": "2019-11-24T03:53:59.442064Z"
    },
    "scrolled": true
   },
   "outputs": [],
   "source": [
    "# n_months=120\n",
    "# month=0\n",
    "# starting_money = 2000\n",
    "# # m_start_loans= 10\n",
    "# cfs = np.zeros(n_months + 37)\n",
    "# funded = -1\n",
    "# rate = .07/12\n",
    "# term = 36\n",
    "# pmt = np.pmt(rate, term, funded, 0)\n",
    "# loan_types = ['A','B','C']\n",
    "# p=[.05,.7,.25]\n",
    "# end_i = 0\n",
    "# theoretic = False\n",
    "# for month in range(n_months):\n",
    "#     # sample your loan_types\n",
    "#     if month == end_i:\n",
    "# #         print('Month {0}'.format(end_i))\n",
    "#         for l in range(int(np.floor(starting_money))):\n",
    "#             if theoretic:\n",
    "#                 l_type = np.random.choice(['A','B','C'], replace=True, p=[.1,.55,.35])\n",
    "#                 cfs = make_loan_array(l_type, funded, pmt, rate, term, month, n_months, cfs)\n",
    "#             else:\n",
    "#                 l_type = np.random.choice(['A','B'], replace=True, p=[.15, .85])\n",
    "#                 if l_type == 'A':\n",
    "#                     end_m = np.random.choice(def_m, replace=True, p=def_prob)\n",
    "#                 elif l_type == 'B':\n",
    "#                     end_m = np.random.choice(paid_m, replace=True, p=paid_prob)\n",
    "# #                 print(l_type, end_m)\n",
    "#                 cfs = make_loan_array(l_type, funded, pmt, rate, term, month, n_months, cfs, theoretic=False, end_m=end_m)\n",
    "#         # calculate which month can reinvest next in\n",
    "# #         print('invest in {0} loans'.format(l+1))\n",
    "# #         print(cfs)\n",
    "#         leftover_money = starting_money % (l+1)\n",
    "# #         print(leftover_money, starting_money)\n",
    "#         end_i = month+1\n",
    "#         while leftover_money < abs(funded):\n",
    "#             leftover_money += cfs[end_i]\n",
    "#             end_i += 1\n",
    "#         starting_money = leftover_money\n",
    "# #         print(starting_money)\n",
    "# #     import ipdb; ipdb.set_trace()"
   ]
  },
  {
   "cell_type": "markdown",
   "metadata": {},
   "source": [
    "# To Delete"
   ]
  },
  {
   "cell_type": "code",
   "execution_count": null,
   "metadata": {},
   "outputs": [],
   "source": [
    "# def make_loan_array(l_type, funded, pmt, rate, term, month, n_months, cfs, theortic = False):\n",
    "#     '''\n",
    "#     3 l_types:\n",
    "#     A) default immediately, take 5 months\n",
    "#     B) Fully Prepay between 6-12 months. \n",
    "#     C) Fully Prepay/pay between 24-36 months\n",
    "#     month: what month the loan was invested in (starts at 0)\n",
    "#     '''\n",
    "#     if theoretic:\n",
    "#         add_m = np.random.choice(np.arange(-3,4))\n",
    "#         if l_type == 'A':\n",
    "#             add_cfs = np.zeros(1)\n",
    "#         else:\n",
    "#             if l_type == 'B':\n",
    "#                 n_m = 9+add_m+1\n",
    "#             elif l_type == 'C':\n",
    "#                 n_m = 33+add_m+1\n",
    "\n",
    "        \n",
    "# # __________________        \n",
    "#     if l_type == 'A':\n",
    "#         add_cfs = np.zeros(1)\n",
    "#     else:\n",
    "#         if l_type == 'B':\n",
    "#             n_m = 9+add_m+1\n",
    "#         elif l_type == 'C':\n",
    "#             n_m = 33+add_m+1\n",
    "#         per = np.arange(n_m) + 1\n",
    "#         add_cfs = np.tile(pmt, (n_m+1))\n",
    "#         rem_princp = (1 - np.ppmt(rate, per, term, funded, 0).sum()).round(2)\n",
    "#         add_cfs[-1] += rem_princp\n",
    "#     add_cfs[0] = funded\n",
    "#     cfs[month:month+len(add_cfs)] += add_cfs\n",
    "#     return cfs"
   ]
  }
 ],
 "metadata": {
  "kernelspec": {
   "display_name": "Python [conda env:lendingclub]",
   "language": "python",
   "name": "conda-env-lendingclub-py"
  },
  "language_info": {
   "codemirror_mode": {
    "name": "ipython",
    "version": 3
   },
   "file_extension": ".py",
   "mimetype": "text/x-python",
   "name": "python",
   "nbconvert_exporter": "python",
   "pygments_lexer": "ipython3",
   "version": "3.7.4"
  }
 },
 "nbformat": 4,
 "nbformat_minor": 2
}
