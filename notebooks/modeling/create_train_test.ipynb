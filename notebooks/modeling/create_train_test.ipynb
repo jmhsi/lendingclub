{
 "cells": [
  {
   "cell_type": "code",
   "execution_count": 1,
   "metadata": {
    "ExecuteTime": {
     "end_time": "2019-09-12T01:41:46.586803Z",
     "start_time": "2019-09-12T01:41:46.326020Z"
    }
   },
   "outputs": [],
   "source": [
    "import sys\n",
    "import os\n",
    "import pickle\n",
    "from tqdm import tqdm\n",
    "sys.path.append(os.path.join(os.path.expanduser('~'), 'projects'))\n",
    "import j_utils.munging as mg\n",
    "from lendingclub.lc_utils import gen_datasets\n",
    "import seaborn as sns\n",
    "\n",
    "pd.options.display.max_columns = 999\n",
    "pd.options.display.max_rows = 60\n",
    "pd.options.display.max_seq_items = None\n",
    "\n",
    "ppath = os.path.join(os.path.expanduser('~'), 'projects', 'lendingclub', )\n",
    "dpath = os.path.join(ppath,'data')\n",
    "\n",
    "# testing\n",
    "from pandas.testing import assert_frame_equal"
   ]
  },
  {
   "cell_type": "code",
   "execution_count": 69,
   "metadata": {
    "ExecuteTime": {
     "end_time": "2019-09-12T04:44:16.787003Z",
     "start_time": "2019-09-12T04:43:59.415954Z"
    }
   },
   "outputs": [],
   "source": [
    "base_loan_info = pd.read_feather(os.path.join(dpath, 'base_loan_info.fth'))\n",
    "eval_loan_info = pd.read_feather(os.path.join(dpath, 'eval_loan_info.fth'))\n",
    "pmt_hist = pd.read_feather(os.path.join(dpath, 'scaled_pmt_hist.fth'))"
   ]
  },
  {
   "cell_type": "markdown",
   "metadata": {},
   "source": [
    "for each model: \n",
    "\n",
    "Have one overall test set\n",
    "\n",
    "1) compare top30% of all test in aggregate\n",
    "\n",
    "2) compare month-by-month top30%\n",
    "\n",
    "From the test set make 10 bootstrap month by month test sets\n",
    "\n",
    "3) compare bootstrap month-by-month top30%\n",
    "\n"
   ]
  },
  {
   "cell_type": "markdown",
   "metadata": {},
   "source": [
    "# How to decide where to select split date?\n",
    "# by issue_d, what % of loans have a stat_adj maturity_time/paid greater than .95"
   ]
  },
  {
   "cell_type": "code",
   "execution_count": 4,
   "metadata": {
    "ExecuteTime": {
     "end_time": "2019-09-12T01:43:10.141392Z",
     "start_time": "2019-09-12T01:43:10.082436Z"
    }
   },
   "outputs": [],
   "source": [
    "issue_d_grouped = eval_loan_info.groupby('issue_d')"
   ]
  },
  {
   "cell_type": "code",
   "execution_count": 26,
   "metadata": {
    "ExecuteTime": {
     "end_time": "2019-09-12T01:52:23.187123Z",
     "start_time": "2019-09-12T01:52:22.198880Z"
    }
   },
   "outputs": [],
   "source": [
    "doneness = .95\n",
    "doneness_dict = {}\n",
    "issuances_dict = {}\n",
    "for d, group in issue_d_grouped:\n",
    "    doneness_dict[d] = group.eval('maturity_time_stat_adj >= @doneness or maturity_paid_stat_adj >= @doneness').sum()/len(group)\n",
    "    issuances_dict[d] = len(group)"
   ]
  },
  {
   "cell_type": "code",
   "execution_count": 27,
   "metadata": {
    "ExecuteTime": {
     "end_time": "2019-09-12T01:52:24.167949Z",
     "start_time": "2019-09-12T01:52:23.990518Z"
    }
   },
   "outputs": [
    {
     "data": {
      "text/plain": [
       "(0.78, 1.02)"
      ]
     },
     "execution_count": 27,
     "metadata": {},
     "output_type": "execute_result"
    },
    {
     "data": {
      "image/png": "[encoded data removed]",
      "text/plain": [
       "<Figure size 864x576 with 1 Axes>"
      ]
     },
     "metadata": {
      "needs_background": "light"
     },
     "output_type": "display_data"
    }
   ],
   "source": [
    "ax = pd.Series(doneness_dict).plot(figsize=(12,8))\n",
    "ax.set_ylim(.78, 1.02)"
   ]
  },
  {
   "cell_type": "code",
   "execution_count": 28,
   "metadata": {
    "ExecuteTime": {
     "end_time": "2019-09-12T01:53:07.691001Z",
     "start_time": "2019-09-12T01:53:07.669398Z"
    }
   },
   "outputs": [],
   "source": [
    "doneness_df = pd.DataFrame({'n_issued': issuances_dict, 'pct_doneness_thrsh': doneness_dict})"
   ]
  },
  {
   "cell_type": "code",
   "execution_count": 31,
   "metadata": {
    "ExecuteTime": {
     "end_time": "2019-09-12T01:53:38.521760Z",
     "start_time": "2019-09-12T01:53:38.491826Z"
    },
    "scrolled": true
   },
   "outputs": [
    {
     "data": {
      "text/html": [
       "<div>\n",
       "<style scoped>\n",
       "    .dataframe tbody tr th:only-of-type {\n",
       "        vertical-align: middle;\n",
       "    }\n",
       "\n",
       "    .dataframe tbody tr th {\n",
       "        vertical-align: top;\n",
       "    }\n",
       "\n",
       "    .dataframe thead th {\n",
       "        text-align: right;\n",
       "    }\n",
       "</style>\n",
       "<table border=\"1\" class=\"dataframe\">\n",
       "  <thead>\n",
       "    <tr style=\"text-align: right;\">\n",
       "      <th></th>\n",
       "      <th>n_issued</th>\n",
       "      <th>pct_doneness_thrsh</th>\n",
       "    </tr>\n",
       "  </thead>\n",
       "  <tbody>\n",
       "    <tr>\n",
       "      <th>2007-08-01</th>\n",
       "      <td>21</td>\n",
       "      <td>1.000000</td>\n",
       "    </tr>\n",
       "    <tr>\n",
       "      <th>2007-09-01</th>\n",
       "      <td>50</td>\n",
       "      <td>1.000000</td>\n",
       "    </tr>\n",
       "    <tr>\n",
       "      <th>2007-10-01</th>\n",
       "      <td>103</td>\n",
       "      <td>1.000000</td>\n",
       "    </tr>\n",
       "    <tr>\n",
       "      <th>2007-11-01</th>\n",
       "      <td>112</td>\n",
       "      <td>1.000000</td>\n",
       "    </tr>\n",
       "    <tr>\n",
       "      <th>2007-12-01</th>\n",
       "      <td>172</td>\n",
       "      <td>1.000000</td>\n",
       "    </tr>\n",
       "    <tr>\n",
       "      <th>2008-01-01</th>\n",
       "      <td>305</td>\n",
       "      <td>1.000000</td>\n",
       "    </tr>\n",
       "    <tr>\n",
       "      <th>2008-02-01</th>\n",
       "      <td>306</td>\n",
       "      <td>1.000000</td>\n",
       "    </tr>\n",
       "    <tr>\n",
       "      <th>2008-03-01</th>\n",
       "      <td>402</td>\n",
       "      <td>1.000000</td>\n",
       "    </tr>\n",
       "    <tr>\n",
       "      <th>2008-04-01</th>\n",
       "      <td>259</td>\n",
       "      <td>1.000000</td>\n",
       "    </tr>\n",
       "    <tr>\n",
       "      <th>2008-05-01</th>\n",
       "      <td>115</td>\n",
       "      <td>1.000000</td>\n",
       "    </tr>\n",
       "    <tr>\n",
       "      <th>2008-06-01</th>\n",
       "      <td>124</td>\n",
       "      <td>1.000000</td>\n",
       "    </tr>\n",
       "    <tr>\n",
       "      <th>2008-07-01</th>\n",
       "      <td>141</td>\n",
       "      <td>1.000000</td>\n",
       "    </tr>\n",
       "    <tr>\n",
       "      <th>2008-08-01</th>\n",
       "      <td>100</td>\n",
       "      <td>1.000000</td>\n",
       "    </tr>\n",
       "    <tr>\n",
       "      <th>2008-09-01</th>\n",
       "      <td>57</td>\n",
       "      <td>1.000000</td>\n",
       "    </tr>\n",
       "    <tr>\n",
       "      <th>2008-10-01</th>\n",
       "      <td>122</td>\n",
       "      <td>1.000000</td>\n",
       "    </tr>\n",
       "    <tr>\n",
       "      <th>2008-11-01</th>\n",
       "      <td>209</td>\n",
       "      <td>1.000000</td>\n",
       "    </tr>\n",
       "    <tr>\n",
       "      <th>2008-12-01</th>\n",
       "      <td>253</td>\n",
       "      <td>1.000000</td>\n",
       "    </tr>\n",
       "    <tr>\n",
       "      <th>2009-01-01</th>\n",
       "      <td>269</td>\n",
       "      <td>1.000000</td>\n",
       "    </tr>\n",
       "    <tr>\n",
       "      <th>2009-02-01</th>\n",
       "      <td>302</td>\n",
       "      <td>1.000000</td>\n",
       "    </tr>\n",
       "    <tr>\n",
       "      <th>2009-03-01</th>\n",
       "      <td>324</td>\n",
       "      <td>1.000000</td>\n",
       "    </tr>\n",
       "    <tr>\n",
       "      <th>2009-04-01</th>\n",
       "      <td>333</td>\n",
       "      <td>1.000000</td>\n",
       "    </tr>\n",
       "    <tr>\n",
       "      <th>2009-05-01</th>\n",
       "      <td>359</td>\n",
       "      <td>1.000000</td>\n",
       "    </tr>\n",
       "    <tr>\n",
       "      <th>2009-06-01</th>\n",
       "      <td>406</td>\n",
       "      <td>1.000000</td>\n",
       "    </tr>\n",
       "    <tr>\n",
       "      <th>2009-07-01</th>\n",
       "      <td>411</td>\n",
       "      <td>1.000000</td>\n",
       "    </tr>\n",
       "    <tr>\n",
       "      <th>2009-08-01</th>\n",
       "      <td>446</td>\n",
       "      <td>1.000000</td>\n",
       "    </tr>\n",
       "    <tr>\n",
       "      <th>2009-09-01</th>\n",
       "      <td>507</td>\n",
       "      <td>1.000000</td>\n",
       "    </tr>\n",
       "    <tr>\n",
       "      <th>2009-10-01</th>\n",
       "      <td>604</td>\n",
       "      <td>1.000000</td>\n",
       "    </tr>\n",
       "    <tr>\n",
       "      <th>2009-11-01</th>\n",
       "      <td>662</td>\n",
       "      <td>1.000000</td>\n",
       "    </tr>\n",
       "    <tr>\n",
       "      <th>2009-12-01</th>\n",
       "      <td>658</td>\n",
       "      <td>1.000000</td>\n",
       "    </tr>\n",
       "    <tr>\n",
       "      <th>2010-01-01</th>\n",
       "      <td>662</td>\n",
       "      <td>1.000000</td>\n",
       "    </tr>\n",
       "    <tr>\n",
       "      <th>...</th>\n",
       "      <td>...</td>\n",
       "      <td>...</td>\n",
       "    </tr>\n",
       "    <tr>\n",
       "      <th>2014-02-01</th>\n",
       "      <td>15269</td>\n",
       "      <td>1.000000</td>\n",
       "    </tr>\n",
       "    <tr>\n",
       "      <th>2014-03-01</th>\n",
       "      <td>16513</td>\n",
       "      <td>1.000000</td>\n",
       "    </tr>\n",
       "    <tr>\n",
       "      <th>2014-04-01</th>\n",
       "      <td>19071</td>\n",
       "      <td>1.000000</td>\n",
       "    </tr>\n",
       "    <tr>\n",
       "      <th>2014-05-01</th>\n",
       "      <td>19099</td>\n",
       "      <td>1.000000</td>\n",
       "    </tr>\n",
       "    <tr>\n",
       "      <th>2014-06-01</th>\n",
       "      <td>17179</td>\n",
       "      <td>1.000000</td>\n",
       "    </tr>\n",
       "    <tr>\n",
       "      <th>2014-07-01</th>\n",
       "      <td>29306</td>\n",
       "      <td>1.000000</td>\n",
       "    </tr>\n",
       "    <tr>\n",
       "      <th>2014-08-01</th>\n",
       "      <td>18814</td>\n",
       "      <td>1.000000</td>\n",
       "    </tr>\n",
       "    <tr>\n",
       "      <th>2014-09-01</th>\n",
       "      <td>10606</td>\n",
       "      <td>0.949745</td>\n",
       "    </tr>\n",
       "    <tr>\n",
       "      <th>2014-10-01</th>\n",
       "      <td>38783</td>\n",
       "      <td>0.941108</td>\n",
       "    </tr>\n",
       "    <tr>\n",
       "      <th>2014-11-01</th>\n",
       "      <td>25054</td>\n",
       "      <td>0.926359</td>\n",
       "    </tr>\n",
       "    <tr>\n",
       "      <th>2014-12-01</th>\n",
       "      <td>10307</td>\n",
       "      <td>0.918890</td>\n",
       "    </tr>\n",
       "    <tr>\n",
       "      <th>2015-01-01</th>\n",
       "      <td>35107</td>\n",
       "      <td>0.928191</td>\n",
       "    </tr>\n",
       "    <tr>\n",
       "      <th>2015-02-01</th>\n",
       "      <td>23770</td>\n",
       "      <td>0.920782</td>\n",
       "    </tr>\n",
       "    <tr>\n",
       "      <th>2015-03-01</th>\n",
       "      <td>25400</td>\n",
       "      <td>0.914567</td>\n",
       "    </tr>\n",
       "    <tr>\n",
       "      <th>2015-04-01</th>\n",
       "      <td>35427</td>\n",
       "      <td>0.908996</td>\n",
       "    </tr>\n",
       "    <tr>\n",
       "      <th>2015-05-01</th>\n",
       "      <td>31913</td>\n",
       "      <td>0.910319</td>\n",
       "    </tr>\n",
       "    <tr>\n",
       "      <th>2015-06-01</th>\n",
       "      <td>28485</td>\n",
       "      <td>0.905389</td>\n",
       "    </tr>\n",
       "    <tr>\n",
       "      <th>2015-07-01</th>\n",
       "      <td>45962</td>\n",
       "      <td>0.905226</td>\n",
       "    </tr>\n",
       "    <tr>\n",
       "      <th>2015-08-01</th>\n",
       "      <td>35886</td>\n",
       "      <td>0.895363</td>\n",
       "    </tr>\n",
       "    <tr>\n",
       "      <th>2015-09-01</th>\n",
       "      <td>28641</td>\n",
       "      <td>0.890088</td>\n",
       "    </tr>\n",
       "    <tr>\n",
       "      <th>2015-10-01</th>\n",
       "      <td>48631</td>\n",
       "      <td>0.896342</td>\n",
       "    </tr>\n",
       "    <tr>\n",
       "      <th>2015-11-01</th>\n",
       "      <td>37530</td>\n",
       "      <td>0.889528</td>\n",
       "    </tr>\n",
       "    <tr>\n",
       "      <th>2015-12-01</th>\n",
       "      <td>44343</td>\n",
       "      <td>0.894256</td>\n",
       "    </tr>\n",
       "    <tr>\n",
       "      <th>2016-01-01</th>\n",
       "      <td>32365</td>\n",
       "      <td>0.894732</td>\n",
       "    </tr>\n",
       "    <tr>\n",
       "      <th>2016-02-01</th>\n",
       "      <td>39529</td>\n",
       "      <td>0.897417</td>\n",
       "    </tr>\n",
       "    <tr>\n",
       "      <th>2016-03-01</th>\n",
       "      <td>61992</td>\n",
       "      <td>0.893728</td>\n",
       "    </tr>\n",
       "    <tr>\n",
       "      <th>2016-04-01</th>\n",
       "      <td>36432</td>\n",
       "      <td>0.909448</td>\n",
       "    </tr>\n",
       "    <tr>\n",
       "      <th>2016-05-01</th>\n",
       "      <td>28403</td>\n",
       "      <td>0.900926</td>\n",
       "    </tr>\n",
       "    <tr>\n",
       "      <th>2016-06-01</th>\n",
       "      <td>33019</td>\n",
       "      <td>0.893425</td>\n",
       "    </tr>\n",
       "    <tr>\n",
       "      <th>2016-07-01</th>\n",
       "      <td>34696</td>\n",
       "      <td>0.890650</td>\n",
       "    </tr>\n",
       "  </tbody>\n",
       "</table>\n",
       "<p>108 rows × 2 columns</p>\n",
       "</div>"
      ],
      "text/plain": [
       "            n_issued  pct_doneness_thrsh\n",
       "2007-08-01        21            1.000000\n",
       "2007-09-01        50            1.000000\n",
       "2007-10-01       103            1.000000\n",
       "2007-11-01       112            1.000000\n",
       "2007-12-01       172            1.000000\n",
       "...              ...                 ...\n",
       "2016-03-01     61992            0.893728\n",
       "2016-04-01     36432            0.909448\n",
       "2016-05-01     28403            0.900926\n",
       "2016-06-01     33019            0.893425\n",
       "2016-07-01     34696            0.890650\n",
       "\n",
       "[108 rows x 2 columns]"
      ]
     },
     "execution_count": 31,
     "metadata": {},
     "output_type": "execute_result"
    }
   ],
   "source": [
    "doneness_df[doneness_df['pct_doneness_thrsh'] > .8]"
   ]
  },
  {
   "cell_type": "code",
   "execution_count": 32,
   "metadata": {
    "ExecuteTime": {
     "end_time": "2019-09-12T02:54:26.315304Z",
     "start_time": "2019-09-12T02:54:26.296199Z"
    }
   },
   "outputs": [],
   "source": [
    "#from 2010-1-1 onward, take out max(90%, n-2000) loans to set aside as train"
   ]
  },
  {
   "cell_type": "code",
   "execution_count": 55,
   "metadata": {
    "ExecuteTime": {
     "end_time": "2019-09-12T04:36:02.311871Z",
     "start_time": "2019-09-12T04:35:59.235388Z"
    }
   },
   "outputs": [],
   "source": [
    "doneness = .95\n",
    "train_testable_eval_loan_info = eval_loan_info.query('maturity_time_stat_adj >= @doneness or maturity_paid_stat_adj >= @doneness')\n",
    "train_testable_ids = train_testable_eval_loan_info['id']\n",
    "train_testable_loan_info = base_loan_info.query('id in @train_testable_ids')\n",
    "\n",
    "assert train_testable_eval_loan_info.shape[0] == train_testable_loan_info.shape[0]\n",
    "\n",
    "train_testable_eval_loan_info.reset_index(drop=True).to_feather(os.path.join(dpath, 'train_testable_eval_loan_info.fth'))\n",
    "train_testable_loan_info.reset_index(drop=True).to_feather(os.path.join(dpath, 'train_testable_loan_info.fth'))"
   ]
  },
  {
   "cell_type": "code",
   "execution_count": 76,
   "metadata": {
    "ExecuteTime": {
     "end_time": "2019-09-12T04:46:11.620943Z",
     "start_time": "2019-09-12T04:46:09.504221Z"
    }
   },
   "outputs": [],
   "source": [
    "train_testable_eval_loan_info = pd.read_feather(os.path.join(dpath, 'train_testable_eval_loan_info.fth'))\n",
    "train_testable_loan_info = pd.read_feather(os.path.join(dpath, 'train_testable_loan_info.fth'))"
   ]
  },
  {
   "cell_type": "code",
   "execution_count": 77,
   "metadata": {
    "ExecuteTime": {
     "end_time": "2019-09-12T04:46:12.270718Z",
     "start_time": "2019-09-12T04:46:12.225871Z"
    }
   },
   "outputs": [],
   "source": [
    "issue_d_g = train_testable_eval_loan_info.groupby('issue_d')"
   ]
  },
  {
   "cell_type": "code",
   "execution_count": 101,
   "metadata": {
    "ExecuteTime": {
     "end_time": "2019-09-12T04:59:32.780855Z",
     "start_time": "2019-09-12T04:59:32.275260Z"
    }
   },
   "outputs": [],
   "source": [
    "test_ids = []\n",
    "for date, group in issue_d_g:\n",
    "    if date >= pd.to_datetime('2010-1-1'):\n",
    "        test_ids.extend(group.sample(n = min(int(len(group)*.1), 2000))['id'].tolist())"
   ]
  },
  {
   "cell_type": "code",
   "execution_count": 107,
   "metadata": {
    "ExecuteTime": {
     "end_time": "2019-09-12T05:01:46.835338Z",
     "start_time": "2019-09-12T05:01:45.694965Z"
    }
   },
   "outputs": [],
   "source": [
    "test_eval_loan_info = train_testable_eval_loan_info.query('id in @test_ids')\n",
    "test_loan_info = train_testable_loan_info.query('id in @test_ids')\n",
    "\n",
    "train_eval_loan_info = train_testable_eval_loan_info.query('id not in @test_ids')\n",
    "train_loan_info = train_testable_loan_info.query('id not in @test_ids')"
   ]
  },
  {
   "cell_type": "code",
   "execution_count": 126,
   "metadata": {
    "ExecuteTime": {
     "end_time": "2019-09-12T17:17:35.370045Z",
     "start_time": "2019-09-12T17:17:35.344508Z"
    }
   },
   "outputs": [],
   "source": [
    "def check_not_same_loans(tr, te, to):\n",
    "    if len(set(tr['id']).intersection(set(te['id']))) == 0: return True\n",
    "    else: return False\n",
    "    \n",
    "def check_all_loans_accounted(tr, te, to):\n",
    "    if tr.shape[0] + te.shape[0] == to.shape[0]: return True\n",
    "    else: return False\n",
    "    \n",
    "def check_same_n_instances(df1, df2):\n",
    "    if df1.shape[0] == df2.shape[0]: return True\n",
    "    else: return False\n",
    "    \n",
    "def check_same_n_cols(df1, df2):\n",
    "    if df1.shape[1] == df2.shape[1]: return True\n",
    "    else: return False    \n",
    "    \n",
    "def check_train_test_testable(train, test, testable, train1, test1, testable1):\n",
    "    '''\n",
    "    First set for loan_info, second set for eval_loan_info\n",
    "    '''\n",
    "    print(train.shape, test.shape, testable.shape, train1.shape, test1.shape, testable1.shape)\n",
    "    assert check_not_same_loans(train, test, testable)\n",
    "    assert check_all_loans_accounted(train, test , testable)\n",
    "    assert check_not_same_loans(train1, test1, testable1)\n",
    "    assert check_all_loans_accounted(train1, test1 , testable1)\n",
    "    assert check_same_n_instances(train, train1)\n",
    "    assert check_same_n_instances(test, test1)\n",
    "    assert check_same_n_instances(testable, testable1)\n",
    "    assert check_same_n_cols(train, test)\n",
    "    assert check_same_n_cols(train1, test1)\n",
    "    return True"
   ]
  },
  {
   "cell_type": "code",
   "execution_count": 127,
   "metadata": {
    "ExecuteTime": {
     "end_time": "2019-09-12T17:17:36.661276Z",
     "start_time": "2019-09-12T17:17:36.173988Z"
    }
   },
   "outputs": [
    {
     "name": "stdout",
     "output_type": "stream",
     "text": [
      "(1354333, 46) (118856, 46) (1473189, 46) (1354333, 103) (118856, 103) (1473189, 103)\n"
     ]
    },
    {
     "data": {
      "text/plain": [
       "True"
      ]
     },
     "execution_count": 127,
     "metadata": {},
     "output_type": "execute_result"
    }
   ],
   "source": [
    "check_train_test_testable(train_eval_loan_info, test_eval_loan_info, train_testable_eval_loan_info,\n",
    "                          train_loan_info, test_loan_info, train_testable_loan_info)"
   ]
  },
  {
   "cell_type": "code",
   "execution_count": 130,
   "metadata": {
    "ExecuteTime": {
     "end_time": "2019-09-12T17:22:30.229387Z",
     "start_time": "2019-09-12T17:22:28.119165Z"
    }
   },
   "outputs": [],
   "source": [
    "# save\n",
    "test_eval_loan_info.reset_index(drop=True).to_feather(os.path.join(dpath, 'test_eval_loan_info.fth'))\n",
    "test_loan_info.reset_index(drop=True).to_feather(os.path.join(dpath, 'test_loan_info.fth'))\n",
    "train_eval_loan_info.reset_index(drop=True).to_feather(os.path.join(dpath, 'train_eval_loan_info.fth'))\n",
    "train_loan_info.reset_index(drop=True).to_feather(os.path.join(dpath, 'train_loan_info.fth'))"
   ]
  },
  {
   "cell_type": "code",
   "execution_count": 148,
   "metadata": {
    "ExecuteTime": {
     "end_time": "2019-09-12T19:21:14.036874Z",
     "start_time": "2019-09-12T19:21:10.882878Z"
    }
   },
   "outputs": [],
   "source": [
    "# make 10 bootstrap month-by-month test_loan_infos (and maybe test_eval_loan_infos?)\n",
    "issue_d_g = test_eval_loan_info.groupby('issue_d')\n",
    "for i in range(10):\n",
    "    to_concat = []\n",
    "    for d, g in issue_d_g:\n",
    "        to_concat.append(g.sample(len(g), replace=True))\n",
    "    df = pd.concat(to_concat)\n",
    "    df.reset_index(drop=True).to_feather(os.path.join(dpath, 'test_eval_loan_info_{0}_bootstrap.fth'.format(i)))"
   ]
  },
  {
   "cell_type": "code",
   "execution_count": 150,
   "metadata": {
    "ExecuteTime": {
     "end_time": "2019-09-12T19:30:07.211331Z",
     "start_time": "2019-09-12T19:30:06.770899Z"
    }
   },
   "outputs": [
    {
     "name": "stdout",
     "output_type": "stream",
     "text": [
      "\u001b[0m\u001b[01;32mbase_loan_info.fth\u001b[0m*              test_eval_loan_info_0_bootstrap.fth\r\n",
      "bsmbm_top30_df.csv               test_eval_loan_info_1_bootstrap.fth\r\n",
      "\u001b[01;32mclean_pmt_history_1.fth\u001b[0m*         test_eval_loan_info_2_bootstrap.fth\r\n",
      "\u001b[01;32mclean_pmt_history_2.fth\u001b[0m*         test_eval_loan_info_3_bootstrap.fth\r\n",
      "\u001b[01;32mclean_pmt_history_3.fth\u001b[0m*         test_eval_loan_info_4_bootstrap.fth\r\n",
      "\u001b[01;34mcsvs\u001b[0m/                            test_eval_loan_info_5_bootstrap.fth\r\n",
      "\u001b[01;32meval_loan_info.fth\u001b[0m*              test_eval_loan_info_6_bootstrap.fth\r\n",
      "\u001b[01;32mexample.py\u001b[0m*                      test_eval_loan_info_7_bootstrap.fth\r\n",
      "\u001b[01;32mloan_info_api_name_matched.fth\u001b[0m*  test_eval_loan_info_8_bootstrap.fth\r\n",
      "\u001b[01;32mloan_info.fth\u001b[0m*                   test_eval_loan_info_9_bootstrap.fth\r\n",
      "mbm_top30_df.csv                 test_eval_loan_info.fth\r\n",
      "model_returns_dict.pkl           test_loan_info.fth\r\n",
      "npv_roi_df.fth                   train_eval_loan_info.fth\r\n",
      "\u001b[01;32mraw_loan_info.fth\u001b[0m*               train_loan_info.fth\r\n",
      "\u001b[01;32mscaled_pmt_hist.fth\u001b[0m*             train_testable_eval_loan_info.fth\r\n",
      "\u001b[01;32mstrings_loan_info_df.fth\u001b[0m*        train_testable_loan_info.fth\r\n",
      "\u001b[01;32mstr_loan_info.fth\u001b[0m*               whole_top30_df.csv\r\n"
     ]
    }
   ],
   "source": [
    "ls {dpath}"
   ]
  },
  {
   "cell_type": "code",
   "execution_count": null,
   "metadata": {},
   "outputs": [],
   "source": []
  }
 ],
 "metadata": {
  "kernelspec": {
   "display_name": "Python 3",
   "language": "python",
   "name": "python3"
  },
  "language_info": {
   "codemirror_mode": {
    "name": "ipython",
    "version": 3
   },
   "file_extension": ".py",
   "mimetype": "text/x-python",
   "name": "python",
   "nbconvert_exporter": "python",
   "pygments_lexer": "ipython3",
   "version": "3.6.7"
  }
 },
 "nbformat": 4,
 "nbformat_minor": 2
}
