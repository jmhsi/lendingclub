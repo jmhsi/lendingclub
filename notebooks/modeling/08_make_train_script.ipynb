{
 "cells": [
  {
   "cell_type": "code",
   "execution_count": 1,
   "metadata": {},
   "outputs": [],
   "source": [
    "%load_ext autoreload\n",
    "%autoreload 2"
   ]
  },
  {
   "cell_type": "code",
   "execution_count": 2,
   "metadata": {},
   "outputs": [],
   "source": [
    "import os\n",
    "import pickle\n",
    "import sys\n",
    "\n",
    "import numpy as np\n",
    "import pandas as pd\n",
    "import seaborn as sns\n",
    "# testing\n",
    "from pandas.testing import assert_frame_equal\n",
    "from tqdm import tqdm\n",
    "\n",
    "import j_utils.munging as mg\n",
    "from lendingclub.lc_utils import gen_datasets\n",
    "from lendingclub import config\n",
    "\n",
    "pd.options.display.max_columns = 999\n",
    "pd.options.display.max_rows = 60\n",
    "pd.options.display.max_seq_items = None"
   ]
  },
  {
   "cell_type": "markdown",
   "metadata": {},
   "source": [
    "# Make the train script"
   ]
  },
  {
   "cell_type": "markdown",
   "metadata": {},
   "source": [
    "input should be model type (should try to accept list)\n",
    "bundled with the parameters for each type of model\n",
    "\n",
    "should return/create the saved model and anything necessary for data processing\n",
    "for the model"
   ]
  },
  {
   "cell_type": "code",
   "execution_count": 32,
   "metadata": {
    "ExecuteTime": {
     "end_time": "2019-10-10T00:09:59.162535Z",
     "start_time": "2019-10-10T00:09:59.141490Z"
    }
   },
   "outputs": [
    {
     "name": "stdout",
     "output_type": "stream",
     "text": [
      "Overwriting ../../lendingclub/modeling/08_train.py\n"
     ]
    }
   ],
   "source": [
    "%%writefile ../../lendingclub/modeling/08_train.py\n",
    "import os\n",
    "import sys\n",
    "import argparse\n",
    "import pickle\n",
    "import numpy as np\n",
    "import pandas as pd\n",
    "from lendingclub import config, utils\n",
    "\n",
    "parser = argparse.ArgumentParser()\n",
    "parser.add_argument('--model', '-m', help='specify model(s) to train')\n",
    "\n",
    "if not len(sys.argv) > 1:\n",
    "    models = ['baseline'] # , 'A', 'B', 'C', 'D', 'E', 'F', 'G'\n",
    "\n",
    "args = parser.parse_args()\n",
    "if args.model:\n",
    "    models = args.model.split()\n",
    "\n",
    "def prepare_data(model_n, data):\n",
    "    if model_n in ['baseline', 'A', 'B', 'C', 'D', 'E', 'F', 'G']:\n",
    "        return data, None\n",
    "    \n",
    "def train_model(model_n):\n",
    "    if model_n in ['baseline', 'A', 'B', 'C', 'D', 'E', 'F', 'G']:\n",
    "        return 42\n",
    "    \n",
    "def export_models(m, model_n):\n",
    "    if model_n in ['baseline', 'A', 'B', 'C', 'D', 'E', 'F', 'G']:\n",
    "        with open(os.path.join(config.modeling_dir, '{0}_model.pkl'.format(model_n)), 'wb') as file:\n",
    "            pickle.dump(m, file)\n",
    "    \n",
    "def export_data_processing(data_proc, model_n):\n",
    "    if model_n in ['baseline', 'A', 'B', 'C', 'D', 'E', 'F', 'G']:\n",
    "        with open(os.path.join(config.modeling_dir, '{0}_model_dataproc.pkl'.format(model_n)), 'wb') as file:\n",
    "            pickle.dump(data_proc, file)\n",
    "\n",
    "if not os.path.isdir(config.modeling_dir):\n",
    "    os.makedirs(config.modeling_dir)\n",
    "\n",
    "train_data, _, _ = utils.load_dataset(ds_type='train')\n",
    "\n",
    "for model_n in models:\n",
    "    procced_data, data_proc = prepare_data(model_n, train_data)\n",
    "    m = train_model(model_n)\n",
    "#     print(model_n, m, type(m))\n",
    "    \n",
    "    #save stuff\n",
    "    export_models(m, model_n)\n",
    "    export_data_processing(data_proc, model_n)"
   ]
  },
  {
   "cell_type": "code",
   "execution_count": null,
   "metadata": {},
   "outputs": [],
   "source": []
  }
 ],
 "metadata": {
  "kernelspec": {
   "display_name": "Python [conda env:lendingclub]",
   "language": "python",
   "name": "conda-env-lendingclub-py"
  },
  "language_info": {
   "codemirror_mode": {
    "name": "ipython",
    "version": 3
   },
   "file_extension": ".py",
   "mimetype": "text/x-python",
   "name": "python",
   "nbconvert_exporter": "python",
   "pygments_lexer": "ipython3",
   "version": "3.7.4"
  }
 },
 "nbformat": 4,
 "nbformat_minor": 2
}
