{
 "cells": [
  {
   "cell_type": "code",
   "execution_count": 1,
   "metadata": {
    "ExecuteTime": {
     "end_time": "2019-10-20T00:16:03.385582Z",
     "start_time": "2019-10-20T00:16:02.809871Z"
    }
   },
   "outputs": [],
   "source": [
    "from lendingclub import config\n",
    "import pandas as pd\n",
    "import os"
   ]
  },
  {
   "cell_type": "code",
   "execution_count": 3,
   "metadata": {
    "ExecuteTime": {
     "end_time": "2019-10-20T00:16:09.325073Z",
     "start_time": "2019-10-20T00:16:09.309840Z"
    }
   },
   "outputs": [
    {
     "name": "stdout",
     "output_type": "stream",
     "text": [
      "(4999, 90)\n"
     ]
    }
   ],
   "source": [
    "base_loan_info = pd.read_feather(os.path.join(config.data_dir, 'base_loan_info.fth'))\n",
    "print(base_loan_info.shape)"
   ]
  },
  {
   "cell_type": "code",
   "execution_count": null,
   "metadata": {},
   "outputs": [],
   "source": []
  }
 ],
 "metadata": {
  "kernelspec": {
   "display_name": "Python [conda env:lendingclub]",
   "language": "python",
   "name": "conda-env-lendingclub-py"
  },
  "language_info": {
   "codemirror_mode": {
    "name": "ipython",
    "version": 3
   },
   "file_extension": ".py",
   "mimetype": "text/x-python",
   "name": "python",
   "nbconvert_exporter": "python",
   "pygments_lexer": "ipython3",
   "version": "3.7.4"
  }
 },
 "nbformat": 4,
 "nbformat_minor": 2
}
