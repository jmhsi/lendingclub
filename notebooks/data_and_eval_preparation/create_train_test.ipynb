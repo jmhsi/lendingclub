{
 "cells": [
  {
   "cell_type": "markdown",
   "metadata": {},
   "source": [
    "# script"
   ]
  },
  {
   "cell_type": "code",
   "execution_count": null,
   "metadata": {},
   "outputs": [],
   "source": [
    "pd.set_option('display.max_columns', 999)"
   ]
  },
  {
   "cell_type": "code",
   "execution_count": 19,
   "metadata": {
    "ExecuteTime": {
     "end_time": "2019-10-09T21:30:49.960289Z",
     "start_time": "2019-10-09T21:30:49.950959Z"
    },
    "scrolled": true
   },
   "outputs": [
    {
     "name": "stdout",
     "output_type": "stream",
     "text": [
      "Overwriting ../../lendingclub/data_and_eval_preparation/07_create_train_test.py\n"
     ]
    }
   ],
   "source": [
    "%%writefile ../../lendingclub/data_and_eval_preparation/07_create_train_test.py\n",
    "'''\n",
    "this makes the train and test sets as well as bootstrapped sets.\n",
    "trainable loans are loans that are \"done\" enough\n",
    "'''\n",
    "import os\n",
    "import pickle\n",
    "\n",
    "import pandas as pd\n",
    "# testing\n",
    "\n",
    "from lendingclub import config\n",
    "\n",
    "dpath = config.data_dir\n",
    "base_loan_info = pd.read_feather(os.path.join(dpath, 'base_loan_info.fth'))\n",
    "eval_loan_info = pd.read_feather(os.path.join(dpath, 'eval_loan_info.fth'))\n",
    "pmt_hist = pd.read_feather(os.path.join(dpath, 'scaled_pmt_hist.fth'))\n",
    "\n",
    "def check_sample_distribution(df, sample, diff_thrsh=.05, check_cols=[], verbose=True):\n",
    "    '''\n",
    "    check if the distribution of the sample's col and df's col is sufficiently\n",
    "    close. Default tolerance is 1% difference\n",
    "    '''\n",
    "    if not check_cols:\n",
    "        check_cols = df.columns\n",
    "    pop_n = len(df)\n",
    "    s_n = len(sample)\n",
    "    sample_miss = {}\n",
    "    big_pct_diff = {}\n",
    "    for col in check_cols:\n",
    "        pop_group = df[col].value_counts(dropna=False)/pop_n\n",
    "        s_group = sample[col].value_counts(dropna=False)/s_n\n",
    "        temp_miss = {}\n",
    "        temp_diff = {}\n",
    "        for k in pop_group.keys():\n",
    "            if k not in s_group.keys():\n",
    "                if verbose:\n",
    "                    print('{0} group for {2} column is missing entirely from the sample \\\n",
    "                      while population has {1}'.format(k, pop_group[k], col))\n",
    "                temp_miss[k] = pop_group[k]\n",
    "            else:\n",
    "                pct_diff = abs(pop_group[k] - s_group[k])/pop_group[k]\n",
    "                if pct_diff > diff_thrsh:\n",
    "                    temp_diff[k] = pct_diff\n",
    "        if temp_miss:\n",
    "            sample_miss[col] = temp_miss\n",
    "        if temp_diff:\n",
    "            big_pct_diff[col] = temp_diff\n",
    "    if sample_miss or big_pct_diff:\n",
    "        print(\"There is a sampling concern\")\n",
    "\n",
    "def check_not_same_loans(tr, te):\n",
    "    return bool(len(set(tr['id']).intersection(set(te['id']))) == 0)\n",
    "\n",
    "def check_all_loans_accounted(tr, te, to):\n",
    "    return bool(tr.shape[0] + te.shape[0] == to.shape[0])\n",
    "\n",
    "def check_same_n_instances(df1, df2):\n",
    "    return bool(df1.shape[0] == df2.shape[0])\n",
    "\n",
    "def check_same_n_cols(df1, df2):\n",
    "    return bool(df1.shape[1] == df2.shape[1])\n",
    "\n",
    "def check_train_test_testable(train, test, testable, train1, test1, testable1):\n",
    "    '''\n",
    "    First set for loan_info, second set for eval_loan_info\n",
    "    '''\n",
    "    print(train.shape, test.shape, testable.shape, train1.shape, test1.shape, testable1.shape)\n",
    "    assert check_not_same_loans(train, test)\n",
    "    assert check_all_loans_accounted(train, test, testable)\n",
    "    assert check_not_same_loans(train1, test1)\n",
    "    assert check_all_loans_accounted(train1, test1, testable1)\n",
    "    assert check_same_n_instances(train, train1)\n",
    "    assert check_same_n_instances(test, test1)\n",
    "    assert check_same_n_instances(testable, testable1)\n",
    "    assert check_same_n_cols(train, test)\n",
    "    assert check_same_n_cols(train1, test1)\n",
    "    return True\n",
    "\n",
    "#from 2010-1-1 onward, take out min(10%, 2000) loans to set aside as train\n",
    "doneness = .95\n",
    "train_testable_eval_loan_info = eval_loan_info.query('maturity_time_stat_adj >= @doneness or maturity_paid_stat_adj >= @doneness')\n",
    "train_testable_ids = train_testable_eval_loan_info['id']\n",
    "train_testable_loan_info = base_loan_info.query('id in @train_testable_ids')\n",
    "\n",
    "assert train_testable_eval_loan_info.shape[0] == train_testable_loan_info.shape[0]\n",
    "\n",
    "# save loans useable for training and testing\n",
    "train_testable_eval_loan_info.reset_index(drop=True).to_feather(os.path.join(dpath, 'train_testable_eval_loan_info.fth'))\n",
    "train_testable_loan_info.reset_index(drop=True).to_feather(os.path.join(dpath, 'train_testable_base_loan_info.fth'))\n",
    "\n",
    "issue_d_g = train_testable_eval_loan_info.groupby('issue_d')\n",
    "test_ids = []\n",
    "check_cols = ['target_strict', 'grade']\n",
    "for date, group in issue_d_g:\n",
    "    if date >= pd.to_datetime('2010-1-1'):\n",
    "        print('sampling {0} for issue_d group {1}'.format(min(int(len(group)*.1), 2000), date))\n",
    "        samp = group.sample(n=min(int(len(group)*.1), 2000), random_state=42)\n",
    "        if check_sample_distribution(group, samp, check_cols=check_cols, verbose=False):\n",
    "            print()\n",
    "        test_ids.extend(samp['id'].tolist())\n",
    "\n",
    "test_eval_loan_info = train_testable_eval_loan_info.query('id in @test_ids')\n",
    "test_loan_info = train_testable_loan_info.query('id in @test_ids')\n",
    "\n",
    "train_eval_loan_info = train_testable_eval_loan_info.query('id not in @test_ids')\n",
    "train_loan_info = train_testable_loan_info.query('id not in @test_ids')\n",
    "\n",
    "if check_train_test_testable(train_eval_loan_info, test_eval_loan_info, train_testable_eval_loan_info,\n",
    "                             train_loan_info, test_loan_info, train_testable_loan_info):\n",
    "    # save\n",
    "    test_eval_loan_info.reset_index(drop=True).to_feather(os.path.join(dpath, 'test_eval_loan_info.fth'))\n",
    "    test_loan_info.reset_index(drop=True).to_feather(os.path.join(dpath, 'test_base_loan_info.fth'))\n",
    "    train_eval_loan_info.reset_index(drop=True).to_feather(os.path.join(dpath, 'train_eval_loan_info.fth'))\n",
    "    train_loan_info.reset_index(drop=True).to_feather(os.path.join(dpath, 'train_base_loan_info.fth'))\n",
    "\n",
    "    # make 10 bootstrap month-by-month test_loan_infos (and maybe test_eval_loan_infos?)\n",
    "    bootstrap_sample_ids = {}\n",
    "    issue_d_g = test_eval_loan_info.groupby('issue_d')\n",
    "    for i in range(10):\n",
    "        to_concat = []\n",
    "        for d, g in issue_d_g:\n",
    "            to_concat.append(g.sample(len(g), replace=True))\n",
    "        df = pd.concat(to_concat)\n",
    "#         df.reset_index(drop=True).to_feather(os.path.join(dpath, 'test_eval_loan_info_{0}_bootstrap.fth'.format(i)))\n",
    "        bootstrap_sample_ids[i] = df['id'].tolist()\n",
    "    \n",
    "    with open(os.path.join(dpath, 'bootstrap_test_eval_loan_info_ids.pkl'), 'wb') as file:\n",
    "        pickle.dump(bootstrap_sample_ids, file)"
   ]
  },
  {
   "cell_type": "code",
   "execution_count": 9,
   "metadata": {
    "ExecuteTime": {
     "end_time": "2019-10-09T21:30:21.371636Z",
     "start_time": "2019-10-09T21:30:21.358295Z"
    }
   },
   "outputs": [
    {
     "data": {
      "text/html": [
       "<div>\n",
       "<style scoped>\n",
       "    .dataframe tbody tr th:only-of-type {\n",
       "        vertical-align: middle;\n",
       "    }\n",
       "\n",
       "    .dataframe tbody tr th {\n",
       "        vertical-align: top;\n",
       "    }\n",
       "\n",
       "    .dataframe thead th {\n",
       "        text-align: right;\n",
       "    }\n",
       "</style>\n",
       "<table border=\"1\" class=\"dataframe\">\n",
       "  <thead>\n",
       "    <tr style=\"text-align: right;\">\n",
       "      <th></th>\n",
       "      <th>a</th>\n",
       "      <th>b</th>\n",
       "    </tr>\n",
       "  </thead>\n",
       "  <tbody>\n",
       "    <tr>\n",
       "      <td>0</td>\n",
       "      <td>1</td>\n",
       "      <td>4</td>\n",
       "    </tr>\n",
       "    <tr>\n",
       "      <td>1</td>\n",
       "      <td>2</td>\n",
       "      <td>5</td>\n",
       "    </tr>\n",
       "    <tr>\n",
       "      <td>2</td>\n",
       "      <td>3</td>\n",
       "      <td>6</td>\n",
       "    </tr>\n",
       "    <tr>\n",
       "      <td>3</td>\n",
       "      <td>10</td>\n",
       "      <td>20</td>\n",
       "    </tr>\n",
       "  </tbody>\n",
       "</table>\n",
       "</div>"
      ],
      "text/plain": [
       "    a   b\n",
       "0   1   4\n",
       "1   2   5\n",
       "2   3   6\n",
       "3  10  20"
      ]
     },
     "execution_count": 9,
     "metadata": {},
     "output_type": "execute_result"
    }
   ],
   "source": [
    "df = pd.DataFrame({'a': [1,2,3,10], 'b': [4,5,6,20]})\n",
    "df"
   ]
  },
  {
   "cell_type": "code",
   "execution_count": 18,
   "metadata": {
    "ExecuteTime": {
     "end_time": "2019-10-09T21:30:34.739274Z",
     "start_time": "2019-10-09T21:30:34.731404Z"
    }
   },
   "outputs": [
    {
     "data": {
      "text/html": [
       "<div>\n",
       "<style scoped>\n",
       "    .dataframe tbody tr th:only-of-type {\n",
       "        vertical-align: middle;\n",
       "    }\n",
       "\n",
       "    .dataframe tbody tr th {\n",
       "        vertical-align: top;\n",
       "    }\n",
       "\n",
       "    .dataframe thead th {\n",
       "        text-align: right;\n",
       "    }\n",
       "</style>\n",
       "<table border=\"1\" class=\"dataframe\">\n",
       "  <thead>\n",
       "    <tr style=\"text-align: right;\">\n",
       "      <th></th>\n",
       "      <th>a</th>\n",
       "      <th>b</th>\n",
       "    </tr>\n",
       "  </thead>\n",
       "  <tbody>\n",
       "    <tr>\n",
       "      <td>1</td>\n",
       "      <td>2</td>\n",
       "      <td>5</td>\n",
       "    </tr>\n",
       "    <tr>\n",
       "      <td>3</td>\n",
       "      <td>10</td>\n",
       "      <td>20</td>\n",
       "    </tr>\n",
       "  </tbody>\n",
       "</table>\n",
       "</div>"
      ],
      "text/plain": [
       "    a   b\n",
       "1   2   5\n",
       "3  10  20"
      ]
     },
     "execution_count": 18,
     "metadata": {},
     "output_type": "execute_result"
    }
   ],
   "source": [
    "df.sample(2, random_state=42)"
   ]
  },
  {
   "cell_type": "code",
   "execution_count": null,
   "metadata": {},
   "outputs": [],
   "source": []
  },
  {
   "cell_type": "markdown",
   "metadata": {
    "ExecuteTime": {
     "end_time": "2019-10-01T20:02:57.135026Z",
     "start_time": "2019-10-01T20:02:57.133140Z"
    },
    "heading_collapsed": true
   },
   "source": [
    "# check sampling idea. does sample size n relative to population size p cause sampling problems in terms of distribution?"
   ]
  },
  {
   "cell_type": "code",
   "execution_count": 5,
   "metadata": {
    "ExecuteTime": {
     "end_time": "2019-10-01T20:11:32.766623Z",
     "start_time": "2019-10-01T20:11:32.759736Z"
    },
    "hidden": true
   },
   "outputs": [],
   "source": [
    "test = eval_loan_info[['target_strict', 'grade']]"
   ]
  },
  {
   "cell_type": "code",
   "execution_count": 8,
   "metadata": {
    "ExecuteTime": {
     "end_time": "2019-10-01T20:11:50.138089Z",
     "start_time": "2019-10-01T20:11:50.103664Z"
    },
    "hidden": true
   },
   "outputs": [],
   "source": [
    "df = pd.concat([test]*100)"
   ]
  },
  {
   "cell_type": "code",
   "execution_count": 10,
   "metadata": {
    "ExecuteTime": {
     "end_time": "2019-10-01T20:12:26.468735Z",
     "start_time": "2019-10-01T20:12:26.458058Z"
    },
    "hidden": true
   },
   "outputs": [
    {
     "data": {
      "text/plain": [
       "0.15526552655265527"
      ]
     },
     "execution_count": 10,
     "metadata": {},
     "output_type": "execute_result"
    }
   ],
   "source": [
    "df['target_strict'].mean()"
   ]
  },
  {
   "cell_type": "code",
   "execution_count": 23,
   "metadata": {
    "ExecuteTime": {
     "end_time": "2019-10-01T20:26:34.984135Z",
     "start_time": "2019-10-01T20:26:34.737454Z"
    },
    "hidden": true
   },
   "outputs": [
    {
     "data": {
      "text/plain": [
       "<matplotlib.axes._subplots.AxesSubplot at 0x7fce9a049e90>"
      ]
     },
     "execution_count": 23,
     "metadata": {},
     "output_type": "execute_result"
    },
    {
     "data": {
      "image/png": "[encoded data removed]",
      "text/plain": [
       "<Figure size 432x288 with 1 Axes>"
      ]
     },
     "metadata": {
      "needs_background": "light"
     },
     "output_type": "display_data"
    }
   ],
   "source": [
    "(df['grade'].value_counts(dropna=False)/len(df)).sort_index().plot()"
   ]
  },
  {
   "cell_type": "code",
   "execution_count": 61,
   "metadata": {
    "ExecuteTime": {
     "end_time": "2019-10-01T20:29:03.328693Z",
     "start_time": "2019-10-01T20:29:03.154066Z"
    },
    "hidden": true
   },
   "outputs": [
    {
     "data": {
      "text/plain": [
       "<matplotlib.axes._subplots.AxesSubplot at 0x7fce98f8a790>"
      ]
     },
     "execution_count": 61,
     "metadata": {},
     "output_type": "execute_result"
    },
    {
     "data": {
      "image/png": "[encoded data removed]",
      "text/plain": [
       "<Figure size 432x288 with 1 Axes>"
      ]
     },
     "metadata": {
      "needs_background": "light"
     },
     "output_type": "display_data"
    }
   ],
   "source": [
    "sample_size = 30\n",
    "(df.sample(sample_size)['grade'].value_counts(dropna=False)/(sample_size)).sort_index().plot()"
   ]
  },
  {
   "cell_type": "code",
   "execution_count": 63,
   "metadata": {
    "ExecuteTime": {
     "end_time": "2019-10-01T21:37:21.768821Z",
     "start_time": "2019-10-01T21:37:21.700807Z"
    },
    "hidden": true
   },
   "outputs": [
    {
     "data": {
      "text/plain": [
       "Index(['B', 'C', 'D', 'A', 'G'], dtype='object')"
      ]
     },
     "execution_count": 63,
     "metadata": {},
     "output_type": "execute_result"
    }
   ],
   "source": [
    "(df.sample(sample_size)['grade'].value_counts(dropna=False)/(sample_size)).keys()"
   ]
  },
  {
   "cell_type": "markdown",
   "metadata": {},
   "source": [
    "# script again"
   ]
  },
  {
   "cell_type": "code",
   "execution_count": 20,
   "metadata": {
    "ExecuteTime": {
     "end_time": "2019-10-02T05:12:44.748227Z",
     "start_time": "2019-10-02T05:12:44.670346Z"
    }
   },
   "outputs": [],
   "source": []
  },
  {
   "cell_type": "code",
   "execution_count": 10,
   "metadata": {
    "ExecuteTime": {
     "end_time": "2019-10-02T04:13:07.588911Z",
     "start_time": "2019-10-02T04:13:07.548653Z"
    }
   },
   "outputs": [
    {
     "data": {
      "text/html": [
       "<div>\n",
       "<style scoped>\n",
       "    .dataframe tbody tr th:only-of-type {\n",
       "        vertical-align: middle;\n",
       "    }\n",
       "\n",
       "    .dataframe tbody tr th {\n",
       "        vertical-align: top;\n",
       "    }\n",
       "\n",
       "    .dataframe thead th {\n",
       "        text-align: right;\n",
       "    }\n",
       "</style>\n",
       "<table border=\"1\" class=\"dataframe\">\n",
       "  <thead>\n",
       "    <tr style=\"text-align: right;\">\n",
       "      <th></th>\n",
       "      <th>end_d</th>\n",
       "      <th>issue_d</th>\n",
       "      <th>maturity_paid</th>\n",
       "      <th>maturity_time</th>\n",
       "      <th>maturity_time_stat_adj</th>\n",
       "      <th>maturity_paid_stat_adj</th>\n",
       "      <th>rem_to_be_paid</th>\n",
       "      <th>roi_simple</th>\n",
       "      <th>target_loose</th>\n",
       "      <th>target_strict</th>\n",
       "      <th>loan_status</th>\n",
       "      <th>id</th>\n",
       "      <th>grade</th>\n",
       "      <th>0.05</th>\n",
       "      <th>0.06</th>\n",
       "      <th>0.07</th>\n",
       "      <th>0.08</th>\n",
       "      <th>0.09</th>\n",
       "      <th>0.1</th>\n",
       "      <th>0.11</th>\n",
       "      <th>0.12</th>\n",
       "      <th>0.13</th>\n",
       "      <th>0.14</th>\n",
       "      <th>0.15</th>\n",
       "      <th>0.16</th>\n",
       "      <th>0.17</th>\n",
       "      <th>0.18</th>\n",
       "      <th>0.19</th>\n",
       "      <th>0.2</th>\n",
       "      <th>0.21</th>\n",
       "      <th>0.22</th>\n",
       "      <th>0.23</th>\n",
       "      <th>0.24</th>\n",
       "      <th>0.25</th>\n",
       "      <th>0.26</th>\n",
       "      <th>0.27</th>\n",
       "      <th>0.28</th>\n",
       "      <th>0.29</th>\n",
       "      <th>0.3</th>\n",
       "      <th>0.31</th>\n",
       "      <th>0.32</th>\n",
       "      <th>0.33</th>\n",
       "      <th>0.34</th>\n",
       "      <th>0.35</th>\n",
       "    </tr>\n",
       "  </thead>\n",
       "  <tbody>\n",
       "    <tr>\n",
       "      <td>0</td>\n",
       "      <td>2012-11-01</td>\n",
       "      <td>2009-11-01</td>\n",
       "      <td>1.000000</td>\n",
       "      <td>1.0</td>\n",
       "      <td>1.0</td>\n",
       "      <td>1.0</td>\n",
       "      <td>0.000000</td>\n",
       "      <td>1.222941</td>\n",
       "      <td>0</td>\n",
       "      <td>0</td>\n",
       "      <td>paid</td>\n",
       "      <td>57416</td>\n",
       "      <td>C</td>\n",
       "      <td>0.135866</td>\n",
       "      <td>0.118989</td>\n",
       "      <td>0.102459</td>\n",
       "      <td>0.086267</td>\n",
       "      <td>0.070405</td>\n",
       "      <td>0.054865</td>\n",
       "      <td>0.039640</td>\n",
       "      <td>0.024723</td>\n",
       "      <td>0.010105</td>\n",
       "      <td>-0.004219</td>\n",
       "      <td>-0.018257</td>\n",
       "      <td>-0.032016</td>\n",
       "      <td>-0.045502</td>\n",
       "      <td>-0.058721</td>\n",
       "      <td>-0.071679</td>\n",
       "      <td>-0.084383</td>\n",
       "      <td>-0.096838</td>\n",
       "      <td>-0.109050</td>\n",
       "      <td>-0.121025</td>\n",
       "      <td>-0.132768</td>\n",
       "      <td>-0.144285</td>\n",
       "      <td>-0.155580</td>\n",
       "      <td>-0.166658</td>\n",
       "      <td>-0.177525</td>\n",
       "      <td>-0.188186</td>\n",
       "      <td>-0.198644</td>\n",
       "      <td>-0.208904</td>\n",
       "      <td>-0.218972</td>\n",
       "      <td>-0.228851</td>\n",
       "      <td>-0.238545</td>\n",
       "      <td>-0.248059</td>\n",
       "    </tr>\n",
       "    <tr>\n",
       "      <td>1</td>\n",
       "      <td>2009-11-01</td>\n",
       "      <td>2007-11-01</td>\n",
       "      <td>0.509957</td>\n",
       "      <td>1.0</td>\n",
       "      <td>1.0</td>\n",
       "      <td>1.0</td>\n",
       "      <td>6498.933594</td>\n",
       "      <td>0.645634</td>\n",
       "      <td>1</td>\n",
       "      <td>1</td>\n",
       "      <td>charged_off</td>\n",
       "      <td>145926</td>\n",
       "      <td>E</td>\n",
       "      <td>-0.380326</td>\n",
       "      <td>-0.385478</td>\n",
       "      <td>-0.390568</td>\n",
       "      <td>-0.395598</td>\n",
       "      <td>-0.400569</td>\n",
       "      <td>-0.405480</td>\n",
       "      <td>-0.410333</td>\n",
       "      <td>-0.415129</td>\n",
       "      <td>-0.419869</td>\n",
       "      <td>-0.424553</td>\n",
       "      <td>-0.429182</td>\n",
       "      <td>-0.433757</td>\n",
       "      <td>-0.438279</td>\n",
       "      <td>-0.442748</td>\n",
       "      <td>-0.447165</td>\n",
       "      <td>-0.451532</td>\n",
       "      <td>-0.455848</td>\n",
       "      <td>-0.460114</td>\n",
       "      <td>-0.464332</td>\n",
       "      <td>-0.468501</td>\n",
       "      <td>-0.472623</td>\n",
       "      <td>-0.476698</td>\n",
       "      <td>-0.480726</td>\n",
       "      <td>-0.484709</td>\n",
       "      <td>-0.488647</td>\n",
       "      <td>-0.492540</td>\n",
       "      <td>-0.496390</td>\n",
       "      <td>-0.500196</td>\n",
       "      <td>-0.503960</td>\n",
       "      <td>-0.507682</td>\n",
       "      <td>-0.511362</td>\n",
       "    </tr>\n",
       "    <tr>\n",
       "      <td>2</td>\n",
       "      <td>2010-08-01</td>\n",
       "      <td>2007-11-01</td>\n",
       "      <td>1.000000</td>\n",
       "      <td>1.0</td>\n",
       "      <td>1.0</td>\n",
       "      <td>1.0</td>\n",
       "      <td>0.000000</td>\n",
       "      <td>1.204435</td>\n",
       "      <td>0</td>\n",
       "      <td>1</td>\n",
       "      <td>paid</td>\n",
       "      <td>147125</td>\n",
       "      <td>D</td>\n",
       "      <td>0.116842</td>\n",
       "      <td>0.100379</td>\n",
       "      <td>0.084250</td>\n",
       "      <td>0.068446</td>\n",
       "      <td>0.052960</td>\n",
       "      <td>0.037784</td>\n",
       "      <td>0.022912</td>\n",
       "      <td>0.008335</td>\n",
       "      <td>-0.005952</td>\n",
       "      <td>-0.019956</td>\n",
       "      <td>-0.033685</td>\n",
       "      <td>-0.047143</td>\n",
       "      <td>-0.060338</td>\n",
       "      <td>-0.073275</td>\n",
       "      <td>-0.085960</td>\n",
       "      <td>-0.098399</td>\n",
       "      <td>-0.110597</td>\n",
       "      <td>-0.122561</td>\n",
       "      <td>-0.134294</td>\n",
       "      <td>-0.145803</td>\n",
       "      <td>-0.157093</td>\n",
       "      <td>-0.168167</td>\n",
       "      <td>-0.179032</td>\n",
       "      <td>-0.189692</td>\n",
       "      <td>-0.200151</td>\n",
       "      <td>-0.210413</td>\n",
       "      <td>-0.220484</td>\n",
       "      <td>-0.230368</td>\n",
       "      <td>-0.240067</td>\n",
       "      <td>-0.249588</td>\n",
       "      <td>-0.258933</td>\n",
       "    </tr>\n",
       "    <tr>\n",
       "      <td>3</td>\n",
       "      <td>2010-12-01</td>\n",
       "      <td>2007-12-01</td>\n",
       "      <td>1.000000</td>\n",
       "      <td>1.0</td>\n",
       "      <td>1.0</td>\n",
       "      <td>1.0</td>\n",
       "      <td>0.000000</td>\n",
       "      <td>1.123967</td>\n",
       "      <td>0</td>\n",
       "      <td>0</td>\n",
       "      <td>paid</td>\n",
       "      <td>166683</td>\n",
       "      <td>A</td>\n",
       "      <td>0.041716</td>\n",
       "      <td>0.026271</td>\n",
       "      <td>0.011143</td>\n",
       "      <td>-0.003676</td>\n",
       "      <td>-0.018194</td>\n",
       "      <td>-0.032417</td>\n",
       "      <td>-0.046353</td>\n",
       "      <td>-0.060008</td>\n",
       "      <td>-0.073389</td>\n",
       "      <td>-0.086502</td>\n",
       "      <td>-0.099354</td>\n",
       "      <td>-0.111950</td>\n",
       "      <td>-0.124297</td>\n",
       "      <td>-0.136400</td>\n",
       "      <td>-0.148265</td>\n",
       "      <td>-0.159897</td>\n",
       "      <td>-0.171302</td>\n",
       "      <td>-0.182486</td>\n",
       "      <td>-0.193452</td>\n",
       "      <td>-0.204207</td>\n",
       "      <td>-0.214754</td>\n",
       "      <td>-0.225099</td>\n",
       "      <td>-0.235246</td>\n",
       "      <td>-0.245199</td>\n",
       "      <td>-0.254964</td>\n",
       "      <td>-0.264544</td>\n",
       "      <td>-0.273943</td>\n",
       "      <td>-0.283166</td>\n",
       "      <td>-0.292216</td>\n",
       "      <td>-0.301097</td>\n",
       "      <td>-0.309814</td>\n",
       "    </tr>\n",
       "    <tr>\n",
       "      <td>4</td>\n",
       "      <td>2010-02-01</td>\n",
       "      <td>2007-12-01</td>\n",
       "      <td>1.000000</td>\n",
       "      <td>1.0</td>\n",
       "      <td>1.0</td>\n",
       "      <td>1.0</td>\n",
       "      <td>0.000000</td>\n",
       "      <td>1.141801</td>\n",
       "      <td>0</td>\n",
       "      <td>0</td>\n",
       "      <td>paid</td>\n",
       "      <td>174377</td>\n",
       "      <td>B</td>\n",
       "      <td>0.065560</td>\n",
       "      <td>0.051043</td>\n",
       "      <td>0.036788</td>\n",
       "      <td>0.022790</td>\n",
       "      <td>0.009042</td>\n",
       "      <td>-0.004460</td>\n",
       "      <td>-0.017721</td>\n",
       "      <td>-0.030746</td>\n",
       "      <td>-0.043539</td>\n",
       "      <td>-0.056106</td>\n",
       "      <td>-0.068451</td>\n",
       "      <td>-0.080578</td>\n",
       "      <td>-0.092492</td>\n",
       "      <td>-0.104196</td>\n",
       "      <td>-0.115696</td>\n",
       "      <td>-0.126996</td>\n",
       "      <td>-0.138098</td>\n",
       "      <td>-0.149008</td>\n",
       "      <td>-0.159728</td>\n",
       "      <td>-0.170264</td>\n",
       "      <td>-0.180617</td>\n",
       "      <td>-0.190793</td>\n",
       "      <td>-0.200794</td>\n",
       "      <td>-0.210624</td>\n",
       "      <td>-0.220286</td>\n",
       "      <td>-0.229784</td>\n",
       "      <td>-0.239121</td>\n",
       "      <td>-0.248299</td>\n",
       "      <td>-0.257323</td>\n",
       "      <td>-0.266194</td>\n",
       "      <td>-0.274917</td>\n",
       "    </tr>\n",
       "  </tbody>\n",
       "</table>\n",
       "</div>"
      ],
      "text/plain": [
       "       end_d    issue_d  maturity_paid  maturity_time  maturity_time_stat_adj  \\\n",
       "0 2012-11-01 2009-11-01       1.000000            1.0                     1.0   \n",
       "1 2009-11-01 2007-11-01       0.509957            1.0                     1.0   \n",
       "2 2010-08-01 2007-11-01       1.000000            1.0                     1.0   \n",
       "3 2010-12-01 2007-12-01       1.000000            1.0                     1.0   \n",
       "4 2010-02-01 2007-12-01       1.000000            1.0                     1.0   \n",
       "\n",
       "   maturity_paid_stat_adj  rem_to_be_paid  roi_simple  target_loose  \\\n",
       "0                     1.0        0.000000    1.222941             0   \n",
       "1                     1.0     6498.933594    0.645634             1   \n",
       "2                     1.0        0.000000    1.204435             0   \n",
       "3                     1.0        0.000000    1.123967             0   \n",
       "4                     1.0        0.000000    1.141801             0   \n",
       "\n",
       "   target_strict  loan_status      id grade      0.05      0.06      0.07  \\\n",
       "0              0         paid   57416     C  0.135866  0.118989  0.102459   \n",
       "1              1  charged_off  145926     E -0.380326 -0.385478 -0.390568   \n",
       "2              1         paid  147125     D  0.116842  0.100379  0.084250   \n",
       "3              0         paid  166683     A  0.041716  0.026271  0.011143   \n",
       "4              0         paid  174377     B  0.065560  0.051043  0.036788   \n",
       "\n",
       "       0.08      0.09       0.1      0.11      0.12      0.13      0.14  \\\n",
       "0  0.086267  0.070405  0.054865  0.039640  0.024723  0.010105 -0.004219   \n",
       "1 -0.395598 -0.400569 -0.405480 -0.410333 -0.415129 -0.419869 -0.424553   \n",
       "2  0.068446  0.052960  0.037784  0.022912  0.008335 -0.005952 -0.019956   \n",
       "3 -0.003676 -0.018194 -0.032417 -0.046353 -0.060008 -0.073389 -0.086502   \n",
       "4  0.022790  0.009042 -0.004460 -0.017721 -0.030746 -0.043539 -0.056106   \n",
       "\n",
       "       0.15      0.16      0.17      0.18      0.19       0.2      0.21  \\\n",
       "0 -0.018257 -0.032016 -0.045502 -0.058721 -0.071679 -0.084383 -0.096838   \n",
       "1 -0.429182 -0.433757 -0.438279 -0.442748 -0.447165 -0.451532 -0.455848   \n",
       "2 -0.033685 -0.047143 -0.060338 -0.073275 -0.085960 -0.098399 -0.110597   \n",
       "3 -0.099354 -0.111950 -0.124297 -0.136400 -0.148265 -0.159897 -0.171302   \n",
       "4 -0.068451 -0.080578 -0.092492 -0.104196 -0.115696 -0.126996 -0.138098   \n",
       "\n",
       "       0.22      0.23      0.24      0.25      0.26      0.27      0.28  \\\n",
       "0 -0.109050 -0.121025 -0.132768 -0.144285 -0.155580 -0.166658 -0.177525   \n",
       "1 -0.460114 -0.464332 -0.468501 -0.472623 -0.476698 -0.480726 -0.484709   \n",
       "2 -0.122561 -0.134294 -0.145803 -0.157093 -0.168167 -0.179032 -0.189692   \n",
       "3 -0.182486 -0.193452 -0.204207 -0.214754 -0.225099 -0.235246 -0.245199   \n",
       "4 -0.149008 -0.159728 -0.170264 -0.180617 -0.190793 -0.200794 -0.210624   \n",
       "\n",
       "       0.29       0.3      0.31      0.32      0.33      0.34      0.35  \n",
       "0 -0.188186 -0.198644 -0.208904 -0.218972 -0.228851 -0.238545 -0.248059  \n",
       "1 -0.488647 -0.492540 -0.496390 -0.500196 -0.503960 -0.507682 -0.511362  \n",
       "2 -0.200151 -0.210413 -0.220484 -0.230368 -0.240067 -0.249588 -0.258933  \n",
       "3 -0.254964 -0.264544 -0.273943 -0.283166 -0.292216 -0.301097 -0.309814  \n",
       "4 -0.220286 -0.229784 -0.239121 -0.248299 -0.257323 -0.266194 -0.274917  "
      ]
     },
     "execution_count": 10,
     "metadata": {},
     "output_type": "execute_result"
    }
   ],
   "source": [
    "eval_loan_info.head()"
   ]
  },
  {
   "cell_type": "markdown",
   "metadata": {},
   "source": [
    "# notebook"
   ]
  },
  {
   "cell_type": "code",
   "execution_count": 6,
   "metadata": {
    "ExecuteTime": {
     "end_time": "2019-09-30T18:01:18.712577Z",
     "start_time": "2019-09-30T18:01:18.704223Z"
    }
   },
   "outputs": [],
   "source": [
    "import sys\n",
    "import os\n",
    "import pickle\n",
    "from tqdm import tqdm\n",
    "import j_utils.munging as mg\n",
    "from lc_utils import gen_datasets\n",
    "import seaborn as sns\n",
    "import pandas as pd\n",
    "\n",
    "ppath = os.path.join(os.path.expanduser('~'), 'projects', 'lendingclub', )\n",
    "dpath = os.path.join(ppath,'data')\n",
    "\n",
    "# testing\n",
    "from pandas.testing import assert_frame_equal"
   ]
  },
  {
   "cell_type": "code",
   "execution_count": 2,
   "metadata": {
    "ExecuteTime": {
     "end_time": "2019-09-30T17:59:19.709605Z",
     "start_time": "2019-09-30T17:59:19.705108Z"
    }
   },
   "outputs": [],
   "source": [
    "import lendingclub"
   ]
  },
  {
   "cell_type": "code",
   "execution_count": 3,
   "metadata": {
    "ExecuteTime": {
     "end_time": "2019-09-30T17:59:27.043371Z",
     "start_time": "2019-09-30T17:59:27.038491Z"
    }
   },
   "outputs": [],
   "source": [
    "import lc_utils"
   ]
  },
  {
   "cell_type": "code",
   "execution_count": null,
   "metadata": {},
   "outputs": [],
   "source": []
  },
  {
   "cell_type": "code",
   "execution_count": 69,
   "metadata": {
    "ExecuteTime": {
     "end_time": "2019-09-12T04:44:16.787003Z",
     "start_time": "2019-09-12T04:43:59.415954Z"
    }
   },
   "outputs": [],
   "source": [
    "base_loan_info = pd.read_feather(os.path.join(dpath, 'base_loan_info.fth'))\n",
    "eval_loan_info = pd.read_feather(os.path.join(dpath, 'eval_loan_info.fth'))\n",
    "pmt_hist = pd.read_feather(os.path.join(dpath, 'scaled_pmt_hist.fth'))\n",
    "\n",
    "#from 2010-1-1 onward, take out min(10%, 2000) loans to set aside as train\n",
    "doneness = .95\n",
    "train_testable_eval_loan_info = eval_loan_info.query('maturity_time_stat_adj >= @doneness or maturity_paid_stat_adj >= @doneness')\n",
    "train_testable_ids = train_testable_eval_loan_info['id']\n",
    "train_testable_loan_info = base_loan_info.query('id in @train_testable_ids')\n",
    "\n",
    "assert train_testable_eval_loan_info.shape[0] == train_testable_loan_info.shape[0]\n",
    "\n",
    "train_testable_eval_loan_info.reset_index(drop=True).to_feather(os.path.join(dpath, 'train_testable_eval_loan_info.fth'))\n",
    "train_testable_loan_info.reset_index(drop=True).to_feather(os.path.join(dpath, 'train_testable_loan_info.fth'))"
   ]
  },
  {
   "cell_type": "markdown",
   "metadata": {},
   "source": [
    "for each model: \n",
    "\n",
    "Have one overall test set\n",
    "\n",
    "1) compare top30% of all test in aggregate\n",
    "\n",
    "2) compare month-by-month top30%\n",
    "\n",
    "From the test set make 10 bootstrap month by month test sets\n",
    "\n",
    "3) compare bootstrap month-by-month top30%\n",
    "\n"
   ]
  },
  {
   "cell_type": "markdown",
   "metadata": {
    "heading_collapsed": true
   },
   "source": [
    "# How to decide where to select split date?\n",
    "# by issue_d, what % of loans have a stat_adj maturity_time/paid greater than .95"
   ]
  },
  {
   "cell_type": "code",
   "execution_count": 4,
   "metadata": {
    "ExecuteTime": {
     "end_time": "2019-09-12T01:43:10.141392Z",
     "start_time": "2019-09-12T01:43:10.082436Z"
    },
    "hidden": true
   },
   "outputs": [],
   "source": [
    "issue_d_grouped = eval_loan_info.groupby('issue_d')"
   ]
  },
  {
   "cell_type": "code",
   "execution_count": 26,
   "metadata": {
    "ExecuteTime": {
     "end_time": "2019-09-12T01:52:23.187123Z",
     "start_time": "2019-09-12T01:52:22.198880Z"
    },
    "hidden": true
   },
   "outputs": [],
   "source": [
    "doneness = .95\n",
    "doneness_dict = {}\n",
    "issuances_dict = {}\n",
    "for d, group in issue_d_grouped:\n",
    "    doneness_dict[d] = group.eval('maturity_time_stat_adj >= @doneness or maturity_paid_stat_adj >= @doneness').sum()/len(group)\n",
    "    issuances_dict[d] = len(group)"
   ]
  },
  {
   "cell_type": "code",
   "execution_count": 27,
   "metadata": {
    "ExecuteTime": {
     "end_time": "2019-09-12T01:52:24.167949Z",
     "start_time": "2019-09-12T01:52:23.990518Z"
    },
    "hidden": true
   },
   "outputs": [
    {
     "data": {
      "text/plain": [
       "(0.78, 1.02)"
      ]
     },
     "execution_count": 27,
     "metadata": {},
     "output_type": "execute_result"
    },
    {
     "data": {
      "image/png": "[encoded data removed]",
      "text/plain": [
       "<Figure size 864x576 with 1 Axes>"
      ]
     },
     "metadata": {
      "needs_background": "light"
     },
     "output_type": "display_data"
    }
   ],
   "source": [
    "ax = pd.Series(doneness_dict).plot(figsize=(12,8))\n",
    "ax.set_ylim(.78, 1.02)"
   ]
  },
  {
   "cell_type": "code",
   "execution_count": 28,
   "metadata": {
    "ExecuteTime": {
     "end_time": "2019-09-12T01:53:07.691001Z",
     "start_time": "2019-09-12T01:53:07.669398Z"
    },
    "hidden": true
   },
   "outputs": [],
   "source": [
    "doneness_df = pd.DataFrame({'n_issued': issuances_dict, 'pct_doneness_thrsh': doneness_dict})"
   ]
  },
  {
   "cell_type": "code",
   "execution_count": 31,
   "metadata": {
    "ExecuteTime": {
     "end_time": "2019-09-12T01:53:38.521760Z",
     "start_time": "2019-09-12T01:53:38.491826Z"
    },
    "hidden": true,
    "scrolled": true
   },
   "outputs": [
    {
     "data": {
      "text/html": [
       "<div>\n",
       "<style scoped>\n",
       "    .dataframe tbody tr th:only-of-type {\n",
       "        vertical-align: middle;\n",
       "    }\n",
       "\n",
       "    .dataframe tbody tr th {\n",
       "        vertical-align: top;\n",
       "    }\n",
       "\n",
       "    .dataframe thead th {\n",
       "        text-align: right;\n",
       "    }\n",
       "</style>\n",
       "<table border=\"1\" class=\"dataframe\">\n",
       "  <thead>\n",
       "    <tr style=\"text-align: right;\">\n",
       "      <th></th>\n",
       "      <th>n_issued</th>\n",
       "      <th>pct_doneness_thrsh</th>\n",
       "    </tr>\n",
       "  </thead>\n",
       "  <tbody>\n",
       "    <tr>\n",
       "      <th>2007-08-01</th>\n",
       "      <td>21</td>\n",
       "      <td>1.000000</td>\n",
       "    </tr>\n",
       "    <tr>\n",
       "      <th>2007-09-01</th>\n",
       "      <td>50</td>\n",
       "      <td>1.000000</td>\n",
       "    </tr>\n",
       "    <tr>\n",
       "      <th>2007-10-01</th>\n",
       "      <td>103</td>\n",
       "      <td>1.000000</td>\n",
       "    </tr>\n",
       "    <tr>\n",
       "      <th>2007-11-01</th>\n",
       "      <td>112</td>\n",
       "      <td>1.000000</td>\n",
       "    </tr>\n",
       "    <tr>\n",
       "      <th>2007-12-01</th>\n",
       "      <td>172</td>\n",
       "      <td>1.000000</td>\n",
       "    </tr>\n",
       "    <tr>\n",
       "      <th>2008-01-01</th>\n",
       "      <td>305</td>\n",
       "      <td>1.000000</td>\n",
       "    </tr>\n",
       "    <tr>\n",
       "      <th>2008-02-01</th>\n",
       "      <td>306</td>\n",
       "      <td>1.000000</td>\n",
       "    </tr>\n",
       "    <tr>\n",
       "      <th>2008-03-01</th>\n",
       "      <td>402</td>\n",
       "      <td>1.000000</td>\n",
       "    </tr>\n",
       "    <tr>\n",
       "      <th>2008-04-01</th>\n",
       "      <td>259</td>\n",
       "      <td>1.000000</td>\n",
       "    </tr>\n",
       "    <tr>\n",
       "      <th>2008-05-01</th>\n",
       "      <td>115</td>\n",
       "      <td>1.000000</td>\n",
       "    </tr>\n",
       "    <tr>\n",
       "      <th>2008-06-01</th>\n",
       "      <td>124</td>\n",
       "      <td>1.000000</td>\n",
       "    </tr>\n",
       "    <tr>\n",
       "      <th>2008-07-01</th>\n",
       "      <td>141</td>\n",
       "      <td>1.000000</td>\n",
       "    </tr>\n",
       "    <tr>\n",
       "      <th>2008-08-01</th>\n",
       "      <td>100</td>\n",
       "      <td>1.000000</td>\n",
       "    </tr>\n",
       "    <tr>\n",
       "      <th>2008-09-01</th>\n",
       "      <td>57</td>\n",
       "      <td>1.000000</td>\n",
       "    </tr>\n",
       "    <tr>\n",
       "      <th>2008-10-01</th>\n",
       "      <td>122</td>\n",
       "      <td>1.000000</td>\n",
       "    </tr>\n",
       "    <tr>\n",
       "      <th>2008-11-01</th>\n",
       "      <td>209</td>\n",
       "      <td>1.000000</td>\n",
       "    </tr>\n",
       "    <tr>\n",
       "      <th>2008-12-01</th>\n",
       "      <td>253</td>\n",
       "      <td>1.000000</td>\n",
       "    </tr>\n",
       "    <tr>\n",
       "      <th>2009-01-01</th>\n",
       "      <td>269</td>\n",
       "      <td>1.000000</td>\n",
       "    </tr>\n",
       "    <tr>\n",
       "      <th>2009-02-01</th>\n",
       "      <td>302</td>\n",
       "      <td>1.000000</td>\n",
       "    </tr>\n",
       "    <tr>\n",
       "      <th>2009-03-01</th>\n",
       "      <td>324</td>\n",
       "      <td>1.000000</td>\n",
       "    </tr>\n",
       "    <tr>\n",
       "      <th>2009-04-01</th>\n",
       "      <td>333</td>\n",
       "      <td>1.000000</td>\n",
       "    </tr>\n",
       "    <tr>\n",
       "      <th>2009-05-01</th>\n",
       "      <td>359</td>\n",
       "      <td>1.000000</td>\n",
       "    </tr>\n",
       "    <tr>\n",
       "      <th>2009-06-01</th>\n",
       "      <td>406</td>\n",
       "      <td>1.000000</td>\n",
       "    </tr>\n",
       "    <tr>\n",
       "      <th>2009-07-01</th>\n",
       "      <td>411</td>\n",
       "      <td>1.000000</td>\n",
       "    </tr>\n",
       "    <tr>\n",
       "      <th>2009-08-01</th>\n",
       "      <td>446</td>\n",
       "      <td>1.000000</td>\n",
       "    </tr>\n",
       "    <tr>\n",
       "      <th>2009-09-01</th>\n",
       "      <td>507</td>\n",
       "      <td>1.000000</td>\n",
       "    </tr>\n",
       "    <tr>\n",
       "      <th>2009-10-01</th>\n",
       "      <td>604</td>\n",
       "      <td>1.000000</td>\n",
       "    </tr>\n",
       "    <tr>\n",
       "      <th>2009-11-01</th>\n",
       "      <td>662</td>\n",
       "      <td>1.000000</td>\n",
       "    </tr>\n",
       "    <tr>\n",
       "      <th>2009-12-01</th>\n",
       "      <td>658</td>\n",
       "      <td>1.000000</td>\n",
       "    </tr>\n",
       "    <tr>\n",
       "      <th>2010-01-01</th>\n",
       "      <td>662</td>\n",
       "      <td>1.000000</td>\n",
       "    </tr>\n",
       "    <tr>\n",
       "      <th>...</th>\n",
       "      <td>...</td>\n",
       "      <td>...</td>\n",
       "    </tr>\n",
       "    <tr>\n",
       "      <th>2014-02-01</th>\n",
       "      <td>15269</td>\n",
       "      <td>1.000000</td>\n",
       "    </tr>\n",
       "    <tr>\n",
       "      <th>2014-03-01</th>\n",
       "      <td>16513</td>\n",
       "      <td>1.000000</td>\n",
       "    </tr>\n",
       "    <tr>\n",
       "      <th>2014-04-01</th>\n",
       "      <td>19071</td>\n",
       "      <td>1.000000</td>\n",
       "    </tr>\n",
       "    <tr>\n",
       "      <th>2014-05-01</th>\n",
       "      <td>19099</td>\n",
       "      <td>1.000000</td>\n",
       "    </tr>\n",
       "    <tr>\n",
       "      <th>2014-06-01</th>\n",
       "      <td>17179</td>\n",
       "      <td>1.000000</td>\n",
       "    </tr>\n",
       "    <tr>\n",
       "      <th>2014-07-01</th>\n",
       "      <td>29306</td>\n",
       "      <td>1.000000</td>\n",
       "    </tr>\n",
       "    <tr>\n",
       "      <th>2014-08-01</th>\n",
       "      <td>18814</td>\n",
       "      <td>1.000000</td>\n",
       "    </tr>\n",
       "    <tr>\n",
       "      <th>2014-09-01</th>\n",
       "      <td>10606</td>\n",
       "      <td>0.949745</td>\n",
       "    </tr>\n",
       "    <tr>\n",
       "      <th>2014-10-01</th>\n",
       "      <td>38783</td>\n",
       "      <td>0.941108</td>\n",
       "    </tr>\n",
       "    <tr>\n",
       "      <th>2014-11-01</th>\n",
       "      <td>25054</td>\n",
       "      <td>0.926359</td>\n",
       "    </tr>\n",
       "    <tr>\n",
       "      <th>2014-12-01</th>\n",
       "      <td>10307</td>\n",
       "      <td>0.918890</td>\n",
       "    </tr>\n",
       "    <tr>\n",
       "      <th>2015-01-01</th>\n",
       "      <td>35107</td>\n",
       "      <td>0.928191</td>\n",
       "    </tr>\n",
       "    <tr>\n",
       "      <th>2015-02-01</th>\n",
       "      <td>23770</td>\n",
       "      <td>0.920782</td>\n",
       "    </tr>\n",
       "    <tr>\n",
       "      <th>2015-03-01</th>\n",
       "      <td>25400</td>\n",
       "      <td>0.914567</td>\n",
       "    </tr>\n",
       "    <tr>\n",
       "      <th>2015-04-01</th>\n",
       "      <td>35427</td>\n",
       "      <td>0.908996</td>\n",
       "    </tr>\n",
       "    <tr>\n",
       "      <th>2015-05-01</th>\n",
       "      <td>31913</td>\n",
       "      <td>0.910319</td>\n",
       "    </tr>\n",
       "    <tr>\n",
       "      <th>2015-06-01</th>\n",
       "      <td>28485</td>\n",
       "      <td>0.905389</td>\n",
       "    </tr>\n",
       "    <tr>\n",
       "      <th>2015-07-01</th>\n",
       "      <td>45962</td>\n",
       "      <td>0.905226</td>\n",
       "    </tr>\n",
       "    <tr>\n",
       "      <th>2015-08-01</th>\n",
       "      <td>35886</td>\n",
       "      <td>0.895363</td>\n",
       "    </tr>\n",
       "    <tr>\n",
       "      <th>2015-09-01</th>\n",
       "      <td>28641</td>\n",
       "      <td>0.890088</td>\n",
       "    </tr>\n",
       "    <tr>\n",
       "      <th>2015-10-01</th>\n",
       "      <td>48631</td>\n",
       "      <td>0.896342</td>\n",
       "    </tr>\n",
       "    <tr>\n",
       "      <th>2015-11-01</th>\n",
       "      <td>37530</td>\n",
       "      <td>0.889528</td>\n",
       "    </tr>\n",
       "    <tr>\n",
       "      <th>2015-12-01</th>\n",
       "      <td>44343</td>\n",
       "      <td>0.894256</td>\n",
       "    </tr>\n",
       "    <tr>\n",
       "      <th>2016-01-01</th>\n",
       "      <td>32365</td>\n",
       "      <td>0.894732</td>\n",
       "    </tr>\n",
       "    <tr>\n",
       "      <th>2016-02-01</th>\n",
       "      <td>39529</td>\n",
       "      <td>0.897417</td>\n",
       "    </tr>\n",
       "    <tr>\n",
       "      <th>2016-03-01</th>\n",
       "      <td>61992</td>\n",
       "      <td>0.893728</td>\n",
       "    </tr>\n",
       "    <tr>\n",
       "      <th>2016-04-01</th>\n",
       "      <td>36432</td>\n",
       "      <td>0.909448</td>\n",
       "    </tr>\n",
       "    <tr>\n",
       "      <th>2016-05-01</th>\n",
       "      <td>28403</td>\n",
       "      <td>0.900926</td>\n",
       "    </tr>\n",
       "    <tr>\n",
       "      <th>2016-06-01</th>\n",
       "      <td>33019</td>\n",
       "      <td>0.893425</td>\n",
       "    </tr>\n",
       "    <tr>\n",
       "      <th>2016-07-01</th>\n",
       "      <td>34696</td>\n",
       "      <td>0.890650</td>\n",
       "    </tr>\n",
       "  </tbody>\n",
       "</table>\n",
       "<p>108 rows × 2 columns</p>\n",
       "</div>"
      ],
      "text/plain": [
       "            n_issued  pct_doneness_thrsh\n",
       "2007-08-01        21            1.000000\n",
       "2007-09-01        50            1.000000\n",
       "2007-10-01       103            1.000000\n",
       "2007-11-01       112            1.000000\n",
       "2007-12-01       172            1.000000\n",
       "...              ...                 ...\n",
       "2016-03-01     61992            0.893728\n",
       "2016-04-01     36432            0.909448\n",
       "2016-05-01     28403            0.900926\n",
       "2016-06-01     33019            0.893425\n",
       "2016-07-01     34696            0.890650\n",
       "\n",
       "[108 rows x 2 columns]"
      ]
     },
     "execution_count": 31,
     "metadata": {},
     "output_type": "execute_result"
    }
   ],
   "source": [
    "doneness_df[doneness_df['pct_doneness_thrsh'] > .8]"
   ]
  },
  {
   "cell_type": "markdown",
   "metadata": {},
   "source": [
    "# done deciding"
   ]
  },
  {
   "cell_type": "code",
   "execution_count": 32,
   "metadata": {
    "ExecuteTime": {
     "end_time": "2019-09-12T02:54:26.315304Z",
     "start_time": "2019-09-12T02:54:26.296199Z"
    }
   },
   "outputs": [],
   "source": [
    "#from 2010-1-1 onward, take out min(10%, 2000) loans to set aside as train"
   ]
  },
  {
   "cell_type": "code",
   "execution_count": 55,
   "metadata": {
    "ExecuteTime": {
     "end_time": "2019-09-12T04:36:02.311871Z",
     "start_time": "2019-09-12T04:35:59.235388Z"
    }
   },
   "outputs": [],
   "source": [
    "doneness = .95\n",
    "train_testable_eval_loan_info = eval_loan_info.query('maturity_time_stat_adj >= @doneness or maturity_paid_stat_adj >= @doneness')\n",
    "train_testable_ids = train_testable_eval_loan_info['id']\n",
    "train_testable_loan_info = base_loan_info.query('id in @train_testable_ids')\n",
    "\n",
    "assert train_testable_eval_loan_info.shape[0] == train_testable_loan_info.shape[0]\n",
    "\n",
    "train_testable_eval_loan_info.reset_index(drop=True).to_feather(os.path.join(dpath, 'train_testable_eval_loan_info.fth'))\n",
    "train_testable_loan_info.reset_index(drop=True).to_feather(os.path.join(dpath, 'train_testable_loan_info.fth'))"
   ]
  },
  {
   "cell_type": "code",
   "execution_count": 76,
   "metadata": {
    "ExecuteTime": {
     "end_time": "2019-09-12T04:46:11.620943Z",
     "start_time": "2019-09-12T04:46:09.504221Z"
    }
   },
   "outputs": [],
   "source": [
    "train_testable_eval_loan_info = pd.read_feather(os.path.join(dpath, 'train_testable_eval_loan_info.fth'))\n",
    "train_testable_loan_info = pd.read_feather(os.path.join(dpath, 'train_testable_loan_info.fth'))"
   ]
  },
  {
   "cell_type": "code",
   "execution_count": 77,
   "metadata": {
    "ExecuteTime": {
     "end_time": "2019-09-12T04:46:12.270718Z",
     "start_time": "2019-09-12T04:46:12.225871Z"
    }
   },
   "outputs": [],
   "source": [
    "issue_d_g = train_testable_eval_loan_info.groupby('issue_d')"
   ]
  },
  {
   "cell_type": "code",
   "execution_count": 101,
   "metadata": {
    "ExecuteTime": {
     "end_time": "2019-09-12T04:59:32.780855Z",
     "start_time": "2019-09-12T04:59:32.275260Z"
    }
   },
   "outputs": [],
   "source": [
    "test_ids = []\n",
    "for date, group in issue_d_g:\n",
    "    if date >= pd.to_datetime('2010-1-1'):\n",
    "        test_ids.extend(group.sample(n = min(int(len(group)*.1), 2000))['id'].tolist())"
   ]
  },
  {
   "cell_type": "code",
   "execution_count": 107,
   "metadata": {
    "ExecuteTime": {
     "end_time": "2019-09-12T05:01:46.835338Z",
     "start_time": "2019-09-12T05:01:45.694965Z"
    }
   },
   "outputs": [],
   "source": [
    "test_eval_loan_info = train_testable_eval_loan_info.query('id in @test_ids')\n",
    "test_loan_info = train_testable_loan_info.query('id in @test_ids')\n",
    "\n",
    "train_eval_loan_info = train_testable_eval_loan_info.query('id not in @test_ids')\n",
    "train_loan_info = train_testable_loan_info.query('id not in @test_ids')"
   ]
  },
  {
   "cell_type": "code",
   "execution_count": 126,
   "metadata": {
    "ExecuteTime": {
     "end_time": "2019-09-12T17:17:35.370045Z",
     "start_time": "2019-09-12T17:17:35.344508Z"
    }
   },
   "outputs": [],
   "source": [
    "def check_not_same_loans(tr, te, to):\n",
    "    if len(set(tr['id']).intersection(set(te['id']))) == 0: return True\n",
    "    else: return False\n",
    "    \n",
    "def check_all_loans_accounted(tr, te, to):\n",
    "    if tr.shape[0] + te.shape[0] == to.shape[0]: return True\n",
    "    else: return False\n",
    "    \n",
    "def check_same_n_instances(df1, df2):\n",
    "    if df1.shape[0] == df2.shape[0]: return True\n",
    "    else: return False\n",
    "    \n",
    "def check_same_n_cols(df1, df2):\n",
    "    if df1.shape[1] == df2.shape[1]: return True\n",
    "    else: return False    \n",
    "    \n",
    "def check_train_test_testable(train, test, testable, train1, test1, testable1):\n",
    "    '''\n",
    "    First set for loan_info, second set for eval_loan_info\n",
    "    '''\n",
    "    print(train.shape, test.shape, testable.shape, train1.shape, test1.shape, testable1.shape)\n",
    "    assert check_not_same_loans(train, test, testable)\n",
    "    assert check_all_loans_accounted(train, test , testable)\n",
    "    assert check_not_same_loans(train1, test1, testable1)\n",
    "    assert check_all_loans_accounted(train1, test1 , testable1)\n",
    "    assert check_same_n_instances(train, train1)\n",
    "    assert check_same_n_instances(test, test1)\n",
    "    assert check_same_n_instances(testable, testable1)\n",
    "    assert check_same_n_cols(train, test)\n",
    "    assert check_same_n_cols(train1, test1)\n",
    "    return True"
   ]
  },
  {
   "cell_type": "code",
   "execution_count": 127,
   "metadata": {
    "ExecuteTime": {
     "end_time": "2019-09-12T17:17:36.661276Z",
     "start_time": "2019-09-12T17:17:36.173988Z"
    }
   },
   "outputs": [
    {
     "name": "stdout",
     "output_type": "stream",
     "text": [
      "(1354333, 46) (118856, 46) (1473189, 46) (1354333, 103) (118856, 103) (1473189, 103)\n"
     ]
    },
    {
     "data": {
      "text/plain": [
       "True"
      ]
     },
     "execution_count": 127,
     "metadata": {},
     "output_type": "execute_result"
    }
   ],
   "source": [
    "check_train_test_testable(train_eval_loan_info, test_eval_loan_info, train_testable_eval_loan_info,\n",
    "                          train_loan_info, test_loan_info, train_testable_loan_info)"
   ]
  },
  {
   "cell_type": "code",
   "execution_count": 130,
   "metadata": {
    "ExecuteTime": {
     "end_time": "2019-09-12T17:22:30.229387Z",
     "start_time": "2019-09-12T17:22:28.119165Z"
    }
   },
   "outputs": [],
   "source": [
    "# save\n",
    "test_eval_loan_info.reset_index(drop=True).to_feather(os.path.join(dpath, 'test_eval_loan_info.fth'))\n",
    "test_loan_info.reset_index(drop=True).to_feather(os.path.join(dpath, 'test_loan_info.fth'))\n",
    "train_eval_loan_info.reset_index(drop=True).to_feather(os.path.join(dpath, 'train_eval_loan_info.fth'))\n",
    "train_loan_info.reset_index(drop=True).to_feather(os.path.join(dpath, 'train_loan_info.fth'))"
   ]
  },
  {
   "cell_type": "code",
   "execution_count": 148,
   "metadata": {
    "ExecuteTime": {
     "end_time": "2019-09-12T19:21:14.036874Z",
     "start_time": "2019-09-12T19:21:10.882878Z"
    }
   },
   "outputs": [],
   "source": [
    "# make 10 bootstrap month-by-month test_loan_infos (and maybe test_eval_loan_infos?)\n",
    "issue_d_g = test_eval_loan_info.groupby('issue_d')\n",
    "for i in range(10):\n",
    "    to_concat = []\n",
    "    for d, g in issue_d_g:\n",
    "        to_concat.append(g.sample(len(g), replace=True))\n",
    "    df = pd.concat(to_concat)\n",
    "    df.reset_index(drop=True).to_feather(os.path.join(dpath, 'test_eval_loan_info_{0}_bootstrap.fth'.format(i)))"
   ]
  },
  {
   "cell_type": "code",
   "execution_count": 150,
   "metadata": {
    "ExecuteTime": {
     "end_time": "2019-09-12T19:30:07.211331Z",
     "start_time": "2019-09-12T19:30:06.770899Z"
    }
   },
   "outputs": [
    {
     "name": "stdout",
     "output_type": "stream",
     "text": [
      "\u001b[0m\u001b[01;32mbase_loan_info.fth\u001b[0m*              test_eval_loan_info_0_bootstrap.fth\r\n",
      "bsmbm_top30_df.csv               test_eval_loan_info_1_bootstrap.fth\r\n",
      "\u001b[01;32mclean_pmt_history_1.fth\u001b[0m*         test_eval_loan_info_2_bootstrap.fth\r\n",
      "\u001b[01;32mclean_pmt_history_2.fth\u001b[0m*         test_eval_loan_info_3_bootstrap.fth\r\n",
      "\u001b[01;32mclean_pmt_history_3.fth\u001b[0m*         test_eval_loan_info_4_bootstrap.fth\r\n",
      "\u001b[01;34mcsvs\u001b[0m/                            test_eval_loan_info_5_bootstrap.fth\r\n",
      "\u001b[01;32meval_loan_info.fth\u001b[0m*              test_eval_loan_info_6_bootstrap.fth\r\n",
      "\u001b[01;32mexample.py\u001b[0m*                      test_eval_loan_info_7_bootstrap.fth\r\n",
      "\u001b[01;32mloan_info_api_name_matched.fth\u001b[0m*  test_eval_loan_info_8_bootstrap.fth\r\n",
      "\u001b[01;32mloan_info.fth\u001b[0m*                   test_eval_loan_info_9_bootstrap.fth\r\n",
      "mbm_top30_df.csv                 test_eval_loan_info.fth\r\n",
      "model_returns_dict.pkl           test_loan_info.fth\r\n",
      "npv_roi_df.fth                   train_eval_loan_info.fth\r\n",
      "\u001b[01;32mraw_loan_info.fth\u001b[0m*               train_loan_info.fth\r\n",
      "\u001b[01;32mscaled_pmt_hist.fth\u001b[0m*             train_testable_eval_loan_info.fth\r\n",
      "\u001b[01;32mstrings_loan_info_df.fth\u001b[0m*        train_testable_loan_info.fth\r\n",
      "\u001b[01;32mstr_loan_info.fth\u001b[0m*               whole_top30_df.csv\r\n"
     ]
    }
   ],
   "source": [
    "ls {dpath}"
   ]
  },
  {
   "cell_type": "code",
   "execution_count": null,
   "metadata": {},
   "outputs": [],
   "source": []
  }
 ],
 "metadata": {
  "kernelspec": {
   "display_name": "Python [conda env:lendingclub] *",
   "language": "python",
   "name": "conda-env-lendingclub-py"
  },
  "language_info": {
   "codemirror_mode": {
    "name": "ipython",
    "version": 3
   },
   "file_extension": ".py",
   "mimetype": "text/x-python",
   "name": "python",
   "nbconvert_exporter": "python",
   "pygments_lexer": "ipython3",
   "version": "3.7.4"
  }
 },
 "nbformat": 4,
 "nbformat_minor": 2
}
