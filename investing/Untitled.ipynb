{
 "cells": [
  {
   "cell_type": "code",
   "execution_count": null,
   "metadata": {
    "ExecuteTime": {
     "end_time": "2018-02-12T20:50:45.191984Z",
     "start_time": "2018-02-12T20:50:45.187025Z"
    }
   },
   "outputs": [],
   "source": [
    "# %load /home/justin/invest_round.sh\n",
    "#! /bin/bash\n",
    "# echo $PATH 2>&1 | mail -s pre_source ruwenus@gmail.com\n",
    "source justin_tinkering/justin_tinker/bin/activate\n",
    "export PATH=\"/home/justin/bin:/home/justin/.local/bin:/usr/local/cuda-8.0/bin:/home/justin/anaconda3/bin:/usr/local/sbin:/usr/local/bin:/usr/sbin:/usr/bin:/sbin:/bin:/usr/games:/usr/local/games:/snap/bin$ \"\n",
    "#export PATH=\"${PATH}:/home/justin/justin_tinkering/data_science/\"\n",
    "# echo $PATH 2>&1 | mail -s post_source ruwenus@gmail.com\n",
    "#export PYTHONPATH=\"${PYTHONPATH}:/home/justin/anaconda3/bin/python/\"\n",
    "#export PYTHONPATH=\"${PYTHONPATH}:/home/justin/anaconda3/lib/python3.6/site-packages/\"\n",
    "export PYTHONPATH=\"${PYTHONPATH}:/home/justin/justin_tinkering/data_science/\"\n",
    "# python -c \"import sys; print '\\n'.join(sys.path)\" 2>&1 | mail -s python_post_SOURCE ruwenus@gmail.com\n",
    "\n",
    "# virtualenv is now active, which means your PATH has been modified.\n",
    "# Don't try to run python from /usr/bin/python, just run \"python\" and\n",
    "# let the PATH figure out which version to run (based on what your\n",
    "# virtualenv has configured).\n",
    "\n",
    "python ~/justin_tinkering/data_science/lendingclub/investing/invest_script.py 2>&1 | mail -s `date +\"%Y/%m/%d-%H:%M:%S\"`_investment_round ruwenus@gmail.com\n",
    "#sleep 1s\n",
    "#python ~/justin_tinkering/data_science/lendingclub/counting_loans_batches/count_loans.py 2>&1 | mail -s `date +\"%Y/%m/%d-%H:%M:%S\"`loan_count_after_invest_round ruwenus@gmail.com\n",
    "\n",
    "sleep 5s\n",
    "\n",
    "python ~/justin_tinkering/data_science/lendingclub/investing/invest_script_instant.py 2>&1 | mail -s `date +\"%Y/%m/%d-%H:%M:%S\"`_investment_round ruwenus@gmail.com\n",
    "#sleep 1s\n",
    "#python ~/justin_tinkering/data_science/lendingclub/counting_loans_batches/count_loans.py 2>&1 | mail -s `date +\"%Y/%m/%d-%H:%M:%S\"`loan_count_after_invest_round ruwenus@gmail.com\n"
   ]
  },
  {
   "cell_type": "code",
   "execution_count": 9,
   "metadata": {
    "ExecuteTime": {
     "end_time": "2018-02-12T20:51:33.687585Z",
     "start_time": "2018-02-12T20:51:33.570754Z"
    }
   },
   "outputs": [],
   "source": [
    "!export PATH=\"/home/justin/bin:/home/justin/.local/bin:/usr/local/cuda-8.0/bin:/home/justin/anaconda3/bin:/usr/local/sbin:/usr/local/bin:/usr/sbin:/usr/bin:/sbin:/bin:/usr/games:/usr/local/games:/snap/bin$ \""
   ]
  },
  {
   "cell_type": "code",
   "execution_count": 10,
   "metadata": {
    "ExecuteTime": {
     "end_time": "2018-02-12T20:51:34.489990Z",
     "start_time": "2018-02-12T20:51:34.372481Z"
    }
   },
   "outputs": [],
   "source": [
    "!export PYTHONPATH=\"${PYTHONPATH}:/home/justin/justin_tinkering/data_science/\""
   ]
  },
  {
   "cell_type": "code",
   "execution_count": 11,
   "metadata": {
    "ExecuteTime": {
     "end_time": "2018-02-12T20:51:35.502343Z",
     "start_time": "2018-02-12T20:51:35.183797Z"
    }
   },
   "outputs": [
    {
     "name": "stdout",
     "output_type": "stream",
     "text": [
      "From DL Server, instant invest\n",
      "Traceback (most recent call last):\n",
      "  File \"invest_script_instant.py\", line 6, in <module>\n",
      "    import lendingclub.account_info as acc_info\n",
      "ModuleNotFoundError: No module named 'lendingclub'\n"
     ]
    }
   ],
   "source": [
    "!python invest_script_instant.py"
   ]
  },
  {
   "cell_type": "code",
   "execution_count": null,
   "metadata": {},
   "outputs": [],
   "source": []
  }
 ],
 "metadata": {
  "kernelspec": {
   "display_name": "Python 3",
   "language": "python",
   "name": "python3"
  },
  "language_info": {
   "codemirror_mode": {
    "name": "ipython",
    "version": 3
   },
   "file_extension": ".py",
   "mimetype": "text/x-python",
   "name": "python",
   "nbconvert_exporter": "python",
   "pygments_lexer": "ipython3",
   "version": "3.6.3"
  },
  "varInspector": {
   "cols": {
    "lenName": 16,
    "lenType": 16,
    "lenVar": 40
   },
   "kernels_config": {
    "python": {
     "delete_cmd_postfix": "",
     "delete_cmd_prefix": "del ",
     "library": "var_list.py",
     "varRefreshCmd": "print(var_dic_list())"
    },
    "r": {
     "delete_cmd_postfix": ") ",
     "delete_cmd_prefix": "rm(",
     "library": "var_list.r",
     "varRefreshCmd": "cat(var_dic_list()) "
    }
   },
   "types_to_exclude": [
    "module",
    "function",
    "builtin_function_or_method",
    "instance",
    "_Feature"
   ],
   "window_display": false
  }
 },
 "nbformat": 4,
 "nbformat_minor": 2
}
