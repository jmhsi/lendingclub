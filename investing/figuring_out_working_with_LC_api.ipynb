{
 "cells": [
  {
   "cell_type": "code",
   "execution_count": 1,
   "metadata": {
    "ExecuteTime": {
     "end_time": "2017-09-07T18:51:21.811687Z",
     "start_time": "2017-09-07T18:51:21.805856Z"
    },
    "collapsed": true,
    "scrolled": true
   },
   "outputs": [],
   "source": [
    "import requests\n",
    "import json\n",
    "import lendingclub.account_info as acc_info\n",
    "import re\n",
    "from sklearn.externals import joblib\n",
    "import lendingclub.dataprep_and_modeling.modeling_utils.data_prep_new as data_prep\n",
    "import lendingclub.investing.investing_utils as investing_utils\n",
    "\n",
    "# constants\n",
    "token = acc_info.token\n",
    "header = {\n",
    "    'Authorization': token,\n",
    "    'Content-Type': 'application/json',\n",
    "    'X-LC-LISTING-VERSION': '1.2'\n",
    "}\n",
    "min_score = -0.035764345824470828"
   ]
  },
  {
   "cell_type": "code",
   "execution_count": 3,
   "metadata": {
    "ExecuteTime": {
     "end_time": "2017-09-07T18:42:20.954515Z",
     "start_time": "2017-09-07T18:42:20.950856Z"
    },
    "collapsed": true,
    "scrolled": true
   },
   "outputs": [],
   "source": [
    "# platform = 'lendingclub'\n",
    "\n",
    "# store = pd.HDFStore(\n",
    "#     '/Users/justinhsi/justin_tinkering/data_science/lendingclub/{0}_store.h5'.\n",
    "#     format(platform),\n",
    "#     append=True)\n",
    "\n",
    "# test_loans = store['test_filtered_columns']\n",
    "# train_loans = store['train_filtered_columns']\n",
    "# store.close()"
   ]
  },
  {
   "cell_type": "code",
   "execution_count": 4,
   "metadata": {
    "ExecuteTime": {
     "end_time": "2017-09-07T18:42:21.325873Z",
     "start_time": "2017-09-07T18:42:21.320095Z"
    }
   },
   "outputs": [
    {
     "data": {
      "text/plain": [
       "<module 'lendingclub.investing.investing_utils' from '/Users/justinhsi/justin_tinkering/data_science/lendingclub/investing/investing_utils.pyc'>"
      ]
     },
     "execution_count": 4,
     "metadata": {},
     "output_type": "execute_result"
    }
   ],
   "source": [
    "reload(investing_utils)"
   ]
  },
  {
   "cell_type": "code",
   "execution_count": 5,
   "metadata": {
    "ExecuteTime": {
     "end_time": "2017-09-07T18:42:25.689537Z",
     "start_time": "2017-09-07T18:42:21.737074Z"
    },
    "collapsed": true
   },
   "outputs": [],
   "source": [
    "api_loans, api_ids = investing_utils.get_loans_and_ids(header, True)\n",
    "api_loans = investing_utils.match_col_names(api_loans)\n",
    "api_loans = investing_utils.match_existing_cols_to_csv(api_loans)\n",
    "api_loans = investing_utils.make_missing_cols_and_del_dates(api_loans)"
   ]
  },
  {
   "cell_type": "code",
   "execution_count": 6,
   "metadata": {
    "ExecuteTime": {
     "end_time": "2017-09-07T18:42:25.697028Z",
     "start_time": "2017-09-07T18:42:25.691848Z"
    }
   },
   "outputs": [
    {
     "data": {
      "text/plain": [
       "223"
      ]
     },
     "execution_count": 6,
     "metadata": {},
     "output_type": "execute_result"
    }
   ],
   "source": [
    "len(api_loans)"
   ]
  },
  {
   "cell_type": "code",
   "execution_count": 7,
   "metadata": {
    "ExecuteTime": {
     "end_time": "2017-09-07T18:42:25.702584Z",
     "start_time": "2017-09-07T18:42:25.699225Z"
    },
    "collapsed": true
   },
   "outputs": [],
   "source": [
    "# if investing_utils.verify_df_base_cols(api_loans, test_loans):\n",
    "#     print('good to go')\n",
    "#     test_loans = test_loans[api_loans.columns]"
   ]
  },
  {
   "cell_type": "code",
   "execution_count": 8,
   "metadata": {
    "ExecuteTime": {
     "end_time": "2017-09-07T18:42:26.443761Z",
     "start_time": "2017-09-07T18:42:26.368672Z"
    },
    "collapsed": true
   },
   "outputs": [],
   "source": [
    "# examine_api_pre_standardized = data_prep.prep_data_cols(api_loans)\n",
    "# examine_test_pre_standardized = data_prep.prep_data_cols(test_loans)\n",
    "# examine_test, _ = data_prep.process_data_test(test_loans)\n",
    "# for col in examine_test.columns.values:\n",
    "#     if len(examine_test[examine_test[col].isnull()]) > 0:\n",
    "#         print(col)\n",
    "# for col in examine_api.columns.values:\n",
    "#     if len(examine_api[examine_api[col].isnull()]) > 0:\n",
    "#         print(col)\n",
    "api_X, _ = data_prep.process_data_test(api_loans)"
   ]
  },
  {
   "cell_type": "code",
   "execution_count": 9,
   "metadata": {
    "ExecuteTime": {
     "end_time": "2017-09-07T18:42:27.619590Z",
     "start_time": "2017-09-07T18:42:26.968042Z"
    },
    "collapsed": true
   },
   "outputs": [],
   "source": [
    "# score the api_loans\n",
    "regr = joblib.load(data_prep.base_path + '/model_dump/model_0.2.1.pkl')\n",
    "api_yhat = regr.predict(api_X)"
   ]
  },
  {
   "cell_type": "code",
   "execution_count": 10,
   "metadata": {
    "ExecuteTime": {
     "end_time": "2017-09-07T18:42:27.744748Z",
     "start_time": "2017-09-07T18:42:27.621793Z"
    }
   },
   "outputs": [
    {
     "name": "stderr",
     "output_type": "stream",
     "text": [
      "/Users/justinhsi/justin_tinkering/justin_tinker/lib/python2.7/site-packages/sklearn/utils/validation.py:395: DeprecationWarning: Passing 1d arrays as data is deprecated in 0.17 and will raise ValueError in 0.19. Reshape your data either using X.reshape(-1, 1) if your data has a single feature or X.reshape(1, -1) if it contains a single sample.\n",
      "  DeprecationWarning)\n"
     ]
    },
    {
     "data": {
      "text/plain": [
       "array([-0.083301])"
      ]
     },
     "execution_count": 10,
     "metadata": {},
     "output_type": "execute_result"
    }
   ],
   "source": [
    "regr.predict(api_X.loc[0,:])"
   ]
  },
  {
   "cell_type": "code",
   "execution_count": 11,
   "metadata": {
    "ExecuteTime": {
     "end_time": "2017-09-07T18:42:27.777618Z",
     "start_time": "2017-09-07T18:42:27.771057Z"
    }
   },
   "outputs": [
    {
     "data": {
      "text/plain": [
       "Series([], Name: id, dtype: int64)"
      ]
     },
     "execution_count": 11,
     "metadata": {},
     "output_type": "execute_result"
    }
   ],
   "source": [
    "api_ids[api_ids == 116999298]"
   ]
  },
  {
   "cell_type": "code",
   "execution_count": 12,
   "metadata": {
    "ExecuteTime": {
     "end_time": "2017-09-07T18:42:28.348101Z",
     "start_time": "2017-09-07T18:42:28.344209Z"
    }
   },
   "outputs": [
    {
     "data": {
      "text/plain": [
       "223"
      ]
     },
     "execution_count": 12,
     "metadata": {},
     "output_type": "execute_result"
    }
   ],
   "source": [
    "len(api_X)"
   ]
  },
  {
   "cell_type": "code",
   "execution_count": 13,
   "metadata": {
    "ExecuteTime": {
     "end_time": "2017-09-07T18:42:28.852265Z",
     "start_time": "2017-09-07T18:42:28.849022Z"
    },
    "collapsed": true
   },
   "outputs": [],
   "source": [
    "ids_and_scores = pd.Series(dict(zip(api_ids,api_yhat)))"
   ]
  },
  {
   "cell_type": "code",
   "execution_count": 14,
   "metadata": {
    "ExecuteTime": {
     "end_time": "2017-09-07T18:42:29.518895Z",
     "start_time": "2017-09-07T18:42:29.511655Z"
    }
   },
   "outputs": [
    {
     "data": {
      "text/plain": [
       "count    223.000000\n",
       "mean      -0.216885\n",
       "std        0.089152\n",
       "min       -0.504869\n",
       "25%       -0.284159\n",
       "50%       -0.204314\n",
       "75%       -0.148518\n",
       "max       -0.057372\n",
       "dtype: float64"
      ]
     },
     "execution_count": 14,
     "metadata": {},
     "output_type": "execute_result"
    }
   ],
   "source": [
    "ids_and_scores.describe()"
   ]
  },
  {
   "cell_type": "code",
   "execution_count": 15,
   "metadata": {
    "ExecuteTime": {
     "end_time": "2017-09-07T18:42:30.229487Z",
     "start_time": "2017-09-07T18:42:30.224899Z"
    },
    "collapsed": true,
    "scrolled": true
   },
   "outputs": [],
   "source": [
    "to_pick_from = ids_and_scores[ids_and_scores >= -.07]"
   ]
  },
  {
   "cell_type": "code",
   "execution_count": 16,
   "metadata": {
    "ExecuteTime": {
     "end_time": "2017-09-07T18:42:31.043719Z",
     "start_time": "2017-09-07T18:42:31.039691Z"
    }
   },
   "outputs": [
    {
     "data": {
      "text/plain": [
       "223"
      ]
     },
     "execution_count": 16,
     "metadata": {},
     "output_type": "execute_result"
    }
   ],
   "source": [
    "len(ids_and_scores)"
   ]
  },
  {
   "cell_type": "code",
   "execution_count": 17,
   "metadata": {
    "ExecuteTime": {
     "end_time": "2017-09-07T18:42:31.486265Z",
     "start_time": "2017-09-07T18:42:31.482433Z"
    }
   },
   "outputs": [
    {
     "data": {
      "text/plain": [
       "6"
      ]
     },
     "execution_count": 17,
     "metadata": {},
     "output_type": "execute_result"
    }
   ],
   "source": [
    "len(to_pick_from)"
   ]
  },
  {
   "cell_type": "code",
   "execution_count": 18,
   "metadata": {
    "ExecuteTime": {
     "end_time": "2017-09-07T18:42:32.045074Z",
     "start_time": "2017-09-07T18:42:32.039181Z"
    }
   },
   "outputs": [
    {
     "data": {
      "text/plain": [
       "117628923   -0.061541\n",
       "117686670   -0.069319\n",
       "118097554   -0.064102\n",
       "118257837   -0.067281\n",
       "118310857   -0.057372\n",
       "118329475   -0.062893\n",
       "dtype: float64"
      ]
     },
     "execution_count": 18,
     "metadata": {},
     "output_type": "execute_result"
    }
   ],
   "source": [
    "to_pick_from"
   ]
  },
  {
   "cell_type": "code",
   "execution_count": 19,
   "metadata": {
    "ExecuteTime": {
     "end_time": "2017-09-07T18:42:32.998378Z",
     "start_time": "2017-09-07T18:42:32.991821Z"
    }
   },
   "outputs": [
    {
     "data": {
      "text/plain": [
       "118310857   -0.057372\n",
       "117628923   -0.061541\n",
       "118329475   -0.062893\n",
       "118097554   -0.064102\n",
       "118257837   -0.067281\n",
       "117686670   -0.069319\n",
       "dtype: float64"
      ]
     },
     "execution_count": 19,
     "metadata": {},
     "output_type": "execute_result"
    }
   ],
   "source": [
    "to_pick_from.sort_values(ascending=False)"
   ]
  },
  {
   "cell_type": "code",
   "execution_count": 21,
   "metadata": {
    "ExecuteTime": {
     "end_time": "2017-08-27T22:33:03.837200Z",
     "start_time": "2017-08-27T22:33:03.495110Z"
    },
    "collapsed": true
   },
   "outputs": [],
   "source": [
    "portfolios = json.loads(\n",
    "    requests.get(\n",
    "        'https://api.lendingclub.com/api/investor/v1/accounts/40375293/portfolios',\n",
    "        headers=header).content)"
   ]
  },
  {
   "cell_type": "code",
   "execution_count": 22,
   "metadata": {
    "ExecuteTime": {
     "end_time": "2017-08-27T22:33:04.346302Z",
     "start_time": "2017-08-27T22:33:04.341649Z"
    }
   },
   "outputs": [
    {
     "data": {
      "text/plain": [
       "{u'myPortfolios': [{u'portfolioDescription': u'rf regressor 0.2.1 8-27-2017',\n",
       "   u'portfolioId': 121622034,\n",
       "   u'portfolioName': u'0.2.1_rf'},\n",
       "  {u'portfolioDescription': None,\n",
       "   u'portfolioId': 121452018,\n",
       "   u'portfolioName': u'pre_justin_RF'}]}"
      ]
     },
     "execution_count": 22,
     "metadata": {},
     "output_type": "execute_result"
    }
   ],
   "source": [
    "portfolios"
   ]
  },
  {
   "cell_type": "code",
   "execution_count": 43,
   "metadata": {
    "ExecuteTime": {
     "end_time": "2017-08-28T01:56:44.798424Z",
     "start_time": "2017-08-28T01:56:44.795908Z"
    },
    "collapsed": true
   },
   "outputs": [],
   "source": [
    "# checking to see if I can get loan ids of owned notes"
   ]
  },
  {
   "cell_type": "code",
   "execution_count": 47,
   "metadata": {
    "ExecuteTime": {
     "end_time": "2017-08-28T01:58:06.300183Z",
     "start_time": "2017-08-28T01:58:05.561983Z"
    },
    "collapsed": true
   },
   "outputs": [],
   "source": [
    "my_notes = json.loads(requests.get(\n",
    "        'https://api.lendingclub.com/api/investor/v1/accounts/40375293/notes',\n",
    "        headers=header).content)"
   ]
  },
  {
   "cell_type": "code",
   "execution_count": 51,
   "metadata": {
    "ExecuteTime": {
     "end_time": "2017-08-28T01:58:33.769961Z",
     "start_time": "2017-08-28T01:58:33.750606Z"
    },
    "collapsed": true
   },
   "outputs": [],
   "source": [
    "examine_notes = pd.DataFrame(my_notes['myNotes'])"
   ]
  },
  {
   "cell_type": "code",
   "execution_count": 54,
   "metadata": {
    "ExecuteTime": {
     "end_time": "2017-08-28T01:59:15.828948Z",
     "start_time": "2017-08-28T01:59:15.821665Z"
    }
   },
   "outputs": [
    {
     "data": {
      "text/plain": [
       "Current               1695\n",
       "Fully Paid            1079\n",
       "Charged Off            184\n",
       "Issued                 124\n",
       "Late (31-120 days)      53\n",
       "In Grace Period         26\n",
       "Late (16-30 days)       13\n",
       "Default                  4\n",
       "Name: loanStatus, dtype: int64"
      ]
     },
     "execution_count": 54,
     "metadata": {},
     "output_type": "execute_result"
    }
   ],
   "source": [
    "examine_notes['loanStatus'].value_counts(dropna=False)"
   ]
  },
  {
   "cell_type": "code",
   "execution_count": 58,
   "metadata": {
    "ExecuteTime": {
     "end_time": "2017-08-28T02:00:08.801046Z",
     "start_time": "2017-08-28T02:00:08.795170Z"
    }
   },
   "outputs": [
    {
     "data": {
      "text/plain": [
       "u'2017-08-23T09:19:19.000-07:00'"
      ]
     },
     "execution_count": 58,
     "metadata": {},
     "output_type": "execute_result"
    }
   ],
   "source": [
    "examine_notes[examine_notes['loanStatus'] == 'Issued']['issueDate'].max()"
   ]
  },
  {
   "cell_type": "code",
   "execution_count": 128,
   "metadata": {
    "ExecuteTime": {
     "end_time": "2017-08-28T03:12:00.448156Z",
     "start_time": "2017-08-28T03:11:59.964428Z"
    },
    "scrolled": true
   },
   "outputs": [
    {
     "data": {
      "text/plain": [
       "(198, 118)"
      ]
     },
     "execution_count": 128,
     "metadata": {},
     "output_type": "execute_result"
    }
   ],
   "source": [
    "investing_utils.get_loans_and_ids(header, False)[0].shape"
   ]
  },
  {
   "cell_type": "code",
   "execution_count": 129,
   "metadata": {
    "ExecuteTime": {
     "end_time": "2017-08-28T03:12:09.841736Z",
     "start_time": "2017-08-28T03:12:09.372034Z"
    }
   },
   "outputs": [
    {
     "data": {
      "text/plain": [
       "(198, 118)"
      ]
     },
     "execution_count": 129,
     "metadata": {},
     "output_type": "execute_result"
    }
   ],
   "source": [
    "investing_utils.get_loans_and_ids(header, True)[0].shape"
   ]
  },
  {
   "cell_type": "code",
   "execution_count": null,
   "metadata": {
    "collapsed": true
   },
   "outputs": [],
   "source": []
  },
  {
   "cell_type": "code",
   "execution_count": 126,
   "metadata": {
    "ExecuteTime": {
     "end_time": "2017-08-28T03:11:42.388001Z",
     "start_time": "2017-08-28T03:11:42.381566Z"
    }
   },
   "outputs": [
    {
     "data": {
      "text/plain": [
       "<module 'lendingclub.investing.investing_utils' from '/Users/justinhsi/justin_tinkering/data_science/lendingclub/investing/investing_utils.py'>"
      ]
     },
     "execution_count": 126,
     "metadata": {},
     "output_type": "execute_result"
    }
   ],
   "source": [
    "reload(investing_utils)"
   ]
  },
  {
   "cell_type": "markdown",
   "metadata": {},
   "source": [
    "# Below is testing actual submission of orders"
   ]
  },
  {
   "cell_type": "code",
   "execution_count": 22,
   "metadata": {
    "ExecuteTime": {
     "end_time": "2017-08-28T03:13:57.810394Z",
     "start_time": "2017-08-28T03:13:57.188831Z"
    }
   },
   "outputs": [
    {
     "data": {
      "text/plain": [
       "465.4"
      ]
     },
     "execution_count": 22,
     "metadata": {},
     "output_type": "execute_result"
    }
   ],
   "source": [
    "summary_dict = json.loads(\n",
    "    requests.get(\n",
    "        'https://api.lendingclub.com/api/investor/v1/accounts/40375293/summary',\n",
    "        headers=header).content)\n",
    "cash_to_invest = summary_dict['availableCash']\n",
    "cash_to_invest"
   ]
  },
  {
   "cell_type": "code",
   "execution_count": 2,
   "metadata": {
    "ExecuteTime": {
     "end_time": "2017-09-07T18:48:10.474109Z",
     "start_time": "2017-09-07T18:48:10.470779Z"
    },
    "collapsed": true
   },
   "outputs": [],
   "source": [
    "orders_payload = json.dumps({'aid': 40375293,\n",
    "                             'orders':[{'loanId': 118310857,\n",
    "                                        'requestedAmount': float(25.0),\n",
    "                                        'portfolioId': 121622034}]})"
   ]
  },
  {
   "cell_type": "code",
   "execution_count": 3,
   "metadata": {
    "ExecuteTime": {
     "end_time": "2017-09-07T18:48:15.741313Z",
     "start_time": "2017-09-07T18:48:14.652250Z"
    },
    "collapsed": true
   },
   "outputs": [],
   "source": [
    "order_response = requests.post(\n",
    "    'https://api.lendingclub.com/api/investor/v1/accounts/40375293/orders',\n",
    "headers=header, data=orders_payload)"
   ]
  },
  {
   "cell_type": "code",
   "execution_count": 4,
   "metadata": {
    "ExecuteTime": {
     "end_time": "2017-09-07T18:48:15.748873Z",
     "start_time": "2017-09-07T18:48:15.743097Z"
    }
   },
   "outputs": [
    {
     "data": {
      "text/plain": [
       "'{\"orderInstructId\":166150773,\"orderConfirmations\":[{\"loanId\":118310857,\"requestedAmount\":25.0,\"investedAmount\":25.0,\"executionStatus\":[\"ORDER_FULFILLED\",\"NOTE_ADDED_TO_PORTFOLIO\"]}]}'"
      ]
     },
     "execution_count": 4,
     "metadata": {},
     "output_type": "execute_result"
    }
   ],
   "source": [
    "order_response.content"
   ]
  },
  {
   "cell_type": "code",
   "execution_count": 4,
   "metadata": {
    "ExecuteTime": {
     "end_time": "2017-09-07T18:51:30.552693Z",
     "start_time": "2017-09-07T18:51:30.549373Z"
    },
    "collapsed": true
   },
   "outputs": [],
   "source": [
    "#118310857 \n",
    "orders_payload = json.dumps({'aid': 40375293,\n",
    "                             'orders':[{'loanId': 116999298,\n",
    "                                        'requestedAmount': float(25.0),\n",
    "                                        'portfolioId': 121622034}]})"
   ]
  },
  {
   "cell_type": "code",
   "execution_count": 7,
   "metadata": {
    "ExecuteTime": {
     "end_time": "2017-09-07T19:02:17.880441Z",
     "start_time": "2017-09-07T19:02:17.872899Z"
    }
   },
   "outputs": [
    {
     "name": "stdout",
     "output_type": "stream",
     "text": [
      "{\"aid\": 40375293, \"orders\": [{\"loanId\": 116999298, \"portfolioId\": 121622034, \"requestedAmount\": 25.0}]}\n"
     ]
    }
   ],
   "source": [
    "print(orders_payload)"
   ]
  },
  {
   "cell_type": "code",
   "execution_count": 9,
   "metadata": {
    "ExecuteTime": {
     "end_time": "2017-09-07T19:03:39.529140Z",
     "start_time": "2017-09-07T19:03:34.669344Z"
    }
   },
   "outputs": [
    {
     "name": "stdout",
     "output_type": "stream",
     "text": [
      "will pause 2 seconds\n",
      "right now it is 12:03:35, pausing until 12:03:37\n",
      "Ran investment round.\n",
      "Cash to invest: $1286.46, meaning 51 possible notes to invest in at $25.0 each.\n",
      "219 loans seen through api, of which 0 passed min_score of -0.0459971427699\n",
      "Max scores from this batch was: 118329475   -0.062893\n",
      "118097554   -0.064102\n",
      "118257837   -0.067281\n",
      "117686670   -0.069319\n",
      "118306680   -0.070137\n",
      "dtype: float64\n",
      "Below is from response\n",
      "(<Response [200]>, '{\"orderInstructId\":null}')\n",
      "reached end of invest_script.py\n"
     ]
    }
   ],
   "source": [
    "%run invest_script_instant.py"
   ]
  },
  {
   "cell_type": "code",
   "execution_count": null,
   "metadata": {
    "collapsed": true
   },
   "outputs": [],
   "source": []
  },
  {
   "cell_type": "code",
   "execution_count": null,
   "metadata": {
    "collapsed": true
   },
   "outputs": [],
   "source": []
  },
  {
   "cell_type": "markdown",
   "metadata": {},
   "source": [
    "# trying it via script"
   ]
  },
  {
   "cell_type": "code",
   "execution_count": 33,
   "metadata": {
    "ExecuteTime": {
     "end_time": "2017-08-28T01:36:43.032626Z",
     "start_time": "2017-08-28T01:36:42.419885Z"
    },
    "collapsed": true
   },
   "outputs": [],
   "source": [
    "%run invest_script.py"
   ]
  },
  {
   "cell_type": "code",
   "execution_count": 41,
   "metadata": {
    "ExecuteTime": {
     "end_time": "2017-08-28T22:53:52.558279Z",
     "start_time": "2017-08-28T22:53:52.555503Z"
    },
    "collapsed": true
   },
   "outputs": [],
   "source": [
    "import time"
   ]
  },
  {
   "cell_type": "code",
   "execution_count": 47,
   "metadata": {
    "ExecuteTime": {
     "end_time": "2017-08-28T22:54:42.275835Z",
     "start_time": "2017-08-28T22:54:42.272236Z"
    }
   },
   "outputs": [
    {
     "data": {
      "text/plain": [
       "'2017-08-28:15-54-42'"
      ]
     },
     "execution_count": 47,
     "metadata": {},
     "output_type": "execute_result"
    }
   ],
   "source": [
    "time.strftime('%Y-%m-%d:%H-%M-%S')"
   ]
  },
  {
   "cell_type": "code",
   "execution_count": 14,
   "metadata": {
    "ExecuteTime": {
     "end_time": "2017-08-27T08:54:43.898567Z",
     "start_time": "2017-08-27T08:54:43.894824Z"
    }
   },
   "outputs": [
    {
     "data": {
      "text/plain": [
       "490.4"
      ]
     },
     "execution_count": 14,
     "metadata": {},
     "output_type": "execute_result"
    }
   ],
   "source": [
    "cash_to_invest"
   ]
  },
  {
   "cell_type": "code",
   "execution_count": 33,
   "metadata": {
    "ExecuteTime": {
     "end_time": "2017-08-27T09:29:48.432290Z",
     "start_time": "2017-08-27T09:29:48.430032Z"
    },
    "collapsed": true
   },
   "outputs": [],
   "source": [
    "import ConfigParser"
   ]
  },
  {
   "cell_type": "code",
   "execution_count": 35,
   "metadata": {
    "ExecuteTime": {
     "end_time": "2017-08-27T09:30:05.263933Z",
     "start_time": "2017-08-27T09:30:05.261346Z"
    },
    "collapsed": true
   },
   "outputs": [],
   "source": [
    "cfg_parser = ConfigParser.ConfigParser()"
   ]
  },
  {
   "cell_type": "code",
   "execution_count": 36,
   "metadata": {
    "ExecuteTime": {
     "end_time": "2017-08-27T09:30:17.177228Z",
     "start_time": "2017-08-27T09:30:17.149411Z"
    },
    "collapsed": true
   },
   "outputs": [],
   "source": [
    "cfg_parser.optionxform?"
   ]
  },
  {
   "cell_type": "code",
   "execution_count": 86,
   "metadata": {
    "ExecuteTime": {
     "end_time": "2017-08-29T01:03:21.829689Z",
     "start_time": "2017-08-29T01:03:20.761465Z"
    }
   },
   "outputs": [
    {
     "name": "stdout",
     "output_type": "stream",
     "text": [
      "2017-08-29:01-03-20.763\n",
      "https://api.lendingclub.com/api/investor/v1/loans/listing?filterId=106510869&showAll=true\n",
      "395\n",
      "2017-08-29:01-03-21.825\n"
     ]
    }
   ],
   "source": [
    "%run count_loans.py"
   ]
  },
  {
   "cell_type": "code",
   "execution_count": 57,
   "metadata": {
    "ExecuteTime": {
     "end_time": "2017-08-28T23:06:10.733472Z",
     "start_time": "2017-08-28T23:06:10.731200Z"
    },
    "collapsed": true
   },
   "outputs": [],
   "source": [
    "import pause, datetime"
   ]
  },
  {
   "cell_type": "code",
   "execution_count": 84,
   "metadata": {
    "ExecuteTime": {
     "end_time": "2017-08-29T00:31:02.280364Z",
     "start_time": "2017-08-29T00:31:02.233520Z"
    }
   },
   "outputs": [
    {
     "ename": "AttributeError",
     "evalue": "'datetime.datetime' object has no attribute 'strfmt'",
     "output_type": "error",
     "traceback": [
      "\u001b[0;31m---------------------------------------------------------------------------\u001b[0m",
      "\u001b[0;31mAttributeError\u001b[0m                            Traceback (most recent call last)",
      "\u001b[0;32m<ipython-input-84-2ecb42f6d938>\u001b[0m in \u001b[0;36m<module>\u001b[0;34m()\u001b[0m\n\u001b[0;32m----> 1\u001b[0;31m \u001b[0mdatetime\u001b[0m\u001b[0;34m.\u001b[0m\u001b[0mdatetime\u001b[0m\u001b[0;34m.\u001b[0m\u001b[0mnow\u001b[0m\u001b[0;34m(\u001b[0m\u001b[0;34m)\u001b[0m\u001b[0;34m.\u001b[0m\u001b[0mstrfmt\u001b[0m\u001b[0;34m(\u001b[0m\u001b[0;34m)\u001b[0m\u001b[0;34m\u001b[0m\u001b[0m\n\u001b[0m",
      "\u001b[0;31mAttributeError\u001b[0m: 'datetime.datetime' object has no attribute 'strfmt'"
     ]
    }
   ],
   "source": [
    "datetime.datetime.now().strfmt()"
   ]
  },
  {
   "cell_type": "code",
   "execution_count": 81,
   "metadata": {
    "ExecuteTime": {
     "end_time": "2017-08-28T23:15:58.002743Z",
     "start_time": "2017-08-28T23:15:55.458540Z"
    }
   },
   "outputs": [
    {
     "name": "stdout",
     "output_type": "stream",
     "text": [
      "hello world\n"
     ]
    }
   ],
   "source": [
    "# pause 3 seconds, then print hello world\n",
    "now = datetime.datetime.now()\n",
    "current_hour = now.hour\n",
    "pause_until = datetime.datetime(now.year, now.month, now.day, now.hour,\n",
    "                                now.minute, now.second + 3)\n",
    "pause.until(pause_until)\n",
    "print('hello world')"
   ]
  }
 ],
 "metadata": {
  "kernelspec": {
   "display_name": "Python 3",
   "language": "python",
   "name": "python3"
  },
  "language_info": {
   "codemirror_mode": {
    "name": "ipython",
    "version": 3
   },
   "file_extension": ".py",
   "mimetype": "text/x-python",
   "name": "python",
   "nbconvert_exporter": "python",
   "pygments_lexer": "ipython3",
   "version": "3.6.3"
  },
  "varInspector": {
   "cols": {
    "lenName": 16,
    "lenType": 16,
    "lenVar": 40
   },
   "kernels_config": {
    "python": {
     "delete_cmd_postfix": "",
     "delete_cmd_prefix": "del ",
     "library": "var_list.py",
     "varRefreshCmd": "print(var_dic_list())"
    },
    "r": {
     "delete_cmd_postfix": ") ",
     "delete_cmd_prefix": "rm(",
     "library": "var_list.r",
     "varRefreshCmd": "cat(var_dic_list()) "
    }
   },
   "types_to_exclude": [
    "module",
    "function",
    "builtin_function_or_method",
    "instance",
    "_Feature"
   ],
   "window_display": false
  }
 },
 "nbformat": 4,
 "nbformat_minor": 2
}
