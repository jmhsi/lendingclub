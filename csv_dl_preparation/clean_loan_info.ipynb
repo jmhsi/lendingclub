{
 "cells": [
  {
   "cell_type": "markdown",
   "metadata": {},
   "source": [
    "# Author: Justin Hsi\n",
    "### The prepare script for all platforms"
   ]
  },
  {
   "cell_type": "code",
   "execution_count": null,
   "metadata": {},
   "outputs": [],
   "source": [
    "%load_ext Cython\n",
    "pd.options.display.max_columns = 999"
   ]
  },
  {
   "cell_type": "code",
   "execution_count": null,
   "metadata": {},
   "outputs": [],
   "source": [
    "import math\n",
    "import dir_constants as dc\n",
    "import re\n",
    "from tqdm import tqdm_notebook"
   ]
  },
  {
   "cell_type": "code",
   "execution_count": null,
   "metadata": {},
   "outputs": [],
   "source": [
    "platform = 'lendingclub'\n",
    "\n",
    "store = pd.HDFStore(\n",
    "    dc.home_path+'/justin_tinkering/data_science/lendingclub/{0}_store.h5'.\n",
    "    format(platform),\n",
    "    append=True)\n",
    "loan_info = store['loan_info_merged']\n",
    "store.close()"
   ]
  },
  {
   "cell_type": "markdown",
   "metadata": {},
   "source": [
    "# Cleaning the loan_info"
   ]
  },
  {
   "cell_type": "code",
   "execution_count": null,
   "metadata": {},
   "outputs": [],
   "source": [
    "#turn all date columns into pandas timestamp\n",
    "month_dict = {\n",
    "    'jan': '1',\n",
    "    'feb': '2',\n",
    "    'mar': '3',\n",
    "    'apr': '4',\n",
    "    'may': '5',\n",
    "    'jun': '6',\n",
    "    'jul': '7',\n",
    "    'aug': '8',\n",
    "    'sep': '9',\n",
    "    'oct': '10',\n",
    "    'nov': '11',\n",
    "    'dec': '12'\n",
    "}\n",
    "# date cols\n",
    "date_cols = [\n",
    "    'issue_d', 'earliest_cr_line', 'last_pymnt_d', 'last_credit_pull_d',\n",
    "    'next_pymnt_d', 'sec_app_earliest_cr_line'\n",
    "]\n",
    "\n",
    "for col in date_cols:\n",
    "    loan_info[col] = loan_info[col].str.lower()\n",
    "    loan_info[col] = pd.to_datetime(\n",
    "        loan_info[col].str[:3].str.lower().replace(month_dict) +\n",
    "        loan_info[col].str[3:],\n",
    "        format='%m-%Y')"
   ]
  },
  {
   "cell_type": "code",
   "execution_count": null,
   "metadata": {},
   "outputs": [],
   "source": [
    "# Cleanups\n",
    "\n",
    "# term\n",
    "#loan_info['term'] = loan_info['term'].str.strip().str[:2].astype(float)\n",
    "\n",
    "# int_rate\n",
    "loan_info['int_rate'] = loan_info['int_rate'] / 100\n",
    "\n",
    "# installment funded _________________________________________________________\n",
    "rename_dict = {'installment': 'installment_funded'}\n",
    "loan_info.rename_axis(rename_dict, inplace=True, axis=1)\n",
    "\n",
    "# installment_funded_amnt and installment_loan_amnt\n",
    "# pretty sure installment is installment_funded_amnt\n",
    "# loan_info.rename(columns = {'installment': 'installment_funded_amnt'}, inplace = True)\n",
    "# loan_info['installment_loan_amnt'] = loan_info.apply(funded_amnt_installment_loan_amnt, axis = 1)\n",
    "\n",
    "# grade_n\n",
    "# allGrades = ['A1', 'A2', 'A3', 'A4', 'A5', 'B1', 'B2', 'B3', 'B4', 'B5', 'C1', 'C2', 'C3', 'C4', 'C5',\n",
    "#              'D1', 'D2', 'D3', 'D4', 'D5', 'E1', 'E2', 'E3', 'E4', 'E5', 'F1', 'F2', 'F3', 'F4', 'F5',\n",
    "#              'G1', 'G2', 'G3', 'G4', 'G5']\n",
    "# loan_info['grade_n'] = loan_info['sub_grade'].apply(lambda x: allGrades.index(x))+1\n",
    "\n",
    "# emp_title\n",
    "loan_info['emp_title'] = loan_info['emp_title'].str.lower()\n",
    "\n",
    "# emp_length\n",
    "# dic_emp_length = {'10+ years': 10, '< 1 year': 0, '1 year': 1, '2 years': 2, '3 years': 3,\n",
    "#                   '4 years': 4, '5 years': 5, '6 years': 6, '7 years': 7,\n",
    "#                   '8 years': 8, '9 years': 9,'n/a': 0, '': 0}\n",
    "# loan_info['emp_length'] = loan_info['emp_length'].replace(dic_emp_length)\n",
    "\n",
    "# home_ownership\n",
    "dic_home_ownership = {\n",
    "    'admin_us': 'none',\n",
    "    'mortgage': 'mortgage',\n",
    "    'rent': 'rent',\n",
    "    'own': 'own',\n",
    "    'other': 'other',\n",
    "    'none': 'none',\n",
    "    'any': 'none'\n",
    "}\n",
    "loan_info['home_ownership'] = loan_info['home_ownership'].str.lower().replace(\n",
    "    dic_home_ownership)\n",
    "\n",
    "# verification_status and verification_status_joint\n",
    "dic_verification_status = {\n",
    "    'VERIFIED - income': 'platform',\n",
    "    'VERIFIED - income source': 'source',\n",
    "    'not verified': 'none',\n",
    "    'Source Verified': 'source',\n",
    "    'Not Verified': 'none',\n",
    "    'Verified': 'platform'\n",
    "}\n",
    "loan_info['verification_status'] = loan_info['verification_status'].replace(\n",
    "    dic_verification_status)\n",
    "loan_info['verification_status_joint'] = loan_info[\n",
    "    'verification_status_joint'].replace(dic_verification_status)\n",
    "\n",
    "# status\n",
    "dic_status = {\n",
    "    'Current': 'current',\n",
    "    'Charged Off': 'charged_off',\n",
    "    'Fully Paid': 'paid',\n",
    "    'Late (31-120 days)': 'late_120',\n",
    "    'In Grace Period': 'grace_15',\n",
    "    'Late (16-30 days)': 'late_30',\n",
    "    'Default': 'defaulted',\n",
    "    'Issued': 'current'\n",
    "}\n",
    "loan_info['loan_status'] = loan_info['loan_status'].apply(\n",
    "    lambda x: re.sub('Does not meet the credit policy.  Status:', '', x))\n",
    "loan_info['loan_status'] = loan_info['loan_status'].apply(\n",
    "    lambda x: re.sub('Does not meet the credit policy. Status:', '', x))\n",
    "loan_info['loan_status'] = loan_info['loan_status'].replace(dic_status)\n",
    "\n",
    "#title\n",
    "loan_info['title'] = loan_info['title'].str.lower()\n",
    "\n",
    "#application_type\n",
    "loan_info['application_type'] = loan_info['application_type'].str.lower()\n",
    "\n",
    "# consider at a future date, not turning the below into percents. ________\n",
    "\n",
    "#revol_util\n",
    "loan_info['revol_util'] = loan_info['revol_util'].apply(\n",
    "    lambda x: float(x.strip('%')) / 100 if pd.notnull(x) else np.nan)\n",
    "\n",
    "#all_util\n",
    "loan_info['all_util'] = loan_info['all_util'] / 100.\n",
    "\n",
    "# pct_tl_nvr_dlq\n",
    "loan_info['pct_tl_nvr_dlq'] = loan_info['pct_tl_nvr_dlq'] / 100.\n",
    "\n",
    "# percent_bc_gt_75\n",
    "loan_info['percent_bc_gt_75'] = loan_info['percent_bc_gt_75'] / 100."
   ]
  },
  {
   "cell_type": "code",
   "execution_count": null,
   "metadata": {},
   "outputs": [],
   "source": [
    "# out_prncp is messed up. Fix it\n",
    "loan_info['out_prncp'] = loan_info['funded_amnt'] - loan_info['total_rec_prncp']\n",
    "loan_info['out_prncp'] = np.where(loan_info['out_prncp'] <= 0.019, 0, loan_info['out_prncp'])\n",
    "loan_info['out_prncp'] = loan_info['out_prncp'].round(2)\n",
    "\n",
    "# fix installment_funded as well\n",
    "loan_info['installment_funded'] = np.pmt(loan_info['int_rate']/12, loan_info['term'], -loan_info['funded_amnt'])"
   ]
  },
  {
   "cell_type": "code",
   "execution_count": null,
   "metadata": {},
   "outputs": [],
   "source": [
    "# some date setting stuff for cleanups\n",
    "max_date = loan_info['last_pymnt_d'].max()\n",
    "\n",
    "# end_d to me means the date we can stop tracking things about the loan. Should be defunct\n",
    "def applyEndD(status, group):\n",
    "    if status == 'charged_off':\n",
    "        #split the group into two groups, one which has paid something, and other which has paid nothing\n",
    "        never_paid = group[group['last_pymnt_d'].isnull()]\n",
    "        has_paid = group[group['last_pymnt_d'].notnull()]\n",
    "\n",
    "        never_paid['end_d'] = never_paid['issue_d'] + pd.DateOffset(months=+5)\n",
    "        has_paid['end_d'] = has_paid['last_pymnt_d'] + pd.DateOffset(months=+5)\n",
    "\n",
    "        group.ix[never_paid.index.values, 'end_d'] = never_paid['end_d']\n",
    "        group.ix[has_paid.index.values, 'end_d'] = has_paid['end_d']\n",
    "        return group['end_d']\n",
    "    elif status == 'paid':\n",
    "        return group['last_pymnt_d']\n",
    "    else:\n",
    "        return pd.Series([max_date] * len(group), index=group.index.values)"
   ]
  },
  {
   "cell_type": "code",
   "execution_count": null,
   "metadata": {},
   "outputs": [],
   "source": [
    "# status_grouped \n",
    "status_grouped = loan_info.groupby('loan_status')"
   ]
  },
  {
   "cell_type": "code",
   "execution_count": null,
   "metadata": {},
   "outputs": [],
   "source": [
    "# columns that need to be added\n",
    "\n",
    "# # specify platform\n",
    "# loan_info['platform'] = 'LC'\n",
    "\n",
    "# loan_info['days_late'] = 0 #placeholder column, filling from pmt_loan_infost\n",
    "\n",
    "end_d_series = pd.Series([])\n",
    "for status, group in status_grouped:\n",
    "    end_d_series = end_d_series.append(\n",
    "        applyEndD(status, group), verify_integrity=True)\n",
    "\n",
    "loan_info['end_d'] = end_d_series\n",
    "\n",
    "# # next_pymnt_d\n",
    "# def applyNextPmtD(status, group):\n",
    "#     if status in ['charged_off', 'paid']:\n",
    "#         return pd.Series([np.nan]*len(group), index = group.index.values)\n",
    "#     else:\n",
    "#         return group['issue_d'] + pd.DateOffset(months=+1)\n",
    "\n",
    "# next_pymnt_d_series = pd.Series([])\n",
    "# for status, group in status_grouped:\n",
    "#     next_pymnt_d_series = next_pymnt_d_series.append(applyNextPmtD(status, group), verify_integrity=True)\n",
    "\n",
    "# loan_info['next_pymnt_d'] = next_pymnt_d_series\n",
    "\n",
    "# adding line_history_d, line_history_m, and line_history_y, there's prob a more accurate way to do this\n",
    "loan_info['line_history_d'] = (\n",
    "    loan_info['issue_d'] - loan_info['earliest_cr_line']) / np.timedelta64(\n",
    "        1, 'D')\n",
    "loan_info['line_history_m'] = (loan_info['line_history_d'] *\n",
    "                               (12 / 365.25)).round()\n",
    "loan_info['line_history_y'] = (loan_info['line_history_m']) / 12.\n",
    "\n",
    "#credit_score\n",
    "loan_info['fico'] = (\n",
    "    loan_info['fico_range_high'] + loan_info['fico_range_low']) / 2\n",
    "\n",
    "# maturity_time\n",
    "# put in maturity time so I can look at old data for historic default int_rates\n",
    "loan_info['months_paid'] = ((\n",
    "    max_date - loan_info['issue_d']) / np.timedelta64(1, 'D') *\n",
    "                            (12 / 365.25)).round()\n",
    "loan_info['maturity_time'] = loan_info['months_paid'] / loan_info['term']\n",
    "loan_info['maturity_time'] = np.where(loan_info['maturity_time'] >= 1, 1,\n",
    "                                      loan_info['maturity_time'])"
   ]
  },
  {
   "cell_type": "code",
   "execution_count": null,
   "metadata": {},
   "outputs": [],
   "source": [
    "%%cython\n",
    "cimport numpy as np\n",
    "import numpy as np\n",
    "\n",
    "cpdef rem_to_be_paid(double out_prncp,\n",
    "                     double install,\n",
    "                     double int_rate):\n",
    "    cdef double m_rate\n",
    "    cdef double to_be_paid\n",
    "    m_rate = int_rate/12\n",
    "    to_be_paid = 0.0\n",
    "    k = 0\n",
    "    while out_prncp > 0:\n",
    "        k += 1\n",
    "        out_prncp = (1+m_rate) * out_prncp\n",
    "        out_prncp -= install\n",
    "        to_be_paid += install\n",
    "        # the break was added to figure out what was wrong with infinite while; it was due to installment funded\n",
    "        # being INCORRECTLY REPORTED by lending club\n",
    "        if k >= 100:\n",
    "            print(to_be_paid)\n",
    "            break\n",
    "        if out_prncp < 0:\n",
    "            to_be_paid -= abs(out_prncp)\n",
    "    return to_be_paid\n",
    "\n",
    "cpdef np.ndarray[double] apply_rem_to_be_paid(np.ndarray col_out_prncp,\n",
    "                                              np.ndarray col_install,\n",
    "                                              np.ndarray col_int_rate):\n",
    "    assert (col_out_prncp.dtype == np.float and col_install.dtype == np.float and col_int_rate.dtype == np.float)\n",
    "    cdef Py_ssize_t i, n = len(col_out_prncp)\n",
    "    assert (len(col_out_prncp) == len(col_install) == n)\n",
    "    cdef np.ndarray[double] res = np.empty(n)\n",
    "    for i in xrange(n):\n",
    "        res[i] = rem_to_be_paid(col_out_prncp[i],\n",
    "                                col_install[i],\n",
    "                                col_int_rate[i])\n",
    "    return res"
   ]
  },
  {
   "cell_type": "markdown",
   "metadata": {},
   "source": [
    "# Somewhere, apply rem_to_be_paid stalls. Chunk it and iterate to see which chunk?"
   ]
  },
  {
   "cell_type": "code",
   "execution_count": null,
   "metadata": {},
   "outputs": [],
   "source": [
    "# add maturity paid\n",
    "loan_info['rem_to_be_paid'] = apply_rem_to_be_paid(\n",
    "    loan_info['out_prncp'].values, loan_info['installment_funded'].values,\n",
    "    loan_info['int_rate'].values)"
   ]
  },
  {
   "cell_type": "code",
   "execution_count": null,
   "metadata": {},
   "outputs": [],
   "source": [
    "loan_info['maturity_paid'] = loan_info['total_pymnt'] / (\n",
    "    loan_info['total_pymnt'] + loan_info['rem_to_be_paid'])\n",
    "\n",
    "# mat_paid has nans because some charged_off loans have 0 rem_to_be_paid\n",
    "# which is inconsistent with the majority treatment. quick fix is fillna\n",
    "\n",
    "loan_info['maturity_paid'] = loan_info['maturity_paid'].fillna(0)"
   ]
  },
  {
   "cell_type": "markdown",
   "metadata": {},
   "source": [
    "adjust maturity paid by status, with late-status notes being adjusted by loan status migration rates below\n",
    "https://www.lendingclub.com/info/demand-and-credit-profile.action"
   ]
  },
  {
   "cell_type": "code",
   "execution_count": null,
   "metadata": {},
   "outputs": [],
   "source": [
    "# We have 25% of grace period notes reaching charged-off 9 months later. \n",
    "# How do I translate this into a confidence about how done-paid wise it is?\n",
    "# Done paid wise = how sure we are that no more non-recovery money is coming?\n",
    "# The chart depicts % outstanding principal recovered....\n",
    "# Without putting much thought into it, I'll increment all percents by 10%\n",
    "# Because I do know that everything in default is pretty much sold\n",
    "# at 10 cents on the dollar hence the 10% recovery under the default\n",
    "# column"
   ]
  },
  {
   "cell_type": "code",
   "execution_count": null,
   "metadata": {},
   "outputs": [],
   "source": [
    "# grace = 35%, late_30 = 64%, late_120 = 98%, \n",
    "# ********************to be completed later after reading how to best deal with dataset shift**********\n",
    "# loan_info['maturity_paid_stat_adj'] = np.where(loan_info['loan_status'] == '')"
   ]
  },
  {
   "cell_type": "code",
   "execution_count": null,
   "metadata": {},
   "outputs": [],
   "source": [
    "loan_info['target_loose'] = np.where(loan_info['loan_status'].isin(['charged_off', 'defaulted']), 1, 0)"
   ]
  },
  {
   "cell_type": "code",
   "execution_count": null,
   "metadata": {},
   "outputs": [],
   "source": [
    "# going to drop for now, could use desc at later point with NLP\n",
    "loan_info.drop('desc', axis=1, inplace=True)\n",
    "loan_info.drop('url', axis=1, inplace=True)\n",
    "loan_info.drop('title', axis=1, inplace=True)"
   ]
  },
  {
   "cell_type": "markdown",
   "metadata": {},
   "source": [
    "# Additional cleaning based off information from api\n",
    "https://www.lendingclub.com/developers/listed-loans.action"
   ]
  },
  {
   "cell_type": "code",
   "execution_count": null,
   "metadata": {},
   "outputs": [],
   "source": [
    "# home_ownership: none should be other\n",
    "loan_info['home_ownership'].replace({'none': 'other'}, inplace=True)\n",
    "\n",
    "# annual_income has 4 nulls. Just fill with 0\n",
    "loan_info['annual_inc'].replace({np.nan: 0.0}, inplace=True)\n",
    "\n",
    "# drop the one null zip_code\n",
    "loan_info = loan_info[loan_info['zip_code'].notnull()]\n",
    "\n",
    "# drop the loans where earliest_cr_line is null\n",
    "loan_info = loan_info[loan_info['earliest_cr_line'].notnull()]\n",
    "\n",
    "# drop null chargeoff_within_12_mths\n",
    "loan_info = loan_info[loan_info['chargeoff_within_12_mths'].notnull()]\n",
    "\n",
    "# drop null tax_liens\n",
    "loan_info = loan_info[loan_info['tax_liens'].notnull()]\n",
    "\n",
    "# add installment_amount\n",
    "loan_info['installment_amount'] = np.pmt(loan_info['int_rate']/12, loan_info['term'], -loan_info['loan_amnt'])\n",
    "\n",
    "# drop loans that have this null\n",
    "loan_info = loan_info[loan_info['inq_last_6mths'].notnull()]"
   ]
  },
  {
   "cell_type": "code",
   "execution_count": null,
   "metadata": {},
   "outputs": [],
   "source": [
    "# More Data Cleaning Steps ____________________________________________________\n",
    "\n",
    "# Drop columns before cleanup\n",
    "# Dropping these since I don't want them and they might confuse me.\n",
    "# There is no reason why I care about money that went just to investors rather\n",
    "# than to lending club as well when they top off loans.\n",
    "loan_info.drop(['funded_amnt_inv',\n",
    "                'out_prncp_inv'], axis = 1, inplace = True)\n",
    "\n",
    "# Dropping these because I'm getting them from data_pmt_history\n",
    "# loan_info.drop(['home_ownership'], axis = 1, inplace = True)\n",
    "\n",
    "\n",
    "# loan_info.rename(columns = {'total_pymnt': 'total_pymnt_rec_recov',\n",
    "#                             'total_pymnt_recov': 'total_pymnt_rec_recov'}, inplace=True)\n",
    "\n",
    "loan_info['orig_amt_due'] = loan_info['term'] * loan_info['installment_amount']\n",
    "\n",
    "loan_info['roi_simple'] = loan_info['total_pymnt']/loan_info['funded_amnt']"
   ]
  },
  {
   "cell_type": "markdown",
   "metadata": {},
   "source": [
    "# Adding target strict, which is flag a loan that has ever been late, found via payment history"
   ]
  },
  {
   "cell_type": "code",
   "execution_count": null,
   "metadata": {},
   "outputs": [],
   "source": [
    "# fix loans with no record at all for a specific month ________________________\n",
    "store.open()\n",
    "pmt_hist_ids = store['pmt_hist_ids'].astype(int)\n",
    "max_id = pmt_hist_ids.max()\n",
    "chunksize = 800\n",
    "n_chunks = len(pmt_hist_ids)//chunksize + 1\n",
    "bad_statuses = set(['late_120', 'defaulted', 'charged_off', 'late_30'])\n",
    "# m_disc_rate = .08/12\n",
    "\n",
    "target_strict_dict = {}\n",
    "nvps_8_dict = {}\n",
    "for n in tqdm_notebook(np.arange(n_chunks)):\n",
    "    if n == 0:\n",
    "        left_bound = 0\n",
    "    else:\n",
    "        left_bound = pmt_hist_ids[n*chunksize]\n",
    "    if n == (n_chunks - 1):\n",
    "        right_bound = max_id\n",
    "    else:\n",
    "        right_bound = pmt_hist_ids[(n+1)*chunksize]\n",
    "    \n",
    "    chunk = pd.read_hdf(\n",
    "        store,\n",
    "        'pmt_hist_intermediary_2',\n",
    "        where='(loan_id_num > left_bound) & (loan_id_num <= right_bound)')\n",
    "    \n",
    "    id_grouped = chunk.groupby('loan_id')\n",
    "    for ids, group in id_grouped:\n",
    "        statuses = set(group['status_period_end'])\n",
    "        if len(statuses.intersection(bad_statuses)) > 0:\n",
    "            target_strict_dict[ids] = 1\n",
    "        else:\n",
    "            target_strict_dict[ids] = 0\n",
    "        "
   ]
  },
  {
   "cell_type": "code",
   "execution_count": null,
   "metadata": {},
   "outputs": [],
   "source": [
    "loan_info['target_strict'] = pd.Series(target_strict_dict)"
   ]
  },
  {
   "cell_type": "markdown",
   "metadata": {},
   "source": [
    "# Examine loan_info"
   ]
  },
  {
   "cell_type": "code",
   "execution_count": null,
   "metadata": {},
   "outputs": [],
   "source": [
    "loan_info.head()"
   ]
  },
  {
   "cell_type": "markdown",
   "metadata": {},
   "source": [
    "# Store"
   ]
  },
  {
   "cell_type": "code",
   "execution_count": null,
   "metadata": {},
   "outputs": [],
   "source": [
    "store.open()\n",
    "store['loan_info_clean'] = loan_info"
   ]
  },
  {
   "cell_type": "code",
   "execution_count": null,
   "metadata": {},
   "outputs": [],
   "source": [
    "store.close()"
   ]
  },
  {
   "cell_type": "markdown",
   "metadata": {},
   "source": [
    "# Stuff below can be deleted?"
   ]
  },
  {
   "cell_type": "code",
   "execution_count": null,
   "metadata": {},
   "outputs": [],
   "source": [
    "# code used for tweaking speed ups\n",
    "\n",
    "# test = loan_info.tail(1000)\n",
    "\n",
    "# loan_info.tail(30).apply(lambda x: rem_to_be_paid(x['out_prncp'],\n",
    "#                                                   x['installment_funded'],\n",
    "#                                                   x['int_rate']), axis=1)\n",
    "\n",
    "# apply_rem_to_be_paid(test['out_prncp'].values, test['installment_funded'].values,\n",
    "#                      test['int_rate'].values)\n",
    "\n",
    "# %timeit apply_rem_to_be_paid(test['out_prncp'].values, test['installment_funded'].values,test['int_rate'].values)\n",
    "\n",
    "# %timeit loan_info.tail(1000).apply(lambda x: rem_to_be_paid(x['out_prncp'],x['installment_funded'],x['int_rate']), axis=1)\n",
    "\n",
    "# %prun -l 10 apply_rem_to_be_paid(test['out_prncp'].values, test['installment_funded'].values,test['int_rate'].values)\n",
    "\n",
    "# %timeit apply_rem_to_be_paid(test['out_prncp'].values, test['installment_funded'].values,test['int_rate'].values)"
   ]
  }
 ],
 "metadata": {
  "anaconda-cloud": {},
  "kernelspec": {
   "display_name": "Python 3",
   "language": "python",
   "name": "python3"
  },
  "language_info": {
   "codemirror_mode": {
    "name": "ipython",
    "version": 3
   },
   "file_extension": ".py",
   "mimetype": "text/x-python",
   "name": "python",
   "nbconvert_exporter": "python",
   "pygments_lexer": "ipython3",
   "version": "3.6.3"
  },
  "notify_time": "5",
  "varInspector": {
   "cols": {
    "lenName": 16,
    "lenType": 16,
    "lenVar": 40
   },
   "kernels_config": {
    "python": {
     "delete_cmd_postfix": "",
     "delete_cmd_prefix": "del ",
     "library": "var_list.py",
     "varRefreshCmd": "print(var_dic_list())"
    },
    "r": {
     "delete_cmd_postfix": ") ",
     "delete_cmd_prefix": "rm(",
     "library": "var_list.r",
     "varRefreshCmd": "cat(var_dic_list()) "
    }
   },
   "types_to_exclude": [
    "module",
    "function",
    "builtin_function_or_method",
    "instance",
    "_Feature"
   ],
   "window_display": false
  }
 },
 "nbformat": 4,
 "nbformat_minor": 1
}
