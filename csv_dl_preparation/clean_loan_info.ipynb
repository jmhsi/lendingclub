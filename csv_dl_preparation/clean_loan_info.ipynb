{
 "cells": [
  {
   "cell_type": "markdown",
   "metadata": {},
   "source": [
    "# Author: Justin Hsi\n",
    "### The prepare script for all platforms"
   ]
  },
  {
   "cell_type": "code",
   "execution_count": 1,
   "metadata": {
    "ExecuteTime": {
     "end_time": "2018-08-26T05:13:49.982784Z",
     "start_time": "2018-08-26T05:13:49.661780Z"
    }
   },
   "outputs": [],
   "source": [
    "%load_ext Cython\n",
    "pd.options.display.max_columns = 999"
   ]
  },
  {
   "cell_type": "code",
   "execution_count": 72,
   "metadata": {
    "ExecuteTime": {
     "end_time": "2018-08-26T05:53:58.428441Z",
     "start_time": "2018-08-26T05:53:58.399948Z"
    }
   },
   "outputs": [],
   "source": [
    "import math\n",
    "import dir_constants as dc\n",
    "import re\n",
    "from tqdm import tqdm_notebook, tqdm\n",
    "import j_utils.munging as munging"
   ]
  },
  {
   "cell_type": "code",
   "execution_count": 3,
   "metadata": {
    "ExecuteTime": {
     "end_time": "2018-08-26T05:13:50.005803Z",
     "start_time": "2018-08-26T05:13:49.997564Z"
    }
   },
   "outputs": [],
   "source": [
    "project = 'lendingclub'\n",
    "platform = 'lendingclub'\n",
    "PATH = dc.data_path"
   ]
  },
  {
   "cell_type": "code",
   "execution_count": 4,
   "metadata": {
    "ExecuteTime": {
     "end_time": "2018-08-26T05:13:54.128643Z",
     "start_time": "2018-08-26T05:13:50.007265Z"
    }
   },
   "outputs": [],
   "source": [
    "loan_info = pd.read_feather(f'{PATH}{project}/loan_info.fth')"
   ]
  },
  {
   "cell_type": "markdown",
   "metadata": {},
   "source": [
    "# Cleaning the loan_info"
   ]
  },
  {
   "cell_type": "code",
   "execution_count": 5,
   "metadata": {
    "ExecuteTime": {
     "end_time": "2018-08-26T05:14:29.512899Z",
     "start_time": "2018-08-26T05:13:54.130311Z"
    }
   },
   "outputs": [],
   "source": [
    "#turn all date columns into pandas timestamp\n",
    "month_dict = {\n",
    "    'jan': '1',\n",
    "    'feb': '2',\n",
    "    'mar': '3',\n",
    "    'apr': '4',\n",
    "    'may': '5',\n",
    "    'jun': '6',\n",
    "    'jul': '7',\n",
    "    'aug': '8',\n",
    "    'sep': '9',\n",
    "    'oct': '10',\n",
    "    'nov': '11',\n",
    "    'dec': '12'\n",
    "}\n",
    "# date cols\n",
    "date_cols = [\n",
    "    'issue_d', 'earliest_cr_line', 'last_pymnt_d', 'last_credit_pull_d',\n",
    "    'next_pymnt_d', 'sec_app_earliest_cr_line'\n",
    "]\n",
    "\n",
    "for col in date_cols:\n",
    "    loan_info[col] = loan_info[col].str.lower()\n",
    "    loan_info[col] = pd.to_datetime(\n",
    "        loan_info[col].str[:3].str.lower().replace(month_dict) +\n",
    "        loan_info[col].str[3:],\n",
    "        format='%m-%Y')"
   ]
  },
  {
   "cell_type": "code",
   "execution_count": 6,
   "metadata": {
    "ExecuteTime": {
     "end_time": "2018-08-26T05:14:40.850394Z",
     "start_time": "2018-08-26T05:14:29.521069Z"
    }
   },
   "outputs": [
    {
     "name": "stderr",
     "output_type": "stream",
     "text": [
      "/home/justin/anaconda3/lib/python3.6/site-packages/ipykernel_launcher.py:11: FutureWarning: Using 'rename_axis' to alter labels is deprecated. Use '.rename' instead\n",
      "  # This is added back by InteractiveShellApp.init_path()\n"
     ]
    }
   ],
   "source": [
    "# Cleanups\n",
    "\n",
    "# term\n",
    "#loan_info['term'] = loan_info['term'].str.strip().str[:2].astype(float)\n",
    "\n",
    "# int_rate\n",
    "loan_info['int_rate'] = loan_info['int_rate'] / 100\n",
    "\n",
    "# installment funded _________________________________________________________\n",
    "rename_dict = {'installment': 'installment_funded'}\n",
    "loan_info.rename_axis(rename_dict, inplace=True, axis=1)\n",
    "\n",
    "# installment_funded_amnt and installment_loan_amnt\n",
    "# pretty sure installment is installment_funded_amnt\n",
    "# loan_info.rename(columns = {'installment': 'installment_funded_amnt'}, inplace = True)\n",
    "# loan_info['installment_loan_amnt'] = loan_info.apply(funded_amnt_installment_loan_amnt, axis = 1)\n",
    "\n",
    "# grade_n\n",
    "# allGrades = ['A1', 'A2', 'A3', 'A4', 'A5', 'B1', 'B2', 'B3', 'B4', 'B5', 'C1', 'C2', 'C3', 'C4', 'C5',\n",
    "#              'D1', 'D2', 'D3', 'D4', 'D5', 'E1', 'E2', 'E3', 'E4', 'E5', 'F1', 'F2', 'F3', 'F4', 'F5',\n",
    "#              'G1', 'G2', 'G3', 'G4', 'G5']\n",
    "# loan_info['grade_n'] = loan_info['sub_grade'].apply(lambda x: allGrades.index(x))+1\n",
    "\n",
    "# emp_title\n",
    "loan_info['emp_title'] = loan_info['emp_title'].str.lower()\n",
    "\n",
    "# emp_length\n",
    "# dic_emp_length = {'10+ years': 10, '< 1 year': 0, '1 year': 1, '2 years': 2, '3 years': 3,\n",
    "#                   '4 years': 4, '5 years': 5, '6 years': 6, '7 years': 7,\n",
    "#                   '8 years': 8, '9 years': 9,'n/a': 0, '': 0}\n",
    "# loan_info['emp_length'] = loan_info['emp_length'].replace(dic_emp_length)\n",
    "\n",
    "# home_ownership\n",
    "dic_home_ownership = {\n",
    "    'admin_us': 'none',\n",
    "    'mortgage': 'mortgage',\n",
    "    'rent': 'rent',\n",
    "    'own': 'own',\n",
    "    'other': 'other',\n",
    "    'none': 'none',\n",
    "    'any': 'none'\n",
    "}\n",
    "loan_info['home_ownership'] = loan_info['home_ownership'].str.lower().replace(\n",
    "    dic_home_ownership)\n",
    "\n",
    "# verification_status and verification_status_joint\n",
    "dic_verification_status = {\n",
    "    'VERIFIED - income': 'platform',\n",
    "    'VERIFIED - income source': 'source',\n",
    "    'not verified': 'none',\n",
    "    'Source Verified': 'source',\n",
    "    'Not Verified': 'none',\n",
    "    'Verified': 'platform'\n",
    "}\n",
    "loan_info['verification_status'] = loan_info['verification_status'].replace(\n",
    "    dic_verification_status)\n",
    "loan_info['verification_status_joint'] = loan_info[\n",
    "    'verification_status_joint'].replace(dic_verification_status)\n",
    "\n",
    "# status\n",
    "dic_status = {\n",
    "    'Current': 'current',\n",
    "    'Charged Off': 'charged_off',\n",
    "    'Fully Paid': 'paid',\n",
    "    'Late (31-120 days)': 'late_120',\n",
    "    'In Grace Period': 'grace_15',\n",
    "    'Late (16-30 days)': 'late_30',\n",
    "    'Default': 'defaulted',\n",
    "    'Issued': 'current'\n",
    "}\n",
    "loan_info['loan_status'] = loan_info['loan_status'].apply(\n",
    "    lambda x: re.sub('Does not meet the credit policy.  Status:', '', x))\n",
    "loan_info['loan_status'] = loan_info['loan_status'].apply(\n",
    "    lambda x: re.sub('Does not meet the credit policy. Status:', '', x))\n",
    "loan_info['loan_status'] = loan_info['loan_status'].replace(dic_status)\n",
    "\n",
    "#title\n",
    "loan_info['title'] = loan_info['title'].str.lower()\n",
    "\n",
    "#application_type\n",
    "loan_info['application_type'] = loan_info['application_type'].str.lower()\n",
    "\n",
    "# consider at a future date, not turning the below into percents. ________\n",
    "\n",
    "#revol_util\n",
    "loan_info['revol_util'] = loan_info['revol_util'].apply(\n",
    "    lambda x: float(x.strip('%')) / 100 if pd.notnull(x) else np.nan)\n",
    "\n",
    "#all_util\n",
    "loan_info['all_util'] = loan_info['all_util'] / 100.\n",
    "\n",
    "# pct_tl_nvr_dlq\n",
    "loan_info['pct_tl_nvr_dlq'] = loan_info['pct_tl_nvr_dlq'] / 100.\n",
    "\n",
    "# percent_bc_gt_75\n",
    "loan_info['percent_bc_gt_75'] = loan_info['percent_bc_gt_75'] / 100."
   ]
  },
  {
   "cell_type": "code",
   "execution_count": 7,
   "metadata": {
    "ExecuteTime": {
     "end_time": "2018-08-26T05:14:41.094095Z",
     "start_time": "2018-08-26T05:14:40.851967Z"
    }
   },
   "outputs": [],
   "source": [
    "# out_prncp is messed up. Fix it\n",
    "loan_info['out_prncp'] = loan_info['funded_amnt'] - loan_info['total_rec_prncp']\n",
    "loan_info['out_prncp'] = np.where(loan_info['out_prncp'] <= 0.019, 0, loan_info['out_prncp'])\n",
    "loan_info['out_prncp'] = loan_info['out_prncp'].round(2)\n",
    "\n",
    "# fix installment_funded as well\n",
    "loan_info['installment_funded'] = np.pmt(loan_info['int_rate']/12, loan_info['term'], -loan_info['funded_amnt'])"
   ]
  },
  {
   "cell_type": "code",
   "execution_count": 8,
   "metadata": {
    "ExecuteTime": {
     "end_time": "2018-08-26T05:14:41.130492Z",
     "start_time": "2018-08-26T05:14:41.095809Z"
    }
   },
   "outputs": [],
   "source": [
    "# some date setting stuff for cleanups\n",
    "max_date = loan_info['last_pymnt_d'].max()\n",
    "\n",
    "# end_d to me means the date we can stop tracking things about the loan. Should be defunct\n",
    "def applyEndD(status, group):\n",
    "    if status == 'charged_off':\n",
    "        #split the group into two groups, one which has paid something, and other which has paid nothing\n",
    "        never_paid = group[group['last_pymnt_d'].isnull()]\n",
    "        has_paid = group[group['last_pymnt_d'].notnull()]\n",
    "\n",
    "        never_paid['end_d'] = never_paid['issue_d'] + pd.DateOffset(months=+5)\n",
    "        has_paid['end_d'] = has_paid['last_pymnt_d'] + pd.DateOffset(months=+5)\n",
    "\n",
    "        group.ix[never_paid.index.values, 'end_d'] = never_paid['end_d']\n",
    "        group.ix[has_paid.index.values, 'end_d'] = has_paid['end_d']\n",
    "        return group['end_d']\n",
    "    elif status == 'paid':\n",
    "        return group['last_pymnt_d']\n",
    "    else:\n",
    "        return pd.Series([max_date] * len(group), index=group.index.values)"
   ]
  },
  {
   "cell_type": "code",
   "execution_count": 9,
   "metadata": {
    "ExecuteTime": {
     "end_time": "2018-08-26T05:14:42.722045Z",
     "start_time": "2018-08-26T05:14:41.131955Z"
    }
   },
   "outputs": [],
   "source": [
    "# status_grouped \n",
    "status_grouped = loan_info.groupby('loan_status')"
   ]
  },
  {
   "cell_type": "code",
   "execution_count": 10,
   "metadata": {
    "ExecuteTime": {
     "end_time": "2018-08-26T05:14:45.579228Z",
     "start_time": "2018-08-26T05:14:42.723693Z"
    }
   },
   "outputs": [
    {
     "name": "stderr",
     "output_type": "stream",
     "text": [
      "/home/justin/anaconda3/lib/python3.6/site-packages/ipykernel_launcher.py:11: SettingWithCopyWarning: \n",
      "A value is trying to be set on a copy of a slice from a DataFrame.\n",
      "Try using .loc[row_indexer,col_indexer] = value instead\n",
      "\n",
      "See the caveats in the documentation: http://pandas.pydata.org/pandas-docs/stable/indexing.html#indexing-view-versus-copy\n",
      "  # This is added back by InteractiveShellApp.init_path()\n",
      "/home/justin/anaconda3/lib/python3.6/site-packages/ipykernel_launcher.py:12: SettingWithCopyWarning: \n",
      "A value is trying to be set on a copy of a slice from a DataFrame.\n",
      "Try using .loc[row_indexer,col_indexer] = value instead\n",
      "\n",
      "See the caveats in the documentation: http://pandas.pydata.org/pandas-docs/stable/indexing.html#indexing-view-versus-copy\n",
      "  if sys.path[0] == '':\n",
      "/home/justin/anaconda3/lib/python3.6/site-packages/ipykernel_launcher.py:14: DeprecationWarning: \n",
      ".ix is deprecated. Please use\n",
      ".loc for label based indexing or\n",
      ".iloc for positional indexing\n",
      "\n",
      "See the documentation here:\n",
      "http://pandas.pydata.org/pandas-docs/stable/indexing.html#ix-indexer-is-deprecated\n",
      "  \n",
      "/home/justin/anaconda3/lib/python3.6/site-packages/pandas/core/indexing.py:357: SettingWithCopyWarning: \n",
      "A value is trying to be set on a copy of a slice from a DataFrame.\n",
      "Try using .loc[row_indexer,col_indexer] = value instead\n",
      "\n",
      "See the caveats in the documentation: http://pandas.pydata.org/pandas-docs/stable/indexing.html#indexing-view-versus-copy\n",
      "  self.obj[key] = _infer_fill_value(value)\n",
      "/home/justin/anaconda3/lib/python3.6/site-packages/pandas/core/indexing.py:537: SettingWithCopyWarning: \n",
      "A value is trying to be set on a copy of a slice from a DataFrame.\n",
      "Try using .loc[row_indexer,col_indexer] = value instead\n",
      "\n",
      "See the caveats in the documentation: http://pandas.pydata.org/pandas-docs/stable/indexing.html#indexing-view-versus-copy\n",
      "  self.obj[item] = s\n"
     ]
    }
   ],
   "source": [
    "# columns that need to be added\n",
    "\n",
    "# # specify platform\n",
    "# loan_info['platform'] = 'LC'\n",
    "\n",
    "# loan_info['days_late'] = 0 #placeholder column, filling from pmt_loan_infost\n",
    "\n",
    "end_d_series = pd.Series([])\n",
    "for status, group in status_grouped:\n",
    "    end_d_series = end_d_series.append(\n",
    "        applyEndD(status, group), verify_integrity=True)\n",
    "\n",
    "loan_info['end_d'] = end_d_series\n"
   ]
  },
  {
   "cell_type": "code",
   "execution_count": 14,
   "metadata": {
    "ExecuteTime": {
     "end_time": "2018-08-26T05:21:40.647810Z",
     "start_time": "2018-08-26T05:21:30.147140Z"
    },
    "scrolled": true
   },
   "outputs": [],
   "source": [
    "# adding line_history in days, months, and years using pandas .dt functions\n",
    "loan_info['line_history_d'] = (loan_info['issue_d'] - loan_info['earliest_cr_line']).dt.days\n",
    "loan_info['line_history_m'] = (loan_info['issue_d'].dt.year - loan_info['earliest_cr_line'].dt.year)*12 + (loan_info['issue_d'].dt.month - loan_info['earliest_cr_line'].dt.month)\n",
    "loan_info['line_history_y'] = (loan_info['issue_d'].dt.year - loan_info['earliest_cr_line'].dt.year) + (loan_info['issue_d'].dt.month - loan_info['earliest_cr_line'].dt.month)/12"
   ]
  },
  {
   "cell_type": "code",
   "execution_count": 34,
   "metadata": {
    "ExecuteTime": {
     "end_time": "2018-08-26T05:36:27.574188Z",
     "start_time": "2018-08-26T05:36:17.009065Z"
    }
   },
   "outputs": [],
   "source": [
    "#credit_score\n",
    "loan_info['fico'] = (\n",
    "    loan_info['fico_range_high'] + loan_info['fico_range_low']) / 2\n",
    "\n",
    "# maturity_time\n",
    "# put in maturity time so I can look at old data for historic default int_rates\n",
    "loan_info['months_paid'] = ((\n",
    "    max_date - loan_info['issue_d']).dt.days *\n",
    "                            (12 / 365.25)).round()\n",
    "loan_info['maturity_time'] = loan_info['months_paid'] / loan_info['term']\n",
    "loan_info['maturity_time'] = np.where(loan_info['maturity_time'] >= 1, 1,\n",
    "                                      loan_info['maturity_time'])"
   ]
  },
  {
   "cell_type": "code",
   "execution_count": 35,
   "metadata": {
    "ExecuteTime": {
     "end_time": "2018-08-26T05:36:27.587346Z",
     "start_time": "2018-08-26T05:36:27.575732Z"
    }
   },
   "outputs": [],
   "source": [
    "%%cython\n",
    "cimport numpy as np\n",
    "import numpy as np\n",
    "\n",
    "cpdef rem_to_be_paid(double out_prncp,\n",
    "                     double install,\n",
    "                     double int_rate):\n",
    "    cdef double m_rate\n",
    "    cdef double to_be_paid\n",
    "    m_rate = int_rate/12\n",
    "    to_be_paid = 0.0\n",
    "    k = 0\n",
    "    while out_prncp > 0:\n",
    "        k += 1\n",
    "        out_prncp = (1+m_rate) * out_prncp\n",
    "        out_prncp -= install\n",
    "        to_be_paid += install\n",
    "        # the break was added to figure out what was wrong with infinite while; it was due to installment funded\n",
    "        # being INCORRECTLY REPORTED by lending club\n",
    "        if k >= 100:\n",
    "            print(to_be_paid)\n",
    "            break\n",
    "        if out_prncp < 0:\n",
    "            to_be_paid -= abs(out_prncp)\n",
    "    return to_be_paid\n",
    "\n",
    "cpdef np.ndarray[double] apply_rem_to_be_paid(np.ndarray col_out_prncp,\n",
    "                                              np.ndarray col_install,\n",
    "                                              np.ndarray col_int_rate):\n",
    "    assert (col_out_prncp.dtype == np.float and col_install.dtype == np.float and col_int_rate.dtype == np.float)\n",
    "    cdef Py_ssize_t i, n = len(col_out_prncp)\n",
    "    assert (len(col_out_prncp) == len(col_install) == n)\n",
    "    cdef np.ndarray[double] res = np.empty(n)\n",
    "    for i in xrange(n):\n",
    "        res[i] = rem_to_be_paid(col_out_prncp[i],\n",
    "                                col_install[i],\n",
    "                                col_int_rate[i])\n",
    "    return res"
   ]
  },
  {
   "cell_type": "markdown",
   "metadata": {},
   "source": [
    "# Somewhere, apply rem_to_be_paid stalls. Chunk it and iterate to see which chunk?"
   ]
  },
  {
   "cell_type": "code",
   "execution_count": 36,
   "metadata": {
    "ExecuteTime": {
     "end_time": "2018-08-26T05:36:28.384748Z",
     "start_time": "2018-08-26T05:36:27.588769Z"
    }
   },
   "outputs": [],
   "source": [
    "# add maturity paid\n",
    "loan_info['rem_to_be_paid'] = apply_rem_to_be_paid(\n",
    "    loan_info['out_prncp'].values, loan_info['installment_funded'].values,\n",
    "    loan_info['int_rate'].values)"
   ]
  },
  {
   "cell_type": "code",
   "execution_count": 37,
   "metadata": {
    "ExecuteTime": {
     "end_time": "2018-08-26T05:36:28.412809Z",
     "start_time": "2018-08-26T05:36:28.386396Z"
    }
   },
   "outputs": [],
   "source": [
    "loan_info['maturity_paid'] = loan_info['total_pymnt'] / (\n",
    "    loan_info['total_pymnt'] + loan_info['rem_to_be_paid'])\n",
    "\n",
    "# mat_paid has nans because some charged_off loans have 0 rem_to_be_paid\n",
    "# which is inconsistent with the majority treatment. quick fix is fillna\n",
    "\n",
    "loan_info['maturity_paid'] = loan_info['maturity_paid'].fillna(0)"
   ]
  },
  {
   "cell_type": "markdown",
   "metadata": {},
   "source": [
    "adjust maturity paid by status, with late-status notes being adjusted by loan status migration rates below\n",
    "https://www.lendingclub.com/info/demand-and-credit-profile.action"
   ]
  },
  {
   "cell_type": "code",
   "execution_count": 38,
   "metadata": {
    "ExecuteTime": {
     "end_time": "2018-08-26T05:36:28.424683Z",
     "start_time": "2018-08-26T05:36:28.414372Z"
    }
   },
   "outputs": [],
   "source": [
    "# We have 25% of grace period notes reaching charged-off 9 months later. \n",
    "# How do I translate this into a confidence about how done-paid wise it is?\n",
    "# Done paid wise = how sure we are that no more non-recovery money is coming?\n",
    "# The chart depicts % outstanding principal recovered....\n",
    "# Without putting much thought into it, I'll increment all percents by 10%\n",
    "# Because I do know that everything in default is pretty much sold\n",
    "# at 10 cents on the dollar hence the 10% recovery under the default\n",
    "# column"
   ]
  },
  {
   "cell_type": "code",
   "execution_count": 39,
   "metadata": {
    "ExecuteTime": {
     "end_time": "2018-08-26T05:36:28.437636Z",
     "start_time": "2018-08-26T05:36:28.425957Z"
    }
   },
   "outputs": [],
   "source": [
    "# grace = 35%, late_30 = 64%, late_120 = 98%, \n",
    "# ********************to be completed later after reading how to best deal with dataset shift**********\n",
    "# loan_info['maturity_paid_stat_adj'] = np.where(loan_info['loan_status'] == '')"
   ]
  },
  {
   "cell_type": "code",
   "execution_count": 40,
   "metadata": {
    "ExecuteTime": {
     "end_time": "2018-08-26T05:36:28.475984Z",
     "start_time": "2018-08-26T05:36:28.439239Z"
    }
   },
   "outputs": [],
   "source": [
    "loan_info['target_loose'] = np.where(loan_info['loan_status'].isin(['charged_off', 'defaulted']), 1, 0)"
   ]
  },
  {
   "cell_type": "code",
   "execution_count": 41,
   "metadata": {
    "ExecuteTime": {
     "end_time": "2018-08-26T05:36:32.956053Z",
     "start_time": "2018-08-26T05:36:28.477736Z"
    }
   },
   "outputs": [],
   "source": [
    "loan_info['loan_id'] = loan_info['id']\n",
    "loan_info.drop(columns=['id'], inplace=True)"
   ]
  },
  {
   "cell_type": "markdown",
   "metadata": {},
   "source": [
    "# set aside strings for separate dataframe, maybe try nlp on it"
   ]
  },
  {
   "cell_type": "code",
   "execution_count": 42,
   "metadata": {
    "ExecuteTime": {
     "end_time": "2018-08-26T05:36:33.674434Z",
     "start_time": "2018-08-26T05:36:32.957699Z"
    }
   },
   "outputs": [
    {
     "data": {
      "text/plain": [
       "Index(['addr_state', 'application_type', 'debt_settlement_flag',\n",
       "       'debt_settlement_flag_date', 'desc', 'disbursement_method',\n",
       "       'emp_length', 'emp_title', 'grade', 'hardship_end_date',\n",
       "       'hardship_flag', 'hardship_loan_status', 'hardship_reason',\n",
       "       'hardship_start_date', 'hardship_status', 'hardship_type',\n",
       "       'home_ownership', 'initial_list_status', 'loan_status',\n",
       "       'payment_plan_start_date', 'purpose', 'pymnt_plan', 'settlement_date',\n",
       "       'settlement_status', 'sub_grade', 'title', 'url', 'verification_status',\n",
       "       'verification_status_joint', 'zip_code', 'loan_id'],\n",
       "      dtype='object')"
      ]
     },
     "execution_count": 42,
     "metadata": {},
     "output_type": "execute_result"
    }
   ],
   "source": [
    "str_cols = loan_info.select_dtypes('object').columns\n",
    "str_cols"
   ]
  },
  {
   "cell_type": "code",
   "execution_count": 43,
   "metadata": {
    "ExecuteTime": {
     "end_time": "2018-08-26T05:36:33.692119Z",
     "start_time": "2018-08-26T05:36:33.676045Z"
    }
   },
   "outputs": [],
   "source": [
    "strip_cols = ['desc', 'emp_title', 'title', 'url']"
   ]
  },
  {
   "cell_type": "code",
   "execution_count": 44,
   "metadata": {
    "ExecuteTime": {
     "end_time": "2018-08-26T05:36:35.279852Z",
     "start_time": "2018-08-26T05:36:33.693648Z"
    }
   },
   "outputs": [],
   "source": [
    "strings_df = loan_info[strip_cols]\n",
    "loan_info.drop(columns=strip_cols, inplace=True)"
   ]
  },
  {
   "cell_type": "code",
   "execution_count": 45,
   "metadata": {
    "ExecuteTime": {
     "end_time": "2018-08-26T05:36:35.353146Z",
     "start_time": "2018-08-26T05:36:35.281532Z"
    }
   },
   "outputs": [
    {
     "name": "stderr",
     "output_type": "stream",
     "text": [
      "/home/justin/anaconda3/lib/python3.6/site-packages/ipykernel_launcher.py:1: SettingWithCopyWarning: \n",
      "A value is trying to be set on a copy of a slice from a DataFrame.\n",
      "Try using .loc[row_indexer,col_indexer] = value instead\n",
      "\n",
      "See the caveats in the documentation: http://pandas.pydata.org/pandas-docs/stable/indexing.html#indexing-view-versus-copy\n",
      "  \"\"\"Entry point for launching an IPython kernel.\n"
     ]
    }
   ],
   "source": [
    "strings_df['loan_id'] = loan_info['loan_id']"
   ]
  },
  {
   "cell_type": "markdown",
   "metadata": {},
   "source": [
    "# Additional cleaning based off information from api\n",
    "https://www.lendingclub.com/developers/listed-loans.action"
   ]
  },
  {
   "cell_type": "code",
   "execution_count": 46,
   "metadata": {
    "ExecuteTime": {
     "end_time": "2018-08-26T05:36:44.445575Z",
     "start_time": "2018-08-26T05:36:35.354842Z"
    }
   },
   "outputs": [],
   "source": [
    "# home_ownership: none should be other\n",
    "loan_info['home_ownership'].replace({'none': 'other'}, inplace=True)\n",
    "\n",
    "# annual_income has 4 nulls. Just fill with 0\n",
    "loan_info['annual_inc'].replace({np.nan: 0.0}, inplace=True)\n",
    "\n",
    "# drop the one null zip_code\n",
    "loan_info = loan_info[loan_info['zip_code'].notnull()]\n",
    "\n",
    "# drop the loans where earliest_cr_line is null\n",
    "loan_info = loan_info[loan_info['earliest_cr_line'].notnull()]\n",
    "\n",
    "# drop null chargeoff_within_12_mths\n",
    "loan_info = loan_info[loan_info['chargeoff_within_12_mths'].notnull()]\n",
    "\n",
    "# drop null tax_liens\n",
    "loan_info = loan_info[loan_info['tax_liens'].notnull()]\n",
    "\n",
    "# add installment_amount\n",
    "loan_info['installment_amount'] = np.pmt(loan_info['int_rate']/12, loan_info['term'], -loan_info['loan_amnt'])\n",
    "\n",
    "# drop loans that have this null\n",
    "loan_info = loan_info[loan_info['inq_last_6mths'].notnull()]"
   ]
  },
  {
   "cell_type": "code",
   "execution_count": 47,
   "metadata": {
    "ExecuteTime": {
     "end_time": "2018-08-26T05:36:45.929293Z",
     "start_time": "2018-08-26T05:36:44.447226Z"
    }
   },
   "outputs": [],
   "source": [
    "# More Data Cleaning Steps ____________________________________________________\n",
    "\n",
    "# Drop columns before cleanup\n",
    "# Dropping these since I don't want them and they might confuse me.\n",
    "# There is no reason why I care about money that went just to investors rather\n",
    "# than to lending club as well when they top off loans.\n",
    "loan_info.drop(['funded_amnt_inv',\n",
    "                'out_prncp_inv'], axis = 1, inplace = True)\n",
    "\n",
    "# Dropping these because I'm getting them from data_pmt_history\n",
    "# loan_info.drop(['home_ownership'], axis = 1, inplace = True)\n",
    "\n",
    "\n",
    "# loan_info.rename(columns = {'total_pymnt': 'total_pymnt_rec_recov',\n",
    "#                             'total_pymnt_recov': 'total_pymnt_rec_recov'}, inplace=True)\n",
    "\n",
    "loan_info['orig_amt_due'] = loan_info['term'] * loan_info['installment_amount']\n",
    "\n",
    "loan_info['roi_simple'] = loan_info['total_pymnt']/loan_info['funded_amnt']"
   ]
  },
  {
   "cell_type": "markdown",
   "metadata": {},
   "source": [
    "# Adding target strict, which is flag a loan that has ever been late, found via payment history"
   ]
  },
  {
   "cell_type": "code",
   "execution_count": 48,
   "metadata": {
    "ExecuteTime": {
     "end_time": "2018-08-26T05:37:04.595918Z",
     "start_time": "2018-08-26T05:36:45.930936Z"
    }
   },
   "outputs": [],
   "source": [
    "bad_statuses = set(['late_120', 'defaulted', 'charged_off', 'late_30'])\n",
    "pmt_hist = pd.read_feather(f'{PATH}{project}/pmt_hist_clean.fth')"
   ]
  },
  {
   "cell_type": "code",
   "execution_count": 49,
   "metadata": {
    "ExecuteTime": {
     "end_time": "2018-08-26T05:44:45.333392Z",
     "start_time": "2018-08-26T05:37:04.597715Z"
    }
   },
   "outputs": [
    {
     "name": "stderr",
     "output_type": "stream",
     "text": [
      "Exception in thread Thread-4:\n",
      "Traceback (most recent call last):\n",
      "  File \"/home/justin/anaconda3/lib/python3.6/threading.py\", line 916, in _bootstrap_inner\n",
      "    self.run()\n",
      "  File \"/home/justin/anaconda3/lib/python3.6/site-packages/tqdm/_tqdm.py\", line 109, in run\n",
      "    if instance.miniters > 1 and \\\n",
      "AttributeError: 'tqdm' object has no attribute 'miniters'\n",
      "\n",
      "100%|██████████| 2003523/2003523 [07:26<00:00, 4485.03it/s]\n"
     ]
    }
   ],
   "source": [
    "target_strict_dict = {}\n",
    "id_grouped = pmt_hist.groupby('loan_id')\n",
    "for ids, group in tqdm(id_grouped):\n",
    "    statuses = set(group['status_period_end'])\n",
    "    if len(statuses.intersection(bad_statuses)) > 0:\n",
    "        target_strict_dict[ids] = 1\n",
    "    else:\n",
    "        target_strict_dict[ids] = 0"
   ]
  },
  {
   "cell_type": "code",
   "execution_count": 50,
   "metadata": {
    "ExecuteTime": {
     "end_time": "2018-08-26T05:44:46.717127Z",
     "start_time": "2018-08-26T05:44:45.335222Z"
    }
   },
   "outputs": [],
   "source": [
    "loan_info['target_strict'] = pd.Series(target_strict_dict)"
   ]
  },
  {
   "cell_type": "code",
   "execution_count": 51,
   "metadata": {
    "ExecuteTime": {
     "end_time": "2018-08-26T05:44:46.789375Z",
     "start_time": "2018-08-26T05:44:46.718838Z"
    }
   },
   "outputs": [
    {
     "data": {
      "text/html": [
       "<div>\n",
       "<style scoped>\n",
       "    .dataframe tbody tr th:only-of-type {\n",
       "        vertical-align: middle;\n",
       "    }\n",
       "\n",
       "    .dataframe tbody tr th {\n",
       "        vertical-align: top;\n",
       "    }\n",
       "\n",
       "    .dataframe thead th {\n",
       "        text-align: right;\n",
       "    }\n",
       "</style>\n",
       "<table border=\"1\" class=\"dataframe\">\n",
       "  <thead>\n",
       "    <tr style=\"text-align: right;\">\n",
       "      <th></th>\n",
       "      <th>addr_state</th>\n",
       "      <th>all_cash_to_inv</th>\n",
       "      <th>amt_due</th>\n",
       "      <th>amt_paid</th>\n",
       "      <th>charged_off_amt</th>\n",
       "      <th>charged_off_this_month</th>\n",
       "      <th>current_policy</th>\n",
       "      <th>date</th>\n",
       "      <th>dq_24m</th>\n",
       "      <th>dti</th>\n",
       "      <th>emp_len</th>\n",
       "      <th>fee_paid</th>\n",
       "      <th>fico_apply</th>\n",
       "      <th>fico_last</th>\n",
       "      <th>first_credit_line</th>\n",
       "      <th>grade</th>\n",
       "      <th>home_ownership</th>\n",
       "      <th>int_paid</th>\n",
       "      <th>int_rate</th>\n",
       "      <th>issue_d</th>\n",
       "      <th>loan_id</th>\n",
       "      <th>loan_id_num</th>\n",
       "      <th>m_income</th>\n",
       "      <th>m_on_books</th>\n",
       "      <th>m_since_dq</th>\n",
       "      <th>m_since_rec</th>\n",
       "      <th>monthly_pmt</th>\n",
       "      <th>open_credit_lines</th>\n",
       "      <th>outs_princp_beg</th>\n",
       "      <th>outs_princp_end</th>\n",
       "      <th>pmt_date</th>\n",
       "      <th>princp_paid</th>\n",
       "      <th>public_recs</th>\n",
       "      <th>recov_fees</th>\n",
       "      <th>recovs</th>\n",
       "      <th>revol_credit_bal</th>\n",
       "      <th>revol_line_util</th>\n",
       "      <th>status_period_end</th>\n",
       "      <th>term</th>\n",
       "      <th>total_credit_lines</th>\n",
       "      <th>vintage</th>\n",
       "    </tr>\n",
       "  </thead>\n",
       "  <tbody>\n",
       "    <tr>\n",
       "      <th>35977086</th>\n",
       "      <td>VA</td>\n",
       "      <td>86.040001</td>\n",
       "      <td>86.040001</td>\n",
       "      <td>86.040001</td>\n",
       "      <td>0.0</td>\n",
       "      <td>0</td>\n",
       "      <td>1</td>\n",
       "      <td>2017-12-01</td>\n",
       "      <td>3.0</td>\n",
       "      <td>14.84</td>\n",
       "      <td>8 years</td>\n",
       "      <td>0.0</td>\n",
       "      <td>692</td>\n",
       "      <td>692</td>\n",
       "      <td>1994-10-01</td>\n",
       "      <td>B</td>\n",
       "      <td>mortgage</td>\n",
       "      <td>23.011000</td>\n",
       "      <td>0.104</td>\n",
       "      <td>2017-11-01</td>\n",
       "      <td>124428135</td>\n",
       "      <td>124428135</td>\n",
       "      <td>9250.0</td>\n",
       "      <td>1</td>\n",
       "      <td>7.0</td>\n",
       "      <td>NaN</td>\n",
       "      <td>86.040001</td>\n",
       "      <td>5.0</td>\n",
       "      <td>2650.000000</td>\n",
       "      <td>2586.970947</td>\n",
       "      <td>2017-12-01</td>\n",
       "      <td>63.028999</td>\n",
       "      <td>0.0</td>\n",
       "      <td>0.0</td>\n",
       "      <td>0.0</td>\n",
       "      <td>4816.0</td>\n",
       "      <td>0.741</td>\n",
       "      <td>current</td>\n",
       "      <td>36</td>\n",
       "      <td>25.0</td>\n",
       "      <td>17Q4</td>\n",
       "    </tr>\n",
       "    <tr>\n",
       "      <th>35977087</th>\n",
       "      <td>VA</td>\n",
       "      <td>86.040001</td>\n",
       "      <td>86.040001</td>\n",
       "      <td>86.040001</td>\n",
       "      <td>0.0</td>\n",
       "      <td>0</td>\n",
       "      <td>1</td>\n",
       "      <td>2018-01-01</td>\n",
       "      <td>3.0</td>\n",
       "      <td>14.84</td>\n",
       "      <td>8 years</td>\n",
       "      <td>0.0</td>\n",
       "      <td>692</td>\n",
       "      <td>692</td>\n",
       "      <td>1994-10-01</td>\n",
       "      <td>B</td>\n",
       "      <td>mortgage</td>\n",
       "      <td>22.464001</td>\n",
       "      <td>0.104</td>\n",
       "      <td>2017-11-01</td>\n",
       "      <td>124428135</td>\n",
       "      <td>124428135</td>\n",
       "      <td>9250.0</td>\n",
       "      <td>2</td>\n",
       "      <td>7.0</td>\n",
       "      <td>NaN</td>\n",
       "      <td>86.040001</td>\n",
       "      <td>5.0</td>\n",
       "      <td>2586.970947</td>\n",
       "      <td>2523.394043</td>\n",
       "      <td>2018-01-01</td>\n",
       "      <td>63.576000</td>\n",
       "      <td>0.0</td>\n",
       "      <td>0.0</td>\n",
       "      <td>0.0</td>\n",
       "      <td>4816.0</td>\n",
       "      <td>0.741</td>\n",
       "      <td>current</td>\n",
       "      <td>36</td>\n",
       "      <td>25.0</td>\n",
       "      <td>17Q4</td>\n",
       "    </tr>\n",
       "    <tr>\n",
       "      <th>35977088</th>\n",
       "      <td>VA</td>\n",
       "      <td>86.039993</td>\n",
       "      <td>86.040001</td>\n",
       "      <td>86.039993</td>\n",
       "      <td>0.0</td>\n",
       "      <td>0</td>\n",
       "      <td>1</td>\n",
       "      <td>2018-02-01</td>\n",
       "      <td>3.0</td>\n",
       "      <td>14.84</td>\n",
       "      <td>8 years</td>\n",
       "      <td>0.0</td>\n",
       "      <td>692</td>\n",
       "      <td>692</td>\n",
       "      <td>1994-10-01</td>\n",
       "      <td>B</td>\n",
       "      <td>mortgage</td>\n",
       "      <td>21.910999</td>\n",
       "      <td>0.104</td>\n",
       "      <td>2017-11-01</td>\n",
       "      <td>124428135</td>\n",
       "      <td>124428135</td>\n",
       "      <td>9250.0</td>\n",
       "      <td>3</td>\n",
       "      <td>7.0</td>\n",
       "      <td>NaN</td>\n",
       "      <td>86.040001</td>\n",
       "      <td>5.0</td>\n",
       "      <td>2523.394043</td>\n",
       "      <td>2459.266113</td>\n",
       "      <td>2018-02-01</td>\n",
       "      <td>64.128998</td>\n",
       "      <td>0.0</td>\n",
       "      <td>0.0</td>\n",
       "      <td>0.0</td>\n",
       "      <td>4816.0</td>\n",
       "      <td>0.741</td>\n",
       "      <td>current</td>\n",
       "      <td>36</td>\n",
       "      <td>25.0</td>\n",
       "      <td>17Q4</td>\n",
       "    </tr>\n",
       "    <tr>\n",
       "      <th>35977089</th>\n",
       "      <td>VA</td>\n",
       "      <td>86.039993</td>\n",
       "      <td>86.040001</td>\n",
       "      <td>86.039993</td>\n",
       "      <td>0.0</td>\n",
       "      <td>0</td>\n",
       "      <td>1</td>\n",
       "      <td>2018-03-01</td>\n",
       "      <td>3.0</td>\n",
       "      <td>14.84</td>\n",
       "      <td>8 years</td>\n",
       "      <td>0.0</td>\n",
       "      <td>692</td>\n",
       "      <td>697</td>\n",
       "      <td>1994-10-01</td>\n",
       "      <td>B</td>\n",
       "      <td>mortgage</td>\n",
       "      <td>21.355000</td>\n",
       "      <td>0.104</td>\n",
       "      <td>2017-11-01</td>\n",
       "      <td>124428135</td>\n",
       "      <td>124428135</td>\n",
       "      <td>9250.0</td>\n",
       "      <td>4</td>\n",
       "      <td>7.0</td>\n",
       "      <td>NaN</td>\n",
       "      <td>86.040001</td>\n",
       "      <td>5.0</td>\n",
       "      <td>2459.266113</td>\n",
       "      <td>2394.580078</td>\n",
       "      <td>2018-03-01</td>\n",
       "      <td>64.684998</td>\n",
       "      <td>0.0</td>\n",
       "      <td>0.0</td>\n",
       "      <td>0.0</td>\n",
       "      <td>4816.0</td>\n",
       "      <td>0.741</td>\n",
       "      <td>current</td>\n",
       "      <td>36</td>\n",
       "      <td>25.0</td>\n",
       "      <td>17Q4</td>\n",
       "    </tr>\n",
       "    <tr>\n",
       "      <th>35977090</th>\n",
       "      <td>VA</td>\n",
       "      <td>86.040001</td>\n",
       "      <td>86.040001</td>\n",
       "      <td>86.040001</td>\n",
       "      <td>0.0</td>\n",
       "      <td>0</td>\n",
       "      <td>1</td>\n",
       "      <td>2018-04-01</td>\n",
       "      <td>3.0</td>\n",
       "      <td>14.84</td>\n",
       "      <td>8 years</td>\n",
       "      <td>0.0</td>\n",
       "      <td>692</td>\n",
       "      <td>697</td>\n",
       "      <td>1994-10-01</td>\n",
       "      <td>B</td>\n",
       "      <td>mortgage</td>\n",
       "      <td>20.792999</td>\n",
       "      <td>0.104</td>\n",
       "      <td>2017-11-01</td>\n",
       "      <td>124428135</td>\n",
       "      <td>124428135</td>\n",
       "      <td>9250.0</td>\n",
       "      <td>5</td>\n",
       "      <td>7.0</td>\n",
       "      <td>NaN</td>\n",
       "      <td>86.040001</td>\n",
       "      <td>5.0</td>\n",
       "      <td>2394.580078</td>\n",
       "      <td>2329.333008</td>\n",
       "      <td>2018-04-01</td>\n",
       "      <td>65.247002</td>\n",
       "      <td>0.0</td>\n",
       "      <td>0.0</td>\n",
       "      <td>0.0</td>\n",
       "      <td>4816.0</td>\n",
       "      <td>0.741</td>\n",
       "      <td>current</td>\n",
       "      <td>36</td>\n",
       "      <td>25.0</td>\n",
       "      <td>17Q4</td>\n",
       "    </tr>\n",
       "    <tr>\n",
       "      <th>35977091</th>\n",
       "      <td>VA</td>\n",
       "      <td>86.040001</td>\n",
       "      <td>86.040001</td>\n",
       "      <td>86.040001</td>\n",
       "      <td>0.0</td>\n",
       "      <td>0</td>\n",
       "      <td>1</td>\n",
       "      <td>2018-05-01</td>\n",
       "      <td>3.0</td>\n",
       "      <td>14.84</td>\n",
       "      <td>8 years</td>\n",
       "      <td>0.0</td>\n",
       "      <td>692</td>\n",
       "      <td>707</td>\n",
       "      <td>1994-10-01</td>\n",
       "      <td>B</td>\n",
       "      <td>mortgage</td>\n",
       "      <td>20.226000</td>\n",
       "      <td>0.104</td>\n",
       "      <td>2017-11-01</td>\n",
       "      <td>124428135</td>\n",
       "      <td>124428135</td>\n",
       "      <td>9250.0</td>\n",
       "      <td>6</td>\n",
       "      <td>7.0</td>\n",
       "      <td>NaN</td>\n",
       "      <td>86.040001</td>\n",
       "      <td>5.0</td>\n",
       "      <td>2329.333008</td>\n",
       "      <td>2263.520020</td>\n",
       "      <td>2018-05-01</td>\n",
       "      <td>65.814003</td>\n",
       "      <td>0.0</td>\n",
       "      <td>0.0</td>\n",
       "      <td>0.0</td>\n",
       "      <td>4816.0</td>\n",
       "      <td>0.741</td>\n",
       "      <td>current</td>\n",
       "      <td>36</td>\n",
       "      <td>25.0</td>\n",
       "      <td>17Q4</td>\n",
       "    </tr>\n",
       "    <tr>\n",
       "      <th>35977092</th>\n",
       "      <td>VA</td>\n",
       "      <td>86.040001</td>\n",
       "      <td>86.040001</td>\n",
       "      <td>86.040001</td>\n",
       "      <td>0.0</td>\n",
       "      <td>0</td>\n",
       "      <td>1</td>\n",
       "      <td>2018-06-01</td>\n",
       "      <td>3.0</td>\n",
       "      <td>14.84</td>\n",
       "      <td>8 years</td>\n",
       "      <td>0.0</td>\n",
       "      <td>692</td>\n",
       "      <td>717</td>\n",
       "      <td>1994-10-01</td>\n",
       "      <td>B</td>\n",
       "      <td>mortgage</td>\n",
       "      <td>19.655001</td>\n",
       "      <td>0.104</td>\n",
       "      <td>2017-11-01</td>\n",
       "      <td>124428135</td>\n",
       "      <td>124428135</td>\n",
       "      <td>9250.0</td>\n",
       "      <td>7</td>\n",
       "      <td>7.0</td>\n",
       "      <td>NaN</td>\n",
       "      <td>86.040001</td>\n",
       "      <td>5.0</td>\n",
       "      <td>2263.520020</td>\n",
       "      <td>2197.135010</td>\n",
       "      <td>2018-06-01</td>\n",
       "      <td>66.385002</td>\n",
       "      <td>0.0</td>\n",
       "      <td>0.0</td>\n",
       "      <td>0.0</td>\n",
       "      <td>4816.0</td>\n",
       "      <td>0.741</td>\n",
       "      <td>current</td>\n",
       "      <td>36</td>\n",
       "      <td>25.0</td>\n",
       "      <td>17Q4</td>\n",
       "    </tr>\n",
       "    <tr>\n",
       "      <th>35977093</th>\n",
       "      <td>VA</td>\n",
       "      <td>0.000000</td>\n",
       "      <td>86.040001</td>\n",
       "      <td>0.000000</td>\n",
       "      <td>0.0</td>\n",
       "      <td>0</td>\n",
       "      <td>1</td>\n",
       "      <td>2018-07-01</td>\n",
       "      <td>3.0</td>\n",
       "      <td>14.84</td>\n",
       "      <td>8 years</td>\n",
       "      <td>0.0</td>\n",
       "      <td>692</td>\n",
       "      <td>717</td>\n",
       "      <td>1994-10-01</td>\n",
       "      <td>B</td>\n",
       "      <td>mortgage</td>\n",
       "      <td>0.000000</td>\n",
       "      <td>0.104</td>\n",
       "      <td>2017-11-01</td>\n",
       "      <td>124428135</td>\n",
       "      <td>124428135</td>\n",
       "      <td>9250.0</td>\n",
       "      <td>8</td>\n",
       "      <td>7.0</td>\n",
       "      <td>NaN</td>\n",
       "      <td>86.040001</td>\n",
       "      <td>5.0</td>\n",
       "      <td>2197.135010</td>\n",
       "      <td>2197.135010</td>\n",
       "      <td>NaT</td>\n",
       "      <td>0.000000</td>\n",
       "      <td>0.0</td>\n",
       "      <td>0.0</td>\n",
       "      <td>0.0</td>\n",
       "      <td>4816.0</td>\n",
       "      <td>0.741</td>\n",
       "      <td>late_30</td>\n",
       "      <td>36</td>\n",
       "      <td>25.0</td>\n",
       "      <td>17Q4</td>\n",
       "    </tr>\n",
       "  </tbody>\n",
       "</table>\n",
       "</div>"
      ],
      "text/plain": [
       "         addr_state  all_cash_to_inv    amt_due   amt_paid  charged_off_amt  \\\n",
       "35977086         VA        86.040001  86.040001  86.040001              0.0   \n",
       "35977087         VA        86.040001  86.040001  86.040001              0.0   \n",
       "35977088         VA        86.039993  86.040001  86.039993              0.0   \n",
       "35977089         VA        86.039993  86.040001  86.039993              0.0   \n",
       "35977090         VA        86.040001  86.040001  86.040001              0.0   \n",
       "35977091         VA        86.040001  86.040001  86.040001              0.0   \n",
       "35977092         VA        86.040001  86.040001  86.040001              0.0   \n",
       "35977093         VA         0.000000  86.040001   0.000000              0.0   \n",
       "\n",
       "          charged_off_this_month  current_policy       date  dq_24m    dti  \\\n",
       "35977086                       0               1 2017-12-01     3.0  14.84   \n",
       "35977087                       0               1 2018-01-01     3.0  14.84   \n",
       "35977088                       0               1 2018-02-01     3.0  14.84   \n",
       "35977089                       0               1 2018-03-01     3.0  14.84   \n",
       "35977090                       0               1 2018-04-01     3.0  14.84   \n",
       "35977091                       0               1 2018-05-01     3.0  14.84   \n",
       "35977092                       0               1 2018-06-01     3.0  14.84   \n",
       "35977093                       0               1 2018-07-01     3.0  14.84   \n",
       "\n",
       "          emp_len  fee_paid  fico_apply  fico_last first_credit_line grade  \\\n",
       "35977086  8 years       0.0         692        692        1994-10-01     B   \n",
       "35977087  8 years       0.0         692        692        1994-10-01     B   \n",
       "35977088  8 years       0.0         692        692        1994-10-01     B   \n",
       "35977089  8 years       0.0         692        697        1994-10-01     B   \n",
       "35977090  8 years       0.0         692        697        1994-10-01     B   \n",
       "35977091  8 years       0.0         692        707        1994-10-01     B   \n",
       "35977092  8 years       0.0         692        717        1994-10-01     B   \n",
       "35977093  8 years       0.0         692        717        1994-10-01     B   \n",
       "\n",
       "         home_ownership   int_paid  int_rate    issue_d    loan_id  \\\n",
       "35977086       mortgage  23.011000     0.104 2017-11-01  124428135   \n",
       "35977087       mortgage  22.464001     0.104 2017-11-01  124428135   \n",
       "35977088       mortgage  21.910999     0.104 2017-11-01  124428135   \n",
       "35977089       mortgage  21.355000     0.104 2017-11-01  124428135   \n",
       "35977090       mortgage  20.792999     0.104 2017-11-01  124428135   \n",
       "35977091       mortgage  20.226000     0.104 2017-11-01  124428135   \n",
       "35977092       mortgage  19.655001     0.104 2017-11-01  124428135   \n",
       "35977093       mortgage   0.000000     0.104 2017-11-01  124428135   \n",
       "\n",
       "          loan_id_num  m_income  m_on_books  m_since_dq  m_since_rec  \\\n",
       "35977086    124428135    9250.0           1         7.0          NaN   \n",
       "35977087    124428135    9250.0           2         7.0          NaN   \n",
       "35977088    124428135    9250.0           3         7.0          NaN   \n",
       "35977089    124428135    9250.0           4         7.0          NaN   \n",
       "35977090    124428135    9250.0           5         7.0          NaN   \n",
       "35977091    124428135    9250.0           6         7.0          NaN   \n",
       "35977092    124428135    9250.0           7         7.0          NaN   \n",
       "35977093    124428135    9250.0           8         7.0          NaN   \n",
       "\n",
       "          monthly_pmt  open_credit_lines  outs_princp_beg  outs_princp_end  \\\n",
       "35977086    86.040001                5.0      2650.000000      2586.970947   \n",
       "35977087    86.040001                5.0      2586.970947      2523.394043   \n",
       "35977088    86.040001                5.0      2523.394043      2459.266113   \n",
       "35977089    86.040001                5.0      2459.266113      2394.580078   \n",
       "35977090    86.040001                5.0      2394.580078      2329.333008   \n",
       "35977091    86.040001                5.0      2329.333008      2263.520020   \n",
       "35977092    86.040001                5.0      2263.520020      2197.135010   \n",
       "35977093    86.040001                5.0      2197.135010      2197.135010   \n",
       "\n",
       "           pmt_date  princp_paid  public_recs  recov_fees  recovs  \\\n",
       "35977086 2017-12-01    63.028999          0.0         0.0     0.0   \n",
       "35977087 2018-01-01    63.576000          0.0         0.0     0.0   \n",
       "35977088 2018-02-01    64.128998          0.0         0.0     0.0   \n",
       "35977089 2018-03-01    64.684998          0.0         0.0     0.0   \n",
       "35977090 2018-04-01    65.247002          0.0         0.0     0.0   \n",
       "35977091 2018-05-01    65.814003          0.0         0.0     0.0   \n",
       "35977092 2018-06-01    66.385002          0.0         0.0     0.0   \n",
       "35977093        NaT     0.000000          0.0         0.0     0.0   \n",
       "\n",
       "          revol_credit_bal  revol_line_util status_period_end  term  \\\n",
       "35977086            4816.0            0.741           current    36   \n",
       "35977087            4816.0            0.741           current    36   \n",
       "35977088            4816.0            0.741           current    36   \n",
       "35977089            4816.0            0.741           current    36   \n",
       "35977090            4816.0            0.741           current    36   \n",
       "35977091            4816.0            0.741           current    36   \n",
       "35977092            4816.0            0.741           current    36   \n",
       "35977093            4816.0            0.741           late_30    36   \n",
       "\n",
       "          total_credit_lines vintage  \n",
       "35977086                25.0    17Q4  \n",
       "35977087                25.0    17Q4  \n",
       "35977088                25.0    17Q4  \n",
       "35977089                25.0    17Q4  \n",
       "35977090                25.0    17Q4  \n",
       "35977091                25.0    17Q4  \n",
       "35977092                25.0    17Q4  \n",
       "35977093                25.0    17Q4  "
      ]
     },
     "execution_count": 51,
     "metadata": {},
     "output_type": "execute_result"
    }
   ],
   "source": [
    "# examine a target strict (which is marking any kind of late, in the past or most up to date from pmt history)\n",
    "pmt_hist[pmt_hist['loan_id'] == 124428135]"
   ]
  },
  {
   "cell_type": "markdown",
   "metadata": {},
   "source": [
    "# Examine loan_info, add target cols to strings_df, turn none into nan"
   ]
  },
  {
   "cell_type": "code",
   "execution_count": 59,
   "metadata": {
    "ExecuteTime": {
     "end_time": "2018-08-26T05:48:34.761900Z",
     "start_time": "2018-08-26T05:48:31.711777Z"
    }
   },
   "outputs": [],
   "source": [
    "loan_info.fillna(value=np.nan, inplace=True)\n",
    "strings_df.fillna(value=np.nan, inplace=True)"
   ]
  },
  {
   "cell_type": "code",
   "execution_count": 67,
   "metadata": {
    "ExecuteTime": {
     "end_time": "2018-08-26T05:52:21.535461Z",
     "start_time": "2018-08-26T05:52:19.741227Z"
    }
   },
   "outputs": [
    {
     "name": "stderr",
     "output_type": "stream",
     "text": [
      "/home/justin/anaconda3/lib/python3.6/site-packages/pandas/core/frame.py:2540: SettingWithCopyWarning: \n",
      "A value is trying to be set on a copy of a slice from a DataFrame.\n",
      "Try using .loc[row_indexer,col_indexer] = value instead\n",
      "\n",
      "See the caveats in the documentation: http://pandas.pydata.org/pandas-docs/stable/indexing.html#indexing-view-versus-copy\n",
      "  self[k1] = value[k2]\n"
     ]
    }
   ],
   "source": [
    "strings_df[['maturity_time', 'maturity_paid', 'target_loose', 'roi_simple', 'target_strict']] = loan_info[['maturity_time', 'maturity_paid', 'target_loose', 'roi_simple', 'target_strict']]"
   ]
  },
  {
   "cell_type": "markdown",
   "metadata": {},
   "source": [
    "# Store"
   ]
  },
  {
   "cell_type": "code",
   "execution_count": 81,
   "metadata": {
    "ExecuteTime": {
     "end_time": "2018-08-26T08:41:05.214392Z",
     "start_time": "2018-08-26T08:41:04.727573Z"
    }
   },
   "outputs": [
    {
     "name": "stderr",
     "output_type": "stream",
     "text": [
      "100%|██████████| 5/5 [00:00<00:00, 53.68it/s]\n"
     ]
    },
    {
     "name": "stdout",
     "output_type": "stream",
     "text": [
      "changed dtypes of 5 cols\n"
     ]
    }
   ],
   "source": [
    "_, strings_df = munging.compress_memory(strings_df)"
   ]
  },
  {
   "cell_type": "code",
   "execution_count": 84,
   "metadata": {
    "ExecuteTime": {
     "end_time": "2018-08-26T08:42:34.714565Z",
     "start_time": "2018-08-26T08:42:34.696650Z"
    }
   },
   "outputs": [],
   "source": [
    "loan_info.reset_index(drop=True, inplace=True)"
   ]
  },
  {
   "cell_type": "code",
   "execution_count": 85,
   "metadata": {
    "ExecuteTime": {
     "end_time": "2018-08-26T08:42:42.937981Z",
     "start_time": "2018-08-26T08:42:35.711546Z"
    }
   },
   "outputs": [],
   "source": [
    "strings_df.to_feather(f'{PATH}{project}/strings_df_clean.fth')\n",
    "loan_info.to_feather(f'{PATH}{project}/loan_info_clean.fth')"
   ]
  },
  {
   "cell_type": "markdown",
   "metadata": {},
   "source": [
    "# Old stuff"
   ]
  },
  {
   "cell_type": "code",
   "execution_count": null,
   "metadata": {},
   "outputs": [],
   "source": [
    "# code used for tweaking speed ups\n",
    "\n",
    "# test = loan_info.tail(1000)\n",
    "\n",
    "# loan_info.tail(30).apply(lambda x: rem_to_be_paid(x['out_prncp'],\n",
    "#                                                   x['installment_funded'],\n",
    "#                                                   x['int_rate']), axis=1)\n",
    "\n",
    "# apply_rem_to_be_paid(test['out_prncp'].values, test['installment_funded'].values,\n",
    "#                      test['int_rate'].values)\n",
    "\n",
    "# %timeit apply_rem_to_be_paid(test['out_prncp'].values, test['installment_funded'].values,test['int_rate'].values)\n",
    "\n",
    "# %timeit loan_info.tail(1000).apply(lambda x: rem_to_be_paid(x['out_prncp'],x['installment_funded'],x['int_rate']), axis=1)\n",
    "\n",
    "# %prun -l 10 apply_rem_to_be_paid(test['out_prncp'].values, test['installment_funded'].values,test['int_rate'].values)\n",
    "\n",
    "# %timeit apply_rem_to_be_paid(test['out_prncp'].values, test['installment_funded'].values,test['int_rate'].values)"
   ]
  },
  {
   "cell_type": "code",
   "execution_count": 53,
   "metadata": {
    "ExecuteTime": {
     "end_time": "2018-08-26T01:10:52.998137Z",
     "start_time": "2018-08-26T01:10:52.978036Z"
    }
   },
   "outputs": [],
   "source": [
    "# # fix loans with no record at all for a specific month ________________________\n",
    "# store.open()\n",
    "# pmt_hist_ids = store['pmt_hist_ids'].astype(int)\n",
    "# max_id = pmt_hist_ids.max()\n",
    "# chunksize = 800\n",
    "# n_chunks = len(pmt_hist_ids)//chunksize + 1\n",
    "# bad_statuses = set(['late_120', 'defaulted', 'charged_off', 'late_30'])\n",
    "# # m_disc_rate = .08/12\n",
    "\n",
    "# target_strict_dict = {}\n",
    "# nvps_8_dict = {}\n",
    "# for n in tqdm_notebook(np.arange(n_chunks)):\n",
    "#     if n == 0:\n",
    "#         left_bound = 0\n",
    "#     else:\n",
    "#         left_bound = pmt_hist_ids[n*chunksize]\n",
    "#     if n == (n_chunks - 1):\n",
    "#         right_bound = max_id\n",
    "#     else:\n",
    "#         right_bound = pmt_hist_ids[(n+1)*chunksize]\n",
    "    \n",
    "#     chunk = pd.read_hdf(\n",
    "#         store,\n",
    "#         'pmt_hist_intermediary_2',\n",
    "#         where='(loan_id_num > left_bound) & (loan_id_num <= right_bound)')\n",
    "    \n",
    "#     id_grouped = chunk.groupby('loan_id')\n",
    "#     for ids, group in id_grouped:\n",
    "#         statuses = set(group['status_period_end'])\n",
    "#         if len(statuses.intersection(bad_statuses)) > 0:\n",
    "#             target_strict_dict[ids] = 1\n",
    "#         else:\n",
    "#             target_strict_dict[ids] = 0\n",
    "        "
   ]
  },
  {
   "cell_type": "code",
   "execution_count": null,
   "metadata": {},
   "outputs": [],
   "source": []
  }
 ],
 "metadata": {
  "anaconda-cloud": {},
  "kernelspec": {
   "display_name": "Python 3",
   "language": "python",
   "name": "python3"
  },
  "language_info": {
   "codemirror_mode": {
    "name": "ipython",
    "version": 3
   },
   "file_extension": ".py",
   "mimetype": "text/x-python",
   "name": "python",
   "nbconvert_exporter": "python",
   "pygments_lexer": "ipython3",
   "version": "3.6.3"
  },
  "notify_time": "5",
  "varInspector": {
   "cols": {
    "lenName": 16,
    "lenType": 16,
    "lenVar": 40
   },
   "kernels_config": {
    "python": {
     "delete_cmd_postfix": "",
     "delete_cmd_prefix": "del ",
     "library": "var_list.py",
     "varRefreshCmd": "print(var_dic_list())"
    },
    "r": {
     "delete_cmd_postfix": ") ",
     "delete_cmd_prefix": "rm(",
     "library": "var_list.r",
     "varRefreshCmd": "cat(var_dic_list()) "
    }
   },
   "types_to_exclude": [
    "module",
    "function",
    "builtin_function_or_method",
    "instance",
    "_Feature"
   ],
   "window_display": false
  }
 },
 "nbformat": 4,
 "nbformat_minor": 1
}
