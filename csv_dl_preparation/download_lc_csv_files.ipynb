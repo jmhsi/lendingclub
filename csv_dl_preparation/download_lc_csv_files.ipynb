{
 "cells": [
  {
   "cell_type": "code",
   "execution_count": null,
   "metadata": {},
   "outputs": [],
   "source": [
    "import time\n",
    "import subprocess\n",
    "import lendingclub.account_info as acc_info\n",
    "import dir_constants as dc\n",
    "from os import mkdir\n",
    "from selenium import webdriver\n",
    "# from selenium.webdriver import PhantomJS\n",
    "from selenium.webdriver.support.ui import Select, WebDriverWait\n",
    "from selenium.webdriver.common.keys import Keys\n",
    "from selenium.webdriver.chrome.options import Options\n",
    "\n",
    "platform = 'lendingclub'\n",
    "chrome_options = webdriver.ChromeOptions()\n",
    "home = dc.home_path\n",
    "ppath = home + '/justin_tinkering/data_science/lendingclub/lendingclub_csvs'.format(platform)\n",
    "now = time.strftime(\"%Y_%m_%d_%Hh_%Mm_%Ss\")\n",
    "full_path = ppath + '/' + 'lc_' + now\n",
    "os.mkdir(full_path)\n",
    "email = acc_info.email_throwaway\n",
    "password = acc_info.password_throwaway\n",
    "\n",
    "prefs = {'download.default_directory': '{0}'.format(full_path)}\n",
    "chrome_options.add_experimental_option('prefs', prefs)\n",
    "# driver_loc = \"/home/justin/justin_tinkering/chromedriver\"\n",
    "\n",
    "# create a new Firefox session\n",
    "driver = webdriver.PhantomJS() #executable_path=driver_loc\n",
    "driver.implicitly_wait(30)\n",
    "driver.maximize_window()\n",
    "\n",
    "# navigate to the application home page\n",
    "driver.get(\"https://www.lendingclub.com/info/download-data.action\")\n",
    "\n",
    "sign_in = driver.find_element_by_link_text('Sign in')\n",
    "sign_in.click()\n",
    "\n",
    "email_box = driver.find_element_by_name('email')\n",
    "password_box = driver.find_element_by_name('password')\n",
    "\n",
    "time.sleep(5)\n",
    "email_box.send_keys(email)\n",
    "time.sleep(5)\n",
    "password_box.send_keys(password)\n",
    "\n",
    "button = driver.find_element_by_class_name('form-button')\n",
    "button.click()\n",
    "\n",
    "time.sleep(10)\n",
    "\n",
    "statistics = driver.find_element_by_link_text('Statistics')\n",
    "statistics.click()\n",
    "\n",
    "download_data = driver.find_element_by_link_text('Download Data')\n",
    "download_data.click()\n",
    "\n",
    "select = driver.find_element_by_id(\n",
    "    'loanStatsDropdown')  #get the select element\n",
    "options = select.find_elements_by_tag_name(\n",
    "    \"option\")  #get all the options into a list\n",
    "\n",
    "optionsList = []\n",
    "\n",
    "for option in options:  #iterate over the options, place attribute value in list\n",
    "    optionsList.append(option.get_attribute(\"value\"))\n",
    "\n",
    "for optionValue in optionsList:\n",
    "    print(\"starting loop on option %s\" % optionValue)\n",
    "\n",
    "    select = Select(driver.find_element_by_id('loanStatsDropdown'))\n",
    "    select.select_by_value(optionValue)\n",
    "    download_btn = driver.find_element_by_id('currentLoanStatsFileName')\n",
    "    download_btn.click()\n",
    "    time.sleep(2)\n",
    "\n",
    "driver.get('https://www.lendingclub.com/site/additional-statistics')\n",
    "pmt_history = driver.find_element_by_link_text(\n",
    "    'All payments (includes payments made to investors and to LendingClub)')\n",
    "pmt_history.click()\n",
    "time.sleep(2)\n",
    "\n",
    "while True:\n",
    "    if len(os.listdir(full_path)) != (\n",
    "            len(optionsList) + 1):  #+1 for one pmt history file\n",
    "        time.sleep(5)\n",
    "    else:\n",
    "        files = os.listdir(full_path)\n",
    "        k = 0\n",
    "        time.sleep(5)\n",
    "        for filename in files:\n",
    "            if 'crdownload' in filename:\n",
    "                print('waiting on downloads to finish.')\n",
    "                time.sleep(60)\n",
    "            else:\n",
    "                k += 1\n",
    "#                 print(k)\n",
    "        if k == len(files):\n",
    "            time.sleep(2)\n",
    "            break\n",
    "\n",
    "print('done downloading')\n",
    "\n",
    "driver.close()\n",
    "\n",
    "just_dled_hashes = {}\n",
    "files = os.listdir(full_path)\n",
    "for file_ in files:\n",
    "    a = subprocess.check_output(\n",
    "        'shasum -a 256 {0}'.format(full_path + '/' + file_), shell=True)\n",
    "    just_dled_hashes[file_] = a.split()[0]\n",
    "\n",
    "dirs = [d for d in os.listdir(ppath) if os.path.isdir(os.path.join(ppath, d))]\n",
    "dirs.sort()\n",
    "\n",
    "try:\n",
    "    previous_dled = dirs[-2]\n",
    "\n",
    "    previous_dled_hashes = {}\n",
    "    previous_full_path = ppath + '/' + previous_dled + '/'\n",
    "    files = os.listdir(previous_full_path)\n",
    "    files = [file_ for file_ in files if not file_.startswith('.')]\n",
    "    for file_ in files:\n",
    "        a = subprocess.check_output(\n",
    "            'shasum -a 256 {0}'.format(previous_full_path + file_), shell=True)\n",
    "        previous_dled_hashes[file_] = a.split()[0]\n",
    "\n",
    "    k = 0\n",
    "    if len(just_dled_hashes) != len(previous_dled_hashes):\n",
    "        k += 1\n",
    "    else:\n",
    "        for key in just_dled_hashes.keys():\n",
    "            if previous_dled_hashes[key] != just_dled_hashes[key]:\n",
    "                k += 1\n",
    "\n",
    "    if k == 0:\n",
    "        print('no change to previous downloaded lending club loan info csvs')\n",
    "    else:\n",
    "        print(\n",
    "            'At least one of the files changed. Probably need to unzip csvs and re-run cleaning scripts.'\n",
    "        )\n",
    "\n",
    "except IndexError:\n",
    "    print('this is probably your first time downloading the csvs.')"
   ]
  },
  {
   "cell_type": "code",
   "execution_count": null,
   "metadata": {},
   "outputs": [],
   "source": [
    "just_dled_hashes"
   ]
  },
  {
   "cell_type": "code",
   "execution_count": null,
   "metadata": {},
   "outputs": [],
   "source": [
    "previous_dled_hashes"
   ]
  },
  {
   "cell_type": "markdown",
   "metadata": {},
   "source": [
    "# Below was for storing in s3 bucket"
   ]
  },
  {
   "cell_type": "code",
   "execution_count": null,
   "metadata": {},
   "outputs": [],
   "source": [
    "aws_access_key_id = \n",
    "aws_secret_access_key = "
   ]
  },
  {
   "cell_type": "code",
   "execution_count": null,
   "metadata": {},
   "outputs": [],
   "source": [
    "import boto3\n",
    "\n",
    "s3 = boto3.resource('s3')"
   ]
  },
  {
   "cell_type": "code",
   "execution_count": null,
   "metadata": {},
   "outputs": [],
   "source": [
    "dirs = [d for d in os.listdir(ppath) if os.path.isdir(os.path.join(ppath,d))]\n",
    "dirs.sort()\n",
    "most_recent_dls = dirs[-1]"
   ]
  },
  {
   "cell_type": "code",
   "execution_count": null,
   "metadata": {},
   "outputs": [],
   "source": [
    "files_to_store = os.listdir(ppath+'/'+most_recent_dls)"
   ]
  },
  {
   "cell_type": "code",
   "execution_count": null,
   "metadata": {},
   "outputs": [],
   "source": [
    "ppath+'/'+most_recent_dls"
   ]
  },
  {
   "cell_type": "code",
   "execution_count": null,
   "metadata": {},
   "outputs": [],
   "source": [
    "bucket_name = ''\n",
    "for file_ in tqdm_notebook(files_to_store):\n",
    "    data = open('{0}'.format(ppath+'/'+most_recent_dls+'/'+file_), 'rb')\n",
    "    s3.Bucket(bucket_name).put_object(Key='{0}/{1}'.format(most_recent_dls, file_), Body=data)"
   ]
  },
  {
   "cell_type": "code",
   "execution_count": null,
   "metadata": {},
   "outputs": [],
   "source": []
  }
 ],
 "metadata": {
  "kernelspec": {
   "display_name": "Python 3",
   "language": "python",
   "name": "python3"
  },
  "language_info": {
   "codemirror_mode": {
    "name": "ipython",
    "version": 3
   },
   "file_extension": ".py",
   "mimetype": "text/x-python",
   "name": "python",
   "nbconvert_exporter": "python",
   "pygments_lexer": "ipython3",
   "version": "3.6.3"
  },
  "notify_time": "30",
  "varInspector": {
   "cols": {
    "lenName": 16,
    "lenType": 16,
    "lenVar": 40
   },
   "kernels_config": {
    "python": {
     "delete_cmd_postfix": "",
     "delete_cmd_prefix": "del ",
     "library": "var_list.py",
     "varRefreshCmd": "print(var_dic_list())"
    },
    "r": {
     "delete_cmd_postfix": ") ",
     "delete_cmd_prefix": "rm(",
     "library": "var_list.r",
     "varRefreshCmd": "cat(var_dic_list()) "
    }
   },
   "types_to_exclude": [
    "module",
    "function",
    "builtin_function_or_method",
    "instance",
    "_Feature"
   ],
   "window_display": false
  }
 },
 "nbformat": 4,
 "nbformat_minor": 2
}
