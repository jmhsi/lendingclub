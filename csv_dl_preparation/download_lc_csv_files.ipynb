{
 "cells": [
  {
   "cell_type": "markdown",
   "metadata": {},
   "source": [
    "##### updating on 9/27/2018 to work again"
   ]
  },
  {
   "cell_type": "code",
   "execution_count": null,
   "metadata": {},
   "outputs": [],
   "source": [
    "from lendingclub.csv_dl_preparation"
   ]
  },
  {
   "cell_type": "markdown",
   "metadata": {},
   "source": [
    "##### writing script"
   ]
  },
  {
   "cell_type": "code",
   "execution_count": 285,
   "metadata": {
    "ExecuteTime": {
     "end_time": "2018-10-02T01:55:44.958544Z",
     "start_time": "2018-10-02T01:55:44.935325Z"
    },
    "code_folding": [
     16,
     73,
     162,
     172,
     211,
     220
    ]
   },
   "outputs": [
    {
     "name": "stdout",
     "output_type": "stream",
     "text": [
      "Overwriting download_prep.py\n"
     ]
    }
   ],
   "source": [
    "%%writefile download_prep.py\n",
    "# driver download https://github.com/mozilla/geckodriver/releases\n",
    "# extracted geckodriver to /usr/local/bin in ubuntu\n",
    "import os\n",
    "import sys\n",
    "import subprocess\n",
    "import time\n",
    "from stat import S_ISDIR, ST_CTIME, ST_MODE\n",
    "from shutil import copytree, rmtree\n",
    "import pause\n",
    "from selenium.webdriver import Chrome\n",
    "from selenium.webdriver.chrome import webdriver as chrome_webdriver\n",
    "from selenium.webdriver.support.ui import Select\n",
    "import lendingclub.account_info as acc_info\n",
    "\n",
    "\n",
    "class DriverBuilder():\n",
    "    # https://stackoverflow.com/questions/45631715/downloading-with-chrome-headless-and-selenium\n",
    "    def get_driver(self, download_location=None, headless=False):\n",
    "\n",
    "        driver = self._get_chrome_driver(download_location, headless)\n",
    "\n",
    "        driver.set_window_size(1400, 700)\n",
    "\n",
    "        return driver\n",
    "\n",
    "    def _get_chrome_driver(self, download_location, headless):\n",
    "        chrome_options = chrome_webdriver.Options()\n",
    "        if download_location:\n",
    "            prefs = {'download.default_directory': download_location,\n",
    "                     'download.prompt_for_download': False,\n",
    "                     'download.directory_upgrade': True,\n",
    "                     'safebrowsing.enabled': False,\n",
    "                     'safebrowsing.disable_download_protection': True}\n",
    "\n",
    "            chrome_options.add_experimental_option('prefs', prefs)\n",
    "\n",
    "        if headless:\n",
    "            chrome_options.add_argument(\"--headless\")\n",
    "\n",
    "        driver_path = '/usr/local/bin/chromedriver'\n",
    "\n",
    "        if sys.platform.startswith(\"win\"):\n",
    "            driver_path += \".exe\"\n",
    "\n",
    "        driver = Chrome(executable_path=driver_path,\n",
    "                        chrome_options=chrome_options)\n",
    "\n",
    "        if headless:\n",
    "            self.enable_download_in_headless_chrome(driver, download_location)\n",
    "\n",
    "        return driver\n",
    "\n",
    "    def enable_download_in_headless_chrome(self, driver, download_dir):\n",
    "        \"\"\"\n",
    "        there is currently a \"feature\" in chrome where\n",
    "        headless does not allow file download: https://bugs.chromium.org/p/chromium/issues/detail?id=696481\n",
    "        This method is a hacky work-around until the official chromedriver support for this.\n",
    "        Requires chrome version 62.0.3196.0 or above.\n",
    "        \"\"\"\n",
    "\n",
    "        # add missing support for chrome \"send_command\"  to selenium webdriver\n",
    "        driver.command_executor._commands[\"send_command\"] = (\n",
    "            \"POST\", '/session/$sessionId/chromium/send_command')\n",
    "\n",
    "        params = {'cmd': 'Page.setDownloadBehavior', 'params': {\n",
    "            'behavior': 'allow', 'downloadPath': download_dir}}\n",
    "        command_result = driver.execute(\"send_command\", params)\n",
    "        print(\"response from browser:\")\n",
    "        for key in command_result:\n",
    "            print(\"result:\" + key + \":\" + str(command_result[key]))\n",
    "\n",
    "\n",
    "def download_csvs(download_path):\n",
    "    '''\n",
    "    downloads all loan_info csvs and pmt_history csv\n",
    "    '''\n",
    "    # setup constants\n",
    "    email = acc_info.email_throwaway\n",
    "    password = acc_info.password_throwaway\n",
    "    url_dl = \"https://www.lendingclub.com/info/download-data.action\"\n",
    "    url_signin = \"https://www.lendingclub.com/auth/login\"\n",
    "    url_pmt_hist = \"https://www.lendingclub.com/site/additional-statistics\"\n",
    "\n",
    "    d_builder = DriverBuilder()\n",
    "    driver = d_builder.get_driver(\n",
    "        download_location=download_path, headless=True)\n",
    "    # sign in\n",
    "    driver.get(url_signin)\n",
    "\n",
    "    email_box = driver.find_element_by_xpath(\n",
    "        '/html/body/div[2]/div[1]/div[2]/form[1]/label[1]/input')\n",
    "    password_box = driver.find_element_by_xpath(\n",
    "        '/html/body/div[2]/div[1]/div[2]/form[1]/label[2]/input')\n",
    "\n",
    "    pause.milliseconds(1000)\n",
    "    email_box.send_keys(email)\n",
    "    password_box.send_keys(password)\n",
    "\n",
    "    button = driver.find_element_by_xpath(\n",
    "        '/html/body/div[2]/div[1]/div[2]/form[1]/button')\n",
    "    button.click()\n",
    "    pause.milliseconds(1500)\n",
    "\n",
    "    # download loan_info\n",
    "    driver.get(url_dl)\n",
    "    download_btn = driver.find_element_by_xpath(\n",
    "        '//*[@id=\"currentLoanStatsFileName\"]')\n",
    "\n",
    "    select = driver.find_element_by_xpath(\n",
    "        '//*[@id=\"loanStatsDropdown\"]')  # get the select element\n",
    "    options = select.find_elements_by_tag_name(\n",
    "        \"option\")  # get all the options into a list\n",
    "\n",
    "    options_dict = {}\n",
    "    for option in options:  # iterate over the options, place attribute value in list\n",
    "        options_dict[option.get_attribute(\"value\")] = option.text\n",
    "\n",
    "    for opt_val, text in options_dict.items():\n",
    "        print(\"starting download on option {0}, {1}\".format(opt_val, text))\n",
    "\n",
    "        select = driver.find_element_by_xpath(\n",
    "            '//*[@id=\"loanStatsDropdown\"]')\n",
    "        selection = Select(select)\n",
    "        selection.select_by_value(opt_val)\n",
    "        download_btn.click()\n",
    "        pause.milliseconds(2000)\n",
    "\n",
    "    # payment history downloads\n",
    "    driver.get(url_pmt_hist)\n",
    "\n",
    "    pmt_history = driver.find_element_by_link_text(\n",
    "        'All payments (includes payments made to investors and to LendingClub)')\n",
    "    pmt_history.click()\n",
    "\n",
    "    # wait for all downloads to finish\n",
    "    while True:\n",
    "        if len(os.listdir(download_path)) != (\n",
    "                len(options_dict) + 1):  # +1 for one pmt history file\n",
    "            time.sleep(5)\n",
    "            print('waiting for all csv downloads to start')\n",
    "            continue\n",
    "        else:\n",
    "            files = os.listdir(download_path)\n",
    "            k = 0\n",
    "            time.sleep(5)\n",
    "            print('checking/waiting for all csv downloads to finish')\n",
    "            for filename in files:\n",
    "                if 'crdownload' in filename:\n",
    "                    time.sleep(60)\n",
    "                else:\n",
    "                    k += 1\n",
    "    #                 print(k)\n",
    "            if k == len(files):\n",
    "                time.sleep(2)\n",
    "                break\n",
    "\n",
    "    print('done downloading')\n",
    "    driver.close()\n",
    "    return True\n",
    "\n",
    "\n",
    "def get_hashes(path):\n",
    "    hashes = {}\n",
    "    files = os.listdir(path)\n",
    "    for file_ in files:\n",
    "        a = subprocess.check_output(\n",
    "            'shasum -a 256 {0}'.format(path + '/' + file_), shell=True)\n",
    "        hashes[file_] = a.split()[0]\n",
    "    return hashes\n",
    "\n",
    "\n",
    "def check_file_changes(csv_folders, just_dled_hashes):\n",
    "    need_to_clean = False\n",
    "    try:\n",
    "        previous_dled_hashes = get_hashes(csv_folders[-2][1])\n",
    "\n",
    "        # compare new download to previous download\n",
    "        # check for added or deleted files\n",
    "        dne_files = set(just_dled_hashes.keys()).intersection(\n",
    "            set(previous_dled_hashes.keys()))\n",
    "        add_files = set(previous_dled_hashes.keys()).intersection(\n",
    "            set(just_dled_hashes.keys()))\n",
    "        if len(just_dled_hashes) != len(previous_dled_hashes):\n",
    "            need_to_clean = True\n",
    "            print(\"Compared to the previous time new csv's were downloaded, the following files were deleted: \\n {0}\".format(\n",
    "                dne_files))\n",
    "            print(\"Compared to the previous time new csv's were downloaded, the following files are new additions: \\n {0}\".format(\n",
    "                add_files))\n",
    "        else:\n",
    "            print('No files were added or deleted since previous downloading of csvs')\n",
    "\n",
    "        # check for shasum256 changes\n",
    "        changed_files = []\n",
    "        for key in just_dled_hashes.keys():\n",
    "            if previous_dled_hashes[key] != just_dled_hashes[key]:\n",
    "                changed_files.append()\n",
    "        if len(changed_files) == 0:\n",
    "            print('There are no changes to previous downloaded lending club csvs (loan_info and pmt_hist) via shasum256 hashes')\n",
    "        else:\n",
    "            need_to_clean = True\n",
    "            print('Compared to the previous data download, the shasum256 hashes changed for the following files: {0}'.format(\n",
    "                changed_files))\n",
    "\n",
    "    except IndexError:\n",
    "        need_to_clean = True\n",
    "        print('Could not find previously download directory? This is probably your first time downloading the csvs or the first download to a new path.')\n",
    "\n",
    "    return need_to_clean\n",
    "\n",
    "\n",
    "def get_sorted_creationtime_dirs(ppath):\n",
    "    csv_folders = [os.path.join(ppath, fn) for fn in os.listdir(\n",
    "        ppath) if fn not in ['archived_csvs', 'working_csvs']]\n",
    "    csv_folders = [(os.stat(path), path) for path in csv_folders]\n",
    "    csv_folders = [(stat[ST_CTIME], path)\n",
    "                   for stat, path in csv_folders if S_ISDIR(stat[ST_MODE])]\n",
    "    return sorted(csv_folders)\n",
    "\n",
    "\n",
    "def archiver(archive_flag, ppath, archiver_dir=None):\n",
    "    archiver_dir = os.path.join(os.path.expanduser(\n",
    "        '~'), 'all_data', 'lendingclub', 'csvs', 'archived_csvs') if not archiver_dir else archiver_dir\n",
    "    os.makedirs(archiver_dir, exist_ok=True)\n",
    "    if archive_flag:\n",
    "        just_dled = get_sorted_creationtime_dirs(ppath)[-1][1]\n",
    "        newest_folder = os.path.split(just_dled)[1]\n",
    "        copytree(just_dled, os.path.join(archiver_dir, newest_folder))\n",
    "        print('copied most recent download of csvs to archiver_dir')\n",
    "\n",
    "\n",
    "def cleaner(ppath):\n",
    "    just_dled = os.path.split(get_sorted_creationtime_dirs(ppath)[-1][1])[1]\n",
    "    keep_dirs = ['archived_csvs', 'working_csvs', just_dled]\n",
    "    for tree in os.listdir(ppath):\n",
    "        if tree not in keep_dirs:\n",
    "            rmtree(os.path.join(ppath, tree))\n",
    "            print('removing old dirs {0}'.format(tree))\n",
    "    return just_dled"
   ]
  },
  {
   "cell_type": "code",
   "execution_count": 196,
   "metadata": {
    "ExecuteTime": {
     "end_time": "2018-09-30T18:30:47.821654Z",
     "start_time": "2018-09-30T18:30:47.804693Z"
    }
   },
   "outputs": [],
   "source": [
    "# rm -rf ls /home/justin/all_data/lendingclub/csvs/archived_csvs/"
   ]
  },
  {
   "cell_type": "code",
   "execution_count": 282,
   "metadata": {
    "ExecuteTime": {
     "end_time": "2018-10-02T01:54:41.043910Z",
     "start_time": "2018-10-02T01:54:40.907914Z"
    }
   },
   "outputs": [
    {
     "name": "stdout",
     "output_type": "stream",
     "text": [
      "\u001b[0m\u001b[01;34marchived_csvs\u001b[0m/  \u001b[01;34mcsvs_2018_09_30_22h_06m_24s\u001b[0m/\r\n"
     ]
    }
   ],
   "source": [
    "ls /home/justin/all_data/lendingclub/csvs"
   ]
  },
  {
   "cell_type": "code",
   "execution_count": 283,
   "metadata": {
    "ExecuteTime": {
     "end_time": "2018-10-02T01:54:50.011692Z",
     "start_time": "2018-10-02T01:54:49.874206Z"
    }
   },
   "outputs": [
    {
     "name": "stdout",
     "output_type": "stream",
     "text": [
      "ls: cannot access '/home/justin/all_data/lendingclub/csvs/csvs_2018_09_30_13h_41m_58s/': No such file or directory\r\n"
     ]
    }
   ],
   "source": [
    "ls /home/justin/all_data/lendingclub/csvs/csvs_2018_09_30_13h_41m_58s/"
   ]
  },
  {
   "cell_type": "code",
   "execution_count": 284,
   "metadata": {
    "ExecuteTime": {
     "end_time": "2018-10-02T01:55:00.191178Z",
     "start_time": "2018-10-02T01:55:00.058980Z"
    }
   },
   "outputs": [
    {
     "name": "stdout",
     "output_type": "stream",
     "text": [
      "\u001b[0m\u001b[01;31mAll_Payments_2018_09.zip\u001b[0m           \u001b[01;31mLoanStats_securev1_2016Q4.csv.zip\u001b[0m\r\n",
      "\u001b[01;31mLoanStats3a_securev1.csv.zip\u001b[0m       \u001b[01;31mLoanStats_securev1_2017Q1.csv.zip\u001b[0m\r\n",
      "\u001b[01;31mLoanStats3b_securev1.csv.zip\u001b[0m       \u001b[01;31mLoanStats_securev1_2017Q2.csv.zip\u001b[0m\r\n",
      "\u001b[01;31mLoanStats3c_securev1.csv.zip\u001b[0m       \u001b[01;31mLoanStats_securev1_2017Q3.csv.zip\u001b[0m\r\n",
      "\u001b[01;31mLoanStats3d_securev1.csv.zip\u001b[0m       \u001b[01;31mLoanStats_securev1_2017Q4.csv.zip\u001b[0m\r\n",
      "\u001b[01;31mLoanStats_securev1_2016Q1.csv.zip\u001b[0m  \u001b[01;31mLoanStats_securev1_2018Q1.csv.zip\u001b[0m\r\n",
      "\u001b[01;31mLoanStats_securev1_2016Q2.csv.zip\u001b[0m  \u001b[01;31mLoanStats_securev1_2018Q2.csv.zip\u001b[0m\r\n",
      "\u001b[01;31mLoanStats_securev1_2016Q3.csv.zip\u001b[0m\r\n"
     ]
    }
   ],
   "source": [
    "ls /home/justin/all_data/lendingclub/csvs/csvs_2018_09_30_22h_06m_24s/"
   ]
  },
  {
   "cell_type": "code",
   "execution_count": 280,
   "metadata": {
    "ExecuteTime": {
     "end_time": "2018-10-01T05:06:14.122088Z",
     "start_time": "2018-10-01T05:06:13.986609Z"
    }
   },
   "outputs": [
    {
     "name": "stdout",
     "output_type": "stream",
     "text": [
      "\u001b[0m\u001b[01;31mAll_Payments_2018_09.zip\u001b[0m           \u001b[01;31mLoanStats_securev1_2016Q4.csv.zip\u001b[0m\r\n",
      "\u001b[01;31mLoanStats3a_securev1.csv.zip\u001b[0m       \u001b[01;31mLoanStats_securev1_2017Q1.csv.zip\u001b[0m\r\n",
      "\u001b[01;31mLoanStats3b_securev1.csv.zip\u001b[0m       \u001b[01;31mLoanStats_securev1_2017Q2.csv.zip\u001b[0m\r\n",
      "\u001b[01;31mLoanStats3c_securev1.csv.zip\u001b[0m       \u001b[01;31mLoanStats_securev1_2017Q3.csv.zip\u001b[0m\r\n",
      "\u001b[01;31mLoanStats3d_securev1.csv.zip\u001b[0m       \u001b[01;31mLoanStats_securev1_2017Q4.csv.zip\u001b[0m\r\n",
      "\u001b[01;31mLoanStats_securev1_2016Q1.csv.zip\u001b[0m  \u001b[01;31mLoanStats_securev1_2018Q1.csv.zip\u001b[0m\r\n",
      "\u001b[01;31mLoanStats_securev1_2016Q2.csv.zip\u001b[0m  \u001b[01;31mLoanStats_securev1_2018Q2.csv.zip\u001b[0m\r\n",
      "\u001b[01;31mLoanStats_securev1_2016Q3.csv.zip\u001b[0m\r\n"
     ]
    }
   ],
   "source": [
    "ls /home/justin/all_data/lendingclub/csvs/archived_csvs/csvs_2018_09_30_13h_41m_58s/"
   ]
  },
  {
   "cell_type": "code",
   "execution_count": 256,
   "metadata": {
    "ExecuteTime": {
     "end_time": "2018-09-30T20:34:08.824609Z",
     "start_time": "2018-09-30T20:34:08.807643Z"
    }
   },
   "outputs": [],
   "source": [
    "# rmtree(os.path.join(os.getcwd(),'test'), ignore_errors=True)"
   ]
  },
  {
   "cell_type": "code",
   "execution_count": 273,
   "metadata": {
    "ExecuteTime": {
     "end_time": "2018-09-30T20:41:41.320471Z",
     "start_time": "2018-09-30T20:41:41.307112Z"
    }
   },
   "outputs": [
    {
     "name": "stdout",
     "output_type": "stream",
     "text": [
      "Overwriting download_and_check_csvs.py\n"
     ]
    }
   ],
   "source": [
    "%%writefile download_and_check_csvs.py\n",
    "import os\n",
    "import time\n",
    "import lendingclub.csv_dl_preparation.download_prep as dp\n",
    "\n",
    "ppath = '/home/justin/all_data/lendingclub/csvs'\n",
    "now = time.strftime(\"%Y_%m_%d_%Hh_%Mm_%Ss\")\n",
    "download_path = ppath + '/csvs_' + now\n",
    "os.mkdir(download_path)\n",
    "\n",
    "# download csvs\n",
    "dp.download_csvs(download_path)\n",
    "\n",
    "# calculate shasum256 hash on just downloaded csvs\n",
    "just_dled_hashes = dp.get_hashes(download_path)\n",
    "\n",
    "# get the dirs holding downlaoded csvs by creation time (not archived_csvs dir)\n",
    "csv_folders = dp.get_sorted_creationtime_dirs(ppath)\n",
    "\n",
    "# check if compared to previous time, there are changes/additions/deletions in csvs\n",
    "archive_flag = dp.check_file_changes(csv_folders, just_dled_hashes)\n",
    "\n",
    "# if something was different (archive_flag), then store a copy of just_downloaded to archives\n",
    "dp.archiver(archive_flag, ppath)\n",
    "\n",
    "# removes old downloads\n",
    "dp.cleaner(ppath)\n",
    "\n",
    "print('done downloading, checking, and archiving (when necessary) the csv files!!!')"
   ]
  },
  {
   "cell_type": "markdown",
   "metadata": {},
   "source": [
    "##### testing"
   ]
  },
  {
   "cell_type": "code",
   "execution_count": 274,
   "metadata": {
    "ExecuteTime": {
     "end_time": "2018-09-30T20:41:56.666673Z",
     "start_time": "2018-09-30T20:41:56.536232Z"
    }
   },
   "outputs": [],
   "source": [
    "ls /home/justin/all_data/lendingclub/csvs/"
   ]
  },
  {
   "cell_type": "code",
   "execution_count": 281,
   "metadata": {
    "ExecuteTime": {
     "end_time": "2018-10-01T05:25:20.361856Z",
     "start_time": "2018-10-01T05:06:24.546708Z"
    }
   },
   "outputs": [
    {
     "name": "stdout",
     "output_type": "stream",
     "text": [
      "response from browser:\n",
      "result:sessionId:1845b66423db4d476bc9c85d3882c4b8\n",
      "result:status:0\n",
      "result:value:None\n",
      "starting download on option 0, 2007 - 2011\n",
      "starting download on option 1, 2012 - 2013\n",
      "starting download on option 2, 2014\n",
      "starting download on option 3, 2015\n",
      "starting download on option 4, 2016 Q1\n",
      "starting download on option 5, 2016 Q2\n",
      "starting download on option 6, 2016 Q3\n",
      "starting download on option 7, 2016 Q4\n",
      "starting download on option 8, 2017 Q1\n",
      "starting download on option 9, 2017 Q2\n",
      "starting download on option 10, 2017 Q3\n",
      "starting download on option 11, 2017 Q4\n",
      "starting download on option 12, 2018 Q1\n",
      "starting download on option 13, 2018 Q2\n",
      "waiting for all csv downloads to start\n",
      "checking/waiting for all csv downloads to finish\n",
      "checking/waiting for all csv downloads to finish\n",
      "checking/waiting for all csv downloads to finish\n",
      "checking/waiting for all csv downloads to finish\n",
      "checking/waiting for all csv downloads to finish\n",
      "checking/waiting for all csv downloads to finish\n",
      "checking/waiting for all csv downloads to finish\n",
      "checking/waiting for all csv downloads to finish\n",
      "checking/waiting for all csv downloads to finish\n",
      "checking/waiting for all csv downloads to finish\n",
      "checking/waiting for all csv downloads to finish\n",
      "checking/waiting for all csv downloads to finish\n",
      "done downloading\n",
      "No files were added or deleted since previous downloading of csvs\n",
      "There are no changes to previous downloaded lending club csvs (loan_info and pmt_hist) via shasum256 hashes\n",
      "removing old dirs\n",
      "done downloading, checking, and archiving (when necessary) the csv files!!!\n"
     ]
    }
   ],
   "source": [
    "%run download_and_check_csvs.py"
   ]
  },
  {
   "cell_type": "code",
   "execution_count": null,
   "metadata": {},
   "outputs": [],
   "source": []
  },
  {
   "cell_type": "markdown",
   "metadata": {},
   "source": [
    "##### working"
   ]
  },
  {
   "cell_type": "code",
   "execution_count": 112,
   "metadata": {
    "ExecuteTime": {
     "end_time": "2018-09-29T19:51:18.950313Z",
     "start_time": "2018-09-29T19:51:18.377792Z"
    },
    "code_folding": [
     24,
     77,
     160,
     169
    ]
   },
   "outputs": [],
   "source": [
    "# driver download https://github.com/mozilla/geckodriver/releases\n",
    "# extracted geckodriver to /usr/local/bin in ubuntu\n",
    "from selenium import webdriver\n",
    "from selenium.webdriver.common.keys import Keys\n",
    "from selenium.webdriver.firefox.options import Options\n",
    "from tqdm import tqdm\n",
    "import timeout_decorator\n",
    "import subprocess\n",
    "import time\n",
    "import pause\n",
    "import re\n",
    "import json\n",
    "from stat import S_ISDIR, ST_CTIME, ST_MODE\n",
    "from selenium.webdriver.firefox.firefox_binary import FirefoxBinary\n",
    "from selenium.webdriver.common.desired_capabilities import DesiredCapabilities\n",
    "# from selenium.common.exceptions import NoSuchElementException, WebDriverException\n",
    "from selenium.webdriver import Chrome\n",
    "from selenium.webdriver.chrome import webdriver as chrome_webdriver\n",
    "from selenium.webdriver.support import expected_conditions as EC\n",
    "from selenium.webdriver.support.ui import Select\n",
    "from IPython.display import FileLink\n",
    "from bs4 import BeautifulSoup\n",
    "import lendingclub.account_info as acc_info\n",
    "\n",
    "class DriverBuilder():\n",
    "    #https://stackoverflow.com/questions/45631715/downloading-with-chrome-headless-and-selenium\n",
    "    def get_driver(self, download_location=None, headless=False):\n",
    "\n",
    "        driver = self._get_chrome_driver(download_location, headless)\n",
    "\n",
    "        driver.set_window_size(1400, 700)\n",
    "\n",
    "        return driver\n",
    "\n",
    "    def _get_chrome_driver(self, download_location, headless):\n",
    "        chrome_options = chrome_webdriver.Options()\n",
    "        if download_location:\n",
    "            prefs = {'download.default_directory': download_location,\n",
    "                     'download.prompt_for_download': False,\n",
    "                     'download.directory_upgrade': True,\n",
    "                     'safebrowsing.enabled': False,\n",
    "                     'safebrowsing.disable_download_protection': True}\n",
    "\n",
    "            chrome_options.add_experimental_option('prefs', prefs)\n",
    "\n",
    "        if headless:\n",
    "            chrome_options.add_argument(\"--headless\")\n",
    "\n",
    "        driver_path = '/usr/local/bin/chromedriver'\n",
    "\n",
    "        if sys.platform.startswith(\"win\"):\n",
    "            driver_path += \".exe\"\n",
    "\n",
    "        driver = Chrome(executable_path=driver_path, chrome_options=chrome_options)\n",
    "\n",
    "        if headless:\n",
    "            self.enable_download_in_headless_chrome(driver, download_location)\n",
    "\n",
    "        return driver\n",
    "\n",
    "    def enable_download_in_headless_chrome(self, driver, download_dir):\n",
    "        \"\"\"\n",
    "        there is currently a \"feature\" in chrome where\n",
    "        headless does not allow file download: https://bugs.chromium.org/p/chromium/issues/detail?id=696481\n",
    "        This method is a hacky work-around until the official chromedriver support for this.\n",
    "        Requires chrome version 62.0.3196.0 or above.\n",
    "        \"\"\"\n",
    "\n",
    "        # add missing support for chrome \"send_command\"  to selenium webdriver\n",
    "        driver.command_executor._commands[\"send_command\"] = (\"POST\", '/session/$sessionId/chromium/send_command')\n",
    "\n",
    "        params = {'cmd': 'Page.setDownloadBehavior', 'params': {'behavior': 'allow', 'downloadPath': download_dir}}\n",
    "        command_result = driver.execute(\"send_command\", params)\n",
    "        print(\"response from browser:\")\n",
    "        for key in command_result:\n",
    "            print(\"result:\" + key + \":\" + str(command_result[key]))\n",
    "            \n",
    "def download_csvs():\n",
    "    '''\n",
    "    downloads all loan_info csvs and pmt_history csv\n",
    "    '''\n",
    "    # setup constants\n",
    "    email = acc_info.email_throwaway\n",
    "    password = acc_info.password_throwaway\n",
    "    url_dl = \"https://www.lendingclub.com/info/download-data.action\"\n",
    "    url_signin = \"https://www.lendingclub.com/auth/login\"\n",
    "    url_pmt_hist = \"https://www.lendingclub.com/site/additional-statistics\"\n",
    "    \n",
    "    d_builder = DriverBuilder()\n",
    "    driver = d_builder.get_driver(download_location = download_path, headless=True)\n",
    "    # sign in\n",
    "    driver.get(url_signin)\n",
    "\n",
    "    email_box = driver.find_element_by_xpath('/html/body/div[2]/div[1]/div[2]/form[1]/label[1]/input')\n",
    "    password_box = driver.find_element_by_xpath('/html/body/div[2]/div[1]/div[2]/form[1]/label[2]/input')\n",
    "\n",
    "    pause.milliseconds(1000)\n",
    "    email_box.send_keys(email)\n",
    "    password_box.send_keys(password)\n",
    "\n",
    "    button = driver.find_element_by_xpath('/html/body/div[2]/div[1]/div[2]/form[1]/button')\n",
    "    button.click()\n",
    "    pause.milliseconds(1500)\n",
    "    \n",
    "    # download loan_info\n",
    "    driver.get(url_dl)\n",
    "    download_btn = driver.find_element_by_xpath('//*[@id=\"currentLoanStatsFileName\"]')\n",
    "\n",
    "    select = driver.find_element_by_xpath(\n",
    "        '//*[@id=\"loanStatsDropdown\"]')  #get the select element\n",
    "    options = select.find_elements_by_tag_name(\n",
    "        \"option\")  #get all the options into a list\n",
    "\n",
    "    options_dict = {}\n",
    "    for option in options:  #iterate over the options, place attribute value in list\n",
    "        options_dict[option.get_attribute(\"value\")] = option.text\n",
    "\n",
    "    for opt_val, text in options_dict.items():\n",
    "        print(\"starting download on option {0}, {1}\".format(opt_val, text))\n",
    "\n",
    "        select = driver.find_element_by_xpath(\n",
    "        '//*[@id=\"loanStatsDropdown\"]')\n",
    "        selection = Select(select)\n",
    "        selection.select_by_value(opt_val)\n",
    "        download_btn.click()\n",
    "        pause.milliseconds(2000)\n",
    "\n",
    "    # payment history downloads            \n",
    "    driver.get(url_pmt_hist)\n",
    "\n",
    "    pmt_history = driver.find_element_by_link_text(\n",
    "        'All payments (includes payments made to investors and to LendingClub)')\n",
    "    pmt_history.click()\n",
    "    \n",
    "    # wait for all downloads to finish\n",
    "    while True:\n",
    "        if len(os.listdir(download_path)) != (\n",
    "                len(options_dict) + 1):  #+1 for one pmt history file\n",
    "            time.sleep(5)\n",
    "            print('waiting for all csv downloads to start')\n",
    "            continue\n",
    "        else:\n",
    "            files = os.listdir(download_path)\n",
    "            k = 0\n",
    "            time.sleep(5)\n",
    "            print('checking/waiting for all csv downloads to finish')\n",
    "            for filename in files:\n",
    "                if 'crdownload' in filename:\n",
    "                    time.sleep(30)\n",
    "                else:\n",
    "                    k += 1\n",
    "    #                 print(k)\n",
    "            if k == len(files):\n",
    "                time.sleep(2)\n",
    "                break\n",
    "\n",
    "    print('done downloading')\n",
    "    driver.close()\n",
    "    return True\n",
    "\n",
    "def get_hashes(path):\n",
    "    hashes = {}\n",
    "    files = os.listdir(path)\n",
    "    for file_ in files:\n",
    "        a = subprocess.check_output(\n",
    "            'shasum -a 256 {0}'.format(path + '/' + file_), shell=True)\n",
    "        hashes[file_] = a.split()[0]\n",
    "    return hashes\n",
    "\n",
    "def check_file_changes():\n",
    "    try:\n",
    "        previous_dled_hashes = get_hashes(csv_folders[-2][1])\n",
    "\n",
    "        # compare new download to previous download\n",
    "        dne_files = set(just_dled_hashes.keys()).intersection(set(previous_dled_hashes.keys()))\n",
    "        add_files = set(previous_dled_hashes.keys()).intersection(set(just_dled_hashes.keys()))\n",
    "        if len(just_dled_hashes) != len(previous_dled_hashes):\n",
    "            print(\"Compared to the previous time new csv's were downloaded, the following files were deleted: \\n {0}\".format(dne_files))\n",
    "            print(\"Compared to the previous time new csv's were downloaded, the following files are new additions: \\n {0}\".format(add_files))\n",
    "        else:\n",
    "            print('No files were added or deleted since previous downloading of csvs')\n",
    "\n",
    "\n",
    "        changed_files = []\n",
    "        for key in just_dled_hashes.keys():\n",
    "            if previous_dled_hashes[key] != just_dled_hashes[key]:\n",
    "                changed_files.append()\n",
    "        if len(changed_files) == 0:\n",
    "            print('There are no changes to previous downloaded lending club csvs (loan_info and pmt_hist) via shasum256 hashes')\n",
    "        else:\n",
    "            print('Compared to the previous data download, the shasum256 hashes changed for the following files: {0}'.format(changed_files))\n",
    "\n",
    "    except IndexError:\n",
    "        print('Could not find previously download directory? This is probably your first time downloading the csvs or the first download to a new path.')"
   ]
  },
  {
   "cell_type": "code",
   "execution_count": 6,
   "metadata": {
    "ExecuteTime": {
     "end_time": "2018-09-29T05:00:37.944903Z",
     "start_time": "2018-09-29T05:00:37.924601Z"
    },
    "scrolled": true
   },
   "outputs": [],
   "source": [
    "# chrome_options = webdriver.ChromeOptions()\n",
    "\n",
    "ppath = '/home/justin/all_data/lendingclub/csvs'\n",
    "now = time.strftime(\"%Y_%m_%d_%Hh_%Mm_%Ss\")\n",
    "download_path = ppath + '/csvs_' + now\n",
    "os.mkdir(download_path)\n",
    "\n",
    "# prefs = {'download.default_directory': '{0}'.format(full_path), 'download.prompt_for_download': False,}\n",
    "# chrome_options.add_experimental_option('prefs', prefs)\n",
    "# chrome_options.add_argument('--headless')\n",
    "# driver = webdriver.Chrome('/home/justin/lendingclub/csv_dl_preparation/chromedriver', chrome_options=chrome_options)"
   ]
  },
  {
   "cell_type": "code",
   "execution_count": 97,
   "metadata": {
    "ExecuteTime": {
     "end_time": "2018-09-29T17:49:48.537922Z",
     "start_time": "2018-09-29T17:49:39.774451Z"
    }
   },
   "outputs": [],
   "source": [
    "just_dled_hashes = get_hashes(download_path)"
   ]
  },
  {
   "cell_type": "code",
   "execution_count": 103,
   "metadata": {
    "ExecuteTime": {
     "end_time": "2018-09-29T17:50:57.855623Z",
     "start_time": "2018-09-29T17:50:57.835467Z"
    }
   },
   "outputs": [],
   "source": [
    "csv_folders = [os.path.join(ppath, fn) for fn in os.listdir(ppath)]\n",
    "csv_folders = [(os.stat(path), path) for path in csv_folders]\n",
    "csv_folders = [(stat[ST_CTIME], path)\n",
    "           for stat, path in csv_folders if S_ISDIR(stat[ST_MODE])]\n",
    "csv_folders = sorted(csv_folders)"
   ]
  },
  {
   "cell_type": "code",
   "execution_count": 111,
   "metadata": {
    "ExecuteTime": {
     "end_time": "2018-09-29T19:47:13.823098Z",
     "start_time": "2018-09-29T19:47:05.148597Z"
    }
   },
   "outputs": [
    {
     "name": "stdout",
     "output_type": "stream",
     "text": [
      "No files were added or deleted since previous downloading of csvs\n",
      "There are no changes to previous downloaded lending club csvs (loan_info and pmt_hist) via shasum256 hashes\n"
     ]
    }
   ],
   "source": [
    "check_file_changes()"
   ]
  },
  {
   "cell_type": "code",
   "execution_count": null,
   "metadata": {},
   "outputs": [],
   "source": []
  },
  {
   "cell_type": "code",
   "execution_count": 107,
   "metadata": {
    "ExecuteTime": {
     "end_time": "2018-09-29T19:23:00.922563Z",
     "start_time": "2018-09-29T19:22:52.141595Z"
    }
   },
   "outputs": [
    {
     "name": "stdout",
     "output_type": "stream",
     "text": [
      "No files were added or deleted since previous downloading of csvs\n",
      "There are no changes to previous downloaded lending club csvs (loan_info and pmt_hist) via shasum256 hashes\n"
     ]
    }
   ],
   "source": [
    "# try:\n",
    "#     previous_dled_hashes = get_hashes(csv_folders[-2][1])\n",
    "\n",
    "#     # compare new download to previous download\n",
    "#     dne_files = set(just_dled_hashes.keys()).intersection(set(previous_dled_hashes.keys()))\n",
    "#     add_files = set(previous_dled_hashes.keys()).intersection(set(just_dled_hashes.keys()))\n",
    "#     if len(just_dled_hashes) != len(previous_dled_hashes):\n",
    "#         print(\"Compared to the previous time new csv's were downloaded, the following files were deleted: \\n {0}\".format(dne_files))\n",
    "#         print(\"Compared to the previous time new csv's were downloaded, the following files are new additions: \\n {0}\".format(add_files))\n",
    "#     else:\n",
    "#         print('No files were added or deleted since previous downloading of csvs')\n",
    "        \n",
    "        \n",
    "#     changed_files = []\n",
    "#     for key in just_dled_hashes.keys():\n",
    "#         if previous_dled_hashes[key] != just_dled_hashes[key]:\n",
    "#             changed_files.append()\n",
    "#     if len(changed_files) == 0:\n",
    "#         print('There are no changes to previous downloaded lending club csvs (loan_info and pmt_hist) via shasum256 hashes')\n",
    "#     else:\n",
    "#         print('Compared to the previous data download, the shasum256 hashes changed for the following files: {0}'.format(changed_files))\n",
    "\n",
    "# except IndexError:\n",
    "#     print('Could not find previously download directory? This is probably your first time downloading the csvs or the first download to a new path.')"
   ]
  },
  {
   "cell_type": "code",
   "execution_count": 31,
   "metadata": {
    "ExecuteTime": {
     "end_time": "2018-09-29T13:34:52.366089Z",
     "start_time": "2018-09-29T13:34:52.347752Z"
    }
   },
   "outputs": [
    {
     "data": {
      "text/plain": [
       "{'All_Payments_2018_09.zip': b'6bd72d05817a53e890e99dba73dae4f32148842b56de32a08d494e9762bb9e7b',\n",
       " 'LoanStats3a_securev1.csv.zip': b'260de16b5b0719288a41f1a038345c305adb1ba58c0b8589c9b21c010d7918d6',\n",
       " 'LoanStats3b_securev1.csv.zip': b'80307b33d5f2802c616afba0e7702d04f92ec0a1cb74ff53df46cbb8f66ae235',\n",
       " 'LoanStats3c_securev1.csv.zip': b'f567058a32680313e12755238cfa87db526ea6446a9723f88e233c8482fb4a4a',\n",
       " 'LoanStats3d_securev1.csv.zip': b'0e932b1e6c17e457f99cee30afe3ca09bdb7dc065bafc8650219d183896a7d73',\n",
       " 'LoanStats_securev1_2016Q1.csv.zip': b'0897da22792bc0dba8836992f788d1f7f0e6f429c2ed89aca1ca87bd127a125b',\n",
       " 'LoanStats_securev1_2016Q2.csv.zip': b'6a431ccc1feae291e1ed136a2cfeff63e12525dde003cfa15923210b36075054',\n",
       " 'LoanStats_securev1_2016Q3.csv.zip': b'43ab15c2d7a138e94dae9cf13d9ebda762e9a156629efa9fa2c91948c2aecd29',\n",
       " 'LoanStats_securev1_2016Q4.csv.zip': b'08570d1ae99d84e6cad8386b479805c203f94510efb395af6c9f1b12df8d05ae',\n",
       " 'LoanStats_securev1_2017Q1.csv.zip': b'3a17e52e73067e4de78a74912361b196b19eda8ffea1393daec92f7e4524128f',\n",
       " 'LoanStats_securev1_2017Q2.csv.zip': b'a05b8937fda61b67ce65aab97041de9addec5be0707e48f850347949cd217d54',\n",
       " 'LoanStats_securev1_2017Q3.csv.zip': b'f1da1d32f0c37e44785afb139af63f6fad26b3ad0ab02a07c632fdf94ab0aee5',\n",
       " 'LoanStats_securev1_2017Q4.csv.zip': b'db8f6b4e84bca1a3587c4ab7651bcfe67b5e2a6af5594c22be6c8c355e5c5627',\n",
       " 'LoanStats_securev1_2018Q1.csv.zip': b'ed786fc9c2b0771064e5409c1e9bd740711654eaf5506f42b5fa27996d39cb86',\n",
       " 'LoanStats_securev1_2018Q2.csv.zip': b'75dc1a3be2a59880f7ecad9ea41f094cbe577b0ed5b904b33b292d4e8c152a73'}"
      ]
     },
     "execution_count": 31,
     "metadata": {},
     "output_type": "execute_result"
    }
   ],
   "source": [
    "previous_dled_hashes"
   ]
  },
  {
   "cell_type": "code",
   "execution_count": 28,
   "metadata": {
    "ExecuteTime": {
     "end_time": "2018-09-29T13:32:33.153066Z",
     "start_time": "2018-09-29T13:32:33.135409Z"
    }
   },
   "outputs": [],
   "source": [
    "files = os.listdir(previous_full_path)\n",
    "files = [file_ for file_ in files if not file_.startswith('.')]"
   ]
  },
  {
   "cell_type": "code",
   "execution_count": 30,
   "metadata": {
    "ExecuteTime": {
     "end_time": "2018-09-29T13:33:03.105737Z",
     "start_time": "2018-09-29T13:33:03.086667Z"
    }
   },
   "outputs": [
    {
     "data": {
      "text/plain": [
       "b'260de16b5b0719288a41f1a038345c305adb1ba58c0b8589c9b21c010d7918d6  /home/justin/all_data/lendingclub/csvs/csvs_2018_09_28_21h_21m_53s/LoanStats3a_securev1.csv.zip\\n'"
      ]
     },
     "execution_count": 30,
     "metadata": {},
     "output_type": "execute_result"
    }
   ],
   "source": [
    "a"
   ]
  },
  {
   "cell_type": "code",
   "execution_count": 29,
   "metadata": {
    "ExecuteTime": {
     "end_time": "2018-09-29T13:32:33.888291Z",
     "start_time": "2018-09-29T13:32:33.870070Z"
    }
   },
   "outputs": [
    {
     "data": {
      "text/plain": [
       "['LoanStats3d_securev1.csv.zip',\n",
       " 'All_Payments_2018_09.zip',\n",
       " 'LoanStats3c_securev1.csv.zip',\n",
       " 'LoanStats_securev1_2016Q2.csv.zip',\n",
       " 'LoanStats_securev1_2017Q3.csv.zip',\n",
       " 'LoanStats_securev1_2018Q1.csv.zip',\n",
       " 'LoanStats_securev1_2017Q4.csv.zip',\n",
       " 'LoanStats_securev1_2016Q1.csv.zip',\n",
       " 'LoanStats_securev1_2017Q2.csv.zip',\n",
       " 'LoanStats_securev1_2016Q3.csv.zip',\n",
       " 'LoanStats3b_securev1.csv.zip',\n",
       " 'LoanStats_securev1_2017Q1.csv.zip',\n",
       " 'LoanStats_securev1_2018Q2.csv.zip',\n",
       " 'LoanStats_securev1_2016Q4.csv.zip',\n",
       " 'LoanStats3a_securev1.csv.zip']"
      ]
     },
     "execution_count": 29,
     "metadata": {},
     "output_type": "execute_result"
    }
   ],
   "source": [
    "files"
   ]
  },
  {
   "cell_type": "code",
   "execution_count": null,
   "metadata": {},
   "outputs": [],
   "source": []
  },
  {
   "cell_type": "code",
   "execution_count": null,
   "metadata": {},
   "outputs": [],
   "source": [
    "just_dled_hashes = {}\n",
    "files = os.listdir(download_path)\n",
    "for file_ in files:\n",
    "    a = subprocess.check_output(\n",
    "        'shasum -a 256 {0}'.format(download_path + '/' + file_), shell=True)\n",
    "    just_dled_hashes[file_] = a.split()[0]\n",
    "\n",
    "dirs = [d for d in os.listdir(ppath) if os.path.isdir(os.path.join(ppath, d))]\n",
    "dirs.sort()"
   ]
  },
  {
   "cell_type": "code",
   "execution_count": null,
   "metadata": {},
   "outputs": [],
   "source": [
    "# navigate to the application home page\n",
    "driver.get()\n",
    "\n",
    "sign_in = driver.find_element_by_link_text('Sign in')\n",
    "sign_in.click()\n",
    "\n",
    "email_box = driver.find_element_by_name('email')\n",
    "password_box = driver.find_element_by_name('password')\n",
    "\n",
    "time.sleep(5)\n",
    "email_box.send_keys(email)\n",
    "# time.sleep(5)\n",
    "password_box.send_keys(password)\n",
    "\n",
    "button = driver.find_element_by_class_name('form-button')\n",
    "button.click()"
   ]
  },
  {
   "cell_type": "code",
   "execution_count": null,
   "metadata": {},
   "outputs": [],
   "source": [
    "import time\n",
    "import subprocess\n",
    "import lendingclub.account_info as acc_info\n",
    "import dir_constants as dc\n",
    "from os import mkdir\n",
    "from selenium import webdriver\n",
    "# from selenium.webdriver import PhantomJS\n",
    "from selenium.webdriver.support.ui import Select, WebDriverWait\n",
    "from selenium.webdriver.common.keys import Keys\n",
    "from selenium.webdriver.chrome.options import Options\n",
    "\n",
    "platform = 'lendingclub'\n",
    "chrome_options = webdriver.ChromeOptions()\n",
    "home = dc.home_path\n",
    "ppath = home + '/justin_tinkering/data_science/lendingclub/lendingclub_csvs'.format(platform)\n",
    "now = time.strftime(\"%Y_%m_%d_%Hh_%Mm_%Ss\")\n",
    "full_path = ppath + '/' + 'lc_' + now\n",
    "os.mkdir(full_path)\n",
    "email = acc_info.email_throwaway\n",
    "password = acc_info.password_throwaway\n",
    "\n",
    "prefs = {'download.default_directory': '{0}'.format(full_path)}\n",
    "chrome_options.add_experimental_option('prefs', prefs)\n",
    "# driver_loc = \"/home/justin/justin_tinkering/chromedriver\"\n",
    "\n",
    "# create a new Firefox session\n",
    "driver = webdriver.PhantomJS() #executable_path=driver_loc\n",
    "driver.implicitly_wait(30)\n",
    "driver.maximize_window()\n",
    "\n",
    "# navigate to the application home page\n",
    "driver.get(\"https://www.lendingclub.com/info/download-data.action\")\n",
    "\n",
    "sign_in = driver.find_element_by_link_text('Sign in')\n",
    "sign_in.click()\n",
    "\n",
    "email_box = driver.find_element_by_name('email')\n",
    "password_box = driver.find_element_by_name('password')\n",
    "\n",
    "time.sleep(5)\n",
    "email_box.send_keys(email)\n",
    "# time.sleep(5)\n",
    "password_box.send_keys(password)\n",
    "\n",
    "button = driver.find_element_by_class_name('form-button')\n",
    "button.click()\n",
    "\n",
    "time.sleep(10)\n",
    "\n",
    "statistics = driver.find_element_by_link_text('Statistics')\n",
    "statistics.click()\n",
    "\n",
    "download_data = driver.find_element_by_link_text('Download Data')\n",
    "download_data.click()\n",
    "\n",
    "select = driver.find_element_by_id(\n",
    "    'loanStatsDropdown')  #get the select element\n",
    "options = select.find_elements_by_tag_name(\n",
    "    \"option\")  #get all the options into a list\n",
    "\n",
    "optionsList = []\n",
    "\n",
    "for option in options:  #iterate over the options, place attribute value in list\n",
    "    optionsList.append(option.get_attribute(\"value\"))\n",
    "\n",
    "for optionValue in optionsList:\n",
    "    print(\"starting loop on option %s\" % optionValue)\n",
    "\n",
    "    select = Select(driver.find_element_by_id('loanStatsDropdown'))\n",
    "    select.select_by_value(optionValue)\n",
    "    download_btn = driver.find_element_by_id('currentLoanStatsFileName')\n",
    "    download_btn.click()\n",
    "    time.sleep(2)\n",
    "\n",
    "driver.get('https://www.lendingclub.com/site/additional-statistics')\n",
    "pmt_history = driver.find_element_by_link_text(\n",
    "    'All payments (includes payments made to investors and to LendingClub)')\n",
    "pmt_history.click()\n",
    "time.sleep(2)\n",
    "\n",
    "while True:\n",
    "    if len(os.listdir(full_path)) != (\n",
    "            len(optionsList) + 1):  #+1 for one pmt history file\n",
    "        time.sleep(5)\n",
    "    else:\n",
    "        files = os.listdir(full_path)\n",
    "        k = 0\n",
    "        time.sleep(5)\n",
    "        for filename in files:\n",
    "            if 'crdownload' in filename:\n",
    "                print('waiting on downloads to finish.')\n",
    "                time.sleep(60)\n",
    "            else:\n",
    "                k += 1\n",
    "#                 print(k)\n",
    "        if k == len(files):\n",
    "            time.sleep(2)\n",
    "            break\n",
    "\n",
    "print('done downloading')\n",
    "\n",
    "driver.close()\n",
    "\n",
    "just_dled_hashes = {}\n",
    "files = os.listdir(full_path)\n",
    "for file_ in files:\n",
    "    a = subprocess.check_output(\n",
    "        'shasum -a 256 {0}'.format(full_path + '/' + file_), shell=True)\n",
    "    just_dled_hashes[file_] = a.split()[0]\n",
    "\n",
    "dirs = [d for d in os.listdir(ppath) if os.path.isdir(os.path.join(ppath, d))]\n",
    "dirs.sort()\n",
    "\n",
    "try:\n",
    "    previous_dled = dirs[-2]\n",
    "\n",
    "    previous_dled_hashes = {}\n",
    "    previous_full_path = ppath + '/' + previous_dled + '/'\n",
    "    files = os.listdir(previous_full_path)\n",
    "    files = [file_ for file_ in files if not file_.startswith('.')]\n",
    "    for file_ in files:\n",
    "        a = subprocess.check_output(\n",
    "            'shasum -a 256 {0}'.format(previous_full_path + file_), shell=True)\n",
    "        previous_dled_hashes[file_] = a.split()[0]\n",
    "\n",
    "    k = 0\n",
    "    if len(just_dled_hashes) != len(previous_dled_hashes):\n",
    "        k += 1\n",
    "    else:\n",
    "        for key in just_dled_hashes.keys():\n",
    "            if previous_dled_hashes[key] != just_dled_hashes[key]:\n",
    "                k += 1\n",
    "\n",
    "    if k == 0:\n",
    "        print('no change to previous downloaded lending club loan info csvs')\n",
    "    else:\n",
    "        print(\n",
    "            'At least one of the files changed. Probably need to unzip csvs and re-run cleaning scripts.'\n",
    "        )\n",
    "\n",
    "except IndexError:\n",
    "    print('this is probably your first time downloading the csvs.')"
   ]
  },
  {
   "cell_type": "code",
   "execution_count": null,
   "metadata": {},
   "outputs": [],
   "source": [
    "Justinjust_dled_hashes"
   ]
  },
  {
   "cell_type": "code",
   "execution_count": null,
   "metadata": {},
   "outputs": [],
   "source": [
    "previous_dled_hashes"
   ]
  },
  {
   "cell_type": "markdown",
   "metadata": {},
   "source": [
    "# Below was for storing in s3 bucket"
   ]
  },
  {
   "cell_type": "code",
   "execution_count": null,
   "metadata": {},
   "outputs": [],
   "source": [
    "aws_access_key_id = \n",
    "aws_secret_access_key = "
   ]
  },
  {
   "cell_type": "code",
   "execution_count": null,
   "metadata": {},
   "outputs": [],
   "source": [
    "import boto3\n",
    "\n",
    "s3 = boto3.resource('s3')"
   ]
  },
  {
   "cell_type": "code",
   "execution_count": null,
   "metadata": {},
   "outputs": [],
   "source": [
    "dirs = [d for d in os.listdir(ppath) if os.path.isdir(os.path.join(ppath,d))]\n",
    "dirs.sort()\n",
    "most_recent_dls = dirs[-1]"
   ]
  },
  {
   "cell_type": "code",
   "execution_count": null,
   "metadata": {},
   "outputs": [],
   "source": [
    "files_to_store = os.listdir(ppath+'/'+most_recent_dls)"
   ]
  },
  {
   "cell_type": "code",
   "execution_count": null,
   "metadata": {},
   "outputs": [],
   "source": [
    "ppath+'/'+most_recent_dls"
   ]
  },
  {
   "cell_type": "code",
   "execution_count": null,
   "metadata": {},
   "outputs": [],
   "source": [
    "bucket_name = ''\n",
    "for file_ in tqdm_notebook(files_to_store):\n",
    "    data = open('{0}'.format(ppath+'/'+most_recent_dls+'/'+file_), 'rb')\n",
    "    s3.Bucket(bucket_name).put_object(Key='{0}/{1}'.format(most_recent_dls, file_), Body=data)"
   ]
  },
  {
   "cell_type": "code",
   "execution_count": null,
   "metadata": {},
   "outputs": [],
   "source": []
  }
 ],
 "metadata": {
  "kernelspec": {
   "display_name": "Python 3",
   "language": "python",
   "name": "python3"
  },
  "language_info": {
   "codemirror_mode": {
    "name": "ipython",
    "version": 3
   },
   "file_extension": ".py",
   "mimetype": "text/x-python",
   "name": "python",
   "nbconvert_exporter": "python",
   "pygments_lexer": "ipython3",
   "version": "3.6.3"
  },
  "notify_time": "30",
  "varInspector": {
   "cols": {
    "lenName": 16,
    "lenType": 16,
    "lenVar": 40
   },
   "kernels_config": {
    "python": {
     "delete_cmd_postfix": "",
     "delete_cmd_prefix": "del ",
     "library": "var_list.py",
     "varRefreshCmd": "print(var_dic_list())"
    },
    "r": {
     "delete_cmd_postfix": ") ",
     "delete_cmd_prefix": "rm(",
     "library": "var_list.r",
     "varRefreshCmd": "cat(var_dic_list()) "
    }
   },
   "types_to_exclude": [
    "module",
    "function",
    "builtin_function_or_method",
    "instance",
    "_Feature"
   ],
   "window_display": false
  }
 },
 "nbformat": 4,
 "nbformat_minor": 2
}
