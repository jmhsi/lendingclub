{
 "cells": [
  {
   "cell_type": "markdown",
   "metadata": {},
   "source": [
    "# Author: Justin Hsi"
   ]
  },
  {
   "cell_type": "code",
   "execution_count": 1,
   "metadata": {
    "ExecuteTime": {
     "end_time": "2018-03-04T01:19:08.656652Z",
     "start_time": "2018-03-04T01:16:41.912439Z"
    }
   },
   "outputs": [
    {
     "name": "stdout",
     "output_type": "stream",
     "text": [
      "['LoanStats3c_securev1.csv', 'LoanStats_securev1_2016Q2.csv', 'LoanStats3b_securev1.csv', 'LoanStats_securev1_2016Q4.csv', 'LoanStats_securev1_2017Q3.csv', 'LoanStats_securev1_2017Q1.csv', 'LoanStats_securev1_2016Q3.csv', 'LoanStats_securev1_2017Q2.csv', 'LoanStats_securev1_2016Q1.csv', 'LoanStats3a_securev1.csv', 'LoanStats3d_securev1.csv']\n"
     ]
    }
   ],
   "source": [
    "import time\n",
    "import dir_constants as dc\n",
    "from pandas.api.types import CategoricalDtype\n",
    "\n",
    "# Set some constants __________________________________________________________\n",
    "now = time.strftime(\"%Y_%m_%d_%Hh_%Mm_%Ss\")\n",
    "platform = 'lendingclub'\n",
    "\n",
    "# Set data_path _______________________________________________________________\n",
    "data_path = dc.home_path + '/rsync_dl_rig/unzipped_lc_csvs'\n",
    "\n",
    "# Get the loan_info csvs to iterate over ______________________________________\n",
    "files = os.listdir(data_path)\n",
    "loan_info_files = [\n",
    "    file_ for file_ in files\n",
    "    if not (file_.startswith('.') | file_.startswith('lc_') |\n",
    "            file_.startswith('PMTHIST') | file_.startswith('LCData'))\n",
    "]\n",
    "print(loan_info_files)\n",
    "\n",
    "to_concat = []\n",
    "for file_ in loan_info_files:\n",
    "    to_concat.append(\n",
    "        pd.read_csv(\n",
    "            data_path + '/' + file_, header=1, engine='python', skipfooter=2))\n",
    "\n",
    "loan_info = pd.concat(to_concat)\n",
    "\n",
    "# Block to ensure that rows that aren't actually loans are dropped ____________\n",
    "# All loans must have int/term/funded \n",
    "loan_info = loan_info[loan_info['term'].notnull()]\n",
    "loan_info['int_rate'] = loan_info['int_rate'].str.strip('%').astype(float)\n",
    "loan_info['term'] = loan_info['term'].str[:3].astype(int)\n",
    "loan_info = loan_info[(loan_info['int_rate'] > 0) & (loan_info['term'] > 0) &\n",
    "                      (loan_info['funded_amnt'] > 0)]\n",
    "\n",
    "\n",
    "# # Reset index and set id to int \n",
    "loan_info.reset_index(drop=True, inplace=True)\n",
    "loan_info['id'] = loan_info['id'].astype(int)\n",
    "# loan_info.set_index('id', drop=False, inplace=True)\n",
    "\n",
    "# Save in HDFStore ____________________________________________________________\n",
    "# store = pd.HDFStore(\n",
    "#     dc.home_path + '/justin_tinkering/data_science/lendingclub/{0}_store.h5'.\n",
    "#     format(platform),\n",
    "#     append=True)\n",
    "# store['loan_info_merged'] = loan_info\n",
    "# print(\"{:,}\".format(len(loan_info)) + \" loans saved \" +\n",
    "#       'for {0}'.format(platform))\n",
    "# print(store.keys())\n",
    "# store.close()"
   ]
  },
  {
   "cell_type": "code",
   "execution_count": 2,
   "metadata": {
    "ExecuteTime": {
     "end_time": "2018-03-04T01:19:13.228197Z",
     "start_time": "2018-03-04T01:19:08.662246Z"
    }
   },
   "outputs": [
    {
     "name": "stdout",
     "output_type": "stream",
     "text": [
      "<class 'pandas.core.frame.DataFrame'>\n",
      "RangeIndex: 1646778 entries, 0 to 1646777\n",
      "Columns: 153 entries, acc_now_delinq to zip_code\n",
      "dtypes: float64(114), int64(2), object(37)\n",
      "memory usage: 4.5 GB\n"
     ]
    }
   ],
   "source": [
    "loan_info.info(memory_usage='deep')"
   ]
  },
  {
   "cell_type": "code",
   "execution_count": 3,
   "metadata": {
    "ExecuteTime": {
     "end_time": "2018-03-04T01:19:13.514221Z",
     "start_time": "2018-03-04T01:19:13.230128Z"
    }
   },
   "outputs": [
    {
     "data": {
      "text/plain": [
       "Series([], Name: id, dtype: int64)"
      ]
     },
     "execution_count": 3,
     "metadata": {},
     "output_type": "execute_result"
    }
   ],
   "source": [
    "loan_info[loan_info.duplicated('id')]['id']"
   ]
  },
  {
   "cell_type": "markdown",
   "metadata": {
    "ExecuteTime": {
     "end_time": "2018-02-22T01:35:55.764253Z",
     "start_time": "2018-02-22T01:35:43.262441Z"
    }
   },
   "source": [
    "# A bit of cleaning and data changing so i can store nicely"
   ]
  },
  {
   "cell_type": "code",
   "execution_count": 4,
   "metadata": {
    "ExecuteTime": {
     "end_time": "2018-03-04T01:19:23.941627Z",
     "start_time": "2018-03-04T01:19:19.830271Z"
    },
    "scrolled": true
   },
   "outputs": [],
   "source": [
    "# some manipulation to fix stupid column types\n",
    "loan_info['revol_util'] = loan_info['revol_util'].str[:-1].astype(float)/100\n",
    "\n",
    "# drop columsn that take too much space to store\n",
    "loan_info.drop(['desc', 'emp_title', 'title', 'url',], axis=1, inplace=True)"
   ]
  },
  {
   "cell_type": "code",
   "execution_count": 5,
   "metadata": {
    "ExecuteTime": {
     "end_time": "2018-03-04T01:19:31.258437Z",
     "start_time": "2018-03-04T01:19:23.943311Z"
    }
   },
   "outputs": [],
   "source": [
    "obj_cols = loan_info.select_dtypes(include=['object']).describe()"
   ]
  },
  {
   "cell_type": "code",
   "execution_count": 6,
   "metadata": {
    "ExecuteTime": {
     "end_time": "2018-03-04T01:19:32.455349Z",
     "start_time": "2018-03-04T01:19:31.260512Z"
    }
   },
   "outputs": [],
   "source": [
    "# set up category dtype where possible, keep track of cols with nans/stupid\n",
    "# cols: Inquiries6m has strings, nans, and ints. Dumb.\n",
    "date_cols = ['debt_settlement_flag_date', 'earliest_cr_line', 'hardship_end_date',\n",
    "             'hardship_start_date', 'issue_d', 'last_credit_pull_d', 'last_pymnt_d',\n",
    "             'next_pymnt_d', 'payment_plan_start_date', 'sec_app_earliest_cr_line', \n",
    "             'settlement_date',]\n",
    "stupid_cols = []\n",
    "dtype = {}\n",
    "for col in obj_cols.columns:\n",
    "    if col not in date_cols:\n",
    "#         try:\n",
    "#         print(col)\n",
    "        vals = loan_info[col].unique()\n",
    "#         vals.sort()\n",
    "#         print(vals)\n",
    "        dtype[col] = CategoricalDtype([val for val in vals if not pd.isnull(val)])\n",
    "#         except:\n",
    "#             stupid_cols.append(col)\n",
    "#             print(col)\n",
    "#             print(loan_info[col].unique())"
   ]
  },
  {
   "cell_type": "code",
   "execution_count": 7,
   "metadata": {
    "ExecuteTime": {
     "end_time": "2018-03-04T01:19:32.477447Z",
     "start_time": "2018-03-04T01:19:32.458365Z"
    }
   },
   "outputs": [],
   "source": [
    "for col in loan_info.columns:\n",
    "    if col not in dtype.keys():\n",
    "        if col not in date_cols and col != 'id' and col not in stupid_cols:\n",
    "            dtype[col] = np.float32"
   ]
  },
  {
   "cell_type": "code",
   "execution_count": 8,
   "metadata": {
    "ExecuteTime": {
     "end_time": "2018-03-04T01:19:35.186442Z",
     "start_time": "2018-03-04T01:19:32.479604Z"
    }
   },
   "outputs": [],
   "source": [
    "loan_info = loan_info.astype(dtype)"
   ]
  },
  {
   "cell_type": "code",
   "execution_count": 9,
   "metadata": {
    "ExecuteTime": {
     "end_time": "2018-03-04T01:19:35.420266Z",
     "start_time": "2018-03-04T01:19:35.188559Z"
    }
   },
   "outputs": [
    {
     "data": {
      "text/plain": [
       "Series([], Name: id, dtype: int64)"
      ]
     },
     "execution_count": 9,
     "metadata": {},
     "output_type": "execute_result"
    }
   ],
   "source": [
    "loan_info[loan_info.duplicated('id')]['id']"
   ]
  },
  {
   "cell_type": "code",
   "execution_count": 15,
   "metadata": {
    "ExecuteTime": {
     "end_time": "2018-03-04T01:21:13.020190Z",
     "start_time": "2018-03-04T01:21:01.425024Z"
    }
   },
   "outputs": [],
   "source": [
    "store_path = f'{datapath}lendingclub/lendingclub.h5'\n",
    "loan_info.to_hdf(store_path, 'loan_info_merged', format='table')"
   ]
  },
  {
   "cell_type": "code",
   "execution_count": null,
   "metadata": {},
   "outputs": [],
   "source": [
    "# # trying out feather data format\n",
    "# PATH = '/home/justin/justin_tinkering/data_science/lendingclub/data/'\n",
    "# loan_info.reset_index()\n",
    "# loan_info.to_feather(f'{PATH}loan_info')"
   ]
  },
  {
   "cell_type": "code",
   "execution_count": 3,
   "metadata": {
    "ExecuteTime": {
     "end_time": "2018-02-21T21:22:18.036111Z",
     "start_time": "2018-02-21T21:22:18.023206Z"
    }
   },
   "outputs": [],
   "source": [
    "# os.mkdir('/home/justin/justin_tinkering/data_science/lendingclub/data')"
   ]
  },
  {
   "cell_type": "code",
   "execution_count": null,
   "metadata": {},
   "outputs": [],
   "source": []
  }
 ],
 "metadata": {
  "anaconda-cloud": {},
  "kernelspec": {
   "display_name": "Python 3",
   "language": "python",
   "name": "python3"
  },
  "language_info": {
   "codemirror_mode": {
    "name": "ipython",
    "version": 3
   },
   "file_extension": ".py",
   "mimetype": "text/x-python",
   "name": "python",
   "nbconvert_exporter": "python",
   "pygments_lexer": "ipython3",
   "version": "3.6.3"
  },
  "notify_time": "5",
  "varInspector": {
   "cols": {
    "lenName": 16,
    "lenType": 16,
    "lenVar": 40
   },
   "kernels_config": {
    "python": {
     "delete_cmd_postfix": "",
     "delete_cmd_prefix": "del ",
     "library": "var_list.py",
     "varRefreshCmd": "print(var_dic_list())"
    },
    "r": {
     "delete_cmd_postfix": ") ",
     "delete_cmd_prefix": "rm(",
     "library": "var_list.r",
     "varRefreshCmd": "cat(var_dic_list()) "
    }
   },
   "types_to_exclude": [
    "module",
    "function",
    "builtin_function_or_method",
    "instance",
    "_Feature"
   ],
   "window_display": false
  }
 },
 "nbformat": 4,
 "nbformat_minor": 1
}
