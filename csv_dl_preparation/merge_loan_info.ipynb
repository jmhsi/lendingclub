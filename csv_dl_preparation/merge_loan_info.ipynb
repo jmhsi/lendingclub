{
 "cells": [
  {
   "cell_type": "markdown",
   "metadata": {},
   "source": [
    "# Author: Justin Hsi"
   ]
  },
  {
   "cell_type": "code",
   "execution_count": null,
   "metadata": {},
   "outputs": [],
   "source": [
    "import time\n",
    "import dir_constants as dc\n",
    "\n",
    "# Set some constants __________________________________________________________\n",
    "now = time.strftime(\"%Y_%m_%d_%Hh_%Mm_%Ss\")\n",
    "platform = 'lendingclub'\n",
    "\n",
    "# Set data_path _______________________________________________________________\n",
    "data_path = dc.home_path + '/rsync_dl_rig/unzipped_lc_csvs'\n",
    "\n",
    "# Get the loan_info csvs to iterate over ______________________________________\n",
    "files = os.listdir(data_path)\n",
    "loan_info_files = [\n",
    "    file_ for file_ in files\n",
    "    if not (file_.startswith('.') | file_.startswith('lc_') |\n",
    "            file_.startswith('PMTHIST') | file_.startswith('LCData'))\n",
    "]\n",
    "\n",
    "to_concat = []\n",
    "for file_ in loan_info_files:\n",
    "    to_concat.append(\n",
    "        pd.read_csv(\n",
    "            data_path + '/' + file_, header=1, engine='python', skipfooter=2))\n",
    "\n",
    "loan_info = pd.concat(to_concat)\n",
    "\n",
    "# Block to ensure that rows that aren't actually loans are dropped ____________\n",
    "# All loans must have int/term/funded \n",
    "loan_info = loan_info[loan_info['term'].notnull()]\n",
    "loan_info['int_rate'] = loan_info['int_rate'].str.strip('%').astype(float)\n",
    "loan_info['term'] = loan_info['term'].str[:3].astype(int)\n",
    "loan_info = loan_info[(loan_info['int_rate'] > 0) & (loan_info['term'] > 0) &\n",
    "                      (loan_info['funded_amnt'] > 0)]\n",
    "\n",
    "\n",
    "# Reset index and set id to string, also set index to id ______________________\n",
    "loan_info.reset_index(drop=True, inplace=True)\n",
    "loan_info['id'] = loan_info['id'].astype(str)\n",
    "loan_info.set_index('id', drop=False, inplace=True)\n",
    "\n",
    "# Save in HDFStore ____________________________________________________________\n",
    "# store = pd.HDFStore(\n",
    "#     dc.home_path + '/justin_tinkering/data_science/lendingclub/{0}_store.h5'.\n",
    "#     format(platform),\n",
    "#     append=True)\n",
    "# store['loan_info_merged'] = loan_info\n",
    "# print(\"{:,}\".format(len(loan_info)) + \" loans saved \" +\n",
    "#       'for {0}'.format(platform))\n",
    "# print(store.keys())\n",
    "# store.close()"
   ]
  },
  {
   "cell_type": "code",
   "execution_count": null,
   "metadata": {},
   "outputs": [],
   "source": [
    "loan_info.reset_index?"
   ]
  },
  {
   "cell_type": "code",
   "execution_count": null,
   "metadata": {},
   "outputs": [],
   "source": [
    "# trying out feather data format\n",
    "PATH = '/home/justin/justin_tinkering/data_science/lendingclub/data/'\n",
    "loan_info.reset_index()\n",
    "loan_info.to_feather(f'{PATH}loan_info')"
   ]
  },
  {
   "cell_type": "code",
   "execution_count": null,
   "metadata": {},
   "outputs": [],
   "source": [
    "os.mkdir('/home/justin/justin_tinkering/data_science/lendingclub/data')"
   ]
  },
  {
   "cell_type": "code",
   "execution_count": null,
   "metadata": {},
   "outputs": [],
   "source": []
  }
 ],
 "metadata": {
  "anaconda-cloud": {},
  "kernelspec": {
   "display_name": "Python 3",
   "language": "python",
   "name": "python3"
  },
  "language_info": {
   "codemirror_mode": {
    "name": "ipython",
    "version": 3
   },
   "file_extension": ".py",
   "mimetype": "text/x-python",
   "name": "python",
   "nbconvert_exporter": "python",
   "pygments_lexer": "ipython3",
   "version": "3.6.3"
  },
  "notify_time": "5",
  "varInspector": {
   "cols": {
    "lenName": 16,
    "lenType": 16,
    "lenVar": 40
   },
   "kernels_config": {
    "python": {
     "delete_cmd_postfix": "",
     "delete_cmd_prefix": "del ",
     "library": "var_list.py",
     "varRefreshCmd": "print(var_dic_list())"
    },
    "r": {
     "delete_cmd_postfix": ") ",
     "delete_cmd_prefix": "rm(",
     "library": "var_list.r",
     "varRefreshCmd": "cat(var_dic_list()) "
    }
   },
   "types_to_exclude": [
    "module",
    "function",
    "builtin_function_or_method",
    "instance",
    "_Feature"
   ],
   "window_display": false
  }
 },
 "nbformat": 4,
 "nbformat_minor": 1
}
