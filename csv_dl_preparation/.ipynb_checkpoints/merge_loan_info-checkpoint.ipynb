{
 "cells": [
  {
   "cell_type": "markdown",
   "metadata": {},
   "source": [
    "# Author: Justin Hsi"
   ]
  },
  {
   "cell_type": "code",
   "execution_count": 1,
   "metadata": {
    "ExecuteTime": {
     "end_time": "2017-10-31T06:57:36.357799Z",
     "start_time": "2017-10-31T06:55:46.384044Z"
    }
   },
   "outputs": [
    {
     "name": "stderr",
     "output_type": "stream",
     "text": [
      "/home/justin/anaconda3/lib/python3.6/site-packages/IPython/core/interactiveshell.py:2862: PerformanceWarning: \n",
      "your performance may suffer as PyTables will pickle object types that it cannot\n",
      "map directly to c-types [inferred_type->mixed,key->block2_values] [items->['id', 'grade', 'sub_grade', 'emp_title', 'emp_length', 'home_ownership', 'verification_status', 'issue_d', 'loan_status', 'pymnt_plan', 'url', 'desc', 'purpose', 'title', 'zip_code', 'addr_state', 'earliest_cr_line', 'revol_util', 'initial_list_status', 'last_pymnt_d', 'next_pymnt_d', 'last_credit_pull_d', 'application_type', 'verification_status_joint', 'sec_app_earliest_cr_line', 'hardship_flag', 'hardship_type', 'hardship_reason', 'hardship_status', 'hardship_start_date', 'hardship_end_date', 'payment_plan_start_date', 'hardship_loan_status']]\n",
      "\n",
      "  exec(code_obj, self.user_global_ns, self.user_ns)\n"
     ]
    },
    {
     "name": "stdout",
     "output_type": "stream",
     "text": [
      "1,524,077 loans saved for lendingclub\n",
      "['/base_dataset', '/base_dataset_all_columns', '/base_dataset_filtered_columns', '/loan_info_clean', '/loan_info_merged', '/loan_npv_rois', '/model_info', '/percentiles_for_0.2.1', '/pmt_hist_clean', '/pmt_hist_ids', '/pmt_hist_intermediary_1', '/pmt_hist_intermediary_2', '/results', '/test_all_columns', '/test_filtered_columns', '/train_all_columns', '/train_filtered_columns', '/validate_all_columns', '/validate_filtered_columns']\n"
     ]
    }
   ],
   "source": [
    "import time\n",
    "import dir_constants as dc\n",
    "\n",
    "# Set some constants __________________________________________________________\n",
    "now = time.strftime(\"%Y_%m_%d_%Hh_%Mm_%Ss\")\n",
    "platform = 'lendingclub'\n",
    "\n",
    "# Set data_path _______________________________________________________________\n",
    "data_path = dc.home_path + '/rsync_dl_rig/unzipped_lc_csvs'\n",
    "\n",
    "# Get the loan_info csvs to iterate over ______________________________________\n",
    "files = os.listdir(data_path)\n",
    "loan_info_files = [\n",
    "    file_ for file_ in files\n",
    "    if not (file_.startswith('.') | file_.startswith('lc_') |\n",
    "            file_.startswith('PMTHIST') | file_.startswith('LCData'))\n",
    "]\n",
    "\n",
    "to_concat = []\n",
    "for file_ in loan_info_files:\n",
    "    to_concat.append(\n",
    "        pd.read_csv(\n",
    "            data_path + '/' + file_, header=1, engine='python', skipfooter=2))\n",
    "\n",
    "loan_info = pd.concat(to_concat)\n",
    "\n",
    "# Block to ensure that rows that aren't actually loans are dropped ____________\n",
    "# All loans must have int/term/funded \n",
    "loan_info = loan_info[loan_info['term'].notnull()]\n",
    "loan_info['int_rate'] = loan_info['int_rate'].str.strip('%').astype(float)\n",
    "loan_info['term'] = loan_info['term'].str[:3].astype(int)\n",
    "loan_info = loan_info[(loan_info['int_rate'] > 0) & (loan_info['term'] > 0) &\n",
    "                      (loan_info['funded_amnt'] > 0)]\n",
    "\n",
    "\n",
    "# Reset index and set id to string, also set index to id ______________________\n",
    "loan_info.reset_index(drop=True, inplace=True)\n",
    "loan_info['id'] = loan_info['id'].astype(str)\n",
    "loan_info.set_index('id', drop=False, inplace=True)\n",
    "\n",
    "# Save in HDFStore ____________________________________________________________\n",
    "store = pd.HDFStore(\n",
    "    dc.home_path + '/justin_tinkering/data_science/lendingclub/{0}_store.h5'.\n",
    "    format(platform),\n",
    "    append=True)\n",
    "store['loan_info_merged'] = loan_info\n",
    "print(\"{:,}\".format(len(loan_info)) + \" loans saved \" +\n",
    "      'for {0}'.format(platform))\n",
    "print(store.keys())\n",
    "store.close()"
   ]
  },
  {
   "cell_type": "code",
   "execution_count": null,
   "metadata": {
    "collapsed": true
   },
   "outputs": [],
   "source": []
  }
 ],
 "metadata": {
  "anaconda-cloud": {},
  "kernelspec": {
   "display_name": "Python 3",
   "language": "python",
   "name": "python3"
  },
  "notify_time": "5",
  "varInspector": {
   "cols": {
    "lenName": 16,
    "lenType": 16,
    "lenVar": 40
   },
   "kernels_config": {
    "python": {
     "delete_cmd_postfix": "",
     "delete_cmd_prefix": "del ",
     "library": "var_list.py",
     "varRefreshCmd": "print(var_dic_list())"
    },
    "r": {
     "delete_cmd_postfix": ") ",
     "delete_cmd_prefix": "rm(",
     "library": "var_list.r",
     "varRefreshCmd": "cat(var_dic_list()) "
    }
   },
   "types_to_exclude": [
    "module",
    "function",
    "builtin_function_or_method",
    "instance",
    "_Feature"
   ],
   "window_display": false
  }
 },
 "nbformat": 4,
 "nbformat_minor": 1
}
