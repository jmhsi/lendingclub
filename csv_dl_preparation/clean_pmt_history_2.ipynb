{
 "cells": [
  {
   "cell_type": "markdown",
   "metadata": {},
   "source": [
    "# Author: Justin Hsi\n",
    "## Part 2 of cleaning lending club payment history"
   ]
  },
  {
   "cell_type": "code",
   "execution_count": 1,
   "metadata": {
    "ExecuteTime": {
     "end_time": "2018-08-24T20:35:04.993500Z",
     "start_time": "2018-08-24T20:35:04.974395Z"
    }
   },
   "outputs": [],
   "source": [
    "import dir_constants as dc\n",
    "from tqdm import tqdm_notebook\n",
    "\n",
    "project = 'lendingclub'"
   ]
  },
  {
   "cell_type": "code",
   "execution_count": 2,
   "metadata": {
    "ExecuteTime": {
     "end_time": "2018-08-24T20:35:05.244000Z",
     "start_time": "2018-08-24T20:35:05.204879Z"
    }
   },
   "outputs": [],
   "source": [
    "def find_dupe_dates(group):\n",
    "    return pd.to_datetime(group[group.duplicated('date')]['date'].values)\n",
    "\n",
    "def merge_dupe_dates(group):\n",
    "    df_chunks = []\n",
    "    \n",
    "    dupe_dates = find_dupe_dates(group)\n",
    "    df_chunks.append(group[~group['date'].isin(dupe_dates)])\n",
    "    \n",
    "    for date in dupe_dates:\n",
    "        problem_rows = group[group['date'] == date]\n",
    "        ori_index = problem_rows.index\n",
    "        keep_row = problem_rows.iloc[-1].to_dict()\n",
    "        keep_row['outs_princp_beg'] = problem_rows.ix[ori_index[0],column_iloc_map['outs_princp_beg']]\n",
    "        \n",
    "        summed = problem_rows.sum()\n",
    "        keep_row['princp_paid'] = summed['princp_paid']\n",
    "        keep_row['int_paid'] = summed['int_paid']\n",
    "        keep_row['fee_paid'] = summed['fee_paid']\n",
    "        keep_row['amt_due'] = summed['amt_due']\n",
    "        keep_row['amt_paid'] = summed['amt_paid']\n",
    "        keep_row['charged_off_amt'] = summed['charged_off_amt']\n",
    "        keep_row['recovs'] = summed['recovs']\n",
    "        keep_row['recov_fees'] = summed['recov_fees']\n",
    "            \n",
    "        df_chunks.append(pd.DataFrame(pd.Series(keep_row),columns=[ori_index[-1]]).T)\n",
    "            \n",
    "    return pd.concat(df_chunks)"
   ]
  },
  {
   "cell_type": "code",
   "execution_count": 13,
   "metadata": {
    "ExecuteTime": {
     "end_time": "2018-08-24T20:41:56.843520Z",
     "start_time": "2018-08-24T20:41:56.712561Z"
    }
   },
   "outputs": [
    {
     "name": "stdout",
     "output_type": "stream",
     "text": [
      "dl_df_train.fth\t\t       oldstuff\t\t    X_train.pkl\r\n",
      "dl_ys_train.fth\t\t       pmt_hist_c1.fth\t    X_valid.pkl\r\n",
      "for_proc_df_model_loading.pkl  RF\t\t    y_all_train.pkl\r\n",
      "lendingclub.h5\t\t       to_keep_fi_cols.pkl  y_test.pkl\r\n",
      "loan_info.fth\t\t       X_all_train.pkl\t    y_train.pkl\r\n",
      "NN\t\t\t       X_test.pkl\t    y_valid.pkl\r\n"
     ]
    }
   ],
   "source": [
    "!ls {dc.data_path+project}"
   ]
  },
  {
   "cell_type": "code",
   "execution_count": 15,
   "metadata": {
    "ExecuteTime": {
     "end_time": "2018-08-24T20:43:00.361582Z",
     "start_time": "2018-08-24T20:42:49.421940Z"
    }
   },
   "outputs": [],
   "source": [
    "# store =  pd.HDFStore(\n",
    "#     dc.home_path+'/justin_tinkering/data_science/lendingclub/{0}_store.h5'.\n",
    "#     format(project),\n",
    "#     append=True)\n",
    "path = dc.data_path+project\n",
    "\n",
    "pmt_hist = pd.read_feather(path+'/pmt_hist_c1.fth')"
   ]
  },
  {
   "cell_type": "markdown",
   "metadata": {},
   "source": [
    "# There are loans that have multiple row entries per month (as in multiple pmts in same month) and there are also loans that don't have any entry for a month"
   ]
  },
  {
   "cell_type": "code",
   "execution_count": 17,
   "metadata": {
    "ExecuteTime": {
     "end_time": "2018-08-24T20:52:44.730485Z",
     "start_time": "2018-08-24T20:52:44.686009Z"
    }
   },
   "outputs": [
    {
     "data": {
      "text/html": [
       "<div>\n",
       "<style scoped>\n",
       "    .dataframe tbody tr th:only-of-type {\n",
       "        vertical-align: middle;\n",
       "    }\n",
       "\n",
       "    .dataframe tbody tr th {\n",
       "        vertical-align: top;\n",
       "    }\n",
       "\n",
       "    .dataframe thead th {\n",
       "        text-align: right;\n",
       "    }\n",
       "</style>\n",
       "<table border=\"1\" class=\"dataframe\">\n",
       "  <thead>\n",
       "    <tr style=\"text-align: right;\">\n",
       "      <th></th>\n",
       "      <th>pmt_date</th>\n",
       "      <th>status_period_end</th>\n",
       "      <th>date</th>\n",
       "      <th>issue_d</th>\n",
       "      <th>addr_state</th>\n",
       "      <th>home_ownership</th>\n",
       "      <th>first_credit_line</th>\n",
       "      <th>public_recs</th>\n",
       "      <th>emp_len</th>\n",
       "      <th>grade</th>\n",
       "      <th>...</th>\n",
       "      <th>outs_princp_end</th>\n",
       "      <th>princp_paid</th>\n",
       "      <th>recov_fees</th>\n",
       "      <th>recovs</th>\n",
       "      <th>revol_credit_bal</th>\n",
       "      <th>revol_line_util</th>\n",
       "      <th>term</th>\n",
       "      <th>total_credit_lines</th>\n",
       "      <th>all_cash_to_inv</th>\n",
       "      <th>loan_id_num</th>\n",
       "    </tr>\n",
       "  </thead>\n",
       "  <tbody>\n",
       "    <tr>\n",
       "      <th>0</th>\n",
       "      <td>2009-09-01</td>\n",
       "      <td>current</td>\n",
       "      <td>2009-09-01</td>\n",
       "      <td>2009-08-01</td>\n",
       "      <td>CA</td>\n",
       "      <td>rent</td>\n",
       "      <td>1994-02-01</td>\n",
       "      <td>0.0</td>\n",
       "      <td>&lt; 1 year</td>\n",
       "      <td>B</td>\n",
       "      <td>...</td>\n",
       "      <td>24418.701172</td>\n",
       "      <td>581.297974</td>\n",
       "      <td>0.0</td>\n",
       "      <td>0.0</td>\n",
       "      <td>28854.0</td>\n",
       "      <td>0.521</td>\n",
       "      <td>36</td>\n",
       "      <td>42.0</td>\n",
       "      <td>829.099976</td>\n",
       "      <td>54734</td>\n",
       "    </tr>\n",
       "    <tr>\n",
       "      <th>1</th>\n",
       "      <td>2009-10-01</td>\n",
       "      <td>current</td>\n",
       "      <td>2009-10-01</td>\n",
       "      <td>2009-08-01</td>\n",
       "      <td>CA</td>\n",
       "      <td>rent</td>\n",
       "      <td>1994-02-01</td>\n",
       "      <td>0.0</td>\n",
       "      <td>&lt; 1 year</td>\n",
       "      <td>B</td>\n",
       "      <td>...</td>\n",
       "      <td>23831.642578</td>\n",
       "      <td>587.059998</td>\n",
       "      <td>0.0</td>\n",
       "      <td>0.0</td>\n",
       "      <td>28854.0</td>\n",
       "      <td>0.521</td>\n",
       "      <td>36</td>\n",
       "      <td>42.0</td>\n",
       "      <td>829.099976</td>\n",
       "      <td>54734</td>\n",
       "    </tr>\n",
       "    <tr>\n",
       "      <th>2</th>\n",
       "      <td>2009-11-01</td>\n",
       "      <td>current</td>\n",
       "      <td>2009-11-01</td>\n",
       "      <td>2009-08-01</td>\n",
       "      <td>CA</td>\n",
       "      <td>rent</td>\n",
       "      <td>1994-02-01</td>\n",
       "      <td>0.0</td>\n",
       "      <td>&lt; 1 year</td>\n",
       "      <td>B</td>\n",
       "      <td>...</td>\n",
       "      <td>23238.763672</td>\n",
       "      <td>592.879028</td>\n",
       "      <td>0.0</td>\n",
       "      <td>0.0</td>\n",
       "      <td>28854.0</td>\n",
       "      <td>0.521</td>\n",
       "      <td>36</td>\n",
       "      <td>42.0</td>\n",
       "      <td>829.100037</td>\n",
       "      <td>54734</td>\n",
       "    </tr>\n",
       "    <tr>\n",
       "      <th>3</th>\n",
       "      <td>2009-12-01</td>\n",
       "      <td>current</td>\n",
       "      <td>2009-12-01</td>\n",
       "      <td>2009-08-01</td>\n",
       "      <td>CA</td>\n",
       "      <td>rent</td>\n",
       "      <td>1994-02-01</td>\n",
       "      <td>0.0</td>\n",
       "      <td>&lt; 1 year</td>\n",
       "      <td>B</td>\n",
       "      <td>...</td>\n",
       "      <td>22640.007812</td>\n",
       "      <td>598.755005</td>\n",
       "      <td>0.0</td>\n",
       "      <td>0.0</td>\n",
       "      <td>28854.0</td>\n",
       "      <td>0.521</td>\n",
       "      <td>36</td>\n",
       "      <td>42.0</td>\n",
       "      <td>829.099976</td>\n",
       "      <td>54734</td>\n",
       "    </tr>\n",
       "    <tr>\n",
       "      <th>4</th>\n",
       "      <td>2010-01-01</td>\n",
       "      <td>current</td>\n",
       "      <td>2010-01-01</td>\n",
       "      <td>2009-08-01</td>\n",
       "      <td>CA</td>\n",
       "      <td>rent</td>\n",
       "      <td>1994-02-01</td>\n",
       "      <td>0.0</td>\n",
       "      <td>&lt; 1 year</td>\n",
       "      <td>B</td>\n",
       "      <td>...</td>\n",
       "      <td>22035.318359</td>\n",
       "      <td>604.690002</td>\n",
       "      <td>0.0</td>\n",
       "      <td>0.0</td>\n",
       "      <td>28854.0</td>\n",
       "      <td>0.521</td>\n",
       "      <td>36</td>\n",
       "      <td>42.0</td>\n",
       "      <td>829.099976</td>\n",
       "      <td>54734</td>\n",
       "    </tr>\n",
       "  </tbody>\n",
       "</table>\n",
       "<p>5 rows × 41 columns</p>\n",
       "</div>"
      ],
      "text/plain": [
       "    pmt_date status_period_end       date    issue_d addr_state  \\\n",
       "0 2009-09-01           current 2009-09-01 2009-08-01         CA   \n",
       "1 2009-10-01           current 2009-10-01 2009-08-01         CA   \n",
       "2 2009-11-01           current 2009-11-01 2009-08-01         CA   \n",
       "3 2009-12-01           current 2009-12-01 2009-08-01         CA   \n",
       "4 2010-01-01           current 2010-01-01 2009-08-01         CA   \n",
       "\n",
       "  home_ownership first_credit_line  public_recs   emp_len grade     ...       \\\n",
       "0           rent        1994-02-01          0.0  < 1 year     B     ...        \n",
       "1           rent        1994-02-01          0.0  < 1 year     B     ...        \n",
       "2           rent        1994-02-01          0.0  < 1 year     B     ...        \n",
       "3           rent        1994-02-01          0.0  < 1 year     B     ...        \n",
       "4           rent        1994-02-01          0.0  < 1 year     B     ...        \n",
       "\n",
       "   outs_princp_end  princp_paid recov_fees  recovs  revol_credit_bal  \\\n",
       "0     24418.701172   581.297974        0.0     0.0           28854.0   \n",
       "1     23831.642578   587.059998        0.0     0.0           28854.0   \n",
       "2     23238.763672   592.879028        0.0     0.0           28854.0   \n",
       "3     22640.007812   598.755005        0.0     0.0           28854.0   \n",
       "4     22035.318359   604.690002        0.0     0.0           28854.0   \n",
       "\n",
       "   revol_line_util  term  total_credit_lines  all_cash_to_inv  loan_id_num  \n",
       "0            0.521    36                42.0       829.099976        54734  \n",
       "1            0.521    36                42.0       829.099976        54734  \n",
       "2            0.521    36                42.0       829.100037        54734  \n",
       "3            0.521    36                42.0       829.099976        54734  \n",
       "4            0.521    36                42.0       829.099976        54734  \n",
       "\n",
       "[5 rows x 41 columns]"
      ]
     },
     "execution_count": 17,
     "metadata": {},
     "output_type": "execute_result"
    }
   ],
   "source": [
    "pmt_hist.head()"
   ]
  },
  {
   "cell_type": "code",
   "execution_count": null,
   "metadata": {},
   "outputs": [],
   "source": [
    "pmt_hist_ids = store['pmt_hist_ids'].astype(int)\n",
    "max_id = pmt_hist_ids.max()\n",
    "chunksize = 800\n",
    "n_chunks = len(pmt_hist_ids)//chunksize + 1\n",
    "\n",
    "# fix loans with double month entries _________________________________________\n",
    "# left_bound = 0\n",
    "# right_bound = pmt_hist_ids[chunksize]\n",
    "already_good_dfs = []\n",
    "fixed_dfs = []\n",
    "k = 0\n",
    "for n in tqdm_notebook(np.arange(n_chunks)):\n",
    "    if n == 0:\n",
    "        left_bound = 0\n",
    "    else:\n",
    "        left_bound = pmt_hist_ids[n*chunksize]\n",
    "    if n == (n_chunks - 1):\n",
    "        right_bound = max_id\n",
    "    else:\n",
    "        right_bound = pmt_hist_ids[(n+1)*chunksize]\n",
    "    \n",
    "    chunk = pd.read_hdf(\n",
    "        store,\n",
    "        'pmt_hist_intermediary_1',\n",
    "        where='(loan_id_num > left_bound) & (loan_id_num <= right_bound)')\n",
    "    loans_with_two_entries_in_same_month = chunk[chunk.duplicated(\n",
    "    ['loan_id', 'date'])]\n",
    "    dup_date_ids = loans_with_two_entries_in_same_month['loan_id'].unique()\n",
    "    if k == 0:\n",
    "        column_iloc_map = {\n",
    "            col_name: chunk.iloc[-1].index.get_loc(col_name)\n",
    "            for col_name in chunk.columns.values\n",
    "        }\n",
    "        k += 1\n",
    "\n",
    "    id_grouped = chunk.groupby('loan_id')\n",
    "    already_good = chunk[~chunk['loan_id'].isin(dup_date_ids)]\n",
    "    for ids, group in id_grouped:\n",
    "        if ids in dup_date_ids:\n",
    "            fixed_dfs.append(merge_dupe_dates(group))\n",
    "        else:\n",
    "            pass\n",
    "\n",
    "    already_good_dfs.append(already_good)"
   ]
  },
  {
   "cell_type": "markdown",
   "metadata": {},
   "source": [
    "# store before next cleaning step"
   ]
  },
  {
   "cell_type": "code",
   "execution_count": null,
   "metadata": {},
   "outputs": [],
   "source": [
    "# Create min_itemsize_dict for allocating size when storing ___________________\n",
    "min_itemsize_dict = {}\n",
    "for col in already_good.columns:\n",
    "    if already_good[col].dtype == np.object:\n",
    "        print(col, already_good[col].str.len().max())\n",
    "        if col in ['State', 'VINTAGE', 'grade']:\n",
    "            pass\n",
    "        else:\n",
    "            min_itemsize_dict[col] = 15\n",
    "\n",
    "col_dtype_map = already_good_dfs[0].dtypes.to_dict()\n",
    "all_fixed_dfs = pd.concat(fixed_dfs)\n",
    "for col, dtype in col_dtype_map.items():\n",
    "    all_fixed_dfs[col] = all_fixed_dfs[col].astype(dtype)\n",
    "     \n",
    "k = 0\n",
    "for chunk in tqdm_notebook([all_fixed_dfs] + already_good_dfs):\n",
    "    if k == 0:\n",
    "        store.append(\n",
    "            'pmt_hist_intermediary_2',\n",
    "            chunk,\n",
    "            data_columns=True,\n",
    "            index=True,\n",
    "            append=False,\n",
    "            min_itemsize=min_itemsize_dict)\n",
    "        k += 1\n",
    "    else:\n",
    "        store.append(\n",
    "            'pmt_hist_intermediary_2',\n",
    "            chunk,\n",
    "            data_columns=True,\n",
    "            index=True,\n",
    "            append=True)           \n",
    "        \n",
    "store.close()        "
   ]
  },
  {
   "cell_type": "code",
   "execution_count": null,
   "metadata": {},
   "outputs": [],
   "source": []
  }
 ],
 "metadata": {
  "anaconda-cloud": {},
  "kernelspec": {
   "display_name": "Python 3",
   "language": "python",
   "name": "python3"
  },
  "language_info": {
   "codemirror_mode": {
    "name": "ipython",
    "version": 3
   },
   "file_extension": ".py",
   "mimetype": "text/x-python",
   "name": "python",
   "nbconvert_exporter": "python",
   "pygments_lexer": "ipython3",
   "version": "3.6.3"
  },
  "notify_time": "30",
  "varInspector": {
   "cols": {
    "lenName": 16,
    "lenType": 16,
    "lenVar": 40
   },
   "kernels_config": {
    "python": {
     "delete_cmd_postfix": "",
     "delete_cmd_prefix": "del ",
     "library": "var_list.py",
     "varRefreshCmd": "print(var_dic_list())"
    },
    "r": {
     "delete_cmd_postfix": ") ",
     "delete_cmd_prefix": "rm(",
     "library": "var_list.r",
     "varRefreshCmd": "cat(var_dic_list()) "
    }
   },
   "types_to_exclude": [
    "module",
    "function",
    "builtin_function_or_method",
    "instance",
    "_Feature"
   ],
   "window_display": false
  }
 },
 "nbformat": 4,
 "nbformat_minor": 1
}
