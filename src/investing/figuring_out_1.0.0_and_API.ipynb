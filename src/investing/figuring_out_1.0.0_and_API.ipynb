{
 "cells": [
  {
   "cell_type": "code",
   "execution_count": null,
   "metadata": {},
   "outputs": [],
   "source": [
    "import requests as requests\n",
    "import json as json\n",
    "import lendingclub.account_info as acc_info\n",
    "import re as re\n",
    "from sklearn.externals import joblib\n",
    "import lendingclub.dataprep_and_modeling.modeling_utils.data_prep_new as data_prep\n",
    "import lendingclub.investing.investing_utils as investing_utils\n",
    "import pandas as pd\n",
    "import numpy as np\n",
    "import math as math\n",
    "from  lendingclub.dataprep_and_modeling.model_dump.nn_1_0_0 import net_class\n",
    "import torch"
   ]
  },
  {
   "cell_type": "code",
   "execution_count": null,
   "metadata": {},
   "outputs": [],
   "source": [
    "# constants\n",
    "model_path = '/home/justin/justin_tinkering/data_science/lendingclub/dataprep_and_modeling/model_dump/nn_1_0_0/1.0.0_e500'\n",
    "token = acc_info.token\n",
    "inv_acc_id = acc_info.investor_id\n",
    "portfolio_id = acc_info.portfolio_id\n",
    "header = {\n",
    "    'Authorization': token,\n",
    "    'Content-Type': 'application/json',\n",
    "    'X-LC-LISTING-VERSION': '1.2'\n",
    "}"
   ]
  },
  {
   "cell_type": "code",
   "execution_count": null,
   "metadata": {},
   "outputs": [],
   "source": [
    "check_port_ids = 'https://api.lendingclub.com/api/investor/v1/accounts/{0}/portfolios'.format(str(inv_acc_id))"
   ]
  },
  {
   "cell_type": "code",
   "execution_count": null,
   "metadata": {},
   "outputs": [],
   "source": [
    "check_dict = json.loads(requests.get(\n",
    "    check_port_ids, headers=header).content)"
   ]
  },
  {
   "cell_type": "code",
   "execution_count": null,
   "metadata": {},
   "outputs": [],
   "source": [
    "check_dict"
   ]
  },
  {
   "cell_type": "code",
   "execution_count": null,
   "metadata": {},
   "outputs": [],
   "source": [
    "\n",
    "\n",
    "acc_summary_url = 'https://api.lendingclub.com/api/investor/v1/accounts/' + \\\n",
    "    str(inv_acc_id) + '/summary'\n",
    "order_url = 'https://api.lendingclub.com/api/investor/v1/accounts/' + \\\n",
    "    str(inv_acc_id) + '/orders'\n",
    "\n",
    "min_score = -.05 # -0.04599714276994965  # -0.035764345824470828\n",
    "inv_amt = 150.00\n",
    "\n",
    "# First check if I have enough money that I want to invest. min 10 notes so 250\n",
    "summary_dict = json.loads(requests.get(\n",
    "    acc_summary_url, headers=header).content)\n",
    "cash_to_invest = summary_dict['availableCash']\n",
    "\n",
    "# wait until it is time to do the api call. I'm rate limited to 1 call a second\n",
    "# investing_utils.pause_until_time(test=True)\n",
    "\n",
    "api_loans, api_ids = investing_utils.get_loans_and_ids(\n",
    "    header, exclude_already=True)\n",
    "api_loans = investing_utils.match_col_names(api_loans)\n",
    "api_loans = investing_utils.match_existing_cols_to_csv(api_loans)\n",
    "api_loans = investing_utils.make_missing_cols_and_del_dates(api_loans)\n",
    "api_X, _ = data_prep.process_data_test(api_loans)"
   ]
  },
  {
   "cell_type": "code",
   "execution_count": null,
   "metadata": {},
   "outputs": [],
   "source": [
    "# score the api_loans, filter to min score\n",
    "net = net_class.Net()\n",
    "net.load_state_dict(torch.load(model_path))\n",
    "api_yhat = net_class.torch_version(api_X, net)\n",
    "ids_and_scores = pd.Series(dict(zip(api_ids, api_yhat.ravel())))\n",
    "ids_and_scores = ids_and_scores.sort_values(ascending=False)\n",
    "loans_to_pick_from = ids_and_scores[ids_and_scores >= min_score]\n",
    "loans_to_pick_from = loans_to_pick_from.sort_values(ascending=False)"
   ]
  },
  {
   "cell_type": "code",
   "execution_count": null,
   "metadata": {},
   "outputs": [],
   "source": [
    "ids_and_scores"
   ]
  },
  {
   "cell_type": "code",
   "execution_count": null,
   "metadata": {},
   "outputs": [],
   "source": [
    "# See how many loans to pick from, set up order\n",
    "n_to_pick = int(math.floor(cash_to_invest / inv_amt))\n",
    "to_order_loan_ids = loans_to_pick_from[:n_to_pick].index.values\n",
    "orders_dict = {'aid': inv_acc_id}\n",
    "orders_list = []\n",
    "for loan_ids in to_order_loan_ids:\n",
    "    orders_list.append({'loanId':int(loan_ids),\n",
    "                        'requestedAmount': int(inv_amt),\n",
    "                        'portfolioId': int(portfolio_id)})\n",
    "orders_dict['orders'] = orders_list\n",
    "# payload = json.dumps(orders_dict)\n",
    "# print(payload)\n",
    "# print('Hello World')\n",
    "# if cash_to_invest >= 250:\n",
    "#     order_response = requests.post(order_url, headers=header, data=payload)\n",
    "# else:\n",
    "#     print('Cash to invest is ${0}. Waiting for at least $250 cash before investing'.format(\n",
    "#         cash_to_invest))\n",
    "\n",
    "\n",
    "# print('Ran investment round.')\n",
    "# print('Cash to invest: ${0}, meaning {1} possible notes to invest in at ${2} each.'.format(\n",
    "#     cash_to_invest, n_to_pick, inv_amt))\n",
    "# print('{0} loans seen through api, of which {1} passed min_score of {2}'.format(\n",
    "#     len(api_loans), len(to_order_loan_ids), min_score))\n",
    "# print('Max scores from this batch was: {0}'.format(ids_and_scores.head()))\n",
    "# print('Below is from response')\n",
    "# try:\n",
    "#     print(order_response, order_response.content)\n",
    "# except:\n",
    "#     print('No response because no POST of orders')\n",
    "\n"
   ]
  },
  {
   "cell_type": "code",
   "execution_count": null,
   "metadata": {},
   "outputs": [],
   "source": [
    "payload"
   ]
  },
  {
   "cell_type": "code",
   "execution_count": null,
   "metadata": {},
   "outputs": [],
   "source": [
    "for loan_ids in to_order_loan_ids:\n",
    "    orders_list.append({'loanId':int(loan_ids),\n",
    "                        'requestedAmount': int(inv_amt),"
   ]
  },
  {
   "cell_type": "code",
   "execution_count": null,
   "metadata": {},
   "outputs": [],
   "source": [
    "api_loans = investing_utils.match_existing_cols_to_csv(api_loans)\n",
    "api_loans = investing_utils.make_missing_cols_and_del_dates(api_loans)\n",
    "api_X, _ = data_prep.process_data_test(api_loans)\n",
    "\n",
    "# score the api_loans, filter to min score\n",
    "net = net_class.Net()\n",
    "net.load_state_dict(torch.load(model_path))\n",
    "api_yhat = net_class.torch_version(api_X, net)\n",
    "ids_and_scores = pd.Series(dict(zip(api_ids, api_yhat)))\n",
    "ids_and_scores = ids_and_scores.sort_values(ascending=False)\n",
    "loans_to_pick_from = ids_and_scores[ids_and_scores >= min_score]\n",
    "loans_to_pick_from = loans_to_pick_from.sort_values(ascending=False)\n",
    "\n",
    "# See how many loans to pick from, set up order\n",
    "n_to_pick = int(math.floor(cash_to_invest / inv_amt))\n",
    "to_order_loan_ids = loans_to_pick_from[:n_to_pick].index.values\n",
    "orders_dict = {'aid': inv_acc_id}\n",
    "orders_list = []\n"
   ]
  }
 ],
 "metadata": {
  "kernelspec": {
   "display_name": "Python 3",
   "language": "python",
   "name": "python3"
  },
  "language_info": {
   "codemirror_mode": {
    "name": "ipython",
    "version": 3
   },
   "file_extension": ".py",
   "mimetype": "text/x-python",
   "name": "python",
   "nbconvert_exporter": "python",
   "pygments_lexer": "ipython3",
   "version": "3.6.3"
  },
  "varInspector": {
   "cols": {
    "lenName": 16,
    "lenType": 16,
    "lenVar": 40
   },
   "kernels_config": {
    "python": {
     "delete_cmd_postfix": "",
     "delete_cmd_prefix": "del ",
     "library": "var_list.py",
     "varRefreshCmd": "print(var_dic_list())"
    },
    "r": {
     "delete_cmd_postfix": ") ",
     "delete_cmd_prefix": "rm(",
     "library": "var_list.r",
     "varRefreshCmd": "cat(var_dic_list()) "
    }
   },
   "types_to_exclude": [
    "module",
    "function",
    "builtin_function_or_method",
    "instance",
    "_Feature"
   ],
   "window_display": false
  }
 },
 "nbformat": 4,
 "nbformat_minor": 2
}
