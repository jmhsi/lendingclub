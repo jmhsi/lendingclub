{
 "cells": [
  {
   "cell_type": "code",
   "execution_count": 1,
   "metadata": {
    "ExecuteTime": {
     "end_time": "2018-09-25T17:49:14.365660Z",
     "start_time": "2018-09-25T17:49:13.906551Z"
    }
   },
   "outputs": [],
   "source": [
    "import dir_constants as dc\n",
    "from tqdm import tqdm\n",
    "from j_utils import munging as mg\n",
    "from j_utils import eval_results as er\n",
    "from fastai.structured import *\n",
    "\n",
    "pd.options.display.max_columns = 999\n",
    "# pd.options.display.max_rows = 999\n",
    "pd.options.display.max_seq_items = None\n",
    "# np.set_printoptions(threshold=100)"
   ]
  },
  {
   "cell_type": "code",
   "execution_count": 2,
   "metadata": {
    "ExecuteTime": {
     "end_time": "2018-09-25T17:49:14.385326Z",
     "start_time": "2018-09-25T17:49:14.370905Z"
    }
   },
   "outputs": [],
   "source": [
    "PATH = dc.data_path\n",
    "project = 'lendingclub'\n",
    "fname_base_loan = 'base_loan_info.fth'\n",
    "fname_eval_loan = 'eval_loan_info.fth'\n",
    "fname_str_loan = 'str_loan_info.fth'\n",
    "fname_scl_pmt = 'scaled_pmt_hist.fth'\n",
    "data_path = f'{PATH}{project}'"
   ]
  },
  {
   "cell_type": "code",
   "execution_count": 3,
   "metadata": {
    "ExecuteTime": {
     "end_time": "2018-09-25T17:49:17.330449Z",
     "start_time": "2018-09-25T17:49:14.388510Z"
    }
   },
   "outputs": [],
   "source": [
    "# load in and drop fico low\n",
    "base_loan_info = pd.read_feather(f'{data_path}/base_loan_info.fth')\n",
    "base_loan_info.drop('fico_range_low', axis=1, inplace=True)\n",
    "eval_loan_info = pd.read_feather(f'{data_path}/eval_loan_info.fth')\n",
    "str_loan_info = pd.read_feather(f'{data_path}/str_loan_info.fth')"
   ]
  },
  {
   "cell_type": "code",
   "execution_count": 4,
   "metadata": {
    "ExecuteTime": {
     "end_time": "2018-09-25T17:49:17.368151Z",
     "start_time": "2018-09-25T17:49:17.353751Z"
    }
   },
   "outputs": [],
   "source": [
    "## load in pmt_hist and fix target_strict\n",
    "# scaled_pmt_hist = pd.read_feather(f'{data_path}/scaled_pmt_hist.fth')\n",
    "# bad_statuses = set(['late_120', 'defaulted', 'charged_off', 'late_30'])\n",
    "# target_strict_dict = {}\n",
    "# id_grouped = scaled_pmt_hist.groupby('id')\n",
    "# for ids, group in tqdm(id_grouped):\n",
    "#     statuses = set(group['status_period_end'])\n",
    "#     if len(statuses.intersection(bad_statuses)) > 0:\n",
    "#         target_strict_dict[ids] = 1\n",
    "#     else:\n",
    "#         target_strict_dict[ids] = 0\n",
    "# target_strict = pd.DataFrame.from_dict(target_strict_dict, orient='index').reset_index(drop=False)\n",
    "# target_strict.columns = ['id', 'target_strict']\n",
    "# eval_loan_info.drop('target_strict', axis=1, inplace=True)\n",
    "# eval_loan_info = pd.merge(eval_loan_info, target_strict, how='outer', on='id')\n",
    "# eval_loan_info['target_strict'] = eval_loan_info['target_strict'].fillna(0).astype(int)\n",
    "# eval_loan_info.to_feather(f'{data_path}/eval_loan_info.fth')"
   ]
  },
  {
   "cell_type": "code",
   "execution_count": 5,
   "metadata": {
    "ExecuteTime": {
     "end_time": "2018-09-25T17:49:17.384997Z",
     "start_time": "2018-09-25T17:49:17.369766Z"
    }
   },
   "outputs": [],
   "source": [
    "to_delete = ['fico_range_low']\n",
    "cat_shap_30 = ['sub_grade', 'term', 'annual_inc', 'acc_open_past_24_mths', 'loan_amount', 'dti', 'fico_range_high', 'id', 'grade', 'total_bc_limit', 'mo_sin_old_rev_tl_op', 'home_ownership', 'percent_bc_gt_75', 'mort_acc', 'int_rate', 'addr_state', 'mths_since_recent_bc', 'revol_util', 'delinq_2_yrs', 'inq_last_6_mths', 'installment', 'addr_zip', 'bc_util', 'total_il_high_credit_limit', 'emp_length', 'revol_bal', 'purpose', 'num_rev_tl_bal_gt_0', 'earliest_cr_lineElapsed', 'tot_hi_cred_lim']\n",
    "\n",
    "lgbm_shap_30 = ['sub_grade', 'term', 'addr_zip', 'grade', 'acc_open_past_24_mths', 'dti', 'annual_inc', 'loan_amount', 'id', 'fico_range_high', 'home_ownership', 'mort_acc', 'total_bc_limit', 'emp_length', 'delinq_2_yrs', 'mo_sin_old_rev_tl_op', 'mths_since_recent_bc', 'bc_open_to_buy', 'avg_cur_bal', 'inq_last_6_mths', 'int_rate', 'mo_sin_rcnt_tl', 'installment', 'percent_bc_gt_75', 'revol_util', 'num_rev_tl_bal_gt_0', 'total_il_high_credit_limit', 'purpose', 'revol_bal', 'total_acc']"
   ]
  },
  {
   "cell_type": "code",
   "execution_count": 6,
   "metadata": {
    "ExecuteTime": {
     "end_time": "2018-09-25T17:49:17.401356Z",
     "start_time": "2018-09-25T17:49:17.386779Z"
    }
   },
   "outputs": [
    {
     "name": "stdout",
     "output_type": "stream",
     "text": [
      "34\n"
     ]
    }
   ],
   "source": [
    "shap_30_ft = np.array(sorted(list(set(cat_shap_30).union(set(lgbm_shap_30)))))\n",
    "print(len(shap_30_ft))"
   ]
  },
  {
   "cell_type": "code",
   "execution_count": 7,
   "metadata": {
    "ExecuteTime": {
     "end_time": "2018-09-25T17:49:17.419282Z",
     "start_time": "2018-09-25T17:49:17.403318Z"
    }
   },
   "outputs": [
    {
     "data": {
      "text/plain": [
       "array(['acc_open_past_24_mths', 'addr_state', 'addr_zip', 'annual_inc', 'avg_cur_bal', 'bc_open_to_buy',\n",
       "       'bc_util', 'delinq_2_yrs', 'dti', 'earliest_cr_lineElapsed', 'emp_length', 'fico_range_high', 'grade',\n",
       "       'home_ownership', 'id', 'inq_last_6_mths', 'installment', 'int_rate', 'loan_amount',\n",
       "       'mo_sin_old_rev_tl_op', 'mo_sin_rcnt_tl', 'mort_acc', 'mths_since_recent_bc', 'num_rev_tl_bal_gt_0',\n",
       "       'percent_bc_gt_75', 'purpose', 'revol_bal', 'revol_util', 'sub_grade', 'term', 'tot_hi_cred_lim',\n",
       "       'total_acc', 'total_bc_limit', 'total_il_high_credit_limit'],\n",
       "      dtype='<U26')"
      ]
     },
     "execution_count": 7,
     "metadata": {},
     "output_type": "execute_result"
    }
   ],
   "source": [
    "np.array(sorted(list(set(cat_shap_30).union(set(lgbm_shap_30)))))"
   ]
  },
  {
   "attachments": {},
   "cell_type": "markdown",
   "metadata": {
    "ExecuteTime": {
     "end_time": "2018-09-25T02:37:29.434973Z",
     "start_time": "2018-09-25T02:37:29.419175Z"
    }
   },
   "source": [
    "shap_30_ft definitions, bank cards are atm/debit cards\n",
    "\n",
    "acc_open_past_24_mths = number of accounts opened in 24 mths\n",
    "addr_state = borrower's state\n",
    "addr_zip = borrower's zip\n",
    "annual_inc = self-reported annual income by borrower\n",
    "avg_cur_bal = average current balance on all accounts\n",
    "bc_open_to_buy = total open to buy on revolving bankcards (total remaining available credit on bankcards)\n",
    "bc_util = bankcard utilization in percent\n",
    "delinq_2_yrs = The number of 30+ days past-due incidences of delinquency in the borrower's credit file for the past 2 years\n",
    "dti = A ratio calculated using the borrower’s total monthly debt payments on the total debt obligations, excluding mortgage and the requested LC loan, divided by the borrower’s self-reported monthly income\n",
    "earliest_cr_lineElapsed = a date of earliest credit line converted to epoch time?\n",
    "emp_length = Employment length in years. Possible values are between 0 and 10 where 0 means less than one year and 10 means ten or more years\n",
    "fico_range_high = credit score upper bound (of only 4 diff to lower bound)\n",
    "grade = LC's grade\n",
    "home_ownership = The home ownership status provided by the borrower during registration or obtained from the credit report. Our values are: RENT, OWN, MORTGAGE, OTHER\n",
    "id = A unique LC assigned ID for the loan listing\n",
    "inq_last_6_mths = The number of inquiries in past 6 months (excluding auto and mortgage inquiries)\n",
    "installment = monthly payment owed by borrower if loan originates\n",
    "int_rate = loan's interest rate\n",
    "loan_amount = loan amount\n",
    "mo_sin_old_rev_tl_op = Months since oldest revolving account opened\n",
    "mo_sin_rcnt_tl = Months since most recent account opened\n",
    "mort_acc = Number of mortgage accounts\n",
    "mths_since_recent_bc = Months since most recent bankcard account opened\n",
    "num_rev_tl_bal_gt_0 = Number of revolving trades with balance >0\n",
    "percent_bc_gt_75 = Percentage of all bankcard accounts > 75% of limit\n",
    "purpose = A category provided by the borrower for the loan request\n",
    "revol_bal = Total revolving credit balance\n",
    "revol_util = amount of credit borrower using relative to avail revolving credit\n",
    "sub_grade = LC subgrade\n",
    "term = loan term\n",
    "tot_hi_cred_lim = Total high credit/credit limit\n",
    "total_acc = The total number of credit lines currently in the borrower's credit file\n",
    "total_bc_limit = Total bankcard high credit/credit limit\n",
    "total_il_high_credit_limit = Total installment high credit/credit limit\n",
    "\n",
    "new features to try:\n",
    "ratios of income/installment to high limits."
   ]
  },
  {
   "cell_type": "code",
   "execution_count": 8,
   "metadata": {
    "ExecuteTime": {
     "end_time": "2018-09-25T17:49:22.620267Z",
     "start_time": "2018-09-25T17:49:22.599881Z"
    }
   },
   "outputs": [],
   "source": [
    "def transform_dates(df):\n",
    "    '''\n",
    "    Looks for datetime columns in the df, uses fastai's add_datepart to turn it\n",
    "    into several columns (year, day, is quarter end, etc.)\n",
    "    Does this inplace.\n",
    "    '''\n",
    "    date_cols = list(df.select_dtypes('datetime').columns)\n",
    "    for col in date_cols:\n",
    "        add_datepart(df, col,)"
   ]
  },
  {
   "cell_type": "code",
   "execution_count": 9,
   "metadata": {
    "ExecuteTime": {
     "end_time": "2018-09-25T17:49:28.028814Z",
     "start_time": "2018-09-25T17:49:23.064681Z"
    }
   },
   "outputs": [],
   "source": [
    "transform_dates(base_loan_info)"
   ]
  },
  {
   "cell_type": "code",
   "execution_count": 11,
   "metadata": {
    "ExecuteTime": {
     "end_time": "2018-09-25T17:49:28.427734Z",
     "start_time": "2018-09-25T17:49:28.399776Z"
    }
   },
   "outputs": [],
   "source": [
    "# converted features\n",
    "base_loan_info['dti'] = base_loan_info['dti']/100"
   ]
  },
  {
   "cell_type": "code",
   "execution_count": 44,
   "metadata": {
    "ExecuteTime": {
     "end_time": "2018-09-25T18:31:19.290414Z",
     "start_time": "2018-09-25T18:31:19.222876Z"
    }
   },
   "outputs": [],
   "source": [
    "# added features\n",
    "base_loan_info['monthly_inc'] = base_loan_info['annual_inc']/12\n",
    "base_loan_info['dti_w_loan'] = np.minimum(99999,(base_loan_info['dti']*base_loan_info['monthly_inc']+base_loan_info['installment'])/base_loan_info['monthly_inc'])\n",
    "base_loan_info['delinq_to_monthly_inc'] = np.minimum(99999,base_loan_info['delinq_amnt']/base_loan_info['monthly_inc'])\n",
    "base_loan_info['tot_cur_bal_to_monthly_inc'] = np.minimum(99999,base_loan_info['tot_cur_bal']/base_loan_info['monthly_inc'])"
   ]
  },
  {
   "cell_type": "code",
   "execution_count": 45,
   "metadata": {
    "ExecuteTime": {
     "end_time": "2018-09-25T18:31:20.293897Z",
     "start_time": "2018-09-25T18:31:19.900511Z"
    }
   },
   "outputs": [
    {
     "data": {
      "image/png": "[encoded data removed]",
      "text/plain": [
       "<matplotlib.figure.Figure at 0x7f4973c9c7f0>"
      ]
     },
     "metadata": {},
     "output_type": "display_data"
    }
   ],
   "source": [
    "base_loan_info['dti_w_loan'].plot()\n",
    "plt.show()"
   ]
  },
  {
   "cell_type": "code",
   "execution_count": 46,
   "metadata": {
    "ExecuteTime": {
     "end_time": "2018-09-25T18:31:27.713149Z",
     "start_time": "2018-09-25T18:31:27.573041Z"
    }
   },
   "outputs": [
    {
     "data": {
      "text/plain": [
       "count    2.002748e+06\n",
       "mean     4.692211e-01\n",
       "std      1.413237e+02\n",
       "min      1.648147e-04\n",
       "25%      1.843796e-01\n",
       "50%      2.558844e-01\n",
       "75%      3.347594e-01\n",
       "max      9.999900e+04\n",
       "Name: dti_w_loan, dtype: float64"
      ]
     },
     "execution_count": 46,
     "metadata": {},
     "output_type": "execute_result"
    }
   ],
   "source": [
    "base_loan_info['dti_w_loan'].describe()"
   ]
  },
  {
   "cell_type": "code",
   "execution_count": null,
   "metadata": {},
   "outputs": [],
   "source": []
  }
 ],
 "metadata": {
  "kernelspec": {
   "display_name": "Python 3",
   "language": "python",
   "name": "python3"
  },
  "language_info": {
   "codemirror_mode": {
    "name": "ipython",
    "version": 3
   },
   "file_extension": ".py",
   "mimetype": "text/x-python",
   "name": "python",
   "nbconvert_exporter": "python",
   "pygments_lexer": "ipython3",
   "version": "3.6.3"
  }
 },
 "nbformat": 4,
 "nbformat_minor": 2
}
