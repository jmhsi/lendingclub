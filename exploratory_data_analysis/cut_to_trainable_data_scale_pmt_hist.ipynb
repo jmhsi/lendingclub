{
 "cells": [
  {
   "cell_type": "code",
   "execution_count": 37,
   "metadata": {
    "ExecuteTime": {
     "end_time": "2018-09-04T07:10:33.035239Z",
     "start_time": "2018-09-04T07:10:33.010875Z"
    }
   },
   "outputs": [],
   "source": [
    "import dir_constants as dc\n",
    "from tqdm import tqdm\n",
    "from j_utils.munging import compress_memory\n",
    "pd.options.display.max_columns = 999\n",
    "pd.options.display.max_rows = 60\n",
    "pd.options.display.max_seq_items = None\n",
    "# np.set_printoptions(threshold=100)"
   ]
  },
  {
   "cell_type": "code",
   "execution_count": 38,
   "metadata": {
    "ExecuteTime": {
     "end_time": "2018-09-04T07:10:33.334024Z",
     "start_time": "2018-09-04T07:10:33.305329Z"
    }
   },
   "outputs": [],
   "source": [
    "PATH = dc.data_path\n",
    "project = 'lendingclub'\n",
    "fname_loan = 'loan_info_clean.fth'\n",
    "fname_pmt = 'pmt_hist_clean.fth'\n",
    "fname_strings = 'strings_df_clean.fth'\n",
    "data_path = f'{PATH}{project}'"
   ]
  },
  {
   "cell_type": "code",
   "execution_count": 39,
   "metadata": {
    "ExecuteTime": {
     "end_time": "2018-09-04T07:14:36.530057Z",
     "start_time": "2018-09-04T07:10:34.354324Z"
    }
   },
   "outputs": [],
   "source": [
    "loan_info = pd.read_feather(f'{data_path}/{fname_loan}')\n",
    "pmt_hist = pd.read_feather(f'{data_path}/{fname_pmt}')\n",
    "strings = pd.read_feather(f'{data_path}/{fname_strings}')\n",
    "strings = strings[strings['loan_id'].isin(loan_info['id'])]"
   ]
  },
  {
   "cell_type": "code",
   "execution_count": 4,
   "metadata": {
    "ExecuteTime": {
     "end_time": "2018-09-03T23:21:07.864749Z",
     "start_time": "2018-09-03T23:20:48.297260Z"
    }
   },
   "outputs": [],
   "source": [
    "loan_info.sort_values('id', inplace=True)\n",
    "pmt_hist.sort_values(['loan_id', 'date'], inplace=True)\n",
    "strings.sort_values('loan_id', inplace=True)"
   ]
  },
  {
   "cell_type": "code",
   "execution_count": 5,
   "metadata": {
    "ExecuteTime": {
     "end_time": "2018-09-03T23:21:14.330257Z",
     "start_time": "2018-09-03T23:21:07.866458Z"
    }
   },
   "outputs": [],
   "source": [
    "# rename loan_id to id to match what comes through API\n",
    "# loan_info.rename({'loan_id': 'id'}, axis=1, inplace=True)\n",
    "pmt_hist.rename({'loan_id': 'id'}, axis=1, inplace = True)\n",
    "strings.rename({'loan_id': 'id'}, axis=1, inplace = True)"
   ]
  },
  {
   "cell_type": "code",
   "execution_count": 6,
   "metadata": {
    "ExecuteTime": {
     "end_time": "2018-09-03T23:21:14.344834Z",
     "start_time": "2018-09-03T23:21:14.332092Z"
    }
   },
   "outputs": [
    {
     "name": "stdout",
     "output_type": "stream",
     "text": [
      "loan_info shape: (2003915, 161)\n",
      " pmt_hist shape: (37318236, 41)\n",
      " strings shape: (0, 10)\n"
     ]
    }
   ],
   "source": [
    "print('loan_info shape: {0}\\n pmt_hist shape: {1}\\n strings shape: {2}'.format(loan_info.shape, pmt_hist.shape, strings.shape))"
   ]
  },
  {
   "cell_type": "markdown",
   "metadata": {},
   "source": [
    "# rename fields to match what comes through api, save"
   ]
  },
  {
   "cell_type": "code",
   "execution_count": 7,
   "metadata": {
    "ExecuteTime": {
     "end_time": "2018-09-03T23:21:14.358876Z",
     "start_time": "2018-09-03T23:21:14.348426Z"
    }
   },
   "outputs": [],
   "source": [
    "sys.path.append('/home/justin/lendingclub/investing/')"
   ]
  },
  {
   "cell_type": "code",
   "execution_count": 8,
   "metadata": {
    "ExecuteTime": {
     "end_time": "2018-09-03T23:21:27.212314Z",
     "start_time": "2018-09-03T23:21:14.361656Z"
    }
   },
   "outputs": [],
   "source": [
    "import requests\n",
    "import json\n",
    "import lendingclub.account_info as acc_info\n",
    "import re\n",
    "from sklearn.externals import joblib\n",
    "# import lendingclub.dataprep_and_modeling.modeling_utils.data_prep_new as data_prep\n",
    "import lendingclub.investing.investing_utils as investing_utils\n",
    "from investing_utils import StandardScalerJustin\n",
    "# import pandas as pd\n",
    "# import numpy as np\n",
    "import math as math\n",
    "import torch\n",
    "import pickle as pickle\n",
    "import datetime\n",
    "import smtplib\n",
    "import gspread\n",
    "import google.auth\n",
    "from google.oauth2 import service_account\n",
    "from google.auth.transport.requests import AuthorizedSession\n",
    "\n",
    "\n",
    "# constants and setup for various accounts and APIs\n",
    "now = datetime.datetime.now()\n",
    "token = acc_info.token\n",
    "inv_acc_id = acc_info.investor_id\n",
    "portfolio_id = acc_info.portfolio_id\n",
    "my_gmail_account = acc_info.from_email_throwaway\n",
    "my_gmail_password = acc_info.password_throwaway+'!@'\n",
    "my_recipients = acc_info.to_emails_throwaway\n",
    "invest_ss_key = acc_info.invest_ss_key\n",
    "investins_ss_key = acc_info.investins_ss_key\n",
    "\n",
    "header = {\n",
    "    'Authorization': token,\n",
    "    'Content-Type': 'application/json',\n",
    "    'X-LC-LISTING-VERSION': '1.3'\n",
    "}\n",
    "\n",
    "acc_summary_url = 'https://api.lendingclub.com/api/investor/v1/accounts/' + \\\n",
    "    str(inv_acc_id) + '/summary'\n",
    "order_url = 'https://api.lendingclub.com/api/investor/v1/accounts/' + \\\n",
    "    str(inv_acc_id) + '/orders'\n",
    "min_score = -0.02  # -0.04599714276994965  # -0.035764345824470828\n",
    "inv_amt = 25.00\n",
    "cash_limit = 0.00\n",
    "creds = service_account.Credentials.from_service_account_file(acc_info.project_path+'credentials.json')\n",
    "scope = ['https://spreadsheets.google.com/feeds']\n",
    "creds = creds.with_scopes(scope)\n",
    "gc = gspread.Client(auth=creds)\n",
    "gc.session = AuthorizedSession(creds)\n",
    "sheet = gc.open_by_key(invest_ss_key).sheet1\n",
    "sheetins = gc.open_by_key(investins_ss_key).sheet1\n",
    "\n",
    "# First check if I have enough money that I want to invest. min 10 notes so 250\n",
    "summary_dict = json.loads(requests.get(\n",
    "    acc_summary_url, headers=header).content)\n",
    "cash_to_invest = summary_dict['availableCash']\n",
    "\n",
    "# Load models and things for models\n",
    "# RF\n",
    "rf = investing_utils.load_RF()\n",
    "with open(f'{investing_utils.data_save_path}/for_proc_df_model_loading.pkl', 'rb') as handle:\n",
    "    nas_all_train, embeddings_all_train, train_cols_meds_all_train, use_cols, cols_all_train, col_cat_dict, mean_stdev_mapper_all_train, dl_df_train, dl_ys_train, cat_vars, emb_szs = pickle.load(handle)\n",
    "    \n",
    "# process the dataframe before I'm able to set up the neural net _____________\n",
    "# wait until it is time to do the api call. I'm rate limited to 1 call a second\n",
    "investing_utils.pause_until_time(test=True)\n",
    "\n",
    "# get the loans and process the dataframe\n",
    "_, all_loan_count = investing_utils.get_loans_and_ids(\n",
    "    header, exclude_already=False)\n",
    "api_loans, api_ids = investing_utils.get_loans_and_ids(\n",
    "    header, exclude_already=True)"
   ]
  },
  {
   "cell_type": "code",
   "execution_count": 9,
   "metadata": {
    "ExecuteTime": {
     "end_time": "2018-09-03T23:21:27.235200Z",
     "start_time": "2018-09-03T23:21:27.214656Z"
    }
   },
   "outputs": [],
   "source": [
    "api_flds = set(api_loans.columns)\n",
    "licsv_flds = set(loan_info.columns)\n",
    "common_flds = api_flds.intersection(licsv_flds)\n",
    "api_flds_not_in_licsv = api_flds.difference(licsv_flds)"
   ]
  },
  {
   "cell_type": "code",
   "execution_count": 10,
   "metadata": {
    "ExecuteTime": {
     "end_time": "2018-09-03T23:21:27.260343Z",
     "start_time": "2018-09-03T23:21:27.238339Z"
    }
   },
   "outputs": [],
   "source": [
    "licsv_to_api_rename_dict = {\n",
    "    'acc_open_past_24mths':'acc_open_past_24_mths',\n",
    "    'zip_code': 'addr_zip',\n",
    "    'delinq_2yrs': 'delinq_2_yrs',\n",
    "    'il_util': 'i_l_util',\n",
    "    'inq_last_6mths': 'inq_last_6_mths',\n",
    "    'installment_amount': 'installment',\n",
    "    'verification_status': 'is_inc_v',\n",
    "    'verification_status_joint': 'is_inc_v_joint',\n",
    "    'loan_amnt': 'loan_amount',\n",
    "    'num_accts_ever_120_pd': 'num_accts_ever_12_0_ppd',\n",
    "    'num_tl_120dpd_2m': 'num_tl_12_0dpd_2m',\n",
    "    'sec_app_inq_last_6mths': 'sec_app_inq_last_6_mths',\n",
    "}"
   ]
  },
  {
   "cell_type": "code",
   "execution_count": 11,
   "metadata": {
    "ExecuteTime": {
     "end_time": "2018-09-03T23:21:37.464902Z",
     "start_time": "2018-09-03T23:21:27.261899Z"
    }
   },
   "outputs": [],
   "source": [
    "# rename loan_info columns to match api columns\n",
    "loan_info.rename(licsv_to_api_rename_dict, axis=1, inplace=True)\n",
    "# save renamed loan_info\n",
    "loan_info['id'] = loan_info['id'].astype(int)\n",
    "loan_info.reset_index(drop=True, inplace=True)\n",
    "loan_info.to_feather(f'{data_path}/{fname_loan}')"
   ]
  },
  {
   "cell_type": "markdown",
   "metadata": {
    "ExecuteTime": {
     "end_time": "2018-08-31T23:43:57.022229Z",
     "start_time": "2018-08-31T23:43:47.845643Z"
    }
   },
   "source": [
    "# Cut loan_info to api fields"
   ]
  },
  {
   "cell_type": "code",
   "execution_count": 12,
   "metadata": {
    "ExecuteTime": {
     "end_time": "2018-09-03T23:21:37.492842Z",
     "start_time": "2018-09-03T23:21:37.468465Z"
    }
   },
   "outputs": [],
   "source": [
    "api_flds = set(api_loans.columns)\n",
    "licsv_flds = set(loan_info.columns)\n",
    "common_flds = api_flds.intersection(licsv_flds)\n",
    "api_flds_not_in_licsv = api_flds.difference(licsv_flds)\n",
    "licsv_flds_not_in_api = licsv_flds.difference(api_flds)"
   ]
  },
  {
   "cell_type": "code",
   "execution_count": 17,
   "metadata": {
    "ExecuteTime": {
     "end_time": "2018-09-03T23:23:47.829668Z",
     "start_time": "2018-09-03T23:23:47.804415Z"
    }
   },
   "outputs": [],
   "source": [
    "eval_flds = ['end_d', 'issue_d', 'maturity_paid', 'maturity_time', 'rem_to_be_paid', 'roi_simple',\n",
    "             'target_loose', 'target_strict', 'loan_status', 'id']\n",
    "strb_flds = ['desc', 'emp_title', 'id']"
   ]
  },
  {
   "cell_type": "code",
   "execution_count": 18,
   "metadata": {
    "ExecuteTime": {
     "end_time": "2018-09-03T23:23:59.410162Z",
     "start_time": "2018-09-03T23:23:48.450702Z"
    }
   },
   "outputs": [],
   "source": [
    "base_loan_info = loan_info[list(common_flds)]#+['id']\n",
    "eval_loan_info = loan_info[eval_flds]#+['id']\n",
    "str_loan_info = strings[strb_flds]#+['id']"
   ]
  },
  {
   "cell_type": "code",
   "execution_count": 19,
   "metadata": {
    "ExecuteTime": {
     "end_time": "2018-09-03T23:24:59.070507Z",
     "start_time": "2018-09-03T23:23:59.419343Z"
    }
   },
   "outputs": [
    {
     "name": "stderr",
     "output_type": "stream",
     "text": [
      "/home/justin/anaconda3/lib/python3.6/site-packages/ipykernel_launcher.py:2: SettingWithCopyWarning: \n",
      "A value is trying to be set on a copy of a slice from a DataFrame\n",
      "\n",
      "See the caveats in the documentation: http://pandas.pydata.org/pandas-docs/stable/indexing.html#indexing-view-versus-copy\n",
      "  \n",
      "/home/justin/anaconda3/lib/python3.6/site-packages/ipykernel_launcher.py:4: SettingWithCopyWarning: \n",
      "A value is trying to be set on a copy of a slice from a DataFrame\n",
      "\n",
      "See the caveats in the documentation: http://pandas.pydata.org/pandas-docs/stable/indexing.html#indexing-view-versus-copy\n",
      "  after removing the cwd from sys.path.\n",
      "/home/justin/anaconda3/lib/python3.6/site-packages/ipykernel_launcher.py:5: SettingWithCopyWarning: \n",
      "A value is trying to be set on a copy of a slice from a DataFrame.\n",
      "Try using .loc[row_indexer,col_indexer] = value instead\n",
      "\n",
      "See the caveats in the documentation: http://pandas.pydata.org/pandas-docs/stable/indexing.html#indexing-view-versus-copy\n",
      "  \"\"\"\n"
     ]
    }
   ],
   "source": [
    "# a bit of cleanup\n",
    "base_loan_info.drop('member_id', axis=1, inplace=True)\n",
    "# base_loan_info.fillna(np.nan, inplace=True)\n",
    "base_loan_info.replace(['None', 'none', None], value=np.nan, inplace=True)\n",
    "base_loan_info['sec_app_earliest_cr_line']=pd.to_datetime(base_loan_info['sec_app_earliest_cr_line'])"
   ]
  },
  {
   "cell_type": "code",
   "execution_count": 34,
   "metadata": {
    "ExecuteTime": {
     "end_time": "2018-09-04T04:36:58.723408Z",
     "start_time": "2018-09-04T04:36:58.696189Z"
    }
   },
   "outputs": [
    {
     "data": {
      "text/plain": [
       "'\\nTARGET STRICT IS BROKEN. EVENTUALLY FIX IT IN clean_loan_info.ipynb\\n'"
      ]
     },
     "execution_count": 34,
     "metadata": {},
     "output_type": "execute_result"
    }
   ],
   "source": [
    "'''\n",
    "TARGET STRICT IS BROKEN. EVENTUALLY FIX IT IN clean_loan_info.ipynb\n",
    "'''"
   ]
  },
  {
   "cell_type": "code",
   "execution_count": 36,
   "metadata": {
    "ExecuteTime": {
     "end_time": "2018-09-04T07:10:20.572959Z",
     "start_time": "2018-09-04T07:10:20.429488Z"
    }
   },
   "outputs": [
    {
     "data": {
      "text/plain": [
       "NaN    2003915\n",
       "Name: member_id, dtype: int64"
      ]
     },
     "execution_count": 36,
     "metadata": {},
     "output_type": "execute_result"
    }
   ],
   "source": [
    "loan_info['member_id'].value_counts(dropna=False)"
   ]
  },
  {
   "cell_type": "code",
   "execution_count": 20,
   "metadata": {
    "ExecuteTime": {
     "end_time": "2018-09-03T23:25:05.004377Z",
     "start_time": "2018-09-03T23:24:59.072043Z"
    },
    "scrolled": true
   },
   "outputs": [],
   "source": [
    "# save\n",
    "base_loan_info.to_feather(f'{data_path}/base_loan_info.fth')\n",
    "eval_loan_info.to_feather(f'{data_path}/eval_loan_info.fth')\n",
    "str_loan_info.reset_index(drop=True, inplace=True)\n",
    "str_loan_info.to_feather(f'{data_path}/str_loan_info.fth')"
   ]
  },
  {
   "cell_type": "markdown",
   "metadata": {},
   "source": [
    "# scale pmt_hist to be independent of loan_size (so we can treat loans as us investing the same amount in each)"
   ]
  },
  {
   "cell_type": "code",
   "execution_count": 17,
   "metadata": {
    "ExecuteTime": {
     "end_time": "2018-09-01T08:54:59.840779Z",
     "start_time": "2018-09-01T08:54:49.013391Z"
    }
   },
   "outputs": [],
   "source": [
    "pmt_hist = pmt_hist[pmt_hist['id'].isin(loan_info['id'])]"
   ]
  },
  {
   "cell_type": "code",
   "execution_count": 18,
   "metadata": {
    "ExecuteTime": {
     "end_time": "2018-09-01T08:55:01.888376Z",
     "start_time": "2018-09-01T08:54:59.842515Z"
    }
   },
   "outputs": [],
   "source": [
    "loan_funded_amts = loan_info.set_index('id')['funded_amnt'].to_dict()"
   ]
  },
  {
   "cell_type": "code",
   "execution_count": 19,
   "metadata": {
    "ExecuteTime": {
     "end_time": "2018-09-01T08:55:01.905023Z",
     "start_time": "2018-09-01T08:55:01.890228Z"
    }
   },
   "outputs": [],
   "source": [
    "loan_dollar_cols = ['all_cash_to_inv', 'amt_due', 'amt_paid', 'charged_off_amt', 'fee_paid', 'int_paid', 'outs_princp_beg', 'outs_princp_end', 'princp_paid', 'recov_fees', 'recovs', ]"
   ]
  },
  {
   "cell_type": "code",
   "execution_count": 20,
   "metadata": {
    "ExecuteTime": {
     "end_time": "2018-09-01T08:55:01.924717Z",
     "start_time": "2018-09-01T08:55:01.906513Z"
    }
   },
   "outputs": [],
   "source": [
    "id_grouped = pmt_hist.groupby('id', sort=False)"
   ]
  },
  {
   "cell_type": "code",
   "execution_count": 24,
   "metadata": {
    "ExecuteTime": {
     "end_time": "2018-09-01T09:01:21.296586Z",
     "start_time": "2018-09-01T08:55:59.788783Z"
    }
   },
   "outputs": [
    {
     "name": "stderr",
     "output_type": "stream",
     "text": [
      "Exception in thread Thread-4:\n",
      "Traceback (most recent call last):\n",
      "  File \"/home/justin/anaconda3/lib/python3.6/threading.py\", line 916, in _bootstrap_inner\n",
      "    self.run()\n",
      "  File \"/home/justin/anaconda3/lib/python3.6/site-packages/tqdm/_tqdm.py\", line 109, in run\n",
      "    if instance.miniters > 1 and \\\n",
      "AttributeError: 'tqdm' object has no attribute 'miniters'\n",
      "\n",
      "100%|██████████| 2003376/2003376 [05:09<00:00, 6482.56it/s]\n"
     ]
    }
   ],
   "source": [
    "funded_amts = []\n",
    "for ids, group in tqdm(id_grouped):\n",
    "    funded_amt = loan_funded_amts[ids]\n",
    "    funded_amts.extend([funded_amt]*len(group))    "
   ]
  },
  {
   "cell_type": "code",
   "execution_count": 27,
   "metadata": {
    "ExecuteTime": {
     "end_time": "2018-09-01T09:08:28.051806Z",
     "start_time": "2018-09-01T09:08:14.862324Z"
    }
   },
   "outputs": [],
   "source": [
    "for col in loan_dollar_cols:\n",
    "    pmt_hist[col] = pmt_hist[col]/funded_amts"
   ]
  },
  {
   "cell_type": "code",
   "execution_count": 33,
   "metadata": {
    "ExecuteTime": {
     "end_time": "2018-09-01T09:53:40.558839Z",
     "start_time": "2018-09-01T09:50:31.636582Z"
    },
    "scrolled": true
   },
   "outputs": [
    {
     "name": "stderr",
     "output_type": "stream",
     "text": [
      "100%|██████████| 16/16 [00:12<00:00,  1.29it/s]\n"
     ]
    },
    {
     "name": "stdout",
     "output_type": "stream",
     "text": [
      "changed dtypes of 16 cols\n"
     ]
    }
   ],
   "source": [
    "pmt_hist.reset_index(drop=True, inplace=True)\n",
    "_, pmt_hist = compress_memory(pmt_hist)"
   ]
  },
  {
   "cell_type": "code",
   "execution_count": 38,
   "metadata": {
    "ExecuteTime": {
     "end_time": "2018-09-01T09:55:21.624183Z",
     "start_time": "2018-09-01T09:54:43.384904Z"
    }
   },
   "outputs": [],
   "source": [
    "pmt_hist.to_feather(f'{data_path}/scaled_pmt_hist.fth')"
   ]
  }
 ],
 "metadata": {
  "kernelspec": {
   "display_name": "Python 3",
   "language": "python",
   "name": "python3"
  },
  "language_info": {
   "codemirror_mode": {
    "name": "ipython",
    "version": 3
   },
   "file_extension": ".py",
   "mimetype": "text/x-python",
   "name": "python",
   "nbconvert_exporter": "python",
   "pygments_lexer": "ipython3",
   "version": "3.6.3"
  }
 },
 "nbformat": 4,
 "nbformat_minor": 2
}
